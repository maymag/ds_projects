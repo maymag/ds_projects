{
 "cells": [
  {
   "cell_type": "code",
   "execution_count": 1,
   "metadata": {},
   "outputs": [],
   "source": [
    "import pandas as pd\n",
    "import seaborn as sns\n",
    "from matplotlib import pyplot as plt\n",
    "%matplotlib inline\n",
    "import numpy as np\n",
    "from sklearn.preprocessing import scale\n",
    "from sklearn.preprocessing import MinMaxScaler\n",
    "from scipy.stats import boxcox"
   ]
  },
  {
   "cell_type": "code",
   "execution_count": 2,
   "metadata": {},
   "outputs": [],
   "source": [
    "airlines = pd.read_csv('Data/2008.csv')"
   ]
  },
  {
   "cell_type": "code",
   "execution_count": 3,
   "metadata": {},
   "outputs": [
    {
     "data": {
      "text/plain": [
       "WN    1201754\n",
       "AA     604885\n",
       "OO     567159\n",
       "MQ     490693\n",
       "US     453589\n",
       "DL     451931\n",
       "UA     449515\n",
       "XE     374510\n",
       "NW     347652\n",
       "CO     298455\n",
       "EV     280575\n",
       "9E     262208\n",
       "FL     261684\n",
       "YV     254930\n",
       "OH     197607\n",
       "B6     196091\n",
       "AS     151102\n",
       "F9      95762\n",
       "HA      61826\n",
       "AQ       7800\n",
       "Name: UniqueCarrier, dtype: int64"
      ]
     },
     "execution_count": 3,
     "metadata": {},
     "output_type": "execute_result"
    }
   ],
   "source": [
    "airlines['UniqueCarrier'].value_counts()"
   ]
  },
  {
   "cell_type": "code",
   "execution_count": 4,
   "metadata": {},
   "outputs": [],
   "source": [
    "AA = pd.DataFrame(airlines[airlines['UniqueCarrier'] == 'AA'])"
   ]
  },
  {
   "cell_type": "code",
   "execution_count": 5,
   "metadata": {},
   "outputs": [],
   "source": [
    "AA = AA.drop(columns=['UniqueCarrier', 'Year'])"
   ]
  },
  {
   "cell_type": "code",
   "execution_count": 6,
   "metadata": {},
   "outputs": [],
   "source": [
    "AA = AA.drop(columns=['CarrierDelay','WeatherDelay','NASDelay','SecurityDelay','LateAircraftDelay','Cancelled','CancellationCode','ActualElapsedTime','CRSElapsedTime'])"
   ]
  },
  {
   "cell_type": "code",
   "execution_count": 7,
   "metadata": {},
   "outputs": [],
   "source": [
    "AA = AA.drop(columns=['DepTime', 'ArrTime'])"
   ]
  },
  {
   "cell_type": "code",
   "execution_count": 8,
   "metadata": {},
   "outputs": [],
   "source": [
    "AA = AA.drop(columns=['TailNum'])"
   ]
  },
  {
   "cell_type": "code",
   "execution_count": 9,
   "metadata": {},
   "outputs": [],
   "source": [
    "AAmin = pd.DataFrame(AA[AA['ArrDelay'] > 30])"
   ]
  },
  {
   "cell_type": "code",
   "execution_count": 10,
   "metadata": {},
   "outputs": [
    {
     "data": {
      "text/html": [
       "<div>\n",
       "<style scoped>\n",
       "    .dataframe tbody tr th:only-of-type {\n",
       "        vertical-align: middle;\n",
       "    }\n",
       "\n",
       "    .dataframe tbody tr th {\n",
       "        vertical-align: top;\n",
       "    }\n",
       "\n",
       "    .dataframe thead th {\n",
       "        text-align: right;\n",
       "    }\n",
       "</style>\n",
       "<table border=\"1\" class=\"dataframe\">\n",
       "  <thead>\n",
       "    <tr style=\"text-align: right;\">\n",
       "      <th></th>\n",
       "      <th>Month</th>\n",
       "      <th>DayofMonth</th>\n",
       "      <th>DayOfWeek</th>\n",
       "      <th>CRSDepTime</th>\n",
       "      <th>CRSArrTime</th>\n",
       "      <th>FlightNum</th>\n",
       "      <th>AirTime</th>\n",
       "      <th>ArrDelay</th>\n",
       "      <th>DepDelay</th>\n",
       "      <th>Origin</th>\n",
       "      <th>Dest</th>\n",
       "      <th>Distance</th>\n",
       "      <th>TaxiIn</th>\n",
       "      <th>TaxiOut</th>\n",
       "      <th>Diverted</th>\n",
       "    </tr>\n",
       "  </thead>\n",
       "  <tbody>\n",
       "    <tr>\n",
       "      <th>477142</th>\n",
       "      <td>1</td>\n",
       "      <td>27</td>\n",
       "      <td>7</td>\n",
       "      <td>900</td>\n",
       "      <td>1225</td>\n",
       "      <td>1</td>\n",
       "      <td>357.0</td>\n",
       "      <td>32.0</td>\n",
       "      <td>-1.0</td>\n",
       "      <td>JFK</td>\n",
       "      <td>LAX</td>\n",
       "      <td>2475</td>\n",
       "      <td>14.0</td>\n",
       "      <td>47.0</td>\n",
       "      <td>0</td>\n",
       "    </tr>\n",
       "    <tr>\n",
       "      <th>477157</th>\n",
       "      <td>1</td>\n",
       "      <td>11</td>\n",
       "      <td>5</td>\n",
       "      <td>930</td>\n",
       "      <td>1750</td>\n",
       "      <td>2</td>\n",
       "      <td>286.0</td>\n",
       "      <td>130.0</td>\n",
       "      <td>58.0</td>\n",
       "      <td>LAX</td>\n",
       "      <td>JFK</td>\n",
       "      <td>2475</td>\n",
       "      <td>33.0</td>\n",
       "      <td>73.0</td>\n",
       "      <td>0</td>\n",
       "    </tr>\n",
       "    <tr>\n",
       "      <th>477160</th>\n",
       "      <td>1</td>\n",
       "      <td>14</td>\n",
       "      <td>1</td>\n",
       "      <td>930</td>\n",
       "      <td>1750</td>\n",
       "      <td>2</td>\n",
       "      <td>308.0</td>\n",
       "      <td>36.0</td>\n",
       "      <td>11.0</td>\n",
       "      <td>LAX</td>\n",
       "      <td>JFK</td>\n",
       "      <td>2475</td>\n",
       "      <td>18.0</td>\n",
       "      <td>19.0</td>\n",
       "      <td>0</td>\n",
       "    </tr>\n",
       "    <tr>\n",
       "      <th>477181</th>\n",
       "      <td>1</td>\n",
       "      <td>4</td>\n",
       "      <td>5</td>\n",
       "      <td>1200</td>\n",
       "      <td>1510</td>\n",
       "      <td>3</td>\n",
       "      <td>347.0</td>\n",
       "      <td>38.0</td>\n",
       "      <td>27.0</td>\n",
       "      <td>JFK</td>\n",
       "      <td>LAX</td>\n",
       "      <td>2475</td>\n",
       "      <td>8.0</td>\n",
       "      <td>26.0</td>\n",
       "      <td>0</td>\n",
       "    </tr>\n",
       "    <tr>\n",
       "      <th>477193</th>\n",
       "      <td>1</td>\n",
       "      <td>16</td>\n",
       "      <td>3</td>\n",
       "      <td>1200</td>\n",
       "      <td>1510</td>\n",
       "      <td>3</td>\n",
       "      <td>327.0</td>\n",
       "      <td>37.0</td>\n",
       "      <td>51.0</td>\n",
       "      <td>JFK</td>\n",
       "      <td>LAX</td>\n",
       "      <td>2475</td>\n",
       "      <td>5.0</td>\n",
       "      <td>24.0</td>\n",
       "      <td>0</td>\n",
       "    </tr>\n",
       "  </tbody>\n",
       "</table>\n",
       "</div>"
      ],
      "text/plain": [
       "        Month  DayofMonth  DayOfWeek  CRSDepTime  CRSArrTime  FlightNum  \\\n",
       "477142      1          27          7         900        1225          1   \n",
       "477157      1          11          5         930        1750          2   \n",
       "477160      1          14          1         930        1750          2   \n",
       "477181      1           4          5        1200        1510          3   \n",
       "477193      1          16          3        1200        1510          3   \n",
       "\n",
       "        AirTime  ArrDelay  DepDelay Origin Dest  Distance  TaxiIn  TaxiOut  \\\n",
       "477142    357.0      32.0      -1.0    JFK  LAX      2475    14.0     47.0   \n",
       "477157    286.0     130.0      58.0    LAX  JFK      2475    33.0     73.0   \n",
       "477160    308.0      36.0      11.0    LAX  JFK      2475    18.0     19.0   \n",
       "477181    347.0      38.0      27.0    JFK  LAX      2475     8.0     26.0   \n",
       "477193    327.0      37.0      51.0    JFK  LAX      2475     5.0     24.0   \n",
       "\n",
       "        Diverted  \n",
       "477142         0  \n",
       "477157         0  \n",
       "477160         0  \n",
       "477181         0  \n",
       "477193         0  "
      ]
     },
     "execution_count": 10,
     "metadata": {},
     "output_type": "execute_result"
    }
   ],
   "source": [
    "AAmin.head()"
   ]
  },
  {
   "cell_type": "code",
   "execution_count": 11,
   "metadata": {},
   "outputs": [
    {
     "data": {
      "text/plain": [
       "(array([4.8958e+04, 2.2690e+04, 1.2089e+04, 6.8490e+03, 3.8800e+03,\n",
       "        2.2930e+03, 1.3670e+03, 8.1600e+02, 4.9100e+02, 3.4200e+02,\n",
       "        1.9100e+02, 1.5400e+02, 8.9000e+01, 5.9000e+01, 2.7000e+01,\n",
       "        2.8000e+01, 2.6000e+01, 1.6000e+01, 1.3000e+01, 9.0000e+00,\n",
       "        5.0000e+00, 7.0000e+00, 8.0000e+00, 9.0000e+00, 9.0000e+00,\n",
       "        1.1000e+01, 8.0000e+00, 1.3000e+01, 2.1000e+01, 6.0000e+00,\n",
       "        1.2000e+01, 7.0000e+00, 1.0000e+01, 1.2000e+01, 5.0000e+00,\n",
       "        8.0000e+00, 8.0000e+00, 5.0000e+00, 6.0000e+00, 1.0000e+00,\n",
       "        0.0000e+00, 2.0000e+00, 6.0000e+00, 2.0000e+00, 2.0000e+00,\n",
       "        0.0000e+00, 0.0000e+00, 0.0000e+00, 0.0000e+00, 1.0000e+00]),\n",
       " array([  31.  ,   60.88,   90.76,  120.64,  150.52,  180.4 ,  210.28,\n",
       "         240.16,  270.04,  299.92,  329.8 ,  359.68,  389.56,  419.44,\n",
       "         449.32,  479.2 ,  509.08,  538.96,  568.84,  598.72,  628.6 ,\n",
       "         658.48,  688.36,  718.24,  748.12,  778.  ,  807.88,  837.76,\n",
       "         867.64,  897.52,  927.4 ,  957.28,  987.16, 1017.04, 1046.92,\n",
       "        1076.8 , 1106.68, 1136.56, 1166.44, 1196.32, 1226.2 , 1256.08,\n",
       "        1285.96, 1315.84, 1345.72, 1375.6 , 1405.48, 1435.36, 1465.24,\n",
       "        1495.12, 1525.  ]),\n",
       " <a list of 50 Patch objects>)"
      ]
     },
     "execution_count": 11,
     "metadata": {},
     "output_type": "execute_result"
    },
    {
     "data": {
      "image/png": "[encoded data removed]",
      "text/plain": [
       "<matplotlib.figure.Figure at 0x17a85efd0>"
      ]
     },
     "metadata": {},
     "output_type": "display_data"
    }
   ],
   "source": [
    "plt.hist(AAmin['ArrDelay'],bins = 50)"
   ]
  },
  {
   "cell_type": "code",
   "execution_count": 12,
   "metadata": {},
   "outputs": [
    {
     "data": {
      "text/plain": [
       "['Month',\n",
       " 'DayofMonth',\n",
       " 'DayOfWeek',\n",
       " 'CRSDepTime',\n",
       " 'CRSArrTime',\n",
       " 'FlightNum',\n",
       " 'AirTime',\n",
       " 'ArrDelay',\n",
       " 'DepDelay',\n",
       " 'Origin',\n",
       " 'Dest',\n",
       " 'Distance',\n",
       " 'TaxiIn',\n",
       " 'TaxiOut',\n",
       " 'Diverted']"
      ]
     },
     "execution_count": 12,
     "metadata": {},
     "output_type": "execute_result"
    }
   ],
   "source": [
    "AAmindum = pd.get_dummies(AAmin)\n",
    "columns = AAmindum.columns\n",
    "list(AAmin.columns)\n"
   ]
  },
  {
   "cell_type": "code",
   "execution_count": 13,
   "metadata": {},
   "outputs": [],
   "source": [
    "#preprocessing\n",
    "scaler = MinMaxScaler()\n",
    "scaled_df = scaler.fit_transform(AAmindum)\n",
    "scaled_df = pd.DataFrame(scaled_df, columns = columns)"
   ]
  },
  {
   "cell_type": "code",
   "execution_count": 14,
   "metadata": {},
   "outputs": [],
   "source": [
    "#linear regression\n",
    "from sklearn import linear_model"
   ]
  },
  {
   "cell_type": "code",
   "execution_count": 15,
   "metadata": {},
   "outputs": [
    {
     "name": "stderr",
     "output_type": "stream",
     "text": [
      "/usr/local/Cellar/python3/3.6.4_2/Frameworks/Python.framework/Versions/3.6/lib/python3.6/site-packages/scipy/linalg/basic.py:1226: RuntimeWarning: internal gelsd driver lwork query error, required iwork dimension not returned. This is likely the result of LAPACK bug 0038, fixed in LAPACK 3.2.2 (released July 21, 2010). Falling back to 'gelss' driver.\n",
      "  warnings.warn(mesg, RuntimeWarning)\n"
     ]
    },
    {
     "data": {
      "text/plain": [
       "LinearRegression(copy_X=True, fit_intercept=True, n_jobs=1, normalize=False)"
      ]
     },
     "execution_count": 15,
     "metadata": {},
     "output_type": "execute_result"
    }
   ],
   "source": [
    "regr = linear_model.LinearRegression()\n",
    "Y = AAmindum['ArrDelay']\n",
    "X = AAmindum.drop(columns = ['ArrDelay'])\n",
    "regr.fit(X, Y)"
   ]
  },
  {
   "cell_type": "code",
   "execution_count": 16,
   "metadata": {},
   "outputs": [
    {
     "name": "stdout",
     "output_type": "stream",
     "text": [
      "\n",
      "Coefficients: \n",
      " [-1.83598968e-02 -1.47684818e-02 -5.10763504e-02  1.68884548e-03\n",
      " -3.00252705e-03 -2.50587294e-04  8.09384391e-01  9.86650759e-01\n",
      " -9.47847662e-02  9.43305966e-01  9.80345309e-01  6.84155014e-14\n",
      "  7.73010329e+00  1.85868570e+01 -1.20139237e+01  2.40768287e+00\n",
      " -1.00278460e+01 -2.19238290e+00  8.06505559e-01 -1.92652614e+01\n",
      "  5.25861375e+00 -1.19907445e+01 -9.82193405e+00 -4.85255840e+00\n",
      "  4.91896166e+00 -7.64481998e+00 -9.48002554e+00  2.99325537e+00\n",
      " -1.91974845e+00 -8.28536980e+00  5.62568212e-01  6.42116906e+00\n",
      " -2.42930497e+01  5.05180241e+00 -1.17836283e+01 -3.70230501e+00\n",
      "  9.53017209e+00  3.40012727e+00  2.93026657e+01 -4.52231829e+00\n",
      " -7.64961222e+00 -2.90498450e+00  4.45054447e+00 -5.20209936e+00\n",
      "  3.05285016e+00 -5.73431225e+00 -2.71214478e+01  3.31720710e+01\n",
      "  6.40437232e+00  4.78376008e+00 -2.50099228e+01  3.30471324e+01\n",
      "  1.44946832e+00 -8.12583465e+00  3.96660312e-01  5.20881974e+00\n",
      " -9.29284336e+00 -3.55146146e+00  4.77314840e-01  4.81205725e+00\n",
      "  3.58272090e+00  3.44248601e+01  4.54297902e+00  3.75307962e-01\n",
      "  7.80647305e+00 -7.33964918e+00 -1.36644483e+01 -1.03850861e+01\n",
      "  1.04771014e+01 -1.98524225e+01  6.08370014e+00  8.54619617e+00\n",
      " -7.43615558e+00 -1.02643774e+01  7.72803123e+00 -8.68683294e+00\n",
      "  3.71402043e+00  4.49163974e+00 -1.55781189e+00  9.93088451e+00\n",
      "  7.17078884e+00  5.05270256e+00 -8.35774406e+00  1.95069187e+00\n",
      "  9.85420569e+00  8.76790886e+00 -2.20145839e-01 -7.14688581e+00\n",
      " -6.41221443e+00 -5.95741088e+00  2.96016710e+00  7.48049028e+00\n",
      "  4.50321428e+00 -1.02352530e+00 -4.72866584e+00 -1.41940347e+00\n",
      "  2.65433096e+00  9.04148820e+00  8.66794960e+00  5.94277643e+00\n",
      "  5.60233043e+00 -1.04111599e+01  5.67753189e+00  3.24003830e+00\n",
      "  6.26437494e+00 -2.42371193e+00  4.21107525e+00  8.25399455e+00\n",
      " -5.59607810e+00 -5.93116250e+00 -2.65138332e-01 -7.79106835e+00\n",
      "  1.91136574e+00 -6.06854921e+00 -1.16099224e+01  6.23393240e+00\n",
      "  5.25805062e+00 -4.89231555e+00 -6.83348427e+00 -1.21214007e+01\n",
      "  8.65320560e+00  5.49861731e+00 -2.37623411e+00  4.33274364e+00\n",
      "  2.61346819e+00 -3.06052049e+00  7.67945706e+00 -4.01841378e+00\n",
      " -9.05232438e+00 -9.52065936e+00 -1.08240007e+01 -1.40288624e+00\n",
      " -1.02996319e+01  3.99897368e+00  6.43007818e+00  5.38183527e+00\n",
      "  3.77279419e+00  5.75608682e+00 -2.23837742e+00  6.97430825e+00\n",
      " -5.04201714e+00 -8.39737246e+00 -1.18578991e+01  4.00591767e+00\n",
      "  4.04777620e+00 -4.38520651e+00 -6.09291214e+00  8.63535177e+00\n",
      "  6.11127983e+00 -6.46440281e+00  2.77090870e-01 -8.36273328e+00\n",
      " -8.53024427e+00  7.70973067e+00  7.53514426e+00 -8.58347412e+00\n",
      "  7.57473277e+00 -4.15269496e+00  1.71233243e+00  4.56030806e+00\n",
      " -1.35833638e+01 -8.33915128e+00 -9.15884365e+00  1.53226035e+01\n",
      " -7.88726881e+00 -9.36676500e+00 -6.74543742e+00  5.29809602e+00\n",
      "  1.94387198e+01  1.93513080e+01  8.32148170e+00  4.43536314e+00\n",
      " -2.94119256e+00  5.41156921e+00]\n",
      "\n",
      "Intercept: \n",
      " -28.519618346704377\n",
      "\n",
      "R-squared:\n",
      "0.9891247214500044\n"
     ]
    }
   ],
   "source": [
    "print('\\nCoefficients: \\n', regr.coef_)\n",
    "print('\\nIntercept: \\n', regr.intercept_)\n",
    "print('\\nR-squared:')\n",
    "print(regr.score(X, Y))"
   ]
  },
  {
   "cell_type": "code",
   "execution_count": 17,
   "metadata": {},
   "outputs": [
    {
     "data": {
      "image/png": "[encoded data removed]",
      "text/plain": [
       "<matplotlib.figure.Figure at 0x11d555860>"
      ]
     },
     "metadata": {},
     "output_type": "display_data"
    }
   ],
   "source": [
    "# Extract predicted values.\n",
    "predicted = regr.predict(X).ravel()\n",
    "actual = AAmindum['ArrDelay']\n",
    "\n",
    "# Calculate the residual.\n",
    "residual = actual - predicted\n",
    "\n",
    "\n",
    "plt.hist(residual,bins = 150)\n",
    "plt.title('Residual counts')\n",
    "plt.xlabel('Residual')\n",
    "plt.ylabel('Count')\n",
    "plt.xlim(-150,150)\n",
    "plt.show()"
   ]
  },
  {
   "cell_type": "code",
   "execution_count": 18,
   "metadata": {},
   "outputs": [
    {
     "data": {
      "image/png": "[encoded data removed]",
      "text/plain": [
       "<matplotlib.figure.Figure at 0x11d5553c8>"
      ]
     },
     "metadata": {},
     "output_type": "display_data"
    }
   ],
   "source": [
    "plt.scatter(predicted, residual)\n",
    "plt.xlabel('Predicted')\n",
    "plt.ylabel('Residual')\n",
    "plt.axhline(y=0)\n",
    "plt.title('Residual vs. Predicted')\n",
    "plt.show()"
   ]
  },
  {
   "cell_type": "code",
   "execution_count": null,
   "metadata": {},
   "outputs": [],
   "source": []
  }
 ],
 "metadata": {
  "kernelspec": {
   "display_name": "Python 3",
   "language": "python",
   "name": "python3"
  },
  "language_info": {
   "codemirror_mode": {
    "name": "ipython",
    "version": 3
   },
   "file_extension": ".py",
   "mimetype": "text/x-python",
   "name": "python",
   "nbconvert_exporter": "python",
   "pygments_lexer": "ipython3",
   "version": "3.6.4"
  }
 },
 "nbformat": 4,
 "nbformat_minor": 2
}
