{
 "cells": [
  {
   "cell_type": "markdown",
   "metadata": {},
   "source": [
    "# COVID-19 OPEN RESEARCH DATASET"
   ]
  },
  {
   "cell_type": "code",
   "execution_count": 478,
   "metadata": {},
   "outputs": [],
   "source": [
    "import os\n",
    "import json\n",
    "import pandas as pd"
   ]
  },
  {
   "cell_type": "code",
   "execution_count": 479,
   "metadata": {},
   "outputs": [
    {
     "name": "stdout",
     "output_type": "stream",
     "text": [
      "/home/myilmaz/devel/covid551982_1475446_bundle_archive\n"
     ]
    }
   ],
   "source": [
    "%cd '/home/myilmaz/devel/covid551982_1475446_bundle_archive/'"
   ]
  },
  {
   "cell_type": "markdown",
   "metadata": {},
   "source": [
    "## Papers  researching chronic kidney disease as a comorbidity risk"
   ]
  },
  {
   "cell_type": "code",
   "execution_count": null,
   "metadata": {},
   "outputs": [],
   "source": [
    "import pandas as pd\n",
    "#Removed hypertension\n",
    "kags=pd.DataFrame(None)\n",
    "for i in os.listdir('/home/myilmaz/devel/covid551982_1475446_bundle_archive/Kaggle/target_tables/8_risk_factors/'):\n",
    "    kag=pd.read_csv('Kaggle/target_tables/8_risk_factors/'+i)\n",
    "    kags=kags.append(kag)"
   ]
  },
  {
   "cell_type": "code",
   "execution_count": null,
   "metadata": {},
   "outputs": [],
   "source": [
    "kags.head()"
   ]
  },
  {
   "cell_type": "code",
   "execution_count": null,
   "metadata": {},
   "outputs": [],
   "source": [
    "%ls document_parses"
   ]
  },
  {
   "cell_type": "code",
   "execution_count": null,
   "metadata": {},
   "outputs": [],
   "source": [
    "keep=['Epidemiology, clinical course, and outcomes of critically ill adults with COVID-19 in New York City: a prospective cohort study','Psychiatric Predictors of COVID-19 Outcomes in a Skilled Nursing Facility Cohort','COVID-19 in Iran, a comprehensive investigation from exposure to treatment outcomes']\n",
    "arts=set(kags['Study'])"
   ]
  },
  {
   "cell_type": "code",
   "execution_count": null,
   "metadata": {},
   "outputs": [],
   "source": [
    "os.path.getsize('document_parses/pdf_json')/1000000"
   ]
  },
  {
   "cell_type": "markdown",
   "metadata": {},
   "source": [
    "creat=[]\n",
    "alltext=[]\n",
    "studies=[]\n",
    "for i in os.listdir('document_parses/pdf_json'):\n",
    "\n",
    "    with open('document_parses/pdf_json/'+i) as json_file:\n",
    "        data = json.load(json_file)\n",
    "        \n",
    "        study=data['metadata']['title']\n",
    "        \n",
    "        if study not in list(arts):\n",
    "            \n",
    "            if study not in studies:\n",
    "                studies.append(study)\n",
    "            \n",
    "\n",
    "                doc=[]\n",
    "                text=''\n",
    "                savee=0\n",
    "                for c,j in enumerate(data['body_text']):\n",
    "                    \n",
    "                    if data['metadata']['title']=='':\n",
    "                        print('no title!')\n",
    "                        text=''\n",
    "                        doc=[]\n",
    "                        words=''\n",
    "                        row=[]\n",
    "                        \n",
    "                        break\n",
    "                        \n",
    "\n",
    "                    words=data['body_text'][c]['text']\n",
    "                    \n",
    "                    \n",
    "                                        \n",
    "\n",
    "                    if words.lower().find('covid')>-1:\n",
    "                        savee+=1\n",
    "                    if words.lower().find('sars-cov-2')>-1:\n",
    "                        savee+=1\n",
    "                    \n",
    "                    if (words.lower().find('sanitation')>=0 or words.lower().find('chronic')>=0 or words.lower().find('heart disease')>=0 or words.lower().find('diabetic')>=0 or words.lower().find('ckd')>=0 or words.lower().find('cardiovascular disease')>=0 or words.lower().find('diabetes')>=0):\n",
    "                        text=''\n",
    "                        doc=[]\n",
    "                        words=''\n",
    "                        row=[]\n",
    "                        break\n",
    "                    row=[i,data['metadata']['title'],data['body_text'][c]['section'],c,data['body_text'][c]['text']]\n",
    "                    doc.append(row)\n",
    "                    text+=words\n",
    "\n",
    "                if savee>0:\n",
    "                    creat.append(doc)\n",
    "                    alltext.append(text)\n",
    "                else:\n",
    "                    pass\n",
    "\n",
    "            else:\n",
    "                pass\n",
    "        else:\n",
    "            pass"
   ]
  },
  {
   "cell_type": "code",
   "execution_count": null,
   "metadata": {},
   "outputs": [],
   "source": [
    "jsons=[j[0] for i in creat for j in i]\n",
    "titles=[j[1] for i in creat for j in i]\n",
    "sections=[j[2] for i in creat for j in i]\n",
    "sectionNo=[j[3] for i in creat for j in i]\n",
    "text=[j[4] for i in creat for j in i]\n",
    "doc=pd.DataFrame(None,columns=['jsons','titles','sections','sectionNo','text'])"
   ]
  },
  {
   "cell_type": "code",
   "execution_count": null,
   "metadata": {},
   "outputs": [],
   "source": [
    "doc=pd.DataFrame(None,columns=['jsons','titles','sections','sectionNo','text'])\n",
    "doc.jsons=jsons\n",
    "doc.titles=titles\n",
    "doc.sections=sections\n",
    "doc.sectionNo=sectionNo\n",
    "doc.text=text"
   ]
  },
  {
   "cell_type": "code",
   "execution_count": null,
   "metadata": {},
   "outputs": [],
   "source": [
    "docs=doc.copy(deep=True)\n",
    "docs.drop_duplicates(keep='first',inplace=True)\n",
    "# NUMBER OF UNIQUE DOCUMENTS IN THE DATA SET\n",
    "docs['jsons'].nunique()\n"
   ]
  },
  {
   "cell_type": "code",
   "execution_count": null,
   "metadata": {},
   "outputs": [],
   "source": [
    "#docs.to_csv('covids.csv',index=False)\n",
    "docs=pd.read_csv('covids.csv')"
   ]
  },
  {
   "cell_type": "code",
   "execution_count": null,
   "metadata": {},
   "outputs": [],
   "source": [
    "docs.head()"
   ]
  },
  {
   "cell_type": "code",
   "execution_count": null,
   "metadata": {},
   "outputs": [],
   "source": [
    "import numpy as np\n",
    "np.min([len(i) for i in alltext])\n",
    "np.max([len(i) for i in alltext])\n",
    "\n",
    "print('Average document length is {} words'.format(np.mean([len(i) for i in alltext])))\n"
   ]
  },
  {
   "cell_type": "code",
   "execution_count": null,
   "metadata": {},
   "outputs": [],
   "source": [
    "docs['case']=docs['sections'].apply(lambda x: (str(x).lower().find('case study')>=0)|(str(x).lower().find('case report')>=0)|(str(x).lower().find('case studies')>=0))"
   ]
  },
  {
   "cell_type": "code",
   "execution_count": null,
   "metadata": {},
   "outputs": [],
   "source": [
    "case=pd.DataFrame(docs[docs['case']==1])"
   ]
  },
  {
   "cell_type": "code",
   "execution_count": null,
   "metadata": {},
   "outputs": [],
   "source": [
    "cases=set(case['jsons'])"
   ]
  },
  {
   "cell_type": "code",
   "execution_count": null,
   "metadata": {},
   "outputs": [],
   "source": [
    "docs['kidney']=docs['text'].apply(lambda x: str(x).lower().find('creatinine')>=0)"
   ]
  },
  {
   "cell_type": "code",
   "execution_count": null,
   "metadata": {},
   "outputs": [],
   "source": [
    "docs['heart']=docs['text'].apply(lambda x: (str(x).lower().find('cardiac')>=0)|(str(x).lower().find('heart')>=0))"
   ]
  },
  {
   "cell_type": "code",
   "execution_count": null,
   "metadata": {},
   "outputs": [],
   "source": [
    "kidney=pd.DataFrame(docs[docs['kidney']==1])\n",
    "kidneys=set(kidney['jsons'])"
   ]
  },
  {
   "cell_type": "code",
   "execution_count": null,
   "metadata": {},
   "outputs": [],
   "source": [
    "heart=pd.DataFrame(docs[docs['heart']==1])\n",
    "hearts=set(heart['jsons'])"
   ]
  },
  {
   "cell_type": "code",
   "execution_count": null,
   "metadata": {},
   "outputs": [],
   "source": [
    "select=set(list(hearts)[0:1000]+list(kidneys)+list(cases))"
   ]
  },
  {
   "cell_type": "code",
   "execution_count": null,
   "metadata": {},
   "outputs": [],
   "source": [
    "len(select)"
   ]
  },
  {
   "cell_type": "code",
   "execution_count": null,
   "metadata": {},
   "outputs": [],
   "source": [
    "selection=pd.DataFrame(docs[docs['jsons'].isin(select)]).reset_index(drop=True)"
   ]
  },
  {
   "cell_type": "code",
   "execution_count": null,
   "metadata": {},
   "outputs": [],
   "source": [
    "selection.tail(40)"
   ]
  },
  {
   "cell_type": "code",
   "execution_count": null,
   "metadata": {},
   "outputs": [],
   "source": [
    "selection['lenSection']=selection['text'].apply(lambda x: len(x))"
   ]
  },
  {
   "cell_type": "markdown",
   "metadata": {},
   "source": [
    "## Use pretrained NER model to find Problems, Tests, and Treatments"
   ]
  },
  {
   "cell_type": "code",
   "execution_count": null,
   "metadata": {},
   "outputs": [],
   "source": [
    "import os\n",
    "\n",
    "\n",
    "import pyspark.sql.functions as F\n",
    "from pyspark.sql.functions import monotonically_increasing_id\n",
    "import json\n",
    "import os\n",
    "from pyspark.ml import Pipeline\n",
    "from pyspark.sql import SparkSession\n",
    "\n",
    "\n",
    "from sparknlp.annotator import *\n",
    "\n",
    "from sparknlp.base import *\n",
    "\n",
    "# Install pyspark\n",
    "! pip install --ignore-installed -q pyspark==2.4.4\n",
    "\n",
    "\n",
    "# Install Spark NLP\n",
    "! pip install --ignore-installed -q spark-nlp==2.5\n",
    "\n",
    "\n",
    "import sparknlp\n",
    "\n",
    "print (sparknlp.version())\n",
    "\n",
    "import json\n",
    "import os\n",
    "from pyspark.ml import Pipeline\n",
    "from pyspark.sql import SparkSession\n",
    "from sparknlp.annotator import *\n",
    "\n",
    "from sparknlp.base import *\n",
    "\n",
    "from pyspark.sql.functions import monotonically_increasing_id\n",
    "import pyspark.sql.functions as F\n",
    "import pyspark.sql.types as t\n",
    "\n",
    "\n"
   ]
  },
  {
   "cell_type": "code",
   "execution_count": null,
   "metadata": {},
   "outputs": [],
   "source": [
    "spark=sparknlp.start()"
   ]
  },
  {
   "cell_type": "code",
   "execution_count": null,
   "metadata": {},
   "outputs": [],
   "source": [
    "selection.fillna('',inplace=True)"
   ]
  },
  {
   "cell_type": "code",
   "execution_count": null,
   "metadata": {},
   "outputs": [],
   "source": [
    "selection.head(1)"
   ]
  },
  {
   "cell_type": "code",
   "execution_count": null,
   "metadata": {},
   "outputs": [],
   "source": [
    "selection.drop(columns=['case','kidney','heart'],inplace=True)"
   ]
  },
  {
   "cell_type": "code",
   "execution_count": null,
   "metadata": {},
   "outputs": [],
   "source": [
    "sparkdocs=spark.createDataFrame(selection).toDF('docid','title','section','sectionNo','text','lenSection')"
   ]
  },
  {
   "cell_type": "code",
   "execution_count": null,
   "metadata": {},
   "outputs": [],
   "source": [
    "document_assembler = DocumentAssembler() \\\n",
    "        .setInputCol(\"text\")\\\n",
    "        .setOutputCol('document')\n",
    "    \n",
    "sentence_detector = SentenceDetector() \\\n",
    "        .setInputCols([\"document\"]) \\\n",
    "        .setOutputCol(\"sentence\")\n",
    "\n",
    "tokenizer = Tokenizer() \\\n",
    "        .setInputCols([\"sentence\"]) \\\n",
    "        .setOutputCol(\"token\")\n",
    "\n",
    "word_embeddings = WordEmbeddingsModel.load(\"/home/myilmaz/cache_pretrained/embeddings_clinical_en_2.4.0_2.4_1580237286004\")\\\n",
    "  .setInputCols([\"sentence\", \"token\"])\\\n",
    "  .setOutputCol(\"embeddings\")\n",
    "embeddingsSentence = SentenceEmbeddings() \\\n",
    "      .setInputCols([\"sentence\", \"embeddings\"]) \\\n",
    "      .setOutputCol(\"sent_embeddings\") \\\n",
    "      .setPoolingStrategy(\"AVERAGE\")\n",
    "clinical_ner = NerDLModel.load('/home/myilmaz/cache_pretrained/ner_clinical_en_2.4.0_2.4_1580237286004') \\\n",
    "        .setInputCols([\"sentence\", \"token\", \"embeddings\"]) \\\n",
    "        .setOutputCol(\"ner\")\n",
    "ner_converter = NerConverter() \\\n",
    "  .setInputCols([\"sentence\", \"token\", \"ner\"]) \\\n",
    "  .setOutputCol(\"ner_chunk\")\n",
    "nlpPipeline = Pipeline(stages=[document_assembler,sentence_detector,tokenizer,\n",
    "    word_embeddings,embeddingsSentence,\n",
    "    clinical_ner,ner_converter\n",
    "    ])\n",
    "\n",
    "\n",
    "empty_data = spark.createDataFrame([[\"\"]]).toDF(\"text\")\n",
    "\n",
    "model = nlpPipeline.fit(empty_data)\n"
   ]
  },
  {
   "cell_type": "code",
   "execution_count": null,
   "metadata": {},
   "outputs": [],
   "source": [
    "results=model.transform(sparkdocs)"
   ]
  },
  {
   "cell_type": "code",
   "execution_count": null,
   "metadata": {},
   "outputs": [],
   "source": [
    "embeds = results.select('docid','section','sectionNo','lenSection',F.explode(F.arrays_zip('sent_embeddings.metadata','sent_embeddings.embeddings')).alias(\"cols\")) \\\n",
    "        .select('docid','section','sectionNo','lenSection',F.expr(\"cols['0'].sentence\").alias(\"sentid\"),\n",
    "        F.col('cols.1').alias(\"sent_embeddings\"))"
   ]
  },
  {
   "cell_type": "code",
   "execution_count": null,
   "metadata": {},
   "outputs": [],
   "source": [
    "exploded = results.select('docid','title','section','sectionNo','lenSection',F.explode(F.arrays_zip('token.metadata','token.result','token.begin','ner.result')).alias(\"cols\")) \\\n",
    "        .select('docid','title','section','sectionNo','lenSection',F.expr(\"cols['0'].sentence\").alias(\"sentid\"),\n",
    "        F.col('cols.1').alias(\"token\"),F.col('cols.2').alias('tokenStart'),F.col('cols.3').alias(\"label\"))"
   ]
  },
  {
   "cell_type": "code",
   "execution_count": null,
   "metadata": {},
   "outputs": [],
   "source": [
    "from pyspark.sql.functions import udf, col\n",
    "\n",
    "join1=udf(lambda x:','.join(x))\n",
    "stringify = udf(lambda x: [str(j) for j in x])\n",
    "embeds=embeds.withColumn(\"sent_embeddings\", stringify(col(\"sent_embeddings\")))\n",
    "embeds=embeds.withColumn(\"sent_embeddings\", join1(col(\"sent_embeddings\")))\n",
    "\n"
   ]
  },
  {
   "cell_type": "code",
   "execution_count": null,
   "metadata": {},
   "outputs": [],
   "source": [
    "exploded.show()"
   ]
  },
  {
   "cell_type": "code",
   "execution_count": null,
   "metadata": {},
   "outputs": [],
   "source": []
  },
  {
   "cell_type": "markdown",
   "metadata": {},
   "source": [
    "## Save annotated documents for further analysis"
   ]
  },
  {
   "cell_type": "markdown",
   "metadata": {},
   "source": [
    "exploded.write.option(\"header\", \"true\").csv(\"covids3.csv\")"
   ]
  },
  {
   "cell_type": "markdown",
   "metadata": {},
   "source": [
    "embeds.write.option(\"header\", \"true\").csv(\"embeddingsCov.csv\")"
   ]
  },
  {
   "cell_type": "markdown",
   "metadata": {},
   "source": [
    "please=exploded.join(embeds,['docid','section','sectionNo','sentid'],'left')"
   ]
  },
  {
   "cell_type": "code",
   "execution_count": null,
   "metadata": {},
   "outputs": [],
   "source": [
    "exploded.columns"
   ]
  },
  {
   "cell_type": "code",
   "execution_count": null,
   "metadata": {},
   "outputs": [],
   "source": [
    "import pyspark.sql.types as t\n",
    "myschema = t.StructType(\n",
    "   [\n",
    "    t.StructField('docid', t.StringType(), True),\n",
    "    t.StructField('title', t.StringType(), True),\n",
    "    t.StructField('section', t.StringType(), True),\n",
    "    t.StructField('sectionNo', t.StringType(), True),\n",
    "    t.StructField('lenSection', t.StringType(), True),\n",
    "    t.StructField('sentid', t.IntegerType(), True),\n",
    "    t.StructField('token', t.StringType(), True),\n",
    "    t.StructField('tokenStart', t.StringType(), True),\n",
    "    t.StructField('label', t.StringType(), True)\n",
    "\n",
    "   ]\n",
    "  )"
   ]
  },
  {
   "cell_type": "markdown",
   "metadata": {},
   "source": [
    "import pyspark.sql.types as t\n",
    "myschema2 = t.StructType(\n",
    "   [\n",
    "    t.StructField('docid', t.StringType(), True),\n",
    "    t.StructField('section', t.StringType(), True),\n",
    "    t.StructField('sectionNo', t.StringType(), True),\n",
    "    t.StructField('sentid', t.StringType(), True),\n",
    "    t.StructField('sent_embeddings', t.StringType(), True)\n",
    "\n",
    "   ]\n",
    "  )"
   ]
  },
  {
   "cell_type": "markdown",
   "metadata": {},
   "source": [
    "import os\n",
    "csvs=os.listdir('covids2.csv')\n",
    "big=spark.read.csv('covids2.csv/'+csvs[0],sep=',',schema=myschema,header=True)\n",
    "\n",
    "\n",
    "for i in csvs[1:]:\n",
    "    \n",
    "    dfs=spark.read.csv('covids2.csv/'+i,sep=',',schema=myschema,header=True)\n",
    "\n",
    "    big=big.union(dfs)\n",
    "\n"
   ]
  },
  {
   "cell_type": "markdown",
   "metadata": {},
   "source": [
    "df1.join(df2, usingColumns=Seq(“col1”, …), joinType=”left”)"
   ]
  },
  {
   "cell_type": "markdown",
   "metadata": {},
   "source": [
    "import os\n",
    "csvs=os.listdir('covids3.csv')\n",
    "covs=pd.DataFrame(None)\n",
    "for i in csvs:\n",
    "    \n",
    "    dfs=spark.read.csv('covids3.csv/'+i,sep=',',schema=myschema,header=True)\n",
    "    one=dfs.toPandas()\n",
    "    covs=covs.append(one)\n",
    "    \n",
    "covs.to_csv('covs.csv',index=False)"
   ]
  },
  {
   "cell_type": "markdown",
   "metadata": {},
   "source": [
    "import os\n",
    "csvs=os.listdir('embeddingsCov.csv')\n",
    "embed=pd.DataFrame(None)\n",
    "for i in csvs:\n",
    "    \n",
    "    dfs=spark.read.csv('embeddingsCov.csv/'+i,sep=',',schema=myschema2,header=True)\n",
    "    one=dfs.toPandas()\n",
    "    embed=embed.append(one)\n",
    "embed.to_csv('embed2.csv',index=False)"
   ]
  },
  {
   "cell_type": "code",
   "execution_count": 480,
   "metadata": {},
   "outputs": [],
   "source": [
    "covs=pd.read_csv('covs.csv')"
   ]
  },
  {
   "cell_type": "code",
   "execution_count": 481,
   "metadata": {},
   "outputs": [],
   "source": [
    "covs=covs.dropna().reset_index(drop=True)"
   ]
  },
  {
   "cell_type": "code",
   "execution_count": 482,
   "metadata": {},
   "outputs": [],
   "source": [
    "import numpy as np\n",
    "\n",
    "tokens=[]\n",
    "savei=''\n",
    "save=0\n",
    "for i,j in zip(covs.token,covs.label):\n",
    "    if j.split('-')[0]!='I':\n",
    "        if save<0:\n",
    "            tokens[save]=savei\n",
    "            tokens.append(None)\n",
    "            savei=i\n",
    "            save=0\n",
    "            continue\n",
    "        else:\n",
    "            tokens.append(savei)\n",
    "            savei=i\n",
    "            save=0\n",
    "            continue\n",
    "    elif j.split('-')[0]=='I':\n",
    " \n",
    "        savei+=' '+i\n",
    "        save-=1\n",
    "        tokens.append(None)\n",
    "    else:\n",
    "        tokens.append(None)\n",
    "\n",
    "               \n",
    "if save<0:\n",
    "    tokens[save]=savei\n",
    "    tokens.append(None)\n",
    "else:\n",
    "    tokens.append(savei) \n",
    "    \n",
    "tokens=tokens[1:]\n",
    "        "
   ]
  },
  {
   "cell_type": "code",
   "execution_count": 483,
   "metadata": {},
   "outputs": [],
   "source": [
    "covs['chunks']=tokens"
   ]
  },
  {
   "cell_type": "code",
   "execution_count": 484,
   "metadata": {},
   "outputs": [],
   "source": [
    "risks=pd.read_csv('allrisks.csv')"
   ]
  },
  {
   "cell_type": "code",
   "execution_count": 485,
   "metadata": {},
   "outputs": [],
   "source": [
    "testdf=covs[covs['chunks'].notnull()]\n",
    "testdf=testdf[testdf['label']!='O']\n",
    "#testdf['chunks'].value_counts()\n",
    "testdf=testdf.drop_duplicates()\n"
   ]
  },
  {
   "cell_type": "code",
   "execution_count": 486,
   "metadata": {},
   "outputs": [],
   "source": [
    "testdf2=risks[risks['chunks'].notnull()]\n",
    "testdf2=testdf2[testdf2['label']!='O']\n",
    "#testdf2['chunks'].value_counts()\n",
    "testdf2=testdf2.drop_duplicates()"
   ]
  },
  {
   "cell_type": "code",
   "execution_count": 487,
   "metadata": {},
   "outputs": [],
   "source": [
    "covdf=testdf.copy(deep=True)\n",
    "riskdf=testdf2.copy(deep=True)"
   ]
  },
  {
   "cell_type": "code",
   "execution_count": 488,
   "metadata": {},
   "outputs": [],
   "source": [
    "import pandas as pd\n",
    "pd.set_option('display.max_colwidth', None)\n",
    "pd.set_option('display.max_rows', None)\n",
    "covdf['study']=covdf['chunks'].apply(lambda x: str(x).lower().find('study')>=0)\n",
    "covdf['studies']=covdf['chunks'].apply(lambda x: str(x).lower().find('studies')>=0)\n",
    "covdf['meta']=covdf['chunks'].apply(lambda x: str(x).lower().find('meta-analysis')>=0)\n",
    "covdf['data']=covdf['chunks'].apply(lambda x: str(x).lower().find('analysis')>=0 )\n",
    "covdf['stats']=covdf['chunks'].apply(lambda x: str(x).lower().find('analyses')>=0 )\n",
    "covdf['review']=covdf['chunks'].apply(lambda x: str(x).lower().find('a systematic review')>=0 )\n",
    "covdf['review2']=covdf['chunks'].apply(lambda x: str(x).lower().find('a systemic review')>=0 )\n",
    "covdf['predict']=covdf['chunks'].apply(lambda x: str(x).lower().find('prediction')>=0 )\n",
    "covdf['data2']=covdf['chunks'].apply(lambda x: str(x).lower().find('data')>=0)\n",
    "covdf['vars']=covdf['chunks'].apply(lambda x: str(x).lower().find('continuous variables')>=0)"
   ]
  },
  {
   "cell_type": "code",
   "execution_count": 489,
   "metadata": {},
   "outputs": [],
   "source": [
    "import pandas as pd\n",
    "pd.set_option('display.max_colwidth', None)\n",
    "pd.set_option('display.max_rows', None)\n",
    "riskdf['study']=riskdf['chunks'].apply(lambda x: str(x).lower().find('study')>=0)\n",
    "riskdf['studies']=riskdf['chunks'].apply(lambda x: str(x).lower().find('studies')>=0)\n",
    "riskdf['meta']=riskdf['chunks'].apply(lambda x: str(x).lower().find('meta-analysis')>=0)\n",
    "riskdf['data']=riskdf['chunks'].apply(lambda x: str(x).lower().find('analysis')>=0 )\n",
    "riskdf['stats']=riskdf['chunks'].apply(lambda x: str(x).lower().find('analyses')>=0 )\n",
    "riskdf['review']=riskdf['chunks'].apply(lambda x: str(x).lower().find('a systematic review')>=0 )\n",
    "riskdf['review2']=riskdf['chunks'].apply(lambda x: str(x).lower().find('a systemic review')>=0 )\n",
    "riskdf['predict']=riskdf['chunks'].apply(lambda x: str(x).lower().find('prediction')>=0 )\n",
    "riskdf['data2']=riskdf['chunks'].apply(lambda x: str(x).lower().find('data')>=0)\n",
    "riskdf['vars']=riskdf['chunks'].apply(lambda x: str(x).lower().find('continuous variables')>=0)"
   ]
  },
  {
   "cell_type": "code",
   "execution_count": 490,
   "metadata": {
    "scrolled": true
   },
   "outputs": [
    {
     "name": "stderr",
     "output_type": "stream",
     "text": [
      "/home/myilmaz/devel/mag/notebooks/3.7env/lib/python3.7/site-packages/pandas/core/computation/expressions.py:178: UserWarning: evaluating in Python space because the '+' operator is not supported by numexpr for the bool dtype, use '|' instead\n",
      "  f\"evaluating in Python space because the {repr(op_str)} \"\n"
     ]
    }
   ],
   "source": [
    "covdf['remove']=covdf['study']+covdf['studies']+covdf['meta']+covdf['stats']+covdf['vars']+covdf['data']+covdf['review']+covdf['predict']+covdf['review2']+covdf['data2']"
   ]
  },
  {
   "cell_type": "code",
   "execution_count": 491,
   "metadata": {},
   "outputs": [],
   "source": [
    "riskdf['remove']=riskdf['study']+riskdf['studies']+riskdf['meta']+riskdf['stats']+riskdf['vars']+riskdf['data']+riskdf['review']+riskdf['predict']+riskdf['review2']+riskdf['data2']"
   ]
  },
  {
   "cell_type": "code",
   "execution_count": 492,
   "metadata": {},
   "outputs": [],
   "source": [
    "newlabel=[]\n",
    "for i,j in zip(covdf['remove'],covdf['label']):\n",
    "    if i==1:\n",
    "\n",
    "        newlabel.append('O')\n",
    "    else:\n",
    "        newlabel.append(j)\n",
    "\n",
    "            "
   ]
  },
  {
   "cell_type": "code",
   "execution_count": 493,
   "metadata": {},
   "outputs": [],
   "source": [
    "newlabel2=[]\n",
    "for i,j in zip(riskdf['remove'],riskdf['label']):\n",
    "    if i==1:\n",
    "        newlabel2.append('O')\n",
    "    else:\n",
    "        newlabel2.append(j)\n",
    "            "
   ]
  },
  {
   "cell_type": "code",
   "execution_count": 494,
   "metadata": {},
   "outputs": [],
   "source": [
    "bigdf2=covdf.drop(columns=['study','studies','meta','stats','data','vars','review','review2','predict','remove','data2'])"
   ]
  },
  {
   "cell_type": "code",
   "execution_count": 495,
   "metadata": {},
   "outputs": [],
   "source": [
    "riskdf2=riskdf.drop(columns=['study','studies','meta','stats','data','vars','review','review2','predict','remove','data2'])"
   ]
  },
  {
   "cell_type": "code",
   "execution_count": 496,
   "metadata": {},
   "outputs": [],
   "source": [
    "chunks=[]\n",
    "labels=[]\n",
    "chunkStart=[]\n",
    "for i,j,k in zip(bigdf2['chunks'],bigdf2['label'],bigdf2['tokenStart']):\n",
    "    if (j=='O' or j.split('-')[0]=='I'):\n",
    "        chunks.append('O')\n",
    "        labels.append('O')\n",
    "        chunkStart.append('O')\n",
    "    else:\n",
    "        if i!='O':\n",
    "            chunks.append(i)\n",
    "        else:\n",
    "            chunks.append('O')\n",
    "        labels.append(j)\n",
    "        chunkStart.append(k)\n",
    "bigdf2['label']=labels\n",
    "bigdf2['chunks']=chunks\n",
    "bigdf2['chunkStart']=chunkStart        "
   ]
  },
  {
   "cell_type": "code",
   "execution_count": 497,
   "metadata": {},
   "outputs": [],
   "source": [
    "chunks=[]\n",
    "labels=[]\n",
    "chunkStart=[]\n",
    "for i,j,k in zip(riskdf2['chunks'],riskdf2['label'],riskdf2['tokenStart']):\n",
    "    if (j=='O' or j.split('-')[0]=='I'):\n",
    "        chunks.append('O')\n",
    "        labels.append('O')\n",
    "        chunkStart.append('O')\n",
    "    else:\n",
    "        if i!='O':\n",
    "            chunks.append(i)\n",
    "        else:\n",
    "            chunks.append('O')\n",
    "        labels.append(j)\n",
    "        chunkStart.append(k)\n",
    "riskdf2['label']=labels\n",
    "riskdf2['chunks']=chunks\n",
    "riskdf2['chunkStart']=chunkStart        "
   ]
  },
  {
   "cell_type": "code",
   "execution_count": 498,
   "metadata": {},
   "outputs": [],
   "source": [
    "bigdf2['label']=newlabel\n",
    "bigdf2=pd.DataFrame(bigdf2[bigdf2['label']!='O']).reset_index()"
   ]
  },
  {
   "cell_type": "code",
   "execution_count": 499,
   "metadata": {},
   "outputs": [],
   "source": [
    "riskdf2['label']=newlabel2\n",
    "riskdf2=pd.DataFrame(riskdf2[riskdf2['label']!='O']).reset_index()"
   ]
  },
  {
   "cell_type": "code",
   "execution_count": 500,
   "metadata": {},
   "outputs": [],
   "source": [
    "riskdf3=riskdf2.dropna().reset_index(drop=True)\n",
    "\n",
    "bigdf3=bigdf2.dropna().reset_index(drop=True)\n",
    "riskdf3=riskdf3.drop_duplicates().reset_index()\n",
    "bigdf3=bigdf3.drop_duplicates().reset_index()"
   ]
  },
  {
   "cell_type": "code",
   "execution_count": 501,
   "metadata": {},
   "outputs": [
    {
     "data": {
      "text/html": [
       "<div>\n",
       "<style scoped>\n",
       "    .dataframe tbody tr th:only-of-type {\n",
       "        vertical-align: middle;\n",
       "    }\n",
       "\n",
       "    .dataframe tbody tr th {\n",
       "        vertical-align: top;\n",
       "    }\n",
       "\n",
       "    .dataframe thead th {\n",
       "        text-align: right;\n",
       "    }\n",
       "</style>\n",
       "<table border=\"1\" class=\"dataframe\">\n",
       "  <thead>\n",
       "    <tr style=\"text-align: right;\">\n",
       "      <th></th>\n",
       "      <th>docid</th>\n",
       "      <th>title</th>\n",
       "      <th>section</th>\n",
       "      <th>sectionNo</th>\n",
       "      <th>lenSection</th>\n",
       "      <th>sentid</th>\n",
       "      <th>token</th>\n",
       "      <th>tokenStart</th>\n",
       "      <th>label</th>\n",
       "      <th>chunks</th>\n",
       "      <th>...</th>\n",
       "      <th>studies</th>\n",
       "      <th>meta</th>\n",
       "      <th>data</th>\n",
       "      <th>stats</th>\n",
       "      <th>review</th>\n",
       "      <th>review2</th>\n",
       "      <th>predict</th>\n",
       "      <th>data2</th>\n",
       "      <th>vars</th>\n",
       "      <th>remove</th>\n",
       "    </tr>\n",
       "  </thead>\n",
       "  <tbody>\n",
       "    <tr>\n",
       "      <th>35</th>\n",
       "      <td>5efc4552cdf7d45f2bf386837af3a0bf7598edf6.json</td>\n",
       "      <td>Characteristics and predictors of hospitalization and death in the first 9,519 cases with a positive RT-PCR test for SARS-CoV-2 in Denmark: A nationwide cohort</td>\n",
       "      <td>Discussion</td>\n",
       "      <td>31</td>\n",
       "      <td>1534</td>\n",
       "      <td>2</td>\n",
       "      <td>psychiatric</td>\n",
       "      <td>250</td>\n",
       "      <td>B-PROBLEM</td>\n",
       "      <td>psychiatric illness</td>\n",
       "      <td>...</td>\n",
       "      <td>False</td>\n",
       "      <td>False</td>\n",
       "      <td>False</td>\n",
       "      <td>False</td>\n",
       "      <td>False</td>\n",
       "      <td>False</td>\n",
       "      <td>False</td>\n",
       "      <td>False</td>\n",
       "      <td>False</td>\n",
       "      <td>False</td>\n",
       "    </tr>\n",
       "    <tr>\n",
       "      <th>48</th>\n",
       "      <td>5efc4552cdf7d45f2bf386837af3a0bf7598edf6.json</td>\n",
       "      <td>Characteristics and predictors of hospitalization and death in the first 9,519 cases with a positive RT-PCR test for SARS-CoV-2 in Denmark: A nationwide cohort</td>\n",
       "      <td>Discussion</td>\n",
       "      <td>31</td>\n",
       "      <td>1534</td>\n",
       "      <td>2</td>\n",
       "      <td>the</td>\n",
       "      <td>331</td>\n",
       "      <td>B-PROBLEM</td>\n",
       "      <td>the socioeconomic disparities</td>\n",
       "      <td>...</td>\n",
       "      <td>False</td>\n",
       "      <td>False</td>\n",
       "      <td>False</td>\n",
       "      <td>False</td>\n",
       "      <td>False</td>\n",
       "      <td>False</td>\n",
       "      <td>False</td>\n",
       "      <td>False</td>\n",
       "      <td>False</td>\n",
       "      <td>False</td>\n",
       "    </tr>\n",
       "    <tr>\n",
       "      <th>65</th>\n",
       "      <td>5efc4552cdf7d45f2bf386837af3a0bf7598edf6.json</td>\n",
       "      <td>Characteristics and predictors of hospitalization and death in the first 9,519 cases with a positive RT-PCR test for SARS-CoV-2 in Denmark: A nationwide cohort</td>\n",
       "      <td>Discussion</td>\n",
       "      <td>31</td>\n",
       "      <td>1534</td>\n",
       "      <td>3</td>\n",
       "      <td>the</td>\n",
       "      <td>435</td>\n",
       "      <td>B-TEST</td>\n",
       "      <td>the assessment</td>\n",
       "      <td>...</td>\n",
       "      <td>False</td>\n",
       "      <td>False</td>\n",
       "      <td>False</td>\n",
       "      <td>False</td>\n",
       "      <td>False</td>\n",
       "      <td>False</td>\n",
       "      <td>False</td>\n",
       "      <td>False</td>\n",
       "      <td>False</td>\n",
       "      <td>False</td>\n",
       "    </tr>\n",
       "    <tr>\n",
       "      <th>70</th>\n",
       "      <td>5efc4552cdf7d45f2bf386837af3a0bf7598edf6.json</td>\n",
       "      <td>Characteristics and predictors of hospitalization and death in the first 9,519 cases with a positive RT-PCR test for SARS-CoV-2 in Denmark: A nationwide cohort</td>\n",
       "      <td>Discussion</td>\n",
       "      <td>31</td>\n",
       "      <td>1534</td>\n",
       "      <td>3</td>\n",
       "      <td>our</td>\n",
       "      <td>467</td>\n",
       "      <td>B-TEST</td>\n",
       "      <td>our study</td>\n",
       "      <td>...</td>\n",
       "      <td>False</td>\n",
       "      <td>False</td>\n",
       "      <td>False</td>\n",
       "      <td>False</td>\n",
       "      <td>False</td>\n",
       "      <td>False</td>\n",
       "      <td>False</td>\n",
       "      <td>False</td>\n",
       "      <td>False</td>\n",
       "      <td>True</td>\n",
       "    </tr>\n",
       "    <tr>\n",
       "      <th>104</th>\n",
       "      <td>5efc4552cdf7d45f2bf386837af3a0bf7598edf6.json</td>\n",
       "      <td>Characteristics and predictors of hospitalization and death in the first 9,519 cases with a positive RT-PCR test for SARS-CoV-2 in Denmark: A nationwide cohort</td>\n",
       "      <td>Discussion</td>\n",
       "      <td>31</td>\n",
       "      <td>1534</td>\n",
       "      <td>4</td>\n",
       "      <td>a</td>\n",
       "      <td>662</td>\n",
       "      <td>B-TREATMENT</td>\n",
       "      <td>a severe COVID-19 course</td>\n",
       "      <td>...</td>\n",
       "      <td>False</td>\n",
       "      <td>False</td>\n",
       "      <td>False</td>\n",
       "      <td>False</td>\n",
       "      <td>False</td>\n",
       "      <td>False</td>\n",
       "      <td>False</td>\n",
       "      <td>False</td>\n",
       "      <td>False</td>\n",
       "      <td>False</td>\n",
       "    </tr>\n",
       "  </tbody>\n",
       "</table>\n",
       "<p>5 rows × 21 columns</p>\n",
       "</div>"
      ],
      "text/plain": [
       "                                             docid  \\\n",
       "35   5efc4552cdf7d45f2bf386837af3a0bf7598edf6.json   \n",
       "48   5efc4552cdf7d45f2bf386837af3a0bf7598edf6.json   \n",
       "65   5efc4552cdf7d45f2bf386837af3a0bf7598edf6.json   \n",
       "70   5efc4552cdf7d45f2bf386837af3a0bf7598edf6.json   \n",
       "104  5efc4552cdf7d45f2bf386837af3a0bf7598edf6.json   \n",
       "\n",
       "                                                                                                                                                               title  \\\n",
       "35   Characteristics and predictors of hospitalization and death in the first 9,519 cases with a positive RT-PCR test for SARS-CoV-2 in Denmark: A nationwide cohort   \n",
       "48   Characteristics and predictors of hospitalization and death in the first 9,519 cases with a positive RT-PCR test for SARS-CoV-2 in Denmark: A nationwide cohort   \n",
       "65   Characteristics and predictors of hospitalization and death in the first 9,519 cases with a positive RT-PCR test for SARS-CoV-2 in Denmark: A nationwide cohort   \n",
       "70   Characteristics and predictors of hospitalization and death in the first 9,519 cases with a positive RT-PCR test for SARS-CoV-2 in Denmark: A nationwide cohort   \n",
       "104  Characteristics and predictors of hospitalization and death in the first 9,519 cases with a positive RT-PCR test for SARS-CoV-2 in Denmark: A nationwide cohort   \n",
       "\n",
       "        section  sectionNo  lenSection  sentid        token  tokenStart  \\\n",
       "35   Discussion         31        1534       2  psychiatric         250   \n",
       "48   Discussion         31        1534       2          the         331   \n",
       "65   Discussion         31        1534       3          the         435   \n",
       "70   Discussion         31        1534       3          our         467   \n",
       "104  Discussion         31        1534       4            a         662   \n",
       "\n",
       "           label                         chunks  ...  studies   meta   data  \\\n",
       "35     B-PROBLEM            psychiatric illness  ...    False  False  False   \n",
       "48     B-PROBLEM  the socioeconomic disparities  ...    False  False  False   \n",
       "65        B-TEST                 the assessment  ...    False  False  False   \n",
       "70        B-TEST                      our study  ...    False  False  False   \n",
       "104  B-TREATMENT       a severe COVID-19 course  ...    False  False  False   \n",
       "\n",
       "     stats  review  review2  predict  data2   vars  remove  \n",
       "35   False   False    False    False  False  False   False  \n",
       "48   False   False    False    False  False  False   False  \n",
       "65   False   False    False    False  False  False   False  \n",
       "70   False   False    False    False  False  False    True  \n",
       "104  False   False    False    False  False  False   False  \n",
       "\n",
       "[5 rows x 21 columns]"
      ]
     },
     "execution_count": 501,
     "metadata": {},
     "output_type": "execute_result"
    }
   ],
   "source": [
    "riskdf.head()"
   ]
  },
  {
   "cell_type": "code",
   "execution_count": 502,
   "metadata": {},
   "outputs": [
    {
     "name": "stderr",
     "output_type": "stream",
     "text": [
      "/home/myilmaz/devel/mag/notebooks/3.7env/lib/python3.7/site-packages/ipykernel_launcher.py:3: FutureWarning: Indexing with multiple keys (implicitly converted to a tuple of keys) will be deprecated, use a list instead.\n",
      "  This is separate from the ipykernel package so we can avoid doing imports until\n"
     ]
    }
   ],
   "source": [
    "\n",
    "bigdf3['label']=bigdf3['label'].apply(lambda x: [x])\n",
    "bigdf3['chunks']=bigdf3['chunks'].apply(lambda x: [x])\n",
    "bigdf4=bigdf3.groupby(['docid','title','section','sectionNo','lenSection'],as_index=False)['token','chunks','label'].sum()"
   ]
  },
  {
   "cell_type": "code",
   "execution_count": 503,
   "metadata": {},
   "outputs": [
    {
     "name": "stderr",
     "output_type": "stream",
     "text": [
      "/home/myilmaz/devel/mag/notebooks/3.7env/lib/python3.7/site-packages/ipykernel_launcher.py:4: FutureWarning: Indexing with multiple keys (implicitly converted to a tuple of keys) will be deprecated, use a list instead.\n",
      "  after removing the cwd from sys.path.\n"
     ]
    }
   ],
   "source": [
    "\n",
    "#riskdf3['token']=riskdf2['token'].apply(lambda x: [x])\n",
    "riskdf3['label']=riskdf3['label'].apply(lambda x: [x])\n",
    "riskdf3['chunks']=riskdf3['chunks'].apply(lambda x: [x])\n",
    "riskdf4=riskdf3.groupby(['docid','title','section','sectionNo','lenSection'],as_index=False)['token','chunks','label'].sum()"
   ]
  },
  {
   "cell_type": "code",
   "execution_count": 504,
   "metadata": {},
   "outputs": [
    {
     "data": {
      "text/html": [
       "<div>\n",
       "<style scoped>\n",
       "    .dataframe tbody tr th:only-of-type {\n",
       "        vertical-align: middle;\n",
       "    }\n",
       "\n",
       "    .dataframe tbody tr th {\n",
       "        vertical-align: top;\n",
       "    }\n",
       "\n",
       "    .dataframe thead th {\n",
       "        text-align: right;\n",
       "    }\n",
       "</style>\n",
       "<table border=\"1\" class=\"dataframe\">\n",
       "  <thead>\n",
       "    <tr style=\"text-align: right;\">\n",
       "      <th></th>\n",
       "      <th>docid</th>\n",
       "      <th>title</th>\n",
       "      <th>section</th>\n",
       "      <th>sectionNo</th>\n",
       "      <th>lenSection</th>\n",
       "      <th>token</th>\n",
       "      <th>chunks</th>\n",
       "      <th>label</th>\n",
       "    </tr>\n",
       "  </thead>\n",
       "  <tbody>\n",
       "    <tr>\n",
       "      <th>0</th>\n",
       "      <td>004f9dd34959cb180b137043400063c71b8796eb.json</td>\n",
       "      <td>ARTICLE Infection with novel coronavirus (SARS-CoV-2) causes pneumonia in Rhesus macaques</td>\n",
       "      <td>DISCUSSION</td>\n",
       "      <td>10</td>\n",
       "      <td>4608</td>\n",
       "      <td>SARS-CoV-2medicaltheSARS-CoV-2-infectedpulmonaryhistologicalthetypicalpathologyFerretsatheanviraltheSARS-CoV-2clinicalasymptomaticobservedinfectionobviouspre-existingdyspneadecreaseseveremechanicalthemildlinetheoropharyngealthethethetheSARS-CoV-2viralSARS-CoV-2respiratorythenon-symptomaticlessmildhighmoreathevirusinfectionvirusthetheNewlytheoropharyngealthelessTheinfectionsecondarySARS-CoV-2TtheSARS-CoV-2sheddingpulmonaryhistologicalthisthetherapeuticvaccinesSARS-CoV-2viralinvestigation</td>\n",
       "      <td>[SARS-CoV-2, medical countermeasures, the viral RNA, SARS-CoV-2-infected macaques, pulmonary infiltrates, histological lesions, the infected, typical interstitial pneumonia, pathology, Ferrets, a potential animal model, the SARA-CoV-2 infection, an infection model, viral RNA, the nasal washes, SARS-CoV-2, clinical symptoms, asymptomatic, observed lung injury, infection from our animal model, obvious clinical signs, pre-existing comorbidities, dyspnea, decrease of oxygen saturation, severe pneumonia, mechanical ventilation support, the asymptomatic, mild symptoms, line, the viral RNA, oropharyngeal swabs, the viral RNA, the virus, the second peak, the authentic viral replication on site, SARS-CoV-2, viral RNA, SARS-CoV-2, respiratory disease, the mild respiratory symptom, non-symptomatic cases, less virus, mild inflammation in lung, high viral titer in oropharyngeal swab, more virus and severe inflammation, a low viral RNA titer in oropharyngeal swab, the newly generated virus, virus, infection, virus, the injury, the on-site replication, Newly synthesized virus, the peak titer, oropharyngeal swab, the inflammation in lung, less damage, The neutralizing antibody, infection, secondary infection, SARS-CoV-2, T cell, the protection, SARS-CoV-2, shedding in the upper respiratory tract, pulmonary infiltrates, histological lesions, this disease, the evaluation, therapeutic drugs, vaccines, SARS-CoV-2 in respiratory track, viral infection, investigation]</td>\n",
       "      <td>[B-PROBLEM, B-TREATMENT, B-PROBLEM, B-PROBLEM, B-PROBLEM, B-PROBLEM, B-PROBLEM, B-PROBLEM, B-PROBLEM, B-TREATMENT, B-TREATMENT, B-PROBLEM, B-PROBLEM, B-PROBLEM, B-TREATMENT, B-PROBLEM, B-PROBLEM, B-PROBLEM, B-PROBLEM, B-PROBLEM, B-PROBLEM, B-PROBLEM, B-PROBLEM, B-PROBLEM, B-PROBLEM, B-TREATMENT, B-PROBLEM, B-PROBLEM, B-TREATMENT, B-PROBLEM, B-TEST, B-PROBLEM, B-PROBLEM, B-TEST, B-PROBLEM, B-PROBLEM, B-PROBLEM, B-PROBLEM, B-PROBLEM, B-PROBLEM, B-PROBLEM, B-PROBLEM, B-PROBLEM, B-PROBLEM, B-PROBLEM, B-PROBLEM, B-PROBLEM, B-PROBLEM, B-PROBLEM, B-PROBLEM, B-PROBLEM, B-TREATMENT, B-PROBLEM, B-TEST, B-TEST, B-PROBLEM, B-PROBLEM, B-TEST, B-PROBLEM, B-PROBLEM, B-PROBLEM, B-TREATMENT, B-TREATMENT, B-PROBLEM, B-PROBLEM, B-PROBLEM, B-PROBLEM, B-PROBLEM, B-TEST, B-TREATMENT, B-TREATMENT, B-PROBLEM, B-PROBLEM, B-TEST]</td>\n",
       "    </tr>\n",
       "    <tr>\n",
       "      <th>1</th>\n",
       "      <td>004f9dd34959cb180b137043400063c71b8796eb.json</td>\n",
       "      <td>ARTICLE Infection with novel coronavirus (SARS-CoV-2) causes pneumonia in Rhesus macaques</td>\n",
       "      <td>Ethics statement</td>\n",
       "      <td>12</td>\n",
       "      <td>575</td>\n",
       "      <td>antibodyIVCASBALFviralTheATCC®10%FBSL-glutamineIU)/mLstreptomycinculturedTheinfectionTheCy3-conjugatedAbcam</td>\n",
       "      <td>[antibody SARS-CoV-2, IVCAS, BALF, viral pneumonia, The virus isolation, ATCC® CRL-1586™, 10% fetal bovine serum, FBS, L-glutamine, IU)/mL penicillin, streptomycin, cultured, The virus, infection, The anti-SARS-CoV-2 NP protein antibody, Cy3-conjugated goat anti-rabbit IgG, Abcam]</td>\n",
       "      <td>[B-TEST, B-TEST, B-TEST, B-PROBLEM, B-TREATMENT, B-TEST, B-TREATMENT, B-TEST, B-TREATMENT, B-TREATMENT, B-TREATMENT, B-TEST, B-PROBLEM, B-PROBLEM, B-TEST, B-TEST, B-TEST]</td>\n",
       "    </tr>\n",
       "    <tr>\n",
       "      <th>2</th>\n",
       "      <td>004f9dd34959cb180b137043400063c71b8796eb.json</td>\n",
       "      <td>ARTICLE Infection with novel coronavirus (SARS-CoV-2) causes pneumonia in Rhesus macaques</td>\n",
       "      <td>INTRODUCTION</td>\n",
       "      <td>0</td>\n",
       "      <td>1835</td>\n",
       "      <td>CoronaviruskilobasesapneumoniatheBALFanamedSARS-CoV-2thecoronavirusfevercoughmyalgiafatiguedyspnealymphopeniapneumoniacommonsputumheadachehaemoptysisdiarrheainfectedtransmissibilityathethepotentialvaccineaSARS-CoV-2experimentallySARS-CoV-2clinicalSARS-CoV-2swabsrespiratoryinfectedSARS-CoV-2thebronchopneumonia</td>\n",
       "      <td>[Coronavirus infections, kilobases in length, a cluster of cases, pneumonia, the bronchoalveolar lavage fluid, BALF, a novel coronavirus, named severe acute respiratory syndrome coronavirus, SARS-CoV-2 ), the pathogen, coronavirus disease, fever, cough, myalgia, fatigue, dyspnea, lymphopenia, pneumonia, common symptoms, sputum production, headache, haemoptysis, diarrhea, infected, transmissibility, a global pandemic, the viral infection, the evaluation, potential antiviral treatments, vaccine development, a nonhuman primate disease model, SARS-CoV-2, experimentally infected Rhesus macaques, SARS-CoV-2 isolation, clinical BALF, SARS-CoV-2 in blood, swabs, respiratory tract tissues, infected RMs, SARS-CoV-2, the interstitial pneumonia, bronchopneumonia in lungs]</td>\n",
       "      <td>[B-PROBLEM, B-PROBLEM, B-PROBLEM, B-PROBLEM, B-TEST, B-TEST, B-PROBLEM, B-PROBLEM, B-PROBLEM, B-PROBLEM, B-PROBLEM, B-PROBLEM, B-PROBLEM, B-PROBLEM, B-PROBLEM, B-PROBLEM, B-PROBLEM, B-PROBLEM, B-PROBLEM, B-PROBLEM, B-PROBLEM, B-PROBLEM, B-PROBLEM, B-PROBLEM, B-PROBLEM, B-PROBLEM, B-PROBLEM, B-TEST, B-TREATMENT, B-TREATMENT, B-PROBLEM, B-PROBLEM, B-PROBLEM, B-TREATMENT, B-TEST, B-TREATMENT, B-TEST, B-TREATMENT, B-PROBLEM, B-PROBLEM, B-PROBLEM, B-PROBLEM]</td>\n",
       "    </tr>\n",
       "    <tr>\n",
       "      <th>3</th>\n",
       "      <td>004f9dd34959cb180b137043400063c71b8796eb.json</td>\n",
       "      <td>ARTICLE Infection with novel coronavirus (SARS-CoV-2) causes pneumonia in Rhesus macaques</td>\n",
       "      <td>Neutralizing antibody titer</td>\n",
       "      <td>16</td>\n",
       "      <td>816</td>\n",
       "      <td>TheaTheTheana100monolayershakingThecellsDMEM2%fixationTheThecrystalThecalculating</td>\n",
       "      <td>[The virus neutralization test, a 12-well plate, The serum samples, The serum samples, an equal volume of virus stock, a 5% CO 2 incubator, 100 µL mixtures, monolayer Vero cells, shaking, The inocula, cells, DMEM, 2% FBS containing 0.9% methylcellulose, fixation, The cells, The formaldehyde solution, crystal violet staining, The plaques, calculating the titer]</td>\n",
       "      <td>[B-TEST, B-TREATMENT, B-TEST, B-TEST, B-PROBLEM, B-TREATMENT, B-TREATMENT, B-TREATMENT, B-PROBLEM, B-TREATMENT, B-TREATMENT, B-TREATMENT, B-TREATMENT, B-TREATMENT, B-TREATMENT, B-TREATMENT, B-TEST, B-PROBLEM, B-TEST]</td>\n",
       "    </tr>\n",
       "    <tr>\n",
       "      <th>4</th>\n",
       "      <td>004f9dd34959cb180b137043400063c71b8796eb.json</td>\n",
       "      <td>ARTICLE Infection with novel coronavirus (SARS-CoV-2) causes pneumonia in Rhesus macaques</td>\n",
       "      <td>Respiratory tract injury in SARS-CoV-2-infected animal</td>\n",
       "      <td>4</td>\n",
       "      <td>2275</td>\n",
       "      <td>TheinfectionpatchymiddlemultipletherightlungtheNecropsyPostmortemconsolidationedemahemorrhagenecrosisthedarklargetwo10%whitepatchynecropsyviralSARS-CoV-2thecopies/g2dviraltiterspecificinfectionS3SARS-CoV-2</td>\n",
       "      <td>[The chest X-ray examination, infection, patchy glass-ground opacity, middle left panel, multiple glass-ground opacities in right lungs, the density, right panel, lung lesions, the secondary infection, Necropsy, Postmortem examinations, consolidation, edema, hemorrhage, necrosis throughout the lower respiratory tract, the interstitial pneumonia, dark red, large patchy hemorrhage, two red dark foci in the right upper lobe and right lower lobe, 10% of the lung tissue, white with consolidation, patchy hemorrhage, necropsy, viral RNA, SARS-CoV-2 in the respiratory tract, the viral RNA, copies/g in trachea and bronchus tract, 2d, viral RNA, titer, specific viral RNA, infection, S3, SARS-CoV-2 infection]</td>\n",
       "      <td>[B-TEST, B-PROBLEM, B-PROBLEM, B-TEST, B-PROBLEM, B-TEST, B-TEST, B-PROBLEM, B-PROBLEM, B-TEST, B-TEST, B-PROBLEM, B-PROBLEM, B-PROBLEM, B-PROBLEM, B-PROBLEM, B-PROBLEM, B-PROBLEM, B-PROBLEM, B-PROBLEM, B-PROBLEM, B-PROBLEM, B-TEST, B-PROBLEM, B-PROBLEM, B-TEST, B-TEST, B-TEST, B-PROBLEM, B-TEST, B-PROBLEM, B-PROBLEM, B-PROBLEM, B-PROBLEM]</td>\n",
       "    </tr>\n",
       "  </tbody>\n",
       "</table>\n",
       "</div>"
      ],
      "text/plain": [
       "                                           docid  \\\n",
       "0  004f9dd34959cb180b137043400063c71b8796eb.json   \n",
       "1  004f9dd34959cb180b137043400063c71b8796eb.json   \n",
       "2  004f9dd34959cb180b137043400063c71b8796eb.json   \n",
       "3  004f9dd34959cb180b137043400063c71b8796eb.json   \n",
       "4  004f9dd34959cb180b137043400063c71b8796eb.json   \n",
       "\n",
       "                                                                                       title  \\\n",
       "0  ARTICLE Infection with novel coronavirus (SARS-CoV-2) causes pneumonia in Rhesus macaques   \n",
       "1  ARTICLE Infection with novel coronavirus (SARS-CoV-2) causes pneumonia in Rhesus macaques   \n",
       "2  ARTICLE Infection with novel coronavirus (SARS-CoV-2) causes pneumonia in Rhesus macaques   \n",
       "3  ARTICLE Infection with novel coronavirus (SARS-CoV-2) causes pneumonia in Rhesus macaques   \n",
       "4  ARTICLE Infection with novel coronavirus (SARS-CoV-2) causes pneumonia in Rhesus macaques   \n",
       "\n",
       "                                                  section  sectionNo  \\\n",
       "0                                              DISCUSSION         10   \n",
       "1                                        Ethics statement         12   \n",
       "2                                            INTRODUCTION          0   \n",
       "3                             Neutralizing antibody titer         16   \n",
       "4  Respiratory tract injury in SARS-CoV-2-infected animal          4   \n",
       "\n",
       "   lenSection  \\\n",
       "0        4608   \n",
       "1         575   \n",
       "2        1835   \n",
       "3         816   \n",
       "4        2275   \n",
       "\n",
       "                                                                                                                                                                                                                                                                                                                                                                                                                                                                                                         token  \\\n",
       "0  SARS-CoV-2medicaltheSARS-CoV-2-infectedpulmonaryhistologicalthetypicalpathologyFerretsatheanviraltheSARS-CoV-2clinicalasymptomaticobservedinfectionobviouspre-existingdyspneadecreaseseveremechanicalthemildlinetheoropharyngealthethethetheSARS-CoV-2viralSARS-CoV-2respiratorythenon-symptomaticlessmildhighmoreathevirusinfectionvirusthetheNewlytheoropharyngealthelessTheinfectionsecondarySARS-CoV-2TtheSARS-CoV-2sheddingpulmonaryhistologicalthisthetherapeuticvaccinesSARS-CoV-2viralinvestigation   \n",
       "1                                                                                                                                                                                                                                                                                                                                                                                                  antibodyIVCASBALFviralTheATCC®10%FBSL-glutamineIU)/mLstreptomycinculturedTheinfectionTheCy3-conjugatedAbcam   \n",
       "2                                                                                                                                                                                       CoronaviruskilobasesapneumoniatheBALFanamedSARS-CoV-2thecoronavirusfevercoughmyalgiafatiguedyspnealymphopeniapneumoniacommonsputumheadachehaemoptysisdiarrheainfectedtransmissibilityathethepotentialvaccineaSARS-CoV-2experimentallySARS-CoV-2clinicalSARS-CoV-2swabsrespiratoryinfectedSARS-CoV-2thebronchopneumonia   \n",
       "3                                                                                                                                                                                                                                                                                                                                                                                                                            TheaTheTheana100monolayershakingThecellsDMEM2%fixationTheThecrystalThecalculating   \n",
       "4                                                                                                                                                                                                                                                                                                TheinfectionpatchymiddlemultipletherightlungtheNecropsyPostmortemconsolidationedemahemorrhagenecrosisthedarklargetwo10%whitepatchynecropsyviralSARS-CoV-2thecopies/g2dviraltiterspecificinfectionS3SARS-CoV-2   \n",
       "\n",
       "                                                                                                                                                                                                                                                                                                                                                                                                                                                                                                                                                                                                                                                                                                                                                                                                                                                                                                                                                                                                                                                                                                                                                                                                                                                                                                                                                                                                                                                                                                                           chunks  \\\n",
       "0  [SARS-CoV-2, medical countermeasures, the viral RNA, SARS-CoV-2-infected macaques, pulmonary infiltrates, histological lesions, the infected, typical interstitial pneumonia, pathology, Ferrets, a potential animal model, the SARA-CoV-2 infection, an infection model, viral RNA, the nasal washes, SARS-CoV-2, clinical symptoms, asymptomatic, observed lung injury, infection from our animal model, obvious clinical signs, pre-existing comorbidities, dyspnea, decrease of oxygen saturation, severe pneumonia, mechanical ventilation support, the asymptomatic, mild symptoms, line, the viral RNA, oropharyngeal swabs, the viral RNA, the virus, the second peak, the authentic viral replication on site, SARS-CoV-2, viral RNA, SARS-CoV-2, respiratory disease, the mild respiratory symptom, non-symptomatic cases, less virus, mild inflammation in lung, high viral titer in oropharyngeal swab, more virus and severe inflammation, a low viral RNA titer in oropharyngeal swab, the newly generated virus, virus, infection, virus, the injury, the on-site replication, Newly synthesized virus, the peak titer, oropharyngeal swab, the inflammation in lung, less damage, The neutralizing antibody, infection, secondary infection, SARS-CoV-2, T cell, the protection, SARS-CoV-2, shedding in the upper respiratory tract, pulmonary infiltrates, histological lesions, this disease, the evaluation, therapeutic drugs, vaccines, SARS-CoV-2 in respiratory track, viral infection, investigation]   \n",
       "1                                                                                                                                                                                                                                                                                                                                                                                                                                                                                                                                                                                                                                                                                                                                                                                                                                                                                                                                                                                                                                                                                                                                                                                                                                       [antibody SARS-CoV-2, IVCAS, BALF, viral pneumonia, The virus isolation, ATCC® CRL-1586™, 10% fetal bovine serum, FBS, L-glutamine, IU)/mL penicillin, streptomycin, cultured, The virus, infection, The anti-SARS-CoV-2 NP protein antibody, Cy3-conjugated goat anti-rabbit IgG, Abcam]   \n",
       "2                                                                                                                                                                                                                                                                                                                                                                                                                                                                                                                                                                                                                                                                                                                              [Coronavirus infections, kilobases in length, a cluster of cases, pneumonia, the bronchoalveolar lavage fluid, BALF, a novel coronavirus, named severe acute respiratory syndrome coronavirus, SARS-CoV-2 ), the pathogen, coronavirus disease, fever, cough, myalgia, fatigue, dyspnea, lymphopenia, pneumonia, common symptoms, sputum production, headache, haemoptysis, diarrhea, infected, transmissibility, a global pandemic, the viral infection, the evaluation, potential antiviral treatments, vaccine development, a nonhuman primate disease model, SARS-CoV-2, experimentally infected Rhesus macaques, SARS-CoV-2 isolation, clinical BALF, SARS-CoV-2 in blood, swabs, respiratory tract tissues, infected RMs, SARS-CoV-2, the interstitial pneumonia, bronchopneumonia in lungs]   \n",
       "3                                                                                                                                                                                                                                                                                                                                                                                                                                                                                                                                                                                                                                                                                                                                                                                                                                                                                                                                                                                                                                                                                                                                                      [The virus neutralization test, a 12-well plate, The serum samples, The serum samples, an equal volume of virus stock, a 5% CO 2 incubator, 100 µL mixtures, monolayer Vero cells, shaking, The inocula, cells, DMEM, 2% FBS containing 0.9% methylcellulose, fixation, The cells, The formaldehyde solution, crystal violet staining, The plaques, calculating the titer]   \n",
       "4                                                                                                                                                                                                                                                                                                                                                                                                                                                                                                                                                                                                                                                                                                                                                                                             [The chest X-ray examination, infection, patchy glass-ground opacity, middle left panel, multiple glass-ground opacities in right lungs, the density, right panel, lung lesions, the secondary infection, Necropsy, Postmortem examinations, consolidation, edema, hemorrhage, necrosis throughout the lower respiratory tract, the interstitial pneumonia, dark red, large patchy hemorrhage, two red dark foci in the right upper lobe and right lower lobe, 10% of the lung tissue, white with consolidation, patchy hemorrhage, necropsy, viral RNA, SARS-CoV-2 in the respiratory tract, the viral RNA, copies/g in trachea and bronchus tract, 2d, viral RNA, titer, specific viral RNA, infection, S3, SARS-CoV-2 infection]   \n",
       "\n",
       "                                                                                                                                                                                                                                                                                                                                                                                                                                                                                                                                                                                                                                                                                                                                                                                                                                             label  \n",
       "0  [B-PROBLEM, B-TREATMENT, B-PROBLEM, B-PROBLEM, B-PROBLEM, B-PROBLEM, B-PROBLEM, B-PROBLEM, B-PROBLEM, B-TREATMENT, B-TREATMENT, B-PROBLEM, B-PROBLEM, B-PROBLEM, B-TREATMENT, B-PROBLEM, B-PROBLEM, B-PROBLEM, B-PROBLEM, B-PROBLEM, B-PROBLEM, B-PROBLEM, B-PROBLEM, B-PROBLEM, B-PROBLEM, B-TREATMENT, B-PROBLEM, B-PROBLEM, B-TREATMENT, B-PROBLEM, B-TEST, B-PROBLEM, B-PROBLEM, B-TEST, B-PROBLEM, B-PROBLEM, B-PROBLEM, B-PROBLEM, B-PROBLEM, B-PROBLEM, B-PROBLEM, B-PROBLEM, B-PROBLEM, B-PROBLEM, B-PROBLEM, B-PROBLEM, B-PROBLEM, B-PROBLEM, B-PROBLEM, B-PROBLEM, B-PROBLEM, B-TREATMENT, B-PROBLEM, B-TEST, B-TEST, B-PROBLEM, B-PROBLEM, B-TEST, B-PROBLEM, B-PROBLEM, B-PROBLEM, B-TREATMENT, B-TREATMENT, B-PROBLEM, B-PROBLEM, B-PROBLEM, B-PROBLEM, B-PROBLEM, B-TEST, B-TREATMENT, B-TREATMENT, B-PROBLEM, B-PROBLEM, B-TEST]  \n",
       "1                                                                                                                                                                                                                                                                                                                                                                                                                                                                                                                                                                                                                                                                       [B-TEST, B-TEST, B-TEST, B-PROBLEM, B-TREATMENT, B-TEST, B-TREATMENT, B-TEST, B-TREATMENT, B-TREATMENT, B-TREATMENT, B-TEST, B-PROBLEM, B-PROBLEM, B-TEST, B-TEST, B-TEST]  \n",
       "2                                                                                                                                                                                                                                                                                                                                                                        [B-PROBLEM, B-PROBLEM, B-PROBLEM, B-PROBLEM, B-TEST, B-TEST, B-PROBLEM, B-PROBLEM, B-PROBLEM, B-PROBLEM, B-PROBLEM, B-PROBLEM, B-PROBLEM, B-PROBLEM, B-PROBLEM, B-PROBLEM, B-PROBLEM, B-PROBLEM, B-PROBLEM, B-PROBLEM, B-PROBLEM, B-PROBLEM, B-PROBLEM, B-PROBLEM, B-PROBLEM, B-PROBLEM, B-PROBLEM, B-TEST, B-TREATMENT, B-TREATMENT, B-PROBLEM, B-PROBLEM, B-PROBLEM, B-TREATMENT, B-TEST, B-TREATMENT, B-TEST, B-TREATMENT, B-PROBLEM, B-PROBLEM, B-PROBLEM, B-PROBLEM]  \n",
       "3                                                                                                                                                                                                                                                                                                                                                                                                                                                                                                                                                                                                                         [B-TEST, B-TREATMENT, B-TEST, B-TEST, B-PROBLEM, B-TREATMENT, B-TREATMENT, B-TREATMENT, B-PROBLEM, B-TREATMENT, B-TREATMENT, B-TREATMENT, B-TREATMENT, B-TREATMENT, B-TREATMENT, B-TREATMENT, B-TEST, B-PROBLEM, B-TEST]  \n",
       "4                                                                                                                                                                                                                                                                                                                                                                                                                                                                                            [B-TEST, B-PROBLEM, B-PROBLEM, B-TEST, B-PROBLEM, B-TEST, B-TEST, B-PROBLEM, B-PROBLEM, B-TEST, B-TEST, B-PROBLEM, B-PROBLEM, B-PROBLEM, B-PROBLEM, B-PROBLEM, B-PROBLEM, B-PROBLEM, B-PROBLEM, B-PROBLEM, B-PROBLEM, B-PROBLEM, B-TEST, B-PROBLEM, B-PROBLEM, B-TEST, B-TEST, B-TEST, B-PROBLEM, B-TEST, B-PROBLEM, B-PROBLEM, B-PROBLEM, B-PROBLEM]  "
      ]
     },
     "execution_count": 504,
     "metadata": {},
     "output_type": "execute_result"
    }
   ],
   "source": [
    "bigdf4.head()"
   ]
  },
  {
   "cell_type": "code",
   "execution_count": 505,
   "metadata": {},
   "outputs": [],
   "source": [
    "riskdf4['preexist']=1\n",
    "bigdf4['preexist']=0\n",
    "\n",
    "alldf=riskdf4.append(bigdf4)"
   ]
  },
  {
   "cell_type": "code",
   "execution_count": 506,
   "metadata": {
    "scrolled": true
   },
   "outputs": [
    {
     "data": {
      "text/plain": [
       "0    32596\n",
       "1     2256\n",
       "Name: preexist, dtype: int64"
      ]
     },
     "execution_count": 506,
     "metadata": {},
     "output_type": "execute_result"
    }
   ],
   "source": [
    "alldf=alldf.reset_index()\n",
    "alldf['preexist'].value_counts()"
   ]
  },
  {
   "cell_type": "code",
   "execution_count": 507,
   "metadata": {},
   "outputs": [],
   "source": [
    "alldf.drop(columns=['token'],inplace=True)"
   ]
  },
  {
   "cell_type": "code",
   "execution_count": 508,
   "metadata": {},
   "outputs": [],
   "source": [
    "labeldic={'B-PROBLEM':[],'B-TEST':[],'B-TREATMENT':[]}\n",
    "for row in alldf['label']:\n",
    "    try:\n",
    "        labeldic['B-PROBLEM'].append(len([i for i in row if i=='B-PROBLEM']))\n",
    "    except:\n",
    "        labeldic['B-PROBLEM'].append([])\n",
    "    try:\n",
    "        labeldic['B-TEST'].append(len([i for i in row if i=='B-TEST']))\n",
    "    except:\n",
    "        labeldic['B-TEST'].append([])\n",
    "    try:\n",
    "        labeldic['B-TREATMENT'].append(len([i for i in row if i=='B-TREATMENT']))\n",
    "    except:\n",
    "        labeldic['B-TREATMENT'].append([])"
   ]
  },
  {
   "cell_type": "code",
   "execution_count": 509,
   "metadata": {},
   "outputs": [],
   "source": [
    "labelcols=pd.DataFrame(labeldic).reset_index()"
   ]
  },
  {
   "cell_type": "code",
   "execution_count": 510,
   "metadata": {},
   "outputs": [],
   "source": [
    "labelcols['enttotals']=labelcols['B-PROBLEM']+labelcols['B-TEST']+labelcols['B-TREATMENT']"
   ]
  },
  {
   "cell_type": "code",
   "execution_count": 511,
   "metadata": {},
   "outputs": [],
   "source": [
    "vocab=[item for sublist in alldf['chunks'] if type(sublist)!=float for item in sublist]"
   ]
  },
  {
   "cell_type": "markdown",
   "metadata": {},
   "source": [
    "import json\n",
    "with open('vocab.json','r') as file:\n",
    "    js=file.read()\n",
    "    #\n",
    "file.close()\n"
   ]
  },
  {
   "cell_type": "markdown",
   "metadata": {},
   "source": [
    "vocab=json.loads(js)"
   ]
  },
  {
   "cell_type": "code",
   "execution_count": 512,
   "metadata": {},
   "outputs": [],
   "source": [
    "vocabset=list(set(vocab))"
   ]
  },
  {
   "cell_type": "code",
   "execution_count": 513,
   "metadata": {},
   "outputs": [],
   "source": [
    "import collections, numpy\n",
    "freq=collections.Counter(vocab)"
   ]
  },
  {
   "cell_type": "code",
   "execution_count": 514,
   "metadata": {},
   "outputs": [],
   "source": [
    "freq=dict(freq)"
   ]
  },
  {
   "cell_type": "code",
   "execution_count": 515,
   "metadata": {},
   "outputs": [],
   "source": [
    "a=len(alldf)\n",
    "vocabdict={}\n",
    "vocabdict={key:([0]*a) for (key,val) in freq.items() if val>40}"
   ]
  },
  {
   "cell_type": "code",
   "execution_count": 516,
   "metadata": {},
   "outputs": [
    {
     "data": {
      "text/plain": [
       "680"
      ]
     },
     "execution_count": 516,
     "metadata": {},
     "output_type": "execute_result"
    }
   ],
   "source": [
    "len(vocabdict)"
   ]
  },
  {
   "cell_type": "code",
   "execution_count": 517,
   "metadata": {},
   "outputs": [],
   "source": [
    "for c,row in enumerate(alldf['chunks']):\n",
    "    for chunk in row:\n",
    "        try:\n",
    "            vocabdict[chunk][c]+=1\n",
    "        except:\n",
    "            pass"
   ]
  },
  {
   "cell_type": "code",
   "execution_count": 518,
   "metadata": {},
   "outputs": [],
   "source": [
    "chunkdf=pd.DataFrame(vocabdict)"
   ]
  },
  {
   "cell_type": "code",
   "execution_count": 519,
   "metadata": {},
   "outputs": [],
   "source": [
    "from sklearn.feature_extraction.text import TfidfTransformer\n",
    "tfidf = TfidfTransformer()\n",
    "result=tfidf.fit_transform(chunkdf).toarray()\n",
    "\n"
   ]
  },
  {
   "cell_type": "code",
   "execution_count": null,
   "metadata": {},
   "outputs": [],
   "source": [
    "from sklearn.decomposition import TruncatedSVD\n",
    "from sklearn.pipeline import make_pipeline\n",
    "from sklearn.preprocessing import Normalizer\n",
    "\n",
    "svd = TruncatedSVD(n_components=12)\n",
    "normalizer = Normalizer(copy=False)\n",
    "lsa = make_pipeline(svd, normalizer)\n",
    "\n",
    "lsas = lsa.fit_transform(result)"
   ]
  },
  {
   "cell_type": "code",
   "execution_count": null,
   "metadata": {},
   "outputs": [],
   "source": [
    "lsas.shape"
   ]
  },
  {
   "cell_type": "code",
   "execution_count": null,
   "metadata": {},
   "outputs": [],
   "source": [
    "final=pd.DataFrame(lsas).reset_index().merge(labelcols.reset_index(),on='index',how='right')"
   ]
  },
  {
   "cell_type": "code",
   "execution_count": null,
   "metadata": {},
   "outputs": [],
   "source": [
    "final['preexist']=alldf['preexist']\n",
    "final['lenSection']=alldf['lenSection']"
   ]
  },
  {
   "cell_type": "code",
   "execution_count": 337,
   "metadata": {},
   "outputs": [
    {
     "data": {
      "text/plain": [
       "Index(['index', 'docid', 'title', 'section', 'sectionNo', 'lenSection',\n",
       "       'chunks', 'label', 'preexist'],\n",
       "      dtype='object')"
      ]
     },
     "execution_count": 337,
     "metadata": {},
     "output_type": "execute_result"
    }
   ],
   "source": [
    "alldf.columns"
   ]
  },
  {
   "cell_type": "code",
   "execution_count": 520,
   "metadata": {},
   "outputs": [],
   "source": [
    "\n",
    "slimdict2=pd.DataFrame(pd.DataFrame(result,columns=chunkdf.columns).reset_index().merge(labelcols.reset_index(),on='index',how='right'))\n",
    "slimdict2['preexist']=alldf['preexist']\n",
    "slimdict2['lenSection']=alldf['lenSection']\n"
   ]
  },
  {
   "cell_type": "code",
   "execution_count": 521,
   "metadata": {},
   "outputs": [],
   "source": [
    "slimdict2['B-PROBLEM']=slimdict2['B-PROBLEM']/alldf['lenSection']\n",
    "slimdict2['B-TEST']=slimdict2['B-TEST']/alldf['lenSection']\n",
    "slimdict2['B-TREATMENT']=slimdict2['B-TREATMENT']/alldf['lenSection']\n",
    "slimdict2['enttotals']=slimdict2['enttotals']/alldf['lenSection']\n"
   ]
  },
  {
   "cell_type": "code",
   "execution_count": null,
   "metadata": {},
   "outputs": [],
   "source": [
    "final=final.drop(columns=['level_0','index'])"
   ]
  },
  {
   "cell_type": "code",
   "execution_count": 522,
   "metadata": {},
   "outputs": [],
   "source": [
    "slimdict2=slimdict2.drop(columns=['level_0','index','lenSection'])"
   ]
  },
  {
   "cell_type": "code",
   "execution_count": null,
   "metadata": {},
   "outputs": [],
   "source": [
    "###START HERE FOR "
   ]
  },
  {
   "cell_type": "code",
   "execution_count": 298,
   "metadata": {},
   "outputs": [],
   "source": [
    "from sklearn.ensemble import RandomForestClassifier\n",
    "from sklearn.model_selection import train_test_split"
   ]
  },
  {
   "cell_type": "code",
   "execution_count": 523,
   "metadata": {},
   "outputs": [
    {
     "name": "stdout",
     "output_type": "stream",
     "text": [
      "Accuracy on test data: 0.95\n",
      "Accuracy on train data: 0.99\n"
     ]
    }
   ],
   "source": [
    "#final2=final.dropna().reset_index(drop=True)\n",
    "slimdict3=slimdict2.dropna().reset_index(drop=True)\n",
    "#X=final2.drop(columns=['preexist'])\n",
    "X=slimdict3.drop(columns=['preexist'])\n",
    "#X, y = X, final2['preexist']\n",
    "X, y = X, slimdict3['preexist']\n",
    "X_train, X_test, y_train, y_test = train_test_split(X, y, random_state=42)\n",
    "\n",
    "clf = RandomForestClassifier(n_estimators=200, random_state=42,n_jobs=-1)\n",
    "clf.fit(X_train, y_train)\n",
    "print(\"Accuracy on test data: {:.2f}\".format(clf.score(X_test, y_test)))\n",
    "print(\"Accuracy on train data: {:.2f}\".format(clf.score(X_train, y_train)))"
   ]
  },
  {
   "cell_type": "code",
   "execution_count": 361,
   "metadata": {},
   "outputs": [
    {
     "data": {
      "text/plain": [
       "'CI'"
      ]
     },
     "execution_count": 361,
     "metadata": {},
     "output_type": "execute_result"
    }
   ],
   "source": [
    "list(chunkdf.columns)[44]"
   ]
  },
  {
   "cell_type": "code",
   "execution_count": 352,
   "metadata": {},
   "outputs": [
    {
     "data": {
      "text/plain": [
       "[347, 0, 105, 4, 40, 68, 44, 339, 168, 132]"
      ]
     },
     "execution_count": 352,
     "metadata": {},
     "output_type": "execute_result"
    }
   ],
   "source": [
    "list(np.argsort(feature_importance)[-34:-24])"
   ]
  },
  {
   "cell_type": "code",
   "execution_count": 524,
   "metadata": {},
   "outputs": [
    {
     "data": {
      "image/png": "[encoded data removed]",
      "text/plain": [
       "<Figure size 720x720 with 1 Axes>"
      ]
     },
     "metadata": {
      "needs_background": "light"
     },
     "output_type": "display_data"
    }
   ],
   "source": [
    "from matplotlib import pyplot as plt\n",
    "\n",
    "\n",
    "\n",
    "feature_importance = clf.feature_importances_\n",
    "\n",
    "# Make importances relative to max importance.\n",
    "feature_importance = 100.0 * (feature_importance / feature_importance.max())\n",
    "sorted_idx = np.argsort(feature_importance)[-50:]\n",
    "pos = np.arange(sorted_idx.shape[0]) + .5\n",
    "\n",
    "fig, ax = plt.subplots(figsize =(10,10))\n",
    "plt.barh(pos, feature_importance[sorted_idx], align='center')\n",
    "plt.yticks(pos, X.columns[sorted_idx])\n",
    "plt.xlim(5,100)\n",
    "plt.xlabel('Relative Importance')\n",
    "plt.title('Variable Importance')\n",
    "plt.show()\n",
    "\n"
   ]
  },
  {
   "cell_type": "code",
   "execution_count": null,
   "metadata": {},
   "outputs": [],
   "source": [
    "from matplotlib import pyplot as plt\n",
    "\n",
    "\n",
    "\n",
    "feature_importance = clf.feature_importances_\n",
    "\n",
    "# Make importances relative to max importance.\n",
    "feature_importance = 100.0 * (feature_importance / feature_importance.max())\n",
    "sorted_idx = np.argsort(feature_importance)[-50:]\n",
    "pos = np.arange(sorted_idx.shape[0]) + .5\n",
    "\n",
    "fig, ax = plt.subplots(figsize =(10,10))\n",
    "plt.barh(pos, feature_importance[sorted_idx], align='center')\n",
    "plt.yticks(pos, X.columns[sorted_idx])\n",
    "plt.xlabel('Relative Importance')\n",
    "plt.title('Variable Importance')\n",
    "plt.show()\n",
    "\n"
   ]
  },
  {
   "cell_type": "code",
   "execution_count": null,
   "metadata": {},
   "outputs": [],
   "source": [
    "## Removed data analysis related features\n",
    "## Added length of section feature since number of entities in section was such an important feature. This increased score from 83 to..."
   ]
  },
  {
   "cell_type": "code",
   "execution_count": null,
   "metadata": {},
   "outputs": [],
   "source": []
  },
  {
   "cell_type": "markdown",
   "metadata": {},
   "source": [
    "## Prep for visualizations"
   ]
  },
  {
   "cell_type": "code",
   "execution_count": null,
   "metadata": {},
   "outputs": [],
   "source": [
    "problems=bigdf2[bigdf2['label']=='B-PROBLEM']"
   ]
  },
  {
   "cell_type": "code",
   "execution_count": null,
   "metadata": {},
   "outputs": [],
   "source": [
    "tests=bigdf2[bigdf2['label']=='B-TEST']"
   ]
  },
  {
   "cell_type": "code",
   "execution_count": null,
   "metadata": {},
   "outputs": [],
   "source": [
    "#len(problems[problems['chunks']=='proteinuria'])"
   ]
  },
  {
   "cell_type": "code",
   "execution_count": null,
   "metadata": {},
   "outputs": [],
   "source": [
    "probhist=pd.DataFrame(problems['chunks'].value_counts())\n",
    "probhist=probhist.rename(columns={'chunks':'counts'})\n",
    "probhist2=probhist.iloc[0:100]"
   ]
  },
  {
   "cell_type": "code",
   "execution_count": null,
   "metadata": {},
   "outputs": [],
   "source": [
    "testhist=pd.DataFrame(tests['chunks'].value_counts())\n",
    "testhist=testhist.rename(columns={'chunks':'counts'})\n",
    "testhist2=testhist.iloc[0:100]"
   ]
  },
  {
   "cell_type": "markdown",
   "metadata": {},
   "source": [
    "## Look at most frequent \"Test\" entities"
   ]
  },
  {
   "cell_type": "code",
   "execution_count": null,
   "metadata": {},
   "outputs": [],
   "source": [
    "testhist2.head(40)"
   ]
  },
  {
   "cell_type": "code",
   "execution_count": null,
   "metadata": {},
   "outputs": [],
   "source": []
  },
  {
   "cell_type": "code",
   "execution_count": null,
   "metadata": {},
   "outputs": [],
   "source": [
    "import matplotlib.pyplot as plt\n",
    "import seaborn as sns\n",
    "fig, ax = plt.subplots(figsize =(24,12))\n",
    "chart=sns.barplot(testhist2.index,testhist2['counts'])\n",
    "chart.set_xticklabels(testhist2.index,rotation=90)\n",
    "plt.title('Test Entities',fontsize=18)\n",
    "plt.show()"
   ]
  },
  {
   "cell_type": "markdown",
   "metadata": {},
   "source": [
    "The pretrained model is returning a lot of false positive for Test entities, but you can still see that kidney related tests such as \"creatinine\" are well represented in the dataset."
   ]
  },
  {
   "cell_type": "markdown",
   "metadata": {},
   "source": [
    "## Look at most frequent \"Problem\" entities"
   ]
  },
  {
   "cell_type": "code",
   "execution_count": null,
   "metadata": {},
   "outputs": [],
   "source": [
    "probhist2.iloc[39:79]"
   ]
  },
  {
   "cell_type": "code",
   "execution_count": null,
   "metadata": {
    "scrolled": false
   },
   "outputs": [],
   "source": [
    "import seaborn as sns\n",
    "import seaborn as sns\n",
    "fig, ax = plt.subplots(figsize =(24,12))\n",
    "chart=sns.barplot(probhist2.index,probhist2['counts'])\n",
    "chart.set_xticklabels(probhist2.index,rotation=90)\n",
    "plt.title('Problem Entities',fontsize=18)\n",
    "plt.show()"
   ]
  },
  {
   "cell_type": "markdown",
   "metadata": {},
   "source": [
    "You can see that kidney related problems such as \"AKI\" are well represented in the dataset."
   ]
  },
  {
   "cell_type": "markdown",
   "metadata": {},
   "source": [
    "## Find 'Test' entities near the most frequent kidney related 'Problem' entity"
   ]
  },
  {
   "cell_type": "code",
   "execution_count": null,
   "metadata": {},
   "outputs": [],
   "source": [
    "problems=pd.DataFrame(problems).reset_index(drop=True)\n",
    "problems['sectionid']=problems.docid+'-'+problems.section"
   ]
  },
  {
   "cell_type": "code",
   "execution_count": null,
   "metadata": {},
   "outputs": [],
   "source": [
    "tests=pd.DataFrame(tests).reset_index(drop=True)\n",
    "tests['sectionid']=tests.docid+'-'+tests.section"
   ]
  },
  {
   "cell_type": "code",
   "execution_count": null,
   "metadata": {},
   "outputs": [],
   "source": [
    "akis=pd.DataFrame(problems[problems['chunks']=='AKI']).reset_index(drop=True)"
   ]
  },
  {
   "cell_type": "code",
   "execution_count": null,
   "metadata": {},
   "outputs": [],
   "source": [
    "a=list(set(akis['sectionid']))"
   ]
  },
  {
   "cell_type": "code",
   "execution_count": null,
   "metadata": {},
   "outputs": [],
   "source": [
    "akitest=tests[tests['sectionid'].isin(a)]"
   ]
  },
  {
   "cell_type": "code",
   "execution_count": null,
   "metadata": {},
   "outputs": [],
   "source": [
    "akicount=pd.DataFrame(akitest.groupby(['chunks'])['label'].count()).reset_index()\n",
    "\n",
    "akicount=akicount.sort_values(by='label',ascending=False).reset_index(drop=True)\n",
    "akicount.columns=['chunk','counts']"
   ]
  },
  {
   "cell_type": "code",
   "execution_count": null,
   "metadata": {},
   "outputs": [],
   "source": [
    "akicount"
   ]
  },
  {
   "cell_type": "code",
   "execution_count": null,
   "metadata": {},
   "outputs": [],
   "source": [
    "import seaborn as sns\n",
    "import seaborn as sns\n",
    "fig, ax = plt.subplots(figsize =(24,12))\n",
    "chart= sns.barplot(akicount['chunk'][0:50],akicount['counts'][0:50])\n",
    "\n",
    "chart.set_xticklabels(akicount.chunk,rotation=90)\n",
    "plt.title(\"Clinical Tests Near 'AKI'\",fontsize=20)\n",
    "\n",
    "\n",
    "plt.show()"
   ]
  },
  {
   "cell_type": "markdown",
   "metadata": {},
   "source": [
    "Our clinical tests NER is returning a lot of false positives but we still see that creatinine, CRP, and PCR tests  are well represented in the dataset, appearing in the same section as \"AKI\". This tells me the information is probably not historical and I will have measurements that I can use for predictions as well as terms to use for topic modelling and text classification."
   ]
  },
  {
   "cell_type": "markdown",
   "metadata": {},
   "source": [
    "## Find 'Problem' entities near the most frequent kidney related 'Test' entity"
   ]
  },
  {
   "cell_type": "code",
   "execution_count": null,
   "metadata": {},
   "outputs": [],
   "source": [
    "creatins=pd.DataFrame(tests[tests['chunks']=='creatinine']).reset_index(drop=True)\n",
    "b=list(set(creatins['sectionid']))\n",
    "creatprob=problems[problems['sectionid'].isin(b)]\n",
    "creatcount=pd.DataFrame(creatprob.groupby(['chunks'])['label'].count()).reset_index()\n",
    "\n",
    "creatcount=creatcount.sort_values(by='label',ascending=False).reset_index(drop=True)\n",
    "creatcount.columns=['chunk','counts']"
   ]
  },
  {
   "cell_type": "code",
   "execution_count": null,
   "metadata": {},
   "outputs": [],
   "source": [
    "creatcount"
   ]
  },
  {
   "cell_type": "code",
   "execution_count": null,
   "metadata": {},
   "outputs": [],
   "source": [
    "creatcounts=creatcount.iloc[0:50]"
   ]
  },
  {
   "cell_type": "code",
   "execution_count": null,
   "metadata": {},
   "outputs": [],
   "source": [
    "import seaborn as sns\n",
    "import seaborn as sns\n",
    "fig, ax = plt.subplots(figsize =(24,12))\n",
    "chart= sns.barplot(creatcounts.chunk,creatcounts['counts'])\n",
    "\n",
    "chart.set_xticklabels(creatcounts.chunk,rotation=90)\n",
    "plt.title(\"Patient Problems Near 'Creatinine' Test\",fontsize=20)\n",
    "\n",
    "\n",
    "plt.show()"
   ]
  },
  {
   "cell_type": "markdown",
   "metadata": {},
   "source": [
    "AKI, hypertension, diabetes, and acute kidney injury are all well represented in the dataset, appearing in the same section as \"creatinine\" tests. This tells me the information is probably not historical and I will have measurements that I can use for predictions as well as terms to use for topic modelling and text classification."
   ]
  },
  {
   "cell_type": "markdown",
   "metadata": {},
   "source": [
    "## Frequency of 'patient' mentions in documents"
   ]
  },
  {
   "cell_type": "code",
   "execution_count": null,
   "metadata": {},
   "outputs": [],
   "source": [
    "patient=pd.DataFrame(big[(big['token'].str.lower()=='patient')|(big['token'].str.lower()=='patients')]).reset_index(drop=True)"
   ]
  },
  {
   "cell_type": "code",
   "execution_count": null,
   "metadata": {},
   "outputs": [],
   "source": [
    "patients=patient.groupby(['docid'])['token'].count()\n",
    "patients=patients.reset_index()\n",
    "patients=patients.rename(columns={'token':'counts'})\n",
    "len(patients)"
   ]
  },
  {
   "cell_type": "code",
   "execution_count": null,
   "metadata": {},
   "outputs": [],
   "source": [
    "sns.boxplot(patients['counts'])\n",
    "plt.title('Frequency of Patient Mentions in 1568 Documents',fontsize=14)"
   ]
  },
  {
   "cell_type": "markdown",
   "metadata": {},
   "source": [
    "## Frequency of 'case report' mentions in documents"
   ]
  },
  {
   "cell_type": "code",
   "execution_count": null,
   "metadata": {},
   "outputs": [],
   "source": [
    "case=pd.DataFrame(big[(big['section'].str.lower()=='case report')|(big['section']=='case study')|(big['chunks'].str.lower()=='case report')|(big['chunks'].str.lower()=='case study')|(big['section'].str.lower()=='case reports')|(big['section']=='case studies')|(big['chunks'].str.lower()=='case reports')|(big['chunks'].str.lower()=='case studies')]).reset_index(drop=True)"
   ]
  },
  {
   "cell_type": "code",
   "execution_count": null,
   "metadata": {},
   "outputs": [],
   "source": [
    "cases=case.groupby(['docid'])['section'].count()\n",
    "cases=cases.reset_index()\n",
    "cases=cases.rename(columns={'section':'counts'})\n",
    "len(cases)"
   ]
  },
  {
   "cell_type": "code",
   "execution_count": null,
   "metadata": {},
   "outputs": [],
   "source": [
    "sns.boxplot(cases['counts'])\n",
    "plt.title('Frequency of Case Report/Study Mentions in 78 Documents',fontsize=14)"
   ]
  },
  {
   "cell_type": "markdown",
   "metadata": {},
   "source": [
    "78 documents refer to case reports a median of about 550 times (The average document length is about 30,000 words.) I think I will have enough patient data to attempt some predictions."
   ]
  },
  {
   "cell_type": "code",
   "execution_count": null,
   "metadata": {},
   "outputs": [],
   "source": [
    "artlist=kag['Study']\n",
    "pres=[]\n",
    "doc=[]\n",
    "for i in os.listdir('document_parses/pdf_json'):\n",
    "    with open('document_parses/pdf_json/'+i) as json_file:\n",
    "        data = json.load(json_file)\n",
    "        if data['metadata']['title'] in list(artlist):\n",
    "            for c,j in enumerate(data['body_text']):\n",
    "            \n",
    "          \n",
    "                row=[i,data['metadata']['title'],data['body_text'][c]['section'],data['body_text'][c]['text']]\n",
    "                doc.append(row)\n",
    "\n",
    "            pres.append(doc)\n",
    "                    \n",
    "            "
   ]
  },
  {
   "cell_type": "code",
   "execution_count": null,
   "metadata": {},
   "outputs": [],
   "source": [
    "jsons=[j[0] for i in pres for j in i]\n",
    "titles=[j[1] for i in pres for j in i]\n",
    "sections=[j[2].lower() for i in pres for j in i]\n",
    "text=[j[1].lower()+'.  '+j[2].lower()+'.  '+j[3].lower() for i in pres for j in i]\n",
    "pres2=pd.DataFrame(None,columns=['jsons','titles','sections','text'])"
   ]
  },
  {
   "cell_type": "code",
   "execution_count": null,
   "metadata": {},
   "outputs": [],
   "source": [
    "pres2['jsons']=jsons\n",
    "pres2['titles']=titles\n",
    "pres2['section']=sections\n",
    "pres2['text']=text"
   ]
  },
  {
   "cell_type": "code",
   "execution_count": null,
   "metadata": {},
   "outputs": [],
   "source": [
    "pres2.head(1)"
   ]
  },
  {
   "cell_type": "code",
   "execution_count": null,
   "metadata": {},
   "outputs": [],
   "source": [
    "case=pd.DataFrame(pres2[(pd.Series(pres2['section']).str.contains('case report'))|(pd.Series(pres2['section']).str.contains('case study'))|(pd.Series(pres2['text']).str.contains('case report'))|(pd.Series(pres2['text']).str.contains('case study'))|(pd.Series(pres2['section']).str.contains('case reports'))|(pd.Series(pres2['section']).str.contains('case studies'))|(pd.Series(pres2['text']).str.contains('case reports'))|(pd.Series(pres2['text']).str.contains('case studies'))]).reset_index(drop=True)"
   ]
  },
  {
   "cell_type": "code",
   "execution_count": null,
   "metadata": {},
   "outputs": [],
   "source": [
    "case.head()"
   ]
  },
  {
   "cell_type": "code",
   "execution_count": null,
   "metadata": {},
   "outputs": [],
   "source": [
    "len(case)"
   ]
  },
  {
   "cell_type": "code",
   "execution_count": null,
   "metadata": {},
   "outputs": [],
   "source": [
    "case['jsons'].nunique()"
   ]
  },
  {
   "cell_type": "code",
   "execution_count": null,
   "metadata": {},
   "outputs": [],
   "source": [
    "case['titles'].value_counts()"
   ]
  },
  {
   "cell_type": "code",
   "execution_count": null,
   "metadata": {},
   "outputs": [],
   "source": []
  }
 ],
 "metadata": {
  "kernelspec": {
   "display_name": "Python 3",
   "language": "python",
   "name": "python3"
  },
  "language_info": {
   "codemirror_mode": {
    "name": "ipython",
    "version": 3
   },
   "file_extension": ".py",
   "mimetype": "text/x-python",
   "name": "python",
   "nbconvert_exporter": "python",
   "pygments_lexer": "ipython3",
   "version": "3.7.9"
  }
 },
 "nbformat": 4,
 "nbformat_minor": 4
}
