{
 "cells": [
  {
   "cell_type": "markdown",
   "metadata": {},
   "source": [
    "# COVID-19 OPEN RESEARCH DATASET"
   ]
  },
  {
   "cell_type": "code",
   "execution_count": 1,
   "metadata": {},
   "outputs": [],
   "source": [
    "import os\n",
    "import json\n",
    "import pandas as pd"
   ]
  },
  {
   "cell_type": "code",
   "execution_count": 2,
   "metadata": {},
   "outputs": [
    {
     "name": "stdout",
     "output_type": "stream",
     "text": [
      "/home/myilmaz/devel/covid551982_1475446_bundle_archive\n"
     ]
    }
   ],
   "source": [
    "%cd '/home/myilmaz/devel/covid551982_1475446_bundle_archive/'"
   ]
  },
  {
   "cell_type": "markdown",
   "metadata": {},
   "source": [
    "## Papers  researching chronic kidney disease as a comorbidity risk"
   ]
  },
  {
   "cell_type": "code",
   "execution_count": 3,
   "metadata": {},
   "outputs": [],
   "source": [
    "kags=pd.DataFrame(None)\n",
    "for i in os.listdir('Kaggle/target_tables/8_risk_factors/'):\n",
    "    kag=pd.read_csv('Kaggle/target_tables/8_risk_factors/'+i)\n",
    "    kags=kags.append(kag)"
   ]
  },
  {
   "cell_type": "code",
   "execution_count": 4,
   "metadata": {},
   "outputs": [
    {
     "data": {
      "text/html": [
       "<div>\n",
       "<style scoped>\n",
       "    .dataframe tbody tr th:only-of-type {\n",
       "        vertical-align: middle;\n",
       "    }\n",
       "\n",
       "    .dataframe tbody tr th {\n",
       "        vertical-align: top;\n",
       "    }\n",
       "\n",
       "    .dataframe thead th {\n",
       "        text-align: right;\n",
       "    }\n",
       "</style>\n",
       "<table border=\"1\" class=\"dataframe\">\n",
       "  <thead>\n",
       "    <tr style=\"text-align: right;\">\n",
       "      <th></th>\n",
       "      <th>Unnamed: 0</th>\n",
       "      <th>Date</th>\n",
       "      <th>Study</th>\n",
       "      <th>Study Link</th>\n",
       "      <th>Journal</th>\n",
       "      <th>Severe</th>\n",
       "      <th>Severe lower bound</th>\n",
       "      <th>Severe upper bound</th>\n",
       "      <th>Severe p-value</th>\n",
       "      <th>Severe Significant</th>\n",
       "      <th>...</th>\n",
       "      <th>Fatality Calculated</th>\n",
       "      <th>Multivariate adjustment</th>\n",
       "      <th>Study Type</th>\n",
       "      <th>Sample Size</th>\n",
       "      <th>Study Population</th>\n",
       "      <th>Added on</th>\n",
       "      <th>Critical only</th>\n",
       "      <th>Discharged vs. death?</th>\n",
       "      <th>Critical only?</th>\n",
       "      <th>Discharge vs. death?</th>\n",
       "    </tr>\n",
       "  </thead>\n",
       "  <tbody>\n",
       "    <tr>\n",
       "      <th>0</th>\n",
       "      <td>0</td>\n",
       "      <td>2020-06-01</td>\n",
       "      <td>Characteristics and Outcomes of COVID-19 Patie...</td>\n",
       "      <td>http://medrxiv.org/cgi/content/short/2020.05.2...</td>\n",
       "      <td>MedRxiv</td>\n",
       "      <td>NaN</td>\n",
       "      <td>NaN</td>\n",
       "      <td>NaN</td>\n",
       "      <td>NaN</td>\n",
       "      <td>NaN</td>\n",
       "      <td>...</td>\n",
       "      <td>Calculated</td>\n",
       "      <td>NaN</td>\n",
       "      <td>Retrospective observational study</td>\n",
       "      <td>13442</td>\n",
       "      <td>New York City Health and Hospital between Marc...</td>\n",
       "      <td>NaN</td>\n",
       "      <td>N</td>\n",
       "      <td>N</td>\n",
       "      <td>NaN</td>\n",
       "      <td>NaN</td>\n",
       "    </tr>\n",
       "    <tr>\n",
       "      <th>1</th>\n",
       "      <td>1</td>\n",
       "      <td>2020-05-22</td>\n",
       "      <td>Interim Analysis of Risk Factors for Severe Ou...</td>\n",
       "      <td>http://medrxiv.org/cgi/content/short/2020.05.1...</td>\n",
       "      <td>MedRxiv</td>\n",
       "      <td>RR 1.29</td>\n",
       "      <td>1.13</td>\n",
       "      <td>1.47</td>\n",
       "      <td>NaN</td>\n",
       "      <td>Significant</td>\n",
       "      <td>...</td>\n",
       "      <td>Extracted</td>\n",
       "      <td>age, sex, race/ethnicity, smoker, hypertension...</td>\n",
       "      <td>Retrospective observational study</td>\n",
       "      <td>2490</td>\n",
       "      <td>124 counties located in 14 states 113 (Califor...</td>\n",
       "      <td>NaN</td>\n",
       "      <td>Y</td>\n",
       "      <td>N</td>\n",
       "      <td>NaN</td>\n",
       "      <td>NaN</td>\n",
       "    </tr>\n",
       "    <tr>\n",
       "      <th>2</th>\n",
       "      <td>2</td>\n",
       "      <td>2020-05-22</td>\n",
       "      <td>Interim Analysis of Risk Factors for Severe Ou...</td>\n",
       "      <td>http://medrxiv.org/cgi/content/short/2020.05.1...</td>\n",
       "      <td>MedRxiv</td>\n",
       "      <td>RR 1.39</td>\n",
       "      <td>1.22</td>\n",
       "      <td>1.58</td>\n",
       "      <td>NaN</td>\n",
       "      <td>Significant</td>\n",
       "      <td>...</td>\n",
       "      <td>Extracted</td>\n",
       "      <td>NaN</td>\n",
       "      <td>Retrospective observational study</td>\n",
       "      <td>2490</td>\n",
       "      <td>123 counties located in 14 states 113 (Califor...</td>\n",
       "      <td>NaN</td>\n",
       "      <td>Y</td>\n",
       "      <td>N</td>\n",
       "      <td>NaN</td>\n",
       "      <td>NaN</td>\n",
       "    </tr>\n",
       "    <tr>\n",
       "      <th>3</th>\n",
       "      <td>3</td>\n",
       "      <td>2020-05-07</td>\n",
       "      <td>OpenSAFELY: factors associated with COVID-19-r...</td>\n",
       "      <td>http://medrxiv.org/cgi/content/short/2020.05.0...</td>\n",
       "      <td>MedRxiv</td>\n",
       "      <td>NaN</td>\n",
       "      <td>NaN</td>\n",
       "      <td>NaN</td>\n",
       "      <td>NaN</td>\n",
       "      <td>NaN</td>\n",
       "      <td>...</td>\n",
       "      <td>Extracted</td>\n",
       "      <td>age, gender, obesity, smoking status, diabetes...</td>\n",
       "      <td>Retrospective observational study</td>\n",
       "      <td>17,425,445</td>\n",
       "      <td>TPP general practice in England from February ...</td>\n",
       "      <td>NaN</td>\n",
       "      <td>N</td>\n",
       "      <td>N</td>\n",
       "      <td>NaN</td>\n",
       "      <td>NaN</td>\n",
       "    </tr>\n",
       "    <tr>\n",
       "      <th>4</th>\n",
       "      <td>4</td>\n",
       "      <td>2020-04-25</td>\n",
       "      <td>The role of comorbidities and clinical predict...</td>\n",
       "      <td>http://doi.org/10.1101/2020.04.21.20074633</td>\n",
       "      <td>NaN</td>\n",
       "      <td>OR 1.08</td>\n",
       "      <td>0.18</td>\n",
       "      <td>6.26</td>\n",
       "      <td>NaN</td>\n",
       "      <td>Not Significant</td>\n",
       "      <td>...</td>\n",
       "      <td>NaN</td>\n",
       "      <td>NaN</td>\n",
       "      <td>Systematic review and meta-analysis</td>\n",
       "      <td>3 studies</td>\n",
       "      <td>PubMed, Scopus, EMBASE, Web of Science, and Go...</td>\n",
       "      <td>5/6/2020</td>\n",
       "      <td>Y</td>\n",
       "      <td>N</td>\n",
       "      <td>NaN</td>\n",
       "      <td>NaN</td>\n",
       "    </tr>\n",
       "  </tbody>\n",
       "</table>\n",
       "<p>5 rows × 28 columns</p>\n",
       "</div>"
      ],
      "text/plain": [
       "   Unnamed: 0        Date                                              Study  \\\n",
       "0           0  2020-06-01  Characteristics and Outcomes of COVID-19 Patie...   \n",
       "1           1  2020-05-22  Interim Analysis of Risk Factors for Severe Ou...   \n",
       "2           2  2020-05-22  Interim Analysis of Risk Factors for Severe Ou...   \n",
       "3           3  2020-05-07  OpenSAFELY: factors associated with COVID-19-r...   \n",
       "4           4  2020-04-25  The role of comorbidities and clinical predict...   \n",
       "\n",
       "                                          Study Link  Journal   Severe  \\\n",
       "0  http://medrxiv.org/cgi/content/short/2020.05.2...  MedRxiv      NaN   \n",
       "1  http://medrxiv.org/cgi/content/short/2020.05.1...  MedRxiv  RR 1.29   \n",
       "2  http://medrxiv.org/cgi/content/short/2020.05.1...  MedRxiv  RR 1.39   \n",
       "3  http://medrxiv.org/cgi/content/short/2020.05.0...  MedRxiv      NaN   \n",
       "4         http://doi.org/10.1101/2020.04.21.20074633      NaN  OR 1.08   \n",
       "\n",
       "   Severe lower bound  Severe upper bound Severe p-value Severe Significant  \\\n",
       "0                 NaN                 NaN            NaN                NaN   \n",
       "1                1.13                1.47            NaN        Significant   \n",
       "2                1.22                1.58            NaN        Significant   \n",
       "3                 NaN                 NaN            NaN                NaN   \n",
       "4                0.18                6.26            NaN    Not Significant   \n",
       "\n",
       "   ... Fatality Calculated                            Multivariate adjustment  \\\n",
       "0  ...          Calculated                                                NaN   \n",
       "1  ...           Extracted  age, sex, race/ethnicity, smoker, hypertension...   \n",
       "2  ...           Extracted                                                NaN   \n",
       "3  ...           Extracted  age, gender, obesity, smoking status, diabetes...   \n",
       "4  ...                 NaN                                                NaN   \n",
       "\n",
       "                            Study Type  Sample Size  \\\n",
       "0    Retrospective observational study        13442   \n",
       "1    Retrospective observational study         2490   \n",
       "2    Retrospective observational study         2490   \n",
       "3    Retrospective observational study   17,425,445   \n",
       "4  Systematic review and meta-analysis    3 studies   \n",
       "\n",
       "                                    Study Population  Added on Critical only  \\\n",
       "0  New York City Health and Hospital between Marc...       NaN             N   \n",
       "1  124 counties located in 14 states 113 (Califor...       NaN             Y   \n",
       "2  123 counties located in 14 states 113 (Califor...       NaN             Y   \n",
       "3  TPP general practice in England from February ...       NaN             N   \n",
       "4  PubMed, Scopus, EMBASE, Web of Science, and Go...  5/6/2020             Y   \n",
       "\n",
       "  Discharged vs. death? Critical only? Discharge vs. death?  \n",
       "0                     N            NaN                  NaN  \n",
       "1                     N            NaN                  NaN  \n",
       "2                     N            NaN                  NaN  \n",
       "3                     N            NaN                  NaN  \n",
       "4                     N            NaN                  NaN  \n",
       "\n",
       "[5 rows x 28 columns]"
      ]
     },
     "execution_count": 4,
     "metadata": {},
     "output_type": "execute_result"
    }
   ],
   "source": [
    "kags.head()"
   ]
  },
  {
   "cell_type": "code",
   "execution_count": 5,
   "metadata": {},
   "outputs": [
    {
     "name": "stdout",
     "output_type": "stream",
     "text": [
      "comorbidity.ipynb  covid-Copy1.ipynb  covid.ipynb  \u001b[0m\u001b[01;34mpdf_json\u001b[0m/  \u001b[01;34mpmc_json\u001b[0m/\r\n"
     ]
    }
   ],
   "source": [
    "%ls document_parses"
   ]
  },
  {
   "cell_type": "code",
   "execution_count": 6,
   "metadata": {},
   "outputs": [],
   "source": [
    "keep=['Epidemiology, clinical course, and outcomes of critically ill adults with COVID-19 in New York City: a prospective cohort study','Psychiatric Predictors of COVID-19 Outcomes in a Skilled Nursing Facility Cohort','COVID-19 in Iran, a comprehensive investigation from exposure to treatment outcomes']\n",
    "arts=set(kags['Study'])-set(keep)"
   ]
  },
  {
   "cell_type": "code",
   "execution_count": 7,
   "metadata": {},
   "outputs": [
    {
     "data": {
      "text/plain": [
       "8.634368"
      ]
     },
     "execution_count": 7,
     "metadata": {},
     "output_type": "execute_result"
    }
   ],
   "source": [
    "os.path.getsize('document_parses/pdf_json')/1000000"
   ]
  },
  {
   "cell_type": "code",
   "execution_count": 8,
   "metadata": {},
   "outputs": [
    {
     "name": "stdout",
     "output_type": "stream",
     "text": [
      "When a nephrology ward becomes a COVID-19 ward: the Cremona experience\n",
      "Prognostic value of NT-proBNP in patients with severe COVID-19\n",
      "Obesity as a risk factor for poor outcome in COVID-19-induced lung injury: the potential role of undiagnosed obstructive sleep apnoea\n",
      "Association between ABO blood groups and clinical outcome of coronavirus disease 2019: Evidence from two cohorts\n",
      "COVID-19 in solid organ transplant recipients: Initial report from the US epicenter\n",
      "Cardiovascular Diseases and COVID-19 Mortality and Intensive Care Unit Admission: A Systematic Review and Meta-analysis\n",
      "Characteristics of COVID-19 infection in Beijing\n",
      "Prediction for Progression Risk in Patients with COVID-19 Pneumonia: the CALL Score\n",
      "Pre-Existing Characteristics Associated with Covid-19 Illness Severity\n",
      "Clinical characteristics of 2019 novel coronavirus infection in China\n",
      "Key to successful treatment of COVID-19: accurate identification of severe risks and early intervention of disease progression\n",
      "Neurological Manifestations of Hospitalized Patients with COVID-19 in Wuhan, China: a retrospective case series study\n",
      "Clinical characteristics of 106 patients with neurological diseases and co-morbid coronavirus disease 2019: a retrospective study\n",
      "COVID-19 in Liver Transplant Recipients: An Initial Experience from the U.S. Epicenter\n",
      "Development and external validation of a prognostic multivariable model on admission for hospitalized patients with COVID-19\n",
      "Characterization of clinical progression of COVID-19 patients in Shenzhen, China\n",
      "The characteristics and death risk factors of 132 COVID-19 pneumonia patients with comorbidities: a retrospective single center analysis in Wuhan, China\n",
      "Factors Associated With Intubation and Prolonged Intubation in Hospitalized Patients With COVID-19\n",
      "Epidemiological, clinical characteristics of cases of SARS-CoV-2 infection with abnormal imaging findings\n",
      "Prediction of the clinical outcome of COVID-19 patients using T lymphocyte subsets with 340 cases from Wuhan, China: a retrospective cohort study and a web visualization tool\n",
      "No Clear Benefit to the Use of Corticosteroid as Treatment in Adult Patients with Coronavirus Disease 2019 : A Retrospective Cohort Study\n",
      "Obesity as a risk factor for greater severity of COVID-19 in patients with metabolic associated fatty liver disease\n",
      "Diabetes is associated with increased risk for in-hospital mortality in patients with COVID-19: a systematic review and meta-analysis comprising 18,506 patients\n",
      "The role of comorbidities and clinical predictors of severe disease in COVID-19: a systematic review and meta-analysis Emails\n",
      "Clinical course and risk factors for mortality of adult inpatients with COVID-19 in Wuhan, China: a retrospective cohort study\n",
      "Clinical course and outcome of 107 patients infected with the novel coronavirus, SARS-CoV-2, discharged from two hospitals in Wuhan, China\n",
      "Hypertension and Renin-Angiotensin-Aldosterone System Inhibitors in Patients with Covid-19\n",
      "Prognostic value of C-reactive protein in patients with COVID-19\n",
      "The relationship of COVID-19 severity with cardiovascular disease and its traditional risk factors: A systematic review and meta-analysis\n",
      "30-day mortality in patients hospitalized with COVID-19 during the first wave of the Italian epidemic: a prospective cohort study\n",
      "The COVID-19 Pandemic: a Call to Action to Identify and Address Racial and Ethnic Disparities\n",
      "Clinical course and risk factors for mortality of adult inpatients with COVID-19 in Wuhan, China: a retrospective cohort study\n",
      "Prognostic value of NT-proBNP in patients with severe COVID-19\n",
      "Early prediction of mortality risk among severe COVID-19 patients using machine learning\n",
      "Neutrophil-to-Lymphocyte Ratio Predicts Severe Illness Patients with 2019 Novel Coronavirus in the Early Stage\n",
      "Prognostic value of C-reactive protein in patients with COVID-19\n",
      "Low dose of hydroxychloroquine reduces fatality of critically ill patients with COVID-19\n",
      "Clinical Characteristics of Covid-19 in New York City\n",
      "COVID-19 with Different Severities: A Multicenter Study of Clinical Features\n",
      "Characteristics and clinical significance of myocardial injury in patients with severe coronavirus disease 2019\n",
      "Impaired type I interferon activity and exacerbated inflammatory responses in severe Covid-19 patients\n",
      "Characterization and Clinical Course of 1000 Patients with COVID-19 in New York: retrospective case series\n",
      "Clinical characteristics, outcomes, and risk factors for mortality in patients with cancer and COVID-19 in Hubei, China: a multicentre, retrospective, cohort study\n",
      "The clinical course and its correlated immune status in COVID-19 pneumonia\n",
      "Clinical determinants for fatality of 44,672 patients with COVID-19\n",
      "Association between comorbidities and the risk of death in patients with COVID-19: sex-specific differences\n",
      "Clinical characteristics and outcomes of patients with severe covid-19 with diabetes\n",
      "Clinical Characteristics and Short-Term Outcomes of Severe Patients with COVID-19 in Wuhan, China\n",
      "Epidemiological and clinical features of COVID-19 patients with and without pneumonia in Beijing, China\n",
      "Risk factors for adverse clinical outcomes in patients with COVID-19: A systematic review and meta-analysis\n",
      "Clinical Characteristics of Coronavirus Disease 2019 in China\n",
      "A New Predictor of Disease Severity in Patients with COVID-19 in Wuhan, China\n",
      "Severe obesity is associated with higher in-hospital mortality in a cohort of patients with COVID-19 in the Bronx, New York\n",
      "Does comorbidity increase the risk of patients with COVID-19: evidence from meta-analysis\n",
      "Clinical progression of patients with COVID-19 in Shanghai, China\n",
      "Obesity as a risk factor for greater severity of COVID-19 in patients with metabolic associated fatty liver disease\n",
      "Phenotypic characteristics and prognosis of inpatients with COVID-19 and diabetes: the CORONADO study\n",
      "Cancer is associated with the severity and mortality of patients with COVID-19: a systematic review and meta-analysis\n",
      "Myocardial injury is associated with in-hospital mortality of confirmed or suspected COVID-19 in Wuhan, China: A single center retrospective cohort study\n",
      "Key predictors of attending hospital with COVID19: An association study from the COVID Symptom Tracker App in 2,618,948 individuals\n",
      "Predicting COVID-19 malignant progression with AI techniques\n",
      "Kidney Allograft Recipients Diagnosed with Coronavirus Disease-2019: A Single Center Report\n",
      "Radiographic Findings and other Predictors in Adults with Covid-19\n",
      "Impact of blood analysis and immune function on the prognosis of patients with COVID-19\n",
      "Severe obesity is associated with higher in-hospital mortality in a cohort of patients with COVID-19 in the Bronx, New York\n",
      "Obesity and COVID-19: an Italian snapshot\n",
      "Plasma albumin levels predict risk for nonsurvivors in critically ill patients with COVID-19\n",
      "Risk Factors of Fatal Outcome in Hospitalized Subjects With Coronavirus Disease 2019 From a Nationwide Analysis in China Q28\n",
      "Prevalence, Severity and Mortality associated with COPD and Smoking in patients with COVID-19: A Rapid Systematic Review and Meta-Analysis\n",
      "Prevalence and severity of corona virus disease 2019 (COVID-19): A systematic review and meta-analysis\n",
      "Multicenter cohort study demonstrates more consolidation in upper lungs on initial CT increases the risk of adverse clinical outcome in COVID-19 patients\n",
      "Clinical features and short-term outcomes of 221 patients with COVID-19 in Wuhan, China\n",
      "Suppressed T cell-mediated immunity in patients with COVID-19: a clinical retrospective study in Wuhan, China First Authors\n",
      "Phenotypic characteristics and prognosis of inpatients with COVID-19 and diabetes: the CORONADO study\n",
      "Prognostic value of NT-proBNP in patients with severe COVID-19\n",
      "Epidemiological and clinical characteristics of 333 confirmed cases with coronavirus disease 2019 in Shanghai, China\n",
      "Comorbid Chronic Diseases and Acute Organ Injuries Are Strongly Correlated with Disease Severity and Mortality among COVID-19 Patients: A Systemic Review and Meta-Analysis\n",
      "Anakinra for severe forms of COVID-19: a cohort study\n",
      "The Use of Adjuvant Therapy in Preventing Progression to Severe Pneumonia in Patients with Coronavirus Disease 2019: A Multicenter Data Analysis\n",
      "The Chronic Kidney Disease and Acute Kidney Injury Involvement in COVID-19 Pandemic: A Systematic Review and Meta-analysis\n"
     ]
    },
    {
     "name": "stdout",
     "output_type": "stream",
     "text": [
      "Characteristics and outcomes of patients hospitalized for COVID-19 and cardiac disease in Northern Italy\n",
      "Association between Cardiovascular Burden and Requirement of Intensive Care among Patients with Mild COVID-19\n",
      "Covid-19 by Race and Ethnicity: A National Cohort Study of 6 Million United States Veterans\n",
      "Phenotypic characteristics and prognosis of inpatients with COVID-19 and diabetes: the CORONADO study\n",
      "Risk Factors Associated with Clinical Outcomes in 323 COVID-19 Patients in Wuhan, China\n",
      "Association between Cardiovascular Burden and Requirement of Intensive Care among Patients with Mild COVID-19\n",
      "Age-adjusted associations between comorbidity and outcomes of COVID-19: a review of the evidence\n",
      "Host susceptibility to severe COVID-19 and establishment of a host risk score: findings of 487 cases outside Wuhan\n",
      "Characteristics of patients with COVID-19 during epidemic ongoing outbreak in Wuhan, China\n",
      "Features of 16,749 hospitalised UK patients with COVID-19 using the ISARIC WHO Clinical Characterisation Protocol\n",
      "Risk factors for severe corona virus disease 2019 (COVID-19) patients : a systematic review and meta analysis\n",
      "Smoking is Associated with COVID-19 Progression: A Meta-Analysis\n",
      "Characteristics and predictors of hospitalization and death in the first 9,519 cases with a positive RT-PCR test for SARS-CoV-2 in Denmark: A nationwide cohort\n",
      "Clinical Characteristics of Coronavirus Disease 2019 in China\n",
      "History of coronary heart disease increases the mortality rate of COVID-19 patients: a nested case-control study\n",
      "Association of the insulin resistance marker TyG index with the severity and mortality of COVID-19\n",
      "Clinical Characteristics, Risk Factors and Outcomes Among the First Consecutive 1,096 Patients Diagnosed with COVID-19: The Kuwait Experience\n",
      "Covid-19 by Race and Ethnicity: A National Cohort Study of 6 Million United States Veterans\n"
     ]
    }
   ],
   "source": [
    "docs=[]\n",
    "alltext=[]\n",
    "for i in os.listdir('document_parses/pdf_json'):\n",
    "    save=0\n",
    "    savee=0\n",
    "\n",
    "    with open('document_parses/pdf_json/'+i) as json_file:\n",
    "        data = json.load(json_file)\n",
    "        if data['metadata']['title'] in list(arts):\n",
    "            print(data['metadata']['title'])\n",
    "            doc=[]\n",
    "            text=''\n",
    "            for c,j in enumerate(data['body_text']):\n",
    "            \n",
    "          \n",
    "                row=[i,data['metadata']['title'],data['body_text'][c]['section'],data['body_text'][c]['text']]\n",
    "\n",
    "                doc.append(row)\n",
    "                text+=data['body_text'][c]['text']\n",
    "            \n",
    "            if doc not in docs:\n",
    "                docs.append(doc)\n",
    "                alltext.append(text)\n",
    "        else:\n",
    "            pass"
   ]
  },
  {
   "cell_type": "code",
   "execution_count": 10,
   "metadata": {},
   "outputs": [],
   "source": [
    "jsons=[j[0] for i in docs for j in i]\n",
    "titles=[j[1] for i in docs for j in i]\n",
    "sections=[j[2] for i in docs for j in i]\n",
    "text=[j[1]+'.  '+j[2]+'.  '+j[3] for i in docs for j in i]\n",
    "creats=pd.DataFrame(None,columns=['jsons','titles','sections','text'])"
   ]
  },
  {
   "cell_type": "code",
   "execution_count": 11,
   "metadata": {},
   "outputs": [],
   "source": [
    "creats=pd.DataFrame(None,columns=['jsons','titles','sections','text'])\n",
    "creats.jsons=jsons\n",
    "creats.titles=titles\n",
    "creats.sections=sections\n",
    "creats.text=text"
   ]
  },
  {
   "cell_type": "code",
   "execution_count": 12,
   "metadata": {},
   "outputs": [
    {
     "data": {
      "text/plain": [
       "98"
      ]
     },
     "execution_count": 12,
     "metadata": {},
     "output_type": "execute_result"
    }
   ],
   "source": [
    "docs=creats.copy(deep=True)\n",
    "docs.drop_duplicates(keep='first',inplace=True)\n",
    "# NUMBER OF UNIQUE DOCUMENTS IN THE DATA SET\n",
    "docs['jsons'].nunique()\n"
   ]
  },
  {
   "cell_type": "code",
   "execution_count": 13,
   "metadata": {},
   "outputs": [],
   "source": [
    "docs.to_csv('comorbids.csv')\n",
    "docs=pd.read_csv('comorbids.csv')"
   ]
  },
  {
   "cell_type": "code",
   "execution_count": 14,
   "metadata": {},
   "outputs": [
    {
     "name": "stdout",
     "output_type": "stream",
     "text": [
      "Average document length is 16896.051020408162 words\n"
     ]
    }
   ],
   "source": [
    "import numpy as np\n",
    "np.min([len(i) for i in alltext])\n",
    "np.max([len(i) for i in alltext])\n",
    "\n",
    "print('Average document length is {} words'.format(np.mean([len(i) for i in alltext])))\n"
   ]
  },
  {
   "cell_type": "markdown",
   "metadata": {},
   "source": [
    "## Use pretrained NER model to find Problems, Tests, and Treatments"
   ]
  },
  {
   "cell_type": "code",
   "execution_count": 15,
   "metadata": {},
   "outputs": [
    {
     "name": "stdout",
     "output_type": "stream",
     "text": [
      "\u001b[33mWARNING: You are using pip version 20.1; however, version 20.2.4 is available.\n",
      "You should consider upgrading via the '/home/myilmaz/devel/mag/notebooks/3.7env/bin/python -m pip install --upgrade pip' command.\u001b[0m\n",
      "\u001b[31mERROR: spark-nlp-jsl 2.5.4rc4 has requirement spark-nlp==2.5.4, but you'll have spark-nlp 2.5.0 which is incompatible.\u001b[0m\n",
      "\u001b[33mWARNING: You are using pip version 20.1; however, version 20.2.4 is available.\n",
      "You should consider upgrading via the '/home/myilmaz/devel/mag/notebooks/3.7env/bin/python -m pip install --upgrade pip' command.\u001b[0m\n",
      "2.5.0\n"
     ]
    }
   ],
   "source": [
    "import os\n",
    "\n",
    "\n",
    "import pyspark.sql.functions as F\n",
    "from pyspark.sql.functions import monotonically_increasing_id\n",
    "import json\n",
    "import os\n",
    "from pyspark.ml import Pipeline\n",
    "from pyspark.sql import SparkSession\n",
    "\n",
    "\n",
    "from sparknlp.annotator import *\n",
    "\n",
    "from sparknlp.base import *\n",
    "\n",
    "# Install pyspark\n",
    "! pip install --ignore-installed -q pyspark==2.4.4\n",
    "\n",
    "\n",
    "# Install Spark NLP\n",
    "! pip install --ignore-installed -q spark-nlp==2.5\n",
    "\n",
    "\n",
    "import sparknlp\n",
    "\n",
    "print (sparknlp.version())\n",
    "\n",
    "import json\n",
    "import os\n",
    "from pyspark.ml import Pipeline\n",
    "from pyspark.sql import SparkSession\n",
    "from sparknlp.annotator import *\n",
    "\n",
    "from sparknlp.base import *\n",
    "\n",
    "from pyspark.sql.functions import monotonically_increasing_id\n",
    "import pyspark.sql.functions as F\n",
    "import pyspark.sql.types as t\n",
    "\n",
    "\n"
   ]
  },
  {
   "cell_type": "code",
   "execution_count": 16,
   "metadata": {},
   "outputs": [],
   "source": [
    "spark=sparknlp.start()"
   ]
  },
  {
   "cell_type": "code",
   "execution_count": 17,
   "metadata": {},
   "outputs": [],
   "source": [
    "docs.fillna('',inplace=True)"
   ]
  },
  {
   "cell_type": "code",
   "execution_count": 18,
   "metadata": {},
   "outputs": [
    {
     "data": {
      "text/html": [
       "<div>\n",
       "<style scoped>\n",
       "    .dataframe tbody tr th:only-of-type {\n",
       "        vertical-align: middle;\n",
       "    }\n",
       "\n",
       "    .dataframe tbody tr th {\n",
       "        vertical-align: top;\n",
       "    }\n",
       "\n",
       "    .dataframe thead th {\n",
       "        text-align: right;\n",
       "    }\n",
       "</style>\n",
       "<table border=\"1\" class=\"dataframe\">\n",
       "  <thead>\n",
       "    <tr style=\"text-align: right;\">\n",
       "      <th></th>\n",
       "      <th>Unnamed: 0</th>\n",
       "      <th>jsons</th>\n",
       "      <th>titles</th>\n",
       "      <th>sections</th>\n",
       "      <th>text</th>\n",
       "    </tr>\n",
       "  </thead>\n",
       "  <tbody>\n",
       "    <tr>\n",
       "      <th>0</th>\n",
       "      <td>0</td>\n",
       "      <td>5111c718f426624c7bcb8f11d7137177f6e85bf3.json</td>\n",
       "      <td>When a nephrology ward becomes a COVID-19 ward...</td>\n",
       "      <td></td>\n",
       "      <td>When a nephrology ward becomes a COVID-19 ward...</td>\n",
       "    </tr>\n",
       "  </tbody>\n",
       "</table>\n",
       "</div>"
      ],
      "text/plain": [
       "   Unnamed: 0                                          jsons  \\\n",
       "0           0  5111c718f426624c7bcb8f11d7137177f6e85bf3.json   \n",
       "\n",
       "                                              titles sections  \\\n",
       "0  When a nephrology ward becomes a COVID-19 ward...            \n",
       "\n",
       "                                                text  \n",
       "0  When a nephrology ward becomes a COVID-19 ward...  "
      ]
     },
     "execution_count": 18,
     "metadata": {},
     "output_type": "execute_result"
    }
   ],
   "source": [
    "docs.head(1)"
   ]
  },
  {
   "cell_type": "code",
   "execution_count": 19,
   "metadata": {},
   "outputs": [],
   "source": [
    "sparkdocs=spark.createDataFrame(docs).toDF('index','docid','title','section','sectionNo','text')"
   ]
  },
  {
   "cell_type": "code",
   "execution_count": 20,
   "metadata": {},
   "outputs": [],
   "source": [
    "document_assembler = DocumentAssembler() \\\n",
    "        .setInputCol(\"text\")\\\n",
    "        .setOutputCol('document')\n",
    "    \n",
    "sentence_detector = SentenceDetector() \\\n",
    "        .setInputCols([\"document\"]) \\\n",
    "        .setOutputCol(\"sentence\")\n",
    "\n",
    "tokenizer = Tokenizer() \\\n",
    "        .setInputCols([\"sentence\"]) \\\n",
    "        .setOutputCol(\"token\")\n",
    "\n",
    "word_embeddings = WordEmbeddingsModel.load(\"/home/myilmaz/cache_pretrained/embeddings_clinical_en_2.4.0_2.4_1580237286004\")\\\n",
    "  .setInputCols([\"sentence\", \"token\"])\\\n",
    "  .setOutputCol(\"embeddings\")\n",
    "clinical_ner = NerDLModel.load('/home/myilmaz/cache_pretrained/ner_clinical_en_2.4.0_2.4_1580237286004') \\\n",
    "        .setInputCols([\"sentence\", \"token\", \"embeddings\"]) \\\n",
    "        .setOutputCol(\"ner\")\n",
    "ner_converter = NerConverter() \\\n",
    "  .setInputCols([\"sentence\", \"token\", \"ner\"]) \\\n",
    "  .setOutputCol(\"ner_chunk\")\n",
    "nlpPipeline = Pipeline(stages=[document_assembler,sentence_detector,tokenizer,\n",
    "    word_embeddings,\n",
    "    clinical_ner,ner_converter\n",
    "    ])\n",
    "\n",
    "\n",
    "empty_data = spark.createDataFrame([[\"\"]]).toDF(\"text\")\n",
    "\n",
    "model = nlpPipeline.fit(empty_data)\n"
   ]
  },
  {
   "cell_type": "code",
   "execution_count": 21,
   "metadata": {},
   "outputs": [],
   "source": [
    "results=model.transform(sparkdocs)"
   ]
  },
  {
   "cell_type": "code",
   "execution_count": 22,
   "metadata": {},
   "outputs": [
    {
     "data": {
      "text/plain": [
       "['index',\n",
       " 'docid',\n",
       " 'title',\n",
       " 'section',\n",
       " 'text',\n",
       " 'document',\n",
       " 'sentence',\n",
       " 'token',\n",
       " 'embeddings',\n",
       " 'ner',\n",
       " 'ner_chunk']"
      ]
     },
     "execution_count": 22,
     "metadata": {},
     "output_type": "execute_result"
    }
   ],
   "source": [
    "results.columns"
   ]
  },
  {
   "cell_type": "code",
   "execution_count": 23,
   "metadata": {},
   "outputs": [],
   "source": [
    "exploded = results.select('docid','section','sectionNo',F.explode(F.arrays_zip('token.metadata','token.result','ner.result')).alias(\"cols\")) \\\n",
    "        .select('docid','section',F.expr(\"cols['0'].sentence\").alias(\"sentid\"),\n",
    "        F.col('cols.1').alias(\"token\"),F.col('cols.2').alias(\"label\"))"
   ]
  },
  {
   "cell_type": "markdown",
   "metadata": {},
   "source": [
    "## Save annotated documents for further analysis"
   ]
  },
  {
   "cell_type": "code",
   "execution_count": 26,
   "metadata": {
    "scrolled": true
   },
   "outputs": [],
   "source": [
    "exploded.write.option(\"header\", \"true\").csv(\"comorbids2.csv\")"
   ]
  },
  {
   "cell_type": "code",
   "execution_count": 27,
   "metadata": {},
   "outputs": [
    {
     "data": {
      "text/plain": [
       "'part-00003-21964242-2911-42c3-832d-aca49b1ae235-c000.csv'"
      ]
     },
     "execution_count": 27,
     "metadata": {},
     "output_type": "execute_result"
    }
   ],
   "source": [
    "os.listdir('comorbids2.csv')[0]"
   ]
  },
  {
   "cell_type": "code",
   "execution_count": 28,
   "metadata": {},
   "outputs": [],
   "source": [
    "import pyspark.sql.types as t\n",
    "myschema = t.StructType(\n",
    "   [\n",
    "    t.StructField('docid', t.StringType(), True),\n",
    "    t.StructField('section', t.StringType(), True),\n",
    "    t.StructField('sentid', t.IntegerType(), True),\n",
    "    t.StructField('token', t.StringType(), True),\n",
    "    t.StructField('label', t.StringType(), True)\n",
    "\n",
    "   ]\n",
    "  )"
   ]
  },
  {
   "cell_type": "code",
   "execution_count": 29,
   "metadata": {},
   "outputs": [],
   "source": [
    "csvs=os.listdir('comorbids2.csv')\n",
    "big=pd.DataFrame(None)\n",
    "for i in csvs:\n",
    "    \n",
    "    dfs=spark.read.csv('comorbids2.csv/'+i,sep=',',schema=myschema,header=True)\n",
    "    one=dfs.toPandas()\n",
    "    big=big.append(one)"
   ]
  },
  {
   "cell_type": "code",
   "execution_count": 30,
   "metadata": {},
   "outputs": [
    {
     "data": {
      "text/html": [
       "<div>\n",
       "<style scoped>\n",
       "    .dataframe tbody tr th:only-of-type {\n",
       "        vertical-align: middle;\n",
       "    }\n",
       "\n",
       "    .dataframe tbody tr th {\n",
       "        vertical-align: top;\n",
       "    }\n",
       "\n",
       "    .dataframe thead th {\n",
       "        text-align: right;\n",
       "    }\n",
       "</style>\n",
       "<table border=\"1\" class=\"dataframe\">\n",
       "  <thead>\n",
       "    <tr style=\"text-align: right;\">\n",
       "      <th></th>\n",
       "      <th>docid</th>\n",
       "      <th>section</th>\n",
       "      <th>sentid</th>\n",
       "      <th>token</th>\n",
       "      <th>label</th>\n",
       "    </tr>\n",
       "  </thead>\n",
       "  <tbody>\n",
       "    <tr>\n",
       "      <th>0</th>\n",
       "      <td>dbdc9a54181e01c796a26bfffd1bbf423c863407.json</td>\n",
       "      <td>Background</td>\n",
       "      <td>0</td>\n",
       "      <td>Clinical</td>\n",
       "      <td>O</td>\n",
       "    </tr>\n",
       "    <tr>\n",
       "      <th>1</th>\n",
       "      <td>dbdc9a54181e01c796a26bfffd1bbf423c863407.json</td>\n",
       "      <td>Background</td>\n",
       "      <td>0</td>\n",
       "      <td>course</td>\n",
       "      <td>O</td>\n",
       "    </tr>\n",
       "    <tr>\n",
       "      <th>2</th>\n",
       "      <td>dbdc9a54181e01c796a26bfffd1bbf423c863407.json</td>\n",
       "      <td>Background</td>\n",
       "      <td>0</td>\n",
       "      <td>and</td>\n",
       "      <td>O</td>\n",
       "    </tr>\n",
       "    <tr>\n",
       "      <th>3</th>\n",
       "      <td>dbdc9a54181e01c796a26bfffd1bbf423c863407.json</td>\n",
       "      <td>Background</td>\n",
       "      <td>0</td>\n",
       "      <td>outcome</td>\n",
       "      <td>O</td>\n",
       "    </tr>\n",
       "    <tr>\n",
       "      <th>4</th>\n",
       "      <td>dbdc9a54181e01c796a26bfffd1bbf423c863407.json</td>\n",
       "      <td>Background</td>\n",
       "      <td>0</td>\n",
       "      <td>of</td>\n",
       "      <td>O</td>\n",
       "    </tr>\n",
       "  </tbody>\n",
       "</table>\n",
       "</div>"
      ],
      "text/plain": [
       "                                           docid     section  sentid  \\\n",
       "0  dbdc9a54181e01c796a26bfffd1bbf423c863407.json  Background       0   \n",
       "1  dbdc9a54181e01c796a26bfffd1bbf423c863407.json  Background       0   \n",
       "2  dbdc9a54181e01c796a26bfffd1bbf423c863407.json  Background       0   \n",
       "3  dbdc9a54181e01c796a26bfffd1bbf423c863407.json  Background       0   \n",
       "4  dbdc9a54181e01c796a26bfffd1bbf423c863407.json  Background       0   \n",
       "\n",
       "      token label  \n",
       "0  Clinical     O  \n",
       "1    course     O  \n",
       "2       and     O  \n",
       "3   outcome     O  \n",
       "4        of     O  "
      ]
     },
     "execution_count": 30,
     "metadata": {},
     "output_type": "execute_result"
    }
   ],
   "source": [
    "big.head()"
   ]
  },
  {
   "cell_type": "code",
   "execution_count": 31,
   "metadata": {},
   "outputs": [],
   "source": [
    "import numpy as np\n",
    "\n",
    "tokens=[]\n",
    "savei=''\n",
    "save=0\n",
    "for i,j in zip(big.token,big.label):\n",
    "    if j.split('-')[0]!='I':\n",
    "        if save<0:\n",
    "            tokens[save]=savei\n",
    "            tokens.append(np.nan)\n",
    "            savei=i\n",
    "            save=0\n",
    "            continue\n",
    "        else:\n",
    "            tokens.append(savei)\n",
    "            savei=i\n",
    "            save=0\n",
    "            continue\n",
    "    elif j.split('-')[0]=='I':\n",
    "        savei+=' '+i\n",
    "        save-=1\n",
    "        tokens.append(np.nan)\n",
    "    else:\n",
    "        tokens.append(np.nan)\n",
    "\n",
    "               \n",
    "if save<0:\n",
    "    tokens[save]=savei\n",
    "    tokens.append(np.nan)\n",
    "else:\n",
    "    tokens.append(savei) \n",
    "    \n",
    "tokens=tokens[1:]\n",
    "        "
   ]
  },
  {
   "cell_type": "code",
   "execution_count": 32,
   "metadata": {},
   "outputs": [],
   "source": [
    "big['chunks']=tokens"
   ]
  },
  {
   "cell_type": "code",
   "execution_count": 33,
   "metadata": {},
   "outputs": [],
   "source": [
    "bigdf=big[big['chunks'].notnull()]"
   ]
  },
  {
   "cell_type": "code",
   "execution_count": 34,
   "metadata": {},
   "outputs": [],
   "source": [
    "bigdf=bigdf[bigdf['label']!='O']"
   ]
  },
  {
   "cell_type": "code",
   "execution_count": 35,
   "metadata": {},
   "outputs": [
    {
     "data": {
      "text/plain": [
       "death                                                                                          335\n",
       "diabetes                                                                                       330\n",
       "SARS-CoV-2                                                                                     261\n",
       "hypertension                                                                                   235\n",
       "comorbidities                                                                                  234\n",
       "                                                                                              ... \n",
       "lymphocyte infiltration in lungs                                                                 1\n",
       "honeycomb-like thickening of the interlobular septa and subsegmental areas of consolidation      1\n",
       "an ACEi                                                                                          1\n",
       "current smokers                                                                                  1\n",
       "early studies                                                                                    1\n",
       "Name: chunks, Length: 11777, dtype: int64"
      ]
     },
     "execution_count": 35,
     "metadata": {},
     "output_type": "execute_result"
    }
   ],
   "source": [
    "bigdf['chunks'].value_counts()"
   ]
  },
  {
   "cell_type": "markdown",
   "metadata": {},
   "source": [
    "## Prep for visualizations"
   ]
  },
  {
   "cell_type": "code",
   "execution_count": 36,
   "metadata": {},
   "outputs": [],
   "source": [
    "problems=bigdf[bigdf['label']=='B-PROBLEM']"
   ]
  },
  {
   "cell_type": "code",
   "execution_count": 37,
   "metadata": {},
   "outputs": [],
   "source": [
    "tests=bigdf[bigdf['label']=='B-TEST']"
   ]
  },
  {
   "cell_type": "code",
   "execution_count": 38,
   "metadata": {},
   "outputs": [],
   "source": [
    "#len(problems[problems['chunks']=='proteinuria'])"
   ]
  },
  {
   "cell_type": "code",
   "execution_count": 39,
   "metadata": {},
   "outputs": [],
   "source": [
    "probhist=pd.DataFrame(problems['chunks'].value_counts())\n",
    "probhist=probhist.rename(columns={'chunks':'counts'})\n",
    "probhist2=probhist.iloc[0:100]"
   ]
  },
  {
   "cell_type": "code",
   "execution_count": 40,
   "metadata": {},
   "outputs": [],
   "source": [
    "testhist=pd.DataFrame(tests['chunks'].value_counts())\n",
    "testhist=testhist.rename(columns={'chunks':'counts'})\n",
    "testhist2=testhist.iloc[0:100]"
   ]
  },
  {
   "cell_type": "markdown",
   "metadata": {},
   "source": [
    "## Look at most frequent \"Test\" entities"
   ]
  },
  {
   "cell_type": "code",
   "execution_count": 41,
   "metadata": {},
   "outputs": [
    {
     "data": {
      "text/html": [
       "<div>\n",
       "<style scoped>\n",
       "    .dataframe tbody tr th:only-of-type {\n",
       "        vertical-align: middle;\n",
       "    }\n",
       "\n",
       "    .dataframe tbody tr th {\n",
       "        vertical-align: top;\n",
       "    }\n",
       "\n",
       "    .dataframe thead th {\n",
       "        text-align: right;\n",
       "    }\n",
       "</style>\n",
       "<table border=\"1\" class=\"dataframe\">\n",
       "  <thead>\n",
       "    <tr style=\"text-align: right;\">\n",
       "      <th></th>\n",
       "      <th>counts</th>\n",
       "    </tr>\n",
       "  </thead>\n",
       "  <tbody>\n",
       "    <tr>\n",
       "      <th>this study</th>\n",
       "      <td>220</td>\n",
       "    </tr>\n",
       "    <tr>\n",
       "      <th>our study</th>\n",
       "      <td>150</td>\n",
       "    </tr>\n",
       "    <tr>\n",
       "      <th>the study</th>\n",
       "      <td>115</td>\n",
       "    </tr>\n",
       "    <tr>\n",
       "      <th>studies</th>\n",
       "      <td>113</td>\n",
       "    </tr>\n",
       "    <tr>\n",
       "      <th>CI</th>\n",
       "      <td>111</td>\n",
       "    </tr>\n",
       "    <tr>\n",
       "      <th>meta-analysis</th>\n",
       "      <td>110</td>\n",
       "    </tr>\n",
       "    <tr>\n",
       "      <th>CRP</th>\n",
       "      <td>99</td>\n",
       "    </tr>\n",
       "    <tr>\n",
       "      <th>Statistical analysis</th>\n",
       "      <td>96</td>\n",
       "    </tr>\n",
       "    <tr>\n",
       "      <th>a retrospective cohort study</th>\n",
       "      <td>85</td>\n",
       "    </tr>\n",
       "    <tr>\n",
       "      <th>the CORONADO study</th>\n",
       "      <td>79</td>\n",
       "    </tr>\n",
       "    <tr>\n",
       "      <th>Meta-analysis</th>\n",
       "      <td>70</td>\n",
       "    </tr>\n",
       "    <tr>\n",
       "      <th>ABO blood groups</th>\n",
       "      <td>68</td>\n",
       "    </tr>\n",
       "    <tr>\n",
       "      <th>data</th>\n",
       "      <td>65</td>\n",
       "    </tr>\n",
       "    <tr>\n",
       "      <th>Prognostic value</th>\n",
       "      <td>62</td>\n",
       "    </tr>\n",
       "    <tr>\n",
       "      <th>testing</th>\n",
       "      <td>59</td>\n",
       "    </tr>\n",
       "    <tr>\n",
       "      <th>This study</th>\n",
       "      <td>58</td>\n",
       "    </tr>\n",
       "    <tr>\n",
       "      <th>a nested case-control study</th>\n",
       "      <td>56</td>\n",
       "    </tr>\n",
       "    <tr>\n",
       "      <th>Statistical Analysis</th>\n",
       "      <td>55</td>\n",
       "    </tr>\n",
       "    <tr>\n",
       "      <th>A systematic review</th>\n",
       "      <td>54</td>\n",
       "    </tr>\n",
       "    <tr>\n",
       "      <th>immune function</th>\n",
       "      <td>53</td>\n",
       "    </tr>\n",
       "    <tr>\n",
       "      <th>Early prediction</th>\n",
       "      <td>53</td>\n",
       "    </tr>\n",
       "    <tr>\n",
       "      <th>OR</th>\n",
       "      <td>52</td>\n",
       "    </tr>\n",
       "    <tr>\n",
       "      <th>clinical characteristics</th>\n",
       "      <td>51</td>\n",
       "    </tr>\n",
       "    <tr>\n",
       "      <th>blood analysis</th>\n",
       "      <td>51</td>\n",
       "    </tr>\n",
       "    <tr>\n",
       "      <th>NT-proBNP</th>\n",
       "      <td>51</td>\n",
       "    </tr>\n",
       "    <tr>\n",
       "      <th>BMI</th>\n",
       "      <td>51</td>\n",
       "    </tr>\n",
       "    <tr>\n",
       "      <th>a retrospective study</th>\n",
       "      <td>50</td>\n",
       "    </tr>\n",
       "    <tr>\n",
       "      <th>Prognostic value of C-reactive protein</th>\n",
       "      <td>49</td>\n",
       "    </tr>\n",
       "    <tr>\n",
       "      <th>NLR</th>\n",
       "      <td>48</td>\n",
       "    </tr>\n",
       "    <tr>\n",
       "      <th>external validation</th>\n",
       "      <td>46</td>\n",
       "    </tr>\n",
       "    <tr>\n",
       "      <th>a prospective cohort study</th>\n",
       "      <td>44</td>\n",
       "    </tr>\n",
       "    <tr>\n",
       "      <th>A Multicenter Data Analysis</th>\n",
       "      <td>44</td>\n",
       "    </tr>\n",
       "    <tr>\n",
       "      <th>lactate dehydrogenase</th>\n",
       "      <td>44</td>\n",
       "    </tr>\n",
       "    <tr>\n",
       "      <th>A Systematic Review</th>\n",
       "      <td>44</td>\n",
       "    </tr>\n",
       "    <tr>\n",
       "      <th>C-reactive protein</th>\n",
       "      <td>43</td>\n",
       "    </tr>\n",
       "    <tr>\n",
       "      <th>CT</th>\n",
       "      <td>43</td>\n",
       "    </tr>\n",
       "    <tr>\n",
       "      <th>D-dimer</th>\n",
       "      <td>42</td>\n",
       "    </tr>\n",
       "    <tr>\n",
       "      <th>the data</th>\n",
       "      <td>41</td>\n",
       "    </tr>\n",
       "    <tr>\n",
       "      <th>procalcitonin</th>\n",
       "      <td>41</td>\n",
       "    </tr>\n",
       "    <tr>\n",
       "      <th>lymphocyte count</th>\n",
       "      <td>40</td>\n",
       "    </tr>\n",
       "  </tbody>\n",
       "</table>\n",
       "</div>"
      ],
      "text/plain": [
       "                                        counts\n",
       "this study                                 220\n",
       "our study                                  150\n",
       "the study                                  115\n",
       "studies                                    113\n",
       "CI                                         111\n",
       "meta-analysis                              110\n",
       "CRP                                         99\n",
       "Statistical analysis                        96\n",
       "a retrospective cohort study                85\n",
       "the CORONADO study                          79\n",
       "Meta-analysis                               70\n",
       "ABO blood groups                            68\n",
       "data                                        65\n",
       "Prognostic value                            62\n",
       "testing                                     59\n",
       "This study                                  58\n",
       "a nested case-control study                 56\n",
       "Statistical Analysis                        55\n",
       "A systematic review                         54\n",
       "immune function                             53\n",
       "Early prediction                            53\n",
       "OR                                          52\n",
       "clinical characteristics                    51\n",
       "blood analysis                              51\n",
       "NT-proBNP                                   51\n",
       "BMI                                         51\n",
       "a retrospective study                       50\n",
       "Prognostic value of C-reactive protein      49\n",
       "NLR                                         48\n",
       "external validation                         46\n",
       "a prospective cohort study                  44\n",
       "A Multicenter Data Analysis                 44\n",
       "lactate dehydrogenase                       44\n",
       "A Systematic Review                         44\n",
       "C-reactive protein                          43\n",
       "CT                                          43\n",
       "D-dimer                                     42\n",
       "the data                                    41\n",
       "procalcitonin                               41\n",
       "lymphocyte count                            40"
      ]
     },
     "execution_count": 41,
     "metadata": {},
     "output_type": "execute_result"
    }
   ],
   "source": [
    "testhist2.head(40)"
   ]
  },
  {
   "cell_type": "code",
   "execution_count": 42,
   "metadata": {},
   "outputs": [
    {
     "data": {
      "image/png": "[encoded data removed]",
      "text/plain": [
       "<Figure size 1728x864 with 1 Axes>"
      ]
     },
     "metadata": {
      "needs_background": "light"
     },
     "output_type": "display_data"
    }
   ],
   "source": [
    "import matplotlib.pyplot as plt\n",
    "import seaborn as sns\n",
    "fig, ax = plt.subplots(figsize =(24,12))\n",
    "chart=sns.barplot(testhist2.index,testhist2['counts'])\n",
    "chart.set_xticklabels(testhist2.index,rotation=90)\n",
    "plt.title('Test Entities',fontsize=18)\n",
    "plt.show()"
   ]
  },
  {
   "cell_type": "markdown",
   "metadata": {},
   "source": [
    "The pretrained model is returning a lot of false positive for Test entities, but you can still see that kidney related tests such as \"creatinine\" are well represented in the dataset."
   ]
  },
  {
   "cell_type": "markdown",
   "metadata": {},
   "source": [
    "## Look at most frequent \"Problem\" entities"
   ]
  },
  {
   "cell_type": "code",
   "execution_count": 43,
   "metadata": {},
   "outputs": [
    {
     "data": {
      "text/html": [
       "<div>\n",
       "<style scoped>\n",
       "    .dataframe tbody tr th:only-of-type {\n",
       "        vertical-align: middle;\n",
       "    }\n",
       "\n",
       "    .dataframe tbody tr th {\n",
       "        vertical-align: top;\n",
       "    }\n",
       "\n",
       "    .dataframe thead th {\n",
       "        text-align: right;\n",
       "    }\n",
       "</style>\n",
       "<table border=\"1\" class=\"dataframe\">\n",
       "  <thead>\n",
       "    <tr style=\"text-align: right;\">\n",
       "      <th></th>\n",
       "      <th>counts</th>\n",
       "    </tr>\n",
       "  </thead>\n",
       "  <tbody>\n",
       "    <tr>\n",
       "      <th>death</th>\n",
       "      <td>330</td>\n",
       "    </tr>\n",
       "    <tr>\n",
       "      <th>diabetes</th>\n",
       "      <td>328</td>\n",
       "    </tr>\n",
       "    <tr>\n",
       "      <th>hypertension</th>\n",
       "      <td>235</td>\n",
       "    </tr>\n",
       "    <tr>\n",
       "      <th>SARS-CoV-2</th>\n",
       "      <td>235</td>\n",
       "    </tr>\n",
       "    <tr>\n",
       "      <th>comorbidities</th>\n",
       "      <td>232</td>\n",
       "    </tr>\n",
       "    <tr>\n",
       "      <th>pneumonia</th>\n",
       "      <td>148</td>\n",
       "    </tr>\n",
       "    <tr>\n",
       "      <th>coronavirus disease</th>\n",
       "      <td>146</td>\n",
       "    </tr>\n",
       "    <tr>\n",
       "      <th>severe COVID-19</th>\n",
       "      <td>137</td>\n",
       "    </tr>\n",
       "    <tr>\n",
       "      <th>fever</th>\n",
       "      <td>137</td>\n",
       "    </tr>\n",
       "    <tr>\n",
       "      <th>obesity</th>\n",
       "      <td>132</td>\n",
       "    </tr>\n",
       "    <tr>\n",
       "      <th>comorbidity</th>\n",
       "      <td>121</td>\n",
       "    </tr>\n",
       "    <tr>\n",
       "      <th>cancer</th>\n",
       "      <td>117</td>\n",
       "    </tr>\n",
       "    <tr>\n",
       "      <th>ARDS</th>\n",
       "      <td>108</td>\n",
       "    </tr>\n",
       "    <tr>\n",
       "      <th>symptoms</th>\n",
       "      <td>101</td>\n",
       "    </tr>\n",
       "    <tr>\n",
       "      <th>coronary heart disease</th>\n",
       "      <td>100</td>\n",
       "    </tr>\n",
       "    <tr>\n",
       "      <th>SARS-CoV-2 infection</th>\n",
       "      <td>100</td>\n",
       "    </tr>\n",
       "    <tr>\n",
       "      <th>cardiovascular disease</th>\n",
       "      <td>96</td>\n",
       "    </tr>\n",
       "    <tr>\n",
       "      <th>Coronavirus Disease</th>\n",
       "      <td>95</td>\n",
       "    </tr>\n",
       "    <tr>\n",
       "      <th>cough</th>\n",
       "      <td>95</td>\n",
       "    </tr>\n",
       "    <tr>\n",
       "      <th>NT-proBNP</th>\n",
       "      <td>93</td>\n",
       "    </tr>\n",
       "    <tr>\n",
       "      <th>COPD</th>\n",
       "      <td>93</td>\n",
       "    </tr>\n",
       "    <tr>\n",
       "      <th>mortality</th>\n",
       "      <td>88</td>\n",
       "    </tr>\n",
       "    <tr>\n",
       "      <th>severe disease</th>\n",
       "      <td>84</td>\n",
       "    </tr>\n",
       "    <tr>\n",
       "      <th>the severity</th>\n",
       "      <td>81</td>\n",
       "    </tr>\n",
       "    <tr>\n",
       "      <th>disease progression</th>\n",
       "      <td>79</td>\n",
       "    </tr>\n",
       "    <tr>\n",
       "      <th>in-hospital death</th>\n",
       "      <td>77</td>\n",
       "    </tr>\n",
       "    <tr>\n",
       "      <th>Severe obesity</th>\n",
       "      <td>76</td>\n",
       "    </tr>\n",
       "    <tr>\n",
       "      <th>higher in-hospital mortality</th>\n",
       "      <td>74</td>\n",
       "    </tr>\n",
       "    <tr>\n",
       "      <th>infected</th>\n",
       "      <td>70</td>\n",
       "    </tr>\n",
       "    <tr>\n",
       "      <th>the disease</th>\n",
       "      <td>67</td>\n",
       "    </tr>\n",
       "    <tr>\n",
       "      <th>SARS</th>\n",
       "      <td>65</td>\n",
       "    </tr>\n",
       "    <tr>\n",
       "      <th>SARS-CoV</th>\n",
       "      <td>63</td>\n",
       "    </tr>\n",
       "    <tr>\n",
       "      <th>infection</th>\n",
       "      <td>62</td>\n",
       "    </tr>\n",
       "    <tr>\n",
       "      <th>AKI</th>\n",
       "      <td>59</td>\n",
       "    </tr>\n",
       "    <tr>\n",
       "      <th>severe covid-19</th>\n",
       "      <td>58</td>\n",
       "    </tr>\n",
       "    <tr>\n",
       "      <th>CVD</th>\n",
       "      <td>57</td>\n",
       "    </tr>\n",
       "    <tr>\n",
       "      <th>COVID-19 severity</th>\n",
       "      <td>54</td>\n",
       "    </tr>\n",
       "    <tr>\n",
       "      <th>dyspnea</th>\n",
       "      <td>53</td>\n",
       "    </tr>\n",
       "    <tr>\n",
       "      <th>fatigue</th>\n",
       "      <td>53</td>\n",
       "    </tr>\n",
       "    <tr>\n",
       "      <th>neurological diseases</th>\n",
       "      <td>50</td>\n",
       "    </tr>\n",
       "  </tbody>\n",
       "</table>\n",
       "</div>"
      ],
      "text/plain": [
       "                              counts\n",
       "death                            330\n",
       "diabetes                         328\n",
       "hypertension                     235\n",
       "SARS-CoV-2                       235\n",
       "comorbidities                    232\n",
       "pneumonia                        148\n",
       "coronavirus disease              146\n",
       "severe COVID-19                  137\n",
       "fever                            137\n",
       "obesity                          132\n",
       "comorbidity                      121\n",
       "cancer                           117\n",
       "ARDS                             108\n",
       "symptoms                         101\n",
       "coronary heart disease           100\n",
       "SARS-CoV-2 infection             100\n",
       "cardiovascular disease            96\n",
       "Coronavirus Disease               95\n",
       "cough                             95\n",
       "NT-proBNP                         93\n",
       "COPD                              93\n",
       "mortality                         88\n",
       "severe disease                    84\n",
       "the severity                      81\n",
       "disease progression               79\n",
       "in-hospital death                 77\n",
       "Severe obesity                    76\n",
       "higher in-hospital mortality      74\n",
       "infected                          70\n",
       "the disease                       67\n",
       "SARS                              65\n",
       "SARS-CoV                          63\n",
       "infection                         62\n",
       "AKI                               59\n",
       "severe covid-19                   58\n",
       "CVD                               57\n",
       "COVID-19 severity                 54\n",
       "dyspnea                           53\n",
       "fatigue                           53\n",
       "neurological diseases             50"
      ]
     },
     "execution_count": 43,
     "metadata": {},
     "output_type": "execute_result"
    }
   ],
   "source": [
    "probhist2.head(40)"
   ]
  },
  {
   "cell_type": "code",
   "execution_count": 44,
   "metadata": {
    "scrolled": false
   },
   "outputs": [
    {
     "data": {
      "image/png": "[encoded data removed]",
      "text/plain": [
       "<Figure size 1728x864 with 1 Axes>"
      ]
     },
     "metadata": {
      "needs_background": "light"
     },
     "output_type": "display_data"
    }
   ],
   "source": [
    "import seaborn as sns\n",
    "import seaborn as sns\n",
    "fig, ax = plt.subplots(figsize =(24,12))\n",
    "chart=sns.barplot(probhist2.index,probhist2['counts'])\n",
    "chart.set_xticklabels(probhist2.index,rotation=90)\n",
    "plt.title('Problem Entities',fontsize=18)\n",
    "plt.show()"
   ]
  },
  {
   "cell_type": "markdown",
   "metadata": {},
   "source": [
    "You can see that kidney related problems such as \"AKI\" are well represented in the dataset."
   ]
  },
  {
   "cell_type": "markdown",
   "metadata": {},
   "source": [
    "## Find 'Test' entities near the most frequent kidney related 'Problem' entity"
   ]
  },
  {
   "cell_type": "code",
   "execution_count": 22,
   "metadata": {},
   "outputs": [],
   "source": [
    "problems=pd.DataFrame(problems).reset_index(drop=True)\n",
    "problems['sectionid']=problems.docid+'-'+problems.section"
   ]
  },
  {
   "cell_type": "code",
   "execution_count": 23,
   "metadata": {},
   "outputs": [],
   "source": [
    "tests=pd.DataFrame(tests).reset_index(drop=True)\n",
    "tests['sectionid']=tests.docid+'-'+tests.section"
   ]
  },
  {
   "cell_type": "code",
   "execution_count": 24,
   "metadata": {},
   "outputs": [],
   "source": [
    "akis=pd.DataFrame(problems[problems['chunks']=='AKI']).reset_index(drop=True)"
   ]
  },
  {
   "cell_type": "code",
   "execution_count": 25,
   "metadata": {},
   "outputs": [],
   "source": [
    "a=list(set(akis['sectionid']))"
   ]
  },
  {
   "cell_type": "code",
   "execution_count": 26,
   "metadata": {},
   "outputs": [],
   "source": [
    "akitest=tests[tests['sectionid'].isin(a)]"
   ]
  },
  {
   "cell_type": "code",
   "execution_count": 27,
   "metadata": {},
   "outputs": [],
   "source": [
    "akicount=pd.DataFrame(akitest.groupby(['chunks'])['label'].count()).reset_index()\n",
    "\n",
    "akicount=akicount.sort_values(by='label',ascending=False).reset_index(drop=True)\n",
    "akicount.columns=['chunk','counts']"
   ]
  },
  {
   "cell_type": "code",
   "execution_count": 28,
   "metadata": {},
   "outputs": [
    {
     "data": {
      "text/html": [
       "<div>\n",
       "<style scoped>\n",
       "    .dataframe tbody tr th:only-of-type {\n",
       "        vertical-align: middle;\n",
       "    }\n",
       "\n",
       "    .dataframe tbody tr th {\n",
       "        vertical-align: top;\n",
       "    }\n",
       "\n",
       "    .dataframe thead th {\n",
       "        text-align: right;\n",
       "    }\n",
       "</style>\n",
       "<table border=\"1\" class=\"dataframe\">\n",
       "  <thead>\n",
       "    <tr style=\"text-align: right;\">\n",
       "      <th></th>\n",
       "      <th>chunk</th>\n",
       "      <th>counts</th>\n",
       "    </tr>\n",
       "  </thead>\n",
       "  <tbody>\n",
       "    <tr>\n",
       "      <th>0</th>\n",
       "      <td>this study</td>\n",
       "      <td>415</td>\n",
       "    </tr>\n",
       "    <tr>\n",
       "      <th>1</th>\n",
       "      <td>CI</td>\n",
       "      <td>329</td>\n",
       "    </tr>\n",
       "    <tr>\n",
       "      <th>2</th>\n",
       "      <td>the study</td>\n",
       "      <td>231</td>\n",
       "    </tr>\n",
       "    <tr>\n",
       "      <th>3</th>\n",
       "      <td>immunoglobulin</td>\n",
       "      <td>214</td>\n",
       "    </tr>\n",
       "    <tr>\n",
       "      <th>4</th>\n",
       "      <td>P002</td>\n",
       "      <td>212</td>\n",
       "    </tr>\n",
       "    <tr>\n",
       "      <th>...</th>\n",
       "      <td>...</td>\n",
       "      <td>...</td>\n",
       "    </tr>\n",
       "    <tr>\n",
       "      <th>14465</th>\n",
       "      <td>Whole slide imaging</td>\n",
       "      <td>1</td>\n",
       "    </tr>\n",
       "    <tr>\n",
       "      <th>14466</th>\n",
       "      <td>Wilcoxon Rank sum test</td>\n",
       "      <td>1</td>\n",
       "    </tr>\n",
       "    <tr>\n",
       "      <th>14467</th>\n",
       "      <td>Wilcoxon Ranksum</td>\n",
       "      <td>1</td>\n",
       "    </tr>\n",
       "    <tr>\n",
       "      <th>14468</th>\n",
       "      <td>Wilcoxon rank-sum tests</td>\n",
       "      <td>1</td>\n",
       "    </tr>\n",
       "    <tr>\n",
       "      <th>14469</th>\n",
       "      <td>C</td>\n",
       "      <td>1</td>\n",
       "    </tr>\n",
       "  </tbody>\n",
       "</table>\n",
       "<p>14470 rows × 2 columns</p>\n",
       "</div>"
      ],
      "text/plain": [
       "                         chunk  counts\n",
       "0                   this study     415\n",
       "1                           CI     329\n",
       "2                    the study     231\n",
       "3               immunoglobulin     214\n",
       "4                         P002     212\n",
       "...                        ...     ...\n",
       "14465      Whole slide imaging       1\n",
       "14466   Wilcoxon Rank sum test       1\n",
       "14467         Wilcoxon Ranksum       1\n",
       "14468  Wilcoxon rank-sum tests       1\n",
       "14469                       C       1\n",
       "\n",
       "[14470 rows x 2 columns]"
      ]
     },
     "execution_count": 28,
     "metadata": {},
     "output_type": "execute_result"
    }
   ],
   "source": [
    "akicount"
   ]
  },
  {
   "cell_type": "code",
   "execution_count": 29,
   "metadata": {},
   "outputs": [
    {
     "data": {
      "image/png": "[encoded data removed]",
      "text/plain": [
       "<Figure size 1728x864 with 1 Axes>"
      ]
     },
     "metadata": {
      "needs_background": "light"
     },
     "output_type": "display_data"
    }
   ],
   "source": [
    "import seaborn as sns\n",
    "import seaborn as sns\n",
    "fig, ax = plt.subplots(figsize =(24,12))\n",
    "chart= sns.barplot(akicount['chunk'][0:50],akicount['counts'][0:50])\n",
    "\n",
    "chart.set_xticklabels(akicount.chunk,rotation=90)\n",
    "plt.title(\"Clinical Tests Near 'AKI'\",fontsize=20)\n",
    "\n",
    "\n",
    "plt.show()"
   ]
  },
  {
   "cell_type": "markdown",
   "metadata": {},
   "source": [
    "Our clinical tests NER is returning a lot of false positives but we still see that creatinine, CRP, and PCR tests  are well represented in the dataset, appearing in the same section as \"AKI\". This tells me the information is probably not historical and I will have measurements that I can use for predictions as well as terms to use for topic modelling and text classification."
   ]
  },
  {
   "cell_type": "markdown",
   "metadata": {},
   "source": [
    "## Find 'Problem' entities near the most frequent kidney related 'Test' entity"
   ]
  },
  {
   "cell_type": "code",
   "execution_count": 30,
   "metadata": {},
   "outputs": [],
   "source": [
    "creatins=pd.DataFrame(tests[tests['chunks']=='creatinine']).reset_index(drop=True)\n",
    "b=list(set(creatins['sectionid']))\n",
    "creatprob=problems[problems['sectionid'].isin(b)]\n",
    "creatcount=pd.DataFrame(creatprob.groupby(['chunks'])['label'].count()).reset_index()\n",
    "\n",
    "creatcount=creatcount.sort_values(by='label',ascending=False).reset_index(drop=True)\n",
    "creatcount.columns=['chunk','counts']"
   ]
  },
  {
   "cell_type": "code",
   "execution_count": 42,
   "metadata": {},
   "outputs": [
    {
     "data": {
      "text/html": [
       "<div>\n",
       "<style scoped>\n",
       "    .dataframe tbody tr th:only-of-type {\n",
       "        vertical-align: middle;\n",
       "    }\n",
       "\n",
       "    .dataframe tbody tr th {\n",
       "        vertical-align: top;\n",
       "    }\n",
       "\n",
       "    .dataframe thead th {\n",
       "        text-align: right;\n",
       "    }\n",
       "</style>\n",
       "<table border=\"1\" class=\"dataframe\">\n",
       "  <thead>\n",
       "    <tr style=\"text-align: right;\">\n",
       "      <th></th>\n",
       "      <th>chunk</th>\n",
       "      <th>counts</th>\n",
       "    </tr>\n",
       "  </thead>\n",
       "  <tbody>\n",
       "    <tr>\n",
       "      <th>0</th>\n",
       "      <td>SARS-CoV-2</td>\n",
       "      <td>550</td>\n",
       "    </tr>\n",
       "    <tr>\n",
       "      <th>1</th>\n",
       "      <td>in-stent stenosis</td>\n",
       "      <td>500</td>\n",
       "    </tr>\n",
       "    <tr>\n",
       "      <th>2</th>\n",
       "      <td>AKI</td>\n",
       "      <td>435</td>\n",
       "    </tr>\n",
       "    <tr>\n",
       "      <th>3</th>\n",
       "      <td>fever</td>\n",
       "      <td>405</td>\n",
       "    </tr>\n",
       "    <tr>\n",
       "      <th>4</th>\n",
       "      <td>hypertension</td>\n",
       "      <td>373</td>\n",
       "    </tr>\n",
       "    <tr>\n",
       "      <th>...</th>\n",
       "      <td>...</td>\n",
       "      <td>...</td>\n",
       "    </tr>\n",
       "    <tr>\n",
       "      <th>30265</th>\n",
       "      <td>chronic HCV infection</td>\n",
       "      <td>1</td>\n",
       "    </tr>\n",
       "    <tr>\n",
       "      <th>30266</th>\n",
       "      <td>chronic HCV</td>\n",
       "      <td>1</td>\n",
       "    </tr>\n",
       "    <tr>\n",
       "      <th>30267</th>\n",
       "      <td>chronic</td>\n",
       "      <td>1</td>\n",
       "    </tr>\n",
       "    <tr>\n",
       "      <th>30268</th>\n",
       "      <td>chromosomal deletions</td>\n",
       "      <td>1</td>\n",
       "    </tr>\n",
       "    <tr>\n",
       "      <th>30269</th>\n",
       "      <td> Symptom</td>\n",
       "      <td>1</td>\n",
       "    </tr>\n",
       "  </tbody>\n",
       "</table>\n",
       "<p>30270 rows × 2 columns</p>\n",
       "</div>"
      ],
      "text/plain": [
       "                       chunk  counts\n",
       "0                 SARS-CoV-2     550\n",
       "1          in-stent stenosis     500\n",
       "2                        AKI     435\n",
       "3                      fever     405\n",
       "4               hypertension     373\n",
       "...                      ...     ...\n",
       "30265  chronic HCV infection       1\n",
       "30266            chronic HCV       1\n",
       "30267                chronic       1\n",
       "30268  chromosomal deletions       1\n",
       "30269               Symptom       1\n",
       "\n",
       "[30270 rows x 2 columns]"
      ]
     },
     "execution_count": 42,
     "metadata": {},
     "output_type": "execute_result"
    }
   ],
   "source": [
    "creatcount"
   ]
  },
  {
   "cell_type": "code",
   "execution_count": 31,
   "metadata": {},
   "outputs": [],
   "source": [
    "creatcounts=creatcount.iloc[0:50]"
   ]
  },
  {
   "cell_type": "code",
   "execution_count": 32,
   "metadata": {},
   "outputs": [
    {
     "data": {
      "image/png": "[encoded data removed]",
      "text/plain": [
       "<Figure size 1728x864 with 1 Axes>"
      ]
     },
     "metadata": {
      "needs_background": "light"
     },
     "output_type": "display_data"
    }
   ],
   "source": [
    "import seaborn as sns\n",
    "import seaborn as sns\n",
    "fig, ax = plt.subplots(figsize =(24,12))\n",
    "chart= sns.barplot(creatcounts.chunk,creatcounts['counts'])\n",
    "\n",
    "chart.set_xticklabels(creatcounts.chunk,rotation=90)\n",
    "plt.title(\"Patient Problems Near 'Creatinine' Test\",fontsize=20)\n",
    "\n",
    "\n",
    "plt.show()"
   ]
  },
  {
   "cell_type": "markdown",
   "metadata": {},
   "source": [
    "AKI, hypertension, diabetes, and acute kidney injury are all well represented in the dataset, appearing in the same section as \"creatinine\" tests. This tells me the information is probably not historical and I will have measurements that I can use for predictions as well as terms to use for topic modelling and text classification."
   ]
  },
  {
   "cell_type": "markdown",
   "metadata": {},
   "source": [
    "## Frequency of 'patient' mentions in documents"
   ]
  },
  {
   "cell_type": "code",
   "execution_count": 33,
   "metadata": {},
   "outputs": [],
   "source": [
    "patient=pd.DataFrame(big[(big['token'].str.lower()=='patient')|(big['token'].str.lower()=='patients')]).reset_index(drop=True)"
   ]
  },
  {
   "cell_type": "code",
   "execution_count": 35,
   "metadata": {},
   "outputs": [
    {
     "data": {
      "text/plain": [
       "1568"
      ]
     },
     "execution_count": 35,
     "metadata": {},
     "output_type": "execute_result"
    }
   ],
   "source": [
    "patients=patient.groupby(['docid'])['token'].count()\n",
    "patients=patients.reset_index()\n",
    "patients=patients.rename(columns={'token':'counts'})\n",
    "len(patients)"
   ]
  },
  {
   "cell_type": "code",
   "execution_count": 41,
   "metadata": {},
   "outputs": [
    {
     "data": {
      "text/plain": [
       "Text(0.5, 1.0, 'Frequency of Patient Mentions in 1568 Documents')"
      ]
     },
     "execution_count": 41,
     "metadata": {},
     "output_type": "execute_result"
    },
    {
     "data": {
      "image/png": "[encoded data removed]",
      "text/plain": [
       "<Figure size 432x288 with 1 Axes>"
      ]
     },
     "metadata": {
      "needs_background": "light"
     },
     "output_type": "display_data"
    }
   ],
   "source": [
    "sns.boxplot(patients['counts'])\n",
    "plt.title('Frequency of Patient Mentions in 1568 Documents',fontsize=14)"
   ]
  },
  {
   "cell_type": "markdown",
   "metadata": {},
   "source": [
    "## Frequency of 'case report' mentions in documents"
   ]
  },
  {
   "cell_type": "code",
   "execution_count": 37,
   "metadata": {},
   "outputs": [],
   "source": [
    "case=pd.DataFrame(big[(big['section'].str.lower()=='case report')|(big['section']=='case study')|(big['chunks'].str.lower()=='case report')|(big['chunks'].str.lower()=='case study')|(big['section'].str.lower()=='case reports')|(big['section']=='case studies')|(big['chunks'].str.lower()=='case reports')|(big['chunks'].str.lower()=='case studies')]).reset_index(drop=True)"
   ]
  },
  {
   "cell_type": "code",
   "execution_count": 38,
   "metadata": {},
   "outputs": [
    {
     "data": {
      "text/plain": [
       "78"
      ]
     },
     "execution_count": 38,
     "metadata": {},
     "output_type": "execute_result"
    }
   ],
   "source": [
    "cases=case.groupby(['docid'])['section'].count()\n",
    "cases=cases.reset_index()\n",
    "cases=cases.rename(columns={'section':'counts'})\n",
    "len(cases)"
   ]
  },
  {
   "cell_type": "code",
   "execution_count": 40,
   "metadata": {},
   "outputs": [
    {
     "data": {
      "text/plain": [
       "Text(0.5, 1.0, 'Frequency of Case Report/Study Mentions in 78 Documents')"
      ]
     },
     "execution_count": 40,
     "metadata": {},
     "output_type": "execute_result"
    },
    {
     "data": {
      "image/png": "[encoded data removed]",
      "text/plain": [
       "<Figure size 432x288 with 1 Axes>"
      ]
     },
     "metadata": {
      "needs_background": "light"
     },
     "output_type": "display_data"
    }
   ],
   "source": [
    "sns.boxplot(cases['counts'])\n",
    "plt.title('Frequency of Case Report/Study Mentions in 78 Documents',fontsize=14)"
   ]
  },
  {
   "cell_type": "markdown",
   "metadata": {},
   "source": [
    "78 documents refer to case reports a median of about 550 times (The average document length is about 30,000 words.) I think I will have enough patient data to attempt some predictions."
   ]
  },
  {
   "cell_type": "code",
   "execution_count": 14,
   "metadata": {},
   "outputs": [],
   "source": [
    "artlist=kag['Study']\n",
    "pres=[]\n",
    "doc=[]\n",
    "for i in os.listdir('document_parses/pdf_json'):\n",
    "    with open('document_parses/pdf_json/'+i) as json_file:\n",
    "        data = json.load(json_file)\n",
    "        if data['metadata']['title'] in list(artlist):\n",
    "            for c,j in enumerate(data['body_text']):\n",
    "            \n",
    "          \n",
    "                row=[i,data['metadata']['title'],data['body_text'][c]['section'],data['body_text'][c]['text']]\n",
    "                doc.append(row)\n",
    "\n",
    "            pres.append(doc)\n",
    "                    \n",
    "            "
   ]
  },
  {
   "cell_type": "code",
   "execution_count": 42,
   "metadata": {},
   "outputs": [],
   "source": [
    "jsons=[j[0] for i in pres for j in i]\n",
    "titles=[j[1] for i in pres for j in i]\n",
    "sections=[j[2].lower() for i in pres for j in i]\n",
    "text=[j[1].lower()+'.  '+j[2].lower()+'.  '+j[3].lower() for i in pres for j in i]\n",
    "pres2=pd.DataFrame(None,columns=['jsons','titles','sections','text'])"
   ]
  },
  {
   "cell_type": "code",
   "execution_count": 43,
   "metadata": {},
   "outputs": [],
   "source": [
    "pres2['jsons']=jsons\n",
    "pres2['titles']=titles\n",
    "pres2['section']=sections\n",
    "pres2['text']=text"
   ]
  },
  {
   "cell_type": "code",
   "execution_count": 44,
   "metadata": {},
   "outputs": [
    {
     "data": {
      "text/html": [
       "<div>\n",
       "<style scoped>\n",
       "    .dataframe tbody tr th:only-of-type {\n",
       "        vertical-align: middle;\n",
       "    }\n",
       "\n",
       "    .dataframe tbody tr th {\n",
       "        vertical-align: top;\n",
       "    }\n",
       "\n",
       "    .dataframe thead th {\n",
       "        text-align: right;\n",
       "    }\n",
       "</style>\n",
       "<table border=\"1\" class=\"dataframe\">\n",
       "  <thead>\n",
       "    <tr style=\"text-align: right;\">\n",
       "      <th></th>\n",
       "      <th>jsons</th>\n",
       "      <th>titles</th>\n",
       "      <th>sections</th>\n",
       "      <th>text</th>\n",
       "      <th>section</th>\n",
       "    </tr>\n",
       "  </thead>\n",
       "  <tbody>\n",
       "    <tr>\n",
       "      <th>0</th>\n",
       "      <td>5111c718f426624c7bcb8f11d7137177f6e85bf3.json</td>\n",
       "      <td>When a nephrology ward becomes a COVID-19 ward...</td>\n",
       "      <td>NaN</td>\n",
       "      <td>when a nephrology ward becomes a covid-19 ward...</td>\n",
       "      <td></td>\n",
       "    </tr>\n",
       "  </tbody>\n",
       "</table>\n",
       "</div>"
      ],
      "text/plain": [
       "                                           jsons  \\\n",
       "0  5111c718f426624c7bcb8f11d7137177f6e85bf3.json   \n",
       "\n",
       "                                              titles sections  \\\n",
       "0  When a nephrology ward becomes a COVID-19 ward...      NaN   \n",
       "\n",
       "                                                text section  \n",
       "0  when a nephrology ward becomes a covid-19 ward...          "
      ]
     },
     "execution_count": 44,
     "metadata": {},
     "output_type": "execute_result"
    }
   ],
   "source": [
    "pres2.head(1)"
   ]
  },
  {
   "cell_type": "code",
   "execution_count": 47,
   "metadata": {},
   "outputs": [],
   "source": [
    "case=pd.DataFrame(pres2[(pd.Series(pres2['section']).str.contains('case report'))|(pd.Series(pres2['section']).str.contains('case study'))|(pd.Series(pres2['text']).str.contains('case report'))|(pd.Series(pres2['text']).str.contains('case study'))|(pd.Series(pres2['section']).str.contains('case reports'))|(pd.Series(pres2['section']).str.contains('case studies'))|(pd.Series(pres2['text']).str.contains('case reports'))|(pd.Series(pres2['text']).str.contains('case studies'))]).reset_index(drop=True)"
   ]
  },
  {
   "cell_type": "code",
   "execution_count": 49,
   "metadata": {},
   "outputs": [
    {
     "data": {
      "text/html": [
       "<div>\n",
       "<style scoped>\n",
       "    .dataframe tbody tr th:only-of-type {\n",
       "        vertical-align: middle;\n",
       "    }\n",
       "\n",
       "    .dataframe tbody tr th {\n",
       "        vertical-align: top;\n",
       "    }\n",
       "\n",
       "    .dataframe thead th {\n",
       "        text-align: right;\n",
       "    }\n",
       "</style>\n",
       "<table border=\"1\" class=\"dataframe\">\n",
       "  <thead>\n",
       "    <tr style=\"text-align: right;\">\n",
       "      <th></th>\n",
       "      <th>jsons</th>\n",
       "      <th>titles</th>\n",
       "      <th>sections</th>\n",
       "      <th>text</th>\n",
       "      <th>section</th>\n",
       "    </tr>\n",
       "  </thead>\n",
       "  <tbody>\n",
       "    <tr>\n",
       "      <th>0</th>\n",
       "      <td>d71afe4de25925f16e3832d50dd107e123acbaf8.json</td>\n",
       "      <td>The role of comorbidities and clinical predict...</td>\n",
       "      <td>NaN</td>\n",
       "      <td>the role of comorbidities and clinical predict...</td>\n",
       "      <td>study selection</td>\n",
       "    </tr>\n",
       "    <tr>\n",
       "      <th>1</th>\n",
       "      <td>2973b03638396fd8adba65b5e762208b6c493eb0.json</td>\n",
       "      <td>Does comorbidity increase the risk of patients...</td>\n",
       "      <td>NaN</td>\n",
       "      <td>does comorbidity increase the risk of patients...</td>\n",
       "      <td>search strategy and study selection</td>\n",
       "    </tr>\n",
       "    <tr>\n",
       "      <th>2</th>\n",
       "      <td>d71afe4de25925f16e3832d50dd107e123acbaf8.json</td>\n",
       "      <td>The role of comorbidities and clinical predict...</td>\n",
       "      <td>NaN</td>\n",
       "      <td>the role of comorbidities and clinical predict...</td>\n",
       "      <td>study selection</td>\n",
       "    </tr>\n",
       "    <tr>\n",
       "      <th>3</th>\n",
       "      <td>2973b03638396fd8adba65b5e762208b6c493eb0.json</td>\n",
       "      <td>Does comorbidity increase the risk of patients...</td>\n",
       "      <td>NaN</td>\n",
       "      <td>does comorbidity increase the risk of patients...</td>\n",
       "      <td>search strategy and study selection</td>\n",
       "    </tr>\n",
       "    <tr>\n",
       "      <th>4</th>\n",
       "      <td>d71afe4de25925f16e3832d50dd107e123acbaf8.json</td>\n",
       "      <td>The role of comorbidities and clinical predict...</td>\n",
       "      <td>NaN</td>\n",
       "      <td>the role of comorbidities and clinical predict...</td>\n",
       "      <td>study selection</td>\n",
       "    </tr>\n",
       "  </tbody>\n",
       "</table>\n",
       "</div>"
      ],
      "text/plain": [
       "                                           jsons  \\\n",
       "0  d71afe4de25925f16e3832d50dd107e123acbaf8.json   \n",
       "1  2973b03638396fd8adba65b5e762208b6c493eb0.json   \n",
       "2  d71afe4de25925f16e3832d50dd107e123acbaf8.json   \n",
       "3  2973b03638396fd8adba65b5e762208b6c493eb0.json   \n",
       "4  d71afe4de25925f16e3832d50dd107e123acbaf8.json   \n",
       "\n",
       "                                              titles sections  \\\n",
       "0  The role of comorbidities and clinical predict...      NaN   \n",
       "1  Does comorbidity increase the risk of patients...      NaN   \n",
       "2  The role of comorbidities and clinical predict...      NaN   \n",
       "3  Does comorbidity increase the risk of patients...      NaN   \n",
       "4  The role of comorbidities and clinical predict...      NaN   \n",
       "\n",
       "                                                text  \\\n",
       "0  the role of comorbidities and clinical predict...   \n",
       "1  does comorbidity increase the risk of patients...   \n",
       "2  the role of comorbidities and clinical predict...   \n",
       "3  does comorbidity increase the risk of patients...   \n",
       "4  the role of comorbidities and clinical predict...   \n",
       "\n",
       "                               section  \n",
       "0                      study selection  \n",
       "1  search strategy and study selection  \n",
       "2                      study selection  \n",
       "3  search strategy and study selection  \n",
       "4                      study selection  "
      ]
     },
     "execution_count": 49,
     "metadata": {},
     "output_type": "execute_result"
    }
   ],
   "source": [
    "case.head()"
   ]
  },
  {
   "cell_type": "code",
   "execution_count": 50,
   "metadata": {},
   "outputs": [
    {
     "data": {
      "text/plain": [
       "40"
      ]
     },
     "execution_count": 50,
     "metadata": {},
     "output_type": "execute_result"
    }
   ],
   "source": [
    "len(case)"
   ]
  },
  {
   "cell_type": "code",
   "execution_count": 51,
   "metadata": {},
   "outputs": [
    {
     "data": {
      "text/plain": [
       "2"
      ]
     },
     "execution_count": 51,
     "metadata": {},
     "output_type": "execute_result"
    }
   ],
   "source": [
    "case['jsons'].nunique()"
   ]
  },
  {
   "cell_type": "code",
   "execution_count": 52,
   "metadata": {},
   "outputs": [
    {
     "data": {
      "text/plain": [
       "Does comorbidity increase the risk of patients with COVID-19: evidence from meta-analysis                                        20\n",
       "The role of comorbidities and clinical predictors of severe disease in COVID-19: a systematic review and meta-analysis Emails    20\n",
       "Name: titles, dtype: int64"
      ]
     },
     "execution_count": 52,
     "metadata": {},
     "output_type": "execute_result"
    }
   ],
   "source": [
    "case['titles'].value_counts()"
   ]
  },
  {
   "cell_type": "code",
   "execution_count": null,
   "metadata": {},
   "outputs": [],
   "source": []
  }
 ],
 "metadata": {
  "kernelspec": {
   "display_name": "Python 3",
   "language": "python",
   "name": "python3"
  },
  "language_info": {
   "codemirror_mode": {
    "name": "ipython",
    "version": 3
   },
   "file_extension": ".py",
   "mimetype": "text/x-python",
   "name": "python",
   "nbconvert_exporter": "python",
   "pygments_lexer": "ipython3",
   "version": "3.7.9"
  }
 },
 "nbformat": 4,
 "nbformat_minor": 4
}
