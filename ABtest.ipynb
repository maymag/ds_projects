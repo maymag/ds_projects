{
 "cells": [
  {
   "cell_type": "code",
   "execution_count": 1,
   "metadata": {},
   "outputs": [],
   "source": [
    "import seaborn as sns\n",
    "import numpy as np\n",
    "import pandas as pd\n",
    "import matplotlib.pyplot as plt\n",
    "%matplotlib inline\n",
    "from scipy.stats import mannwhitneyu\n",
    "from scipy.stats import ttest_ind\n",
    "import json"
   ]
  },
  {
   "cell_type": "markdown",
   "metadata": {},
   "source": [
    "Valassis Digital has run a digital advertising campaign for one of our clients. We ran two creatives during the campaign, one old and one new. Users in a \"test\" group received the new ad during the campaign. The goal of my analysis was to answer 2 questions. Did the new creative increase conversions? Would retargeting have improved performance for this campaign?\n"
   ]
  },
  {
   "cell_type": "markdown",
   "metadata": {},
   "source": [
    "## Data Prep"
   ]
  },
  {
   "cell_type": "code",
   "execution_count": 2,
   "metadata": {},
   "outputs": [
    {
     "data": {
      "text/html": [
       "<div>\n",
       "<style scoped>\n",
       "    .dataframe tbody tr th:only-of-type {\n",
       "        vertical-align: middle;\n",
       "    }\n",
       "\n",
       "    .dataframe tbody tr th {\n",
       "        vertical-align: top;\n",
       "    }\n",
       "\n",
       "    .dataframe thead th {\n",
       "        text-align: right;\n",
       "    }\n",
       "</style>\n",
       "<table border=\"1\" class=\"dataframe\">\n",
       "  <thead>\n",
       "    <tr style=\"text-align: right;\">\n",
       "      <th></th>\n",
       "      <th>timestamp</th>\n",
       "      <th>user_id</th>\n",
       "      <th>bid</th>\n",
       "      <th>win</th>\n",
       "      <th>conversion</th>\n",
       "    </tr>\n",
       "  </thead>\n",
       "  <tbody>\n",
       "    <tr>\n",
       "      <th>0</th>\n",
       "      <td>2017-01-01 00:00:01</td>\n",
       "      <td>be7485be5b6eb3690efcbc9e95e8f15a</td>\n",
       "      <td>0</td>\n",
       "      <td>0</td>\n",
       "      <td>0</td>\n",
       "    </tr>\n",
       "    <tr>\n",
       "      <th>1</th>\n",
       "      <td>2017-01-01 00:00:02</td>\n",
       "      <td>26c5dca2512a4c7fe8810bd04191b1b3</td>\n",
       "      <td>0</td>\n",
       "      <td>0</td>\n",
       "      <td>0</td>\n",
       "    </tr>\n",
       "    <tr>\n",
       "      <th>2</th>\n",
       "      <td>2017-01-01 00:00:05</td>\n",
       "      <td>2121376a323507c01c5e92c39ae8ccd4</td>\n",
       "      <td>0</td>\n",
       "      <td>0</td>\n",
       "      <td>0</td>\n",
       "    </tr>\n",
       "    <tr>\n",
       "      <th>3</th>\n",
       "      <td>2017-01-01 00:00:12</td>\n",
       "      <td>fa6a0925d911185338b0acc93c66dc92</td>\n",
       "      <td>0</td>\n",
       "      <td>0</td>\n",
       "      <td>0</td>\n",
       "    </tr>\n",
       "    <tr>\n",
       "      <th>4</th>\n",
       "      <td>2017-01-01 00:00:13</td>\n",
       "      <td>4299f209da83da82b711f1d631cc607b</td>\n",
       "      <td>1</td>\n",
       "      <td>0</td>\n",
       "      <td>0</td>\n",
       "    </tr>\n",
       "  </tbody>\n",
       "</table>\n",
       "</div>"
      ],
      "text/plain": [
       "             timestamp                           user_id  bid  win  conversion\n",
       "0  2017-01-01 00:00:01  be7485be5b6eb3690efcbc9e95e8f15a    0    0           0\n",
       "1  2017-01-01 00:00:02  26c5dca2512a4c7fe8810bd04191b1b3    0    0           0\n",
       "2  2017-01-01 00:00:05  2121376a323507c01c5e92c39ae8ccd4    0    0           0\n",
       "3  2017-01-01 00:00:12  fa6a0925d911185338b0acc93c66dc92    0    0           0\n",
       "4  2017-01-01 00:00:13  4299f209da83da82b711f1d631cc607b    1    0           0"
      ]
     },
     "execution_count": 2,
     "metadata": {},
     "output_type": "execute_result"
    }
   ],
   "source": [
    "bids=pd.read_csv('../bid_requests.csv')\n",
    "bids.head()"
   ]
  },
  {
   "cell_type": "code",
   "execution_count": 3,
   "metadata": {},
   "outputs": [
    {
     "data": {
      "text/html": [
       "<div>\n",
       "<style scoped>\n",
       "    .dataframe tbody tr th:only-of-type {\n",
       "        vertical-align: middle;\n",
       "    }\n",
       "\n",
       "    .dataframe tbody tr th {\n",
       "        vertical-align: top;\n",
       "    }\n",
       "\n",
       "    .dataframe thead th {\n",
       "        text-align: right;\n",
       "    }\n",
       "</style>\n",
       "<table border=\"1\" class=\"dataframe\">\n",
       "  <thead>\n",
       "    <tr style=\"text-align: right;\">\n",
       "      <th></th>\n",
       "      <th>user_id</th>\n",
       "      <th>attributes</th>\n",
       "    </tr>\n",
       "  </thead>\n",
       "  <tbody>\n",
       "    <tr>\n",
       "      <th>0</th>\n",
       "      <td>00003e3b9e5336685200ae85d21b4f5e</td>\n",
       "      <td>{\"age\": 33, \"gender\": \"F\", \"location\": \"FL\", \"...</td>\n",
       "    </tr>\n",
       "    <tr>\n",
       "      <th>1</th>\n",
       "      <td>000053b1e684c9e7ea73727b2238ce18</td>\n",
       "      <td>{\"age\": 26, \"gender\": \"M\", \"location\": \"AL\", \"...</td>\n",
       "    </tr>\n",
       "    <tr>\n",
       "      <th>2</th>\n",
       "      <td>00029153d12ae1c9abe59c17ff2e0895</td>\n",
       "      <td>{\"age\": 29, \"gender\": \"F\", \"location\": \"AR\", \"...</td>\n",
       "    </tr>\n",
       "    <tr>\n",
       "      <th>3</th>\n",
       "      <td>0002ac0d783338cfeab0b2bdbd872cda</td>\n",
       "      <td>{\"age\": 29, \"gender\": \"M\", \"location\": \"SC\", \"...</td>\n",
       "    </tr>\n",
       "    <tr>\n",
       "      <th>4</th>\n",
       "      <td>0004d0b59e19461ff126e3a08a814c33</td>\n",
       "      <td>{\"age\": 27, \"gender\": \"F\", \"location\": \"AR\", \"...</td>\n",
       "    </tr>\n",
       "  </tbody>\n",
       "</table>\n",
       "</div>"
      ],
      "text/plain": [
       "                            user_id  \\\n",
       "0  00003e3b9e5336685200ae85d21b4f5e   \n",
       "1  000053b1e684c9e7ea73727b2238ce18   \n",
       "2  00029153d12ae1c9abe59c17ff2e0895   \n",
       "3  0002ac0d783338cfeab0b2bdbd872cda   \n",
       "4  0004d0b59e19461ff126e3a08a814c33   \n",
       "\n",
       "                                          attributes  \n",
       "0  {\"age\": 33, \"gender\": \"F\", \"location\": \"FL\", \"...  \n",
       "1  {\"age\": 26, \"gender\": \"M\", \"location\": \"AL\", \"...  \n",
       "2  {\"age\": 29, \"gender\": \"F\", \"location\": \"AR\", \"...  \n",
       "3  {\"age\": 29, \"gender\": \"M\", \"location\": \"SC\", \"...  \n",
       "4  {\"age\": 27, \"gender\": \"F\", \"location\": \"AR\", \"...  "
      ]
     },
     "execution_count": 3,
     "metadata": {},
     "output_type": "execute_result"
    }
   ],
   "source": [
    "users=pd.read_csv('../user_attributes.csv')\n",
    "users.head()"
   ]
  },
  {
   "cell_type": "code",
   "execution_count": 4,
   "metadata": {},
   "outputs": [
    {
     "data": {
      "text/html": [
       "<div>\n",
       "<style scoped>\n",
       "    .dataframe tbody tr th:only-of-type {\n",
       "        vertical-align: middle;\n",
       "    }\n",
       "\n",
       "    .dataframe tbody tr th {\n",
       "        vertical-align: top;\n",
       "    }\n",
       "\n",
       "    .dataframe thead th {\n",
       "        text-align: right;\n",
       "    }\n",
       "</style>\n",
       "<table border=\"1\" class=\"dataframe\">\n",
       "  <thead>\n",
       "    <tr style=\"text-align: right;\">\n",
       "      <th></th>\n",
       "      <th>age</th>\n",
       "      <th>gender</th>\n",
       "      <th>location</th>\n",
       "      <th>test</th>\n",
       "      <th>user_id</th>\n",
       "    </tr>\n",
       "  </thead>\n",
       "  <tbody>\n",
       "    <tr>\n",
       "      <th>0</th>\n",
       "      <td>33</td>\n",
       "      <td>F</td>\n",
       "      <td>FL</td>\n",
       "      <td>1</td>\n",
       "      <td>00003e3b9e5336685200ae85d21b4f5e</td>\n",
       "    </tr>\n",
       "    <tr>\n",
       "      <th>1</th>\n",
       "      <td>26</td>\n",
       "      <td>M</td>\n",
       "      <td>AL</td>\n",
       "      <td>1</td>\n",
       "      <td>000053b1e684c9e7ea73727b2238ce18</td>\n",
       "    </tr>\n",
       "    <tr>\n",
       "      <th>2</th>\n",
       "      <td>29</td>\n",
       "      <td>F</td>\n",
       "      <td>AR</td>\n",
       "      <td>1</td>\n",
       "      <td>00029153d12ae1c9abe59c17ff2e0895</td>\n",
       "    </tr>\n",
       "    <tr>\n",
       "      <th>3</th>\n",
       "      <td>29</td>\n",
       "      <td>M</td>\n",
       "      <td>SC</td>\n",
       "      <td>0</td>\n",
       "      <td>0002ac0d783338cfeab0b2bdbd872cda</td>\n",
       "    </tr>\n",
       "    <tr>\n",
       "      <th>4</th>\n",
       "      <td>27</td>\n",
       "      <td>F</td>\n",
       "      <td>AR</td>\n",
       "      <td>1</td>\n",
       "      <td>0004d0b59e19461ff126e3a08a814c33</td>\n",
       "    </tr>\n",
       "  </tbody>\n",
       "</table>\n",
       "</div>"
      ],
      "text/plain": [
       "  age gender location test                           user_id\n",
       "0  33      F       FL    1  00003e3b9e5336685200ae85d21b4f5e\n",
       "1  26      M       AL    1  000053b1e684c9e7ea73727b2238ce18\n",
       "2  29      F       AR    1  00029153d12ae1c9abe59c17ff2e0895\n",
       "3  29      M       SC    0  0002ac0d783338cfeab0b2bdbd872cda\n",
       "4  27      F       AR    1  0004d0b59e19461ff126e3a08a814c33"
      ]
     },
     "execution_count": 4,
     "metadata": {},
     "output_type": "execute_result"
    }
   ],
   "source": [
    "columns=list(json.loads(users['attributes'][0]).keys())\n",
    "users2=pd.DataFrame(np.asarray(list(users['attributes'].apply(lambda x: sorted(json.loads(x).items()))))[:,:,1],columns=columns)\n",
    "users2['user_id']=users['user_id']\n",
    "users2.head()"
   ]
  },
  {
   "cell_type": "code",
   "execution_count": 5,
   "metadata": {},
   "outputs": [],
   "source": [
    "users2['test']=users2['test'].apply(lambda x: int(x))\n",
    "users2['age']=users2['age'].apply(lambda x: float(x))"
   ]
  },
  {
   "cell_type": "code",
   "execution_count": 6,
   "metadata": {},
   "outputs": [
    {
     "data": {
      "text/html": [
       "<div>\n",
       "<style scoped>\n",
       "    .dataframe tbody tr th:only-of-type {\n",
       "        vertical-align: middle;\n",
       "    }\n",
       "\n",
       "    .dataframe tbody tr th {\n",
       "        vertical-align: top;\n",
       "    }\n",
       "\n",
       "    .dataframe thead th {\n",
       "        text-align: right;\n",
       "    }\n",
       "</style>\n",
       "<table border=\"1\" class=\"dataframe\">\n",
       "  <thead>\n",
       "    <tr style=\"text-align: right;\">\n",
       "      <th></th>\n",
       "      <th>age</th>\n",
       "      <th>gender</th>\n",
       "      <th>location</th>\n",
       "      <th>test</th>\n",
       "      <th>user_id</th>\n",
       "      <th>timestamp</th>\n",
       "      <th>bid</th>\n",
       "      <th>win</th>\n",
       "      <th>conversion</th>\n",
       "    </tr>\n",
       "  </thead>\n",
       "  <tbody>\n",
       "    <tr>\n",
       "      <th>0</th>\n",
       "      <td>33.0</td>\n",
       "      <td>F</td>\n",
       "      <td>FL</td>\n",
       "      <td>1</td>\n",
       "      <td>00003e3b9e5336685200ae85d21b4f5e</td>\n",
       "      <td>2017-01-01 13:43:34</td>\n",
       "      <td>1.0</td>\n",
       "      <td>0.0</td>\n",
       "      <td>0.0</td>\n",
       "    </tr>\n",
       "    <tr>\n",
       "      <th>1</th>\n",
       "      <td>33.0</td>\n",
       "      <td>F</td>\n",
       "      <td>FL</td>\n",
       "      <td>1</td>\n",
       "      <td>00003e3b9e5336685200ae85d21b4f5e</td>\n",
       "      <td>2017-01-04 03:59:18</td>\n",
       "      <td>0.0</td>\n",
       "      <td>0.0</td>\n",
       "      <td>0.0</td>\n",
       "    </tr>\n",
       "    <tr>\n",
       "      <th>2</th>\n",
       "      <td>33.0</td>\n",
       "      <td>F</td>\n",
       "      <td>FL</td>\n",
       "      <td>1</td>\n",
       "      <td>00003e3b9e5336685200ae85d21b4f5e</td>\n",
       "      <td>2017-01-04 17:41:50</td>\n",
       "      <td>1.0</td>\n",
       "      <td>1.0</td>\n",
       "      <td>0.0</td>\n",
       "    </tr>\n",
       "    <tr>\n",
       "      <th>3</th>\n",
       "      <td>33.0</td>\n",
       "      <td>F</td>\n",
       "      <td>FL</td>\n",
       "      <td>1</td>\n",
       "      <td>00003e3b9e5336685200ae85d21b4f5e</td>\n",
       "      <td>2017-01-07 04:02:42</td>\n",
       "      <td>1.0</td>\n",
       "      <td>1.0</td>\n",
       "      <td>0.0</td>\n",
       "    </tr>\n",
       "    <tr>\n",
       "      <th>4</th>\n",
       "      <td>33.0</td>\n",
       "      <td>F</td>\n",
       "      <td>FL</td>\n",
       "      <td>1</td>\n",
       "      <td>00003e3b9e5336685200ae85d21b4f5e</td>\n",
       "      <td>2017-01-08 09:05:01</td>\n",
       "      <td>1.0</td>\n",
       "      <td>0.0</td>\n",
       "      <td>0.0</td>\n",
       "    </tr>\n",
       "  </tbody>\n",
       "</table>\n",
       "</div>"
      ],
      "text/plain": [
       "    age gender location  test                           user_id  \\\n",
       "0  33.0      F       FL     1  00003e3b9e5336685200ae85d21b4f5e   \n",
       "1  33.0      F       FL     1  00003e3b9e5336685200ae85d21b4f5e   \n",
       "2  33.0      F       FL     1  00003e3b9e5336685200ae85d21b4f5e   \n",
       "3  33.0      F       FL     1  00003e3b9e5336685200ae85d21b4f5e   \n",
       "4  33.0      F       FL     1  00003e3b9e5336685200ae85d21b4f5e   \n",
       "\n",
       "             timestamp  bid  win  conversion  \n",
       "0  2017-01-01 13:43:34  1.0  0.0         0.0  \n",
       "1  2017-01-04 03:59:18  0.0  0.0         0.0  \n",
       "2  2017-01-04 17:41:50  1.0  1.0         0.0  \n",
       "3  2017-01-07 04:02:42  1.0  1.0         0.0  \n",
       "4  2017-01-08 09:05:01  1.0  0.0         0.0  "
      ]
     },
     "execution_count": 6,
     "metadata": {},
     "output_type": "execute_result"
    }
   ],
   "source": [
    "users2=users2.drop_duplicates().reset_index(drop=True)\n",
    "bids=bids.drop_duplicates().reset_index(drop=True)\n",
    "final=users2.merge(bids,on='user_id',how='left')\n",
    "bids=bids.dropna().reset_index(drop=True)\n",
    "users2=users2.dropna().reset_index(drop=True)\n",
    "final=final.dropna().reset_index(drop=True)\n",
    "final.head()"
   ]
  },
  {
   "cell_type": "code",
   "execution_count": 7,
   "metadata": {},
   "outputs": [],
   "source": [
    "test=pd.DataFrame(users2[users2['test']==1])\n",
    "control=pd.DataFrame(users2[users2['test']==0])"
   ]
  },
  {
   "cell_type": "code",
   "execution_count": 8,
   "metadata": {},
   "outputs": [],
   "source": [
    "test2=pd.DataFrame(final[final['test']==1])\n",
    "control2=pd.DataFrame(final[final['test']==0])"
   ]
  },
  {
   "cell_type": "markdown",
   "metadata": {},
   "source": [
    "## User characteristics in the test and control"
   ]
  },
  {
   "cell_type": "code",
   "execution_count": 9,
   "metadata": {},
   "outputs": [
    {
     "name": "stdout",
     "output_type": "stream",
     "text": [
      "Number of Users:Test 56084,Control 43916\n"
     ]
    }
   ],
   "source": [
    "print('Number of Users:Test {},Control {}'.format(len(test), len(control)))"
   ]
  },
  {
   "cell_type": "markdown",
   "metadata": {},
   "source": [
    "### Gender distributions in the test and control groups are about the same."
   ]
  },
  {
   "cell_type": "code",
   "execution_count": 10,
   "metadata": {
    "scrolled": true
   },
   "outputs": [
    {
     "name": "stdout",
     "output_type": "stream",
     "text": [
      "Gender in the test group\n"
     ]
    },
    {
     "data": {
      "text/plain": [
       "F    50.117681\n",
       "M    49.882319\n",
       "Name: gender, dtype: float64"
      ]
     },
     "execution_count": 10,
     "metadata": {},
     "output_type": "execute_result"
    }
   ],
   "source": [
    "print('Gender in the test group')\n",
    "test['gender'].value_counts()/len(test)*100"
   ]
  },
  {
   "cell_type": "code",
   "execution_count": 11,
   "metadata": {},
   "outputs": [
    {
     "name": "stdout",
     "output_type": "stream",
     "text": [
      "Gender  in the control group\n"
     ]
    },
    {
     "data": {
      "text/plain": [
       "M    50.325622\n",
       "F    49.674378\n",
       "Name: gender, dtype: float64"
      ]
     },
     "execution_count": 11,
     "metadata": {},
     "output_type": "execute_result"
    }
   ],
   "source": [
    "print('Gender  in the control group')\n",
    "control['gender'].value_counts()/len(control)*100"
   ]
  },
  {
   "cell_type": "markdown",
   "metadata": {},
   "source": [
    "### Location distributions in the test and control groups are different, which could affect results."
   ]
  },
  {
   "cell_type": "code",
   "execution_count": 12,
   "metadata": {},
   "outputs": [
    {
     "data": {
      "text/plain": [
       "Text(0.5, 1.0, 'Location in the test group')"
      ]
     },
     "execution_count": 12,
     "metadata": {},
     "output_type": "execute_result"
    },
    {
     "data": {
      "image/png": "[encoded data removed]",
      "text/plain": [
       "<Figure size 432x288 with 1 Axes>"
      ]
     },
     "metadata": {
      "needs_background": "light"
     },
     "output_type": "display_data"
    }
   ],
   "source": [
    "sns.countplot(test['location'].sort_values())\n",
    "plt.title('Location in the test group')"
   ]
  },
  {
   "cell_type": "code",
   "execution_count": 13,
   "metadata": {},
   "outputs": [
    {
     "data": {
      "text/plain": [
       "Text(0.5, 1.0, 'Location in the control group')"
      ]
     },
     "execution_count": 13,
     "metadata": {},
     "output_type": "execute_result"
    },
    {
     "data": {
      "image/png": "[encoded data removed]",
      "text/plain": [
       "<Figure size 432x288 with 1 Axes>"
      ]
     },
     "metadata": {
      "needs_background": "light"
     },
     "output_type": "display_data"
    }
   ],
   "source": [
    "sns.countplot(control['location'].sort_values())\n",
    "plt.title('Location in the control group')"
   ]
  },
  {
   "cell_type": "markdown",
   "metadata": {},
   "source": [
    "### Age distributions in the test and control groups are about the same."
   ]
  },
  {
   "cell_type": "code",
   "execution_count": 14,
   "metadata": {},
   "outputs": [
    {
     "name": "stdout",
     "output_type": "stream",
     "text": [
      "Age in the test and control groups\n",
      "Median: Test 25.0,Control 25.0\n",
      "Mean: Test 25.493830682547607,Control 25.488364149740413\n",
      "Standard Deviation: Test 4.6043110471866955,Control 4.599852715678207\n"
     ]
    }
   ],
   "source": [
    "print('Age in the test and control groups')\n",
    "print('Median: Test {},Control {}'.format(np.median(test['age']), np.median(control['age'])))\n",
    "print('Mean: Test {},Control {}'.format(np.mean(test['age']), np.mean(control['age'])))\n",
    "print('Standard Deviation: Test {},Control {}'.format(np.std(test['age']),np.std(control['age'])))"
   ]
  },
  {
   "cell_type": "code",
   "execution_count": 15,
   "metadata": {},
   "outputs": [
    {
     "data": {
      "text/plain": [
       "<matplotlib.legend.Legend at 0x7f6d45e21460>"
      ]
     },
     "execution_count": 15,
     "metadata": {},
     "output_type": "execute_result"
    },
    {
     "data": {
      "image/png": "[encoded data removed]",
      "text/plain": [
       "<Figure size 432x288 with 1 Axes>"
      ]
     },
     "metadata": {
      "needs_background": "light"
     },
     "output_type": "display_data"
    }
   ],
   "source": [
    "plt.hist(test['age'], density=True,label = \"Test\", alpha = .5)\n",
    "plt.hist(control['age'],density=True,label = 'Control', alpha = .3)\n",
    "plt.title('Age in test and control groups')\n",
    "plt.legend(loc ='lower right')"
   ]
  },
  {
   "cell_type": "markdown",
   "metadata": {},
   "source": [
    "## Experiment results"
   ]
  },
  {
   "cell_type": "markdown",
   "metadata": {},
   "source": [
    "- The percentage of bids tells us the percentage of user requests we bid on.\n",
    "- The percentage of wins tells us how many ads we were able to serve, out of all of the bids we made.\n",
    "- The conversion rate tells us how many accepted offers there were, out of all of the times the ad was served."
   ]
  },
  {
   "cell_type": "code",
   "execution_count": 16,
   "metadata": {},
   "outputs": [
    {
     "name": "stdout",
     "output_type": "stream",
     "text": [
      "Percentage of Bids\n",
      "Test 49.97025685646047,Control 49.977680870789406\n"
     ]
    }
   ],
   "source": [
    "print(\"Percentage of Bids\")\n",
    "print('Test {},Control {}'.format(np.mean(test2['bid'])*100,np.mean(control2['bid'])*100))"
   ]
  },
  {
   "cell_type": "code",
   "execution_count": 17,
   "metadata": {},
   "outputs": [
    {
     "name": "stdout",
     "output_type": "stream",
     "text": [
      "Percentage of Bids Won\n",
      "Test 50.101867974367174,Control 50.05076529638536\n"
     ]
    }
   ],
   "source": [
    "#only look at wins for bids\n",
    "bidtest=test2[test2['bid']==1]\n",
    "bidcontrol=control2[control2['bid']==1]\n",
    "\n",
    "print(\"Percentage of Bids Won\")\n",
    "print('Test {},Control {}'.format(np.mean(bidtest['win'])*100,np.mean(bidcontrol['win'])*100))"
   ]
  },
  {
   "cell_type": "markdown",
   "metadata": {},
   "source": [
    "### Conversion rates were different in different states. "
   ]
  },
  {
   "cell_type": "code",
   "execution_count": 18,
   "metadata": {},
   "outputs": [],
   "source": [
    "#only look at conversions for wins in each group\n",
    "wintest=test2[test2['win']==1]\n",
    "wincontrol=control2[control2['win']==1]"
   ]
  },
  {
   "cell_type": "code",
   "execution_count": 19,
   "metadata": {},
   "outputs": [
    {
     "data": {
      "text/plain": [
       "Text(0.5, 1.0, 'Conversion rates by location in the test group')"
      ]
     },
     "execution_count": 19,
     "metadata": {},
     "output_type": "execute_result"
    },
    {
     "data": {
      "image/png": "[encoded data removed]",
      "text/plain": [
       "<Figure size 432x288 with 1 Axes>"
      ]
     },
     "metadata": {
      "needs_background": "light"
     },
     "output_type": "display_data"
    }
   ],
   "source": [
    "locs=pd.DataFrame(wintest.groupby(['location'])[['win','conversion']].sum()).reset_index()\n",
    "locs['conversion_rate']=locs['conversion']/locs['win']\n",
    "locs=locs.sort_values(['location'])\n",
    "locs2=pd.DataFrame(wincontrol.groupby(['location'])[['win','conversion']].sum()).reset_index()\n",
    "locs2['conversion_rate']=locs2['conversion']/locs2['win']\n",
    "locs2=locs2.sort_values(['location'])\n",
    "\n",
    "sns.barplot(locs['location'],locs['conversion_rate'])\n",
    "plt.title('Conversion rates by location in the test group')"
   ]
  },
  {
   "cell_type": "code",
   "execution_count": 20,
   "metadata": {},
   "outputs": [
    {
     "data": {
      "text/plain": [
       "Text(0.5, 1.0, 'Conversion rates by location in the control group')"
      ]
     },
     "execution_count": 20,
     "metadata": {},
     "output_type": "execute_result"
    },
    {
     "data": {
      "image/png": "[encoded data removed]",
      "text/plain": [
       "<Figure size 432x288 with 1 Axes>"
      ]
     },
     "metadata": {
      "needs_background": "light"
     },
     "output_type": "display_data"
    }
   ],
   "source": [
    "sns.barplot(locs2['location'],locs2['conversion_rate'])\n",
    "plt.title('Conversion rates by location in the control group')"
   ]
  },
  {
   "cell_type": "markdown",
   "metadata": {},
   "source": [
    "### The test group contained states with lower conversion rates. It's overall conversion rate may have been lowered because of this."
   ]
  },
  {
   "cell_type": "markdown",
   "metadata": {},
   "source": [
    "### The overall conversion rate was slightly higher in the control group."
   ]
  },
  {
   "cell_type": "code",
   "execution_count": 21,
   "metadata": {},
   "outputs": [
    {
     "name": "stdout",
     "output_type": "stream",
     "text": [
      "Overall Conversion rate\n",
      "Test 4.009693244281578,Control 4.153193825880056\n"
     ]
    }
   ],
   "source": [
    "print(\"Overall Conversion rate\")\n",
    "print('Test {},Control {}'.format(np.mean(wintest['conversion'])*100,np.mean(wincontrol['conversion'])*100))"
   ]
  },
  {
   "cell_type": "markdown",
   "metadata": {},
   "source": [
    "### I'll need to break out results by state, but first I'll look at the conversions distributions."
   ]
  },
  {
   "cell_type": "code",
   "execution_count": 22,
   "metadata": {},
   "outputs": [],
   "source": [
    "def plot_sample_means(test,control):\n",
    "    \n",
    "    tests=[]\n",
    "    controls=[]\n",
    "\n",
    "\n",
    "    for i in range(10000):\n",
    "        tes = np.random.choice(test,50, replace=True).mean()\n",
    "        con = np.random.choice(control, 50, replace=True).mean()\n",
    "\n",
    "        controls.append(con)\n",
    "        tests.append(tes)\n",
    "\n",
    "    plt.hist(controls, alpha=0.5, density=True,label='Control') \n",
    "    plt.hist(tests, alpha=0.3, density=True,label='Test') \n",
    "    plt.xticks(rotation=85)\n",
    "    plt.legend(loc='upper right')\n",
    "    plt.title('Sample Means: Conversions')\n",
    "    plt.show()\n",
    "\n",
    "    return (tests,controls)"
   ]
  },
  {
   "cell_type": "code",
   "execution_count": 23,
   "metadata": {
    "scrolled": true
   },
   "outputs": [
    {
     "data": {
      "image/png": "[encoded data removed]",
      "text/plain": [
       "<Figure size 432x288 with 1 Axes>"
      ]
     },
     "metadata": {
      "needs_background": "light"
     },
     "output_type": "display_data"
    }
   ],
   "source": [
    "tests,controls=plot_sample_means(wintest['conversion'],wincontrol['conversion'])"
   ]
  },
  {
   "cell_type": "markdown",
   "metadata": {},
   "source": [
    "###  The sampled distribution of sample means for the conversion rates seem skewed. I'll check for normality using a Q-Q plot and this will tell me if I need to use Mann Whitney U instead of TTest for my probability test."
   ]
  },
  {
   "cell_type": "markdown",
   "metadata": {},
   "source": [
    "### Q-Q Plots"
   ]
  },
  {
   "cell_type": "code",
   "execution_count": 24,
   "metadata": {},
   "outputs": [],
   "source": [
    "rand1=np.random.normal(1, .5, 100)\n",
    "rand1.sort()\n",
    "#tests and controls\n",
    "wtest=np.random.choice(tests,100)\n",
    "wcontrol=np.random.choice(controls,100)\n",
    "wtest.sort()\n",
    "wcontrol.sort()"
   ]
  },
  {
   "cell_type": "markdown",
   "metadata": {},
   "source": [
    "### If the sample distribution of sample means for conversions was normal then these plots would form a diagonal line."
   ]
  },
  {
   "cell_type": "code",
   "execution_count": 25,
   "metadata": {},
   "outputs": [
    {
     "data": {
      "text/plain": [
       "Text(0.5, 1.0, 'Test sample means vs normal distribution')"
      ]
     },
     "execution_count": 25,
     "metadata": {},
     "output_type": "execute_result"
    },
    {
     "data": {
      "image/png": "[encoded data removed]",
      "text/plain": [
       "<Figure size 432x288 with 1 Axes>"
      ]
     },
     "metadata": {
      "needs_background": "light"
     },
     "output_type": "display_data"
    }
   ],
   "source": [
    "plt.plot(rand1,wtest,'o')\n",
    "plt.title('Test sample means vs normal distribution')"
   ]
  },
  {
   "cell_type": "code",
   "execution_count": 26,
   "metadata": {},
   "outputs": [
    {
     "data": {
      "text/plain": [
       "Text(0.5, 1.0, 'Control sample means vs normal distribution')"
      ]
     },
     "execution_count": 26,
     "metadata": {},
     "output_type": "execute_result"
    },
    {
     "data": {
      "image/png": "[encoded data removed]",
      "text/plain": [
       "<Figure size 432x288 with 1 Axes>"
      ]
     },
     "metadata": {
      "needs_background": "light"
     },
     "output_type": "display_data"
    }
   ],
   "source": [
    "plt.plot(rand1,wcontrol,'o')\n",
    "plt.title('Control sample means vs normal distribution')"
   ]
  },
  {
   "cell_type": "markdown",
   "metadata": {},
   "source": [
    "## Break out results by state"
   ]
  },
  {
   "cell_type": "code",
   "execution_count": 27,
   "metadata": {},
   "outputs": [
    {
     "name": "stdout",
     "output_type": "stream",
     "text": [
      "GA\n"
     ]
    },
    {
     "data": {
      "image/png": "[encoded data removed]",
      "text/plain": [
       "<Figure size 432x288 with 1 Axes>"
      ]
     },
     "metadata": {
      "needs_background": "light"
     },
     "output_type": "display_data"
    },
    {
     "name": "stdout",
     "output_type": "stream",
     "text": [
      "Ttest_indResult(statistic=2.0832290115145393, pvalue=0.037249302887066814)\n",
      "MannwhitneyuResult(statistic=22092633.0, pvalue=0.018627295552976892)\n",
      "Conversion rates: Test 5.567964262922782, Control 4.770616380523501\n",
      "                              \n",
      "SC\n"
     ]
    },
    {
     "data": {
      "image/png": "[encoded data removed]",
      "text/plain": [
       "<Figure size 432x288 with 1 Axes>"
      ]
     },
     "metadata": {
      "needs_background": "light"
     },
     "output_type": "display_data"
    },
    {
     "name": "stdout",
     "output_type": "stream",
     "text": [
      "Ttest_indResult(statistic=1.7432931972534298, pvalue=0.08130466084238078)\n",
      "MannwhitneyuResult(statistic=23371592.0, pvalue=0.04065289281041387)\n",
      "Conversion rates: Test 6.403537504094333, Control 5.69390402075227\n",
      "                              \n",
      "AR\n"
     ]
    },
    {
     "data": {
      "image/png": "[encoded data removed]",
      "text/plain": [
       "<Figure size 432x288 with 1 Axes>"
      ]
     },
     "metadata": {
      "needs_background": "light"
     },
     "output_type": "display_data"
    },
    {
     "name": "stdout",
     "output_type": "stream",
     "text": [
      "Ttest_indResult(statistic=4.318549755499415, pvalue=1.5815844510087268e-05)\n",
      "MannwhitneyuResult(statistic=22975966.0, pvalue=7.952179695390996e-06)\n",
      "Conversion rates: Test 6.431129925105829, Control 4.743758212877792\n",
      "                              \n",
      "AL\n"
     ]
    },
    {
     "data": {
      "image/png": "[encoded data removed]",
      "text/plain": [
       "<Figure size 432x288 with 1 Axes>"
      ]
     },
     "metadata": {
      "needs_background": "light"
     },
     "output_type": "display_data"
    },
    {
     "name": "stdout",
     "output_type": "stream",
     "text": [
      "Ttest_indResult(statistic=3.526831457619122, pvalue=0.000421936849052911)\n",
      "MannwhitneyuResult(statistic=17698160.0, pvalue=0.0002114613080136907)\n",
      "Conversion rates: Test 1.5419147067434371, Control 0.7466973004020678\n",
      "                              \n",
      "KY\n"
     ]
    },
    {
     "data": {
      "image/png": "[encoded data removed]",
      "text/plain": [
       "<Figure size 432x288 with 1 Axes>"
      ]
     },
     "metadata": {
      "needs_background": "light"
     },
     "output_type": "display_data"
    },
    {
     "name": "stdout",
     "output_type": "stream",
     "text": [
      "Ttest_indResult(statistic=2.881133079539736, pvalue=0.003968564841668542)\n",
      "MannwhitneyuResult(statistic=23582682.0, pvalue=0.0019860508539496276)\n",
      "Conversion rates: Test 6.050156739811912, Control 4.935794542536116\n",
      "                              \n",
      "VA\n"
     ]
    },
    {
     "data": {
      "image/png": "[encoded data removed]",
      "text/plain": [
       "<Figure size 432x288 with 1 Axes>"
      ]
     },
     "metadata": {
      "needs_background": "light"
     },
     "output_type": "display_data"
    },
    {
     "name": "stdout",
     "output_type": "stream",
     "text": [
      "Ttest_indResult(statistic=2.2512467114447356, pvalue=0.024385876822207483)\n",
      "MannwhitneyuResult(statistic=22532798.0, pvalue=0.012195844213941187)\n",
      "Conversion rates: Test 5.415575916230367, Control 4.57235072619688\n",
      "                              \n",
      "NC\n"
     ]
    },
    {
     "data": {
      "image/png": "[encoded data removed]",
      "text/plain": [
       "<Figure size 432x288 with 1 Axes>"
      ]
     },
     "metadata": {
      "needs_background": "light"
     },
     "output_type": "display_data"
    },
    {
     "name": "stdout",
     "output_type": "stream",
     "text": [
      "Ttest_indResult(statistic=4.9077951156648965, pvalue=9.315397535763049e-07)\n",
      "MannwhitneyuResult(statistic=18108504.0, pvalue=4.7024345583483185e-07)\n",
      "Conversion rates: Test 1.680101000291347, Control 0.562271577171774\n",
      "                              \n",
      "LA\n"
     ]
    },
    {
     "data": {
      "image/png": "[encoded data removed]",
      "text/plain": [
       "<Figure size 432x288 with 1 Axes>"
      ]
     },
     "metadata": {
      "needs_background": "light"
     },
     "output_type": "display_data"
    },
    {
     "name": "stdout",
     "output_type": "stream",
     "text": [
      "Ttest_indResult(statistic=0.9251568724005208, pvalue=0.354900872317904)\n",
      "MannwhitneyuResult(statistic=22497934.0, pvalue=0.17744225753863713)\n",
      "Conversion rates: Test 6.362757731958762, Control 5.978559648158329\n",
      "                              \n",
      "TN\n"
     ]
    },
    {
     "data": {
      "image/png": "[encoded data removed]",
      "text/plain": [
       "<Figure size 432x288 with 1 Axes>"
      ]
     },
     "metadata": {
      "needs_background": "light"
     },
     "output_type": "display_data"
    },
    {
     "name": "stdout",
     "output_type": "stream",
     "text": [
      "Ttest_indResult(statistic=5.110118087927024, pvalue=3.262804646832205e-07)\n",
      "MannwhitneyuResult(statistic=16722699.5, pvalue=1.650123241617015e-07)\n",
      "Conversion rates: Test 2.3335555767215923, Control 0.8972772277227722\n",
      "                              \n",
      "MS\n"
     ]
    },
    {
     "data": {
      "image/png": "[encoded data removed]",
      "text/plain": [
       "<Figure size 432x288 with 1 Axes>"
      ]
     },
     "metadata": {
      "needs_background": "light"
     },
     "output_type": "display_data"
    },
    {
     "name": "stdout",
     "output_type": "stream",
     "text": [
      "Ttest_indResult(statistic=3.9686061830916013, pvalue=7.26637615460172e-05)\n",
      "MannwhitneyuResult(statistic=17544725.5, pvalue=3.647466055747221e-05)\n",
      "Conversion rates: Test 2.110533032296064, Control 1.062912956047113\n",
      "                              \n",
      "FL\n"
     ]
    },
    {
     "data": {
      "image/png": "[encoded data removed]",
      "text/plain": [
       "<Figure size 432x288 with 1 Axes>"
      ]
     },
     "metadata": {
      "needs_background": "light"
     },
     "output_type": "display_data"
    },
    {
     "name": "stdout",
     "output_type": "stream",
     "text": [
      "Ttest_indResult(statistic=3.139721307364933, pvalue=0.0016947748670345382)\n",
      "MannwhitneyuResult(statistic=21864641.0, pvalue=0.0008485707450219889)\n",
      "Conversion rates: Test 5.757033664010408, Control 4.556821339260906\n",
      "                              \n"
     ]
    }
   ],
   "source": [
    "for loc in list(set(wintest['location'])):\n",
    "    print(loc)\n",
    "    test=pd.DataFrame(wintest[wintest['location']==loc])['conversion']\n",
    "    control=pd.DataFrame(wincontrol[wincontrol['location']==loc])['conversion']\n",
    "    tests,controls=plot_sample_means(test, control)\n",
    "    print(ttest_ind(test, control))\n",
    "    print(mannwhitneyu(test, control))       \n",
    "    print('Conversion rates: Test {}, Control {}'.format(np.mean(test)*100,np.mean(control)*100))\n",
    "    print(\"                              \")"
   ]
  },
  {
   "cell_type": "markdown",
   "metadata": {},
   "source": [
    "### The p value for the LA state Mann Whitney U test is too high, so results for LA are not conclusive, but for the other states the null hypothesis did not hold.  The new creative likely did affect conversion rates in these other states in the test group. In all of the states the conversion rate in the test group was higher."
   ]
  },
  {
   "cell_type": "markdown",
   "metadata": {},
   "source": [
    "## Would retargeting have helped in this campaign?"
   ]
  },
  {
   "cell_type": "code",
   "execution_count": 28,
   "metadata": {},
   "outputs": [],
   "source": [
    "# Find out how many times a user has been served & how many times a converted user has been served\n",
    "\n",
    "bids=bids.sort_values(['user_id','timestamp']).reset_index(drop=True)\n",
    "\n",
    "save='goo'\n",
    "times=[]\n",
    "timesafter=[]\n",
    "for i,j,k in zip(bids['user_id'],bids['win'],bids['conversion']):\n",
    "    if save!=i:\n",
    "        count=0\n",
    "        count2=0\n",
    "        countcon=0\n",
    "    if j==1:\n",
    "        count+=1\n",
    "    if (j==1 and countcon==1):\n",
    "        count2+=1\n",
    "    if k==1:\n",
    "        countcon=1\n",
    "    times.append(count)\n",
    "    timesafter.append(count2)\n",
    "    save=i\n",
    "bids['times_served']=times\n",
    "bids['served_to_converted']=timesafter"
   ]
  },
  {
   "cell_type": "code",
   "execution_count": 29,
   "metadata": {},
   "outputs": [
    {
     "data": {
      "text/html": [
       "<div>\n",
       "<style scoped>\n",
       "    .dataframe tbody tr th:only-of-type {\n",
       "        vertical-align: middle;\n",
       "    }\n",
       "\n",
       "    .dataframe tbody tr th {\n",
       "        vertical-align: top;\n",
       "    }\n",
       "\n",
       "    .dataframe thead th {\n",
       "        text-align: right;\n",
       "    }\n",
       "</style>\n",
       "<table border=\"1\" class=\"dataframe\">\n",
       "  <thead>\n",
       "    <tr style=\"text-align: right;\">\n",
       "      <th></th>\n",
       "      <th>timestamp</th>\n",
       "      <th>user_id</th>\n",
       "      <th>bid</th>\n",
       "      <th>win</th>\n",
       "      <th>conversion</th>\n",
       "      <th>times_served</th>\n",
       "      <th>served_to_converted</th>\n",
       "    </tr>\n",
       "  </thead>\n",
       "  <tbody>\n",
       "    <tr>\n",
       "      <th>0</th>\n",
       "      <td>2017-01-01 13:43:34</td>\n",
       "      <td>00003e3b9e5336685200ae85d21b4f5e</td>\n",
       "      <td>1</td>\n",
       "      <td>0</td>\n",
       "      <td>0</td>\n",
       "      <td>0</td>\n",
       "      <td>0</td>\n",
       "    </tr>\n",
       "    <tr>\n",
       "      <th>1</th>\n",
       "      <td>2017-01-04 03:59:18</td>\n",
       "      <td>00003e3b9e5336685200ae85d21b4f5e</td>\n",
       "      <td>0</td>\n",
       "      <td>0</td>\n",
       "      <td>0</td>\n",
       "      <td>0</td>\n",
       "      <td>0</td>\n",
       "    </tr>\n",
       "    <tr>\n",
       "      <th>2</th>\n",
       "      <td>2017-01-04 17:41:50</td>\n",
       "      <td>00003e3b9e5336685200ae85d21b4f5e</td>\n",
       "      <td>1</td>\n",
       "      <td>1</td>\n",
       "      <td>0</td>\n",
       "      <td>1</td>\n",
       "      <td>0</td>\n",
       "    </tr>\n",
       "    <tr>\n",
       "      <th>3</th>\n",
       "      <td>2017-01-07 04:02:42</td>\n",
       "      <td>00003e3b9e5336685200ae85d21b4f5e</td>\n",
       "      <td>1</td>\n",
       "      <td>1</td>\n",
       "      <td>0</td>\n",
       "      <td>2</td>\n",
       "      <td>0</td>\n",
       "    </tr>\n",
       "    <tr>\n",
       "      <th>4</th>\n",
       "      <td>2017-01-08 09:05:01</td>\n",
       "      <td>00003e3b9e5336685200ae85d21b4f5e</td>\n",
       "      <td>1</td>\n",
       "      <td>0</td>\n",
       "      <td>0</td>\n",
       "      <td>2</td>\n",
       "      <td>0</td>\n",
       "    </tr>\n",
       "  </tbody>\n",
       "</table>\n",
       "</div>"
      ],
      "text/plain": [
       "             timestamp                           user_id  bid  win  \\\n",
       "0  2017-01-01 13:43:34  00003e3b9e5336685200ae85d21b4f5e    1    0   \n",
       "1  2017-01-04 03:59:18  00003e3b9e5336685200ae85d21b4f5e    0    0   \n",
       "2  2017-01-04 17:41:50  00003e3b9e5336685200ae85d21b4f5e    1    1   \n",
       "3  2017-01-07 04:02:42  00003e3b9e5336685200ae85d21b4f5e    1    1   \n",
       "4  2017-01-08 09:05:01  00003e3b9e5336685200ae85d21b4f5e    1    0   \n",
       "\n",
       "   conversion  times_served  served_to_converted  \n",
       "0           0             0                    0  \n",
       "1           0             0                    0  \n",
       "2           0             1                    0  \n",
       "3           0             2                    0  \n",
       "4           0             2                    0  "
      ]
     },
     "execution_count": 29,
     "metadata": {},
     "output_type": "execute_result"
    }
   ],
   "source": [
    "bids.head()"
   ]
  },
  {
   "cell_type": "code",
   "execution_count": 30,
   "metadata": {},
   "outputs": [
    {
     "data": {
      "text/plain": [
       "'Conversion rate for converted 5.876229034123771'"
      ]
     },
     "execution_count": 30,
     "metadata": {},
     "output_type": "execute_result"
    }
   ],
   "source": [
    "# Look only at the activity of the previously converted \n",
    "bidscon=pd.DataFrame(bids[bids['served_to_converted']>0])\n",
    "# Look only at wins for the previously converted\n",
    "bidsconwin=pd.DataFrame(bidscon[bidscon['win']==1])\n",
    "\"Conversion rate for converted {}\".format(np.mean(bidsconwin['conversion'])*100)"
   ]
  },
  {
   "cell_type": "code",
   "execution_count": 31,
   "metadata": {},
   "outputs": [
    {
     "data": {
      "text/plain": [
       "'Conversion rate for unconverted 3.9621521545571463'"
      ]
     },
     "execution_count": 31,
     "metadata": {},
     "output_type": "execute_result"
    }
   ],
   "source": [
    "# Look only at wins for the unconverted\n",
    "bidsnot=pd.DataFrame(bids[bids['served_to_converted']==0])\n",
    "bidswon=pd.DataFrame(bidsnot[bidsnot['win']==1])\n",
    "\"Conversion rate for unconverted {}\".format(np.mean(bidswon['conversion'])*100)"
   ]
  },
  {
   "cell_type": "code",
   "execution_count": 32,
   "metadata": {},
   "outputs": [
    {
     "data": {
      "image/png": "[encoded data removed]",
      "text/plain": [
       "<Figure size 432x288 with 1 Axes>"
      ]
     },
     "metadata": {
      "needs_background": "light"
     },
     "output_type": "display_data"
    },
    {
     "name": "stdout",
     "output_type": "stream",
     "text": [
      "MannwhitneyuResult(statistic=599985966.5, pvalue=1.1534574793122919e-18)\n",
      "Ttest_indResult(statistic=-8.743374442650786, pvalue=2.2851847817288605e-18)\n",
      "                              \n"
     ]
    }
   ],
   "source": [
    "    tests=[]\n",
    "    controls=[]\n",
    "\n",
    "\n",
    "    for i in range(10000):\n",
    "        tes = np.random.choice(bidswon['conversion'],50, replace=True).mean()\n",
    "        con = np.random.choice(bidsconwin['conversion'], 50, replace=True).mean()\n",
    "        \n",
    "        tests.append(tes)\n",
    "        controls.append(con)\n",
    "        \n",
    "\n",
    "    plt.hist(tests, alpha=0.5, density=True,label='Conversion') \n",
    "    plt.hist(controls, alpha=0.3, density=True,label='Reconversion') \n",
    "    plt.xticks(rotation=85)\n",
    "    plt.legend(loc='upper right')\n",
    "    plt.title('Sample Means: Conversions and Reconversions')\n",
    "    plt.show()\n",
    "\n",
    "    print(mannwhitneyu(bidswon['conversion'], bidsconwin['conversion']))\n",
    "    print(ttest_ind(bidswon['conversion'], bidsconwin['conversion']))\n",
    "    print(\"                              \")"
   ]
  },
  {
   "cell_type": "markdown",
   "metadata": {},
   "source": [
    "### The p value for Mann Whitney U (and Ttest) is below 0.05 which means that the conversion rate amongst converted users really was higher than the conversion rate amongst the unconverted."
   ]
  },
  {
   "cell_type": "markdown",
   "metadata": {},
   "source": [
    "### Q tests show that both distributions are skewed"
   ]
  },
  {
   "cell_type": "code",
   "execution_count": 33,
   "metadata": {},
   "outputs": [],
   "source": [
    "rand1=np.random.normal(1, .5, 100)\n",
    "rand1.sort()\n",
    "#tests and controls\n",
    "wtest=np.random.choice(tests,100)\n",
    "wcontrol=np.random.choice(controls,100)\n",
    "wtest.sort()\n",
    "wcontrol.sort()"
   ]
  },
  {
   "cell_type": "code",
   "execution_count": 34,
   "metadata": {},
   "outputs": [
    {
     "data": {
      "text/plain": [
       "Text(0.5, 1.0, 'Test sample means vs normal distribution')"
      ]
     },
     "execution_count": 34,
     "metadata": {},
     "output_type": "execute_result"
    },
    {
     "data": {
      "image/png": "[encoded data removed]",
      "text/plain": [
       "<Figure size 432x288 with 1 Axes>"
      ]
     },
     "metadata": {
      "needs_background": "light"
     },
     "output_type": "display_data"
    }
   ],
   "source": [
    "plt.plot(rand1,wtest,'o')\n",
    "plt.title('Test sample means vs normal distribution')"
   ]
  },
  {
   "cell_type": "code",
   "execution_count": 35,
   "metadata": {},
   "outputs": [
    {
     "data": {
      "text/plain": [
       "Text(0.5, 1.0, 'Test sample means vs normal distribution')"
      ]
     },
     "execution_count": 35,
     "metadata": {},
     "output_type": "execute_result"
    },
    {
     "data": {
      "image/png": "[encoded data removed]",
      "text/plain": [
       "<Figure size 432x288 with 1 Axes>"
      ]
     },
     "metadata": {
      "needs_background": "light"
     },
     "output_type": "display_data"
    }
   ],
   "source": [
    "plt.plot(rand1,wcontrol,'o')\n",
    "plt.title('Test sample means vs normal distribution')"
   ]
  },
  {
   "cell_type": "markdown",
   "metadata": {},
   "source": [
    "Exercises / Questions\n",
    "    1. What do the different distributions of requests by users tell us?\n",
    "    \n",
    "The distributions of user characteristics in the test and control groups were about the same except for user locations. The test group contained states with lower conversion rates.\n",
    "\n",
    "When I broke out results by state, I found that the conversion rate for each state except for LA was higher in the test group than in the control group. Results for LA were not conclusive.\n",
    "\n",
    "    2. Based on insights from #1, was the test effective?\n",
    "Were test users more likely to convert than control users? Yes. I rejected the null hypothesis for all but the state of LA, and concluded that conversion rates for the states in the test group were higher than those of the same states in the control group. \n",
    "\n",
    "    3. Should we consider retargeting users that have previously converted?\n",
    "Retargeting previously converted users in this particular campaign would have improved performance. The conversion rate in the converted users group was almost 2 points higher than the one in the  unconverted users group."
   ]
  },
  {
   "cell_type": "code",
   "execution_count": null,
   "metadata": {},
   "outputs": [],
   "source": []
  },
  {
   "cell_type": "code",
   "execution_count": null,
   "metadata": {},
   "outputs": [],
   "source": []
  }
 ],
 "metadata": {
  "kernelspec": {
   "display_name": "Python 3",
   "language": "python",
   "name": "python3"
  },
  "language_info": {
   "codemirror_mode": {
    "name": "ipython",
    "version": 3
   },
   "file_extension": ".py",
   "mimetype": "text/x-python",
   "name": "python",
   "nbconvert_exporter": "python",
   "pygments_lexer": "ipython3",
   "version": "3.8.5"
  }
 },
 "nbformat": 4,
 "nbformat_minor": 4
}
