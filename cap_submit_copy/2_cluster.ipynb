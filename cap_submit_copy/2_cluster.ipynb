{
 "cells": [
  {
   "cell_type": "markdown",
   "metadata": {},
   "source": [
    "Next I'm going to use Spectral Clustering to cluster the Levenshtein distances. I can choose the number of clusters and since I know there are 3 datasets I will choose 3. Let's see if we can get some overlap between clusters using this method. "
   ]
  },
  {
   "cell_type": "code",
   "execution_count": 1,
   "metadata": {},
   "outputs": [],
   "source": [
    "import pandas as pd\n",
    "import numpy as np\n",
    "from sklearn.cluster import AffinityPropagation as Aff\n",
    "import numpy as np\n",
    "import distance\n",
    "from sklearn import metrics\n",
    "import matplotlib.pyplot as plt\n",
    "\n",
    "%matplotlib inline\n",
    "import Levenshtein as lev\n",
    "import editdistance as ed\n",
    "import seaborn as sns"
   ]
  },
  {
   "cell_type": "markdown",
   "metadata": {},
   "source": [
    "First I'll import and clean the test and train data."
   ]
  },
  {
   "cell_type": "code",
   "execution_count": 194,
   "metadata": {},
   "outputs": [
    {
     "data": {
      "text/html": [
       "<div>\n",
       "<style scoped>\n",
       "    .dataframe tbody tr th:only-of-type {\n",
       "        vertical-align: middle;\n",
       "    }\n",
       "\n",
       "    .dataframe tbody tr th {\n",
       "        vertical-align: top;\n",
       "    }\n",
       "\n",
       "    .dataframe thead th {\n",
       "        text-align: right;\n",
       "    }\n",
       "</style>\n",
       "<table border=\"1\" class=\"dataframe\">\n",
       "  <thead>\n",
       "    <tr style=\"text-align: right;\">\n",
       "      <th></th>\n",
       "      <th>Unnamed: 0</th>\n",
       "      <th>abstract</th>\n",
       "      <th>match</th>\n",
       "      <th>med</th>\n",
       "      <th>symbols</th>\n",
       "      <th>blurb8</th>\n",
       "      <th>tokens</th>\n",
       "      <th>lemmas</th>\n",
       "      <th>lemmastr</th>\n",
       "    </tr>\n",
       "  </thead>\n",
       "  <tbody>\n",
       "    <tr>\n",
       "      <th>0</th>\n",
       "      <td>0</td>\n",
       "      <td>NaN</td>\n",
       "      <td>0.0</td>\n",
       "      <td>0</td>\n",
       "      <td>TP53</td>\n",
       "      <td>TP53 is tumor protein p53 (human),also BCC7, ...</td>\n",
       "      <td>TP53 is tumor protein p53 (human),also BCC7, ...</td>\n",
       "      <td>[' ', 'tp53', 'tumor', 'protein', '(', 'human)...</td>\n",
       "      <td>,tp53,tumor,protein,(,human),also,bcc7,,,lfs1...</td>\n",
       "    </tr>\n",
       "    <tr>\n",
       "      <th>1</th>\n",
       "      <td>1</td>\n",
       "      <td>NaN</td>\n",
       "      <td>0.0</td>\n",
       "      <td>0</td>\n",
       "      <td>EGFR</td>\n",
       "      <td>EGFR is epidermal growth factor receptor (hum...</td>\n",
       "      <td>EGFR is epidermal growth factor receptor (hum...</td>\n",
       "      <td>[' ', 'egfr', 'epidermal', 'growth', 'factor',...</td>\n",
       "      <td>,egfr,epidermal,growth,factor,receptor,(,huma...</td>\n",
       "    </tr>\n",
       "    <tr>\n",
       "      <th>2</th>\n",
       "      <td>2</td>\n",
       "      <td>NaN</td>\n",
       "      <td>0.0</td>\n",
       "      <td>0</td>\n",
       "      <td>TNF</td>\n",
       "      <td>TNF is tumor necrosis factor (human),also DIF...</td>\n",
       "      <td>TNF is tumor necrosis factor (human),also DIF...</td>\n",
       "      <td>[' ', 'tnf', 'tumor', 'necrosis', 'factor', '(...</td>\n",
       "      <td>,tnf,tumor,necrosis,factor,(,human),also,dif,...</td>\n",
       "    </tr>\n",
       "    <tr>\n",
       "      <th>3</th>\n",
       "      <td>3</td>\n",
       "      <td>NaN</td>\n",
       "      <td>0.0</td>\n",
       "      <td>0</td>\n",
       "      <td>APOE</td>\n",
       "      <td>APOE is apolipoprotein E (human),also AD2, AP...</td>\n",
       "      <td>APOE is apolipoprotein E (human),also AD2, AP...</td>\n",
       "      <td>[' ', 'apoe', 'apolipoprotein', 'e', '(', 'hum...</td>\n",
       "      <td>,apoe,apolipoprotein,e,(,human),also,ad2,,,ap...</td>\n",
       "    </tr>\n",
       "    <tr>\n",
       "      <th>4</th>\n",
       "      <td>4</td>\n",
       "      <td>NaN</td>\n",
       "      <td>0.0</td>\n",
       "      <td>0</td>\n",
       "      <td>VEGFA</td>\n",
       "      <td>VEGFA is vascular endothelial growth factor A...</td>\n",
       "      <td>VEGFA is vascular endothelial growth factor A...</td>\n",
       "      <td>[' ', 'vegfa', 'vascular', 'endothelial', 'gro...</td>\n",
       "      <td>,vegfa,vascular,endothelial,growth,factor,a,(...</td>\n",
       "    </tr>\n",
       "  </tbody>\n",
       "</table>\n",
       "</div>"
      ],
      "text/plain": [
       "   Unnamed: 0  abstract  match  med symbols  \\\n",
       "0           0       NaN    0.0    0    TP53   \n",
       "1           1       NaN    0.0    0    EGFR   \n",
       "2           2       NaN    0.0    0     TNF   \n",
       "3           3       NaN    0.0    0    APOE   \n",
       "4           4       NaN    0.0    0   VEGFA   \n",
       "\n",
       "                                              blurb8  \\\n",
       "0   TP53 is tumor protein p53 (human),also BCC7, ...   \n",
       "1   EGFR is epidermal growth factor receptor (hum...   \n",
       "2   TNF is tumor necrosis factor (human),also DIF...   \n",
       "3   APOE is apolipoprotein E (human),also AD2, AP...   \n",
       "4   VEGFA is vascular endothelial growth factor A...   \n",
       "\n",
       "                                              tokens  \\\n",
       "0   TP53 is tumor protein p53 (human),also BCC7, ...   \n",
       "1   EGFR is epidermal growth factor receptor (hum...   \n",
       "2   TNF is tumor necrosis factor (human),also DIF...   \n",
       "3   APOE is apolipoprotein E (human),also AD2, AP...   \n",
       "4   VEGFA is vascular endothelial growth factor A...   \n",
       "\n",
       "                                              lemmas  \\\n",
       "0  [' ', 'tp53', 'tumor', 'protein', '(', 'human)...   \n",
       "1  [' ', 'egfr', 'epidermal', 'growth', 'factor',...   \n",
       "2  [' ', 'tnf', 'tumor', 'necrosis', 'factor', '(...   \n",
       "3  [' ', 'apoe', 'apolipoprotein', 'e', '(', 'hum...   \n",
       "4  [' ', 'vegfa', 'vascular', 'endothelial', 'gro...   \n",
       "\n",
       "                                            lemmastr  \n",
       "0   ,tp53,tumor,protein,(,human),also,bcc7,,,lfs1...  \n",
       "1   ,egfr,epidermal,growth,factor,receptor,(,huma...  \n",
       "2   ,tnf,tumor,necrosis,factor,(,human),also,dif,...  \n",
       "3   ,apoe,apolipoprotein,e,(,human),also,ad2,,,ap...  \n",
       "4   ,vegfa,vascular,endothelial,growth,factor,a,(...  "
      ]
     },
     "execution_count": 194,
     "metadata": {},
     "output_type": "execute_result"
    }
   ],
   "source": [
    "#import train data\n",
    "train=pd.read_csv('traindf')\n",
    "train.shape"
   ]
  },
  {
   "cell_type": "code",
   "execution_count": 119,
   "metadata": {},
   "outputs": [],
   "source": [
    "#prepare categories for modeling\n",
    "train['abstracts'] = train['abstract'].fillna(0)\n",
    "train['meds']=train['med'].fillna(0) "
   ]
  },
  {
   "cell_type": "code",
   "execution_count": 120,
   "metadata": {},
   "outputs": [
    {
     "data": {
      "text/html": [
       "<div>\n",
       "<style scoped>\n",
       "    .dataframe tbody tr th:only-of-type {\n",
       "        vertical-align: middle;\n",
       "    }\n",
       "\n",
       "    .dataframe tbody tr th {\n",
       "        vertical-align: top;\n",
       "    }\n",
       "\n",
       "    .dataframe thead th {\n",
       "        text-align: right;\n",
       "    }\n",
       "</style>\n",
       "<table border=\"1\" class=\"dataframe\">\n",
       "  <thead>\n",
       "    <tr style=\"text-align: right;\">\n",
       "      <th></th>\n",
       "      <th>Unnamed: 0</th>\n",
       "      <th>match</th>\n",
       "      <th>symbols</th>\n",
       "      <th>blurb8</th>\n",
       "      <th>tokens</th>\n",
       "      <th>lemmas</th>\n",
       "      <th>lemmastr</th>\n",
       "      <th>abstracts</th>\n",
       "      <th>meds</th>\n",
       "      <th>abstracts2</th>\n",
       "      <th>meds2</th>\n",
       "      <th>sets2</th>\n",
       "    </tr>\n",
       "  </thead>\n",
       "  <tbody>\n",
       "    <tr>\n",
       "      <th>0</th>\n",
       "      <td>0</td>\n",
       "      <td>0.0</td>\n",
       "      <td>TP53</td>\n",
       "      <td>TP53 is tumor protein p53 (human),also BCC7, ...</td>\n",
       "      <td>TP53 is tumor protein p53 (human),also BCC7, ...</td>\n",
       "      <td>[' ', 'tp53', 'tumor', 'protein', '(', 'human)...</td>\n",
       "      <td>,tp53,tumor,protein,(,human),also,bcc7,,,lfs1...</td>\n",
       "      <td>0.0</td>\n",
       "      <td>0</td>\n",
       "      <td></td>\n",
       "      <td></td>\n",
       "      <td>g</td>\n",
       "    </tr>\n",
       "    <tr>\n",
       "      <th>1</th>\n",
       "      <td>1</td>\n",
       "      <td>0.0</td>\n",
       "      <td>EGFR</td>\n",
       "      <td>EGFR is epidermal growth factor receptor (hum...</td>\n",
       "      <td>EGFR is epidermal growth factor receptor (hum...</td>\n",
       "      <td>[' ', 'egfr', 'epidermal', 'growth', 'factor',...</td>\n",
       "      <td>,egfr,epidermal,growth,factor,receptor,(,huma...</td>\n",
       "      <td>0.0</td>\n",
       "      <td>0</td>\n",
       "      <td></td>\n",
       "      <td></td>\n",
       "      <td>g</td>\n",
       "    </tr>\n",
       "    <tr>\n",
       "      <th>2</th>\n",
       "      <td>2</td>\n",
       "      <td>0.0</td>\n",
       "      <td>TNF</td>\n",
       "      <td>TNF is tumor necrosis factor (human),also DIF...</td>\n",
       "      <td>TNF is tumor necrosis factor (human),also DIF...</td>\n",
       "      <td>[' ', 'tnf', 'tumor', 'necrosis', 'factor', '(...</td>\n",
       "      <td>,tnf,tumor,necrosis,factor,(,human),also,dif,...</td>\n",
       "      <td>0.0</td>\n",
       "      <td>0</td>\n",
       "      <td></td>\n",
       "      <td></td>\n",
       "      <td>g</td>\n",
       "    </tr>\n",
       "    <tr>\n",
       "      <th>3</th>\n",
       "      <td>3</td>\n",
       "      <td>0.0</td>\n",
       "      <td>APOE</td>\n",
       "      <td>APOE is apolipoprotein E (human),also AD2, AP...</td>\n",
       "      <td>APOE is apolipoprotein E (human),also AD2, AP...</td>\n",
       "      <td>[' ', 'apoe', 'apolipoprotein', 'e', '(', 'hum...</td>\n",
       "      <td>,apoe,apolipoprotein,e,(,human),also,ad2,,,ap...</td>\n",
       "      <td>0.0</td>\n",
       "      <td>0</td>\n",
       "      <td></td>\n",
       "      <td></td>\n",
       "      <td>g</td>\n",
       "    </tr>\n",
       "    <tr>\n",
       "      <th>4</th>\n",
       "      <td>4</td>\n",
       "      <td>0.0</td>\n",
       "      <td>VEGFA</td>\n",
       "      <td>VEGFA is vascular endothelial growth factor A...</td>\n",
       "      <td>VEGFA is vascular endothelial growth factor A...</td>\n",
       "      <td>[' ', 'vegfa', 'vascular', 'endothelial', 'gro...</td>\n",
       "      <td>,vegfa,vascular,endothelial,growth,factor,a,(...</td>\n",
       "      <td>0.0</td>\n",
       "      <td>0</td>\n",
       "      <td></td>\n",
       "      <td></td>\n",
       "      <td>g</td>\n",
       "    </tr>\n",
       "  </tbody>\n",
       "</table>\n",
       "</div>"
      ],
      "text/plain": [
       "   Unnamed: 0  match symbols  \\\n",
       "0           0    0.0    TP53   \n",
       "1           1    0.0    EGFR   \n",
       "2           2    0.0     TNF   \n",
       "3           3    0.0    APOE   \n",
       "4           4    0.0   VEGFA   \n",
       "\n",
       "                                              blurb8  \\\n",
       "0   TP53 is tumor protein p53 (human),also BCC7, ...   \n",
       "1   EGFR is epidermal growth factor receptor (hum...   \n",
       "2   TNF is tumor necrosis factor (human),also DIF...   \n",
       "3   APOE is apolipoprotein E (human),also AD2, AP...   \n",
       "4   VEGFA is vascular endothelial growth factor A...   \n",
       "\n",
       "                                              tokens  \\\n",
       "0   TP53 is tumor protein p53 (human),also BCC7, ...   \n",
       "1   EGFR is epidermal growth factor receptor (hum...   \n",
       "2   TNF is tumor necrosis factor (human),also DIF...   \n",
       "3   APOE is apolipoprotein E (human),also AD2, AP...   \n",
       "4   VEGFA is vascular endothelial growth factor A...   \n",
       "\n",
       "                                              lemmas  \\\n",
       "0  [' ', 'tp53', 'tumor', 'protein', '(', 'human)...   \n",
       "1  [' ', 'egfr', 'epidermal', 'growth', 'factor',...   \n",
       "2  [' ', 'tnf', 'tumor', 'necrosis', 'factor', '(...   \n",
       "3  [' ', 'apoe', 'apolipoprotein', 'e', '(', 'hum...   \n",
       "4  [' ', 'vegfa', 'vascular', 'endothelial', 'gro...   \n",
       "\n",
       "                                            lemmastr  abstracts  meds  \\\n",
       "0   ,tp53,tumor,protein,(,human),also,bcc7,,,lfs1...        0.0     0   \n",
       "1   ,egfr,epidermal,growth,factor,receptor,(,huma...        0.0     0   \n",
       "2   ,tnf,tumor,necrosis,factor,(,human),also,dif,...        0.0     0   \n",
       "3   ,apoe,apolipoprotein,e,(,human),also,ad2,,,ap...        0.0     0   \n",
       "4   ,vegfa,vascular,endothelial,growth,factor,a,(...        0.0     0   \n",
       "\n",
       "  abstracts2 meds2 sets2  \n",
       "0                      g  \n",
       "1                      g  \n",
       "2                      g  \n",
       "3                      g  \n",
       "4                      g  "
      ]
     },
     "execution_count": 120,
     "metadata": {},
     "output_type": "execute_result"
    }
   ],
   "source": [
    "train['abstracts2'] =  train['abstracts'].apply(lambda x: int(x)*'k')\n",
    "train['meds2'] =  train['meds'].apply(lambda x: int(x)*'m')\n",
    "train['sets'] = train['abstracts2']+train['meds2']\n",
    "train['sets2'] = train['sets'].replace('','g')\n",
    "train['sets2'].value_counts()\n",
    "train = train.drop(columns=['abstract','med','sets'])\n",
    "train.head()"
   ]
  },
  {
   "cell_type": "code",
   "execution_count": 121,
   "metadata": {},
   "outputs": [
    {
     "data": {
      "text/plain": [
       "(5523, 12)"
      ]
     },
     "execution_count": 121,
     "metadata": {},
     "output_type": "execute_result"
    }
   ],
   "source": [
    "train.shape"
   ]
  },
  {
   "cell_type": "code",
   "execution_count": 122,
   "metadata": {},
   "outputs": [
    {
     "data": {
      "text/plain": [
       "(5406, 12)"
      ]
     },
     "execution_count": 122,
     "metadata": {},
     "output_type": "execute_result"
    }
   ],
   "source": [
    "train = train.dropna(subset = ['blurb8'])\n",
    "train.shape"
   ]
  },
  {
   "cell_type": "code",
   "execution_count": 193,
   "metadata": {},
   "outputs": [
    {
     "data": {
      "text/html": [
       "<div>\n",
       "<style scoped>\n",
       "    .dataframe tbody tr th:only-of-type {\n",
       "        vertical-align: middle;\n",
       "    }\n",
       "\n",
       "    .dataframe tbody tr th {\n",
       "        vertical-align: top;\n",
       "    }\n",
       "\n",
       "    .dataframe thead th {\n",
       "        text-align: right;\n",
       "    }\n",
       "</style>\n",
       "<table border=\"1\" class=\"dataframe\">\n",
       "  <thead>\n",
       "    <tr style=\"text-align: right;\">\n",
       "      <th></th>\n",
       "      <th>Unnamed: 0</th>\n",
       "      <th>abstract</th>\n",
       "      <th>match</th>\n",
       "      <th>med</th>\n",
       "      <th>symbols</th>\n",
       "      <th>blurb8</th>\n",
       "      <th>tokens</th>\n",
       "      <th>lemmas</th>\n",
       "    </tr>\n",
       "  </thead>\n",
       "  <tbody>\n",
       "    <tr>\n",
       "      <th>0</th>\n",
       "      <td>0</td>\n",
       "      <td>NaN</td>\n",
       "      <td>0.0</td>\n",
       "      <td>0</td>\n",
       "      <td>TNF</td>\n",
       "      <td>TNF is tumor necrosis factor (human),also DIF...</td>\n",
       "      <td>TNF is tumor necrosis factor (human),also DIF...</td>\n",
       "      <td>[' ', 'tnf', 'be', 'tumor', 'necrosis', 'facto...</td>\n",
       "    </tr>\n",
       "    <tr>\n",
       "      <th>1</th>\n",
       "      <td>1</td>\n",
       "      <td>NaN</td>\n",
       "      <td>0.0</td>\n",
       "      <td>0</td>\n",
       "      <td>IL6</td>\n",
       "      <td>IL6 is interleukin 6 (human),also BSF-2, BSF2...</td>\n",
       "      <td>IL6 is interleukin 6 (human),also BSF-2, BSF2...</td>\n",
       "      <td>[' ', 'il6', 'be', 'interleukin', '6', '(', 'h...</td>\n",
       "    </tr>\n",
       "    <tr>\n",
       "      <th>2</th>\n",
       "      <td>2</td>\n",
       "      <td>NaN</td>\n",
       "      <td>0.0</td>\n",
       "      <td>0</td>\n",
       "      <td>IL10</td>\n",
       "      <td>IL10 is interleukin 10 (human),also CSIF, GVH...</td>\n",
       "      <td>IL10 is interleukin 10 (human),also CSIF, GVH...</td>\n",
       "      <td>[' ', 'il10', 'be', 'interleukin', '10', '(', ...</td>\n",
       "    </tr>\n",
       "    <tr>\n",
       "      <th>3</th>\n",
       "      <td>3</td>\n",
       "      <td>NaN</td>\n",
       "      <td>0.0</td>\n",
       "      <td>0</td>\n",
       "      <td>MMP9</td>\n",
       "      <td>MMP9 is matrix metallopeptidase 9 (human),als...</td>\n",
       "      <td>MMP9 is matrix metallopeptidase 9 (human),als...</td>\n",
       "      <td>[' ', 'mmp9', 'be', 'matrix', 'metallopeptidas...</td>\n",
       "    </tr>\n",
       "    <tr>\n",
       "      <th>4</th>\n",
       "      <td>4</td>\n",
       "      <td>NaN</td>\n",
       "      <td>0.0</td>\n",
       "      <td>0</td>\n",
       "      <td>ADIPOQ</td>\n",
       "      <td>ADIPOQ is adiponectin, C1Q and collagen domai...</td>\n",
       "      <td>ADIPOQ is adiponectin, C1Q and collagen domai...</td>\n",
       "      <td>[' ', 'adipoq', 'be', 'adiponectin', ',', 'c1q...</td>\n",
       "    </tr>\n",
       "  </tbody>\n",
       "</table>\n",
       "</div>"
      ],
      "text/plain": [
       "   Unnamed: 0  abstract  match  med symbols  \\\n",
       "0           0       NaN    0.0    0     TNF   \n",
       "1           1       NaN    0.0    0     IL6   \n",
       "2           2       NaN    0.0    0    IL10   \n",
       "3           3       NaN    0.0    0    MMP9   \n",
       "4           4       NaN    0.0    0  ADIPOQ   \n",
       "\n",
       "                                              blurb8  \\\n",
       "0   TNF is tumor necrosis factor (human),also DIF...   \n",
       "1   IL6 is interleukin 6 (human),also BSF-2, BSF2...   \n",
       "2   IL10 is interleukin 10 (human),also CSIF, GVH...   \n",
       "3   MMP9 is matrix metallopeptidase 9 (human),als...   \n",
       "4   ADIPOQ is adiponectin, C1Q and collagen domai...   \n",
       "\n",
       "                                              tokens  \\\n",
       "0   TNF is tumor necrosis factor (human),also DIF...   \n",
       "1   IL6 is interleukin 6 (human),also BSF-2, BSF2...   \n",
       "2   IL10 is interleukin 10 (human),also CSIF, GVH...   \n",
       "3   MMP9 is matrix metallopeptidase 9 (human),als...   \n",
       "4   ADIPOQ is adiponectin, C1Q and collagen domai...   \n",
       "\n",
       "                                              lemmas  \n",
       "0  [' ', 'tnf', 'be', 'tumor', 'necrosis', 'facto...  \n",
       "1  [' ', 'il6', 'be', 'interleukin', '6', '(', 'h...  \n",
       "2  [' ', 'il10', 'be', 'interleukin', '10', '(', ...  \n",
       "3  [' ', 'mmp9', 'be', 'matrix', 'metallopeptidas...  \n",
       "4  [' ', 'adipoq', 'be', 'adiponectin', ',', 'c1q...  "
      ]
     },
     "execution_count": 193,
     "metadata": {},
     "output_type": "execute_result"
    }
   ],
   "source": [
    "#import and prepare test data\n",
    "test=pd.read_csv('test')\n",
    "test.head()"
   ]
  },
  {
   "cell_type": "markdown",
   "metadata": {},
   "source": [
    "Next I'll prepare the Y or target variable for modeling."
   ]
  },
  {
   "cell_type": "code",
   "execution_count": 124,
   "metadata": {},
   "outputs": [],
   "source": [
    "#prepare categories for modeling\n",
    "test['abstracts'] = test['abstract'].fillna(0)\n",
    "test['meds']=test['med'].fillna(0) \n"
   ]
  },
  {
   "cell_type": "code",
   "execution_count": 125,
   "metadata": {},
   "outputs": [
    {
     "data": {
      "text/html": [
       "<div>\n",
       "<style scoped>\n",
       "    .dataframe tbody tr th:only-of-type {\n",
       "        vertical-align: middle;\n",
       "    }\n",
       "\n",
       "    .dataframe tbody tr th {\n",
       "        vertical-align: top;\n",
       "    }\n",
       "\n",
       "    .dataframe thead th {\n",
       "        text-align: right;\n",
       "    }\n",
       "</style>\n",
       "<table border=\"1\" class=\"dataframe\">\n",
       "  <thead>\n",
       "    <tr style=\"text-align: right;\">\n",
       "      <th></th>\n",
       "      <th>Unnamed: 0</th>\n",
       "      <th>match</th>\n",
       "      <th>symbols</th>\n",
       "      <th>blurb8</th>\n",
       "      <th>tokens</th>\n",
       "      <th>lemmas</th>\n",
       "      <th>abstracts</th>\n",
       "      <th>meds</th>\n",
       "      <th>abstracts2</th>\n",
       "      <th>meds2</th>\n",
       "      <th>sets2</th>\n",
       "    </tr>\n",
       "  </thead>\n",
       "  <tbody>\n",
       "    <tr>\n",
       "      <th>0</th>\n",
       "      <td>0</td>\n",
       "      <td>0.0</td>\n",
       "      <td>TNF</td>\n",
       "      <td>TNF is tumor necrosis factor (human),also DIF...</td>\n",
       "      <td>TNF is tumor necrosis factor (human),also DIF...</td>\n",
       "      <td>[' ', 'tnf', 'be', 'tumor', 'necrosis', 'facto...</td>\n",
       "      <td>0.0</td>\n",
       "      <td>0</td>\n",
       "      <td></td>\n",
       "      <td></td>\n",
       "      <td>g</td>\n",
       "    </tr>\n",
       "    <tr>\n",
       "      <th>1</th>\n",
       "      <td>1</td>\n",
       "      <td>0.0</td>\n",
       "      <td>IL6</td>\n",
       "      <td>IL6 is interleukin 6 (human),also BSF-2, BSF2...</td>\n",
       "      <td>IL6 is interleukin 6 (human),also BSF-2, BSF2...</td>\n",
       "      <td>[' ', 'il6', 'be', 'interleukin', '6', '(', 'h...</td>\n",
       "      <td>0.0</td>\n",
       "      <td>0</td>\n",
       "      <td></td>\n",
       "      <td></td>\n",
       "      <td>g</td>\n",
       "    </tr>\n",
       "    <tr>\n",
       "      <th>2</th>\n",
       "      <td>2</td>\n",
       "      <td>0.0</td>\n",
       "      <td>IL10</td>\n",
       "      <td>IL10 is interleukin 10 (human),also CSIF, GVH...</td>\n",
       "      <td>IL10 is interleukin 10 (human),also CSIF, GVH...</td>\n",
       "      <td>[' ', 'il10', 'be', 'interleukin', '10', '(', ...</td>\n",
       "      <td>0.0</td>\n",
       "      <td>0</td>\n",
       "      <td></td>\n",
       "      <td></td>\n",
       "      <td>g</td>\n",
       "    </tr>\n",
       "    <tr>\n",
       "      <th>3</th>\n",
       "      <td>3</td>\n",
       "      <td>0.0</td>\n",
       "      <td>MMP9</td>\n",
       "      <td>MMP9 is matrix metallopeptidase 9 (human),als...</td>\n",
       "      <td>MMP9 is matrix metallopeptidase 9 (human),als...</td>\n",
       "      <td>[' ', 'mmp9', 'be', 'matrix', 'metallopeptidas...</td>\n",
       "      <td>0.0</td>\n",
       "      <td>0</td>\n",
       "      <td></td>\n",
       "      <td></td>\n",
       "      <td>g</td>\n",
       "    </tr>\n",
       "    <tr>\n",
       "      <th>4</th>\n",
       "      <td>4</td>\n",
       "      <td>0.0</td>\n",
       "      <td>ADIPOQ</td>\n",
       "      <td>ADIPOQ is adiponectin, C1Q and collagen domai...</td>\n",
       "      <td>ADIPOQ is adiponectin, C1Q and collagen domai...</td>\n",
       "      <td>[' ', 'adipoq', 'be', 'adiponectin', ',', 'c1q...</td>\n",
       "      <td>0.0</td>\n",
       "      <td>0</td>\n",
       "      <td></td>\n",
       "      <td></td>\n",
       "      <td>g</td>\n",
       "    </tr>\n",
       "  </tbody>\n",
       "</table>\n",
       "</div>"
      ],
      "text/plain": [
       "   Unnamed: 0  match symbols  \\\n",
       "0           0    0.0     TNF   \n",
       "1           1    0.0     IL6   \n",
       "2           2    0.0    IL10   \n",
       "3           3    0.0    MMP9   \n",
       "4           4    0.0  ADIPOQ   \n",
       "\n",
       "                                              blurb8  \\\n",
       "0   TNF is tumor necrosis factor (human),also DIF...   \n",
       "1   IL6 is interleukin 6 (human),also BSF-2, BSF2...   \n",
       "2   IL10 is interleukin 10 (human),also CSIF, GVH...   \n",
       "3   MMP9 is matrix metallopeptidase 9 (human),als...   \n",
       "4   ADIPOQ is adiponectin, C1Q and collagen domai...   \n",
       "\n",
       "                                              tokens  \\\n",
       "0   TNF is tumor necrosis factor (human),also DIF...   \n",
       "1   IL6 is interleukin 6 (human),also BSF-2, BSF2...   \n",
       "2   IL10 is interleukin 10 (human),also CSIF, GVH...   \n",
       "3   MMP9 is matrix metallopeptidase 9 (human),als...   \n",
       "4   ADIPOQ is adiponectin, C1Q and collagen domai...   \n",
       "\n",
       "                                              lemmas  abstracts  meds  \\\n",
       "0  [' ', 'tnf', 'be', 'tumor', 'necrosis', 'facto...        0.0     0   \n",
       "1  [' ', 'il6', 'be', 'interleukin', '6', '(', 'h...        0.0     0   \n",
       "2  [' ', 'il10', 'be', 'interleukin', '10', '(', ...        0.0     0   \n",
       "3  [' ', 'mmp9', 'be', 'matrix', 'metallopeptidas...        0.0     0   \n",
       "4  [' ', 'adipoq', 'be', 'adiponectin', ',', 'c1q...        0.0     0   \n",
       "\n",
       "  abstracts2 meds2 sets2  \n",
       "0                      g  \n",
       "1                      g  \n",
       "2                      g  \n",
       "3                      g  \n",
       "4                      g  "
      ]
     },
     "execution_count": 125,
     "metadata": {},
     "output_type": "execute_result"
    }
   ],
   "source": [
    "test['abstracts2'] =  test['abstracts'].apply(lambda x: int(x)*'k')\n",
    "test['meds2'] =  test['meds'].apply(lambda x: int(x)*'m')\n",
    "test['sets'] = test['abstracts2']+test['meds2']\n",
    "test['sets2'] = test['sets'].replace('','g')\n",
    "test['sets2'].value_counts()\n",
    "test = test.drop(columns=['abstract','med','sets'])\n",
    "test.head()"
   ]
  },
  {
   "cell_type": "code",
   "execution_count": 126,
   "metadata": {},
   "outputs": [
    {
     "data": {
      "text/plain": [
       "(2831, 11)"
      ]
     },
     "execution_count": 126,
     "metadata": {},
     "output_type": "execute_result"
    }
   ],
   "source": [
    "test.shape"
   ]
  },
  {
   "cell_type": "code",
   "execution_count": 127,
   "metadata": {},
   "outputs": [
    {
     "data": {
      "text/plain": [
       "(2801, 11)"
      ]
     },
     "execution_count": 127,
     "metadata": {},
     "output_type": "execute_result"
    }
   ],
   "source": [
    "test = test.dropna(subset = ['blurb8'])\n",
    "test.shape"
   ]
  },
  {
   "cell_type": "code",
   "execution_count": 128,
   "metadata": {},
   "outputs": [
    {
     "data": {
      "text/plain": [
       "(5406,)"
      ]
     },
     "execution_count": 128,
     "metadata": {},
     "output_type": "execute_result"
    }
   ],
   "source": [
    "# prepare for Levenshtein distances\n",
    "words = np.asarray(train['lemmastr'].astype(str))\n",
    "words.shape"
   ]
  },
  {
   "cell_type": "code",
   "execution_count": 129,
   "metadata": {},
   "outputs": [],
   "source": [
    "#import time\n",
    "#start = time.time()\n",
    "#words = words\n",
    "#lev_sim = -1*np.array([[ed.eval(w1,w2) for w1 in words] for w2 in words])\n",
    "#end = time.time()\n",
    "#print(end - start)\n"
   ]
  },
  {
   "cell_type": "code",
   "execution_count": 130,
   "metadata": {},
   "outputs": [
    {
     "data": {
      "text/plain": [
       "(5406, 5406)"
      ]
     },
     "execution_count": 130,
     "metadata": {},
     "output_type": "execute_result"
    }
   ],
   "source": [
    "#lev_sim.shape"
   ]
  },
  {
   "cell_type": "code",
   "execution_count": 131,
   "metadata": {},
   "outputs": [],
   "source": [
    "#lev_simtrdf = pd.DataFrame(lev_sim)"
   ]
  },
  {
   "cell_type": "code",
   "execution_count": 132,
   "metadata": {},
   "outputs": [],
   "source": [
    "#lev_simtrdf.to_csv('levtrain')"
   ]
  },
  {
   "cell_type": "markdown",
   "metadata": {},
   "source": [
    "Now I'll import the Levenshtein distances."
   ]
  },
  {
   "cell_type": "code",
   "execution_count": 133,
   "metadata": {},
   "outputs": [
    {
     "data": {
      "text/plain": [
       "(5406, 5407)"
      ]
     },
     "execution_count": 133,
     "metadata": {},
     "output_type": "execute_result"
    }
   ],
   "source": [
    "#import Levenshtein distances\n",
    "levtrain = pd.read_csv('levtrain')\n",
    "levtrain.shape"
   ]
  },
  {
   "cell_type": "code",
   "execution_count": 134,
   "metadata": {},
   "outputs": [
    {
     "data": {
      "text/plain": [
       "(5406, 5407)"
      ]
     },
     "execution_count": 134,
     "metadata": {},
     "output_type": "execute_result"
    }
   ],
   "source": [
    "lev_sim2 = np.array(levtrain)\n",
    "lev_sim2.shape"
   ]
  },
  {
   "cell_type": "code",
   "execution_count": 135,
   "metadata": {},
   "outputs": [
    {
     "data": {
      "text/plain": [
       "5406"
      ]
     },
     "execution_count": 135,
     "metadata": {},
     "output_type": "execute_result"
    }
   ],
   "source": [
    "lev_sim3 = lev_sim2[:,1:]\n",
    "len(lev_sim3)\n"
   ]
  },
  {
   "cell_type": "code",
   "execution_count": 136,
   "metadata": {},
   "outputs": [
    {
     "data": {
      "text/plain": [
       "-1839"
      ]
     },
     "execution_count": 136,
     "metadata": {},
     "output_type": "execute_result"
    }
   ],
   "source": [
    "np.min(lev_sim3)"
   ]
  },
  {
   "cell_type": "markdown",
   "metadata": {},
   "source": [
    "I have to make all the Levenshtein values positive for Spectral Clustering."
   ]
  },
  {
   "cell_type": "code",
   "execution_count": 137,
   "metadata": {},
   "outputs": [],
   "source": [
    "#prepare for modeling\n",
    "newlev = lev_sim3+1839"
   ]
  },
  {
   "cell_type": "code",
   "execution_count": 138,
   "metadata": {},
   "outputs": [
    {
     "data": {
      "text/plain": [
       "(array([], dtype=int64), array([], dtype=int64))"
      ]
     },
     "execution_count": 138,
     "metadata": {},
     "output_type": "execute_result"
    }
   ],
   "source": [
    "np.where(newlev<0)"
   ]
  },
  {
   "cell_type": "markdown",
   "metadata": {},
   "source": [
    "I don't need to choose exemplar preferences for Spectral Clustering."
   ]
  },
  {
   "cell_type": "code",
   "execution_count": 60,
   "metadata": {},
   "outputs": [],
   "source": [
    "#square = len(lev_sim3)"
   ]
  },
  {
   "cell_type": "code",
   "execution_count": 61,
   "metadata": {},
   "outputs": [],
   "source": [
    "#pref = np.zeros(shape=(square,square))\n",
    "#pref.shape"
   ]
  },
  {
   "cell_type": "code",
   "execution_count": 62,
   "metadata": {},
   "outputs": [],
   "source": [
    "#for c,i in enumerate(train['sets2'],0):\n",
    "    #if i=='k':\n",
    "        #pref[c][:]=10\n",
    "        "
   ]
  },
  {
   "cell_type": "code",
   "execution_count": 63,
   "metadata": {},
   "outputs": [],
   "source": [
    "#pref.shape"
   ]
  },
  {
   "cell_type": "markdown",
   "metadata": {},
   "source": [
    "I'll run the model with precomputed Levenshtein distances and a target of 3 clusters."
   ]
  },
  {
   "cell_type": "code",
   "execution_count": 140,
   "metadata": {},
   "outputs": [
    {
     "data": {
      "text/plain": [
       "SpectralClustering(affinity='precomputed', assign_labels='kmeans', coef0=1,\n",
       "          degree=3, eigen_solver=None, eigen_tol=0.0, gamma=1.0,\n",
       "          kernel_params=None, n_clusters=3, n_init=10, n_jobs=1,\n",
       "          n_neighbors=10, random_state=None)"
      ]
     },
     "execution_count": 140,
     "metadata": {},
     "output_type": "execute_result"
    }
   ],
   "source": [
    "from sklearn.cluster import SpectralClustering\n",
    "\n",
    "# We know we're looking for three clusters because there are 3 datasets.\n",
    "n_clusters=3\n",
    "\n",
    "# Declare and fit the model.\n",
    "sc = SpectralClustering(n_clusters=n_clusters,affinity='precomputed')\n",
    "sc.fit(newlev)\n"
   ]
  },
  {
   "cell_type": "code",
   "execution_count": 141,
   "metadata": {},
   "outputs": [
    {
     "data": {
      "image/png": "[encoded data removed]",
      "text/plain": [
       "<matplotlib.figure.Figure at 0x1093f6b00>"
      ]
     },
     "metadata": {},
     "output_type": "display_data"
    },
    {
     "name": "stdout",
     "output_type": "stream",
     "text": [
      "Comparing the assigned categories to the ones in the data. g: genes, k: abstracts, m: medical\n",
      "col_0     0     1    2\n",
      "sets2                 \n",
      "g        26  2297  263\n",
      "k        33    10  902\n",
      "m      1871     3    1\n"
     ]
    }
   ],
   "source": [
    "#Predicted clusters.\n",
    "predict=sc.fit_predict(newlev)\n",
    "\n",
    "#Graph results.\n",
    "plt.scatter(newlev[:, 0], newlev[:, 1], c=predict)\n",
    "plt.title('Predicted cluster categories')\n",
    "plt.xlabel('Levenshtein Distances')\n",
    "plt.ylabel('Levenshtein Distances')\n",
    "\n",
    "plt.show()\n",
    "print('Comparing the assigned categories to the ones in the data. g: genes, k: abstracts, m: medical')\n",
    "print(pd.crosstab(train['sets2'],predict))"
   ]
  },
  {
   "cell_type": "markdown",
   "metadata": {},
   "source": [
    "1.0% of gene strings are classified as medical and 0.16% of medical strings are classified as genes."
   ]
  },
  {
   "cell_type": "code",
   "execution_count": 142,
   "metadata": {},
   "outputs": [
    {
     "name": "stdout",
     "output_type": "stream",
     "text": [
      "Adjusted Rand Index: 0.839\n",
      "Adjusted Mutual Information: 0.787\n",
      "Silhouette Coefficient: 0.537\n"
     ]
    }
   ],
   "source": [
    "#0 is random and 1 is perfect match with ground truth data:\n",
    "print(\"Adjusted Rand Index: %0.3f\"\n",
    "      % metrics.adjusted_rand_score(train['sets2'], predict))\n",
    "#0 is random and 1 is perfect match with ground truth data:\n",
    "print(\"Adjusted Mutual Information: %0.3f\"\n",
    "      % metrics.adjusted_mutual_info_score(train['sets2'], predict))\n",
    "#Best is 1 and worst is -1. Compares size of clusters with distance between cluster:.\n",
    "print(\"Silhouette Coefficient: %0.3f\"\n",
    "      % metrics.silhouette_score(newlev, predict))"
   ]
  },
  {
   "cell_type": "markdown",
   "metadata": {},
   "source": [
    "A crosstab of the original categories and the new clusters show that the gene definitions and medical definitions mostly are not categorized together, and that lots of abstracts are mixed in with both the medical and gene definitions. For our purposes, these results mean success. Analysis using ARI, AMI, and Silhouette Coefficient agree with these results. ARI and AMI show the clusters match fairly well with the original categories, and the Silhouette Coefficient suggests that the clusters are close together."
   ]
  },
  {
   "cell_type": "code",
   "execution_count": 143,
   "metadata": {},
   "outputs": [],
   "source": [
    "results = pd.DataFrame(predict)"
   ]
  },
  {
   "cell_type": "code",
   "execution_count": 144,
   "metadata": {},
   "outputs": [],
   "source": [
    "results['setid']=train['sets2']"
   ]
  },
  {
   "cell_type": "code",
   "execution_count": 145,
   "metadata": {},
   "outputs": [],
   "source": [
    "results['para']=train['blurb8']"
   ]
  },
  {
   "cell_type": "markdown",
   "metadata": {},
   "source": [
    "Let's look at some strings within each cluster. "
   ]
  },
  {
   "cell_type": "code",
   "execution_count": 1,
   "metadata": {},
   "outputs": [
    {
     "ename": "NameError",
     "evalue": "name 'pd' is not defined",
     "output_type": "error",
     "traceback": [
      "\u001b[0;31m---------------------------------------------------------------------------\u001b[0m",
      "\u001b[0;31mNameError\u001b[0m                                 Traceback (most recent call last)",
      "\u001b[0;32m<ipython-input-1-9e06d1c7df54>\u001b[0m in \u001b[0;36m<module>\u001b[0;34m()\u001b[0m\n\u001b[0;32m----> 1\u001b[0;31m \u001b[0mmedslice\u001b[0m\u001b[0;34m=\u001b[0m\u001b[0mpd\u001b[0m\u001b[0;34m.\u001b[0m\u001b[0mDataFrame\u001b[0m\u001b[0;34m(\u001b[0m\u001b[0mresults\u001b[0m\u001b[0;34m[\u001b[0m\u001b[0mresults\u001b[0m\u001b[0;34m[\u001b[0m\u001b[0;36m0\u001b[0m\u001b[0;34m]\u001b[0m\u001b[0;34m==\u001b[0m\u001b[0;36m0\u001b[0m\u001b[0;34m]\u001b[0m\u001b[0;34m)\u001b[0m\u001b[0;34m\u001b[0m\u001b[0m\n\u001b[0m\u001b[1;32m      2\u001b[0m \u001b[0mmedslice\u001b[0m\u001b[0;34m.\u001b[0m\u001b[0miloc\u001b[0m\u001b[0;34m[\u001b[0m\u001b[0;34m:\u001b[0m\u001b[0;34m,\u001b[0m\u001b[0;36m2\u001b[0m\u001b[0;34m]\u001b[0m\u001b[0;34m\u001b[0m\u001b[0m\n",
      "\u001b[0;31mNameError\u001b[0m: name 'pd' is not defined"
     ]
    }
   ],
   "source": [
    "medslice=pd.DataFrame(results[results[0]==0])"
   ]
  },
  {
   "cell_type": "markdown",
   "metadata": {},
   "source": [
    "Below are the ones misclassified into the medical cluster."
   ]
  },
  {
   "cell_type": "code",
   "execution_count": 151,
   "metadata": {},
   "outputs": [
    {
     "data": {
      "text/plain": [
       "1384     STAT2 is signal transducer and activator of t...\n",
       "1400     IGH is immunoglobulin heavy locus (human),als...\n",
       "1660     DNASE1 is deoxyribonuclease 1 (human),also DN...\n",
       "2070     NDC80 is NDC80, kinetochore complex component...\n",
       "2091     FKBP4 is FK506 binding protein 4 (human),also...\n",
       "2260     NME2 is NME/NM23 nucleoside diphosphate kinas...\n",
       "3233     sc is scute [Drosophila melanogaster (fruit f...\n",
       "3238     HNF4A is hepatocyte nuclear factor 4 alpha (h...\n",
       "3239     Sh is Shaker [Drosophila melanogaster (fruit ...\n",
       "3263     CXCL10 is C-X-C motif chemokine ligand 10 (hu...\n",
       "3264    cytochrome c maturation protein CcmFN [Nymphae...\n",
       "3265    ATPase subunit 6 [Nymphaea colorata],and DDH69...\n",
       "3266    succinate dehydrogenase subunit 4 [Nymphaea co...\n",
       "3267    cytochrome c oxidase subunit 3 [Nymphaea color...\n",
       "3268    cytochrome c biogenesis FC [Nymphaea colorata]...\n",
       "3269    NADH dehydrogenase subunit 6 [Nymphaea colorat...\n",
       "3270    apocytochrome b [Nymphaea colorata],and DDH69_...\n",
       "3271    ribosomal protein S1 [Nymphaea colorata],and D...\n",
       "3272    maturase-related protein [Nymphaea colorata],a...\n",
       "3273    NADH dehydrogenase subunit 3 [Nymphaea colorat...\n",
       "3274    61. nad7,NADH dehydrogenase subunit 7 [Nymphae...\n",
       "3275    NADH dehydrogenase subunit 2 [Nymphaea colorat...\n",
       "3276    cytochrome c oxidase subunit 2 [Proteomonas su...\n",
       "3382     TGFB1 is transforming growth factor beta 1 (h...\n",
       "3393     CXCR4 is C-X-C motif chemokine receptor 4 (hu...\n",
       "Name: para, dtype: object"
      ]
     },
     "execution_count": 151,
     "metadata": {},
     "output_type": "execute_result"
    }
   ],
   "source": [
    "incorrect= pd.DataFrame(medslice[medslice['setid']=='g'])\n",
    "incorrect['para']"
   ]
  },
  {
   "cell_type": "markdown",
   "metadata": {},
   "source": [
    "Many of the gene definitions classified in the medical cluster mention species called Nymphaea and Drosophila. It seems like this could be fixed by adding more non-human gene abstracts to the model, but more testing needs to be done."
   ]
  },
  {
   "cell_type": "code",
   "execution_count": 164,
   "metadata": {
    "scrolled": true
   },
   "outputs": [
    {
     "data": {
      "text/plain": [
       "3941    CAO  is  conscious, alert, and oriented (no al...\n",
       "4666        LLE   is  left lower limb (anatomy) extremity\n",
       "4926    OR  is  operating room (aka operating theatre ...\n",
       "Name: para, dtype: object"
      ]
     },
     "execution_count": 164,
     "metadata": {},
     "output_type": "execute_result"
    }
   ],
   "source": [
    "geneslice=pd.DataFrame(results[results[0]==1])\n",
    "incorrect = pd.DataFrame(geneslice[geneslice['setid']=='m'])\n",
    "incorrect['para']"
   ]
  },
  {
   "cell_type": "markdown",
   "metadata": {},
   "source": [
    "The above medical strings have been miss-classified as gene, possibly because the word spellings are close to those of words used in the gene definitions. "
   ]
  },
  {
   "cell_type": "code",
   "execution_count": 165,
   "metadata": {
    "scrolled": true
   },
   "outputs": [
    {
     "data": {
      "text/plain": [
       "7        ERBB2 is erb-b2 receptor tyrosine kinase 2 (h...\n",
       "11       APP is amyloid beta precursor protein (human)...\n",
       "12       HIF1A is hypoxia inducible factor 1 subunit a...\n",
       "23       KRAS is KRAS proto-oncogene, GTPase (human),a...\n",
       "29       PTEN is phosphatase and tensin homolog (human...\n",
       "34       HLA-B is major histocompatibility complex, cl...\n",
       "42       CXCR4 is C-X-C motif chemokine receptor 4 (hu...\n",
       "46       BRCA2 is BRCA2, DNA repair associated (human)...\n",
       "54       CCL2 is C-C motif chemokine ligand 2 (human),...\n",
       "61       PIK3CA is phosphatidylinositol-4,5-bisphospha...\n",
       "68       CD44 is CD44 molecule (Indian blood group) (h...\n",
       "69       CYP2D6 is cytochrome P450 family 2 subfamily ...\n",
       "70       KIT is KIT proto-oncogene receptor tyrosine k...\n",
       "73       FAS is Fas cell surface death receptor (human...\n",
       "78       CYP2C19 is cytochrome P450 family 2 subfamily...\n",
       "84       SPP1 is secreted phosphoprotein 1 (human),als...\n",
       "99       RET is ret proto-oncogene (human),also CDHF12...\n",
       "112      CAV1 is caveolin 1 (human),also BSCL3, CGL3, ...\n",
       "119     beta-globin locus control region (human),and L...\n",
       "122      MMP1 is matrix metallopeptidase 1 (human),als...\n",
       "133      CYP19A1 is cytochrome P450 family 19 subfamil...\n",
       "156      PDCD1 is programmed cell death 1 (human),also...\n",
       "161      STAT1 is signal transducer and activator of t...\n",
       "169      IL2 is interleukin 2 (human),also IL-2, TCGF,...\n",
       "172      CASP8 is caspase 8 (human),also ALPS2B, CAP4,...\n",
       "187      ALDH2 is aldehyde dehydrogenase 2 family memb...\n",
       "205      TP73 is tumor protein p73 (human),also P73,It...\n",
       "207      RETN is resistin (human),also ADSF, FIZZ31, R...\n",
       "210      MCL1 is MCL1, BCL2 family apoptosis regulator...\n",
       "215      C3 is complement C3 (human),also AHUS5, ARMD9...\n",
       "                              ...                        \n",
       "3499                                                  NaN\n",
       "3500    HLA-DRB1 belongs to the HLA class II beta chai...\n",
       "3501                                                  NaN\n",
       "3502                                                  NaN\n",
       "3503                                                  NaN\n",
       "3504    an immediate early gene encoding a nuclear pro...\n",
       "3505    The protein encoded by HNF4A gene is a nuclear...\n",
       "3506                                                  NaN\n",
       "3507    The protein encoded by HSD11B1 gene is a micro...\n",
       "3508    The protein encoded by HSPA5 gene is a member ...\n",
       "3509                                                  NaN\n",
       "3510    BIRC5 gene is a member of the inhibitor of apo...\n",
       "3511                                                  NaN\n",
       "3512    TNC gene encodes an extracellular matrix prote...\n",
       "3513                                                  NaN\n",
       "3514    ICAM1 gene encodes a cell surface glycoprotein...\n",
       "3515                                                  NaN\n",
       "3516    The protein encoded by IGF1 gene is similar to...\n",
       "3517    The protein encoded by APOE gene is a major ap...\n",
       "3518    Apolipoprotein H has been implicated in a vari...\n",
       "3519    APP gene encodes a cell surface receptor and t...\n",
       "3520    Kallikreins are a subgroup of serine proteases...\n",
       "3521    The protein encoded by FAS gene is a member of...\n",
       "3522    The protein encoded by IL4 gene is a pleiotrop...\n",
       "3523    IL6 gene encodes a cytokine that functions in ...\n",
       "3524                                                  NaN\n",
       "3526    The protein encoded by IL17A gene is a proinfl...\n",
       "3527    This antimicrobial gene encodes a chemokine of...\n",
       "3530                                                  NaN\n",
       "3532                                                  NaN\n",
       "Name: para, Length: 1166, dtype: object"
      ]
     },
     "execution_count": 165,
     "metadata": {},
     "output_type": "execute_result"
    }
   ],
   "source": [
    "abstractslice=pd.DataFrame(results[results[0]==2])\n",
    "abstractslice.iloc[:,2]"
   ]
  },
  {
   "cell_type": "markdown",
   "metadata": {},
   "source": [
    "Gene definitions classified as abstracts mention proto-oncogenes, which occurs in both abstracts and definitions. "
   ]
  },
  {
   "cell_type": "markdown",
   "metadata": {},
   "source": [
    "Now I'll model the test data."
   ]
  },
  {
   "cell_type": "code",
   "execution_count": 166,
   "metadata": {},
   "outputs": [
    {
     "data": {
      "text/plain": [
       "(2801,)"
      ]
     },
     "execution_count": 166,
     "metadata": {},
     "output_type": "execute_result"
    }
   ],
   "source": [
    "# prepare for Levenshtein distances\n",
    "wordst = np.asarray(test['lemmas'].astype(str))\n",
    "wordst.shape\n"
   ]
  },
  {
   "cell_type": "code",
   "execution_count": 167,
   "metadata": {},
   "outputs": [],
   "source": [
    "#import time\n",
    "#start = time.time()\n",
    "words = wordst\n",
    "lev_simte = -1*np.array([[ed.eval(w1,w2) for w1 in words] for w2 in words])\n",
    "#end = time.time()\n",
    "#print(end - start)"
   ]
  },
  {
   "cell_type": "code",
   "execution_count": 168,
   "metadata": {},
   "outputs": [],
   "source": [
    "lev_simtest = pd.DataFrame(lev_simte)"
   ]
  },
  {
   "cell_type": "code",
   "execution_count": 169,
   "metadata": {},
   "outputs": [],
   "source": [
    "lev_simtest.to_csv('levtest')"
   ]
  },
  {
   "cell_type": "code",
   "execution_count": 170,
   "metadata": {},
   "outputs": [
    {
     "data": {
      "text/plain": [
       "(2801, 2802)"
      ]
     },
     "execution_count": 170,
     "metadata": {},
     "output_type": "execute_result"
    }
   ],
   "source": [
    "#import Levenshtein distances\n",
    "levtest = pd.read_csv('levtest')\n",
    "levtest.shape"
   ]
  },
  {
   "cell_type": "code",
   "execution_count": 171,
   "metadata": {},
   "outputs": [
    {
     "data": {
      "text/plain": [
       "-2494"
      ]
     },
     "execution_count": 171,
     "metadata": {},
     "output_type": "execute_result"
    }
   ],
   "source": [
    "lev_simt2 = np.array(levtest)\n",
    "lev_simt2.shape\n",
    "\n",
    "lev_simt3 = lev_simt2[:,1:]\n",
    "len(lev_simt3)\n",
    "\n",
    "np.min(lev_simt3)"
   ]
  },
  {
   "cell_type": "code",
   "execution_count": 172,
   "metadata": {},
   "outputs": [
    {
     "data": {
      "text/plain": [
       "(array([], dtype=int64), array([], dtype=int64))"
      ]
     },
     "execution_count": 172,
     "metadata": {},
     "output_type": "execute_result"
    }
   ],
   "source": [
    "#prepare for modeling\n",
    "newlevt = lev_simt3+2494\n",
    "\n",
    "\n",
    "np.where(newlev<0)"
   ]
  },
  {
   "cell_type": "code",
   "execution_count": 173,
   "metadata": {},
   "outputs": [
    {
     "data": {
      "text/plain": [
       "(2801, 2801)"
      ]
     },
     "execution_count": 173,
     "metadata": {},
     "output_type": "execute_result"
    }
   ],
   "source": [
    "newlevt.shape"
   ]
  },
  {
   "cell_type": "code",
   "execution_count": 174,
   "metadata": {},
   "outputs": [
    {
     "data": {
      "text/plain": [
       "SpectralClustering(affinity='precomputed', assign_labels='kmeans', coef0=1,\n",
       "          degree=3, eigen_solver=None, eigen_tol=0.0, gamma=1.0,\n",
       "          kernel_params=None, n_clusters=3, n_init=10, n_jobs=1,\n",
       "          n_neighbors=10, random_state=None)"
      ]
     },
     "execution_count": 174,
     "metadata": {},
     "output_type": "execute_result"
    }
   ],
   "source": [
    "from sklearn.cluster import SpectralClustering\n",
    "\n",
    "# We know we're looking for three clusters.\n",
    "n_clusters=3\n",
    "\n",
    "# Declare and fit the model.\n",
    "sc = SpectralClustering(n_clusters=n_clusters,affinity='precomputed')\n",
    "sc.fit(newlevt)"
   ]
  },
  {
   "cell_type": "code",
   "execution_count": 175,
   "metadata": {},
   "outputs": [
    {
     "data": {
      "image/png": "[encoded data removed]",
      "text/plain": [
       "<matplotlib.figure.Figure at 0x167048e48>"
      ]
     },
     "metadata": {},
     "output_type": "display_data"
    },
    {
     "name": "stdout",
     "output_type": "stream",
     "text": [
      "Comparing the assigned categories to the ones in the data. g: genes, k: abstracts, m: medical\n",
      "col_0     0    1    2\n",
      "sets2                \n",
      "g         3  614   78\n",
      "k         3   46  199\n",
      "m      1841   17    0\n"
     ]
    }
   ],
   "source": [
    "#Predicted clusters.\n",
    "predictt=sc.fit_predict(newlevt)\n",
    "\n",
    "#Graph results.\n",
    "plt.scatter(newlevt[:, 0], newlevt[:, 1], c=predictt)\n",
    "plt.title('Predicted cluster categories')\n",
    "plt.xlabel('Levenshtein Distances')\n",
    "plt.ylabel('Levenshtein Distances')\n",
    "plt.show()\n",
    "print('Comparing the assigned categories to the ones in the data. g: genes, k: abstracts, m: medical')\n",
    "print(pd.crosstab(test['sets2'],predictt))\n"
   ]
  },
  {
   "cell_type": "markdown",
   "metadata": {},
   "source": [
    "0.43% of genes were classified as 'medical' and 0.9% of medical strings data were classified as 'gene'."
   ]
  },
  {
   "cell_type": "markdown",
   "metadata": {},
   "source": [
    "I've gotten similar results. I'll skip ARI, AMI, and Silhouette Coefficient as they don't seem particularly useful for this application. I'd rather get straight into examining the strings in the clusters."
   ]
  },
  {
   "cell_type": "code",
   "execution_count": 176,
   "metadata": {},
   "outputs": [],
   "source": [
    "resultst = pd.DataFrame(predictt)"
   ]
  },
  {
   "cell_type": "code",
   "execution_count": 177,
   "metadata": {},
   "outputs": [
    {
     "data": {
      "text/html": [
       "<div>\n",
       "<style scoped>\n",
       "    .dataframe tbody tr th:only-of-type {\n",
       "        vertical-align: middle;\n",
       "    }\n",
       "\n",
       "    .dataframe tbody tr th {\n",
       "        vertical-align: top;\n",
       "    }\n",
       "\n",
       "    .dataframe thead th {\n",
       "        text-align: right;\n",
       "    }\n",
       "</style>\n",
       "<table border=\"1\" class=\"dataframe\">\n",
       "  <thead>\n",
       "    <tr style=\"text-align: right;\">\n",
       "      <th></th>\n",
       "      <th>0</th>\n",
       "      <th>setid</th>\n",
       "      <th>para</th>\n",
       "    </tr>\n",
       "  </thead>\n",
       "  <tbody>\n",
       "    <tr>\n",
       "      <th>0</th>\n",
       "      <td>1</td>\n",
       "      <td>g</td>\n",
       "      <td>TNF is tumor necrosis factor (human),also DIF...</td>\n",
       "    </tr>\n",
       "    <tr>\n",
       "      <th>1</th>\n",
       "      <td>1</td>\n",
       "      <td>g</td>\n",
       "      <td>IL6 is interleukin 6 (human),also BSF-2, BSF2...</td>\n",
       "    </tr>\n",
       "    <tr>\n",
       "      <th>2</th>\n",
       "      <td>1</td>\n",
       "      <td>g</td>\n",
       "      <td>IL10 is interleukin 10 (human),also CSIF, GVH...</td>\n",
       "    </tr>\n",
       "    <tr>\n",
       "      <th>3</th>\n",
       "      <td>1</td>\n",
       "      <td>g</td>\n",
       "      <td>MMP9 is matrix metallopeptidase 9 (human),als...</td>\n",
       "    </tr>\n",
       "    <tr>\n",
       "      <th>4</th>\n",
       "      <td>1</td>\n",
       "      <td>g</td>\n",
       "      <td>ADIPOQ is adiponectin, C1Q and collagen domai...</td>\n",
       "    </tr>\n",
       "  </tbody>\n",
       "</table>\n",
       "</div>"
      ],
      "text/plain": [
       "   0 setid                                               para\n",
       "0  1     g   TNF is tumor necrosis factor (human),also DIF...\n",
       "1  1     g   IL6 is interleukin 6 (human),also BSF-2, BSF2...\n",
       "2  1     g   IL10 is interleukin 10 (human),also CSIF, GVH...\n",
       "3  1     g   MMP9 is matrix metallopeptidase 9 (human),als...\n",
       "4  1     g   ADIPOQ is adiponectin, C1Q and collagen domai..."
      ]
     },
     "execution_count": 177,
     "metadata": {},
     "output_type": "execute_result"
    }
   ],
   "source": [
    "resultst['setid']=test['sets2']\n",
    "resultst['para']=test['blurb8']\n",
    "resultst.head()"
   ]
  },
  {
   "cell_type": "code",
   "execution_count": 178,
   "metadata": {
    "scrolled": true
   },
   "outputs": [],
   "source": [
    "medslicet=pd.DataFrame(resultst[resultst[0]==0])"
   ]
  },
  {
   "cell_type": "code",
   "execution_count": 189,
   "metadata": {},
   "outputs": [
    {
     "data": {
      "text/plain": [
       " COL18A1 is collagen type XVIII alpha 1 chain (human),also KNO, KNO1, KS,It is collagen alpha-1(XVIII) chain; antiangiogenic agent; collagen alpha-1(XVIII) chain isoform 1 preproprotein; collagen, type XVIII, alpha 1; endostatin; multi-functional protein MFP,Chromosome: 21; Location: 21q22.3,Annotation: Chromosome 21 NC_000021.9 (45405137..45513720),MIM: 120328    1\n",
       " ICAM1 is intercellular adhesion molecule 1 (human),also BB2, CD54, P3.58,It is intercellular adhesion molecule 1; ICAM-1; cell surface glycoprotein P3.58; intercellular adhesion molecule 1 (CD54), human rhinovirus receptor; major group rhinovirus receptor,Chromosome: 19; Location: 19p13.2,Annotation: Chromosome 19 NC_000019.10 (10270841..10286615),MIM: 147840     1\n",
       " UCP2 is uncoupling protein 2 (human),also BMIQ4, SLC25A8, UCPH,It is mitochondrial uncoupling protein 2; solute carrier family 25 member 8; uncoupling protein 2 (mitochondrial, proton carrier),Chromosome: 11; Location: 11q13.4,Annotation: Chromosome 11 NC_000011.10 (73974671..73982872, complement),MIM: 601693                                                        1\n",
       " RDM1P1 is RDM1 pseudogene 1 (human),Chromosome: 17; Location: 17q21.31                                                                                                                                                                                                                                                                                                        1\n",
       "Name: para, dtype: int64"
      ]
     },
     "execution_count": 189,
     "metadata": {},
     "output_type": "execute_result"
    }
   ],
   "source": [
    "incorrectt = medslicet[medslicet['setid']=='g']\n",
    "incorrectt.iloc[:,2].value_counts()"
   ]
  },
  {
   "cell_type": "markdown",
   "metadata": {},
   "source": [
    "These gene definitions misclassified as medical mention rhinovirus and collagen, which makes sense."
   ]
  },
  {
   "cell_type": "code",
   "execution_count": 190,
   "metadata": {},
   "outputs": [],
   "source": [
    "geneslicet=pd.DataFrame(resultst[resultst[0]==1])"
   ]
  },
  {
   "cell_type": "code",
   "execution_count": 191,
   "metadata": {},
   "outputs": [
    {
     "data": {
      "text/plain": [
       "1247    C2    is  Axis (anatomy) axis  – second cervic...\n",
       "1280    CCJA is  clubbing, cyanosis, jaundice and anaemia\n",
       "1334    CME   is  continuing medical education       C...\n",
       "1549                    EGF   is  epidermal growth factor\n",
       "1596              FAP  is  familial adenomatous polyposis\n",
       "1857                                 Inc   is  incomplete\n",
       "1900    IVPB   is  Intravenous therapy#Infusion equipm...\n",
       "2032    MCC  is  Motor Cycle MotorCycle  Collision, Mo...\n",
       "2060               MIF    is  Müllerian inhibitory factor\n",
       "2223                                   Oint  is  ointment\n",
       "2314    PKU  is  phenylketonuria  (PKU card—see Guthri...\n",
       "2330            PNET  is  primitive neuroectodermal tumor\n",
       "2374       PTD  is  prior to discharge   preterm delivery\n",
       "2380                            PTU  is  propylthiouracil\n",
       "2785                  VSD   is  ventricular septal defect\n",
       "Name: para, dtype: object"
      ]
     },
     "execution_count": 191,
     "metadata": {},
     "output_type": "execute_result"
    }
   ],
   "source": [
    "incorrectt = geneslicet[geneslicet['setid']=='m']\n",
    "incorrectt.iloc[:,2]"
   ]
  },
  {
   "cell_type": "markdown",
   "metadata": {},
   "source": [
    "Some of these medical definitions classified as genes have the keywords 'factor' and 'tumor' which occur often in the gene definitions."
   ]
  },
  {
   "cell_type": "code",
   "execution_count": 192,
   "metadata": {
    "scrolled": true
   },
   "outputs": [
    {
     "data": {
      "text/plain": [
       "5       AKT1 is AKT serine/threonine kinase 1 (human)...\n",
       "8       CXCL8 is C-X-C motif chemokine ligand 8 (huma...\n",
       "9       HLA-B is major histocompatibility complex, cl...\n",
       "17      CYP2C19 is cytochrome P450 family 2 subfamily...\n",
       "21      NOD2 is nucleotide binding oligomerization do...\n",
       "23      CYP1A1 is cytochrome P450 family 1 subfamily ...\n",
       "28      MUC1 is mucin 1, cell surface associated (hum...\n",
       "42      HSP90AA1 is heat shock protein 90 alpha famil...\n",
       "56      POU5F1 is POU class 5 homeobox 1 (human),also...\n",
       "57      GNAS is GNAS complex locus (human),also AHO, ...\n",
       "87      FCGR3A is Fc fragment of IgG receptor IIIa (h...\n",
       "89      PDGFRB is platelet derived growth factor rece...\n",
       "91      GDF15 is growth differentiation factor 15 (hu...\n",
       "106     ITGA2 is integrin subunit alpha 2 (human),als...\n",
       "109     PRKAA1 is protein kinase AMP-activated cataly...\n",
       "110     SMARCB1 is SWI/SNF related, matrix associated...\n",
       "114     EIF2AK2 is eukaryotic translation initiation ...\n",
       "118     SMARCA4 is SWI/SNF related, matrix associated...\n",
       "128     ITGA5 is integrin subunit alpha 5 (human),als...\n",
       "130     MYOC is myocilin (human),also GLC1A, GPOA, JO...\n",
       "132     APOH is apolipoprotein H (human),also B2G1, B...\n",
       "135     SERPINB5 is serpin family B member 5 (human),...\n",
       "138     NOX4 is NADPH oxidase 4 (human),also KOX, KOX...\n",
       "168     SMAD7 is SMAD family member 7 (human),also CR...\n",
       "171     COL3A1 is collagen type III alpha 1 chain (hu...\n",
       "191     CDK6 is cyclin dependent kinase 6 (human),als...\n",
       "197     ACTN3 is actinin alpha 3 (gene/pseudogene) (h...\n",
       "199     BRD4 is bromodomain containing 4 (human),also...\n",
       "218     GATA2 is GATA binding protein 2 (human),also ...\n",
       "229     SNAP25 is synaptosome associated protein 25 (...\n",
       "                             ...                        \n",
       "905     SMN1 is survival of motor neuron 1, telomeric...\n",
       "906     BRAF is B-Raf proto-oncogene, serine/threonin...\n",
       "907     BTK is Bruton tyrosine kinase (human),also AG...\n",
       "909     TGFB1 is transforming growth factor beta 1 (h...\n",
       "910     TLR4 is toll like receptor 4 (human),also ARM...\n",
       "911     TP53 is tumor protein p53 (human),also BCC7, ...\n",
       "912     TTR is transthyretin (human),also ATTR, CTS, ...\n",
       "916                                                  NaN\n",
       "917    NLRP3 gene encodes a pyrin-like protein contai...\n",
       "918    The membrane-associated protein encoded by CFT...\n",
       "919    PARP1 gene encodes a chromatin-associated enzy...\n",
       "921                                                  NaN\n",
       "922                                                  NaN\n",
       "925                                                  NaN\n",
       "926                                                  NaN\n",
       "927                                                  NaN\n",
       "929                                                  NaN\n",
       "930    ESR1 gene encodes an estrogen receptor, a liga...\n",
       "931    FN1 gene encodes fibronectin, a glycoprotein p...\n",
       "932    AMACR gene encodes a racemase. The encoded enz...\n",
       "933    plays a role in regulation of blood pressure [...\n",
       "934    mediates inhibition of fibrinolysis by inhibit...\n",
       "935    acts as a cytokine; binds TNF receptors; plays...\n",
       "936                                                  NaN\n",
       "937    HIF1A gene encodes the alpha subunit of transc...\n",
       "938    The protein encoded by HNF4A gene is a nuclear...\n",
       "939    The protein encoded by HSD11B1 gene is a micro...\n",
       "940    BIRC5 gene is a member of the inhibitor of apo...\n",
       "941    ICAM1 gene encodes a cell surface glycoprotein...\n",
       "942                                                  NaN\n",
       "Name: para, Length: 277, dtype: object"
      ]
     },
     "execution_count": 192,
     "metadata": {},
     "output_type": "execute_result"
    }
   ],
   "source": [
    "abstractslicet=pd.DataFrame(resultst[resultst[0]==2])\n",
    "abstractslicet.iloc[:,2]\n"
   ]
  },
  {
   "cell_type": "markdown",
   "metadata": {},
   "source": [
    "This time the gene definitions shown don't mention the word 'oncogene' very much but there is plenty of shared language between the gene definitions and abstracts."
   ]
  },
  {
   "cell_type": "markdown",
   "metadata": {},
   "source": [
    "This Spectral Clustering model of Levenshtein similarities between strings does not seem overfit but I think it needs more data to do better. It is easy to see that Spectral Clustering is more suited to our application as an acronym translator than Affinity Propogation. To translate an acronym from a certain field you  first have to match it to a field using the niche technical language of that field. Because Affinity Propogation chooses so many clusters, it is much better at dividing the fields than it is at matching them. Because I'm able to choose 3 clusters for Spectral Clustering, the  results better reflect the similarities shown in the Levenshtein distances between abstracts and the other two categories. If I  want to improve this model, I need to add more gene definitions and more niche medical terms."
   ]
  },
  {
   "cell_type": "code",
   "execution_count": null,
   "metadata": {},
   "outputs": [],
   "source": []
  },
  {
   "cell_type": "code",
   "execution_count": null,
   "metadata": {},
   "outputs": [],
   "source": []
  }
 ],
 "metadata": {
  "kernelspec": {
   "display_name": "Python 3",
   "language": "python",
   "name": "python3"
  },
  "language_info": {
   "codemirror_mode": {
    "name": "ipython",
    "version": 3
   },
   "file_extension": ".py",
   "mimetype": "text/x-python",
   "name": "python",
   "nbconvert_exporter": "python",
   "pygments_lexer": "ipython3",
   "version": "3.6.4"
  }
 },
 "nbformat": 4,
 "nbformat_minor": 2
}
