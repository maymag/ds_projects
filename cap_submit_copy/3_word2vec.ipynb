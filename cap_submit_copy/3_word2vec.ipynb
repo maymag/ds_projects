{
 "cells": [
  {
   "cell_type": "markdown",
   "metadata": {},
   "source": [
    "Human gene research is moving fast. How do you summarize all of these discoveries in an objective way so they can be used in the nutrition (nutrigenomics) or healthcare fields?  How do you gather enough evidence to point the way toward needed medical research? \n",
    "\n",
    "Using gene definitions and abstracts from NCBI, I'd like to make a gene calculator that knows the language of gene research and can tell you which genes are most related to a health disorder. There are so many conditions for which the medical field has no answers, and that means diet and nutrition are an important aspect of quality of life improvement. Gene mutations often have very specific roles in metabolism and understanding these roles can lead the way to better health.\n"
   ]
  },
  {
   "cell_type": "markdown",
   "metadata": {},
   "source": [
    "Using gene technical definitions and abstracts containing both gene and medical information from the NCBI website, I'm going to use Word2Vec similarity to match gene abbreviations with medical disorders. First I'll create a dataframe with tokenized strings. I'll use lemmas but i'll keep stop words. Then I'll run the Word2Vec model and see if I can match gene acronyms to diseases with varied number of mentions in the dataset. I'll look at the top 10 matches for my analysis and see if the disease keyword is mentioned. I'll optimize model parameters by running the training model many times using np.random and adjusting the model parameters to find the best matches each time."
   ]
  },
  {
   "cell_type": "code",
   "execution_count": 60,
   "metadata": {},
   "outputs": [],
   "source": [
    "import pandas as pd\n",
    "import numpy as np\n",
    "from sklearn.cluster import AffinityPropagation as Aff\n",
    "import numpy as np\n",
    "import distance\n",
    "from sklearn import metrics\n",
    "import matplotlib.pyplot as plt\n",
    "%matplotlib inline\n",
    "import re"
   ]
  },
  {
   "cell_type": "markdown",
   "metadata": {},
   "source": [
    "First I'll import and clean my datasets."
   ]
  },
  {
   "cell_type": "code",
   "execution_count": 61,
   "metadata": {},
   "outputs": [
    {
     "data": {
      "text/html": [
       "<div>\n",
       "<style scoped>\n",
       "    .dataframe tbody tr th:only-of-type {\n",
       "        vertical-align: middle;\n",
       "    }\n",
       "\n",
       "    .dataframe tbody tr th {\n",
       "        vertical-align: top;\n",
       "    }\n",
       "\n",
       "    .dataframe thead th {\n",
       "        text-align: right;\n",
       "    }\n",
       "</style>\n",
       "<table border=\"1\" class=\"dataframe\">\n",
       "  <thead>\n",
       "    <tr style=\"text-align: right;\">\n",
       "      <th></th>\n",
       "      <th>Unnamed: 0</th>\n",
       "      <th>symbol</th>\n",
       "      <th>blurb</th>\n",
       "      <th>match</th>\n",
       "    </tr>\n",
       "  </thead>\n",
       "  <tbody>\n",
       "    <tr>\n",
       "      <th>0</th>\n",
       "      <td>0</td>\n",
       "      <td>TP53</td>\n",
       "      <td>This gene encodes a tumor suppressor protein c...</td>\n",
       "      <td>0</td>\n",
       "    </tr>\n",
       "    <tr>\n",
       "      <th>1</th>\n",
       "      <td>1</td>\n",
       "      <td>EGFR</td>\n",
       "      <td>The protein encoded by this gene is a transmem...</td>\n",
       "      <td>0</td>\n",
       "    </tr>\n",
       "    <tr>\n",
       "      <th>2</th>\n",
       "      <td>2</td>\n",
       "      <td>TNF</td>\n",
       "      <td>This gene encodes a multifunctional proinflamm...</td>\n",
       "      <td>0</td>\n",
       "    </tr>\n",
       "    <tr>\n",
       "      <th>3</th>\n",
       "      <td>3</td>\n",
       "      <td>APOE</td>\n",
       "      <td>The protein encoded by this gene is a major ap...</td>\n",
       "      <td>0</td>\n",
       "    </tr>\n",
       "    <tr>\n",
       "      <th>4</th>\n",
       "      <td>4</td>\n",
       "      <td>VEGFA</td>\n",
       "      <td>This gene is a member of the PDGF/VEGF growth ...</td>\n",
       "      <td>0</td>\n",
       "    </tr>\n",
       "  </tbody>\n",
       "</table>\n",
       "</div>"
      ],
      "text/plain": [
       "   Unnamed: 0 symbol                                              blurb  match\n",
       "0           0   TP53  This gene encodes a tumor suppressor protein c...      0\n",
       "1           1   EGFR  The protein encoded by this gene is a transmem...      0\n",
       "2           2    TNF  This gene encodes a multifunctional proinflamm...      0\n",
       "3           3   APOE  The protein encoded by this gene is a major ap...      0\n",
       "4           4  VEGFA  This gene is a member of the PDGF/VEGF growth ...      0"
      ]
     },
     "execution_count": 61,
     "metadata": {},
     "output_type": "execute_result"
    }
   ],
   "source": [
    "#import,clean and label datasets\n",
    "abstracts= pd.read_csv('genesdf')\n",
    "abstracts.head()"
   ]
  },
  {
   "cell_type": "code",
   "execution_count": 62,
   "metadata": {},
   "outputs": [],
   "source": [
    "abstracts['abstract'] = 1"
   ]
  },
  {
   "cell_type": "code",
   "execution_count": 63,
   "metadata": {},
   "outputs": [
    {
     "data": {
      "text/html": [
       "<div>\n",
       "<style scoped>\n",
       "    .dataframe tbody tr th:only-of-type {\n",
       "        vertical-align: middle;\n",
       "    }\n",
       "\n",
       "    .dataframe tbody tr th {\n",
       "        vertical-align: top;\n",
       "    }\n",
       "\n",
       "    .dataframe thead th {\n",
       "        text-align: right;\n",
       "    }\n",
       "</style>\n",
       "<table border=\"1\" class=\"dataframe\">\n",
       "  <thead>\n",
       "    <tr style=\"text-align: right;\">\n",
       "      <th></th>\n",
       "      <th>Unnamed: 0</th>\n",
       "      <th>acros</th>\n",
       "      <th>blurb2</th>\n",
       "      <th>match</th>\n",
       "      <th>med</th>\n",
       "    </tr>\n",
       "  </thead>\n",
       "  <tbody>\n",
       "    <tr>\n",
       "      <th>0</th>\n",
       "      <td>0</td>\n",
       "      <td>TP53</td>\n",
       "      <td>Official Symbol- TP53 and Name: tumor protein ...</td>\n",
       "      <td>0</td>\n",
       "      <td>0</td>\n",
       "    </tr>\n",
       "    <tr>\n",
       "      <th>1</th>\n",
       "      <td>1</td>\n",
       "      <td>EGFR</td>\n",
       "      <td>Official Symbol- EGFR and Name: epidermal grow...</td>\n",
       "      <td>0</td>\n",
       "      <td>0</td>\n",
       "    </tr>\n",
       "    <tr>\n",
       "      <th>2</th>\n",
       "      <td>2</td>\n",
       "      <td>TNF</td>\n",
       "      <td>Official Symbol- TNF and Name: tumor necrosis ...</td>\n",
       "      <td>0</td>\n",
       "      <td>0</td>\n",
       "    </tr>\n",
       "    <tr>\n",
       "      <th>3</th>\n",
       "      <td>3</td>\n",
       "      <td>APOE</td>\n",
       "      <td>Official Symbol- APOE and Name: apolipoprotein...</td>\n",
       "      <td>0</td>\n",
       "      <td>0</td>\n",
       "    </tr>\n",
       "    <tr>\n",
       "      <th>4</th>\n",
       "      <td>4</td>\n",
       "      <td>VEGFA</td>\n",
       "      <td>Official Symbol- VEGFA and Name: vascular endo...</td>\n",
       "      <td>0</td>\n",
       "      <td>0</td>\n",
       "    </tr>\n",
       "  </tbody>\n",
       "</table>\n",
       "</div>"
      ],
      "text/plain": [
       "   Unnamed: 0   acros                                             blurb2  \\\n",
       "0           0    TP53  Official Symbol- TP53 and Name: tumor protein ...   \n",
       "1           1    EGFR  Official Symbol- EGFR and Name: epidermal grow...   \n",
       "2           2     TNF  Official Symbol- TNF and Name: tumor necrosis ...   \n",
       "3           3    APOE  Official Symbol- APOE and Name: apolipoprotein...   \n",
       "4           4   VEGFA  Official Symbol- VEGFA and Name: vascular endo...   \n",
       "\n",
       "   match  med  \n",
       "0      0    0  \n",
       "1      0    0  \n",
       "2      0    0  \n",
       "3      0    0  \n",
       "4      0    0  "
      ]
     },
     "execution_count": 63,
     "metadata": {},
     "output_type": "execute_result"
    }
   ],
   "source": [
    "genes = pd.read_csv('genesdf2')\n",
    "genes['med']=0\n",
    "genes = genes[genes.duplicated(subset=None, keep='first')==0]\n",
    "genes.head()"
   ]
  },
  {
   "cell_type": "code",
   "execution_count": 64,
   "metadata": {},
   "outputs": [],
   "source": [
    "genes['symbols'] = genes['acros'].apply(lambda x: (str(x).upper()).strip())\n",
    "genes = genes.drop(columns =['acros'])"
   ]
  },
  {
   "cell_type": "code",
   "execution_count": 65,
   "metadata": {},
   "outputs": [],
   "source": [
    "abstracts['med']=0\n",
    "abstracts['symbols'] = abstracts['symbol'].apply(lambda x: (str(x).upper()).strip())\n",
    "abstracts = abstracts.drop(columns =['symbol'])"
   ]
  },
  {
   "cell_type": "code",
   "execution_count": 66,
   "metadata": {},
   "outputs": [
    {
     "data": {
      "text/html": [
       "<div>\n",
       "<style scoped>\n",
       "    .dataframe tbody tr th:only-of-type {\n",
       "        vertical-align: middle;\n",
       "    }\n",
       "\n",
       "    .dataframe tbody tr th {\n",
       "        vertical-align: top;\n",
       "    }\n",
       "\n",
       "    .dataframe thead th {\n",
       "        text-align: right;\n",
       "    }\n",
       "</style>\n",
       "<table border=\"1\" class=\"dataframe\">\n",
       "  <thead>\n",
       "    <tr style=\"text-align: right;\">\n",
       "      <th></th>\n",
       "      <th>Unnamed: 0</th>\n",
       "      <th>blurb</th>\n",
       "      <th>match</th>\n",
       "      <th>abstract</th>\n",
       "      <th>med</th>\n",
       "      <th>symbols</th>\n",
       "      <th>blurbs</th>\n",
       "    </tr>\n",
       "  </thead>\n",
       "  <tbody>\n",
       "    <tr>\n",
       "      <th>0</th>\n",
       "      <td>0</td>\n",
       "      <td>This gene encodes a tumor suppressor protein c...</td>\n",
       "      <td>0</td>\n",
       "      <td>1</td>\n",
       "      <td>0</td>\n",
       "      <td>TP53</td>\n",
       "      <td>TP53,This gene encodes a tumor suppressor prot...</td>\n",
       "    </tr>\n",
       "    <tr>\n",
       "      <th>1</th>\n",
       "      <td>1</td>\n",
       "      <td>The protein encoded by this gene is a transmem...</td>\n",
       "      <td>0</td>\n",
       "      <td>1</td>\n",
       "      <td>0</td>\n",
       "      <td>EGFR</td>\n",
       "      <td>EGFR,The protein encoded by this gene is a tra...</td>\n",
       "    </tr>\n",
       "    <tr>\n",
       "      <th>2</th>\n",
       "      <td>2</td>\n",
       "      <td>This gene encodes a multifunctional proinflamm...</td>\n",
       "      <td>0</td>\n",
       "      <td>1</td>\n",
       "      <td>0</td>\n",
       "      <td>TNF</td>\n",
       "      <td>TNF,This gene encodes a multifunctional proinf...</td>\n",
       "    </tr>\n",
       "    <tr>\n",
       "      <th>3</th>\n",
       "      <td>3</td>\n",
       "      <td>The protein encoded by this gene is a major ap...</td>\n",
       "      <td>0</td>\n",
       "      <td>1</td>\n",
       "      <td>0</td>\n",
       "      <td>APOE</td>\n",
       "      <td>APOE,The protein encoded by this gene is a maj...</td>\n",
       "    </tr>\n",
       "    <tr>\n",
       "      <th>4</th>\n",
       "      <td>4</td>\n",
       "      <td>This gene is a member of the PDGF/VEGF growth ...</td>\n",
       "      <td>0</td>\n",
       "      <td>1</td>\n",
       "      <td>0</td>\n",
       "      <td>VEGFA</td>\n",
       "      <td>VEGFA,This gene is a member of the PDGF/VEGF g...</td>\n",
       "    </tr>\n",
       "  </tbody>\n",
       "</table>\n",
       "</div>"
      ],
      "text/plain": [
       "   Unnamed: 0                                              blurb  match  \\\n",
       "0           0  This gene encodes a tumor suppressor protein c...      0   \n",
       "1           1  The protein encoded by this gene is a transmem...      0   \n",
       "2           2  This gene encodes a multifunctional proinflamm...      0   \n",
       "3           3  The protein encoded by this gene is a major ap...      0   \n",
       "4           4  This gene is a member of the PDGF/VEGF growth ...      0   \n",
       "\n",
       "   abstract  med symbols                                             blurbs  \n",
       "0         1    0    TP53  TP53,This gene encodes a tumor suppressor prot...  \n",
       "1         1    0    EGFR  EGFR,The protein encoded by this gene is a tra...  \n",
       "2         1    0     TNF  TNF,This gene encodes a multifunctional proinf...  \n",
       "3         1    0    APOE  APOE,The protein encoded by this gene is a maj...  \n",
       "4         1    0   VEGFA  VEGFA,This gene is a member of the PDGF/VEGF g...  "
      ]
     },
     "execution_count": 66,
     "metadata": {},
     "output_type": "execute_result"
    }
   ],
   "source": [
    "#Add acronym to abstracts text\n",
    "abstracts['blurbs'] = abstracts['symbols']+','+abstracts['blurb']\n",
    "abstracts.head()"
   ]
  },
  {
   "cell_type": "code",
   "execution_count": 67,
   "metadata": {},
   "outputs": [
    {
     "data": {
      "text/html": [
       "<div>\n",
       "<style scoped>\n",
       "    .dataframe tbody tr th:only-of-type {\n",
       "        vertical-align: middle;\n",
       "    }\n",
       "\n",
       "    .dataframe tbody tr th {\n",
       "        vertical-align: top;\n",
       "    }\n",
       "\n",
       "    .dataframe thead th {\n",
       "        text-align: right;\n",
       "    }\n",
       "</style>\n",
       "<table border=\"1\" class=\"dataframe\">\n",
       "  <thead>\n",
       "    <tr style=\"text-align: right;\">\n",
       "      <th></th>\n",
       "      <th>Unnamed: 0</th>\n",
       "      <th>blurb</th>\n",
       "      <th>match</th>\n",
       "      <th>abstract</th>\n",
       "      <th>med</th>\n",
       "      <th>symbols</th>\n",
       "      <th>blurbs</th>\n",
       "      <th>blurbs2</th>\n",
       "    </tr>\n",
       "  </thead>\n",
       "  <tbody>\n",
       "    <tr>\n",
       "      <th>0</th>\n",
       "      <td>0</td>\n",
       "      <td>This gene encodes a tumor suppressor protein c...</td>\n",
       "      <td>0</td>\n",
       "      <td>1</td>\n",
       "      <td>0</td>\n",
       "      <td>TP53</td>\n",
       "      <td>TP53,This gene encodes a tumor suppressor prot...</td>\n",
       "      <td>[TP53, This gene encodes a tumor suppressor pr...</td>\n",
       "    </tr>\n",
       "    <tr>\n",
       "      <th>1</th>\n",
       "      <td>1</td>\n",
       "      <td>The protein encoded by this gene is a transmem...</td>\n",
       "      <td>0</td>\n",
       "      <td>1</td>\n",
       "      <td>0</td>\n",
       "      <td>EGFR</td>\n",
       "      <td>EGFR,The protein encoded by this gene is a tra...</td>\n",
       "      <td>[EGFR, The protein encoded by this gene is a t...</td>\n",
       "    </tr>\n",
       "    <tr>\n",
       "      <th>2</th>\n",
       "      <td>2</td>\n",
       "      <td>This gene encodes a multifunctional proinflamm...</td>\n",
       "      <td>0</td>\n",
       "      <td>1</td>\n",
       "      <td>0</td>\n",
       "      <td>TNF</td>\n",
       "      <td>TNF,This gene encodes a multifunctional proinf...</td>\n",
       "      <td>[TNF, This gene encodes a multifunctional proi...</td>\n",
       "    </tr>\n",
       "    <tr>\n",
       "      <th>3</th>\n",
       "      <td>3</td>\n",
       "      <td>The protein encoded by this gene is a major ap...</td>\n",
       "      <td>0</td>\n",
       "      <td>1</td>\n",
       "      <td>0</td>\n",
       "      <td>APOE</td>\n",
       "      <td>APOE,The protein encoded by this gene is a maj...</td>\n",
       "      <td>[APOE, The protein encoded by this gene is a m...</td>\n",
       "    </tr>\n",
       "    <tr>\n",
       "      <th>4</th>\n",
       "      <td>4</td>\n",
       "      <td>This gene is a member of the PDGF/VEGF growth ...</td>\n",
       "      <td>0</td>\n",
       "      <td>1</td>\n",
       "      <td>0</td>\n",
       "      <td>VEGFA</td>\n",
       "      <td>VEGFA,This gene is a member of the PDGF/VEGF g...</td>\n",
       "      <td>[VEGFA, This gene is a member of the PDGF/VEGF...</td>\n",
       "    </tr>\n",
       "  </tbody>\n",
       "</table>\n",
       "</div>"
      ],
      "text/plain": [
       "   Unnamed: 0                                              blurb  match  \\\n",
       "0           0  This gene encodes a tumor suppressor protein c...      0   \n",
       "1           1  The protein encoded by this gene is a transmem...      0   \n",
       "2           2  This gene encodes a multifunctional proinflamm...      0   \n",
       "3           3  The protein encoded by this gene is a major ap...      0   \n",
       "4           4  This gene is a member of the PDGF/VEGF growth ...      0   \n",
       "\n",
       "   abstract  med symbols                                             blurbs  \\\n",
       "0         1    0    TP53  TP53,This gene encodes a tumor suppressor prot...   \n",
       "1         1    0    EGFR  EGFR,The protein encoded by this gene is a tra...   \n",
       "2         1    0     TNF  TNF,This gene encodes a multifunctional proinf...   \n",
       "3         1    0    APOE  APOE,The protein encoded by this gene is a maj...   \n",
       "4         1    0   VEGFA  VEGFA,This gene is a member of the PDGF/VEGF g...   \n",
       "\n",
       "                                             blurbs2  \n",
       "0  [TP53, This gene encodes a tumor suppressor pr...  \n",
       "1  [EGFR, The protein encoded by this gene is a t...  \n",
       "2  [TNF, This gene encodes a multifunctional proi...  \n",
       "3  [APOE, The protein encoded by this gene is a m...  \n",
       "4  [VEGFA, This gene is a member of the PDGF/VEGF...  "
      ]
     },
     "execution_count": 67,
     "metadata": {},
     "output_type": "execute_result"
    }
   ],
   "source": [
    "abstracts['blurbs2'] = abstracts['blurbs'].apply(lambda x: str(x).split(',',1))\n",
    "abstracts.head()"
   ]
  },
  {
   "cell_type": "code",
   "execution_count": 68,
   "metadata": {},
   "outputs": [],
   "source": [
    "def add_symbol(words_list,replace,texts):\n",
    "    for words in words_list:\n",
    "        new = texts.replace(words,replace)\n",
    "        texts = new\n",
    "    return texts\n",
    "   "
   ]
  },
  {
   "cell_type": "code",
   "execution_count": 69,
   "metadata": {},
   "outputs": [],
   "source": [
    "abstracts['blurbs3'] = abstracts['blurbs2'].apply(lambda x: add_symbol(['This gene','this gene'],x[0]+' gene',x[1]) if len(x)==2 else np.nan)"
   ]
  },
  {
   "cell_type": "code",
   "execution_count": 70,
   "metadata": {},
   "outputs": [
    {
     "data": {
      "text/html": [
       "<div>\n",
       "<style scoped>\n",
       "    .dataframe tbody tr th:only-of-type {\n",
       "        vertical-align: middle;\n",
       "    }\n",
       "\n",
       "    .dataframe tbody tr th {\n",
       "        vertical-align: top;\n",
       "    }\n",
       "\n",
       "    .dataframe thead th {\n",
       "        text-align: right;\n",
       "    }\n",
       "</style>\n",
       "<table border=\"1\" class=\"dataframe\">\n",
       "  <thead>\n",
       "    <tr style=\"text-align: right;\">\n",
       "      <th></th>\n",
       "      <th>Unnamed: 0</th>\n",
       "      <th>blurb</th>\n",
       "      <th>match</th>\n",
       "      <th>abstract</th>\n",
       "      <th>med</th>\n",
       "      <th>symbols</th>\n",
       "      <th>blurbs</th>\n",
       "      <th>blurbs2</th>\n",
       "      <th>blurbs3</th>\n",
       "    </tr>\n",
       "  </thead>\n",
       "  <tbody>\n",
       "    <tr>\n",
       "      <th>0</th>\n",
       "      <td>0</td>\n",
       "      <td>This gene encodes a tumor suppressor protein c...</td>\n",
       "      <td>0</td>\n",
       "      <td>1</td>\n",
       "      <td>0</td>\n",
       "      <td>TP53</td>\n",
       "      <td>TP53,This gene encodes a tumor suppressor prot...</td>\n",
       "      <td>[TP53, This gene encodes a tumor suppressor pr...</td>\n",
       "      <td>TP53 gene encodes a tumor suppressor protein c...</td>\n",
       "    </tr>\n",
       "    <tr>\n",
       "      <th>1</th>\n",
       "      <td>1</td>\n",
       "      <td>The protein encoded by this gene is a transmem...</td>\n",
       "      <td>0</td>\n",
       "      <td>1</td>\n",
       "      <td>0</td>\n",
       "      <td>EGFR</td>\n",
       "      <td>EGFR,The protein encoded by this gene is a tra...</td>\n",
       "      <td>[EGFR, The protein encoded by this gene is a t...</td>\n",
       "      <td>The protein encoded by EGFR gene is a transmem...</td>\n",
       "    </tr>\n",
       "    <tr>\n",
       "      <th>2</th>\n",
       "      <td>2</td>\n",
       "      <td>This gene encodes a multifunctional proinflamm...</td>\n",
       "      <td>0</td>\n",
       "      <td>1</td>\n",
       "      <td>0</td>\n",
       "      <td>TNF</td>\n",
       "      <td>TNF,This gene encodes a multifunctional proinf...</td>\n",
       "      <td>[TNF, This gene encodes a multifunctional proi...</td>\n",
       "      <td>TNF gene encodes a multifunctional proinflamma...</td>\n",
       "    </tr>\n",
       "    <tr>\n",
       "      <th>3</th>\n",
       "      <td>3</td>\n",
       "      <td>The protein encoded by this gene is a major ap...</td>\n",
       "      <td>0</td>\n",
       "      <td>1</td>\n",
       "      <td>0</td>\n",
       "      <td>APOE</td>\n",
       "      <td>APOE,The protein encoded by this gene is a maj...</td>\n",
       "      <td>[APOE, The protein encoded by this gene is a m...</td>\n",
       "      <td>The protein encoded by APOE gene is a major ap...</td>\n",
       "    </tr>\n",
       "    <tr>\n",
       "      <th>4</th>\n",
       "      <td>4</td>\n",
       "      <td>This gene is a member of the PDGF/VEGF growth ...</td>\n",
       "      <td>0</td>\n",
       "      <td>1</td>\n",
       "      <td>0</td>\n",
       "      <td>VEGFA</td>\n",
       "      <td>VEGFA,This gene is a member of the PDGF/VEGF g...</td>\n",
       "      <td>[VEGFA, This gene is a member of the PDGF/VEGF...</td>\n",
       "      <td>VEGFA gene is a member of the PDGF/VEGF growth...</td>\n",
       "    </tr>\n",
       "  </tbody>\n",
       "</table>\n",
       "</div>"
      ],
      "text/plain": [
       "   Unnamed: 0                                              blurb  match  \\\n",
       "0           0  This gene encodes a tumor suppressor protein c...      0   \n",
       "1           1  The protein encoded by this gene is a transmem...      0   \n",
       "2           2  This gene encodes a multifunctional proinflamm...      0   \n",
       "3           3  The protein encoded by this gene is a major ap...      0   \n",
       "4           4  This gene is a member of the PDGF/VEGF growth ...      0   \n",
       "\n",
       "   abstract  med symbols                                             blurbs  \\\n",
       "0         1    0    TP53  TP53,This gene encodes a tumor suppressor prot...   \n",
       "1         1    0    EGFR  EGFR,The protein encoded by this gene is a tra...   \n",
       "2         1    0     TNF  TNF,This gene encodes a multifunctional proinf...   \n",
       "3         1    0    APOE  APOE,The protein encoded by this gene is a maj...   \n",
       "4         1    0   VEGFA  VEGFA,This gene is a member of the PDGF/VEGF g...   \n",
       "\n",
       "                                             blurbs2  \\\n",
       "0  [TP53, This gene encodes a tumor suppressor pr...   \n",
       "1  [EGFR, The protein encoded by this gene is a t...   \n",
       "2  [TNF, This gene encodes a multifunctional proi...   \n",
       "3  [APOE, The protein encoded by this gene is a m...   \n",
       "4  [VEGFA, This gene is a member of the PDGF/VEGF...   \n",
       "\n",
       "                                             blurbs3  \n",
       "0  TP53 gene encodes a tumor suppressor protein c...  \n",
       "1  The protein encoded by EGFR gene is a transmem...  \n",
       "2  TNF gene encodes a multifunctional proinflamma...  \n",
       "3  The protein encoded by APOE gene is a major ap...  \n",
       "4  VEGFA gene is a member of the PDGF/VEGF growth...  "
      ]
     },
     "execution_count": 70,
     "metadata": {},
     "output_type": "execute_result"
    }
   ],
   "source": [
    "abstracts.head()"
   ]
  },
  {
   "cell_type": "code",
   "execution_count": 71,
   "metadata": {},
   "outputs": [
    {
     "data": {
      "text/html": [
       "<div>\n",
       "<style scoped>\n",
       "    .dataframe tbody tr th:only-of-type {\n",
       "        vertical-align: middle;\n",
       "    }\n",
       "\n",
       "    .dataframe tbody tr th {\n",
       "        vertical-align: top;\n",
       "    }\n",
       "\n",
       "    .dataframe thead th {\n",
       "        text-align: right;\n",
       "    }\n",
       "</style>\n",
       "<table border=\"1\" class=\"dataframe\">\n",
       "  <thead>\n",
       "    <tr style=\"text-align: right;\">\n",
       "      <th></th>\n",
       "      <th>Unnamed: 0</th>\n",
       "      <th>match</th>\n",
       "      <th>abstract</th>\n",
       "      <th>med</th>\n",
       "      <th>symbols</th>\n",
       "      <th>blurbs3</th>\n",
       "    </tr>\n",
       "  </thead>\n",
       "  <tbody>\n",
       "    <tr>\n",
       "      <th>0</th>\n",
       "      <td>0</td>\n",
       "      <td>0</td>\n",
       "      <td>1</td>\n",
       "      <td>0</td>\n",
       "      <td>TP53</td>\n",
       "      <td>TP53 gene encodes a tumor suppressor protein c...</td>\n",
       "    </tr>\n",
       "    <tr>\n",
       "      <th>1</th>\n",
       "      <td>1</td>\n",
       "      <td>0</td>\n",
       "      <td>1</td>\n",
       "      <td>0</td>\n",
       "      <td>EGFR</td>\n",
       "      <td>The protein encoded by EGFR gene is a transmem...</td>\n",
       "    </tr>\n",
       "    <tr>\n",
       "      <th>2</th>\n",
       "      <td>2</td>\n",
       "      <td>0</td>\n",
       "      <td>1</td>\n",
       "      <td>0</td>\n",
       "      <td>TNF</td>\n",
       "      <td>TNF gene encodes a multifunctional proinflamma...</td>\n",
       "    </tr>\n",
       "    <tr>\n",
       "      <th>3</th>\n",
       "      <td>3</td>\n",
       "      <td>0</td>\n",
       "      <td>1</td>\n",
       "      <td>0</td>\n",
       "      <td>APOE</td>\n",
       "      <td>The protein encoded by APOE gene is a major ap...</td>\n",
       "    </tr>\n",
       "    <tr>\n",
       "      <th>4</th>\n",
       "      <td>4</td>\n",
       "      <td>0</td>\n",
       "      <td>1</td>\n",
       "      <td>0</td>\n",
       "      <td>VEGFA</td>\n",
       "      <td>VEGFA gene is a member of the PDGF/VEGF growth...</td>\n",
       "    </tr>\n",
       "  </tbody>\n",
       "</table>\n",
       "</div>"
      ],
      "text/plain": [
       "   Unnamed: 0  match  abstract  med symbols  \\\n",
       "0           0      0         1    0    TP53   \n",
       "1           1      0         1    0    EGFR   \n",
       "2           2      0         1    0     TNF   \n",
       "3           3      0         1    0    APOE   \n",
       "4           4      0         1    0   VEGFA   \n",
       "\n",
       "                                             blurbs3  \n",
       "0  TP53 gene encodes a tumor suppressor protein c...  \n",
       "1  The protein encoded by EGFR gene is a transmem...  \n",
       "2  TNF gene encodes a multifunctional proinflamma...  \n",
       "3  The protein encoded by APOE gene is a major ap...  \n",
       "4  VEGFA gene is a member of the PDGF/VEGF growth...  "
      ]
     },
     "execution_count": 71,
     "metadata": {},
     "output_type": "execute_result"
    }
   ],
   "source": [
    "#prepare to combine datasets\n",
    "abstracts = abstracts.drop(columns = ['blurb','blurbs','blurbs2'])\n",
    "abstracts.head()"
   ]
  },
  {
   "cell_type": "code",
   "execution_count": 72,
   "metadata": {},
   "outputs": [
    {
     "data": {
      "text/html": [
       "<div>\n",
       "<style scoped>\n",
       "    .dataframe tbody tr th:only-of-type {\n",
       "        vertical-align: middle;\n",
       "    }\n",
       "\n",
       "    .dataframe tbody tr th {\n",
       "        vertical-align: top;\n",
       "    }\n",
       "\n",
       "    .dataframe thead th {\n",
       "        text-align: right;\n",
       "    }\n",
       "</style>\n",
       "<table border=\"1\" class=\"dataframe\">\n",
       "  <thead>\n",
       "    <tr style=\"text-align: right;\">\n",
       "      <th></th>\n",
       "      <th>Unnamed: 0</th>\n",
       "      <th>match</th>\n",
       "      <th>abstract</th>\n",
       "      <th>med</th>\n",
       "      <th>symbols</th>\n",
       "      <th>blurb2</th>\n",
       "    </tr>\n",
       "  </thead>\n",
       "  <tbody>\n",
       "    <tr>\n",
       "      <th>0</th>\n",
       "      <td>0</td>\n",
       "      <td>0</td>\n",
       "      <td>1</td>\n",
       "      <td>0</td>\n",
       "      <td>TP53</td>\n",
       "      <td>TP53 gene encodes a tumor suppressor protein c...</td>\n",
       "    </tr>\n",
       "    <tr>\n",
       "      <th>1</th>\n",
       "      <td>1</td>\n",
       "      <td>0</td>\n",
       "      <td>1</td>\n",
       "      <td>0</td>\n",
       "      <td>EGFR</td>\n",
       "      <td>The protein encoded by EGFR gene is a transmem...</td>\n",
       "    </tr>\n",
       "    <tr>\n",
       "      <th>2</th>\n",
       "      <td>2</td>\n",
       "      <td>0</td>\n",
       "      <td>1</td>\n",
       "      <td>0</td>\n",
       "      <td>TNF</td>\n",
       "      <td>TNF gene encodes a multifunctional proinflamma...</td>\n",
       "    </tr>\n",
       "    <tr>\n",
       "      <th>3</th>\n",
       "      <td>3</td>\n",
       "      <td>0</td>\n",
       "      <td>1</td>\n",
       "      <td>0</td>\n",
       "      <td>APOE</td>\n",
       "      <td>The protein encoded by APOE gene is a major ap...</td>\n",
       "    </tr>\n",
       "    <tr>\n",
       "      <th>4</th>\n",
       "      <td>4</td>\n",
       "      <td>0</td>\n",
       "      <td>1</td>\n",
       "      <td>0</td>\n",
       "      <td>VEGFA</td>\n",
       "      <td>VEGFA gene is a member of the PDGF/VEGF growth...</td>\n",
       "    </tr>\n",
       "  </tbody>\n",
       "</table>\n",
       "</div>"
      ],
      "text/plain": [
       "   Unnamed: 0  match  abstract  med symbols  \\\n",
       "0           0      0         1    0    TP53   \n",
       "1           1      0         1    0    EGFR   \n",
       "2           2      0         1    0     TNF   \n",
       "3           3      0         1    0    APOE   \n",
       "4           4      0         1    0   VEGFA   \n",
       "\n",
       "                                              blurb2  \n",
       "0  TP53 gene encodes a tumor suppressor protein c...  \n",
       "1  The protein encoded by EGFR gene is a transmem...  \n",
       "2  TNF gene encodes a multifunctional proinflamma...  \n",
       "3  The protein encoded by APOE gene is a major ap...  \n",
       "4  VEGFA gene is a member of the PDGF/VEGF growth...  "
      ]
     },
     "execution_count": 72,
     "metadata": {},
     "output_type": "execute_result"
    }
   ],
   "source": [
    "abstracts = abstracts.rename(columns ={'blurbs3':'blurb2'})\n",
    "abstracts.head()"
   ]
  },
  {
   "cell_type": "markdown",
   "metadata": {},
   "source": [
    "Next I'll combine the gene abstracts and gene definitions into one dataframe."
   ]
  },
  {
   "cell_type": "code",
   "execution_count": 73,
   "metadata": {},
   "outputs": [
    {
     "data": {
      "text/html": [
       "<div>\n",
       "<style scoped>\n",
       "    .dataframe tbody tr th:only-of-type {\n",
       "        vertical-align: middle;\n",
       "    }\n",
       "\n",
       "    .dataframe tbody tr th {\n",
       "        vertical-align: top;\n",
       "    }\n",
       "\n",
       "    .dataframe thead th {\n",
       "        text-align: right;\n",
       "    }\n",
       "</style>\n",
       "<table border=\"1\" class=\"dataframe\">\n",
       "  <thead>\n",
       "    <tr style=\"text-align: right;\">\n",
       "      <th></th>\n",
       "      <th>abstract</th>\n",
       "      <th>blurb2</th>\n",
       "      <th>match</th>\n",
       "      <th>med</th>\n",
       "      <th>symbols</th>\n",
       "    </tr>\n",
       "  </thead>\n",
       "  <tbody>\n",
       "    <tr>\n",
       "      <th>0</th>\n",
       "      <td>NaN</td>\n",
       "      <td>Official Symbol- TP53 and Name: tumor protein ...</td>\n",
       "      <td>0</td>\n",
       "      <td>0</td>\n",
       "      <td>TP53</td>\n",
       "    </tr>\n",
       "    <tr>\n",
       "      <th>1</th>\n",
       "      <td>NaN</td>\n",
       "      <td>Official Symbol- EGFR and Name: epidermal grow...</td>\n",
       "      <td>0</td>\n",
       "      <td>0</td>\n",
       "      <td>EGFR</td>\n",
       "    </tr>\n",
       "    <tr>\n",
       "      <th>2</th>\n",
       "      <td>NaN</td>\n",
       "      <td>Official Symbol- TNF and Name: tumor necrosis ...</td>\n",
       "      <td>0</td>\n",
       "      <td>0</td>\n",
       "      <td>TNF</td>\n",
       "    </tr>\n",
       "    <tr>\n",
       "      <th>3</th>\n",
       "      <td>NaN</td>\n",
       "      <td>Official Symbol- APOE and Name: apolipoprotein...</td>\n",
       "      <td>0</td>\n",
       "      <td>0</td>\n",
       "      <td>APOE</td>\n",
       "    </tr>\n",
       "    <tr>\n",
       "      <th>4</th>\n",
       "      <td>NaN</td>\n",
       "      <td>Official Symbol- VEGFA and Name: vascular endo...</td>\n",
       "      <td>0</td>\n",
       "      <td>0</td>\n",
       "      <td>VEGFA</td>\n",
       "    </tr>\n",
       "  </tbody>\n",
       "</table>\n",
       "</div>"
      ],
      "text/plain": [
       "   abstract                                             blurb2  match  med  \\\n",
       "0       NaN  Official Symbol- TP53 and Name: tumor protein ...      0    0   \n",
       "1       NaN  Official Symbol- EGFR and Name: epidermal grow...      0    0   \n",
       "2       NaN  Official Symbol- TNF and Name: tumor necrosis ...      0    0   \n",
       "3       NaN  Official Symbol- APOE and Name: apolipoprotein...      0    0   \n",
       "4       NaN  Official Symbol- VEGFA and Name: vascular endo...      0    0   \n",
       "\n",
       "  symbols  \n",
       "0    TP53  \n",
       "1    EGFR  \n",
       "2     TNF  \n",
       "3    APOE  \n",
       "4   VEGFA  "
      ]
     },
     "execution_count": 73,
     "metadata": {},
     "output_type": "execute_result"
    }
   ],
   "source": [
    "#Combine datasets and clean the data more\n",
    "genes = genes.append(abstracts,ignore_index = True)\n",
    "genes = genes.drop(columns = ['Unnamed: 0'])\n",
    "genes.head()"
   ]
  },
  {
   "cell_type": "code",
   "execution_count": 74,
   "metadata": {},
   "outputs": [],
   "source": [
    "genes['blurb3'] = genes['blurb2'].apply(lambda x: str(x).replace('Official Symbol-',''))"
   ]
  },
  {
   "cell_type": "code",
   "execution_count": 75,
   "metadata": {},
   "outputs": [],
   "source": [
    "genes['blurb4'] = genes['blurb3'].apply(lambda x: str(x).replace('and Name:','is'))"
   ]
  },
  {
   "cell_type": "code",
   "execution_count": 76,
   "metadata": {},
   "outputs": [],
   "source": [
    "genes['blurb5'] = genes['blurb4'].apply(lambda x: str(x).replace('Other Aliases:','also'))"
   ]
  },
  {
   "cell_type": "code",
   "execution_count": 77,
   "metadata": {},
   "outputs": [],
   "source": [
    "genes['blurb6'] = genes['blurb5'].apply(lambda x: str(x).replace('Other Designations:','It is'))"
   ]
  },
  {
   "cell_type": "code",
   "execution_count": 78,
   "metadata": {},
   "outputs": [],
   "source": [
    "genes['blurb7'] = genes['blurb6'].apply(lambda x: str(x).replace('[Homo sapiens (human)]','(human)'))"
   ]
  },
  {
   "cell_type": "code",
   "execution_count": 79,
   "metadata": {},
   "outputs": [],
   "source": [
    "genes['blurb8'] = genes['blurb7'].apply(lambda x: str(x).replace('Other Aliases-','and'))"
   ]
  },
  {
   "cell_type": "code",
   "execution_count": 80,
   "metadata": {},
   "outputs": [],
   "source": [
    "genes = genes.drop(columns = ['blurb2','blurb3','blurb4','blurb5','blurb6','blurb7'])"
   ]
  },
  {
   "cell_type": "code",
   "execution_count": 81,
   "metadata": {},
   "outputs": [
    {
     "data": {
      "text/html": [
       "<div>\n",
       "<style scoped>\n",
       "    .dataframe tbody tr th:only-of-type {\n",
       "        vertical-align: middle;\n",
       "    }\n",
       "\n",
       "    .dataframe tbody tr th {\n",
       "        vertical-align: top;\n",
       "    }\n",
       "\n",
       "    .dataframe thead th {\n",
       "        text-align: right;\n",
       "    }\n",
       "</style>\n",
       "<table border=\"1\" class=\"dataframe\">\n",
       "  <thead>\n",
       "    <tr style=\"text-align: right;\">\n",
       "      <th></th>\n",
       "      <th>abstract</th>\n",
       "      <th>match</th>\n",
       "      <th>med</th>\n",
       "      <th>symbols</th>\n",
       "      <th>blurb8</th>\n",
       "    </tr>\n",
       "  </thead>\n",
       "  <tbody>\n",
       "    <tr>\n",
       "      <th>0</th>\n",
       "      <td>NaN</td>\n",
       "      <td>0</td>\n",
       "      <td>0</td>\n",
       "      <td>TP53</td>\n",
       "      <td>TP53 is tumor protein p53 (human),also BCC7, ...</td>\n",
       "    </tr>\n",
       "    <tr>\n",
       "      <th>1</th>\n",
       "      <td>NaN</td>\n",
       "      <td>0</td>\n",
       "      <td>0</td>\n",
       "      <td>EGFR</td>\n",
       "      <td>EGFR is epidermal growth factor receptor (hum...</td>\n",
       "    </tr>\n",
       "    <tr>\n",
       "      <th>2</th>\n",
       "      <td>NaN</td>\n",
       "      <td>0</td>\n",
       "      <td>0</td>\n",
       "      <td>TNF</td>\n",
       "      <td>TNF is tumor necrosis factor (human),also DIF...</td>\n",
       "    </tr>\n",
       "    <tr>\n",
       "      <th>3</th>\n",
       "      <td>NaN</td>\n",
       "      <td>0</td>\n",
       "      <td>0</td>\n",
       "      <td>APOE</td>\n",
       "      <td>APOE is apolipoprotein E (human),also AD2, AP...</td>\n",
       "    </tr>\n",
       "    <tr>\n",
       "      <th>4</th>\n",
       "      <td>NaN</td>\n",
       "      <td>0</td>\n",
       "      <td>0</td>\n",
       "      <td>VEGFA</td>\n",
       "      <td>VEGFA is vascular endothelial growth factor A...</td>\n",
       "    </tr>\n",
       "  </tbody>\n",
       "</table>\n",
       "</div>"
      ],
      "text/plain": [
       "   abstract  match  med symbols  \\\n",
       "0       NaN      0    0    TP53   \n",
       "1       NaN      0    0    EGFR   \n",
       "2       NaN      0    0     TNF   \n",
       "3       NaN      0    0    APOE   \n",
       "4       NaN      0    0   VEGFA   \n",
       "\n",
       "                                              blurb8  \n",
       "0   TP53 is tumor protein p53 (human),also BCC7, ...  \n",
       "1   EGFR is epidermal growth factor receptor (hum...  \n",
       "2   TNF is tumor necrosis factor (human),also DIF...  \n",
       "3   APOE is apolipoprotein E (human),also AD2, AP...  \n",
       "4   VEGFA is vascular endothelial growth factor A...  "
      ]
     },
     "execution_count": 81,
     "metadata": {},
     "output_type": "execute_result"
    }
   ],
   "source": [
    "genes.head()"
   ]
  },
  {
   "cell_type": "markdown",
   "metadata": {},
   "source": [
    "Next I'll tokenize the data and make lemmas."
   ]
  },
  {
   "cell_type": "code",
   "execution_count": 82,
   "metadata": {},
   "outputs": [],
   "source": [
    "#Tokenize data and make lemmas\n",
    "import spacy\n",
    "nlp = spacy.load('en',parser=False, entity=False,tagger=False,textcat=False,ner=False)\n"
   ]
  },
  {
   "cell_type": "code",
   "execution_count": 83,
   "metadata": {},
   "outputs": [],
   "source": [
    "genes['tokens'] = genes['blurb8'].apply(lambda x: nlp(x))"
   ]
  },
  {
   "cell_type": "code",
   "execution_count": 84,
   "metadata": {},
   "outputs": [],
   "source": [
    "genes['lemmas'] = genes['tokens'].apply(lambda x: [token.lemma_ for token in x])"
   ]
  },
  {
   "cell_type": "code",
   "execution_count": 85,
   "metadata": {},
   "outputs": [
    {
     "data": {
      "text/html": [
       "<div>\n",
       "<style scoped>\n",
       "    .dataframe tbody tr th:only-of-type {\n",
       "        vertical-align: middle;\n",
       "    }\n",
       "\n",
       "    .dataframe tbody tr th {\n",
       "        vertical-align: top;\n",
       "    }\n",
       "\n",
       "    .dataframe thead th {\n",
       "        text-align: right;\n",
       "    }\n",
       "</style>\n",
       "<table border=\"1\" class=\"dataframe\">\n",
       "  <thead>\n",
       "    <tr style=\"text-align: right;\">\n",
       "      <th></th>\n",
       "      <th>abstract</th>\n",
       "      <th>match</th>\n",
       "      <th>med</th>\n",
       "      <th>symbols</th>\n",
       "      <th>blurb8</th>\n",
       "      <th>tokens</th>\n",
       "      <th>lemmas</th>\n",
       "    </tr>\n",
       "  </thead>\n",
       "  <tbody>\n",
       "    <tr>\n",
       "      <th>0</th>\n",
       "      <td>NaN</td>\n",
       "      <td>0</td>\n",
       "      <td>0</td>\n",
       "      <td>TP53</td>\n",
       "      <td>TP53 is tumor protein p53 (human),also BCC7, ...</td>\n",
       "      <td>( , TP53, is, tumor, protein, p53, (, human),a...</td>\n",
       "      <td>[ , tp53, be, tumor, protein, p53, (, human),a...</td>\n",
       "    </tr>\n",
       "    <tr>\n",
       "      <th>1</th>\n",
       "      <td>NaN</td>\n",
       "      <td>0</td>\n",
       "      <td>0</td>\n",
       "      <td>EGFR</td>\n",
       "      <td>EGFR is epidermal growth factor receptor (hum...</td>\n",
       "      <td>( , EGFR, is, epidermal, growth, factor, recep...</td>\n",
       "      <td>[ , egfr, be, epidermal, growth, factor, recep...</td>\n",
       "    </tr>\n",
       "    <tr>\n",
       "      <th>2</th>\n",
       "      <td>NaN</td>\n",
       "      <td>0</td>\n",
       "      <td>0</td>\n",
       "      <td>TNF</td>\n",
       "      <td>TNF is tumor necrosis factor (human),also DIF...</td>\n",
       "      <td>( , TNF, is, tumor, necrosis, factor, (, human...</td>\n",
       "      <td>[ , tnf, be, tumor, necrosis, factor, (, human...</td>\n",
       "    </tr>\n",
       "    <tr>\n",
       "      <th>3</th>\n",
       "      <td>NaN</td>\n",
       "      <td>0</td>\n",
       "      <td>0</td>\n",
       "      <td>APOE</td>\n",
       "      <td>APOE is apolipoprotein E (human),also AD2, AP...</td>\n",
       "      <td>( , APOE, is, apolipoprotein, E, (, human),als...</td>\n",
       "      <td>[ , apoe, be, apolipoprotein, e, (, human),als...</td>\n",
       "    </tr>\n",
       "    <tr>\n",
       "      <th>4</th>\n",
       "      <td>NaN</td>\n",
       "      <td>0</td>\n",
       "      <td>0</td>\n",
       "      <td>VEGFA</td>\n",
       "      <td>VEGFA is vascular endothelial growth factor A...</td>\n",
       "      <td>( , VEGFA, is, vascular, endothelial, growth, ...</td>\n",
       "      <td>[ , vegfa, be, vascular, endothelial, growth, ...</td>\n",
       "    </tr>\n",
       "  </tbody>\n",
       "</table>\n",
       "</div>"
      ],
      "text/plain": [
       "   abstract  match  med symbols  \\\n",
       "0       NaN      0    0    TP53   \n",
       "1       NaN      0    0    EGFR   \n",
       "2       NaN      0    0     TNF   \n",
       "3       NaN      0    0    APOE   \n",
       "4       NaN      0    0   VEGFA   \n",
       "\n",
       "                                              blurb8  \\\n",
       "0   TP53 is tumor protein p53 (human),also BCC7, ...   \n",
       "1   EGFR is epidermal growth factor receptor (hum...   \n",
       "2   TNF is tumor necrosis factor (human),also DIF...   \n",
       "3   APOE is apolipoprotein E (human),also AD2, AP...   \n",
       "4   VEGFA is vascular endothelial growth factor A...   \n",
       "\n",
       "                                              tokens  \\\n",
       "0  ( , TP53, is, tumor, protein, p53, (, human),a...   \n",
       "1  ( , EGFR, is, epidermal, growth, factor, recep...   \n",
       "2  ( , TNF, is, tumor, necrosis, factor, (, human...   \n",
       "3  ( , APOE, is, apolipoprotein, E, (, human),als...   \n",
       "4  ( , VEGFA, is, vascular, endothelial, growth, ...   \n",
       "\n",
       "                                              lemmas  \n",
       "0  [ , tp53, be, tumor, protein, p53, (, human),a...  \n",
       "1  [ , egfr, be, epidermal, growth, factor, recep...  \n",
       "2  [ , tnf, be, tumor, necrosis, factor, (, human...  \n",
       "3  [ , apoe, be, apolipoprotein, e, (, human),als...  \n",
       "4  [ , vegfa, be, vascular, endothelial, growth, ...  "
      ]
     },
     "execution_count": 85,
     "metadata": {},
     "output_type": "execute_result"
    }
   ],
   "source": [
    "genes.head()"
   ]
  },
  {
   "cell_type": "code",
   "execution_count": 86,
   "metadata": {},
   "outputs": [],
   "source": [
    "genes_match = genes[genes['match']==1]"
   ]
  },
  {
   "cell_type": "code",
   "execution_count": 87,
   "metadata": {},
   "outputs": [],
   "source": [
    "genes_no = genes[genes['match']==0]"
   ]
  },
  {
   "cell_type": "markdown",
   "metadata": {},
   "source": [
    "I'll prepare the training and test sets in a way that makes sure both sets have matching definitions and abstracts."
   ]
  },
  {
   "cell_type": "code",
   "execution_count": 88,
   "metadata": {},
   "outputs": [],
   "source": [
    "#Prepare test and training sets\n",
    "msk = np.random.rand(len(genes_match)) < 0.8\n",
    "trainM = genes_match[msk]\n",
    "testM = genes_match[~msk]"
   ]
  },
  {
   "cell_type": "code",
   "execution_count": 89,
   "metadata": {},
   "outputs": [],
   "source": [
    "msk = np.random.rand(len(genes_no)) < 0.8\n",
    "train = genes_no[msk]\n",
    "test = genes_no[~msk]"
   ]
  },
  {
   "cell_type": "code",
   "execution_count": 93,
   "metadata": {},
   "outputs": [
    {
     "data": {
      "text/plain": [
       "(4106, 7)"
      ]
     },
     "execution_count": 93,
     "metadata": {},
     "output_type": "execute_result"
    }
   ],
   "source": [
    "train = train.append(trainM,ignore_index = True)\n",
    "\n",
    "train.shape"
   ]
  },
  {
   "cell_type": "code",
   "execution_count": 94,
   "metadata": {},
   "outputs": [
    {
     "data": {
      "text/plain": [
       "(4106, 7)"
      ]
     },
     "execution_count": 94,
     "metadata": {},
     "output_type": "execute_result"
    }
   ],
   "source": [
    "train.shape"
   ]
  },
  {
   "cell_type": "code",
   "execution_count": 95,
   "metadata": {},
   "outputs": [
    {
     "data": {
      "text/plain": [
       "(928, 7)"
      ]
     },
     "execution_count": 95,
     "metadata": {},
     "output_type": "execute_result"
    }
   ],
   "source": [
    "test = test.append(testM,ignore_index = True)\n",
    "\n",
    "test.shape"
   ]
  },
  {
   "cell_type": "markdown",
   "metadata": {},
   "source": [
    "Because my training and test sets were prepared using np.random, I was able to optimize my model parameters by examining the success of  multiple versions of the training model. My final word2vec model uses CBOW with a window of 28, and a word vector length of 95."
   ]
  },
  {
   "cell_type": "code",
   "execution_count": 381,
   "metadata": {},
   "outputs": [
    {
     "name": "stdout",
     "output_type": "stream",
     "text": [
      "done!\n"
     ]
    }
   ],
   "source": [
    "import gensim\n",
    "from gensim.models import word2vec\n",
    "\n",
    "model = word2vec.Word2Vec(\n",
    "    np.asarray(train['lemmas']),\n",
    "    workers=4,     # Number of threads to run in parallel \n",
    "    min_count=1,  # Minimum word count threshold.\n",
    "    window=28,      # Number of words around target word to consider.\n",
    "    sg=0,          # Use CBOW because our corpus is small.\n",
    "    sample=1e-3 ,  # Penalize frequent words.\n",
    "    size=95,      # Word vector length.\n",
    "    hs=1           # Use hierarchical softmax.\n",
    ")\n",
    "\n",
    "print('done!')"
   ]
  },
  {
   "cell_type": "code",
   "execution_count": 382,
   "metadata": {
    "scrolled": false
   },
   "outputs": [],
   "source": [
    "# List of words in model.\n",
    "vocab = model.wv.vocab.keys()"
   ]
  },
  {
   "cell_type": "markdown",
   "metadata": {},
   "source": [
    "I tested the success of my model by looking at model.wv.similarity between gene abbrevitions and disorders. Results are below."
   ]
  },
  {
   "cell_type": "code",
   "execution_count": 383,
   "metadata": {},
   "outputs": [
    {
     "name": "stdout",
     "output_type": "stream",
     "text": [
      "0.790815382317325\n"
     ]
    }
   ],
   "source": [
    "# 1 is a perfect match and 0 is no similarity\n",
    "print(model.wv.similarity('disease', 'syndrome'))\n",
    "\n",
    " "
   ]
  },
  {
   "cell_type": "markdown",
   "metadata": {},
   "source": [
    "The model found a strong similarity between 'disease' and 'syndrome' which is correct, so I decided to test the disease similarities."
   ]
  },
  {
   "cell_type": "code",
   "execution_count": 384,
   "metadata": {},
   "outputs": [],
   "source": [
    "train['disorder'] = np.where((train['blurb8'].str.contains('alzheimer|parkinson|dystrophy|ehlers|cancer|leukemia|diabetes')),1,0)\n"
   ]
  },
  {
   "cell_type": "code",
   "execution_count": 385,
   "metadata": {},
   "outputs": [
    {
     "data": {
      "text/plain": [
       "0    3763\n",
       "1     343\n",
       "Name: disorder, dtype: int64"
      ]
     },
     "execution_count": 385,
     "metadata": {},
     "output_type": "execute_result"
    }
   ],
   "source": [
    "train['disorder'].value_counts()"
   ]
  },
  {
   "cell_type": "code",
   "execution_count": 386,
   "metadata": {},
   "outputs": [
    {
     "data": {
      "text/html": [
       "<div>\n",
       "<style scoped>\n",
       "    .dataframe tbody tr th:only-of-type {\n",
       "        vertical-align: middle;\n",
       "    }\n",
       "\n",
       "    .dataframe tbody tr th {\n",
       "        vertical-align: top;\n",
       "    }\n",
       "\n",
       "    .dataframe thead th {\n",
       "        text-align: right;\n",
       "    }\n",
       "</style>\n",
       "<table border=\"1\" class=\"dataframe\">\n",
       "  <thead>\n",
       "    <tr style=\"text-align: right;\">\n",
       "      <th></th>\n",
       "      <th>abstract</th>\n",
       "      <th>match</th>\n",
       "      <th>med</th>\n",
       "      <th>symbols</th>\n",
       "      <th>blurb8</th>\n",
       "      <th>tokens</th>\n",
       "      <th>lemmas</th>\n",
       "      <th>disorder</th>\n",
       "    </tr>\n",
       "  </thead>\n",
       "  <tbody>\n",
       "    <tr>\n",
       "      <th>1</th>\n",
       "      <td>NaN</td>\n",
       "      <td>0.0</td>\n",
       "      <td>0</td>\n",
       "      <td>EGFR</td>\n",
       "      <td>EGFR is epidermal growth factor receptor (hum...</td>\n",
       "      <td>( , EGFR, is, epidermal, growth, factor, recep...</td>\n",
       "      <td>[ , egfr, be, epidermal, growth, factor, recep...</td>\n",
       "      <td>1</td>\n",
       "    </tr>\n",
       "    <tr>\n",
       "      <th>6</th>\n",
       "      <td>NaN</td>\n",
       "      <td>0.0</td>\n",
       "      <td>0</td>\n",
       "      <td>ERBB2</td>\n",
       "      <td>ERBB2 is erb-b2 receptor tyrosine kinase 2 (h...</td>\n",
       "      <td>( , ERBB2, is, erb, -, b2, receptor, tyrosine,...</td>\n",
       "      <td>[ , erbb2, be, erb, -, b2, receptor, tyrosine,...</td>\n",
       "      <td>1</td>\n",
       "    </tr>\n",
       "    <tr>\n",
       "      <th>10</th>\n",
       "      <td>NaN</td>\n",
       "      <td>0.0</td>\n",
       "      <td>0</td>\n",
       "      <td>APP</td>\n",
       "      <td>APP is amyloid beta precursor protein (human)...</td>\n",
       "      <td>( , APP, is, amyloid, beta, precursor, protein...</td>\n",
       "      <td>[ , app, be, amyloid, beta, precursor, protein...</td>\n",
       "      <td>1</td>\n",
       "    </tr>\n",
       "    <tr>\n",
       "      <th>12</th>\n",
       "      <td>NaN</td>\n",
       "      <td>0.0</td>\n",
       "      <td>0</td>\n",
       "      <td>BRCA1</td>\n",
       "      <td>BRCA1 is BRCA1, DNA repair associated (human)...</td>\n",
       "      <td>( , BRCA1, is, BRCA1, ,, DNA, repair, associat...</td>\n",
       "      <td>[ , brca1, be, brca1, ,, dna, repair, associat...</td>\n",
       "      <td>1</td>\n",
       "    </tr>\n",
       "    <tr>\n",
       "      <th>27</th>\n",
       "      <td>NaN</td>\n",
       "      <td>0.0</td>\n",
       "      <td>0</td>\n",
       "      <td>PTEN</td>\n",
       "      <td>PTEN is phosphatase and tensin homolog (human...</td>\n",
       "      <td>( , PTEN, is, phosphatase, and, tensin, homolo...</td>\n",
       "      <td>[ , pten, be, phosphatase, and, tensin, homolo...</td>\n",
       "      <td>1</td>\n",
       "    </tr>\n",
       "  </tbody>\n",
       "</table>\n",
       "</div>"
      ],
      "text/plain": [
       "    abstract  match  med symbols  \\\n",
       "1        NaN    0.0    0    EGFR   \n",
       "6        NaN    0.0    0   ERBB2   \n",
       "10       NaN    0.0    0     APP   \n",
       "12       NaN    0.0    0   BRCA1   \n",
       "27       NaN    0.0    0    PTEN   \n",
       "\n",
       "                                               blurb8  \\\n",
       "1    EGFR is epidermal growth factor receptor (hum...   \n",
       "6    ERBB2 is erb-b2 receptor tyrosine kinase 2 (h...   \n",
       "10   APP is amyloid beta precursor protein (human)...   \n",
       "12   BRCA1 is BRCA1, DNA repair associated (human)...   \n",
       "27   PTEN is phosphatase and tensin homolog (human...   \n",
       "\n",
       "                                               tokens  \\\n",
       "1   ( , EGFR, is, epidermal, growth, factor, recep...   \n",
       "6   ( , ERBB2, is, erb, -, b2, receptor, tyrosine,...   \n",
       "10  ( , APP, is, amyloid, beta, precursor, protein...   \n",
       "12  ( , BRCA1, is, BRCA1, ,, DNA, repair, associat...   \n",
       "27  ( , PTEN, is, phosphatase, and, tensin, homolo...   \n",
       "\n",
       "                                               lemmas  disorder  \n",
       "1   [ , egfr, be, epidermal, growth, factor, recep...         1  \n",
       "6   [ , erbb2, be, erb, -, b2, receptor, tyrosine,...         1  \n",
       "10  [ , app, be, amyloid, beta, precursor, protein...         1  \n",
       "12  [ , brca1, be, brca1, ,, dna, repair, associat...         1  \n",
       "27  [ , pten, be, phosphatase, and, tensin, homolo...         1  "
      ]
     },
     "execution_count": 386,
     "metadata": {},
     "output_type": "execute_result"
    }
   ],
   "source": [
    "train['disorder'].value_counts()\n",
    "abbrev = pd.DataFrame(train[train['disorder']==1])\n",
    "abbrev.head()"
   ]
  },
  {
   "cell_type": "code",
   "execution_count": 402,
   "metadata": {},
   "outputs": [],
   "source": [
    "#Word2vec vocab only contains lower case strings.\n",
    "abbrev['symbols']=abbrev['symbols'].apply(lambda x: str(x).lower())\n",
    "#Compare acronyms with different disorders and find their similarity score.\n",
    "score=[]\n",
    "for i in abbrev['symbols']:\n",
    "        if i in vocab:\n",
    "            score.append([i,(model.wv.similarity(i, 'dystrophy'))])\\\n",
    "#Sort score highest to lowest\n",
    "scoredf = pd.DataFrame(score)\n",
    "scoredf=scoredf.sort_values(1,ascending=False).iloc[0:8,:]\n"
   ]
  },
  {
   "cell_type": "markdown",
   "metadata": {},
   "source": [
    "Top Gene Matches for Dystrophy"
   ]
  },
  {
   "cell_type": "code",
   "execution_count": 403,
   "metadata": {
    "scrolled": true
   },
   "outputs": [
    {
     "data": {
      "text/html": [
       "<div>\n",
       "<style scoped>\n",
       "    .dataframe tbody tr th:only-of-type {\n",
       "        vertical-align: middle;\n",
       "    }\n",
       "\n",
       "    .dataframe tbody tr th {\n",
       "        vertical-align: top;\n",
       "    }\n",
       "\n",
       "    .dataframe thead th {\n",
       "        text-align: right;\n",
       "    }\n",
       "</style>\n",
       "<table border=\"1\" class=\"dataframe\">\n",
       "  <thead>\n",
       "    <tr style=\"text-align: right;\">\n",
       "      <th></th>\n",
       "      <th>0</th>\n",
       "      <th>1</th>\n",
       "    </tr>\n",
       "  </thead>\n",
       "  <tbody>\n",
       "    <tr>\n",
       "      <th>291</th>\n",
       "      <td>dmd</td>\n",
       "      <td>0.674957</td>\n",
       "    </tr>\n",
       "    <tr>\n",
       "      <th>258</th>\n",
       "      <td>dmd</td>\n",
       "      <td>0.674957</td>\n",
       "    </tr>\n",
       "    <tr>\n",
       "      <th>244</th>\n",
       "      <td>dmd</td>\n",
       "      <td>0.674957</td>\n",
       "    </tr>\n",
       "    <tr>\n",
       "      <th>305</th>\n",
       "      <td>dmd</td>\n",
       "      <td>0.674957</td>\n",
       "    </tr>\n",
       "    <tr>\n",
       "      <th>141</th>\n",
       "      <td>dmd</td>\n",
       "      <td>0.674957</td>\n",
       "    </tr>\n",
       "    <tr>\n",
       "      <th>26</th>\n",
       "      <td>stmn1</td>\n",
       "      <td>0.613236</td>\n",
       "    </tr>\n",
       "    <tr>\n",
       "      <th>248</th>\n",
       "      <td>stmn1</td>\n",
       "      <td>0.613236</td>\n",
       "    </tr>\n",
       "    <tr>\n",
       "      <th>295</th>\n",
       "      <td>stmn1</td>\n",
       "      <td>0.613236</td>\n",
       "    </tr>\n",
       "  </tbody>\n",
       "</table>\n",
       "</div>"
      ],
      "text/plain": [
       "         0         1\n",
       "291    dmd  0.674957\n",
       "258    dmd  0.674957\n",
       "244    dmd  0.674957\n",
       "305    dmd  0.674957\n",
       "141    dmd  0.674957\n",
       "26   stmn1  0.613236\n",
       "248  stmn1  0.613236\n",
       "295  stmn1  0.613236"
      ]
     },
     "execution_count": 403,
     "metadata": {},
     "output_type": "execute_result"
    }
   ],
   "source": [
    "#20 window, 100 vector, dystrophy\n",
    "####28 window, 95 vector, parkinson and all of them!\n",
    "#27 works for both + alzheimers + cancer\n",
    "#bring vector up to 110 improves it I think\n",
    "scoredf.iloc[0:10,:]"
   ]
  },
  {
   "cell_type": "code",
   "execution_count": 404,
   "metadata": {},
   "outputs": [],
   "source": [
    "scores=scoredf.iloc[0,0].upper()\n",
    "i=np.where(train['symbols']==scores)[0][1]"
   ]
  },
  {
   "cell_type": "code",
   "execution_count": 405,
   "metadata": {},
   "outputs": [
    {
     "data": {
      "text/plain": [
       "' Dmd is dystrophin, muscular dystrophy [Mus musculus (house mouse)],also DXSmh7, DXSmh9, Dp427, Dp71, dys, mdx, pke,It is dystrophin; X-linked muscular dystrophy; dystrophin Dp71 delta110 isoform; dystrophin Dp71c isoform; dystrophin Dp71d delta71,74 isoform; dystrophin Dp71d delta74 isoform; dystrophin Dp71d(delta71,73-74); dystrophin Dp71f delta74 isoform,Chromosome: X; Location: X 38.38 cM,Annotation: Chromosome X NC_000086.7 (82814664..85205050)'"
      ]
     },
     "execution_count": 405,
     "metadata": {},
     "output_type": "execute_result"
    }
   ],
   "source": [
    "train.iloc[i,4]"
   ]
  },
  {
   "cell_type": "markdown",
   "metadata": {},
   "source": [
    "Top Gene Matches for Cancer"
   ]
  },
  {
   "cell_type": "code",
   "execution_count": 406,
   "metadata": {},
   "outputs": [],
   "source": [
    "score=[]\n",
    "for i in abbrev['symbols']:\n",
    "        if i in vocab:\n",
    "            score.append([i,(model.wv.similarity(i, 'cancer'))])\n",
    "#Sort score highest to lowest\n",
    "scoredf = pd.DataFrame(score)\n",
    "scoredf=scoredf.sort_values(1,ascending=False).iloc[0:8,:]\n"
   ]
  },
  {
   "cell_type": "code",
   "execution_count": 407,
   "metadata": {},
   "outputs": [
    {
     "data": {
      "text/html": [
       "<div>\n",
       "<style scoped>\n",
       "    .dataframe tbody tr th:only-of-type {\n",
       "        vertical-align: middle;\n",
       "    }\n",
       "\n",
       "    .dataframe tbody tr th {\n",
       "        vertical-align: top;\n",
       "    }\n",
       "\n",
       "    .dataframe thead th {\n",
       "        text-align: right;\n",
       "    }\n",
       "</style>\n",
       "<table border=\"1\" class=\"dataframe\">\n",
       "  <thead>\n",
       "    <tr style=\"text-align: right;\">\n",
       "      <th></th>\n",
       "      <th>0</th>\n",
       "      <th>1</th>\n",
       "    </tr>\n",
       "  </thead>\n",
       "  <tbody>\n",
       "    <tr>\n",
       "      <th>299</th>\n",
       "      <td>brca2</td>\n",
       "      <td>0.609682</td>\n",
       "    </tr>\n",
       "    <tr>\n",
       "      <th>328</th>\n",
       "      <td>brca2</td>\n",
       "      <td>0.609682</td>\n",
       "    </tr>\n",
       "    <tr>\n",
       "      <th>281</th>\n",
       "      <td>brca2</td>\n",
       "      <td>0.609682</td>\n",
       "    </tr>\n",
       "    <tr>\n",
       "      <th>101</th>\n",
       "      <td>brca2</td>\n",
       "      <td>0.609682</td>\n",
       "    </tr>\n",
       "    <tr>\n",
       "      <th>5</th>\n",
       "      <td>brca2</td>\n",
       "      <td>0.609682</td>\n",
       "    </tr>\n",
       "    <tr>\n",
       "      <th>252</th>\n",
       "      <td>brca2</td>\n",
       "      <td>0.609682</td>\n",
       "    </tr>\n",
       "    <tr>\n",
       "      <th>279</th>\n",
       "      <td>brca1</td>\n",
       "      <td>0.577704</td>\n",
       "    </tr>\n",
       "    <tr>\n",
       "      <th>326</th>\n",
       "      <td>brca1</td>\n",
       "      <td>0.577704</td>\n",
       "    </tr>\n",
       "  </tbody>\n",
       "</table>\n",
       "</div>"
      ],
      "text/plain": [
       "         0         1\n",
       "299  brca2  0.609682\n",
       "328  brca2  0.609682\n",
       "281  brca2  0.609682\n",
       "101  brca2  0.609682\n",
       "5    brca2  0.609682\n",
       "252  brca2  0.609682\n",
       "279  brca1  0.577704\n",
       "326  brca1  0.577704"
      ]
     },
     "execution_count": 407,
     "metadata": {},
     "output_type": "execute_result"
    }
   ],
   "source": [
    "#20 window, 100 vector, dystrophy\n",
    "####28 window, 95 vector, parkinson and all of them!\n",
    "#27 works for both + alzheimers + cancer\n",
    "#bring vector up to 110 improves it I think\n",
    "scoredf.iloc[0:10,:]"
   ]
  },
  {
   "cell_type": "code",
   "execution_count": 408,
   "metadata": {},
   "outputs": [
    {
     "data": {
      "text/plain": [
       "' BRCA2 is BRCA2, DNA repair associated (human),also BRCC2, BROVCA2, FACD, FAD, FAD1, FANCD, FANCD1, GLM3, PNCA2, XRCC11,It is breast cancer type 2 susceptibility protein; BRCA1/BRCA2-containing complex, subunit 2; Fanconi anemia group D1 protein; breast and ovarian cancer susceptibility gene, early onset; breast and ovarian cancer susceptibility protein 2; breast cancer 2 tumor suppressor; breast cancer 2, early onset; mutant BRCA2; truncated breast cancer 2,Chromosome: 13; Location: 13q13.1,Annotation: Chromosome 13 NC_000013.11 (32315480..32399672),MIM: 600185'"
      ]
     },
     "execution_count": 408,
     "metadata": {},
     "output_type": "execute_result"
    }
   ],
   "source": [
    "scores=scoredf.iloc[0,0].upper()\n",
    "i=np.where(train['symbols']==scores)[0][0]\n",
    "train.iloc[i,4]"
   ]
  },
  {
   "cell_type": "markdown",
   "metadata": {},
   "source": [
    "Top Gene Matches for Alzheimer"
   ]
  },
  {
   "cell_type": "code",
   "execution_count": 411,
   "metadata": {},
   "outputs": [],
   "source": [
    "score=[]\n",
    "for i in abbrev['symbols']:\n",
    "        if i in vocab:\n",
    "            score.append([i,(model.wv.similarity(i, 'alzheimer'))])\n",
    "#Sort score highest to lowest\n",
    "scoredf = pd.DataFrame(score)\n",
    "scoredf=scoredf.sort_values(1,ascending=False).iloc[0:8,:]\n"
   ]
  },
  {
   "cell_type": "code",
   "execution_count": 412,
   "metadata": {
    "scrolled": true
   },
   "outputs": [
    {
     "data": {
      "text/html": [
       "<div>\n",
       "<style scoped>\n",
       "    .dataframe tbody tr th:only-of-type {\n",
       "        vertical-align: middle;\n",
       "    }\n",
       "\n",
       "    .dataframe tbody tr th {\n",
       "        vertical-align: top;\n",
       "    }\n",
       "\n",
       "    .dataframe thead th {\n",
       "        text-align: right;\n",
       "    }\n",
       "</style>\n",
       "<table border=\"1\" class=\"dataframe\">\n",
       "  <thead>\n",
       "    <tr style=\"text-align: right;\">\n",
       "      <th></th>\n",
       "      <th>0</th>\n",
       "      <th>1</th>\n",
       "    </tr>\n",
       "  </thead>\n",
       "  <tbody>\n",
       "    <tr>\n",
       "      <th>2</th>\n",
       "      <td>app</td>\n",
       "      <td>0.564204</td>\n",
       "    </tr>\n",
       "    <tr>\n",
       "      <th>247</th>\n",
       "      <td>app</td>\n",
       "      <td>0.564204</td>\n",
       "    </tr>\n",
       "    <tr>\n",
       "      <th>294</th>\n",
       "      <td>app</td>\n",
       "      <td>0.564204</td>\n",
       "    </tr>\n",
       "    <tr>\n",
       "      <th>278</th>\n",
       "      <td>shbg</td>\n",
       "      <td>0.525006</td>\n",
       "    </tr>\n",
       "    <tr>\n",
       "      <th>185</th>\n",
       "      <td>shbg</td>\n",
       "      <td>0.525006</td>\n",
       "    </tr>\n",
       "    <tr>\n",
       "      <th>325</th>\n",
       "      <td>shbg</td>\n",
       "      <td>0.525006</td>\n",
       "    </tr>\n",
       "    <tr>\n",
       "      <th>163</th>\n",
       "      <td>cebpa</td>\n",
       "      <td>0.431128</td>\n",
       "    </tr>\n",
       "    <tr>\n",
       "      <th>122</th>\n",
       "      <td>ep300</td>\n",
       "      <td>0.429253</td>\n",
       "    </tr>\n",
       "  </tbody>\n",
       "</table>\n",
       "</div>"
      ],
      "text/plain": [
       "         0         1\n",
       "2      app  0.564204\n",
       "247    app  0.564204\n",
       "294    app  0.564204\n",
       "278   shbg  0.525006\n",
       "185   shbg  0.525006\n",
       "325   shbg  0.525006\n",
       "163  cebpa  0.431128\n",
       "122  ep300  0.429253"
      ]
     },
     "execution_count": 412,
     "metadata": {},
     "output_type": "execute_result"
    }
   ],
   "source": [
    "#20 window, 100 vector, dystrophy\n",
    "####28 window, 95 vector, parkinson and all of them!\n",
    "#27 works for both + alzheimers + cancer\n",
    "#bring vector up to 110 improves it I think\n",
    "scoredf.iloc[0:10,:]"
   ]
  },
  {
   "cell_type": "code",
   "execution_count": 413,
   "metadata": {
    "scrolled": true
   },
   "outputs": [
    {
     "data": {
      "text/plain": [
       "' APP is amyloid beta precursor protein (human),also AAA, ABETA, ABPP, AD1I, CTFgamma, CVAP, PN-II, PN2, preA4, APP,It is amyloid-beta A4 protein; alzheimer disease amyloid protein; amyloid beta (A4) precursor protein; amyloid beta A4 protein; amyloid precursor protein; beta-amyloid peptide; beta-amyloid peptide(1-40); beta-amyloid peptide(1-42); beta-amyloid precursor protein; cerebral vascular amyloid peptide; peptidase nexin-II; protease nexin-II; testicular tissue protein Li 2,Chromosome: 21; Location: 21q21.3,Annotation: Chromosome 21 NC_000021.9 (25880550..26171128, complement),MIM: 104760'"
      ]
     },
     "execution_count": 413,
     "metadata": {},
     "output_type": "execute_result"
    }
   ],
   "source": [
    "scores=scoredf.iloc[0,0].upper()\n",
    "i=np.where(train['symbols']==scores)[0][0]\n",
    "train.iloc[i,4]"
   ]
  },
  {
   "cell_type": "markdown",
   "metadata": {},
   "source": [
    "Top Gene Matches for Parkinson"
   ]
  },
  {
   "cell_type": "code",
   "execution_count": 416,
   "metadata": {
    "scrolled": true
   },
   "outputs": [
    {
     "data": {
      "text/html": [
       "<div>\n",
       "<style scoped>\n",
       "    .dataframe tbody tr th:only-of-type {\n",
       "        vertical-align: middle;\n",
       "    }\n",
       "\n",
       "    .dataframe tbody tr th {\n",
       "        vertical-align: top;\n",
       "    }\n",
       "\n",
       "    .dataframe thead th {\n",
       "        text-align: right;\n",
       "    }\n",
       "</style>\n",
       "<table border=\"1\" class=\"dataframe\">\n",
       "  <thead>\n",
       "    <tr style=\"text-align: right;\">\n",
       "      <th></th>\n",
       "      <th>0</th>\n",
       "      <th>1</th>\n",
       "    </tr>\n",
       "  </thead>\n",
       "  <tbody>\n",
       "    <tr>\n",
       "      <th>10</th>\n",
       "      <td>prkn</td>\n",
       "      <td>0.759337</td>\n",
       "    </tr>\n",
       "    <tr>\n",
       "      <th>17</th>\n",
       "      <td>park7</td>\n",
       "      <td>0.526299</td>\n",
       "    </tr>\n",
       "    <tr>\n",
       "      <th>227</th>\n",
       "      <td>bap1</td>\n",
       "      <td>0.506078</td>\n",
       "    </tr>\n",
       "    <tr>\n",
       "      <th>215</th>\n",
       "      <td>tgfb2</td>\n",
       "      <td>0.478677</td>\n",
       "    </tr>\n",
       "    <tr>\n",
       "      <th>31</th>\n",
       "      <td>best1</td>\n",
       "      <td>0.452795</td>\n",
       "    </tr>\n",
       "    <tr>\n",
       "      <th>116</th>\n",
       "      <td>cav1</td>\n",
       "      <td>0.407586</td>\n",
       "    </tr>\n",
       "    <tr>\n",
       "      <th>80</th>\n",
       "      <td>kdm5b</td>\n",
       "      <td>0.402326</td>\n",
       "    </tr>\n",
       "    <tr>\n",
       "      <th>88</th>\n",
       "      <td>mthfr</td>\n",
       "      <td>0.380639</td>\n",
       "    </tr>\n",
       "  </tbody>\n",
       "</table>\n",
       "</div>"
      ],
      "text/plain": [
       "         0         1\n",
       "10    prkn  0.759337\n",
       "17   park7  0.526299\n",
       "227   bap1  0.506078\n",
       "215  tgfb2  0.478677\n",
       "31   best1  0.452795\n",
       "116   cav1  0.407586\n",
       "80   kdm5b  0.402326\n",
       "88   mthfr  0.380639"
      ]
     },
     "execution_count": 416,
     "metadata": {},
     "output_type": "execute_result"
    }
   ],
   "source": [
    "score=[]\n",
    "for i in abbrev['symbols']:\n",
    "        if i in vocab:\n",
    "            score.append([i,(model.wv.similarity(i, 'parkinson'))])\n",
    "#Sort score highest to lowest\n",
    "scoredf = pd.DataFrame(score)\n",
    "scoredf=scoredf.sort_values(1,ascending=False).iloc[0:8,:]\n",
    "scoredf.iloc[0:10,:]"
   ]
  },
  {
   "cell_type": "code",
   "execution_count": 417,
   "metadata": {},
   "outputs": [
    {
     "data": {
      "text/plain": [
       "' PRKN is parkin RBR E3 ubiquitin protein ligase (human),also AR-JP, LPRS2, PARK2, PDJ,It is E3 ubiquitin-protein ligase parkin; Parkinson disease (autosomal recessive, juvenile) 2, parkin; parkinson juvenile disease protein 2; parkinson protein 2 E3 ubiquitin protein ligase; parkinson protein 2, E3 ubiquitin protein ligase (parkin),Chromosome: 6; Location: 6q26,Annotation: Chromosome 6 NC_000006.12 (161347417..162727802, complement),MIM: 602544'"
      ]
     },
     "execution_count": 417,
     "metadata": {},
     "output_type": "execute_result"
    }
   ],
   "source": [
    "scores=scoredf.iloc[0,0].upper()\n",
    "i=np.where(train['symbols']==scores)[0][0]\n",
    "train.iloc[i,4]"
   ]
  },
  {
   "cell_type": "markdown",
   "metadata": {},
   "source": [
    "Top Gene Matches for Diabetes"
   ]
  },
  {
   "cell_type": "code",
   "execution_count": 422,
   "metadata": {
    "scrolled": true
   },
   "outputs": [
    {
     "data": {
      "text/html": [
       "<div>\n",
       "<style scoped>\n",
       "    .dataframe tbody tr th:only-of-type {\n",
       "        vertical-align: middle;\n",
       "    }\n",
       "\n",
       "    .dataframe tbody tr th {\n",
       "        vertical-align: top;\n",
       "    }\n",
       "\n",
       "    .dataframe thead th {\n",
       "        text-align: right;\n",
       "    }\n",
       "</style>\n",
       "<table border=\"1\" class=\"dataframe\">\n",
       "  <thead>\n",
       "    <tr style=\"text-align: right;\">\n",
       "      <th></th>\n",
       "      <th>0</th>\n",
       "      <th>1</th>\n",
       "    </tr>\n",
       "  </thead>\n",
       "  <tbody>\n",
       "    <tr>\n",
       "      <th>329</th>\n",
       "      <td>stim1</td>\n",
       "      <td>0.511418</td>\n",
       "    </tr>\n",
       "    <tr>\n",
       "      <th>282</th>\n",
       "      <td>stim1</td>\n",
       "      <td>0.511418</td>\n",
       "    </tr>\n",
       "    <tr>\n",
       "      <th>98</th>\n",
       "      <td>lep</td>\n",
       "      <td>0.459461</td>\n",
       "    </tr>\n",
       "    <tr>\n",
       "      <th>114</th>\n",
       "      <td>mlh1</td>\n",
       "      <td>0.436029</td>\n",
       "    </tr>\n",
       "    <tr>\n",
       "      <th>7</th>\n",
       "      <td>mlh1</td>\n",
       "      <td>0.436029</td>\n",
       "    </tr>\n",
       "    <tr>\n",
       "      <th>244</th>\n",
       "      <td>dmd</td>\n",
       "      <td>0.432583</td>\n",
       "    </tr>\n",
       "    <tr>\n",
       "      <th>141</th>\n",
       "      <td>dmd</td>\n",
       "      <td>0.432583</td>\n",
       "    </tr>\n",
       "    <tr>\n",
       "      <th>258</th>\n",
       "      <td>dmd</td>\n",
       "      <td>0.432583</td>\n",
       "    </tr>\n",
       "  </tbody>\n",
       "</table>\n",
       "</div>"
      ],
      "text/plain": [
       "         0         1\n",
       "329  stim1  0.511418\n",
       "282  stim1  0.511418\n",
       "98     lep  0.459461\n",
       "114   mlh1  0.436029\n",
       "7     mlh1  0.436029\n",
       "244    dmd  0.432583\n",
       "141    dmd  0.432583\n",
       "258    dmd  0.432583"
      ]
     },
     "execution_count": 422,
     "metadata": {},
     "output_type": "execute_result"
    }
   ],
   "source": [
    "score=[]\n",
    "for i in abbrev['symbols']:\n",
    "        if i in vocab:\n",
    "            score.append([i,(model.wv.similarity(i, 'diabetes'))])\n",
    "#Sort score highest to lowest\n",
    "scoredf = pd.DataFrame(score)\n",
    "scoredf=scoredf.sort_values(1,ascending=False).iloc[0:8,:]\n",
    "scoredf.iloc[0:10,:]"
   ]
  },
  {
   "cell_type": "code",
   "execution_count": 426,
   "metadata": {},
   "outputs": [
    {
     "data": {
      "text/plain": [
       "'LEP gene encodes a protein that is secreted by white adipocytes into the circulation and plays a major role in the regulation of energy homeostasis. Circulating leptin binds to the leptin receptor in the brain, which activates downstream signaling pathways that inhibit feeding and promote energy expenditure. This protein also has several endocrine functions, and is involved in the regulation of immune and inflammatory responses, hematopoiesis, angiogenesis, reproduction, bone formation and wound healing. Mutations in LEP gene and its regulatory regions cause severe obesity and morbid obesity with hypogonadism in human patients. A mutation in LEP gene has also been linked to type 2 diabetes mellitus development. [provided by RefSeq, Aug 2017]'"
      ]
     },
     "execution_count": 426,
     "metadata": {},
     "output_type": "execute_result"
    }
   ],
   "source": [
    "scores=scoredf.iloc[2,0].upper()\n",
    "i=np.where(train['symbols']==scores)[0][0]\n",
    "train.iloc[i,4]"
   ]
  },
  {
   "cell_type": "markdown",
   "metadata": {},
   "source": [
    "Top Gene Matches for Leukemia"
   ]
  },
  {
   "cell_type": "code",
   "execution_count": 428,
   "metadata": {},
   "outputs": [
    {
     "data": {
      "text/html": [
       "<div>\n",
       "<style scoped>\n",
       "    .dataframe tbody tr th:only-of-type {\n",
       "        vertical-align: middle;\n",
       "    }\n",
       "\n",
       "    .dataframe tbody tr th {\n",
       "        vertical-align: top;\n",
       "    }\n",
       "\n",
       "    .dataframe thead th {\n",
       "        text-align: right;\n",
       "    }\n",
       "</style>\n",
       "<table border=\"1\" class=\"dataframe\">\n",
       "  <thead>\n",
       "    <tr style=\"text-align: right;\">\n",
       "      <th></th>\n",
       "      <th>0</th>\n",
       "      <th>1</th>\n",
       "    </tr>\n",
       "  </thead>\n",
       "  <tbody>\n",
       "    <tr>\n",
       "      <th>39</th>\n",
       "      <td>set</td>\n",
       "      <td>0.656145</td>\n",
       "    </tr>\n",
       "    <tr>\n",
       "      <th>324</th>\n",
       "      <td>pml</td>\n",
       "      <td>0.628591</td>\n",
       "    </tr>\n",
       "    <tr>\n",
       "      <th>297</th>\n",
       "      <td>pml</td>\n",
       "      <td>0.628591</td>\n",
       "    </tr>\n",
       "    <tr>\n",
       "      <th>250</th>\n",
       "      <td>pml</td>\n",
       "      <td>0.628591</td>\n",
       "    </tr>\n",
       "    <tr>\n",
       "      <th>277</th>\n",
       "      <td>pml</td>\n",
       "      <td>0.628591</td>\n",
       "    </tr>\n",
       "    <tr>\n",
       "      <th>14</th>\n",
       "      <td>pml</td>\n",
       "      <td>0.628591</td>\n",
       "    </tr>\n",
       "    <tr>\n",
       "      <th>97</th>\n",
       "      <td>myc</td>\n",
       "      <td>0.567546</td>\n",
       "    </tr>\n",
       "    <tr>\n",
       "      <th>68</th>\n",
       "      <td>tet1</td>\n",
       "      <td>0.522146</td>\n",
       "    </tr>\n",
       "  </tbody>\n",
       "</table>\n",
       "</div>"
      ],
      "text/plain": [
       "        0         1\n",
       "39    set  0.656145\n",
       "324   pml  0.628591\n",
       "297   pml  0.628591\n",
       "250   pml  0.628591\n",
       "277   pml  0.628591\n",
       "14    pml  0.628591\n",
       "97    myc  0.567546\n",
       "68   tet1  0.522146"
      ]
     },
     "execution_count": 428,
     "metadata": {},
     "output_type": "execute_result"
    }
   ],
   "source": [
    "score=[]\n",
    "for i in abbrev['symbols']:\n",
    "        if i in vocab:\n",
    "            score.append([i,(model.wv.similarity(i, 'leukemia'))])\n",
    "#Sort score highest to lowest\n",
    "scoredf = pd.DataFrame(score)\n",
    "scoredf=scoredf.sort_values(1,ascending=False).iloc[0:8,:]\n",
    "scoredf.iloc[0:10,:]"
   ]
  },
  {
   "cell_type": "code",
   "execution_count": 429,
   "metadata": {},
   "outputs": [
    {
     "data": {
      "text/plain": [
       "' SET is SET nuclear proto-oncogene (human),also 2PP2A, I2PP2A, IGAAD, IPP2A2, PHAPII, TAF-I, TAF-IBETA,It is protein SET; HLA-DR-associated protein II; SET nuclear oncogene; SET translocation (myeloid leukemia-associated); Template-Activating Factor-I, chromatin remodelling factor; inhibitor of granzyme A-activated DNase; inhibitor-2 of protein phosphatase-2A; phosphatase 2A inhibitor I2PP2A; protein phosphatase type 2A inhibitor,Chromosome: 9; Location: 9q34.11,Annotation: Chromosome 9 NC_000009.12 (128683432..128696396),MIM: 600960'"
      ]
     },
     "execution_count": 429,
     "metadata": {},
     "output_type": "execute_result"
    }
   ],
   "source": [
    "scores=scoredf.iloc[0,0].upper()\n",
    "i=np.where(train['symbols']==scores)[0][0]\n",
    "train.iloc[i,4]"
   ]
  },
  {
   "cell_type": "markdown",
   "metadata": {},
   "source": [
    "Top Gene Matches for Ehlers (Ehlers Danlos)"
   ]
  },
  {
   "cell_type": "code",
   "execution_count": 430,
   "metadata": {},
   "outputs": [
    {
     "data": {
      "text/html": [
       "<div>\n",
       "<style scoped>\n",
       "    .dataframe tbody tr th:only-of-type {\n",
       "        vertical-align: middle;\n",
       "    }\n",
       "\n",
       "    .dataframe tbody tr th {\n",
       "        vertical-align: top;\n",
       "    }\n",
       "\n",
       "    .dataframe thead th {\n",
       "        text-align: right;\n",
       "    }\n",
       "</style>\n",
       "<table border=\"1\" class=\"dataframe\">\n",
       "  <thead>\n",
       "    <tr style=\"text-align: right;\">\n",
       "      <th></th>\n",
       "      <th>0</th>\n",
       "      <th>1</th>\n",
       "    </tr>\n",
       "  </thead>\n",
       "  <tbody>\n",
       "    <tr>\n",
       "      <th>191</th>\n",
       "      <td>postn</td>\n",
       "      <td>0.659630</td>\n",
       "    </tr>\n",
       "    <tr>\n",
       "      <th>228</th>\n",
       "      <td>aire</td>\n",
       "      <td>0.604809</td>\n",
       "    </tr>\n",
       "    <tr>\n",
       "      <th>28</th>\n",
       "      <td>aire</td>\n",
       "      <td>0.604809</td>\n",
       "    </tr>\n",
       "    <tr>\n",
       "      <th>78</th>\n",
       "      <td>ndc80</td>\n",
       "      <td>0.587843</td>\n",
       "    </tr>\n",
       "    <tr>\n",
       "      <th>205</th>\n",
       "      <td>abca4</td>\n",
       "      <td>0.563907</td>\n",
       "    </tr>\n",
       "    <tr>\n",
       "      <th>46</th>\n",
       "      <td>runx1t1</td>\n",
       "      <td>0.560244</td>\n",
       "    </tr>\n",
       "    <tr>\n",
       "      <th>144</th>\n",
       "      <td>gnas</td>\n",
       "      <td>0.555814</td>\n",
       "    </tr>\n",
       "    <tr>\n",
       "      <th>154</th>\n",
       "      <td>itgav</td>\n",
       "      <td>0.533829</td>\n",
       "    </tr>\n",
       "  </tbody>\n",
       "</table>\n",
       "</div>"
      ],
      "text/plain": [
       "           0         1\n",
       "191    postn  0.659630\n",
       "228     aire  0.604809\n",
       "28      aire  0.604809\n",
       "78     ndc80  0.587843\n",
       "205    abca4  0.563907\n",
       "46   runx1t1  0.560244\n",
       "144     gnas  0.555814\n",
       "154    itgav  0.533829"
      ]
     },
     "execution_count": 430,
     "metadata": {},
     "output_type": "execute_result"
    }
   ],
   "source": [
    "score=[]\n",
    "for i in abbrev['symbols']:\n",
    "        if i in vocab:\n",
    "            score.append([i,(model.wv.similarity(i, 'ehlers'))])\n",
    "#Sort score highest to lowest\n",
    "scoredf = pd.DataFrame(score)\n",
    "scoredf=scoredf.sort_values(1,ascending=False).iloc[0:8,:]\n",
    "scoredf.iloc[0:10,:]"
   ]
  },
  {
   "cell_type": "code",
   "execution_count": 433,
   "metadata": {},
   "outputs": [
    {
     "data": {
      "text/plain": [
       "'POSTN gene encodes a secreted extracellular matrix protein that functions in tissue development and regeneration, including wound healing, and ventricular remodeling following myocardial infarction. The encoded protein binds to integrins to support adhesion and migration of epithelial cells. This protein plays a role in cancer stem cell maintenance and metastasis. Mice lacking POSTN gene exhibit cardiac valve disease, and skeletal and dental defects. Alternative splicing results in multiple transcript variants encoding different isoforms. [provided by RefSeq, Sep 2015]'"
      ]
     },
     "execution_count": 433,
     "metadata": {},
     "output_type": "execute_result"
    }
   ],
   "source": [
    "scores=scoredf.iloc[0,0].upper()\n",
    "i=np.where(train['symbols']==scores)[0][0]\n",
    "train.iloc[i,4]"
   ]
  },
  {
   "cell_type": "markdown",
   "metadata": {},
   "source": [
    "The top gene matches for 5 out of 7 of the health disorders I searched for contained the health disorder keyword in the abstract and one of them, diabetes, is related to the top gene match and linked by keyword to the second gene match. The model didn't succeed with Ehlers Danlos because it is more rare and therefore there is less research relating to it and much fewer mentions in the dataset (see analysis below). However, the model did put an article on wound healing at the top of the list for Ehlers Danlos, and Ehlers Danlos is a collagen defect disorder that results in poor wound healing. So perhaps research into the top gene match will help those with Ehlers Danlos."
   ]
  },
  {
   "cell_type": "code",
   "execution_count": 133,
   "metadata": {},
   "outputs": [
    {
     "data": {
      "text/plain": [
       "3"
      ]
     },
     "execution_count": 133,
     "metadata": {},
     "output_type": "execute_result"
    }
   ],
   "source": [
    "len(np.where(train['blurb8'].str.contains('Ehlers'))[0])\n"
   ]
  },
  {
   "cell_type": "code",
   "execution_count": 134,
   "metadata": {},
   "outputs": [
    {
     "data": {
      "text/plain": [
       "23"
      ]
     },
     "execution_count": 134,
     "metadata": {},
     "output_type": "execute_result"
    }
   ],
   "source": [
    "len(np.where(train['blurb8'].str.contains('Alzheimer\\'s'))[0])"
   ]
  },
  {
   "cell_type": "code",
   "execution_count": 122,
   "metadata": {},
   "outputs": [
    {
     "data": {
      "text/plain": [
       "13"
      ]
     },
     "execution_count": 122,
     "metadata": {},
     "output_type": "execute_result"
    }
   ],
   "source": [
    "len(np.where(train['blurb8'].str.contains('Parkinson'))[0])"
   ]
  },
  {
   "cell_type": "code",
   "execution_count": 123,
   "metadata": {},
   "outputs": [
    {
     "data": {
      "text/plain": [
       "24"
      ]
     },
     "execution_count": 123,
     "metadata": {},
     "output_type": "execute_result"
    }
   ],
   "source": [
    "len(np.where(train['blurb8'].str.contains('dystrophy'))[0])"
   ]
  },
  {
   "cell_type": "code",
   "execution_count": 124,
   "metadata": {},
   "outputs": [
    {
     "data": {
      "text/plain": [
       "48"
      ]
     },
     "execution_count": 124,
     "metadata": {},
     "output_type": "execute_result"
    }
   ],
   "source": [
    "len(np.where(train['blurb8'].str.contains('diabetes'))[0])"
   ]
  },
  {
   "cell_type": "code",
   "execution_count": 125,
   "metadata": {},
   "outputs": [
    {
     "data": {
      "text/plain": [
       "195"
      ]
     },
     "execution_count": 125,
     "metadata": {},
     "output_type": "execute_result"
    }
   ],
   "source": [
    "len(np.where(train['blurb8'].str.contains('cancer'))[0])"
   ]
  },
  {
   "cell_type": "code",
   "execution_count": 126,
   "metadata": {},
   "outputs": [
    {
     "data": {
      "text/plain": [
       "81"
      ]
     },
     "execution_count": 126,
     "metadata": {},
     "output_type": "execute_result"
    }
   ],
   "source": [
    "len(np.where(train['blurb8'].str.contains('leukemia'))[0])"
   ]
  },
  {
   "cell_type": "markdown",
   "metadata": {},
   "source": [
    "There are 3 mentions of Ehlers Danlos in the whole dataframe, and all of the other disorders I searched for  had 13-195 mentions. This gene calculator is able to identify important genes relating to certain health disorders that have as little as 13 mentions in the document."
   ]
  },
  {
   "cell_type": "markdown",
   "metadata": {},
   "source": [
    "An important aspect of this model is searching within a dataframe that only contains genes connected with certain health disorders. In a database that contains entries without medical disorders, there is no way to verify if the gene is somehow related to the queried disease or if its definition was just general enough to match easily."
   ]
  },
  {
   "cell_type": "markdown",
   "metadata": {},
   "source": [
    "Now I'll try the test data."
   ]
  },
  {
   "cell_type": "code",
   "execution_count": 434,
   "metadata": {},
   "outputs": [
    {
     "name": "stdout",
     "output_type": "stream",
     "text": [
      "done!\n"
     ]
    }
   ],
   "source": [
    "import gensim\n",
    "from gensim.models import word2vec\n",
    "\n",
    "model = word2vec.Word2Vec(\n",
    "    np.asarray(test['lemmas']),\n",
    "    workers=4,     # Number of threads to run in parallel \n",
    "    min_count=1,  # Minimum word count threshold.\n",
    "    window=28,      # Number of words around target word to consider.\n",
    "    sg=0,          # Use CBOW because our corpus is small.\n",
    "    sample=1e-3 ,  # Penalize frequent words.\n",
    "    size=95,      # Word vector length.\n",
    "    hs=1           # Use hierarchical softmax.\n",
    ")\n",
    "\n",
    "print('done!')"
   ]
  },
  {
   "cell_type": "code",
   "execution_count": 435,
   "metadata": {},
   "outputs": [
    {
     "name": "stdout",
     "output_type": "stream",
     "text": [
      "0.8069515292726308\n"
     ]
    }
   ],
   "source": [
    "# 1 is a perfect match and 0 is no similarity\n",
    "print(model.wv.similarity('disease', 'syndrome'))"
   ]
  },
  {
   "cell_type": "code",
   "execution_count": 436,
   "metadata": {},
   "outputs": [],
   "source": [
    "test['disorder'] = np.where((test['blurb8'].str.contains('alzheimer|parkinson|dystrophy|cancer|leukemia|diabetes')),1,0)\n"
   ]
  },
  {
   "cell_type": "code",
   "execution_count": 437,
   "metadata": {},
   "outputs": [
    {
     "data": {
      "text/plain": [
       "0    858\n",
       "1     70\n",
       "Name: disorder, dtype: int64"
      ]
     },
     "execution_count": 437,
     "metadata": {},
     "output_type": "execute_result"
    }
   ],
   "source": [
    "test['disorder'].value_counts()"
   ]
  },
  {
   "cell_type": "code",
   "execution_count": 438,
   "metadata": {},
   "outputs": [
    {
     "data": {
      "text/html": [
       "<div>\n",
       "<style scoped>\n",
       "    .dataframe tbody tr th:only-of-type {\n",
       "        vertical-align: middle;\n",
       "    }\n",
       "\n",
       "    .dataframe tbody tr th {\n",
       "        vertical-align: top;\n",
       "    }\n",
       "\n",
       "    .dataframe thead th {\n",
       "        text-align: right;\n",
       "    }\n",
       "</style>\n",
       "<table border=\"1\" class=\"dataframe\">\n",
       "  <thead>\n",
       "    <tr style=\"text-align: right;\">\n",
       "      <th></th>\n",
       "      <th>abstract</th>\n",
       "      <th>match</th>\n",
       "      <th>med</th>\n",
       "      <th>symbols</th>\n",
       "      <th>blurb8</th>\n",
       "      <th>tokens</th>\n",
       "      <th>lemmas</th>\n",
       "      <th>disorder</th>\n",
       "    </tr>\n",
       "  </thead>\n",
       "  <tbody>\n",
       "    <tr>\n",
       "      <th>44</th>\n",
       "      <td>NaN</td>\n",
       "      <td>0</td>\n",
       "      <td>0</td>\n",
       "      <td>ABL1</td>\n",
       "      <td>ABL1 is ABL proto-oncogene 1, non-receptor ty...</td>\n",
       "      <td>( , ABL1, is, ABL, proto, -, oncogene, 1, ,, n...</td>\n",
       "      <td>[ , abl1, be, abl, proto, -, oncogene, 1, ,, n...</td>\n",
       "      <td>1</td>\n",
       "    </tr>\n",
       "    <tr>\n",
       "      <th>46</th>\n",
       "      <td>NaN</td>\n",
       "      <td>0</td>\n",
       "      <td>0</td>\n",
       "      <td>MSH2</td>\n",
       "      <td>MSH2 is mutS homolog 2 (human),also COCA1, FC...</td>\n",
       "      <td>( , MSH2, is, mutS, homolog, 2, (, human),also...</td>\n",
       "      <td>[ , msh2, be, muts, homolog, 2, (, human),also...</td>\n",
       "      <td>1</td>\n",
       "    </tr>\n",
       "    <tr>\n",
       "      <th>51</th>\n",
       "      <td>NaN</td>\n",
       "      <td>0</td>\n",
       "      <td>0</td>\n",
       "      <td>RUNX1</td>\n",
       "      <td>RUNX1 is runt related transcription factor 1 ...</td>\n",
       "      <td>( , RUNX1, is, runt, related, transcription, f...</td>\n",
       "      <td>[ , runx1, be, runt, relate, transcription, fa...</td>\n",
       "      <td>1</td>\n",
       "    </tr>\n",
       "    <tr>\n",
       "      <th>55</th>\n",
       "      <td>NaN</td>\n",
       "      <td>0</td>\n",
       "      <td>0</td>\n",
       "      <td>MCL1</td>\n",
       "      <td>MCL1 is MCL1, BCL2 family apoptosis regulator...</td>\n",
       "      <td>( , MCL1, is, MCL1, ,, BCL2, family, apoptosis...</td>\n",
       "      <td>[ , mcl1, be, mcl1, ,, bcl2, family, apoptosis...</td>\n",
       "      <td>1</td>\n",
       "    </tr>\n",
       "    <tr>\n",
       "      <th>87</th>\n",
       "      <td>NaN</td>\n",
       "      <td>0</td>\n",
       "      <td>0</td>\n",
       "      <td>ERBB3</td>\n",
       "      <td>ERBB3 is erb-b2 receptor tyrosine kinase 3 (h...</td>\n",
       "      <td>( , ERBB3, is, erb, -, b2, receptor, tyrosine,...</td>\n",
       "      <td>[ , erbb3, be, erb, -, b2, receptor, tyrosine,...</td>\n",
       "      <td>1</td>\n",
       "    </tr>\n",
       "  </tbody>\n",
       "</table>\n",
       "</div>"
      ],
      "text/plain": [
       "    abstract  match  med symbols  \\\n",
       "44       NaN      0    0    ABL1   \n",
       "46       NaN      0    0    MSH2   \n",
       "51       NaN      0    0   RUNX1   \n",
       "55       NaN      0    0    MCL1   \n",
       "87       NaN      0    0   ERBB3   \n",
       "\n",
       "                                               blurb8  \\\n",
       "44   ABL1 is ABL proto-oncogene 1, non-receptor ty...   \n",
       "46   MSH2 is mutS homolog 2 (human),also COCA1, FC...   \n",
       "51   RUNX1 is runt related transcription factor 1 ...   \n",
       "55   MCL1 is MCL1, BCL2 family apoptosis regulator...   \n",
       "87   ERBB3 is erb-b2 receptor tyrosine kinase 3 (h...   \n",
       "\n",
       "                                               tokens  \\\n",
       "44  ( , ABL1, is, ABL, proto, -, oncogene, 1, ,, n...   \n",
       "46  ( , MSH2, is, mutS, homolog, 2, (, human),also...   \n",
       "51  ( , RUNX1, is, runt, related, transcription, f...   \n",
       "55  ( , MCL1, is, MCL1, ,, BCL2, family, apoptosis...   \n",
       "87  ( , ERBB3, is, erb, -, b2, receptor, tyrosine,...   \n",
       "\n",
       "                                               lemmas  disorder  \n",
       "44  [ , abl1, be, abl, proto, -, oncogene, 1, ,, n...         1  \n",
       "46  [ , msh2, be, muts, homolog, 2, (, human),also...         1  \n",
       "51  [ , runx1, be, runt, relate, transcription, fa...         1  \n",
       "55  [ , mcl1, be, mcl1, ,, bcl2, family, apoptosis...         1  \n",
       "87  [ , erbb3, be, erb, -, b2, receptor, tyrosine,...         1  "
      ]
     },
     "execution_count": 438,
     "metadata": {},
     "output_type": "execute_result"
    }
   ],
   "source": [
    "abbrevt = pd.DataFrame(test[test['disorder']==1])\n",
    "abbrevt.head()"
   ]
  },
  {
   "cell_type": "code",
   "execution_count": 439,
   "metadata": {},
   "outputs": [
    {
     "data": {
      "text/plain": [
       "dict_keys([' ', 'tnf', 'be', 'tumor', 'necrosis', 'factor', '(', 'human),also', 'dif', '-', 'alpha', ',', 'tnfa', 'tnfsf2', 'tnlg1f', '-PRON-', ';', 'apc1', 'protein', 'macrophage', 'derive', 'monocyte', 'a', 'cachectin', 'ligand', '1f', 'superfamily', 'member', '2', 'chromosome', ':', '6', 'location', '6p21.33,annotation', 'nc_000006.12', '31575567', '..', '31578336),mim', '191160', 'vegfa', 'vascular', 'endothelial', 'growth', 'mvcd1', 'vegf', 'vpf', 'a121', 'a165', 'permeability', '6p21.1,annotation', '43770209', '43786487),mim', '192240', 'solute', 'carrier', 'family', '4', 'gene', 'promoter', 'human),other', 'designations-', '5-htt', '5-httlpr', 'polymorphism', 'region', 'slc6a4', 'serotonin', 'transporter', '17', '17q11.2,annotation', 'nc_000017.11', '30235481', '30237521', ')', 'adipoq', 'adiponectin', 'c1q', 'and', 'collagen', 'domain', 'contain', 'acdc', 'acrp30', 'adipqtl1', 'adpn', 'apm-1', 'apm1', 'gbp28,it', '30', 'kda', 'adipocyte', 'complement', 'relate', 'adipose', 'most', 'abundant', 'transcript', '1', 'specific', 'like', 'gelatin', 'bind', '28,chromosome', '3', '3q27.3,annotation', 'nc_000003.12', '186842674', '186858463),mim', '605441', 'ar', 'androgen', 'receptor', 'ais8', 'dhtr', 'humara', 'hysp1', 'kd', 'nr3c4', 'sbma', 'smax1', 'tfm', 'dihydrotestosterone', 'nuclear', 'subfamily', 'group', 'c', '4,chromosome', 'x', 'xq12,annotation', 'nc_000023.11', '67544623', '67730619),mim', '313700', 'akt1', 'akt', 'serine', '/', 'threonine', 'kinase', 'cws6', 'pkb', 'prkba', 'rac', 'm', 'pk', 'b', 'proto', 'oncogene', 'v', 'murine', 'thymoma', 'viral', 'homolog', '1,chromosome', '14', '14q32.33,annotation', 'nc_000014.9', '104769349', '104795743', 'complement),mim', '164730', 'stat3', 'signal', 'transducer', 'activator', 'of', 'transcription', 'admio', 'admio1', 'aprf', 'hies', 'dna', 'acute', 'phase', 'response', '17q21.2,annotation', '42313324', '42388503', '102582', 'nos3', 'nitric', 'oxide', 'synthase', 'ecnos', 'enos', 'ec', 'nos', 'type', 'iii', 'nosiii', 'cnos', 'constitutive', 'cell', 'variant', 'delta20', '21', 'eno', 'delta21,chromosome', '7', '7q36.1,annotation', 'nc_000007.14', '150991056', '151014599),mim', '163729', 'hla', 'major', 'histocompatibility', 'complex', 'class', 'i', 'as', 'b-4901', 'hlab', 'antigen', 'chain', 'mhc', 'surface', 'glycoprotein', 'transmembrane', 'heavy', 'shcha', 'molecule', 'leukocyte', '31353866', '31357245', '142830', 'cdh1', 'cadherin', 'arc-1', 'bcds1', 'cd324', 'cdhe', 'ecad', 'lcam', 'uvo', 'cadherin-1', 'cam', '120/80', 'e', 'epithelial', 'calcium', 'dependent', 'adhesion', 'uvomorulin', '16', '16q22.1,annotation', 'nc_000016.10', '68737290', '68835542),mim', '192090', 'gstm1', 'glutathione', 's', 'transferase', 'mu', 'gst1', 'gstm1a-1a', 'gstm1b-1b', 'gth4', 'gtm1', 'h', 'mu-1', 'gstm1,it', 'gst', 'hb', 'subunit', 's-(hydroxyalkyl)glutathione', 'lyase', 'alkyltransferase', 'aralkyltransferase', 'aryltransferase', 'm1,chromosome', '1p13.3,annotation', 'nc_000001.11', '109687796', '109693745),mim', '138350', 'bcl2', 'apoptosis', 'regulator', 'bcl-2', 'ppp1r50,it', 'cll', 'lymphoma', 'phosphatase', 'regulatory', '50,chromosome', '18', '18q21.33,annotation', 'nc_000018.10', '63123346', '63320280', '151430', 'myc', 'bhlh', 'mrtlc', 'bhlhe39', 'avian', 'myelocytomatosis', 'basic', 'helix', 'loop', '39', 'translation', 'localization', 'p64', '8', '8q24.21,annotation', 'nc_000008.11', '127735434', '127742951),mim', '190080', 'mapt', 'microtubule', 'associated', 'tau', 'ddpac', 'ftdp-17l', 'mstd', 'mtbt1', 'mtbt2', 'ppnd', 'ppp1r103', 'associate', 'g', 'beta1/gamma2', 'interact', 'phf', 'neurofibrillary', 'tangle', 'pair', 'helical', 'filament', '103,chromosome', '17q21.31,annotation', '45894382', '46028334),mim', '157140', 'lep', 'leptin', 'lepd', 'ob', 'obs', 'obesity', 'mouse', 'obese', '7q32.1,annotation', '128241201', '128257629),mim', '164160', 'mtor', 'mechanistic', 'target', 'rapamycin', 'frap', 'frap1', 'frap2', 'raft1', 'rapt1', 'sks', 'fk506', '12-rapamycin', 'fk506-bind', 'fkbp', 'fkbp12-rapamycin', 'mammalian', 'fkbp12', '1p36.22,annotation', '11106531', '11273497', '601231', 'cxcr4', 'motif', 'chemokine', 'cd184', 'd2s201e', 'fb22', 'hm89', 'hsy3rr', 'lap-3', 'lap3', 'lcr1', 'lestr', 'npy3r', 'npyr', 'npyrl', 'npyy3r', 'whim', 'whims', 'lps', 'sdf-1', 'fusin', 'seven', 'lipopolysaccharide', 'neuropeptide', 'y', 'y3', 'segment', 'spleen', 'stromal', '2q22.1,annotation', 'nc_000002.12', '136114349', '136118155', '162643', 'ccr5', '5', 'pseudogene', 'cc', 'ckr-5', 'ccckr5', 'ccr-5', 'cd195', 'ckr5', 'cmkbr5', 'iddm22,it', 'a159a', 'hiv-1', 'fusion', 'coreceptor', 'recptor', 'delta32', 'chemr13,chromosome', '3p21.31,annotation', '46370142', '46376206),mim', '601373', 'hlaa', 'a-1', 'low', 'quality', '6p22.1,annotation', '29942470', '29945884),mim', '142800', 'hfe', 'homeostatic', 'iron', 'hfe1', 'hh', 'mvcd7', 'tfqtl2,it', 'hereditary', 'hemochromatosis', 'high', 'fe', '6p22.2,annotation', '26087281', '26096216),mim', '613609', 'cxcl12', '12', 'irh', 'pbsf', 'scyb12', 'sdf1', 'tlsf', 'tpar1,it', 'intercrine', 'reduce', 'in', 'hepatoma', 'pre', 'stimulating', '10', '10q11.21,annotation', 'nc_000010.11', '44292088', '44385097', '600835', 'xrcc1', 'ray', 'repair', 'cross', 'rcc', 'scar26,it', 'defective', 'chinese', 'hamster', '19', '19q13.31,annotation', 'nc_000019.10', '43543312', '43575578', '194360', 'fas', 'death', 'alps1a', 'apo-1', 'apt1', 'cd951', 'fastm', 'tnfrsf6', 'cd95', 'faslg', 'ama', 'signaling', 'mediate', 'mutant', '6,chromosome', '10q23.31,annotation', '88968429', '89017061),mim', '134637', 'adrb2', 'adrenoceptor', 'beta', 'adrb2r', 'adrbr', 'b2ar', 'bar', 'beta2ar', 'beta-2', 'adrenergic', 'beta-2-', 'adrenoreceptor', 'catecholamine', '5q32,annotation', 'nc_000005.10', '148826593', '148828634),mim', '109690', 'esr2', 'estrogen', 'er', 'esr', 'esrb', 'estrb', 'erb', 'nr3a2,it', 'oestrogen', '14q23.2-q23.3,annotation', '64226712', '64338631', '601663', 'hmox1', 'heme', 'oxygenase', 'hmox1d', 'ho-1', 'hsp32', 'bk286b10,it', 'heat', 'shock', '32-kd', 'decycling', '22', '22q12.3,annotation', 'nc_000022.11', '35381067', '35394214),mim', '141250', 'spp1', 'secreted', 'phosphoprotein', 'bnsp', 'bspi', 'eta-1', 'opn', 'osteopontin', 'spp1/calpha1', 'early', 't', 'lymphocyte', 'activation', 'nephropontin', 'immunoglobulin', 'constant', 'bone', 'sialoprotein', 'urinary', 'stone', 'uropontin', '4q22.1,annotation', 'nc_000004.12', '87975650', '87983411),mim', '166490', 'sirt1', 'sirtuin', 'sir2', 'sir2l1', 'sir2alpha', 'nad', 'deacetylase', 'sirtuin-1', 'sir2-like', '10q21.3,annotation', '67884669', '67918390),mim', '604479', 'lrrk2', 'leucine', 'rich', 'repeat', 'aura17', 'dardarin', 'park8', 'ripk7', 'roco2,it', 'augment', 'rheumatoid', 'arthritis', '17,chromosome', '12q12,annotation', 'nc_000012.12', '40224890', '40369285),mim', '609007', 'gsk3b', 'glycogen', 'human),it', 'kinase-3', 'gsk-3', 'gsk3beta', 'isoform', '3q13.33,annotation', '119821321', '120095823', '605004', 'gjb2', 'gap', 'junction', 'cx26', 'dfna3', 'dfna3a', 'dfnb1', 'dfnb1a', 'hid', 'kid', 'nsrd1', 'ppk', 'connexin', '26', '26kda', '2,chromosome', '13', '13q12.11,annotation', 'nc_000013.11', '20187463', '20192975', '121011', 'itgb3', 'integrin', 'bdplt16', 'bdplt2', 'cd61', 'gp3a', 'gpiiia', 'gt', 'beta-3', 'platelet', 'iiia', 'membrane', '17q21.32,annotation', '47253842', '47312711),mim', '173470', 'cyp1a1', 'cytochrome', 'p450', 'ahh', 'ahrr', 'cp11', 'cyp1', 'cypia1', 'p1', '450', 'p450-c', 'p450dx', '1a1', 'aryl', 'hydrocarbon', 'hydroxylase', 'dioxin', 'inducible', 'form', 'polypeptide', 'aromatic', 'compound', 'p450-p1', 'flavoprotein', 'link', 'monooxygenase', 'xenobiotic', '15', '15q24.1,annotation', 'nc_000015.10', '74719542', '74725610', '108330', 'ager', 'advanced', 'glycosylation', 'end', 'product', 'rage', 'scarj1,it', 'ntrage', 'delta', 'srage', 'for', 'glycation', '20,chromosome', '6p21.32,annotation', '32180968', '32184380', '600214', 'cdkn1b', 'cyclin', 'inhibitor', '1b', 'cdkn4', 'kip1', 'men1b', 'men4', 'p27kip1,it', 'p27', 'kip1),chromosome', '12p13.1,annotation', '12717270', '12722383),mim', '600778', 'il1rn', 'interleukin', 'antagonist', 'dira', 'icil-1ra', 'il-1rn', 'il-1ra', 'il-1ra3', 'il1f3', 'il1ra', 'irap', 'mvcd4,it', 'interleukin-1', 'il1', 'intracellular', 'il-1', 'ii', '2q14.1,annotation', '113099365', '113134016),mim', '147679', 'tp63', 'p63', 'ais', 'b(p51a', 'b(p51b', 'eec3', 'ket', 'lms', 'nbp', 'ofc8', 'rhs', 'shfm4', 'tp53cp', 'tp53l', 'tp73l', 'p40', 'p51', 'p53cp', 'p73h', 'p73l', '63', 'amplify', 'squamous', 'carcinoma', 'chronic', 'ulcerative', 'stomatitis', 'keratinocyte', 'transformation', 'p53-competing', '3q28,annotation', '189596746', '189897279),mim', '603273', 'cyp19a1', 'aro', 'aro1', 'cpv1', 'cyar', 'cyp19', 'cypxix', 'p-450arom', 'aromatase', '19a1', 'xix', 'aromatization', 'synthetase', 'microsomal', '15q21.2,annotation', '51208057', '51338598', '107910', 'rhoa', 'ra', 'arh12', 'arha', 'rho12', 'rhoh12,it', 'transform', 'aplysia', 'rho', 'h12', 'small', 'gtp', '49359136', '49412097', '165390', 'ercc2', 'ercc', 'excision', 'tfiih', 'core', 'helicase', 'cofs2', 'em9', 'ttd', 'ttd1', 'xpd', 'general', 'iih', 'btf2', 'p80', 'cxpd', 'ercc-2', 'xp', 'd', '80', 'basal', 'xpb', 'complementation', 'rodent', 'deficiency', 'xeroderma', 'pigmentosum', 'complementary', '19q13.32,annotation', '45349837', '45370647', '126340', 'mapk8', 'mitogen', 'activate', 'jnk', 'jnk-46', 'jnk1', 'jnk1a2', 'jnk21b1/2', 'prkm8', 'sapk1', 'sapk1c', 'jun', 'n', 'terminal', 'map', 'alpha1', 'beta2', 'stress', '1c', '10q11.22,annotation', '48306639', '48439360),mim', '601158', 'tcf7l2', 'tcf-4', 'tcf4,it', '7-like', 'hmg', 'box', 'htcf-4', 'box),chromosome', '10q25.2-q25.3,annotation', '112950220', '113167678),mim', '602228', 'hras', 'gtpase', 'bas', 'has', 'ras', 'ha', 'ras1', 'ctlo', 'rasidx', 'hamsv1', 'rash1', 'p21ra', 'gtp-', 'gdp', 'peptide', 'oncoprotein', 'harvey', 'rat', 'sarcoma', 'have', 'p21', 'ki-2', 'p19', 'hamsv', '11', '11p15.5,annotation', 'nc_000011.10', '532242', '535567', '190020', 'ttr', 'transthyretin', 'attr', 'cts', 'cts1', 'hel111', 'hst2651', 'palb', 'tbpa', 'epididymis', 'luminal', '111', 'prealbumin', 'amyloidosis', 'thyroxine', '18q12.1,annotation', '31591767', '31599024),mim', '176300', 'abl1', 'abl', 'non', 'tyrosine', 'chdskm', 'jtk7', 'bcr', 'p150', 'abelson', 'leukemia', '9', '9q34.12,annotation', 'nc_000009.12', '130713881', '130887675),mim', '189980', 'casp8', 'caspase', 'alps2b', 'cap4', 'casp-8', 'flice', 'mach', 'mch5,it', 'caspase-8', 'fadd', 'homologous', 'ice', 'ced-3-like', 'protease', 'apoptotic', 'alpha-1/2/3', 'beta-1/2/3/4', 'mort1-associat', 'ced-3', 'cysteine', 'mch-5', 'peptidase', '2q33.1,annotation', '201233443', '201287711),mim', '601763', 'msh2', 'muts', 'coca1', 'fcc1', 'hnpcc', 'hnpcc1', 'lcfs2', 'hmsh2,it', 'mismatch', 'colon', 'cancer', 'nonpolyposis', '2p21-p16.3,annotation', '47403067', '47634501),mim', '609309', 'serpina1', 'serpin', 'a1a', 'a1at', 'aat', 'pi', 'pi1', 'pro2275', 'alpha1at', 'nnif', 'alpha-1-antitrypsin', 'alpha-1', 'antitrypsin', 'alpha-1-antiproteinase', 'null', 'short', '1c4', '1c5', 'anti', 'elastase', 'or', 'proteinase', 'clade', 'a1', 'alpha-1antiproteinase', 'antiproteinase', '14q32.13,annotation', '94376747', '94390692', '107400', 'fn1', 'fibronectin', 'cig', 'ed', 'finc', 'fn', 'fnz', 'gfnd', 'gfnd2', 'lets', 'msf', 'smdcf', 'cold', 'insoluble', 'globulin', 'migration', '2q35,annotation', '215360440', '215436167', '135600', 'cyp3a5', 'cp35', 'cypiiia5', 'p450pcn3', 'pcn3,it', '3a5', 'hlp2', 'niphedipine', 'oxidase', 'p450-pcn3', '7q22.1,annotation', '99648189', '99680026', '605325', 'igfbp3', 'insulin', 'bp-53', 'ibp3,it', 'ibp-3', 'igf', 'igfbp-3', 'acid', 'stable', 'the', '140', 'k', '29', '53', 'hormone', 'binding', '7p12.3,annotation', '45912245', '45921272', '146732', 'runx1', 'runt', 'aml1', 'aml1-evi-1', 'amlcr1', 'cbf2alpha', 'cbfa2', 'evi-1', 'pebp2ab', 'pebp2alpha', 'pea2-alpha', 'pebp2-alpha', 'sl3', 'enhancer', 'sl3/akv', 'myeloid', 'aml-1', 'polyomavirus', '21q22.12,annotation', 'nc_000021.9', '34787801', '35049334', '151385', 'oprm1', 'opioid', 'lmor', 'or-1', 'mop', 'mor', 'mor1', 'oprm', 'opiate', 'hmor-1a', '6q25.2,annotation', '154010496', '154246867),mim', '600018', 'e2f1', 'e2f', 'e2f-1', 'rbap1', 'rbbp3', 'rbp3,it', 'pbr3', 'prb', 'rbap-1', 'rbbp-3', 'retinoblastoma', '3,chromosome', '20', '20q11.22,annotation', 'nc_000020.11', '33675486', '33686404', '189971', 'alps1b', 'apt1lg1', 'aptl', 'cd178', 'cd95-l', 'cd95l', 'fasl', 'tnfsf6', 'tnlg1a', 'fa', '1a', '1q24.3,annotation', '172659008', '172666873),mim', '134638', 'mcl1', 'bcl2l3', 'eat', 'es', 'mcl1l', 'mcl1s', 'mcl-1', 'tm', 'bcl2-l-3', 'mcl1/eat', 'mcl1,it', 'induce', 'differentiation', 'bcl-2-like', 'bcl-2-relat', 'sequence', 'bcl2-related),chromosome', '1q21.2,annotation', '150574551', '150579738', '159552', 'cdk1', 'cdc2', 'cdc28a', 'p34cdc2,it', 'cycle', 'controller', 'division', 'control', 'g1', 'to', 'g2', 'p34', '10q21.2,annotation', '60778331', '60794852),mim', '116940', 'tlr3', 'toll', 'cd283', 'iiae2,it', '4q35.1,annotation', '186069155', '186085098),mim', '603029', 'fgf23', 'fibroblast', '23', 'adhr', 'fgfn', 'hftc2', 'hpdr2', 'hypf', 'phptc', 'phosphatonin', 'hypophosphatemia', 'inducing', '12p13.32,annotation', '4368227', '4379728', '605380', 'dmd', 'dystrophin', 'bmd', 'cmd3b', 'dxs142', 'dxs164', 'dxs206', 'dxs230', 'dxs239', 'dxs268', 'dxs269', 'dxs270', 'dxs272', 'mrx85,it', 'xp21.2-p21.1,annotation', '31119219', '33339609', '300377', 'crebbp', 'creb', 'cbp', 'kat3a', 'rsts', 'rsts1,it', '16p13.3,annotation', '3725054', '3880727', '600140', 'chek2', 'checkpoint', 'cds1', 'chk2', 'hucds1', 'lfs2', 'pp1425', 'rad53', 'hcds1,it', 'chk2,chromosome', '22q12.1,annotation', '28687743', '28741866', '604373', 'pou5f1', 'pou', 'homeobox', 'oct3', 'oct4', 'otf-3', 'otf3', 'otf4', 'oct-3', 'oct-4,it', 'oct4b1', 'oct4b2', 'oct4b3', 'oct4b4', 'oct4b5', 'oct4b6', 'classv', 'homeodomain', 'octamer', '31164337', '31170693', '164177', 'casr', 'sensing', 'car', 'eig8', 'fhh', 'fih', 'gprc2a', 'hhc', 'hhc1', 'hypoc1', 'nshpt', 'pcar1', 'hcasr', 'extracellular', 'sense', 'parathyroid', 'ca(2+)-sensing', '3q13.33-q21.1,annotation', '122183683', '122286503),mim', '601199', 'yap1', 'yes', 'cob1', 'yap', 'yap2', 'yap65', 'yki', 'transcriptional', 'coactivator', '65', 'yorkie', '11q22.1,annotation', '102109957', '102233423),mim', '606608', 'cyp1b1', 'asgd6', 'cp1b', 'cypib1', 'glc3a', 'p4501b1,it', '1b1', 'glaucoma', 'primary', 'infantile', '2p22.2,annotation', '38067603', '38076181', '601771', 'nf1', 'neurofibromin', 'nfns', 'vrnf', 'wss', 'neurofibromatosis', 'nf-1', 'truncate', '31094927', '31377677),mim', '613113', 'mefv', 'pyrin', 'innate', 'immunity', 'fmf', 'mef', 'trim20,it', 'mediterranean', 'fever', 'marenostrin', '3242028', '3256776', '608107', 'apobec3', 'apolipoprotein', 'mrna', 'edit', 'enzyme', 'catalytic', 'a3', 'arcd', 'arp-9', 'arp9', 'cem-15', 'cem15', 'mds019', 'bk150c2.7', 'dj494g10.1,it', 'dc-&gt;du', 'apobec-3', 'apobec', 'cytidine', 'deaminase', 'deoxycytidine', 'phorbolin', 'mds019,chromosome', '22q13.1,annotation', '39077005', '39087743),mim', '607113', 'creb1', 'camp', 'responsive', 'element', 'creb-1,it', 'cyclic', 'amp', 'active', 'protein-1', 'adenosine', \"3',5'-monophosphate\", 'transactivator', '2q33.3,annotation', '207529892', '207605989),mim', '123810', 'lta', 'lymphotoxin', 'lt', 'tnfb', 'tnfsf1', 'tnlg1e', '1e', '31560550', '31574324),mim', '153440', 'shh', 'sonic', 'hedgehog', 'hhg1', 'hlp3', 'hpe3', 'mcopcb5', 'smmci', 'shhnc', 'tpt', 'tptps', 'unprocessed', 'autoprocess', '7q36.3,annotation', '155799984', '155812273', '600725', 'thbs1', 'thrombospondin', 'thbs', 'thbs-1', 'tsp', 'tsp-1', 'tsp1,it', 'thrombospondin-1', 'thrombospondin-1p180', 'p50,chromosome', '15q14,annotation', '39581079', '39598918),mim', '188060', 'hamp', 'hepcidin', 'antimicrobial', 'hepc', 'hfe2b', 'leap1', 'pltr', 'liver', 'express', 'putative', 'regressor', '19q13.12,annotation', '35282346', '35285143),mim', '606464', 'cdc42', '42', 'cdc42hs', 'g25', 'tks', '25kda', 'dj224a6.1.1', '25kd', 'dj224a6.1.2', 'regulate', 'cdc42,chromosome', '1p36.12,annotation', '22052627', '22092943),mim', '116952', 'fbn1', 'fibrillin', 'acmicd', 'ectol1', 'fbn', 'gphysd2', 'mass', 'mfls', 'mfs1', 'octd', 'sgs', 'ssks', 'wms', 'wms2,it', 'fibrillin-1', 'asprosin', 'preproprotein', '15q21.1,annotation', '48408306', '48645788', '134797', 'eng', 'endoglin', 'hht1', 'orw1,it', 'cd105', '9q34.11,annotation', '127815012', '127854773', '131195', 'cd36', 'bdplt10', 'chds7', 'fat', 'gp3b', 'gp4', 'gpiv', 'pasiv', 'scarb3,it', 'gpiiib', 'pas', 'iv', 'pas-4', 'cluster', 'determinant', '36', 'fatty', 'translocase', 'iiib', 'scavenger', '7q21.11,annotation', '80602188', '80679277),mim', '173510', 'vim', 'vimentin', '10p13,annotation', '17228210', '17237597),mim', '193060', 'lpa', 'lipoprotein(a', 'ak38', 'apoa', 'lp', 'apolipoprotein(a', 'antiangiogenic', 'apo(a', 'lipoprotein', 'lp(a', 'lp(a),chromosome', '6q25.3-q26,annotation', '160531483', '160666375', '152200', 'prkaca', 'pkaca', 'ppnad4,it', 'pka', '19p13.12,annotation', '14091688', '14117747', '601639', 'ptx3', 'pentraxin', 'tnfaip5', 'tsg-14,it', 'long', 'tsg-14,chromosome', '3q25.32,annotation', '157436791', '157443628),mim', '602492', 'b2', 'beta-2-microglobulin', 'imd43,it', 'molecul', 'beta-2-microglobin', '44711487', '44718159),mim', '109700', 'hspa1a', 'hsp70', 'hel', 's-103', 'hsp70.1', 'hsp70i', 'hsp72', 'hspa1,it', '70', '1/hsp70', 'hsp70.1/hsp70.2', 'dnak', 'molecular', 'chaperone', 'secretory', 'li', '103', '1/2', '1a/1b', '70kd', '70kda', '31815514', '31817942),mim', '140550', 'dkk1', 'dickkopf', 'wnt', 'pathway', 'dkk-1', 'sk', 'dickkopf-1', '10q21.1,annotation', '52314183', '52317657),mim', '605189', 'ccr2', 'ckr-2', 'ccr-2a', 'ccr2b', 'cd192', 'ckr2', 'ckr2a', 'ckr2b', 'cmkbr2', 'mcp-1-r', 'ccr2,it', 'mcp-1', 'chemoattractant', 'chemotactic', '46353744', '46360940),mim', '601267', 'epas1', 'ecyt4', 'hif2a', 'hlf', 'mop2', 'pasd2', 'bhlhe73,it', 'epas-1', 'hif-1-alpha', 'hif-1alpha', 'hif-2-alpha', 'hif2-alpha', '73', 'hypoxia', '2p21,annotation', '46297402', '46386703),mim', '603349', 'erbb3', 'erbb-3', 'her3', 'lccs2', 'mda', 'bf-1', 'erbb3-s', 'p180-erbb3', 'p45-serbb3', 'p85-serbb3,it', 'human', 'epidermal', 'erythroblastic', '12q13.2,annotation', '56080025', '56103507),mim', '190151', 'htr1a', '5-hydroxytryptamine', '5-ht-1a', '5-ht1a', '5ht1a', 'adrb2rl1', 'adrbrl1', 'g-21', 'pfmcd', 'couple', 'guanine', 'nucleotide', '5q12.3,annotation', '63960048', '63962292', '109760', 'abcc1', 'atp', 'cassette', 'abc29', 'abcc', 'gs', 'mrp', 'mrp1,it', 'multidrug', 'resistance', 'abcc1delta', 'ex13', 'ex13&amp;14', 'ex25', 'ex25&amp;26', 'sub', 'cftr', 'ltc4', 'leukotriene', 'c(4', '16p13.11,annotation', '15949577', '16143074),mim', '158343', 'cdk4', 'cmm3', 'psk', 'j3,it', '12q14.1,annotation', '57747727', '57752447', '123829', 'ppia', 'peptidylprolyl', 'isomerase', 'cypa', 'cyph', 's-69p', 'peptidyl', 'prolyl', 'cis', 'tran', 'ppiase', 'cyclophilin', 'cyclosporin', 'sperm', '69p', 'rotamase', '7p13,annotation', '44795960', '44803123),mim', '123840', 'smad2', 'smad', 'jv18', 'madh2', 'madr2', 'hmad-2', 'hsmad2,it', 'mother', 'against', 'decapentaplegic', 'mad', 'dpp', 'sma-', '18q21.1,annotation', '47833095', '47931188', '601366', 'adora2a', 'a2a', 'a2ar', 'adora2', 'rdc8,it', 'subtype', '22q11.23,annotation', '24423597', '24442360),mim', '102776', 'adam17', 'adam', 'metallopeptidase', 'adam18', 'cd156b', 'csvp', 'nisbd', 'nisbd1', 'tace', 'disintegrin', 'metalloproteinase', 'convertase', 'convert', 'snake', 'venom', '2p25.1,annotation', '9488486', '9555820', '603639', 'il6r', 'cd126', 'il-6r-1', 'il-6ra', 'il6qa', 'il6rq', 'gp80', 'interleukin-6', 'il-6', 'il-6r', '80,chromosome', '1q21.3,annotation', '154405193', '154469450),mim', '147880', 'tf', 'transferrin', 's-71p', 'pro1557', 'pro2086qtl1', 'serotransferrin', 'beta-1', 'metal', '71p', 'siderophilin', '3q22.1,annotation', '133661986', '133779006),mim', '190000', 'itga2', 'br', 'cd49b', 'gpia', 'hpa-5', 'vla-2', 'vlaa2,it', 'alpha-2', 'cd49', 'alloantigen', 'system', 'ia', 'very', 'late', '5q11.2,annotation', '52989326', '53094779),mim', '192974', 'pax6', 'an', 'an2', 'asgd5', 'd11s812e', 'fvh1', 'mgda', 'wagr', 'pax-6', 'aniridia', 'oculorhombin', 'homeotic', 'gene-6,chromosome', '11p13,annotation', '31784792', '31817961', '607108', 'sparc', 'acidic', 'bm-40', 'oi17', 'on', 'basement', '40', 'osteonectin),chromosome', '5q33.1,annotation', '151661096', '151687054', '182120', 'dnmt3a', 'methyltransferase', 'dnmt3a2', 'm.hsaiiia', 'tbrs', 'cytosine-5)-methyltransferase', '3a', 'cytosine-5-)-methyltransferase', 'mtase', 'hsaiiia', 'cytosine', '3a2,chromosome', '2p23.3,annotation', '25232961', '25342590', '602769', 'aldh1a1', 'aldehyde', 'dehydrogenase', 'aldc', 'aldh', 'e1', 'aldh1', 'aldh11', 'hel-9', 's-53e', 'hel12', 'pumb1', 'raldh1,it', 'retinal', 'alhdii', 'raldh', 'acetaldehyde', 'soluble', 'cytosolic', '53e', 'retinaldehyde', '9q21.13,annotation', '72900662', '72953317', '100640', 'ybx1', 'bp-8', 'cbf', 'csda2', 'csdb', 'dbpb', 'efi', 'mdr', 'nsep-1', 'nsep1', 'yb-1', 'yb1,it', 'nuclease', 'sensitive', 'ccaat', '1p34.2,annotation', '42682235', '42703803),mim', '154030', 'txn', 'thioredoxin', 'trdx', 'trx', 'trx1,it', 'adf', 'atl', 'sasp', 'sulphydryl', 'testicular', 'tissue', '199', '9q31.3,annotation', '110243812', '110256640', '187700', 'epcam', 'diar5', 'egp-2', 'egp314', 'egp40', 'esa', 'hnpcc8', 'ks1/4', 'ksa', 'm4s1', 'mic18', 'mk-1', 'tacstd1', 'trop1,it', 'adenocarcinoma', 'trop-1', '314', 'glycoprotein-2', 'gastrointestinal', 'ga733', 'component', 'marker', '35kd', '47369148', '47387028),mim', '185535', 'sox9', 'sry', 'cmd1', 'cmpd1', 'sra1', 'srxx2', 'srxy10,it', 'sox-9', 'sex', 'determine', 'y)-box9', 'y)-box', '9,chromosome', '17q24.3,annotation', '72121020', '72126420),mim', '608160', 'cdx2', 'caudal', 'cdx-3/as', 'cdx3', 'cdx2,it', 'cdx-2', 'minicdx2,chromosome', '13q12.2,annotation', '27960918', '27969368', '600297', 'tert', \"'\", '5p15,annotation', '1294628', '1298988', 'postn', 'periostin', 'osf-2', 'osf2', 'pdlpostn', 'pn', 'osteoblast', 'fasciclin', 'periodontal', 'ligament', '13q13.3,annotation', '37562582', '37598844', '608777', 'tgfbi', 'bigh3', 'cdb1', 'cdg2', 'cdgg1', 'csd', 'csd1', 'csd2', 'csd3', 'ebmd', 'lcd1,it', 'ig', 'h3', 'rgd', 'cap', 'betaig', 'kerato', 'epithelin', '68kda', '68kd', '5q31.1,annotation', '136028895', '136063818),mim', '601692', 'gli1', 'gli', 'zinc', 'finger', 'kruppel', 'glioma', '12q13.3,annotation', '57460135', '57472451),mim', '165220', 'tph2', 'tryptophan', 'adhd7', 'ntph', '5-hydroxylase', 'neuronal', '5-monooxygenase', '12q21.1,annotation', '71938846', '72032441),mim', '607478', 'ptprc', 'b220', 'cd45', 'cd45r', 'gp180', 'l', 'ca', 'lca', 'ly5', 't200,it', 't200', 'common', '1q31.3-q32.1,annotation', '198638968', '198757476),mim', '151460', 'chga', 'chromogranin', 'cga', 'sp', 'betagranin', 'fragment', 'catestatin', 'chromofungin', 'pituitary', '14q32.12,annotation', '92922594', '92935293),mim', '118910', 'cdkn2b', '2b', 'cdk4i', 'ink4b', 'mts2', 'p15', 'tp15', 'p15ink4b', 'cdk', 'inhibitory', 'cdk4b', 'mts-2', 'inhibit', 'multiple', 'suppressor', 'p14-ink4b', 'p14_cdk', 'p14_ink4b', 'p15-ink4b', 'p15_ink4b', '9p21.3,annotation', '22002903', '22009313', '600431', 'itga5', 'cd49e', 'fnra', 'vla-5', 'vla5a', 'alpha-5', 'itga5/slc9b1', 'f', '12q13.13,annotation', '54395261', '54419266', '135620', 'sost', 'sclerostin', 'cdd', 'dand61', 'vbch', '43753731', '43758788', '605740', 'erbb4', 'als19', 'her4', 'p180erbb4,it', 'erbb-4', 'i12del', 'i20del', '2q34,annotation', '211375717', '212538628', '600543', 'msh6', 'gtbp', 'gtmbp', 'hnpcc5', 'hsap', 'p160,it', '160', '2p16.3,annotation', '47783082', '47806954),mim', '600678', 'cxcr2', 'cd182', 'cdw128b', 'cmkar2', 'il8r2', 'il8ra', 'il8rb', 'cxc', 'r2', 'cxcr-2', 'il8', 'gro', 'mgsa', 'il-8', 'il-8r', 'affinity', 'interleukin-8', '218125290', '218137253),mim', '146928', 'gapdh', 'glyceraldehyde-3-phosphate', 'g3pd', 'gapd', 's-162ep', 'ocas', 'p38', 'oct1', '38', 'age', '162ep', 'nitrosylase', '12p13.31,annotation', '6534517', '6538375),mim', '138400', 'cx3cr1', 'x3-c', 'ccrl1', 'cmkbrl1', 'cmkdr1', 'gpr13', 'gprv28', 'v28,it', 'cx3c', 'ckr-1', 'cmk', 'brl-1', 'brl1', 'fractalkine', '3p22.2,annotation', '39263494', '39281735', '601470', 'mir122', 'microrna', '122', 'mir122a', 'mirn122', 'mirn122a', 'hsa', 'mir-122', 'mirna122', 'mirna122a', 'mir-122,it', 'mir-122a', '122a', '18q21.31,annotation', '58451074', '58451158),mim', '609582', 'cd24', 'cd24a', 'lung', 'antigen),chromosome', '6q21,annotation', '106969831', '106976855', '600074', 'havcr2', 'hepatitis', 'virus', 'cellular', 'cd366', 'havcr-2', 'kim-3', 'tim3', 'timd-3', 'timd3', 'tim-3,it', 'mucin', 'kidney', 'injury', 'molecule-3,chromosome', '5q33.3,annotation', '157085832', '157109237', '606652', 'nes', 'nestin', 'nbla00170,it', '1q23.1,annotation', '156668763', '156677397', '600915', 'uchl1', 'ubiquitin', 'hydrolase', 'l1', 'hel-117', 's-53', 'ndgoa', 'park5', 'pgp', '9.5', 'pgp9.5', 'pgp95', 'spg79', 'uch', 'l1,it', 'carboxyl', 'isozyme', '117', 'neuron', 'cytoplasmic', 'esterase', 'thiolesterase', 'thioesterase', '4p13,annotation', '41256881', '41268429),mim', '191342', 'ctsd', 'cathepsin', 'cln10', 'cpsd', 's-130p', 'ceroid', 'lipofuscinosis', '130p', 'lysosomal', 'aspartyl', '1752752', '1763992', '116840', 'saa1', 'serum', 'amyloid', 'pig4', 'saa', 'saa2', 'tp53i4,it', 'p53', '11p15.1,annotation', '18266225', '18269977),mim', '104750', 'hsd11b1', 'hydroxysteroid', '11-beta', '11-dh', 'hsd1', 'cortrd2', 'hdl', 'hsd11', 'hsd11b', 'hsd11l', 'sdr26c1,it', 'corticosteroid', 'reductase', '26c', '1q32.2,annotation', '209686180', '209734950),mim', '600713', 'serpinb5', 'pi5', 'maspin', 'b5', 'pi-5', 'ovalbumin', '5,chromosome', '63476911', '63505085),mim', '154790', 'defb4a', 'defensin', '4a', 'bd-2', 'defb-2', 'defb102', 'defb2', 'defb4', 'hbd-2', 'sap1,it', 'defensin-2', 'skin', '8p23.1,annotation', '7894565', '7896716),mim', '602215', 'hotair', 'hox', 'antisense', 'rna', 'hoxas', 'hoxc', 'as4', 'hoxc11-as1', 'ncrna00072,it', 'coding', 'intergenic', '53962308', '53974956', '611400', 'angpt1', 'angiopoietin', 'agp1', 'agpt', 'ang1,it', 'angiopoietin-1', 'ang-1,chromosome', '8q23.1,annotation', '107249482', '107498055', '601667', 'cd38', 'adprc', 'adprc1,it', 'adp', 'ribosyl', 'cyclase', 'ribose', \"2'-phospho\", 'p45', 'nad(+', 'nucleosidase', 'ecto', 'nicotinamide', 'adenine', 'dinucleotide', 'glycohydrolase', '4p15.32,annotation', '15778265', '15853243),mim', '107270', 'pappa', 'pappalysin', 'asbabp2', 'dipla1', 'igfbp-4ase', 'papa', 'papp', 'pappalysin-1', 'igfbp-4', 'aspecific', 'are', 'differentially', 'placenta', 'protein-4', 'pregnancy', 'plasma', '9q33.1,annotation', '116153752', '116402321),mim', '176385', 'fkbp5', 'aig61', 'fkbp54', 'p54', 'ptg-10', 'fkbp5,it', 'trans', '51', '54', 'progesterone', 'immunophilin', 'ff1', 'fkbp-51', 'hsp90-bind', 'fk506-binding', '6p21.31,annotation', '35573585', '35728583', '602623', 'breakpoint', 'recombination', 'philadelphia', '9q34.1,annotation', '130710129', '130854140', 'fgf21', '21,chromosome', '19q13.33,annotation', '48755559', '48758330),mim', '609436', 'il7r', 'cd127', 'cdw127', 'il-7r', 'alphaa', 'ilra', 'interleukin-7', 'il-7', 'h5', '5p13.2,annotation', '35856849', '35879603),mim', '146661', 'ada', 'aminohydrolase', '20q13.12,annotation', '44619519', '44651758', '608958', 'tlr7', 'tlr7-like', 'xp22.2,annotation', '12867083', '12890361),mim', '300365', 'tbp', 'tata', 'gtf2d', 'gtf2d1', 'hdl4', 'sca17', 'tfiid', 'initiation', '6q27,annotation', '170554333', '170572870),mim', '600075', 'crhr1', 'corticotropin', 'release', 'crf', 'r', 'r-1', 'r1', 'crf1', 'crfr-1', 'crfr1', 'crh', 'crhrl', 'crhr1,it', '45784280', '45835828),mim', '122561', 'prkce', 'epsilon', 'pkce', 'npkc', '45651315', '46187990),mim', '176975', 'cr1', 'c3b', 'c4b', 'knops', 'blood', 'c3br', 'c4br', 'cd35', 'kn', 'c3-bind', '3b/4b', '207496128', '207641765),mim', '120620', 'lhcgr', 'luteiniz', 'choriogonadotropin', 'hhg', 'lcgr', 'lgr2', 'lh', 'cg', 'cgr', 'lhr', 'lhrhr', 'lsh', 'ulg5,it', 'lutropin', 'choriogonadotropic', 'hypergonadotropic', 'hypogonadism', '48686774', '48755741', '152790', 'csf2', 'colony', 'csf', 'gmcsf', 'granulocyte', 'molgramostin', 'sargramostim', '132073792', '132076170),mim', '138960', 'cdk9', 'c-2k', 'cdc2l4', 'ctk1', 'pitalre', 'tak', 'cdc2-related', '2-like', 'tat', '127785538', '127790782),mim', '603251', 'bmp7', 'morphogenetic', 'op-1,it', 'osteogenic', '20q13.31,annotation', '57168753', '57266651', '112267', 'gfap', 'glial', 'fibrillary', 'alxdrd', '44905626', '44915552', '137780', 'nr1h3', 'lxr', 'lxra', 'rld-1,it', 'oxysterol', '11p11.2,annotation', '47248300', '47269033),mim', '602423', 'enpp1', 'ectonucleotide', 'pyrophosphatase', 'phosphodiesterase', 'arhr2', 'coled', 'm6s1', 'npp1', 'npps', 'pc-1', 'pca1', 'pdnp1,it', 'npp', 'ly-41', 'alkaline', 'pc-1,chromosome', '6q23.2,annotation', '131808016', '131895155),mim', '173335', 'hdac3', 'histone', 'hd3', 'rpd3', '2,it', 'smap45,chromosome', '5q31.3,annotation', '141620876', '141636856', '605166', 'ptgs1', 'prostaglandin', 'endoperoxide', 'cox1', 'cox3', 'pcox1', 'pes-1', 'pgg', 'hs', 'pghs-1', 'pghs1', 'phs1', 'ptghs', 'pgh', 'cyclooxygenase-1', 'h2', 'cyclooxygenase),chromosome', '9q33.2,annotation', '122369906', '122395703),mim', '176805', 'slc19a1', 'chmd', 'folt', 'ifc-1', 'ifc1', 'refc', 'rfc', 'rfc1,it', 'folate', 'intestinal', 'placental', '21q22.3,annotation', '45502517', '45563140', '600424', 'sftpd', 'surfactant', 'colec7', 'psp', 'sftp4', 'pulmonary', 'collectin-7', 'apoprotein', '10q22.3,annotation', '79937740', '79982236', '178635', 'epor', 'erythropoietin', 'epo', '19p13.2,annotation', '11377205', '11384342', '133171', 'ptk2b', 'cadtk', 'cakb', 'fadk2', 'fak2', 'ptk', 'pyk2', 'raftk', '2-beta', 'cak', 'fadk', 'regulated', 'proline', 'focal', 'related', '8p21.2,annotation', '27311482', '27459391),mim', '601212', 'pmp22', 'peripheral', 'myelin', 'cidp', 'cmt1a', 'cmt1e', 'dss', 'gas-3', 'gas3', 'hmsnia', 'hnpp', 'sp110,it', 'arrest', '17p12,annotation', '15229777', '15265373', '601097', 'cyr61', 'angiogenic', 'inducer', '61', 'ccn1', 'gig1', 'igfbp10,it', 'ccn', 'ibp-10', 'igfbp-10', 'heparin', 'anigogenic', '10,chromosome', '1p22.3,annotation', '85580761', '85583967),mim', '602369', 'gata1', 'gata', 'eryf1', 'gata-1', 'gf-1', 'gf1', 'nf', 'nfe1', 'xlanp', 'xltda', 'xltt', 'erythroid', 'globin', 'gata1,chromosome', 'xp11.23,annotation', '48786540', '48794311),mim', '305371', 'stub1', 'stip1', 'homology', 'u', 'chip', 'hspabp2', 'ny', 'co-7', 'scar16', 'sdccag7', 'ubox1,it', 'e3', 'ligase', 'kw-8', 'ring', 'carboxy', 'terminus', 'hsp70-interact', 'serologically', 'define', '7,chromosome', '680111', '682768),mim', '607207', 'malat1', 'metastasis', 'hcn', 'linc00047', 'ncrna00047', 'neat2', 'pro2853,it', 'hepcarcin', '47', 'enrich', 'paraspeckle', 'assembly', 'coding),chromosome', '11q13.1,annotation', '65497738', '65506516),mim', '607924', 'cd55', 'cromer', 'chaple', 'cr', 'crom', 'daf', 'tc', 'decay', 'accelerate', 'accelerating', '207321472', '207360966),mim', '125240', 'stat5b', '5b', 'stat5,it', '42199177', '42288437', '604260', 'rack1', 'gnb2l1', 'gnb2-rs1', 'h12.3', 'hlc-7', 'pig21,it', 'proliferation', 'beta-2-like', '12.3', 'chicken', 'ribosomal', 'rack1,chromosome', '5q35.3,annotation', '181236928', '181243906', '176981', 'aifm1', 'mitochondrion', 'aif', 'cmt2d', 'cmtx4', 'cowck', 'coxpd6', 'dfnx5', 'nadmr', 'namsd', 'pdcd8,it', 'mitochondrial', 'program', 'striatal', 'xq26.1,annotation', '130129362', '130165887', '300169310490', 'mir221', '221', 'mirn221', 'mirna221', 'mir-221,it', 'mir-221,chromosome', 'xp11.3,annotation', '45746157', '45746266', '300568', 'stat4', 'sleb11,it', '2q32.2-q32.3,annotation', '191029576', '191172684', '600558', '.', 'ube2d1', 'conjugate', 'e2', 'd1', 'e2(17)kb1', 'sft', 'ubc4/5', 'ubch5', 'ubch5a', 'e3-independent', 'stimulator', 'transport', 'e2d', 'e2(17)kb', 'yeast', 'd1,chromosome', '58334979', '58370753),mim', '602961', 'wiskott', 'aldrich', 'syndrome', 'imd2', 'scnx', 'thc', 'thc1p', 'waspa', 'eczema', 'thrombocytopenia', 'linked),chromosome', '48683753', '48691427),mim', '300392', 'cldn1', 'claudin', 'cld1', 'ilvasc', 'semp1,it', 'claudin-1', 'senescence', '190305701', '190322446', '603718', 'foxl2', 'forkhead', 'l2', 'bpes', 'bpes1', 'pfrk', 'pinto', 'pof3,it', 'foxl2,chromosome', '3q22.3,annotation', '138944224', '138947140', '605597', 'ccna2', 'a2', 'ccna', '4q27,annotation', '121816444', '121824001', '123835', 'h19/igf2', 'imprint', 'human),and', 'h19-dmd', 'ic1', 'icr1', 'icr1-dmr', 'methylat', 'center', '1998745', '2003509),mim', '616186', 'itgb4', 'cd104', 'gp150,it', 'beta-4', '17q25.1,annotation', '75721328', '75757819),mim', '147557', 'reln', 'reelin', 'etl7', 'lis2', 'pro1598', 'rl', '103471784', '103989516', '600514', 'atp2a2', 'atpase', 'sarcoplasmic', 'endoplasmic', 'reticulum', 'ca2', '+', 'atp2b', 'dar', 'dd', 'serca2,it', 'ca++', 'cardiac', 'muscle', 'slow', 'twitch', 'muscle-2', 'sr', 'ca(2+)-atpase', 'pump', 'transporting', 'skeletal', 'ca(2', '12q24.11,annotation', '110281227', '110351093),mim', '108740', 'corticoliberin', '8q13.1,annotation', '66176377', '66178645', '122560', 'ang', 'angiogenin', 'als9', 'hel168', 'raa1', 'rnase4', 'rnase5,it', 'rnase', 'ribonuclease', '168', '14q11.2,annotation', '20684177', '20694186),mim', '105850', 'csf3', 'c17orf33os', 'gcsf', 'csf3,it', 'filgrastim', 'lenograstim', 'pluripoietin', '17q21.1,annotation', '40015361', '40017813),mim', '138970', 'tpo', 'thyroid', 'peroxidase', 'msa', 'tdh2a', 'tpx', 'thyroperoxidase', '2p25.3,annotation', '1413288', '1542727),mim', '606765', 'cd247', 'cd3-zeta', 'cd3h', 'cd3q', 'cd3z', 'imd25', 't3z', 'tcrz', 'cd3', 'zeta', 'tit3', 'cd3zeta', 't3', 'tcr', '1q24.2,annotation', '167430640', '167518610', '186780', 'hsd11b2', 'ame', 'ame1', 'hsd2', 'sdr9c3,it', '-hsd11', '11-dh2', '11-hsd', 'hsd', '9c', '67431133', '67437553),mim', '614232', 'alox15', 'arachidonate', '15-lipoxygenase', '12-lox', '15-lox', '15-lox-1', 'log15,it', '12/15-lipoxygenase', '15-lipooxygenase-1', '12-lipoxygenase', 'omega-6', 'lipoxygenase', '17p13.2,annotation', '4630919', '4641673', '152392', 'cfl1', 'cofilin', 'cfl', 's-15', 'cofilin-1', 'p18,chromosome', '65854811', '65858333', '601442', 'apol1', 'apo', 'apol', 'fsgs4,it', 'l1-b3,chromosome', '36253071', '36267531),mim', '603743', 'cryaa', 'crystallin', 'crya1', 'ctrct9', 'hspb4,it', 'crya1),chromosome', '43169008', '43172810),mim', '123580', 'csf1r', 'fms', 'cd115', 'csf-1r', 'csfr', 'fim2', 'hdls', 'csf-1', 'mcdonough', 'feline', '150053291', '150113372', '164770', 'hnrnpa1', 'heterogeneous', 'ribonucleoprotein', 'als20', 'hnrpa1', 'hnrpa1l3', 'ibmpfd3', 'up', 'hnrnp', 'a1,it', 'destabilize', 'a1b', 'a1-like', 'particle', 'single', 'strand', 'up1', '54280690', '54287088),mim', '164017', 'mx1', 'mx', 'dynamin', 'ifi-78', 'ifi78', 'mxa', 'interferon', 'p78', 'myxoma', 'myxovirus', 'influenza', 'p78,chromosome', '41420329', '41459214),mim', '147150', 'scn9a', 'sodium', 'voltage', 'gate', 'channel', 'etha', 'feb3b', 'gefsp7', 'hsan2d', 'ne', 'na', 'nena', 'nav1.7', 'pn1', 'sfnp', 'hne', 'neuroendocrine', 'ix', 'nav1.7,chromosome', '2q24.3,annotation', '166195185', '166375987', '603415', 'add1', 'adducin', 'adda', 'erythrocyte', '4p16.3,annotation', '2843857', '2930076),mim', '102680', 'arms2', 'maculopathy', 'susceptibility', 'armd8,it', '10q26.13,annotation', '122454653', '122457352),mim', '611313', 'cd9', 'btcc-1', 'drap-27', 'mic3', 'mrp-1', 'tspan-29', 'tspan29,it', '5h9', 'ba-2/p24', 'p24', 'motility', 'tetraspanin-29,chromosome', '6199707', '6238271),mim', '143030', 'vtn', 'vitronectin', 'v75', 'vn', 'vnt', 'epibolin', 'spread', 'somatomedin', '28367277', '28370352', '193190', 'tlr5', 'melios', 'sle1', 'sleb1', 'til3,it', 'systemic', 'lupus', 'erythematosus', '1q41,annotation', '223108401', '223143282', '603031', 'fcgr3b', 'fc', 'igg', 'cd16', 'cd16a', 'cd16b', 'fcg3', 'fcgr3', 'fcgr3a', 'fcr-10', 'fcriii', 'fcriiib', 'gamma', 'cd', 'riii', 'riiib', 'iii-1,chromosome', '1q23.3,annotation', '161623196', '161631963', '610665', 'serpina3', 'aact', 'act', 'gig24', 'gig25,it', 'alpha-1-antichymotrypsin', '24/25', '24', '25', '94612377', '94624053),mim', '107280', 'tymp', 'thymidine', 'phosphorylase', 'ecgf', 'ecgf1', 'medps1', 'mngie', 'mtdps1', 'pdecgf', 'tp', 'hpd', 'gliostatin', 'tdrpase', '22q13.33,annotation', '50525752', '50530085', '131222', 'map1lc3a', 'light', 'atg8e', 'lc3', 'lc3a', 'map1alc3', 'map1blc3,it', 'map1', '3-like', 'map1a/1b', 'map1a', 'map1b', 'autophagy', 'modifi', '34546823', '34560345),mim', '601242', 'xrcc4', 'ssmed', '5q14.2,annotation', '83077409', '83370333),mim', '194363', 'nod1', 'oligomerization', 'card4', 'clr7.1', 'nlrc1,it', 'nlr', 'card', 'recruitment', '7p14.3,annotation', '30424527', '30478866', '605980', 'psen2', 'presenilin', 'ad3l', 'ad4', 'cmd1v', 'ps2', 'stm2,it', 'presenilin-2', 'ad3lp', 'ad5', 'alzheimer', 'disease', 'e5', 'ps-2', 'stm-2,chromosome', '1q42.13,annotation', '226870572', '226903829),mim', '600759', 'cd86', 'b7', 'b7.2', 'b70', 'cd28lg2', 'lab72,it', 'bu63', 'cd28', 'ctla-4', 'counter', 'fun-1,chromosome', '122055362', '122121143),mim', '601020', 'tsg101', '101', 'tsg10', 'vps23,it', 'escrt', '18480311', '18526956', '601387', 'rasa1', 'cm', 'avm', 'cmavm', 'pkws', 'rasa', 'rasgap', 'p120', 'p120gap', 'p120rasgap', 'triphosphatase', '5q14.3,annotation', '87267845', '87391926),mim', '139150', 'nox1', 'nadph', 'gp91', 'mox1', 'noh-1', 'noh1,it', 'nadh', 'mitogenic', 'p65-mox', 'homolog-1', 'pyridine', 'superoxide', 'generate', 'xq22.1,annotation', '100843324', '100874345', '300225', 'hnrnpk', 'auks', 'csbp', 'hnrpk', 'tunp', 'dc', 'stretch', 'upregulated', '9q21.32,annotation', '83968083', '83980782', '600712', 'atf4', 'creb-2', 'creb2', 'taxreb67', 'txreb', 'atf-4', 'tax', 'b67', '67,chromosome', '39514494', '39522686),mim', '604064', 'csk', 'src', 'cyl', '74782084', '74803198),mim', '124095', 'ywhae', '3-monooxygenase', '3e', 'hel2', 'kcip-1', 'mdcr', 'mds', 'import', 'stimulation', '3/tryptophan', '-monooxygenase', '17p13.3,annotation', '1344539', '1400262', '605066', 'tubb3', 'tubulin', 'cdcbm', 'cdcbm1', 'cfeom3', 'cfeom3a', 'feom3', 'tubb4', 'beta-4,it', '16q24.3,annotation', '89922009', '89936097),mim', '602661', 'lef1', 'lymphoid', 'lef-1', 'tcf10', 'tcf1alpha', 'tcf7l3,it', '1-alpha', 'tcf1-alpha', '4q25,annotation', '108047545', '108168956', '153245', 'tcf4', 'fecd3', 'itf-2', 'itf2', 'pths', 'sef-2', 'sef2', '1d', 'bhlhb19,it', '18q21.2,annotation', '55222331', '55635993', '602272', 'kpnb1', 'karyopherin', 'imb1', 'ipo1', 'ipob', 'impnb', 'ntf97,it', 'importin', 'ptac97', '90', 'p97', 'pore', '97', '47649838', '47683638),mim', '602738', 'chrna3', 'cholinergic', 'nicotinic', 'lncr2', 'nachra3', 'paod2,it', 'acetylcholine', 'alpha-3', 'alpha3', '15q25.1,annotation', '78593052', '78621295', '118503', 'il17f', '17f', 'candf6', 'il-17f', 'ml-1', 'ml1,it', 'interleukin-17f', 'cytokine', 'ml-1,chromosome', '6p12.2,annotation', '52236681', '52245689', '606496', 'optn', 'optineurin', 'als12', 'fip2', 'glc1e', 'hip7', 'hypl', 'nrp', 'tfiiia', 'intp', '14.7k', 'fip-2', 'hip-7', 'huntingtin', 'partner', 'nemo', 'optic', 'neuropathy', 'transcrption', 'zipper', '13100082', '13138276),mim', '602432', 'bcar1', 'cas', 'scaffold', 'cas1', 'cass1', 'crkas', 'p130cas', 'breast', 'scaffolding', 'crk', 'substrate', '16q23.1,annotation', '75228187', '75268053', '602941', 'avpr2', 'arginine', 'vasopressin', 'di1', 'dir', 'dir3', 'ndi', 'v2r', 'v2', 'avpr', 'antidiuretic', 'renal', 'xq28,annotation', '153902531', '153907166),mim', '300538', 'gas6', 'axllg', 'axsf', 'axl', 'stimulatory', '13q34,annotation', '113820549', '113864103', '600441', 'chido', 'c4b112', 'c4b2', 'c4b3', 'c4b5', 'c4bd', 'c4b_2', 'c4f', 'ch', 'co4', 'cpamd3', 'c4-b', 'c3', 'pzp', 'alpha-2-macroglobulin', 'c4', 'c4b1a', '4b', 'group),chromosome', '32014795', '32035418),mim', '120820', 'muc4', 'asgp', 'hsa276359', 'muc-4,it', 'mucin-4', 'ascite', 'sialoglycoprotein', 'tracheobronchial', 'pancreatic', 'testis', '3q29,annotation', '195746765', '195811973', '158372', 'muc2', 'oligomeric', 'mucus', 'gel', 'forming', 'mlp', 'muc-2', 'smuc', 'mucin-2', 'tracheal', '1074875', '1110508),mim', '158370', 'glra1', 'glycine', 'hkpx1', 'sthe', '48', 'strychnine', '151822513', '151924836', '138491', 'arf6', 'ribosylation', '14q21.3,annotation', '49893018', '49897054),mim', '600464', 'ube2d3', 'd3', 'e2(17)kb3', 'ubch5c', 'd3,chromosome', '4q24,annotation', '102794383', '102868893', '602963', 'maob', 'monoamine', 'amine', '[', 'flavin', 'containing', ']', 'mao', 'brain', 'adrenalin', 'tyramine', '43766610', '43882475', '309860', 'apoa4', 'a4', 'aiv', '11q23.3,annotation', '116820702', '116823295', '107690', 'polh', 'polymerase', 'eta', 'rad30', 'rad30a', 'xpv', 'direct', '43576141', '43620523),mim', '603968', 'nkx2', 'nk2', 'chng5', 'csx', 'csx1', 'hlhs2', 'nkx2.5', 'nkx2e', 'nkx4', 'vsd3,it', 'nkx-2.5', 'locus', 'nkx', 'nk-2', 'tinman', 'paralog', '5q35.1,annotation', '173232104', '173235321', '600584', 'sos1', 'sos', 'exchange', 'ggf1', 'gingf', 'hgf', 'ns4', 'sos-1,it', 'son', 'sevenless', 'gingival', 'fibromatosis', '2p22.1,annotation', '38981549', '39124959', '182530', 's1pr1', 'sphingosine-1-phosphate', 'cd363', 'chedg1', 'd1s3362', 'edg-1', 'edg1', 's1p1,it', 'sphingosine', '1-phosphate', 's1p', 'sphingolipid', 'edg-1,chromosome', '1p21.2,annotation', '101236749', '101241520),mim', '601974', 'ldha', 'lactate', 'gsd11', 's-133p', 'ldhm', 'pig19,it', 'ldh', '133p', 'ren-59,chromosome', '18394389', '18408218),mim', '150000', 'ifngr1', 'cd119', 'ifngr', 'imd27a', 'imd27b', 'avp', 'cdw119', 'ifn', 'antiviral', 'immune', '6q23.3,annotation', '137197484', '137220351', '107470', 'ddb1', 'damage', 'ddba', 'uv', 'xap1', 'xpce', 'xpe', 'bf', 'ddb', 'p127', 'hbv', 'xap-1', '127kda', '11q12.2,annotation', '61299447', '61333212', '600045', 'scgb1a1', 'secretoglobin', 'cc10', 'cc16', 'ccpbp', 'ccsp', 'ugb', 'up-1', 'up1,it', 'uteroglobin', 'blastokinin', 'clara', 'phospholipid', 'urine', '11q12.3,annotation', '62419035', '62423206),mim', '192020', 'tcf3', 'agm8', 'e2a', 'e47', 'itf1', 'tcf-3', 'vdir', 'bhlhb21', 'p75,it', 'e2-alpha', 'nol1-tcf3', 'vdr', 'repressor', 'he47', 'kappa', 'e2-bind', 'negative', 'vitamin', 'e12/e47', 'itf-1', '19p13.3,annotation', '1609284', '1652546', '147141', 'cdc20', 'cdc20a', 'ba276h19.3', 'p55cdc', '43358955', '43363203),mim', '603618', 'lcat', 'lecithin', 'cholesterol', 'acyltransferase', 'phosphatidylcholine', 'sterol', '--', 'o', '24,chromosome', '67939884', '67944112', '606967', 'loxl1', 'lysyl', 'lol', 'loxl', '73926458', '73952141),mim', '153456', 'faah', 'amide', 'faah-1', 'psab', 'anandamide', 'amidohydrolase', 'oleamide', '1p33,annotation', '46394267', '46413848),mim', '602935', 'nt5e', \"5'-nucleotidase\", 'calja', 'cd73', 'e5nt', 'nt', 'nt5', 'nte', 'en', 'ent', \"5'-nt\", 'purine', '5-prime', 'nucleotidase', \"ecto-5'-nucleotidase\", '6q14.3,annotation', '85449584', '85495791),mim', '129190', 'atxn2', 'ataxin', 'atx2', 'sca2', 'tnrc13,it', 'ataxin-2', 'spinocerebellar', 'ataxia', 'trinucleotide', '12q24.12,annotation', '111452214', '111599676', '601517', 'scnn1a', 'besc2', 'enaca', 'enacalpha', 'scnea', 'scnn1,it', 'amiloride', 'enac-2', 'enac', 'nach', 'na(+', 'nasal', 'nonvoltage', '6346843', '6377357', '600228', 'mir31', '31', 'mirn31', 'mir-31', 'mir-31,chromosome', '21512115', '21512185', '612155', 'cd2', 'cd2-dcr', 'dominant', 'lymphoctye', '1p13.1,annotation', '116769217', '116774826', 'alcam', 'cd166', 'memd', '3q13.11,annotation', '105366713', '105576913),mim', '601662', 'clcn1', 'chloride', 'clc1,it', 'clc-1,chromosome', '7q34,annotation', '143316126', '143352008),mim', '118425', 'eno1', 'enolase', 'eno1l1', 's-17', 'mpb1', 'nne', 'pph', '2-phospho', 'glycerate', 'hydro', 'neural', 'phosphopyruvate', 'hydratase', 'plasminogen', '1p36.23,annotation', '8861002', '8878686', '172430', 'padi4', 'deiminase', 'pad', 'pad4', 'padi5', 'pdi4', 'pdi5,it', 'type-4', 'hl-60', 'padi', '1p36.13,annotation', '17308195', '17364004),mim', '605347', 'prtn3', 'acpa', 'agp7', 'anca', 'canca', 'mbn', 'mbt', 'np-4', 'np4', 'p29', 'pr-3', 'pr3,it', 'myeloblastin', 'wegener', 'granulomatosis', 'autoantigen', 'azurophil', 'granule', 'neutrophil', 'wegen', '840965', '848175),mim', '177020', 'cops5', 'cop9', 'signalosome', 'csn5', 'jab1', 'mov-34', 'sgn5,it', 'mov34', 'photomorphogenic', '231m', '67043079', '67062327', '604850', 'capn1', 'calpain', 'canp', 'canp1', 'canpl1', 'spg76', 'mucanp', 'mucl', 'calpain-1', 'neutral', 'large', 'micromolar', '65181215', '65212006),mim', '114220', 'actn4', 'actinin', 'actinin-4', 'fsgs', 'fsgs1,it', 'segmental', 'glomerulosclerosis', '19q13.2,annotation', '38647616', '38730532),mim', '604638', 'rnasel', 'prca1', 'rns4,it', '5a', \"2',5'-oligoisoadenylate\", '1q25.3,annotation', '182573634', '182589285', '180435', 'gnrhr', 'gonadotropin', 'gnrhr1', 'grhr', 'hh7', 'lrhr', 'gnrh', 'leutiniz', 'horomone', 'leutinizing', 'luliberin', '4q13.2,annotation', '67737375', '67756086', '138850', 's100a7', 's100', 'a7', 'psor1c', 's100a7,it', 's100-a7', 'psoriasin', '153457744', '153460661', '600353', 'traf3', 'cap-1', 'cap1', 'cd40bp', 'craf1', 'iiae5', 'lap1', 'rnf118,it', 'cd40', 'lmp1-associated', 'traf3,chromosome', '14q32.32,annotation', '102777479', '102911500),mim', '601896', 'srf', 'mcm1,it', 'fos', 'minichromosome', 'maintenance', '43171295', '43181506),mim', '600589', 'slc1a2', 'eaat2', 'eiee41', 'glt-1', 'hbgt', 'excitatory', 'amino', 'excitotoxic', 'glutamate', 'aspartate', '35251205', '35420063', '600300', 'oxt', 'oxytocin', 'neurophysin', 'prepropeptide', 'ot', 'npi', 'prepro-', '20p13,annotation', '3068871', '3072517),mim', '167050', 'sp3', 'spr2,it', 'gc', 'specificity', '2q31.1,annotation', '173906459', '173965702', '601804', 'thra', 'ar7', 'chng6', 'ear7', 't-1', 'erba', 'erba1', 'nr1a11', 'thra2', 'erba-1', 'ear-7', 'normone', 'triiodothyronine', '40062193', '40093867),mim', '190120', 'pdia3', 'disulfide', 'er60', 'erp57', 'erp60', 'erp61', 'grp57', 'grp58', 's-269', 's-93n', 'hst17083', 'p58', 'plc', '58', 'glucose', '57', '60', 'er-60', 'resident', '269', '93n', '58kda', 'phospholipase', '15q15.3,annotation', '43746392', '43772606),mim', '602046', 'abcb4', 'abc21', 'gbd1', 'icp3', 'mdr2', 'mdr2/3', 'mdr3', 'pfic-3', 'pgy3,it', 'translocator', 'tap', 'p', 'glycoprotein-3/multiple', 'drug', 'resistance-3', '7q21.12,annotation', '87398988', '87476722', '171060', 'prmt5', 'hrmt1l5', 'ibp72', 'jbp1', 'skb1', 'skb1hs', '72', 'icln', 'hmt1', 'jak', 'shk1', '22920511', '22929585', '604045', 'cul3', 'cullin', 'cul-3', 'pha2e', 'cullin-3,chromosome', '2q36.2,annotation', '224470150', '224585397', '603136', 'mapk7', 'bmk1', 'erk4', 'erk5', 'prkm7,it', 'bmk-1', 'erk-5', 'mapk', 'big', '17p11.2,annotation', '19377721', '19383544),mim', '602521', 'slc7a5', '4f2lc', 'cd98', 'd16s469e', 'e16', 'lat1', 'mpe16,it', '4f2', 'integral', 'independent', 'cationic', 'y+', '16q24.2,annotation', '87830016', '87869499', '600182', 'sema3a', 'semaphorin', 'coll1', 'hh16', 'hsema', 'sema1', 'semad', 'semaiii', 'semal', 'semd', 'coll-1,it', 'semaphorin-3a', 'collapsin', 'sema', 'secrete', '83956846', '84515189', '603961', 'abcc6', 'abc34', 'ara', 'est349056', 'gaci2', 'mlp1', 'moat', 'moate', 'mrp6', 'pxe', 'pxe1', 'urg7,it', 'urg7', 'anthracycline', 'multi', 'organic', 'anion', '16149565', '16223617', '603234', 'cltc', 'clathrin', 'chc', 'chc17', 'clh-17l2', 'hc', 'mrd56', '17q23.1,annotation', '59619689', '59696956),mim', '118955', 'ccr3', 'ckr-3', 'cd193', 'ckr3', 'cmkbr3,it', 'ccr-3', 'eosinophil', 'eotaxin', '46210699', '46266706),mim', '601268', 'srebf2', 'srebp-2', 'srebp2', 'bhlhd2,it', '22q13.2,annotation', '41833079', '41907308),mim', '600481', 'egln1', 'egl-9', 'c1orf12', 'ecyt3', 'halah', 'hif', 'ph2', 'hifph2', 'hph-2', 'hph2', 'phd2', 'sm20', 'zmynd6,it', 'egl', 'nine', 'mynd', '1q42.2,annotation', '231363751', '231425044', '606425', 'cul4a', 'cullin-4a', 'cul-4a', '113208193', '113267108),mim', '603137', 'ppp1ca', 'pp-1a', 'pp1a', 'pp1alpha', 'ppp1a', 'pp1-alpha', '155,chromosome', '11q13.2,annotation', '67398181', '67401905', '176875', 'map2k4', 'jnkk', 'jnkk1', 'mapkk4', 'mek4', 'mkk4', 'prkmk4', 'sapkk-1', 'sapkk1', 'sek1', 'serk1', 'skk1,it', 'dual', 'erk', 'mapkk', 'mek', 'sapk', '12020818', '12143831),mim', '601335', 'pfn1', 'profilin', 'als18,it', 'profilin-1', '184a', '4945650', '4949088', '176610', 'alox5ap', '5-lipoxygenase', 'flap', 'mk-886-bind', '13q12.3,annotation', '30713478', '30764428),mim', '603700', 'ptbp1', 'polypyrimidine', 'tract', 'hnrnpi', 'hnrpi', 'ptb', 'ptb-1', 'ptb2', 'ptb3', 'ptb4', 'pptb', 'pptb-1', 'i),chromosome', '797392', '812327),mim', '600693', 'mir124', '124', 'mir124a', 'mir124a1', 'mirn124', 'mirn124a1', 'mir-124', '1,it', 'mir-124a-1', '124a-1,chromosome', '9903388', '9903472', '609327', 'fcer1a', 'ige', 'fce1a', 'fceri', 'ri', 'mast', '1q23.2,annotation', '159283888', '159308224),mim', '147140', 'lamp2', 'cd107b', 'lamp-2', 'lampb', 'lgp-96', 'lgp110,it', 'lysosome', 'cd107', 'xq24,annotation', '120426148', '120469349', '309060', 'ssb', 'sjogren', 'larp3', 'la', 'ss', 'sjoegren', '169798812', '169812064),mim', '109090', 'drb3', 'dr', 'dpb1', 'dr1b', 'dr3b', 'leucocyte', 'drb3,chromosome', '6p21.3,mim', '612735', 'ucp1', 'uncouple', 'slc25a7', 'ucp', 'brown', 'uncoupling', 'thermogenin', 'proton', 'carrier),chromosome', '4q31.1,annotation', '140555770', '140568914', '113730', 'txnrd1', 'grim-12', 'tr', 'tr1', 'trxr1', 'txnr', 'km-102-derived', 'with', 'retinoic', 'mortality', 'oxidoreductase', '46a', 'tr1,chromosome', '12q23.3,annotation', '104215779', '104350307),mim', '601112', 'hnrnpa2b1', 'a2/b1', 'hnrnpa2', 'hnrnpb1', 'hnrpa2', 'hnrpa2b1', 'hnrpb1', 'ibmpfd2', 'rnpa2', 'snrpb1,it', 'hnrnpa2b1/myc', 'b1', '7p15.2,annotation', '26189920', '26200793', '600124', 'nck1', 'nck', 'adaptor', 'nckalpha', 'nck-1,it', 'sh2/sh3', 'melanoma', '136862208', '136951610),mim', '600508', 'ttk', 'ct96', 'esk', 'mph1', 'mps1', 'mps1l1', 'pyt', '96', 'monopolar', 'spindle', '1-like', 'phosphotyrosine', 'pick', '6q14.1,annotation', '80004147', '80042651),mim', '604092', 'ptn', 'pleiotrophin', 'harp', 'gam', 'hbbm', 'hbgf-8', 'hbgf8', 'hbnf', 'hbnf-1', 'negf1', 'osf-1,it', 'affin', 'neurite', 'outgrowth', 'promote', '1),chromosome', '7q33,annotation', '137227341', '137343990', '162095', 'igfbp7', 'agm', 'fstl2', 'ibp-7', 'igfbp-7', 'igfbp-7v', 'igfbprp1', 'mac25', 'psf', 'ramsvps', 'taf', 'igfbp', 'rp1', 'pgi2-stimulating', 'angiomodulin', 'prostacyclin', '4q12,annotation', '57031071', '57110385', '602867', 'foxc2', 'c2', 'fkhl14', 'ld', 'mfh-1', 'mfh1,it', 'mfh-1,mesenchyme', 'mesenchyme', 'drosophila', 'fork', 'head', 'fkh-14,chromosome', '16q24.1,annotation', '86567251', '86568933),mim', '602402', 'actg1', 'actin', 'actg', 'dfna20', 'dfna26', 'hel-176,it', 'cytoskeletal', '176,chromosome', '17q25.3,annotation', '81509971', '81512866', '102560', 'igfbp5', 'ibp5,it', 'ibp-5', 'igfbp-5,chromosome', '216672105', '216695549', '146734', 'itpa', 'inosine', 'c20orf37', 'hlc14', '06-p', 'itpase', 'my049', 'ntpase', 'dj794i6.3,it', 'triphosphate', 'nucleoside', 'pyrophosphohydrolase', 'canonical', 'ntp', 'standard', 'diphosphatase', '3208868', '3227449),mim', '147520', 'defb103b', '103b', 'bd-3', 'defb-3', 'defb103', 'defb3', 'hbd-3', 'hbd3', 'hbp-3', 'hbp3,it', '7428888', '7430348', '606611', 'csf3r', 'cd114', 'gcsfr', 'scn7,it', 'granulocyte),chromosome', '1p34.3,annotation', '36466043', '36483314', '138971', 'cck', 'cholecystokinin', 'triacontatriapeptide', 'prepro', '3p22.1,annotation', '42257824', '42266195', '118440', 'acan', 'aggrecan', 'agc1', 'agcan', 'cspg1', 'cspgcp', 'msk16', 'sedk', 'ssoaod', 'cartilage', 'proteoglycan', 'chondroitin', 'sulfate', 'aggregate', '15q26.1,annotation', '88803442', '88875354),mim', '155760', 'pik3cb', 'phosphatidylinositol-4,5-bisphosphate', '3-kinase', 'p110beta', 'pi3', 'pi3kbeta', 'pik3c1,it', 'phosphatidylinositol', '4,5-bisphosphate', 'pi3-kinase', 'p110', 'pi3k', 'ptdins-3-kinase', '110', 'phosphoinositide-3-kinase', 'p110-beta', '138652698', '138834938', '602925', 'chrm2', 'muscarinic', 'hm2,it', 'm2', '7tm', '136868637', '137020255),mim', '118493', 'per3', 'period', 'circadian', 'fasps3', 'gig13,it', 'clock', 'hper3', '7784285', '7845181),mim', '603427', 'cldn4', 'cpe', 'cper', 'cpetr', 'cpetr1', 'wbscr8', 'hcpe', 'claudin-4', 'clostridium', 'perfringen', 'enterotoxin', 'williams', 'beuren', 'chromosomal', '7q11.23,annotation', '73830863', '73832693),mim', '602909', 'ccl17', 'a-152e5.3', 'abcd-2', 'scya17', 'tarc', 'cys', 'a17', 'thymus', '16q21,annotation', '57396076', '57416063),mim', '601520', 'itch', 'itchy', 'admfd', 'aif4', 'aip4', 'napp1,it', 'hect', 'nfe2-associat', 'atrophin-1', '34363235', '34511773),mim', '606409', 'efemp1', 'egf', 'fibulin', 'matrix', 'dhrd', 'drad', 'fbln3', 'fbnl', 'fibl-3', 'mlvt', 'mtlv', 's1', '5,it', 'fibulin-3,chromosome', '2p16.1,annotation', '55865962', '55924163', '601548', 'myo7a', 'myosin', 'viia', 'dfna11', 'dfnb2', 'myoviia', 'myu7a', 'nsrd2', 'ush1b', 'unconventional', 'usher', 'autosomal', 'recessive', 'severe)),chromosome', '11q13.5,annotation', '77128192', '77215241),mim', '276903', 'ctbp1', 'bars', 'haddts', 'brefeldin', 'ribosylat', '1211440', '1253919', '602618', 'stx1a', 'syntaxin', 'hpc-1', 'p35', 'stx1', 'syn1a', 'syntaxin-1a', 'brain),chromosome', '73699205', '73719687', '186590', 'glb1', 'galactosidase', 'ebp', 'elnr1', 'mps4b', 'elastin', '67kda', 'lactase', '3p22.3,annotation', '32996608', '33097230', '611458', 'prkcg', 'pkc', 'pkcc', 'pkcg', 'sca14,it', '19q13.42,annotation', '53882184', '53907647),mim', '176980', 'casp2', 'casp-2', 'ich1', 'nedd-2', 'nedd2', 'ppp1r57,it', 'caspase-2', 'precursor', 'developmentally', 'down', 'ich-1', '57,chromosome', '143288215', '143307696),mim', '600639', 'entpd1', 'ectonucleoside', 'diphosphohydrolase', 'atpdase', 'cd39', 'ntpdase-1', 'spg64,it', 'apyrase', '10q24.1,annotation', '95710901', '95877266),mim', '601752', 'mir148a', '148a', 'mirn148', 'mirn148a', 'mir-148', 'mir-148a', '148,chromosome', '25949919', '25949986', '613786', 'pawr', 'pro', 'wt1', 'par4', 'par-4,it', 'prkc', 'wt1-interact', 'prostate', 'par-4', 'response-4', 'par4,chromosome', '12q21.2,annotation', '79584874', '79691097', '601936', 'sumo2', 'hsmt3', 'smt3b', 'smt3h2', 'sumo3', 'smt3a', 'modifier', 'smt3', 'mif', 'two', 'sentrin', '75167730', '75183003', '603042', 'ephb4', 'eph', 'b4', 'hfasd', 'htk', 'myk1', 'tyro11,it', 'ephrin', 'tyro11', '100802565', '100827521', '600011', 'prkg1', 'cgmp', 'aat8', 'pkg', 'pkg1b', 'prkgr1b', 'cgk', 'cgk1', 'cgki', 'prkg1,it', '10q11.23-q21.1,annotation', '50991151', '52298350),mim', '176894', 'vegfd', 'figf', 'd),chromosome', '15345591', '15384413', '300091', 'nup98', 'nucleoporin', '98', 'adir2', 'nup196', 'nup96,it', 'nup98-nup96', 'glfg', 'nup98/phf23', '98kd', '98kda', '11p15.4,annotation', '3675010', '3797792', '601021', 'slit2', 'slit', 'guidance', 'slil3', 'slit-2,it', '4p15.31,annotation', '20251905', '20620561),mim', '603746', 'gad1', 'decarboxylase', 'cpsq1', 'gad', 'scp', '67', 'glutamic', 'gad-67', '170813210', '170861151),mim', '605363', 'ywhag', '3gamma', 'eiee56', 'ppp1r170,it', '170', '76326791', '76359025', '605356', 'stat2', 'imd44', 'isgf-3', 'p113', 'stat113,it', '113kda', '56341597', '56360253', '600556', 'cyp2j2', 'j', 'cpj2', 'cypiij2,it', '2j2', 'arachidonic', 'epoxygenase', 'iij', '1p32.1,annotation', '59893308', '59926798', '601258', 'mef2c', 'myocyte', '2c', 'c5delq14.3', 'del5q14.3,it', 'mads', '88718241', '88904105', '600662', 'ros1', 'ros', 'mcf3', 'ros-1,it', 'ro', 'ros-1', 'ur2', '6q22.1,annotation', '117287918', '117426065', '165020', 'irf7', 'imd39', 'irf-7', 'irf-7ha', 'irf7b', 'irf7c', 'irf7h', 'irf7,it', 'factor-7h', '612555', '615999', '605047', 'apom', 'g3a', 'hspc336', 'ng20', 'ng20-like', 'alternative', 'name', '31652410', '31658210),mim', '606907', 'agr2', 'anterior', 'gradient', 'disulphide', 'ag-2', 'ag2', 'gob-4', 'hag-2', 's-116', 'hpc8', 'pdia17', 'xag-2,it', '116', 'cement', 'gland', 'xag-2', '7p21.1,annotation', '16791811', '16805114', '606358', 'igh', 'igd1.1@', 'igh@', 'ighd@', 'ighdy1', 'ighj', 'ighj@', 'ighv', 'ighv@', 'diversity', 'join', 'immunglobulin', 'variable', '105586437', '106879844', '146910147010', '147070', 'dhx9', 'dexh', 'ddx9', 'lkp', 'ndh2', 'ndhii', 'rha', 'dead', 'asp', 'glu', 'ala', 'deah', 'leukophysin', '182839304', '182887982),mim', '603115', 'brip1', 'brca1', 'bach1', 'fancj', 'fanconi', 'anemia', 'brca1-associated', 'brca1-bind', 'brca1/brca2-associat', '17q23.2,annotation', '61679186', '61864120', '605882', 'mt', 'rnr1', 'mitochondrially', 'encode', '12s', 'mtrnr1', 'rnr1,mitochondrion', 'annotation', 'nc_012920.1', '648', '1601', 'rora', 'rar', 'orphan', 'nr1f1', 'ror1', 'ror2', 'ror3', 'rzr', 'rzra', 'ror', 'retinoid', '15q22.2,annotation', '60488284', '61229303', '600825', 'acvr1', 'activin', 'actria', 'acvrlk2', 'alk2', 'fop', 'skr1', 'tsri', 'acvr1,it', 'type-1', 'tgf', 'hydroxyalkyl', 'r1,chromosome', '2q24.1,annotation', '157736446', '157875896', '102576', 'prkaa2', 'ampk', 'ampk2', 'ampka2', 'prkaa', \"5'-amp\", 'acaca', 'hmgcr', 'acetyl', 'coa', 'carboxylase', 'hydroxymethylglutaryl', '1p32.2,annotation', '56645317', '56715335),mim', '600497', 'acadm', 'acyl', 'medium', 'acad1', 'mcad', 'mcadh', 'c-4', 'c-12', 'straight', 'coenzyme', '1p31.1,annotation', '75724347', '75763679),mim', '607008', 'rag1', 'rag-1', 'rnf74,it', 'v(d)j', '74', '11p12,annotation', '36510366', '36579762),mim', '179615', 'trb', 'tcrb@', 'tcrb', 'trb@,chromosome', '142299011', '142813287', 'azgp1', 'alpha-2-glycoprotein', 'za2', 'zag', 'zn', 'alpha2-glycoprotein', '227', 'alpha-2-gp', '99966727', '99976112', '194460', 'gabra1', 'aminobutyric', 'eca4', 'eiee19', 'ejm', 'ejm5,it', 'gaba(a', 'gaba', '5q34,annotation', '161847191', '161899959),mim', '137160', 'wee1', 'wee1ahu', 'wee1,it', 'wee1-like', 'wee1a', '9573681', '9589767),mim', '193525', 'rab7a', 'pro2706', 'rab7,it', 'rab-7a', 'rab7', 'rab7,chromosome', '3q21.3,annotation', '128726136', '128814798),mim', '602298', 'wif1', 'wif-1,it', '12q14.3,annotation', '65050624', '65121566', '605186', 'sh2d1a', 'sh2', 'dshp', 'ebvs', 'imd5', 'lyp', 'mtcp1', 'sap', 'xlp', 'xlpd', 'xlpd1,it', 'duncan', 'sh2-protein', 'slam', 'transduction', 'lymphocytic', 'xq25,annotation', '124346282', '124373160),mim', '300490', 'fech', 'ferrochelatase', 'epp', 'fce', 'protoheme', 'ferro', 'protoporphyria', '57544841', '57586737', '612386', 'apobec3b', '3b', 'a3b', 'apobec1l', 'arcd3', 'arp4', 'dj742c19.2', 'phrbnl', 'bk150c2.2,it', 'apobec-3b', 'phorbolin-1-related', 'phorbolin-2/3', 'probable', '38982399', '38992779),mim', '607110', 'nedd9', 'cas2', 'casl', 'cass2', 'hef1,it', 'filamentation', 'p55', 'docking', 'ren-12,chromosome', '6p24.2,annotation', '11183298', '11382348', '602265', 'lmnb1', 'lamin', 'adld', 'lmn', 'lmn2', 'lmnb', 'b1,chromosome', '5q23.2,annotation', '126776623', '126837020),mim', '150340', 'ube2c', 'ubch10', 'dj447f3.2,it', 'selective', 'mitotic', 'e2c', '45812576', '45816957),mim', '605574', 'adra1a', 'adra1c', 'adra1l1', 'alpha1aar', 'alpha-1a', 'alpha-1a-', 'alpha-1c', '26738113', '26870994', '104221', 'lmo2', 'lim', 'only', 'lmo-2', 'rbtn2', 'rbtnl1', 'rhom2', 'ttg2,it', 'rhombotin-2', 'translocation', 'ttg-2', 'rhombotin', '33858576', '33892289', '180385', 'cd19', 'cvid3,it', 'leu-12', 'cd19,chromosome', '16p11.2,annotation', '28931735', '28939347),mim', '107265', 'pepd', 'prolidase', 'xaa', 'dipeptidase', 'aminoacyl', 'imidodipeptidase', '138,chromosome', '19q13.11,annotation', '33386949', '33521893', '613230', 'ptpn2', 'ptn2', 'ptpt', 'ptp', 'tcellptp', 'tcptp', '18p11.21,annotation', '12785478', '12884351', '176887', 'camk2a', 'calmodulin', 'camka', 'camkiinalpha', 'mrd53,it', 'camk', '150219491', '150289840', '114078', 'krit1', 'ankyrin', 'ccm1,it', 'krev', 'interaction', 'trap', 'cerebral', 'cavernous', 'malformation', '7q21.2,annotation', '92198969', '92246100', '604214', 'pabpn1', 'poly(a', 'opmd', 'pab2', 'pabii', 'pabp-2', 'pabp2,it', 'polyadenylate', '23320188', '23326185),mim', '602279', 'numa1', 'apparatus', 'nmp-22', 'numa', 'centrophilin', 'stabilize', 'protein-22', 'structural', '11q13.4,annotation', '72002864', '72080693', '164009', 'mir26a1', '26a-1', 'mir26a', 'mirn26a1', 'mir-26a-1,it', 'mir-26a-1,chromosome', '37969404', '37969480),mim', '612151', 'cdc6', 'cdc18l', 'hscdc18', 'hscdc6', 'mgors5,it', 'cdc6-related', 'cdc18-relat', 'p62(cdc6),chromosome', '40287878', '40303161),mim', '602627', 'sulf1', 'sulfatase', 'sulf-1,it', 'sulf-1', 'fp', '8q13.2-q13.3,annotation', '69466624', '69660912),mim', '610012', 'adora1', 'rdc7,it', '1q32.1,annotation', '203127705', '203167405),mim', '102775', 'cycs', 'somatic', 'cyc', 'hcs', 'thc4,it', '7p15.3,annotation', '25118651', '25125361', '123970', 'cyp3a4', 'clem', 'xrem', 'module', 'xrem),chromosome', '7,annotation', '99784132', '99796700', 'akr1b10', 'aldo', 'keto', 'b10', 'akr1b11', 'akr1b12', 'aldrln', 'arl-1', 'arl1', 'his', 'hsi', 'arp', 'si', 'aldose', 'b11', 'intestine', '134527592', '134541414),mim', '604707', 'dkc1', 'dyskerin', 'pseudouridine', 'cbf5', 'dkc', 'dkcx', 'nap57', 'nola4', 'xap101,it', 'aca', 'dyskeratosis', 'congenita', 'nopp140-associated', 'nucleolar', 'snornp', 'dkc1,chromosome', '154762742', '154777689),mim', '300126', 'flcn', 'folliculin', 'bhd', 'flcl', 'lesion', 'fibrofolliculoma', 'birt', 'hogg', 'dube', '17206946', '17237191', '607273', 'trpv6', 'transient', 'potential', 'cation', 'abp', 'zf', 'cat1', 'catl', 'ecac2', 'hsa277909', 'lp6728', 'zfab', 'alu', 'apical', '142871203', '142885745', '606680', 'pik3cd', 'apds', 'imd14', 'p110delta', 'p110d', 'pi3kdelta', '8/20', 'p37delta', 'p110-delta', '9629889', '9728925),mim', '602839', 'inppl1', 'inositol', 'polyphosphate', 'opsmd', 'ship2,it', '3,4,5-trisphosphate', '5-phosphatase', '51c', 'inppl-1', \"inositol-5'-phosphatase\", 'ship-2', '72223861', '72239147),mim', '600829', 's100a6', 'a6', '2a9', '5b10', 'cabp', 'cacy', 'pra', 's10a6,it', 's100-a6', 'mln', 'calcyclin', 'prolactin', '153534599', '153536241', '114110', 'mir20a', '20a', 'c13orf25', 'mir17hg', 'mir20', 'mirh1', 'mirhg1', 'mirn20', 'mirn20a', 'mir-20', 'mir-20a', 'mirna20a', 'host', '13q31.3,annotation', '91351065', '91351135),mim', '609420', 'tal1', 'tal', 'scl', 'tcl5', 'bhlha17', 'tal-1,it', 'stem', 'tal-1', '47216290', '47232389', '187040', 'gnai2', 'i2', 'gipb', 'h_luca15.1', 'h_luca16.1', 'gnai2,it', 'g(i', 'gi', 'adenylate', 'activity', '50226688', '50259354),mim', '139360', 'mapkapk2', 'mapkap', 'k2', 'mk-2', 'mk2,it', '206684912', '206734285),mim', '602006', 'gab1', 'grb2', 'grb2-associat', 'grb2-associated', 'binder', '2-associat', '4q31.21,annotation', '143336830', '143474565),mim', '604439', 'pcsk1', 'proprotein', 'subtilisin', 'kexin', 'bmiq12', 'nec1', 'pc1', 'pc3', 'spc3,it', 'prohormone', '5q15,annotation', '96390336', '96433281', '162150', 'kir2dl4', 'killer', 'tail', 'cd158d', 'g9p', 'kir-103as', 'kir-2dl4', 'kir103', 'kir103as', '2dl4', 'cd158', 'nk', '103as', '54803612', '54814517),mim', '604945', 'rhob', 'arh6', 'arhb', 'mst081', 'mstp081', 'rhoh6,it', 'h6', 'cdna', 'clone', '2p24.1,annotation', '20447071', '20449445),mim', '165370', 'kir2ds2', '183acti', 'cd158j', 'cd158b', 'kir-2ds2', 'nkat-5', 'nkat5', 'cl-49,it', '2ds2', '183', 'acti', 'natural', 'kir', 'k7a', 'cl-49,chromosome', '19q13.4,mim', '604953', 'foxe1', 'fkhl15', 'foxe2', 'hfkh4', 'hfkl5', 'nmtc4', 'titf2', 'ttf-2', 'ttf2,it', 'hnf-3/fork', '9q22.33,annotation', '97853255', '97856715),mim', '602617', 'smo', 'smoothen', 'frizzle', 'crjs', 'fzd11', 'gxh', 'gx', 'span', '129188872', '129213548),mim', '601500', 'chat', 'choline', 'acetyltransferase', 'choactase', 'cms1a', 'cms1a2', 'cms6,it', 'acetylase', '10q11.23,annotation', '49609095', '49665104),mim', '118490', 'ppp2r1a', 'aalpha', 'mrd36', 'pp2a', 'pp2aa', 'pp2aaalpha', 'pr65a', '2a', 'pr65-alpha', 'r1-alpha', 'formerly', 'pr', '19q13.41,annotation', '52189802', '52226425),mim', '605983', 'prph2', 'peripherin', 'aofmd', 'avmd', 'cacd2', 'ds', 'mdbs1', 'prph', 'rds', 'rp7', 'tspan22', 'rd2,it', 'peripherin-2', 'degeneration', 'photoreceptor', 'tetraspanin-22', 'tspan-22,chromosome', '42694509', '42723039', '179605', 'serpinb3', 'hst1196', 'scc', 'scca-1', 'scca', 'pd', 'scca1', 'ssca1', 't4-a', 'b3', '63655197', '63661963', '600517', 'fzr1', 'fizzy', 'cdc20c', 'fzr', 'fzr2', 'hcdh', 'hcdh1,it', 'cdc20-like', 'cdh1/hct1', '3506263', '3536757),mim', '603619', 'casp6', 'mch2,it', 'caspase-6', 'mch-2', '109688629', '109703473', '601532', 'cdc25b', '25b', '3786772', '3806121),mim', '116949', 'ube2n', 's-71', 'ubc13', 'ubchben', 'ubch', 'ben', 'ubch13,it', 'bendless', '71', 'e2n', '12q22,annotation', '93408312', '93442336', '603679', 'arntl', 'bmal1', 'bmal1c', 'jap3', 'mop3', 'pasd3', 'tic', 'bhlhe5,it', 'arnt', '50e', '11p15.3,annotation', '13276552', '13387268),mim', '602550', 'apoc2', 'cii', 'apoc', '44945982', '44949565),mim', '608083', 'xrcc2', 'fancu', '152646498', '152676165', '600375', 'prdx6', 'peroxiredoxin', '1-cys', 'aop2', 's-128', 'nsgpx', 'prx', 'aipla2', 'p29,it', 'peroxiredoxin-6', 'antioxidant', '128', '2d', 'page', 'spot', 'selenium', 'red', '12,chromosome', '1q25.1,annotation', '173477347', '173488807),mim', '602316', 'ass1', 'argininosuccinate', 'ass', 'ctln1,it', 'citrulline', '130444707', '130501274),mim', '603470', 'mir181a1', '181a-1', 'mir213', 'mirn181a1', 'mirn213', 'mir-181a-1', 'mir-213,it', 'mir-213', '213,chromosome', '198859044', '198859153', '612742', 'proz', 'z', 'pz', '113155864', '113172386),mim', '176895', 'rad52', 'rhabdomyosarcoma', 'rms-40.23,chromosome', '12p13.33,annotation', '911028', '991195', '600392', 'nr0b2', '0', 'shp', 'shp1,it', 'heterodimer', '1p36.11,annotation', '26911484', '26914110', '604630', 'ulk1', 'unc-51', 'atg1', 'atg1a', 'unc51', 'unc51.1', 'hatg1,it', '12q24.33,annotation', '131894734', '131923162),mim', '603168', 'prame', 'preferentially', 'ct130', 'mape', 'oip-4', 'oip4,it', 'opa', 'oip4', '130', '22q11.22,annotation', '22547696', '22559361', '606021', 'dnase1', 'deoxyribonuclease', 'dnl1', 'drni', 'deoxyribonuclease-1', 'dnase', 'dornase', 'alfa', '3611737', '3665472),mim', '125505', 'gpi', 'glucose-6-phosphate', 'amf', 'gnpi', 'nlk', 'pgi', 'phi', 'sa-36', 'sa36,it', 'autocrine', 'hexose', 'monophosphate', 'hexosephosphate', 'neuroleukin', 'oxoisomerase', 'phosphoglucose', 'phosphohexomutase', 'phosphohexose', 'phosphosaccharomutase', 'antigen-36,chromosome', '34353330', '34402413),mim', '172400', 'map1lc3b', 'atg8f', 'lc3b', 'map1a/1blc3-a', '87392195', '87404774),mim', '609604', 'opsin', 'lcr', 'opn1c', 'cone', 'opn1lw', 'opn1mw', 'green', 'pigment', '154137727', '154144286),mim', '300824', 'hax1', 'hcls1', 'x-1', 'hclsbp1', 'hs1bp1', 'scn3,it', 'hcls1-associat', 'hax-1', 'pkd2', 'hs1', 'hs1-associat', 'hs1-bind', 'hsp1bp-1,chromosome', '154272563', '154275875),mim', '605998', 'fhl1', 'four', 'half', 'fcmsu', 'fhl-1a', 'fhl1b', 'flh1a', 'kyot', 'rbmx1a', 'rbmx1b', 'slim', 'slim-1', 'slim1', 'slimmer', 'xmpma', 'fhl1,it', 'lin11', 'isl-1', 'mec-3', 'xq26.3,annotation', '136146702', '136211359),mim', '300163', 'calb2', 'calbindin', 'cab29', 'cal2', 'calretinin', '29kd', 'd29', '8,chromosome', '16q22.2,annotation', '71358713', '71390438),mim', '114051', 'bub1', 'bub1al', 'hbub1', 'bub1,it', 'bud', 'uninhibited', 'by', 'benzimidazole', '2q13,annotation', '110637698', '110678107', '602452', 'atp13a2', '13a2', 'cln12', 'hsa9947', 'krppd', 'park9', 'spg78,it', '13a2,chromosome', '16985958', '17011972', '610513', 'polk', 'dinb1', 'dinp', 'polq', '5q13.3,annotation', '75511308', '75605820),mim', '605650', 'lcp2', 'slp-76', 'slp76,it', '76', '170246233', '170297842', '601603', 'cda', '20588951', '20618908),mim', '123920', 'gypa', 'glycophorin', 'mns', 'cd235a', 'gpa', 'gperik', 'gpsat', 'hgpmiv', 'hgpmixi', 'hgpsta(c', 'mn', 'pas-2,it', 'mi', 'aa', 'lineage', 'erik', 'mii', 'miv', 'sat', 'sta', 'recombinant', 'miltenberger', '144109303', '144140854', '617922', 'ctsc', 'cppi', 'dpp1', 'dppi', 'hms', 'jp', 'jpd', 'pals', 'pdon1', 'pls', 'dipeptidyl', '11q14.2,annotation', '88293592', '88337787', '602365', 'limk1', 'limk', 'limk-1,it', '74083777', '74122525),mim', '601329', 'dsg1', 'desmoglein', 'cdhf4', 'dg1', 'dsg', 'epkhe', 'epkhia', 'ppks1', 'sppk1,it', 'desmoglein-1', 'desmosomal', 'pemphigus', 'foliaceus', '31318089', '31359246),mim', '125670', 'kcnh1', 'potassium', 'eag', 'eag1', 'kv10.1', 'tmbts', 'zls1', 'heag1,it', 'ether', 'go', 'kv10.1,chromosome', '210678314', '211134115', '603305', 'gstm3', 'gst5', 'gstb-3', 'gtm3', 'gstm3,it', 'm3', 'mu-3', 'hgstm3', '109733932', '109741038', '138390', 'cntnap2', 'contactin', 'auts15', 'caspr2', 'cdfe', 'nrxn4', 'pthsl1,it', 'recognition', 'neurexin', '7q35-q36.1,annotation', '146116207', '148420998),mim', '604569', 'abcc3', 'abc31', 'est90757', 'mlp2', 'mrp3', 'cmoat2,it', 'canalicular', 'multispecific', 'canicular', '17q21.33,annotation', '50634843', '50691704),mim', '604323', 'bcl3', 'bcl4', 'd19s37,it', '3-encod', 'bcl-3', 'lymphatic', 'bcl3,chromosome', '44742620', '44760044),mim', '109560', 'hcfc1', 'c1', 'cff', 'hcf', 'hcf-1', 'hcf1', 'hfc1', 'mrx3', 'ppp1r89', 'vcaf', 'vp16-accessory', '89,chromosome', '153947556', '153972360', '300019', 'chrnb4', '78623282', '78655586', '118509', 'nkx3', 'nk3', 'bapx2', 'nkx3.1', 'nkx3a', 'nkx-3.1', 'nk-3', '23678693', '23682937', '602041', 'psmb8', 'proteasome', 'aldd', 'd6s216', 'd6s216e', 'jmp', 'lmp7', 'nkjo', 'psmb5i', 'ring10,it', 'type-8', 'weight', 'macropain', 'c13', 'multicatalytic', 'endopeptidase', 'prosome', 'multifunctional', '3i', 'y2', '5i', 'really', 'interesting', 'new', '32840717', '32844935', '177046', 'gclc', 'gcl', 'gcs', 'glcl', 'glclc', 'ecs', 'glutamylcysteine', '6p12.1,annotation', '53497341', '53545129', '606857', 'proximal', '15,annotation', '74723795', '74727365', 'suz12', 'polycomb', 'repressive', 'chet9', 'jjaz1,it', 'chet', 'chromatin', 'precipitate', 'jazf1', 'zeste', '31937010', '32001045),mim', '606245', 'ptgir', 'ip', 'pripr', 'pgi2', 'prostanoid', '46610040', '46625097', '600022', 'rpa2', 'replication', 'repa2', 'rp', 'p32', 'rpa32,it', '32', 'rf', '34', '1p35.3,annotation', '27891524', '27914797', '179836', 'cblb', 'cbl', 'nbla00127', 'rnf56,it', 'ecotropic', 'retroviral', '56', 'sh3-binding', 'casita', '105655461', '105869552', '604491', 'mir142', '142', 'mirn142', 'mir-142,it', 'mir-142,chromosome', '17q22,annotation', '58331232', '58331318', '615657', 'npsr1', 'asrt2', 'gpr154', 'gpra', 'npsr', 'pgr14', 'vrr1,it', '154', 'asthma', '34658239', '34878332),mim', '608595', 'ddr2', 'discoidin', 'mig20a', 'ntrkr3', 'tkt', 'tyro10,it', 'cd167', 'hydroxyaryl', 'neurotrophic', 'tyro10,chromosome', '162631265', '162786573),mim', '191311', 'med1', 'mediator', 'crsp1', 'crsp200', 'drip205', 'drip230', 'pbp', 'pparbp', 'ppargbp', 'rb18a', 'trap220', 'trip2,it', 'arc205', 'ppar', 'pparg', 'trip-2', 'recruit', 'cofactor', '205', 'peroxisome', 'proliferator', '220', '230', 'drip205,chromosome', '17q12,annotation', '39404285', '39451281', '604311', 'rrm2', 'ribonucleotide', 'rr2', 'rr2m', 'ribonucleoside', 'diphosphate', '10122568', '10131419),mim', '180390', 'trap1', 'hsp', '75', 'hsp75', 'hsp90l', 'trap-1,it', 'tnfr', '209', '3658037', '3717597', '606219', 'ptk6', 'brk', '20q13.33,annotation', '63528413', '63537370', '602004', 'rptor', 'kog1', 'mip1,it', 'tor)-scaffold', 'wd', 'raptor', '80544825', '80966373),mim', '607130', 'slc4a4', 'hnbc1', 'knbc', 'nbc1', 'nbc2', 'nbce1-a', 'slc4a5', 'hhnmc', 'knbc1', 'pnbc', 'electrogenic', 'bicarbonate', 'cotransporter', 'na(+)/hco3(-', 'pancreas', '4q13.3,annotation', '71062646', '71572087),mim', '603345', 'mapk11', 'p38b', 'p38beta2', 'prkm11', 'sapk2', 'sapk2b', 'p38beta', 'kinase-2', 'kinase-2b', '50263713', '50270393', '602898', 'tnfrsf12a', '12a', 'cd266', 'fn14', 'tweakr', 'fgf', 'immediate', 'tweak', 'fn14,chromosome', '3020312', '3022383),mim', '605914', 'epm2a', 'laforin', 'glucan', 'epm2', 'melf', 'lafptpase', 'epilepsy', 'progressive', 'myoclonus', 'lafora', 'ptpase', '6q24.3,annotation', '145382540', '145736021', '607566', 'hspb8', 'cmt2l', 'dhmn2', 'e2ig1', 'h11', 'hmn2', 'hmn2a', 'hsp22,it', 'beta-8', 'e2-induc', '22kda', '27kda', 'hsp22,chromosome', '12q24.23,annotation', '119178790', '119194746),mim', '608014', 'sptan1', 'spectrin', 'erythrocytic', 'eiee5', 'neas', 'spta2,it', 'fodrin', '128552558', '128633665),mim', '182810', 'ruvbl2', 'ruvb', 'aaa', 'cgi-46', 'ecp-51', 'ecp51', 'ino80j', 'reptin', 'rvb2', 'tap54-beta', 'tih2', 'tip48', 'tip49b', 'ino80', 'coli', 'homolog)-like', 'tip60-associat', '54-beta', '51-kd', 'repress', 'pontin', '52', 'reptin52', '48993448', '49015995),mim', '604788', 'armd14', 'co2,it', 'c3/c5', 'c2,chromosome', '31897785', '31945674),mim', '613927', 'nan', 'g6pc', 'glucose-6-phosphatase', 'g6pc1', 'g6pt', 'g6pase', 'gsd1', 'gsd1a', 'g-6-pase', '42900797', '42914433),mim', '613742', 'ghrhr', 'ghrfr', 'grfr', 'ighd1b', 'ghrh', 'grf', '30964021', '30979531),mim', '139191', 'hist2h2be', 'h2b', 'gl105', 'h2b.1', 'h2bfq', 'h2bgl105', 'h2bq', '2-e', 'q', 'h2be', 'h2b.q', '149884460', '149886682', '601831', 'gdf9', '132861181', '132866884', '601918', 'mb', 'myoglobin', 'pvalb', 'myoglobgin', '35606764', '35623354', '160000', 'gpx3', 'gpx', 'gshpx-3', 'gshpx', 'gpx-3', '151020412', '151028993),mim', '138321', 'kir2ds4', 'cd158i', 'kir-2ds4', 'kir1d', 'kir412', 'kka3', 'nkat-8', 'nkat8,it', '2ds4', 'cl-39/cl-17', 'p50', 'kar', 'k1d', 'cl-39/cl-17,chromosome', '54832676', '54848569),mim', '604955', 'mir106b', '106b', 'mirn106b', 'mir-106b', '100093993', '100094074', '612983', 'elob', 'elongin', 'siii', 'tceb2,it', 'p18', '18-kd', 'elongation', '18kda', '2771414', '2777296', '600787', 'lamb3', 'laminin', 'ai1a', 'bm600', '125kda', 'lam5', 'lamnb1,it', 'epiligrin', 'bata', 'kalinin', 'kalinin-140kda', 'b1k', 'nicein', '125kd', '140kd', 'laminin-5', 'nicein-125kda', '209614870', '209652475', '150310', 'gsto1', 'omega', 'gsto', 'gsttlp28', 's-21', 'p28', 'spg', 'omega-1', 'mma(v', 's-(phenacyl)glutathione', 'dehydroascorbate', 'monomethylarsonic', '10q25.1,annotation', '104254194', '104267464),mim', '605482', 'scnn1', 'besc3', 'enacg', 'enacgamma', 'pha1', 'scneg', 'channe', '16p12.2,annotation', '23182719', '23216879),mim', '600761', 'thap1', 'thap', 'dyt6,it', '4833431a01rik', 'proapoptotic', '8p11.21,annotation', '42836674', '42843331', '609520', 'serpinf2', 'a2ap', 'aap', 'alpha-2-pi', 'api', 'pli', 'alpha-2-antiplasmin', 'alpha-2-ap', 'alpha-2-plasmin', 'antiplasmin', 'epithelium', 'f2', '1742808', '1755265),mim', '613168', 'tapbp', 'ngs17', 'tapa', 'tpn', 'tpsn', 'tapasin', 'ngs-17', '33299694', '33314387', '601962', 'calcr', 'calcitonin', 'crt', 'ct', 'ctr', 'ctr1,it', '7q21.3,annotation', '93424487', '93574730', '114131', 'anos1', 'anosmin', 'admlx', 'hh1', 'hha', 'kal', 'kal1', 'kalig-1', 'kms', 'wfdc19,it', 'anosmin-1', 'kallmann', 'interval', 'syndrome-1', 'wap', 'xp22.31,annotation', '8528874', '8732187', '300836', 'gja5', 'atfb11', 'cx40,it', '40kda', '147756199', '147781127', '121013', 'igfbp4', 'bp-4', 'ht29-igfbp', 'ibp4', 'igfbp-4,it', 'ibp-4', '40443424', '40457730),mim', '146733', 'psmc5', '26s', 's8', 'sug-1', 'sug1', 'tbp10', 'trip1', 'p45/sug', 'rpt6', 'msug1', '149', 'interactor', '17q23.3,annotation', '63827410', '63832027),mim', '601681', 'mir204', '204', 'mirn204', 'rdicc', 'mirna204', 'mir-204,it', 'mir-204,chromosome', '9q21.12,annotation', '70809975', '70810084', '610942', 'tug1', 'taurine', 'linc00080', 'ncrna00080', 'ti-227h', 'noncod', '22q12.2,annotation', '30969211', '30979395),mim', '614971', 'mir23a', '23a', 'mirn23a', 'mir-23a', 'mirna23a', '13836587', '13836659', '607962', 'mir1', 'mirn1', 'mir-1', 'mirna1', '62554306', '62554376),mim', '609326', 'clic1', 'cl1c1', 'g6', 'ncc27,it', 'rncc', 'hrncc', 'ion', '27', 'p64clcp', '31730581', '31737318', '602872', 'satb2', 'satb', 'glss', 'special', 'at', '199269500', '199471266', '608148', 'adra2c', 'adra2l2', 'adra2rl2', 'adrarl2', 'alpha2car', 'alpha-2c', 'alpha-2c-', 'alpha-2car', 'alpha2-ar', 'c4,chromosome', '3766569', '3768526),mim', '104250', 'egr2', 'at591', 'cmt1d', 'cmt4e', 'krox20,it', 'sumo', 'erg2', 'krox-20', 'response-2', 'krox-20,chromosome', '62811996', '62819167', '129010', 'kcnn3', 'kca2.3', 'sk3', 'skca3', 'hsk3,it', 'conductance', 'skca', 'intermediate', '154697462', '154870278', '602983', 'g3bp1', 'g3bp', 'hdh', 'viii', 'g3bp-1', 'sh3', 'sh3-domain', 'endoribonuclease', '151771915', '151805354),mim', '608431', 'mc2r', 'melanocortin', 'acthr', 'adrenocorticotropic', 'acth', 'mc2', 'adrenocorticotropin', 'hormone),chromosome', '13882042', '13915707', '607397', 'ntsr1', 'neurotensin', 'ntr', 'ntr1', 'ntrh', 'levocabastine', 'insensitive', 'affinity),chromosome', '62708770', '62762771),mim', '162651', 'cckar', 'cck1-r', 'cck1r', 'cckra', 'cholecystokinin-1', '4p15.2,annotation', '26481396', '26490420', '118444', 'tradd', 'tnfrsf1a', 'via', 'hs.89862,it', '1-associat', 'tnfr1-associat', 'receptor-1-associat', '67154185', '67159909', '603500', 'gpx4', 'gpx-4', 'gshpx-4', 'mcsp', 'phgpx', 'smds', 'sngpx', 'snphgpx', 'hydroperoxide', 'hydroperoxidase', 'nucleus', '1103926', '1106789),mim', '138322', 'cldn5', 'awal', 'bec1', 'cpetrl1', 'tmdvcf', 'tmvcf', 'claudin-5', 'delete', 'vcfs', 'velocardiofacial', '22q11.21,annotation', '19523024', '19527545', '602101', 'celf1', 'cugbp', 'elav', 'brunol2', 'cug', 'bp', 'cugbp1', 'eden', 'nab50', 'napor', 'hnab50,it', '50', 'polyadenylat', 'celf-1', 'triplet', 'bp-', 'etr-3-like', 'bp1', 'brunol-2', 'bruno', 'deadenylation', 'embryo', '50-kd', '47465933', '47565569', '601074', 'npr2', 'natriuretic', 'amdm', 'anprb', 'anpb', 'ecdm', 'guc2b', 'gucy2b', 'nprb', 'nprbi', 'snsk', 'atrial', 'anp', 'anpr', 'npr', 'guanylate', 'atrionatriuretic', 'b),chromosome', '9p13.3,annotation', '35782086', '35809731),mim', '108961', 'ptprj', 'cd148', 'dep1', 'hptpeta', 'scc1,it', 'dep-1', 'hptp', 'density', 'enhance', 'phosphatase-1', '47980504', '48170842),mim', '600925', 'ppp1cc', 'pp-1', 'pp1c', 'ppp1g', 'pp1-gamma', '110708369', '110742978', '176914', 'pold1', 'crcs10', 'mdpl', 'pold', 'p125', '50384291', '50418018),mim', '174761', 'top2b', 'topoisomerase', 'topiib', 'top2beta', '180', 'u937', 'mlaa-44', 'topo', '180kda', 'iib', '3p24.2,annotation', '25597905', '25664891', '126431', 'lgals8', 'galectin', 'gal-8', 'pcta-1', 'pcta1', 'po66-cbp', 'galectin-8', 'po66', 'carbohydrate', 'lectin', 'galactoside', '1q43,annotation', '236518214', '236552981),mim', '606099', 'ptgis', 'cyp8', 'cyp8a1', 'pgis', 'ptgi', '20q13.13,annotation', '49503874', '49568170', '601699', 'sfrp2', 'frp-2', 'sarp1', 'sdf-5,it', 'sarp-1', 'sfrp-2', '170,chromosome', '4q31.3,annotation', '153780590', '153789076', '604157', 'nectin1', 'nectin', 'cd111', 'clped1', 'ed4', 'higr', 'hv1s', 'hvec', 'ofc7', 'prr', 'prr1', 'pvrl1', 'pvrr', 'pvrr1', 'sk-12', 'nectin-1,it', 'nectin-1', 'ectodermal', 'dysplasia', 'margarita', 'island', 'herpe', 'simplex', 'sensitivity', 'entry', 'herpesvirus', 'poliovirus', '119638098', '119728725', '600644', 'mad1l1', 'deficient', 'mad1', 'pig9', 'tp53i9', 'txbp181,it', 'mad1-like', '181', '7p22.3,annotation', '1815792', '2232971', '602686', 'calm2', 'camii', 'lqt15', 'phkd', 'phkd2', 'calmodulin-2', 'lp7057', '47160082', '47176936', '114182', 'prpf8', 'processing', 'hprp8', 'prp8', 'prpc8', 'rp13', 'snrnp220,it', 'process', 'splicing', 'u5', 'snrnp', 'ortholog', 's.', 'cerevisiae', 'prp8p', 'p220', 'prp8,chromosome', '1650629', '1684882', '607300', 'ctns', 'cystinosin', 'cystine', 'lsb', 'pqlc4,it', 'cystinosis', 'nephropathic', '3636468', '3663103),mim', '606272', 'amy1a', 'amylase', 'salivary', 'amy1,it', '1,4-alpha', 'glucanohydrolase', 'glycogenase', '1p21.1,annotation', '103655519', '103664551),mim', '104700', 'ckb', 'creatine', 'ck', 'bckb', 'cpk', 'hel-211', 's-29', 'phosphokinase', '211', '29,chromosome', '103519658', '103522859', '123280', 'cd69', 'aim', 'bl', 'ac', 'p26', 'clec2c', 'ea1', 'gp32/28', 'mlr-3,it', 'p60', 'leu-23,chromosome', '9752486', '9760901', '107273', 'cd3-gamma', 'imd17', 't3g', 'cd3-tcr', '118344344', '118353782),mim', '186740', 'mtap', 'methylthioadenosine', 'bdmf', 'dmsfh', 'dmsmfh', 'hel-249', 'lgmbf', 'msap', 'c86fus', \"methyl-5'-thioadenosine\", \"5'-methylthioadenosine\", 'mta', 'mtapase', 'mesado', '249,chromosome', '21802636', '21865971),mim', '156540', 'prodh', 'hspox2', 'pig6', 'pox1', 'prodh2', 'tp53i6', 'p53-induced', '18912774', '18936553', '606810', 'fermt1', 'fermitin', 'c20orf42', 'dtgcu2', 'kind1', 'unc112a', 'urp1,it', 'unc112', 'kindlerin', 'kindlin', 'unc-112-related', '20p12.3,annotation', '6074845', '6123609', '607900', 'gja8', 'cae', 'cae1', 'ctrct1', 'cx50', 'czp1', 'mp70,it', 'alpha-8', '50kda', 'lens', 'fiber', 'mp70', 'intrinsic', 'mp70,chromosome', '147902820', '147915287),mim', '600897', 'tcp1', 'cct', 'cct1', 'ccta', 'd6s230e', 'tcp-1-alpha', 'tailless', '6q25.3,annotation', '159778498', '159789703', '186980', 'rad9a', 'rad9', 'clamp', 'rad9,it', 'exonuclease', 'hrad9,chromosome', '67391952', '67398412),mim', '603761', 'tp53bp2', '53bp2', 'aspp2', 'bbp', 'p53bp2', 'ppp1r13a', 'bcl2-binding', 'stimulate', 'ren-51', 'p53-bind', '223779893', '223845972', '602143', 'hist2h3c', 'h3.2', 'h3/m', 'h3f2', 'h3fm', 'h3fn', 'h3c', '149840687', '149841193', '142780', 'grk5', 'gprk5,it', 'fp2025', 'grk5,chromosome', '10q26.11,annotation', '119207685', '119455619),mim', '600870', 'ltbr', 'd12s370', 'tnfcr', 'tnfr2-rp', 'tnfr3', 'tnfrsf3,it', '2-related', '6375368', '6391571),mim', '600979', 'bpifa1', 'bpi', 'fold', 'lunx', 'nasg', 'plunc', 'splunc1', 'spurt', 'ba49g10.5,it', 'rya3', 'nasopharyngeal', 'palate', 'upper', 'respiratory', 'plunc1', 'enriched', 'von', 'ebner', 'hl', '20q11.21,annotation', '33235996', '33243309),mim', '607412', 'sema4d', '4d', 'c9orf164', 'cd100', 'coll4', 'semaj', 'coll-4,it', 'semaphorin-4d', 'a8', 'bb18', 'gr3', '9q22.2,annotation', '89360791', '89498065', '601866', 'id3', 'hlh', 'heir-1', 'bhlhb25,it', 'id-3', 'id', '1r21', '23557930', '23559794', '600277', 'cdsn', 'corneodesmosin', 'htss', 'htss1', 'hypt2', 'pss', 'pss1', 'differentiate', '31115088', '31120475', '602593', 'kcna1', 'aemk', 'hbk1', 'huk1', 'kv1.1', 'mbk1', 'mk1', 'rbk1,it', 'shaker', 'episodic', 'myokymia', 'k(+', 'huki', 'kv1.1,chromosome', '4909907', '4918256),mim', '176260', 'ppp1r12a', 'm130', 'mbs', 'mypt1,it', '12q21.2-q21.31,annotation', '79773563', '79935764', '602021', 'gmnn', 'geminin', 'gem', 'mgors6,it', '6p22.3,annotation', '24774931', '24786099),mim', '602842', 'srpk1', 'srsf', 'sfrsk1,it', 'sfrs', 'srpk1,chromosome', '35833034', '35921180', '601939', 'glul', 'ammonia', 'glns', 'pig43', 'pig59,it', 'glutamine', '59', '43,chromosome', '182378093', '182392206', '138290', 'dclre1c', 'scid', 'dclrec1c', 'rs', 'scida', 'snm1c', 'artemis', 'pso2', 'snm1', 'snm1-like', 'severe', 'combined', 'immunodeficiency', 'athabascan),chromosome', '14897564', '14954432', '605988', 'tgif1', 'tgfb', 'hpe4', 'tgif', \"5'-tg-3'-interacting\", 'tale', 'tg', '18p11.31,annotation', '3411927', '3458412),mim', '602630', 'nipbl', 'cohesin', 'loading', 'cdls', 'cdls1', 'idn3', 'idn3-b', 'scc2,it', 'nip', 'nipped', 'scc2', 'delangin', 'sister', 'chromatid', 'cohesion', '36876759', '37065819),mim', '608667', 'dcaf1', 'cul4', 'rip', 'vprbp', 'ddb1-', 'cul4-associat', 'vpr', '3p21.2,annotation', '51394261', '51505620', '617259', 'rps3', 's3', 's3,it', '40s', 'imr-90', 'us3,chromosome', '75399491', '75422302),mim', '600454', 'pnp', 'np', 'pro1837', 'punp', 's-156an', '156an', 'guanosine', 'orthophosphate', 'ribosyltransferase', '20469379', '20478006),mim', '164050', 'mcm3', 'hcc5', 'p1-mcm3', 'p1.h', 'rlfb', 'licensing', 'holoenzyme', 'rlf', 'cervical', 'hrlf', 'p102', '52264014', '52284881', '602693', 'wdr5', 'big-3', 'cfap89', 'swd3,it', 'bmp2-induc', '3-kb', 'swd3', 'set1c', 'wd40', 'cilium', 'flagella', '9q34.2,annotation', '134135382', '134159972),mim', '609012', 'egln3', 'hifp4h3', 'hifph3', 'phd3,it', 'ph3', 'hph-1', 'hph-3', '14q13.1,annotation', '33924215', '33951078', '606426', 'il13ra2', 'cd213a2', 'ct19', 'il-13r', 'il13bp', 'interleukin-13', 'il-13', 'il-13ra2', 'xq23,annotation', '115003975', '115017644', '300130', 'cul2', 'cullin-2', 'cul-2', '238e', '10p11.21,annotation', '35008551', '35126899', '603135', 'tnks', 'tankyrase', 'artd5', 'parp-5a', 'parp5a', 'parpl', 'tin1', 'tinf11', 'part5', 'tankyrase-1', 'diphtheria', 'toxin', 'tank1', 'tnks-1', 'trf1-interact', 'poly', '9555230', '9782346),mim', '603303', 'mgat5', 'mannosyl', 'alpha-1,6-)-glycoprotein', 'beta-1,6-n', 'glucosaminyltransferase', 'gnt', 'va', 'alpha-1,6-mannosylglycoprotein', '6-beta', 'acetylglucosaminyltransferase', 'acetylglucosaminyl', 'mannoside', 'glcnac', '2q21.2-q21.3,annotation', '134119922', '134454621),mim', '601774', 'lnpep', 'leucyl', 'cystinyl', 'aminopeptidase', 'lap', 'plap', 'angiotensin', 'otase', 'oxytocinase', 'vasopressinase', '96934859', '97037513),mim', '151300', 'ccdc88a', 'coil', '88a', 'ape', 'girdin', 'giv', 'grdn', 'hkrp1', 'kiaa1212', 'peho', 'pehol', 'phosphorylation', 'hook', 'vesicle', 'girder', '55287817', '55419921', '609736', 'col4a4', 'ca44,it', 'alpha-4(iv', 'alpha-4', '2q36.3,annotation', '226970293', '227164559', '120131', 'atox1', 'copper', 'atx1', 'hah1,it', 'atx1,chromosome', '151742822', '151758649', '602270', 'mid1', 'midline', 'bbbg1', 'fxy', 'gbbb1', 'midin', 'ogs1', 'os', 'osx', 'rnf59', 'trim18', 'xprf', 'znfxy', 'midline-1', 'opitz', 'bbb', 'tripartite', '10445310', '10833690', '300552', 'pelp1', 'mnar', 'proline-', 'acid-', 'modulator', 'genomic', 'hmx3,chromosome', '4671384', '4704337', '609455', 'impdh2', 'impd2', 'impdh', \"inosine-5'-monophosphate\", 'imp', \"5'-monophosphate\", 'oxireductase', 'impd', 'phosphate', '49024325', '49029750', '146691', 's-94n', 'hop', 'ief', 'ssp-3521', 'sti1', 'sti1l', 'hsp70/hsp90-organiz', 'ren-11', '94n', 'hsc70/hsp90-organiz', 'ssp', '3521,chromosome', '64185272', '64204548),mim', '605063', 'card11', 'benta', 'bimp3', 'carma1', 'imd11', 'imd11a', 'ppbl', 'maguk', 'bcl10-interact', 'carma', '7p22.2,annotation', '2906075', '3043945', '607210', 'tfeb', 'eb', 'alphatfeb', 'bhlhe35', 'tcfeb', '35,chromosome', '41683978', '41736259', '600744', 'slc16a4', 'mct4', 'mct5,it', 'monocarboxylate', 'mct', 'monocarboxylic', '5),chromosome', '110362851', '110391971', '603878', 'sh3kbp1', 'cd2bp3', 'cin85', 'gig10', 'hsb-1', 'hsb1', 'mig18,it', 'cd2-binding', '85', 'protein-1,chromosome', 'xp22.12,annotation', '19533965', '19887626', '300374', 'syp', 'synaptophysin', 'mrx96', 'mrxsyp', 'synaptic', 'p38,chromosome', '49187812', '49200202', '313475', 'srsf3', 'sfrs3', 'srp20,it', 'srp20', '20-kd', '6p21.31-p21.2,annotation', '36594313', '36604467),mim', '603364', 'vamp2', 'syb2', 'vamp-2,it', 'synaptobrevin', '17p13.1,annotation', '8159147', '8162975', '185881', 'cxcr6', 'bonzo', 'cd186', 'strl33', 'tymstr', 'cdw186', 'r6', 'cxcr-6', '45940688', '45948354),mim', '605163', 'fgr', 'src2', 'p55-fgr', 'p55c', 'p58-fgr', 'p58c', 'gardner', 'rasheed', 'protooncogene', 'src-2', 'p55-c', '27612289', '27635561', '164940', 'ralbp1', 'rala', 'rip1', 'rlip1', 'rlip76,it', 'ral', 'dnp', 'sg', 'dinitrophenyl', '18p11.22,annotation', '9475532', '9538108),mim', '605801', 'hspb2', 'hsp27', 'hs.78846', 'loh11cr1', 'mkbp', 'dmpk', 'beta-2,chromosome', '11q23.1,annotation', '111912736', '111914093),mim', '602179', 'lifr', 'lif', 'cd118', 'sjs2', 'stws', 'sws', '5p13.1,annotation', '38474963', '38606290', '151443', 'dst', 'dystonin', 'bp240', 'bpa', 'bpag1', 'catx-15', 'catx15', 'd6s1101', 'dmh', 'dt', 'ebsb2', 'hsan6', 'macf2,it', 'bullous', 'pemphigoid', 'dystonia', 'musculorum', 'hemidesmosomal', 'plaque', 'trabeculin', '56457987', '56954671', '113810', 'ndufa13', 'ubiquinone', 'a13', 'b16.6', 'cda016', 'cgi-39', 'grim-19', 'grim19,it', 'subcomplex', 'ci', 'grim19', '19p13.11,annotation', '19516210', '19528204),mim', '609435', 'flot2', 'flotillin', 'ecs-1', 'ecs1', 'esa1', 'm17s1,it', 'flotillin-2', 'identify', 'monoclonal', 'antibody', 'ecs-1),chromosome', '28879335', '28897736', '131560', 'bcl2l2', 'bcl', 'w', 'bcl2-l-2', 'bclw', 'ppp1r51,it', '51,chromosome', '23306762', '23311759),mim', '601931', 'nme2', 'nme', 'nm23', 'ndkb', 'ndpk', 'ndpkb', 'nm23-h2', 'nm23b', 'puf', 's-155an', 'ndp', '155an', 'histidine', 'metastatic', '51165435', '51171744),mim', '156491', 'aqp9', 'aquaporin', 'aqp-9', 'hst17287', 'ssc1', 't17287,it', 'aquaporin-9', 'aquaglyceroporin-9', '15q21.3,annotation', '58138169', '58185911),mim', '602914', 'glrx', 'glutaredoxin', 'grx', 'grx1,it', 'glutaredoxin-1', 'ttase-1', 'thioltransferase', 'thioltransferase-1,chromosome', '95813849', '95822873', '600443', 'tnpo1', 'transportin', 'ipo2', 'kpnb2', 'mip', 'mip1', 'trn', 'transportin-1', 'm9', '5q13.2,annotation', '72816591', '72914388),mim', '602901', 'dao', 'daao', 'damox', 'oxda', '108880030', '108901043),mim', '124050', 'golph3', 'golgi', 'gopp1', 'gpp34', 'midas', 'vps74,it', 'coat', 'absence', '5p13.3,annotation', '32124711', '32174319', '612207', 'azu1', 'azurocidin', 'azamp', 'azu', 'cap37', 'hbp', 'humazur', 'nazc', 'hhbp', '37', '827826', '832018),mim', '162815', 'irgm', 'ifi11', 'lrg-47', 'lrg47', 'raw', '264.7', 'lrg-47-like', 'm1', '150846523', '150902402),mim', '608212', 'slc10a2', 'asbt', 'ibat', 'isbt', 'ntcp2', 'pbam', 'ileal', 'bile', 'na(+)-dependent', 'taurocholate', 'cotransport', '13q33.1,annotation', '103043998', '103066846', '601295', 'csf2ra', 'cd116', 'cdw116', 'csf2rx', 'csf2ray', 'csf2ry', 'gm', 'gmcsfr', 'gmr', 'smdp4', 'alphagmr', 'xp22.33', 'yp11.2,annotation', '1268800', '1325097),annotation', 'nc_000024.10', '1325097),mim', '306250425000', 'gabarap', 'atg8a', 'mm46', '7240419', '7242434', '605125', 'ccar2', 'dbc-1', 'dbc1', 'kiaa1967', 'net35', 'p30', 'dbc', 'p30dbc', '8p21.3,annotation', '22604632', '22620471),mim', '607359', 'cacna1d', 'cach3', 'cacn4', 'cacnl1a2', 'cchl1a2', 'cav1.3', 'pasna', 'sandd', 'alpha-1d', 'cav1.3,chromosome', '3p21.1,annotation', '53495049', '53813151),mim', '114206', 'tjp2', 'tight', 'c9dupq21.11', 'dfna51', 'dup9q21.11', 'pfic4', 'x104', 'zo2,it', 'zo-2', 'friedreich', 'zona', 'occluden', 'zonula', '9q21.11,annotation', '69121006', '69255208),mim', '607709', 'tnip1', 'tnfaip3', 'abin-1', 'naf1', 'van', 'nip40', 'tnfaip3-interact', 'a20-bind', 'nef', 'snp', 'virion', 'shuttle', '151029943', '151087660', '607714', 'ccnh', 'cych', 'p37,it', 'mo15-associated', '87311480', '87413033', '601953', 'ddah1', 'dimethylarginine', 'dimethylaminohydrolase', 'ddah', 'ddah-1', 'ddahi', 's-16,it', 'n(g),n(g)-dimethylarginine', 'ng', 'dimethylargininase-1', '16,chromosome', '85318485', '85578363', '604743', 'xist', 'inactive', 'dxs1089', 'dxs399e', 'linc00001', 'ncrna00001', 'sxi1', 'swd66,it', 'xq13.2,annotation', '73820651', '73852753', '314670', 'npy2r', 'npy2-r', 'npy', '4q32.1,annotation', '155173514', '155217078),mim', '162642', 'aptx', 'aprataxin', 'aoa', 'aoa1', 'axa1', 'eaoh', 'eoaha', 'fha', 'hit', 'triad', '9p21.1,annotation', '32883872', '33025131', '606350', 'cd22', 'siglec-2', 'siglec2,it', 'leu-14', 'sialic', '35329166', '35347361),mim', '107266', 'sox17', 'vur3,it', 'sox-17', 'sox17,chromosome', '8q11.23,annotation', '54457935', '54460896),mim', '610928', 'pmm2', 'phosphomannomutase', 'cdg1', 'cdg1a', 'cdgs', 'pmi', 'pmi1', 'pmm', 'mannose-6-phosphate', 'phosphomannose', '16p13.2,annotation', '8797813', '8849337),mim', '601785', 'tubb2a', 'iia', 'cdcbm5', 'tubb', 'tubb2,it', 'beta-2a', '6p25.2,annotation', '3153666', '3157549', '615101', 'b4galt1', 'beta-1,4-galactosyltransferase', 'b4gal', 't1', 'cdg2d', 'ggtb2', 'gt1', 'gtb', 'beta4gal', 't1,it', 'udp', 'gal', 'betaglcnac', '1,4-', 'galactosyltransferase', 'galactose', 'acetylglucosamine', 'beta-1,4-galtase', 'glycoprotein-4-beta', 'lactose', '33110641', '33167358', '137060', 'eif4a1', 'eukaryotic', '4a1', 'ddx2a', 'eif-4a', 'eif4a', 'eif4a-1', '4ai', '7572706', '7579006),mim', '602641', 'cbx1', 'chromobox', 'cbx', 'hp1-beta', 'hp1hs', 'hp1hsbeta', 'm31', 'mod1', 'p25beta', 'hp1', 'heterochromatin', '1-beta', 'p25', '48070052', '48101521', '604511', 'egfr', 'that', 'this', 'dimerization', 'autophosphorylation', 'lead', 'mutation', 'provide', 'refseq', '2016', 'app', 'cleave', 'secretase', 'number', 'some', 'these', 'can', 'apbb1/tip60', 'while', 'other', 'basis', 'find', 'patient', 'addition', 'show', 'bacteriocidal', 'antifungal', 'implicate', 'cerebroarterial', 'angiopathy', 'several', 'different', 'aug', '2014', 'represent', 'include', 'polymorphic', 'know', 'which', 'locate', 'approximately', 'kb', 'upstream', 'start', 'site', 'compose', 'tandemly', 'unit', 'allele', 'where', 'each', 'bps', 'length', 'deletion', 'result', 'rs25531', 'rs25532', 'also', 'both', 'positive-', 'assay', 'display', 'due', 'role', 'reuptake', 'study', 'variety', 'mood', 'behavioral', 'psychopathology', 'however', 'association', 'may', 'population', 'and/or', 'epigenetic', 'stin2', 'tandem', 'vntr', 'overlap', 'intron', '2017', 'drb1', 'belong', 'consist', 'dra', 'drb', 'anchor', 'play', 'central', 'present', 'from', 'apc', 'dendritic', '28', 'exon', 'one', 'leader', 'within', 'all', 'specify', 'hundred', 'describe', 'routinely', 'do', 'marrow', 'transplantation', 'level', 'five', 'time', 'than', 'drb4', 'drb5', 'individual', 'allelic', 'either', 'none', 'there', 'drb2', 'drb6', 'drb7', 'drb8', 'drb9', 'jul', '2008', 'ptgs', 'cyclooxygenase', 'key', 'biosynthesis', 'dioxygenase', 'ptgs2', 'differ', 'regulation', 'expression', 'distribution', 'event', 'suggest', 'responsible', 'involve', 'inflammation', 'mitogenesis', 'feb', '2009', 'il1b', 'produce', 'proteolytically', 'casp1/ice', 'important', 'inflammatory', 'induction', 'cyclooxygenase-2', 'ptgs2/cox2', 'nervous', 'cns', 'contribute', 'pain', 'hypersensitivity', 'eight', 'function', 'secondary', 'lithocholic', 'downstream', 'principally', 'mineral', 'metabolism', 'though', 'metabolic', 'such', 'those', 'resistant', 'ricket', 'codon', 'alternate', 'three', 'alternatively', 'spliced', 'recent', 'evidence', 'translational', 'readthrough', 'additional', 'terminally', 'extended', 'use', 'frame', 'termination', '2018', 'catechol', 'catalyze', 'transfer', 'methyl', 'adenosylmethionine', 'neurotransmitter', 'dopamine', 'epinephrine', 'norepinephrine', 'methylation', 'degradative', 'transmitter', 'endogenous', 'substance', 'comt', 'treatment', 'hypertension', 'parkinson', 'difference', 'between', 'reside', 'termini', 'through', 'sep', 'rxr', 'various', 'additionally', 'pathology', 'numerous', 'diabetes', 'atherosclerosis', 'distinct', 'supergene', 'sigma', 'theta', 'detoxification', 'electrophilic', 'carcinogen', 'therapeutic', 'environmental', 'oxidative', 'conjugation', 'organize', '1p13.3', 'highly', 'genetic', 'variation', 'change', \"'s\", 'well', 'affect', 'toxicity', 'efficacy', 'certain', 'increase', 'likely', 'nutrient', 'deprivation', 'immunosuppressive', 'effect', 'angptl7', 'cd4', 'lymphocyt', 'antigene', 'not', 'but', 'granulocyt', 'initiate', 'indirect', 'infectious', '2010', 'ccnd1', 'conserve', 'whose', 'characterize', 'dramatic', 'periodicity', 'abundance', 'throughout', 'exhibit', 'degradation', 'pattern', 'temporal', 'coordination', 'cdk6', 'require', 'g1/s', 'transition', 'rb', 'positively', 'amplification', 'overexpression', 'alter', 'progression', 'observe', 'frequently', 'tumorigenesis', 'birc5', 'iap', 'prevent', 'usually', 'baculovirus', 'bir', 'lack', 'during', 'fetal', 'development', 'yet', 'adult', '2011', 'paralogu', 'microglobulin', 'luman', 'nearly', '45', 'alpha2', 'sod1', 'destroy', 'free', 'radical', 'body', 'encoded', 'homodimer', 'naturally', 'occuring', 'harmful', 'oxygen', 'hydrogen', 'peroxide', 'cause', 'familial', 'amyotrophic', 'lateral', 'sclerosis', 'rare', 'report', 'dqb1', 'dqa', 'dqb', 'six', 'dq', 'similar', 'beta2-microglobulin', 'think', 'absorption', 'storage', 'disorder', 'haemochromatosis', 'defect', 'least', 'splice', 'full', 'nature', 'many', 'diverse', 'embryogenesis', 'surveillance', 'homeostasis', 'infection', 'cyp2d6', 'monooxygenas', 'reaction', 'synthesis', 'steroid', 'lipid', 'localize', 'metabolize', '%', 'commonly', 'prescribe', 'antidepressant', 'antipsychotic', 'analgesic', 'antitussive', 'block', 'agent', 'antiarrythmic', 'antiemetic', 'poor', 'metabolizer', 'phenotype', 'decrease', 'ability', 'no', 'functional', 'since', 'carry', 'whereas', 'absent', 'vary', 'copy', 'ultrarapid', 'more', 'mapk14', 'kinas', 'integration', 'point', 'biochemical', 'wide', 'proinflammatory', 'mkk', 'trigger', 'map3k7ip1/tab1', 'atf2', 'max', 'genotoxic', 'into', 'silencing', 'suppress', 'rdna', 'mono', 'dec', 'ankryin', 'lrr', 'dfg', 'mlk', 'largely', 'cytoplasm', 'outer', 'disease-8', 'casp3', 'aspartic', 'execution', 'cleaf', 'inactivate', 'poly(adp', 'caspas', 'predominant', 'cleavage', 'prnp', 'glycosylphosphatidylinositol', 'tend', 'rod', 'structure', 'unstable', 'octapeptide', 'kbp', 'biochemically', 'structurally', 'elsewhere', 'creutzfeldt', 'jakob', 'fatal', 'insomnia', 'gerstmann', 'straussler', 'huntington', 'kuru', 'open', 'reading', 'unrelated', 'altprp', 'nov', 'edn1', 'endothelin', 'sarafotoxin', 'potent', 'vasoconstrictor', 'cognate', 'arterial', 'aberrant', 'oct', '2015', 'apob', 'main', 'chylomicron', 'occur', 'apob-48', 'apob-100', 'former', 'synthesize', 'exclusively', 'gut', 'latter', 'hepatic', 'share', 'after', 'editing', 'residue', '2180', 'caa->uaa', 'creation', 'stop', 'because', 'hypobetalipoproteinemia', 'normotriglyceridemic', 'hypercholesterolemia', 'cfh', 'rca', 'twenty', 'consensus', 'scr', 'bloodstream', 'essential', 'restrict', 'defense', 'mechanism', 'microbial', 'hemolytic', 'uremic', 'hus', 'hypocomplementemic', 'nephropathy', 'bax', 'hetero-', 'anti-', 'opening', 'vdac', 'loss', 'c.', 'p53-mediated', 'lamina', 'dimensional', 'next', 'inner', 'make', 'evolution', 'mitosis', 'reversibly', 'disassemble', 'phosphorylat', 'stability', 'vertebrate', 'b.', 'lmna', 'emery', 'dreifuss', 'muscular', 'dystrophy', 'partial', 'lipodystrophy', 'limb', 'girdle', 'dilate', 'cardiomyopathy', 'charcot', 'marie', 'tooth', 'hutchinson', 'gilford', 'progeria', 'apr', '2012', 'ptk2', 'concentrated', 'grow', 'presence', 'constituent', 'fak', 'significant', 'similarity', 'step', 'cd14', 'cooperate', 'bacterial', 'same', 'mar', 'hepatocyte', 'morphogenesis', 'mature', 'mesenchymal', 'mainly', 'origin', 'angiogenesis', 'tumorogenesis', 'regeneration', 'although', 'nonsyndromic', 'hearing', 'ugt1a1', 'glucuronosyltransferase', 'glucuronidation', 'lipophilic', 'bilirubin', 'water', 'excretable', 'metabolite', 'part', 'glucuronosyltransferas', 'thirteen', 'unique', 'first', 'follow', 'consider', 'remain', 'identical', 'own', 'preferred', 'moderate', 'simple', 'phenol', 'flavone', 'c18', 'crigler', 'najjar', 'syndrom', 'gilbert', 'lcn2', 'lipocalin', 'hydrophobic', 'gelatinase', 'limit', 'sequester', 'siderophore', 'biomarker', 'suppression', 'invasiveness', 'susceptible', 'wild', 'lpl', 'lipase', 'heart', 'triglyceride', 'bridge', 'uptake', 'hyperlipoproteinemia', 'less', 'extreme', 'drd4', 'd4', 'adenylyl', 'treat', 'schizophrenia', 'autonomic', 'dysfunction', 'attention', 'deficit', 'hyperactivity', 'personality', 'trait', 'novelty', 'seek', 'lymphokine', 'immunoregulation', 'glucocorticoid', 'cytosol', 'near', 'indicate', 'btf2/tfiih', 'rad3/xpd', 'helicas', 'prone', 'trichothiodystrophy', 'cockayne', 'fgf2', 'possess', 'broad', 'biological', 'wound', 'healing', 'polyadenylation', 'translate', 'property', 'intracrine', 'mostly', 'paracrine', 'col1a1', 'triple', 'comprise', 'fibril', 'connective', 'cornea', 'dermis', 'tendon', 'osteogenesis', 'imperfecta', 'ehlers', 'danlos', 'classical', 'caffey', 'idiopathic', 'osteoporosis', 'reciprocal', 'particular', 'call', 'dermatofibrosarcoma', 'protuberan', 'unregulated', 'r.', 'dalgleish', 'ifnl3', 'distantly', 'il-10', '28a', 'il28a', 'il29', 'closely', '19q13', 'heterodimeric', 'il10rb', 'il28ra', 'nat2', 'deactivate', 'arylamine', 'hydrazine', 'acetylation', 'segregate', 'rapid', 'acetylator', 'incidence', 'second', 'nat1', 'fmr1', 'polysome', 'traffic', 'cgg', 'utr', 'normally', 'expansion', '55', 'fragile', 'premature', 'ovarian', 'failure', 'pof1', 'causative', 'acquired', 'aids', 'genome', 'chromosomally', 'integrate', 'replicative', 'tar', 'tardbp', 'ercc1', 'cisplatin', 'xpf', 'endonuclease', 'ercc4', 'incision', 'excise', 'recombinational', 'inter', 'crosslink', 'cerebrooculofacioskeletal', 'carcinogenesis', 'last', 'cd3e', 'opposite', 'maoa', 'neighbor', 'deamination', 'brunner', 'psychiatric', 'antisocial', 'behavior', 'ogg1', '8-oxoguanine', 'mutagenic', 'base', 'byproduct', 'exposure', 'reactive', 'action', 'classify', 'depend', 'targeting', 'every', 'crucial', 'evolutionally', 'dp', 'transactivation', 'embed', 'another', 'e2f2', 'e2f3', 'manner', 'p53-dependent', 'bmp2', 'duplication', 'brachydactyly', 'malform', 'index', 'toe', 'survival', 'ser', 'thr', 'plk1', 'cdc5/polo', 'elevated', 'depletion', 'dramatically', 'hence', 'therapy', 'thymidylate', 'deoxyuridylate', 'deoxythymidylate', '10-methylenetetrahydrofolate', 'methylene', 'thf', 'maintain', 'dtmp', 'thymidine-5-prime', 'pool', 'critical', 'interest', 'chemotherapeutic', '5-fluorouracil', '5-fluoro-2-prime', 'deoxyuridine', 'analog', 'tyms', 'geneid:55556', 'inversely', 'when', 'progress', 'log', 'plateau', 'etiology', 'neoplasia', 'chemotherapy', 'hypophosphatemic', 'hyperphosphatemic', 'tumoral', 'calcinosis', 'hftc', '2013', 'cd40lg', 'engage', 'inability', 'undergo', 'switch', 'hyper', 'igm', 'il13', 'immunoregulatory', 'primarily', 'th2', 'stage', 'maturation', 'cd23', 'isotype', 'switching', 'thereby', 'production', 'pathogenesis', 'allergen', 'operate', 'il3', 'il5', 'il4', '5q', 'particularly', 'close', 'cdk2', 'participate', 'especially', 'p21cip1', 'cdkn1a', 'p27kip1', 'smad3', 'elegan', 'sma', 'prkcd', 'serine-', 'diacylglycerol', 'positive', 'negatively', 'autoimmune', 'lymphoproliferative', 'dpp4', 'protein-2', 'cd26', 'exopeptidase', 'dipeptide', 'hypolipidemic', 'herbicide', 'plasticizer', 'term', 'arise', 'size', 'subcellular', 'organelle', 'plant', 'animal', 'respiration', 'ppara', 'pcsk9', 'branch', 'autocatalytic', 'prosegment', 'constitutively', 'network', 'escort', 'hspb1', 'hsp20', 'translocate', 'correct', 'folding', 'correlate', 'clinical', 'outcome', 'protect', 'distal', 'motor', 'bmi1', 'prc1', 'remodeling', 'embryonic', 'self', 'renewal', 'x.', 'read', 'exist', 'comm', 'commd3', 'irs1', 'diabete', 'il12b', 'array', '35', 'il12a.', 'serve', 'th1', 'sustain', 'sufficient', 'memory', 'effector', 'protection', 'pathogen', 'ms', 'severity', 'atopic', 'child', 'allow', 'mutate', 'leukaemia', 'jacobsen', 'noonan', 'instrumental', 'inductive', 'patterning', 'ventral', 'tube', 'posterior', 'axis', 'somite', 'autocatalytically', 'portion', 'signalling', 'importantly', 'covalently', 'attach', 'moiety', 'freely', 'diffuse', 'develop', 'holoprosencephaly', 'hpe', 'forebrain', 'fail', 'correctly', 'separate', 'right', 'leave', 'hemisphere', 'manifest', 'facial', 'deformity', 'vacterl', 'vertebral', 'anal', 'atresia', 'tracheoesophageal', 'fistula', 'esophageal', 'radial', 'anomaly', 'abnormality', 'range', 'megabase', 'disrupt', 'preaxial', 'polydactyly', 'chitinas', 'hydrolysis', 'chitin', 'glycopolymer', 'insect', 'exoskeleton', 'fungal', 'wall', 'glycoside', 'chi3l1', 'glycosyl', 'chitinase', 'chondrocyte', 'synovial', 'foxo1', 'myogenic', 'pax3', 'alveolar', 'tgfbr2', 'phosphorylate', 'then', 'enter', 'immunosuppression', 'marfan', 'loeys', 'deitz', 'aortic', 'aneurysm', 'apoa5', 'risk', 'coronary', 'artery', 'upregulat', 'hypertriglyceridemia', '11q23', 'pml', 'trim', 'oncogenic', 'often', 'promyelocytic', 'apl', 'extensive', 'cyp1a2', 'localiz', 'polycyclic', 'pahs', 'cigarette', 'smoke', 'unknown', 'able', 'pah', 'carcinogenic', 'caffeine', 'aflatoxin', 'acetaminophen', 'flank', 'untranslated', 'heterotrimeric', 'gnb3', 'c825', 'occurrence', 'gnb3-s', 'appear', 'example', 'outside', 'donor', 'acceptor', 'g6pd', 'housekeeping', 'electron', 'oxidize', 'reductive', 'biosynthetic', 'remarkable', 'missense', 'symptom', 'neonatal', 'jaundice', 'hemolysis', 'spherocytic', 'calreticulin', 'ca(2+)-binding', 'synthetic', 'klgffkr', 'almost', 'sera', 'ssa', 'conserved', 'among', 'specie', 'vivo', 'thus', 'autoantibody', 'titer', 'paper', 'refer', 'later', 'disproven', 'increased', 'infant', 'complete', 'congenital', 'stimulus', 'mononuclear', 'phagocyte', 'fibrocyte', 'condition', 'intronless', 'conjuction', 'aggregation', 'newly', 'au', 'lrp6', 'co', 'catenin', 'formation', 'invasion', 'line', 'xrcc3', 'reca', 'rad51-relat', 'functionally', 'irs1sf', 'microsatellite', 'radiosensitivity', 'vkorc1', 'epoxide', 'reduction', '2,3-epoxide', 'carboxylation', 'clotting', 'combine', 'warfarin', 'pdgfrb', 'identity', 'monomer', 'whether', 'pdgfb', 'pdgfd', 'pdgfa', 'normal', 'cardiovascular', 'aid', 'rearrangement', 'cytoskeleton', '5-q', 'fuse', 'etv6', 'myeloproliferative', 'eosinophilia', 'plg', 'zymogen', 'proteolysis', 'plasmin', 'angiostatin', 'dissolve', 'fibrin', 'clot', 'thrombophilia', 'ligneous', 'conjunctivitis', 'gene.[provid', 'anxa2', 'annexin', 'heighten', 'osteoclast', 'resorption', 'respectively', 'atp7b', 'hinge', 'export', 'out', 'efflux', 'wilson', 'mycn', 'must', 'dimerize', 'order', 'notably', 'neuroblastoma', 'physiologic', 'kcnj11', 'inward', 'rectifi', 'great', 'tendency', 'flow', 'rather', 'sulfonylurea', 'sur', 'persistent', 'hyperinsulinemic', 'hypoglycemia', 'infancy', 'phhi', 'secretion', 'mellitus', 'niddm', 'tndm3', 'permanent', 'pndm', 'gdf15', 'pleiotropic', 'state', 'snail', 'downregulat', 'mesoderm', 'snai1', 'fhit', \"p1-p3-bis(5'-adenosyl\", 'encompass', 'fra3b', 'fact', 'about', 'stomach', 'itga2b', 'linkage', 'coagulation', 'bleeding', 'glanzmann', 'thrombasthenia', 'jan', 'micrornas', 'mirnas', 'cod', 'post', 'multicellular', 'organism', 'mrnas', 'transcribe', 'pri', 'drosha', '70-nt', 'mirna', 'further', 'dicer', 'star', '*', 'incorporate', 'silence', 'risc', 'recognize', 'imperfect', 'inhibition', 'destabilization', 'predict', 'myd88', 'adapter', 'adaptive', 'interleukin1', 'pyogenic', 'erg', 'erythroblast', 'ets', 'pnt', 'pointed', 'chimeric', 'subendothelium', 'hematopoesis', 'megakaryocytic', 'tmpssr2-erg', 'ndrg1-erg', 'ews', 'ewing', 'fus', 'dozen', 'combinatorial', 'usage', 'traf6', 'traf', 'tnfsf11/rance', 'irak1/irak', 'pkczeta', 'kappab', 'ikappab', 'ikk', 'ube2v1/uev1a', 'polyubiquitin', 'afp', 'fetoprotein', 'yolk', 'sac', 'life', 'teratoma', 'persistance', 'obvious', 'counterpart', 'albumin', 'orientation', 'monomeric', 'dimeric', 'trimeric', 'nickel', 'amniotic', 'fluid', 'measure', 'screen', 'spina', 'bifida', 'anencephaly', 'dpb', 'paralogue', 'dpa', 'ppias', 'isomerization', 'imidic', 'bond', 'oligopeptide', 'hiv', 'gag', 'capsid', 'necessary', 'plat', 'proenzyme', 'fibrinolytic', 'trypsin', 'enzymatic', 'hyperfibrinolysis', 'excessive', 'decreased', 'hypofibrinolysis', 'thrombosis', 'embolism', 'rapidly', 'ubiqitin', 'deubiquitinase', 'il6', 'consisting', 'il6st', 'gp130/il6-beta', 'dysregulat', 'myeloma', '9.[provid', 'ikbkb', 'dissociation', 'approximate', '76.5', 'create', 'ancient', 'generation', 'ferric', 'reticuloendothelial', 'parenchymal', 'proliferate', 'pollen', 'gpbp', 'removal', 'matter', 'fshr', 'follicle', 'gonad', 'dysgenesis', 'hyperstimulation', 'eye', 'kilobas', 'distant', 'ocular', 'peter', 'myh9', 'conventional', 'should', 'confuse', 'myosin-9a', '9b', 'myo9a', 'myo9b', 'iq', 'cytokinesis', 'shape', 'syndromic', 'sensorineural', 'deafness', 'epstein', 'alport', 'macrothrombocytopenia', 'sebastian', 'fechtner', 'become', 'calcified', 'promotion', 'stim1', 'influx', 'store', 'soc', 'imprinted', '11p15.5', 'alteration', 'beckwith', 'wiedemann', 'wilms', 'adrenocrotical', 'malignancy', 'hematopoiesis', 'attachment', 'classic', 'kaposi', 'soce', 'tubular', 'myopathy', 'orient', 'configuration', 'rrm1', 'situate', '1.6', 'sdc1', 'heparan', 'syndecan', 'organization', 'internalization', 'syndecan-1', 'altered', 'detect', 'date', 'cyp2a6', 'phenobarbital', 'hydroxylate', 'coumarin', 'nicotine', 'nitrosamine', 'pharmaceutical', 'say', 'mean', 'efficiently', 'cyp2a', 'cyp2b', 'cyp2f', '19q', 'cyp2a3', 'rename', 'copeptin', 'supraoptic', 'paraventricular', 'hypothalamus', 'along', 'package', 'neurosecretory', 'axonally', 'nerve', 'ending', 'neurohypophysis', 'axon', 'ph', 'vasoconstriction', 'vessel', 'contract', 'smooth', 'parturition', 'lactation', 'cognition', 'tolerance', 'adaptation', 'sexual', 'maternal', 'behaviour', 'excretion', 'neurohypophyseal', 'insipidu', 'adndi', 'cpg', 'modification', 'inactivation', 'demonstrate', 'dnmt3b', 'de', 'novo', 'centromeric', 'instability', 'icf', 'redox', 'reversible', 'nitrosylation', 'tsc2', 'tuberous', 'believe', 'gtpas', 'hamartin', 'possibly', 'rock1', 'turn', 'depolymeriz', 'bcl6', 'poz', 'modulate', 'stat', 'il-4', 'corepressor', 'hypermutat', 'dlcl', 'gcg', 'actually', 'glucagon', 'counteract', 'lower', 'glycogenolysis', 'gluconeogenesis', 'endocrine', 'finally', 'fourth', 'glicentin', 'enteroglucagon', 'biotransformation', 'epoxid', 'dihydrodiol', 'excrete', 'ephx1', 'preeclampsia', \"5'-\", 'pseudozeta', 'pseudoalpha-1', 'hba2', 'hba1', 'slightly', 'over', 'significantly', 'plus', 'constitute', 'hba', 'total', 'hemoglobin', 'hba-2', 'hbf', 'thalassemia', 'nondeletion', 'ib', 'gp', 'willebrand', 'vwf', 'noncovalent', 'v.', 'facilitate', 'initial', 'enhanced', 'hemostasis', 'gp1ba', 'bernard', 'soulier', 'polymophic', 'nonarteritic', 'ischemic', 'wrn', 'recq', 'telomere', 'rqc', 'hrdc', 'werner', 'accelerated', 'irf3', 'irf', 'upon', 'men1', 'menin', 'vitro', 'jund', 'message', 'northern', 'blot', 'gpx1', 'h2o2', 'thiol', 'balance', 'therefore', 'accumulation', 'ubiquitously', 'selenoprotein', 'selenocysteine', 'sec', 'uga', 'designate', 'insertion', 'secis', 'premenopausal', 'woman', 'undetermined', 'cascade', 'smn1', '500', 'invert', '5q13', 'duplicated', 'repetitive', 'repetitiveness', 'complexity', 'difficulty', 'telomeric', 'spinal', 'atrophy', 'note', 'historically', 'conversion', 'subnuclear', 'concentration', 'snrnps', 'heteromeric', 'sip1', 'gemin4', 'biogenesis', 'intracytoplasmic', 't-', 'ctsb', 'encodes', 'double', 'turnover', 'proteolytic', 'incomplete', 'dementia', 'ikbkg', 'incontinentia', 'pigmenti', 'hypohidrotic', 'adjacent', 'secretogranin', 'biologically', 'vasostatin', 'pancreastatin', 'parastatin', 'tyr', 'pass', 'phosphotidylinositol-3', 'pdz', 'neuregulin', 'fully', 'e.', 'help', 'mismatched', 'prior', '150', 'walker', 'heterodimeriz', 'bidirectional', 'dissociate', 'colorectal', 'endometrial', '40-amino', 'position', '155-amino', 'miss', 'previous', 'properly', 'y.', 'tim', 'cd4-positive', 'helper', 'divide', 'delay', 'helminthic', 'allergic', 'th1-specific', 'th1-mediat', 'auto-', 'alloimmune', 'immunological', 'tslp', 'hemopoietic', 'propose', 'thymic', 'lymphopoietin', 'impact', 'attract', 'cd11c(+', 'obstructive', 'fbxw7', 'scf', 'skp1-cullin', 'ubiquitination', 'fbws', 'wd-40', 'fbls', 'fbxs', 'recognizable', 'previously', 'fbx30', 'directly', 'probably', 'anxa1', 'stat5a', 'homo-', 'il2', 'il7', 'thrombopoietin', 'tel', 'jak2', 'bcl2l1/bcl', 'x(l', 'antiapoptotic', 'nucleolin', 'ncl', 'ribosome', 'dense', 'fibrillar', 'nucleolus', 'u20', 'female', 'fertility', 'diabetic', 'plcg1', '1,4,5-trisphosphate', 'rasgrp1', 'factor)-activat', 'trafficking', 'immunosuppressant', 'calcineurin', 'hetero', 'p23', 'variants.[provid', 'srd5a2', '4-azasteroid', 'finasteride', 'male', 'pseudohermaphroditism', 'specifically', 'pseudovaginal', 'perineoscrotal', 'hypospadia', 'ppsh', 'lyn', 'maybe', 'degranulation', 'il2rg', 'impaired', 'myb', 'hth', 'aberrently', 'rearrange', 'hypothalamic', 'adrenal', 'physiological', 'reproduction', 'geneid:147081', 'messenger', 'phorbol', 'ester', 'profile', 'cardioprotection', 'ischemia', 'exocytosis', 'knockout', 'lps)-mediat', 'anxiety', 'irf1', 'acquire', 'bacteria', 'gastric', 'myelogenous', 'traf2', 'traf1', 'mapk8/jnk', 'kappab.', 'iaps', 'ensure', 'birc2/c', 'iap1', 'unbiquitinate', 'potentiate', 'validity', 'cdc28', 'pombe', 'multiprotein', 'tefb', 'k.', 'possible', 'involvement', 'nr1', 'visceral', 'organ', 'enpp', 'phosphodiester', 'sugar', 'pyrophosphate', 'hydrolyze', 'correspond', 'diadenosine', 'calcification', 'ossification', 'longitudinal', 'spine', 'opll', 'fabp4', 'fabp', 'drd1', 'd2-mediated', 'erythroleukemia', 'erythrocytosis', 'dysregulation', 'dpyd', 'pyrimidine', 'catabolic', 'rate', 'uracil', 'catabolism', 'dihydropyrimidine', 'error', 'thymine', 'uraciluria', 'receive', 'hmga1', 'retrovirus', 'minor', 'groove', 'ggt1', 'glutamyltransferase', 'glutamyl', 'tnfrsf6/fas', 'tnfrsf25', 'tnfsf10/trail', 'unmask', 'importance', 'ctcf', 'boris', 'combination', 'context', 'hat)-contain', 'hdac)-contain', 'if', 'insulator', 'communication', 'invasive', 'kdm1a', 'swirm', 'fad', 'demethylase', 'rarb', 'compartment', 'hepatocellular', 'differential', 'abnormal', 'live', 'e1s', 'e2s', 'ligas', 'hif1alpha', 'tph1', 'anger', 'bipolar', 'suicidal', 'addiction', 'others.[provid', 'ercc5', 'vii', 'xp7', 'cognitive', 'disability', 'cachexia', 'bivm', 'gch1', 'cyclohydrolase', 'tetrahydrobiopterin', 'bh4', '7,8-dihydroneopterin', 'hydroxylas', 'synthas', 'malignant', 'hyperphenylalaninemia', 'dopa', 'give', 'rise', 'ndrg1', 'p53-mediat', 'prognostic', 'indicator', 'fibrosarcoma', 'map3k7', 'bmp', 'map3k7p1/tab1', 'map3k7p2/tab2', 'map2k4/mkk4', 'slc6a2', 'symporter', 'presynaptic', 'orthostatic', 'intolerance', 'lightheadedness', 'fatigue', 'mentation', 'syncope', 'arrestin', 'agonist', 'desensitization', 'dampening', 'sensory', 'besides', 'isolate', 'tsh', 'arrb2', 'igf2bp3', 'kh', 'prf1', 'c9', 'granzyme', 'subsequent', 'cytolysis', 'endosomal', 'inside', 'subject', 'debate', 'alps', 'aplastic', 'hemophagocytic', 'lymphohistiocytosis', 'fhl2', 'lethal', 'childhood', 'carbonic', 'anhydrase', 'hydration', 'carbon', 'dioxide', 'osteopetrosis', 'acidosis', 'dcn', 'biglycan', 'corneal', 'nfkb2', 'nfkb', 'p100', 'translationally', 'p52', 'frataxin', 'intronic', 'gaa', '33', '>', 'serping1', 'glycosylated', 'c1r', 'c1s', 'angioneurotic', 'oedema', 'hane', 'il1r1', '2q12', 'plp1', 'proteolipid', 'compaction', 'stabilization', 'sheath', 'oligodendrocyte', 'axonal', 'pelizaeus', 'merzbacher', 'spastic', 'paraplegia', 'dm20', 'ctsl', 'controlling', 'pathologic', 'myofibril', 'myocardial', 'proteinuria', 'dimer', 'ciliary', 'cntf', 'oncostatin', 'osm', 'vil6', 'bypass', 'exert', 'transduce', 'tetramer', 'prkar1a', 'extinguisher', 'hybrid', 'carney', 'cnc', 'ret', 'ptc2', 'nonconventional', 'nls', 'rfc40', 'positioning', 'autism', 'depression', 'lobe', 'lissencephaly', 'cerebellar', 'hypoplasia', 'serca', 'ca(2+)-atpas', 'reticula', 'contraction', 'relaxation', 'darier', 'white', 'keratosis', 'follicularis', 'keratinization', 'energy', 'envelope', 'imported', 'generally', 'space', 'apart', 'xenopus', 'srp1', 'temperature', 'saccharomyces', 'kpna2', 'q1', 'sv40', 'bdkrb2', 'bradykinin', 'elicit', 'vasodilation', 'edema', 'spasm', 'exceedingly', 'trnas', 'fungus', 'pneumoniae', 'albican', 'extracellularly', 'rh', 'clinically', 'abo', 'rhd', 'rhc', 'rhe', 'third', 'classification', 'immunogenic', 'eif4ebp1', '4e', 'eif4e', 'multisubunit', 'irradiation', 'fgf1', 'mesoderm-', 'neuroectoderm', 'organogenesis', 'tnfrsf11a', 'lymph', 'node', 'expansile', 'osteolysis', 'paget', 'ccnt1', 'tightly', 'microbicidal', 'cytotoxic', 'defb1', 'colonization', 'proximity', 'cystic', 'fibrosis', 'sulfotransferase', 'sult1a1', 'sulfotransferas', 'thermostable', 'sell', 'home', 'rolling', 'flt4', 'd.', 'lymphangiogenesis', 'endothelium', 'lymphedema', 'rdm1p4', 'rdm1', 'human),chromosome', '17q24.1', 'nlrp3', 'agtavprl', 'aii', 'c1orf7', 'cias1', 'clr1.1', 'dfna34', 'fcas', 'fcas1', 'fcu', 'kefh', 'mws', 'nalp3', 'pypaf1,it', 'nacht', 'pyd', 'domain-', 'repeat-', 'apaf1-like', 'caterpiller', '1.1', 'autoinflammatory', 'cryopyrin', '1q44,annotation', '247416156', '247449108),mim', '606416', 'calca', 'mus', 'musculus', 'house', 'mouse)],also', 'cgrp-1', 'cgrp1', 'calc', 'calc1', 'cgrp', 'ctn', '59.99', 'nc_000073.6', '114625903', '114636460', 'e330027i09', 'fn-1,it', '36.05', 'nc_000067.6', '71585473', '71653234', 'htt', 'ai256365', 'c430023i11rik', 'hd', 'it15,it', '17.92', 'nc_000071.6', '34761736', '34912534', '1],and', 'hiv1gp3,it', 'vif', 'nc_001802.1', '4587', '5165', 'p14', 'hiv1gp5,it', '5377', '7970', 'ifng', 'ifg', '66.75', 'nc_000076.6', '118441046', '118445894', 'itgb2', '2e6', 'ai528527', 'cd18', 'lad', 'lcamb', 'lfa1', 'mf17,it', 'mac-1', 'lfa-1/cr3/p150,95', 'antigen-1', '39.72', '77530329', '77565681', 'mitf', 'melanogenesis', 'bcc2', 'bhlhe32', 'gsfbcc2', 'vitiligo', 'wh', 'bw', 'vit', 'microphthalmia', 'black', 'eyed', 'microphtalmia', '45.05', 'nc_000072.6', '97807002', '98021360', 'slc11a1', 'divalent', 'bcg', 'ity', 'ity1', 'nramp', 'nramp1', '38.54', '74375014', '74386057', 'pgr', '9930019p03rik', 'bb114106', 'nr3c3', 'a1,annotation', 'nc_000075.6', '8893175', '8968611', 'serpine1', 'pai-1', 'pai1', 'planh1,it', 'pai', 'inhibitor-1', 'nexin', 'e1,chromosome', 'g2,annotation', '137061504', '137072272', '9530021d13rik', 'nmf267', 'staggerer', 'tmgc26,it', '37.45', '68653407', '69388246', 'erbb2', 'cd340', 'her-2', 'her-2/neu', 'her2', 'neu', 'ngl', 'tkr1,it', 'erbb-2', 'b2/neu', 'herstatin', 'neuro', 'glioblastoma', 'p185erbb2', '39688084', '39728662),mim', '164870', 'f9', 'p22', 'fix', 'hemb', 'ptc', 'thph8,it', 'christmas', 'thromboplastic', 'thromboplastin', 'xq27.1,annotation', '139530720', '139563459),mim', '300746', 'ap-1', 'p55,it', 'fbj', 'osteosarcoma', 'trancription', 'g0/g1', '14q24.3,annotation', '75278778', '75282234),mim', '164810', 'cd224', 'd22s672', 'd22s732', 'ggt', 'gtg', 'glutamyltranspeptidase', '73,chromosome', '24583750', '24629005),mim', '612346', 'gpt', 'pyruvic', 'transaminase', 'aat1', 'alt11', 'alanine', 'aminotransferase', 'pyruvate', 'aminotransferase),chromosome', '8q24.3,annotation', '144502217', '144507174),mim', '138200', 'nr3c1', 'gccr', 'gcr', 'gcrst', 'gr', 'grl', 'receptor),chromosome', '143277931', '143435512', '138040', 'per', 'melanogaster', 'fruit', 'fly)],also', 'dmel_cg2647', 'cg2647', 'clk', 'dmel\\\\\\\\cg2647', 'eg:155e2.4', 'per-2', 'clk-6', 'dper', 'dmper', 'mel_per', 'cg2647-pa', 'cg2647-pb', 'clock-6', 'dperiod', 'pa', 'pb', '1.5', 'nc_004354.4', '2685580', '2692780', 'dmel_cg9885', 'cg9885', 'dm', 'dmel\\\\\\\\cg9885', 'hin', 'm(2)23ab', 'm(2)ls1', 'betagr;/smad', 'tgfbeta', 'blk', 'ho', 'l(2)10638', 'l(2)22fa', 'l(2)k17036', 'shv', 'cg9885-pa', 'cg9885-pb', 'cg9885-pc', 'cg9885-pe', 'haplo', 'insufficient', 'blink', 'morphogenic', 'pc', 'pe', 'heldout', 'shortvein', 'tegula', '2l', 'nt_033779.5', '2428372', '2459823', 'lam', 'dmel_cg6944', '2459', '74/76', 'cg6944', 'd5', 'dm[[o', 'd[[m0', 'dm(0', 'dm0', 'dm1', 'dm2', 'dmlamin', 'dmo', 'dm[[0', 'dm[[1', 'dm[[2', 'dm[[mit', 'dmel\\\\\\\\cg6944', 'lam(dm0', 'lamdm', 'lamdm0', 'lamdm[[0', 'lamdm[[o', 'lam[[dm0', 'jf27', 'l(2)04643', 'l(2)25ec', 'l(2)gdh-7', 'l(2)gdh7', 'l(2)jf27', 'misg', 'nlam', 'cg6944-pa', 'cg6944-pb', 'cg6944-pc', 'cg6944-pd', 'lamindm', 'lamindm0', 'd[[0', 'd[[m]]0', 'd[[o', 'lethal(2)25ec', 'misguided', 'misrout', '5542480', '5546642', 'dl', 'dorsal', 'dmel_cg6667', 'cg6667', 'dmel\\\\\\\\cg6667', 'dor', 'gsd447', 'nfkappab', 'anon', 'est', 'gressd7', 'fs(2)k10816', 'mat(2)dorsal', 'cg6667-pa', 'cg6667-pb', 'cg6667-pc', 'cg6667-pd', 'cg6667-pe', 'cg6667-pf', 'nfkappabeta', 'pf', 'polarity', '17436830', '17450364', 'bcgf-1', 'bcgf1', 'bsf-1', 'bsf1', 'il-4,it', 'interleukin-4', 'b_cell', 'binetrakin', 'pitrakinra', '132673986', '132682678),mim', '147780', 'cxcl8', 'gcp-1', 'gcp1', 'lect', 'luct', 'lynap', 'mdncf', 'monap', 'naf', 'nap-1', 'nap1,it', 'thromboglobulin', 'emoctakin', 'giant', '73740506', '73743716),mim', '146930', 'nymphaea', 'colorata],and', 'ddh69_mgp19,it', '6,mitochondrion', 'nc_037468.1', '351983', '352978', 'ddh69_mgp12,it', '3,mitochondrion', '501076', '501432', 'nad7,nadh', 'ddh69_mgp43,it', '7,mitochondrion', '71558', '79072', 'proteomonas', 'sulcata],and', 'ddi34_mgp32', 'psulmt_p014,it', 'nc_037453.1', '16970', '17776', 'pcna', 'acidianus', 'brierleyi],and', 'dfr85_rs07900', 'dfr85_07900,it', 'metallosphaera', 'hakonensis],and', 'dfr87_rs07285', 'dfr87_07285,it', 'acetate', 'sulfidivoran', 'jp7],and', 'dfr86_rs01620', 'dfr86_01620,it', 'dfr86_rs04390', 'dfr86_04390,it', 'dfr86_rs07800', 'dfr86_07800,it', 'janus', 'jtk10', 'thcyt3,it', 'jak-2', 'kinase),chromosome', '9p24.1,annotation', '4985086', '5128183),mim', '147796', 'sxl', 'dmel_cg43770', 'cg14425', 'cg14425/cg18350', 'cg18350', 'cg33070', 'cg43770', 'dmsxl', 'dmel\\\\\\\\cg43770', 'dmel_cg14425', 'dmel_cg18350', 'fl', 'mex156', 'orf2', 'su(da', 'sx1', 'sxl-1', 'sxl-2', 'sxlpe', 'sxlpm', 'dsxl', 'fs(1)k1274', 'fs(1)m106', 'l(1)6fa', 'melsxl', 'cg43770-pa', 'cg43770-paa', 'cg43770-pab', 'cg43770-pac', 'cg43770-pb', 'cg43770-pc', 'cg43770-pd', 'cg43770-pe', 'cg43770-pf', 'cg43770-pg', 'cg43770-ph', 'cg43770-pj', 'cg43770-pk', 'cg43770-pl', 'cg43770-pm', 'cg43770-pn', 'cg43770-po', 'cg43770-pp', 'cg43770-pq', 'cg43770-pr', 'cg43770-pt', 'cg43770-pw', 'cg43770-px', 'cg43770-py', 'cg43770-pz', 'kethal', 'paa', 'pab', 'pac', 'pg', 'pj', 'pl', 'pm', 'po', 'pp', 'pq', 'pt', 'pw', 'px', 'py', 'sexlethal', '7074550', '7098053', 'kras', 'cfc2', 'ras2a', 'ras2b', 'ras4a', 'ras4b', 'ki', 'kras2', 'ns', 'ns3', 'rald', 'rask2', 'ras2', 'kirsten', 'pr310', '12p12.1,annotation', '25204789', '25251003', '190070', 'rpr', 'reaper', 'dmel_cg4319', 'cg4319', 'dmel\\\\\\\\cg4319', 'wo0162936.19', 'cg4319-pa', '3l', 'nt_037436.4', '18397535', '18398435', '121', 'gif', 'glif', 'mmif', 'dopachrome', 'tautomerase', 'phenylpyruvate', '23894378', '23895222),mim', '153620', 'mme', 'metalloendopeptidase', 'calla', 'cd10', 'cmt2', 'nep', 'sca43', 'sfe', 'neprilysin', 'atriopeptidase', 'metallo', 'enkephalinase', 'neprilysin-390', 'neprilysin-411', '24.11', '3q25.2,annotation', '155024124', '155183729),mim', '120520', 'dmel_cg11491', '2b5', '2bc', 'a18', 'z1', 'z2', 'z3', 'z4', 'brc', 'br_c', 'brz3', 'cg11491', 'cg11509', 'cg11511', 'cg11514', 'dmel\\\\\\\\cg11491', 'dmel_cg11509', 'eg:123f11.1', 'eg:17a9.1', 'eg:25d2.1', 'pp1', 'pp2', 'z4-c', 'de12', 'l(1)2ba', 'l(1)2bab', 'l(1)2bad', 'l(1)2bb', 'l(1)2bc', 'l(1)2bd', 'l(1)eshs5', 'l(1)g0018', 'l(1)g0042', 'l(1)g0284', 'l(1)g0284a', 'l(1)g0318', 'l(1)g0401', 'l(1)pp1', 'l(1)d', 'norm-12', 'l(1)d.norm.1', 'l(1)dn1', 'l(1)n34', 'l(1)npr-1', 'l(1)npr1', 'l(1)pp-1', 'l(1)pp-2', 'l(1)pp2', 'l(1)ts132', 'l(1)ts144', 'l(1)ts358', 'l(1)ts376', 'npr-1', 'npr1', 'nprl', 'nrp1', 'o.c.c', 'rbp', 'rdp', 'rd', 'uq', 'cg11491-pa', 'cg11491-pb', 'cg11491-pc', 'cg11491-pe', 'cg11491-pg', 'cg11491-ph', 'cg11491-pi', 'cg11491-pj', 'cg11491-pl', 'cg11491-pm', 'cg11491-pn', 'cg11491-po', 'cg11491-pp', 'cg11491-pq', 'ecdysone', 'lethal(1)2bab', 'lethal(1)2bc', 'lethal(1)2bd', 'lethal(1)disc', 'lethal(1)non', 'pupariating-1', 'pupariating', 'bristle', 'palp', 'unequal', 'wing', '0.2', '1575132', '1664869', 'cut', 'dmel_cg11387', 'bcdna', 'gh10590', 'cg11387', 'dmel\\\\\\\\cg11387', 'kf', 'l(1)7ba', 'l(1)7bb', 'l(1)ve614,it', 'cg11387-pa', 'cg11387-pc', 'cg11387-pd', 'cg11387-pe', 'kinked', 'femur', '7609148', '7678859', 'mthfr', 'methylenetetrahydrofolate', '5,10-methylenetetrahydrofolate', 'nad(p)h),chromosome', '11785730', '11806103', '607093', 'nfkb1', 'cvid12', 'ebp-1', 'kbf1', 'kb1', 'p105', 'p50,it', 'kappabeta', '102501266', '102617302),mim', '164011', 'nppb', 'bnp', '11857464', '11858935', '600295', 'phenylalanine', 'pku', 'pku1,it', 'phenylalanine-4-hydroxylase', 'phe-4-monooxygenase', '4-monooxygenase', '12q23.2,annotation', '102836885', '102958410', '612349', '101029624', '101130681', '607311', 'pitx2', 'arp1', 'asgd4', 'brx1', 'idg2', 'igds', 'igds2', 'ihg2', 'irid2', 'otlx2', 'ptx2', 'rgs', 'rieg', 'rieg1', 'all1-responsive', 'bicoid', 'solurshin', '110617423', '110642123', '601542', 'prion', 'ascr', 'cd230', 'cjd', 'gss', 'prip', 'prp', 'prp27', 'prp33', '35c', 'prpc', '30,it', '4686094', '4701590),mim', '176640', 'pten', 'tensin', '10q23del', 'bzs', 'cws1', 'glm2', 'mham', 'mmac11', 'ptenbeta', 'tep1', '3-phosphatase', 'mmac1', 'ptenalpha', 'phosphatidylinositol-3,4,5-trisphosphate', '87863438', '87971930),mim', '601728', 'btk', 'bruton', 'agmx1', 'atk', 'bpk', 'imd1', 'psctk1', 'xla', 'progenitor', 'agammaglobulinemia', 'agammaglobulinaemia', '14),chromosome', '101349447', '101390796', '300300', 'tp53', 'bcc7', 'lfs1', 'trp53,it', 'co-13', 'supressor', 'p53,chromosome', '7668402', '7687550', '191170', 'nr1i1', 'ppp1r163,it', '1,25-dihydroxyvitamin', '163', '1,25-', 'dihydroxyvitamin', '12q13.11,annotation', '47841537', '47905031', '601769', 'global', 'catabolite', 'repression', 'escherichia', 'str', 'k-12', 'substr', 'mg1655],and', 'b3357', 'eck3345', 'jw5702', 'csm', 'nc_000913.3', '3486120', '3486752', 'b3987', 'eck3978', 'jw3950', 'ftsr', 'gron', 'mbrd', '?', 'nitb', 'rif', 'ron', 'sdgb', 'stl', 'stv', 'tabd', 'tabg', '4181245', '4185273', 'chorionic', 'fsh', 'noncovalently', 'confer', 'nbs', 'speck', 'pycard', 'asc', 'inflammasome', 'muckle', 'wells', 'neurological', 'cutaneous', 'articular', 'cinca', 'onset', 'multisystem', 'nomid', 'available', 'datum', 'valid', 'apoe', 'a1/a4/e', 'homozygous', 'accumulate', 'protective', 'runx2', 'osteoblastic', 'nucleic', 'esr1', 'reproductive', 'pathological', 'c5', 'c5a', 'anaphylatoxin', 'c5b', 'spasmogenic', 'macromolecular', 'attack', 'mac', 'impair', 'fracture', 'model', 'ace', 'physiologically', 'vasopressor', 'aldosterone', 'pressure', 'electrolyte', 'renin', '287', 'circulate', 'pathophysiologie', 'equally', 'phosphatidylinositol-3', '654', '655', '624', '625', 'ile654/ile655', 'here', 'alb', 'colloid', 'osmotic', 'exogenous', 'epi', 'x4', 'f8', 'ixa', 'ca+2', 'xa', 'viiic', 'coagulant', 'hemophilia', 'tlr4', 'evolutionarily', 'gram', 'hyporesponsiveness', 'syncytial', 'compare', 'organized', 'follicular', 'germinal', 'ptpn22', 'graves', 'gh1', 'somatotropin', 'intersperse', 'arrangement', 'evolve', 'series', 'remarkably', 'degree', 'specialization', 'case', 'stature', 'ago2', 'argonaute', 'interference', 'paz', 'piwi', 'dicer1', 'interfere', 'sem5', 'c.elegan', 'hif1a', 'factor-1', 'hif-1', 'master', 'delivery', 'vascularization', 'pathophysiology', 'icam1', 'typically', 'cd11a', 'cd11b', 'exploit', 'rhinovirus', 'kallikrein', 'subgroup', 'novel', 'klk3', 'fifteen', 'seminal', 'liquefaction', 'coagulum', 'presumably', 'psa', 'setting', 'useful', 'diagnosis', 'monitoring', 'prostatic', 'guide', 'bronchiolitis', '4q', 'il17a', 'ptgs2/cox-2', 'psoriasis', 'kcnq1', 'repolarization', 'heteromultimer', 'kcne1', 'kcne3', 'qt', 'romano', 'ward', 'jervell', 'lange', 'nielsen', 'fibrillation', 'imprinting', 'preferential', 'biallelic', 'amongst', 'bws', 'stmn1', 'stathmin', 'ubiquitous', 'relay', 'environment', 'disassembly', 'lgals3', 'multivalent', 'saccharide', 'heterotrimer', 'immunostimulatory', 'leprosy', 'infarction', 'hodgkin', 'psoriatic', 'mecp2', 'mbd1', 'mbd2', 'mbd3', 'mbd4', 'mbd', 'exception', 'capable', 'contrast', 'dispensible', 'rett', 'neurologic', 'developmental', 'mmp1', 'm10', 'metalloproteinas', 'mmp', 'breakdown', 'break', 'interstitial', 'copd', 'muc1', 'glycosylat', 'mucous', 'barrier', 'mucosal', 'pancrea', 'serpinc1', 'thrombin', '120', 'antithrombin', 'biologic', 'neurotransmission', 'antitumoral', 'natriuresis', 'diuresis', 'vasorelaxation', 'indicative', 'antibacterial', 'postmenopausal', 'biopterin', 'hydroxylat', 'phenylketonuria', 'pros1', 'anticoagulant', 'frequency', 'unlike', 'dephosphorylat', 'phosphoinositide', 'mitochondria', 'oxidation', 'succinate', 'fadh', 'coq.', 'sulfur', 'sporadic', 'sdhb', 'paraganglioma', 'pheochromocytoma', 'support', 'stk11', 'peutz', 'jeghers', 'polyp', 'pigmented', 'macule', 'mouth', 'neoplasm', 'thoroughly', 'tnfr1', 'tnfrsf1b', 'tnfbr', 'spectrum', 'neuroprotective', 'c3a', 'atypical', 'macular', 'tsc1', 'tuberin', 'mtorc1', 'anabolic', 'hsp90', 'facilitator', 'hsp90-mediated', 'client', 'proteasomal', 'ezr', 'microvilli', 'erm', 'efficient', 'ionize', 'radiation', 'alkylat', 'meiogenesis', 'germ', 'katacalcin', 'phosphorus', 'vasodilator', 'consolidation', '2006', 'nr1i2', '9-cis', 'dexamethasone', 'rifampicin', 'ht_cmplx11_mem', 'information', 'ecogene', 'eg10894', 'integrally', 'ecocyc', 'ectodomain'])"
      ]
     },
     "execution_count": 439,
     "metadata": {},
     "output_type": "execute_result"
    }
   ],
   "source": [
    "# List of words in model.\n",
    "vocabt = model.wv.vocab.keys()\n",
    "vocabt"
   ]
  },
  {
   "cell_type": "code",
   "execution_count": 440,
   "metadata": {},
   "outputs": [],
   "source": [
    "#Word2vec vocab only contains lower case strings.\n",
    "abbrevt['symbols']=abbrevt['symbols'].apply(lambda x: str(x).lower())"
   ]
  },
  {
   "cell_type": "code",
   "execution_count": 482,
   "metadata": {},
   "outputs": [],
   "source": [
    "#Compare acronyms with different disorders and find their similarity score.\n",
    "scoret=[]\n",
    "for i in abbrevt['symbols']:\n",
    "        if i in vocabt:\n",
    "            scoret.append([i,(model.wv.similarity(i, 'alzheimer'))])\n",
    "            "
   ]
  },
  {
   "cell_type": "code",
   "execution_count": 483,
   "metadata": {},
   "outputs": [],
   "source": [
    " #Sort score highest to lowest\n",
    "scoretdf = pd.DataFrame(scoret)\n",
    "scoretdf=scoretdf.sort_values(1,ascending=False).iloc[0:8,:]"
   ]
  },
  {
   "cell_type": "code",
   "execution_count": 484,
   "metadata": {},
   "outputs": [
    {
     "data": {
      "text/html": [
       "<div>\n",
       "<style scoped>\n",
       "    .dataframe tbody tr th:only-of-type {\n",
       "        vertical-align: middle;\n",
       "    }\n",
       "\n",
       "    .dataframe tbody tr th {\n",
       "        vertical-align: top;\n",
       "    }\n",
       "\n",
       "    .dataframe thead th {\n",
       "        text-align: right;\n",
       "    }\n",
       "</style>\n",
       "<table border=\"1\" class=\"dataframe\">\n",
       "  <thead>\n",
       "    <tr style=\"text-align: right;\">\n",
       "      <th></th>\n",
       "      <th>0</th>\n",
       "      <th>1</th>\n",
       "    </tr>\n",
       "  </thead>\n",
       "  <tbody>\n",
       "    <tr>\n",
       "      <th>28</th>\n",
       "      <td>hspb1</td>\n",
       "      <td>0.880104</td>\n",
       "    </tr>\n",
       "    <tr>\n",
       "      <th>35</th>\n",
       "      <td>kcnj11</td>\n",
       "      <td>0.764149</td>\n",
       "    </tr>\n",
       "    <tr>\n",
       "      <th>29</th>\n",
       "      <td>bmi1</td>\n",
       "      <td>0.700393</td>\n",
       "    </tr>\n",
       "    <tr>\n",
       "      <th>26</th>\n",
       "      <td>plk1</td>\n",
       "      <td>0.689233</td>\n",
       "    </tr>\n",
       "    <tr>\n",
       "      <th>33</th>\n",
       "      <td>dkk1</td>\n",
       "      <td>0.633706</td>\n",
       "    </tr>\n",
       "    <tr>\n",
       "      <th>50</th>\n",
       "      <td>hmga1</td>\n",
       "      <td>0.617731</td>\n",
       "    </tr>\n",
       "    <tr>\n",
       "      <th>47</th>\n",
       "      <td>irf1</td>\n",
       "      <td>0.609436</td>\n",
       "    </tr>\n",
       "    <tr>\n",
       "      <th>54</th>\n",
       "      <td>ndrg1</td>\n",
       "      <td>0.599029</td>\n",
       "    </tr>\n",
       "  </tbody>\n",
       "</table>\n",
       "</div>"
      ],
      "text/plain": [
       "         0         1\n",
       "28   hspb1  0.880104\n",
       "35  kcnj11  0.764149\n",
       "29    bmi1  0.700393\n",
       "26    plk1  0.689233\n",
       "33    dkk1  0.633706\n",
       "50   hmga1  0.617731\n",
       "47    irf1  0.609436\n",
       "54   ndrg1  0.599029"
      ]
     },
     "execution_count": 484,
     "metadata": {},
     "output_type": "execute_result"
    }
   ],
   "source": [
    "scoretdf.iloc[0:10,:]"
   ]
  },
  {
   "cell_type": "code",
   "execution_count": 491,
   "metadata": {},
   "outputs": [],
   "source": [
    "scorest=scoretdf.iloc[0,0].upper()"
   ]
  },
  {
   "cell_type": "code",
   "execution_count": 492,
   "metadata": {},
   "outputs": [],
   "source": [
    "i=np.where(test['symbols']==scorest)[0][0]"
   ]
  },
  {
   "cell_type": "code",
   "execution_count": 493,
   "metadata": {
    "scrolled": true
   },
   "outputs": [
    {
     "data": {
      "text/plain": [
       "'HSPB1 gene encodes a member of the small heat shock protein (HSP20) family of proteins. In response to environmental stress, the encoded protein translocates from the cytoplasm to the nucleus and functions as a molecular chaperone that promotes the correct folding of other proteins. This protein plays an important role in the differentiation of a wide variety of cell types. Expression of HSPB1 gene is correlated with poor clinical outcome in multiple human cancers, and the encoded protein may promote cancer cell proliferation and metastasis, while protecting cancer cells from apoptosis. Mutations in HSPB1 gene have been identified in human patients with Charcot-Marie-Tooth disease and distal hereditary motor neuropathy. [provided by RefSeq, Aug 2017]'"
      ]
     },
     "execution_count": 493,
     "metadata": {},
     "output_type": "execute_result"
    }
   ],
   "source": [
    "test.iloc[i,4]"
   ]
  },
  {
   "cell_type": "code",
   "execution_count": 494,
   "metadata": {},
   "outputs": [
    {
     "data": {
      "text/html": [
       "<div>\n",
       "<style scoped>\n",
       "    .dataframe tbody tr th:only-of-type {\n",
       "        vertical-align: middle;\n",
       "    }\n",
       "\n",
       "    .dataframe tbody tr th {\n",
       "        vertical-align: top;\n",
       "    }\n",
       "\n",
       "    .dataframe thead th {\n",
       "        text-align: right;\n",
       "    }\n",
       "</style>\n",
       "<table border=\"1\" class=\"dataframe\">\n",
       "  <thead>\n",
       "    <tr style=\"text-align: right;\">\n",
       "      <th></th>\n",
       "      <th>0</th>\n",
       "      <th>1</th>\n",
       "    </tr>\n",
       "  </thead>\n",
       "  <tbody>\n",
       "    <tr>\n",
       "      <th>52</th>\n",
       "      <td>ctcf</td>\n",
       "      <td>0.879913</td>\n",
       "    </tr>\n",
       "    <tr>\n",
       "      <th>53</th>\n",
       "      <td>ercc5</td>\n",
       "      <td>0.857221</td>\n",
       "    </tr>\n",
       "    <tr>\n",
       "      <th>35</th>\n",
       "      <td>kcnj11</td>\n",
       "      <td>0.797364</td>\n",
       "    </tr>\n",
       "    <tr>\n",
       "      <th>23</th>\n",
       "      <td>lmna</td>\n",
       "      <td>0.788733</td>\n",
       "    </tr>\n",
       "    <tr>\n",
       "      <th>36</th>\n",
       "      <td>erg</td>\n",
       "      <td>0.784335</td>\n",
       "    </tr>\n",
       "    <tr>\n",
       "      <th>20</th>\n",
       "      <td>vdr</td>\n",
       "      <td>0.757245</td>\n",
       "    </tr>\n",
       "    <tr>\n",
       "      <th>69</th>\n",
       "      <td>cdh1</td>\n",
       "      <td>0.723604</td>\n",
       "    </tr>\n",
       "    <tr>\n",
       "      <th>44</th>\n",
       "      <td>fbxw7</td>\n",
       "      <td>0.677511</td>\n",
       "    </tr>\n",
       "  </tbody>\n",
       "</table>\n",
       "</div>"
      ],
      "text/plain": [
       "         0         1\n",
       "52    ctcf  0.879913\n",
       "53   ercc5  0.857221\n",
       "35  kcnj11  0.797364\n",
       "23    lmna  0.788733\n",
       "36     erg  0.784335\n",
       "20     vdr  0.757245\n",
       "69    cdh1  0.723604\n",
       "44   fbxw7  0.677511"
      ]
     },
     "execution_count": 494,
     "metadata": {},
     "output_type": "execute_result"
    }
   ],
   "source": [
    "scoret=[]\n",
    "for i in abbrevt['symbols']:\n",
    "        if i in vocabt:\n",
    "            scoret.append([i,(model.wv.similarity(i, 'cancer'))])\n",
    "#Sort score highest to lowest\n",
    "scoretdf = pd.DataFrame(scoret)\n",
    "scoretdf=scoretdf.sort_values(1,ascending=False).iloc[0:8,:]\n",
    "scoretdf.iloc[0:10,:]"
   ]
  },
  {
   "cell_type": "code",
   "execution_count": 495,
   "metadata": {},
   "outputs": [
    {
     "data": {
      "text/plain": [
       "\"CTCF gene is a member of the BORIS + CTCF gene family and encodes a transcriptional regulator protein with 11 highly conserved zinc finger (ZF) domains. This nuclear protein is able to use different combinations of the ZF domains to bind different DNA target sequences and proteins. Depending upon the context of the site, the protein can bind a histone acetyltransferase (HAT)-containing complex and function as a transcriptional activator or bind a histone deacetylase (HDAC)-containing complex and function as a transcriptional repressor. If the protein is bound to a transcriptional insulator element, it can block communication between enhancers and upstream promoters, thereby regulating imprinted expression. Mutations in CTCF gene have been associated with invasive breast cancers, prostate cancers, and Wilms' tumors. Alternatively spliced transcript variants encoding different isoforms have been found for CTCF gene. [provided by RefSeq, Jul 2010]\""
      ]
     },
     "execution_count": 495,
     "metadata": {},
     "output_type": "execute_result"
    }
   ],
   "source": [
    "scorest=scoretdf.iloc[0,0].upper()\n",
    "i=np.where(test['symbols']==scorest)[0][0]\n",
    "test.iloc[i,4]"
   ]
  },
  {
   "cell_type": "code",
   "execution_count": 496,
   "metadata": {},
   "outputs": [
    {
     "data": {
      "text/html": [
       "<div>\n",
       "<style scoped>\n",
       "    .dataframe tbody tr th:only-of-type {\n",
       "        vertical-align: middle;\n",
       "    }\n",
       "\n",
       "    .dataframe tbody tr th {\n",
       "        vertical-align: top;\n",
       "    }\n",
       "\n",
       "    .dataframe thead th {\n",
       "        text-align: right;\n",
       "    }\n",
       "</style>\n",
       "<table border=\"1\" class=\"dataframe\">\n",
       "  <thead>\n",
       "    <tr style=\"text-align: right;\">\n",
       "      <th></th>\n",
       "      <th>0</th>\n",
       "      <th>1</th>\n",
       "    </tr>\n",
       "  </thead>\n",
       "  <tbody>\n",
       "    <tr>\n",
       "      <th>15</th>\n",
       "      <td>mcm3</td>\n",
       "      <td>0.823161</td>\n",
       "    </tr>\n",
       "    <tr>\n",
       "      <th>23</th>\n",
       "      <td>lmna</td>\n",
       "      <td>0.811645</td>\n",
       "    </tr>\n",
       "    <tr>\n",
       "      <th>45</th>\n",
       "      <td>pappa</td>\n",
       "      <td>0.795664</td>\n",
       "    </tr>\n",
       "    <tr>\n",
       "      <th>25</th>\n",
       "      <td>nat2</td>\n",
       "      <td>0.763765</td>\n",
       "    </tr>\n",
       "    <tr>\n",
       "      <th>52</th>\n",
       "      <td>ctcf</td>\n",
       "      <td>0.687483</td>\n",
       "    </tr>\n",
       "    <tr>\n",
       "      <th>39</th>\n",
       "      <td>avp</td>\n",
       "      <td>0.663865</td>\n",
       "    </tr>\n",
       "    <tr>\n",
       "      <th>3</th>\n",
       "      <td>mcl1</td>\n",
       "      <td>0.661100</td>\n",
       "    </tr>\n",
       "    <tr>\n",
       "      <th>69</th>\n",
       "      <td>cdh1</td>\n",
       "      <td>0.646263</td>\n",
       "    </tr>\n",
       "  </tbody>\n",
       "</table>\n",
       "</div>"
      ],
      "text/plain": [
       "        0         1\n",
       "15   mcm3  0.823161\n",
       "23   lmna  0.811645\n",
       "45  pappa  0.795664\n",
       "25   nat2  0.763765\n",
       "52   ctcf  0.687483\n",
       "39    avp  0.663865\n",
       "3    mcl1  0.661100\n",
       "69   cdh1  0.646263"
      ]
     },
     "execution_count": 496,
     "metadata": {},
     "output_type": "execute_result"
    }
   ],
   "source": [
    "scoret=[]\n",
    "for i in abbrevt['symbols']:\n",
    "        if i in vocabt:\n",
    "            scoret.append([i,(model.wv.similarity(i, 'dystrophy'))])\n",
    "#Sort score highest to lowest\n",
    "scoretdf = pd.DataFrame(scoret)\n",
    "scoretdf=scoretdf.sort_values(1,ascending=False).iloc[0:8,:]\n",
    "scoretdf.iloc[0:10,:]"
   ]
  },
  {
   "cell_type": "code",
   "execution_count": 497,
   "metadata": {},
   "outputs": [
    {
     "data": {
      "text/plain": [
       "'The nuclear lamina consists of a two-dimensional matrix of proteins located next to the inner nuclear membrane. The lamin family of proteins make up the matrix and are highly conserved in evolution. During mitosis, the lamina matrix is reversibly disassembled as the lamin proteins are phosphorylated. Lamin proteins are thought to be involved in nuclear stability, chromatin structure and gene expression. Vertebrate lamins consist of two types, A and B. Alternative splicing results in multiple transcript variants. Mutations in LMNA gene lead to several diseases: Emery-Dreifuss muscular dystrophy, familial partial lipodystrophy, limb girdle muscular dystrophy, dilated cardiomyopathy, Charcot-Marie-Tooth disease, and Hutchinson-Gilford progeria syndrome. [provided by RefSeq, Apr 2012]'"
      ]
     },
     "execution_count": 497,
     "metadata": {},
     "output_type": "execute_result"
    }
   ],
   "source": [
    "scorest=scoretdf.iloc[1,0].upper()\n",
    "i=np.where(test['symbols']==scorest)[0][0]\n",
    "test.iloc[i,4]"
   ]
  },
  {
   "cell_type": "code",
   "execution_count": 498,
   "metadata": {},
   "outputs": [
    {
     "data": {
      "text/html": [
       "<div>\n",
       "<style scoped>\n",
       "    .dataframe tbody tr th:only-of-type {\n",
       "        vertical-align: middle;\n",
       "    }\n",
       "\n",
       "    .dataframe tbody tr th {\n",
       "        vertical-align: top;\n",
       "    }\n",
       "\n",
       "    .dataframe thead th {\n",
       "        text-align: right;\n",
       "    }\n",
       "</style>\n",
       "<table border=\"1\" class=\"dataframe\">\n",
       "  <thead>\n",
       "    <tr style=\"text-align: right;\">\n",
       "      <th></th>\n",
       "      <th>0</th>\n",
       "      <th>1</th>\n",
       "    </tr>\n",
       "  </thead>\n",
       "  <tbody>\n",
       "    <tr>\n",
       "      <th>0</th>\n",
       "      <td>abl1</td>\n",
       "      <td>0.787283</td>\n",
       "    </tr>\n",
       "    <tr>\n",
       "      <th>56</th>\n",
       "      <td>prf1</td>\n",
       "      <td>0.740940</td>\n",
       "    </tr>\n",
       "    <tr>\n",
       "      <th>48</th>\n",
       "      <td>epor</td>\n",
       "      <td>0.734225</td>\n",
       "    </tr>\n",
       "    <tr>\n",
       "      <th>14</th>\n",
       "      <td>ptprj</td>\n",
       "      <td>0.683358</td>\n",
       "    </tr>\n",
       "    <tr>\n",
       "      <th>34</th>\n",
       "      <td>xrcc3</td>\n",
       "      <td>0.671951</td>\n",
       "    </tr>\n",
       "    <tr>\n",
       "      <th>21</th>\n",
       "      <td>pparg</td>\n",
       "      <td>0.632348</td>\n",
       "    </tr>\n",
       "    <tr>\n",
       "      <th>3</th>\n",
       "      <td>mcl1</td>\n",
       "      <td>0.606683</td>\n",
       "    </tr>\n",
       "    <tr>\n",
       "      <th>27</th>\n",
       "      <td>tyms</td>\n",
       "      <td>0.599458</td>\n",
       "    </tr>\n",
       "  </tbody>\n",
       "</table>\n",
       "</div>"
      ],
      "text/plain": [
       "        0         1\n",
       "0    abl1  0.787283\n",
       "56   prf1  0.740940\n",
       "48   epor  0.734225\n",
       "14  ptprj  0.683358\n",
       "34  xrcc3  0.671951\n",
       "21  pparg  0.632348\n",
       "3    mcl1  0.606683\n",
       "27   tyms  0.599458"
      ]
     },
     "execution_count": 498,
     "metadata": {},
     "output_type": "execute_result"
    }
   ],
   "source": [
    "scoret=[]\n",
    "for i in abbrevt['symbols']:\n",
    "        if i in vocabt:\n",
    "            scoret.append([i,(model.wv.similarity(i, 'leukemia'))])\n",
    "#Sort score highest to lowest\n",
    "scoretdf = pd.DataFrame(scoret)\n",
    "scoretdf=scoretdf.sort_values(1,ascending=False).iloc[0:8,:]\n",
    "scoretdf.iloc[0:10,:]"
   ]
  },
  {
   "cell_type": "code",
   "execution_count": 499,
   "metadata": {},
   "outputs": [
    {
     "data": {
      "text/plain": [
       "' ABL1 is ABL proto-oncogene 1, non-receptor tyrosine kinase (human),also ABL, CHDSKM, JTK7, bcr/abl, c-ABL, c-ABL1, p150, v-abl,It is tyrosine-protein kinase ABL1; Abelson tyrosine-protein kinase 1; bcr/c-abl oncogene protein; c-abl oncogene 1, receptor tyrosine kinase; proto-oncogene c-Abl; proto-oncogene tyrosine-protein kinase ABL1; v-abl Abelson murine leukemia viral oncogene homolog 1,Chromosome: 9; Location: 9q34.12,Annotation: Chromosome 9 NC_000009.12 (130713881..130887675),MIM: 189980'"
      ]
     },
     "execution_count": 499,
     "metadata": {},
     "output_type": "execute_result"
    }
   ],
   "source": [
    "scorest=scoretdf.iloc[0,0].upper()\n",
    "i=np.where(test['symbols']==scorest)[0][0]\n",
    "test.iloc[i,4]"
   ]
  },
  {
   "cell_type": "code",
   "execution_count": 500,
   "metadata": {},
   "outputs": [
    {
     "data": {
      "text/html": [
       "<div>\n",
       "<style scoped>\n",
       "    .dataframe tbody tr th:only-of-type {\n",
       "        vertical-align: middle;\n",
       "    }\n",
       "\n",
       "    .dataframe tbody tr th {\n",
       "        vertical-align: top;\n",
       "    }\n",
       "\n",
       "    .dataframe thead th {\n",
       "        text-align: right;\n",
       "    }\n",
       "</style>\n",
       "<table border=\"1\" class=\"dataframe\">\n",
       "  <thead>\n",
       "    <tr style=\"text-align: right;\">\n",
       "      <th></th>\n",
       "      <th>0</th>\n",
       "      <th>1</th>\n",
       "    </tr>\n",
       "  </thead>\n",
       "  <tbody>\n",
       "    <tr>\n",
       "      <th>57</th>\n",
       "      <td>dcn</td>\n",
       "      <td>0.741716</td>\n",
       "    </tr>\n",
       "    <tr>\n",
       "      <th>15</th>\n",
       "      <td>mcm3</td>\n",
       "      <td>0.696583</td>\n",
       "    </tr>\n",
       "    <tr>\n",
       "      <th>23</th>\n",
       "      <td>lmna</td>\n",
       "      <td>0.693009</td>\n",
       "    </tr>\n",
       "    <tr>\n",
       "      <th>25</th>\n",
       "      <td>nat2</td>\n",
       "      <td>0.587872</td>\n",
       "    </tr>\n",
       "    <tr>\n",
       "      <th>50</th>\n",
       "      <td>hmga1</td>\n",
       "      <td>0.570986</td>\n",
       "    </tr>\n",
       "    <tr>\n",
       "      <th>45</th>\n",
       "      <td>pappa</td>\n",
       "      <td>0.532165</td>\n",
       "    </tr>\n",
       "    <tr>\n",
       "      <th>65</th>\n",
       "      <td>pten</td>\n",
       "      <td>0.528039</td>\n",
       "    </tr>\n",
       "    <tr>\n",
       "      <th>61</th>\n",
       "      <td>pten</td>\n",
       "      <td>0.528039</td>\n",
       "    </tr>\n",
       "  </tbody>\n",
       "</table>\n",
       "</div>"
      ],
      "text/plain": [
       "        0         1\n",
       "57    dcn  0.741716\n",
       "15   mcm3  0.696583\n",
       "23   lmna  0.693009\n",
       "25   nat2  0.587872\n",
       "50  hmga1  0.570986\n",
       "45  pappa  0.532165\n",
       "65   pten  0.528039\n",
       "61   pten  0.528039"
      ]
     },
     "execution_count": 500,
     "metadata": {},
     "output_type": "execute_result"
    }
   ],
   "source": [
    "scoret=[]\n",
    "for i in abbrevt['symbols']:\n",
    "        if i in vocabt:\n",
    "            scoret.append([i,(model.wv.similarity(i, 'diabetes'))])\n",
    "#Sort score highest to lowest\n",
    "scoretdf = pd.DataFrame(scoret)\n",
    "scoretdf=scoretdf.sort_values(1,ascending=False).iloc[0:8,:]\n",
    "scoretdf.iloc[0:10,:]"
   ]
  },
  {
   "cell_type": "code",
   "execution_count": 501,
   "metadata": {},
   "outputs": [
    {
     "data": {
      "text/plain": [
       "'DCN gene encodes a member of the small leucine-rich proteoglycan family of proteins. Alternative splicing results in multiple transcript variants, at least one of which encodes a preproprotein that is proteolytically processed to generate the mature protein. This protein plays a role in collagen fibril assembly. Binding of this protein to multiple cell surface receptors mediates its role in tumor suppression, including a stimulatory effect on autophagy and inflammation and an inhibitory effect on angiogenesis and tumorigenesis. DCN gene and the related gene biglycan are thought to be the result of a gene duplication. Mutations in DCN gene are associated with congenital stromal corneal dystrophy in human patients. [provided by RefSeq, Nov 2015]'"
      ]
     },
     "execution_count": 501,
     "metadata": {},
     "output_type": "execute_result"
    }
   ],
   "source": [
    "scorest=scoretdf.iloc[0,0].upper()\n",
    "i=np.where(test['symbols']==scorest)[0][0]\n",
    "test.iloc[i,4]"
   ]
  },
  {
   "cell_type": "code",
   "execution_count": 502,
   "metadata": {},
   "outputs": [
    {
     "data": {
      "text/html": [
       "<div>\n",
       "<style scoped>\n",
       "    .dataframe tbody tr th:only-of-type {\n",
       "        vertical-align: middle;\n",
       "    }\n",
       "\n",
       "    .dataframe tbody tr th {\n",
       "        vertical-align: top;\n",
       "    }\n",
       "\n",
       "    .dataframe thead th {\n",
       "        text-align: right;\n",
       "    }\n",
       "</style>\n",
       "<table border=\"1\" class=\"dataframe\">\n",
       "  <thead>\n",
       "    <tr style=\"text-align: right;\">\n",
       "      <th></th>\n",
       "      <th>0</th>\n",
       "      <th>1</th>\n",
       "    </tr>\n",
       "  </thead>\n",
       "  <tbody>\n",
       "    <tr>\n",
       "      <th>52</th>\n",
       "      <td>ctcf</td>\n",
       "      <td>0.883455</td>\n",
       "    </tr>\n",
       "    <tr>\n",
       "      <th>21</th>\n",
       "      <td>pparg</td>\n",
       "      <td>0.759933</td>\n",
       "    </tr>\n",
       "    <tr>\n",
       "      <th>53</th>\n",
       "      <td>ercc5</td>\n",
       "      <td>0.750906</td>\n",
       "    </tr>\n",
       "    <tr>\n",
       "      <th>25</th>\n",
       "      <td>nat2</td>\n",
       "      <td>0.717534</td>\n",
       "    </tr>\n",
       "    <tr>\n",
       "      <th>8</th>\n",
       "      <td>bcar1</td>\n",
       "      <td>0.715035</td>\n",
       "    </tr>\n",
       "    <tr>\n",
       "      <th>38</th>\n",
       "      <td>stim1</td>\n",
       "      <td>0.700112</td>\n",
       "    </tr>\n",
       "    <tr>\n",
       "      <th>69</th>\n",
       "      <td>cdh1</td>\n",
       "      <td>0.687375</td>\n",
       "    </tr>\n",
       "    <tr>\n",
       "      <th>64</th>\n",
       "      <td>klk3</td>\n",
       "      <td>0.679251</td>\n",
       "    </tr>\n",
       "  </tbody>\n",
       "</table>\n",
       "</div>"
      ],
      "text/plain": [
       "        0         1\n",
       "52   ctcf  0.883455\n",
       "21  pparg  0.759933\n",
       "53  ercc5  0.750906\n",
       "25   nat2  0.717534\n",
       "8   bcar1  0.715035\n",
       "38  stim1  0.700112\n",
       "69   cdh1  0.687375\n",
       "64   klk3  0.679251"
      ]
     },
     "execution_count": 502,
     "metadata": {},
     "output_type": "execute_result"
    }
   ],
   "source": [
    "scoret=[]\n",
    "for i in abbrevt['symbols']:\n",
    "        if i in vocabt:\n",
    "            scoret.append([i,(model.wv.similarity(i, 'parkinson'))])\n",
    "#Sort score highest to lowest\n",
    "scoretdf = pd.DataFrame(scoret)\n",
    "scoretdf=scoretdf.sort_values(1,ascending=False).iloc[0:8,:]\n",
    "scoretdf.iloc[0:10,:]"
   ]
  },
  {
   "cell_type": "code",
   "execution_count": 506,
   "metadata": {},
   "outputs": [
    {
     "data": {
      "text/plain": [
       "\"CTCF gene is a member of the BORIS + CTCF gene family and encodes a transcriptional regulator protein with 11 highly conserved zinc finger (ZF) domains. This nuclear protein is able to use different combinations of the ZF domains to bind different DNA target sequences and proteins. Depending upon the context of the site, the protein can bind a histone acetyltransferase (HAT)-containing complex and function as a transcriptional activator or bind a histone deacetylase (HDAC)-containing complex and function as a transcriptional repressor. If the protein is bound to a transcriptional insulator element, it can block communication between enhancers and upstream promoters, thereby regulating imprinted expression. Mutations in CTCF gene have been associated with invasive breast cancers, prostate cancers, and Wilms' tumors. Alternatively spliced transcript variants encoding different isoforms have been found for CTCF gene. [provided by RefSeq, Jul 2010]\""
      ]
     },
     "execution_count": 506,
     "metadata": {},
     "output_type": "execute_result"
    }
   ],
   "source": [
    "scorest=scoretdf.iloc[0,0].upper()\n",
    "i=np.where(test['symbols']==scorest)[0][0]\n",
    "test.iloc[i,4]"
   ]
  },
  {
   "cell_type": "markdown",
   "metadata": {},
   "source": [
    "It's interesting that many of the top matching gene results for the test set did not match with the specific disease but instead with the particular proteins affecting the disease: heat shock proteins for Alzheimer, zinc finger proteins for Parkinson, and the small leucine-rich proteoglycan family for diabetes. The test set may have been too small to differentiate genes, but not too small to differentiate protein families. The test set model was successful at finding a gene match for dystrophy, and, not suprisingly, it was sucessful at finding cancer and leukemia genes. Cancer and leukemia are very general terms, and most of the genes in the gene database seem to be factors in cancer so there's plenty of data for matching. \n",
    "\n",
    "The results of this test set show that the training model was not overfit, but improvements can still be made. The model needs more gene abstracts to be more robust. Searches can return multiple matches, but I think that the matches should not be returned unless the first match contains the disease name. Protein matches are useful, but looking for the disease name in the top matching gene abstract is a good way to check and make sure the model has been successful. It's also important to make it so that 2-word search terms can be used - like 'muscular dystrophy', or 'breast cancer'. "
   ]
  },
  {
   "cell_type": "markdown",
   "metadata": {},
   "source": [
    "As far as what I've learned from this model about gene research, I'd say more reserach needs to be done in diabetes. Although there are plenty of gene abstracts containing the keyword 'diabetes\", it was rare that any of the top gene matches were directly linked to diabetes. They were related to diabetes, but not yet considered factors."
   ]
  },
  {
   "cell_type": "code",
   "execution_count": null,
   "metadata": {},
   "outputs": [],
   "source": []
  }
 ],
 "metadata": {
  "kernelspec": {
   "display_name": "Python 3",
   "language": "python",
   "name": "python3"
  },
  "language_info": {
   "codemirror_mode": {
    "name": "ipython",
    "version": 3
   },
   "file_extension": ".py",
   "mimetype": "text/x-python",
   "name": "python",
   "nbconvert_exporter": "python",
   "pygments_lexer": "ipython3",
   "version": "3.6.4"
  }
 },
 "nbformat": 4,
 "nbformat_minor": 2
}
