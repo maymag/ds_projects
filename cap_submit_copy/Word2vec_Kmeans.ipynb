{
 "cells": [
  {
   "cell_type": "markdown",
   "metadata": {},
   "source": [
    "Human gene research is moving fast. How do you summarize all of these discoveries in an objective way so they can be used in the nutrition (nutrigenomics) or healthcare fields?  How do you gather enough evidence to point the way toward needed medical research? \n",
    "\n",
    "Using gene definitions and abstracts from NCBI, I'd like to make a gene calculator that knows the language of gene research and can tell you which genes are most related to a health disorder. There are so many conditions for which the medical field has no answers, and that means diet and nutrition are an important aspect of quality of life improvement. Gene mutations often have very specific roles in metabolism and understanding these roles can lead the way to better health.\n"
   ]
  },
  {
   "cell_type": "markdown",
   "metadata": {},
   "source": [
    "Using gene technical definitions and abstracts containing both gene and medical information from the NCBI website, I'm going to use Word2Vec similarity to match gene abbreviations with medical disorders. First I'll create a dataframe with tokenized strings. I'll use lemmas but i'll keep stop words. Then I'll run the Word2Vec model and see if I can match gene acronyms to diseases with varied number of mentions in the dataset. I'll look at the top 10 matches for my analysis and see if the disease keyword is mentioned. I'll optimize model parameters by running the training model many times using np.random and adjusting the model parameters to find the best matches each time."
   ]
  },
  {
   "cell_type": "code",
   "execution_count": 71,
   "metadata": {},
   "outputs": [],
   "source": [
    "import pandas as pd\n",
    "import numpy as np\n",
    "from sklearn.cluster import AffinityPropagation as Aff\n",
    "import numpy as np\n",
    "#import distance\n",
    "from sklearn import metrics\n",
    "import matplotlib.pyplot as plt\n",
    "%matplotlib inline\n",
    "import re"
   ]
  },
  {
   "cell_type": "code",
   "execution_count": 72,
   "metadata": {},
   "outputs": [],
   "source": [
    "import spacy"
   ]
  },
  {
   "cell_type": "markdown",
   "metadata": {},
   "source": [
    "First I'll import and clean my datasets."
   ]
  },
  {
   "cell_type": "code",
   "execution_count": 73,
   "metadata": {},
   "outputs": [
    {
     "data": {
      "text/html": [
       "<div>\n",
       "<style scoped>\n",
       "    .dataframe tbody tr th:only-of-type {\n",
       "        vertical-align: middle;\n",
       "    }\n",
       "\n",
       "    .dataframe tbody tr th {\n",
       "        vertical-align: top;\n",
       "    }\n",
       "\n",
       "    .dataframe thead th {\n",
       "        text-align: right;\n",
       "    }\n",
       "</style>\n",
       "<table border=\"1\" class=\"dataframe\">\n",
       "  <thead>\n",
       "    <tr style=\"text-align: right;\">\n",
       "      <th></th>\n",
       "      <th>Unnamed: 0</th>\n",
       "      <th>symbol</th>\n",
       "      <th>blurb</th>\n",
       "      <th>match</th>\n",
       "    </tr>\n",
       "  </thead>\n",
       "  <tbody>\n",
       "    <tr>\n",
       "      <td>0</td>\n",
       "      <td>0</td>\n",
       "      <td>TP53</td>\n",
       "      <td>This gene encodes a tumor suppressor protein c...</td>\n",
       "      <td>0</td>\n",
       "    </tr>\n",
       "    <tr>\n",
       "      <td>1</td>\n",
       "      <td>1</td>\n",
       "      <td>EGFR</td>\n",
       "      <td>The protein encoded by this gene is a transmem...</td>\n",
       "      <td>0</td>\n",
       "    </tr>\n",
       "    <tr>\n",
       "      <td>2</td>\n",
       "      <td>2</td>\n",
       "      <td>TNF</td>\n",
       "      <td>This gene encodes a multifunctional proinflamm...</td>\n",
       "      <td>0</td>\n",
       "    </tr>\n",
       "    <tr>\n",
       "      <td>3</td>\n",
       "      <td>3</td>\n",
       "      <td>APOE</td>\n",
       "      <td>The protein encoded by this gene is a major ap...</td>\n",
       "      <td>0</td>\n",
       "    </tr>\n",
       "    <tr>\n",
       "      <td>4</td>\n",
       "      <td>4</td>\n",
       "      <td>VEGFA</td>\n",
       "      <td>This gene is a member of the PDGF/VEGF growth ...</td>\n",
       "      <td>0</td>\n",
       "    </tr>\n",
       "  </tbody>\n",
       "</table>\n",
       "</div>"
      ],
      "text/plain": [
       "   Unnamed: 0 symbol                                              blurb  match\n",
       "0           0   TP53  This gene encodes a tumor suppressor protein c...      0\n",
       "1           1   EGFR  The protein encoded by this gene is a transmem...      0\n",
       "2           2    TNF  This gene encodes a multifunctional proinflamm...      0\n",
       "3           3   APOE  The protein encoded by this gene is a major ap...      0\n",
       "4           4  VEGFA  This gene is a member of the PDGF/VEGF growth ...      0"
      ]
     },
     "execution_count": 73,
     "metadata": {},
     "output_type": "execute_result"
    }
   ],
   "source": [
    "#import,clean and label datasets\n",
    "abstracts= pd.read_csv('genesdf')\n",
    "abstracts.head()"
   ]
  },
  {
   "cell_type": "code",
   "execution_count": 74,
   "metadata": {},
   "outputs": [],
   "source": [
    "abstracts['abstract'] = 1"
   ]
  },
  {
   "cell_type": "code",
   "execution_count": 75,
   "metadata": {},
   "outputs": [
    {
     "data": {
      "text/html": [
       "<div>\n",
       "<style scoped>\n",
       "    .dataframe tbody tr th:only-of-type {\n",
       "        vertical-align: middle;\n",
       "    }\n",
       "\n",
       "    .dataframe tbody tr th {\n",
       "        vertical-align: top;\n",
       "    }\n",
       "\n",
       "    .dataframe thead th {\n",
       "        text-align: right;\n",
       "    }\n",
       "</style>\n",
       "<table border=\"1\" class=\"dataframe\">\n",
       "  <thead>\n",
       "    <tr style=\"text-align: right;\">\n",
       "      <th></th>\n",
       "      <th>Unnamed: 0</th>\n",
       "      <th>acros</th>\n",
       "      <th>blurb2</th>\n",
       "      <th>match</th>\n",
       "      <th>med</th>\n",
       "      <th>abstract</th>\n",
       "    </tr>\n",
       "  </thead>\n",
       "  <tbody>\n",
       "    <tr>\n",
       "      <td>0</td>\n",
       "      <td>0</td>\n",
       "      <td>TP53</td>\n",
       "      <td>Official Symbol- TP53 and Name: tumor protein ...</td>\n",
       "      <td>0</td>\n",
       "      <td>0</td>\n",
       "      <td>0</td>\n",
       "    </tr>\n",
       "    <tr>\n",
       "      <td>1</td>\n",
       "      <td>1</td>\n",
       "      <td>EGFR</td>\n",
       "      <td>Official Symbol- EGFR and Name: epidermal grow...</td>\n",
       "      <td>0</td>\n",
       "      <td>0</td>\n",
       "      <td>0</td>\n",
       "    </tr>\n",
       "    <tr>\n",
       "      <td>2</td>\n",
       "      <td>2</td>\n",
       "      <td>TNF</td>\n",
       "      <td>Official Symbol- TNF and Name: tumor necrosis ...</td>\n",
       "      <td>0</td>\n",
       "      <td>0</td>\n",
       "      <td>0</td>\n",
       "    </tr>\n",
       "    <tr>\n",
       "      <td>3</td>\n",
       "      <td>3</td>\n",
       "      <td>APOE</td>\n",
       "      <td>Official Symbol- APOE and Name: apolipoprotein...</td>\n",
       "      <td>0</td>\n",
       "      <td>0</td>\n",
       "      <td>0</td>\n",
       "    </tr>\n",
       "    <tr>\n",
       "      <td>4</td>\n",
       "      <td>4</td>\n",
       "      <td>VEGFA</td>\n",
       "      <td>Official Symbol- VEGFA and Name: vascular endo...</td>\n",
       "      <td>0</td>\n",
       "      <td>0</td>\n",
       "      <td>0</td>\n",
       "    </tr>\n",
       "  </tbody>\n",
       "</table>\n",
       "</div>"
      ],
      "text/plain": [
       "   Unnamed: 0   acros                                             blurb2  \\\n",
       "0           0    TP53  Official Symbol- TP53 and Name: tumor protein ...   \n",
       "1           1    EGFR  Official Symbol- EGFR and Name: epidermal grow...   \n",
       "2           2     TNF  Official Symbol- TNF and Name: tumor necrosis ...   \n",
       "3           3    APOE  Official Symbol- APOE and Name: apolipoprotein...   \n",
       "4           4   VEGFA  Official Symbol- VEGFA and Name: vascular endo...   \n",
       "\n",
       "   match  med  abstract  \n",
       "0      0    0         0  \n",
       "1      0    0         0  \n",
       "2      0    0         0  \n",
       "3      0    0         0  \n",
       "4      0    0         0  "
      ]
     },
     "execution_count": 75,
     "metadata": {},
     "output_type": "execute_result"
    }
   ],
   "source": [
    "genes2 = pd.read_csv('genesdf2')\n",
    "genes2['med']=0\n",
    "genes2['abstract'] = 0\n",
    "genes2.head()"
   ]
  },
  {
   "cell_type": "code",
   "execution_count": 76,
   "metadata": {},
   "outputs": [],
   "source": [
    "genes2['symbols'] = genes2['acros'].apply(lambda x: (str(x).upper()).strip())\n",
    "genes2 = genes2.drop(['acros','Unnamed: 0'],axis=1)"
   ]
  },
  {
   "cell_type": "code",
   "execution_count": 77,
   "metadata": {},
   "outputs": [
    {
     "data": {
      "text/html": [
       "<div>\n",
       "<style scoped>\n",
       "    .dataframe tbody tr th:only-of-type {\n",
       "        vertical-align: middle;\n",
       "    }\n",
       "\n",
       "    .dataframe tbody tr th {\n",
       "        vertical-align: top;\n",
       "    }\n",
       "\n",
       "    .dataframe thead th {\n",
       "        text-align: right;\n",
       "    }\n",
       "</style>\n",
       "<table border=\"1\" class=\"dataframe\">\n",
       "  <thead>\n",
       "    <tr style=\"text-align: right;\">\n",
       "      <th></th>\n",
       "      <th>blurb2</th>\n",
       "      <th>match</th>\n",
       "      <th>med</th>\n",
       "      <th>abstract</th>\n",
       "      <th>symbols</th>\n",
       "    </tr>\n",
       "  </thead>\n",
       "  <tbody>\n",
       "    <tr>\n",
       "      <td>12</td>\n",
       "      <td>Official Symbol- APP and Name: amyloid beta pr...</td>\n",
       "      <td>0</td>\n",
       "      <td>0</td>\n",
       "      <td>0</td>\n",
       "      <td>APP</td>\n",
       "    </tr>\n",
       "    <tr>\n",
       "      <td>3068</td>\n",
       "      <td>Official Symbol- APP and Name: amyloid beta pr...</td>\n",
       "      <td>1</td>\n",
       "      <td>0</td>\n",
       "      <td>0</td>\n",
       "      <td>APP</td>\n",
       "    </tr>\n",
       "  </tbody>\n",
       "</table>\n",
       "</div>"
      ],
      "text/plain": [
       "                                                 blurb2  match  med  abstract  \\\n",
       "12    Official Symbol- APP and Name: amyloid beta pr...      0    0         0   \n",
       "3068  Official Symbol- APP and Name: amyloid beta pr...      1    0         0   \n",
       "\n",
       "     symbols  \n",
       "12       APP  \n",
       "3068     APP  "
      ]
     },
     "execution_count": 77,
     "metadata": {},
     "output_type": "execute_result"
    }
   ],
   "source": [
    "genes2[genes2['symbols']=='APP']"
   ]
  },
  {
   "cell_type": "code",
   "execution_count": 78,
   "metadata": {},
   "outputs": [
    {
     "data": {
      "text/html": [
       "<div>\n",
       "<style scoped>\n",
       "    .dataframe tbody tr th:only-of-type {\n",
       "        vertical-align: middle;\n",
       "    }\n",
       "\n",
       "    .dataframe tbody tr th {\n",
       "        vertical-align: top;\n",
       "    }\n",
       "\n",
       "    .dataframe thead th {\n",
       "        text-align: right;\n",
       "    }\n",
       "</style>\n",
       "<table border=\"1\" class=\"dataframe\">\n",
       "  <thead>\n",
       "    <tr style=\"text-align: right;\">\n",
       "      <th></th>\n",
       "      <th>blurb2</th>\n",
       "      <th>match</th>\n",
       "      <th>med</th>\n",
       "      <th>abstract</th>\n",
       "      <th>symbols</th>\n",
       "    </tr>\n",
       "  </thead>\n",
       "  <tbody>\n",
       "    <tr>\n",
       "      <td>12</td>\n",
       "      <td>Official Symbol- APP and Name: amyloid beta pr...</td>\n",
       "      <td>0</td>\n",
       "      <td>0</td>\n",
       "      <td>0</td>\n",
       "      <td>APP</td>\n",
       "    </tr>\n",
       "  </tbody>\n",
       "</table>\n",
       "</div>"
      ],
      "text/plain": [
       "                                               blurb2  match  med  abstract  \\\n",
       "12  Official Symbol- APP and Name: amyloid beta pr...      0    0         0   \n",
       "\n",
       "   symbols  \n",
       "12     APP  "
      ]
     },
     "execution_count": 78,
     "metadata": {},
     "output_type": "execute_result"
    }
   ],
   "source": [
    "genes3 = genes2.drop_duplicates(subset=['blurb2','symbols'], keep='first', inplace=False)\n",
    "genes3[genes3['symbols']=='APP']"
   ]
  },
  {
   "cell_type": "code",
   "execution_count": 79,
   "metadata": {},
   "outputs": [
    {
     "data": {
      "text/html": [
       "<div>\n",
       "<style scoped>\n",
       "    .dataframe tbody tr th:only-of-type {\n",
       "        vertical-align: middle;\n",
       "    }\n",
       "\n",
       "    .dataframe tbody tr th {\n",
       "        vertical-align: top;\n",
       "    }\n",
       "\n",
       "    .dataframe thead th {\n",
       "        text-align: right;\n",
       "    }\n",
       "</style>\n",
       "<table border=\"1\" class=\"dataframe\">\n",
       "  <thead>\n",
       "    <tr style=\"text-align: right;\">\n",
       "      <th></th>\n",
       "      <th>Unnamed: 0</th>\n",
       "      <th>symbol</th>\n",
       "      <th>blurb</th>\n",
       "      <th>match</th>\n",
       "      <th>abstract</th>\n",
       "      <th>med</th>\n",
       "    </tr>\n",
       "  </thead>\n",
       "  <tbody>\n",
       "    <tr>\n",
       "      <td>0</td>\n",
       "      <td>0</td>\n",
       "      <td>TP53</td>\n",
       "      <td>This gene encodes a tumor suppressor protein c...</td>\n",
       "      <td>0</td>\n",
       "      <td>1</td>\n",
       "      <td>0</td>\n",
       "    </tr>\n",
       "    <tr>\n",
       "      <td>1</td>\n",
       "      <td>1</td>\n",
       "      <td>EGFR</td>\n",
       "      <td>The protein encoded by this gene is a transmem...</td>\n",
       "      <td>0</td>\n",
       "      <td>1</td>\n",
       "      <td>0</td>\n",
       "    </tr>\n",
       "    <tr>\n",
       "      <td>2</td>\n",
       "      <td>2</td>\n",
       "      <td>TNF</td>\n",
       "      <td>This gene encodes a multifunctional proinflamm...</td>\n",
       "      <td>0</td>\n",
       "      <td>1</td>\n",
       "      <td>0</td>\n",
       "    </tr>\n",
       "    <tr>\n",
       "      <td>3</td>\n",
       "      <td>3</td>\n",
       "      <td>APOE</td>\n",
       "      <td>The protein encoded by this gene is a major ap...</td>\n",
       "      <td>0</td>\n",
       "      <td>1</td>\n",
       "      <td>0</td>\n",
       "    </tr>\n",
       "    <tr>\n",
       "      <td>4</td>\n",
       "      <td>4</td>\n",
       "      <td>VEGFA</td>\n",
       "      <td>This gene is a member of the PDGF/VEGF growth ...</td>\n",
       "      <td>0</td>\n",
       "      <td>1</td>\n",
       "      <td>0</td>\n",
       "    </tr>\n",
       "  </tbody>\n",
       "</table>\n",
       "</div>"
      ],
      "text/plain": [
       "   Unnamed: 0 symbol                                              blurb  \\\n",
       "0           0   TP53  This gene encodes a tumor suppressor protein c...   \n",
       "1           1   EGFR  The protein encoded by this gene is a transmem...   \n",
       "2           2    TNF  This gene encodes a multifunctional proinflamm...   \n",
       "3           3   APOE  The protein encoded by this gene is a major ap...   \n",
       "4           4  VEGFA  This gene is a member of the PDGF/VEGF growth ...   \n",
       "\n",
       "   match  abstract  med  \n",
       "0      0         1    0  \n",
       "1      0         1    0  \n",
       "2      0         1    0  \n",
       "3      0         1    0  \n",
       "4      0         1    0  "
      ]
     },
     "execution_count": 79,
     "metadata": {},
     "output_type": "execute_result"
    }
   ],
   "source": [
    "abstracts['med']=0\n",
    "abstracts.head()"
   ]
  },
  {
   "cell_type": "code",
   "execution_count": 80,
   "metadata": {},
   "outputs": [],
   "source": [
    "abstracts['symbols'] = abstracts['symbol'].apply(lambda x: (str(x).upper().strip()))\n",
    "abstracts.drop(['symbol'],axis=1,inplace=True)"
   ]
  },
  {
   "cell_type": "code",
   "execution_count": 81,
   "metadata": {},
   "outputs": [
    {
     "data": {
      "text/html": [
       "<div>\n",
       "<style scoped>\n",
       "    .dataframe tbody tr th:only-of-type {\n",
       "        vertical-align: middle;\n",
       "    }\n",
       "\n",
       "    .dataframe tbody tr th {\n",
       "        vertical-align: top;\n",
       "    }\n",
       "\n",
       "    .dataframe thead th {\n",
       "        text-align: right;\n",
       "    }\n",
       "</style>\n",
       "<table border=\"1\" class=\"dataframe\">\n",
       "  <thead>\n",
       "    <tr style=\"text-align: right;\">\n",
       "      <th></th>\n",
       "      <th>Unnamed: 0</th>\n",
       "      <th>blurb</th>\n",
       "      <th>match</th>\n",
       "      <th>abstract</th>\n",
       "      <th>med</th>\n",
       "      <th>symbols</th>\n",
       "      <th>blurbs</th>\n",
       "    </tr>\n",
       "  </thead>\n",
       "  <tbody>\n",
       "    <tr>\n",
       "      <td>0</td>\n",
       "      <td>0</td>\n",
       "      <td>This gene encodes a tumor suppressor protein c...</td>\n",
       "      <td>0</td>\n",
       "      <td>1</td>\n",
       "      <td>0</td>\n",
       "      <td>TP53</td>\n",
       "      <td>TP53,This gene encodes a tumor suppressor prot...</td>\n",
       "    </tr>\n",
       "    <tr>\n",
       "      <td>1</td>\n",
       "      <td>1</td>\n",
       "      <td>The protein encoded by this gene is a transmem...</td>\n",
       "      <td>0</td>\n",
       "      <td>1</td>\n",
       "      <td>0</td>\n",
       "      <td>EGFR</td>\n",
       "      <td>EGFR,The protein encoded by this gene is a tra...</td>\n",
       "    </tr>\n",
       "    <tr>\n",
       "      <td>2</td>\n",
       "      <td>2</td>\n",
       "      <td>This gene encodes a multifunctional proinflamm...</td>\n",
       "      <td>0</td>\n",
       "      <td>1</td>\n",
       "      <td>0</td>\n",
       "      <td>TNF</td>\n",
       "      <td>TNF,This gene encodes a multifunctional proinf...</td>\n",
       "    </tr>\n",
       "    <tr>\n",
       "      <td>3</td>\n",
       "      <td>3</td>\n",
       "      <td>The protein encoded by this gene is a major ap...</td>\n",
       "      <td>0</td>\n",
       "      <td>1</td>\n",
       "      <td>0</td>\n",
       "      <td>APOE</td>\n",
       "      <td>APOE,The protein encoded by this gene is a maj...</td>\n",
       "    </tr>\n",
       "    <tr>\n",
       "      <td>4</td>\n",
       "      <td>4</td>\n",
       "      <td>This gene is a member of the PDGF/VEGF growth ...</td>\n",
       "      <td>0</td>\n",
       "      <td>1</td>\n",
       "      <td>0</td>\n",
       "      <td>VEGFA</td>\n",
       "      <td>VEGFA,This gene is a member of the PDGF/VEGF g...</td>\n",
       "    </tr>\n",
       "  </tbody>\n",
       "</table>\n",
       "</div>"
      ],
      "text/plain": [
       "   Unnamed: 0                                              blurb  match  \\\n",
       "0           0  This gene encodes a tumor suppressor protein c...      0   \n",
       "1           1  The protein encoded by this gene is a transmem...      0   \n",
       "2           2  This gene encodes a multifunctional proinflamm...      0   \n",
       "3           3  The protein encoded by this gene is a major ap...      0   \n",
       "4           4  This gene is a member of the PDGF/VEGF growth ...      0   \n",
       "\n",
       "   abstract  med symbols                                             blurbs  \n",
       "0         1    0    TP53  TP53,This gene encodes a tumor suppressor prot...  \n",
       "1         1    0    EGFR  EGFR,The protein encoded by this gene is a tra...  \n",
       "2         1    0     TNF  TNF,This gene encodes a multifunctional proinf...  \n",
       "3         1    0    APOE  APOE,The protein encoded by this gene is a maj...  \n",
       "4         1    0   VEGFA  VEGFA,This gene is a member of the PDGF/VEGF g...  "
      ]
     },
     "execution_count": 81,
     "metadata": {},
     "output_type": "execute_result"
    }
   ],
   "source": [
    "#Add acronym to abstracts text\n",
    "abstracts['blurbs'] = abstracts['symbols'].map(str) +','+abstracts['blurb'].map(str)\n",
    "abstracts.head()"
   ]
  },
  {
   "cell_type": "code",
   "execution_count": 82,
   "metadata": {},
   "outputs": [
    {
     "data": {
      "text/html": [
       "<div>\n",
       "<style scoped>\n",
       "    .dataframe tbody tr th:only-of-type {\n",
       "        vertical-align: middle;\n",
       "    }\n",
       "\n",
       "    .dataframe tbody tr th {\n",
       "        vertical-align: top;\n",
       "    }\n",
       "\n",
       "    .dataframe thead th {\n",
       "        text-align: right;\n",
       "    }\n",
       "</style>\n",
       "<table border=\"1\" class=\"dataframe\">\n",
       "  <thead>\n",
       "    <tr style=\"text-align: right;\">\n",
       "      <th></th>\n",
       "      <th>Unnamed: 0</th>\n",
       "      <th>blurb</th>\n",
       "      <th>match</th>\n",
       "      <th>abstract</th>\n",
       "      <th>med</th>\n",
       "      <th>symbols</th>\n",
       "      <th>blurbs</th>\n",
       "      <th>blurbs2</th>\n",
       "    </tr>\n",
       "  </thead>\n",
       "  <tbody>\n",
       "    <tr>\n",
       "      <td>0</td>\n",
       "      <td>0</td>\n",
       "      <td>This gene encodes a tumor suppressor protein c...</td>\n",
       "      <td>0</td>\n",
       "      <td>1</td>\n",
       "      <td>0</td>\n",
       "      <td>TP53</td>\n",
       "      <td>TP53,This gene encodes a tumor suppressor prot...</td>\n",
       "      <td>[TP53, This gene encodes a tumor suppressor pr...</td>\n",
       "    </tr>\n",
       "    <tr>\n",
       "      <td>1</td>\n",
       "      <td>1</td>\n",
       "      <td>The protein encoded by this gene is a transmem...</td>\n",
       "      <td>0</td>\n",
       "      <td>1</td>\n",
       "      <td>0</td>\n",
       "      <td>EGFR</td>\n",
       "      <td>EGFR,The protein encoded by this gene is a tra...</td>\n",
       "      <td>[EGFR, The protein encoded by this gene is a t...</td>\n",
       "    </tr>\n",
       "    <tr>\n",
       "      <td>2</td>\n",
       "      <td>2</td>\n",
       "      <td>This gene encodes a multifunctional proinflamm...</td>\n",
       "      <td>0</td>\n",
       "      <td>1</td>\n",
       "      <td>0</td>\n",
       "      <td>TNF</td>\n",
       "      <td>TNF,This gene encodes a multifunctional proinf...</td>\n",
       "      <td>[TNF, This gene encodes a multifunctional proi...</td>\n",
       "    </tr>\n",
       "    <tr>\n",
       "      <td>3</td>\n",
       "      <td>3</td>\n",
       "      <td>The protein encoded by this gene is a major ap...</td>\n",
       "      <td>0</td>\n",
       "      <td>1</td>\n",
       "      <td>0</td>\n",
       "      <td>APOE</td>\n",
       "      <td>APOE,The protein encoded by this gene is a maj...</td>\n",
       "      <td>[APOE, The protein encoded by this gene is a m...</td>\n",
       "    </tr>\n",
       "    <tr>\n",
       "      <td>4</td>\n",
       "      <td>4</td>\n",
       "      <td>This gene is a member of the PDGF/VEGF growth ...</td>\n",
       "      <td>0</td>\n",
       "      <td>1</td>\n",
       "      <td>0</td>\n",
       "      <td>VEGFA</td>\n",
       "      <td>VEGFA,This gene is a member of the PDGF/VEGF g...</td>\n",
       "      <td>[VEGFA, This gene is a member of the PDGF/VEGF...</td>\n",
       "    </tr>\n",
       "  </tbody>\n",
       "</table>\n",
       "</div>"
      ],
      "text/plain": [
       "   Unnamed: 0                                              blurb  match  \\\n",
       "0           0  This gene encodes a tumor suppressor protein c...      0   \n",
       "1           1  The protein encoded by this gene is a transmem...      0   \n",
       "2           2  This gene encodes a multifunctional proinflamm...      0   \n",
       "3           3  The protein encoded by this gene is a major ap...      0   \n",
       "4           4  This gene is a member of the PDGF/VEGF growth ...      0   \n",
       "\n",
       "   abstract  med symbols                                             blurbs  \\\n",
       "0         1    0    TP53  TP53,This gene encodes a tumor suppressor prot...   \n",
       "1         1    0    EGFR  EGFR,The protein encoded by this gene is a tra...   \n",
       "2         1    0     TNF  TNF,This gene encodes a multifunctional proinf...   \n",
       "3         1    0    APOE  APOE,The protein encoded by this gene is a maj...   \n",
       "4         1    0   VEGFA  VEGFA,This gene is a member of the PDGF/VEGF g...   \n",
       "\n",
       "                                             blurbs2  \n",
       "0  [TP53, This gene encodes a tumor suppressor pr...  \n",
       "1  [EGFR, The protein encoded by this gene is a t...  \n",
       "2  [TNF, This gene encodes a multifunctional proi...  \n",
       "3  [APOE, The protein encoded by this gene is a m...  \n",
       "4  [VEGFA, This gene is a member of the PDGF/VEGF...  "
      ]
     },
     "execution_count": 82,
     "metadata": {},
     "output_type": "execute_result"
    }
   ],
   "source": [
    "abstracts['blurbs2'] = abstracts['blurbs'].apply(lambda x: str(x).split(',',1))\n",
    "abstracts.head()"
   ]
  },
  {
   "cell_type": "code",
   "execution_count": 83,
   "metadata": {},
   "outputs": [],
   "source": [
    "def add_symbol(words_list,replace,texts):\n",
    "    for words in words_list:\n",
    "        new = texts.replace(words,replace)\n",
    "        texts = new\n",
    "    return texts\n",
    "   "
   ]
  },
  {
   "cell_type": "code",
   "execution_count": 84,
   "metadata": {},
   "outputs": [],
   "source": [
    "abstracts['blurbs3'] = abstracts['blurbs2'].apply(lambda x: add_symbol(['This gene','this gene'],x[0]+' gene',x[1]) if len(x)==2 else np.nan)"
   ]
  },
  {
   "cell_type": "code",
   "execution_count": 85,
   "metadata": {},
   "outputs": [
    {
     "data": {
      "text/html": [
       "<div>\n",
       "<style scoped>\n",
       "    .dataframe tbody tr th:only-of-type {\n",
       "        vertical-align: middle;\n",
       "    }\n",
       "\n",
       "    .dataframe tbody tr th {\n",
       "        vertical-align: top;\n",
       "    }\n",
       "\n",
       "    .dataframe thead th {\n",
       "        text-align: right;\n",
       "    }\n",
       "</style>\n",
       "<table border=\"1\" class=\"dataframe\">\n",
       "  <thead>\n",
       "    <tr style=\"text-align: right;\">\n",
       "      <th></th>\n",
       "      <th>Unnamed: 0</th>\n",
       "      <th>blurb</th>\n",
       "      <th>match</th>\n",
       "      <th>abstract</th>\n",
       "      <th>med</th>\n",
       "      <th>symbols</th>\n",
       "      <th>blurbs</th>\n",
       "      <th>blurbs2</th>\n",
       "      <th>blurbs3</th>\n",
       "    </tr>\n",
       "  </thead>\n",
       "  <tbody>\n",
       "    <tr>\n",
       "      <td>0</td>\n",
       "      <td>0</td>\n",
       "      <td>This gene encodes a tumor suppressor protein c...</td>\n",
       "      <td>0</td>\n",
       "      <td>1</td>\n",
       "      <td>0</td>\n",
       "      <td>TP53</td>\n",
       "      <td>TP53,This gene encodes a tumor suppressor prot...</td>\n",
       "      <td>[TP53, This gene encodes a tumor suppressor pr...</td>\n",
       "      <td>TP53 gene encodes a tumor suppressor protein c...</td>\n",
       "    </tr>\n",
       "    <tr>\n",
       "      <td>1</td>\n",
       "      <td>1</td>\n",
       "      <td>The protein encoded by this gene is a transmem...</td>\n",
       "      <td>0</td>\n",
       "      <td>1</td>\n",
       "      <td>0</td>\n",
       "      <td>EGFR</td>\n",
       "      <td>EGFR,The protein encoded by this gene is a tra...</td>\n",
       "      <td>[EGFR, The protein encoded by this gene is a t...</td>\n",
       "      <td>The protein encoded by EGFR gene is a transmem...</td>\n",
       "    </tr>\n",
       "    <tr>\n",
       "      <td>2</td>\n",
       "      <td>2</td>\n",
       "      <td>This gene encodes a multifunctional proinflamm...</td>\n",
       "      <td>0</td>\n",
       "      <td>1</td>\n",
       "      <td>0</td>\n",
       "      <td>TNF</td>\n",
       "      <td>TNF,This gene encodes a multifunctional proinf...</td>\n",
       "      <td>[TNF, This gene encodes a multifunctional proi...</td>\n",
       "      <td>TNF gene encodes a multifunctional proinflamma...</td>\n",
       "    </tr>\n",
       "    <tr>\n",
       "      <td>3</td>\n",
       "      <td>3</td>\n",
       "      <td>The protein encoded by this gene is a major ap...</td>\n",
       "      <td>0</td>\n",
       "      <td>1</td>\n",
       "      <td>0</td>\n",
       "      <td>APOE</td>\n",
       "      <td>APOE,The protein encoded by this gene is a maj...</td>\n",
       "      <td>[APOE, The protein encoded by this gene is a m...</td>\n",
       "      <td>The protein encoded by APOE gene is a major ap...</td>\n",
       "    </tr>\n",
       "    <tr>\n",
       "      <td>4</td>\n",
       "      <td>4</td>\n",
       "      <td>This gene is a member of the PDGF/VEGF growth ...</td>\n",
       "      <td>0</td>\n",
       "      <td>1</td>\n",
       "      <td>0</td>\n",
       "      <td>VEGFA</td>\n",
       "      <td>VEGFA,This gene is a member of the PDGF/VEGF g...</td>\n",
       "      <td>[VEGFA, This gene is a member of the PDGF/VEGF...</td>\n",
       "      <td>VEGFA gene is a member of the PDGF/VEGF growth...</td>\n",
       "    </tr>\n",
       "  </tbody>\n",
       "</table>\n",
       "</div>"
      ],
      "text/plain": [
       "   Unnamed: 0                                              blurb  match  \\\n",
       "0           0  This gene encodes a tumor suppressor protein c...      0   \n",
       "1           1  The protein encoded by this gene is a transmem...      0   \n",
       "2           2  This gene encodes a multifunctional proinflamm...      0   \n",
       "3           3  The protein encoded by this gene is a major ap...      0   \n",
       "4           4  This gene is a member of the PDGF/VEGF growth ...      0   \n",
       "\n",
       "   abstract  med symbols                                             blurbs  \\\n",
       "0         1    0    TP53  TP53,This gene encodes a tumor suppressor prot...   \n",
       "1         1    0    EGFR  EGFR,The protein encoded by this gene is a tra...   \n",
       "2         1    0     TNF  TNF,This gene encodes a multifunctional proinf...   \n",
       "3         1    0    APOE  APOE,The protein encoded by this gene is a maj...   \n",
       "4         1    0   VEGFA  VEGFA,This gene is a member of the PDGF/VEGF g...   \n",
       "\n",
       "                                             blurbs2  \\\n",
       "0  [TP53, This gene encodes a tumor suppressor pr...   \n",
       "1  [EGFR, The protein encoded by this gene is a t...   \n",
       "2  [TNF, This gene encodes a multifunctional proi...   \n",
       "3  [APOE, The protein encoded by this gene is a m...   \n",
       "4  [VEGFA, This gene is a member of the PDGF/VEGF...   \n",
       "\n",
       "                                             blurbs3  \n",
       "0  TP53 gene encodes a tumor suppressor protein c...  \n",
       "1  The protein encoded by EGFR gene is a transmem...  \n",
       "2  TNF gene encodes a multifunctional proinflamma...  \n",
       "3  The protein encoded by APOE gene is a major ap...  \n",
       "4  VEGFA gene is a member of the PDGF/VEGF growth...  "
      ]
     },
     "execution_count": 85,
     "metadata": {},
     "output_type": "execute_result"
    }
   ],
   "source": [
    "abstracts.head()"
   ]
  },
  {
   "cell_type": "code",
   "execution_count": 86,
   "metadata": {},
   "outputs": [
    {
     "data": {
      "text/html": [
       "<div>\n",
       "<style scoped>\n",
       "    .dataframe tbody tr th:only-of-type {\n",
       "        vertical-align: middle;\n",
       "    }\n",
       "\n",
       "    .dataframe tbody tr th {\n",
       "        vertical-align: top;\n",
       "    }\n",
       "\n",
       "    .dataframe thead th {\n",
       "        text-align: right;\n",
       "    }\n",
       "</style>\n",
       "<table border=\"1\" class=\"dataframe\">\n",
       "  <thead>\n",
       "    <tr style=\"text-align: right;\">\n",
       "      <th></th>\n",
       "      <th>Unnamed: 0</th>\n",
       "      <th>match</th>\n",
       "      <th>abstract</th>\n",
       "      <th>med</th>\n",
       "      <th>symbols</th>\n",
       "      <th>blurbs3</th>\n",
       "    </tr>\n",
       "  </thead>\n",
       "  <tbody>\n",
       "    <tr>\n",
       "      <td>0</td>\n",
       "      <td>0</td>\n",
       "      <td>0</td>\n",
       "      <td>1</td>\n",
       "      <td>0</td>\n",
       "      <td>TP53</td>\n",
       "      <td>TP53 gene encodes a tumor suppressor protein c...</td>\n",
       "    </tr>\n",
       "    <tr>\n",
       "      <td>1</td>\n",
       "      <td>1</td>\n",
       "      <td>0</td>\n",
       "      <td>1</td>\n",
       "      <td>0</td>\n",
       "      <td>EGFR</td>\n",
       "      <td>The protein encoded by EGFR gene is a transmem...</td>\n",
       "    </tr>\n",
       "    <tr>\n",
       "      <td>2</td>\n",
       "      <td>2</td>\n",
       "      <td>0</td>\n",
       "      <td>1</td>\n",
       "      <td>0</td>\n",
       "      <td>TNF</td>\n",
       "      <td>TNF gene encodes a multifunctional proinflamma...</td>\n",
       "    </tr>\n",
       "    <tr>\n",
       "      <td>3</td>\n",
       "      <td>3</td>\n",
       "      <td>0</td>\n",
       "      <td>1</td>\n",
       "      <td>0</td>\n",
       "      <td>APOE</td>\n",
       "      <td>The protein encoded by APOE gene is a major ap...</td>\n",
       "    </tr>\n",
       "    <tr>\n",
       "      <td>4</td>\n",
       "      <td>4</td>\n",
       "      <td>0</td>\n",
       "      <td>1</td>\n",
       "      <td>0</td>\n",
       "      <td>VEGFA</td>\n",
       "      <td>VEGFA gene is a member of the PDGF/VEGF growth...</td>\n",
       "    </tr>\n",
       "  </tbody>\n",
       "</table>\n",
       "</div>"
      ],
      "text/plain": [
       "   Unnamed: 0  match  abstract  med symbols  \\\n",
       "0           0      0         1    0    TP53   \n",
       "1           1      0         1    0    EGFR   \n",
       "2           2      0         1    0     TNF   \n",
       "3           3      0         1    0    APOE   \n",
       "4           4      0         1    0   VEGFA   \n",
       "\n",
       "                                             blurbs3  \n",
       "0  TP53 gene encodes a tumor suppressor protein c...  \n",
       "1  The protein encoded by EGFR gene is a transmem...  \n",
       "2  TNF gene encodes a multifunctional proinflamma...  \n",
       "3  The protein encoded by APOE gene is a major ap...  \n",
       "4  VEGFA gene is a member of the PDGF/VEGF growth...  "
      ]
     },
     "execution_count": 86,
     "metadata": {},
     "output_type": "execute_result"
    }
   ],
   "source": [
    "#prepare to combine datasets\n",
    "abstracts = abstracts.drop(['blurb','blurbs','blurbs2'],axis=1)\n",
    "abstracts.head()"
   ]
  },
  {
   "cell_type": "code",
   "execution_count": 87,
   "metadata": {},
   "outputs": [
    {
     "data": {
      "text/html": [
       "<div>\n",
       "<style scoped>\n",
       "    .dataframe tbody tr th:only-of-type {\n",
       "        vertical-align: middle;\n",
       "    }\n",
       "\n",
       "    .dataframe tbody tr th {\n",
       "        vertical-align: top;\n",
       "    }\n",
       "\n",
       "    .dataframe thead th {\n",
       "        text-align: right;\n",
       "    }\n",
       "</style>\n",
       "<table border=\"1\" class=\"dataframe\">\n",
       "  <thead>\n",
       "    <tr style=\"text-align: right;\">\n",
       "      <th></th>\n",
       "      <th>match</th>\n",
       "      <th>symbols</th>\n",
       "      <th>blurb2</th>\n",
       "    </tr>\n",
       "  </thead>\n",
       "  <tbody>\n",
       "    <tr>\n",
       "      <td>0</td>\n",
       "      <td>0</td>\n",
       "      <td>TP53</td>\n",
       "      <td>TP53 gene encodes a tumor suppressor protein c...</td>\n",
       "    </tr>\n",
       "    <tr>\n",
       "      <td>1</td>\n",
       "      <td>0</td>\n",
       "      <td>EGFR</td>\n",
       "      <td>The protein encoded by EGFR gene is a transmem...</td>\n",
       "    </tr>\n",
       "    <tr>\n",
       "      <td>2</td>\n",
       "      <td>0</td>\n",
       "      <td>TNF</td>\n",
       "      <td>TNF gene encodes a multifunctional proinflamma...</td>\n",
       "    </tr>\n",
       "    <tr>\n",
       "      <td>3</td>\n",
       "      <td>0</td>\n",
       "      <td>APOE</td>\n",
       "      <td>The protein encoded by APOE gene is a major ap...</td>\n",
       "    </tr>\n",
       "    <tr>\n",
       "      <td>4</td>\n",
       "      <td>0</td>\n",
       "      <td>VEGFA</td>\n",
       "      <td>VEGFA gene is a member of the PDGF/VEGF growth...</td>\n",
       "    </tr>\n",
       "    <tr>\n",
       "      <td>...</td>\n",
       "      <td>...</td>\n",
       "      <td>...</td>\n",
       "      <td>...</td>\n",
       "    </tr>\n",
       "    <tr>\n",
       "      <td>1287</td>\n",
       "      <td>1</td>\n",
       "      <td>NR1I2</td>\n",
       "      <td>NR1I2 gene product belongs to the nuclear rece...</td>\n",
       "    </tr>\n",
       "    <tr>\n",
       "      <td>1288</td>\n",
       "      <td>1</td>\n",
       "      <td>ABCG2</td>\n",
       "      <td>The membrane-associated protein encoded by ABC...</td>\n",
       "    </tr>\n",
       "    <tr>\n",
       "      <td>1289</td>\n",
       "      <td>1</td>\n",
       "      <td>CRP</td>\n",
       "      <td>[More information is available at EcoCyc: EG10...</td>\n",
       "    </tr>\n",
       "    <tr>\n",
       "      <td>1290</td>\n",
       "      <td>1</td>\n",
       "      <td>RPOB</td>\n",
       "      <td>HT_Cmplx11_Mem: [More information is available...</td>\n",
       "    </tr>\n",
       "    <tr>\n",
       "      <td>1291</td>\n",
       "      <td>1</td>\n",
       "      <td>CDH1</td>\n",
       "      <td>CDH1 gene encodes a classical cadherin of the ...</td>\n",
       "    </tr>\n",
       "  </tbody>\n",
       "</table>\n",
       "<p>1292 rows × 3 columns</p>\n",
       "</div>"
      ],
      "text/plain": [
       "      match symbols                                             blurb2\n",
       "0         0    TP53  TP53 gene encodes a tumor suppressor protein c...\n",
       "1         0    EGFR  The protein encoded by EGFR gene is a transmem...\n",
       "2         0     TNF  TNF gene encodes a multifunctional proinflamma...\n",
       "3         0    APOE  The protein encoded by APOE gene is a major ap...\n",
       "4         0   VEGFA  VEGFA gene is a member of the PDGF/VEGF growth...\n",
       "...     ...     ...                                                ...\n",
       "1287      1   NR1I2  NR1I2 gene product belongs to the nuclear rece...\n",
       "1288      1   ABCG2  The membrane-associated protein encoded by ABC...\n",
       "1289      1     CRP  [More information is available at EcoCyc: EG10...\n",
       "1290      1    RPOB  HT_Cmplx11_Mem: [More information is available...\n",
       "1291      1    CDH1  CDH1 gene encodes a classical cadherin of the ...\n",
       "\n",
       "[1292 rows x 3 columns]"
      ]
     },
     "execution_count": 87,
     "metadata": {},
     "output_type": "execute_result"
    }
   ],
   "source": [
    "abstracts.drop(['abstract','med','Unnamed: 0',],axis=1,inplace=True)\n",
    "abstracts.rename(columns={'blurbs3':'blurb2'},inplace=True)\n",
    "abstracts"
   ]
  },
  {
   "cell_type": "markdown",
   "metadata": {},
   "source": [
    "Next I'll combine the gene abstracts and gene definitions into one dataframe."
   ]
  },
  {
   "cell_type": "code",
   "execution_count": 88,
   "metadata": {},
   "outputs": [
    {
     "data": {
      "text/html": [
       "<div>\n",
       "<style scoped>\n",
       "    .dataframe tbody tr th:only-of-type {\n",
       "        vertical-align: middle;\n",
       "    }\n",
       "\n",
       "    .dataframe tbody tr th {\n",
       "        vertical-align: top;\n",
       "    }\n",
       "\n",
       "    .dataframe thead th {\n",
       "        text-align: right;\n",
       "    }\n",
       "</style>\n",
       "<table border=\"1\" class=\"dataframe\">\n",
       "  <thead>\n",
       "    <tr style=\"text-align: right;\">\n",
       "      <th></th>\n",
       "      <th>match</th>\n",
       "      <th>symbols</th>\n",
       "      <th>blurb2</th>\n",
       "    </tr>\n",
       "  </thead>\n",
       "  <tbody>\n",
       "    <tr>\n",
       "      <td>0</td>\n",
       "      <td>0</td>\n",
       "      <td>TP53</td>\n",
       "      <td>Official Symbol- TP53 and Name: tumor protein ...</td>\n",
       "    </tr>\n",
       "    <tr>\n",
       "      <td>1</td>\n",
       "      <td>0</td>\n",
       "      <td>EGFR</td>\n",
       "      <td>Official Symbol- EGFR and Name: epidermal grow...</td>\n",
       "    </tr>\n",
       "    <tr>\n",
       "      <td>2</td>\n",
       "      <td>0</td>\n",
       "      <td>TNF</td>\n",
       "      <td>Official Symbol- TNF and Name: tumor necrosis ...</td>\n",
       "    </tr>\n",
       "    <tr>\n",
       "      <td>3</td>\n",
       "      <td>0</td>\n",
       "      <td>APOE</td>\n",
       "      <td>Official Symbol- APOE and Name: apolipoprotein...</td>\n",
       "    </tr>\n",
       "    <tr>\n",
       "      <td>4</td>\n",
       "      <td>0</td>\n",
       "      <td>VEGFA</td>\n",
       "      <td>Official Symbol- VEGFA and Name: vascular endo...</td>\n",
       "    </tr>\n",
       "    <tr>\n",
       "      <td>...</td>\n",
       "      <td>...</td>\n",
       "      <td>...</td>\n",
       "      <td>...</td>\n",
       "    </tr>\n",
       "    <tr>\n",
       "      <td>3241</td>\n",
       "      <td>1</td>\n",
       "      <td>KDRL</td>\n",
       "      <td>Official Symbol- kdrl and Name: kinase insert ...</td>\n",
       "    </tr>\n",
       "    <tr>\n",
       "      <td>3244</td>\n",
       "      <td>1</td>\n",
       "      <td>CRH</td>\n",
       "      <td>Official Symbol- Crh and Name: corticotropin r...</td>\n",
       "    </tr>\n",
       "    <tr>\n",
       "      <td>3248</td>\n",
       "      <td>1</td>\n",
       "      <td>CRP</td>\n",
       "      <td>cAMP-activated global transcription factor, me...</td>\n",
       "    </tr>\n",
       "    <tr>\n",
       "      <td>3249</td>\n",
       "      <td>1</td>\n",
       "      <td>RPOB</td>\n",
       "      <td>RNA polymerase, beta subunit [Escherichia coli...</td>\n",
       "    </tr>\n",
       "    <tr>\n",
       "      <td>3251</td>\n",
       "      <td>1</td>\n",
       "      <td>CDH1</td>\n",
       "      <td>NaN</td>\n",
       "    </tr>\n",
       "  </tbody>\n",
       "</table>\n",
       "<p>3094 rows × 3 columns</p>\n",
       "</div>"
      ],
      "text/plain": [
       "      match symbols                                             blurb2\n",
       "0         0    TP53  Official Symbol- TP53 and Name: tumor protein ...\n",
       "1         0    EGFR  Official Symbol- EGFR and Name: epidermal grow...\n",
       "2         0     TNF  Official Symbol- TNF and Name: tumor necrosis ...\n",
       "3         0    APOE  Official Symbol- APOE and Name: apolipoprotein...\n",
       "4         0   VEGFA  Official Symbol- VEGFA and Name: vascular endo...\n",
       "...     ...     ...                                                ...\n",
       "3241      1    KDRL  Official Symbol- kdrl and Name: kinase insert ...\n",
       "3244      1     CRH  Official Symbol- Crh and Name: corticotropin r...\n",
       "3248      1     CRP  cAMP-activated global transcription factor, me...\n",
       "3249      1    RPOB  RNA polymerase, beta subunit [Escherichia coli...\n",
       "3251      1    CDH1                                                NaN\n",
       "\n",
       "[3094 rows x 3 columns]"
      ]
     },
     "execution_count": 88,
     "metadata": {},
     "output_type": "execute_result"
    }
   ],
   "source": [
    "genes4=pd.DataFrame(genes3[['match','symbols','blurb2']])\n",
    "genes4"
   ]
  },
  {
   "cell_type": "code",
   "execution_count": 89,
   "metadata": {},
   "outputs": [
    {
     "data": {
      "text/plain": [
       "(3094, 3)"
      ]
     },
     "execution_count": 89,
     "metadata": {},
     "output_type": "execute_result"
    }
   ],
   "source": [
    "genes4.shape"
   ]
  },
  {
   "cell_type": "code",
   "execution_count": 90,
   "metadata": {
    "scrolled": true
   },
   "outputs": [],
   "source": [
    "#Combine datasets and clean the data more\n",
    "genes = genes4.append(abstracts,ignore_index=True)\n"
   ]
  },
  {
   "cell_type": "code",
   "execution_count": 91,
   "metadata": {},
   "outputs": [
    {
     "data": {
      "text/html": [
       "<div>\n",
       "<style scoped>\n",
       "    .dataframe tbody tr th:only-of-type {\n",
       "        vertical-align: middle;\n",
       "    }\n",
       "\n",
       "    .dataframe tbody tr th {\n",
       "        vertical-align: top;\n",
       "    }\n",
       "\n",
       "    .dataframe thead th {\n",
       "        text-align: right;\n",
       "    }\n",
       "</style>\n",
       "<table border=\"1\" class=\"dataframe\">\n",
       "  <thead>\n",
       "    <tr style=\"text-align: right;\">\n",
       "      <th></th>\n",
       "      <th>match</th>\n",
       "      <th>symbols</th>\n",
       "      <th>blurb2</th>\n",
       "    </tr>\n",
       "  </thead>\n",
       "  <tbody>\n",
       "    <tr>\n",
       "      <td>0</td>\n",
       "      <td>0</td>\n",
       "      <td>TP53</td>\n",
       "      <td>Official Symbol- TP53 and Name: tumor protein ...</td>\n",
       "    </tr>\n",
       "    <tr>\n",
       "      <td>1</td>\n",
       "      <td>0</td>\n",
       "      <td>EGFR</td>\n",
       "      <td>Official Symbol- EGFR and Name: epidermal grow...</td>\n",
       "    </tr>\n",
       "    <tr>\n",
       "      <td>2</td>\n",
       "      <td>0</td>\n",
       "      <td>TNF</td>\n",
       "      <td>Official Symbol- TNF and Name: tumor necrosis ...</td>\n",
       "    </tr>\n",
       "    <tr>\n",
       "      <td>3</td>\n",
       "      <td>0</td>\n",
       "      <td>APOE</td>\n",
       "      <td>Official Symbol- APOE and Name: apolipoprotein...</td>\n",
       "    </tr>\n",
       "    <tr>\n",
       "      <td>4</td>\n",
       "      <td>0</td>\n",
       "      <td>VEGFA</td>\n",
       "      <td>Official Symbol- VEGFA and Name: vascular endo...</td>\n",
       "    </tr>\n",
       "  </tbody>\n",
       "</table>\n",
       "</div>"
      ],
      "text/plain": [
       "   match symbols                                             blurb2\n",
       "0      0    TP53  Official Symbol- TP53 and Name: tumor protein ...\n",
       "1      0    EGFR  Official Symbol- EGFR and Name: epidermal grow...\n",
       "2      0     TNF  Official Symbol- TNF and Name: tumor necrosis ...\n",
       "3      0    APOE  Official Symbol- APOE and Name: apolipoprotein...\n",
       "4      0   VEGFA  Official Symbol- VEGFA and Name: vascular endo..."
      ]
     },
     "execution_count": 91,
     "metadata": {},
     "output_type": "execute_result"
    }
   ],
   "source": [
    "genes.head()"
   ]
  },
  {
   "cell_type": "code",
   "execution_count": 92,
   "metadata": {},
   "outputs": [
    {
     "data": {
      "text/html": [
       "<div>\n",
       "<style scoped>\n",
       "    .dataframe tbody tr th:only-of-type {\n",
       "        vertical-align: middle;\n",
       "    }\n",
       "\n",
       "    .dataframe tbody tr th {\n",
       "        vertical-align: top;\n",
       "    }\n",
       "\n",
       "    .dataframe thead th {\n",
       "        text-align: right;\n",
       "    }\n",
       "</style>\n",
       "<table border=\"1\" class=\"dataframe\">\n",
       "  <thead>\n",
       "    <tr style=\"text-align: right;\">\n",
       "      <th></th>\n",
       "      <th>match</th>\n",
       "      <th>symbols</th>\n",
       "      <th>blurb2</th>\n",
       "    </tr>\n",
       "  </thead>\n",
       "  <tbody>\n",
       "    <tr>\n",
       "      <td>12</td>\n",
       "      <td>0</td>\n",
       "      <td>APP</td>\n",
       "      <td>Official Symbol- APP and Name: amyloid beta pr...</td>\n",
       "    </tr>\n",
       "    <tr>\n",
       "      <td>3106</td>\n",
       "      <td>0</td>\n",
       "      <td>APP</td>\n",
       "      <td>APP gene encodes a cell surface receptor and t...</td>\n",
       "    </tr>\n",
       "    <tr>\n",
       "      <td>4231</td>\n",
       "      <td>1</td>\n",
       "      <td>APP</td>\n",
       "      <td>APP gene encodes a cell surface receptor and t...</td>\n",
       "    </tr>\n",
       "  </tbody>\n",
       "</table>\n",
       "</div>"
      ],
      "text/plain": [
       "      match symbols                                             blurb2\n",
       "12        0     APP  Official Symbol- APP and Name: amyloid beta pr...\n",
       "3106      0     APP  APP gene encodes a cell surface receptor and t...\n",
       "4231      1     APP  APP gene encodes a cell surface receptor and t..."
      ]
     },
     "execution_count": 92,
     "metadata": {},
     "output_type": "execute_result"
    }
   ],
   "source": [
    "genes[genes['symbols']=='APP']"
   ]
  },
  {
   "cell_type": "code",
   "execution_count": 93,
   "metadata": {},
   "outputs": [],
   "source": [
    "genes['blurb3'] = genes['blurb2'].apply(lambda x: str(x).replace('Official Symbol-',''))"
   ]
  },
  {
   "cell_type": "code",
   "execution_count": 94,
   "metadata": {},
   "outputs": [],
   "source": [
    "genes['blurb4'] = genes['blurb3'].apply(lambda x: str(x).replace('and Name:','is'))"
   ]
  },
  {
   "cell_type": "code",
   "execution_count": 95,
   "metadata": {},
   "outputs": [],
   "source": [
    "genes['blurb5'] = genes['blurb4'].apply(lambda x: str(x).replace('Other Aliases:','also'))"
   ]
  },
  {
   "cell_type": "code",
   "execution_count": 96,
   "metadata": {},
   "outputs": [],
   "source": [
    "genes['blurb6'] = genes['blurb5'].apply(lambda x: str(x).replace('Other Designations:','It is'))"
   ]
  },
  {
   "cell_type": "code",
   "execution_count": 97,
   "metadata": {},
   "outputs": [],
   "source": [
    "genes['blurb7'] = genes['blurb6'].apply(lambda x: str(x).replace('[Homo sapiens (human)]','(human)'))"
   ]
  },
  {
   "cell_type": "code",
   "execution_count": 98,
   "metadata": {},
   "outputs": [],
   "source": [
    "genes['blurb8'] = genes['blurb7'].apply(lambda x: str(x).replace('Other Aliases-','and'))"
   ]
  },
  {
   "cell_type": "code",
   "execution_count": 99,
   "metadata": {},
   "outputs": [],
   "source": [
    "genes = genes.drop(columns = ['blurb2','blurb3','blurb4','blurb5','blurb6','blurb7'])"
   ]
  },
  {
   "cell_type": "code",
   "execution_count": 100,
   "metadata": {
    "scrolled": true
   },
   "outputs": [
    {
     "data": {
      "text/html": [
       "<div>\n",
       "<style scoped>\n",
       "    .dataframe tbody tr th:only-of-type {\n",
       "        vertical-align: middle;\n",
       "    }\n",
       "\n",
       "    .dataframe tbody tr th {\n",
       "        vertical-align: top;\n",
       "    }\n",
       "\n",
       "    .dataframe thead th {\n",
       "        text-align: right;\n",
       "    }\n",
       "</style>\n",
       "<table border=\"1\" class=\"dataframe\">\n",
       "  <thead>\n",
       "    <tr style=\"text-align: right;\">\n",
       "      <th></th>\n",
       "      <th>match</th>\n",
       "      <th>symbols</th>\n",
       "      <th>blurb8</th>\n",
       "    </tr>\n",
       "  </thead>\n",
       "  <tbody>\n",
       "    <tr>\n",
       "      <td>0</td>\n",
       "      <td>0</td>\n",
       "      <td>TP53</td>\n",
       "      <td>TP53 is tumor protein p53 (human),also BCC7, ...</td>\n",
       "    </tr>\n",
       "    <tr>\n",
       "      <td>1</td>\n",
       "      <td>0</td>\n",
       "      <td>EGFR</td>\n",
       "      <td>EGFR is epidermal growth factor receptor (hum...</td>\n",
       "    </tr>\n",
       "    <tr>\n",
       "      <td>2</td>\n",
       "      <td>0</td>\n",
       "      <td>TNF</td>\n",
       "      <td>TNF is tumor necrosis factor (human),also DIF...</td>\n",
       "    </tr>\n",
       "    <tr>\n",
       "      <td>3</td>\n",
       "      <td>0</td>\n",
       "      <td>APOE</td>\n",
       "      <td>APOE is apolipoprotein E (human),also AD2, AP...</td>\n",
       "    </tr>\n",
       "    <tr>\n",
       "      <td>4</td>\n",
       "      <td>0</td>\n",
       "      <td>VEGFA</td>\n",
       "      <td>VEGFA is vascular endothelial growth factor A...</td>\n",
       "    </tr>\n",
       "  </tbody>\n",
       "</table>\n",
       "</div>"
      ],
      "text/plain": [
       "   match symbols                                             blurb8\n",
       "0      0    TP53   TP53 is tumor protein p53 (human),also BCC7, ...\n",
       "1      0    EGFR   EGFR is epidermal growth factor receptor (hum...\n",
       "2      0     TNF   TNF is tumor necrosis factor (human),also DIF...\n",
       "3      0    APOE   APOE is apolipoprotein E (human),also AD2, AP...\n",
       "4      0   VEGFA   VEGFA is vascular endothelial growth factor A..."
      ]
     },
     "execution_count": 100,
     "metadata": {},
     "output_type": "execute_result"
    }
   ],
   "source": [
    "genes.head()"
   ]
  },
  {
   "cell_type": "code",
   "execution_count": 101,
   "metadata": {},
   "outputs": [
    {
     "data": {
      "text/html": [
       "<div>\n",
       "<style scoped>\n",
       "    .dataframe tbody tr th:only-of-type {\n",
       "        vertical-align: middle;\n",
       "    }\n",
       "\n",
       "    .dataframe tbody tr th {\n",
       "        vertical-align: top;\n",
       "    }\n",
       "\n",
       "    .dataframe thead th {\n",
       "        text-align: right;\n",
       "    }\n",
       "</style>\n",
       "<table border=\"1\" class=\"dataframe\">\n",
       "  <thead>\n",
       "    <tr style=\"text-align: right;\">\n",
       "      <th></th>\n",
       "      <th>match</th>\n",
       "      <th>symbols</th>\n",
       "      <th>blurb8</th>\n",
       "    </tr>\n",
       "  </thead>\n",
       "  <tbody>\n",
       "    <tr>\n",
       "      <td>4385</td>\n",
       "      <td>1</td>\n",
       "      <td>CDH1</td>\n",
       "      <td>CDH1 gene encodes a classical cadherin of the ...</td>\n",
       "    </tr>\n",
       "    <tr>\n",
       "      <td>3072</td>\n",
       "      <td>1</td>\n",
       "      <td>SOD1</td>\n",
       "      <td>Sod1 is Superoxide dismutase 1 [Drosophila me...</td>\n",
       "    </tr>\n",
       "    <tr>\n",
       "      <td>3074</td>\n",
       "      <td>1</td>\n",
       "      <td>RPR</td>\n",
       "      <td>rpr is reaper [Drosophila melanogaster (fruit...</td>\n",
       "    </tr>\n",
       "    <tr>\n",
       "      <td>3075</td>\n",
       "      <td>1</td>\n",
       "      <td>NAN</td>\n",
       "      <td>121. LTA, LTA is lymphotoxin alpha (human),als...</td>\n",
       "    </tr>\n",
       "    <tr>\n",
       "      <td>3076</td>\n",
       "      <td>1</td>\n",
       "      <td>HB</td>\n",
       "      <td>hb is hunchback [Drosophila melanogaster (fru...</td>\n",
       "    </tr>\n",
       "  </tbody>\n",
       "</table>\n",
       "</div>"
      ],
      "text/plain": [
       "      match symbols                                             blurb8\n",
       "4385      1    CDH1  CDH1 gene encodes a classical cadherin of the ...\n",
       "3072      1    SOD1   Sod1 is Superoxide dismutase 1 [Drosophila me...\n",
       "3074      1     RPR   rpr is reaper [Drosophila melanogaster (fruit...\n",
       "3075      1     NAN  121. LTA, LTA is lymphotoxin alpha (human),als...\n",
       "3076      1      HB   hb is hunchback [Drosophila melanogaster (fru..."
      ]
     },
     "execution_count": 101,
     "metadata": {},
     "output_type": "execute_result"
    }
   ],
   "source": [
    "genes.sort_values(['match'],ascending=False,inplace=True)\n",
    "genes.head()"
   ]
  },
  {
   "cell_type": "code",
   "execution_count": 102,
   "metadata": {},
   "outputs": [
    {
     "data": {
      "text/plain": [
       "(4386, 3)"
      ]
     },
     "execution_count": 102,
     "metadata": {},
     "output_type": "execute_result"
    }
   ],
   "source": [
    "genes.shape"
   ]
  },
  {
   "cell_type": "code",
   "execution_count": 103,
   "metadata": {},
   "outputs": [
    {
     "data": {
      "text/plain": [
       "(4226, 3)"
      ]
     },
     "execution_count": 103,
     "metadata": {},
     "output_type": "execute_result"
    }
   ],
   "source": [
    "genes.drop_duplicates(subset=['symbols','blurb8'], keep='first', inplace=True)\n",
    "genes.shape"
   ]
  },
  {
   "cell_type": "code",
   "execution_count": 104,
   "metadata": {},
   "outputs": [
    {
     "data": {
      "text/html": [
       "<div>\n",
       "<style scoped>\n",
       "    .dataframe tbody tr th:only-of-type {\n",
       "        vertical-align: middle;\n",
       "    }\n",
       "\n",
       "    .dataframe tbody tr th {\n",
       "        vertical-align: top;\n",
       "    }\n",
       "\n",
       "    .dataframe thead th {\n",
       "        text-align: right;\n",
       "    }\n",
       "</style>\n",
       "<table border=\"1\" class=\"dataframe\">\n",
       "  <thead>\n",
       "    <tr style=\"text-align: right;\">\n",
       "      <th></th>\n",
       "      <th>match</th>\n",
       "      <th>symbols</th>\n",
       "      <th>blurb8</th>\n",
       "    </tr>\n",
       "  </thead>\n",
       "  <tbody>\n",
       "    <tr>\n",
       "      <td>4385</td>\n",
       "      <td>1</td>\n",
       "      <td>CDH1</td>\n",
       "      <td>CDH1 gene encodes a classical cadherin of the ...</td>\n",
       "    </tr>\n",
       "    <tr>\n",
       "      <td>3072</td>\n",
       "      <td>1</td>\n",
       "      <td>SOD1</td>\n",
       "      <td>Sod1 is Superoxide dismutase 1 [Drosophila me...</td>\n",
       "    </tr>\n",
       "    <tr>\n",
       "      <td>3074</td>\n",
       "      <td>1</td>\n",
       "      <td>RPR</td>\n",
       "      <td>rpr is reaper [Drosophila melanogaster (fruit...</td>\n",
       "    </tr>\n",
       "    <tr>\n",
       "      <td>3075</td>\n",
       "      <td>1</td>\n",
       "      <td>NAN</td>\n",
       "      <td>121. LTA, LTA is lymphotoxin alpha (human),als...</td>\n",
       "    </tr>\n",
       "    <tr>\n",
       "      <td>3076</td>\n",
       "      <td>1</td>\n",
       "      <td>HB</td>\n",
       "      <td>hb is hunchback [Drosophila melanogaster (fru...</td>\n",
       "    </tr>\n",
       "  </tbody>\n",
       "</table>\n",
       "</div>"
      ],
      "text/plain": [
       "      match symbols                                             blurb8\n",
       "4385      1    CDH1  CDH1 gene encodes a classical cadherin of the ...\n",
       "3072      1    SOD1   Sod1 is Superoxide dismutase 1 [Drosophila me...\n",
       "3074      1     RPR   rpr is reaper [Drosophila melanogaster (fruit...\n",
       "3075      1     NAN  121. LTA, LTA is lymphotoxin alpha (human),als...\n",
       "3076      1      HB   hb is hunchback [Drosophila melanogaster (fru..."
      ]
     },
     "execution_count": 104,
     "metadata": {},
     "output_type": "execute_result"
    }
   ],
   "source": [
    "genes.head()"
   ]
  },
  {
   "cell_type": "markdown",
   "metadata": {},
   "source": [
    "Next I'll tokenize the data and make lemmas."
   ]
  },
  {
   "cell_type": "code",
   "execution_count": 105,
   "metadata": {},
   "outputs": [],
   "source": [
    "#Tokenize data and make lemmas\n",
    "import spacy\n",
    "\n",
    "nlp = spacy.load('en_core_web_sm')"
   ]
  },
  {
   "cell_type": "code",
   "execution_count": 106,
   "metadata": {},
   "outputs": [],
   "source": [
    "genes['tokens'] = genes['blurb8'].apply(lambda x: nlp(x))"
   ]
  },
  {
   "cell_type": "code",
   "execution_count": 107,
   "metadata": {},
   "outputs": [],
   "source": [
    "genes['lemmas'] = genes['tokens'].apply(lambda x: [token.lemma_ for token in x])"
   ]
  },
  {
   "cell_type": "code",
   "execution_count": 108,
   "metadata": {},
   "outputs": [
    {
     "data": {
      "text/html": [
       "<div>\n",
       "<style scoped>\n",
       "    .dataframe tbody tr th:only-of-type {\n",
       "        vertical-align: middle;\n",
       "    }\n",
       "\n",
       "    .dataframe tbody tr th {\n",
       "        vertical-align: top;\n",
       "    }\n",
       "\n",
       "    .dataframe thead th {\n",
       "        text-align: right;\n",
       "    }\n",
       "</style>\n",
       "<table border=\"1\" class=\"dataframe\">\n",
       "  <thead>\n",
       "    <tr style=\"text-align: right;\">\n",
       "      <th></th>\n",
       "      <th>match</th>\n",
       "      <th>symbols</th>\n",
       "      <th>blurb8</th>\n",
       "      <th>tokens</th>\n",
       "      <th>lemmas</th>\n",
       "    </tr>\n",
       "  </thead>\n",
       "  <tbody>\n",
       "    <tr>\n",
       "      <td>4385</td>\n",
       "      <td>1</td>\n",
       "      <td>CDH1</td>\n",
       "      <td>CDH1 gene encodes a classical cadherin of the ...</td>\n",
       "      <td>(CDH1, gene, encodes, a, classical, cadherin, ...</td>\n",
       "      <td>[CDH1, gene, encode, a, classical, cadherin, o...</td>\n",
       "    </tr>\n",
       "    <tr>\n",
       "      <td>3072</td>\n",
       "      <td>1</td>\n",
       "      <td>SOD1</td>\n",
       "      <td>Sod1 is Superoxide dismutase 1 [Drosophila me...</td>\n",
       "      <td>( , Sod1, is, Superoxide, dismutase, 1, [, Dro...</td>\n",
       "      <td>[ , Sod1, be, Superoxide, dismutase, 1, [, Dro...</td>\n",
       "    </tr>\n",
       "    <tr>\n",
       "      <td>3074</td>\n",
       "      <td>1</td>\n",
       "      <td>RPR</td>\n",
       "      <td>rpr is reaper [Drosophila melanogaster (fruit...</td>\n",
       "      <td>( , rpr, is, reaper, [, Drosophila, melanogast...</td>\n",
       "      <td>[ , rpr, be, reaper, [, Drosophila, melanogast...</td>\n",
       "    </tr>\n",
       "    <tr>\n",
       "      <td>3075</td>\n",
       "      <td>1</td>\n",
       "      <td>NAN</td>\n",
       "      <td>121. LTA, LTA is lymphotoxin alpha (human),als...</td>\n",
       "      <td>(121, ., LTA, ,, LTA, is, lymphotoxin, alpha, ...</td>\n",
       "      <td>[121, ., LTA, ,, LTA, be, lymphotoxin, alpha, ...</td>\n",
       "    </tr>\n",
       "    <tr>\n",
       "      <td>3076</td>\n",
       "      <td>1</td>\n",
       "      <td>HB</td>\n",
       "      <td>hb is hunchback [Drosophila melanogaster (fru...</td>\n",
       "      <td>( , hb, is, hunchback, [, Drosophila, melanoga...</td>\n",
       "      <td>[ , hb, be, hunchback, [, Drosophila, melanoga...</td>\n",
       "    </tr>\n",
       "  </tbody>\n",
       "</table>\n",
       "</div>"
      ],
      "text/plain": [
       "      match symbols                                             blurb8  \\\n",
       "4385      1    CDH1  CDH1 gene encodes a classical cadherin of the ...   \n",
       "3072      1    SOD1   Sod1 is Superoxide dismutase 1 [Drosophila me...   \n",
       "3074      1     RPR   rpr is reaper [Drosophila melanogaster (fruit...   \n",
       "3075      1     NAN  121. LTA, LTA is lymphotoxin alpha (human),als...   \n",
       "3076      1      HB   hb is hunchback [Drosophila melanogaster (fru...   \n",
       "\n",
       "                                                 tokens  \\\n",
       "4385  (CDH1, gene, encodes, a, classical, cadherin, ...   \n",
       "3072  ( , Sod1, is, Superoxide, dismutase, 1, [, Dro...   \n",
       "3074  ( , rpr, is, reaper, [, Drosophila, melanogast...   \n",
       "3075  (121, ., LTA, ,, LTA, is, lymphotoxin, alpha, ...   \n",
       "3076  ( , hb, is, hunchback, [, Drosophila, melanoga...   \n",
       "\n",
       "                                                 lemmas  \n",
       "4385  [CDH1, gene, encode, a, classical, cadherin, o...  \n",
       "3072  [ , Sod1, be, Superoxide, dismutase, 1, [, Dro...  \n",
       "3074  [ , rpr, be, reaper, [, Drosophila, melanogast...  \n",
       "3075  [121, ., LTA, ,, LTA, be, lymphotoxin, alpha, ...  \n",
       "3076  [ , hb, be, hunchback, [, Drosophila, melanoga...  "
      ]
     },
     "execution_count": 108,
     "metadata": {},
     "output_type": "execute_result"
    }
   ],
   "source": [
    "genes.head()"
   ]
  },
  {
   "cell_type": "code",
   "execution_count": 109,
   "metadata": {},
   "outputs": [
    {
     "data": {
      "text/plain": [
       "(4226, 5)"
      ]
     },
     "execution_count": 109,
     "metadata": {},
     "output_type": "execute_result"
    }
   ],
   "source": [
    "genes.shape"
   ]
  },
  {
   "cell_type": "code",
   "execution_count": 110,
   "metadata": {},
   "outputs": [
    {
     "data": {
      "text/plain": [
       "(4226, 5)"
      ]
     },
     "execution_count": 110,
     "metadata": {},
     "output_type": "execute_result"
    }
   ],
   "source": [
    "genes.dropna(subset=['symbols','blurb8'],inplace=True)\n",
    "genes.shape"
   ]
  },
  {
   "cell_type": "markdown",
   "metadata": {},
   "source": [
    "I'll prepare the training and test sets in a way that makes sure both sets have matching definitions and abstracts."
   ]
  },
  {
   "cell_type": "code",
   "execution_count": 111,
   "metadata": {},
   "outputs": [
    {
     "data": {
      "text/plain": [
       "(453, 5)"
      ]
     },
     "execution_count": 111,
     "metadata": {},
     "output_type": "execute_result"
    }
   ],
   "source": [
    "genes_match = genes[genes['match']==1]\n",
    "genes_no = genes[genes['match']==0]\n",
    "genes_match.shape"
   ]
  },
  {
   "cell_type": "code",
   "execution_count": 112,
   "metadata": {},
   "outputs": [],
   "source": [
    "import gensim\n",
    "from gensim.models import word2vec"
   ]
  },
  {
   "cell_type": "code",
   "execution_count": 113,
   "metadata": {},
   "outputs": [],
   "source": [
    "msk = np.random.rand(len(genes_match)) < 0.8\n",
    "trainM = genes_match[msk]\n",
    "testM = genes_match[~msk]\n",
    "msk = np.random.rand(len(genes_no)) < 0.8\n",
    "train = genes_no[msk]\n",
    "test = genes_no[~msk]\n",
    "train = train.append(trainM,ignore_index = True)\n",
    "test = test.append(testM,ignore_index = True)\n"
   ]
  },
  {
   "cell_type": "markdown",
   "metadata": {},
   "source": [
    "Because my training and test sets were prepared using np.random, I was able to optimize my model parameters by examining the success of  multiple versions of the training model. My final word2vec model uses CBOW with a window of 28, and a word vector length of 95."
   ]
  },
  {
   "cell_type": "code",
   "execution_count": 114,
   "metadata": {},
   "outputs": [
    {
     "data": {
      "text/html": [
       "<div>\n",
       "<style scoped>\n",
       "    .dataframe tbody tr th:only-of-type {\n",
       "        vertical-align: middle;\n",
       "    }\n",
       "\n",
       "    .dataframe tbody tr th {\n",
       "        vertical-align: top;\n",
       "    }\n",
       "\n",
       "    .dataframe thead th {\n",
       "        text-align: right;\n",
       "    }\n",
       "</style>\n",
       "<table border=\"1\" class=\"dataframe\">\n",
       "  <thead>\n",
       "    <tr style=\"text-align: right;\">\n",
       "      <th></th>\n",
       "      <th>match</th>\n",
       "      <th>symbols</th>\n",
       "      <th>blurb8</th>\n",
       "      <th>tokens</th>\n",
       "      <th>lemmas</th>\n",
       "      <th>disorder</th>\n",
       "      <th>alzheimer</th>\n",
       "    </tr>\n",
       "  </thead>\n",
       "  <tbody>\n",
       "    <tr>\n",
       "      <td>21</td>\n",
       "      <td>0</td>\n",
       "      <td>MAGEA3</td>\n",
       "      <td>MAGEA3 is MAGE family member A3 (human),also ...</td>\n",
       "      <td>( , MAGEA3, is, MAGE, family, member, A3, (, h...</td>\n",
       "      <td>[ , magea3, be, MAGE, family, member, a3, (, h...</td>\n",
       "      <td>1</td>\n",
       "      <td>0</td>\n",
       "    </tr>\n",
       "    <tr>\n",
       "      <td>41</td>\n",
       "      <td>0</td>\n",
       "      <td>NAN</td>\n",
       "      <td>61. LIFR, LIFR is LIF receptor alpha (human),a...</td>\n",
       "      <td>(61, ., LIFR, ,, LIFR, is, LIF, receptor, alph...</td>\n",
       "      <td>[61, ., lifr, ,, LIFR, be, lif, receptor, alph...</td>\n",
       "      <td>1</td>\n",
       "      <td>0</td>\n",
       "    </tr>\n",
       "    <tr>\n",
       "      <td>70</td>\n",
       "      <td>0</td>\n",
       "      <td>NAN</td>\n",
       "      <td>61. SUMO4, SUMO4 is small ubiquitin-like modif...</td>\n",
       "      <td>(61, ., SUMO4, ,, SUMO4, is, small, ubiquitin,...</td>\n",
       "      <td>[61, ., SUMO4, ,, SUMO4, be, small, ubiquitin,...</td>\n",
       "      <td>1</td>\n",
       "      <td>0</td>\n",
       "    </tr>\n",
       "    <tr>\n",
       "      <td>75</td>\n",
       "      <td>0</td>\n",
       "      <td>IL13RA2</td>\n",
       "      <td>IL13RA2 is interleukin 13 receptor subunit al...</td>\n",
       "      <td>( , IL13RA2, is, interleukin, 13, receptor, su...</td>\n",
       "      <td>[ , IL13RA2, be, interleukin, 13, receptor, su...</td>\n",
       "      <td>1</td>\n",
       "      <td>0</td>\n",
       "    </tr>\n",
       "    <tr>\n",
       "      <td>111</td>\n",
       "      <td>0</td>\n",
       "      <td>MCM3</td>\n",
       "      <td>MCM3 is minichromosome maintenance complex co...</td>\n",
       "      <td>( , MCM3, is, minichromosome, maintenance, com...</td>\n",
       "      <td>[ , MCM3, be, minichromosome, maintenance, com...</td>\n",
       "      <td>1</td>\n",
       "      <td>0</td>\n",
       "    </tr>\n",
       "  </tbody>\n",
       "</table>\n",
       "</div>"
      ],
      "text/plain": [
       "     match  symbols                                             blurb8  \\\n",
       "21       0   MAGEA3   MAGEA3 is MAGE family member A3 (human),also ...   \n",
       "41       0      NAN  61. LIFR, LIFR is LIF receptor alpha (human),a...   \n",
       "70       0      NAN  61. SUMO4, SUMO4 is small ubiquitin-like modif...   \n",
       "75       0  IL13RA2   IL13RA2 is interleukin 13 receptor subunit al...   \n",
       "111      0     MCM3   MCM3 is minichromosome maintenance complex co...   \n",
       "\n",
       "                                                tokens  \\\n",
       "21   ( , MAGEA3, is, MAGE, family, member, A3, (, h...   \n",
       "41   (61, ., LIFR, ,, LIFR, is, LIF, receptor, alph...   \n",
       "70   (61, ., SUMO4, ,, SUMO4, is, small, ubiquitin,...   \n",
       "75   ( , IL13RA2, is, interleukin, 13, receptor, su...   \n",
       "111  ( , MCM3, is, minichromosome, maintenance, com...   \n",
       "\n",
       "                                                lemmas  disorder  alzheimer  \n",
       "21   [ , magea3, be, MAGE, family, member, a3, (, h...         1          0  \n",
       "41   [61, ., lifr, ,, LIFR, be, lif, receptor, alph...         1          0  \n",
       "70   [61, ., SUMO4, ,, SUMO4, be, small, ubiquitin,...         1          0  \n",
       "75   [ , IL13RA2, be, interleukin, 13, receptor, su...         1          0  \n",
       "111  [ , MCM3, be, minichromosome, maintenance, com...         1          0  "
      ]
     },
     "execution_count": 114,
     "metadata": {},
     "output_type": "execute_result"
    }
   ],
   "source": [
    "train['disorder'] = np.where((train['blurb8'].str.contains('alzheimer|parkinson|dystrophy|ehlers|cancer|leukemia|diabetes',case=False)),1,0)\n",
    "train['alzheimer'] = np.where((train['blurb8'].str.contains('alzheimer',case=False)),1,0)\n",
    "train['disorder'].value_counts()\n",
    "abbrev = pd.DataFrame(train[train['disorder']==1])\n",
    "abbrev.head()"
   ]
  },
  {
   "cell_type": "markdown",
   "metadata": {},
   "source": [
    "I tested the success of my model by looking at model.wv.similarity between gene abbrevitions and disorders. Results are below."
   ]
  },
  {
   "cell_type": "code",
   "execution_count": 115,
   "metadata": {},
   "outputs": [
    {
     "name": "stdout",
     "output_type": "stream",
     "text": [
      "done!\n"
     ]
    }
   ],
   "source": [
    "import gensim\n",
    "from gensim.models import word2vec\n",
    "\n",
    "model = word2vec.Word2Vec(\n",
    "    np.asarray(train['lemmas']),\n",
    "    workers=4,     # Number of threads to run in parallel \n",
    "    min_count=1,  # Minimum word count threshold.\n",
    "    window=28,      # Number of words around target word to consider.\n",
    "    sg=0,          # Use CBOW because our corpus is small.\n",
    "    sample=1e-3 ,  # Penalize frequent words.\n",
    "    size=105,      # Word vector length.\n",
    "    hs=1           # Use hierarchical softmax.\n",
    ")\n",
    "\n",
    "print('done!')"
   ]
  },
  {
   "cell_type": "code",
   "execution_count": 116,
   "metadata": {},
   "outputs": [],
   "source": [
    "vocab = model.wv.vocab.keys()"
   ]
  },
  {
   "cell_type": "code",
   "execution_count": 117,
   "metadata": {
    "scrolled": true
   },
   "outputs": [
    {
     "name": "stdout",
     "output_type": "stream",
     "text": [
      "0.76235294\n"
     ]
    }
   ],
   "source": [
    "# 1 is a perfect match and 0 is no similarity\n",
    "print(model.wv.similarity('disease', 'syndrome'))\n",
    "\n",
    " "
   ]
  },
  {
   "cell_type": "markdown",
   "metadata": {},
   "source": [
    "The model found a strong similarity between 'disease' and 'syndrome' which is correct, so I decided to test the disease similarities."
   ]
  },
  {
   "cell_type": "code",
   "execution_count": 118,
   "metadata": {},
   "outputs": [
    {
     "data": {
      "text/html": [
       "<div>\n",
       "<style scoped>\n",
       "    .dataframe tbody tr th:only-of-type {\n",
       "        vertical-align: middle;\n",
       "    }\n",
       "\n",
       "    .dataframe tbody tr th {\n",
       "        vertical-align: top;\n",
       "    }\n",
       "\n",
       "    .dataframe thead th {\n",
       "        text-align: right;\n",
       "    }\n",
       "</style>\n",
       "<table border=\"1\" class=\"dataframe\">\n",
       "  <thead>\n",
       "    <tr style=\"text-align: right;\">\n",
       "      <th></th>\n",
       "      <th>match</th>\n",
       "      <th>symbols</th>\n",
       "      <th>blurb8</th>\n",
       "      <th>tokens</th>\n",
       "      <th>lemmas</th>\n",
       "      <th>disorder</th>\n",
       "      <th>alzheimer</th>\n",
       "    </tr>\n",
       "  </thead>\n",
       "  <tbody>\n",
       "    <tr>\n",
       "      <td>0</td>\n",
       "      <td>0</td>\n",
       "      <td>AMFR</td>\n",
       "      <td>AMFR is autocrine motility factor receptor (h...</td>\n",
       "      <td>( , AMFR, is, autocrine, motility, factor, rec...</td>\n",
       "      <td>[ , AMFR, be, autocrine, motility, factor, rec...</td>\n",
       "      <td>0</td>\n",
       "      <td>0</td>\n",
       "    </tr>\n",
       "    <tr>\n",
       "      <td>1</td>\n",
       "      <td>0</td>\n",
       "      <td>NCR3</td>\n",
       "      <td>NCR3 is natural cytotoxicity triggering recep...</td>\n",
       "      <td>( , NCR3, is, natural, cytotoxicity, triggerin...</td>\n",
       "      <td>[ , NCR3, be, natural, cytotoxicity, trigger, ...</td>\n",
       "      <td>0</td>\n",
       "      <td>0</td>\n",
       "    </tr>\n",
       "    <tr>\n",
       "      <td>2</td>\n",
       "      <td>0</td>\n",
       "      <td>GNA13</td>\n",
       "      <td>GNA13 is G protein subunit alpha 13 (human),a...</td>\n",
       "      <td>( , GNA13, is, G, protein, subunit, alpha, 13,...</td>\n",
       "      <td>[ , GNA13, be, G, protein, subunit, alpha, 13,...</td>\n",
       "      <td>0</td>\n",
       "      <td>0</td>\n",
       "    </tr>\n",
       "    <tr>\n",
       "      <td>3</td>\n",
       "      <td>0</td>\n",
       "      <td>STXBP1</td>\n",
       "      <td>STXBP1 is syntaxin binding protein 1 (human),...</td>\n",
       "      <td>( , STXBP1, is, syntaxin, binding, protein, 1,...</td>\n",
       "      <td>[ , STXBP1, be, syntaxin, bind, protein, 1, (,...</td>\n",
       "      <td>0</td>\n",
       "      <td>0</td>\n",
       "    </tr>\n",
       "    <tr>\n",
       "      <td>4</td>\n",
       "      <td>0</td>\n",
       "      <td>TFEB</td>\n",
       "      <td>TFEB is transcription factor EB (human),also ...</td>\n",
       "      <td>( , TFEB, is, transcription, factor, EB, (, hu...</td>\n",
       "      <td>[ , TFEB, be, transcription, factor, EB, (, hu...</td>\n",
       "      <td>0</td>\n",
       "      <td>0</td>\n",
       "    </tr>\n",
       "  </tbody>\n",
       "</table>\n",
       "</div>"
      ],
      "text/plain": [
       "   match symbols                                             blurb8  \\\n",
       "0      0    AMFR   AMFR is autocrine motility factor receptor (h...   \n",
       "1      0    NCR3   NCR3 is natural cytotoxicity triggering recep...   \n",
       "2      0   GNA13   GNA13 is G protein subunit alpha 13 (human),a...   \n",
       "3      0  STXBP1   STXBP1 is syntaxin binding protein 1 (human),...   \n",
       "4      0    TFEB   TFEB is transcription factor EB (human),also ...   \n",
       "\n",
       "                                              tokens  \\\n",
       "0  ( , AMFR, is, autocrine, motility, factor, rec...   \n",
       "1  ( , NCR3, is, natural, cytotoxicity, triggerin...   \n",
       "2  ( , GNA13, is, G, protein, subunit, alpha, 13,...   \n",
       "3  ( , STXBP1, is, syntaxin, binding, protein, 1,...   \n",
       "4  ( , TFEB, is, transcription, factor, EB, (, hu...   \n",
       "\n",
       "                                              lemmas  disorder  alzheimer  \n",
       "0  [ , AMFR, be, autocrine, motility, factor, rec...         0          0  \n",
       "1  [ , NCR3, be, natural, cytotoxicity, trigger, ...         0          0  \n",
       "2  [ , GNA13, be, G, protein, subunit, alpha, 13,...         0          0  \n",
       "3  [ , STXBP1, be, syntaxin, bind, protein, 1, (,...         0          0  \n",
       "4  [ , TFEB, be, transcription, factor, EB, (, hu...         0          0  "
      ]
     },
     "execution_count": 118,
     "metadata": {},
     "output_type": "execute_result"
    }
   ],
   "source": [
    "train.head()"
   ]
  },
  {
   "cell_type": "code",
   "execution_count": 119,
   "metadata": {},
   "outputs": [],
   "source": [
    "#Word2vec vocab only contains lower case strings.\n",
    "abbrev['symbols']=abbrev['symbols'].apply(lambda x: str(x).lower())\n",
    "#Compare acronyms with different disorders and find their similarity score.\n",
    "score=[]\n",
    "for i in abbrev['symbols']:\n",
    "        if i in vocab:\n",
    "            score.append([i,(model.wv.similarity(i, 'dystrophy'))])\\\n",
    "#Sort score highest to lowest\n",
    "scoredf2 = pd.DataFrame(score)\n",
    "scoredf2=scoredf2.sort_values(1,ascending=False)\n"
   ]
  },
  {
   "cell_type": "markdown",
   "metadata": {},
   "source": [
    "Top Gene Matches for Alzheimer"
   ]
  },
  {
   "cell_type": "code",
   "execution_count": 120,
   "metadata": {},
   "outputs": [],
   "source": [
    "score=[]\n",
    "for i in abbrev['symbols']:\n",
    "        if i in vocab:\n",
    "            score.append([i,(model.wv.similarity(i, 'Alzheimer'))])\n",
    "#Sort score highest to lowest\n",
    "scoredf = pd.DataFrame(score)\n",
    "scoredf=scoredf.sort_values(1,ascending=False)\n"
   ]
  },
  {
   "cell_type": "code",
   "execution_count": 121,
   "metadata": {
    "scrolled": true
   },
   "outputs": [
    {
     "data": {
      "text/html": [
       "<div>\n",
       "<style scoped>\n",
       "    .dataframe tbody tr th:only-of-type {\n",
       "        vertical-align: middle;\n",
       "    }\n",
       "\n",
       "    .dataframe tbody tr th {\n",
       "        vertical-align: top;\n",
       "    }\n",
       "\n",
       "    .dataframe thead th {\n",
       "        text-align: right;\n",
       "    }\n",
       "</style>\n",
       "<table border=\"1\" class=\"dataframe\">\n",
       "  <thead>\n",
       "    <tr style=\"text-align: right;\">\n",
       "      <th></th>\n",
       "      <th>0</th>\n",
       "      <th>1</th>\n",
       "    </tr>\n",
       "  </thead>\n",
       "  <tbody>\n",
       "    <tr>\n",
       "      <td>73</td>\n",
       "      <td>ctnnb1</td>\n",
       "      <td>0.544270</td>\n",
       "    </tr>\n",
       "    <tr>\n",
       "      <td>64</td>\n",
       "      <td>brca2</td>\n",
       "      <td>0.509465</td>\n",
       "    </tr>\n",
       "    <tr>\n",
       "      <td>78</td>\n",
       "      <td>brca2</td>\n",
       "      <td>0.509465</td>\n",
       "    </tr>\n",
       "    <tr>\n",
       "      <td>5</td>\n",
       "      <td>brms1</td>\n",
       "      <td>0.444944</td>\n",
       "    </tr>\n",
       "    <tr>\n",
       "      <td>7</td>\n",
       "      <td>mapt</td>\n",
       "      <td>0.432822</td>\n",
       "    </tr>\n",
       "    <tr>\n",
       "      <td>43</td>\n",
       "      <td>psen1</td>\n",
       "      <td>0.401003</td>\n",
       "    </tr>\n",
       "    <tr>\n",
       "      <td>81</td>\n",
       "      <td>brca1</td>\n",
       "      <td>0.365358</td>\n",
       "    </tr>\n",
       "    <tr>\n",
       "      <td>63</td>\n",
       "      <td>mcl1</td>\n",
       "      <td>0.340331</td>\n",
       "    </tr>\n",
       "    <tr>\n",
       "      <td>83</td>\n",
       "      <td>klk3</td>\n",
       "      <td>0.323820</td>\n",
       "    </tr>\n",
       "    <tr>\n",
       "      <td>76</td>\n",
       "      <td>stim1</td>\n",
       "      <td>0.321498</td>\n",
       "    </tr>\n",
       "  </tbody>\n",
       "</table>\n",
       "</div>"
      ],
      "text/plain": [
       "         0         1\n",
       "73  ctnnb1  0.544270\n",
       "64   brca2  0.509465\n",
       "78   brca2  0.509465\n",
       "5    brms1  0.444944\n",
       "7     mapt  0.432822\n",
       "43   psen1  0.401003\n",
       "81   brca1  0.365358\n",
       "63    mcl1  0.340331\n",
       "83    klk3  0.323820\n",
       "76   stim1  0.321498"
      ]
     },
     "execution_count": 121,
     "metadata": {},
     "output_type": "execute_result"
    }
   ],
   "source": [
    "#20 window, 100 vector, dystrophy\n",
    "####28 window, 95 vector, parkinson and all of them!\n",
    "#27 works for both + alzheimers + cancer\n",
    "#bring vector up to 110 improves it I think\n",
    "scoredf.iloc[0:10,:]"
   ]
  },
  {
   "cell_type": "code",
   "execution_count": 122,
   "metadata": {},
   "outputs": [
    {
     "data": {
      "text/plain": [
       "'CTNNB1'"
      ]
     },
     "execution_count": 122,
     "metadata": {},
     "output_type": "execute_result"
    }
   ],
   "source": [
    "scores=scoredf.iloc[0,0].upper()\n",
    "scores"
   ]
  },
  {
   "cell_type": "code",
   "execution_count": 123,
   "metadata": {},
   "outputs": [
    {
     "data": {
      "text/plain": [
       "1841"
      ]
     },
     "execution_count": 123,
     "metadata": {},
     "output_type": "execute_result"
    }
   ],
   "source": [
    "i=np.where(train['symbols']==scores)[0][0]\n",
    "i"
   ]
  },
  {
   "cell_type": "code",
   "execution_count": 124,
   "metadata": {
    "scrolled": true
   },
   "outputs": [
    {
     "data": {
      "text/plain": [
       "0"
      ]
     },
     "execution_count": 124,
     "metadata": {},
     "output_type": "execute_result"
    }
   ],
   "source": [
    "train.iloc[i,6]"
   ]
  },
  {
   "cell_type": "code",
   "execution_count": 125,
   "metadata": {},
   "outputs": [],
   "source": [
    "score3=[]\n",
    "for i in abbrev['symbols']:\n",
    "        if i in vocab:\n",
    "            score3.append([i,(model.wv.similarity(i, 'leukemia'))])\n",
    "#Sort score highest to lowest\n",
    "scoredf3 = pd.DataFrame(score3)\n",
    "scoredf3=scoredf.sort_values(1,ascending=False)"
   ]
  },
  {
   "cell_type": "code",
   "execution_count": 126,
   "metadata": {},
   "outputs": [
    {
     "name": "stderr",
     "output_type": "stream",
     "text": [
      "/Users/myilmaz/anaconda3/lib/python3.7/site-packages/ipykernel_launcher.py:4: DeprecationWarning: Call to deprecated `__getitem__` (Method will be removed in 4.0.0, use self.wv.__getitem__() instead).\n",
      "  after removing the cwd from sys.path.\n"
     ]
    }
   ],
   "source": [
    "clust=[]\n",
    "for i in abbrev['symbols']:\n",
    "        if i in vocab:\n",
    "            clust.append(model[i])"
   ]
  },
  {
   "cell_type": "code",
   "execution_count": 127,
   "metadata": {},
   "outputs": [
    {
     "data": {
      "text/html": [
       "<div>\n",
       "<style scoped>\n",
       "    .dataframe tbody tr th:only-of-type {\n",
       "        vertical-align: middle;\n",
       "    }\n",
       "\n",
       "    .dataframe tbody tr th {\n",
       "        vertical-align: top;\n",
       "    }\n",
       "\n",
       "    .dataframe thead th {\n",
       "        text-align: right;\n",
       "    }\n",
       "</style>\n",
       "<table border=\"1\" class=\"dataframe\">\n",
       "  <thead>\n",
       "    <tr style=\"text-align: right;\">\n",
       "      <th></th>\n",
       "      <th>0</th>\n",
       "      <th>1_x</th>\n",
       "      <th>1_y</th>\n",
       "    </tr>\n",
       "  </thead>\n",
       "  <tbody>\n",
       "    <tr>\n",
       "      <td>0</td>\n",
       "      <td>magea3</td>\n",
       "      <td>-0.179303</td>\n",
       "      <td>0.010147</td>\n",
       "    </tr>\n",
       "    <tr>\n",
       "      <td>10</td>\n",
       "      <td>pparg</td>\n",
       "      <td>0.039298</td>\n",
       "      <td>0.000534</td>\n",
       "    </tr>\n",
       "    <tr>\n",
       "      <td>11</td>\n",
       "      <td>bcl11a</td>\n",
       "      <td>0.223200</td>\n",
       "      <td>-0.295242</td>\n",
       "    </tr>\n",
       "    <tr>\n",
       "      <td>12</td>\n",
       "      <td>brms1</td>\n",
       "      <td>0.441679</td>\n",
       "      <td>0.444944</td>\n",
       "    </tr>\n",
       "    <tr>\n",
       "      <td>13</td>\n",
       "      <td>gucy2d</td>\n",
       "      <td>0.124369</td>\n",
       "      <td>0.020560</td>\n",
       "    </tr>\n",
       "    <tr>\n",
       "      <td>...</td>\n",
       "      <td>...</td>\n",
       "      <td>...</td>\n",
       "      <td>...</td>\n",
       "    </tr>\n",
       "    <tr>\n",
       "      <td>98</td>\n",
       "      <td>abcb1</td>\n",
       "      <td>-0.111413</td>\n",
       "      <td>0.051640</td>\n",
       "    </tr>\n",
       "    <tr>\n",
       "      <td>99</td>\n",
       "      <td>pik3ca</td>\n",
       "      <td>0.171801</td>\n",
       "      <td>0.081812</td>\n",
       "    </tr>\n",
       "    <tr>\n",
       "      <td>100</td>\n",
       "      <td>brca1</td>\n",
       "      <td>0.464508</td>\n",
       "      <td>0.365358</td>\n",
       "    </tr>\n",
       "    <tr>\n",
       "      <td>101</td>\n",
       "      <td>dkk1</td>\n",
       "      <td>-0.049650</td>\n",
       "      <td>-0.007715</td>\n",
       "    </tr>\n",
       "    <tr>\n",
       "      <td>102</td>\n",
       "      <td>klk3</td>\n",
       "      <td>0.128428</td>\n",
       "      <td>0.323820</td>\n",
       "    </tr>\n",
       "  </tbody>\n",
       "</table>\n",
       "<p>94 rows × 3 columns</p>\n",
       "</div>"
      ],
      "text/plain": [
       "          0       1_x       1_y\n",
       "0    magea3 -0.179303  0.010147\n",
       "10    pparg  0.039298  0.000534\n",
       "11   bcl11a  0.223200 -0.295242\n",
       "12    brms1  0.441679  0.444944\n",
       "13   gucy2d  0.124369  0.020560\n",
       "..      ...       ...       ...\n",
       "98    abcb1 -0.111413  0.051640\n",
       "99   pik3ca  0.171801  0.081812\n",
       "100   brca1  0.464508  0.365358\n",
       "101    dkk1 -0.049650 -0.007715\n",
       "102    klk3  0.128428  0.323820\n",
       "\n",
       "[94 rows x 3 columns]"
      ]
     },
     "execution_count": 127,
     "metadata": {},
     "output_type": "execute_result"
    }
   ],
   "source": [
    "leuk=pd.DataFrame(score3).dropna()\n",
    "alzz=pd.DataFrame(score).dropna()\n",
    "aleuk=leuk.merge(alzz,on=0,how='inner')\n",
    "aleuk=aleuk[aleuk[0]!='nan']\n",
    "aleuk"
   ]
  },
  {
   "cell_type": "code",
   "execution_count": 128,
   "metadata": {},
   "outputs": [],
   "source": [
    "X=np.array(aleuk.iloc[:,1:])\n"
   ]
  },
  {
   "cell_type": "code",
   "execution_count": 129,
   "metadata": {},
   "outputs": [
    {
     "data": {
      "image/png": "[encoded data removed]",
      "text/plain": [
       "<Figure size 432x288 with 1 Axes>"
      ]
     },
     "metadata": {
      "needs_background": "light"
     },
     "output_type": "display_data"
    },
    {
     "name": "stdout",
     "output_type": "stream",
     "text": [
      "Cluster id labels for inputted data\n",
      "[0 0 0 1 1 1 0 1 0 1 1 0 0 1 0 0 0 0 1 1 1 1 1 0 0 0 0 0 1 1 1 0 0 0 1 1 0\n",
      " 0 0 1 1 1 1 1 1 1 0 1 0 0 0 0 1 1 1 1 1 1 0 0 1 1 1 1 1 0 1 0 0 0 1 0 1 1\n",
      " 1 1 1 0 0 0 0 0 1 0 1 1 0 1 1 0 1 1 0 1]\n",
      "Centroids data\n",
      "[[-0.06919061 -0.12454014]\n",
      " [ 0.28312019  0.17417985]]\n",
      "Score (Opposite of the value of X on the K-means objective which is Sum of distances of samples to their closest cluster center):\n",
      "-4.503322677344512\n",
      "Silhouette_score: \n",
      "0.6479945796796676\n"
     ]
    }
   ],
   "source": [
    "from sklearn import cluster\n",
    "from sklearn.cluster import KMeans\n",
    "from sklearn import cluster\n",
    "from sklearn import metrics\n",
    "from scipy.spatial import distance\n",
    "\n",
    "X=X\n",
    " \n",
    "# k means determine k\n",
    "distortions = []\n",
    "K = range(2,20)\n",
    "for k in K:\n",
    "    kmeanModel = KMeans(n_clusters=k).fit(X)\n",
    "    kmeanModel.fit(X)\n",
    "    distortions.append(sum(np.min(distance.cdist(X, kmeanModel.cluster_centers_, 'euclidean'), axis=1)) / X.shape[0])\n",
    "\n",
    "# Plot the elbow\n",
    "plt.plot(K, distortions, 'bx-')\n",
    "plt.xlabel('k')\n",
    "plt.ylabel('Distortion')\n",
    "plt.title('The Elbow Method showing the optimal k')\n",
    "plt.show()\n",
    "\n",
    "\n",
    "k=2\n",
    "kmeanModel = KMeans(n_clusters=k).fit(X)\n",
    "kmeanModel.fit(X)\n",
    "labels=kmeanModel.labels_\n",
    "centroids=kmeanModel.cluster_centers_\n",
    "\n",
    "\n",
    "print (\"Cluster id labels for inputted data\")\n",
    "print (labels)\n",
    "print (\"Centroids data\")\n",
    "print (centroids)\n",
    "print (\"Score (Opposite of the value of X on the K-means objective which is Sum of distances of samples to their closest cluster center):\")\n",
    "print (kmeanModel.score(X))\n",
    " \n",
    "silhouette_score = metrics.silhouette_score(X, labels, metric='cosine')\n",
    " \n",
    "print (\"Silhouette_score: \")\n",
    "print (silhouette_score)"
   ]
  },
  {
   "cell_type": "code",
   "execution_count": 130,
   "metadata": {
    "scrolled": true
   },
   "outputs": [
    {
     "data": {
      "text/plain": [
       "<matplotlib.collections.PathCollection at 0x1a33d4cad0>"
      ]
     },
     "execution_count": 130,
     "metadata": {},
     "output_type": "execute_result"
    },
    {
     "data": {
      "image/png": "[encoded data removed]",
      "text/plain": [
       "<Figure size 648x648 with 1 Axes>"
      ]
     },
     "metadata": {
      "needs_background": "light"
     },
     "output_type": "display_data"
    }
   ],
   "source": [
    "fig, ax = plt.subplots(figsize=(9,9))\n",
    "ax.set_xlabel('Leukemia Genes',fontsize=20)\n",
    "ax.set_ylabel('Alzheimer Genes',fontsize=20)\n",
    "plt.xticks(fontsize=16)\n",
    "plt.yticks(fontsize=16)\n",
    "plt.scatter(X[:, 0], X[:, 1], c=labels,cmap='viridis')\n",
    "plt.scatter(centroids[:, 0], centroids[:, 1], c='black', s=200, alpha=0.5)\n"
   ]
  },
  {
   "cell_type": "code",
   "execution_count": 203,
   "metadata": {},
   "outputs": [
    {
     "name": "stderr",
     "output_type": "stream",
     "text": [
      "/Users/maggie/python-data/py3env/lib/python3.7/site-packages/ipykernel_launcher.py:4: UserWarning: Boolean Series key will be reindexed to match DataFrame index.\n",
      "  after removing the cwd from sys.path.\n"
     ]
    },
    {
     "data": {
      "text/html": [
       "<div>\n",
       "<style scoped>\n",
       "    .dataframe tbody tr th:only-of-type {\n",
       "        vertical-align: middle;\n",
       "    }\n",
       "\n",
       "    .dataframe tbody tr th {\n",
       "        vertical-align: top;\n",
       "    }\n",
       "\n",
       "    .dataframe thead th {\n",
       "        text-align: right;\n",
       "    }\n",
       "</style>\n",
       "<table border=\"1\" class=\"dataframe\">\n",
       "  <thead>\n",
       "    <tr style=\"text-align: right;\">\n",
       "      <th></th>\n",
       "      <th>0</th>\n",
       "      <th>1_x</th>\n",
       "      <th>1_y</th>\n",
       "    </tr>\n",
       "  </thead>\n",
       "  <tbody>\n",
       "    <tr>\n",
       "      <th>9</th>\n",
       "      <td>mapt</td>\n",
       "      <td>0.148657</td>\n",
       "      <td>0.248537</td>\n",
       "    </tr>\n",
       "    <tr>\n",
       "      <th>10</th>\n",
       "      <td>rala</td>\n",
       "      <td>-0.027603</td>\n",
       "      <td>-0.216718</td>\n",
       "    </tr>\n",
       "    <tr>\n",
       "      <th>11</th>\n",
       "      <td>myc</td>\n",
       "      <td>0.103407</td>\n",
       "      <td>-0.003600</td>\n",
       "    </tr>\n",
       "    <tr>\n",
       "      <th>12</th>\n",
       "      <td>lep</td>\n",
       "      <td>0.183829</td>\n",
       "      <td>0.350887</td>\n",
       "    </tr>\n",
       "    <tr>\n",
       "      <th>13</th>\n",
       "      <td>saa1</td>\n",
       "      <td>0.109568</td>\n",
       "      <td>0.128410</td>\n",
       "    </tr>\n",
       "    <tr>\n",
       "      <th>...</th>\n",
       "      <td>...</td>\n",
       "      <td>...</td>\n",
       "      <td>...</td>\n",
       "    </tr>\n",
       "    <tr>\n",
       "      <th>93</th>\n",
       "      <td>braf</td>\n",
       "      <td>-0.055515</td>\n",
       "      <td>-0.009385</td>\n",
       "    </tr>\n",
       "    <tr>\n",
       "      <th>94</th>\n",
       "      <td>bdnf</td>\n",
       "      <td>0.061812</td>\n",
       "      <td>-0.124007</td>\n",
       "    </tr>\n",
       "    <tr>\n",
       "      <th>95</th>\n",
       "      <td>gstm1</td>\n",
       "      <td>-0.004810</td>\n",
       "      <td>-0.079512</td>\n",
       "    </tr>\n",
       "    <tr>\n",
       "      <th>96</th>\n",
       "      <td>hnf4a</td>\n",
       "      <td>-0.141188</td>\n",
       "      <td>0.297379</td>\n",
       "    </tr>\n",
       "    <tr>\n",
       "      <th>97</th>\n",
       "      <td>erbb2</td>\n",
       "      <td>-0.011862</td>\n",
       "      <td>0.177180</td>\n",
       "    </tr>\n",
       "  </tbody>\n",
       "</table>\n",
       "<p>89 rows × 3 columns</p>\n",
       "</div>"
      ],
      "text/plain": [
       "        0       1_x       1_y\n",
       "9    mapt  0.148657  0.248537\n",
       "10   rala -0.027603 -0.216718\n",
       "11    myc  0.103407 -0.003600\n",
       "12    lep  0.183829  0.350887\n",
       "13   saa1  0.109568  0.128410\n",
       "..    ...       ...       ...\n",
       "93   braf -0.055515 -0.009385\n",
       "94   bdnf  0.061812 -0.124007\n",
       "95  gstm1 -0.004810 -0.079512\n",
       "96  hnf4a -0.141188  0.297379\n",
       "97  erbb2 -0.011862  0.177180\n",
       "\n",
       "[89 rows x 3 columns]"
      ]
     },
     "execution_count": 203,
     "metadata": {},
     "output_type": "execute_result"
    }
   ],
   "source": [
    "park=pd.DataFrame(score4).dropna()\n",
    "alzz=pd.DataFrame(score).dropna()\n",
    "apark=park.merge(alzz,on=0,how='inner')\n",
    "apark=aleuk[apark[0]!='nan']\n",
    "apark"
   ]
  },
  {
   "cell_type": "code",
   "execution_count": 205,
   "metadata": {},
   "outputs": [],
   "source": [
    "X=np.array(apark.iloc[:,1:])"
   ]
  },
  {
   "cell_type": "code",
   "execution_count": 206,
   "metadata": {},
   "outputs": [
    {
     "data": {
      "image/png": "[encoded data removed]",
      "text/plain": [
       "<Figure size 432x288 with 1 Axes>"
      ]
     },
     "metadata": {
      "needs_background": "light"
     },
     "output_type": "display_data"
    },
    {
     "name": "stdout",
     "output_type": "stream",
     "text": [
      "Cluster id labels for inputted data\n",
      "[0 1 1 0 0 1 1 1 1 0 1 1 1 0 0 1 1 1 1 0 0 1 1 0 1 0 0 1 1 1 1 0 0 1 0 0 0\n",
      " 0 0 0 0 1 1 1 1 0 1 0 1 0 1 1 1 1 1 1 1 0 0 1 1 0 0 1 1 0 0 0 0 1 0 1 0 0\n",
      " 0 0 0 0 0 0 1 1 0 1 1 1 1 0 0]\n",
      "Centroids data\n",
      "[[ 0.15533105  0.19188071]\n",
      " [-0.01344433 -0.14299433]]\n",
      "Score (Opposite of the value of X on the K-means objective which is Sum of distances of samples to their closest cluster center):\n",
      "-3.5239284189897977\n",
      "Silhouette_score: \n",
      "0.6582630230208467\n"
     ]
    }
   ],
   "source": [
    "\n",
    "from sklearn import cluster\n",
    "from sklearn import metrics\n",
    "from scipy.spatial import distance\n",
    "\n",
    "X=X\n",
    " \n",
    "# k means determine k\n",
    "distortions = []\n",
    "K = range(2,10)\n",
    "for k in K:\n",
    "    kmeanModel = KMeans(n_clusters=k).fit(X)\n",
    "    kmeanModel.fit(X)\n",
    "    distortions.append(sum(np.min(distance.cdist(X, kmeanModel.cluster_centers_, 'euclidean'), axis=1)) / X.shape[0])\n",
    "\n",
    "# Plot the elbow\n",
    "plt.plot(K, distortions, 'bx-')\n",
    "plt.xlabel('k')\n",
    "plt.ylabel('Distortion')\n",
    "plt.title('The Elbow Method showing the optimal k')\n",
    "plt.show()\n",
    "\n",
    "\n",
    "k=2\n",
    "kmeanModel = KMeans(n_clusters=k).fit(X)\n",
    "kmeanModel.fit(X)\n",
    "labels=kmeanModel.labels_\n",
    "centroids=kmeanModel.cluster_centers_\n",
    "\n",
    "\n",
    "print (\"Cluster id labels for inputted data\")\n",
    "print (labels)\n",
    "print (\"Centroids data\")\n",
    "print (centroids)\n",
    "print (\"Score (Opposite of the value of X on the K-means objective which is Sum of distances of samples to their closest cluster center):\")\n",
    "print (kmeanModel.score(X))\n",
    " \n",
    "silhouette_score = metrics.silhouette_score(X, labels, metric='cosine')\n",
    " \n",
    "print (\"Silhouette_score: \")\n",
    "print (silhouette_score)"
   ]
  },
  {
   "cell_type": "code",
   "execution_count": 207,
   "metadata": {},
   "outputs": [
    {
     "data": {
      "text/plain": [
       "<matplotlib.collections.PathCollection at 0x14ad7b4e0>"
      ]
     },
     "execution_count": 207,
     "metadata": {},
     "output_type": "execute_result"
    },
    {
     "data": {
      "image/png": "[encoded data removed]",
      "text/plain": [
       "<Figure size 648x648 with 1 Axes>"
      ]
     },
     "metadata": {
      "needs_background": "light"
     },
     "output_type": "display_data"
    }
   ],
   "source": [
    "fig, ax = plt.subplots(figsize=(9,9))\n",
    "ax.set_xlabel('Parkinson Genes',fontsize=20)\n",
    "ax.set_ylabel('Alzheimer Genes',fontsize=20)\n",
    "plt.xticks(fontsize=16)\n",
    "plt.yticks(fontsize=16)\n",
    "plt.scatter(X[:, 0], X[:, 1], c=labels,cmap='viridis')\n",
    "\n",
    "plt.scatter(centroids[:, 0], centroids[:, 1], c='black', s=200, alpha=0.5)"
   ]
  },
  {
   "cell_type": "code",
   "execution_count": null,
   "metadata": {},
   "outputs": [],
   "source": []
  },
  {
   "cell_type": "code",
   "execution_count": null,
   "metadata": {},
   "outputs": [],
   "source": []
  },
  {
   "cell_type": "code",
   "execution_count": null,
   "metadata": {},
   "outputs": [],
   "source": []
  }
 ],
 "metadata": {
  "kernelspec": {
   "display_name": "Python 3",
   "language": "python",
   "name": "python3"
  },
  "language_info": {
   "codemirror_mode": {
    "name": "ipython",
    "version": 3
   },
   "file_extension": ".py",
   "mimetype": "text/x-python",
   "name": "python",
   "nbconvert_exporter": "python",
   "pygments_lexer": "ipython3",
   "version": "3.7.4"
  }
 },
 "nbformat": 4,
 "nbformat_minor": 2
}
