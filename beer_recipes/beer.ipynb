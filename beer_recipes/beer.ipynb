{
 "cells": [
  {
   "cell_type": "code",
   "execution_count": 1,
   "metadata": {},
   "outputs": [],
   "source": [
    "#importing libraries\n",
    "import pandas as pd\n",
    "import numpy as np\n",
    "%matplotlib inline\n",
    "import matplotlib.pyplot as plt\n",
    "import seaborn as sns\n",
    "from sklearn.linear_model import LogisticRegression\n",
    "from sklearn.preprocessing import MinMaxScaler"
   ]
  },
  {
   "cell_type": "code",
   "execution_count": 2,
   "metadata": {},
   "outputs": [],
   "source": [
    "beer = pd.read_csv('data/recipeData.csv', index_col='BeerID', encoding='latin1')"
   ]
  },
  {
   "cell_type": "code",
   "execution_count": 3,
   "metadata": {},
   "outputs": [
    {
     "data": {
      "text/plain": [
       "(73861, 21)"
      ]
     },
     "execution_count": 3,
     "metadata": {},
     "output_type": "execute_result"
    }
   ],
   "source": [
    "beer.shape"
   ]
  },
  {
   "cell_type": "code",
   "execution_count": 4,
   "metadata": {
    "scrolled": true
   },
   "outputs": [
    {
     "data": {
      "text/html": [
       "<div>\n",
       "<style scoped>\n",
       "    .dataframe tbody tr th:only-of-type {\n",
       "        vertical-align: middle;\n",
       "    }\n",
       "\n",
       "    .dataframe tbody tr th {\n",
       "        vertical-align: top;\n",
       "    }\n",
       "\n",
       "    .dataframe thead th {\n",
       "        text-align: right;\n",
       "    }\n",
       "</style>\n",
       "<table border=\"1\" class=\"dataframe\">\n",
       "  <thead>\n",
       "    <tr style=\"text-align: right;\">\n",
       "      <th></th>\n",
       "      <th>Name</th>\n",
       "      <th>URL</th>\n",
       "      <th>Style</th>\n",
       "      <th>StyleID</th>\n",
       "      <th>Size(L)</th>\n",
       "      <th>OG</th>\n",
       "      <th>FG</th>\n",
       "      <th>ABV</th>\n",
       "      <th>IBU</th>\n",
       "      <th>Color</th>\n",
       "      <th>...</th>\n",
       "      <th>BoilTime</th>\n",
       "      <th>BoilGravity</th>\n",
       "      <th>Efficiency</th>\n",
       "      <th>MashThickness</th>\n",
       "      <th>SugarScale</th>\n",
       "      <th>BrewMethod</th>\n",
       "      <th>PitchRate</th>\n",
       "      <th>PrimaryTemp</th>\n",
       "      <th>PrimingMethod</th>\n",
       "      <th>PrimingAmount</th>\n",
       "    </tr>\n",
       "    <tr>\n",
       "      <th>BeerID</th>\n",
       "      <th></th>\n",
       "      <th></th>\n",
       "      <th></th>\n",
       "      <th></th>\n",
       "      <th></th>\n",
       "      <th></th>\n",
       "      <th></th>\n",
       "      <th></th>\n",
       "      <th></th>\n",
       "      <th></th>\n",
       "      <th></th>\n",
       "      <th></th>\n",
       "      <th></th>\n",
       "      <th></th>\n",
       "      <th></th>\n",
       "      <th></th>\n",
       "      <th></th>\n",
       "      <th></th>\n",
       "      <th></th>\n",
       "      <th></th>\n",
       "      <th></th>\n",
       "    </tr>\n",
       "  </thead>\n",
       "  <tbody>\n",
       "    <tr>\n",
       "      <th>1</th>\n",
       "      <td>Vanilla Cream Ale</td>\n",
       "      <td>/homebrew/recipe/view/1633/vanilla-cream-ale</td>\n",
       "      <td>Cream Ale</td>\n",
       "      <td>45</td>\n",
       "      <td>21.77</td>\n",
       "      <td>1.055</td>\n",
       "      <td>1.013</td>\n",
       "      <td>5.48</td>\n",
       "      <td>17.65</td>\n",
       "      <td>4.83</td>\n",
       "      <td>...</td>\n",
       "      <td>75</td>\n",
       "      <td>1.038</td>\n",
       "      <td>70.0</td>\n",
       "      <td>NaN</td>\n",
       "      <td>Specific Gravity</td>\n",
       "      <td>All Grain</td>\n",
       "      <td>NaN</td>\n",
       "      <td>17.78</td>\n",
       "      <td>corn sugar</td>\n",
       "      <td>4.5 oz</td>\n",
       "    </tr>\n",
       "    <tr>\n",
       "      <th>2</th>\n",
       "      <td>Southern Tier Pumking clone</td>\n",
       "      <td>/homebrew/recipe/view/16367/southern-tier-pumk...</td>\n",
       "      <td>Holiday/Winter Special Spiced Beer</td>\n",
       "      <td>85</td>\n",
       "      <td>20.82</td>\n",
       "      <td>1.083</td>\n",
       "      <td>1.021</td>\n",
       "      <td>8.16</td>\n",
       "      <td>60.65</td>\n",
       "      <td>15.64</td>\n",
       "      <td>...</td>\n",
       "      <td>60</td>\n",
       "      <td>1.070</td>\n",
       "      <td>70.0</td>\n",
       "      <td>NaN</td>\n",
       "      <td>Specific Gravity</td>\n",
       "      <td>All Grain</td>\n",
       "      <td>NaN</td>\n",
       "      <td>NaN</td>\n",
       "      <td>NaN</td>\n",
       "      <td>NaN</td>\n",
       "    </tr>\n",
       "    <tr>\n",
       "      <th>3</th>\n",
       "      <td>Zombie Dust Clone - EXTRACT</td>\n",
       "      <td>/homebrew/recipe/view/5920/zombie-dust-clone-e...</td>\n",
       "      <td>American IPA</td>\n",
       "      <td>7</td>\n",
       "      <td>18.93</td>\n",
       "      <td>1.063</td>\n",
       "      <td>1.018</td>\n",
       "      <td>5.91</td>\n",
       "      <td>59.25</td>\n",
       "      <td>8.98</td>\n",
       "      <td>...</td>\n",
       "      <td>60</td>\n",
       "      <td>NaN</td>\n",
       "      <td>70.0</td>\n",
       "      <td>NaN</td>\n",
       "      <td>Specific Gravity</td>\n",
       "      <td>extract</td>\n",
       "      <td>NaN</td>\n",
       "      <td>NaN</td>\n",
       "      <td>NaN</td>\n",
       "      <td>NaN</td>\n",
       "    </tr>\n",
       "    <tr>\n",
       "      <th>4</th>\n",
       "      <td>Zombie Dust Clone - ALL GRAIN</td>\n",
       "      <td>/homebrew/recipe/view/5916/zombie-dust-clone-a...</td>\n",
       "      <td>American IPA</td>\n",
       "      <td>7</td>\n",
       "      <td>22.71</td>\n",
       "      <td>1.061</td>\n",
       "      <td>1.017</td>\n",
       "      <td>5.80</td>\n",
       "      <td>54.48</td>\n",
       "      <td>8.50</td>\n",
       "      <td>...</td>\n",
       "      <td>60</td>\n",
       "      <td>NaN</td>\n",
       "      <td>70.0</td>\n",
       "      <td>NaN</td>\n",
       "      <td>Specific Gravity</td>\n",
       "      <td>All Grain</td>\n",
       "      <td>NaN</td>\n",
       "      <td>NaN</td>\n",
       "      <td>NaN</td>\n",
       "      <td>NaN</td>\n",
       "    </tr>\n",
       "    <tr>\n",
       "      <th>5</th>\n",
       "      <td>Bakke Brygg Belgisk Blonde 50 l</td>\n",
       "      <td>/homebrew/recipe/view/89534/bakke-brygg-belgis...</td>\n",
       "      <td>Belgian Blond Ale</td>\n",
       "      <td>20</td>\n",
       "      <td>50.00</td>\n",
       "      <td>1.060</td>\n",
       "      <td>1.010</td>\n",
       "      <td>6.48</td>\n",
       "      <td>17.84</td>\n",
       "      <td>4.57</td>\n",
       "      <td>...</td>\n",
       "      <td>90</td>\n",
       "      <td>1.050</td>\n",
       "      <td>72.0</td>\n",
       "      <td>NaN</td>\n",
       "      <td>Specific Gravity</td>\n",
       "      <td>All Grain</td>\n",
       "      <td>NaN</td>\n",
       "      <td>19.00</td>\n",
       "      <td>Sukkerlake</td>\n",
       "      <td>6-7 g sukker/l</td>\n",
       "    </tr>\n",
       "  </tbody>\n",
       "</table>\n",
       "<p>5 rows × 21 columns</p>\n",
       "</div>"
      ],
      "text/plain": [
       "                                   Name  \\\n",
       "BeerID                                    \n",
       "1                     Vanilla Cream Ale   \n",
       "2           Southern Tier Pumking clone   \n",
       "3           Zombie Dust Clone - EXTRACT   \n",
       "4         Zombie Dust Clone - ALL GRAIN   \n",
       "5       Bakke Brygg Belgisk Blonde 50 l   \n",
       "\n",
       "                                                      URL  \\\n",
       "BeerID                                                      \n",
       "1            /homebrew/recipe/view/1633/vanilla-cream-ale   \n",
       "2       /homebrew/recipe/view/16367/southern-tier-pumk...   \n",
       "3       /homebrew/recipe/view/5920/zombie-dust-clone-e...   \n",
       "4       /homebrew/recipe/view/5916/zombie-dust-clone-a...   \n",
       "5       /homebrew/recipe/view/89534/bakke-brygg-belgis...   \n",
       "\n",
       "                                     Style  StyleID  Size(L)     OG     FG  \\\n",
       "BeerID                                                                       \n",
       "1                                Cream Ale       45    21.77  1.055  1.013   \n",
       "2       Holiday/Winter Special Spiced Beer       85    20.82  1.083  1.021   \n",
       "3                             American IPA        7    18.93  1.063  1.018   \n",
       "4                             American IPA        7    22.71  1.061  1.017   \n",
       "5                        Belgian Blond Ale       20    50.00  1.060  1.010   \n",
       "\n",
       "         ABV    IBU  Color       ...        BoilTime  BoilGravity  Efficiency  \\\n",
       "BeerID                           ...                                            \n",
       "1       5.48  17.65   4.83       ...              75        1.038        70.0   \n",
       "2       8.16  60.65  15.64       ...              60        1.070        70.0   \n",
       "3       5.91  59.25   8.98       ...              60          NaN        70.0   \n",
       "4       5.80  54.48   8.50       ...              60          NaN        70.0   \n",
       "5       6.48  17.84   4.57       ...              90        1.050        72.0   \n",
       "\n",
       "        MashThickness        SugarScale BrewMethod PitchRate  PrimaryTemp  \\\n",
       "BeerID                                                                      \n",
       "1                 NaN  Specific Gravity  All Grain       NaN        17.78   \n",
       "2                 NaN  Specific Gravity  All Grain       NaN          NaN   \n",
       "3                 NaN  Specific Gravity    extract       NaN          NaN   \n",
       "4                 NaN  Specific Gravity  All Grain       NaN          NaN   \n",
       "5                 NaN  Specific Gravity  All Grain       NaN        19.00   \n",
       "\n",
       "        PrimingMethod   PrimingAmount  \n",
       "BeerID                                 \n",
       "1          corn sugar          4.5 oz  \n",
       "2                 NaN             NaN  \n",
       "3                 NaN             NaN  \n",
       "4                 NaN             NaN  \n",
       "5          Sukkerlake  6-7 g sukker/l  \n",
       "\n",
       "[5 rows x 21 columns]"
      ]
     },
     "execution_count": 4,
     "metadata": {},
     "output_type": "execute_result"
    }
   ],
   "source": [
    "beer.head()"
   ]
  },
  {
   "cell_type": "code",
   "execution_count": 5,
   "metadata": {
    "scrolled": true
   },
   "outputs": [
    {
     "data": {
      "text/html": [
       "<div>\n",
       "<style scoped>\n",
       "    .dataframe tbody tr th:only-of-type {\n",
       "        vertical-align: middle;\n",
       "    }\n",
       "\n",
       "    .dataframe tbody tr th {\n",
       "        vertical-align: top;\n",
       "    }\n",
       "\n",
       "    .dataframe thead th {\n",
       "        text-align: right;\n",
       "    }\n",
       "</style>\n",
       "<table border=\"1\" class=\"dataframe\">\n",
       "  <thead>\n",
       "    <tr style=\"text-align: right;\">\n",
       "      <th></th>\n",
       "      <th>index</th>\n",
       "      <th>Style</th>\n",
       "    </tr>\n",
       "  </thead>\n",
       "  <tbody>\n",
       "    <tr>\n",
       "      <th>0</th>\n",
       "      <td>American IPA</td>\n",
       "      <td>11940</td>\n",
       "    </tr>\n",
       "    <tr>\n",
       "      <th>1</th>\n",
       "      <td>American Pale Ale</td>\n",
       "      <td>7581</td>\n",
       "    </tr>\n",
       "    <tr>\n",
       "      <th>2</th>\n",
       "      <td>Saison</td>\n",
       "      <td>2617</td>\n",
       "    </tr>\n",
       "    <tr>\n",
       "      <th>3</th>\n",
       "      <td>American Light Lager</td>\n",
       "      <td>2277</td>\n",
       "    </tr>\n",
       "    <tr>\n",
       "      <th>4</th>\n",
       "      <td>American Amber Ale</td>\n",
       "      <td>2038</td>\n",
       "    </tr>\n",
       "    <tr>\n",
       "      <th>5</th>\n",
       "      <td>Blonde Ale</td>\n",
       "      <td>1753</td>\n",
       "    </tr>\n",
       "    <tr>\n",
       "      <th>6</th>\n",
       "      <td>Imperial IPA</td>\n",
       "      <td>1478</td>\n",
       "    </tr>\n",
       "    <tr>\n",
       "      <th>7</th>\n",
       "      <td>American Stout</td>\n",
       "      <td>1268</td>\n",
       "    </tr>\n",
       "    <tr>\n",
       "      <th>8</th>\n",
       "      <td>Irish Red Ale</td>\n",
       "      <td>1204</td>\n",
       "    </tr>\n",
       "    <tr>\n",
       "      <th>9</th>\n",
       "      <td>American Brown Ale</td>\n",
       "      <td>1152</td>\n",
       "    </tr>\n",
       "    <tr>\n",
       "      <th>10</th>\n",
       "      <td>Witbier</td>\n",
       "      <td>1072</td>\n",
       "    </tr>\n",
       "    <tr>\n",
       "      <th>11</th>\n",
       "      <td>California Common Beer</td>\n",
       "      <td>1044</td>\n",
       "    </tr>\n",
       "    <tr>\n",
       "      <th>12</th>\n",
       "      <td>Weissbier</td>\n",
       "      <td>988</td>\n",
       "    </tr>\n",
       "    <tr>\n",
       "      <th>13</th>\n",
       "      <td>Oatmeal Stout</td>\n",
       "      <td>961</td>\n",
       "    </tr>\n",
       "    <tr>\n",
       "      <th>14</th>\n",
       "      <td>Russian Imperial Stout</td>\n",
       "      <td>929</td>\n",
       "    </tr>\n",
       "    <tr>\n",
       "      <th>15</th>\n",
       "      <td>Weizen/Weissbier</td>\n",
       "      <td>919</td>\n",
       "    </tr>\n",
       "    <tr>\n",
       "      <th>16</th>\n",
       "      <td>Sweet Stout</td>\n",
       "      <td>919</td>\n",
       "    </tr>\n",
       "    <tr>\n",
       "      <th>17</th>\n",
       "      <td>Robust Porter</td>\n",
       "      <td>897</td>\n",
       "    </tr>\n",
       "    <tr>\n",
       "      <th>18</th>\n",
       "      <td>Kölsch</td>\n",
       "      <td>869</td>\n",
       "    </tr>\n",
       "    <tr>\n",
       "      <th>19</th>\n",
       "      <td>Double IPA</td>\n",
       "      <td>864</td>\n",
       "    </tr>\n",
       "    <tr>\n",
       "      <th>20</th>\n",
       "      <td>Cream Ale</td>\n",
       "      <td>830</td>\n",
       "    </tr>\n",
       "    <tr>\n",
       "      <th>21</th>\n",
       "      <td>American Porter</td>\n",
       "      <td>787</td>\n",
       "    </tr>\n",
       "    <tr>\n",
       "      <th>22</th>\n",
       "      <td>English IPA</td>\n",
       "      <td>784</td>\n",
       "    </tr>\n",
       "    <tr>\n",
       "      <th>23</th>\n",
       "      <td>Imperial Stout</td>\n",
       "      <td>675</td>\n",
       "    </tr>\n",
       "    <tr>\n",
       "      <th>24</th>\n",
       "      <td>Extra Special/Strong Bitter (ESB)</td>\n",
       "      <td>659</td>\n",
       "    </tr>\n",
       "    <tr>\n",
       "      <th>25</th>\n",
       "      <td>American Wheat Beer</td>\n",
       "      <td>654</td>\n",
       "    </tr>\n",
       "    <tr>\n",
       "      <th>26</th>\n",
       "      <td>Specialty IPA: Black IPA</td>\n",
       "      <td>638</td>\n",
       "    </tr>\n",
       "    <tr>\n",
       "      <th>27</th>\n",
       "      <td>Belgian Pale Ale</td>\n",
       "      <td>625</td>\n",
       "    </tr>\n",
       "    <tr>\n",
       "      <th>28</th>\n",
       "      <td>American Wheat or Rye Beer</td>\n",
       "      <td>571</td>\n",
       "    </tr>\n",
       "    <tr>\n",
       "      <th>29</th>\n",
       "      <td>Belgian Tripel</td>\n",
       "      <td>563</td>\n",
       "    </tr>\n",
       "    <tr>\n",
       "      <th>30</th>\n",
       "      <td>Belgian Dark Strong Ale</td>\n",
       "      <td>538</td>\n",
       "    </tr>\n",
       "    <tr>\n",
       "      <th>31</th>\n",
       "      <td>Belgian Dubbel</td>\n",
       "      <td>530</td>\n",
       "    </tr>\n",
       "    <tr>\n",
       "      <th>32</th>\n",
       "      <td>Spice  Herb  or Vegetable Beer</td>\n",
       "      <td>514</td>\n",
       "    </tr>\n",
       "    <tr>\n",
       "      <th>33</th>\n",
       "      <td>Fruit Beer</td>\n",
       "      <td>502</td>\n",
       "    </tr>\n",
       "    <tr>\n",
       "      <th>34</th>\n",
       "      <td>Belgian Blond Ale</td>\n",
       "      <td>496</td>\n",
       "    </tr>\n",
       "    <tr>\n",
       "      <th>35</th>\n",
       "      <td>Dry Stout</td>\n",
       "      <td>484</td>\n",
       "    </tr>\n",
       "    <tr>\n",
       "      <th>36</th>\n",
       "      <td>Strong Bitter</td>\n",
       "      <td>481</td>\n",
       "    </tr>\n",
       "    <tr>\n",
       "      <th>37</th>\n",
       "      <td>German Pilsner (Pils)</td>\n",
       "      <td>466</td>\n",
       "    </tr>\n",
       "    <tr>\n",
       "      <th>38</th>\n",
       "      <td>Specialty IPA: Red IPA</td>\n",
       "      <td>442</td>\n",
       "    </tr>\n",
       "    <tr>\n",
       "      <th>39</th>\n",
       "      <td>Brown Porter</td>\n",
       "      <td>438</td>\n",
       "    </tr>\n",
       "    <tr>\n",
       "      <th>40</th>\n",
       "      <td>Experimental Beer</td>\n",
       "      <td>432</td>\n",
       "    </tr>\n",
       "    <tr>\n",
       "      <th>41</th>\n",
       "      <td>Specialty Beer</td>\n",
       "      <td>430</td>\n",
       "    </tr>\n",
       "    <tr>\n",
       "      <th>42</th>\n",
       "      <td>Belgian Specialty Ale</td>\n",
       "      <td>422</td>\n",
       "    </tr>\n",
       "  </tbody>\n",
       "</table>\n",
       "</div>"
      ],
      "text/plain": [
       "                                index  Style\n",
       "0                        American IPA  11940\n",
       "1                   American Pale Ale   7581\n",
       "2                              Saison   2617\n",
       "3                American Light Lager   2277\n",
       "4                  American Amber Ale   2038\n",
       "5                          Blonde Ale   1753\n",
       "6                        Imperial IPA   1478\n",
       "7                      American Stout   1268\n",
       "8                       Irish Red Ale   1204\n",
       "9                  American Brown Ale   1152\n",
       "10                            Witbier   1072\n",
       "11             California Common Beer   1044\n",
       "12                          Weissbier    988\n",
       "13                      Oatmeal Stout    961\n",
       "14             Russian Imperial Stout    929\n",
       "15                   Weizen/Weissbier    919\n",
       "16                        Sweet Stout    919\n",
       "17                      Robust Porter    897\n",
       "18                             Kölsch    869\n",
       "19                         Double IPA    864\n",
       "20                          Cream Ale    830\n",
       "21                    American Porter    787\n",
       "22                        English IPA    784\n",
       "23                     Imperial Stout    675\n",
       "24  Extra Special/Strong Bitter (ESB)    659\n",
       "25                American Wheat Beer    654\n",
       "26           Specialty IPA: Black IPA    638\n",
       "27                   Belgian Pale Ale    625\n",
       "28         American Wheat or Rye Beer    571\n",
       "29                     Belgian Tripel    563\n",
       "30            Belgian Dark Strong Ale    538\n",
       "31                     Belgian Dubbel    530\n",
       "32     Spice  Herb  or Vegetable Beer    514\n",
       "33                         Fruit Beer    502\n",
       "34                  Belgian Blond Ale    496\n",
       "35                          Dry Stout    484\n",
       "36                      Strong Bitter    481\n",
       "37              German Pilsner (Pils)    466\n",
       "38             Specialty IPA: Red IPA    442\n",
       "39                       Brown Porter    438\n",
       "40                  Experimental Beer    432\n",
       "41                     Specialty Beer    430\n",
       "42              Belgian Specialty Ale    422"
      ]
     },
     "execution_count": 5,
     "metadata": {},
     "output_type": "execute_result"
    }
   ],
   "source": [
    "stylecounts = pd.DataFrame(beer['Style'].value_counts().reset_index())\n",
    "stylecounts.loc[stylecounts['Style']>400,:]\n"
   ]
  },
  {
   "cell_type": "code",
   "execution_count": 6,
   "metadata": {},
   "outputs": [],
   "source": [
    "a = beer['Imperial IPA'] = (beer['Style'].str.contains('Imperial IPA'or'Double IPA'))*'Imperial IPA '\n"
   ]
  },
  {
   "cell_type": "code",
   "execution_count": 7,
   "metadata": {},
   "outputs": [],
   "source": [
    "v = beer['IPA'] = (beer['Style'].str.contains(' IPA'))*'IPA'\n"
   ]
  },
  {
   "cell_type": "code",
   "execution_count": 8,
   "metadata": {},
   "outputs": [],
   "source": [
    "c = beer['Pale Ale'] = (beer['Style'].str.contains('Pale Ale'))*'Pale Ale'"
   ]
  },
  {
   "cell_type": "code",
   "execution_count": 9,
   "metadata": {},
   "outputs": [],
   "source": [
    "d = beer['Light Lager'] = (beer['Style'].str.contains('Light Lager'))*'Light Lager '"
   ]
  },
  {
   "cell_type": "code",
   "execution_count": 10,
   "metadata": {},
   "outputs": [],
   "source": [
    "o = beer['Lager'] = (beer['Style'].str.contains(' Lager'))*'Lager'"
   ]
  },
  {
   "cell_type": "code",
   "execution_count": 11,
   "metadata": {},
   "outputs": [],
   "source": [
    "e =beer['Blonde Ale'] = (beer['Style'].str.contains('Blonde Ale' or 'Blond Ale'))*'Blonde Ale'"
   ]
  },
  {
   "cell_type": "code",
   "execution_count": 12,
   "metadata": {},
   "outputs": [],
   "source": [
    "f = beer['Imperial Stout'] = (beer['Style'].str.contains('Imperial Stout'))*'Imperial Stout '"
   ]
  },
  {
   "cell_type": "code",
   "execution_count": 13,
   "metadata": {},
   "outputs": [],
   "source": [
    "#g = beer['Oatmeal Stout'] = (beer['Style'].str.contains('Oatmeal Stout'))*'Oatmeal Stout '"
   ]
  },
  {
   "cell_type": "code",
   "execution_count": 14,
   "metadata": {},
   "outputs": [],
   "source": [
    "#h = beer['Sweet Stout'] = (beer['Style'].str.contains('Sweet Stout'))*'Sweet Stout '"
   ]
  },
  {
   "cell_type": "code",
   "execution_count": 15,
   "metadata": {},
   "outputs": [],
   "source": [
    "j = beer['Saison'] = (beer['Style'].str.contains('Saison'))*'Saison'"
   ]
  },
  {
   "cell_type": "code",
   "execution_count": 16,
   "metadata": {},
   "outputs": [],
   "source": [
    "k = beer['Stout'] = (beer['Style'].str.contains(' Stout'))*'Stout' "
   ]
  },
  {
   "cell_type": "code",
   "execution_count": 17,
   "metadata": {},
   "outputs": [],
   "source": [
    "l = beer['Red Ale'] = (beer['Style'].str.contains('Red Ale'))*'Red Ale'"
   ]
  },
  {
   "cell_type": "code",
   "execution_count": 18,
   "metadata": {},
   "outputs": [],
   "source": [
    "m = beer['Brown Ale'] = (beer['Style'].str.contains('Brown Ale'))*'Brown Ale'"
   ]
  },
  {
   "cell_type": "code",
   "execution_count": 19,
   "metadata": {},
   "outputs": [],
   "source": [
    "#n = beer['Cream Ale'] = (beer['Style'].str.contains('Cream Ale'))*'Cream Ale'"
   ]
  },
  {
   "cell_type": "code",
   "execution_count": 20,
   "metadata": {},
   "outputs": [],
   "source": [
    "q = beer['Wheat Beer'] = (beer['Style'].str.contains('Witbier' or 'Weissbier' or 'Weizenbier' or 'Weizen/Weissbier' or 'Wheat Beer' or 'Rye Beer'or 'Roggenbier'))*'Wheat Beer'"
   ]
  },
  {
   "cell_type": "code",
   "execution_count": 21,
   "metadata": {},
   "outputs": [],
   "source": [
    "#s = beer['Kölsch'] = (beer['Style'].str.contains('Kölsch'))*'Kölsch'"
   ]
  },
  {
   "cell_type": "code",
   "execution_count": 22,
   "metadata": {},
   "outputs": [],
   "source": [
    "t = beer['Porter'] = (beer['Style'].str.contains(' Porter'))*'Porter'"
   ]
  },
  {
   "cell_type": "code",
   "execution_count": 23,
   "metadata": {},
   "outputs": [],
   "source": [
    "u = beer['Common Beer'] = (beer['Style'].str.contains(' Common' or ' Steam'))*'Common Beer'"
   ]
  },
  {
   "cell_type": "code",
   "execution_count": 24,
   "metadata": {},
   "outputs": [],
   "source": [
    "p = beer['Strong Bitter'] = (beer['Style'].str.contains('Strong Bitter'))*'Strong Bitter'"
   ]
  },
  {
   "cell_type": "code",
   "execution_count": 25,
   "metadata": {
    "scrolled": true
   },
   "outputs": [
    {
     "data": {
      "text/plain": [
       "                        24470\n",
       "IPA                     15586\n",
       "Pale Ale                 8206\n",
       "Stout                    4350\n",
       "Porter                   2700\n",
       "Saison                   2617\n",
       "Light Lager Lager        2277\n",
       "Lager                    1833\n",
       "Blonde Ale               1753\n",
       "Imperial Stout Stout     1604\n",
       "Brown Ale                1601\n",
       "Imperial IPA IPA         1478\n",
       "Red Ale                  1349\n",
       "Common Beer              1229\n",
       "Strong Bitter            1140\n",
       "Wheat Beer               1072\n",
       "Name: kind, dtype: int64"
      ]
     },
     "execution_count": 25,
     "metadata": {},
     "output_type": "execute_result"
    }
   ],
   "source": [
    "beer['kind'] = a+c+d+e+f+j+k+l+m+o+p+q+t+u+v+''\n",
    "beer['kind'].value_counts()"
   ]
  },
  {
   "cell_type": "code",
   "execution_count": 26,
   "metadata": {},
   "outputs": [],
   "source": [
    "beer2 = pd.DataFrame(beer.iloc[:,:-16])"
   ]
  },
  {
   "cell_type": "code",
   "execution_count": 27,
   "metadata": {},
   "outputs": [
    {
     "data": {
      "text/html": [
       "<div>\n",
       "<style scoped>\n",
       "    .dataframe tbody tr th:only-of-type {\n",
       "        vertical-align: middle;\n",
       "    }\n",
       "\n",
       "    .dataframe tbody tr th {\n",
       "        vertical-align: top;\n",
       "    }\n",
       "\n",
       "    .dataframe thead th {\n",
       "        text-align: right;\n",
       "    }\n",
       "</style>\n",
       "<table border=\"1\" class=\"dataframe\">\n",
       "  <thead>\n",
       "    <tr style=\"text-align: right;\">\n",
       "      <th></th>\n",
       "      <th>Name</th>\n",
       "      <th>URL</th>\n",
       "      <th>Style</th>\n",
       "      <th>StyleID</th>\n",
       "      <th>Size(L)</th>\n",
       "      <th>OG</th>\n",
       "      <th>FG</th>\n",
       "      <th>ABV</th>\n",
       "      <th>IBU</th>\n",
       "      <th>Color</th>\n",
       "      <th>...</th>\n",
       "      <th>BoilTime</th>\n",
       "      <th>BoilGravity</th>\n",
       "      <th>Efficiency</th>\n",
       "      <th>MashThickness</th>\n",
       "      <th>SugarScale</th>\n",
       "      <th>BrewMethod</th>\n",
       "      <th>PitchRate</th>\n",
       "      <th>PrimaryTemp</th>\n",
       "      <th>PrimingMethod</th>\n",
       "      <th>PrimingAmount</th>\n",
       "    </tr>\n",
       "    <tr>\n",
       "      <th>BeerID</th>\n",
       "      <th></th>\n",
       "      <th></th>\n",
       "      <th></th>\n",
       "      <th></th>\n",
       "      <th></th>\n",
       "      <th></th>\n",
       "      <th></th>\n",
       "      <th></th>\n",
       "      <th></th>\n",
       "      <th></th>\n",
       "      <th></th>\n",
       "      <th></th>\n",
       "      <th></th>\n",
       "      <th></th>\n",
       "      <th></th>\n",
       "      <th></th>\n",
       "      <th></th>\n",
       "      <th></th>\n",
       "      <th></th>\n",
       "      <th></th>\n",
       "      <th></th>\n",
       "    </tr>\n",
       "  </thead>\n",
       "  <tbody>\n",
       "    <tr>\n",
       "      <th>1</th>\n",
       "      <td>Vanilla Cream Ale</td>\n",
       "      <td>/homebrew/recipe/view/1633/vanilla-cream-ale</td>\n",
       "      <td>Cream Ale</td>\n",
       "      <td>45</td>\n",
       "      <td>21.77</td>\n",
       "      <td>1.055</td>\n",
       "      <td>1.013</td>\n",
       "      <td>5.48</td>\n",
       "      <td>17.65</td>\n",
       "      <td>4.83</td>\n",
       "      <td>...</td>\n",
       "      <td>75</td>\n",
       "      <td>1.038</td>\n",
       "      <td>70.0</td>\n",
       "      <td>NaN</td>\n",
       "      <td>Specific Gravity</td>\n",
       "      <td>All Grain</td>\n",
       "      <td>NaN</td>\n",
       "      <td>17.78</td>\n",
       "      <td>corn sugar</td>\n",
       "      <td>4.5 oz</td>\n",
       "    </tr>\n",
       "    <tr>\n",
       "      <th>2</th>\n",
       "      <td>Southern Tier Pumking clone</td>\n",
       "      <td>/homebrew/recipe/view/16367/southern-tier-pumk...</td>\n",
       "      <td>Holiday/Winter Special Spiced Beer</td>\n",
       "      <td>85</td>\n",
       "      <td>20.82</td>\n",
       "      <td>1.083</td>\n",
       "      <td>1.021</td>\n",
       "      <td>8.16</td>\n",
       "      <td>60.65</td>\n",
       "      <td>15.64</td>\n",
       "      <td>...</td>\n",
       "      <td>60</td>\n",
       "      <td>1.070</td>\n",
       "      <td>70.0</td>\n",
       "      <td>NaN</td>\n",
       "      <td>Specific Gravity</td>\n",
       "      <td>All Grain</td>\n",
       "      <td>NaN</td>\n",
       "      <td>NaN</td>\n",
       "      <td>NaN</td>\n",
       "      <td>NaN</td>\n",
       "    </tr>\n",
       "    <tr>\n",
       "      <th>3</th>\n",
       "      <td>Zombie Dust Clone - EXTRACT</td>\n",
       "      <td>/homebrew/recipe/view/5920/zombie-dust-clone-e...</td>\n",
       "      <td>American IPA</td>\n",
       "      <td>7</td>\n",
       "      <td>18.93</td>\n",
       "      <td>1.063</td>\n",
       "      <td>1.018</td>\n",
       "      <td>5.91</td>\n",
       "      <td>59.25</td>\n",
       "      <td>8.98</td>\n",
       "      <td>...</td>\n",
       "      <td>60</td>\n",
       "      <td>NaN</td>\n",
       "      <td>70.0</td>\n",
       "      <td>NaN</td>\n",
       "      <td>Specific Gravity</td>\n",
       "      <td>extract</td>\n",
       "      <td>NaN</td>\n",
       "      <td>NaN</td>\n",
       "      <td>NaN</td>\n",
       "      <td>NaN</td>\n",
       "    </tr>\n",
       "    <tr>\n",
       "      <th>4</th>\n",
       "      <td>Zombie Dust Clone - ALL GRAIN</td>\n",
       "      <td>/homebrew/recipe/view/5916/zombie-dust-clone-a...</td>\n",
       "      <td>American IPA</td>\n",
       "      <td>7</td>\n",
       "      <td>22.71</td>\n",
       "      <td>1.061</td>\n",
       "      <td>1.017</td>\n",
       "      <td>5.80</td>\n",
       "      <td>54.48</td>\n",
       "      <td>8.50</td>\n",
       "      <td>...</td>\n",
       "      <td>60</td>\n",
       "      <td>NaN</td>\n",
       "      <td>70.0</td>\n",
       "      <td>NaN</td>\n",
       "      <td>Specific Gravity</td>\n",
       "      <td>All Grain</td>\n",
       "      <td>NaN</td>\n",
       "      <td>NaN</td>\n",
       "      <td>NaN</td>\n",
       "      <td>NaN</td>\n",
       "    </tr>\n",
       "    <tr>\n",
       "      <th>5</th>\n",
       "      <td>Bakke Brygg Belgisk Blonde 50 l</td>\n",
       "      <td>/homebrew/recipe/view/89534/bakke-brygg-belgis...</td>\n",
       "      <td>Belgian Blond Ale</td>\n",
       "      <td>20</td>\n",
       "      <td>50.00</td>\n",
       "      <td>1.060</td>\n",
       "      <td>1.010</td>\n",
       "      <td>6.48</td>\n",
       "      <td>17.84</td>\n",
       "      <td>4.57</td>\n",
       "      <td>...</td>\n",
       "      <td>90</td>\n",
       "      <td>1.050</td>\n",
       "      <td>72.0</td>\n",
       "      <td>NaN</td>\n",
       "      <td>Specific Gravity</td>\n",
       "      <td>All Grain</td>\n",
       "      <td>NaN</td>\n",
       "      <td>19.00</td>\n",
       "      <td>Sukkerlake</td>\n",
       "      <td>6-7 g sukker/l</td>\n",
       "    </tr>\n",
       "  </tbody>\n",
       "</table>\n",
       "<p>5 rows × 21 columns</p>\n",
       "</div>"
      ],
      "text/plain": [
       "                                   Name  \\\n",
       "BeerID                                    \n",
       "1                     Vanilla Cream Ale   \n",
       "2           Southern Tier Pumking clone   \n",
       "3           Zombie Dust Clone - EXTRACT   \n",
       "4         Zombie Dust Clone - ALL GRAIN   \n",
       "5       Bakke Brygg Belgisk Blonde 50 l   \n",
       "\n",
       "                                                      URL  \\\n",
       "BeerID                                                      \n",
       "1            /homebrew/recipe/view/1633/vanilla-cream-ale   \n",
       "2       /homebrew/recipe/view/16367/southern-tier-pumk...   \n",
       "3       /homebrew/recipe/view/5920/zombie-dust-clone-e...   \n",
       "4       /homebrew/recipe/view/5916/zombie-dust-clone-a...   \n",
       "5       /homebrew/recipe/view/89534/bakke-brygg-belgis...   \n",
       "\n",
       "                                     Style  StyleID  Size(L)     OG     FG  \\\n",
       "BeerID                                                                       \n",
       "1                                Cream Ale       45    21.77  1.055  1.013   \n",
       "2       Holiday/Winter Special Spiced Beer       85    20.82  1.083  1.021   \n",
       "3                             American IPA        7    18.93  1.063  1.018   \n",
       "4                             American IPA        7    22.71  1.061  1.017   \n",
       "5                        Belgian Blond Ale       20    50.00  1.060  1.010   \n",
       "\n",
       "         ABV    IBU  Color       ...        BoilTime  BoilGravity  Efficiency  \\\n",
       "BeerID                           ...                                            \n",
       "1       5.48  17.65   4.83       ...              75        1.038        70.0   \n",
       "2       8.16  60.65  15.64       ...              60        1.070        70.0   \n",
       "3       5.91  59.25   8.98       ...              60          NaN        70.0   \n",
       "4       5.80  54.48   8.50       ...              60          NaN        70.0   \n",
       "5       6.48  17.84   4.57       ...              90        1.050        72.0   \n",
       "\n",
       "        MashThickness        SugarScale BrewMethod PitchRate  PrimaryTemp  \\\n",
       "BeerID                                                                      \n",
       "1                 NaN  Specific Gravity  All Grain       NaN        17.78   \n",
       "2                 NaN  Specific Gravity  All Grain       NaN          NaN   \n",
       "3                 NaN  Specific Gravity    extract       NaN          NaN   \n",
       "4                 NaN  Specific Gravity  All Grain       NaN          NaN   \n",
       "5                 NaN  Specific Gravity  All Grain       NaN        19.00   \n",
       "\n",
       "        PrimingMethod   PrimingAmount  \n",
       "BeerID                                 \n",
       "1          corn sugar          4.5 oz  \n",
       "2                 NaN             NaN  \n",
       "3                 NaN             NaN  \n",
       "4                 NaN             NaN  \n",
       "5          Sukkerlake  6-7 g sukker/l  \n",
       "\n",
       "[5 rows x 21 columns]"
      ]
     },
     "execution_count": 27,
     "metadata": {},
     "output_type": "execute_result"
    }
   ],
   "source": [
    "beer2.head()"
   ]
  },
  {
   "cell_type": "code",
   "execution_count": 28,
   "metadata": {},
   "outputs": [],
   "source": [
    "beer2['kind'] = beer['kind']"
   ]
  },
  {
   "cell_type": "code",
   "execution_count": 29,
   "metadata": {},
   "outputs": [],
   "source": [
    "beer2['kind'] =  beer2['kind'].replace('',np.nan)"
   ]
  },
  {
   "cell_type": "code",
   "execution_count": 30,
   "metadata": {},
   "outputs": [
    {
     "data": {
      "text/plain": [
       "IPA                     15586\n",
       "Pale Ale                 8206\n",
       "Stout                    4350\n",
       "Porter                   2700\n",
       "Saison                   2617\n",
       "Light Lager Lager        2277\n",
       "Lager                    1833\n",
       "Blonde Ale               1753\n",
       "Imperial Stout Stout     1604\n",
       "Brown Ale                1601\n",
       "Imperial IPA IPA         1478\n",
       "Red Ale                  1349\n",
       "Common Beer              1229\n",
       "Strong Bitter            1140\n",
       "Wheat Beer               1072\n",
       "Name: kind, dtype: int64"
      ]
     },
     "execution_count": 30,
     "metadata": {},
     "output_type": "execute_result"
    }
   ],
   "source": [
    "beer2['kind'].value_counts()"
   ]
  },
  {
   "cell_type": "code",
   "execution_count": 31,
   "metadata": {},
   "outputs": [
    {
     "data": {
      "text/plain": [
       "Name                 1\n",
       "Style              596\n",
       "BoilGravity       2990\n",
       "MashThickness    29864\n",
       "PitchRate        39252\n",
       "PrimaryTemp      22662\n",
       "PrimingMethod    67095\n",
       "PrimingAmount    69087\n",
       "kind             25066\n",
       "dtype: int64"
      ]
     },
     "execution_count": 31,
     "metadata": {},
     "output_type": "execute_result"
    }
   ],
   "source": [
    "## Count nulls \n",
    "null_count = beer2.isnull().sum()\n",
    "null_count[null_count>0]"
   ]
  },
  {
   "cell_type": "markdown",
   "metadata": {},
   "source": [
    "PrimingMethod and PrimingAmount have too many nulls to be useful."
   ]
  },
  {
   "cell_type": "code",
   "execution_count": 32,
   "metadata": {},
   "outputs": [],
   "source": [
    "beer2 = beer2.drop(columns = ['PrimingMethod','PrimingAmount','URL','Name'])"
   ]
  },
  {
   "cell_type": "markdown",
   "metadata": {},
   "source": [
    "I'm replacing the style column with my 'kind' column."
   ]
  },
  {
   "cell_type": "code",
   "execution_count": 33,
   "metadata": {},
   "outputs": [],
   "source": [
    "beer2 = beer2.drop(columns = ['Style'])"
   ]
  },
  {
   "cell_type": "markdown",
   "metadata": {},
   "source": [
    "PitchRate also has an awful lot of nan values. I'll do a histogram to see if the nan values are consistent across all styles."
   ]
  },
  {
   "cell_type": "code",
   "execution_count": 34,
   "metadata": {},
   "outputs": [
    {
     "data": {
      "text/plain": [
       "count    34609.000000\n",
       "mean         0.750468\n",
       "std          0.394262\n",
       "min          0.000000\n",
       "25%          0.350000\n",
       "50%          0.750000\n",
       "75%          1.000000\n",
       "max          2.000000\n",
       "Name: PitchRate, dtype: float64"
      ]
     },
     "execution_count": 34,
     "metadata": {},
     "output_type": "execute_result"
    }
   ],
   "source": [
    "beer2.PitchRate.describe()"
   ]
  },
  {
   "cell_type": "code",
   "execution_count": 35,
   "metadata": {},
   "outputs": [
    {
     "data": {
      "text/plain": [
       "count    51199.000000\n",
       "mean        19.175641\n",
       "std          4.219676\n",
       "min        -17.780000\n",
       "25%         18.000000\n",
       "50%         20.000000\n",
       "75%         20.000000\n",
       "max        114.000000\n",
       "Name: PrimaryTemp, dtype: float64"
      ]
     },
     "execution_count": 35,
     "metadata": {},
     "output_type": "execute_result"
    }
   ],
   "source": [
    "beer2['PrimaryTemp'].describe()"
   ]
  },
  {
   "cell_type": "code",
   "execution_count": 36,
   "metadata": {},
   "outputs": [
    {
     "data": {
      "text/plain": [
       "count    43997.000000\n",
       "mean         2.127235\n",
       "std          1.682347\n",
       "min          0.000000\n",
       "25%          1.500000\n",
       "50%          1.500000\n",
       "75%          3.000000\n",
       "max        100.000000\n",
       "Name: MashThickness, dtype: float64"
      ]
     },
     "execution_count": 36,
     "metadata": {},
     "output_type": "execute_result"
    }
   ],
   "source": [
    "beer2['MashThickness'].describe()"
   ]
  },
  {
   "cell_type": "markdown",
   "metadata": {},
   "source": [
    "The counts for MashThickness, PitchRate and PrimaryTemp are fairly high. We can keep these features if they don't seem skewed toward one style or another."
   ]
  },
  {
   "cell_type": "code",
   "execution_count": 37,
   "metadata": {},
   "outputs": [],
   "source": [
    "beergroup = pd.DataFrame(beer2.groupby('StyleID')['MashThickness'].count().reset_index())"
   ]
  },
  {
   "cell_type": "code",
   "execution_count": 38,
   "metadata": {},
   "outputs": [],
   "source": [
    "beergroup2 = pd.DataFrame(beer2.groupby('StyleID')['PrimaryTemp'].count().reset_index())"
   ]
  },
  {
   "cell_type": "code",
   "execution_count": 39,
   "metadata": {},
   "outputs": [],
   "source": [
    "beergroup3 = pd.DataFrame(beer2.groupby('StyleID')['PitchRate'].count().reset_index())"
   ]
  },
  {
   "cell_type": "code",
   "execution_count": 40,
   "metadata": {},
   "outputs": [
    {
     "data": {
      "text/html": [
       "<div>\n",
       "<style scoped>\n",
       "    .dataframe tbody tr th:only-of-type {\n",
       "        vertical-align: middle;\n",
       "    }\n",
       "\n",
       "    .dataframe tbody tr th {\n",
       "        vertical-align: top;\n",
       "    }\n",
       "\n",
       "    .dataframe thead th {\n",
       "        text-align: right;\n",
       "    }\n",
       "</style>\n",
       "<table border=\"1\" class=\"dataframe\">\n",
       "  <thead>\n",
       "    <tr style=\"text-align: right;\">\n",
       "      <th></th>\n",
       "      <th>StyleID</th>\n",
       "      <th>MashThickness</th>\n",
       "    </tr>\n",
       "  </thead>\n",
       "  <tbody>\n",
       "    <tr>\n",
       "      <th>0</th>\n",
       "      <td>1</td>\n",
       "      <td>95</td>\n",
       "    </tr>\n",
       "    <tr>\n",
       "      <th>1</th>\n",
       "      <td>2</td>\n",
       "      <td>22</td>\n",
       "    </tr>\n",
       "    <tr>\n",
       "      <th>2</th>\n",
       "      <td>3</td>\n",
       "      <td>11</td>\n",
       "    </tr>\n",
       "    <tr>\n",
       "      <th>3</th>\n",
       "      <td>4</td>\n",
       "      <td>1139</td>\n",
       "    </tr>\n",
       "    <tr>\n",
       "      <th>4</th>\n",
       "      <td>5</td>\n",
       "      <td>214</td>\n",
       "    </tr>\n",
       "  </tbody>\n",
       "</table>\n",
       "</div>"
      ],
      "text/plain": [
       "   StyleID  MashThickness\n",
       "0        1             95\n",
       "1        2             22\n",
       "2        3             11\n",
       "3        4           1139\n",
       "4        5            214"
      ]
     },
     "execution_count": 40,
     "metadata": {},
     "output_type": "execute_result"
    }
   ],
   "source": [
    "beergroup.head()"
   ]
  },
  {
   "cell_type": "code",
   "execution_count": 41,
   "metadata": {},
   "outputs": [
    {
     "data": {
      "text/plain": [
       "<seaborn.axisgrid.FacetGrid at 0x10d5fe400>"
      ]
     },
     "execution_count": 41,
     "metadata": {},
     "output_type": "execute_result"
    },
    {
     "data": {
      "image/png": "[encoded data removed]",
      "text/plain": [
       "<matplotlib.figure.Figure at 0x10d5feba8>"
      ]
     },
     "metadata": {},
     "output_type": "display_data"
    }
   ],
   "source": [
    "sns.lmplot(x = 'StyleID', y = 'MashThickness', data = beergroup)"
   ]
  },
  {
   "cell_type": "code",
   "execution_count": 42,
   "metadata": {},
   "outputs": [
    {
     "data": {
      "text/plain": [
       "<seaborn.axisgrid.FacetGrid at 0x113b3d2e8>"
      ]
     },
     "execution_count": 42,
     "metadata": {},
     "output_type": "execute_result"
    },
    {
     "data": {
      "image/png": "[encoded data removed]",
      "text/plain": [
       "<matplotlib.figure.Figure at 0x113a2e6d8>"
      ]
     },
     "metadata": {},
     "output_type": "display_data"
    }
   ],
   "source": [
    "sns.lmplot(x = 'StyleID', y = 'PrimaryTemp', data = beergroup2)"
   ]
  },
  {
   "cell_type": "code",
   "execution_count": 43,
   "metadata": {},
   "outputs": [
    {
     "data": {
      "text/plain": [
       "<seaborn.axisgrid.FacetGrid at 0x113b16240>"
      ]
     },
     "execution_count": 43,
     "metadata": {},
     "output_type": "execute_result"
    },
    {
     "data": {
      "image/png": "[encoded data removed]",
      "text/plain": [
       "<matplotlib.figure.Figure at 0x113aeba90>"
      ]
     },
     "metadata": {},
     "output_type": "display_data"
    }
   ],
   "source": [
    "sns.lmplot(x = 'StyleID', y = 'PitchRate', data = beergroup3)"
   ]
  },
  {
   "cell_type": "markdown",
   "metadata": {},
   "source": [
    "The available values for all of these seem to pretty consistent across styles. These columns could be useful. Let's do a correlation matrix to see if we actually need them."
   ]
  },
  {
   "cell_type": "code",
   "execution_count": 44,
   "metadata": {},
   "outputs": [
    {
     "data": {
      "text/html": [
       "<div>\n",
       "<style scoped>\n",
       "    .dataframe tbody tr th:only-of-type {\n",
       "        vertical-align: middle;\n",
       "    }\n",
       "\n",
       "    .dataframe tbody tr th {\n",
       "        vertical-align: top;\n",
       "    }\n",
       "\n",
       "    .dataframe thead th {\n",
       "        text-align: right;\n",
       "    }\n",
       "</style>\n",
       "<table border=\"1\" class=\"dataframe\">\n",
       "  <thead>\n",
       "    <tr style=\"text-align: right;\">\n",
       "      <th></th>\n",
       "      <th>StyleID</th>\n",
       "      <th>Size(L)</th>\n",
       "      <th>OG</th>\n",
       "      <th>FG</th>\n",
       "      <th>ABV</th>\n",
       "      <th>IBU</th>\n",
       "      <th>Color</th>\n",
       "      <th>BoilSize</th>\n",
       "      <th>BoilTime</th>\n",
       "      <th>BoilGravity</th>\n",
       "      <th>Efficiency</th>\n",
       "      <th>MashThickness</th>\n",
       "      <th>PitchRate</th>\n",
       "      <th>PrimaryTemp</th>\n",
       "    </tr>\n",
       "  </thead>\n",
       "  <tbody>\n",
       "    <tr>\n",
       "      <th>StyleID</th>\n",
       "      <td>1.000000</td>\n",
       "      <td>-0.006522</td>\n",
       "      <td>0.002699</td>\n",
       "      <td>0.007336</td>\n",
       "      <td>0.006617</td>\n",
       "      <td>-0.141124</td>\n",
       "      <td>0.166669</td>\n",
       "      <td>-0.006301</td>\n",
       "      <td>0.077969</td>\n",
       "      <td>0.002326</td>\n",
       "      <td>0.021515</td>\n",
       "      <td>0.006167</td>\n",
       "      <td>0.079123</td>\n",
       "      <td>-0.019661</td>\n",
       "    </tr>\n",
       "    <tr>\n",
       "      <th>Size(L)</th>\n",
       "      <td>-0.006522</td>\n",
       "      <td>1.000000</td>\n",
       "      <td>0.162237</td>\n",
       "      <td>0.141614</td>\n",
       "      <td>-0.013527</td>\n",
       "      <td>-0.029917</td>\n",
       "      <td>-0.018068</td>\n",
       "      <td>0.994143</td>\n",
       "      <td>0.044848</td>\n",
       "      <td>0.176071</td>\n",
       "      <td>0.108826</td>\n",
       "      <td>0.019246</td>\n",
       "      <td>0.026623</td>\n",
       "      <td>0.004278</td>\n",
       "    </tr>\n",
       "    <tr>\n",
       "      <th>OG</th>\n",
       "      <td>0.002699</td>\n",
       "      <td>0.162237</td>\n",
       "      <td>1.000000</td>\n",
       "      <td>0.936347</td>\n",
       "      <td>0.029432</td>\n",
       "      <td>-0.001655</td>\n",
       "      <td>0.013632</td>\n",
       "      <td>0.165162</td>\n",
       "      <td>0.031825</td>\n",
       "      <td>0.968138</td>\n",
       "      <td>0.067610</td>\n",
       "      <td>0.046841</td>\n",
       "      <td>0.020556</td>\n",
       "      <td>0.000518</td>\n",
       "    </tr>\n",
       "    <tr>\n",
       "      <th>FG</th>\n",
       "      <td>0.007336</td>\n",
       "      <td>0.141614</td>\n",
       "      <td>0.936347</td>\n",
       "      <td>1.000000</td>\n",
       "      <td>0.026851</td>\n",
       "      <td>-0.000719</td>\n",
       "      <td>0.029848</td>\n",
       "      <td>0.142974</td>\n",
       "      <td>0.028930</td>\n",
       "      <td>0.908611</td>\n",
       "      <td>0.061173</td>\n",
       "      <td>0.040541</td>\n",
       "      <td>0.013446</td>\n",
       "      <td>0.004477</td>\n",
       "    </tr>\n",
       "    <tr>\n",
       "      <th>ABV</th>\n",
       "      <td>0.006617</td>\n",
       "      <td>-0.013527</td>\n",
       "      <td>0.029432</td>\n",
       "      <td>0.026851</td>\n",
       "      <td>1.000000</td>\n",
       "      <td>0.290889</td>\n",
       "      <td>0.271332</td>\n",
       "      <td>-0.009800</td>\n",
       "      <td>0.120629</td>\n",
       "      <td>0.025421</td>\n",
       "      <td>0.047853</td>\n",
       "      <td>-0.069633</td>\n",
       "      <td>0.132699</td>\n",
       "      <td>0.060065</td>\n",
       "    </tr>\n",
       "    <tr>\n",
       "      <th>IBU</th>\n",
       "      <td>-0.141124</td>\n",
       "      <td>-0.029917</td>\n",
       "      <td>-0.001655</td>\n",
       "      <td>-0.000719</td>\n",
       "      <td>0.290889</td>\n",
       "      <td>1.000000</td>\n",
       "      <td>0.060283</td>\n",
       "      <td>-0.028258</td>\n",
       "      <td>0.078694</td>\n",
       "      <td>-0.007498</td>\n",
       "      <td>-0.033172</td>\n",
       "      <td>-0.044381</td>\n",
       "      <td>0.006180</td>\n",
       "      <td>0.035510</td>\n",
       "    </tr>\n",
       "    <tr>\n",
       "      <th>Color</th>\n",
       "      <td>0.166669</td>\n",
       "      <td>-0.018068</td>\n",
       "      <td>0.013632</td>\n",
       "      <td>0.029848</td>\n",
       "      <td>0.271332</td>\n",
       "      <td>0.060283</td>\n",
       "      <td>1.000000</td>\n",
       "      <td>-0.016798</td>\n",
       "      <td>0.058089</td>\n",
       "      <td>0.013451</td>\n",
       "      <td>-0.017297</td>\n",
       "      <td>-0.038406</td>\n",
       "      <td>0.016061</td>\n",
       "      <td>0.025622</td>\n",
       "    </tr>\n",
       "    <tr>\n",
       "      <th>BoilSize</th>\n",
       "      <td>-0.006301</td>\n",
       "      <td>0.994143</td>\n",
       "      <td>0.165162</td>\n",
       "      <td>0.142974</td>\n",
       "      <td>-0.009800</td>\n",
       "      <td>-0.028258</td>\n",
       "      <td>-0.016798</td>\n",
       "      <td>1.000000</td>\n",
       "      <td>0.051219</td>\n",
       "      <td>0.175972</td>\n",
       "      <td>0.121971</td>\n",
       "      <td>0.017772</td>\n",
       "      <td>0.030936</td>\n",
       "      <td>0.003000</td>\n",
       "    </tr>\n",
       "    <tr>\n",
       "      <th>BoilTime</th>\n",
       "      <td>0.077969</td>\n",
       "      <td>0.044848</td>\n",
       "      <td>0.031825</td>\n",
       "      <td>0.028930</td>\n",
       "      <td>0.120629</td>\n",
       "      <td>0.078694</td>\n",
       "      <td>0.058089</td>\n",
       "      <td>0.051219</td>\n",
       "      <td>1.000000</td>\n",
       "      <td>0.026921</td>\n",
       "      <td>0.161295</td>\n",
       "      <td>0.006850</td>\n",
       "      <td>0.190922</td>\n",
       "      <td>-0.079809</td>\n",
       "    </tr>\n",
       "    <tr>\n",
       "      <th>BoilGravity</th>\n",
       "      <td>0.002326</td>\n",
       "      <td>0.176071</td>\n",
       "      <td>0.968138</td>\n",
       "      <td>0.908611</td>\n",
       "      <td>0.025421</td>\n",
       "      <td>-0.007498</td>\n",
       "      <td>0.013451</td>\n",
       "      <td>0.175972</td>\n",
       "      <td>0.026921</td>\n",
       "      <td>1.000000</td>\n",
       "      <td>0.059132</td>\n",
       "      <td>0.050944</td>\n",
       "      <td>0.016216</td>\n",
       "      <td>0.002268</td>\n",
       "    </tr>\n",
       "    <tr>\n",
       "      <th>Efficiency</th>\n",
       "      <td>0.021515</td>\n",
       "      <td>0.108826</td>\n",
       "      <td>0.067610</td>\n",
       "      <td>0.061173</td>\n",
       "      <td>0.047853</td>\n",
       "      <td>-0.033172</td>\n",
       "      <td>-0.017297</td>\n",
       "      <td>0.121971</td>\n",
       "      <td>0.161295</td>\n",
       "      <td>0.059132</td>\n",
       "      <td>1.000000</td>\n",
       "      <td>0.002939</td>\n",
       "      <td>0.146332</td>\n",
       "      <td>-0.071047</td>\n",
       "    </tr>\n",
       "    <tr>\n",
       "      <th>MashThickness</th>\n",
       "      <td>0.006167</td>\n",
       "      <td>0.019246</td>\n",
       "      <td>0.046841</td>\n",
       "      <td>0.040541</td>\n",
       "      <td>-0.069633</td>\n",
       "      <td>-0.044381</td>\n",
       "      <td>-0.038406</td>\n",
       "      <td>0.017772</td>\n",
       "      <td>0.006850</td>\n",
       "      <td>0.050944</td>\n",
       "      <td>0.002939</td>\n",
       "      <td>1.000000</td>\n",
       "      <td>-0.010170</td>\n",
       "      <td>0.007746</td>\n",
       "    </tr>\n",
       "    <tr>\n",
       "      <th>PitchRate</th>\n",
       "      <td>0.079123</td>\n",
       "      <td>0.026623</td>\n",
       "      <td>0.020556</td>\n",
       "      <td>0.013446</td>\n",
       "      <td>0.132699</td>\n",
       "      <td>0.006180</td>\n",
       "      <td>0.016061</td>\n",
       "      <td>0.030936</td>\n",
       "      <td>0.190922</td>\n",
       "      <td>0.016216</td>\n",
       "      <td>0.146332</td>\n",
       "      <td>-0.010170</td>\n",
       "      <td>1.000000</td>\n",
       "      <td>-0.295606</td>\n",
       "    </tr>\n",
       "    <tr>\n",
       "      <th>PrimaryTemp</th>\n",
       "      <td>-0.019661</td>\n",
       "      <td>0.004278</td>\n",
       "      <td>0.000518</td>\n",
       "      <td>0.004477</td>\n",
       "      <td>0.060065</td>\n",
       "      <td>0.035510</td>\n",
       "      <td>0.025622</td>\n",
       "      <td>0.003000</td>\n",
       "      <td>-0.079809</td>\n",
       "      <td>0.002268</td>\n",
       "      <td>-0.071047</td>\n",
       "      <td>0.007746</td>\n",
       "      <td>-0.295606</td>\n",
       "      <td>1.000000</td>\n",
       "    </tr>\n",
       "  </tbody>\n",
       "</table>\n",
       "</div>"
      ],
      "text/plain": [
       "                StyleID   Size(L)        OG        FG       ABV       IBU  \\\n",
       "StyleID        1.000000 -0.006522  0.002699  0.007336  0.006617 -0.141124   \n",
       "Size(L)       -0.006522  1.000000  0.162237  0.141614 -0.013527 -0.029917   \n",
       "OG             0.002699  0.162237  1.000000  0.936347  0.029432 -0.001655   \n",
       "FG             0.007336  0.141614  0.936347  1.000000  0.026851 -0.000719   \n",
       "ABV            0.006617 -0.013527  0.029432  0.026851  1.000000  0.290889   \n",
       "IBU           -0.141124 -0.029917 -0.001655 -0.000719  0.290889  1.000000   \n",
       "Color          0.166669 -0.018068  0.013632  0.029848  0.271332  0.060283   \n",
       "BoilSize      -0.006301  0.994143  0.165162  0.142974 -0.009800 -0.028258   \n",
       "BoilTime       0.077969  0.044848  0.031825  0.028930  0.120629  0.078694   \n",
       "BoilGravity    0.002326  0.176071  0.968138  0.908611  0.025421 -0.007498   \n",
       "Efficiency     0.021515  0.108826  0.067610  0.061173  0.047853 -0.033172   \n",
       "MashThickness  0.006167  0.019246  0.046841  0.040541 -0.069633 -0.044381   \n",
       "PitchRate      0.079123  0.026623  0.020556  0.013446  0.132699  0.006180   \n",
       "PrimaryTemp   -0.019661  0.004278  0.000518  0.004477  0.060065  0.035510   \n",
       "\n",
       "                  Color  BoilSize  BoilTime  BoilGravity  Efficiency  \\\n",
       "StyleID        0.166669 -0.006301  0.077969     0.002326    0.021515   \n",
       "Size(L)       -0.018068  0.994143  0.044848     0.176071    0.108826   \n",
       "OG             0.013632  0.165162  0.031825     0.968138    0.067610   \n",
       "FG             0.029848  0.142974  0.028930     0.908611    0.061173   \n",
       "ABV            0.271332 -0.009800  0.120629     0.025421    0.047853   \n",
       "IBU            0.060283 -0.028258  0.078694    -0.007498   -0.033172   \n",
       "Color          1.000000 -0.016798  0.058089     0.013451   -0.017297   \n",
       "BoilSize      -0.016798  1.000000  0.051219     0.175972    0.121971   \n",
       "BoilTime       0.058089  0.051219  1.000000     0.026921    0.161295   \n",
       "BoilGravity    0.013451  0.175972  0.026921     1.000000    0.059132   \n",
       "Efficiency    -0.017297  0.121971  0.161295     0.059132    1.000000   \n",
       "MashThickness -0.038406  0.017772  0.006850     0.050944    0.002939   \n",
       "PitchRate      0.016061  0.030936  0.190922     0.016216    0.146332   \n",
       "PrimaryTemp    0.025622  0.003000 -0.079809     0.002268   -0.071047   \n",
       "\n",
       "               MashThickness  PitchRate  PrimaryTemp  \n",
       "StyleID             0.006167   0.079123    -0.019661  \n",
       "Size(L)             0.019246   0.026623     0.004278  \n",
       "OG                  0.046841   0.020556     0.000518  \n",
       "FG                  0.040541   0.013446     0.004477  \n",
       "ABV                -0.069633   0.132699     0.060065  \n",
       "IBU                -0.044381   0.006180     0.035510  \n",
       "Color              -0.038406   0.016061     0.025622  \n",
       "BoilSize            0.017772   0.030936     0.003000  \n",
       "BoilTime            0.006850   0.190922    -0.079809  \n",
       "BoilGravity         0.050944   0.016216     0.002268  \n",
       "Efficiency          0.002939   0.146332    -0.071047  \n",
       "MashThickness       1.000000  -0.010170     0.007746  \n",
       "PitchRate          -0.010170   1.000000    -0.295606  \n",
       "PrimaryTemp         0.007746  -0.295606     1.000000  "
      ]
     },
     "execution_count": 44,
     "metadata": {},
     "output_type": "execute_result"
    }
   ],
   "source": [
    "beer.corr()"
   ]
  },
  {
   "cell_type": "markdown",
   "metadata": {},
   "source": [
    "These 3 columns don't seem to correlated strongly with anything else. I'll keep them."
   ]
  },
  {
   "cell_type": "code",
   "execution_count": 45,
   "metadata": {},
   "outputs": [
    {
     "data": {
      "text/plain": [
       "(0, 10)"
      ]
     },
     "execution_count": 45,
     "metadata": {},
     "output_type": "execute_result"
    },
    {
     "data": {
      "image/png": "[encoded data removed]",
      "text/plain": [
       "<matplotlib.figure.Figure at 0x113afda58>"
      ]
     },
     "metadata": {},
     "output_type": "display_data"
    }
   ],
   "source": [
    "plt.hist(beer2['MashThickness'].dropna(),bins = 100)\n",
    "plt.xlim(0,10)"
   ]
  },
  {
   "cell_type": "code",
   "execution_count": 46,
   "metadata": {},
   "outputs": [
    {
     "data": {
      "text/plain": [
       "{'boxes': [<matplotlib.lines.Line2D at 0x115a112e8>],\n",
       " 'caps': [<matplotlib.lines.Line2D at 0x115a11cf8>,\n",
       "  <matplotlib.lines.Line2D at 0x115a16160>],\n",
       " 'fliers': [<matplotlib.lines.Line2D at 0x115a169b0>],\n",
       " 'means': [],\n",
       " 'medians': [<matplotlib.lines.Line2D at 0x115a16588>],\n",
       " 'whiskers': [<matplotlib.lines.Line2D at 0x115a11438>,\n",
       "  <matplotlib.lines.Line2D at 0x115a118d0>]}"
      ]
     },
     "execution_count": 46,
     "metadata": {},
     "output_type": "execute_result"
    },
    {
     "data": {
      "image/png": "[encoded data removed]",
      "text/plain": [
       "<matplotlib.figure.Figure at 0x113375d68>"
      ]
     },
     "metadata": {},
     "output_type": "display_data"
    }
   ],
   "source": [
    "plt.boxplot(beer2['MashThickness'].dropna(), labels = ['Mash Thickness'])"
   ]
  },
  {
   "cell_type": "markdown",
   "metadata": {},
   "source": [
    "MashThickness has a lot of really high outliers and the distribution is not normal. It probably makes more sense to replace nan values with the median than the mean."
   ]
  },
  {
   "cell_type": "code",
   "execution_count": 47,
   "metadata": {},
   "outputs": [
    {
     "data": {
      "text/plain": [
       "1.5"
      ]
     },
     "execution_count": 47,
     "metadata": {},
     "output_type": "execute_result"
    }
   ],
   "source": [
    "np.median(beer2['MashThickness'].dropna())"
   ]
  },
  {
   "cell_type": "markdown",
   "metadata": {},
   "source": [
    "The median for MashThickness is 1.5."
   ]
  },
  {
   "cell_type": "code",
   "execution_count": 48,
   "metadata": {},
   "outputs": [
    {
     "data": {
      "text/plain": [
       "(array([4.4000e+01, 2.0000e+00, 3.0000e+00, 1.5000e+01, 3.5000e+01,\n",
       "        5.0000e+00, 2.3000e+01, 5.0000e+00, 2.1000e+01, 1.0300e+02,\n",
       "        2.0120e+03, 1.1590e+03, 2.2540e+03, 1.6954e+04, 2.2760e+04,\n",
       "        4.5200e+03, 8.6600e+02, 1.3300e+02, 1.0000e+02, 6.0000e+00,\n",
       "        1.6000e+01, 1.9000e+01, 1.0000e+00, 3.0000e+00, 2.0000e+00,\n",
       "        6.0000e+00, 1.0000e+00, 0.0000e+00, 0.0000e+00, 5.0000e+00,\n",
       "        3.0000e+00, 5.5000e+01, 3.3000e+01, 1.8000e+01, 4.0000e+00,\n",
       "        4.0000e+00, 0.0000e+00, 5.0000e+00, 1.0000e+00, 0.0000e+00,\n",
       "        0.0000e+00, 0.0000e+00, 1.0000e+00, 0.0000e+00, 0.0000e+00,\n",
       "        0.0000e+00, 0.0000e+00, 0.0000e+00, 0.0000e+00, 2.0000e+00]),\n",
       " array([-17.78  , -15.1444, -12.5088,  -9.8732,  -7.2376,  -4.602 ,\n",
       "         -1.9664,   0.6692,   3.3048,   5.9404,   8.576 ,  11.2116,\n",
       "         13.8472,  16.4828,  19.1184,  21.754 ,  24.3896,  27.0252,\n",
       "         29.6608,  32.2964,  34.932 ,  37.5676,  40.2032,  42.8388,\n",
       "         45.4744,  48.11  ,  50.7456,  53.3812,  56.0168,  58.6524,\n",
       "         61.288 ,  63.9236,  66.5592,  69.1948,  71.8304,  74.466 ,\n",
       "         77.1016,  79.7372,  82.3728,  85.0084,  87.644 ,  90.2796,\n",
       "         92.9152,  95.5508,  98.1864, 100.822 , 103.4576, 106.0932,\n",
       "        108.7288, 111.3644, 114.    ]),\n",
       " <a list of 50 Patch objects>)"
      ]
     },
     "execution_count": 48,
     "metadata": {},
     "output_type": "execute_result"
    },
    {
     "data": {
      "image/png": "[encoded data removed]",
      "text/plain": [
       "<matplotlib.figure.Figure at 0x114865550>"
      ]
     },
     "metadata": {},
     "output_type": "display_data"
    }
   ],
   "source": [
    "plt.hist(beer2['PrimaryTemp'].dropna(),bins = 50)\n"
   ]
  },
  {
   "cell_type": "code",
   "execution_count": 49,
   "metadata": {
    "scrolled": true
   },
   "outputs": [
    {
     "data": {
      "text/plain": [
       "{'boxes': [<matplotlib.lines.Line2D at 0x115b06198>],\n",
       " 'caps': [<matplotlib.lines.Line2D at 0x115b06ba8>,\n",
       "  <matplotlib.lines.Line2D at 0x115b06fd0>],\n",
       " 'fliers': [<matplotlib.lines.Line2D at 0x115b0e860>],\n",
       " 'means': [],\n",
       " 'medians': [<matplotlib.lines.Line2D at 0x115b0e438>],\n",
       " 'whiskers': [<matplotlib.lines.Line2D at 0x115b062e8>,\n",
       "  <matplotlib.lines.Line2D at 0x115b06780>]}"
      ]
     },
     "execution_count": 49,
     "metadata": {},
     "output_type": "execute_result"
    },
    {
     "data": {
      "image/png": "[encoded data removed]",
      "text/plain": [
       "<matplotlib.figure.Figure at 0x115ab5208>"
      ]
     },
     "metadata": {},
     "output_type": "display_data"
    }
   ],
   "source": [
    "plt.boxplot(beer2['PrimaryTemp'].dropna(), labels = ['PrimaryTemp'])"
   ]
  },
  {
   "cell_type": "code",
   "execution_count": 50,
   "metadata": {
    "scrolled": true
   },
   "outputs": [
    {
     "data": {
      "text/plain": [
       "20.0"
      ]
     },
     "execution_count": 50,
     "metadata": {},
     "output_type": "execute_result"
    }
   ],
   "source": [
    "np.median(beer2['PrimaryTemp'].dropna())"
   ]
  },
  {
   "cell_type": "markdown",
   "metadata": {},
   "source": [
    "PrimaryTemp also has a lot of very high outliers. I'll replace nan values with the median."
   ]
  },
  {
   "cell_type": "code",
   "execution_count": 51,
   "metadata": {
    "scrolled": true
   },
   "outputs": [
    {
     "data": {
      "text/plain": [
       "(array([  51., 9477., 5469., 9002.,    0., 5194., 2405., 1838.,  533.,\n",
       "         640.]),\n",
       " array([0. , 0.2, 0.4, 0.6, 0.8, 1. , 1.2, 1.4, 1.6, 1.8, 2. ]),\n",
       " <a list of 10 Patch objects>)"
      ]
     },
     "execution_count": 51,
     "metadata": {},
     "output_type": "execute_result"
    },
    {
     "data": {
      "image/png": "[encoded data removed]",
      "text/plain": [
       "<matplotlib.figure.Figure at 0x115abbda0>"
      ]
     },
     "metadata": {},
     "output_type": "display_data"
    }
   ],
   "source": [
    "plt.hist(beer2['PitchRate'].dropna())"
   ]
  },
  {
   "cell_type": "code",
   "execution_count": 52,
   "metadata": {
    "scrolled": true
   },
   "outputs": [
    {
     "data": {
      "text/plain": [
       "{'boxes': [<matplotlib.lines.Line2D at 0x10b595668>],\n",
       " 'caps': [<matplotlib.lines.Line2D at 0x10b58b048>,\n",
       "  <matplotlib.lines.Line2D at 0x10b58b8d0>],\n",
       " 'fliers': [<matplotlib.lines.Line2D at 0x113375da0>],\n",
       " 'means': [],\n",
       " 'medians': [<matplotlib.lines.Line2D at 0x10b58be48>],\n",
       " 'whiskers': [<matplotlib.lines.Line2D at 0x10b5958d0>,\n",
       "  <matplotlib.lines.Line2D at 0x10b595d30>]}"
      ]
     },
     "execution_count": 52,
     "metadata": {},
     "output_type": "execute_result"
    },
    {
     "data": {
      "image/png": "[encoded data removed]",
      "text/plain": [
       "<matplotlib.figure.Figure at 0x115b7d908>"
      ]
     },
     "metadata": {},
     "output_type": "display_data"
    }
   ],
   "source": [
    "plt.boxplot(beer2['PitchRate'].dropna(), labels = ['PitchRate'])"
   ]
  },
  {
   "cell_type": "code",
   "execution_count": 53,
   "metadata": {},
   "outputs": [
    {
     "data": {
      "text/plain": [
       "0.75"
      ]
     },
     "execution_count": 53,
     "metadata": {},
     "output_type": "execute_result"
    }
   ],
   "source": [
    "np.median(beer2['PitchRate'].dropna())\n"
   ]
  },
  {
   "cell_type": "code",
   "execution_count": 54,
   "metadata": {},
   "outputs": [
    {
     "data": {
      "text/plain": [
       "0.7504680863359242"
      ]
     },
     "execution_count": 54,
     "metadata": {},
     "output_type": "execute_result"
    }
   ],
   "source": [
    "np.mean(beer2['PitchRate'].dropna())"
   ]
  },
  {
   "cell_type": "markdown",
   "metadata": {},
   "source": [
    "I could use median or mean for PitchRate to replace the nan values."
   ]
  },
  {
   "cell_type": "code",
   "execution_count": 55,
   "metadata": {},
   "outputs": [],
   "source": [
    "beer2['PrimaryTemp2'] = beer2['PrimaryTemp'].fillna(20)"
   ]
  },
  {
   "cell_type": "code",
   "execution_count": 56,
   "metadata": {},
   "outputs": [],
   "source": [
    "beer2['MashThickness2'] = beer2['MashThickness'].fillna(1.5)"
   ]
  },
  {
   "cell_type": "code",
   "execution_count": 57,
   "metadata": {},
   "outputs": [],
   "source": [
    "beer2['PitchRate2'] = beer2['PitchRate'].fillna(0.75)"
   ]
  },
  {
   "cell_type": "code",
   "execution_count": 58,
   "metadata": {},
   "outputs": [],
   "source": [
    "beer2 = beer2.drop(columns = ['MashThickness','PrimaryTemp','PitchRate'])"
   ]
  },
  {
   "cell_type": "markdown",
   "metadata": {},
   "source": [
    "Finally I can drop all the empty fields from the 'kind' column I created and see how many rows I have left."
   ]
  },
  {
   "cell_type": "code",
   "execution_count": 59,
   "metadata": {},
   "outputs": [
    {
     "data": {
      "text/plain": [
       "(73861, 17)"
      ]
     },
     "execution_count": 59,
     "metadata": {},
     "output_type": "execute_result"
    }
   ],
   "source": [
    "beer2.shape"
   ]
  },
  {
   "cell_type": "code",
   "execution_count": 60,
   "metadata": {},
   "outputs": [],
   "source": [
    "beer3 = pd.DataFrame(beer2.dropna(how = 'any',axis = 0))"
   ]
  },
  {
   "cell_type": "code",
   "execution_count": 61,
   "metadata": {},
   "outputs": [
    {
     "data": {
      "text/plain": [
       "(47154, 17)"
      ]
     },
     "execution_count": 61,
     "metadata": {},
     "output_type": "execute_result"
    }
   ],
   "source": [
    "beer3.shape"
   ]
  },
  {
   "cell_type": "code",
   "execution_count": 62,
   "metadata": {},
   "outputs": [
    {
     "data": {
      "text/html": [
       "<div>\n",
       "<style scoped>\n",
       "    .dataframe tbody tr th:only-of-type {\n",
       "        vertical-align: middle;\n",
       "    }\n",
       "\n",
       "    .dataframe tbody tr th {\n",
       "        vertical-align: top;\n",
       "    }\n",
       "\n",
       "    .dataframe thead th {\n",
       "        text-align: right;\n",
       "    }\n",
       "</style>\n",
       "<table border=\"1\" class=\"dataframe\">\n",
       "  <thead>\n",
       "    <tr style=\"text-align: right;\">\n",
       "      <th></th>\n",
       "      <th>StyleID</th>\n",
       "      <th>Size(L)</th>\n",
       "      <th>OG</th>\n",
       "      <th>FG</th>\n",
       "      <th>ABV</th>\n",
       "      <th>IBU</th>\n",
       "      <th>Color</th>\n",
       "      <th>BoilSize</th>\n",
       "      <th>BoilTime</th>\n",
       "      <th>BoilGravity</th>\n",
       "      <th>Efficiency</th>\n",
       "      <th>SugarScale</th>\n",
       "      <th>BrewMethod</th>\n",
       "      <th>kind</th>\n",
       "      <th>PrimaryTemp2</th>\n",
       "      <th>MashThickness2</th>\n",
       "      <th>PitchRate2</th>\n",
       "    </tr>\n",
       "    <tr>\n",
       "      <th>BeerID</th>\n",
       "      <th></th>\n",
       "      <th></th>\n",
       "      <th></th>\n",
       "      <th></th>\n",
       "      <th></th>\n",
       "      <th></th>\n",
       "      <th></th>\n",
       "      <th></th>\n",
       "      <th></th>\n",
       "      <th></th>\n",
       "      <th></th>\n",
       "      <th></th>\n",
       "      <th></th>\n",
       "      <th></th>\n",
       "      <th></th>\n",
       "      <th></th>\n",
       "      <th></th>\n",
       "    </tr>\n",
       "  </thead>\n",
       "  <tbody>\n",
       "    <tr>\n",
       "      <th>73855</th>\n",
       "      <td>10</td>\n",
       "      <td>18.93</td>\n",
       "      <td>1.064</td>\n",
       "      <td>1.016</td>\n",
       "      <td>6.26</td>\n",
       "      <td>0.00</td>\n",
       "      <td>9.60</td>\n",
       "      <td>28.39</td>\n",
       "      <td>60</td>\n",
       "      <td>1.042</td>\n",
       "      <td>75.0</td>\n",
       "      <td>Specific Gravity</td>\n",
       "      <td>BIAB</td>\n",
       "      <td>Pale Ale</td>\n",
       "      <td>20.0</td>\n",
       "      <td>1.5</td>\n",
       "      <td>0.75</td>\n",
       "    </tr>\n",
       "    <tr>\n",
       "      <th>73856</th>\n",
       "      <td>7</td>\n",
       "      <td>22.71</td>\n",
       "      <td>1.065</td>\n",
       "      <td>1.014</td>\n",
       "      <td>6.71</td>\n",
       "      <td>49.35</td>\n",
       "      <td>4.73</td>\n",
       "      <td>15.14</td>\n",
       "      <td>30</td>\n",
       "      <td>1.098</td>\n",
       "      <td>55.0</td>\n",
       "      <td>Specific Gravity</td>\n",
       "      <td>Partial Mash</td>\n",
       "      <td>IPA</td>\n",
       "      <td>20.0</td>\n",
       "      <td>1.5</td>\n",
       "      <td>0.50</td>\n",
       "    </tr>\n",
       "    <tr>\n",
       "      <th>73858</th>\n",
       "      <td>151</td>\n",
       "      <td>10.00</td>\n",
       "      <td>1.059</td>\n",
       "      <td>1.010</td>\n",
       "      <td>6.37</td>\n",
       "      <td>59.21</td>\n",
       "      <td>7.90</td>\n",
       "      <td>17.00</td>\n",
       "      <td>60</td>\n",
       "      <td>1.034</td>\n",
       "      <td>60.0</td>\n",
       "      <td>Specific Gravity</td>\n",
       "      <td>BIAB</td>\n",
       "      <td>IPA</td>\n",
       "      <td>22.0</td>\n",
       "      <td>1.5</td>\n",
       "      <td>0.50</td>\n",
       "    </tr>\n",
       "    <tr>\n",
       "      <th>73860</th>\n",
       "      <td>92</td>\n",
       "      <td>24.00</td>\n",
       "      <td>1.051</td>\n",
       "      <td>1.014</td>\n",
       "      <td>4.82</td>\n",
       "      <td>25.65</td>\n",
       "      <td>14.12</td>\n",
       "      <td>28.00</td>\n",
       "      <td>60</td>\n",
       "      <td>1.043</td>\n",
       "      <td>72.0</td>\n",
       "      <td>Specific Gravity</td>\n",
       "      <td>All Grain</td>\n",
       "      <td>Red Ale</td>\n",
       "      <td>18.0</td>\n",
       "      <td>1.5</td>\n",
       "      <td>0.75</td>\n",
       "    </tr>\n",
       "    <tr>\n",
       "      <th>73861</th>\n",
       "      <td>7</td>\n",
       "      <td>20.00</td>\n",
       "      <td>1.060</td>\n",
       "      <td>1.010</td>\n",
       "      <td>6.55</td>\n",
       "      <td>57.09</td>\n",
       "      <td>8.65</td>\n",
       "      <td>12.00</td>\n",
       "      <td>60</td>\n",
       "      <td>1.056</td>\n",
       "      <td>70.0</td>\n",
       "      <td>Specific Gravity</td>\n",
       "      <td>Partial Mash</td>\n",
       "      <td>IPA</td>\n",
       "      <td>18.0</td>\n",
       "      <td>1.5</td>\n",
       "      <td>0.75</td>\n",
       "    </tr>\n",
       "  </tbody>\n",
       "</table>\n",
       "</div>"
      ],
      "text/plain": [
       "        StyleID  Size(L)     OG     FG   ABV    IBU  Color  BoilSize  \\\n",
       "BeerID                                                                 \n",
       "73855        10    18.93  1.064  1.016  6.26   0.00   9.60     28.39   \n",
       "73856         7    22.71  1.065  1.014  6.71  49.35   4.73     15.14   \n",
       "73858       151    10.00  1.059  1.010  6.37  59.21   7.90     17.00   \n",
       "73860        92    24.00  1.051  1.014  4.82  25.65  14.12     28.00   \n",
       "73861         7    20.00  1.060  1.010  6.55  57.09   8.65     12.00   \n",
       "\n",
       "        BoilTime  BoilGravity  Efficiency        SugarScale    BrewMethod  \\\n",
       "BeerID                                                                      \n",
       "73855         60        1.042        75.0  Specific Gravity          BIAB   \n",
       "73856         30        1.098        55.0  Specific Gravity  Partial Mash   \n",
       "73858         60        1.034        60.0  Specific Gravity          BIAB   \n",
       "73860         60        1.043        72.0  Specific Gravity     All Grain   \n",
       "73861         60        1.056        70.0  Specific Gravity  Partial Mash   \n",
       "\n",
       "            kind  PrimaryTemp2  MashThickness2  PitchRate2  \n",
       "BeerID                                                      \n",
       "73855   Pale Ale          20.0             1.5        0.75  \n",
       "73856        IPA          20.0             1.5        0.50  \n",
       "73858        IPA          22.0             1.5        0.50  \n",
       "73860    Red Ale          18.0             1.5        0.75  \n",
       "73861        IPA          18.0             1.5        0.75  "
      ]
     },
     "execution_count": 62,
     "metadata": {},
     "output_type": "execute_result"
    }
   ],
   "source": [
    "beer3.tail()"
   ]
  },
  {
   "cell_type": "code",
   "execution_count": 63,
   "metadata": {},
   "outputs": [
    {
     "data": {
      "text/html": [
       "<div>\n",
       "<style scoped>\n",
       "    .dataframe tbody tr th:only-of-type {\n",
       "        vertical-align: middle;\n",
       "    }\n",
       "\n",
       "    .dataframe tbody tr th {\n",
       "        vertical-align: top;\n",
       "    }\n",
       "\n",
       "    .dataframe thead th {\n",
       "        text-align: right;\n",
       "    }\n",
       "</style>\n",
       "<table border=\"1\" class=\"dataframe\">\n",
       "  <thead>\n",
       "    <tr style=\"text-align: right;\">\n",
       "      <th></th>\n",
       "      <th>StyleID</th>\n",
       "      <th>Size(L)</th>\n",
       "      <th>OG</th>\n",
       "      <th>FG</th>\n",
       "      <th>ABV</th>\n",
       "      <th>IBU</th>\n",
       "      <th>Color</th>\n",
       "      <th>BoilSize</th>\n",
       "      <th>BoilTime</th>\n",
       "      <th>BoilGravity</th>\n",
       "      <th>Efficiency</th>\n",
       "      <th>PrimaryTemp2</th>\n",
       "      <th>MashThickness2</th>\n",
       "      <th>PitchRate2</th>\n",
       "    </tr>\n",
       "  </thead>\n",
       "  <tbody>\n",
       "    <tr>\n",
       "      <th>StyleID</th>\n",
       "      <td>1.000000</td>\n",
       "      <td>-0.002907</td>\n",
       "      <td>0.009492</td>\n",
       "      <td>0.015964</td>\n",
       "      <td>0.083530</td>\n",
       "      <td>-0.087259</td>\n",
       "      <td>0.269149</td>\n",
       "      <td>-0.001905</td>\n",
       "      <td>0.111623</td>\n",
       "      <td>0.009506</td>\n",
       "      <td>0.028521</td>\n",
       "      <td>0.025300</td>\n",
       "      <td>0.003063</td>\n",
       "      <td>0.056114</td>\n",
       "    </tr>\n",
       "    <tr>\n",
       "      <th>Size(L)</th>\n",
       "      <td>-0.002907</td>\n",
       "      <td>1.000000</td>\n",
       "      <td>0.165110</td>\n",
       "      <td>0.145305</td>\n",
       "      <td>-0.012818</td>\n",
       "      <td>-0.040347</td>\n",
       "      <td>-0.018812</td>\n",
       "      <td>0.995146</td>\n",
       "      <td>0.046836</td>\n",
       "      <td>0.179065</td>\n",
       "      <td>0.113061</td>\n",
       "      <td>0.004012</td>\n",
       "      <td>0.041294</td>\n",
       "      <td>0.018627</td>\n",
       "    </tr>\n",
       "    <tr>\n",
       "      <th>OG</th>\n",
       "      <td>0.009492</td>\n",
       "      <td>0.165110</td>\n",
       "      <td>1.000000</td>\n",
       "      <td>0.947862</td>\n",
       "      <td>0.030220</td>\n",
       "      <td>-0.004228</td>\n",
       "      <td>0.020773</td>\n",
       "      <td>0.166234</td>\n",
       "      <td>0.033603</td>\n",
       "      <td>0.969408</td>\n",
       "      <td>0.070657</td>\n",
       "      <td>-0.001382</td>\n",
       "      <td>0.062589</td>\n",
       "      <td>0.013948</td>\n",
       "    </tr>\n",
       "    <tr>\n",
       "      <th>FG</th>\n",
       "      <td>0.015964</td>\n",
       "      <td>0.145305</td>\n",
       "      <td>0.947862</td>\n",
       "      <td>1.000000</td>\n",
       "      <td>0.032051</td>\n",
       "      <td>-0.004015</td>\n",
       "      <td>0.039907</td>\n",
       "      <td>0.146210</td>\n",
       "      <td>0.032790</td>\n",
       "      <td>0.919752</td>\n",
       "      <td>0.064449</td>\n",
       "      <td>0.002842</td>\n",
       "      <td>0.053432</td>\n",
       "      <td>0.008817</td>\n",
       "    </tr>\n",
       "    <tr>\n",
       "      <th>ABV</th>\n",
       "      <td>0.083530</td>\n",
       "      <td>-0.012818</td>\n",
       "      <td>0.030220</td>\n",
       "      <td>0.032051</td>\n",
       "      <td>1.000000</td>\n",
       "      <td>0.366478</td>\n",
       "      <td>0.275885</td>\n",
       "      <td>-0.008751</td>\n",
       "      <td>0.144261</td>\n",
       "      <td>0.025087</td>\n",
       "      <td>0.070013</td>\n",
       "      <td>0.030730</td>\n",
       "      <td>-0.048806</td>\n",
       "      <td>0.095455</td>\n",
       "    </tr>\n",
       "    <tr>\n",
       "      <th>IBU</th>\n",
       "      <td>-0.087259</td>\n",
       "      <td>-0.040347</td>\n",
       "      <td>-0.004228</td>\n",
       "      <td>-0.004015</td>\n",
       "      <td>0.366478</td>\n",
       "      <td>1.000000</td>\n",
       "      <td>0.009677</td>\n",
       "      <td>-0.039046</td>\n",
       "      <td>0.084911</td>\n",
       "      <td>-0.008578</td>\n",
       "      <td>-0.032696</td>\n",
       "      <td>0.017143</td>\n",
       "      <td>-0.046200</td>\n",
       "      <td>0.018785</td>\n",
       "    </tr>\n",
       "    <tr>\n",
       "      <th>Color</th>\n",
       "      <td>0.269149</td>\n",
       "      <td>-0.018812</td>\n",
       "      <td>0.020773</td>\n",
       "      <td>0.039907</td>\n",
       "      <td>0.275885</td>\n",
       "      <td>0.009677</td>\n",
       "      <td>1.000000</td>\n",
       "      <td>-0.017867</td>\n",
       "      <td>0.066109</td>\n",
       "      <td>0.018160</td>\n",
       "      <td>-0.019351</td>\n",
       "      <td>0.005746</td>\n",
       "      <td>-0.028582</td>\n",
       "      <td>0.018994</td>\n",
       "    </tr>\n",
       "    <tr>\n",
       "      <th>BoilSize</th>\n",
       "      <td>-0.001905</td>\n",
       "      <td>0.995146</td>\n",
       "      <td>0.166234</td>\n",
       "      <td>0.146210</td>\n",
       "      <td>-0.008751</td>\n",
       "      <td>-0.039046</td>\n",
       "      <td>-0.017867</td>\n",
       "      <td>1.000000</td>\n",
       "      <td>0.052399</td>\n",
       "      <td>0.178052</td>\n",
       "      <td>0.126376</td>\n",
       "      <td>0.003148</td>\n",
       "      <td>0.042468</td>\n",
       "      <td>0.021154</td>\n",
       "    </tr>\n",
       "    <tr>\n",
       "      <th>BoilTime</th>\n",
       "      <td>0.111623</td>\n",
       "      <td>0.046836</td>\n",
       "      <td>0.033603</td>\n",
       "      <td>0.032790</td>\n",
       "      <td>0.144261</td>\n",
       "      <td>0.084911</td>\n",
       "      <td>0.066109</td>\n",
       "      <td>0.052399</td>\n",
       "      <td>1.000000</td>\n",
       "      <td>0.030497</td>\n",
       "      <td>0.159071</td>\n",
       "      <td>-0.029376</td>\n",
       "      <td>0.039225</td>\n",
       "      <td>0.106356</td>\n",
       "    </tr>\n",
       "    <tr>\n",
       "      <th>BoilGravity</th>\n",
       "      <td>0.009506</td>\n",
       "      <td>0.179065</td>\n",
       "      <td>0.969408</td>\n",
       "      <td>0.919752</td>\n",
       "      <td>0.025087</td>\n",
       "      <td>-0.008578</td>\n",
       "      <td>0.018160</td>\n",
       "      <td>0.178052</td>\n",
       "      <td>0.030497</td>\n",
       "      <td>1.000000</td>\n",
       "      <td>0.060746</td>\n",
       "      <td>0.000326</td>\n",
       "      <td>0.063834</td>\n",
       "      <td>0.013277</td>\n",
       "    </tr>\n",
       "    <tr>\n",
       "      <th>Efficiency</th>\n",
       "      <td>0.028521</td>\n",
       "      <td>0.113061</td>\n",
       "      <td>0.070657</td>\n",
       "      <td>0.064449</td>\n",
       "      <td>0.070013</td>\n",
       "      <td>-0.032696</td>\n",
       "      <td>-0.019351</td>\n",
       "      <td>0.126376</td>\n",
       "      <td>0.159071</td>\n",
       "      <td>0.060746</td>\n",
       "      <td>1.000000</td>\n",
       "      <td>-0.048810</td>\n",
       "      <td>0.099936</td>\n",
       "      <td>0.088364</td>\n",
       "    </tr>\n",
       "    <tr>\n",
       "      <th>PrimaryTemp2</th>\n",
       "      <td>0.025300</td>\n",
       "      <td>0.004012</td>\n",
       "      <td>-0.001382</td>\n",
       "      <td>0.002842</td>\n",
       "      <td>0.030730</td>\n",
       "      <td>0.017143</td>\n",
       "      <td>0.005746</td>\n",
       "      <td>0.003148</td>\n",
       "      <td>-0.029376</td>\n",
       "      <td>0.000326</td>\n",
       "      <td>-0.048810</td>\n",
       "      <td>1.000000</td>\n",
       "      <td>-0.005181</td>\n",
       "      <td>-0.152703</td>\n",
       "    </tr>\n",
       "    <tr>\n",
       "      <th>MashThickness2</th>\n",
       "      <td>0.003063</td>\n",
       "      <td>0.041294</td>\n",
       "      <td>0.062589</td>\n",
       "      <td>0.053432</td>\n",
       "      <td>-0.048806</td>\n",
       "      <td>-0.046200</td>\n",
       "      <td>-0.028582</td>\n",
       "      <td>0.042468</td>\n",
       "      <td>0.039225</td>\n",
       "      <td>0.063834</td>\n",
       "      <td>0.099936</td>\n",
       "      <td>-0.005181</td>\n",
       "      <td>1.000000</td>\n",
       "      <td>0.011491</td>\n",
       "    </tr>\n",
       "    <tr>\n",
       "      <th>PitchRate2</th>\n",
       "      <td>0.056114</td>\n",
       "      <td>0.018627</td>\n",
       "      <td>0.013948</td>\n",
       "      <td>0.008817</td>\n",
       "      <td>0.095455</td>\n",
       "      <td>0.018785</td>\n",
       "      <td>0.018994</td>\n",
       "      <td>0.021154</td>\n",
       "      <td>0.106356</td>\n",
       "      <td>0.013277</td>\n",
       "      <td>0.088364</td>\n",
       "      <td>-0.152703</td>\n",
       "      <td>0.011491</td>\n",
       "      <td>1.000000</td>\n",
       "    </tr>\n",
       "  </tbody>\n",
       "</table>\n",
       "</div>"
      ],
      "text/plain": [
       "                 StyleID   Size(L)        OG        FG       ABV       IBU  \\\n",
       "StyleID         1.000000 -0.002907  0.009492  0.015964  0.083530 -0.087259   \n",
       "Size(L)        -0.002907  1.000000  0.165110  0.145305 -0.012818 -0.040347   \n",
       "OG              0.009492  0.165110  1.000000  0.947862  0.030220 -0.004228   \n",
       "FG              0.015964  0.145305  0.947862  1.000000  0.032051 -0.004015   \n",
       "ABV             0.083530 -0.012818  0.030220  0.032051  1.000000  0.366478   \n",
       "IBU            -0.087259 -0.040347 -0.004228 -0.004015  0.366478  1.000000   \n",
       "Color           0.269149 -0.018812  0.020773  0.039907  0.275885  0.009677   \n",
       "BoilSize       -0.001905  0.995146  0.166234  0.146210 -0.008751 -0.039046   \n",
       "BoilTime        0.111623  0.046836  0.033603  0.032790  0.144261  0.084911   \n",
       "BoilGravity     0.009506  0.179065  0.969408  0.919752  0.025087 -0.008578   \n",
       "Efficiency      0.028521  0.113061  0.070657  0.064449  0.070013 -0.032696   \n",
       "PrimaryTemp2    0.025300  0.004012 -0.001382  0.002842  0.030730  0.017143   \n",
       "MashThickness2  0.003063  0.041294  0.062589  0.053432 -0.048806 -0.046200   \n",
       "PitchRate2      0.056114  0.018627  0.013948  0.008817  0.095455  0.018785   \n",
       "\n",
       "                   Color  BoilSize  BoilTime  BoilGravity  Efficiency  \\\n",
       "StyleID         0.269149 -0.001905  0.111623     0.009506    0.028521   \n",
       "Size(L)        -0.018812  0.995146  0.046836     0.179065    0.113061   \n",
       "OG              0.020773  0.166234  0.033603     0.969408    0.070657   \n",
       "FG              0.039907  0.146210  0.032790     0.919752    0.064449   \n",
       "ABV             0.275885 -0.008751  0.144261     0.025087    0.070013   \n",
       "IBU             0.009677 -0.039046  0.084911    -0.008578   -0.032696   \n",
       "Color           1.000000 -0.017867  0.066109     0.018160   -0.019351   \n",
       "BoilSize       -0.017867  1.000000  0.052399     0.178052    0.126376   \n",
       "BoilTime        0.066109  0.052399  1.000000     0.030497    0.159071   \n",
       "BoilGravity     0.018160  0.178052  0.030497     1.000000    0.060746   \n",
       "Efficiency     -0.019351  0.126376  0.159071     0.060746    1.000000   \n",
       "PrimaryTemp2    0.005746  0.003148 -0.029376     0.000326   -0.048810   \n",
       "MashThickness2 -0.028582  0.042468  0.039225     0.063834    0.099936   \n",
       "PitchRate2      0.018994  0.021154  0.106356     0.013277    0.088364   \n",
       "\n",
       "                PrimaryTemp2  MashThickness2  PitchRate2  \n",
       "StyleID             0.025300        0.003063    0.056114  \n",
       "Size(L)             0.004012        0.041294    0.018627  \n",
       "OG                 -0.001382        0.062589    0.013948  \n",
       "FG                  0.002842        0.053432    0.008817  \n",
       "ABV                 0.030730       -0.048806    0.095455  \n",
       "IBU                 0.017143       -0.046200    0.018785  \n",
       "Color               0.005746       -0.028582    0.018994  \n",
       "BoilSize            0.003148        0.042468    0.021154  \n",
       "BoilTime           -0.029376        0.039225    0.106356  \n",
       "BoilGravity         0.000326        0.063834    0.013277  \n",
       "Efficiency         -0.048810        0.099936    0.088364  \n",
       "PrimaryTemp2        1.000000       -0.005181   -0.152703  \n",
       "MashThickness2     -0.005181        1.000000    0.011491  \n",
       "PitchRate2         -0.152703        0.011491    1.000000  "
      ]
     },
     "execution_count": 63,
     "metadata": {},
     "output_type": "execute_result"
    }
   ],
   "source": [
    "beer3.corr()"
   ]
  },
  {
   "cell_type": "code",
   "execution_count": 64,
   "metadata": {},
   "outputs": [],
   "source": [
    "# BoilGravity , OG are very highly correlated with FG.\n",
    "# BoilSize is too highly correlated with Size(L)\n",
    "beer3 = pd.DataFrame(beer3.drop(columns = ['OG','BoilGravity','BoilSize']))"
   ]
  },
  {
   "cell_type": "code",
   "execution_count": 65,
   "metadata": {},
   "outputs": [
    {
     "data": {
      "text/plain": [
       "(47154, 14)"
      ]
     },
     "execution_count": 65,
     "metadata": {},
     "output_type": "execute_result"
    }
   ],
   "source": [
    "beer3.shape"
   ]
  },
  {
   "cell_type": "code",
   "execution_count": 66,
   "metadata": {},
   "outputs": [],
   "source": [
    "beer3dum = pd.get_dummies(beer3.drop(columns = ['kind','StyleID']))"
   ]
  },
  {
   "cell_type": "code",
   "execution_count": 67,
   "metadata": {},
   "outputs": [
    {
     "data": {
      "text/html": [
       "<div>\n",
       "<style scoped>\n",
       "    .dataframe tbody tr th:only-of-type {\n",
       "        vertical-align: middle;\n",
       "    }\n",
       "\n",
       "    .dataframe tbody tr th {\n",
       "        vertical-align: top;\n",
       "    }\n",
       "\n",
       "    .dataframe thead th {\n",
       "        text-align: right;\n",
       "    }\n",
       "</style>\n",
       "<table border=\"1\" class=\"dataframe\">\n",
       "  <thead>\n",
       "    <tr style=\"text-align: right;\">\n",
       "      <th></th>\n",
       "      <th>Size(L)</th>\n",
       "      <th>FG</th>\n",
       "      <th>ABV</th>\n",
       "      <th>IBU</th>\n",
       "      <th>Color</th>\n",
       "      <th>BoilTime</th>\n",
       "      <th>Efficiency</th>\n",
       "      <th>PrimaryTemp2</th>\n",
       "      <th>MashThickness2</th>\n",
       "      <th>PitchRate2</th>\n",
       "      <th>SugarScale_Plato</th>\n",
       "      <th>SugarScale_Specific Gravity</th>\n",
       "      <th>BrewMethod_All Grain</th>\n",
       "      <th>BrewMethod_BIAB</th>\n",
       "      <th>BrewMethod_Partial Mash</th>\n",
       "      <th>BrewMethod_extract</th>\n",
       "    </tr>\n",
       "    <tr>\n",
       "      <th>BeerID</th>\n",
       "      <th></th>\n",
       "      <th></th>\n",
       "      <th></th>\n",
       "      <th></th>\n",
       "      <th></th>\n",
       "      <th></th>\n",
       "      <th></th>\n",
       "      <th></th>\n",
       "      <th></th>\n",
       "      <th></th>\n",
       "      <th></th>\n",
       "      <th></th>\n",
       "      <th></th>\n",
       "      <th></th>\n",
       "      <th></th>\n",
       "      <th></th>\n",
       "    </tr>\n",
       "  </thead>\n",
       "  <tbody>\n",
       "    <tr>\n",
       "      <th>6</th>\n",
       "      <td>24.61</td>\n",
       "      <td>1.013</td>\n",
       "      <td>5.58</td>\n",
       "      <td>40.12</td>\n",
       "      <td>8.00</td>\n",
       "      <td>70</td>\n",
       "      <td>79.0</td>\n",
       "      <td>20.00</td>\n",
       "      <td>1.5</td>\n",
       "      <td>1.00</td>\n",
       "      <td>0</td>\n",
       "      <td>1</td>\n",
       "      <td>1</td>\n",
       "      <td>0</td>\n",
       "      <td>0</td>\n",
       "      <td>0</td>\n",
       "    </tr>\n",
       "    <tr>\n",
       "      <th>9</th>\n",
       "      <td>22.71</td>\n",
       "      <td>1.016</td>\n",
       "      <td>5.77</td>\n",
       "      <td>31.63</td>\n",
       "      <td>34.76</td>\n",
       "      <td>75</td>\n",
       "      <td>73.0</td>\n",
       "      <td>20.00</td>\n",
       "      <td>1.5</td>\n",
       "      <td>0.75</td>\n",
       "      <td>0</td>\n",
       "      <td>1</td>\n",
       "      <td>1</td>\n",
       "      <td>0</td>\n",
       "      <td>0</td>\n",
       "      <td>0</td>\n",
       "    </tr>\n",
       "    <tr>\n",
       "      <th>10</th>\n",
       "      <td>20.82</td>\n",
       "      <td>1.017</td>\n",
       "      <td>8.22</td>\n",
       "      <td>93.02</td>\n",
       "      <td>8.29</td>\n",
       "      <td>60</td>\n",
       "      <td>70.0</td>\n",
       "      <td>21.11</td>\n",
       "      <td>1.5</td>\n",
       "      <td>0.75</td>\n",
       "      <td>0</td>\n",
       "      <td>1</td>\n",
       "      <td>1</td>\n",
       "      <td>0</td>\n",
       "      <td>0</td>\n",
       "      <td>0</td>\n",
       "    </tr>\n",
       "    <tr>\n",
       "      <th>11</th>\n",
       "      <td>25.00</td>\n",
       "      <td>1.014</td>\n",
       "      <td>6.63</td>\n",
       "      <td>64.26</td>\n",
       "      <td>7.78</td>\n",
       "      <td>90</td>\n",
       "      <td>74.0</td>\n",
       "      <td>18.00</td>\n",
       "      <td>1.5</td>\n",
       "      <td>1.00</td>\n",
       "      <td>0</td>\n",
       "      <td>1</td>\n",
       "      <td>1</td>\n",
       "      <td>0</td>\n",
       "      <td>0</td>\n",
       "      <td>0</td>\n",
       "    </tr>\n",
       "    <tr>\n",
       "      <th>14</th>\n",
       "      <td>18.93</td>\n",
       "      <td>1.017</td>\n",
       "      <td>6.51</td>\n",
       "      <td>60.96</td>\n",
       "      <td>10.54</td>\n",
       "      <td>60</td>\n",
       "      <td>30.0</td>\n",
       "      <td>18.33</td>\n",
       "      <td>1.5</td>\n",
       "      <td>0.35</td>\n",
       "      <td>0</td>\n",
       "      <td>1</td>\n",
       "      <td>0</td>\n",
       "      <td>0</td>\n",
       "      <td>0</td>\n",
       "      <td>1</td>\n",
       "    </tr>\n",
       "  </tbody>\n",
       "</table>\n",
       "</div>"
      ],
      "text/plain": [
       "        Size(L)     FG   ABV    IBU  Color  BoilTime  Efficiency  \\\n",
       "BeerID                                                             \n",
       "6         24.61  1.013  5.58  40.12   8.00        70        79.0   \n",
       "9         22.71  1.016  5.77  31.63  34.76        75        73.0   \n",
       "10        20.82  1.017  8.22  93.02   8.29        60        70.0   \n",
       "11        25.00  1.014  6.63  64.26   7.78        90        74.0   \n",
       "14        18.93  1.017  6.51  60.96  10.54        60        30.0   \n",
       "\n",
       "        PrimaryTemp2  MashThickness2  PitchRate2  SugarScale_Plato  \\\n",
       "BeerID                                                               \n",
       "6              20.00             1.5        1.00                 0   \n",
       "9              20.00             1.5        0.75                 0   \n",
       "10             21.11             1.5        0.75                 0   \n",
       "11             18.00             1.5        1.00                 0   \n",
       "14             18.33             1.5        0.35                 0   \n",
       "\n",
       "        SugarScale_Specific Gravity  BrewMethod_All Grain  BrewMethod_BIAB  \\\n",
       "BeerID                                                                       \n",
       "6                                 1                     1                0   \n",
       "9                                 1                     1                0   \n",
       "10                                1                     1                0   \n",
       "11                                1                     1                0   \n",
       "14                                1                     0                0   \n",
       "\n",
       "        BrewMethod_Partial Mash  BrewMethod_extract  \n",
       "BeerID                                               \n",
       "6                             0                   0  \n",
       "9                             0                   0  \n",
       "10                            0                   0  \n",
       "11                            0                   0  \n",
       "14                            0                   1  "
      ]
     },
     "execution_count": 67,
     "metadata": {},
     "output_type": "execute_result"
    }
   ],
   "source": [
    "beer3dum.head()"
   ]
  },
  {
   "cell_type": "code",
   "execution_count": 68,
   "metadata": {},
   "outputs": [
    {
     "data": {
      "text/html": [
       "<div>\n",
       "<style scoped>\n",
       "    .dataframe tbody tr th:only-of-type {\n",
       "        vertical-align: middle;\n",
       "    }\n",
       "\n",
       "    .dataframe tbody tr th {\n",
       "        vertical-align: top;\n",
       "    }\n",
       "\n",
       "    .dataframe thead th {\n",
       "        text-align: right;\n",
       "    }\n",
       "</style>\n",
       "<table border=\"1\" class=\"dataframe\">\n",
       "  <thead>\n",
       "    <tr style=\"text-align: right;\">\n",
       "      <th></th>\n",
       "      <th>Size(L)</th>\n",
       "      <th>FG</th>\n",
       "      <th>ABV</th>\n",
       "      <th>IBU</th>\n",
       "      <th>Color</th>\n",
       "      <th>BoilTime</th>\n",
       "      <th>Efficiency</th>\n",
       "      <th>PrimaryTemp2</th>\n",
       "      <th>MashThickness2</th>\n",
       "      <th>PitchRate2</th>\n",
       "      <th>SugarScale_Plato</th>\n",
       "      <th>SugarScale_Specific Gravity</th>\n",
       "      <th>BrewMethod_All Grain</th>\n",
       "      <th>BrewMethod_BIAB</th>\n",
       "      <th>BrewMethod_Partial Mash</th>\n",
       "      <th>BrewMethod_extract</th>\n",
       "    </tr>\n",
       "  </thead>\n",
       "  <tbody>\n",
       "    <tr>\n",
       "      <th>Size(L)</th>\n",
       "      <td>1.000000</td>\n",
       "      <td>0.145305</td>\n",
       "      <td>-0.012818</td>\n",
       "      <td>-0.040347</td>\n",
       "      <td>-0.018812</td>\n",
       "      <td>0.046836</td>\n",
       "      <td>0.113061</td>\n",
       "      <td>0.004012</td>\n",
       "      <td>0.041294</td>\n",
       "      <td>0.018627</td>\n",
       "      <td>0.169539</td>\n",
       "      <td>-0.169539</td>\n",
       "      <td>0.091987</td>\n",
       "      <td>-0.060582</td>\n",
       "      <td>-0.025477</td>\n",
       "      <td>-0.048023</td>\n",
       "    </tr>\n",
       "    <tr>\n",
       "      <th>FG</th>\n",
       "      <td>0.145305</td>\n",
       "      <td>1.000000</td>\n",
       "      <td>0.032051</td>\n",
       "      <td>-0.004015</td>\n",
       "      <td>0.039907</td>\n",
       "      <td>0.032790</td>\n",
       "      <td>0.064449</td>\n",
       "      <td>0.002842</td>\n",
       "      <td>0.053432</td>\n",
       "      <td>0.008817</td>\n",
       "      <td>0.894397</td>\n",
       "      <td>-0.894397</td>\n",
       "      <td>0.070320</td>\n",
       "      <td>-0.042732</td>\n",
       "      <td>-0.019245</td>\n",
       "      <td>-0.041108</td>\n",
       "    </tr>\n",
       "    <tr>\n",
       "      <th>ABV</th>\n",
       "      <td>-0.012818</td>\n",
       "      <td>0.032051</td>\n",
       "      <td>1.000000</td>\n",
       "      <td>0.366478</td>\n",
       "      <td>0.275885</td>\n",
       "      <td>0.144261</td>\n",
       "      <td>0.070013</td>\n",
       "      <td>0.030730</td>\n",
       "      <td>-0.048806</td>\n",
       "      <td>0.095455</td>\n",
       "      <td>-0.008883</td>\n",
       "      <td>0.008883</td>\n",
       "      <td>0.033293</td>\n",
       "      <td>-0.020700</td>\n",
       "      <td>0.001880</td>\n",
       "      <td>-0.026022</td>\n",
       "    </tr>\n",
       "    <tr>\n",
       "      <th>IBU</th>\n",
       "      <td>-0.040347</td>\n",
       "      <td>-0.004015</td>\n",
       "      <td>0.366478</td>\n",
       "      <td>1.000000</td>\n",
       "      <td>0.009677</td>\n",
       "      <td>0.084911</td>\n",
       "      <td>-0.032696</td>\n",
       "      <td>0.017143</td>\n",
       "      <td>-0.046200</td>\n",
       "      <td>0.018785</td>\n",
       "      <td>-0.018844</td>\n",
       "      <td>0.018844</td>\n",
       "      <td>-0.007595</td>\n",
       "      <td>-0.012160</td>\n",
       "      <td>0.009183</td>\n",
       "      <td>0.019745</td>\n",
       "    </tr>\n",
       "    <tr>\n",
       "      <th>Color</th>\n",
       "      <td>-0.018812</td>\n",
       "      <td>0.039907</td>\n",
       "      <td>0.275885</td>\n",
       "      <td>0.009677</td>\n",
       "      <td>1.000000</td>\n",
       "      <td>0.066109</td>\n",
       "      <td>-0.019351</td>\n",
       "      <td>0.005746</td>\n",
       "      <td>-0.028582</td>\n",
       "      <td>0.018994</td>\n",
       "      <td>0.001600</td>\n",
       "      <td>-0.001600</td>\n",
       "      <td>0.007638</td>\n",
       "      <td>-0.007639</td>\n",
       "      <td>0.016663</td>\n",
       "      <td>-0.013047</td>\n",
       "    </tr>\n",
       "    <tr>\n",
       "      <th>BoilTime</th>\n",
       "      <td>0.046836</td>\n",
       "      <td>0.032790</td>\n",
       "      <td>0.144261</td>\n",
       "      <td>0.084911</td>\n",
       "      <td>0.066109</td>\n",
       "      <td>1.000000</td>\n",
       "      <td>0.159071</td>\n",
       "      <td>-0.029376</td>\n",
       "      <td>0.039225</td>\n",
       "      <td>0.106356</td>\n",
       "      <td>0.028178</td>\n",
       "      <td>-0.028178</td>\n",
       "      <td>0.156132</td>\n",
       "      <td>-0.029101</td>\n",
       "      <td>-0.058577</td>\n",
       "      <td>-0.159060</td>\n",
       "    </tr>\n",
       "    <tr>\n",
       "      <th>Efficiency</th>\n",
       "      <td>0.113061</td>\n",
       "      <td>0.064449</td>\n",
       "      <td>0.070013</td>\n",
       "      <td>-0.032696</td>\n",
       "      <td>-0.019351</td>\n",
       "      <td>0.159071</td>\n",
       "      <td>1.000000</td>\n",
       "      <td>-0.048810</td>\n",
       "      <td>0.099936</td>\n",
       "      <td>0.088364</td>\n",
       "      <td>0.071727</td>\n",
       "      <td>-0.071727</td>\n",
       "      <td>0.464986</td>\n",
       "      <td>0.098880</td>\n",
       "      <td>-0.115546</td>\n",
       "      <td>-0.731976</td>\n",
       "    </tr>\n",
       "    <tr>\n",
       "      <th>PrimaryTemp2</th>\n",
       "      <td>0.004012</td>\n",
       "      <td>0.002842</td>\n",
       "      <td>0.030730</td>\n",
       "      <td>0.017143</td>\n",
       "      <td>0.005746</td>\n",
       "      <td>-0.029376</td>\n",
       "      <td>-0.048810</td>\n",
       "      <td>1.000000</td>\n",
       "      <td>-0.005181</td>\n",
       "      <td>-0.152703</td>\n",
       "      <td>-0.003444</td>\n",
       "      <td>0.003444</td>\n",
       "      <td>-0.009500</td>\n",
       "      <td>-0.023639</td>\n",
       "      <td>0.012387</td>\n",
       "      <td>0.034115</td>\n",
       "    </tr>\n",
       "    <tr>\n",
       "      <th>MashThickness2</th>\n",
       "      <td>0.041294</td>\n",
       "      <td>0.053432</td>\n",
       "      <td>-0.048806</td>\n",
       "      <td>-0.046200</td>\n",
       "      <td>-0.028582</td>\n",
       "      <td>0.039225</td>\n",
       "      <td>0.099936</td>\n",
       "      <td>-0.005181</td>\n",
       "      <td>1.000000</td>\n",
       "      <td>0.011491</td>\n",
       "      <td>0.069068</td>\n",
       "      <td>-0.069068</td>\n",
       "      <td>0.206683</td>\n",
       "      <td>-0.134278</td>\n",
       "      <td>-0.063641</td>\n",
       "      <td>-0.105945</td>\n",
       "    </tr>\n",
       "    <tr>\n",
       "      <th>PitchRate2</th>\n",
       "      <td>0.018627</td>\n",
       "      <td>0.008817</td>\n",
       "      <td>0.095455</td>\n",
       "      <td>0.018785</td>\n",
       "      <td>0.018994</td>\n",
       "      <td>0.106356</td>\n",
       "      <td>0.088364</td>\n",
       "      <td>-0.152703</td>\n",
       "      <td>0.011491</td>\n",
       "      <td>1.000000</td>\n",
       "      <td>0.009292</td>\n",
       "      <td>-0.009292</td>\n",
       "      <td>0.062313</td>\n",
       "      <td>0.000573</td>\n",
       "      <td>-0.032212</td>\n",
       "      <td>-0.072224</td>\n",
       "    </tr>\n",
       "    <tr>\n",
       "      <th>SugarScale_Plato</th>\n",
       "      <td>0.169539</td>\n",
       "      <td>0.894397</td>\n",
       "      <td>-0.008883</td>\n",
       "      <td>-0.018844</td>\n",
       "      <td>0.001600</td>\n",
       "      <td>0.028178</td>\n",
       "      <td>0.071727</td>\n",
       "      <td>-0.003444</td>\n",
       "      <td>0.069068</td>\n",
       "      <td>0.009292</td>\n",
       "      <td>1.000000</td>\n",
       "      <td>-1.000000</td>\n",
       "      <td>0.077018</td>\n",
       "      <td>-0.045283</td>\n",
       "      <td>-0.023373</td>\n",
       "      <td>-0.045340</td>\n",
       "    </tr>\n",
       "    <tr>\n",
       "      <th>SugarScale_Specific Gravity</th>\n",
       "      <td>-0.169539</td>\n",
       "      <td>-0.894397</td>\n",
       "      <td>0.008883</td>\n",
       "      <td>0.018844</td>\n",
       "      <td>-0.001600</td>\n",
       "      <td>-0.028178</td>\n",
       "      <td>-0.071727</td>\n",
       "      <td>0.003444</td>\n",
       "      <td>-0.069068</td>\n",
       "      <td>-0.009292</td>\n",
       "      <td>-1.000000</td>\n",
       "      <td>1.000000</td>\n",
       "      <td>-0.077018</td>\n",
       "      <td>0.045283</td>\n",
       "      <td>0.023373</td>\n",
       "      <td>0.045340</td>\n",
       "    </tr>\n",
       "    <tr>\n",
       "      <th>BrewMethod_All Grain</th>\n",
       "      <td>0.091987</td>\n",
       "      <td>0.070320</td>\n",
       "      <td>0.033293</td>\n",
       "      <td>-0.007595</td>\n",
       "      <td>0.007638</td>\n",
       "      <td>0.156132</td>\n",
       "      <td>0.464986</td>\n",
       "      <td>-0.009500</td>\n",
       "      <td>0.206683</td>\n",
       "      <td>0.062313</td>\n",
       "      <td>0.077018</td>\n",
       "      <td>-0.077018</td>\n",
       "      <td>1.000000</td>\n",
       "      <td>-0.649678</td>\n",
       "      <td>-0.307917</td>\n",
       "      <td>-0.512596</td>\n",
       "    </tr>\n",
       "    <tr>\n",
       "      <th>BrewMethod_BIAB</th>\n",
       "      <td>-0.060582</td>\n",
       "      <td>-0.042732</td>\n",
       "      <td>-0.020700</td>\n",
       "      <td>-0.012160</td>\n",
       "      <td>-0.007639</td>\n",
       "      <td>-0.029101</td>\n",
       "      <td>0.098880</td>\n",
       "      <td>-0.023639</td>\n",
       "      <td>-0.134278</td>\n",
       "      <td>0.000573</td>\n",
       "      <td>-0.045283</td>\n",
       "      <td>0.045283</td>\n",
       "      <td>-0.649678</td>\n",
       "      <td>1.000000</td>\n",
       "      <td>-0.096533</td>\n",
       "      <td>-0.160700</td>\n",
       "    </tr>\n",
       "    <tr>\n",
       "      <th>BrewMethod_Partial Mash</th>\n",
       "      <td>-0.025477</td>\n",
       "      <td>-0.019245</td>\n",
       "      <td>0.001880</td>\n",
       "      <td>0.009183</td>\n",
       "      <td>0.016663</td>\n",
       "      <td>-0.058577</td>\n",
       "      <td>-0.115546</td>\n",
       "      <td>0.012387</td>\n",
       "      <td>-0.063641</td>\n",
       "      <td>-0.032212</td>\n",
       "      <td>-0.023373</td>\n",
       "      <td>0.023373</td>\n",
       "      <td>-0.307917</td>\n",
       "      <td>-0.096533</td>\n",
       "      <td>1.000000</td>\n",
       "      <td>-0.076164</td>\n",
       "    </tr>\n",
       "    <tr>\n",
       "      <th>BrewMethod_extract</th>\n",
       "      <td>-0.048023</td>\n",
       "      <td>-0.041108</td>\n",
       "      <td>-0.026022</td>\n",
       "      <td>0.019745</td>\n",
       "      <td>-0.013047</td>\n",
       "      <td>-0.159060</td>\n",
       "      <td>-0.731976</td>\n",
       "      <td>0.034115</td>\n",
       "      <td>-0.105945</td>\n",
       "      <td>-0.072224</td>\n",
       "      <td>-0.045340</td>\n",
       "      <td>0.045340</td>\n",
       "      <td>-0.512596</td>\n",
       "      <td>-0.160700</td>\n",
       "      <td>-0.076164</td>\n",
       "      <td>1.000000</td>\n",
       "    </tr>\n",
       "  </tbody>\n",
       "</table>\n",
       "</div>"
      ],
      "text/plain": [
       "                              Size(L)        FG       ABV       IBU     Color  \\\n",
       "Size(L)                      1.000000  0.145305 -0.012818 -0.040347 -0.018812   \n",
       "FG                           0.145305  1.000000  0.032051 -0.004015  0.039907   \n",
       "ABV                         -0.012818  0.032051  1.000000  0.366478  0.275885   \n",
       "IBU                         -0.040347 -0.004015  0.366478  1.000000  0.009677   \n",
       "Color                       -0.018812  0.039907  0.275885  0.009677  1.000000   \n",
       "BoilTime                     0.046836  0.032790  0.144261  0.084911  0.066109   \n",
       "Efficiency                   0.113061  0.064449  0.070013 -0.032696 -0.019351   \n",
       "PrimaryTemp2                 0.004012  0.002842  0.030730  0.017143  0.005746   \n",
       "MashThickness2               0.041294  0.053432 -0.048806 -0.046200 -0.028582   \n",
       "PitchRate2                   0.018627  0.008817  0.095455  0.018785  0.018994   \n",
       "SugarScale_Plato             0.169539  0.894397 -0.008883 -0.018844  0.001600   \n",
       "SugarScale_Specific Gravity -0.169539 -0.894397  0.008883  0.018844 -0.001600   \n",
       "BrewMethod_All Grain         0.091987  0.070320  0.033293 -0.007595  0.007638   \n",
       "BrewMethod_BIAB             -0.060582 -0.042732 -0.020700 -0.012160 -0.007639   \n",
       "BrewMethod_Partial Mash     -0.025477 -0.019245  0.001880  0.009183  0.016663   \n",
       "BrewMethod_extract          -0.048023 -0.041108 -0.026022  0.019745 -0.013047   \n",
       "\n",
       "                             BoilTime  Efficiency  PrimaryTemp2  \\\n",
       "Size(L)                      0.046836    0.113061      0.004012   \n",
       "FG                           0.032790    0.064449      0.002842   \n",
       "ABV                          0.144261    0.070013      0.030730   \n",
       "IBU                          0.084911   -0.032696      0.017143   \n",
       "Color                        0.066109   -0.019351      0.005746   \n",
       "BoilTime                     1.000000    0.159071     -0.029376   \n",
       "Efficiency                   0.159071    1.000000     -0.048810   \n",
       "PrimaryTemp2                -0.029376   -0.048810      1.000000   \n",
       "MashThickness2               0.039225    0.099936     -0.005181   \n",
       "PitchRate2                   0.106356    0.088364     -0.152703   \n",
       "SugarScale_Plato             0.028178    0.071727     -0.003444   \n",
       "SugarScale_Specific Gravity -0.028178   -0.071727      0.003444   \n",
       "BrewMethod_All Grain         0.156132    0.464986     -0.009500   \n",
       "BrewMethod_BIAB             -0.029101    0.098880     -0.023639   \n",
       "BrewMethod_Partial Mash     -0.058577   -0.115546      0.012387   \n",
       "BrewMethod_extract          -0.159060   -0.731976      0.034115   \n",
       "\n",
       "                             MashThickness2  PitchRate2  SugarScale_Plato  \\\n",
       "Size(L)                            0.041294    0.018627          0.169539   \n",
       "FG                                 0.053432    0.008817          0.894397   \n",
       "ABV                               -0.048806    0.095455         -0.008883   \n",
       "IBU                               -0.046200    0.018785         -0.018844   \n",
       "Color                             -0.028582    0.018994          0.001600   \n",
       "BoilTime                           0.039225    0.106356          0.028178   \n",
       "Efficiency                         0.099936    0.088364          0.071727   \n",
       "PrimaryTemp2                      -0.005181   -0.152703         -0.003444   \n",
       "MashThickness2                     1.000000    0.011491          0.069068   \n",
       "PitchRate2                         0.011491    1.000000          0.009292   \n",
       "SugarScale_Plato                   0.069068    0.009292          1.000000   \n",
       "SugarScale_Specific Gravity       -0.069068   -0.009292         -1.000000   \n",
       "BrewMethod_All Grain               0.206683    0.062313          0.077018   \n",
       "BrewMethod_BIAB                   -0.134278    0.000573         -0.045283   \n",
       "BrewMethod_Partial Mash           -0.063641   -0.032212         -0.023373   \n",
       "BrewMethod_extract                -0.105945   -0.072224         -0.045340   \n",
       "\n",
       "                             SugarScale_Specific Gravity  \\\n",
       "Size(L)                                        -0.169539   \n",
       "FG                                             -0.894397   \n",
       "ABV                                             0.008883   \n",
       "IBU                                             0.018844   \n",
       "Color                                          -0.001600   \n",
       "BoilTime                                       -0.028178   \n",
       "Efficiency                                     -0.071727   \n",
       "PrimaryTemp2                                    0.003444   \n",
       "MashThickness2                                 -0.069068   \n",
       "PitchRate2                                     -0.009292   \n",
       "SugarScale_Plato                               -1.000000   \n",
       "SugarScale_Specific Gravity                     1.000000   \n",
       "BrewMethod_All Grain                           -0.077018   \n",
       "BrewMethod_BIAB                                 0.045283   \n",
       "BrewMethod_Partial Mash                         0.023373   \n",
       "BrewMethod_extract                              0.045340   \n",
       "\n",
       "                             BrewMethod_All Grain  BrewMethod_BIAB  \\\n",
       "Size(L)                                  0.091987        -0.060582   \n",
       "FG                                       0.070320        -0.042732   \n",
       "ABV                                      0.033293        -0.020700   \n",
       "IBU                                     -0.007595        -0.012160   \n",
       "Color                                    0.007638        -0.007639   \n",
       "BoilTime                                 0.156132        -0.029101   \n",
       "Efficiency                               0.464986         0.098880   \n",
       "PrimaryTemp2                            -0.009500        -0.023639   \n",
       "MashThickness2                           0.206683        -0.134278   \n",
       "PitchRate2                               0.062313         0.000573   \n",
       "SugarScale_Plato                         0.077018        -0.045283   \n",
       "SugarScale_Specific Gravity             -0.077018         0.045283   \n",
       "BrewMethod_All Grain                     1.000000        -0.649678   \n",
       "BrewMethod_BIAB                         -0.649678         1.000000   \n",
       "BrewMethod_Partial Mash                 -0.307917        -0.096533   \n",
       "BrewMethod_extract                      -0.512596        -0.160700   \n",
       "\n",
       "                             BrewMethod_Partial Mash  BrewMethod_extract  \n",
       "Size(L)                                    -0.025477           -0.048023  \n",
       "FG                                         -0.019245           -0.041108  \n",
       "ABV                                         0.001880           -0.026022  \n",
       "IBU                                         0.009183            0.019745  \n",
       "Color                                       0.016663           -0.013047  \n",
       "BoilTime                                   -0.058577           -0.159060  \n",
       "Efficiency                                 -0.115546           -0.731976  \n",
       "PrimaryTemp2                                0.012387            0.034115  \n",
       "MashThickness2                             -0.063641           -0.105945  \n",
       "PitchRate2                                 -0.032212           -0.072224  \n",
       "SugarScale_Plato                           -0.023373           -0.045340  \n",
       "SugarScale_Specific Gravity                 0.023373            0.045340  \n",
       "BrewMethod_All Grain                       -0.307917           -0.512596  \n",
       "BrewMethod_BIAB                            -0.096533           -0.160700  \n",
       "BrewMethod_Partial Mash                     1.000000           -0.076164  \n",
       "BrewMethod_extract                         -0.076164            1.000000  "
      ]
     },
     "execution_count": 68,
     "metadata": {},
     "output_type": "execute_result"
    }
   ],
   "source": [
    "beer3dum.corr()"
   ]
  },
  {
   "cell_type": "code",
   "execution_count": 69,
   "metadata": {
    "scrolled": true
   },
   "outputs": [],
   "source": [
    "#The Sugarscales are too strongly correlated with FG.\n",
    "beer3dum = pd.DataFrame(beer3dum.drop(columns = ['SugarScale_Specific Gravity','SugarScale_Plato']))"
   ]
  },
  {
   "cell_type": "code",
   "execution_count": 70,
   "metadata": {},
   "outputs": [],
   "source": [
    "##beer3dum = pd.DataFrame(beer3dum.drop(columns = ['BrewMethod_All Grain','BrewMethod_BIAB','BrewMethod_Partial Mash','BrewMethod_extract']))"
   ]
  },
  {
   "cell_type": "code",
   "execution_count": 71,
   "metadata": {},
   "outputs": [
    {
     "data": {
      "text/plain": [
       "(47154, 14)"
      ]
     },
     "execution_count": 71,
     "metadata": {},
     "output_type": "execute_result"
    }
   ],
   "source": [
    "beer3dum.shape"
   ]
  },
  {
   "cell_type": "code",
   "execution_count": 72,
   "metadata": {},
   "outputs": [
    {
     "data": {
      "text/plain": [
       "Index(['Size(L)', 'FG', 'ABV', 'IBU', 'Color', 'BoilTime', 'Efficiency',\n",
       "       'PrimaryTemp2', 'MashThickness2', 'PitchRate2', 'BrewMethod_All Grain',\n",
       "       'BrewMethod_BIAB', 'BrewMethod_Partial Mash', 'BrewMethod_extract'],\n",
       "      dtype='object')"
      ]
     },
     "execution_count": 72,
     "metadata": {},
     "output_type": "execute_result"
    }
   ],
   "source": [
    "exes = beer3dum\n",
    "columns = exes.columns\n",
    "scaler = MinMaxScaler()\n",
    "scaled_df = scaler.fit_transform(exes)\n",
    "scaled_df = pd.DataFrame(scaled_df, columns = columns)\n",
    "scaled_df.columns\n"
   ]
  },
  {
   "cell_type": "code",
   "execution_count": 73,
   "metadata": {},
   "outputs": [
    {
     "data": {
      "text/plain": [
       "15"
      ]
     },
     "execution_count": 73,
     "metadata": {},
     "output_type": "execute_result"
    }
   ],
   "source": [
    "beer3['kind'].nunique()"
   ]
  },
  {
   "cell_type": "code",
   "execution_count": 74,
   "metadata": {},
   "outputs": [],
   "source": [
    "y = np.ravel(beer3['kind'])\n",
    "y = y.astype(str)\n",
    "X = scaled_df\n",
    "# Declare a logistic regression classifier.\n",
    "# Parameter regularization coefficient C described above.\n",
    "lr = LogisticRegression(C = 1e6)\n"
   ]
  },
  {
   "cell_type": "code",
   "execution_count": 75,
   "metadata": {},
   "outputs": [],
   "source": [
    "\n",
    "##Fit the model.\n",
    "fit = lr.fit(X, y)\n"
   ]
  },
  {
   "cell_type": "code",
   "execution_count": 76,
   "metadata": {},
   "outputs": [
    {
     "name": "stdout",
     "output_type": "stream",
     "text": [
      "Coefficients\n",
      "[ -0.80347098  -1.29848317 -14.74383833 -99.16540932 -11.93561353\n",
      "  -0.65858809   0.6889097   -1.02835342  -0.62588131  -2.09113239\n",
      "   0.43492316   0.32178294   0.50611669   0.35022427]\n",
      "[  1.61304706  -1.37231923  -1.23860986  -1.05248572  -6.70366369\n",
      " -12.0482981    4.83987391  -0.12416528   1.2231524   -2.29457235\n",
      "  -1.1724462   -6.31769147  -2.53577751  -2.05235583  -0.58517192]\n",
      "\n",
      " Percentage accuracy\n",
      "0.4738092208508292\n"
     ]
    }
   ],
   "source": [
    "# Display.\n",
    "print('Coefficients')\n",
    "print(fit.coef_[0])\n",
    "print(fit.intercept_)\n",
    "pred_y_sklearn = lr.predict(X)\n",
    "print('\\n Percentage accuracy')\n",
    "print(lr.score(X, y))"
   ]
  },
  {
   "cell_type": "code",
   "execution_count": 77,
   "metadata": {},
   "outputs": [],
   "source": [
    "#freq = pd.DataFrame(beerna2['StyleID'].value_counts().reset_index())\n",
    "#freqcut = pd.DataFrame(freq[freq['StyleID'] > 5])\n",
    "#freqcut['index'].unique()"
   ]
  },
  {
   "cell_type": "code",
   "execution_count": 78,
   "metadata": {},
   "outputs": [],
   "source": [
    "#freqcut['index'].nunique()"
   ]
  },
  {
   "cell_type": "code",
   "execution_count": 79,
   "metadata": {},
   "outputs": [],
   "source": [
    "#beerna2cut = pd.DataFrame(beerna2.loc[beerna2['StyleID'].isin(freqcut['index'].unique())])\n",
    "#beerna2cut['StyleID'].nunique()"
   ]
  },
  {
   "cell_type": "code",
   "execution_count": 80,
   "metadata": {},
   "outputs": [],
   "source": [
    "from sklearn import ensemble\n",
    "from sklearn.model_selection import cross_val_score\n"
   ]
  },
  {
   "cell_type": "code",
   "execution_count": 81,
   "metadata": {},
   "outputs": [],
   "source": [
    "rfc = ensemble.RandomForestClassifier(n_jobs = -1)\n",
    "y = np.ravel(beer3['kind'])\n",
    "X = pd.DataFrame(beer3dum)\n"
   ]
  },
  {
   "cell_type": "code",
   "execution_count": 82,
   "metadata": {},
   "outputs": [
    {
     "data": {
      "text/plain": [
       "array([0.59006145, 0.57901431, 0.58292683, 0.57786972, 0.56689655])"
      ]
     },
     "execution_count": 82,
     "metadata": {},
     "output_type": "execute_result"
    }
   ],
   "source": [
    "cross_val_score(rfc,X,y,cv=5)"
   ]
  },
  {
   "cell_type": "code",
   "execution_count": 83,
   "metadata": {},
   "outputs": [
    {
     "data": {
      "text/plain": [
       "RandomForestClassifier(bootstrap=True, class_weight=None, criterion='gini',\n",
       "            max_depth=None, max_features='auto', max_leaf_nodes=None,\n",
       "            min_impurity_decrease=0.0, min_impurity_split=None,\n",
       "            min_samples_leaf=1, min_samples_split=2,\n",
       "            min_weight_fraction_leaf=0.0, n_estimators=10, n_jobs=-1,\n",
       "            oob_score=False, random_state=None, verbose=0,\n",
       "            warm_start=False)"
      ]
     },
     "execution_count": 83,
     "metadata": {},
     "output_type": "execute_result"
    }
   ],
   "source": [
    "rfc.fit(X,y)"
   ]
  },
  {
   "cell_type": "code",
   "execution_count": 84,
   "metadata": {},
   "outputs": [
    {
     "data": {
      "image/png": "[encoded data removed]",
      "text/plain": [
       "<matplotlib.figure.Figure at 0x113375748>"
      ]
     },
     "metadata": {},
     "output_type": "display_data"
    }
   ],
   "source": [
    "\n",
    "feature_importance = rfc.feature_importances_\n",
    "\n",
    "# Make importances relative to max importance.\n",
    "feature_importance = 100.0 * (feature_importance / feature_importance.max())\n",
    "sorted_idx = np.argsort(feature_importance)\n",
    "pos = np.arange(sorted_idx.shape[0]) + .5\n",
    "plt.subplot(1, 2, 2)\n",
    "plt.barh(pos, feature_importance[sorted_idx], align='center')\n",
    "plt.yticks(pos, X.columns[sorted_idx])\n",
    "plt.xlabel('Relative Importance')\n",
    "plt.title('Variable Importance')\n",
    "plt.show()"
   ]
  },
  {
   "cell_type": "code",
   "execution_count": 85,
   "metadata": {},
   "outputs": [],
   "source": [
    "# Create training and test sets.\n",
    "offset = int(X.shape[0] * 0.9)\n",
    "\n",
    "# Put 90% of the data in the training set.\n",
    "X_train, y_train = X[:offset], y[:offset]\n",
    "\n",
    "# And put 10% in the test set.\n",
    "X_test, y_test = X[offset:], y[offset:]"
   ]
  },
  {
   "cell_type": "code",
   "execution_count": 87,
   "metadata": {},
   "outputs": [],
   "source": [
    "# We'll make 500 iterations, use 2-deep trees, and set our loss function.\n",
    "params = {'n_estimators': 500,\n",
    "          'max_depth': 2,\n",
    "          'loss': 'deviance'}\n",
    "\n",
    "# Initialize and fit the model.\n",
    "clf = ensemble.GradientBoostingClassifier(**params,subsample=.8)\n",
    "clf.fit(X_train, y_train)\n",
    "\n",
    "predict_train = clf.predict(X_train)\n",
    "predict_test = clf.predict(X_test)\n",
    "\n"
   ]
  },
  {
   "cell_type": "code",
   "execution_count": 88,
   "metadata": {},
   "outputs": [
    {
     "data": {
      "text/plain": [
       "0.6708610207832603"
      ]
     },
     "execution_count": 88,
     "metadata": {},
     "output_type": "execute_result"
    }
   ],
   "source": [
    "from sklearn.metrics import accuracy_score\n",
    "accuracy_score(y_train, predict_train, normalize=True, sample_weight=None)"
   ]
  },
  {
   "cell_type": "code",
   "execution_count": 89,
   "metadata": {},
   "outputs": [
    {
     "data": {
      "text/plain": [
       "0.5913910093299406"
      ]
     },
     "execution_count": 89,
     "metadata": {},
     "output_type": "execute_result"
    }
   ],
   "source": [
    "from sklearn.metrics import accuracy_score\n",
    "accuracy_score(y_test, predict_test, normalize=True, sample_weight=None)"
   ]
  },
  {
   "cell_type": "code",
   "execution_count": null,
   "metadata": {},
   "outputs": [],
   "source": []
  }
 ],
 "metadata": {
  "kernelspec": {
   "display_name": "Python 3",
   "language": "python",
   "name": "python3"
  },
  "language_info": {
   "codemirror_mode": {
    "name": "ipython",
    "version": 3
   },
   "file_extension": ".py",
   "mimetype": "text/x-python",
   "name": "python",
   "nbconvert_exporter": "python",
   "pygments_lexer": "ipython3",
   "version": "3.6.4"
  }
 },
 "nbformat": 4,
 "nbformat_minor": 2
}
