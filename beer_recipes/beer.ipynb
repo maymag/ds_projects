{
 "cells": [
  {
   "cell_type": "code",
   "execution_count": 1,
   "metadata": {},
   "outputs": [],
   "source": [
    "#importing libraries\n",
    "import pandas as pd\n",
    "import numpy as np\n",
    "%matplotlib inline\n",
    "import matplotlib.pyplot as plt\n",
    "import seaborn as sns\n",
    "from sklearn.linear_model import LogisticRegression\n",
    "from sklearn.preprocessing import MinMaxScaler\n",
    "from sklearn.model_selection import train_test_split\n",
    "from sklearn.model_selection import cross_val_score\n",
    "from sklearn.metrics import accuracy_score"
   ]
  },
  {
   "cell_type": "code",
   "execution_count": 2,
   "metadata": {},
   "outputs": [],
   "source": [
    "beer = pd.read_csv('data/recipeData.csv', index_col='BeerID', encoding='latin1')"
   ]
  },
  {
   "cell_type": "code",
   "execution_count": 3,
   "metadata": {},
   "outputs": [],
   "source": [
    "beer['BeerID'] = beer.index"
   ]
  },
  {
   "cell_type": "code",
   "execution_count": 4,
   "metadata": {},
   "outputs": [
    {
     "data": {
      "text/plain": [
       "(73861, 22)"
      ]
     },
     "execution_count": 4,
     "metadata": {},
     "output_type": "execute_result"
    }
   ],
   "source": [
    "beer.shape"
   ]
  },
  {
   "cell_type": "code",
   "execution_count": 5,
   "metadata": {
    "scrolled": true
   },
   "outputs": [
    {
     "data": {
      "text/html": [
       "<div>\n",
       "<style scoped>\n",
       "    .dataframe tbody tr th:only-of-type {\n",
       "        vertical-align: middle;\n",
       "    }\n",
       "\n",
       "    .dataframe tbody tr th {\n",
       "        vertical-align: top;\n",
       "    }\n",
       "\n",
       "    .dataframe thead th {\n",
       "        text-align: right;\n",
       "    }\n",
       "</style>\n",
       "<table border=\"1\" class=\"dataframe\">\n",
       "  <thead>\n",
       "    <tr style=\"text-align: right;\">\n",
       "      <th></th>\n",
       "      <th>Name</th>\n",
       "      <th>URL</th>\n",
       "      <th>Style</th>\n",
       "      <th>StyleID</th>\n",
       "      <th>Size(L)</th>\n",
       "      <th>OG</th>\n",
       "      <th>FG</th>\n",
       "      <th>ABV</th>\n",
       "      <th>IBU</th>\n",
       "      <th>Color</th>\n",
       "      <th>...</th>\n",
       "      <th>BoilGravity</th>\n",
       "      <th>Efficiency</th>\n",
       "      <th>MashThickness</th>\n",
       "      <th>SugarScale</th>\n",
       "      <th>BrewMethod</th>\n",
       "      <th>PitchRate</th>\n",
       "      <th>PrimaryTemp</th>\n",
       "      <th>PrimingMethod</th>\n",
       "      <th>PrimingAmount</th>\n",
       "      <th>BeerID</th>\n",
       "    </tr>\n",
       "    <tr>\n",
       "      <th>BeerID</th>\n",
       "      <th></th>\n",
       "      <th></th>\n",
       "      <th></th>\n",
       "      <th></th>\n",
       "      <th></th>\n",
       "      <th></th>\n",
       "      <th></th>\n",
       "      <th></th>\n",
       "      <th></th>\n",
       "      <th></th>\n",
       "      <th></th>\n",
       "      <th></th>\n",
       "      <th></th>\n",
       "      <th></th>\n",
       "      <th></th>\n",
       "      <th></th>\n",
       "      <th></th>\n",
       "      <th></th>\n",
       "      <th></th>\n",
       "      <th></th>\n",
       "      <th></th>\n",
       "    </tr>\n",
       "  </thead>\n",
       "  <tbody>\n",
       "    <tr>\n",
       "      <th>1</th>\n",
       "      <td>Vanilla Cream Ale</td>\n",
       "      <td>/homebrew/recipe/view/1633/vanilla-cream-ale</td>\n",
       "      <td>Cream Ale</td>\n",
       "      <td>45</td>\n",
       "      <td>21.77</td>\n",
       "      <td>1.055</td>\n",
       "      <td>1.013</td>\n",
       "      <td>5.48</td>\n",
       "      <td>17.65</td>\n",
       "      <td>4.83</td>\n",
       "      <td>...</td>\n",
       "      <td>1.038</td>\n",
       "      <td>70.0</td>\n",
       "      <td>NaN</td>\n",
       "      <td>Specific Gravity</td>\n",
       "      <td>All Grain</td>\n",
       "      <td>NaN</td>\n",
       "      <td>17.78</td>\n",
       "      <td>corn sugar</td>\n",
       "      <td>4.5 oz</td>\n",
       "      <td>1</td>\n",
       "    </tr>\n",
       "    <tr>\n",
       "      <th>2</th>\n",
       "      <td>Southern Tier Pumking clone</td>\n",
       "      <td>/homebrew/recipe/view/16367/southern-tier-pumk...</td>\n",
       "      <td>Holiday/Winter Special Spiced Beer</td>\n",
       "      <td>85</td>\n",
       "      <td>20.82</td>\n",
       "      <td>1.083</td>\n",
       "      <td>1.021</td>\n",
       "      <td>8.16</td>\n",
       "      <td>60.65</td>\n",
       "      <td>15.64</td>\n",
       "      <td>...</td>\n",
       "      <td>1.070</td>\n",
       "      <td>70.0</td>\n",
       "      <td>NaN</td>\n",
       "      <td>Specific Gravity</td>\n",
       "      <td>All Grain</td>\n",
       "      <td>NaN</td>\n",
       "      <td>NaN</td>\n",
       "      <td>NaN</td>\n",
       "      <td>NaN</td>\n",
       "      <td>2</td>\n",
       "    </tr>\n",
       "    <tr>\n",
       "      <th>3</th>\n",
       "      <td>Zombie Dust Clone - EXTRACT</td>\n",
       "      <td>/homebrew/recipe/view/5920/zombie-dust-clone-e...</td>\n",
       "      <td>American IPA</td>\n",
       "      <td>7</td>\n",
       "      <td>18.93</td>\n",
       "      <td>1.063</td>\n",
       "      <td>1.018</td>\n",
       "      <td>5.91</td>\n",
       "      <td>59.25</td>\n",
       "      <td>8.98</td>\n",
       "      <td>...</td>\n",
       "      <td>NaN</td>\n",
       "      <td>70.0</td>\n",
       "      <td>NaN</td>\n",
       "      <td>Specific Gravity</td>\n",
       "      <td>extract</td>\n",
       "      <td>NaN</td>\n",
       "      <td>NaN</td>\n",
       "      <td>NaN</td>\n",
       "      <td>NaN</td>\n",
       "      <td>3</td>\n",
       "    </tr>\n",
       "    <tr>\n",
       "      <th>4</th>\n",
       "      <td>Zombie Dust Clone - ALL GRAIN</td>\n",
       "      <td>/homebrew/recipe/view/5916/zombie-dust-clone-a...</td>\n",
       "      <td>American IPA</td>\n",
       "      <td>7</td>\n",
       "      <td>22.71</td>\n",
       "      <td>1.061</td>\n",
       "      <td>1.017</td>\n",
       "      <td>5.80</td>\n",
       "      <td>54.48</td>\n",
       "      <td>8.50</td>\n",
       "      <td>...</td>\n",
       "      <td>NaN</td>\n",
       "      <td>70.0</td>\n",
       "      <td>NaN</td>\n",
       "      <td>Specific Gravity</td>\n",
       "      <td>All Grain</td>\n",
       "      <td>NaN</td>\n",
       "      <td>NaN</td>\n",
       "      <td>NaN</td>\n",
       "      <td>NaN</td>\n",
       "      <td>4</td>\n",
       "    </tr>\n",
       "    <tr>\n",
       "      <th>5</th>\n",
       "      <td>Bakke Brygg Belgisk Blonde 50 l</td>\n",
       "      <td>/homebrew/recipe/view/89534/bakke-brygg-belgis...</td>\n",
       "      <td>Belgian Blond Ale</td>\n",
       "      <td>20</td>\n",
       "      <td>50.00</td>\n",
       "      <td>1.060</td>\n",
       "      <td>1.010</td>\n",
       "      <td>6.48</td>\n",
       "      <td>17.84</td>\n",
       "      <td>4.57</td>\n",
       "      <td>...</td>\n",
       "      <td>1.050</td>\n",
       "      <td>72.0</td>\n",
       "      <td>NaN</td>\n",
       "      <td>Specific Gravity</td>\n",
       "      <td>All Grain</td>\n",
       "      <td>NaN</td>\n",
       "      <td>19.00</td>\n",
       "      <td>Sukkerlake</td>\n",
       "      <td>6-7 g sukker/l</td>\n",
       "      <td>5</td>\n",
       "    </tr>\n",
       "  </tbody>\n",
       "</table>\n",
       "<p>5 rows × 22 columns</p>\n",
       "</div>"
      ],
      "text/plain": [
       "                                   Name  \\\n",
       "BeerID                                    \n",
       "1                     Vanilla Cream Ale   \n",
       "2           Southern Tier Pumking clone   \n",
       "3           Zombie Dust Clone - EXTRACT   \n",
       "4         Zombie Dust Clone - ALL GRAIN   \n",
       "5       Bakke Brygg Belgisk Blonde 50 l   \n",
       "\n",
       "                                                      URL  \\\n",
       "BeerID                                                      \n",
       "1            /homebrew/recipe/view/1633/vanilla-cream-ale   \n",
       "2       /homebrew/recipe/view/16367/southern-tier-pumk...   \n",
       "3       /homebrew/recipe/view/5920/zombie-dust-clone-e...   \n",
       "4       /homebrew/recipe/view/5916/zombie-dust-clone-a...   \n",
       "5       /homebrew/recipe/view/89534/bakke-brygg-belgis...   \n",
       "\n",
       "                                     Style  StyleID  Size(L)     OG     FG  \\\n",
       "BeerID                                                                       \n",
       "1                                Cream Ale       45    21.77  1.055  1.013   \n",
       "2       Holiday/Winter Special Spiced Beer       85    20.82  1.083  1.021   \n",
       "3                             American IPA        7    18.93  1.063  1.018   \n",
       "4                             American IPA        7    22.71  1.061  1.017   \n",
       "5                        Belgian Blond Ale       20    50.00  1.060  1.010   \n",
       "\n",
       "         ABV    IBU  Color  ...    BoilGravity  Efficiency  MashThickness  \\\n",
       "BeerID                      ...                                             \n",
       "1       5.48  17.65   4.83  ...          1.038        70.0            NaN   \n",
       "2       8.16  60.65  15.64  ...          1.070        70.0            NaN   \n",
       "3       5.91  59.25   8.98  ...            NaN        70.0            NaN   \n",
       "4       5.80  54.48   8.50  ...            NaN        70.0            NaN   \n",
       "5       6.48  17.84   4.57  ...          1.050        72.0            NaN   \n",
       "\n",
       "              SugarScale  BrewMethod PitchRate PrimaryTemp  PrimingMethod  \\\n",
       "BeerID                                                                      \n",
       "1       Specific Gravity   All Grain       NaN       17.78     corn sugar   \n",
       "2       Specific Gravity   All Grain       NaN         NaN            NaN   \n",
       "3       Specific Gravity     extract       NaN         NaN            NaN   \n",
       "4       Specific Gravity   All Grain       NaN         NaN            NaN   \n",
       "5       Specific Gravity   All Grain       NaN       19.00     Sukkerlake   \n",
       "\n",
       "         PrimingAmount BeerID  \n",
       "BeerID                         \n",
       "1               4.5 oz      1  \n",
       "2                  NaN      2  \n",
       "3                  NaN      3  \n",
       "4                  NaN      4  \n",
       "5       6-7 g sukker/l      5  \n",
       "\n",
       "[5 rows x 22 columns]"
      ]
     },
     "execution_count": 5,
     "metadata": {},
     "output_type": "execute_result"
    }
   ],
   "source": [
    "beer.head()"
   ]
  },
  {
   "cell_type": "code",
   "execution_count": 6,
   "metadata": {},
   "outputs": [
    {
     "data": {
      "text/plain": [
       "176"
      ]
     },
     "execution_count": 6,
     "metadata": {},
     "output_type": "execute_result"
    }
   ],
   "source": [
    "beer['StyleID'].nunique()"
   ]
  },
  {
   "cell_type": "code",
   "execution_count": 7,
   "metadata": {
    "scrolled": true
   },
   "outputs": [
    {
     "data": {
      "text/html": [
       "<div>\n",
       "<style scoped>\n",
       "    .dataframe tbody tr th:only-of-type {\n",
       "        vertical-align: middle;\n",
       "    }\n",
       "\n",
       "    .dataframe tbody tr th {\n",
       "        vertical-align: top;\n",
       "    }\n",
       "\n",
       "    .dataframe thead th {\n",
       "        text-align: right;\n",
       "    }\n",
       "</style>\n",
       "<table border=\"1\" class=\"dataframe\">\n",
       "  <thead>\n",
       "    <tr style=\"text-align: right;\">\n",
       "      <th></th>\n",
       "      <th>index</th>\n",
       "      <th>Style</th>\n",
       "    </tr>\n",
       "  </thead>\n",
       "  <tbody>\n",
       "    <tr>\n",
       "      <th>0</th>\n",
       "      <td>American IPA</td>\n",
       "      <td>11940</td>\n",
       "    </tr>\n",
       "    <tr>\n",
       "      <th>1</th>\n",
       "      <td>American Pale Ale</td>\n",
       "      <td>7581</td>\n",
       "    </tr>\n",
       "    <tr>\n",
       "      <th>2</th>\n",
       "      <td>Saison</td>\n",
       "      <td>2617</td>\n",
       "    </tr>\n",
       "    <tr>\n",
       "      <th>3</th>\n",
       "      <td>American Light Lager</td>\n",
       "      <td>2277</td>\n",
       "    </tr>\n",
       "    <tr>\n",
       "      <th>4</th>\n",
       "      <td>American Amber Ale</td>\n",
       "      <td>2038</td>\n",
       "    </tr>\n",
       "    <tr>\n",
       "      <th>5</th>\n",
       "      <td>Blonde Ale</td>\n",
       "      <td>1753</td>\n",
       "    </tr>\n",
       "    <tr>\n",
       "      <th>6</th>\n",
       "      <td>Imperial IPA</td>\n",
       "      <td>1478</td>\n",
       "    </tr>\n",
       "    <tr>\n",
       "      <th>7</th>\n",
       "      <td>American Stout</td>\n",
       "      <td>1268</td>\n",
       "    </tr>\n",
       "    <tr>\n",
       "      <th>8</th>\n",
       "      <td>Irish Red Ale</td>\n",
       "      <td>1204</td>\n",
       "    </tr>\n",
       "    <tr>\n",
       "      <th>9</th>\n",
       "      <td>American Brown Ale</td>\n",
       "      <td>1152</td>\n",
       "    </tr>\n",
       "    <tr>\n",
       "      <th>10</th>\n",
       "      <td>Witbier</td>\n",
       "      <td>1072</td>\n",
       "    </tr>\n",
       "    <tr>\n",
       "      <th>11</th>\n",
       "      <td>California Common Beer</td>\n",
       "      <td>1044</td>\n",
       "    </tr>\n",
       "    <tr>\n",
       "      <th>12</th>\n",
       "      <td>Weissbier</td>\n",
       "      <td>988</td>\n",
       "    </tr>\n",
       "    <tr>\n",
       "      <th>13</th>\n",
       "      <td>Oatmeal Stout</td>\n",
       "      <td>961</td>\n",
       "    </tr>\n",
       "    <tr>\n",
       "      <th>14</th>\n",
       "      <td>Russian Imperial Stout</td>\n",
       "      <td>929</td>\n",
       "    </tr>\n",
       "    <tr>\n",
       "      <th>15</th>\n",
       "      <td>Sweet Stout</td>\n",
       "      <td>919</td>\n",
       "    </tr>\n",
       "    <tr>\n",
       "      <th>16</th>\n",
       "      <td>Weizen/Weissbier</td>\n",
       "      <td>919</td>\n",
       "    </tr>\n",
       "    <tr>\n",
       "      <th>17</th>\n",
       "      <td>Robust Porter</td>\n",
       "      <td>897</td>\n",
       "    </tr>\n",
       "    <tr>\n",
       "      <th>18</th>\n",
       "      <td>Kölsch</td>\n",
       "      <td>869</td>\n",
       "    </tr>\n",
       "    <tr>\n",
       "      <th>19</th>\n",
       "      <td>Double IPA</td>\n",
       "      <td>864</td>\n",
       "    </tr>\n",
       "    <tr>\n",
       "      <th>20</th>\n",
       "      <td>Cream Ale</td>\n",
       "      <td>830</td>\n",
       "    </tr>\n",
       "    <tr>\n",
       "      <th>21</th>\n",
       "      <td>American Porter</td>\n",
       "      <td>787</td>\n",
       "    </tr>\n",
       "    <tr>\n",
       "      <th>22</th>\n",
       "      <td>English IPA</td>\n",
       "      <td>784</td>\n",
       "    </tr>\n",
       "    <tr>\n",
       "      <th>23</th>\n",
       "      <td>Imperial Stout</td>\n",
       "      <td>675</td>\n",
       "    </tr>\n",
       "    <tr>\n",
       "      <th>24</th>\n",
       "      <td>Extra Special/Strong Bitter (ESB)</td>\n",
       "      <td>659</td>\n",
       "    </tr>\n",
       "    <tr>\n",
       "      <th>25</th>\n",
       "      <td>American Wheat Beer</td>\n",
       "      <td>654</td>\n",
       "    </tr>\n",
       "    <tr>\n",
       "      <th>26</th>\n",
       "      <td>Specialty IPA: Black IPA</td>\n",
       "      <td>638</td>\n",
       "    </tr>\n",
       "    <tr>\n",
       "      <th>27</th>\n",
       "      <td>Belgian Pale Ale</td>\n",
       "      <td>625</td>\n",
       "    </tr>\n",
       "    <tr>\n",
       "      <th>28</th>\n",
       "      <td>American Wheat or Rye Beer</td>\n",
       "      <td>571</td>\n",
       "    </tr>\n",
       "    <tr>\n",
       "      <th>29</th>\n",
       "      <td>Belgian Tripel</td>\n",
       "      <td>563</td>\n",
       "    </tr>\n",
       "    <tr>\n",
       "      <th>30</th>\n",
       "      <td>Belgian Dark Strong Ale</td>\n",
       "      <td>538</td>\n",
       "    </tr>\n",
       "    <tr>\n",
       "      <th>31</th>\n",
       "      <td>Belgian Dubbel</td>\n",
       "      <td>530</td>\n",
       "    </tr>\n",
       "    <tr>\n",
       "      <th>32</th>\n",
       "      <td>Spice  Herb  or Vegetable Beer</td>\n",
       "      <td>514</td>\n",
       "    </tr>\n",
       "    <tr>\n",
       "      <th>33</th>\n",
       "      <td>Fruit Beer</td>\n",
       "      <td>502</td>\n",
       "    </tr>\n",
       "    <tr>\n",
       "      <th>34</th>\n",
       "      <td>Belgian Blond Ale</td>\n",
       "      <td>496</td>\n",
       "    </tr>\n",
       "    <tr>\n",
       "      <th>35</th>\n",
       "      <td>Dry Stout</td>\n",
       "      <td>484</td>\n",
       "    </tr>\n",
       "    <tr>\n",
       "      <th>36</th>\n",
       "      <td>Strong Bitter</td>\n",
       "      <td>481</td>\n",
       "    </tr>\n",
       "    <tr>\n",
       "      <th>37</th>\n",
       "      <td>German Pilsner (Pils)</td>\n",
       "      <td>466</td>\n",
       "    </tr>\n",
       "    <tr>\n",
       "      <th>38</th>\n",
       "      <td>Specialty IPA: Red IPA</td>\n",
       "      <td>442</td>\n",
       "    </tr>\n",
       "    <tr>\n",
       "      <th>39</th>\n",
       "      <td>Brown Porter</td>\n",
       "      <td>438</td>\n",
       "    </tr>\n",
       "    <tr>\n",
       "      <th>40</th>\n",
       "      <td>Experimental Beer</td>\n",
       "      <td>432</td>\n",
       "    </tr>\n",
       "    <tr>\n",
       "      <th>41</th>\n",
       "      <td>Specialty Beer</td>\n",
       "      <td>430</td>\n",
       "    </tr>\n",
       "    <tr>\n",
       "      <th>42</th>\n",
       "      <td>Belgian Specialty Ale</td>\n",
       "      <td>422</td>\n",
       "    </tr>\n",
       "  </tbody>\n",
       "</table>\n",
       "</div>"
      ],
      "text/plain": [
       "                                index  Style\n",
       "0                        American IPA  11940\n",
       "1                   American Pale Ale   7581\n",
       "2                              Saison   2617\n",
       "3                American Light Lager   2277\n",
       "4                  American Amber Ale   2038\n",
       "5                          Blonde Ale   1753\n",
       "6                        Imperial IPA   1478\n",
       "7                      American Stout   1268\n",
       "8                       Irish Red Ale   1204\n",
       "9                  American Brown Ale   1152\n",
       "10                            Witbier   1072\n",
       "11             California Common Beer   1044\n",
       "12                          Weissbier    988\n",
       "13                      Oatmeal Stout    961\n",
       "14             Russian Imperial Stout    929\n",
       "15                        Sweet Stout    919\n",
       "16                   Weizen/Weissbier    919\n",
       "17                      Robust Porter    897\n",
       "18                             Kölsch    869\n",
       "19                         Double IPA    864\n",
       "20                          Cream Ale    830\n",
       "21                    American Porter    787\n",
       "22                        English IPA    784\n",
       "23                     Imperial Stout    675\n",
       "24  Extra Special/Strong Bitter (ESB)    659\n",
       "25                American Wheat Beer    654\n",
       "26           Specialty IPA: Black IPA    638\n",
       "27                   Belgian Pale Ale    625\n",
       "28         American Wheat or Rye Beer    571\n",
       "29                     Belgian Tripel    563\n",
       "30            Belgian Dark Strong Ale    538\n",
       "31                     Belgian Dubbel    530\n",
       "32     Spice  Herb  or Vegetable Beer    514\n",
       "33                         Fruit Beer    502\n",
       "34                  Belgian Blond Ale    496\n",
       "35                          Dry Stout    484\n",
       "36                      Strong Bitter    481\n",
       "37              German Pilsner (Pils)    466\n",
       "38             Specialty IPA: Red IPA    442\n",
       "39                       Brown Porter    438\n",
       "40                  Experimental Beer    432\n",
       "41                     Specialty Beer    430\n",
       "42              Belgian Specialty Ale    422"
      ]
     },
     "execution_count": 7,
     "metadata": {},
     "output_type": "execute_result"
    }
   ],
   "source": [
    "#What styles have the most data points?\n",
    "stylecounts = pd.DataFrame(beer['Style'].value_counts().reset_index())\n",
    "stylecounts.loc[stylecounts['Style']>400,:]\n"
   ]
  },
  {
   "cell_type": "markdown",
   "metadata": {},
   "source": [
    "There are too many styles to make a strong model. I can experiment with different style groupings to figure out which work best in the model."
   ]
  },
  {
   "cell_type": "code",
   "execution_count": 8,
   "metadata": {},
   "outputs": [
    {
     "data": {
      "text/plain": [
       "Name                 1\n",
       "Style              596\n",
       "BoilGravity       2990\n",
       "MashThickness    29864\n",
       "PitchRate        39252\n",
       "PrimaryTemp      22662\n",
       "PrimingMethod    67095\n",
       "PrimingAmount    69087\n",
       "dtype: int64"
      ]
     },
     "execution_count": 8,
     "metadata": {},
     "output_type": "execute_result"
    }
   ],
   "source": [
    "## Count nulls \n",
    "null_count = beer.isnull().sum()\n",
    "null_count[null_count>0]"
   ]
  },
  {
   "cell_type": "markdown",
   "metadata": {},
   "source": [
    "'PrimingMethod','PrimingAmount'have over 90% nulls and I don't need 'URL', or 'Name'. I can drop them. To see if I can drop the other high-null columns I need to see how strong they correlate with other columns. "
   ]
  },
  {
   "cell_type": "code",
   "execution_count": 9,
   "metadata": {},
   "outputs": [
    {
     "data": {
      "text/html": [
       "<div>\n",
       "<style scoped>\n",
       "    .dataframe tbody tr th:only-of-type {\n",
       "        vertical-align: middle;\n",
       "    }\n",
       "\n",
       "    .dataframe tbody tr th {\n",
       "        vertical-align: top;\n",
       "    }\n",
       "\n",
       "    .dataframe thead th {\n",
       "        text-align: right;\n",
       "    }\n",
       "</style>\n",
       "<table border=\"1\" class=\"dataframe\">\n",
       "  <thead>\n",
       "    <tr style=\"text-align: right;\">\n",
       "      <th></th>\n",
       "      <th>StyleID</th>\n",
       "      <th>Size(L)</th>\n",
       "      <th>OG</th>\n",
       "      <th>FG</th>\n",
       "      <th>ABV</th>\n",
       "      <th>IBU</th>\n",
       "      <th>Color</th>\n",
       "      <th>BoilSize</th>\n",
       "      <th>BoilTime</th>\n",
       "      <th>BoilGravity</th>\n",
       "      <th>Efficiency</th>\n",
       "      <th>MashThickness</th>\n",
       "      <th>PitchRate</th>\n",
       "      <th>PrimaryTemp</th>\n",
       "      <th>BeerID</th>\n",
       "    </tr>\n",
       "  </thead>\n",
       "  <tbody>\n",
       "    <tr>\n",
       "      <th>StyleID</th>\n",
       "      <td>1.000000</td>\n",
       "      <td>-0.006522</td>\n",
       "      <td>0.002699</td>\n",
       "      <td>0.007336</td>\n",
       "      <td>0.006617</td>\n",
       "      <td>-0.141124</td>\n",
       "      <td>0.166669</td>\n",
       "      <td>-0.006301</td>\n",
       "      <td>0.077969</td>\n",
       "      <td>0.002326</td>\n",
       "      <td>0.021515</td>\n",
       "      <td>0.006167</td>\n",
       "      <td>0.079123</td>\n",
       "      <td>-0.019661</td>\n",
       "      <td>-0.074825</td>\n",
       "    </tr>\n",
       "    <tr>\n",
       "      <th>Size(L)</th>\n",
       "      <td>-0.006522</td>\n",
       "      <td>1.000000</td>\n",
       "      <td>0.162237</td>\n",
       "      <td>0.141614</td>\n",
       "      <td>-0.013527</td>\n",
       "      <td>-0.029917</td>\n",
       "      <td>-0.018068</td>\n",
       "      <td>0.994143</td>\n",
       "      <td>0.044848</td>\n",
       "      <td>0.176071</td>\n",
       "      <td>0.108826</td>\n",
       "      <td>0.019246</td>\n",
       "      <td>0.026623</td>\n",
       "      <td>0.004278</td>\n",
       "      <td>0.001924</td>\n",
       "    </tr>\n",
       "    <tr>\n",
       "      <th>OG</th>\n",
       "      <td>0.002699</td>\n",
       "      <td>0.162237</td>\n",
       "      <td>1.000000</td>\n",
       "      <td>0.936347</td>\n",
       "      <td>0.029432</td>\n",
       "      <td>-0.001655</td>\n",
       "      <td>0.013632</td>\n",
       "      <td>0.165162</td>\n",
       "      <td>0.031825</td>\n",
       "      <td>0.968138</td>\n",
       "      <td>0.067610</td>\n",
       "      <td>0.046841</td>\n",
       "      <td>0.020556</td>\n",
       "      <td>0.000518</td>\n",
       "      <td>-0.024895</td>\n",
       "    </tr>\n",
       "    <tr>\n",
       "      <th>FG</th>\n",
       "      <td>0.007336</td>\n",
       "      <td>0.141614</td>\n",
       "      <td>0.936347</td>\n",
       "      <td>1.000000</td>\n",
       "      <td>0.026851</td>\n",
       "      <td>-0.000719</td>\n",
       "      <td>0.029848</td>\n",
       "      <td>0.142974</td>\n",
       "      <td>0.028930</td>\n",
       "      <td>0.908611</td>\n",
       "      <td>0.061173</td>\n",
       "      <td>0.040541</td>\n",
       "      <td>0.013446</td>\n",
       "      <td>0.004477</td>\n",
       "      <td>-0.030662</td>\n",
       "    </tr>\n",
       "    <tr>\n",
       "      <th>ABV</th>\n",
       "      <td>0.006617</td>\n",
       "      <td>-0.013527</td>\n",
       "      <td>0.029432</td>\n",
       "      <td>0.026851</td>\n",
       "      <td>1.000000</td>\n",
       "      <td>0.290889</td>\n",
       "      <td>0.271332</td>\n",
       "      <td>-0.009800</td>\n",
       "      <td>0.120629</td>\n",
       "      <td>0.025421</td>\n",
       "      <td>0.047853</td>\n",
       "      <td>-0.069633</td>\n",
       "      <td>0.132699</td>\n",
       "      <td>0.060065</td>\n",
       "      <td>-0.051921</td>\n",
       "    </tr>\n",
       "    <tr>\n",
       "      <th>IBU</th>\n",
       "      <td>-0.141124</td>\n",
       "      <td>-0.029917</td>\n",
       "      <td>-0.001655</td>\n",
       "      <td>-0.000719</td>\n",
       "      <td>0.290889</td>\n",
       "      <td>1.000000</td>\n",
       "      <td>0.060283</td>\n",
       "      <td>-0.028258</td>\n",
       "      <td>0.078694</td>\n",
       "      <td>-0.007498</td>\n",
       "      <td>-0.033172</td>\n",
       "      <td>-0.044381</td>\n",
       "      <td>0.006180</td>\n",
       "      <td>0.035510</td>\n",
       "      <td>-0.015845</td>\n",
       "    </tr>\n",
       "    <tr>\n",
       "      <th>Color</th>\n",
       "      <td>0.166669</td>\n",
       "      <td>-0.018068</td>\n",
       "      <td>0.013632</td>\n",
       "      <td>0.029848</td>\n",
       "      <td>0.271332</td>\n",
       "      <td>0.060283</td>\n",
       "      <td>1.000000</td>\n",
       "      <td>-0.016798</td>\n",
       "      <td>0.058089</td>\n",
       "      <td>0.013451</td>\n",
       "      <td>-0.017297</td>\n",
       "      <td>-0.038406</td>\n",
       "      <td>0.016061</td>\n",
       "      <td>0.025622</td>\n",
       "      <td>-0.046867</td>\n",
       "    </tr>\n",
       "    <tr>\n",
       "      <th>BoilSize</th>\n",
       "      <td>-0.006301</td>\n",
       "      <td>0.994143</td>\n",
       "      <td>0.165162</td>\n",
       "      <td>0.142974</td>\n",
       "      <td>-0.009800</td>\n",
       "      <td>-0.028258</td>\n",
       "      <td>-0.016798</td>\n",
       "      <td>1.000000</td>\n",
       "      <td>0.051219</td>\n",
       "      <td>0.175972</td>\n",
       "      <td>0.121971</td>\n",
       "      <td>0.017772</td>\n",
       "      <td>0.030936</td>\n",
       "      <td>0.003000</td>\n",
       "      <td>0.002819</td>\n",
       "    </tr>\n",
       "    <tr>\n",
       "      <th>BoilTime</th>\n",
       "      <td>0.077969</td>\n",
       "      <td>0.044848</td>\n",
       "      <td>0.031825</td>\n",
       "      <td>0.028930</td>\n",
       "      <td>0.120629</td>\n",
       "      <td>0.078694</td>\n",
       "      <td>0.058089</td>\n",
       "      <td>0.051219</td>\n",
       "      <td>1.000000</td>\n",
       "      <td>0.026921</td>\n",
       "      <td>0.161295</td>\n",
       "      <td>0.006850</td>\n",
       "      <td>0.190922</td>\n",
       "      <td>-0.079809</td>\n",
       "      <td>-0.044273</td>\n",
       "    </tr>\n",
       "    <tr>\n",
       "      <th>BoilGravity</th>\n",
       "      <td>0.002326</td>\n",
       "      <td>0.176071</td>\n",
       "      <td>0.968138</td>\n",
       "      <td>0.908611</td>\n",
       "      <td>0.025421</td>\n",
       "      <td>-0.007498</td>\n",
       "      <td>0.013451</td>\n",
       "      <td>0.175972</td>\n",
       "      <td>0.026921</td>\n",
       "      <td>1.000000</td>\n",
       "      <td>0.059132</td>\n",
       "      <td>0.050944</td>\n",
       "      <td>0.016216</td>\n",
       "      <td>0.002268</td>\n",
       "      <td>-0.031692</td>\n",
       "    </tr>\n",
       "    <tr>\n",
       "      <th>Efficiency</th>\n",
       "      <td>0.021515</td>\n",
       "      <td>0.108826</td>\n",
       "      <td>0.067610</td>\n",
       "      <td>0.061173</td>\n",
       "      <td>0.047853</td>\n",
       "      <td>-0.033172</td>\n",
       "      <td>-0.017297</td>\n",
       "      <td>0.121971</td>\n",
       "      <td>0.161295</td>\n",
       "      <td>0.059132</td>\n",
       "      <td>1.000000</td>\n",
       "      <td>0.002939</td>\n",
       "      <td>0.146332</td>\n",
       "      <td>-0.071047</td>\n",
       "      <td>-0.011609</td>\n",
       "    </tr>\n",
       "    <tr>\n",
       "      <th>MashThickness</th>\n",
       "      <td>0.006167</td>\n",
       "      <td>0.019246</td>\n",
       "      <td>0.046841</td>\n",
       "      <td>0.040541</td>\n",
       "      <td>-0.069633</td>\n",
       "      <td>-0.044381</td>\n",
       "      <td>-0.038406</td>\n",
       "      <td>0.017772</td>\n",
       "      <td>0.006850</td>\n",
       "      <td>0.050944</td>\n",
       "      <td>0.002939</td>\n",
       "      <td>1.000000</td>\n",
       "      <td>-0.010170</td>\n",
       "      <td>0.007746</td>\n",
       "      <td>0.036604</td>\n",
       "    </tr>\n",
       "    <tr>\n",
       "      <th>PitchRate</th>\n",
       "      <td>0.079123</td>\n",
       "      <td>0.026623</td>\n",
       "      <td>0.020556</td>\n",
       "      <td>0.013446</td>\n",
       "      <td>0.132699</td>\n",
       "      <td>0.006180</td>\n",
       "      <td>0.016061</td>\n",
       "      <td>0.030936</td>\n",
       "      <td>0.190922</td>\n",
       "      <td>0.016216</td>\n",
       "      <td>0.146332</td>\n",
       "      <td>-0.010170</td>\n",
       "      <td>1.000000</td>\n",
       "      <td>-0.295606</td>\n",
       "      <td>-0.032631</td>\n",
       "    </tr>\n",
       "    <tr>\n",
       "      <th>PrimaryTemp</th>\n",
       "      <td>-0.019661</td>\n",
       "      <td>0.004278</td>\n",
       "      <td>0.000518</td>\n",
       "      <td>0.004477</td>\n",
       "      <td>0.060065</td>\n",
       "      <td>0.035510</td>\n",
       "      <td>0.025622</td>\n",
       "      <td>0.003000</td>\n",
       "      <td>-0.079809</td>\n",
       "      <td>0.002268</td>\n",
       "      <td>-0.071047</td>\n",
       "      <td>0.007746</td>\n",
       "      <td>-0.295606</td>\n",
       "      <td>1.000000</td>\n",
       "      <td>0.004569</td>\n",
       "    </tr>\n",
       "    <tr>\n",
       "      <th>BeerID</th>\n",
       "      <td>-0.074825</td>\n",
       "      <td>0.001924</td>\n",
       "      <td>-0.024895</td>\n",
       "      <td>-0.030662</td>\n",
       "      <td>-0.051921</td>\n",
       "      <td>-0.015845</td>\n",
       "      <td>-0.046867</td>\n",
       "      <td>0.002819</td>\n",
       "      <td>-0.044273</td>\n",
       "      <td>-0.031692</td>\n",
       "      <td>-0.011609</td>\n",
       "      <td>0.036604</td>\n",
       "      <td>-0.032631</td>\n",
       "      <td>0.004569</td>\n",
       "      <td>1.000000</td>\n",
       "    </tr>\n",
       "  </tbody>\n",
       "</table>\n",
       "</div>"
      ],
      "text/plain": [
       "                StyleID   Size(L)        OG        FG       ABV       IBU  \\\n",
       "StyleID        1.000000 -0.006522  0.002699  0.007336  0.006617 -0.141124   \n",
       "Size(L)       -0.006522  1.000000  0.162237  0.141614 -0.013527 -0.029917   \n",
       "OG             0.002699  0.162237  1.000000  0.936347  0.029432 -0.001655   \n",
       "FG             0.007336  0.141614  0.936347  1.000000  0.026851 -0.000719   \n",
       "ABV            0.006617 -0.013527  0.029432  0.026851  1.000000  0.290889   \n",
       "IBU           -0.141124 -0.029917 -0.001655 -0.000719  0.290889  1.000000   \n",
       "Color          0.166669 -0.018068  0.013632  0.029848  0.271332  0.060283   \n",
       "BoilSize      -0.006301  0.994143  0.165162  0.142974 -0.009800 -0.028258   \n",
       "BoilTime       0.077969  0.044848  0.031825  0.028930  0.120629  0.078694   \n",
       "BoilGravity    0.002326  0.176071  0.968138  0.908611  0.025421 -0.007498   \n",
       "Efficiency     0.021515  0.108826  0.067610  0.061173  0.047853 -0.033172   \n",
       "MashThickness  0.006167  0.019246  0.046841  0.040541 -0.069633 -0.044381   \n",
       "PitchRate      0.079123  0.026623  0.020556  0.013446  0.132699  0.006180   \n",
       "PrimaryTemp   -0.019661  0.004278  0.000518  0.004477  0.060065  0.035510   \n",
       "BeerID        -0.074825  0.001924 -0.024895 -0.030662 -0.051921 -0.015845   \n",
       "\n",
       "                  Color  BoilSize  BoilTime  BoilGravity  Efficiency  \\\n",
       "StyleID        0.166669 -0.006301  0.077969     0.002326    0.021515   \n",
       "Size(L)       -0.018068  0.994143  0.044848     0.176071    0.108826   \n",
       "OG             0.013632  0.165162  0.031825     0.968138    0.067610   \n",
       "FG             0.029848  0.142974  0.028930     0.908611    0.061173   \n",
       "ABV            0.271332 -0.009800  0.120629     0.025421    0.047853   \n",
       "IBU            0.060283 -0.028258  0.078694    -0.007498   -0.033172   \n",
       "Color          1.000000 -0.016798  0.058089     0.013451   -0.017297   \n",
       "BoilSize      -0.016798  1.000000  0.051219     0.175972    0.121971   \n",
       "BoilTime       0.058089  0.051219  1.000000     0.026921    0.161295   \n",
       "BoilGravity    0.013451  0.175972  0.026921     1.000000    0.059132   \n",
       "Efficiency    -0.017297  0.121971  0.161295     0.059132    1.000000   \n",
       "MashThickness -0.038406  0.017772  0.006850     0.050944    0.002939   \n",
       "PitchRate      0.016061  0.030936  0.190922     0.016216    0.146332   \n",
       "PrimaryTemp    0.025622  0.003000 -0.079809     0.002268   -0.071047   \n",
       "BeerID        -0.046867  0.002819 -0.044273    -0.031692   -0.011609   \n",
       "\n",
       "               MashThickness  PitchRate  PrimaryTemp    BeerID  \n",
       "StyleID             0.006167   0.079123    -0.019661 -0.074825  \n",
       "Size(L)             0.019246   0.026623     0.004278  0.001924  \n",
       "OG                  0.046841   0.020556     0.000518 -0.024895  \n",
       "FG                  0.040541   0.013446     0.004477 -0.030662  \n",
       "ABV                -0.069633   0.132699     0.060065 -0.051921  \n",
       "IBU                -0.044381   0.006180     0.035510 -0.015845  \n",
       "Color              -0.038406   0.016061     0.025622 -0.046867  \n",
       "BoilSize            0.017772   0.030936     0.003000  0.002819  \n",
       "BoilTime            0.006850   0.190922    -0.079809 -0.044273  \n",
       "BoilGravity         0.050944   0.016216     0.002268 -0.031692  \n",
       "Efficiency          0.002939   0.146332    -0.071047 -0.011609  \n",
       "MashThickness       1.000000  -0.010170     0.007746  0.036604  \n",
       "PitchRate          -0.010170   1.000000    -0.295606 -0.032631  \n",
       "PrimaryTemp         0.007746  -0.295606     1.000000  0.004569  \n",
       "BeerID              0.036604  -0.032631     0.004569  1.000000  "
      ]
     },
     "execution_count": 9,
     "metadata": {},
     "output_type": "execute_result"
    }
   ],
   "source": [
    "beer.corr()"
   ]
  },
  {
   "cell_type": "markdown",
   "metadata": {},
   "source": [
    "'OG','BoilGravity','BoilSize' are strongly correlated with other variables. I can drop them. I can keep the high-null columns for now."
   ]
  },
  {
   "cell_type": "code",
   "execution_count": 10,
   "metadata": {},
   "outputs": [],
   "source": [
    "# drop unnecessary and high-null columns\n",
    "beer2 = beer.drop(columns = ['PrimingMethod','PrimingAmount','URL','Name','OG','BoilGravity','BoilSize'])"
   ]
  },
  {
   "cell_type": "markdown",
   "metadata": {},
   "source": [
    "Now I'll try grouping the different styles into larger groups.I'll store them in their own columns."
   ]
  },
  {
   "cell_type": "code",
   "execution_count": 11,
   "metadata": {},
   "outputs": [],
   "source": [
    "v = beer2['IPA'] = (beer['Style'].str.contains(' IPA'))*'IPA'"
   ]
  },
  {
   "cell_type": "code",
   "execution_count": 12,
   "metadata": {},
   "outputs": [],
   "source": [
    "d = beer2['Light Lager'] = (beer['Style'].str.contains('Light Lager'))*'Light '"
   ]
  },
  {
   "cell_type": "code",
   "execution_count": 13,
   "metadata": {},
   "outputs": [],
   "source": [
    "o = beer2['Lager'] = (beer['Style'].str.contains(' Lager|Common |Steam '))*'Lager'"
   ]
  },
  {
   "cell_type": "code",
   "execution_count": 14,
   "metadata": {},
   "outputs": [],
   "source": [
    "f = beer2['Pale Ale'] = (beer['Style'].str.contains('Saison|Strong Bitter|Pale Ale'))*'Pale Ales'"
   ]
  },
  {
   "cell_type": "code",
   "execution_count": 15,
   "metadata": {},
   "outputs": [],
   "source": [
    "k = beer2['Stout-Porter'] = (beer['Style'].str.contains(' Stout| Porter'))*'Stout-Porter' "
   ]
  },
  {
   "cell_type": "code",
   "execution_count": 16,
   "metadata": {},
   "outputs": [],
   "source": [
    "q = beer2['Weissbier'] = (beer['Style'].str.contains('Witbier|Weissbier|Weizenbier|Weizen/Weissbier'))*'Weissbier'"
   ]
  },
  {
   "cell_type": "code",
   "execution_count": 17,
   "metadata": {
    "scrolled": true
   },
   "outputs": [
    {
     "data": {
      "text/plain": [
       "7"
      ]
     },
     "execution_count": 17,
     "metadata": {},
     "output_type": "execute_result"
    }
   ],
   "source": [
    "#add new style groups to form 'kind' of beer column\n",
    "beer2['kind'] = d+f+k+o+q+v+''\n",
    "beer2['kind'].value_counts()\n",
    "beer2['kind'].nunique()"
   ]
  },
  {
   "cell_type": "code",
   "execution_count": 18,
   "metadata": {},
   "outputs": [],
   "source": [
    "def cut_beercols(df):\n",
    "    df2 = pd.DataFrame(df.iloc[:,:-int(df['kind'].nunique())])\n",
    "    df2['kind'] = df['kind']\n",
    "    df2['kind'] =  df2['kind'].replace('',np.nan)\n",
    "    print(df2['kind'].value_counts())\n",
    "    return df2"
   ]
  },
  {
   "cell_type": "code",
   "execution_count": 19,
   "metadata": {},
   "outputs": [
    {
     "name": "stdout",
     "output_type": "stream",
     "text": [
      "IPA             17064\n",
      "Pale Ales       11963\n",
      "Stout-Porter     8654\n",
      "Weissbier        3181\n",
      "Lager            2969\n",
      "Light Lager      2277\n",
      "Name: kind, dtype: int64\n"
     ]
    }
   ],
   "source": [
    "#cut unnecessary style group columns\n",
    "beer3 = cut_beercols(beer2)"
   ]
  },
  {
   "cell_type": "code",
   "execution_count": 20,
   "metadata": {},
   "outputs": [
    {
     "data": {
      "text/html": [
       "<div>\n",
       "<style scoped>\n",
       "    .dataframe tbody tr th:only-of-type {\n",
       "        vertical-align: middle;\n",
       "    }\n",
       "\n",
       "    .dataframe tbody tr th {\n",
       "        vertical-align: top;\n",
       "    }\n",
       "\n",
       "    .dataframe thead th {\n",
       "        text-align: right;\n",
       "    }\n",
       "</style>\n",
       "<table border=\"1\" class=\"dataframe\">\n",
       "  <thead>\n",
       "    <tr style=\"text-align: right;\">\n",
       "      <th></th>\n",
       "      <th>Style</th>\n",
       "      <th>StyleID</th>\n",
       "      <th>Size(L)</th>\n",
       "      <th>FG</th>\n",
       "      <th>ABV</th>\n",
       "      <th>IBU</th>\n",
       "      <th>Color</th>\n",
       "      <th>BoilTime</th>\n",
       "      <th>Efficiency</th>\n",
       "      <th>MashThickness</th>\n",
       "      <th>SugarScale</th>\n",
       "      <th>BrewMethod</th>\n",
       "      <th>PitchRate</th>\n",
       "      <th>PrimaryTemp</th>\n",
       "      <th>BeerID</th>\n",
       "      <th>kind</th>\n",
       "    </tr>\n",
       "    <tr>\n",
       "      <th>BeerID</th>\n",
       "      <th></th>\n",
       "      <th></th>\n",
       "      <th></th>\n",
       "      <th></th>\n",
       "      <th></th>\n",
       "      <th></th>\n",
       "      <th></th>\n",
       "      <th></th>\n",
       "      <th></th>\n",
       "      <th></th>\n",
       "      <th></th>\n",
       "      <th></th>\n",
       "      <th></th>\n",
       "      <th></th>\n",
       "      <th></th>\n",
       "      <th></th>\n",
       "    </tr>\n",
       "  </thead>\n",
       "  <tbody>\n",
       "    <tr>\n",
       "      <th>1</th>\n",
       "      <td>Cream Ale</td>\n",
       "      <td>45</td>\n",
       "      <td>21.77</td>\n",
       "      <td>1.013</td>\n",
       "      <td>5.48</td>\n",
       "      <td>17.65</td>\n",
       "      <td>4.83</td>\n",
       "      <td>75</td>\n",
       "      <td>70.0</td>\n",
       "      <td>NaN</td>\n",
       "      <td>Specific Gravity</td>\n",
       "      <td>All Grain</td>\n",
       "      <td>NaN</td>\n",
       "      <td>17.78</td>\n",
       "      <td>1</td>\n",
       "      <td>NaN</td>\n",
       "    </tr>\n",
       "    <tr>\n",
       "      <th>2</th>\n",
       "      <td>Holiday/Winter Special Spiced Beer</td>\n",
       "      <td>85</td>\n",
       "      <td>20.82</td>\n",
       "      <td>1.021</td>\n",
       "      <td>8.16</td>\n",
       "      <td>60.65</td>\n",
       "      <td>15.64</td>\n",
       "      <td>60</td>\n",
       "      <td>70.0</td>\n",
       "      <td>NaN</td>\n",
       "      <td>Specific Gravity</td>\n",
       "      <td>All Grain</td>\n",
       "      <td>NaN</td>\n",
       "      <td>NaN</td>\n",
       "      <td>2</td>\n",
       "      <td>NaN</td>\n",
       "    </tr>\n",
       "    <tr>\n",
       "      <th>3</th>\n",
       "      <td>American IPA</td>\n",
       "      <td>7</td>\n",
       "      <td>18.93</td>\n",
       "      <td>1.018</td>\n",
       "      <td>5.91</td>\n",
       "      <td>59.25</td>\n",
       "      <td>8.98</td>\n",
       "      <td>60</td>\n",
       "      <td>70.0</td>\n",
       "      <td>NaN</td>\n",
       "      <td>Specific Gravity</td>\n",
       "      <td>extract</td>\n",
       "      <td>NaN</td>\n",
       "      <td>NaN</td>\n",
       "      <td>3</td>\n",
       "      <td>IPA</td>\n",
       "    </tr>\n",
       "    <tr>\n",
       "      <th>4</th>\n",
       "      <td>American IPA</td>\n",
       "      <td>7</td>\n",
       "      <td>22.71</td>\n",
       "      <td>1.017</td>\n",
       "      <td>5.80</td>\n",
       "      <td>54.48</td>\n",
       "      <td>8.50</td>\n",
       "      <td>60</td>\n",
       "      <td>70.0</td>\n",
       "      <td>NaN</td>\n",
       "      <td>Specific Gravity</td>\n",
       "      <td>All Grain</td>\n",
       "      <td>NaN</td>\n",
       "      <td>NaN</td>\n",
       "      <td>4</td>\n",
       "      <td>IPA</td>\n",
       "    </tr>\n",
       "    <tr>\n",
       "      <th>5</th>\n",
       "      <td>Belgian Blond Ale</td>\n",
       "      <td>20</td>\n",
       "      <td>50.00</td>\n",
       "      <td>1.010</td>\n",
       "      <td>6.48</td>\n",
       "      <td>17.84</td>\n",
       "      <td>4.57</td>\n",
       "      <td>90</td>\n",
       "      <td>72.0</td>\n",
       "      <td>NaN</td>\n",
       "      <td>Specific Gravity</td>\n",
       "      <td>All Grain</td>\n",
       "      <td>NaN</td>\n",
       "      <td>19.00</td>\n",
       "      <td>5</td>\n",
       "      <td>NaN</td>\n",
       "    </tr>\n",
       "  </tbody>\n",
       "</table>\n",
       "</div>"
      ],
      "text/plain": [
       "                                     Style  StyleID  Size(L)     FG   ABV  \\\n",
       "BeerID                                                                      \n",
       "1                                Cream Ale       45    21.77  1.013  5.48   \n",
       "2       Holiday/Winter Special Spiced Beer       85    20.82  1.021  8.16   \n",
       "3                             American IPA        7    18.93  1.018  5.91   \n",
       "4                             American IPA        7    22.71  1.017  5.80   \n",
       "5                        Belgian Blond Ale       20    50.00  1.010  6.48   \n",
       "\n",
       "          IBU  Color  BoilTime  Efficiency  MashThickness        SugarScale  \\\n",
       "BeerID                                                                        \n",
       "1       17.65   4.83        75        70.0            NaN  Specific Gravity   \n",
       "2       60.65  15.64        60        70.0            NaN  Specific Gravity   \n",
       "3       59.25   8.98        60        70.0            NaN  Specific Gravity   \n",
       "4       54.48   8.50        60        70.0            NaN  Specific Gravity   \n",
       "5       17.84   4.57        90        72.0            NaN  Specific Gravity   \n",
       "\n",
       "       BrewMethod  PitchRate  PrimaryTemp  BeerID kind  \n",
       "BeerID                                                  \n",
       "1       All Grain        NaN        17.78       1  NaN  \n",
       "2       All Grain        NaN          NaN       2  NaN  \n",
       "3         extract        NaN          NaN       3  IPA  \n",
       "4       All Grain        NaN          NaN       4  IPA  \n",
       "5       All Grain        NaN        19.00       5  NaN  "
      ]
     },
     "execution_count": 20,
     "metadata": {},
     "output_type": "execute_result"
    }
   ],
   "source": [
    "beer3.head()"
   ]
  },
  {
   "cell_type": "markdown",
   "metadata": {},
   "source": [
    "The nan counts for MashThickness, PitchRate and PrimaryTemp are fairly high. We can keep these features if they don't seem skewed toward one style or another."
   ]
  },
  {
   "cell_type": "code",
   "execution_count": 21,
   "metadata": {},
   "outputs": [
    {
     "data": {
      "text/plain": [
       "<seaborn.axisgrid.FacetGrid at 0x1051fc780>"
      ]
     },
     "execution_count": 21,
     "metadata": {},
     "output_type": "execute_result"
    },
    {
     "data": {
      "image/png": "[encoded data removed]",
      "text/plain": [
       "<matplotlib.figure.Figure at 0x1051fc080>"
      ]
     },
     "metadata": {},
     "output_type": "display_data"
    }
   ],
   "source": [
    "#Plot MashThickness value counts over StyleIDs.\n",
    "beergroup = pd.DataFrame(beer3.groupby('StyleID')['MashThickness'].count().reset_index())\n",
    "sns.lmplot(x = 'StyleID', y = 'MashThickness', data = beergroup)"
   ]
  },
  {
   "cell_type": "code",
   "execution_count": 22,
   "metadata": {},
   "outputs": [
    {
     "data": {
      "text/plain": [
       "<seaborn.axisgrid.FacetGrid at 0x10b45b828>"
      ]
     },
     "execution_count": 22,
     "metadata": {},
     "output_type": "execute_result"
    },
    {
     "data": {
      "image/png": "[encoded data removed]",
      "text/plain": [
       "<matplotlib.figure.Figure at 0x10b45b668>"
      ]
     },
     "metadata": {},
     "output_type": "display_data"
    }
   ],
   "source": [
    "#Plot PrimaryTemp value counts over StyleIDs.\n",
    "beergroup2 = pd.DataFrame(beer3.groupby('StyleID')['PrimaryTemp'].count().reset_index())\n",
    "sns.lmplot(x = 'StyleID', y = 'PrimaryTemp', data = beergroup2)"
   ]
  },
  {
   "cell_type": "code",
   "execution_count": 23,
   "metadata": {},
   "outputs": [
    {
     "data": {
      "text/plain": [
       "<seaborn.axisgrid.FacetGrid at 0x10c3cafd0>"
      ]
     },
     "execution_count": 23,
     "metadata": {},
     "output_type": "execute_result"
    },
    {
     "data": {
      "image/png": "[encoded data removed]",
      "text/plain": [
       "<matplotlib.figure.Figure at 0x10c3ca358>"
      ]
     },
     "metadata": {},
     "output_type": "display_data"
    }
   ],
   "source": [
    "#Plot PitchRate value counts over StyleIDs.\n",
    "beergroup3 = pd.DataFrame(beer3.groupby('StyleID')['PitchRate'].count().reset_index())\n",
    "sns.lmplot(x = 'StyleID', y = 'PitchRate', data = beergroup3)"
   ]
  },
  {
   "cell_type": "markdown",
   "metadata": {},
   "source": [
    "The data-points for all of these high-nan variables seem to be pretty consistent across styles. These columns could be useful. Now how do I fill nan? Let me check the distributions for each variable for each kind of beer."
   ]
  },
  {
   "cell_type": "code",
   "execution_count": 24,
   "metadata": {},
   "outputs": [
    {
     "data": {
      "text/plain": [
       "Index([nan, 'IPA', 'Pale Ales', 'Stout-Porter', 'Lager', 'Weissbier',\n",
       "       'Light Lager'],\n",
       "      dtype='object', name='kind')"
      ]
     },
     "execution_count": 24,
     "metadata": {},
     "output_type": "execute_result"
    }
   ],
   "source": [
    "beerind = beer3.set_index('kind')\n",
    "beerind.index.unique()\n",
    "\n"
   ]
  },
  {
   "cell_type": "code",
   "execution_count": 25,
   "metadata": {},
   "outputs": [
    {
     "data": {
      "text/plain": [
       "<matplotlib.axes._subplots.AxesSubplot at 0x10f88ff60>"
      ]
     },
     "execution_count": 25,
     "metadata": {},
     "output_type": "execute_result"
    },
    {
     "data": {
      "image/png": "[encoded data removed]",
      "text/plain": [
       "<matplotlib.figure.Figure at 0x10c4a1fd0>"
      ]
     },
     "metadata": {},
     "output_type": "display_data"
    }
   ],
   "source": [
    "#boxplot of PrimaryTemp for each beer category\n",
    "sns.boxplot(x =beerind.index, y = 'PrimaryTemp', data = beerind)"
   ]
  },
  {
   "cell_type": "code",
   "execution_count": 26,
   "metadata": {},
   "outputs": [
    {
     "data": {
      "text/plain": [
       "<matplotlib.axes._subplots.AxesSubplot at 0x10c67a390>"
      ]
     },
     "execution_count": 26,
     "metadata": {},
     "output_type": "execute_result"
    },
    {
     "data": {
      "image/png": "[encoded data removed]",
      "text/plain": [
       "<matplotlib.figure.Figure at 0x10bd51400>"
      ]
     },
     "metadata": {},
     "output_type": "display_data"
    }
   ],
   "source": [
    "#boxplot of PrimaryTemp for each beer category\n",
    "sns.boxplot(x =beerind.index, y = 'MashThickness', data = beerind)"
   ]
  },
  {
   "cell_type": "code",
   "execution_count": 27,
   "metadata": {
    "scrolled": true
   },
   "outputs": [
    {
     "data": {
      "text/plain": [
       "<matplotlib.axes._subplots.AxesSubplot at 0x10c4f9c18>"
      ]
     },
     "execution_count": 27,
     "metadata": {},
     "output_type": "execute_result"
    },
    {
     "data": {
      "image/png": "[encoded data removed]",
      "text/plain": [
       "<matplotlib.figure.Figure at 0x10eeb30f0>"
      ]
     },
     "metadata": {},
     "output_type": "display_data"
    }
   ],
   "source": [
    "#boxplot of PrimaryTemp for each beer category\n",
    "sns.boxplot(x =beerind.index, y = 'PitchRate', data = beerind)\n",
    "#Median is probably best for PitchRate because of Pale Ales, and Weissbier. Otherwise I could use mean."
   ]
  },
  {
   "cell_type": "markdown",
   "metadata": {},
   "source": [
    "It looks like the best choice is to fill with the variable median for each category of beer, as there are a lot of outliers."
   ]
  },
  {
   "cell_type": "code",
   "execution_count": 28,
   "metadata": {},
   "outputs": [
    {
     "data": {
      "text/plain": [
       "['IPA', 'Pale Ales', 'Stout-Porter', 'Lager', 'Weissbier', 'Light Lager']"
      ]
     },
     "execution_count": 28,
     "metadata": {},
     "output_type": "execute_result"
    }
   ],
   "source": [
    "# make list of beers to iterate over\n",
    "beerlist =list(beerind.index.unique())\n",
    "beerlist.remove(np.nan)\n",
    "beerlist"
   ]
  },
  {
   "cell_type": "code",
   "execution_count": 29,
   "metadata": {},
   "outputs": [],
   "source": [
    "#make list of column to iterate over\n",
    "columnlist = ['PrimaryTemp','PitchRate','MashThickness']"
   ]
  },
  {
   "cell_type": "code",
   "execution_count": 30,
   "metadata": {},
   "outputs": [],
   "source": [
    "def fill_median(df,columnlist,beerlist):\n",
    "    for j in columnlist:\n",
    "        fin = pd.DataFrame(None)\n",
    "        for i in beerlist:\n",
    "            df2 = df.set_index('kind')\n",
    "            medians= pd.DataFrame(df2.loc[i,:].median(axis =0,numeric_only = True))\n",
    "            result = df2.loc[i,:][[j,'BeerID']].fillna(int(medians.loc[j]))\n",
    "            fin = pd.concat([fin,result])\n",
    "        df = df.merge(fin, how = 'inner', on ='BeerID')\n",
    "    df = df.drop(columns=['MashThickness_x','PitchRate_x','PrimaryTemp_x'])    \n",
    "    return df"
   ]
  },
  {
   "cell_type": "code",
   "execution_count": 31,
   "metadata": {},
   "outputs": [],
   "source": [
    "#fill variables nans with variable medians for each beer\n",
    "beer4 = fill_median(beer3,columnlist,beerlist)"
   ]
  },
  {
   "cell_type": "code",
   "execution_count": 32,
   "metadata": {},
   "outputs": [
    {
     "data": {
      "text/plain": [
       "(46108, 16)"
      ]
     },
     "execution_count": 32,
     "metadata": {},
     "output_type": "execute_result"
    }
   ],
   "source": [
    "beer4.shape"
   ]
  },
  {
   "cell_type": "code",
   "execution_count": 33,
   "metadata": {},
   "outputs": [
    {
     "data": {
      "text/html": [
       "<div>\n",
       "<style scoped>\n",
       "    .dataframe tbody tr th:only-of-type {\n",
       "        vertical-align: middle;\n",
       "    }\n",
       "\n",
       "    .dataframe tbody tr th {\n",
       "        vertical-align: top;\n",
       "    }\n",
       "\n",
       "    .dataframe thead th {\n",
       "        text-align: right;\n",
       "    }\n",
       "</style>\n",
       "<table border=\"1\" class=\"dataframe\">\n",
       "  <thead>\n",
       "    <tr style=\"text-align: right;\">\n",
       "      <th></th>\n",
       "      <th>Style</th>\n",
       "      <th>StyleID</th>\n",
       "      <th>Size(L)</th>\n",
       "      <th>FG</th>\n",
       "      <th>ABV</th>\n",
       "      <th>IBU</th>\n",
       "      <th>Color</th>\n",
       "      <th>BoilTime</th>\n",
       "      <th>Efficiency</th>\n",
       "      <th>SugarScale</th>\n",
       "      <th>BrewMethod</th>\n",
       "      <th>BeerID</th>\n",
       "      <th>kind</th>\n",
       "      <th>PrimaryTemp_y</th>\n",
       "      <th>PitchRate_y</th>\n",
       "      <th>MashThickness_y</th>\n",
       "    </tr>\n",
       "  </thead>\n",
       "  <tbody>\n",
       "    <tr>\n",
       "      <th>0</th>\n",
       "      <td>American IPA</td>\n",
       "      <td>7</td>\n",
       "      <td>18.93</td>\n",
       "      <td>1.018</td>\n",
       "      <td>5.91</td>\n",
       "      <td>59.25</td>\n",
       "      <td>8.98</td>\n",
       "      <td>60</td>\n",
       "      <td>70.0</td>\n",
       "      <td>Specific Gravity</td>\n",
       "      <td>extract</td>\n",
       "      <td>3</td>\n",
       "      <td>IPA</td>\n",
       "      <td>20.0</td>\n",
       "      <td>0.0</td>\n",
       "      <td>1.0</td>\n",
       "    </tr>\n",
       "    <tr>\n",
       "      <th>1</th>\n",
       "      <td>American IPA</td>\n",
       "      <td>7</td>\n",
       "      <td>22.71</td>\n",
       "      <td>1.017</td>\n",
       "      <td>5.80</td>\n",
       "      <td>54.48</td>\n",
       "      <td>8.50</td>\n",
       "      <td>60</td>\n",
       "      <td>70.0</td>\n",
       "      <td>Specific Gravity</td>\n",
       "      <td>All Grain</td>\n",
       "      <td>4</td>\n",
       "      <td>IPA</td>\n",
       "      <td>20.0</td>\n",
       "      <td>0.0</td>\n",
       "      <td>1.0</td>\n",
       "    </tr>\n",
       "    <tr>\n",
       "      <th>2</th>\n",
       "      <td>American Pale Ale</td>\n",
       "      <td>10</td>\n",
       "      <td>24.61</td>\n",
       "      <td>1.013</td>\n",
       "      <td>5.58</td>\n",
       "      <td>40.12</td>\n",
       "      <td>8.00</td>\n",
       "      <td>70</td>\n",
       "      <td>79.0</td>\n",
       "      <td>Specific Gravity</td>\n",
       "      <td>All Grain</td>\n",
       "      <td>6</td>\n",
       "      <td>Pale Ales</td>\n",
       "      <td>20.0</td>\n",
       "      <td>1.0</td>\n",
       "      <td>1.0</td>\n",
       "    </tr>\n",
       "    <tr>\n",
       "      <th>3</th>\n",
       "      <td>Imperial IPA</td>\n",
       "      <td>86</td>\n",
       "      <td>22.71</td>\n",
       "      <td>1.018</td>\n",
       "      <td>7.09</td>\n",
       "      <td>268.71</td>\n",
       "      <td>6.33</td>\n",
       "      <td>90</td>\n",
       "      <td>75.0</td>\n",
       "      <td>Specific Gravity</td>\n",
       "      <td>All Grain</td>\n",
       "      <td>7</td>\n",
       "      <td>IPA</td>\n",
       "      <td>20.0</td>\n",
       "      <td>0.0</td>\n",
       "      <td>1.0</td>\n",
       "    </tr>\n",
       "    <tr>\n",
       "      <th>4</th>\n",
       "      <td>Robust Porter</td>\n",
       "      <td>129</td>\n",
       "      <td>22.71</td>\n",
       "      <td>1.016</td>\n",
       "      <td>5.77</td>\n",
       "      <td>31.63</td>\n",
       "      <td>34.76</td>\n",
       "      <td>75</td>\n",
       "      <td>73.0</td>\n",
       "      <td>Specific Gravity</td>\n",
       "      <td>All Grain</td>\n",
       "      <td>9</td>\n",
       "      <td>Stout-Porter</td>\n",
       "      <td>20.0</td>\n",
       "      <td>0.0</td>\n",
       "      <td>1.0</td>\n",
       "    </tr>\n",
       "  </tbody>\n",
       "</table>\n",
       "</div>"
      ],
      "text/plain": [
       "               Style  StyleID  Size(L)     FG   ABV     IBU  Color  BoilTime  \\\n",
       "0       American IPA        7    18.93  1.018  5.91   59.25   8.98        60   \n",
       "1       American IPA        7    22.71  1.017  5.80   54.48   8.50        60   \n",
       "2  American Pale Ale       10    24.61  1.013  5.58   40.12   8.00        70   \n",
       "3       Imperial IPA       86    22.71  1.018  7.09  268.71   6.33        90   \n",
       "4      Robust Porter      129    22.71  1.016  5.77   31.63  34.76        75   \n",
       "\n",
       "   Efficiency        SugarScale BrewMethod  BeerID          kind  \\\n",
       "0        70.0  Specific Gravity    extract       3           IPA   \n",
       "1        70.0  Specific Gravity  All Grain       4           IPA   \n",
       "2        79.0  Specific Gravity  All Grain       6     Pale Ales   \n",
       "3        75.0  Specific Gravity  All Grain       7           IPA   \n",
       "4        73.0  Specific Gravity  All Grain       9  Stout-Porter   \n",
       "\n",
       "   PrimaryTemp_y  PitchRate_y  MashThickness_y  \n",
       "0           20.0          0.0              1.0  \n",
       "1           20.0          0.0              1.0  \n",
       "2           20.0          1.0              1.0  \n",
       "3           20.0          0.0              1.0  \n",
       "4           20.0          0.0              1.0  "
      ]
     },
     "execution_count": 33,
     "metadata": {},
     "output_type": "execute_result"
    }
   ],
   "source": [
    "beer4.head()"
   ]
  },
  {
   "cell_type": "markdown",
   "metadata": {},
   "source": [
    "Finally I can drop all the empty fields from the 'kind' column I created and see how many rows I have left."
   ]
  },
  {
   "cell_type": "code",
   "execution_count": 34,
   "metadata": {},
   "outputs": [],
   "source": [
    "beer4 = pd.DataFrame(beer4.dropna(how = 'any',axis = 0))"
   ]
  },
  {
   "cell_type": "code",
   "execution_count": 35,
   "metadata": {},
   "outputs": [
    {
     "data": {
      "text/plain": [
       "(46108, 16)"
      ]
     },
     "execution_count": 35,
     "metadata": {},
     "output_type": "execute_result"
    }
   ],
   "source": [
    "beer4.shape"
   ]
  },
  {
   "cell_type": "markdown",
   "metadata": {},
   "source": [
    "Now I'll get_dummies to prepare for modeling."
   ]
  },
  {
   "cell_type": "code",
   "execution_count": 36,
   "metadata": {},
   "outputs": [],
   "source": [
    "beer4dum = pd.get_dummies(beer4.drop(columns = ['kind','Style','StyleID','BeerID']))"
   ]
  },
  {
   "cell_type": "code",
   "execution_count": 37,
   "metadata": {},
   "outputs": [
    {
     "data": {
      "text/html": [
       "<div>\n",
       "<style scoped>\n",
       "    .dataframe tbody tr th:only-of-type {\n",
       "        vertical-align: middle;\n",
       "    }\n",
       "\n",
       "    .dataframe tbody tr th {\n",
       "        vertical-align: top;\n",
       "    }\n",
       "\n",
       "    .dataframe thead th {\n",
       "        text-align: right;\n",
       "    }\n",
       "</style>\n",
       "<table border=\"1\" class=\"dataframe\">\n",
       "  <thead>\n",
       "    <tr style=\"text-align: right;\">\n",
       "      <th></th>\n",
       "      <th>Size(L)</th>\n",
       "      <th>FG</th>\n",
       "      <th>ABV</th>\n",
       "      <th>IBU</th>\n",
       "      <th>Color</th>\n",
       "      <th>BoilTime</th>\n",
       "      <th>Efficiency</th>\n",
       "      <th>PrimaryTemp_y</th>\n",
       "      <th>PitchRate_y</th>\n",
       "      <th>MashThickness_y</th>\n",
       "      <th>SugarScale_Plato</th>\n",
       "      <th>SugarScale_Specific Gravity</th>\n",
       "      <th>BrewMethod_All Grain</th>\n",
       "      <th>BrewMethod_BIAB</th>\n",
       "      <th>BrewMethod_Partial Mash</th>\n",
       "      <th>BrewMethod_extract</th>\n",
       "    </tr>\n",
       "  </thead>\n",
       "  <tbody>\n",
       "    <tr>\n",
       "      <th>Size(L)</th>\n",
       "      <td>1.000000</td>\n",
       "      <td>0.145858</td>\n",
       "      <td>-0.011983</td>\n",
       "      <td>-0.037171</td>\n",
       "      <td>-0.015942</td>\n",
       "      <td>0.047806</td>\n",
       "      <td>0.112073</td>\n",
       "      <td>-0.006461</td>\n",
       "      <td>0.004494</td>\n",
       "      <td>0.056261</td>\n",
       "      <td>0.170789</td>\n",
       "      <td>-0.170789</td>\n",
       "      <td>0.091471</td>\n",
       "      <td>-0.058586</td>\n",
       "      <td>-0.026242</td>\n",
       "      <td>-0.048820</td>\n",
       "    </tr>\n",
       "    <tr>\n",
       "      <th>FG</th>\n",
       "      <td>0.145858</td>\n",
       "      <td>1.000000</td>\n",
       "      <td>0.030339</td>\n",
       "      <td>-0.003165</td>\n",
       "      <td>0.038722</td>\n",
       "      <td>0.031166</td>\n",
       "      <td>0.063970</td>\n",
       "      <td>-0.000457</td>\n",
       "      <td>-0.002366</td>\n",
       "      <td>0.063858</td>\n",
       "      <td>0.893072</td>\n",
       "      <td>-0.893072</td>\n",
       "      <td>0.070110</td>\n",
       "      <td>-0.040695</td>\n",
       "      <td>-0.021834</td>\n",
       "      <td>-0.041166</td>\n",
       "    </tr>\n",
       "    <tr>\n",
       "      <th>ABV</th>\n",
       "      <td>-0.011983</td>\n",
       "      <td>0.030339</td>\n",
       "      <td>1.000000</td>\n",
       "      <td>0.351587</td>\n",
       "      <td>0.280718</td>\n",
       "      <td>0.130417</td>\n",
       "      <td>0.069154</td>\n",
       "      <td>0.050337</td>\n",
       "      <td>0.063597</td>\n",
       "      <td>-0.044493</td>\n",
       "      <td>-0.009304</td>\n",
       "      <td>0.009304</td>\n",
       "      <td>0.031401</td>\n",
       "      <td>-0.022994</td>\n",
       "      <td>0.005087</td>\n",
       "      <td>-0.022639</td>\n",
       "    </tr>\n",
       "    <tr>\n",
       "      <th>IBU</th>\n",
       "      <td>-0.037171</td>\n",
       "      <td>-0.003165</td>\n",
       "      <td>0.351587</td>\n",
       "      <td>1.000000</td>\n",
       "      <td>0.020664</td>\n",
       "      <td>0.085959</td>\n",
       "      <td>-0.031789</td>\n",
       "      <td>0.039167</td>\n",
       "      <td>0.026747</td>\n",
       "      <td>-0.044875</td>\n",
       "      <td>-0.018287</td>\n",
       "      <td>0.018287</td>\n",
       "      <td>-0.005016</td>\n",
       "      <td>-0.009507</td>\n",
       "      <td>0.001741</td>\n",
       "      <td>0.017202</td>\n",
       "    </tr>\n",
       "    <tr>\n",
       "      <th>Color</th>\n",
       "      <td>-0.015942</td>\n",
       "      <td>0.038722</td>\n",
       "      <td>0.280718</td>\n",
       "      <td>0.020664</td>\n",
       "      <td>1.000000</td>\n",
       "      <td>0.063759</td>\n",
       "      <td>-0.012299</td>\n",
       "      <td>0.023177</td>\n",
       "      <td>-0.013976</td>\n",
       "      <td>-0.028730</td>\n",
       "      <td>0.000612</td>\n",
       "      <td>-0.000612</td>\n",
       "      <td>0.008667</td>\n",
       "      <td>-0.012555</td>\n",
       "      <td>0.019614</td>\n",
       "      <td>-0.010969</td>\n",
       "    </tr>\n",
       "    <tr>\n",
       "      <th>BoilTime</th>\n",
       "      <td>0.047806</td>\n",
       "      <td>0.031166</td>\n",
       "      <td>0.130417</td>\n",
       "      <td>0.085959</td>\n",
       "      <td>0.063759</td>\n",
       "      <td>1.000000</td>\n",
       "      <td>0.161050</td>\n",
       "      <td>-0.020627</td>\n",
       "      <td>0.111432</td>\n",
       "      <td>0.062922</td>\n",
       "      <td>0.028209</td>\n",
       "      <td>-0.028209</td>\n",
       "      <td>0.159945</td>\n",
       "      <td>-0.023679</td>\n",
       "      <td>-0.060963</td>\n",
       "      <td>-0.166670</td>\n",
       "    </tr>\n",
       "    <tr>\n",
       "      <th>Efficiency</th>\n",
       "      <td>0.112073</td>\n",
       "      <td>0.063970</td>\n",
       "      <td>0.069154</td>\n",
       "      <td>-0.031789</td>\n",
       "      <td>-0.012299</td>\n",
       "      <td>0.161050</td>\n",
       "      <td>1.000000</td>\n",
       "      <td>-0.040675</td>\n",
       "      <td>0.078049</td>\n",
       "      <td>0.156375</td>\n",
       "      <td>0.071481</td>\n",
       "      <td>-0.071481</td>\n",
       "      <td>0.460448</td>\n",
       "      <td>0.094318</td>\n",
       "      <td>-0.100881</td>\n",
       "      <td>-0.716663</td>\n",
       "    </tr>\n",
       "    <tr>\n",
       "      <th>PrimaryTemp_y</th>\n",
       "      <td>-0.006461</td>\n",
       "      <td>-0.000457</td>\n",
       "      <td>0.050337</td>\n",
       "      <td>0.039167</td>\n",
       "      <td>0.023177</td>\n",
       "      <td>-0.020627</td>\n",
       "      <td>-0.040675</td>\n",
       "      <td>1.000000</td>\n",
       "      <td>-0.226866</td>\n",
       "      <td>-0.003252</td>\n",
       "      <td>-0.008066</td>\n",
       "      <td>0.008066</td>\n",
       "      <td>-0.011892</td>\n",
       "      <td>-0.015732</td>\n",
       "      <td>0.013222</td>\n",
       "      <td>0.026957</td>\n",
       "    </tr>\n",
       "    <tr>\n",
       "      <th>PitchRate_y</th>\n",
       "      <td>0.004494</td>\n",
       "      <td>-0.002366</td>\n",
       "      <td>0.063597</td>\n",
       "      <td>0.026747</td>\n",
       "      <td>-0.013976</td>\n",
       "      <td>0.111432</td>\n",
       "      <td>0.078049</td>\n",
       "      <td>-0.226866</td>\n",
       "      <td>1.000000</td>\n",
       "      <td>0.012355</td>\n",
       "      <td>0.002399</td>\n",
       "      <td>-0.002399</td>\n",
       "      <td>0.062085</td>\n",
       "      <td>0.005638</td>\n",
       "      <td>-0.036719</td>\n",
       "      <td>-0.073323</td>\n",
       "    </tr>\n",
       "    <tr>\n",
       "      <th>MashThickness_y</th>\n",
       "      <td>0.056261</td>\n",
       "      <td>0.063858</td>\n",
       "      <td>-0.044493</td>\n",
       "      <td>-0.044875</td>\n",
       "      <td>-0.028730</td>\n",
       "      <td>0.062922</td>\n",
       "      <td>0.156375</td>\n",
       "      <td>-0.003252</td>\n",
       "      <td>0.012355</td>\n",
       "      <td>1.000000</td>\n",
       "      <td>0.081845</td>\n",
       "      <td>-0.081845</td>\n",
       "      <td>0.342250</td>\n",
       "      <td>-0.217944</td>\n",
       "      <td>-0.107713</td>\n",
       "      <td>-0.177897</td>\n",
       "    </tr>\n",
       "    <tr>\n",
       "      <th>SugarScale_Plato</th>\n",
       "      <td>0.170789</td>\n",
       "      <td>0.893072</td>\n",
       "      <td>-0.009304</td>\n",
       "      <td>-0.018287</td>\n",
       "      <td>0.000612</td>\n",
       "      <td>0.028209</td>\n",
       "      <td>0.071481</td>\n",
       "      <td>-0.008066</td>\n",
       "      <td>0.002399</td>\n",
       "      <td>0.081845</td>\n",
       "      <td>1.000000</td>\n",
       "      <td>-1.000000</td>\n",
       "      <td>0.077891</td>\n",
       "      <td>-0.044093</td>\n",
       "      <td>-0.026194</td>\n",
       "      <td>-0.045763</td>\n",
       "    </tr>\n",
       "    <tr>\n",
       "      <th>SugarScale_Specific Gravity</th>\n",
       "      <td>-0.170789</td>\n",
       "      <td>-0.893072</td>\n",
       "      <td>0.009304</td>\n",
       "      <td>0.018287</td>\n",
       "      <td>-0.000612</td>\n",
       "      <td>-0.028209</td>\n",
       "      <td>-0.071481</td>\n",
       "      <td>0.008066</td>\n",
       "      <td>-0.002399</td>\n",
       "      <td>-0.081845</td>\n",
       "      <td>-1.000000</td>\n",
       "      <td>1.000000</td>\n",
       "      <td>-0.077891</td>\n",
       "      <td>0.044093</td>\n",
       "      <td>0.026194</td>\n",
       "      <td>0.045763</td>\n",
       "    </tr>\n",
       "    <tr>\n",
       "      <th>BrewMethod_All Grain</th>\n",
       "      <td>0.091471</td>\n",
       "      <td>0.070110</td>\n",
       "      <td>0.031401</td>\n",
       "      <td>-0.005016</td>\n",
       "      <td>0.008667</td>\n",
       "      <td>0.159945</td>\n",
       "      <td>0.460448</td>\n",
       "      <td>-0.011892</td>\n",
       "      <td>0.062085</td>\n",
       "      <td>0.342250</td>\n",
       "      <td>0.077891</td>\n",
       "      <td>-0.077891</td>\n",
       "      <td>1.000000</td>\n",
       "      <td>-0.636799</td>\n",
       "      <td>-0.314719</td>\n",
       "      <td>-0.519787</td>\n",
       "    </tr>\n",
       "    <tr>\n",
       "      <th>BrewMethod_BIAB</th>\n",
       "      <td>-0.058586</td>\n",
       "      <td>-0.040695</td>\n",
       "      <td>-0.022994</td>\n",
       "      <td>-0.009507</td>\n",
       "      <td>-0.012555</td>\n",
       "      <td>-0.023679</td>\n",
       "      <td>0.094318</td>\n",
       "      <td>-0.015732</td>\n",
       "      <td>0.005638</td>\n",
       "      <td>-0.217944</td>\n",
       "      <td>-0.044093</td>\n",
       "      <td>0.044093</td>\n",
       "      <td>-0.636799</td>\n",
       "      <td>1.000000</td>\n",
       "      <td>-0.098048</td>\n",
       "      <td>-0.161935</td>\n",
       "    </tr>\n",
       "    <tr>\n",
       "      <th>BrewMethod_Partial Mash</th>\n",
       "      <td>-0.026242</td>\n",
       "      <td>-0.021834</td>\n",
       "      <td>0.005087</td>\n",
       "      <td>0.001741</td>\n",
       "      <td>0.019614</td>\n",
       "      <td>-0.060963</td>\n",
       "      <td>-0.100881</td>\n",
       "      <td>0.013222</td>\n",
       "      <td>-0.036719</td>\n",
       "      <td>-0.107713</td>\n",
       "      <td>-0.026194</td>\n",
       "      <td>0.026194</td>\n",
       "      <td>-0.314719</td>\n",
       "      <td>-0.098048</td>\n",
       "      <td>1.000000</td>\n",
       "      <td>-0.080031</td>\n",
       "    </tr>\n",
       "    <tr>\n",
       "      <th>BrewMethod_extract</th>\n",
       "      <td>-0.048820</td>\n",
       "      <td>-0.041166</td>\n",
       "      <td>-0.022639</td>\n",
       "      <td>0.017202</td>\n",
       "      <td>-0.010969</td>\n",
       "      <td>-0.166670</td>\n",
       "      <td>-0.716663</td>\n",
       "      <td>0.026957</td>\n",
       "      <td>-0.073323</td>\n",
       "      <td>-0.177897</td>\n",
       "      <td>-0.045763</td>\n",
       "      <td>0.045763</td>\n",
       "      <td>-0.519787</td>\n",
       "      <td>-0.161935</td>\n",
       "      <td>-0.080031</td>\n",
       "      <td>1.000000</td>\n",
       "    </tr>\n",
       "  </tbody>\n",
       "</table>\n",
       "</div>"
      ],
      "text/plain": [
       "                              Size(L)        FG       ABV       IBU     Color  \\\n",
       "Size(L)                      1.000000  0.145858 -0.011983 -0.037171 -0.015942   \n",
       "FG                           0.145858  1.000000  0.030339 -0.003165  0.038722   \n",
       "ABV                         -0.011983  0.030339  1.000000  0.351587  0.280718   \n",
       "IBU                         -0.037171 -0.003165  0.351587  1.000000  0.020664   \n",
       "Color                       -0.015942  0.038722  0.280718  0.020664  1.000000   \n",
       "BoilTime                     0.047806  0.031166  0.130417  0.085959  0.063759   \n",
       "Efficiency                   0.112073  0.063970  0.069154 -0.031789 -0.012299   \n",
       "PrimaryTemp_y               -0.006461 -0.000457  0.050337  0.039167  0.023177   \n",
       "PitchRate_y                  0.004494 -0.002366  0.063597  0.026747 -0.013976   \n",
       "MashThickness_y              0.056261  0.063858 -0.044493 -0.044875 -0.028730   \n",
       "SugarScale_Plato             0.170789  0.893072 -0.009304 -0.018287  0.000612   \n",
       "SugarScale_Specific Gravity -0.170789 -0.893072  0.009304  0.018287 -0.000612   \n",
       "BrewMethod_All Grain         0.091471  0.070110  0.031401 -0.005016  0.008667   \n",
       "BrewMethod_BIAB             -0.058586 -0.040695 -0.022994 -0.009507 -0.012555   \n",
       "BrewMethod_Partial Mash     -0.026242 -0.021834  0.005087  0.001741  0.019614   \n",
       "BrewMethod_extract          -0.048820 -0.041166 -0.022639  0.017202 -0.010969   \n",
       "\n",
       "                             BoilTime  Efficiency  PrimaryTemp_y  PitchRate_y  \\\n",
       "Size(L)                      0.047806    0.112073      -0.006461     0.004494   \n",
       "FG                           0.031166    0.063970      -0.000457    -0.002366   \n",
       "ABV                          0.130417    0.069154       0.050337     0.063597   \n",
       "IBU                          0.085959   -0.031789       0.039167     0.026747   \n",
       "Color                        0.063759   -0.012299       0.023177    -0.013976   \n",
       "BoilTime                     1.000000    0.161050      -0.020627     0.111432   \n",
       "Efficiency                   0.161050    1.000000      -0.040675     0.078049   \n",
       "PrimaryTemp_y               -0.020627   -0.040675       1.000000    -0.226866   \n",
       "PitchRate_y                  0.111432    0.078049      -0.226866     1.000000   \n",
       "MashThickness_y              0.062922    0.156375      -0.003252     0.012355   \n",
       "SugarScale_Plato             0.028209    0.071481      -0.008066     0.002399   \n",
       "SugarScale_Specific Gravity -0.028209   -0.071481       0.008066    -0.002399   \n",
       "BrewMethod_All Grain         0.159945    0.460448      -0.011892     0.062085   \n",
       "BrewMethod_BIAB             -0.023679    0.094318      -0.015732     0.005638   \n",
       "BrewMethod_Partial Mash     -0.060963   -0.100881       0.013222    -0.036719   \n",
       "BrewMethod_extract          -0.166670   -0.716663       0.026957    -0.073323   \n",
       "\n",
       "                             MashThickness_y  SugarScale_Plato  \\\n",
       "Size(L)                             0.056261          0.170789   \n",
       "FG                                  0.063858          0.893072   \n",
       "ABV                                -0.044493         -0.009304   \n",
       "IBU                                -0.044875         -0.018287   \n",
       "Color                              -0.028730          0.000612   \n",
       "BoilTime                            0.062922          0.028209   \n",
       "Efficiency                          0.156375          0.071481   \n",
       "PrimaryTemp_y                      -0.003252         -0.008066   \n",
       "PitchRate_y                         0.012355          0.002399   \n",
       "MashThickness_y                     1.000000          0.081845   \n",
       "SugarScale_Plato                    0.081845          1.000000   \n",
       "SugarScale_Specific Gravity        -0.081845         -1.000000   \n",
       "BrewMethod_All Grain                0.342250          0.077891   \n",
       "BrewMethod_BIAB                    -0.217944         -0.044093   \n",
       "BrewMethod_Partial Mash            -0.107713         -0.026194   \n",
       "BrewMethod_extract                 -0.177897         -0.045763   \n",
       "\n",
       "                             SugarScale_Specific Gravity  \\\n",
       "Size(L)                                        -0.170789   \n",
       "FG                                             -0.893072   \n",
       "ABV                                             0.009304   \n",
       "IBU                                             0.018287   \n",
       "Color                                          -0.000612   \n",
       "BoilTime                                       -0.028209   \n",
       "Efficiency                                     -0.071481   \n",
       "PrimaryTemp_y                                   0.008066   \n",
       "PitchRate_y                                    -0.002399   \n",
       "MashThickness_y                                -0.081845   \n",
       "SugarScale_Plato                               -1.000000   \n",
       "SugarScale_Specific Gravity                     1.000000   \n",
       "BrewMethod_All Grain                           -0.077891   \n",
       "BrewMethod_BIAB                                 0.044093   \n",
       "BrewMethod_Partial Mash                         0.026194   \n",
       "BrewMethod_extract                              0.045763   \n",
       "\n",
       "                             BrewMethod_All Grain  BrewMethod_BIAB  \\\n",
       "Size(L)                                  0.091471        -0.058586   \n",
       "FG                                       0.070110        -0.040695   \n",
       "ABV                                      0.031401        -0.022994   \n",
       "IBU                                     -0.005016        -0.009507   \n",
       "Color                                    0.008667        -0.012555   \n",
       "BoilTime                                 0.159945        -0.023679   \n",
       "Efficiency                               0.460448         0.094318   \n",
       "PrimaryTemp_y                           -0.011892        -0.015732   \n",
       "PitchRate_y                              0.062085         0.005638   \n",
       "MashThickness_y                          0.342250        -0.217944   \n",
       "SugarScale_Plato                         0.077891        -0.044093   \n",
       "SugarScale_Specific Gravity             -0.077891         0.044093   \n",
       "BrewMethod_All Grain                     1.000000        -0.636799   \n",
       "BrewMethod_BIAB                         -0.636799         1.000000   \n",
       "BrewMethod_Partial Mash                 -0.314719        -0.098048   \n",
       "BrewMethod_extract                      -0.519787        -0.161935   \n",
       "\n",
       "                             BrewMethod_Partial Mash  BrewMethod_extract  \n",
       "Size(L)                                    -0.026242           -0.048820  \n",
       "FG                                         -0.021834           -0.041166  \n",
       "ABV                                         0.005087           -0.022639  \n",
       "IBU                                         0.001741            0.017202  \n",
       "Color                                       0.019614           -0.010969  \n",
       "BoilTime                                   -0.060963           -0.166670  \n",
       "Efficiency                                 -0.100881           -0.716663  \n",
       "PrimaryTemp_y                               0.013222            0.026957  \n",
       "PitchRate_y                                -0.036719           -0.073323  \n",
       "MashThickness_y                            -0.107713           -0.177897  \n",
       "SugarScale_Plato                           -0.026194           -0.045763  \n",
       "SugarScale_Specific Gravity                 0.026194            0.045763  \n",
       "BrewMethod_All Grain                       -0.314719           -0.519787  \n",
       "BrewMethod_BIAB                            -0.098048           -0.161935  \n",
       "BrewMethod_Partial Mash                     1.000000           -0.080031  \n",
       "BrewMethod_extract                         -0.080031            1.000000  "
      ]
     },
     "execution_count": 37,
     "metadata": {},
     "output_type": "execute_result"
    }
   ],
   "source": [
    "beer4dum.corr()"
   ]
  },
  {
   "cell_type": "code",
   "execution_count": 38,
   "metadata": {
    "scrolled": true
   },
   "outputs": [],
   "source": [
    "#The Sugarscales are too strongly correlated with FG.\n",
    "beer4dum = pd.DataFrame(beer4dum.drop(columns = ['SugarScale_Specific Gravity','SugarScale_Plato']))"
   ]
  },
  {
   "cell_type": "code",
   "execution_count": 39,
   "metadata": {
    "scrolled": true
   },
   "outputs": [
    {
     "data": {
      "text/html": [
       "<div>\n",
       "<style scoped>\n",
       "    .dataframe tbody tr th:only-of-type {\n",
       "        vertical-align: middle;\n",
       "    }\n",
       "\n",
       "    .dataframe tbody tr th {\n",
       "        vertical-align: top;\n",
       "    }\n",
       "\n",
       "    .dataframe thead th {\n",
       "        text-align: right;\n",
       "    }\n",
       "</style>\n",
       "<table border=\"1\" class=\"dataframe\">\n",
       "  <thead>\n",
       "    <tr style=\"text-align: right;\">\n",
       "      <th></th>\n",
       "      <th>Size(L)</th>\n",
       "      <th>FG</th>\n",
       "      <th>ABV</th>\n",
       "      <th>IBU</th>\n",
       "      <th>Color</th>\n",
       "      <th>BoilTime</th>\n",
       "      <th>Efficiency</th>\n",
       "      <th>PrimaryTemp_y</th>\n",
       "      <th>PitchRate_y</th>\n",
       "      <th>MashThickness_y</th>\n",
       "      <th>BrewMethod_All Grain</th>\n",
       "      <th>BrewMethod_BIAB</th>\n",
       "      <th>BrewMethod_Partial Mash</th>\n",
       "      <th>BrewMethod_extract</th>\n",
       "    </tr>\n",
       "  </thead>\n",
       "  <tbody>\n",
       "    <tr>\n",
       "      <th>0</th>\n",
       "      <td>18.93</td>\n",
       "      <td>1.018</td>\n",
       "      <td>5.91</td>\n",
       "      <td>59.25</td>\n",
       "      <td>8.98</td>\n",
       "      <td>60</td>\n",
       "      <td>70.0</td>\n",
       "      <td>20.0</td>\n",
       "      <td>0.0</td>\n",
       "      <td>1.0</td>\n",
       "      <td>0</td>\n",
       "      <td>0</td>\n",
       "      <td>0</td>\n",
       "      <td>1</td>\n",
       "    </tr>\n",
       "    <tr>\n",
       "      <th>1</th>\n",
       "      <td>22.71</td>\n",
       "      <td>1.017</td>\n",
       "      <td>5.80</td>\n",
       "      <td>54.48</td>\n",
       "      <td>8.50</td>\n",
       "      <td>60</td>\n",
       "      <td>70.0</td>\n",
       "      <td>20.0</td>\n",
       "      <td>0.0</td>\n",
       "      <td>1.0</td>\n",
       "      <td>1</td>\n",
       "      <td>0</td>\n",
       "      <td>0</td>\n",
       "      <td>0</td>\n",
       "    </tr>\n",
       "    <tr>\n",
       "      <th>2</th>\n",
       "      <td>24.61</td>\n",
       "      <td>1.013</td>\n",
       "      <td>5.58</td>\n",
       "      <td>40.12</td>\n",
       "      <td>8.00</td>\n",
       "      <td>70</td>\n",
       "      <td>79.0</td>\n",
       "      <td>20.0</td>\n",
       "      <td>1.0</td>\n",
       "      <td>1.0</td>\n",
       "      <td>1</td>\n",
       "      <td>0</td>\n",
       "      <td>0</td>\n",
       "      <td>0</td>\n",
       "    </tr>\n",
       "    <tr>\n",
       "      <th>3</th>\n",
       "      <td>22.71</td>\n",
       "      <td>1.018</td>\n",
       "      <td>7.09</td>\n",
       "      <td>268.71</td>\n",
       "      <td>6.33</td>\n",
       "      <td>90</td>\n",
       "      <td>75.0</td>\n",
       "      <td>20.0</td>\n",
       "      <td>0.0</td>\n",
       "      <td>1.0</td>\n",
       "      <td>1</td>\n",
       "      <td>0</td>\n",
       "      <td>0</td>\n",
       "      <td>0</td>\n",
       "    </tr>\n",
       "    <tr>\n",
       "      <th>4</th>\n",
       "      <td>22.71</td>\n",
       "      <td>1.016</td>\n",
       "      <td>5.77</td>\n",
       "      <td>31.63</td>\n",
       "      <td>34.76</td>\n",
       "      <td>75</td>\n",
       "      <td>73.0</td>\n",
       "      <td>20.0</td>\n",
       "      <td>0.0</td>\n",
       "      <td>1.0</td>\n",
       "      <td>1</td>\n",
       "      <td>0</td>\n",
       "      <td>0</td>\n",
       "      <td>0</td>\n",
       "    </tr>\n",
       "  </tbody>\n",
       "</table>\n",
       "</div>"
      ],
      "text/plain": [
       "   Size(L)     FG   ABV     IBU  Color  BoilTime  Efficiency  PrimaryTemp_y  \\\n",
       "0    18.93  1.018  5.91   59.25   8.98        60        70.0           20.0   \n",
       "1    22.71  1.017  5.80   54.48   8.50        60        70.0           20.0   \n",
       "2    24.61  1.013  5.58   40.12   8.00        70        79.0           20.0   \n",
       "3    22.71  1.018  7.09  268.71   6.33        90        75.0           20.0   \n",
       "4    22.71  1.016  5.77   31.63  34.76        75        73.0           20.0   \n",
       "\n",
       "   PitchRate_y  MashThickness_y  BrewMethod_All Grain  BrewMethod_BIAB  \\\n",
       "0          0.0              1.0                     0                0   \n",
       "1          0.0              1.0                     1                0   \n",
       "2          1.0              1.0                     1                0   \n",
       "3          0.0              1.0                     1                0   \n",
       "4          0.0              1.0                     1                0   \n",
       "\n",
       "   BrewMethod_Partial Mash  BrewMethod_extract  \n",
       "0                        0                   1  \n",
       "1                        0                   0  \n",
       "2                        0                   0  \n",
       "3                        0                   0  \n",
       "4                        0                   0  "
      ]
     },
     "execution_count": 39,
     "metadata": {},
     "output_type": "execute_result"
    }
   ],
   "source": [
    "beer4dum.head()"
   ]
  },
  {
   "cell_type": "code",
   "execution_count": 40,
   "metadata": {},
   "outputs": [],
   "source": [
    "dropcols = ['kind','Style','StyleID','BeerID']\n",
    "def preproc(df,dropcols):\n",
    "    df = pd.DataFrame(df.dropna(how = 'any',axis = 0))\n",
    "    df2 = pd.get_dummies(df.drop(columns = dropcols))\n",
    "    exes = df2\n",
    "    columns = exes.columns\n",
    "    scaler = MinMaxScaler()\n",
    "    scaled_df = scaler.fit_transform(exes)\n",
    "    scaled_df = pd.DataFrame(scaled_df, columns = columns)\n",
    "    print(scaled_df.columns)\n",
    "    return scaled_df"
   ]
  },
  {
   "cell_type": "code",
   "execution_count": 41,
   "metadata": {},
   "outputs": [
    {
     "name": "stdout",
     "output_type": "stream",
     "text": [
      "Index(['Size(L)', 'FG', 'ABV', 'IBU', 'Color', 'BoilTime', 'Efficiency',\n",
      "       'PrimaryTemp_y', 'PitchRate_y', 'MashThickness_y',\n",
      "       'BrewMethod_All Grain', 'BrewMethod_BIAB', 'BrewMethod_Partial Mash',\n",
      "       'BrewMethod_extract'],\n",
      "      dtype='object')\n"
     ]
    }
   ],
   "source": [
    "#Use new preprocessing function to prepare for modeling\n",
    "beer4 = pd.DataFrame(beer4.drop(columns = ['SugarScale']))\n",
    "scaled_df = preproc(beer4,dropcols)"
   ]
  },
  {
   "cell_type": "code",
   "execution_count": 42,
   "metadata": {},
   "outputs": [],
   "source": [
    "#logistic regression\n",
    "y = np.ravel(beer4['kind'])\n",
    "y = y.astype(str)\n",
    "X = np.asarray(scaled_df)\n",
    "# Declare a logistic regression classifier.\n",
    "lr = LogisticRegression(C = 1e6)\n",
    "\n",
    "X_train, X_test, Y_train, Y_test = train_test_split(X, y, test_size=0.20)\n",
    "##Fit the model.\n",
    "fit = lr.fit(X_train, Y_train)"
   ]
  },
  {
   "cell_type": "code",
   "execution_count": 43,
   "metadata": {},
   "outputs": [
    {
     "name": "stdout",
     "output_type": "stream",
     "text": [
      "Coefficients\n",
      "[[ 1.11135423e+00  1.00100354e-01  1.70316568e+01  1.53484914e+02\n",
      "  -1.64884167e+01 -1.90377447e+00 -2.14013522e-01  2.23599183e+00\n",
      "  -8.24714731e-01 -3.93935577e-01 -6.22518693e-01 -7.18724838e-01\n",
      "  -7.64300033e-01 -9.22503708e-01]\n",
      " [ 1.68112314e+00 -3.73053133e-01 -8.54295268e+00 -6.17481623e+01\n",
      "  -7.98219053e+00 -3.08732731e+00 -9.41572165e-01 -3.54984618e+01\n",
      "   6.13045902e+00 -1.16616338e-01  2.07168318e+00  2.01723432e+00\n",
      "   2.59348409e+00  2.39325917e+00]\n",
      " [ 3.74135079e+00  2.55274525e-01 -2.94329371e-01 -8.67672584e+01\n",
      "  -5.07502992e+00 -3.65054281e+00 -1.15626533e+00 -1.01712636e+01\n",
      "  -3.50890141e+00  7.95648914e-01  9.67961242e-01  9.11017924e-01\n",
      "   6.77643342e-01  7.14613724e-01]\n",
      " [-2.89587197e+00 -1.18525625e+00 -1.44062738e+01 -4.08630009e+01\n",
      "  -1.62308500e+01  5.14233298e-02  1.18539136e+00  1.43538809e+01\n",
      "  -6.44014667e-01  8.60243960e-02 -8.45367729e-01 -7.30162935e-01\n",
      "  -7.75912396e-01 -6.73216822e-01]\n",
      " [-2.77245382e+00  1.97735462e+00 -9.58253372e+00 -8.20072732e+01\n",
      "   4.46803935e+01  2.23675621e+00  1.58959773e+00  3.19072182e+00\n",
      "  -2.26634506e-01 -3.28281849e+00 -1.75399059e+00 -1.68704104e+00\n",
      "  -1.32955758e+00 -8.79109140e-01]\n",
      " [-5.93090455e+00  6.56593882e-01 -6.06195787e+00 -2.51000709e+02\n",
      "  -2.50058747e+01  5.18861674e+00 -9.50988902e-01  6.48255812e+00\n",
      "  -6.09323855e-01  2.97787610e+00 -2.94832039e-01 -1.46376772e-01\n",
      "  -3.69413679e-01 -5.76921839e-01]]\n",
      "Intercepts\n",
      "[-3.02804727  9.07566076  3.27123623 -3.02465988 -5.64969835 -1.38754433]\n",
      "\n",
      " Percentage accuracy\n",
      "Test 0.7046193884189981\n",
      "Train 0.7046847042238248\n"
     ]
    }
   ],
   "source": [
    "# logistic regression output\n",
    "print('Coefficients') \n",
    "print(fit.coef_)\n",
    "print('Intercepts')\n",
    "print (fit.intercept_)\n",
    "pred_y_sklearn = lr.predict(X_test)\n",
    "pred_y_sklearn = lr.predict(X_train)\n",
    "print('\\n Percentage accuracy')\n",
    "print('Test',lr.score(X_test, Y_test))\n",
    "print('Train',lr.score(X_train, Y_train))"
   ]
  },
  {
   "cell_type": "code",
   "execution_count": 44,
   "metadata": {},
   "outputs": [
    {
     "data": {
      "text/plain": [
       "array([0.79195577, 0.78596986, 0.78356105, 0.79221343, 0.77891083])"
      ]
     },
     "execution_count": 44,
     "metadata": {},
     "output_type": "execute_result"
    }
   ],
   "source": [
    "#random forest classifier\n",
    "from sklearn import ensemble\n",
    "from sklearn.model_selection import cross_val_score\n",
    "rfc = ensemble.RandomForestClassifier(n_jobs = -1)\n",
    "y = np.ravel(beer4['kind'])\n",
    "X = pd.DataFrame(beer4dum)\n",
    "cross_val_score(rfc,X,y,cv=5)"
   ]
  },
  {
   "cell_type": "code",
   "execution_count": 45,
   "metadata": {},
   "outputs": [
    {
     "data": {
      "image/png": "[encoded data removed]",
      "text/plain": [
       "<matplotlib.figure.Figure at 0x111639b38>"
      ]
     },
     "metadata": {},
     "output_type": "display_data"
    }
   ],
   "source": [
    "#random forest classifier feature importance\n",
    "rfc.fit(X,y)\n",
    "feature_importance = rfc.feature_importances_\n",
    "\n",
    "# Make importances relative to max importance.\n",
    "feature_importance = 100.0 * (feature_importance / feature_importance.max())\n",
    "sorted_idx = np.argsort(feature_importance)\n",
    "pos = np.arange(sorted_idx.shape[0]) + .5\n",
    "\n",
    "fig, ax = plt.subplots(figsize =(10,10))\n",
    "plt.barh(pos, feature_importance[sorted_idx], align='center')\n",
    "plt.yticks(pos, X.columns[sorted_idx])\n",
    "plt.xlabel('Relative Importance')\n",
    "plt.title('Variable Importance')\n",
    "plt.show()"
   ]
  },
  {
   "cell_type": "code",
   "execution_count": 46,
   "metadata": {},
   "outputs": [],
   "source": [
    "# Create training and test sets.\n",
    "offset = int(X.shape[0] * 0.8)\n",
    "\n",
    "# Put 80% of the data in the training set.\n",
    "X_train, y_train = X[:offset], y[:offset]\n",
    "\n",
    "# And put 20% in the test set.\n",
    "X_test, y_test = X[offset:], y[offset:]"
   ]
  },
  {
   "cell_type": "code",
   "execution_count": 47,
   "metadata": {},
   "outputs": [],
   "source": [
    "#gradient boosting classifier\n",
    "\n",
    "params = {'n_estimators': 500,\n",
    "          'max_depth': 2,\n",
    "          'loss': 'deviance'}\n",
    "\n",
    "# Initialize and fit the model.\n",
    "clf = ensemble.GradientBoostingClassifier(**params,subsample=.5)\n",
    "clf.fit(X_train, y_train)\n",
    "\n",
    "predict_train = clf.predict(X_train)\n",
    "predict_test = clf.predict(X_test)\n",
    "\n"
   ]
  },
  {
   "cell_type": "code",
   "execution_count": 48,
   "metadata": {},
   "outputs": [
    {
     "name": "stdout",
     "output_type": "stream",
     "text": [
      "Train 0.8322398742070162\n",
      "Test 0.7850791585339406\n"
     ]
    }
   ],
   "source": [
    "#gradient boosting scores\n",
    "score = accuracy_score(y_train, predict_train, normalize=True, sample_weight=None)\n",
    "print(\"Train {}\".format(score))\n",
    "score2 = accuracy_score(y_test, predict_test, normalize=True, sample_weight=None)\n",
    "print(\"Test {}\".format(score2))"
   ]
  },
  {
   "cell_type": "code",
   "execution_count": 49,
   "metadata": {},
   "outputs": [
    {
     "data": {
      "text/plain": [
       "Text(0.5,0,'Category')"
      ]
     },
     "execution_count": 49,
     "metadata": {},
     "output_type": "execute_result"
    },
    {
     "data": {
      "image/png": "[encoded data removed]",
      "text/plain": [
       "<matplotlib.figure.Figure at 0x10d181c88>"
      ]
     },
     "metadata": {},
     "output_type": "display_data"
    }
   ],
   "source": [
    "#plot important features\n",
    "fig, ax = plt.subplots(figsize=(7, 4))\n",
    "sns.boxplot(x = 'kind', y = 'Color', data = beer4)\n",
    "ax.set_xlabel('Category')"
   ]
  },
  {
   "cell_type": "code",
   "execution_count": 50,
   "metadata": {},
   "outputs": [
    {
     "data": {
      "text/plain": [
       "Text(0.5,0,'Category')"
      ]
     },
     "execution_count": 50,
     "metadata": {},
     "output_type": "execute_result"
    },
    {
     "data": {
      "image/png": "[encoded data removed]",
      "text/plain": [
       "<matplotlib.figure.Figure at 0x111647b70>"
      ]
     },
     "metadata": {},
     "output_type": "display_data"
    }
   ],
   "source": [
    "#plot important features\n",
    "fig, ax = plt.subplots(figsize=(7, 4))\n",
    "sns.boxplot(x = 'kind', y = 'IBU', data = beer4)\n",
    "plt.ylim(0,350)\n",
    "ax.set_xlabel('Category')\n",
    "#Outliers cut off for better visualization"
   ]
  },
  {
   "cell_type": "code",
   "execution_count": 51,
   "metadata": {},
   "outputs": [
    {
     "data": {
      "text/plain": [
       "(0, 20)"
      ]
     },
     "execution_count": 51,
     "metadata": {},
     "output_type": "execute_result"
    },
    {
     "data": {
      "image/png": "[encoded data removed]",
      "text/plain": [
       "<matplotlib.figure.Figure at 0x1114d2940>"
      ]
     },
     "metadata": {},
     "output_type": "display_data"
    }
   ],
   "source": [
    "#plot important features\n",
    "fig, ax = plt.subplots(figsize=(7, 4))\n",
    "sns.boxplot(x = 'kind', y = 'ABV', data = beer4)\n",
    "ax.set_xlabel('Category')\n",
    "plt.ylim(0,20)\n",
    "#Outliers cut off for better visualization"
   ]
  },
  {
   "cell_type": "code",
   "execution_count": 52,
   "metadata": {},
   "outputs": [
    {
     "data": {
      "text/plain": [
       "(0, 60)"
      ]
     },
     "execution_count": 52,
     "metadata": {},
     "output_type": "execute_result"
    },
    {
     "data": {
      "image/png": "[encoded data removed]",
      "text/plain": [
       "<matplotlib.figure.Figure at 0x1114fa048>"
      ]
     },
     "metadata": {},
     "output_type": "display_data"
    }
   ],
   "source": [
    "#plot important features\n",
    "fig, ax = plt.subplots(figsize=(7, 4))\n",
    "sns.boxplot(x = 'kind', y = 'PrimaryTemp_y', data = beer4)\n",
    "ax.set_xlabel('Category')\n",
    "ax.set_ylabel('Primary Temp')\n",
    "plt.ylim(0,60)\n",
    "#Outliers cut off for better visualization"
   ]
  },
  {
   "cell_type": "markdown",
   "metadata": {},
   "source": [
    "Now I'd like to do a binary classification with Stout and Porter since I couldn't classify them in my multinomial classification."
   ]
  },
  {
   "cell_type": "code",
   "execution_count": 53,
   "metadata": {},
   "outputs": [],
   "source": [
    "#dropping unnecessary columns.\n",
    "stout = beer.drop(columns = ['PrimingMethod','PrimingAmount','URL','Name','OG','BoilGravity','BoilSize','SugarScale'])"
   ]
  },
  {
   "cell_type": "code",
   "execution_count": 54,
   "metadata": {},
   "outputs": [],
   "source": [
    "#find and group stout and porter\n",
    "a = stout['Stout'] = (beer['Style'].str.contains(' Stout'))*'Stout'\n",
    "b = stout['Porter'] = (beer['Style'].str.contains(' Porter'))*'Porter' "
   ]
  },
  {
   "cell_type": "code",
   "execution_count": 55,
   "metadata": {},
   "outputs": [],
   "source": [
    "#create kind of beer column\n",
    "stout['kind'] = a+b+''"
   ]
  },
  {
   "cell_type": "code",
   "execution_count": 56,
   "metadata": {},
   "outputs": [
    {
     "name": "stdout",
     "output_type": "stream",
     "text": [
      "Stout     5954\n",
      "Porter    2700\n",
      "Name: kind, dtype: int64\n"
     ]
    }
   ],
   "source": [
    "#cut unnecessary stout and porter columns\n",
    "stout2 = cut_beercols(stout)"
   ]
  },
  {
   "cell_type": "code",
   "execution_count": 57,
   "metadata": {},
   "outputs": [],
   "source": [
    "#fill nan\n",
    "stout3 = fill_median(stout2,columnlist,['Stout','Porter'])"
   ]
  },
  {
   "cell_type": "code",
   "execution_count": 58,
   "metadata": {
    "scrolled": false
   },
   "outputs": [
    {
     "data": {
      "text/html": [
       "<div>\n",
       "<style scoped>\n",
       "    .dataframe tbody tr th:only-of-type {\n",
       "        vertical-align: middle;\n",
       "    }\n",
       "\n",
       "    .dataframe tbody tr th {\n",
       "        vertical-align: top;\n",
       "    }\n",
       "\n",
       "    .dataframe thead th {\n",
       "        text-align: right;\n",
       "    }\n",
       "</style>\n",
       "<table border=\"1\" class=\"dataframe\">\n",
       "  <thead>\n",
       "    <tr style=\"text-align: right;\">\n",
       "      <th></th>\n",
       "      <th>Style</th>\n",
       "      <th>StyleID</th>\n",
       "      <th>Size(L)</th>\n",
       "      <th>FG</th>\n",
       "      <th>ABV</th>\n",
       "      <th>IBU</th>\n",
       "      <th>Color</th>\n",
       "      <th>BoilTime</th>\n",
       "      <th>Efficiency</th>\n",
       "      <th>BrewMethod</th>\n",
       "      <th>BeerID</th>\n",
       "      <th>kind</th>\n",
       "      <th>PrimaryTemp_y</th>\n",
       "      <th>PitchRate_y</th>\n",
       "      <th>MashThickness_y</th>\n",
       "    </tr>\n",
       "  </thead>\n",
       "  <tbody>\n",
       "    <tr>\n",
       "      <th>0</th>\n",
       "      <td>Robust Porter</td>\n",
       "      <td>129</td>\n",
       "      <td>22.71</td>\n",
       "      <td>1.016</td>\n",
       "      <td>5.77</td>\n",
       "      <td>31.63</td>\n",
       "      <td>34.76</td>\n",
       "      <td>75</td>\n",
       "      <td>73.0</td>\n",
       "      <td>All Grain</td>\n",
       "      <td>9</td>\n",
       "      <td>Porter</td>\n",
       "      <td>20.0</td>\n",
       "      <td>0.0</td>\n",
       "      <td>1.0</td>\n",
       "    </tr>\n",
       "    <tr>\n",
       "      <th>1</th>\n",
       "      <td>Robust Porter</td>\n",
       "      <td>129</td>\n",
       "      <td>50.00</td>\n",
       "      <td>1.014</td>\n",
       "      <td>5.76</td>\n",
       "      <td>39.00</td>\n",
       "      <td>38.71</td>\n",
       "      <td>60</td>\n",
       "      <td>71.0</td>\n",
       "      <td>All Grain</td>\n",
       "      <td>30</td>\n",
       "      <td>Porter</td>\n",
       "      <td>18.0</td>\n",
       "      <td>0.0</td>\n",
       "      <td>1.0</td>\n",
       "    </tr>\n",
       "    <tr>\n",
       "      <th>2</th>\n",
       "      <td>Robust Porter</td>\n",
       "      <td>129</td>\n",
       "      <td>22.71</td>\n",
       "      <td>1.012</td>\n",
       "      <td>5.38</td>\n",
       "      <td>0.00</td>\n",
       "      <td>46.10</td>\n",
       "      <td>60</td>\n",
       "      <td>72.0</td>\n",
       "      <td>All Grain</td>\n",
       "      <td>35</td>\n",
       "      <td>Porter</td>\n",
       "      <td>20.0</td>\n",
       "      <td>0.0</td>\n",
       "      <td>1.0</td>\n",
       "    </tr>\n",
       "    <tr>\n",
       "      <th>3</th>\n",
       "      <td>Oatmeal Stout</td>\n",
       "      <td>114</td>\n",
       "      <td>20.00</td>\n",
       "      <td>1.019</td>\n",
       "      <td>5.21</td>\n",
       "      <td>37.34</td>\n",
       "      <td>42.09</td>\n",
       "      <td>90</td>\n",
       "      <td>75.0</td>\n",
       "      <td>All Grain</td>\n",
       "      <td>47</td>\n",
       "      <td>Stout</td>\n",
       "      <td>19.0</td>\n",
       "      <td>0.0</td>\n",
       "      <td>1.0</td>\n",
       "    </tr>\n",
       "    <tr>\n",
       "      <th>4</th>\n",
       "      <td>Russian Imperial Stout</td>\n",
       "      <td>132</td>\n",
       "      <td>20.00</td>\n",
       "      <td>1.025</td>\n",
       "      <td>9.67</td>\n",
       "      <td>69.25</td>\n",
       "      <td>50.00</td>\n",
       "      <td>90</td>\n",
       "      <td>65.0</td>\n",
       "      <td>All Grain</td>\n",
       "      <td>59</td>\n",
       "      <td>Stout</td>\n",
       "      <td>18.0</td>\n",
       "      <td>1.0</td>\n",
       "      <td>1.0</td>\n",
       "    </tr>\n",
       "  </tbody>\n",
       "</table>\n",
       "</div>"
      ],
      "text/plain": [
       "                    Style  StyleID  Size(L)     FG   ABV    IBU  Color  \\\n",
       "0           Robust Porter      129    22.71  1.016  5.77  31.63  34.76   \n",
       "1           Robust Porter      129    50.00  1.014  5.76  39.00  38.71   \n",
       "2           Robust Porter      129    22.71  1.012  5.38   0.00  46.10   \n",
       "3           Oatmeal Stout      114    20.00  1.019  5.21  37.34  42.09   \n",
       "4  Russian Imperial Stout      132    20.00  1.025  9.67  69.25  50.00   \n",
       "\n",
       "   BoilTime  Efficiency BrewMethod  BeerID    kind  PrimaryTemp_y  \\\n",
       "0        75        73.0  All Grain       9  Porter           20.0   \n",
       "1        60        71.0  All Grain      30  Porter           18.0   \n",
       "2        60        72.0  All Grain      35  Porter           20.0   \n",
       "3        90        75.0  All Grain      47   Stout           19.0   \n",
       "4        90        65.0  All Grain      59   Stout           18.0   \n",
       "\n",
       "   PitchRate_y  MashThickness_y  \n",
       "0          0.0              1.0  \n",
       "1          0.0              1.0  \n",
       "2          0.0              1.0  \n",
       "3          0.0              1.0  \n",
       "4          1.0              1.0  "
      ]
     },
     "execution_count": 58,
     "metadata": {},
     "output_type": "execute_result"
    }
   ],
   "source": [
    "stout3.head()"
   ]
  },
  {
   "cell_type": "code",
   "execution_count": 59,
   "metadata": {},
   "outputs": [
    {
     "name": "stdout",
     "output_type": "stream",
     "text": [
      "Index(['Size(L)', 'FG', 'ABV', 'IBU', 'Color', 'BoilTime', 'Efficiency',\n",
      "       'PrimaryTemp_y', 'PitchRate_y', 'MashThickness_y',\n",
      "       'BrewMethod_All Grain', 'BrewMethod_BIAB', 'BrewMethod_Partial Mash',\n",
      "       'BrewMethod_extract'],\n",
      "      dtype='object')\n"
     ]
    }
   ],
   "source": [
    "#pre-processing\n",
    "scaled_df = preproc(stout3,['Style','StyleID','BeerID','kind'])"
   ]
  },
  {
   "cell_type": "code",
   "execution_count": 60,
   "metadata": {},
   "outputs": [],
   "source": [
    "#logistic regression\n",
    "y = np.ravel(stout3['kind'])\n",
    "y = y.astype(str)\n",
    "X = np.asarray(scaled_df)\n",
    "# Declare a logistic regression classifier.\n",
    "lr = LogisticRegression(C = 1e6)\n",
    "\n",
    "X_train, X_test, Y_train, Y_test = train_test_split(X, y, test_size=0.20)\n",
    "##Fit the model.\n",
    "fit = lr.fit(X_train, Y_train)"
   ]
  },
  {
   "cell_type": "code",
   "execution_count": 61,
   "metadata": {},
   "outputs": [
    {
     "name": "stdout",
     "output_type": "stream",
     "text": [
      "Coefficients\n",
      "[[-1.66715588  0.65048639  1.5954927  32.52041593 16.43548572  0.28853055\n",
      "   0.24996998  3.18046126 -0.19030753  3.92281145 -1.12499496 -0.99058731\n",
      "  -0.71081593 -0.71912076]]\n",
      "Intercepts\n",
      "[-3.54551896]\n",
      "\n",
      " Percentage accuracy\n",
      "Test 0.7267475447718083\n",
      "Train 0.7319081323125812\n"
     ]
    }
   ],
   "source": [
    "#logistic regression output\n",
    "print('Coefficients') \n",
    "print(fit.coef_)\n",
    "print('Intercepts')\n",
    "print (fit.intercept_)\n",
    "pred_y_sklearn = lr.predict(X_test)\n",
    "pred_y_sklearn = lr.predict(X_train)\n",
    "print('\\n Percentage accuracy')\n",
    "print('Test',lr.score(X_test, Y_test))\n",
    "print('Train',lr.score(X_train, Y_train))"
   ]
  },
  {
   "cell_type": "code",
   "execution_count": 62,
   "metadata": {},
   "outputs": [
    {
     "data": {
      "text/plain": [
       "array([0.75563258, 0.74465627, 0.71403813, 0.72385904, 0.71791908])"
      ]
     },
     "execution_count": 62,
     "metadata": {},
     "output_type": "execute_result"
    }
   ],
   "source": [
    "#random forest classifier\n",
    "from sklearn import ensemble\n",
    "from sklearn.model_selection import cross_val_score\n",
    "rfc = ensemble.RandomForestClassifier(n_jobs = -1)\n",
    "y = np.ravel(stout3['kind'])\n",
    "X = pd.DataFrame(scaled_df)\n",
    "cross_val_score(rfc,X,y,cv=5)"
   ]
  },
  {
   "cell_type": "code",
   "execution_count": 63,
   "metadata": {},
   "outputs": [
    {
     "data": {
      "image/png": "[encoded data removed]",
      "text/plain": [
       "<matplotlib.figure.Figure at 0x1119caa90>"
      ]
     },
     "metadata": {},
     "output_type": "display_data"
    }
   ],
   "source": [
    "#rfc feature importance\n",
    "rfc.fit(X,y)\n",
    "feature_importance = rfc.feature_importances_\n",
    "\n",
    "# Make importances relative to max importance.\n",
    "feature_importance = 100.0 * (feature_importance / feature_importance.max())\n",
    "sorted_idx = np.argsort(feature_importance)\n",
    "pos = np.arange(sorted_idx.shape[0]) + .5\n",
    "\n",
    "fig, ax = plt.subplots(figsize =(10,10))\n",
    "plt.barh(pos, feature_importance[sorted_idx], align='center')\n",
    "plt.yticks(pos, X.columns[sorted_idx])\n",
    "plt.xlabel('Relative Importance')\n",
    "plt.title('Variable Importance')\n",
    "plt.show()"
   ]
  },
  {
   "cell_type": "code",
   "execution_count": 64,
   "metadata": {},
   "outputs": [],
   "source": [
    "# Create training and test sets.\n",
    "offset = int(X.shape[0] * 0.8)\n",
    "\n",
    "# Put 80% of the data in the training set.\n",
    "X_train, y_train = X[:offset], y[:offset]\n",
    "\n",
    "# And put 20% in the test set.\n",
    "X_test, y_test = X[offset:], y[offset:]"
   ]
  },
  {
   "cell_type": "code",
   "execution_count": 65,
   "metadata": {},
   "outputs": [],
   "source": [
    "# gradient boosting classifier\n",
    "params = {'n_estimators': 500,\n",
    "          'max_depth': 2,\n",
    "          'loss': 'deviance'}\n",
    "\n",
    "# Initialize and fit the model.\n",
    "clf = ensemble.GradientBoostingClassifier(**params,subsample=.5)\n",
    "clf.fit(X_train, y_train)\n",
    "\n",
    "predict_train = clf.predict(X_train)\n",
    "predict_test = clf.predict(X_test)\n",
    "\n"
   ]
  },
  {
   "cell_type": "code",
   "execution_count": 66,
   "metadata": {},
   "outputs": [
    {
     "name": "stdout",
     "output_type": "stream",
     "text": [
      "Train 0.8051422793586596\n",
      "Test 0.7354130560369728\n"
     ]
    }
   ],
   "source": [
    "#gradient boosting scores\n",
    "score = accuracy_score(y_train, predict_train, normalize=True, sample_weight=None)\n",
    "print(\"Train {}\".format(score))\n",
    "score2 = accuracy_score(y_test, predict_test, normalize=True, sample_weight=None)\n",
    "print(\"Test {}\".format(score2))\n"
   ]
  },
  {
   "cell_type": "code",
   "execution_count": 67,
   "metadata": {},
   "outputs": [],
   "source": [
    "#dropping unnecessary columns.\n",
    "IPA = beer.drop(columns = ['PrimingMethod','PrimingAmount','URL','Name','OG','BoilGravity','BoilSize','SugarScale'])"
   ]
  },
  {
   "cell_type": "code",
   "execution_count": 68,
   "metadata": {},
   "outputs": [],
   "source": [
    "#find and group stout and porter\n",
    "y = IPA['IPA'] = (beer['Style'].str.contains(' IPA'))*'IPA'\n",
    "z = IPA['Pale Ale'] = (beer['Style'].str.contains('Saison|Strong Bitter|Pale Ale'))*'Pale Ales'"
   ]
  },
  {
   "cell_type": "code",
   "execution_count": 69,
   "metadata": {},
   "outputs": [],
   "source": [
    "#create kind of beer column\n",
    "IPA['kind'] = y+z+''"
   ]
  },
  {
   "cell_type": "code",
   "execution_count": 70,
   "metadata": {},
   "outputs": [
    {
     "name": "stdout",
     "output_type": "stream",
     "text": [
      "IPA          17064\n",
      "Pale Ales    11963\n",
      "Name: kind, dtype: int64\n"
     ]
    }
   ],
   "source": [
    "#cut unnecessary IPA and Pale Ale columns\n",
    "IPA2 = cut_beercols(IPA)"
   ]
  },
  {
   "cell_type": "code",
   "execution_count": 71,
   "metadata": {},
   "outputs": [],
   "source": [
    "#fill nan\n",
    "IPA3 = fill_median(IPA2,columnlist,['IPA','Pale Ales'])"
   ]
  },
  {
   "cell_type": "code",
   "execution_count": 72,
   "metadata": {},
   "outputs": [
    {
     "name": "stdout",
     "output_type": "stream",
     "text": [
      "Index(['Size(L)', 'FG', 'ABV', 'IBU', 'Color', 'BoilTime', 'Efficiency',\n",
      "       'PrimaryTemp_y', 'PitchRate_y', 'MashThickness_y',\n",
      "       'BrewMethod_All Grain', 'BrewMethod_BIAB', 'BrewMethod_Partial Mash',\n",
      "       'BrewMethod_extract'],\n",
      "      dtype='object')\n"
     ]
    }
   ],
   "source": [
    "#preprocessing\n",
    "scaled_df = preproc(IPA3,['Style','StyleID','BeerID','kind'])"
   ]
  },
  {
   "cell_type": "code",
   "execution_count": 73,
   "metadata": {},
   "outputs": [],
   "source": [
    "#logistic regression\n",
    "y = np.ravel(IPA3['kind'])\n",
    "y = y.astype(str)\n",
    "X = np.asarray(scaled_df)\n",
    "# Declare a logistic regression classifier.\n",
    "lr = LogisticRegression(C = 1e6)\n",
    "\n",
    "X_train, X_test, Y_train, Y_test = train_test_split(X, y, test_size=0.20)\n",
    "##Fit the model.\n",
    "fit = lr.fit(X_train, Y_train)"
   ]
  },
  {
   "cell_type": "code",
   "execution_count": 74,
   "metadata": {},
   "outputs": [
    {
     "name": "stdout",
     "output_type": "stream",
     "text": [
      "Coefficients\n",
      "[[-2.61734646e+00 -5.68673971e-01 -4.03602312e+01 -9.59542398e+01\n",
      "  -2.21675975e+00  1.42312608e+00  1.35113108e+00  6.52169684e+00\n",
      "   3.27860906e-02  3.12466330e-01  4.56612375e-01  6.06079659e-01\n",
      "   6.33173082e-01  8.92029696e-01]]\n",
      "Intercepts\n",
      "[2.58789481]\n",
      "\n",
      " Percentage accuracy\n",
      "Test 0.8193248363761626\n",
      "Train 0.8186555273244046\n"
     ]
    }
   ],
   "source": [
    "#logistic regression output\n",
    "print('Coefficients') \n",
    "print(fit.coef_)\n",
    "print('Intercepts')\n",
    "print (fit.intercept_)\n",
    "pred_y_sklearn = lr.predict(X_test)\n",
    "pred_y_sklearn = lr.predict(X_train)\n",
    "print('\\n Percentage accuracy')\n",
    "print('Test',lr.score(X_test, Y_test))\n",
    "print('Train',lr.score(X_train, Y_train))"
   ]
  },
  {
   "cell_type": "code",
   "execution_count": 75,
   "metadata": {},
   "outputs": [
    {
     "data": {
      "text/plain": [
       "array([0.83344816, 0.8269032 , 0.8138133 , 0.82273902, 0.80444521])"
      ]
     },
     "execution_count": 75,
     "metadata": {},
     "output_type": "execute_result"
    }
   ],
   "source": [
    "#random forest classifier\n",
    "from sklearn import ensemble\n",
    "from sklearn.model_selection import cross_val_score\n",
    "rfc = ensemble.RandomForestClassifier(n_jobs = -1)\n",
    "y = np.ravel(IPA3['kind'])\n",
    "X = pd.DataFrame(scaled_df)\n",
    "cross_val_score(rfc,X,y,cv=5)"
   ]
  },
  {
   "cell_type": "code",
   "execution_count": 76,
   "metadata": {},
   "outputs": [
    {
     "data": {
      "image/png": "[encoded data removed]",
      "text/plain": [
       "<matplotlib.figure.Figure at 0x110b8cbe0>"
      ]
     },
     "metadata": {},
     "output_type": "display_data"
    }
   ],
   "source": [
    "# rfc feature importance\n",
    "rfc.fit(X,y)\n",
    "feature_importance = rfc.feature_importances_\n",
    "\n",
    "# Make importances relative to max importance.\n",
    "feature_importance = 100.0 * (feature_importance / feature_importance.max())\n",
    "sorted_idx = np.argsort(feature_importance)\n",
    "pos = np.arange(sorted_idx.shape[0]) + .5\n",
    "\n",
    "fig, ax = plt.subplots(figsize =(10,10))\n",
    "plt.barh(pos, feature_importance[sorted_idx], align='center')\n",
    "plt.yticks(pos, X.columns[sorted_idx])\n",
    "plt.xlabel('Relative Importance')\n",
    "plt.title('Variable Importance')\n",
    "plt.show()"
   ]
  },
  {
   "cell_type": "code",
   "execution_count": 77,
   "metadata": {},
   "outputs": [],
   "source": [
    "# Create training and test sets.\n",
    "offset = int(X.shape[0] * 0.8)\n",
    "\n",
    "# Put 80% of the data in the training set.\n",
    "X_train, y_train = X[:offset], y[:offset]\n",
    "\n",
    "# And put 20% in the test set.\n",
    "X_test, y_test = X[offset:], y[offset:]"
   ]
  },
  {
   "cell_type": "code",
   "execution_count": 78,
   "metadata": {},
   "outputs": [],
   "source": [
    "# Gradient boosting classifier\n",
    "params = {'n_estimators': 500,\n",
    "          'max_depth': 2,\n",
    "          'loss': 'deviance'}\n",
    "\n",
    "# Initialize and fit the model.\n",
    "clf = ensemble.GradientBoostingClassifier(**params,subsample=.5)\n",
    "clf.fit(X_train, y_train)\n",
    "\n",
    "predict_train = clf.predict(X_train)\n",
    "predict_test = clf.predict(X_test)\n",
    "\n"
   ]
  },
  {
   "cell_type": "code",
   "execution_count": 79,
   "metadata": {},
   "outputs": [
    {
     "name": "stdout",
     "output_type": "stream",
     "text": [
      "Train 0.854054519615865\n",
      "Test 0.8114019979331726\n"
     ]
    }
   ],
   "source": [
    "#gradient boosting scores\n",
    "score = accuracy_score(y_train, predict_train, normalize=True, sample_weight=None)\n",
    "print(\"Train {}\".format(score))\n",
    "score2 = accuracy_score(y_test, predict_test, normalize=True, sample_weight=None)\n",
    "print(\"Test {}\".format(score2))"
   ]
  }
 ],
 "metadata": {
  "kernelspec": {
   "display_name": "Python 3",
   "language": "python",
   "name": "python3"
  },
  "language_info": {
   "codemirror_mode": {
    "name": "ipython",
    "version": 3
   },
   "file_extension": ".py",
   "mimetype": "text/x-python",
   "name": "python",
   "nbconvert_exporter": "python",
   "pygments_lexer": "ipython3",
   "version": "3.6.4"
  }
 },
 "nbformat": 4,
 "nbformat_minor": 2
}
