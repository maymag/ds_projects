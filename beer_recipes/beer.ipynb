{
 "cells": [
  {
   "cell_type": "code",
   "execution_count": 1,
   "metadata": {},
   "outputs": [],
   "source": [
    "#importing libraries\n",
    "import pandas as pd\n",
    "import numpy as np\n",
    "%matplotlib inline\n",
    "import matplotlib.pyplot as plt\n",
    "import seaborn as sns"
   ]
  },
  {
   "cell_type": "code",
   "execution_count": 2,
   "metadata": {},
   "outputs": [],
   "source": [
    "beer = pd.read_csv('data/recipeData.csv', index_col='BeerID', encoding='latin1')"
   ]
  },
  {
   "cell_type": "code",
   "execution_count": 3,
   "metadata": {},
   "outputs": [
    {
     "data": {
      "text/plain": [
       "(73861, 21)"
      ]
     },
     "execution_count": 3,
     "metadata": {},
     "output_type": "execute_result"
    }
   ],
   "source": [
    "beer.shape"
   ]
  },
  {
   "cell_type": "code",
   "execution_count": 4,
   "metadata": {},
   "outputs": [
    {
     "data": {
      "text/html": [
       "<div>\n",
       "<style scoped>\n",
       "    .dataframe tbody tr th:only-of-type {\n",
       "        vertical-align: middle;\n",
       "    }\n",
       "\n",
       "    .dataframe tbody tr th {\n",
       "        vertical-align: top;\n",
       "    }\n",
       "\n",
       "    .dataframe thead th {\n",
       "        text-align: right;\n",
       "    }\n",
       "</style>\n",
       "<table border=\"1\" class=\"dataframe\">\n",
       "  <thead>\n",
       "    <tr style=\"text-align: right;\">\n",
       "      <th></th>\n",
       "      <th>Name</th>\n",
       "      <th>URL</th>\n",
       "      <th>Style</th>\n",
       "      <th>StyleID</th>\n",
       "      <th>Size(L)</th>\n",
       "      <th>OG</th>\n",
       "      <th>FG</th>\n",
       "      <th>ABV</th>\n",
       "      <th>IBU</th>\n",
       "      <th>Color</th>\n",
       "      <th>...</th>\n",
       "      <th>BoilTime</th>\n",
       "      <th>BoilGravity</th>\n",
       "      <th>Efficiency</th>\n",
       "      <th>MashThickness</th>\n",
       "      <th>SugarScale</th>\n",
       "      <th>BrewMethod</th>\n",
       "      <th>PitchRate</th>\n",
       "      <th>PrimaryTemp</th>\n",
       "      <th>PrimingMethod</th>\n",
       "      <th>PrimingAmount</th>\n",
       "    </tr>\n",
       "    <tr>\n",
       "      <th>BeerID</th>\n",
       "      <th></th>\n",
       "      <th></th>\n",
       "      <th></th>\n",
       "      <th></th>\n",
       "      <th></th>\n",
       "      <th></th>\n",
       "      <th></th>\n",
       "      <th></th>\n",
       "      <th></th>\n",
       "      <th></th>\n",
       "      <th></th>\n",
       "      <th></th>\n",
       "      <th></th>\n",
       "      <th></th>\n",
       "      <th></th>\n",
       "      <th></th>\n",
       "      <th></th>\n",
       "      <th></th>\n",
       "      <th></th>\n",
       "      <th></th>\n",
       "      <th></th>\n",
       "    </tr>\n",
       "  </thead>\n",
       "  <tbody>\n",
       "    <tr>\n",
       "      <th>1</th>\n",
       "      <td>Vanilla Cream Ale</td>\n",
       "      <td>/homebrew/recipe/view/1633/vanilla-cream-ale</td>\n",
       "      <td>Cream Ale</td>\n",
       "      <td>45</td>\n",
       "      <td>21.77</td>\n",
       "      <td>1.055</td>\n",
       "      <td>1.013</td>\n",
       "      <td>5.48</td>\n",
       "      <td>17.65</td>\n",
       "      <td>4.83</td>\n",
       "      <td>...</td>\n",
       "      <td>75</td>\n",
       "      <td>1.038</td>\n",
       "      <td>70.0</td>\n",
       "      <td>NaN</td>\n",
       "      <td>Specific Gravity</td>\n",
       "      <td>All Grain</td>\n",
       "      <td>NaN</td>\n",
       "      <td>17.78</td>\n",
       "      <td>corn sugar</td>\n",
       "      <td>4.5 oz</td>\n",
       "    </tr>\n",
       "    <tr>\n",
       "      <th>2</th>\n",
       "      <td>Southern Tier Pumking clone</td>\n",
       "      <td>/homebrew/recipe/view/16367/southern-tier-pumk...</td>\n",
       "      <td>Holiday/Winter Special Spiced Beer</td>\n",
       "      <td>85</td>\n",
       "      <td>20.82</td>\n",
       "      <td>1.083</td>\n",
       "      <td>1.021</td>\n",
       "      <td>8.16</td>\n",
       "      <td>60.65</td>\n",
       "      <td>15.64</td>\n",
       "      <td>...</td>\n",
       "      <td>60</td>\n",
       "      <td>1.070</td>\n",
       "      <td>70.0</td>\n",
       "      <td>NaN</td>\n",
       "      <td>Specific Gravity</td>\n",
       "      <td>All Grain</td>\n",
       "      <td>NaN</td>\n",
       "      <td>NaN</td>\n",
       "      <td>NaN</td>\n",
       "      <td>NaN</td>\n",
       "    </tr>\n",
       "    <tr>\n",
       "      <th>3</th>\n",
       "      <td>Zombie Dust Clone - EXTRACT</td>\n",
       "      <td>/homebrew/recipe/view/5920/zombie-dust-clone-e...</td>\n",
       "      <td>American IPA</td>\n",
       "      <td>7</td>\n",
       "      <td>18.93</td>\n",
       "      <td>1.063</td>\n",
       "      <td>1.018</td>\n",
       "      <td>5.91</td>\n",
       "      <td>59.25</td>\n",
       "      <td>8.98</td>\n",
       "      <td>...</td>\n",
       "      <td>60</td>\n",
       "      <td>NaN</td>\n",
       "      <td>70.0</td>\n",
       "      <td>NaN</td>\n",
       "      <td>Specific Gravity</td>\n",
       "      <td>extract</td>\n",
       "      <td>NaN</td>\n",
       "      <td>NaN</td>\n",
       "      <td>NaN</td>\n",
       "      <td>NaN</td>\n",
       "    </tr>\n",
       "    <tr>\n",
       "      <th>4</th>\n",
       "      <td>Zombie Dust Clone - ALL GRAIN</td>\n",
       "      <td>/homebrew/recipe/view/5916/zombie-dust-clone-a...</td>\n",
       "      <td>American IPA</td>\n",
       "      <td>7</td>\n",
       "      <td>22.71</td>\n",
       "      <td>1.061</td>\n",
       "      <td>1.017</td>\n",
       "      <td>5.80</td>\n",
       "      <td>54.48</td>\n",
       "      <td>8.50</td>\n",
       "      <td>...</td>\n",
       "      <td>60</td>\n",
       "      <td>NaN</td>\n",
       "      <td>70.0</td>\n",
       "      <td>NaN</td>\n",
       "      <td>Specific Gravity</td>\n",
       "      <td>All Grain</td>\n",
       "      <td>NaN</td>\n",
       "      <td>NaN</td>\n",
       "      <td>NaN</td>\n",
       "      <td>NaN</td>\n",
       "    </tr>\n",
       "    <tr>\n",
       "      <th>5</th>\n",
       "      <td>Bakke Brygg Belgisk Blonde 50 l</td>\n",
       "      <td>/homebrew/recipe/view/89534/bakke-brygg-belgis...</td>\n",
       "      <td>Belgian Blond Ale</td>\n",
       "      <td>20</td>\n",
       "      <td>50.00</td>\n",
       "      <td>1.060</td>\n",
       "      <td>1.010</td>\n",
       "      <td>6.48</td>\n",
       "      <td>17.84</td>\n",
       "      <td>4.57</td>\n",
       "      <td>...</td>\n",
       "      <td>90</td>\n",
       "      <td>1.050</td>\n",
       "      <td>72.0</td>\n",
       "      <td>NaN</td>\n",
       "      <td>Specific Gravity</td>\n",
       "      <td>All Grain</td>\n",
       "      <td>NaN</td>\n",
       "      <td>19.00</td>\n",
       "      <td>Sukkerlake</td>\n",
       "      <td>6-7 g sukker/l</td>\n",
       "    </tr>\n",
       "  </tbody>\n",
       "</table>\n",
       "<p>5 rows × 21 columns</p>\n",
       "</div>"
      ],
      "text/plain": [
       "                                   Name  \\\n",
       "BeerID                                    \n",
       "1                     Vanilla Cream Ale   \n",
       "2           Southern Tier Pumking clone   \n",
       "3           Zombie Dust Clone - EXTRACT   \n",
       "4         Zombie Dust Clone - ALL GRAIN   \n",
       "5       Bakke Brygg Belgisk Blonde 50 l   \n",
       "\n",
       "                                                      URL  \\\n",
       "BeerID                                                      \n",
       "1            /homebrew/recipe/view/1633/vanilla-cream-ale   \n",
       "2       /homebrew/recipe/view/16367/southern-tier-pumk...   \n",
       "3       /homebrew/recipe/view/5920/zombie-dust-clone-e...   \n",
       "4       /homebrew/recipe/view/5916/zombie-dust-clone-a...   \n",
       "5       /homebrew/recipe/view/89534/bakke-brygg-belgis...   \n",
       "\n",
       "                                     Style  StyleID  Size(L)     OG     FG  \\\n",
       "BeerID                                                                       \n",
       "1                                Cream Ale       45    21.77  1.055  1.013   \n",
       "2       Holiday/Winter Special Spiced Beer       85    20.82  1.083  1.021   \n",
       "3                             American IPA        7    18.93  1.063  1.018   \n",
       "4                             American IPA        7    22.71  1.061  1.017   \n",
       "5                        Belgian Blond Ale       20    50.00  1.060  1.010   \n",
       "\n",
       "         ABV    IBU  Color       ...        BoilTime  BoilGravity  Efficiency  \\\n",
       "BeerID                           ...                                            \n",
       "1       5.48  17.65   4.83       ...              75        1.038        70.0   \n",
       "2       8.16  60.65  15.64       ...              60        1.070        70.0   \n",
       "3       5.91  59.25   8.98       ...              60          NaN        70.0   \n",
       "4       5.80  54.48   8.50       ...              60          NaN        70.0   \n",
       "5       6.48  17.84   4.57       ...              90        1.050        72.0   \n",
       "\n",
       "        MashThickness        SugarScale BrewMethod PitchRate  PrimaryTemp  \\\n",
       "BeerID                                                                      \n",
       "1                 NaN  Specific Gravity  All Grain       NaN        17.78   \n",
       "2                 NaN  Specific Gravity  All Grain       NaN          NaN   \n",
       "3                 NaN  Specific Gravity    extract       NaN          NaN   \n",
       "4                 NaN  Specific Gravity  All Grain       NaN          NaN   \n",
       "5                 NaN  Specific Gravity  All Grain       NaN        19.00   \n",
       "\n",
       "        PrimingMethod   PrimingAmount  \n",
       "BeerID                                 \n",
       "1          corn sugar          4.5 oz  \n",
       "2                 NaN             NaN  \n",
       "3                 NaN             NaN  \n",
       "4                 NaN             NaN  \n",
       "5          Sukkerlake  6-7 g sukker/l  \n",
       "\n",
       "[5 rows x 21 columns]"
      ]
     },
     "execution_count": 4,
     "metadata": {},
     "output_type": "execute_result"
    }
   ],
   "source": [
    "beer.head()"
   ]
  },
  {
   "cell_type": "code",
   "execution_count": 5,
   "metadata": {},
   "outputs": [
    {
     "data": {
      "text/plain": [
       "Name                 1\n",
       "Style              596\n",
       "BoilGravity       2990\n",
       "MashThickness    29864\n",
       "PitchRate        39252\n",
       "PrimaryTemp      22662\n",
       "PrimingMethod    67095\n",
       "PrimingAmount    69087\n",
       "dtype: int64"
      ]
     },
     "execution_count": 5,
     "metadata": {},
     "output_type": "execute_result"
    }
   ],
   "source": [
    "## Count nulls \n",
    "null_count = beer.isnull().sum()\n",
    "null_count[null_count>0]"
   ]
  },
  {
   "cell_type": "markdown",
   "metadata": {},
   "source": [
    "PrimingMethod and PrimingAmount have too many nulls to be useful."
   ]
  },
  {
   "cell_type": "code",
   "execution_count": 6,
   "metadata": {},
   "outputs": [],
   "source": [
    "beer = beer.drop(columns = ['PrimingMethod','PrimingAmount','URL','Name'])"
   ]
  },
  {
   "cell_type": "code",
   "execution_count": 7,
   "metadata": {},
   "outputs": [
    {
     "name": "stdout",
     "output_type": "stream",
     "text": [
      "BrewMethod\n",
      "4\n"
     ]
    }
   ],
   "source": [
    "categorical = beer.select_dtypes(include=['object'])\n",
    "for i in categorical:\n",
    "    column = categorical[i]\n",
    "print(i)\n",
    "print(column.nunique())"
   ]
  },
  {
   "cell_type": "markdown",
   "metadata": {},
   "source": [
    "BrewMethod has 4 data types and no nulls. Let's take a look. We might have to do get_dummies."
   ]
  },
  {
   "cell_type": "code",
   "execution_count": 8,
   "metadata": {},
   "outputs": [
    {
     "data": {
      "text/plain": [
       "All Grain       49692\n",
       "BIAB            12016\n",
       "extract          8626\n",
       "Partial Mash     3527\n",
       "Name: BrewMethod, dtype: int64"
      ]
     },
     "execution_count": 8,
     "metadata": {},
     "output_type": "execute_result"
    }
   ],
   "source": [
    "beer.BrewMethod.value_counts()"
   ]
  },
  {
   "cell_type": "markdown",
   "metadata": {},
   "source": [
    "Style has many null values while StyleID does not. Let's remove Style since we can get the same info from StyleID."
   ]
  },
  {
   "cell_type": "code",
   "execution_count": 9,
   "metadata": {},
   "outputs": [],
   "source": [
    "beer = beer.drop(columns = ['Style'])"
   ]
  },
  {
   "cell_type": "markdown",
   "metadata": {},
   "source": [
    "PitchRate also has an awful lot of nan values. I'll do a histogram to see if the nan values are consistent across all styles."
   ]
  },
  {
   "cell_type": "code",
   "execution_count": 10,
   "metadata": {},
   "outputs": [
    {
     "data": {
      "text/plain": [
       "count    34609.000000\n",
       "mean         0.750468\n",
       "std          0.394262\n",
       "min          0.000000\n",
       "25%          0.350000\n",
       "50%          0.750000\n",
       "75%          1.000000\n",
       "max          2.000000\n",
       "Name: PitchRate, dtype: float64"
      ]
     },
     "execution_count": 10,
     "metadata": {},
     "output_type": "execute_result"
    }
   ],
   "source": [
    "beer.PitchRate.describe()"
   ]
  },
  {
   "cell_type": "markdown",
   "metadata": {},
   "source": [
    "Looks like PitchRate actually has only 176 values. That's not enough. Let's remove it. We'll do the same with PrimaryTemp and MashThickness if they have counts in the hundreds."
   ]
  },
  {
   "cell_type": "code",
   "execution_count": 11,
   "metadata": {},
   "outputs": [],
   "source": [
    "beer = beer.drop(columns = ['PitchRate'])"
   ]
  },
  {
   "cell_type": "code",
   "execution_count": 12,
   "metadata": {},
   "outputs": [
    {
     "data": {
      "text/plain": [
       "count    51199.000000\n",
       "mean        19.175641\n",
       "std          4.219676\n",
       "min        -17.780000\n",
       "25%         18.000000\n",
       "50%         20.000000\n",
       "75%         20.000000\n",
       "max        114.000000\n",
       "Name: PrimaryTemp, dtype: float64"
      ]
     },
     "execution_count": 12,
     "metadata": {},
     "output_type": "execute_result"
    }
   ],
   "source": [
    "beer['PrimaryTemp'].describe()"
   ]
  },
  {
   "cell_type": "code",
   "execution_count": 13,
   "metadata": {},
   "outputs": [
    {
     "data": {
      "text/plain": [
       "count    43997.000000\n",
       "mean         2.127235\n",
       "std          1.682347\n",
       "min          0.000000\n",
       "25%          1.500000\n",
       "50%          1.500000\n",
       "75%          3.000000\n",
       "max        100.000000\n",
       "Name: MashThickness, dtype: float64"
      ]
     },
     "execution_count": 13,
     "metadata": {},
     "output_type": "execute_result"
    }
   ],
   "source": [
    "beer['MashThickness'].describe()"
   ]
  },
  {
   "cell_type": "markdown",
   "metadata": {},
   "source": [
    "The counts for MashThickness and PrimaryTemp are fairly high. We can keep these features if they don't seem skewed toward one style or another."
   ]
  },
  {
   "cell_type": "code",
   "execution_count": 14,
   "metadata": {},
   "outputs": [],
   "source": [
    "beergroup = pd.DataFrame(beer.groupby('StyleID')['MashThickness'].count().reset_index())"
   ]
  },
  {
   "cell_type": "code",
   "execution_count": 15,
   "metadata": {},
   "outputs": [],
   "source": [
    "beergroup2 = pd.DataFrame(beer.groupby('StyleID')['PrimaryTemp'].count().reset_index())"
   ]
  },
  {
   "cell_type": "code",
   "execution_count": 16,
   "metadata": {},
   "outputs": [
    {
     "data": {
      "text/html": [
       "<div>\n",
       "<style scoped>\n",
       "    .dataframe tbody tr th:only-of-type {\n",
       "        vertical-align: middle;\n",
       "    }\n",
       "\n",
       "    .dataframe tbody tr th {\n",
       "        vertical-align: top;\n",
       "    }\n",
       "\n",
       "    .dataframe thead th {\n",
       "        text-align: right;\n",
       "    }\n",
       "</style>\n",
       "<table border=\"1\" class=\"dataframe\">\n",
       "  <thead>\n",
       "    <tr style=\"text-align: right;\">\n",
       "      <th></th>\n",
       "      <th>StyleID</th>\n",
       "      <th>MashThickness</th>\n",
       "    </tr>\n",
       "  </thead>\n",
       "  <tbody>\n",
       "    <tr>\n",
       "      <th>0</th>\n",
       "      <td>1</td>\n",
       "      <td>95</td>\n",
       "    </tr>\n",
       "    <tr>\n",
       "      <th>1</th>\n",
       "      <td>2</td>\n",
       "      <td>22</td>\n",
       "    </tr>\n",
       "    <tr>\n",
       "      <th>2</th>\n",
       "      <td>3</td>\n",
       "      <td>11</td>\n",
       "    </tr>\n",
       "    <tr>\n",
       "      <th>3</th>\n",
       "      <td>4</td>\n",
       "      <td>1139</td>\n",
       "    </tr>\n",
       "    <tr>\n",
       "      <th>4</th>\n",
       "      <td>5</td>\n",
       "      <td>214</td>\n",
       "    </tr>\n",
       "  </tbody>\n",
       "</table>\n",
       "</div>"
      ],
      "text/plain": [
       "   StyleID  MashThickness\n",
       "0        1             95\n",
       "1        2             22\n",
       "2        3             11\n",
       "3        4           1139\n",
       "4        5            214"
      ]
     },
     "execution_count": 16,
     "metadata": {},
     "output_type": "execute_result"
    }
   ],
   "source": [
    "beergroup.head()"
   ]
  },
  {
   "cell_type": "code",
   "execution_count": 17,
   "metadata": {},
   "outputs": [
    {
     "data": {
      "text/plain": [
       "<seaborn.axisgrid.FacetGrid at 0x105455ef0>"
      ]
     },
     "execution_count": 17,
     "metadata": {},
     "output_type": "execute_result"
    },
    {
     "data": {
      "image/png": "[encoded data removed]",
      "text/plain": [
       "<matplotlib.figure.Figure at 0x1054556d8>"
      ]
     },
     "metadata": {},
     "output_type": "display_data"
    }
   ],
   "source": [
    "sns.lmplot(x = 'StyleID', y = 'MashThickness', data = beergroup)"
   ]
  },
  {
   "cell_type": "code",
   "execution_count": 18,
   "metadata": {},
   "outputs": [
    {
     "data": {
      "text/plain": [
       "<seaborn.axisgrid.FacetGrid at 0x106482240>"
      ]
     },
     "execution_count": 18,
     "metadata": {},
     "output_type": "execute_result"
    },
    {
     "data": {
      "image/png": "[encoded data removed]",
      "text/plain": [
       "<matplotlib.figure.Figure at 0x106477f60>"
      ]
     },
     "metadata": {},
     "output_type": "display_data"
    }
   ],
   "source": [
    "sns.lmplot(x = 'StyleID', y = 'PrimaryTemp', data = beergroup2)"
   ]
  },
  {
   "cell_type": "markdown",
   "metadata": {},
   "source": [
    "The available values for both of these seem to pretty consistent across styles. These columns could be useful. Let's do a correlation matrix to see if we actually need MashThickness and PrimaryTemp."
   ]
  },
  {
   "cell_type": "code",
   "execution_count": 38,
   "metadata": {},
   "outputs": [],
   "source": [
    "beerdum = pd.get_dummies(beer)"
   ]
  },
  {
   "cell_type": "code",
   "execution_count": 39,
   "metadata": {},
   "outputs": [
    {
     "data": {
      "text/html": [
       "<div>\n",
       "<style scoped>\n",
       "    .dataframe tbody tr th:only-of-type {\n",
       "        vertical-align: middle;\n",
       "    }\n",
       "\n",
       "    .dataframe tbody tr th {\n",
       "        vertical-align: top;\n",
       "    }\n",
       "\n",
       "    .dataframe thead th {\n",
       "        text-align: right;\n",
       "    }\n",
       "</style>\n",
       "<table border=\"1\" class=\"dataframe\">\n",
       "  <thead>\n",
       "    <tr style=\"text-align: right;\">\n",
       "      <th></th>\n",
       "      <th>StyleID</th>\n",
       "      <th>Size(L)</th>\n",
       "      <th>OG</th>\n",
       "      <th>FG</th>\n",
       "      <th>ABV</th>\n",
       "      <th>IBU</th>\n",
       "      <th>Color</th>\n",
       "      <th>BoilSize</th>\n",
       "      <th>BoilTime</th>\n",
       "      <th>BoilGravity</th>\n",
       "      <th>Efficiency</th>\n",
       "      <th>MashThickness</th>\n",
       "      <th>PrimaryTemp</th>\n",
       "      <th>SugarScale_Plato</th>\n",
       "      <th>SugarScale_Specific Gravity</th>\n",
       "      <th>BrewMethod_All Grain</th>\n",
       "      <th>BrewMethod_BIAB</th>\n",
       "      <th>BrewMethod_Partial Mash</th>\n",
       "      <th>BrewMethod_extract</th>\n",
       "    </tr>\n",
       "    <tr>\n",
       "      <th>BeerID</th>\n",
       "      <th></th>\n",
       "      <th></th>\n",
       "      <th></th>\n",
       "      <th></th>\n",
       "      <th></th>\n",
       "      <th></th>\n",
       "      <th></th>\n",
       "      <th></th>\n",
       "      <th></th>\n",
       "      <th></th>\n",
       "      <th></th>\n",
       "      <th></th>\n",
       "      <th></th>\n",
       "      <th></th>\n",
       "      <th></th>\n",
       "      <th></th>\n",
       "      <th></th>\n",
       "      <th></th>\n",
       "      <th></th>\n",
       "    </tr>\n",
       "  </thead>\n",
       "  <tbody>\n",
       "    <tr>\n",
       "      <th>1</th>\n",
       "      <td>45</td>\n",
       "      <td>21.77</td>\n",
       "      <td>1.055</td>\n",
       "      <td>1.013</td>\n",
       "      <td>5.48</td>\n",
       "      <td>17.65</td>\n",
       "      <td>4.83</td>\n",
       "      <td>28.39</td>\n",
       "      <td>75</td>\n",
       "      <td>1.038</td>\n",
       "      <td>70.0</td>\n",
       "      <td>NaN</td>\n",
       "      <td>17.78</td>\n",
       "      <td>0</td>\n",
       "      <td>1</td>\n",
       "      <td>1</td>\n",
       "      <td>0</td>\n",
       "      <td>0</td>\n",
       "      <td>0</td>\n",
       "    </tr>\n",
       "    <tr>\n",
       "      <th>2</th>\n",
       "      <td>85</td>\n",
       "      <td>20.82</td>\n",
       "      <td>1.083</td>\n",
       "      <td>1.021</td>\n",
       "      <td>8.16</td>\n",
       "      <td>60.65</td>\n",
       "      <td>15.64</td>\n",
       "      <td>24.61</td>\n",
       "      <td>60</td>\n",
       "      <td>1.070</td>\n",
       "      <td>70.0</td>\n",
       "      <td>NaN</td>\n",
       "      <td>NaN</td>\n",
       "      <td>0</td>\n",
       "      <td>1</td>\n",
       "      <td>1</td>\n",
       "      <td>0</td>\n",
       "      <td>0</td>\n",
       "      <td>0</td>\n",
       "    </tr>\n",
       "    <tr>\n",
       "      <th>3</th>\n",
       "      <td>7</td>\n",
       "      <td>18.93</td>\n",
       "      <td>1.063</td>\n",
       "      <td>1.018</td>\n",
       "      <td>5.91</td>\n",
       "      <td>59.25</td>\n",
       "      <td>8.98</td>\n",
       "      <td>22.71</td>\n",
       "      <td>60</td>\n",
       "      <td>NaN</td>\n",
       "      <td>70.0</td>\n",
       "      <td>NaN</td>\n",
       "      <td>NaN</td>\n",
       "      <td>0</td>\n",
       "      <td>1</td>\n",
       "      <td>0</td>\n",
       "      <td>0</td>\n",
       "      <td>0</td>\n",
       "      <td>1</td>\n",
       "    </tr>\n",
       "    <tr>\n",
       "      <th>4</th>\n",
       "      <td>7</td>\n",
       "      <td>22.71</td>\n",
       "      <td>1.061</td>\n",
       "      <td>1.017</td>\n",
       "      <td>5.80</td>\n",
       "      <td>54.48</td>\n",
       "      <td>8.50</td>\n",
       "      <td>26.50</td>\n",
       "      <td>60</td>\n",
       "      <td>NaN</td>\n",
       "      <td>70.0</td>\n",
       "      <td>NaN</td>\n",
       "      <td>NaN</td>\n",
       "      <td>0</td>\n",
       "      <td>1</td>\n",
       "      <td>1</td>\n",
       "      <td>0</td>\n",
       "      <td>0</td>\n",
       "      <td>0</td>\n",
       "    </tr>\n",
       "    <tr>\n",
       "      <th>5</th>\n",
       "      <td>20</td>\n",
       "      <td>50.00</td>\n",
       "      <td>1.060</td>\n",
       "      <td>1.010</td>\n",
       "      <td>6.48</td>\n",
       "      <td>17.84</td>\n",
       "      <td>4.57</td>\n",
       "      <td>60.00</td>\n",
       "      <td>90</td>\n",
       "      <td>1.050</td>\n",
       "      <td>72.0</td>\n",
       "      <td>NaN</td>\n",
       "      <td>19.00</td>\n",
       "      <td>0</td>\n",
       "      <td>1</td>\n",
       "      <td>1</td>\n",
       "      <td>0</td>\n",
       "      <td>0</td>\n",
       "      <td>0</td>\n",
       "    </tr>\n",
       "  </tbody>\n",
       "</table>\n",
       "</div>"
      ],
      "text/plain": [
       "        StyleID  Size(L)     OG     FG   ABV    IBU  Color  BoilSize  \\\n",
       "BeerID                                                                 \n",
       "1            45    21.77  1.055  1.013  5.48  17.65   4.83     28.39   \n",
       "2            85    20.82  1.083  1.021  8.16  60.65  15.64     24.61   \n",
       "3             7    18.93  1.063  1.018  5.91  59.25   8.98     22.71   \n",
       "4             7    22.71  1.061  1.017  5.80  54.48   8.50     26.50   \n",
       "5            20    50.00  1.060  1.010  6.48  17.84   4.57     60.00   \n",
       "\n",
       "        BoilTime  BoilGravity  Efficiency  MashThickness  PrimaryTemp  \\\n",
       "BeerID                                                                  \n",
       "1             75        1.038        70.0            NaN        17.78   \n",
       "2             60        1.070        70.0            NaN          NaN   \n",
       "3             60          NaN        70.0            NaN          NaN   \n",
       "4             60          NaN        70.0            NaN          NaN   \n",
       "5             90        1.050        72.0            NaN        19.00   \n",
       "\n",
       "        SugarScale_Plato  SugarScale_Specific Gravity  BrewMethod_All Grain  \\\n",
       "BeerID                                                                        \n",
       "1                      0                            1                     1   \n",
       "2                      0                            1                     1   \n",
       "3                      0                            1                     0   \n",
       "4                      0                            1                     1   \n",
       "5                      0                            1                     1   \n",
       "\n",
       "        BrewMethod_BIAB  BrewMethod_Partial Mash  BrewMethod_extract  \n",
       "BeerID                                                                \n",
       "1                     0                        0                   0  \n",
       "2                     0                        0                   0  \n",
       "3                     0                        0                   1  \n",
       "4                     0                        0                   0  \n",
       "5                     0                        0                   0  "
      ]
     },
     "execution_count": 39,
     "metadata": {},
     "output_type": "execute_result"
    }
   ],
   "source": [
    "beerdum.head()"
   ]
  },
  {
   "cell_type": "code",
   "execution_count": 40,
   "metadata": {},
   "outputs": [
    {
     "data": {
      "text/html": [
       "<div>\n",
       "<style scoped>\n",
       "    .dataframe tbody tr th:only-of-type {\n",
       "        vertical-align: middle;\n",
       "    }\n",
       "\n",
       "    .dataframe tbody tr th {\n",
       "        vertical-align: top;\n",
       "    }\n",
       "\n",
       "    .dataframe thead th {\n",
       "        text-align: right;\n",
       "    }\n",
       "</style>\n",
       "<table border=\"1\" class=\"dataframe\">\n",
       "  <thead>\n",
       "    <tr style=\"text-align: right;\">\n",
       "      <th></th>\n",
       "      <th>StyleID</th>\n",
       "      <th>Size(L)</th>\n",
       "      <th>OG</th>\n",
       "      <th>FG</th>\n",
       "      <th>ABV</th>\n",
       "      <th>IBU</th>\n",
       "      <th>Color</th>\n",
       "      <th>BoilSize</th>\n",
       "      <th>BoilTime</th>\n",
       "      <th>BoilGravity</th>\n",
       "      <th>Efficiency</th>\n",
       "      <th>MashThickness</th>\n",
       "      <th>PrimaryTemp</th>\n",
       "      <th>SugarScale_Plato</th>\n",
       "      <th>SugarScale_Specific Gravity</th>\n",
       "      <th>BrewMethod_All Grain</th>\n",
       "      <th>BrewMethod_BIAB</th>\n",
       "      <th>BrewMethod_Partial Mash</th>\n",
       "      <th>BrewMethod_extract</th>\n",
       "    </tr>\n",
       "  </thead>\n",
       "  <tbody>\n",
       "    <tr>\n",
       "      <th>StyleID</th>\n",
       "      <td>1.000000</td>\n",
       "      <td>-0.006522</td>\n",
       "      <td>0.002699</td>\n",
       "      <td>0.007336</td>\n",
       "      <td>0.006617</td>\n",
       "      <td>-0.141124</td>\n",
       "      <td>0.166669</td>\n",
       "      <td>-0.006301</td>\n",
       "      <td>0.077969</td>\n",
       "      <td>0.002326</td>\n",
       "      <td>0.021515</td>\n",
       "      <td>0.006167</td>\n",
       "      <td>-0.019661</td>\n",
       "      <td>0.003359</td>\n",
       "      <td>-0.003359</td>\n",
       "      <td>0.013983</td>\n",
       "      <td>-0.002336</td>\n",
       "      <td>0.009732</td>\n",
       "      <td>-0.024206</td>\n",
       "    </tr>\n",
       "    <tr>\n",
       "      <th>Size(L)</th>\n",
       "      <td>-0.006522</td>\n",
       "      <td>1.000000</td>\n",
       "      <td>0.162237</td>\n",
       "      <td>0.141614</td>\n",
       "      <td>-0.013527</td>\n",
       "      <td>-0.029917</td>\n",
       "      <td>-0.018068</td>\n",
       "      <td>0.994143</td>\n",
       "      <td>0.044848</td>\n",
       "      <td>0.176071</td>\n",
       "      <td>0.108826</td>\n",
       "      <td>0.019246</td>\n",
       "      <td>0.004278</td>\n",
       "      <td>0.165177</td>\n",
       "      <td>-0.165177</td>\n",
       "      <td>0.091072</td>\n",
       "      <td>-0.057732</td>\n",
       "      <td>-0.027144</td>\n",
       "      <td>-0.048682</td>\n",
       "    </tr>\n",
       "    <tr>\n",
       "      <th>OG</th>\n",
       "      <td>0.002699</td>\n",
       "      <td>0.162237</td>\n",
       "      <td>1.000000</td>\n",
       "      <td>0.936347</td>\n",
       "      <td>0.029432</td>\n",
       "      <td>-0.001655</td>\n",
       "      <td>0.013632</td>\n",
       "      <td>0.165162</td>\n",
       "      <td>0.031825</td>\n",
       "      <td>0.968138</td>\n",
       "      <td>0.067610</td>\n",
       "      <td>0.046841</td>\n",
       "      <td>0.000518</td>\n",
       "      <td>0.966978</td>\n",
       "      <td>-0.966978</td>\n",
       "      <td>0.074990</td>\n",
       "      <td>-0.042509</td>\n",
       "      <td>-0.023688</td>\n",
       "      <td>-0.044976</td>\n",
       "    </tr>\n",
       "    <tr>\n",
       "      <th>FG</th>\n",
       "      <td>0.007336</td>\n",
       "      <td>0.141614</td>\n",
       "      <td>0.936347</td>\n",
       "      <td>1.000000</td>\n",
       "      <td>0.026851</td>\n",
       "      <td>-0.000719</td>\n",
       "      <td>0.029848</td>\n",
       "      <td>0.142974</td>\n",
       "      <td>0.028930</td>\n",
       "      <td>0.908611</td>\n",
       "      <td>0.061173</td>\n",
       "      <td>0.040541</td>\n",
       "      <td>0.004477</td>\n",
       "      <td>0.879895</td>\n",
       "      <td>-0.879895</td>\n",
       "      <td>0.069044</td>\n",
       "      <td>-0.039570</td>\n",
       "      <td>-0.021441</td>\n",
       "      <td>-0.041160</td>\n",
       "    </tr>\n",
       "    <tr>\n",
       "      <th>ABV</th>\n",
       "      <td>0.006617</td>\n",
       "      <td>-0.013527</td>\n",
       "      <td>0.029432</td>\n",
       "      <td>0.026851</td>\n",
       "      <td>1.000000</td>\n",
       "      <td>0.290889</td>\n",
       "      <td>0.271332</td>\n",
       "      <td>-0.009800</td>\n",
       "      <td>0.120629</td>\n",
       "      <td>0.025421</td>\n",
       "      <td>0.047853</td>\n",
       "      <td>-0.069633</td>\n",
       "      <td>0.060065</td>\n",
       "      <td>-0.011754</td>\n",
       "      <td>0.011754</td>\n",
       "      <td>0.023133</td>\n",
       "      <td>-0.030263</td>\n",
       "      <td>0.009125</td>\n",
       "      <td>-0.005076</td>\n",
       "    </tr>\n",
       "    <tr>\n",
       "      <th>IBU</th>\n",
       "      <td>-0.141124</td>\n",
       "      <td>-0.029917</td>\n",
       "      <td>-0.001655</td>\n",
       "      <td>-0.000719</td>\n",
       "      <td>0.290889</td>\n",
       "      <td>1.000000</td>\n",
       "      <td>0.060283</td>\n",
       "      <td>-0.028258</td>\n",
       "      <td>0.078694</td>\n",
       "      <td>-0.007498</td>\n",
       "      <td>-0.033172</td>\n",
       "      <td>-0.044381</td>\n",
       "      <td>0.035510</td>\n",
       "      <td>-0.014984</td>\n",
       "      <td>0.014984</td>\n",
       "      <td>0.002058</td>\n",
       "      <td>-0.005178</td>\n",
       "      <td>-0.004896</td>\n",
       "      <td>0.006195</td>\n",
       "    </tr>\n",
       "    <tr>\n",
       "      <th>Color</th>\n",
       "      <td>0.166669</td>\n",
       "      <td>-0.018068</td>\n",
       "      <td>0.013632</td>\n",
       "      <td>0.029848</td>\n",
       "      <td>0.271332</td>\n",
       "      <td>0.060283</td>\n",
       "      <td>1.000000</td>\n",
       "      <td>-0.016798</td>\n",
       "      <td>0.058089</td>\n",
       "      <td>0.013451</td>\n",
       "      <td>-0.017297</td>\n",
       "      <td>-0.038406</td>\n",
       "      <td>0.025622</td>\n",
       "      <td>-0.005038</td>\n",
       "      <td>0.005038</td>\n",
       "      <td>0.007478</td>\n",
       "      <td>-0.010460</td>\n",
       "      <td>0.021961</td>\n",
       "      <td>-0.013485</td>\n",
       "    </tr>\n",
       "    <tr>\n",
       "      <th>BoilSize</th>\n",
       "      <td>-0.006301</td>\n",
       "      <td>0.994143</td>\n",
       "      <td>0.165162</td>\n",
       "      <td>0.142974</td>\n",
       "      <td>-0.009800</td>\n",
       "      <td>-0.028258</td>\n",
       "      <td>-0.016798</td>\n",
       "      <td>1.000000</td>\n",
       "      <td>0.051219</td>\n",
       "      <td>0.175972</td>\n",
       "      <td>0.121971</td>\n",
       "      <td>0.017772</td>\n",
       "      <td>0.003000</td>\n",
       "      <td>0.167185</td>\n",
       "      <td>-0.167185</td>\n",
       "      <td>0.103762</td>\n",
       "      <td>-0.054453</td>\n",
       "      <td>-0.036589</td>\n",
       "      <td>-0.064718</td>\n",
       "    </tr>\n",
       "    <tr>\n",
       "      <th>BoilTime</th>\n",
       "      <td>0.077969</td>\n",
       "      <td>0.044848</td>\n",
       "      <td>0.031825</td>\n",
       "      <td>0.028930</td>\n",
       "      <td>0.120629</td>\n",
       "      <td>0.078694</td>\n",
       "      <td>0.058089</td>\n",
       "      <td>0.051219</td>\n",
       "      <td>1.000000</td>\n",
       "      <td>0.026921</td>\n",
       "      <td>0.161295</td>\n",
       "      <td>0.006850</td>\n",
       "      <td>-0.079809</td>\n",
       "      <td>0.027187</td>\n",
       "      <td>-0.027187</td>\n",
       "      <td>0.167420</td>\n",
       "      <td>-0.020255</td>\n",
       "      <td>-0.060951</td>\n",
       "      <td>-0.180843</td>\n",
       "    </tr>\n",
       "    <tr>\n",
       "      <th>BoilGravity</th>\n",
       "      <td>0.002326</td>\n",
       "      <td>0.176071</td>\n",
       "      <td>0.968138</td>\n",
       "      <td>0.908611</td>\n",
       "      <td>0.025421</td>\n",
       "      <td>-0.007498</td>\n",
       "      <td>0.013451</td>\n",
       "      <td>0.175972</td>\n",
       "      <td>0.026921</td>\n",
       "      <td>1.000000</td>\n",
       "      <td>0.059132</td>\n",
       "      <td>0.050944</td>\n",
       "      <td>0.002268</td>\n",
       "      <td>0.941791</td>\n",
       "      <td>-0.941791</td>\n",
       "      <td>0.067139</td>\n",
       "      <td>-0.047205</td>\n",
       "      <td>-0.015316</td>\n",
       "      <td>-0.033632</td>\n",
       "    </tr>\n",
       "    <tr>\n",
       "      <th>Efficiency</th>\n",
       "      <td>0.021515</td>\n",
       "      <td>0.108826</td>\n",
       "      <td>0.067610</td>\n",
       "      <td>0.061173</td>\n",
       "      <td>0.047853</td>\n",
       "      <td>-0.033172</td>\n",
       "      <td>-0.017297</td>\n",
       "      <td>0.121971</td>\n",
       "      <td>0.161295</td>\n",
       "      <td>0.059132</td>\n",
       "      <td>1.000000</td>\n",
       "      <td>0.002939</td>\n",
       "      <td>-0.071047</td>\n",
       "      <td>0.069626</td>\n",
       "      <td>-0.069626</td>\n",
       "      <td>0.456775</td>\n",
       "      <td>0.093831</td>\n",
       "      <td>-0.101126</td>\n",
       "      <td>-0.707998</td>\n",
       "    </tr>\n",
       "    <tr>\n",
       "      <th>MashThickness</th>\n",
       "      <td>0.006167</td>\n",
       "      <td>0.019246</td>\n",
       "      <td>0.046841</td>\n",
       "      <td>0.040541</td>\n",
       "      <td>-0.069633</td>\n",
       "      <td>-0.044381</td>\n",
       "      <td>-0.038406</td>\n",
       "      <td>0.017772</td>\n",
       "      <td>0.006850</td>\n",
       "      <td>0.050944</td>\n",
       "      <td>0.002939</td>\n",
       "      <td>1.000000</td>\n",
       "      <td>0.007746</td>\n",
       "      <td>0.053638</td>\n",
       "      <td>-0.053638</td>\n",
       "      <td>NaN</td>\n",
       "      <td>NaN</td>\n",
       "      <td>NaN</td>\n",
       "      <td>NaN</td>\n",
       "    </tr>\n",
       "    <tr>\n",
       "      <th>PrimaryTemp</th>\n",
       "      <td>-0.019661</td>\n",
       "      <td>0.004278</td>\n",
       "      <td>0.000518</td>\n",
       "      <td>0.004477</td>\n",
       "      <td>0.060065</td>\n",
       "      <td>0.035510</td>\n",
       "      <td>0.025622</td>\n",
       "      <td>0.003000</td>\n",
       "      <td>-0.079809</td>\n",
       "      <td>0.002268</td>\n",
       "      <td>-0.071047</td>\n",
       "      <td>0.007746</td>\n",
       "      <td>1.000000</td>\n",
       "      <td>-0.004315</td>\n",
       "      <td>0.004315</td>\n",
       "      <td>-0.028066</td>\n",
       "      <td>-0.021921</td>\n",
       "      <td>0.018817</td>\n",
       "      <td>0.056840</td>\n",
       "    </tr>\n",
       "    <tr>\n",
       "      <th>SugarScale_Plato</th>\n",
       "      <td>0.003359</td>\n",
       "      <td>0.165177</td>\n",
       "      <td>0.966978</td>\n",
       "      <td>0.879895</td>\n",
       "      <td>-0.011754</td>\n",
       "      <td>-0.014984</td>\n",
       "      <td>-0.005038</td>\n",
       "      <td>0.167185</td>\n",
       "      <td>0.027187</td>\n",
       "      <td>0.941791</td>\n",
       "      <td>0.069626</td>\n",
       "      <td>0.053638</td>\n",
       "      <td>-0.004315</td>\n",
       "      <td>1.000000</td>\n",
       "      <td>-1.000000</td>\n",
       "      <td>0.076401</td>\n",
       "      <td>-0.041554</td>\n",
       "      <td>-0.025985</td>\n",
       "      <td>-0.046610</td>\n",
       "    </tr>\n",
       "    <tr>\n",
       "      <th>SugarScale_Specific Gravity</th>\n",
       "      <td>-0.003359</td>\n",
       "      <td>-0.165177</td>\n",
       "      <td>-0.966978</td>\n",
       "      <td>-0.879895</td>\n",
       "      <td>0.011754</td>\n",
       "      <td>0.014984</td>\n",
       "      <td>0.005038</td>\n",
       "      <td>-0.167185</td>\n",
       "      <td>-0.027187</td>\n",
       "      <td>-0.941791</td>\n",
       "      <td>-0.069626</td>\n",
       "      <td>-0.053638</td>\n",
       "      <td>0.004315</td>\n",
       "      <td>-1.000000</td>\n",
       "      <td>1.000000</td>\n",
       "      <td>-0.076401</td>\n",
       "      <td>0.041554</td>\n",
       "      <td>0.025985</td>\n",
       "      <td>0.046610</td>\n",
       "    </tr>\n",
       "    <tr>\n",
       "      <th>BrewMethod_All Grain</th>\n",
       "      <td>0.013983</td>\n",
       "      <td>0.091072</td>\n",
       "      <td>0.074990</td>\n",
       "      <td>0.069044</td>\n",
       "      <td>0.023133</td>\n",
       "      <td>0.002058</td>\n",
       "      <td>0.007478</td>\n",
       "      <td>0.103762</td>\n",
       "      <td>0.167420</td>\n",
       "      <td>0.067139</td>\n",
       "      <td>0.456775</td>\n",
       "      <td>NaN</td>\n",
       "      <td>-0.028066</td>\n",
       "      <td>0.076401</td>\n",
       "      <td>-0.076401</td>\n",
       "      <td>1.000000</td>\n",
       "      <td>-0.632036</td>\n",
       "      <td>-0.321095</td>\n",
       "      <td>-0.521409</td>\n",
       "    </tr>\n",
       "    <tr>\n",
       "      <th>BrewMethod_BIAB</th>\n",
       "      <td>-0.002336</td>\n",
       "      <td>-0.057732</td>\n",
       "      <td>-0.042509</td>\n",
       "      <td>-0.039570</td>\n",
       "      <td>-0.030263</td>\n",
       "      <td>-0.005178</td>\n",
       "      <td>-0.010460</td>\n",
       "      <td>-0.054453</td>\n",
       "      <td>-0.020255</td>\n",
       "      <td>-0.047205</td>\n",
       "      <td>0.093831</td>\n",
       "      <td>NaN</td>\n",
       "      <td>-0.021921</td>\n",
       "      <td>-0.041554</td>\n",
       "      <td>0.041554</td>\n",
       "      <td>-0.632036</td>\n",
       "      <td>1.000000</td>\n",
       "      <td>-0.098707</td>\n",
       "      <td>-0.160285</td>\n",
       "    </tr>\n",
       "    <tr>\n",
       "      <th>BrewMethod_Partial Mash</th>\n",
       "      <td>0.009732</td>\n",
       "      <td>-0.027144</td>\n",
       "      <td>-0.023688</td>\n",
       "      <td>-0.021441</td>\n",
       "      <td>0.009125</td>\n",
       "      <td>-0.004896</td>\n",
       "      <td>0.021961</td>\n",
       "      <td>-0.036589</td>\n",
       "      <td>-0.060951</td>\n",
       "      <td>-0.015316</td>\n",
       "      <td>-0.101126</td>\n",
       "      <td>NaN</td>\n",
       "      <td>0.018817</td>\n",
       "      <td>-0.025985</td>\n",
       "      <td>0.025985</td>\n",
       "      <td>-0.321095</td>\n",
       "      <td>-0.098707</td>\n",
       "      <td>1.000000</td>\n",
       "      <td>-0.081430</td>\n",
       "    </tr>\n",
       "    <tr>\n",
       "      <th>BrewMethod_extract</th>\n",
       "      <td>-0.024206</td>\n",
       "      <td>-0.048682</td>\n",
       "      <td>-0.044976</td>\n",
       "      <td>-0.041160</td>\n",
       "      <td>-0.005076</td>\n",
       "      <td>0.006195</td>\n",
       "      <td>-0.013485</td>\n",
       "      <td>-0.064718</td>\n",
       "      <td>-0.180843</td>\n",
       "      <td>-0.033632</td>\n",
       "      <td>-0.707998</td>\n",
       "      <td>NaN</td>\n",
       "      <td>0.056840</td>\n",
       "      <td>-0.046610</td>\n",
       "      <td>0.046610</td>\n",
       "      <td>-0.521409</td>\n",
       "      <td>-0.160285</td>\n",
       "      <td>-0.081430</td>\n",
       "      <td>1.000000</td>\n",
       "    </tr>\n",
       "  </tbody>\n",
       "</table>\n",
       "</div>"
      ],
      "text/plain": [
       "                              StyleID   Size(L)        OG        FG       ABV  \\\n",
       "StyleID                      1.000000 -0.006522  0.002699  0.007336  0.006617   \n",
       "Size(L)                     -0.006522  1.000000  0.162237  0.141614 -0.013527   \n",
       "OG                           0.002699  0.162237  1.000000  0.936347  0.029432   \n",
       "FG                           0.007336  0.141614  0.936347  1.000000  0.026851   \n",
       "ABV                          0.006617 -0.013527  0.029432  0.026851  1.000000   \n",
       "IBU                         -0.141124 -0.029917 -0.001655 -0.000719  0.290889   \n",
       "Color                        0.166669 -0.018068  0.013632  0.029848  0.271332   \n",
       "BoilSize                    -0.006301  0.994143  0.165162  0.142974 -0.009800   \n",
       "BoilTime                     0.077969  0.044848  0.031825  0.028930  0.120629   \n",
       "BoilGravity                  0.002326  0.176071  0.968138  0.908611  0.025421   \n",
       "Efficiency                   0.021515  0.108826  0.067610  0.061173  0.047853   \n",
       "MashThickness                0.006167  0.019246  0.046841  0.040541 -0.069633   \n",
       "PrimaryTemp                 -0.019661  0.004278  0.000518  0.004477  0.060065   \n",
       "SugarScale_Plato             0.003359  0.165177  0.966978  0.879895 -0.011754   \n",
       "SugarScale_Specific Gravity -0.003359 -0.165177 -0.966978 -0.879895  0.011754   \n",
       "BrewMethod_All Grain         0.013983  0.091072  0.074990  0.069044  0.023133   \n",
       "BrewMethod_BIAB             -0.002336 -0.057732 -0.042509 -0.039570 -0.030263   \n",
       "BrewMethod_Partial Mash      0.009732 -0.027144 -0.023688 -0.021441  0.009125   \n",
       "BrewMethod_extract          -0.024206 -0.048682 -0.044976 -0.041160 -0.005076   \n",
       "\n",
       "                                  IBU     Color  BoilSize  BoilTime  \\\n",
       "StyleID                     -0.141124  0.166669 -0.006301  0.077969   \n",
       "Size(L)                     -0.029917 -0.018068  0.994143  0.044848   \n",
       "OG                          -0.001655  0.013632  0.165162  0.031825   \n",
       "FG                          -0.000719  0.029848  0.142974  0.028930   \n",
       "ABV                          0.290889  0.271332 -0.009800  0.120629   \n",
       "IBU                          1.000000  0.060283 -0.028258  0.078694   \n",
       "Color                        0.060283  1.000000 -0.016798  0.058089   \n",
       "BoilSize                    -0.028258 -0.016798  1.000000  0.051219   \n",
       "BoilTime                     0.078694  0.058089  0.051219  1.000000   \n",
       "BoilGravity                 -0.007498  0.013451  0.175972  0.026921   \n",
       "Efficiency                  -0.033172 -0.017297  0.121971  0.161295   \n",
       "MashThickness               -0.044381 -0.038406  0.017772  0.006850   \n",
       "PrimaryTemp                  0.035510  0.025622  0.003000 -0.079809   \n",
       "SugarScale_Plato            -0.014984 -0.005038  0.167185  0.027187   \n",
       "SugarScale_Specific Gravity  0.014984  0.005038 -0.167185 -0.027187   \n",
       "BrewMethod_All Grain         0.002058  0.007478  0.103762  0.167420   \n",
       "BrewMethod_BIAB             -0.005178 -0.010460 -0.054453 -0.020255   \n",
       "BrewMethod_Partial Mash     -0.004896  0.021961 -0.036589 -0.060951   \n",
       "BrewMethod_extract           0.006195 -0.013485 -0.064718 -0.180843   \n",
       "\n",
       "                             BoilGravity  Efficiency  MashThickness  \\\n",
       "StyleID                         0.002326    0.021515       0.006167   \n",
       "Size(L)                         0.176071    0.108826       0.019246   \n",
       "OG                              0.968138    0.067610       0.046841   \n",
       "FG                              0.908611    0.061173       0.040541   \n",
       "ABV                             0.025421    0.047853      -0.069633   \n",
       "IBU                            -0.007498   -0.033172      -0.044381   \n",
       "Color                           0.013451   -0.017297      -0.038406   \n",
       "BoilSize                        0.175972    0.121971       0.017772   \n",
       "BoilTime                        0.026921    0.161295       0.006850   \n",
       "BoilGravity                     1.000000    0.059132       0.050944   \n",
       "Efficiency                      0.059132    1.000000       0.002939   \n",
       "MashThickness                   0.050944    0.002939       1.000000   \n",
       "PrimaryTemp                     0.002268   -0.071047       0.007746   \n",
       "SugarScale_Plato                0.941791    0.069626       0.053638   \n",
       "SugarScale_Specific Gravity    -0.941791   -0.069626      -0.053638   \n",
       "BrewMethod_All Grain            0.067139    0.456775            NaN   \n",
       "BrewMethod_BIAB                -0.047205    0.093831            NaN   \n",
       "BrewMethod_Partial Mash        -0.015316   -0.101126            NaN   \n",
       "BrewMethod_extract             -0.033632   -0.707998            NaN   \n",
       "\n",
       "                             PrimaryTemp  SugarScale_Plato  \\\n",
       "StyleID                        -0.019661          0.003359   \n",
       "Size(L)                         0.004278          0.165177   \n",
       "OG                              0.000518          0.966978   \n",
       "FG                              0.004477          0.879895   \n",
       "ABV                             0.060065         -0.011754   \n",
       "IBU                             0.035510         -0.014984   \n",
       "Color                           0.025622         -0.005038   \n",
       "BoilSize                        0.003000          0.167185   \n",
       "BoilTime                       -0.079809          0.027187   \n",
       "BoilGravity                     0.002268          0.941791   \n",
       "Efficiency                     -0.071047          0.069626   \n",
       "MashThickness                   0.007746          0.053638   \n",
       "PrimaryTemp                     1.000000         -0.004315   \n",
       "SugarScale_Plato               -0.004315          1.000000   \n",
       "SugarScale_Specific Gravity     0.004315         -1.000000   \n",
       "BrewMethod_All Grain           -0.028066          0.076401   \n",
       "BrewMethod_BIAB                -0.021921         -0.041554   \n",
       "BrewMethod_Partial Mash         0.018817         -0.025985   \n",
       "BrewMethod_extract              0.056840         -0.046610   \n",
       "\n",
       "                             SugarScale_Specific Gravity  \\\n",
       "StyleID                                        -0.003359   \n",
       "Size(L)                                        -0.165177   \n",
       "OG                                             -0.966978   \n",
       "FG                                             -0.879895   \n",
       "ABV                                             0.011754   \n",
       "IBU                                             0.014984   \n",
       "Color                                           0.005038   \n",
       "BoilSize                                       -0.167185   \n",
       "BoilTime                                       -0.027187   \n",
       "BoilGravity                                    -0.941791   \n",
       "Efficiency                                     -0.069626   \n",
       "MashThickness                                  -0.053638   \n",
       "PrimaryTemp                                     0.004315   \n",
       "SugarScale_Plato                               -1.000000   \n",
       "SugarScale_Specific Gravity                     1.000000   \n",
       "BrewMethod_All Grain                           -0.076401   \n",
       "BrewMethod_BIAB                                 0.041554   \n",
       "BrewMethod_Partial Mash                         0.025985   \n",
       "BrewMethod_extract                              0.046610   \n",
       "\n",
       "                             BrewMethod_All Grain  BrewMethod_BIAB  \\\n",
       "StyleID                                  0.013983        -0.002336   \n",
       "Size(L)                                  0.091072        -0.057732   \n",
       "OG                                       0.074990        -0.042509   \n",
       "FG                                       0.069044        -0.039570   \n",
       "ABV                                      0.023133        -0.030263   \n",
       "IBU                                      0.002058        -0.005178   \n",
       "Color                                    0.007478        -0.010460   \n",
       "BoilSize                                 0.103762        -0.054453   \n",
       "BoilTime                                 0.167420        -0.020255   \n",
       "BoilGravity                              0.067139        -0.047205   \n",
       "Efficiency                               0.456775         0.093831   \n",
       "MashThickness                                 NaN              NaN   \n",
       "PrimaryTemp                             -0.028066        -0.021921   \n",
       "SugarScale_Plato                         0.076401        -0.041554   \n",
       "SugarScale_Specific Gravity             -0.076401         0.041554   \n",
       "BrewMethod_All Grain                     1.000000        -0.632036   \n",
       "BrewMethod_BIAB                         -0.632036         1.000000   \n",
       "BrewMethod_Partial Mash                 -0.321095        -0.098707   \n",
       "BrewMethod_extract                      -0.521409        -0.160285   \n",
       "\n",
       "                             BrewMethod_Partial Mash  BrewMethod_extract  \n",
       "StyleID                                     0.009732           -0.024206  \n",
       "Size(L)                                    -0.027144           -0.048682  \n",
       "OG                                         -0.023688           -0.044976  \n",
       "FG                                         -0.021441           -0.041160  \n",
       "ABV                                         0.009125           -0.005076  \n",
       "IBU                                        -0.004896            0.006195  \n",
       "Color                                       0.021961           -0.013485  \n",
       "BoilSize                                   -0.036589           -0.064718  \n",
       "BoilTime                                   -0.060951           -0.180843  \n",
       "BoilGravity                                -0.015316           -0.033632  \n",
       "Efficiency                                 -0.101126           -0.707998  \n",
       "MashThickness                                    NaN                 NaN  \n",
       "PrimaryTemp                                 0.018817            0.056840  \n",
       "SugarScale_Plato                           -0.025985           -0.046610  \n",
       "SugarScale_Specific Gravity                 0.025985            0.046610  \n",
       "BrewMethod_All Grain                       -0.321095           -0.521409  \n",
       "BrewMethod_BIAB                            -0.098707           -0.160285  \n",
       "BrewMethod_Partial Mash                     1.000000           -0.081430  \n",
       "BrewMethod_extract                         -0.081430            1.000000  "
      ]
     },
     "execution_count": 40,
     "metadata": {},
     "output_type": "execute_result"
    }
   ],
   "source": [
    "corrmat = beerdum.corr()\n",
    "corrmat"
   ]
  },
  {
   "cell_type": "markdown",
   "metadata": {},
   "source": [
    "I don't need Sugarscale_Plato. It is binary and is strongly positively correlated with OG, FG and BoilGravity. I'll drop it. "
   ]
  },
  {
   "cell_type": "code",
   "execution_count": 41,
   "metadata": {},
   "outputs": [],
   "source": [
    "beerdum = beerdum.drop(columns = ['SugarScale_Plato'])"
   ]
  },
  {
   "cell_type": "code",
   "execution_count": 42,
   "metadata": {},
   "outputs": [],
   "source": [
    "##OG is too strongly correlated with FG. I'll keep FG since it has a slightly stronger correlation with StyleID. \n",
    "## This makes sense since it is the final gravity of the beer. Boil Gravity, also highly correlated with FG,\n",
    "##seems unimportant for the same reason.\n",
    "beerdum = beerdum.drop(columns = ['OG','BoilGravity'])"
   ]
  },
  {
   "cell_type": "code",
   "execution_count": 43,
   "metadata": {},
   "outputs": [],
   "source": [
    "##BoilSize and Size are too strongly correlated. I'll keeps Size since it correlates a tiny bit better with Style.\n",
    "beerdum = beerdum.drop(columns = ['BoilSize'])"
   ]
  },
  {
   "cell_type": "code",
   "execution_count": 44,
   "metadata": {},
   "outputs": [
    {
     "data": {
      "image/png": "[encoded data removed]",
      "text/plain": [
       "<matplotlib.figure.Figure at 0x10b1216d8>"
      ]
     },
     "metadata": {},
     "output_type": "display_data"
    }
   ],
   "source": [
    "sns.heatmap(corrmat, vmax=1, square=True)\n",
    "plt.show()"
   ]
  },
  {
   "cell_type": "markdown",
   "metadata": {},
   "source": [
    "This heatmap looks pretty good. The strongest positive correlation is between Efficiency and BrewMethod_All Grain. Now I'd like to take a look at the distributions of MashThickness and PrimaryTemp to see if I can replace the nan values with the mean or median."
   ]
  },
  {
   "cell_type": "code",
   "execution_count": 27,
   "metadata": {},
   "outputs": [
    {
     "data": {
      "text/plain": [
       "(0, 10)"
      ]
     },
     "execution_count": 27,
     "metadata": {},
     "output_type": "execute_result"
    },
    {
     "data": {
      "image/png": "[encoded data removed]",
      "text/plain": [
       "<matplotlib.figure.Figure at 0x10bc43828>"
      ]
     },
     "metadata": {},
     "output_type": "display_data"
    }
   ],
   "source": [
    "plt.hist(beerdum['MashThickness'].dropna(),bins = 100)\n",
    "plt.xlim(0,10)"
   ]
  },
  {
   "cell_type": "code",
   "execution_count": 28,
   "metadata": {},
   "outputs": [
    {
     "data": {
      "text/plain": [
       "{'boxes': [<matplotlib.lines.Line2D at 0x10b094978>],\n",
       " 'caps': [<matplotlib.lines.Line2D at 0x10b09b3c8>,\n",
       "  <matplotlib.lines.Line2D at 0x10b09b7f0>],\n",
       " 'fliers': [<matplotlib.lines.Line2D at 0x10b0a4080>],\n",
       " 'means': [],\n",
       " 'medians': [<matplotlib.lines.Line2D at 0x10b09bc18>],\n",
       " 'whiskers': [<matplotlib.lines.Line2D at 0x10b094ac8>,\n",
       "  <matplotlib.lines.Line2D at 0x10b094f60>]}"
      ]
     },
     "execution_count": 28,
     "metadata": {},
     "output_type": "execute_result"
    },
    {
     "data": {
      "image/png": "[encoded data removed]",
      "text/plain": [
       "<matplotlib.figure.Figure at 0x10b855908>"
      ]
     },
     "metadata": {},
     "output_type": "display_data"
    }
   ],
   "source": [
    "plt.boxplot(beerdum['MashThickness'].dropna(), labels = ['Mash Thickness'])"
   ]
  },
  {
   "cell_type": "markdown",
   "metadata": {},
   "source": [
    "MashThickness has a lot of really high outliers and the distribution is not normal. It probably makes more sense to replace nan values with the median than the mean."
   ]
  },
  {
   "cell_type": "code",
   "execution_count": 29,
   "metadata": {},
   "outputs": [
    {
     "data": {
      "text/plain": [
       "(0, 10)"
      ]
     },
     "execution_count": 29,
     "metadata": {},
     "output_type": "execute_result"
    },
    {
     "data": {
      "image/png": "[encoded data removed]",
      "text/plain": [
       "<matplotlib.figure.Figure at 0x10b0ae128>"
      ]
     },
     "metadata": {},
     "output_type": "display_data"
    }
   ],
   "source": [
    "## Cut off outliers to better identify the median values.\n",
    "plt.boxplot(beerdum['MashThickness'].dropna(), labels = ['Mash Thickness'])\n",
    "plt.ylim(0,10)"
   ]
  },
  {
   "cell_type": "code",
   "execution_count": 30,
   "metadata": {},
   "outputs": [
    {
     "data": {
      "text/plain": [
       "1.5"
      ]
     },
     "execution_count": 30,
     "metadata": {},
     "output_type": "execute_result"
    }
   ],
   "source": [
    "np.median(beerdum['MashThickness'].dropna())"
   ]
  },
  {
   "cell_type": "markdown",
   "metadata": {},
   "source": [
    "The median for MashThickness is 1.5."
   ]
  },
  {
   "cell_type": "code",
   "execution_count": 31,
   "metadata": {},
   "outputs": [],
   "source": [
    "beerdum['MashThickness2'] = beerdum['MashThickness'].fillna(1.5)"
   ]
  },
  {
   "cell_type": "code",
   "execution_count": 48,
   "metadata": {},
   "outputs": [
    {
     "data": {
      "text/plain": [
       "(0, 20)"
      ]
     },
     "execution_count": 48,
     "metadata": {},
     "output_type": "execute_result"
    },
    {
     "data": {
      "image/png": "[encoded data removed]",
      "text/plain": [
       "<matplotlib.figure.Figure at 0x10f50fa90>"
      ]
     },
     "metadata": {},
     "output_type": "display_data"
    }
   ],
   "source": [
    "plt.hist(beerdum['MashThickness'].dropna(), bins = 100)\n",
    "plt.xlim(0,20)"
   ]
  },
  {
   "cell_type": "code",
   "execution_count": 46,
   "metadata": {
    "scrolled": true
   },
   "outputs": [
    {
     "data": {
      "text/plain": [
       "{'boxes': [<matplotlib.lines.Line2D at 0x10f52eac8>],\n",
       " 'caps': [<matplotlib.lines.Line2D at 0x10e87c518>,\n",
       "  <matplotlib.lines.Line2D at 0x10e87c940>],\n",
       " 'fliers': [<matplotlib.lines.Line2D at 0x10e8861d0>],\n",
       " 'means': [],\n",
       " 'medians': [<matplotlib.lines.Line2D at 0x10e87cd68>],\n",
       " 'whiskers': [<matplotlib.lines.Line2D at 0x10f52ec18>,\n",
       "  <matplotlib.lines.Line2D at 0x10e87c0f0>]}"
      ]
     },
     "execution_count": 46,
     "metadata": {},
     "output_type": "execute_result"
    },
    {
     "data": {
      "image/png": "[encoded data removed]",
      "text/plain": [
       "<matplotlib.figure.Figure at 0x10ef91518>"
      ]
     },
     "metadata": {},
     "output_type": "display_data"
    }
   ],
   "source": [
    "plt.boxplot(beerdum['PrimaryTemp'].dropna(), labels = ['PrimaryTemp'])"
   ]
  },
  {
   "cell_type": "code",
   "execution_count": 50,
   "metadata": {},
   "outputs": [
    {
     "data": {
      "text/plain": [
       "20.0"
      ]
     },
     "execution_count": 50,
     "metadata": {},
     "output_type": "execute_result"
    }
   ],
   "source": [
    "np.median(beerdum['PrimaryTemp'].dropna())"
   ]
  },
  {
   "cell_type": "markdown",
   "metadata": {},
   "source": [
    "PrimaryTemp also has a lot of very high outliers. I'll replace nan values with the median."
   ]
  },
  {
   "cell_type": "code",
   "execution_count": 51,
   "metadata": {},
   "outputs": [],
   "source": [
    "beerdum['PrimaryTemp2'] = beerdum['PrimaryTemp'].fillna(20)"
   ]
  },
  {
   "cell_type": "code",
   "execution_count": 52,
   "metadata": {},
   "outputs": [],
   "source": [
    "beerdum['MashThickness2'] = beerdum['MashThickness'].fillna(1.5)"
   ]
  },
  {
   "cell_type": "code",
   "execution_count": 53,
   "metadata": {},
   "outputs": [],
   "source": [
    "beerna = beerdum.drop(columns = ['MashThickness','PrimaryTemp'])"
   ]
  },
  {
   "cell_type": "code",
   "execution_count": 54,
   "metadata": {},
   "outputs": [
    {
     "data": {
      "text/html": [
       "<div>\n",
       "<style scoped>\n",
       "    .dataframe tbody tr th:only-of-type {\n",
       "        vertical-align: middle;\n",
       "    }\n",
       "\n",
       "    .dataframe tbody tr th {\n",
       "        vertical-align: top;\n",
       "    }\n",
       "\n",
       "    .dataframe thead th {\n",
       "        text-align: right;\n",
       "    }\n",
       "</style>\n",
       "<table border=\"1\" class=\"dataframe\">\n",
       "  <thead>\n",
       "    <tr style=\"text-align: right;\">\n",
       "      <th></th>\n",
       "      <th>StyleID</th>\n",
       "      <th>Size(L)</th>\n",
       "      <th>FG</th>\n",
       "      <th>ABV</th>\n",
       "      <th>IBU</th>\n",
       "      <th>Color</th>\n",
       "      <th>BoilTime</th>\n",
       "      <th>Efficiency</th>\n",
       "      <th>SugarScale_Specific Gravity</th>\n",
       "      <th>BrewMethod_All Grain</th>\n",
       "      <th>BrewMethod_BIAB</th>\n",
       "      <th>BrewMethod_Partial Mash</th>\n",
       "      <th>BrewMethod_extract</th>\n",
       "      <th>PrimaryTemp2</th>\n",
       "      <th>MashThickness2</th>\n",
       "    </tr>\n",
       "    <tr>\n",
       "      <th>BeerID</th>\n",
       "      <th></th>\n",
       "      <th></th>\n",
       "      <th></th>\n",
       "      <th></th>\n",
       "      <th></th>\n",
       "      <th></th>\n",
       "      <th></th>\n",
       "      <th></th>\n",
       "      <th></th>\n",
       "      <th></th>\n",
       "      <th></th>\n",
       "      <th></th>\n",
       "      <th></th>\n",
       "      <th></th>\n",
       "      <th></th>\n",
       "    </tr>\n",
       "  </thead>\n",
       "  <tbody>\n",
       "    <tr>\n",
       "      <th>1</th>\n",
       "      <td>45</td>\n",
       "      <td>21.77</td>\n",
       "      <td>1.013</td>\n",
       "      <td>5.48</td>\n",
       "      <td>17.65</td>\n",
       "      <td>4.83</td>\n",
       "      <td>75</td>\n",
       "      <td>70.0</td>\n",
       "      <td>1</td>\n",
       "      <td>1</td>\n",
       "      <td>0</td>\n",
       "      <td>0</td>\n",
       "      <td>0</td>\n",
       "      <td>17.78</td>\n",
       "      <td>1.5</td>\n",
       "    </tr>\n",
       "    <tr>\n",
       "      <th>2</th>\n",
       "      <td>85</td>\n",
       "      <td>20.82</td>\n",
       "      <td>1.021</td>\n",
       "      <td>8.16</td>\n",
       "      <td>60.65</td>\n",
       "      <td>15.64</td>\n",
       "      <td>60</td>\n",
       "      <td>70.0</td>\n",
       "      <td>1</td>\n",
       "      <td>1</td>\n",
       "      <td>0</td>\n",
       "      <td>0</td>\n",
       "      <td>0</td>\n",
       "      <td>20.00</td>\n",
       "      <td>1.5</td>\n",
       "    </tr>\n",
       "    <tr>\n",
       "      <th>3</th>\n",
       "      <td>7</td>\n",
       "      <td>18.93</td>\n",
       "      <td>1.018</td>\n",
       "      <td>5.91</td>\n",
       "      <td>59.25</td>\n",
       "      <td>8.98</td>\n",
       "      <td>60</td>\n",
       "      <td>70.0</td>\n",
       "      <td>1</td>\n",
       "      <td>0</td>\n",
       "      <td>0</td>\n",
       "      <td>0</td>\n",
       "      <td>1</td>\n",
       "      <td>20.00</td>\n",
       "      <td>1.5</td>\n",
       "    </tr>\n",
       "    <tr>\n",
       "      <th>4</th>\n",
       "      <td>7</td>\n",
       "      <td>22.71</td>\n",
       "      <td>1.017</td>\n",
       "      <td>5.80</td>\n",
       "      <td>54.48</td>\n",
       "      <td>8.50</td>\n",
       "      <td>60</td>\n",
       "      <td>70.0</td>\n",
       "      <td>1</td>\n",
       "      <td>1</td>\n",
       "      <td>0</td>\n",
       "      <td>0</td>\n",
       "      <td>0</td>\n",
       "      <td>20.00</td>\n",
       "      <td>1.5</td>\n",
       "    </tr>\n",
       "    <tr>\n",
       "      <th>5</th>\n",
       "      <td>20</td>\n",
       "      <td>50.00</td>\n",
       "      <td>1.010</td>\n",
       "      <td>6.48</td>\n",
       "      <td>17.84</td>\n",
       "      <td>4.57</td>\n",
       "      <td>90</td>\n",
       "      <td>72.0</td>\n",
       "      <td>1</td>\n",
       "      <td>1</td>\n",
       "      <td>0</td>\n",
       "      <td>0</td>\n",
       "      <td>0</td>\n",
       "      <td>19.00</td>\n",
       "      <td>1.5</td>\n",
       "    </tr>\n",
       "  </tbody>\n",
       "</table>\n",
       "</div>"
      ],
      "text/plain": [
       "        StyleID  Size(L)     FG   ABV    IBU  Color  BoilTime  Efficiency  \\\n",
       "BeerID                                                                      \n",
       "1            45    21.77  1.013  5.48  17.65   4.83        75        70.0   \n",
       "2            85    20.82  1.021  8.16  60.65  15.64        60        70.0   \n",
       "3             7    18.93  1.018  5.91  59.25   8.98        60        70.0   \n",
       "4             7    22.71  1.017  5.80  54.48   8.50        60        70.0   \n",
       "5            20    50.00  1.010  6.48  17.84   4.57        90        72.0   \n",
       "\n",
       "        SugarScale_Specific Gravity  BrewMethod_All Grain  BrewMethod_BIAB  \\\n",
       "BeerID                                                                       \n",
       "1                                 1                     1                0   \n",
       "2                                 1                     1                0   \n",
       "3                                 1                     0                0   \n",
       "4                                 1                     1                0   \n",
       "5                                 1                     1                0   \n",
       "\n",
       "        BrewMethod_Partial Mash  BrewMethod_extract  PrimaryTemp2  \\\n",
       "BeerID                                                              \n",
       "1                             0                   0         17.78   \n",
       "2                             0                   0         20.00   \n",
       "3                             0                   1         20.00   \n",
       "4                             0                   0         20.00   \n",
       "5                             0                   0         19.00   \n",
       "\n",
       "        MashThickness2  \n",
       "BeerID                  \n",
       "1                  1.5  \n",
       "2                  1.5  \n",
       "3                  1.5  \n",
       "4                  1.5  \n",
       "5                  1.5  "
      ]
     },
     "execution_count": 54,
     "metadata": {},
     "output_type": "execute_result"
    }
   ],
   "source": [
    "beerna.head()"
   ]
  },
  {
   "cell_type": "code",
   "execution_count": null,
   "metadata": {},
   "outputs": [],
   "source": []
  }
 ],
 "metadata": {
  "kernelspec": {
   "display_name": "Python 3",
   "language": "python",
   "name": "python3"
  },
  "language_info": {
   "codemirror_mode": {
    "name": "ipython",
    "version": 3
   },
   "file_extension": ".py",
   "mimetype": "text/x-python",
   "name": "python",
   "nbconvert_exporter": "python",
   "pygments_lexer": "ipython3",
   "version": "3.6.4"
  }
 },
 "nbformat": 4,
 "nbformat_minor": 2
}
