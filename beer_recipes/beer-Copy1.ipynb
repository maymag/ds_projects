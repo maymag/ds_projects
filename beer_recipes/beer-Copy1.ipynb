{
 "cells": [
  {
   "cell_type": "code",
   "execution_count": 1,
   "metadata": {},
   "outputs": [],
   "source": [
    "#importing libraries\n",
    "import pandas as pd\n",
    "import numpy as np\n",
    "%matplotlib inline\n",
    "import matplotlib.pyplot as plt\n",
    "import seaborn as sns\n",
    "from sklearn.linear_model import LogisticRegression\n",
    "from sklearn.preprocessing import MinMaxScaler\n"
   ]
  },
  {
   "cell_type": "code",
   "execution_count": 2,
   "metadata": {},
   "outputs": [],
   "source": [
    "beer = pd.read_csv('data/recipeData.csv', index_col='BeerID', encoding='latin1')"
   ]
  },
  {
   "cell_type": "code",
   "execution_count": 3,
   "metadata": {},
   "outputs": [
    {
     "data": {
      "text/plain": [
       "(73861, 21)"
      ]
     },
     "execution_count": 3,
     "metadata": {},
     "output_type": "execute_result"
    }
   ],
   "source": [
    "beer.shape"
   ]
  },
  {
   "cell_type": "code",
   "execution_count": 4,
   "metadata": {
    "scrolled": true
   },
   "outputs": [
    {
     "data": {
      "text/html": [
       "<div>\n",
       "<style scoped>\n",
       "    .dataframe tbody tr th:only-of-type {\n",
       "        vertical-align: middle;\n",
       "    }\n",
       "\n",
       "    .dataframe tbody tr th {\n",
       "        vertical-align: top;\n",
       "    }\n",
       "\n",
       "    .dataframe thead th {\n",
       "        text-align: right;\n",
       "    }\n",
       "</style>\n",
       "<table border=\"1\" class=\"dataframe\">\n",
       "  <thead>\n",
       "    <tr style=\"text-align: right;\">\n",
       "      <th></th>\n",
       "      <th>Name</th>\n",
       "      <th>URL</th>\n",
       "      <th>Style</th>\n",
       "      <th>StyleID</th>\n",
       "      <th>Size(L)</th>\n",
       "      <th>OG</th>\n",
       "      <th>FG</th>\n",
       "      <th>ABV</th>\n",
       "      <th>IBU</th>\n",
       "      <th>Color</th>\n",
       "      <th>...</th>\n",
       "      <th>BoilTime</th>\n",
       "      <th>BoilGravity</th>\n",
       "      <th>Efficiency</th>\n",
       "      <th>MashThickness</th>\n",
       "      <th>SugarScale</th>\n",
       "      <th>BrewMethod</th>\n",
       "      <th>PitchRate</th>\n",
       "      <th>PrimaryTemp</th>\n",
       "      <th>PrimingMethod</th>\n",
       "      <th>PrimingAmount</th>\n",
       "    </tr>\n",
       "    <tr>\n",
       "      <th>BeerID</th>\n",
       "      <th></th>\n",
       "      <th></th>\n",
       "      <th></th>\n",
       "      <th></th>\n",
       "      <th></th>\n",
       "      <th></th>\n",
       "      <th></th>\n",
       "      <th></th>\n",
       "      <th></th>\n",
       "      <th></th>\n",
       "      <th></th>\n",
       "      <th></th>\n",
       "      <th></th>\n",
       "      <th></th>\n",
       "      <th></th>\n",
       "      <th></th>\n",
       "      <th></th>\n",
       "      <th></th>\n",
       "      <th></th>\n",
       "      <th></th>\n",
       "      <th></th>\n",
       "    </tr>\n",
       "  </thead>\n",
       "  <tbody>\n",
       "    <tr>\n",
       "      <th>1</th>\n",
       "      <td>Vanilla Cream Ale</td>\n",
       "      <td>/homebrew/recipe/view/1633/vanilla-cream-ale</td>\n",
       "      <td>Cream Ale</td>\n",
       "      <td>45</td>\n",
       "      <td>21.77</td>\n",
       "      <td>1.055</td>\n",
       "      <td>1.013</td>\n",
       "      <td>5.48</td>\n",
       "      <td>17.65</td>\n",
       "      <td>4.83</td>\n",
       "      <td>...</td>\n",
       "      <td>75</td>\n",
       "      <td>1.038</td>\n",
       "      <td>70.0</td>\n",
       "      <td>NaN</td>\n",
       "      <td>Specific Gravity</td>\n",
       "      <td>All Grain</td>\n",
       "      <td>NaN</td>\n",
       "      <td>17.78</td>\n",
       "      <td>corn sugar</td>\n",
       "      <td>4.5 oz</td>\n",
       "    </tr>\n",
       "    <tr>\n",
       "      <th>2</th>\n",
       "      <td>Southern Tier Pumking clone</td>\n",
       "      <td>/homebrew/recipe/view/16367/southern-tier-pumk...</td>\n",
       "      <td>Holiday/Winter Special Spiced Beer</td>\n",
       "      <td>85</td>\n",
       "      <td>20.82</td>\n",
       "      <td>1.083</td>\n",
       "      <td>1.021</td>\n",
       "      <td>8.16</td>\n",
       "      <td>60.65</td>\n",
       "      <td>15.64</td>\n",
       "      <td>...</td>\n",
       "      <td>60</td>\n",
       "      <td>1.070</td>\n",
       "      <td>70.0</td>\n",
       "      <td>NaN</td>\n",
       "      <td>Specific Gravity</td>\n",
       "      <td>All Grain</td>\n",
       "      <td>NaN</td>\n",
       "      <td>NaN</td>\n",
       "      <td>NaN</td>\n",
       "      <td>NaN</td>\n",
       "    </tr>\n",
       "    <tr>\n",
       "      <th>3</th>\n",
       "      <td>Zombie Dust Clone - EXTRACT</td>\n",
       "      <td>/homebrew/recipe/view/5920/zombie-dust-clone-e...</td>\n",
       "      <td>American IPA</td>\n",
       "      <td>7</td>\n",
       "      <td>18.93</td>\n",
       "      <td>1.063</td>\n",
       "      <td>1.018</td>\n",
       "      <td>5.91</td>\n",
       "      <td>59.25</td>\n",
       "      <td>8.98</td>\n",
       "      <td>...</td>\n",
       "      <td>60</td>\n",
       "      <td>NaN</td>\n",
       "      <td>70.0</td>\n",
       "      <td>NaN</td>\n",
       "      <td>Specific Gravity</td>\n",
       "      <td>extract</td>\n",
       "      <td>NaN</td>\n",
       "      <td>NaN</td>\n",
       "      <td>NaN</td>\n",
       "      <td>NaN</td>\n",
       "    </tr>\n",
       "    <tr>\n",
       "      <th>4</th>\n",
       "      <td>Zombie Dust Clone - ALL GRAIN</td>\n",
       "      <td>/homebrew/recipe/view/5916/zombie-dust-clone-a...</td>\n",
       "      <td>American IPA</td>\n",
       "      <td>7</td>\n",
       "      <td>22.71</td>\n",
       "      <td>1.061</td>\n",
       "      <td>1.017</td>\n",
       "      <td>5.80</td>\n",
       "      <td>54.48</td>\n",
       "      <td>8.50</td>\n",
       "      <td>...</td>\n",
       "      <td>60</td>\n",
       "      <td>NaN</td>\n",
       "      <td>70.0</td>\n",
       "      <td>NaN</td>\n",
       "      <td>Specific Gravity</td>\n",
       "      <td>All Grain</td>\n",
       "      <td>NaN</td>\n",
       "      <td>NaN</td>\n",
       "      <td>NaN</td>\n",
       "      <td>NaN</td>\n",
       "    </tr>\n",
       "    <tr>\n",
       "      <th>5</th>\n",
       "      <td>Bakke Brygg Belgisk Blonde 50 l</td>\n",
       "      <td>/homebrew/recipe/view/89534/bakke-brygg-belgis...</td>\n",
       "      <td>Belgian Blond Ale</td>\n",
       "      <td>20</td>\n",
       "      <td>50.00</td>\n",
       "      <td>1.060</td>\n",
       "      <td>1.010</td>\n",
       "      <td>6.48</td>\n",
       "      <td>17.84</td>\n",
       "      <td>4.57</td>\n",
       "      <td>...</td>\n",
       "      <td>90</td>\n",
       "      <td>1.050</td>\n",
       "      <td>72.0</td>\n",
       "      <td>NaN</td>\n",
       "      <td>Specific Gravity</td>\n",
       "      <td>All Grain</td>\n",
       "      <td>NaN</td>\n",
       "      <td>19.00</td>\n",
       "      <td>Sukkerlake</td>\n",
       "      <td>6-7 g sukker/l</td>\n",
       "    </tr>\n",
       "  </tbody>\n",
       "</table>\n",
       "<p>5 rows × 21 columns</p>\n",
       "</div>"
      ],
      "text/plain": [
       "                                   Name  \\\n",
       "BeerID                                    \n",
       "1                     Vanilla Cream Ale   \n",
       "2           Southern Tier Pumking clone   \n",
       "3           Zombie Dust Clone - EXTRACT   \n",
       "4         Zombie Dust Clone - ALL GRAIN   \n",
       "5       Bakke Brygg Belgisk Blonde 50 l   \n",
       "\n",
       "                                                      URL  \\\n",
       "BeerID                                                      \n",
       "1            /homebrew/recipe/view/1633/vanilla-cream-ale   \n",
       "2       /homebrew/recipe/view/16367/southern-tier-pumk...   \n",
       "3       /homebrew/recipe/view/5920/zombie-dust-clone-e...   \n",
       "4       /homebrew/recipe/view/5916/zombie-dust-clone-a...   \n",
       "5       /homebrew/recipe/view/89534/bakke-brygg-belgis...   \n",
       "\n",
       "                                     Style  StyleID  Size(L)     OG     FG  \\\n",
       "BeerID                                                                       \n",
       "1                                Cream Ale       45    21.77  1.055  1.013   \n",
       "2       Holiday/Winter Special Spiced Beer       85    20.82  1.083  1.021   \n",
       "3                             American IPA        7    18.93  1.063  1.018   \n",
       "4                             American IPA        7    22.71  1.061  1.017   \n",
       "5                        Belgian Blond Ale       20    50.00  1.060  1.010   \n",
       "\n",
       "         ABV    IBU  Color       ...        BoilTime  BoilGravity  Efficiency  \\\n",
       "BeerID                           ...                                            \n",
       "1       5.48  17.65   4.83       ...              75        1.038        70.0   \n",
       "2       8.16  60.65  15.64       ...              60        1.070        70.0   \n",
       "3       5.91  59.25   8.98       ...              60          NaN        70.0   \n",
       "4       5.80  54.48   8.50       ...              60          NaN        70.0   \n",
       "5       6.48  17.84   4.57       ...              90        1.050        72.0   \n",
       "\n",
       "        MashThickness        SugarScale BrewMethod PitchRate  PrimaryTemp  \\\n",
       "BeerID                                                                      \n",
       "1                 NaN  Specific Gravity  All Grain       NaN        17.78   \n",
       "2                 NaN  Specific Gravity  All Grain       NaN          NaN   \n",
       "3                 NaN  Specific Gravity    extract       NaN          NaN   \n",
       "4                 NaN  Specific Gravity  All Grain       NaN          NaN   \n",
       "5                 NaN  Specific Gravity  All Grain       NaN        19.00   \n",
       "\n",
       "        PrimingMethod   PrimingAmount  \n",
       "BeerID                                 \n",
       "1          corn sugar          4.5 oz  \n",
       "2                 NaN             NaN  \n",
       "3                 NaN             NaN  \n",
       "4                 NaN             NaN  \n",
       "5          Sukkerlake  6-7 g sukker/l  \n",
       "\n",
       "[5 rows x 21 columns]"
      ]
     },
     "execution_count": 4,
     "metadata": {},
     "output_type": "execute_result"
    }
   ],
   "source": [
    "beer.head()"
   ]
  },
  {
   "cell_type": "code",
   "execution_count": 5,
   "metadata": {
    "scrolled": true
   },
   "outputs": [
    {
     "data": {
      "text/html": [
       "<div>\n",
       "<style scoped>\n",
       "    .dataframe tbody tr th:only-of-type {\n",
       "        vertical-align: middle;\n",
       "    }\n",
       "\n",
       "    .dataframe tbody tr th {\n",
       "        vertical-align: top;\n",
       "    }\n",
       "\n",
       "    .dataframe thead th {\n",
       "        text-align: right;\n",
       "    }\n",
       "</style>\n",
       "<table border=\"1\" class=\"dataframe\">\n",
       "  <thead>\n",
       "    <tr style=\"text-align: right;\">\n",
       "      <th></th>\n",
       "      <th>index</th>\n",
       "      <th>Style</th>\n",
       "    </tr>\n",
       "  </thead>\n",
       "  <tbody>\n",
       "    <tr>\n",
       "      <th>0</th>\n",
       "      <td>American IPA</td>\n",
       "      <td>11940</td>\n",
       "    </tr>\n",
       "    <tr>\n",
       "      <th>1</th>\n",
       "      <td>American Pale Ale</td>\n",
       "      <td>7581</td>\n",
       "    </tr>\n",
       "    <tr>\n",
       "      <th>2</th>\n",
       "      <td>Saison</td>\n",
       "      <td>2617</td>\n",
       "    </tr>\n",
       "    <tr>\n",
       "      <th>3</th>\n",
       "      <td>American Light Lager</td>\n",
       "      <td>2277</td>\n",
       "    </tr>\n",
       "    <tr>\n",
       "      <th>4</th>\n",
       "      <td>American Amber Ale</td>\n",
       "      <td>2038</td>\n",
       "    </tr>\n",
       "    <tr>\n",
       "      <th>5</th>\n",
       "      <td>Blonde Ale</td>\n",
       "      <td>1753</td>\n",
       "    </tr>\n",
       "    <tr>\n",
       "      <th>6</th>\n",
       "      <td>Imperial IPA</td>\n",
       "      <td>1478</td>\n",
       "    </tr>\n",
       "    <tr>\n",
       "      <th>7</th>\n",
       "      <td>American Stout</td>\n",
       "      <td>1268</td>\n",
       "    </tr>\n",
       "    <tr>\n",
       "      <th>8</th>\n",
       "      <td>Irish Red Ale</td>\n",
       "      <td>1204</td>\n",
       "    </tr>\n",
       "    <tr>\n",
       "      <th>9</th>\n",
       "      <td>American Brown Ale</td>\n",
       "      <td>1152</td>\n",
       "    </tr>\n",
       "    <tr>\n",
       "      <th>10</th>\n",
       "      <td>Witbier</td>\n",
       "      <td>1072</td>\n",
       "    </tr>\n",
       "    <tr>\n",
       "      <th>11</th>\n",
       "      <td>California Common Beer</td>\n",
       "      <td>1044</td>\n",
       "    </tr>\n",
       "    <tr>\n",
       "      <th>12</th>\n",
       "      <td>Weissbier</td>\n",
       "      <td>988</td>\n",
       "    </tr>\n",
       "    <tr>\n",
       "      <th>13</th>\n",
       "      <td>Oatmeal Stout</td>\n",
       "      <td>961</td>\n",
       "    </tr>\n",
       "    <tr>\n",
       "      <th>14</th>\n",
       "      <td>Russian Imperial Stout</td>\n",
       "      <td>929</td>\n",
       "    </tr>\n",
       "    <tr>\n",
       "      <th>15</th>\n",
       "      <td>Weizen/Weissbier</td>\n",
       "      <td>919</td>\n",
       "    </tr>\n",
       "    <tr>\n",
       "      <th>16</th>\n",
       "      <td>Sweet Stout</td>\n",
       "      <td>919</td>\n",
       "    </tr>\n",
       "    <tr>\n",
       "      <th>17</th>\n",
       "      <td>Robust Porter</td>\n",
       "      <td>897</td>\n",
       "    </tr>\n",
       "    <tr>\n",
       "      <th>18</th>\n",
       "      <td>Kölsch</td>\n",
       "      <td>869</td>\n",
       "    </tr>\n",
       "    <tr>\n",
       "      <th>19</th>\n",
       "      <td>Double IPA</td>\n",
       "      <td>864</td>\n",
       "    </tr>\n",
       "    <tr>\n",
       "      <th>20</th>\n",
       "      <td>Cream Ale</td>\n",
       "      <td>830</td>\n",
       "    </tr>\n",
       "    <tr>\n",
       "      <th>21</th>\n",
       "      <td>American Porter</td>\n",
       "      <td>787</td>\n",
       "    </tr>\n",
       "    <tr>\n",
       "      <th>22</th>\n",
       "      <td>English IPA</td>\n",
       "      <td>784</td>\n",
       "    </tr>\n",
       "    <tr>\n",
       "      <th>23</th>\n",
       "      <td>Imperial Stout</td>\n",
       "      <td>675</td>\n",
       "    </tr>\n",
       "    <tr>\n",
       "      <th>24</th>\n",
       "      <td>Extra Special/Strong Bitter (ESB)</td>\n",
       "      <td>659</td>\n",
       "    </tr>\n",
       "    <tr>\n",
       "      <th>25</th>\n",
       "      <td>American Wheat Beer</td>\n",
       "      <td>654</td>\n",
       "    </tr>\n",
       "    <tr>\n",
       "      <th>26</th>\n",
       "      <td>Specialty IPA: Black IPA</td>\n",
       "      <td>638</td>\n",
       "    </tr>\n",
       "    <tr>\n",
       "      <th>27</th>\n",
       "      <td>Belgian Pale Ale</td>\n",
       "      <td>625</td>\n",
       "    </tr>\n",
       "    <tr>\n",
       "      <th>28</th>\n",
       "      <td>American Wheat or Rye Beer</td>\n",
       "      <td>571</td>\n",
       "    </tr>\n",
       "    <tr>\n",
       "      <th>29</th>\n",
       "      <td>Belgian Tripel</td>\n",
       "      <td>563</td>\n",
       "    </tr>\n",
       "    <tr>\n",
       "      <th>30</th>\n",
       "      <td>Belgian Dark Strong Ale</td>\n",
       "      <td>538</td>\n",
       "    </tr>\n",
       "    <tr>\n",
       "      <th>31</th>\n",
       "      <td>Belgian Dubbel</td>\n",
       "      <td>530</td>\n",
       "    </tr>\n",
       "    <tr>\n",
       "      <th>32</th>\n",
       "      <td>Spice  Herb  or Vegetable Beer</td>\n",
       "      <td>514</td>\n",
       "    </tr>\n",
       "    <tr>\n",
       "      <th>33</th>\n",
       "      <td>Fruit Beer</td>\n",
       "      <td>502</td>\n",
       "    </tr>\n",
       "    <tr>\n",
       "      <th>34</th>\n",
       "      <td>Belgian Blond Ale</td>\n",
       "      <td>496</td>\n",
       "    </tr>\n",
       "    <tr>\n",
       "      <th>35</th>\n",
       "      <td>Dry Stout</td>\n",
       "      <td>484</td>\n",
       "    </tr>\n",
       "    <tr>\n",
       "      <th>36</th>\n",
       "      <td>Strong Bitter</td>\n",
       "      <td>481</td>\n",
       "    </tr>\n",
       "    <tr>\n",
       "      <th>37</th>\n",
       "      <td>German Pilsner (Pils)</td>\n",
       "      <td>466</td>\n",
       "    </tr>\n",
       "    <tr>\n",
       "      <th>38</th>\n",
       "      <td>Specialty IPA: Red IPA</td>\n",
       "      <td>442</td>\n",
       "    </tr>\n",
       "    <tr>\n",
       "      <th>39</th>\n",
       "      <td>Brown Porter</td>\n",
       "      <td>438</td>\n",
       "    </tr>\n",
       "    <tr>\n",
       "      <th>40</th>\n",
       "      <td>Experimental Beer</td>\n",
       "      <td>432</td>\n",
       "    </tr>\n",
       "    <tr>\n",
       "      <th>41</th>\n",
       "      <td>Specialty Beer</td>\n",
       "      <td>430</td>\n",
       "    </tr>\n",
       "    <tr>\n",
       "      <th>42</th>\n",
       "      <td>Belgian Specialty Ale</td>\n",
       "      <td>422</td>\n",
       "    </tr>\n",
       "  </tbody>\n",
       "</table>\n",
       "</div>"
      ],
      "text/plain": [
       "                                index  Style\n",
       "0                        American IPA  11940\n",
       "1                   American Pale Ale   7581\n",
       "2                              Saison   2617\n",
       "3                American Light Lager   2277\n",
       "4                  American Amber Ale   2038\n",
       "5                          Blonde Ale   1753\n",
       "6                        Imperial IPA   1478\n",
       "7                      American Stout   1268\n",
       "8                       Irish Red Ale   1204\n",
       "9                  American Brown Ale   1152\n",
       "10                            Witbier   1072\n",
       "11             California Common Beer   1044\n",
       "12                          Weissbier    988\n",
       "13                      Oatmeal Stout    961\n",
       "14             Russian Imperial Stout    929\n",
       "15                   Weizen/Weissbier    919\n",
       "16                        Sweet Stout    919\n",
       "17                      Robust Porter    897\n",
       "18                             Kölsch    869\n",
       "19                         Double IPA    864\n",
       "20                          Cream Ale    830\n",
       "21                    American Porter    787\n",
       "22                        English IPA    784\n",
       "23                     Imperial Stout    675\n",
       "24  Extra Special/Strong Bitter (ESB)    659\n",
       "25                American Wheat Beer    654\n",
       "26           Specialty IPA: Black IPA    638\n",
       "27                   Belgian Pale Ale    625\n",
       "28         American Wheat or Rye Beer    571\n",
       "29                     Belgian Tripel    563\n",
       "30            Belgian Dark Strong Ale    538\n",
       "31                     Belgian Dubbel    530\n",
       "32     Spice  Herb  or Vegetable Beer    514\n",
       "33                         Fruit Beer    502\n",
       "34                  Belgian Blond Ale    496\n",
       "35                          Dry Stout    484\n",
       "36                      Strong Bitter    481\n",
       "37              German Pilsner (Pils)    466\n",
       "38             Specialty IPA: Red IPA    442\n",
       "39                       Brown Porter    438\n",
       "40                  Experimental Beer    432\n",
       "41                     Specialty Beer    430\n",
       "42              Belgian Specialty Ale    422"
      ]
     },
     "execution_count": 5,
     "metadata": {},
     "output_type": "execute_result"
    }
   ],
   "source": [
    "stylecounts = pd.DataFrame(beer['Style'].value_counts().reset_index())\n",
    "stylecounts.loc[stylecounts['Style']>400,:]\n"
   ]
  },
  {
   "cell_type": "code",
   "execution_count": 6,
   "metadata": {},
   "outputs": [],
   "source": [
    "#a = beer['Imperial IPA'] = (beer['Style'].str.contains('Imperial IPA'or'Double IPA'))*'Imperial IPA '\n"
   ]
  },
  {
   "cell_type": "code",
   "execution_count": 7,
   "metadata": {},
   "outputs": [],
   "source": [
    "#b = beer['Black IPA'] = (beer['Style'].str.contains('Black IPA'))*'Black IPA '"
   ]
  },
  {
   "cell_type": "code",
   "execution_count": 8,
   "metadata": {},
   "outputs": [],
   "source": [
    "#v = beer['IPA'] = (beer['Style'].str.contains(' IPA'))*'IPA'\n"
   ]
  },
  {
   "cell_type": "code",
   "execution_count": 9,
   "metadata": {},
   "outputs": [],
   "source": [
    "#c = beer['Pale Ale'] = (beer['Style'].str.contains('Pale Ale'))*'Pale Ales' "
   ]
  },
  {
   "cell_type": "code",
   "execution_count": 10,
   "metadata": {},
   "outputs": [],
   "source": [
    "#d = beer['Light Lager'] = (beer['Style'].str.contains('Light Lager'))*'Light '"
   ]
  },
  {
   "cell_type": "code",
   "execution_count": 11,
   "metadata": {},
   "outputs": [],
   "source": [
    "#o = beer['Lager'] = (beer['Style'].str.contains(' Lager|Common |Steam '))*'Lager'"
   ]
  },
  {
   "cell_type": "code",
   "execution_count": 12,
   "metadata": {},
   "outputs": [],
   "source": [
    "#e = beer['Blonde Ale'] = (beer['Style'].str.contains('Blonde Ale' or 'Blond Ale'or 'Cream Ale'))*'Blonde '"
   ]
  },
  {
   "cell_type": "code",
   "execution_count": 13,
   "metadata": {},
   "outputs": [],
   "source": [
    "#f = beer['Pale Ale'] = (beer['Style'].str.contains('Saison|Strong Bitter'))*'Pale Ales'"
   ]
  },
  {
   "cell_type": "code",
   "execution_count": 14,
   "metadata": {},
   "outputs": [],
   "source": [
    "#g = beer['Oatmeal Stout'] = (beer['Style'].str.contains('Oatmeal Stout'))*'Oatmeal Stout '"
   ]
  },
  {
   "cell_type": "code",
   "execution_count": 15,
   "metadata": {},
   "outputs": [],
   "source": [
    "#h = beer['Sweet Stout'] = (beer['Style'].str.contains('Sweet Stout' or 'Oatmeal Stout'))*'Sweet Stout '"
   ]
  },
  {
   "cell_type": "code",
   "execution_count": 16,
   "metadata": {},
   "outputs": [],
   "source": [
    "#j = beer['Saison'] = (beer['Style'].str.contains('Saison'))*'Saison'"
   ]
  },
  {
   "cell_type": "code",
   "execution_count": 17,
   "metadata": {},
   "outputs": [],
   "source": [
    "k = beer['Stout'] = (beer['Style'].str.contains(' Stout'))*'Stout' "
   ]
  },
  {
   "cell_type": "code",
   "execution_count": 18,
   "metadata": {},
   "outputs": [],
   "source": [
    "#m = beer['Ales'] = (beer['Style'].str.contains(' Ale'))*'Ales'"
   ]
  },
  {
   "cell_type": "code",
   "execution_count": 19,
   "metadata": {},
   "outputs": [],
   "source": [
    "#l = beer['Brown Ale'] = (beer['Style'].str.contains('Brown Ale' or 'Dark Strong Ale' or 'Dark Ale'))*'Brown '"
   ]
  },
  {
   "cell_type": "code",
   "execution_count": 20,
   "metadata": {},
   "outputs": [],
   "source": [
    "#n = beer['Ales'] = (beer['Style'].str.contains('Brown Ale|Strong Ale|Dark Ale|Red Ale|Amber Ale|Blonde Ale|Blond Ale|Cream Ale'))*'Ales'"
   ]
  },
  {
   "cell_type": "code",
   "execution_count": 21,
   "metadata": {},
   "outputs": [],
   "source": [
    "#q = beer['Weissbier'] = (beer['Style'].str.contains('Witbier|Weissbier|Weizenbier|Weizen/Weissbier'))*'Weissbier'"
   ]
  },
  {
   "cell_type": "code",
   "execution_count": 22,
   "metadata": {},
   "outputs": [],
   "source": [
    "#s = beer['Kölsch'] = (beer['Style'].str.contains('Kölsch'))*'Kölsch'"
   ]
  },
  {
   "cell_type": "code",
   "execution_count": 23,
   "metadata": {},
   "outputs": [],
   "source": [
    "t = beer['Porter'] = (beer['Style'].str.contains(' Porter'))*'Porter'"
   ]
  },
  {
   "cell_type": "code",
   "execution_count": 24,
   "metadata": {},
   "outputs": [],
   "source": [
    "#u = beer['Wheat beer'] = (beer['Style'].str.contains('Wheat Beer'))*'Wheat Beer'"
   ]
  },
  {
   "cell_type": "code",
   "execution_count": 25,
   "metadata": {
    "scrolled": true
   },
   "outputs": [
    {
     "data": {
      "text/plain": [
       "          64611\n",
       "Stout      5954\n",
       "Porter     2700\n",
       "Name: kind, dtype: int64"
      ]
     },
     "execution_count": 25,
     "metadata": {},
     "output_type": "execute_result"
    }
   ],
   "source": [
    "beer['kind'] = k+t+''\n",
    "beer['kind'].value_counts()"
   ]
  },
  {
   "cell_type": "code",
   "execution_count": 26,
   "metadata": {},
   "outputs": [],
   "source": [
    "beer2 = pd.DataFrame(beer.iloc[:,:-3])"
   ]
  },
  {
   "cell_type": "code",
   "execution_count": 27,
   "metadata": {},
   "outputs": [
    {
     "data": {
      "text/html": [
       "<div>\n",
       "<style scoped>\n",
       "    .dataframe tbody tr th:only-of-type {\n",
       "        vertical-align: middle;\n",
       "    }\n",
       "\n",
       "    .dataframe tbody tr th {\n",
       "        vertical-align: top;\n",
       "    }\n",
       "\n",
       "    .dataframe thead th {\n",
       "        text-align: right;\n",
       "    }\n",
       "</style>\n",
       "<table border=\"1\" class=\"dataframe\">\n",
       "  <thead>\n",
       "    <tr style=\"text-align: right;\">\n",
       "      <th></th>\n",
       "      <th>Name</th>\n",
       "      <th>URL</th>\n",
       "      <th>Style</th>\n",
       "      <th>StyleID</th>\n",
       "      <th>Size(L)</th>\n",
       "      <th>OG</th>\n",
       "      <th>FG</th>\n",
       "      <th>ABV</th>\n",
       "      <th>IBU</th>\n",
       "      <th>Color</th>\n",
       "      <th>...</th>\n",
       "      <th>BoilTime</th>\n",
       "      <th>BoilGravity</th>\n",
       "      <th>Efficiency</th>\n",
       "      <th>MashThickness</th>\n",
       "      <th>SugarScale</th>\n",
       "      <th>BrewMethod</th>\n",
       "      <th>PitchRate</th>\n",
       "      <th>PrimaryTemp</th>\n",
       "      <th>PrimingMethod</th>\n",
       "      <th>PrimingAmount</th>\n",
       "    </tr>\n",
       "    <tr>\n",
       "      <th>BeerID</th>\n",
       "      <th></th>\n",
       "      <th></th>\n",
       "      <th></th>\n",
       "      <th></th>\n",
       "      <th></th>\n",
       "      <th></th>\n",
       "      <th></th>\n",
       "      <th></th>\n",
       "      <th></th>\n",
       "      <th></th>\n",
       "      <th></th>\n",
       "      <th></th>\n",
       "      <th></th>\n",
       "      <th></th>\n",
       "      <th></th>\n",
       "      <th></th>\n",
       "      <th></th>\n",
       "      <th></th>\n",
       "      <th></th>\n",
       "      <th></th>\n",
       "      <th></th>\n",
       "    </tr>\n",
       "  </thead>\n",
       "  <tbody>\n",
       "    <tr>\n",
       "      <th>1</th>\n",
       "      <td>Vanilla Cream Ale</td>\n",
       "      <td>/homebrew/recipe/view/1633/vanilla-cream-ale</td>\n",
       "      <td>Cream Ale</td>\n",
       "      <td>45</td>\n",
       "      <td>21.77</td>\n",
       "      <td>1.055</td>\n",
       "      <td>1.013</td>\n",
       "      <td>5.48</td>\n",
       "      <td>17.65</td>\n",
       "      <td>4.83</td>\n",
       "      <td>...</td>\n",
       "      <td>75</td>\n",
       "      <td>1.038</td>\n",
       "      <td>70.0</td>\n",
       "      <td>NaN</td>\n",
       "      <td>Specific Gravity</td>\n",
       "      <td>All Grain</td>\n",
       "      <td>NaN</td>\n",
       "      <td>17.78</td>\n",
       "      <td>corn sugar</td>\n",
       "      <td>4.5 oz</td>\n",
       "    </tr>\n",
       "    <tr>\n",
       "      <th>2</th>\n",
       "      <td>Southern Tier Pumking clone</td>\n",
       "      <td>/homebrew/recipe/view/16367/southern-tier-pumk...</td>\n",
       "      <td>Holiday/Winter Special Spiced Beer</td>\n",
       "      <td>85</td>\n",
       "      <td>20.82</td>\n",
       "      <td>1.083</td>\n",
       "      <td>1.021</td>\n",
       "      <td>8.16</td>\n",
       "      <td>60.65</td>\n",
       "      <td>15.64</td>\n",
       "      <td>...</td>\n",
       "      <td>60</td>\n",
       "      <td>1.070</td>\n",
       "      <td>70.0</td>\n",
       "      <td>NaN</td>\n",
       "      <td>Specific Gravity</td>\n",
       "      <td>All Grain</td>\n",
       "      <td>NaN</td>\n",
       "      <td>NaN</td>\n",
       "      <td>NaN</td>\n",
       "      <td>NaN</td>\n",
       "    </tr>\n",
       "    <tr>\n",
       "      <th>3</th>\n",
       "      <td>Zombie Dust Clone - EXTRACT</td>\n",
       "      <td>/homebrew/recipe/view/5920/zombie-dust-clone-e...</td>\n",
       "      <td>American IPA</td>\n",
       "      <td>7</td>\n",
       "      <td>18.93</td>\n",
       "      <td>1.063</td>\n",
       "      <td>1.018</td>\n",
       "      <td>5.91</td>\n",
       "      <td>59.25</td>\n",
       "      <td>8.98</td>\n",
       "      <td>...</td>\n",
       "      <td>60</td>\n",
       "      <td>NaN</td>\n",
       "      <td>70.0</td>\n",
       "      <td>NaN</td>\n",
       "      <td>Specific Gravity</td>\n",
       "      <td>extract</td>\n",
       "      <td>NaN</td>\n",
       "      <td>NaN</td>\n",
       "      <td>NaN</td>\n",
       "      <td>NaN</td>\n",
       "    </tr>\n",
       "    <tr>\n",
       "      <th>4</th>\n",
       "      <td>Zombie Dust Clone - ALL GRAIN</td>\n",
       "      <td>/homebrew/recipe/view/5916/zombie-dust-clone-a...</td>\n",
       "      <td>American IPA</td>\n",
       "      <td>7</td>\n",
       "      <td>22.71</td>\n",
       "      <td>1.061</td>\n",
       "      <td>1.017</td>\n",
       "      <td>5.80</td>\n",
       "      <td>54.48</td>\n",
       "      <td>8.50</td>\n",
       "      <td>...</td>\n",
       "      <td>60</td>\n",
       "      <td>NaN</td>\n",
       "      <td>70.0</td>\n",
       "      <td>NaN</td>\n",
       "      <td>Specific Gravity</td>\n",
       "      <td>All Grain</td>\n",
       "      <td>NaN</td>\n",
       "      <td>NaN</td>\n",
       "      <td>NaN</td>\n",
       "      <td>NaN</td>\n",
       "    </tr>\n",
       "    <tr>\n",
       "      <th>5</th>\n",
       "      <td>Bakke Brygg Belgisk Blonde 50 l</td>\n",
       "      <td>/homebrew/recipe/view/89534/bakke-brygg-belgis...</td>\n",
       "      <td>Belgian Blond Ale</td>\n",
       "      <td>20</td>\n",
       "      <td>50.00</td>\n",
       "      <td>1.060</td>\n",
       "      <td>1.010</td>\n",
       "      <td>6.48</td>\n",
       "      <td>17.84</td>\n",
       "      <td>4.57</td>\n",
       "      <td>...</td>\n",
       "      <td>90</td>\n",
       "      <td>1.050</td>\n",
       "      <td>72.0</td>\n",
       "      <td>NaN</td>\n",
       "      <td>Specific Gravity</td>\n",
       "      <td>All Grain</td>\n",
       "      <td>NaN</td>\n",
       "      <td>19.00</td>\n",
       "      <td>Sukkerlake</td>\n",
       "      <td>6-7 g sukker/l</td>\n",
       "    </tr>\n",
       "  </tbody>\n",
       "</table>\n",
       "<p>5 rows × 21 columns</p>\n",
       "</div>"
      ],
      "text/plain": [
       "                                   Name  \\\n",
       "BeerID                                    \n",
       "1                     Vanilla Cream Ale   \n",
       "2           Southern Tier Pumking clone   \n",
       "3           Zombie Dust Clone - EXTRACT   \n",
       "4         Zombie Dust Clone - ALL GRAIN   \n",
       "5       Bakke Brygg Belgisk Blonde 50 l   \n",
       "\n",
       "                                                      URL  \\\n",
       "BeerID                                                      \n",
       "1            /homebrew/recipe/view/1633/vanilla-cream-ale   \n",
       "2       /homebrew/recipe/view/16367/southern-tier-pumk...   \n",
       "3       /homebrew/recipe/view/5920/zombie-dust-clone-e...   \n",
       "4       /homebrew/recipe/view/5916/zombie-dust-clone-a...   \n",
       "5       /homebrew/recipe/view/89534/bakke-brygg-belgis...   \n",
       "\n",
       "                                     Style  StyleID  Size(L)     OG     FG  \\\n",
       "BeerID                                                                       \n",
       "1                                Cream Ale       45    21.77  1.055  1.013   \n",
       "2       Holiday/Winter Special Spiced Beer       85    20.82  1.083  1.021   \n",
       "3                             American IPA        7    18.93  1.063  1.018   \n",
       "4                             American IPA        7    22.71  1.061  1.017   \n",
       "5                        Belgian Blond Ale       20    50.00  1.060  1.010   \n",
       "\n",
       "         ABV    IBU  Color       ...        BoilTime  BoilGravity  Efficiency  \\\n",
       "BeerID                           ...                                            \n",
       "1       5.48  17.65   4.83       ...              75        1.038        70.0   \n",
       "2       8.16  60.65  15.64       ...              60        1.070        70.0   \n",
       "3       5.91  59.25   8.98       ...              60          NaN        70.0   \n",
       "4       5.80  54.48   8.50       ...              60          NaN        70.0   \n",
       "5       6.48  17.84   4.57       ...              90        1.050        72.0   \n",
       "\n",
       "        MashThickness        SugarScale BrewMethod PitchRate  PrimaryTemp  \\\n",
       "BeerID                                                                      \n",
       "1                 NaN  Specific Gravity  All Grain       NaN        17.78   \n",
       "2                 NaN  Specific Gravity  All Grain       NaN          NaN   \n",
       "3                 NaN  Specific Gravity    extract       NaN          NaN   \n",
       "4                 NaN  Specific Gravity  All Grain       NaN          NaN   \n",
       "5                 NaN  Specific Gravity  All Grain       NaN        19.00   \n",
       "\n",
       "        PrimingMethod   PrimingAmount  \n",
       "BeerID                                 \n",
       "1          corn sugar          4.5 oz  \n",
       "2                 NaN             NaN  \n",
       "3                 NaN             NaN  \n",
       "4                 NaN             NaN  \n",
       "5          Sukkerlake  6-7 g sukker/l  \n",
       "\n",
       "[5 rows x 21 columns]"
      ]
     },
     "execution_count": 27,
     "metadata": {},
     "output_type": "execute_result"
    }
   ],
   "source": [
    "beer2.head()"
   ]
  },
  {
   "cell_type": "code",
   "execution_count": 28,
   "metadata": {},
   "outputs": [],
   "source": [
    "beer2['kind'] = beer['kind']"
   ]
  },
  {
   "cell_type": "code",
   "execution_count": 29,
   "metadata": {},
   "outputs": [],
   "source": [
    "beer2['kind'] =  beer2['kind'].replace('',np.nan)"
   ]
  },
  {
   "cell_type": "code",
   "execution_count": 30,
   "metadata": {},
   "outputs": [
    {
     "data": {
      "text/plain": [
       "8654"
      ]
     },
     "execution_count": 30,
     "metadata": {},
     "output_type": "execute_result"
    }
   ],
   "source": [
    "beer2['kind'].count()"
   ]
  },
  {
   "cell_type": "code",
   "execution_count": 31,
   "metadata": {},
   "outputs": [
    {
     "data": {
      "text/plain": [
       "Stout     5954\n",
       "Porter    2700\n",
       "Name: kind, dtype: int64"
      ]
     },
     "execution_count": 31,
     "metadata": {},
     "output_type": "execute_result"
    }
   ],
   "source": [
    "beer2['kind'].value_counts()"
   ]
  },
  {
   "cell_type": "code",
   "execution_count": 32,
   "metadata": {},
   "outputs": [
    {
     "data": {
      "text/plain": [
       "Name                 1\n",
       "Style              596\n",
       "BoilGravity       2990\n",
       "MashThickness    29864\n",
       "PitchRate        39252\n",
       "PrimaryTemp      22662\n",
       "PrimingMethod    67095\n",
       "PrimingAmount    69087\n",
       "kind             65207\n",
       "dtype: int64"
      ]
     },
     "execution_count": 32,
     "metadata": {},
     "output_type": "execute_result"
    }
   ],
   "source": [
    "## Count nulls \n",
    "null_count = beer2.isnull().sum()\n",
    "null_count[null_count>0]"
   ]
  },
  {
   "cell_type": "markdown",
   "metadata": {},
   "source": [
    "PrimingMethod and PrimingAmount have too many nulls to be useful."
   ]
  },
  {
   "cell_type": "code",
   "execution_count": 33,
   "metadata": {},
   "outputs": [],
   "source": [
    "beer2 = beer2.drop(columns = ['PrimingMethod','PrimingAmount','URL','Name'])"
   ]
  },
  {
   "cell_type": "markdown",
   "metadata": {},
   "source": [
    "I'm replacing the style column with my 'kind' column."
   ]
  },
  {
   "cell_type": "code",
   "execution_count": 34,
   "metadata": {},
   "outputs": [],
   "source": [
    "beer2 = beer2.drop(columns = ['Style'])"
   ]
  },
  {
   "cell_type": "markdown",
   "metadata": {},
   "source": [
    "PitchRate also has an awful lot of nan values. I'll do a histogram to see if the nan values are consistent across all styles."
   ]
  },
  {
   "cell_type": "code",
   "execution_count": 35,
   "metadata": {},
   "outputs": [
    {
     "data": {
      "text/plain": [
       "count    34609.000000\n",
       "mean         0.750468\n",
       "std          0.394262\n",
       "min          0.000000\n",
       "25%          0.350000\n",
       "50%          0.750000\n",
       "75%          1.000000\n",
       "max          2.000000\n",
       "Name: PitchRate, dtype: float64"
      ]
     },
     "execution_count": 35,
     "metadata": {},
     "output_type": "execute_result"
    }
   ],
   "source": [
    "beer2.PitchRate.describe()"
   ]
  },
  {
   "cell_type": "code",
   "execution_count": 36,
   "metadata": {},
   "outputs": [
    {
     "data": {
      "text/plain": [
       "count    51199.000000\n",
       "mean        19.175641\n",
       "std          4.219676\n",
       "min        -17.780000\n",
       "25%         18.000000\n",
       "50%         20.000000\n",
       "75%         20.000000\n",
       "max        114.000000\n",
       "Name: PrimaryTemp, dtype: float64"
      ]
     },
     "execution_count": 36,
     "metadata": {},
     "output_type": "execute_result"
    }
   ],
   "source": [
    "beer2['PrimaryTemp'].describe()"
   ]
  },
  {
   "cell_type": "code",
   "execution_count": 37,
   "metadata": {},
   "outputs": [
    {
     "data": {
      "text/plain": [
       "count    43997.000000\n",
       "mean         2.127235\n",
       "std          1.682347\n",
       "min          0.000000\n",
       "25%          1.500000\n",
       "50%          1.500000\n",
       "75%          3.000000\n",
       "max        100.000000\n",
       "Name: MashThickness, dtype: float64"
      ]
     },
     "execution_count": 37,
     "metadata": {},
     "output_type": "execute_result"
    }
   ],
   "source": [
    "beer2['MashThickness'].describe()"
   ]
  },
  {
   "cell_type": "markdown",
   "metadata": {},
   "source": [
    "The counts for MashThickness, PitchRate and PrimaryTemp are fairly high. We can keep these features if they don't seem skewed toward one style or another."
   ]
  },
  {
   "cell_type": "code",
   "execution_count": 38,
   "metadata": {},
   "outputs": [],
   "source": [
    "beergroup = pd.DataFrame(beer2.groupby('StyleID')['MashThickness'].count().reset_index())"
   ]
  },
  {
   "cell_type": "code",
   "execution_count": 39,
   "metadata": {},
   "outputs": [],
   "source": [
    "beergroup2 = pd.DataFrame(beer2.groupby('StyleID')['PrimaryTemp'].count().reset_index())"
   ]
  },
  {
   "cell_type": "code",
   "execution_count": 40,
   "metadata": {},
   "outputs": [],
   "source": [
    "beergroup3 = pd.DataFrame(beer2.groupby('StyleID')['PitchRate'].count().reset_index())"
   ]
  },
  {
   "cell_type": "code",
   "execution_count": 41,
   "metadata": {},
   "outputs": [
    {
     "data": {
      "text/html": [
       "<div>\n",
       "<style scoped>\n",
       "    .dataframe tbody tr th:only-of-type {\n",
       "        vertical-align: middle;\n",
       "    }\n",
       "\n",
       "    .dataframe tbody tr th {\n",
       "        vertical-align: top;\n",
       "    }\n",
       "\n",
       "    .dataframe thead th {\n",
       "        text-align: right;\n",
       "    }\n",
       "</style>\n",
       "<table border=\"1\" class=\"dataframe\">\n",
       "  <thead>\n",
       "    <tr style=\"text-align: right;\">\n",
       "      <th></th>\n",
       "      <th>StyleID</th>\n",
       "      <th>MashThickness</th>\n",
       "    </tr>\n",
       "  </thead>\n",
       "  <tbody>\n",
       "    <tr>\n",
       "      <th>0</th>\n",
       "      <td>1</td>\n",
       "      <td>95</td>\n",
       "    </tr>\n",
       "    <tr>\n",
       "      <th>1</th>\n",
       "      <td>2</td>\n",
       "      <td>22</td>\n",
       "    </tr>\n",
       "    <tr>\n",
       "      <th>2</th>\n",
       "      <td>3</td>\n",
       "      <td>11</td>\n",
       "    </tr>\n",
       "    <tr>\n",
       "      <th>3</th>\n",
       "      <td>4</td>\n",
       "      <td>1139</td>\n",
       "    </tr>\n",
       "    <tr>\n",
       "      <th>4</th>\n",
       "      <td>5</td>\n",
       "      <td>214</td>\n",
       "    </tr>\n",
       "  </tbody>\n",
       "</table>\n",
       "</div>"
      ],
      "text/plain": [
       "   StyleID  MashThickness\n",
       "0        1             95\n",
       "1        2             22\n",
       "2        3             11\n",
       "3        4           1139\n",
       "4        5            214"
      ]
     },
     "execution_count": 41,
     "metadata": {},
     "output_type": "execute_result"
    }
   ],
   "source": [
    "beergroup.head()"
   ]
  },
  {
   "cell_type": "code",
   "execution_count": 42,
   "metadata": {},
   "outputs": [
    {
     "data": {
      "text/plain": [
       "<seaborn.axisgrid.FacetGrid at 0x10970a438>"
      ]
     },
     "execution_count": 42,
     "metadata": {},
     "output_type": "execute_result"
    },
    {
     "data": {
      "image/png": "[encoded data removed]",
      "text/plain": [
       "<matplotlib.figure.Figure at 0x10970a470>"
      ]
     },
     "metadata": {},
     "output_type": "display_data"
    }
   ],
   "source": [
    "sns.lmplot(x = 'StyleID', y = 'MashThickness', data = beergroup)"
   ]
  },
  {
   "cell_type": "code",
   "execution_count": 43,
   "metadata": {},
   "outputs": [
    {
     "data": {
      "text/plain": [
       "<seaborn.axisgrid.FacetGrid at 0x1097adfd0>"
      ]
     },
     "execution_count": 43,
     "metadata": {},
     "output_type": "execute_result"
    },
    {
     "data": {
      "image/png": "[encoded data removed]",
      "text/plain": [
       "<matplotlib.figure.Figure at 0x1097adf60>"
      ]
     },
     "metadata": {},
     "output_type": "display_data"
    }
   ],
   "source": [
    "sns.lmplot(x = 'StyleID', y = 'PrimaryTemp', data = beergroup2)"
   ]
  },
  {
   "cell_type": "code",
   "execution_count": 44,
   "metadata": {},
   "outputs": [
    {
     "data": {
      "text/plain": [
       "<seaborn.axisgrid.FacetGrid at 0x10f6dddd8>"
      ]
     },
     "execution_count": 44,
     "metadata": {},
     "output_type": "execute_result"
    },
    {
     "data": {
      "image/png": "[encoded data removed]",
      "text/plain": [
       "<matplotlib.figure.Figure at 0x10f6ddcc0>"
      ]
     },
     "metadata": {},
     "output_type": "display_data"
    }
   ],
   "source": [
    "sns.lmplot(x = 'StyleID', y = 'PitchRate', data = beergroup3)"
   ]
  },
  {
   "cell_type": "markdown",
   "metadata": {},
   "source": [
    "The available values for all of these seem to pretty consistent across styles. These columns could be useful. Let's do a correlation matrix to see if we actually need them."
   ]
  },
  {
   "cell_type": "code",
   "execution_count": 45,
   "metadata": {},
   "outputs": [
    {
     "data": {
      "text/html": [
       "<div>\n",
       "<style scoped>\n",
       "    .dataframe tbody tr th:only-of-type {\n",
       "        vertical-align: middle;\n",
       "    }\n",
       "\n",
       "    .dataframe tbody tr th {\n",
       "        vertical-align: top;\n",
       "    }\n",
       "\n",
       "    .dataframe thead th {\n",
       "        text-align: right;\n",
       "    }\n",
       "</style>\n",
       "<table border=\"1\" class=\"dataframe\">\n",
       "  <thead>\n",
       "    <tr style=\"text-align: right;\">\n",
       "      <th></th>\n",
       "      <th>StyleID</th>\n",
       "      <th>Size(L)</th>\n",
       "      <th>OG</th>\n",
       "      <th>FG</th>\n",
       "      <th>ABV</th>\n",
       "      <th>IBU</th>\n",
       "      <th>Color</th>\n",
       "      <th>BoilSize</th>\n",
       "      <th>BoilTime</th>\n",
       "      <th>BoilGravity</th>\n",
       "      <th>Efficiency</th>\n",
       "      <th>MashThickness</th>\n",
       "      <th>PitchRate</th>\n",
       "      <th>PrimaryTemp</th>\n",
       "    </tr>\n",
       "  </thead>\n",
       "  <tbody>\n",
       "    <tr>\n",
       "      <th>StyleID</th>\n",
       "      <td>1.000000</td>\n",
       "      <td>-0.006522</td>\n",
       "      <td>0.002699</td>\n",
       "      <td>0.007336</td>\n",
       "      <td>0.006617</td>\n",
       "      <td>-0.141124</td>\n",
       "      <td>0.166669</td>\n",
       "      <td>-0.006301</td>\n",
       "      <td>0.077969</td>\n",
       "      <td>0.002326</td>\n",
       "      <td>0.021515</td>\n",
       "      <td>0.006167</td>\n",
       "      <td>0.079123</td>\n",
       "      <td>-0.019661</td>\n",
       "    </tr>\n",
       "    <tr>\n",
       "      <th>Size(L)</th>\n",
       "      <td>-0.006522</td>\n",
       "      <td>1.000000</td>\n",
       "      <td>0.162237</td>\n",
       "      <td>0.141614</td>\n",
       "      <td>-0.013527</td>\n",
       "      <td>-0.029917</td>\n",
       "      <td>-0.018068</td>\n",
       "      <td>0.994143</td>\n",
       "      <td>0.044848</td>\n",
       "      <td>0.176071</td>\n",
       "      <td>0.108826</td>\n",
       "      <td>0.019246</td>\n",
       "      <td>0.026623</td>\n",
       "      <td>0.004278</td>\n",
       "    </tr>\n",
       "    <tr>\n",
       "      <th>OG</th>\n",
       "      <td>0.002699</td>\n",
       "      <td>0.162237</td>\n",
       "      <td>1.000000</td>\n",
       "      <td>0.936347</td>\n",
       "      <td>0.029432</td>\n",
       "      <td>-0.001655</td>\n",
       "      <td>0.013632</td>\n",
       "      <td>0.165162</td>\n",
       "      <td>0.031825</td>\n",
       "      <td>0.968138</td>\n",
       "      <td>0.067610</td>\n",
       "      <td>0.046841</td>\n",
       "      <td>0.020556</td>\n",
       "      <td>0.000518</td>\n",
       "    </tr>\n",
       "    <tr>\n",
       "      <th>FG</th>\n",
       "      <td>0.007336</td>\n",
       "      <td>0.141614</td>\n",
       "      <td>0.936347</td>\n",
       "      <td>1.000000</td>\n",
       "      <td>0.026851</td>\n",
       "      <td>-0.000719</td>\n",
       "      <td>0.029848</td>\n",
       "      <td>0.142974</td>\n",
       "      <td>0.028930</td>\n",
       "      <td>0.908611</td>\n",
       "      <td>0.061173</td>\n",
       "      <td>0.040541</td>\n",
       "      <td>0.013446</td>\n",
       "      <td>0.004477</td>\n",
       "    </tr>\n",
       "    <tr>\n",
       "      <th>ABV</th>\n",
       "      <td>0.006617</td>\n",
       "      <td>-0.013527</td>\n",
       "      <td>0.029432</td>\n",
       "      <td>0.026851</td>\n",
       "      <td>1.000000</td>\n",
       "      <td>0.290889</td>\n",
       "      <td>0.271332</td>\n",
       "      <td>-0.009800</td>\n",
       "      <td>0.120629</td>\n",
       "      <td>0.025421</td>\n",
       "      <td>0.047853</td>\n",
       "      <td>-0.069633</td>\n",
       "      <td>0.132699</td>\n",
       "      <td>0.060065</td>\n",
       "    </tr>\n",
       "    <tr>\n",
       "      <th>IBU</th>\n",
       "      <td>-0.141124</td>\n",
       "      <td>-0.029917</td>\n",
       "      <td>-0.001655</td>\n",
       "      <td>-0.000719</td>\n",
       "      <td>0.290889</td>\n",
       "      <td>1.000000</td>\n",
       "      <td>0.060283</td>\n",
       "      <td>-0.028258</td>\n",
       "      <td>0.078694</td>\n",
       "      <td>-0.007498</td>\n",
       "      <td>-0.033172</td>\n",
       "      <td>-0.044381</td>\n",
       "      <td>0.006180</td>\n",
       "      <td>0.035510</td>\n",
       "    </tr>\n",
       "    <tr>\n",
       "      <th>Color</th>\n",
       "      <td>0.166669</td>\n",
       "      <td>-0.018068</td>\n",
       "      <td>0.013632</td>\n",
       "      <td>0.029848</td>\n",
       "      <td>0.271332</td>\n",
       "      <td>0.060283</td>\n",
       "      <td>1.000000</td>\n",
       "      <td>-0.016798</td>\n",
       "      <td>0.058089</td>\n",
       "      <td>0.013451</td>\n",
       "      <td>-0.017297</td>\n",
       "      <td>-0.038406</td>\n",
       "      <td>0.016061</td>\n",
       "      <td>0.025622</td>\n",
       "    </tr>\n",
       "    <tr>\n",
       "      <th>BoilSize</th>\n",
       "      <td>-0.006301</td>\n",
       "      <td>0.994143</td>\n",
       "      <td>0.165162</td>\n",
       "      <td>0.142974</td>\n",
       "      <td>-0.009800</td>\n",
       "      <td>-0.028258</td>\n",
       "      <td>-0.016798</td>\n",
       "      <td>1.000000</td>\n",
       "      <td>0.051219</td>\n",
       "      <td>0.175972</td>\n",
       "      <td>0.121971</td>\n",
       "      <td>0.017772</td>\n",
       "      <td>0.030936</td>\n",
       "      <td>0.003000</td>\n",
       "    </tr>\n",
       "    <tr>\n",
       "      <th>BoilTime</th>\n",
       "      <td>0.077969</td>\n",
       "      <td>0.044848</td>\n",
       "      <td>0.031825</td>\n",
       "      <td>0.028930</td>\n",
       "      <td>0.120629</td>\n",
       "      <td>0.078694</td>\n",
       "      <td>0.058089</td>\n",
       "      <td>0.051219</td>\n",
       "      <td>1.000000</td>\n",
       "      <td>0.026921</td>\n",
       "      <td>0.161295</td>\n",
       "      <td>0.006850</td>\n",
       "      <td>0.190922</td>\n",
       "      <td>-0.079809</td>\n",
       "    </tr>\n",
       "    <tr>\n",
       "      <th>BoilGravity</th>\n",
       "      <td>0.002326</td>\n",
       "      <td>0.176071</td>\n",
       "      <td>0.968138</td>\n",
       "      <td>0.908611</td>\n",
       "      <td>0.025421</td>\n",
       "      <td>-0.007498</td>\n",
       "      <td>0.013451</td>\n",
       "      <td>0.175972</td>\n",
       "      <td>0.026921</td>\n",
       "      <td>1.000000</td>\n",
       "      <td>0.059132</td>\n",
       "      <td>0.050944</td>\n",
       "      <td>0.016216</td>\n",
       "      <td>0.002268</td>\n",
       "    </tr>\n",
       "    <tr>\n",
       "      <th>Efficiency</th>\n",
       "      <td>0.021515</td>\n",
       "      <td>0.108826</td>\n",
       "      <td>0.067610</td>\n",
       "      <td>0.061173</td>\n",
       "      <td>0.047853</td>\n",
       "      <td>-0.033172</td>\n",
       "      <td>-0.017297</td>\n",
       "      <td>0.121971</td>\n",
       "      <td>0.161295</td>\n",
       "      <td>0.059132</td>\n",
       "      <td>1.000000</td>\n",
       "      <td>0.002939</td>\n",
       "      <td>0.146332</td>\n",
       "      <td>-0.071047</td>\n",
       "    </tr>\n",
       "    <tr>\n",
       "      <th>MashThickness</th>\n",
       "      <td>0.006167</td>\n",
       "      <td>0.019246</td>\n",
       "      <td>0.046841</td>\n",
       "      <td>0.040541</td>\n",
       "      <td>-0.069633</td>\n",
       "      <td>-0.044381</td>\n",
       "      <td>-0.038406</td>\n",
       "      <td>0.017772</td>\n",
       "      <td>0.006850</td>\n",
       "      <td>0.050944</td>\n",
       "      <td>0.002939</td>\n",
       "      <td>1.000000</td>\n",
       "      <td>-0.010170</td>\n",
       "      <td>0.007746</td>\n",
       "    </tr>\n",
       "    <tr>\n",
       "      <th>PitchRate</th>\n",
       "      <td>0.079123</td>\n",
       "      <td>0.026623</td>\n",
       "      <td>0.020556</td>\n",
       "      <td>0.013446</td>\n",
       "      <td>0.132699</td>\n",
       "      <td>0.006180</td>\n",
       "      <td>0.016061</td>\n",
       "      <td>0.030936</td>\n",
       "      <td>0.190922</td>\n",
       "      <td>0.016216</td>\n",
       "      <td>0.146332</td>\n",
       "      <td>-0.010170</td>\n",
       "      <td>1.000000</td>\n",
       "      <td>-0.295606</td>\n",
       "    </tr>\n",
       "    <tr>\n",
       "      <th>PrimaryTemp</th>\n",
       "      <td>-0.019661</td>\n",
       "      <td>0.004278</td>\n",
       "      <td>0.000518</td>\n",
       "      <td>0.004477</td>\n",
       "      <td>0.060065</td>\n",
       "      <td>0.035510</td>\n",
       "      <td>0.025622</td>\n",
       "      <td>0.003000</td>\n",
       "      <td>-0.079809</td>\n",
       "      <td>0.002268</td>\n",
       "      <td>-0.071047</td>\n",
       "      <td>0.007746</td>\n",
       "      <td>-0.295606</td>\n",
       "      <td>1.000000</td>\n",
       "    </tr>\n",
       "  </tbody>\n",
       "</table>\n",
       "</div>"
      ],
      "text/plain": [
       "                StyleID   Size(L)        OG        FG       ABV       IBU  \\\n",
       "StyleID        1.000000 -0.006522  0.002699  0.007336  0.006617 -0.141124   \n",
       "Size(L)       -0.006522  1.000000  0.162237  0.141614 -0.013527 -0.029917   \n",
       "OG             0.002699  0.162237  1.000000  0.936347  0.029432 -0.001655   \n",
       "FG             0.007336  0.141614  0.936347  1.000000  0.026851 -0.000719   \n",
       "ABV            0.006617 -0.013527  0.029432  0.026851  1.000000  0.290889   \n",
       "IBU           -0.141124 -0.029917 -0.001655 -0.000719  0.290889  1.000000   \n",
       "Color          0.166669 -0.018068  0.013632  0.029848  0.271332  0.060283   \n",
       "BoilSize      -0.006301  0.994143  0.165162  0.142974 -0.009800 -0.028258   \n",
       "BoilTime       0.077969  0.044848  0.031825  0.028930  0.120629  0.078694   \n",
       "BoilGravity    0.002326  0.176071  0.968138  0.908611  0.025421 -0.007498   \n",
       "Efficiency     0.021515  0.108826  0.067610  0.061173  0.047853 -0.033172   \n",
       "MashThickness  0.006167  0.019246  0.046841  0.040541 -0.069633 -0.044381   \n",
       "PitchRate      0.079123  0.026623  0.020556  0.013446  0.132699  0.006180   \n",
       "PrimaryTemp   -0.019661  0.004278  0.000518  0.004477  0.060065  0.035510   \n",
       "\n",
       "                  Color  BoilSize  BoilTime  BoilGravity  Efficiency  \\\n",
       "StyleID        0.166669 -0.006301  0.077969     0.002326    0.021515   \n",
       "Size(L)       -0.018068  0.994143  0.044848     0.176071    0.108826   \n",
       "OG             0.013632  0.165162  0.031825     0.968138    0.067610   \n",
       "FG             0.029848  0.142974  0.028930     0.908611    0.061173   \n",
       "ABV            0.271332 -0.009800  0.120629     0.025421    0.047853   \n",
       "IBU            0.060283 -0.028258  0.078694    -0.007498   -0.033172   \n",
       "Color          1.000000 -0.016798  0.058089     0.013451   -0.017297   \n",
       "BoilSize      -0.016798  1.000000  0.051219     0.175972    0.121971   \n",
       "BoilTime       0.058089  0.051219  1.000000     0.026921    0.161295   \n",
       "BoilGravity    0.013451  0.175972  0.026921     1.000000    0.059132   \n",
       "Efficiency    -0.017297  0.121971  0.161295     0.059132    1.000000   \n",
       "MashThickness -0.038406  0.017772  0.006850     0.050944    0.002939   \n",
       "PitchRate      0.016061  0.030936  0.190922     0.016216    0.146332   \n",
       "PrimaryTemp    0.025622  0.003000 -0.079809     0.002268   -0.071047   \n",
       "\n",
       "               MashThickness  PitchRate  PrimaryTemp  \n",
       "StyleID             0.006167   0.079123    -0.019661  \n",
       "Size(L)             0.019246   0.026623     0.004278  \n",
       "OG                  0.046841   0.020556     0.000518  \n",
       "FG                  0.040541   0.013446     0.004477  \n",
       "ABV                -0.069633   0.132699     0.060065  \n",
       "IBU                -0.044381   0.006180     0.035510  \n",
       "Color              -0.038406   0.016061     0.025622  \n",
       "BoilSize            0.017772   0.030936     0.003000  \n",
       "BoilTime            0.006850   0.190922    -0.079809  \n",
       "BoilGravity         0.050944   0.016216     0.002268  \n",
       "Efficiency          0.002939   0.146332    -0.071047  \n",
       "MashThickness       1.000000  -0.010170     0.007746  \n",
       "PitchRate          -0.010170   1.000000    -0.295606  \n",
       "PrimaryTemp         0.007746  -0.295606     1.000000  "
      ]
     },
     "execution_count": 45,
     "metadata": {},
     "output_type": "execute_result"
    }
   ],
   "source": [
    "beer.corr()"
   ]
  },
  {
   "cell_type": "markdown",
   "metadata": {},
   "source": [
    "These 3 columns don't seem to correlated strongly with anything else. I'll keep them."
   ]
  },
  {
   "cell_type": "code",
   "execution_count": 46,
   "metadata": {},
   "outputs": [
    {
     "data": {
      "text/plain": [
       "(0, 10)"
      ]
     },
     "execution_count": 46,
     "metadata": {},
     "output_type": "execute_result"
    },
    {
     "data": {
      "image/png": "[encoded data removed]",
      "text/plain": [
       "<matplotlib.figure.Figure at 0x10f769a58>"
      ]
     },
     "metadata": {},
     "output_type": "display_data"
    }
   ],
   "source": [
    "plt.hist(beer2['MashThickness'].dropna(),bins = 100)\n",
    "plt.xlim(0,10)"
   ]
  },
  {
   "cell_type": "code",
   "execution_count": 47,
   "metadata": {},
   "outputs": [
    {
     "data": {
      "text/plain": [
       "{'boxes': [<matplotlib.lines.Line2D at 0x112a46320>],\n",
       " 'caps': [<matplotlib.lines.Line2D at 0x112a46d30>,\n",
       "  <matplotlib.lines.Line2D at 0x112a4e198>],\n",
       " 'fliers': [<matplotlib.lines.Line2D at 0x112a4e9e8>],\n",
       " 'means': [],\n",
       " 'medians': [<matplotlib.lines.Line2D at 0x112a4e5c0>],\n",
       " 'whiskers': [<matplotlib.lines.Line2D at 0x112a46470>,\n",
       "  <matplotlib.lines.Line2D at 0x112a46908>]}"
      ]
     },
     "execution_count": 47,
     "metadata": {},
     "output_type": "execute_result"
    },
    {
     "data": {
      "image/png": "[encoded data removed]",
      "text/plain": [
       "<matplotlib.figure.Figure at 0x10f7710f0>"
      ]
     },
     "metadata": {},
     "output_type": "display_data"
    }
   ],
   "source": [
    "plt.boxplot(beer2['MashThickness'].dropna(), labels = ['Mash Thickness'])"
   ]
  },
  {
   "cell_type": "markdown",
   "metadata": {},
   "source": [
    "MashThickness has a lot of really high outliers and the distribution is not normal. It probably makes more sense to replace nan values with the median than the mean."
   ]
  },
  {
   "cell_type": "code",
   "execution_count": 48,
   "metadata": {},
   "outputs": [
    {
     "data": {
      "text/plain": [
       "1.5"
      ]
     },
     "execution_count": 48,
     "metadata": {},
     "output_type": "execute_result"
    }
   ],
   "source": [
    "np.median(beer2['MashThickness'].dropna())"
   ]
  },
  {
   "cell_type": "markdown",
   "metadata": {},
   "source": [
    "The median for MashThickness is 1.5."
   ]
  },
  {
   "cell_type": "code",
   "execution_count": 49,
   "metadata": {},
   "outputs": [
    {
     "data": {
      "text/plain": [
       "(array([4.4000e+01, 2.0000e+00, 3.0000e+00, 1.5000e+01, 3.5000e+01,\n",
       "        5.0000e+00, 2.3000e+01, 5.0000e+00, 2.1000e+01, 1.0300e+02,\n",
       "        2.0120e+03, 1.1590e+03, 2.2540e+03, 1.6954e+04, 2.2760e+04,\n",
       "        4.5200e+03, 8.6600e+02, 1.3300e+02, 1.0000e+02, 6.0000e+00,\n",
       "        1.6000e+01, 1.9000e+01, 1.0000e+00, 3.0000e+00, 2.0000e+00,\n",
       "        6.0000e+00, 1.0000e+00, 0.0000e+00, 0.0000e+00, 5.0000e+00,\n",
       "        3.0000e+00, 5.5000e+01, 3.3000e+01, 1.8000e+01, 4.0000e+00,\n",
       "        4.0000e+00, 0.0000e+00, 5.0000e+00, 1.0000e+00, 0.0000e+00,\n",
       "        0.0000e+00, 0.0000e+00, 1.0000e+00, 0.0000e+00, 0.0000e+00,\n",
       "        0.0000e+00, 0.0000e+00, 0.0000e+00, 0.0000e+00, 2.0000e+00]),\n",
       " array([-17.78  , -15.1444, -12.5088,  -9.8732,  -7.2376,  -4.602 ,\n",
       "         -1.9664,   0.6692,   3.3048,   5.9404,   8.576 ,  11.2116,\n",
       "         13.8472,  16.4828,  19.1184,  21.754 ,  24.3896,  27.0252,\n",
       "         29.6608,  32.2964,  34.932 ,  37.5676,  40.2032,  42.8388,\n",
       "         45.4744,  48.11  ,  50.7456,  53.3812,  56.0168,  58.6524,\n",
       "         61.288 ,  63.9236,  66.5592,  69.1948,  71.8304,  74.466 ,\n",
       "         77.1016,  79.7372,  82.3728,  85.0084,  87.644 ,  90.2796,\n",
       "         92.9152,  95.5508,  98.1864, 100.822 , 103.4576, 106.0932,\n",
       "        108.7288, 111.3644, 114.    ]),\n",
       " <a list of 50 Patch objects>)"
      ]
     },
     "execution_count": 49,
     "metadata": {},
     "output_type": "execute_result"
    },
    {
     "data": {
      "image/png": "[encoded data removed]",
      "text/plain": [
       "<matplotlib.figure.Figure at 0x112a2c518>"
      ]
     },
     "metadata": {},
     "output_type": "display_data"
    }
   ],
   "source": [
    "plt.hist(beer2['PrimaryTemp'].dropna(),bins = 50)\n"
   ]
  },
  {
   "cell_type": "code",
   "execution_count": 50,
   "metadata": {
    "scrolled": true
   },
   "outputs": [
    {
     "data": {
      "text/plain": [
       "{'boxes': [<matplotlib.lines.Line2D at 0x1107a1198>],\n",
       " 'caps': [<matplotlib.lines.Line2D at 0x1107a1ba8>,\n",
       "  <matplotlib.lines.Line2D at 0x1107a1fd0>],\n",
       " 'fliers': [<matplotlib.lines.Line2D at 0x1107a9860>],\n",
       " 'means': [],\n",
       " 'medians': [<matplotlib.lines.Line2D at 0x1107a9438>],\n",
       " 'whiskers': [<matplotlib.lines.Line2D at 0x1107a12e8>,\n",
       "  <matplotlib.lines.Line2D at 0x1107a1780>]}"
      ]
     },
     "execution_count": 50,
     "metadata": {},
     "output_type": "execute_result"
    },
    {
     "data": {
      "image/png": "[encoded data removed]",
      "text/plain": [
       "<matplotlib.figure.Figure at 0x111f970b8>"
      ]
     },
     "metadata": {},
     "output_type": "display_data"
    }
   ],
   "source": [
    "plt.boxplot(beer2['PrimaryTemp'].dropna(), labels = ['PrimaryTemp'])"
   ]
  },
  {
   "cell_type": "code",
   "execution_count": 51,
   "metadata": {
    "scrolled": true
   },
   "outputs": [
    {
     "data": {
      "text/plain": [
       "20.0"
      ]
     },
     "execution_count": 51,
     "metadata": {},
     "output_type": "execute_result"
    }
   ],
   "source": [
    "np.median(beer2['PrimaryTemp'].dropna())"
   ]
  },
  {
   "cell_type": "markdown",
   "metadata": {},
   "source": [
    "PrimaryTemp also has a lot of very high outliers. I'll replace nan values with the median."
   ]
  },
  {
   "cell_type": "code",
   "execution_count": 52,
   "metadata": {
    "scrolled": true
   },
   "outputs": [
    {
     "data": {
      "text/plain": [
       "(array([  51., 9477., 5469., 9002.,    0., 5194., 2405., 1838.,  533.,\n",
       "         640.]),\n",
       " array([0. , 0.2, 0.4, 0.6, 0.8, 1. , 1.2, 1.4, 1.6, 1.8, 2. ]),\n",
       " <a list of 10 Patch objects>)"
      ]
     },
     "execution_count": 52,
     "metadata": {},
     "output_type": "execute_result"
    },
    {
     "data": {
      "image/png": "[encoded data removed]",
      "text/plain": [
       "<matplotlib.figure.Figure at 0x111f9d4a8>"
      ]
     },
     "metadata": {},
     "output_type": "display_data"
    }
   ],
   "source": [
    "plt.hist(beer2['PitchRate'].dropna())"
   ]
  },
  {
   "cell_type": "code",
   "execution_count": 53,
   "metadata": {
    "scrolled": true
   },
   "outputs": [
    {
     "data": {
      "text/plain": [
       "{'boxes': [<matplotlib.lines.Line2D at 0x10f7e5da0>],\n",
       " 'caps': [<matplotlib.lines.Line2D at 0x112ee7a58>,\n",
       "  <matplotlib.lines.Line2D at 0x112ee73c8>],\n",
       " 'fliers': [<matplotlib.lines.Line2D at 0x112ef1c18>],\n",
       " 'means': [],\n",
       " 'medians': [<matplotlib.lines.Line2D at 0x112ef1908>],\n",
       " 'whiskers': [<matplotlib.lines.Line2D at 0x10f7e5ac8>,\n",
       "  <matplotlib.lines.Line2D at 0x112ee7668>]}"
      ]
     },
     "execution_count": 53,
     "metadata": {},
     "output_type": "execute_result"
    },
    {
     "data": {
      "image/png": "[encoded data removed]",
      "text/plain": [
       "<matplotlib.figure.Figure at 0x1107ed8d0>"
      ]
     },
     "metadata": {},
     "output_type": "display_data"
    }
   ],
   "source": [
    "plt.boxplot(beer2['PitchRate'].dropna(), labels = ['PitchRate'])"
   ]
  },
  {
   "cell_type": "code",
   "execution_count": 54,
   "metadata": {},
   "outputs": [
    {
     "data": {
      "text/plain": [
       "0.75"
      ]
     },
     "execution_count": 54,
     "metadata": {},
     "output_type": "execute_result"
    }
   ],
   "source": [
    "np.median(beer2['PitchRate'].dropna())\n"
   ]
  },
  {
   "cell_type": "code",
   "execution_count": 55,
   "metadata": {},
   "outputs": [
    {
     "data": {
      "text/plain": [
       "0.7504680863359242"
      ]
     },
     "execution_count": 55,
     "metadata": {},
     "output_type": "execute_result"
    }
   ],
   "source": [
    "np.mean(beer2['PitchRate'].dropna())"
   ]
  },
  {
   "cell_type": "markdown",
   "metadata": {},
   "source": [
    "I could use median or mean for PitchRate to replace the nan values."
   ]
  },
  {
   "cell_type": "code",
   "execution_count": 56,
   "metadata": {},
   "outputs": [],
   "source": [
    "beer2['PrimaryTemp2'] = beer2['PrimaryTemp'].fillna(20)"
   ]
  },
  {
   "cell_type": "code",
   "execution_count": 57,
   "metadata": {},
   "outputs": [],
   "source": [
    "beer2['MashThickness2'] = beer2['MashThickness'].fillna(1.5)"
   ]
  },
  {
   "cell_type": "code",
   "execution_count": 58,
   "metadata": {},
   "outputs": [],
   "source": [
    "beer2['PitchRate2'] = beer2['PitchRate'].fillna(0.75)"
   ]
  },
  {
   "cell_type": "code",
   "execution_count": 59,
   "metadata": {},
   "outputs": [],
   "source": [
    "beer2 = beer2.drop(columns = ['MashThickness','PrimaryTemp','PitchRate'])"
   ]
  },
  {
   "cell_type": "markdown",
   "metadata": {},
   "source": [
    "Finally I can drop all the empty fields from the 'kind' column I created and see how many rows I have left."
   ]
  },
  {
   "cell_type": "code",
   "execution_count": 60,
   "metadata": {},
   "outputs": [
    {
     "data": {
      "text/plain": [
       "(73861, 17)"
      ]
     },
     "execution_count": 60,
     "metadata": {},
     "output_type": "execute_result"
    }
   ],
   "source": [
    "beer2.shape"
   ]
  },
  {
   "cell_type": "code",
   "execution_count": 61,
   "metadata": {},
   "outputs": [],
   "source": [
    "beer3 = pd.DataFrame(beer2.dropna(how = 'any',axis = 0))"
   ]
  },
  {
   "cell_type": "code",
   "execution_count": 62,
   "metadata": {},
   "outputs": [
    {
     "data": {
      "text/plain": [
       "(8272, 17)"
      ]
     },
     "execution_count": 62,
     "metadata": {},
     "output_type": "execute_result"
    }
   ],
   "source": [
    "beer3.shape"
   ]
  },
  {
   "cell_type": "code",
   "execution_count": 63,
   "metadata": {},
   "outputs": [
    {
     "data": {
      "text/html": [
       "<div>\n",
       "<style scoped>\n",
       "    .dataframe tbody tr th:only-of-type {\n",
       "        vertical-align: middle;\n",
       "    }\n",
       "\n",
       "    .dataframe tbody tr th {\n",
       "        vertical-align: top;\n",
       "    }\n",
       "\n",
       "    .dataframe thead th {\n",
       "        text-align: right;\n",
       "    }\n",
       "</style>\n",
       "<table border=\"1\" class=\"dataframe\">\n",
       "  <thead>\n",
       "    <tr style=\"text-align: right;\">\n",
       "      <th></th>\n",
       "      <th>StyleID</th>\n",
       "      <th>Size(L)</th>\n",
       "      <th>OG</th>\n",
       "      <th>FG</th>\n",
       "      <th>ABV</th>\n",
       "      <th>IBU</th>\n",
       "      <th>Color</th>\n",
       "      <th>BoilSize</th>\n",
       "      <th>BoilTime</th>\n",
       "      <th>BoilGravity</th>\n",
       "      <th>Efficiency</th>\n",
       "      <th>SugarScale</th>\n",
       "      <th>BrewMethod</th>\n",
       "      <th>kind</th>\n",
       "      <th>PrimaryTemp2</th>\n",
       "      <th>MashThickness2</th>\n",
       "      <th>PitchRate2</th>\n",
       "    </tr>\n",
       "    <tr>\n",
       "      <th>BeerID</th>\n",
       "      <th></th>\n",
       "      <th></th>\n",
       "      <th></th>\n",
       "      <th></th>\n",
       "      <th></th>\n",
       "      <th></th>\n",
       "      <th></th>\n",
       "      <th></th>\n",
       "      <th></th>\n",
       "      <th></th>\n",
       "      <th></th>\n",
       "      <th></th>\n",
       "      <th></th>\n",
       "      <th></th>\n",
       "      <th></th>\n",
       "      <th></th>\n",
       "      <th></th>\n",
       "    </tr>\n",
       "  </thead>\n",
       "  <tbody>\n",
       "    <tr>\n",
       "      <th>73813</th>\n",
       "      <td>12</td>\n",
       "      <td>41.64</td>\n",
       "      <td>1.073</td>\n",
       "      <td>1.022</td>\n",
       "      <td>6.69</td>\n",
       "      <td>37.83</td>\n",
       "      <td>33.87</td>\n",
       "      <td>22.71</td>\n",
       "      <td>60</td>\n",
       "      <td>1.029</td>\n",
       "      <td>70.0</td>\n",
       "      <td>Specific Gravity</td>\n",
       "      <td>Partial Mash</td>\n",
       "      <td>Stout</td>\n",
       "      <td>20.00</td>\n",
       "      <td>1.5</td>\n",
       "      <td>0.50</td>\n",
       "    </tr>\n",
       "    <tr>\n",
       "      <th>73819</th>\n",
       "      <td>12</td>\n",
       "      <td>50.00</td>\n",
       "      <td>1.058</td>\n",
       "      <td>1.013</td>\n",
       "      <td>5.90</td>\n",
       "      <td>43.70</td>\n",
       "      <td>35.74</td>\n",
       "      <td>55.00</td>\n",
       "      <td>60</td>\n",
       "      <td>1.053</td>\n",
       "      <td>70.0</td>\n",
       "      <td>Specific Gravity</td>\n",
       "      <td>All Grain</td>\n",
       "      <td>Stout</td>\n",
       "      <td>18.00</td>\n",
       "      <td>3.1</td>\n",
       "      <td>0.75</td>\n",
       "    </tr>\n",
       "    <tr>\n",
       "      <th>73825</th>\n",
       "      <td>66</td>\n",
       "      <td>25.00</td>\n",
       "      <td>1.056</td>\n",
       "      <td>1.011</td>\n",
       "      <td>6.05</td>\n",
       "      <td>29.62</td>\n",
       "      <td>15.88</td>\n",
       "      <td>28.00</td>\n",
       "      <td>45</td>\n",
       "      <td>1.050</td>\n",
       "      <td>90.0</td>\n",
       "      <td>Specific Gravity</td>\n",
       "      <td>BIAB</td>\n",
       "      <td>Porter</td>\n",
       "      <td>20.00</td>\n",
       "      <td>1.5</td>\n",
       "      <td>0.75</td>\n",
       "    </tr>\n",
       "    <tr>\n",
       "      <th>73827</th>\n",
       "      <td>12</td>\n",
       "      <td>40.00</td>\n",
       "      <td>1.059</td>\n",
       "      <td>1.014</td>\n",
       "      <td>5.94</td>\n",
       "      <td>37.66</td>\n",
       "      <td>50.00</td>\n",
       "      <td>48.00</td>\n",
       "      <td>60</td>\n",
       "      <td>1.049</td>\n",
       "      <td>80.0</td>\n",
       "      <td>Specific Gravity</td>\n",
       "      <td>All Grain</td>\n",
       "      <td>Stout</td>\n",
       "      <td>20.00</td>\n",
       "      <td>4.0</td>\n",
       "      <td>0.75</td>\n",
       "    </tr>\n",
       "    <tr>\n",
       "      <th>73831</th>\n",
       "      <td>58</td>\n",
       "      <td>15.14</td>\n",
       "      <td>1.052</td>\n",
       "      <td>1.015</td>\n",
       "      <td>4.80</td>\n",
       "      <td>56.32</td>\n",
       "      <td>41.42</td>\n",
       "      <td>16.09</td>\n",
       "      <td>60</td>\n",
       "      <td>1.046</td>\n",
       "      <td>70.0</td>\n",
       "      <td>Specific Gravity</td>\n",
       "      <td>All Grain</td>\n",
       "      <td>Stout</td>\n",
       "      <td>21.67</td>\n",
       "      <td>1.4</td>\n",
       "      <td>1.00</td>\n",
       "    </tr>\n",
       "  </tbody>\n",
       "</table>\n",
       "</div>"
      ],
      "text/plain": [
       "        StyleID  Size(L)     OG     FG   ABV    IBU  Color  BoilSize  \\\n",
       "BeerID                                                                 \n",
       "73813        12    41.64  1.073  1.022  6.69  37.83  33.87     22.71   \n",
       "73819        12    50.00  1.058  1.013  5.90  43.70  35.74     55.00   \n",
       "73825        66    25.00  1.056  1.011  6.05  29.62  15.88     28.00   \n",
       "73827        12    40.00  1.059  1.014  5.94  37.66  50.00     48.00   \n",
       "73831        58    15.14  1.052  1.015  4.80  56.32  41.42     16.09   \n",
       "\n",
       "        BoilTime  BoilGravity  Efficiency        SugarScale    BrewMethod  \\\n",
       "BeerID                                                                      \n",
       "73813         60        1.029        70.0  Specific Gravity  Partial Mash   \n",
       "73819         60        1.053        70.0  Specific Gravity     All Grain   \n",
       "73825         45        1.050        90.0  Specific Gravity          BIAB   \n",
       "73827         60        1.049        80.0  Specific Gravity     All Grain   \n",
       "73831         60        1.046        70.0  Specific Gravity     All Grain   \n",
       "\n",
       "          kind  PrimaryTemp2  MashThickness2  PitchRate2  \n",
       "BeerID                                                    \n",
       "73813    Stout         20.00             1.5        0.50  \n",
       "73819    Stout         18.00             3.1        0.75  \n",
       "73825   Porter         20.00             1.5        0.75  \n",
       "73827    Stout         20.00             4.0        0.75  \n",
       "73831    Stout         21.67             1.4        1.00  "
      ]
     },
     "execution_count": 63,
     "metadata": {},
     "output_type": "execute_result"
    }
   ],
   "source": [
    "beer3.tail()"
   ]
  },
  {
   "cell_type": "code",
   "execution_count": 64,
   "metadata": {},
   "outputs": [
    {
     "data": {
      "text/html": [
       "<div>\n",
       "<style scoped>\n",
       "    .dataframe tbody tr th:only-of-type {\n",
       "        vertical-align: middle;\n",
       "    }\n",
       "\n",
       "    .dataframe tbody tr th {\n",
       "        vertical-align: top;\n",
       "    }\n",
       "\n",
       "    .dataframe thead th {\n",
       "        text-align: right;\n",
       "    }\n",
       "</style>\n",
       "<table border=\"1\" class=\"dataframe\">\n",
       "  <thead>\n",
       "    <tr style=\"text-align: right;\">\n",
       "      <th></th>\n",
       "      <th>StyleID</th>\n",
       "      <th>Size(L)</th>\n",
       "      <th>OG</th>\n",
       "      <th>FG</th>\n",
       "      <th>ABV</th>\n",
       "      <th>IBU</th>\n",
       "      <th>Color</th>\n",
       "      <th>BoilSize</th>\n",
       "      <th>BoilTime</th>\n",
       "      <th>BoilGravity</th>\n",
       "      <th>Efficiency</th>\n",
       "      <th>PrimaryTemp2</th>\n",
       "      <th>MashThickness2</th>\n",
       "      <th>PitchRate2</th>\n",
       "    </tr>\n",
       "  </thead>\n",
       "  <tbody>\n",
       "    <tr>\n",
       "      <th>StyleID</th>\n",
       "      <td>1.000000</td>\n",
       "      <td>-0.000678</td>\n",
       "      <td>0.003635</td>\n",
       "      <td>0.019261</td>\n",
       "      <td>0.113884</td>\n",
       "      <td>0.021884</td>\n",
       "      <td>0.136905</td>\n",
       "      <td>-0.001785</td>\n",
       "      <td>0.044702</td>\n",
       "      <td>0.004461</td>\n",
       "      <td>-0.009100</td>\n",
       "      <td>0.020073</td>\n",
       "      <td>0.000985</td>\n",
       "      <td>0.005347</td>\n",
       "    </tr>\n",
       "    <tr>\n",
       "      <th>Size(L)</th>\n",
       "      <td>-0.000678</td>\n",
       "      <td>1.000000</td>\n",
       "      <td>0.134396</td>\n",
       "      <td>0.128638</td>\n",
       "      <td>0.006521</td>\n",
       "      <td>-0.028578</td>\n",
       "      <td>-0.020190</td>\n",
       "      <td>0.998051</td>\n",
       "      <td>0.032566</td>\n",
       "      <td>0.146184</td>\n",
       "      <td>0.112839</td>\n",
       "      <td>0.008423</td>\n",
       "      <td>0.050712</td>\n",
       "      <td>0.030793</td>\n",
       "    </tr>\n",
       "    <tr>\n",
       "      <th>OG</th>\n",
       "      <td>0.003635</td>\n",
       "      <td>0.134396</td>\n",
       "      <td>1.000000</td>\n",
       "      <td>0.957533</td>\n",
       "      <td>0.048309</td>\n",
       "      <td>0.008494</td>\n",
       "      <td>0.004455</td>\n",
       "      <td>0.135965</td>\n",
       "      <td>0.040807</td>\n",
       "      <td>0.968755</td>\n",
       "      <td>0.067339</td>\n",
       "      <td>0.006246</td>\n",
       "      <td>0.050332</td>\n",
       "      <td>0.028186</td>\n",
       "    </tr>\n",
       "    <tr>\n",
       "      <th>FG</th>\n",
       "      <td>0.019261</td>\n",
       "      <td>0.128638</td>\n",
       "      <td>0.957533</td>\n",
       "      <td>1.000000</td>\n",
       "      <td>0.041012</td>\n",
       "      <td>0.005330</td>\n",
       "      <td>0.009356</td>\n",
       "      <td>0.129604</td>\n",
       "      <td>0.038854</td>\n",
       "      <td>0.934925</td>\n",
       "      <td>0.064280</td>\n",
       "      <td>0.010556</td>\n",
       "      <td>0.046304</td>\n",
       "      <td>0.019801</td>\n",
       "    </tr>\n",
       "    <tr>\n",
       "      <th>ABV</th>\n",
       "      <td>0.113884</td>\n",
       "      <td>0.006521</td>\n",
       "      <td>0.048309</td>\n",
       "      <td>0.041012</td>\n",
       "      <td>1.000000</td>\n",
       "      <td>0.459287</td>\n",
       "      <td>0.422525</td>\n",
       "      <td>0.011500</td>\n",
       "      <td>0.269595</td>\n",
       "      <td>0.040799</td>\n",
       "      <td>0.076666</td>\n",
       "      <td>-0.002396</td>\n",
       "      <td>-0.035200</td>\n",
       "      <td>0.235535</td>\n",
       "    </tr>\n",
       "    <tr>\n",
       "      <th>IBU</th>\n",
       "      <td>0.021884</td>\n",
       "      <td>-0.028578</td>\n",
       "      <td>0.008494</td>\n",
       "      <td>0.005330</td>\n",
       "      <td>0.459287</td>\n",
       "      <td>1.000000</td>\n",
       "      <td>0.199055</td>\n",
       "      <td>-0.027403</td>\n",
       "      <td>0.097073</td>\n",
       "      <td>0.004649</td>\n",
       "      <td>-0.020534</td>\n",
       "      <td>-0.011541</td>\n",
       "      <td>-0.021687</td>\n",
       "      <td>0.093434</td>\n",
       "    </tr>\n",
       "    <tr>\n",
       "      <th>Color</th>\n",
       "      <td>0.136905</td>\n",
       "      <td>-0.020190</td>\n",
       "      <td>0.004455</td>\n",
       "      <td>0.009356</td>\n",
       "      <td>0.422525</td>\n",
       "      <td>0.199055</td>\n",
       "      <td>1.000000</td>\n",
       "      <td>-0.016910</td>\n",
       "      <td>0.133306</td>\n",
       "      <td>0.002407</td>\n",
       "      <td>0.000662</td>\n",
       "      <td>0.028948</td>\n",
       "      <td>-0.013158</td>\n",
       "      <td>0.087214</td>\n",
       "    </tr>\n",
       "    <tr>\n",
       "      <th>BoilSize</th>\n",
       "      <td>-0.001785</td>\n",
       "      <td>0.998051</td>\n",
       "      <td>0.135965</td>\n",
       "      <td>0.129604</td>\n",
       "      <td>0.011500</td>\n",
       "      <td>-0.027403</td>\n",
       "      <td>-0.016910</td>\n",
       "      <td>1.000000</td>\n",
       "      <td>0.039577</td>\n",
       "      <td>0.146290</td>\n",
       "      <td>0.128209</td>\n",
       "      <td>0.007689</td>\n",
       "      <td>0.052815</td>\n",
       "      <td>0.032302</td>\n",
       "    </tr>\n",
       "    <tr>\n",
       "      <th>BoilTime</th>\n",
       "      <td>0.044702</td>\n",
       "      <td>0.032566</td>\n",
       "      <td>0.040807</td>\n",
       "      <td>0.038854</td>\n",
       "      <td>0.269595</td>\n",
       "      <td>0.097073</td>\n",
       "      <td>0.133306</td>\n",
       "      <td>0.039577</td>\n",
       "      <td>1.000000</td>\n",
       "      <td>0.034131</td>\n",
       "      <td>0.123803</td>\n",
       "      <td>-0.017634</td>\n",
       "      <td>0.026355</td>\n",
       "      <td>0.129440</td>\n",
       "    </tr>\n",
       "    <tr>\n",
       "      <th>BoilGravity</th>\n",
       "      <td>0.004461</td>\n",
       "      <td>0.146184</td>\n",
       "      <td>0.968755</td>\n",
       "      <td>0.934925</td>\n",
       "      <td>0.040799</td>\n",
       "      <td>0.004649</td>\n",
       "      <td>0.002407</td>\n",
       "      <td>0.146290</td>\n",
       "      <td>0.034131</td>\n",
       "      <td>1.000000</td>\n",
       "      <td>0.055041</td>\n",
       "      <td>0.008756</td>\n",
       "      <td>0.047562</td>\n",
       "      <td>0.021572</td>\n",
       "    </tr>\n",
       "    <tr>\n",
       "      <th>Efficiency</th>\n",
       "      <td>-0.009100</td>\n",
       "      <td>0.112839</td>\n",
       "      <td>0.067339</td>\n",
       "      <td>0.064280</td>\n",
       "      <td>0.076666</td>\n",
       "      <td>-0.020534</td>\n",
       "      <td>0.000662</td>\n",
       "      <td>0.128209</td>\n",
       "      <td>0.123803</td>\n",
       "      <td>0.055041</td>\n",
       "      <td>1.000000</td>\n",
       "      <td>-0.047231</td>\n",
       "      <td>0.089060</td>\n",
       "      <td>0.096041</td>\n",
       "    </tr>\n",
       "    <tr>\n",
       "      <th>PrimaryTemp2</th>\n",
       "      <td>0.020073</td>\n",
       "      <td>0.008423</td>\n",
       "      <td>0.006246</td>\n",
       "      <td>0.010556</td>\n",
       "      <td>-0.002396</td>\n",
       "      <td>-0.011541</td>\n",
       "      <td>0.028948</td>\n",
       "      <td>0.007689</td>\n",
       "      <td>-0.017634</td>\n",
       "      <td>0.008756</td>\n",
       "      <td>-0.047231</td>\n",
       "      <td>1.000000</td>\n",
       "      <td>0.008189</td>\n",
       "      <td>-0.092925</td>\n",
       "    </tr>\n",
       "    <tr>\n",
       "      <th>MashThickness2</th>\n",
       "      <td>0.000985</td>\n",
       "      <td>0.050712</td>\n",
       "      <td>0.050332</td>\n",
       "      <td>0.046304</td>\n",
       "      <td>-0.035200</td>\n",
       "      <td>-0.021687</td>\n",
       "      <td>-0.013158</td>\n",
       "      <td>0.052815</td>\n",
       "      <td>0.026355</td>\n",
       "      <td>0.047562</td>\n",
       "      <td>0.089060</td>\n",
       "      <td>0.008189</td>\n",
       "      <td>1.000000</td>\n",
       "      <td>-0.003204</td>\n",
       "    </tr>\n",
       "    <tr>\n",
       "      <th>PitchRate2</th>\n",
       "      <td>0.005347</td>\n",
       "      <td>0.030793</td>\n",
       "      <td>0.028186</td>\n",
       "      <td>0.019801</td>\n",
       "      <td>0.235535</td>\n",
       "      <td>0.093434</td>\n",
       "      <td>0.087214</td>\n",
       "      <td>0.032302</td>\n",
       "      <td>0.129440</td>\n",
       "      <td>0.021572</td>\n",
       "      <td>0.096041</td>\n",
       "      <td>-0.092925</td>\n",
       "      <td>-0.003204</td>\n",
       "      <td>1.000000</td>\n",
       "    </tr>\n",
       "  </tbody>\n",
       "</table>\n",
       "</div>"
      ],
      "text/plain": [
       "                 StyleID   Size(L)        OG        FG       ABV       IBU  \\\n",
       "StyleID         1.000000 -0.000678  0.003635  0.019261  0.113884  0.021884   \n",
       "Size(L)        -0.000678  1.000000  0.134396  0.128638  0.006521 -0.028578   \n",
       "OG              0.003635  0.134396  1.000000  0.957533  0.048309  0.008494   \n",
       "FG              0.019261  0.128638  0.957533  1.000000  0.041012  0.005330   \n",
       "ABV             0.113884  0.006521  0.048309  0.041012  1.000000  0.459287   \n",
       "IBU             0.021884 -0.028578  0.008494  0.005330  0.459287  1.000000   \n",
       "Color           0.136905 -0.020190  0.004455  0.009356  0.422525  0.199055   \n",
       "BoilSize       -0.001785  0.998051  0.135965  0.129604  0.011500 -0.027403   \n",
       "BoilTime        0.044702  0.032566  0.040807  0.038854  0.269595  0.097073   \n",
       "BoilGravity     0.004461  0.146184  0.968755  0.934925  0.040799  0.004649   \n",
       "Efficiency     -0.009100  0.112839  0.067339  0.064280  0.076666 -0.020534   \n",
       "PrimaryTemp2    0.020073  0.008423  0.006246  0.010556 -0.002396 -0.011541   \n",
       "MashThickness2  0.000985  0.050712  0.050332  0.046304 -0.035200 -0.021687   \n",
       "PitchRate2      0.005347  0.030793  0.028186  0.019801  0.235535  0.093434   \n",
       "\n",
       "                   Color  BoilSize  BoilTime  BoilGravity  Efficiency  \\\n",
       "StyleID         0.136905 -0.001785  0.044702     0.004461   -0.009100   \n",
       "Size(L)        -0.020190  0.998051  0.032566     0.146184    0.112839   \n",
       "OG              0.004455  0.135965  0.040807     0.968755    0.067339   \n",
       "FG              0.009356  0.129604  0.038854     0.934925    0.064280   \n",
       "ABV             0.422525  0.011500  0.269595     0.040799    0.076666   \n",
       "IBU             0.199055 -0.027403  0.097073     0.004649   -0.020534   \n",
       "Color           1.000000 -0.016910  0.133306     0.002407    0.000662   \n",
       "BoilSize       -0.016910  1.000000  0.039577     0.146290    0.128209   \n",
       "BoilTime        0.133306  0.039577  1.000000     0.034131    0.123803   \n",
       "BoilGravity     0.002407  0.146290  0.034131     1.000000    0.055041   \n",
       "Efficiency      0.000662  0.128209  0.123803     0.055041    1.000000   \n",
       "PrimaryTemp2    0.028948  0.007689 -0.017634     0.008756   -0.047231   \n",
       "MashThickness2 -0.013158  0.052815  0.026355     0.047562    0.089060   \n",
       "PitchRate2      0.087214  0.032302  0.129440     0.021572    0.096041   \n",
       "\n",
       "                PrimaryTemp2  MashThickness2  PitchRate2  \n",
       "StyleID             0.020073        0.000985    0.005347  \n",
       "Size(L)             0.008423        0.050712    0.030793  \n",
       "OG                  0.006246        0.050332    0.028186  \n",
       "FG                  0.010556        0.046304    0.019801  \n",
       "ABV                -0.002396       -0.035200    0.235535  \n",
       "IBU                -0.011541       -0.021687    0.093434  \n",
       "Color               0.028948       -0.013158    0.087214  \n",
       "BoilSize            0.007689        0.052815    0.032302  \n",
       "BoilTime           -0.017634        0.026355    0.129440  \n",
       "BoilGravity         0.008756        0.047562    0.021572  \n",
       "Efficiency         -0.047231        0.089060    0.096041  \n",
       "PrimaryTemp2        1.000000        0.008189   -0.092925  \n",
       "MashThickness2      0.008189        1.000000   -0.003204  \n",
       "PitchRate2         -0.092925       -0.003204    1.000000  "
      ]
     },
     "execution_count": 64,
     "metadata": {},
     "output_type": "execute_result"
    }
   ],
   "source": [
    "beer3.corr()"
   ]
  },
  {
   "cell_type": "code",
   "execution_count": 65,
   "metadata": {},
   "outputs": [],
   "source": [
    "# BoilGravity , OG are very highly correlated with FG.\n",
    "# BoilSize is too highly correlated with Size(L)\n",
    "beer3 = pd.DataFrame(beer3.drop(columns = ['OG','BoilGravity','BoilSize']))"
   ]
  },
  {
   "cell_type": "code",
   "execution_count": 66,
   "metadata": {},
   "outputs": [
    {
     "data": {
      "text/plain": [
       "(8272, 14)"
      ]
     },
     "execution_count": 66,
     "metadata": {},
     "output_type": "execute_result"
    }
   ],
   "source": [
    "beer3.shape"
   ]
  },
  {
   "cell_type": "code",
   "execution_count": 67,
   "metadata": {},
   "outputs": [],
   "source": [
    "beer3dum = pd.get_dummies(beer3.drop(columns = ['kind','StyleID']))"
   ]
  },
  {
   "cell_type": "code",
   "execution_count": 68,
   "metadata": {},
   "outputs": [
    {
     "data": {
      "text/html": [
       "<div>\n",
       "<style scoped>\n",
       "    .dataframe tbody tr th:only-of-type {\n",
       "        vertical-align: middle;\n",
       "    }\n",
       "\n",
       "    .dataframe tbody tr th {\n",
       "        vertical-align: top;\n",
       "    }\n",
       "\n",
       "    .dataframe thead th {\n",
       "        text-align: right;\n",
       "    }\n",
       "</style>\n",
       "<table border=\"1\" class=\"dataframe\">\n",
       "  <thead>\n",
       "    <tr style=\"text-align: right;\">\n",
       "      <th></th>\n",
       "      <th>Size(L)</th>\n",
       "      <th>FG</th>\n",
       "      <th>ABV</th>\n",
       "      <th>IBU</th>\n",
       "      <th>Color</th>\n",
       "      <th>BoilTime</th>\n",
       "      <th>Efficiency</th>\n",
       "      <th>PrimaryTemp2</th>\n",
       "      <th>MashThickness2</th>\n",
       "      <th>PitchRate2</th>\n",
       "      <th>SugarScale_Plato</th>\n",
       "      <th>SugarScale_Specific Gravity</th>\n",
       "      <th>BrewMethod_All Grain</th>\n",
       "      <th>BrewMethod_BIAB</th>\n",
       "      <th>BrewMethod_Partial Mash</th>\n",
       "      <th>BrewMethod_extract</th>\n",
       "    </tr>\n",
       "    <tr>\n",
       "      <th>BeerID</th>\n",
       "      <th></th>\n",
       "      <th></th>\n",
       "      <th></th>\n",
       "      <th></th>\n",
       "      <th></th>\n",
       "      <th></th>\n",
       "      <th></th>\n",
       "      <th></th>\n",
       "      <th></th>\n",
       "      <th></th>\n",
       "      <th></th>\n",
       "      <th></th>\n",
       "      <th></th>\n",
       "      <th></th>\n",
       "      <th></th>\n",
       "      <th></th>\n",
       "    </tr>\n",
       "  </thead>\n",
       "  <tbody>\n",
       "    <tr>\n",
       "      <th>9</th>\n",
       "      <td>22.71</td>\n",
       "      <td>1.016</td>\n",
       "      <td>5.77</td>\n",
       "      <td>31.63</td>\n",
       "      <td>34.76</td>\n",
       "      <td>75</td>\n",
       "      <td>73.0</td>\n",
       "      <td>20.00</td>\n",
       "      <td>1.5</td>\n",
       "      <td>0.75</td>\n",
       "      <td>0</td>\n",
       "      <td>1</td>\n",
       "      <td>1</td>\n",
       "      <td>0</td>\n",
       "      <td>0</td>\n",
       "      <td>0</td>\n",
       "    </tr>\n",
       "    <tr>\n",
       "      <th>30</th>\n",
       "      <td>50.00</td>\n",
       "      <td>1.014</td>\n",
       "      <td>5.76</td>\n",
       "      <td>39.00</td>\n",
       "      <td>38.71</td>\n",
       "      <td>60</td>\n",
       "      <td>71.0</td>\n",
       "      <td>18.00</td>\n",
       "      <td>1.5</td>\n",
       "      <td>0.75</td>\n",
       "      <td>0</td>\n",
       "      <td>1</td>\n",
       "      <td>1</td>\n",
       "      <td>0</td>\n",
       "      <td>0</td>\n",
       "      <td>0</td>\n",
       "    </tr>\n",
       "    <tr>\n",
       "      <th>47</th>\n",
       "      <td>20.00</td>\n",
       "      <td>1.019</td>\n",
       "      <td>5.21</td>\n",
       "      <td>37.34</td>\n",
       "      <td>42.09</td>\n",
       "      <td>90</td>\n",
       "      <td>75.0</td>\n",
       "      <td>19.00</td>\n",
       "      <td>1.5</td>\n",
       "      <td>0.75</td>\n",
       "      <td>0</td>\n",
       "      <td>1</td>\n",
       "      <td>1</td>\n",
       "      <td>0</td>\n",
       "      <td>0</td>\n",
       "      <td>0</td>\n",
       "    </tr>\n",
       "    <tr>\n",
       "      <th>59</th>\n",
       "      <td>20.00</td>\n",
       "      <td>1.025</td>\n",
       "      <td>9.67</td>\n",
       "      <td>69.25</td>\n",
       "      <td>50.00</td>\n",
       "      <td>90</td>\n",
       "      <td>65.0</td>\n",
       "      <td>18.00</td>\n",
       "      <td>1.5</td>\n",
       "      <td>1.00</td>\n",
       "      <td>0</td>\n",
       "      <td>1</td>\n",
       "      <td>1</td>\n",
       "      <td>0</td>\n",
       "      <td>0</td>\n",
       "      <td>0</td>\n",
       "    </tr>\n",
       "    <tr>\n",
       "      <th>63</th>\n",
       "      <td>20.82</td>\n",
       "      <td>1.015</td>\n",
       "      <td>6.06</td>\n",
       "      <td>34.61</td>\n",
       "      <td>40.00</td>\n",
       "      <td>90</td>\n",
       "      <td>70.0</td>\n",
       "      <td>19.44</td>\n",
       "      <td>1.5</td>\n",
       "      <td>0.75</td>\n",
       "      <td>0</td>\n",
       "      <td>1</td>\n",
       "      <td>1</td>\n",
       "      <td>0</td>\n",
       "      <td>0</td>\n",
       "      <td>0</td>\n",
       "    </tr>\n",
       "  </tbody>\n",
       "</table>\n",
       "</div>"
      ],
      "text/plain": [
       "        Size(L)     FG   ABV    IBU  Color  BoilTime  Efficiency  \\\n",
       "BeerID                                                             \n",
       "9         22.71  1.016  5.77  31.63  34.76        75        73.0   \n",
       "30        50.00  1.014  5.76  39.00  38.71        60        71.0   \n",
       "47        20.00  1.019  5.21  37.34  42.09        90        75.0   \n",
       "59        20.00  1.025  9.67  69.25  50.00        90        65.0   \n",
       "63        20.82  1.015  6.06  34.61  40.00        90        70.0   \n",
       "\n",
       "        PrimaryTemp2  MashThickness2  PitchRate2  SugarScale_Plato  \\\n",
       "BeerID                                                               \n",
       "9              20.00             1.5        0.75                 0   \n",
       "30             18.00             1.5        0.75                 0   \n",
       "47             19.00             1.5        0.75                 0   \n",
       "59             18.00             1.5        1.00                 0   \n",
       "63             19.44             1.5        0.75                 0   \n",
       "\n",
       "        SugarScale_Specific Gravity  BrewMethod_All Grain  BrewMethod_BIAB  \\\n",
       "BeerID                                                                       \n",
       "9                                 1                     1                0   \n",
       "30                                1                     1                0   \n",
       "47                                1                     1                0   \n",
       "59                                1                     1                0   \n",
       "63                                1                     1                0   \n",
       "\n",
       "        BrewMethod_Partial Mash  BrewMethod_extract  \n",
       "BeerID                                               \n",
       "9                             0                   0  \n",
       "30                            0                   0  \n",
       "47                            0                   0  \n",
       "59                            0                   0  \n",
       "63                            0                   0  "
      ]
     },
     "execution_count": 68,
     "metadata": {},
     "output_type": "execute_result"
    }
   ],
   "source": [
    "beer3dum.head()"
   ]
  },
  {
   "cell_type": "code",
   "execution_count": 69,
   "metadata": {},
   "outputs": [
    {
     "data": {
      "text/html": [
       "<div>\n",
       "<style scoped>\n",
       "    .dataframe tbody tr th:only-of-type {\n",
       "        vertical-align: middle;\n",
       "    }\n",
       "\n",
       "    .dataframe tbody tr th {\n",
       "        vertical-align: top;\n",
       "    }\n",
       "\n",
       "    .dataframe thead th {\n",
       "        text-align: right;\n",
       "    }\n",
       "</style>\n",
       "<table border=\"1\" class=\"dataframe\">\n",
       "  <thead>\n",
       "    <tr style=\"text-align: right;\">\n",
       "      <th></th>\n",
       "      <th>Size(L)</th>\n",
       "      <th>FG</th>\n",
       "      <th>ABV</th>\n",
       "      <th>IBU</th>\n",
       "      <th>Color</th>\n",
       "      <th>BoilTime</th>\n",
       "      <th>Efficiency</th>\n",
       "      <th>PrimaryTemp2</th>\n",
       "      <th>MashThickness2</th>\n",
       "      <th>PitchRate2</th>\n",
       "      <th>SugarScale_Plato</th>\n",
       "      <th>SugarScale_Specific Gravity</th>\n",
       "      <th>BrewMethod_All Grain</th>\n",
       "      <th>BrewMethod_BIAB</th>\n",
       "      <th>BrewMethod_Partial Mash</th>\n",
       "      <th>BrewMethod_extract</th>\n",
       "    </tr>\n",
       "  </thead>\n",
       "  <tbody>\n",
       "    <tr>\n",
       "      <th>Size(L)</th>\n",
       "      <td>1.000000</td>\n",
       "      <td>0.128638</td>\n",
       "      <td>0.006521</td>\n",
       "      <td>-0.028578</td>\n",
       "      <td>-0.020190</td>\n",
       "      <td>0.032566</td>\n",
       "      <td>0.112839</td>\n",
       "      <td>0.008423</td>\n",
       "      <td>0.050712</td>\n",
       "      <td>0.030793</td>\n",
       "      <td>0.126302</td>\n",
       "      <td>-0.126302</td>\n",
       "      <td>0.091855</td>\n",
       "      <td>-0.059424</td>\n",
       "      <td>-0.027443</td>\n",
       "      <td>-0.047832</td>\n",
       "    </tr>\n",
       "    <tr>\n",
       "      <th>FG</th>\n",
       "      <td>0.128638</td>\n",
       "      <td>1.000000</td>\n",
       "      <td>0.041012</td>\n",
       "      <td>0.005330</td>\n",
       "      <td>0.009356</td>\n",
       "      <td>0.038854</td>\n",
       "      <td>0.064280</td>\n",
       "      <td>0.010556</td>\n",
       "      <td>0.046304</td>\n",
       "      <td>0.019801</td>\n",
       "      <td>0.902991</td>\n",
       "      <td>-0.902991</td>\n",
       "      <td>0.070827</td>\n",
       "      <td>-0.035570</td>\n",
       "      <td>-0.021875</td>\n",
       "      <td>-0.048514</td>\n",
       "    </tr>\n",
       "    <tr>\n",
       "      <th>ABV</th>\n",
       "      <td>0.006521</td>\n",
       "      <td>0.041012</td>\n",
       "      <td>1.000000</td>\n",
       "      <td>0.459287</td>\n",
       "      <td>0.422525</td>\n",
       "      <td>0.269595</td>\n",
       "      <td>0.076666</td>\n",
       "      <td>-0.002396</td>\n",
       "      <td>-0.035200</td>\n",
       "      <td>0.235535</td>\n",
       "      <td>-0.002844</td>\n",
       "      <td>0.002844</td>\n",
       "      <td>0.051982</td>\n",
       "      <td>-0.008078</td>\n",
       "      <td>0.000499</td>\n",
       "      <td>-0.068276</td>\n",
       "    </tr>\n",
       "    <tr>\n",
       "      <th>IBU</th>\n",
       "      <td>-0.028578</td>\n",
       "      <td>0.005330</td>\n",
       "      <td>0.459287</td>\n",
       "      <td>1.000000</td>\n",
       "      <td>0.199055</td>\n",
       "      <td>0.097073</td>\n",
       "      <td>-0.020534</td>\n",
       "      <td>-0.011541</td>\n",
       "      <td>-0.021687</td>\n",
       "      <td>0.093434</td>\n",
       "      <td>-0.009877</td>\n",
       "      <td>0.009877</td>\n",
       "      <td>0.003244</td>\n",
       "      <td>-0.011460</td>\n",
       "      <td>0.008766</td>\n",
       "      <td>0.002709</td>\n",
       "    </tr>\n",
       "    <tr>\n",
       "      <th>Color</th>\n",
       "      <td>-0.020190</td>\n",
       "      <td>0.009356</td>\n",
       "      <td>0.422525</td>\n",
       "      <td>0.199055</td>\n",
       "      <td>1.000000</td>\n",
       "      <td>0.133306</td>\n",
       "      <td>0.000662</td>\n",
       "      <td>0.028948</td>\n",
       "      <td>-0.013158</td>\n",
       "      <td>0.087214</td>\n",
       "      <td>-0.023964</td>\n",
       "      <td>0.023964</td>\n",
       "      <td>0.050931</td>\n",
       "      <td>0.010827</td>\n",
       "      <td>-0.025316</td>\n",
       "      <td>-0.071372</td>\n",
       "    </tr>\n",
       "    <tr>\n",
       "      <th>BoilTime</th>\n",
       "      <td>0.032566</td>\n",
       "      <td>0.038854</td>\n",
       "      <td>0.269595</td>\n",
       "      <td>0.097073</td>\n",
       "      <td>0.133306</td>\n",
       "      <td>1.000000</td>\n",
       "      <td>0.123803</td>\n",
       "      <td>-0.017634</td>\n",
       "      <td>0.026355</td>\n",
       "      <td>0.129440</td>\n",
       "      <td>0.023109</td>\n",
       "      <td>-0.023109</td>\n",
       "      <td>0.146603</td>\n",
       "      <td>-0.030315</td>\n",
       "      <td>-0.069515</td>\n",
       "      <td>-0.135030</td>\n",
       "    </tr>\n",
       "    <tr>\n",
       "      <th>Efficiency</th>\n",
       "      <td>0.112839</td>\n",
       "      <td>0.064280</td>\n",
       "      <td>0.076666</td>\n",
       "      <td>-0.020534</td>\n",
       "      <td>0.000662</td>\n",
       "      <td>0.123803</td>\n",
       "      <td>1.000000</td>\n",
       "      <td>-0.047231</td>\n",
       "      <td>0.089060</td>\n",
       "      <td>0.096041</td>\n",
       "      <td>0.069036</td>\n",
       "      <td>-0.069036</td>\n",
       "      <td>0.468920</td>\n",
       "      <td>0.092619</td>\n",
       "      <td>-0.145276</td>\n",
       "      <td>-0.708958</td>\n",
       "    </tr>\n",
       "    <tr>\n",
       "      <th>PrimaryTemp2</th>\n",
       "      <td>0.008423</td>\n",
       "      <td>0.010556</td>\n",
       "      <td>-0.002396</td>\n",
       "      <td>-0.011541</td>\n",
       "      <td>0.028948</td>\n",
       "      <td>-0.017634</td>\n",
       "      <td>-0.047231</td>\n",
       "      <td>1.000000</td>\n",
       "      <td>0.008189</td>\n",
       "      <td>-0.092925</td>\n",
       "      <td>0.002816</td>\n",
       "      <td>-0.002816</td>\n",
       "      <td>-0.021331</td>\n",
       "      <td>-0.018819</td>\n",
       "      <td>0.005411</td>\n",
       "      <td>0.050346</td>\n",
       "    </tr>\n",
       "    <tr>\n",
       "      <th>MashThickness2</th>\n",
       "      <td>0.050712</td>\n",
       "      <td>0.046304</td>\n",
       "      <td>-0.035200</td>\n",
       "      <td>-0.021687</td>\n",
       "      <td>-0.013158</td>\n",
       "      <td>0.026355</td>\n",
       "      <td>0.089060</td>\n",
       "      <td>0.008189</td>\n",
       "      <td>1.000000</td>\n",
       "      <td>-0.003204</td>\n",
       "      <td>0.056086</td>\n",
       "      <td>-0.056086</td>\n",
       "      <td>0.187506</td>\n",
       "      <td>-0.120226</td>\n",
       "      <td>-0.061122</td>\n",
       "      <td>-0.095418</td>\n",
       "    </tr>\n",
       "    <tr>\n",
       "      <th>PitchRate2</th>\n",
       "      <td>0.030793</td>\n",
       "      <td>0.019801</td>\n",
       "      <td>0.235535</td>\n",
       "      <td>0.093434</td>\n",
       "      <td>0.087214</td>\n",
       "      <td>0.129440</td>\n",
       "      <td>0.096041</td>\n",
       "      <td>-0.092925</td>\n",
       "      <td>-0.003204</td>\n",
       "      <td>1.000000</td>\n",
       "      <td>0.014039</td>\n",
       "      <td>-0.014039</td>\n",
       "      <td>0.072423</td>\n",
       "      <td>-0.002716</td>\n",
       "      <td>-0.034238</td>\n",
       "      <td>-0.081275</td>\n",
       "    </tr>\n",
       "    <tr>\n",
       "      <th>SugarScale_Plato</th>\n",
       "      <td>0.126302</td>\n",
       "      <td>0.902991</td>\n",
       "      <td>-0.002844</td>\n",
       "      <td>-0.009877</td>\n",
       "      <td>-0.023964</td>\n",
       "      <td>0.023109</td>\n",
       "      <td>0.069036</td>\n",
       "      <td>0.002816</td>\n",
       "      <td>0.056086</td>\n",
       "      <td>0.014039</td>\n",
       "      <td>1.000000</td>\n",
       "      <td>-1.000000</td>\n",
       "      <td>0.069809</td>\n",
       "      <td>-0.028886</td>\n",
       "      <td>-0.022579</td>\n",
       "      <td>-0.054421</td>\n",
       "    </tr>\n",
       "    <tr>\n",
       "      <th>SugarScale_Specific Gravity</th>\n",
       "      <td>-0.126302</td>\n",
       "      <td>-0.902991</td>\n",
       "      <td>0.002844</td>\n",
       "      <td>0.009877</td>\n",
       "      <td>0.023964</td>\n",
       "      <td>-0.023109</td>\n",
       "      <td>-0.069036</td>\n",
       "      <td>-0.002816</td>\n",
       "      <td>-0.056086</td>\n",
       "      <td>-0.014039</td>\n",
       "      <td>-1.000000</td>\n",
       "      <td>1.000000</td>\n",
       "      <td>-0.069809</td>\n",
       "      <td>0.028886</td>\n",
       "      <td>0.022579</td>\n",
       "      <td>0.054421</td>\n",
       "    </tr>\n",
       "    <tr>\n",
       "      <th>BrewMethod_All Grain</th>\n",
       "      <td>0.091855</td>\n",
       "      <td>0.070827</td>\n",
       "      <td>0.051982</td>\n",
       "      <td>0.003244</td>\n",
       "      <td>0.050931</td>\n",
       "      <td>0.146603</td>\n",
       "      <td>0.468920</td>\n",
       "      <td>-0.021331</td>\n",
       "      <td>0.187506</td>\n",
       "      <td>0.072423</td>\n",
       "      <td>0.069809</td>\n",
       "      <td>-0.069809</td>\n",
       "      <td>1.000000</td>\n",
       "      <td>-0.641185</td>\n",
       "      <td>-0.325971</td>\n",
       "      <td>-0.508876</td>\n",
       "    </tr>\n",
       "    <tr>\n",
       "      <th>BrewMethod_BIAB</th>\n",
       "      <td>-0.059424</td>\n",
       "      <td>-0.035570</td>\n",
       "      <td>-0.008078</td>\n",
       "      <td>-0.011460</td>\n",
       "      <td>0.010827</td>\n",
       "      <td>-0.030315</td>\n",
       "      <td>0.092619</td>\n",
       "      <td>-0.018819</td>\n",
       "      <td>-0.120226</td>\n",
       "      <td>-0.002716</td>\n",
       "      <td>-0.028886</td>\n",
       "      <td>0.028886</td>\n",
       "      <td>-0.641185</td>\n",
       "      <td>1.000000</td>\n",
       "      <td>-0.101000</td>\n",
       "      <td>-0.157672</td>\n",
       "    </tr>\n",
       "    <tr>\n",
       "      <th>BrewMethod_Partial Mash</th>\n",
       "      <td>-0.027443</td>\n",
       "      <td>-0.021875</td>\n",
       "      <td>0.000499</td>\n",
       "      <td>0.008766</td>\n",
       "      <td>-0.025316</td>\n",
       "      <td>-0.069515</td>\n",
       "      <td>-0.145276</td>\n",
       "      <td>0.005411</td>\n",
       "      <td>-0.061122</td>\n",
       "      <td>-0.034238</td>\n",
       "      <td>-0.022579</td>\n",
       "      <td>0.022579</td>\n",
       "      <td>-0.325971</td>\n",
       "      <td>-0.101000</td>\n",
       "      <td>1.000000</td>\n",
       "      <td>-0.080159</td>\n",
       "    </tr>\n",
       "    <tr>\n",
       "      <th>BrewMethod_extract</th>\n",
       "      <td>-0.047832</td>\n",
       "      <td>-0.048514</td>\n",
       "      <td>-0.068276</td>\n",
       "      <td>0.002709</td>\n",
       "      <td>-0.071372</td>\n",
       "      <td>-0.135030</td>\n",
       "      <td>-0.708958</td>\n",
       "      <td>0.050346</td>\n",
       "      <td>-0.095418</td>\n",
       "      <td>-0.081275</td>\n",
       "      <td>-0.054421</td>\n",
       "      <td>0.054421</td>\n",
       "      <td>-0.508876</td>\n",
       "      <td>-0.157672</td>\n",
       "      <td>-0.080159</td>\n",
       "      <td>1.000000</td>\n",
       "    </tr>\n",
       "  </tbody>\n",
       "</table>\n",
       "</div>"
      ],
      "text/plain": [
       "                              Size(L)        FG       ABV       IBU     Color  \\\n",
       "Size(L)                      1.000000  0.128638  0.006521 -0.028578 -0.020190   \n",
       "FG                           0.128638  1.000000  0.041012  0.005330  0.009356   \n",
       "ABV                          0.006521  0.041012  1.000000  0.459287  0.422525   \n",
       "IBU                         -0.028578  0.005330  0.459287  1.000000  0.199055   \n",
       "Color                       -0.020190  0.009356  0.422525  0.199055  1.000000   \n",
       "BoilTime                     0.032566  0.038854  0.269595  0.097073  0.133306   \n",
       "Efficiency                   0.112839  0.064280  0.076666 -0.020534  0.000662   \n",
       "PrimaryTemp2                 0.008423  0.010556 -0.002396 -0.011541  0.028948   \n",
       "MashThickness2               0.050712  0.046304 -0.035200 -0.021687 -0.013158   \n",
       "PitchRate2                   0.030793  0.019801  0.235535  0.093434  0.087214   \n",
       "SugarScale_Plato             0.126302  0.902991 -0.002844 -0.009877 -0.023964   \n",
       "SugarScale_Specific Gravity -0.126302 -0.902991  0.002844  0.009877  0.023964   \n",
       "BrewMethod_All Grain         0.091855  0.070827  0.051982  0.003244  0.050931   \n",
       "BrewMethod_BIAB             -0.059424 -0.035570 -0.008078 -0.011460  0.010827   \n",
       "BrewMethod_Partial Mash     -0.027443 -0.021875  0.000499  0.008766 -0.025316   \n",
       "BrewMethod_extract          -0.047832 -0.048514 -0.068276  0.002709 -0.071372   \n",
       "\n",
       "                             BoilTime  Efficiency  PrimaryTemp2  \\\n",
       "Size(L)                      0.032566    0.112839      0.008423   \n",
       "FG                           0.038854    0.064280      0.010556   \n",
       "ABV                          0.269595    0.076666     -0.002396   \n",
       "IBU                          0.097073   -0.020534     -0.011541   \n",
       "Color                        0.133306    0.000662      0.028948   \n",
       "BoilTime                     1.000000    0.123803     -0.017634   \n",
       "Efficiency                   0.123803    1.000000     -0.047231   \n",
       "PrimaryTemp2                -0.017634   -0.047231      1.000000   \n",
       "MashThickness2               0.026355    0.089060      0.008189   \n",
       "PitchRate2                   0.129440    0.096041     -0.092925   \n",
       "SugarScale_Plato             0.023109    0.069036      0.002816   \n",
       "SugarScale_Specific Gravity -0.023109   -0.069036     -0.002816   \n",
       "BrewMethod_All Grain         0.146603    0.468920     -0.021331   \n",
       "BrewMethod_BIAB             -0.030315    0.092619     -0.018819   \n",
       "BrewMethod_Partial Mash     -0.069515   -0.145276      0.005411   \n",
       "BrewMethod_extract          -0.135030   -0.708958      0.050346   \n",
       "\n",
       "                             MashThickness2  PitchRate2  SugarScale_Plato  \\\n",
       "Size(L)                            0.050712    0.030793          0.126302   \n",
       "FG                                 0.046304    0.019801          0.902991   \n",
       "ABV                               -0.035200    0.235535         -0.002844   \n",
       "IBU                               -0.021687    0.093434         -0.009877   \n",
       "Color                             -0.013158    0.087214         -0.023964   \n",
       "BoilTime                           0.026355    0.129440          0.023109   \n",
       "Efficiency                         0.089060    0.096041          0.069036   \n",
       "PrimaryTemp2                       0.008189   -0.092925          0.002816   \n",
       "MashThickness2                     1.000000   -0.003204          0.056086   \n",
       "PitchRate2                        -0.003204    1.000000          0.014039   \n",
       "SugarScale_Plato                   0.056086    0.014039          1.000000   \n",
       "SugarScale_Specific Gravity       -0.056086   -0.014039         -1.000000   \n",
       "BrewMethod_All Grain               0.187506    0.072423          0.069809   \n",
       "BrewMethod_BIAB                   -0.120226   -0.002716         -0.028886   \n",
       "BrewMethod_Partial Mash           -0.061122   -0.034238         -0.022579   \n",
       "BrewMethod_extract                -0.095418   -0.081275         -0.054421   \n",
       "\n",
       "                             SugarScale_Specific Gravity  \\\n",
       "Size(L)                                        -0.126302   \n",
       "FG                                             -0.902991   \n",
       "ABV                                             0.002844   \n",
       "IBU                                             0.009877   \n",
       "Color                                           0.023964   \n",
       "BoilTime                                       -0.023109   \n",
       "Efficiency                                     -0.069036   \n",
       "PrimaryTemp2                                   -0.002816   \n",
       "MashThickness2                                 -0.056086   \n",
       "PitchRate2                                     -0.014039   \n",
       "SugarScale_Plato                               -1.000000   \n",
       "SugarScale_Specific Gravity                     1.000000   \n",
       "BrewMethod_All Grain                           -0.069809   \n",
       "BrewMethod_BIAB                                 0.028886   \n",
       "BrewMethod_Partial Mash                         0.022579   \n",
       "BrewMethod_extract                              0.054421   \n",
       "\n",
       "                             BrewMethod_All Grain  BrewMethod_BIAB  \\\n",
       "Size(L)                                  0.091855        -0.059424   \n",
       "FG                                       0.070827        -0.035570   \n",
       "ABV                                      0.051982        -0.008078   \n",
       "IBU                                      0.003244        -0.011460   \n",
       "Color                                    0.050931         0.010827   \n",
       "BoilTime                                 0.146603        -0.030315   \n",
       "Efficiency                               0.468920         0.092619   \n",
       "PrimaryTemp2                            -0.021331        -0.018819   \n",
       "MashThickness2                           0.187506        -0.120226   \n",
       "PitchRate2                               0.072423        -0.002716   \n",
       "SugarScale_Plato                         0.069809        -0.028886   \n",
       "SugarScale_Specific Gravity             -0.069809         0.028886   \n",
       "BrewMethod_All Grain                     1.000000        -0.641185   \n",
       "BrewMethod_BIAB                         -0.641185         1.000000   \n",
       "BrewMethod_Partial Mash                 -0.325971        -0.101000   \n",
       "BrewMethod_extract                      -0.508876        -0.157672   \n",
       "\n",
       "                             BrewMethod_Partial Mash  BrewMethod_extract  \n",
       "Size(L)                                    -0.027443           -0.047832  \n",
       "FG                                         -0.021875           -0.048514  \n",
       "ABV                                         0.000499           -0.068276  \n",
       "IBU                                         0.008766            0.002709  \n",
       "Color                                      -0.025316           -0.071372  \n",
       "BoilTime                                   -0.069515           -0.135030  \n",
       "Efficiency                                 -0.145276           -0.708958  \n",
       "PrimaryTemp2                                0.005411            0.050346  \n",
       "MashThickness2                             -0.061122           -0.095418  \n",
       "PitchRate2                                 -0.034238           -0.081275  \n",
       "SugarScale_Plato                           -0.022579           -0.054421  \n",
       "SugarScale_Specific Gravity                 0.022579            0.054421  \n",
       "BrewMethod_All Grain                       -0.325971           -0.508876  \n",
       "BrewMethod_BIAB                            -0.101000           -0.157672  \n",
       "BrewMethod_Partial Mash                     1.000000           -0.080159  \n",
       "BrewMethod_extract                         -0.080159            1.000000  "
      ]
     },
     "execution_count": 69,
     "metadata": {},
     "output_type": "execute_result"
    }
   ],
   "source": [
    "beer3dum.corr()"
   ]
  },
  {
   "cell_type": "code",
   "execution_count": 70,
   "metadata": {
    "scrolled": true
   },
   "outputs": [],
   "source": [
    "#The Sugarscales are too strongly correlated with FG.\n",
    "beer3dum = pd.DataFrame(beer3dum.drop(columns = ['SugarScale_Specific Gravity','SugarScale_Plato']))"
   ]
  },
  {
   "cell_type": "code",
   "execution_count": 71,
   "metadata": {},
   "outputs": [],
   "source": [
    "#beer3dum = pd.DataFrame(beer3dum.drop(columns = ['BrewMethod_All Grain','BrewMethod_BIAB','BrewMethod_Partial Mash','BrewMethod_extract']))"
   ]
  },
  {
   "cell_type": "code",
   "execution_count": 72,
   "metadata": {},
   "outputs": [
    {
     "data": {
      "text/plain": [
       "(8272, 14)"
      ]
     },
     "execution_count": 72,
     "metadata": {},
     "output_type": "execute_result"
    }
   ],
   "source": [
    "beer3dum.shape"
   ]
  },
  {
   "cell_type": "code",
   "execution_count": 73,
   "metadata": {},
   "outputs": [
    {
     "data": {
      "text/plain": [
       "Index(['Size(L)', 'FG', 'ABV', 'IBU', 'Color', 'BoilTime', 'Efficiency',\n",
       "       'PrimaryTemp2', 'MashThickness2', 'PitchRate2', 'BrewMethod_All Grain',\n",
       "       'BrewMethod_BIAB', 'BrewMethod_Partial Mash', 'BrewMethod_extract'],\n",
       "      dtype='object')"
      ]
     },
     "execution_count": 73,
     "metadata": {},
     "output_type": "execute_result"
    }
   ],
   "source": [
    "exes = beer3dum\n",
    "columns = exes.columns\n",
    "scaler = MinMaxScaler()\n",
    "scaled_df = scaler.fit_transform(exes)\n",
    "scaled_df = pd.DataFrame(scaled_df, columns = columns)\n",
    "scaled_df.columns\n"
   ]
  },
  {
   "cell_type": "code",
   "execution_count": 74,
   "metadata": {},
   "outputs": [
    {
     "data": {
      "text/plain": [
       "array(['Porter', 'Stout'], dtype=object)"
      ]
     },
     "execution_count": 74,
     "metadata": {},
     "output_type": "execute_result"
    }
   ],
   "source": [
    "beer3['kind'].unique()"
   ]
  },
  {
   "cell_type": "code",
   "execution_count": 75,
   "metadata": {},
   "outputs": [],
   "source": [
    "y = np.ravel(beer3['kind'])\n",
    "y = y.astype(str)\n",
    "X = np.asarray(scaled_df)\n"
   ]
  },
  {
   "cell_type": "code",
   "execution_count": 76,
   "metadata": {},
   "outputs": [],
   "source": [
    "# Declare a logistic regression classifier.\n",
    "# Parameter regularization coefficient C described above.\n",
    "lr = LogisticRegression(C = 1e6)\n"
   ]
  },
  {
   "cell_type": "code",
   "execution_count": 77,
   "metadata": {},
   "outputs": [],
   "source": [
    "from sklearn.model_selection import train_test_split"
   ]
  },
  {
   "cell_type": "code",
   "execution_count": 78,
   "metadata": {},
   "outputs": [],
   "source": [
    "X_train, X_test, Y_train, Y_test = train_test_split(X, y, test_size=0.20)\n",
    "\n",
    "##Fit the model.\n",
    "fit = lr.fit(X_train, Y_train)\n"
   ]
  },
  {
   "cell_type": "code",
   "execution_count": 79,
   "metadata": {},
   "outputs": [
    {
     "name": "stdout",
     "output_type": "stream",
     "text": [
      "Coefficients\n",
      "[[-0.44416775  0.86843094  0.5403141  45.81000798  4.31571381  0.46825965\n",
      "   0.24423239  1.57774637  2.02983655 -0.19674521 -0.94268799 -0.8192175\n",
      "  -0.71626217 -0.52912302]]\n",
      "Intercepts\n",
      "[-3.00729068]\n",
      "\n",
      " Percentage accuracy\n",
      "Test 0.7093655589123867\n",
      "Train 0.7350763185733716\n"
     ]
    }
   ],
   "source": [
    "# Display.\n",
    "\n",
    "\n",
    "print('Coefficients') \n",
    "print(fit.coef_)\n",
    "print('Intercepts')\n",
    "print (fit.intercept_)\n",
    "pred_y_sklearn = lr.predict(X_test)\n",
    "pred_y_sklearn = lr.predict(X_train)\n",
    "print('\\n Percentage accuracy')\n",
    "print('Test',lr.score(X_test, Y_test))\n",
    "print('Train',lr.score(X_train, Y_train))\n"
   ]
  },
  {
   "cell_type": "code",
   "execution_count": null,
   "metadata": {},
   "outputs": [],
   "source": [
    "#freq = pd.DataFrame(beerna2['StyleID'].value_counts().reset_index())\n",
    "#freqcut = pd.DataFrame(freq[freq['StyleID'] > 5])\n",
    "#freqcut['index'].unique()"
   ]
  },
  {
   "cell_type": "code",
   "execution_count": null,
   "metadata": {},
   "outputs": [],
   "source": [
    "#freqcut['index'].nunique()"
   ]
  },
  {
   "cell_type": "code",
   "execution_count": null,
   "metadata": {},
   "outputs": [],
   "source": [
    "#beerna2cut = pd.DataFrame(beerna2.loc[beerna2['StyleID'].isin(freqcut['index'].unique())])\n",
    "#beerna2cut['StyleID'].nunique()"
   ]
  },
  {
   "cell_type": "code",
   "execution_count": 81,
   "metadata": {},
   "outputs": [],
   "source": [
    "from sklearn import ensemble\n",
    "from sklearn.model_selection import cross_val_score\n"
   ]
  },
  {
   "cell_type": "code",
   "execution_count": 82,
   "metadata": {},
   "outputs": [],
   "source": [
    "rfc = ensemble.RandomForestClassifier(n_jobs = -1)\n",
    "y = np.ravel(beer3['kind'])\n",
    "X = pd.DataFrame(beer3dum)\n"
   ]
  },
  {
   "cell_type": "code",
   "execution_count": 83,
   "metadata": {},
   "outputs": [
    {
     "data": {
      "text/plain": [
       "array([0.77039275, 0.74803625, 0.73035067, 0.71584039, 0.7267231 ])"
      ]
     },
     "execution_count": 83,
     "metadata": {},
     "output_type": "execute_result"
    }
   ],
   "source": [
    "cross_val_score(rfc,X,y,cv=5)"
   ]
  },
  {
   "cell_type": "code",
   "execution_count": 84,
   "metadata": {},
   "outputs": [
    {
     "data": {
      "text/plain": [
       "RandomForestClassifier(bootstrap=True, class_weight=None, criterion='gini',\n",
       "            max_depth=None, max_features='auto', max_leaf_nodes=None,\n",
       "            min_impurity_decrease=0.0, min_impurity_split=None,\n",
       "            min_samples_leaf=1, min_samples_split=2,\n",
       "            min_weight_fraction_leaf=0.0, n_estimators=10, n_jobs=-1,\n",
       "            oob_score=False, random_state=None, verbose=0,\n",
       "            warm_start=False)"
      ]
     },
     "execution_count": 84,
     "metadata": {},
     "output_type": "execute_result"
    }
   ],
   "source": [
    "rfc.fit(X,y)"
   ]
  },
  {
   "cell_type": "code",
   "execution_count": 85,
   "metadata": {},
   "outputs": [
    {
     "data": {
      "image/png": "[encoded data removed]",
      "text/plain": [
       "<matplotlib.figure.Figure at 0x11089aeb8>"
      ]
     },
     "metadata": {},
     "output_type": "display_data"
    }
   ],
   "source": [
    "\n",
    "feature_importance = rfc.feature_importances_\n",
    "\n",
    "# Make importances relative to max importance.\n",
    "feature_importance = 100.0 * (feature_importance / feature_importance.max())\n",
    "sorted_idx = np.argsort(feature_importance)\n",
    "pos = np.arange(sorted_idx.shape[0]) + .5\n",
    "plt.subplot(1, 2, 2)\n",
    "plt.barh(pos, feature_importance[sorted_idx], align='center')\n",
    "plt.yticks(pos, X.columns[sorted_idx])\n",
    "plt.xlabel('Relative Importance')\n",
    "plt.title('Variable Importance')\n",
    "plt.show()"
   ]
  },
  {
   "cell_type": "code",
   "execution_count": null,
   "metadata": {},
   "outputs": [],
   "source": [
    "# Create training and test sets.\n",
    "offset = int(X.shape[0] * 0.9)\n",
    "\n",
    "# Put 90% of the data in the training set.\n",
    "X_train, y_train = X[:offset], y[:offset]\n",
    "\n",
    "# And put 10% in the test set.\n",
    "X_test, y_test = X[offset:], y[offset:]"
   ]
  },
  {
   "cell_type": "code",
   "execution_count": null,
   "metadata": {},
   "outputs": [],
   "source": [
    "# We'll make 500 iterations, use 2-deep trees, and set our loss function.\n",
    "params = {'n_estimators': 500,\n",
    "          'max_depth': 2,\n",
    "          'loss': 'deviance'}\n",
    "\n",
    "# Initialize and fit the model.\n",
    "clf = ensemble.GradientBoostingClassifier(**params,subsample=.8)\n",
    "clf.fit(X_train, y_train)\n",
    "\n",
    "predict_train = clf.predict(X_train)\n",
    "predict_test = clf.predict(X_test)\n",
    "\n"
   ]
  },
  {
   "cell_type": "code",
   "execution_count": null,
   "metadata": {},
   "outputs": [],
   "source": [
    "from sklearn.metrics import accuracy_score\n",
    "accuracy_score(y_train, predict_train, normalize=True, sample_weight=None)"
   ]
  },
  {
   "cell_type": "code",
   "execution_count": null,
   "metadata": {},
   "outputs": [],
   "source": [
    "from sklearn.metrics import accuracy_score\n",
    "accuracy_score(y_test, predict_test, normalize=True, sample_weight=None)"
   ]
  },
  {
   "cell_type": "code",
   "execution_count": null,
   "metadata": {},
   "outputs": [],
   "source": []
  }
 ],
 "metadata": {
  "kernelspec": {
   "display_name": "Python 3",
   "language": "python",
   "name": "python3"
  },
  "language_info": {
   "codemirror_mode": {
    "name": "ipython",
    "version": 3
   },
   "file_extension": ".py",
   "mimetype": "text/x-python",
   "name": "python",
   "nbconvert_exporter": "python",
   "pygments_lexer": "ipython3",
   "version": "3.6.4"
  }
 },
 "nbformat": 4,
 "nbformat_minor": 2
}
