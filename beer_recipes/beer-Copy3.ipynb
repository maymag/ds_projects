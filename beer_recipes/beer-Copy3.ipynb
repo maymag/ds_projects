{
 "cells": [
  {
   "cell_type": "code",
   "execution_count": 1,
   "metadata": {},
   "outputs": [],
   "source": [
    "#importing libraries\n",
    "import pandas as pd\n",
    "import numpy as np\n",
    "%matplotlib inline\n",
    "import matplotlib.pyplot as plt\n",
    "import seaborn as sns\n",
    "from sklearn.linear_model import LogisticRegression\n",
    "from sklearn.preprocessing import MinMaxScaler\n"
   ]
  },
  {
   "cell_type": "code",
   "execution_count": 2,
   "metadata": {},
   "outputs": [],
   "source": [
    "beer = pd.read_csv('data/recipeData.csv', index_col='BeerID', encoding='latin1')"
   ]
  },
  {
   "cell_type": "code",
   "execution_count": 3,
   "metadata": {},
   "outputs": [
    {
     "data": {
      "text/plain": [
       "(73861, 21)"
      ]
     },
     "execution_count": 3,
     "metadata": {},
     "output_type": "execute_result"
    }
   ],
   "source": [
    "beer.shape"
   ]
  },
  {
   "cell_type": "code",
   "execution_count": 143,
   "metadata": {},
   "outputs": [
    {
     "data": {
      "text/plain": [
       "Index(['Name', 'URL', 'Style', 'StyleID', 'Size(L)', 'OG', 'FG', 'ABV', 'IBU',\n",
       "       'Color', 'BoilSize', 'BoilTime', 'BoilGravity', 'Efficiency',\n",
       "       'MashThickness', 'SugarScale', 'BrewMethod', 'PitchRate', 'PrimaryTemp',\n",
       "       'PrimingMethod', 'PrimingAmount', 'IPA', 'Pale Ale', 'Light Lager',\n",
       "       'Lager', 'Stout-Porter', 'Weissbier', 'kind'],\n",
       "      dtype='object')"
      ]
     },
     "execution_count": 143,
     "metadata": {},
     "output_type": "execute_result"
    }
   ],
   "source": [
    "beer.columns"
   ]
  },
  {
   "cell_type": "code",
   "execution_count": 4,
   "metadata": {
    "scrolled": true
   },
   "outputs": [
    {
     "data": {
      "text/html": [
       "<div>\n",
       "<style scoped>\n",
       "    .dataframe tbody tr th:only-of-type {\n",
       "        vertical-align: middle;\n",
       "    }\n",
       "\n",
       "    .dataframe tbody tr th {\n",
       "        vertical-align: top;\n",
       "    }\n",
       "\n",
       "    .dataframe thead th {\n",
       "        text-align: right;\n",
       "    }\n",
       "</style>\n",
       "<table border=\"1\" class=\"dataframe\">\n",
       "  <thead>\n",
       "    <tr style=\"text-align: right;\">\n",
       "      <th></th>\n",
       "      <th>Name</th>\n",
       "      <th>URL</th>\n",
       "      <th>Style</th>\n",
       "      <th>StyleID</th>\n",
       "      <th>Size(L)</th>\n",
       "      <th>OG</th>\n",
       "      <th>FG</th>\n",
       "      <th>ABV</th>\n",
       "      <th>IBU</th>\n",
       "      <th>Color</th>\n",
       "      <th>...</th>\n",
       "      <th>BoilTime</th>\n",
       "      <th>BoilGravity</th>\n",
       "      <th>Efficiency</th>\n",
       "      <th>MashThickness</th>\n",
       "      <th>SugarScale</th>\n",
       "      <th>BrewMethod</th>\n",
       "      <th>PitchRate</th>\n",
       "      <th>PrimaryTemp</th>\n",
       "      <th>PrimingMethod</th>\n",
       "      <th>PrimingAmount</th>\n",
       "    </tr>\n",
       "    <tr>\n",
       "      <th>BeerID</th>\n",
       "      <th></th>\n",
       "      <th></th>\n",
       "      <th></th>\n",
       "      <th></th>\n",
       "      <th></th>\n",
       "      <th></th>\n",
       "      <th></th>\n",
       "      <th></th>\n",
       "      <th></th>\n",
       "      <th></th>\n",
       "      <th></th>\n",
       "      <th></th>\n",
       "      <th></th>\n",
       "      <th></th>\n",
       "      <th></th>\n",
       "      <th></th>\n",
       "      <th></th>\n",
       "      <th></th>\n",
       "      <th></th>\n",
       "      <th></th>\n",
       "      <th></th>\n",
       "    </tr>\n",
       "  </thead>\n",
       "  <tbody>\n",
       "    <tr>\n",
       "      <th>1</th>\n",
       "      <td>Vanilla Cream Ale</td>\n",
       "      <td>/homebrew/recipe/view/1633/vanilla-cream-ale</td>\n",
       "      <td>Cream Ale</td>\n",
       "      <td>45</td>\n",
       "      <td>21.77</td>\n",
       "      <td>1.055</td>\n",
       "      <td>1.013</td>\n",
       "      <td>5.48</td>\n",
       "      <td>17.65</td>\n",
       "      <td>4.83</td>\n",
       "      <td>...</td>\n",
       "      <td>75</td>\n",
       "      <td>1.038</td>\n",
       "      <td>70.0</td>\n",
       "      <td>NaN</td>\n",
       "      <td>Specific Gravity</td>\n",
       "      <td>All Grain</td>\n",
       "      <td>NaN</td>\n",
       "      <td>17.78</td>\n",
       "      <td>corn sugar</td>\n",
       "      <td>4.5 oz</td>\n",
       "    </tr>\n",
       "    <tr>\n",
       "      <th>2</th>\n",
       "      <td>Southern Tier Pumking clone</td>\n",
       "      <td>/homebrew/recipe/view/16367/southern-tier-pumk...</td>\n",
       "      <td>Holiday/Winter Special Spiced Beer</td>\n",
       "      <td>85</td>\n",
       "      <td>20.82</td>\n",
       "      <td>1.083</td>\n",
       "      <td>1.021</td>\n",
       "      <td>8.16</td>\n",
       "      <td>60.65</td>\n",
       "      <td>15.64</td>\n",
       "      <td>...</td>\n",
       "      <td>60</td>\n",
       "      <td>1.070</td>\n",
       "      <td>70.0</td>\n",
       "      <td>NaN</td>\n",
       "      <td>Specific Gravity</td>\n",
       "      <td>All Grain</td>\n",
       "      <td>NaN</td>\n",
       "      <td>NaN</td>\n",
       "      <td>NaN</td>\n",
       "      <td>NaN</td>\n",
       "    </tr>\n",
       "    <tr>\n",
       "      <th>3</th>\n",
       "      <td>Zombie Dust Clone - EXTRACT</td>\n",
       "      <td>/homebrew/recipe/view/5920/zombie-dust-clone-e...</td>\n",
       "      <td>American IPA</td>\n",
       "      <td>7</td>\n",
       "      <td>18.93</td>\n",
       "      <td>1.063</td>\n",
       "      <td>1.018</td>\n",
       "      <td>5.91</td>\n",
       "      <td>59.25</td>\n",
       "      <td>8.98</td>\n",
       "      <td>...</td>\n",
       "      <td>60</td>\n",
       "      <td>NaN</td>\n",
       "      <td>70.0</td>\n",
       "      <td>NaN</td>\n",
       "      <td>Specific Gravity</td>\n",
       "      <td>extract</td>\n",
       "      <td>NaN</td>\n",
       "      <td>NaN</td>\n",
       "      <td>NaN</td>\n",
       "      <td>NaN</td>\n",
       "    </tr>\n",
       "    <tr>\n",
       "      <th>4</th>\n",
       "      <td>Zombie Dust Clone - ALL GRAIN</td>\n",
       "      <td>/homebrew/recipe/view/5916/zombie-dust-clone-a...</td>\n",
       "      <td>American IPA</td>\n",
       "      <td>7</td>\n",
       "      <td>22.71</td>\n",
       "      <td>1.061</td>\n",
       "      <td>1.017</td>\n",
       "      <td>5.80</td>\n",
       "      <td>54.48</td>\n",
       "      <td>8.50</td>\n",
       "      <td>...</td>\n",
       "      <td>60</td>\n",
       "      <td>NaN</td>\n",
       "      <td>70.0</td>\n",
       "      <td>NaN</td>\n",
       "      <td>Specific Gravity</td>\n",
       "      <td>All Grain</td>\n",
       "      <td>NaN</td>\n",
       "      <td>NaN</td>\n",
       "      <td>NaN</td>\n",
       "      <td>NaN</td>\n",
       "    </tr>\n",
       "    <tr>\n",
       "      <th>5</th>\n",
       "      <td>Bakke Brygg Belgisk Blonde 50 l</td>\n",
       "      <td>/homebrew/recipe/view/89534/bakke-brygg-belgis...</td>\n",
       "      <td>Belgian Blond Ale</td>\n",
       "      <td>20</td>\n",
       "      <td>50.00</td>\n",
       "      <td>1.060</td>\n",
       "      <td>1.010</td>\n",
       "      <td>6.48</td>\n",
       "      <td>17.84</td>\n",
       "      <td>4.57</td>\n",
       "      <td>...</td>\n",
       "      <td>90</td>\n",
       "      <td>1.050</td>\n",
       "      <td>72.0</td>\n",
       "      <td>NaN</td>\n",
       "      <td>Specific Gravity</td>\n",
       "      <td>All Grain</td>\n",
       "      <td>NaN</td>\n",
       "      <td>19.00</td>\n",
       "      <td>Sukkerlake</td>\n",
       "      <td>6-7 g sukker/l</td>\n",
       "    </tr>\n",
       "  </tbody>\n",
       "</table>\n",
       "<p>5 rows × 21 columns</p>\n",
       "</div>"
      ],
      "text/plain": [
       "                                   Name  \\\n",
       "BeerID                                    \n",
       "1                     Vanilla Cream Ale   \n",
       "2           Southern Tier Pumking clone   \n",
       "3           Zombie Dust Clone - EXTRACT   \n",
       "4         Zombie Dust Clone - ALL GRAIN   \n",
       "5       Bakke Brygg Belgisk Blonde 50 l   \n",
       "\n",
       "                                                      URL  \\\n",
       "BeerID                                                      \n",
       "1            /homebrew/recipe/view/1633/vanilla-cream-ale   \n",
       "2       /homebrew/recipe/view/16367/southern-tier-pumk...   \n",
       "3       /homebrew/recipe/view/5920/zombie-dust-clone-e...   \n",
       "4       /homebrew/recipe/view/5916/zombie-dust-clone-a...   \n",
       "5       /homebrew/recipe/view/89534/bakke-brygg-belgis...   \n",
       "\n",
       "                                     Style  StyleID  Size(L)     OG     FG  \\\n",
       "BeerID                                                                       \n",
       "1                                Cream Ale       45    21.77  1.055  1.013   \n",
       "2       Holiday/Winter Special Spiced Beer       85    20.82  1.083  1.021   \n",
       "3                             American IPA        7    18.93  1.063  1.018   \n",
       "4                             American IPA        7    22.71  1.061  1.017   \n",
       "5                        Belgian Blond Ale       20    50.00  1.060  1.010   \n",
       "\n",
       "         ABV    IBU  Color       ...        BoilTime  BoilGravity  Efficiency  \\\n",
       "BeerID                           ...                                            \n",
       "1       5.48  17.65   4.83       ...              75        1.038        70.0   \n",
       "2       8.16  60.65  15.64       ...              60        1.070        70.0   \n",
       "3       5.91  59.25   8.98       ...              60          NaN        70.0   \n",
       "4       5.80  54.48   8.50       ...              60          NaN        70.0   \n",
       "5       6.48  17.84   4.57       ...              90        1.050        72.0   \n",
       "\n",
       "        MashThickness        SugarScale BrewMethod PitchRate  PrimaryTemp  \\\n",
       "BeerID                                                                      \n",
       "1                 NaN  Specific Gravity  All Grain       NaN        17.78   \n",
       "2                 NaN  Specific Gravity  All Grain       NaN          NaN   \n",
       "3                 NaN  Specific Gravity    extract       NaN          NaN   \n",
       "4                 NaN  Specific Gravity  All Grain       NaN          NaN   \n",
       "5                 NaN  Specific Gravity  All Grain       NaN        19.00   \n",
       "\n",
       "        PrimingMethod   PrimingAmount  \n",
       "BeerID                                 \n",
       "1          corn sugar          4.5 oz  \n",
       "2                 NaN             NaN  \n",
       "3                 NaN             NaN  \n",
       "4                 NaN             NaN  \n",
       "5          Sukkerlake  6-7 g sukker/l  \n",
       "\n",
       "[5 rows x 21 columns]"
      ]
     },
     "execution_count": 4,
     "metadata": {},
     "output_type": "execute_result"
    }
   ],
   "source": [
    "beer.head()"
   ]
  },
  {
   "cell_type": "code",
   "execution_count": 5,
   "metadata": {
    "scrolled": true
   },
   "outputs": [
    {
     "data": {
      "text/html": [
       "<div>\n",
       "<style scoped>\n",
       "    .dataframe tbody tr th:only-of-type {\n",
       "        vertical-align: middle;\n",
       "    }\n",
       "\n",
       "    .dataframe tbody tr th {\n",
       "        vertical-align: top;\n",
       "    }\n",
       "\n",
       "    .dataframe thead th {\n",
       "        text-align: right;\n",
       "    }\n",
       "</style>\n",
       "<table border=\"1\" class=\"dataframe\">\n",
       "  <thead>\n",
       "    <tr style=\"text-align: right;\">\n",
       "      <th></th>\n",
       "      <th>index</th>\n",
       "      <th>Style</th>\n",
       "    </tr>\n",
       "  </thead>\n",
       "  <tbody>\n",
       "    <tr>\n",
       "      <th>0</th>\n",
       "      <td>American IPA</td>\n",
       "      <td>11940</td>\n",
       "    </tr>\n",
       "    <tr>\n",
       "      <th>1</th>\n",
       "      <td>American Pale Ale</td>\n",
       "      <td>7581</td>\n",
       "    </tr>\n",
       "    <tr>\n",
       "      <th>2</th>\n",
       "      <td>Saison</td>\n",
       "      <td>2617</td>\n",
       "    </tr>\n",
       "    <tr>\n",
       "      <th>3</th>\n",
       "      <td>American Light Lager</td>\n",
       "      <td>2277</td>\n",
       "    </tr>\n",
       "    <tr>\n",
       "      <th>4</th>\n",
       "      <td>American Amber Ale</td>\n",
       "      <td>2038</td>\n",
       "    </tr>\n",
       "    <tr>\n",
       "      <th>5</th>\n",
       "      <td>Blonde Ale</td>\n",
       "      <td>1753</td>\n",
       "    </tr>\n",
       "    <tr>\n",
       "      <th>6</th>\n",
       "      <td>Imperial IPA</td>\n",
       "      <td>1478</td>\n",
       "    </tr>\n",
       "    <tr>\n",
       "      <th>7</th>\n",
       "      <td>American Stout</td>\n",
       "      <td>1268</td>\n",
       "    </tr>\n",
       "    <tr>\n",
       "      <th>8</th>\n",
       "      <td>Irish Red Ale</td>\n",
       "      <td>1204</td>\n",
       "    </tr>\n",
       "    <tr>\n",
       "      <th>9</th>\n",
       "      <td>American Brown Ale</td>\n",
       "      <td>1152</td>\n",
       "    </tr>\n",
       "    <tr>\n",
       "      <th>10</th>\n",
       "      <td>Witbier</td>\n",
       "      <td>1072</td>\n",
       "    </tr>\n",
       "    <tr>\n",
       "      <th>11</th>\n",
       "      <td>California Common Beer</td>\n",
       "      <td>1044</td>\n",
       "    </tr>\n",
       "    <tr>\n",
       "      <th>12</th>\n",
       "      <td>Weissbier</td>\n",
       "      <td>988</td>\n",
       "    </tr>\n",
       "    <tr>\n",
       "      <th>13</th>\n",
       "      <td>Oatmeal Stout</td>\n",
       "      <td>961</td>\n",
       "    </tr>\n",
       "    <tr>\n",
       "      <th>14</th>\n",
       "      <td>Russian Imperial Stout</td>\n",
       "      <td>929</td>\n",
       "    </tr>\n",
       "    <tr>\n",
       "      <th>15</th>\n",
       "      <td>Sweet Stout</td>\n",
       "      <td>919</td>\n",
       "    </tr>\n",
       "    <tr>\n",
       "      <th>16</th>\n",
       "      <td>Weizen/Weissbier</td>\n",
       "      <td>919</td>\n",
       "    </tr>\n",
       "    <tr>\n",
       "      <th>17</th>\n",
       "      <td>Robust Porter</td>\n",
       "      <td>897</td>\n",
       "    </tr>\n",
       "    <tr>\n",
       "      <th>18</th>\n",
       "      <td>Kölsch</td>\n",
       "      <td>869</td>\n",
       "    </tr>\n",
       "    <tr>\n",
       "      <th>19</th>\n",
       "      <td>Double IPA</td>\n",
       "      <td>864</td>\n",
       "    </tr>\n",
       "    <tr>\n",
       "      <th>20</th>\n",
       "      <td>Cream Ale</td>\n",
       "      <td>830</td>\n",
       "    </tr>\n",
       "    <tr>\n",
       "      <th>21</th>\n",
       "      <td>American Porter</td>\n",
       "      <td>787</td>\n",
       "    </tr>\n",
       "    <tr>\n",
       "      <th>22</th>\n",
       "      <td>English IPA</td>\n",
       "      <td>784</td>\n",
       "    </tr>\n",
       "    <tr>\n",
       "      <th>23</th>\n",
       "      <td>Imperial Stout</td>\n",
       "      <td>675</td>\n",
       "    </tr>\n",
       "    <tr>\n",
       "      <th>24</th>\n",
       "      <td>Extra Special/Strong Bitter (ESB)</td>\n",
       "      <td>659</td>\n",
       "    </tr>\n",
       "    <tr>\n",
       "      <th>25</th>\n",
       "      <td>American Wheat Beer</td>\n",
       "      <td>654</td>\n",
       "    </tr>\n",
       "    <tr>\n",
       "      <th>26</th>\n",
       "      <td>Specialty IPA: Black IPA</td>\n",
       "      <td>638</td>\n",
       "    </tr>\n",
       "    <tr>\n",
       "      <th>27</th>\n",
       "      <td>Belgian Pale Ale</td>\n",
       "      <td>625</td>\n",
       "    </tr>\n",
       "    <tr>\n",
       "      <th>28</th>\n",
       "      <td>American Wheat or Rye Beer</td>\n",
       "      <td>571</td>\n",
       "    </tr>\n",
       "    <tr>\n",
       "      <th>29</th>\n",
       "      <td>Belgian Tripel</td>\n",
       "      <td>563</td>\n",
       "    </tr>\n",
       "    <tr>\n",
       "      <th>30</th>\n",
       "      <td>Belgian Dark Strong Ale</td>\n",
       "      <td>538</td>\n",
       "    </tr>\n",
       "    <tr>\n",
       "      <th>31</th>\n",
       "      <td>Belgian Dubbel</td>\n",
       "      <td>530</td>\n",
       "    </tr>\n",
       "    <tr>\n",
       "      <th>32</th>\n",
       "      <td>Spice  Herb  or Vegetable Beer</td>\n",
       "      <td>514</td>\n",
       "    </tr>\n",
       "    <tr>\n",
       "      <th>33</th>\n",
       "      <td>Fruit Beer</td>\n",
       "      <td>502</td>\n",
       "    </tr>\n",
       "    <tr>\n",
       "      <th>34</th>\n",
       "      <td>Belgian Blond Ale</td>\n",
       "      <td>496</td>\n",
       "    </tr>\n",
       "    <tr>\n",
       "      <th>35</th>\n",
       "      <td>Dry Stout</td>\n",
       "      <td>484</td>\n",
       "    </tr>\n",
       "    <tr>\n",
       "      <th>36</th>\n",
       "      <td>Strong Bitter</td>\n",
       "      <td>481</td>\n",
       "    </tr>\n",
       "    <tr>\n",
       "      <th>37</th>\n",
       "      <td>German Pilsner (Pils)</td>\n",
       "      <td>466</td>\n",
       "    </tr>\n",
       "    <tr>\n",
       "      <th>38</th>\n",
       "      <td>Specialty IPA: Red IPA</td>\n",
       "      <td>442</td>\n",
       "    </tr>\n",
       "    <tr>\n",
       "      <th>39</th>\n",
       "      <td>Brown Porter</td>\n",
       "      <td>438</td>\n",
       "    </tr>\n",
       "    <tr>\n",
       "      <th>40</th>\n",
       "      <td>Experimental Beer</td>\n",
       "      <td>432</td>\n",
       "    </tr>\n",
       "    <tr>\n",
       "      <th>41</th>\n",
       "      <td>Specialty Beer</td>\n",
       "      <td>430</td>\n",
       "    </tr>\n",
       "    <tr>\n",
       "      <th>42</th>\n",
       "      <td>Belgian Specialty Ale</td>\n",
       "      <td>422</td>\n",
       "    </tr>\n",
       "  </tbody>\n",
       "</table>\n",
       "</div>"
      ],
      "text/plain": [
       "                                index  Style\n",
       "0                        American IPA  11940\n",
       "1                   American Pale Ale   7581\n",
       "2                              Saison   2617\n",
       "3                American Light Lager   2277\n",
       "4                  American Amber Ale   2038\n",
       "5                          Blonde Ale   1753\n",
       "6                        Imperial IPA   1478\n",
       "7                      American Stout   1268\n",
       "8                       Irish Red Ale   1204\n",
       "9                  American Brown Ale   1152\n",
       "10                            Witbier   1072\n",
       "11             California Common Beer   1044\n",
       "12                          Weissbier    988\n",
       "13                      Oatmeal Stout    961\n",
       "14             Russian Imperial Stout    929\n",
       "15                        Sweet Stout    919\n",
       "16                   Weizen/Weissbier    919\n",
       "17                      Robust Porter    897\n",
       "18                             Kölsch    869\n",
       "19                         Double IPA    864\n",
       "20                          Cream Ale    830\n",
       "21                    American Porter    787\n",
       "22                        English IPA    784\n",
       "23                     Imperial Stout    675\n",
       "24  Extra Special/Strong Bitter (ESB)    659\n",
       "25                American Wheat Beer    654\n",
       "26           Specialty IPA: Black IPA    638\n",
       "27                   Belgian Pale Ale    625\n",
       "28         American Wheat or Rye Beer    571\n",
       "29                     Belgian Tripel    563\n",
       "30            Belgian Dark Strong Ale    538\n",
       "31                     Belgian Dubbel    530\n",
       "32     Spice  Herb  or Vegetable Beer    514\n",
       "33                         Fruit Beer    502\n",
       "34                  Belgian Blond Ale    496\n",
       "35                          Dry Stout    484\n",
       "36                      Strong Bitter    481\n",
       "37              German Pilsner (Pils)    466\n",
       "38             Specialty IPA: Red IPA    442\n",
       "39                       Brown Porter    438\n",
       "40                  Experimental Beer    432\n",
       "41                     Specialty Beer    430\n",
       "42              Belgian Specialty Ale    422"
      ]
     },
     "execution_count": 5,
     "metadata": {},
     "output_type": "execute_result"
    }
   ],
   "source": [
    "stylecounts = pd.DataFrame(beer['Style'].value_counts().reset_index())\n",
    "stylecounts.loc[stylecounts['Style']>400,:]\n"
   ]
  },
  {
   "cell_type": "code",
   "execution_count": 6,
   "metadata": {},
   "outputs": [],
   "source": [
    "#a = beer['Imperial IPA'] = (beer['Style'].str.contains('Imperial IPA'or'Double IPA'))*'Imperial IPA '\n"
   ]
  },
  {
   "cell_type": "code",
   "execution_count": 7,
   "metadata": {},
   "outputs": [],
   "source": [
    "#b = beer['Black IPA'] = (beer['Style'].str.contains('Black IPA'))*'Black IPA '"
   ]
  },
  {
   "cell_type": "code",
   "execution_count": 8,
   "metadata": {},
   "outputs": [],
   "source": [
    "v = beer['IPA'] = (beer['Style'].str.contains(' IPA'))*'IPA'\n"
   ]
  },
  {
   "cell_type": "code",
   "execution_count": 9,
   "metadata": {},
   "outputs": [],
   "source": [
    "c = beer['Pale Ale'] = (beer['Style'].str.contains('Pale Ale'))*'Pale Ales' "
   ]
  },
  {
   "cell_type": "code",
   "execution_count": 10,
   "metadata": {},
   "outputs": [],
   "source": [
    "d = beer['Light Lager'] = (beer['Style'].str.contains('Light Lager'))*'Light '"
   ]
  },
  {
   "cell_type": "code",
   "execution_count": 11,
   "metadata": {},
   "outputs": [],
   "source": [
    "o = beer['Lager'] = (beer['Style'].str.contains(' Lager|Common |Steam '))*'Lager'"
   ]
  },
  {
   "cell_type": "code",
   "execution_count": 12,
   "metadata": {},
   "outputs": [],
   "source": [
    "#e = beer['Blonde Ale'] = (beer['Style'].str.contains('Blonde Ale' or 'Blond Ale'or 'Cream Ale'))*'Blonde '"
   ]
  },
  {
   "cell_type": "code",
   "execution_count": 13,
   "metadata": {},
   "outputs": [],
   "source": [
    "f = beer['Pale Ale'] = (beer['Style'].str.contains('Saison|Strong Bitter'))*'Pale Ales'"
   ]
  },
  {
   "cell_type": "code",
   "execution_count": 14,
   "metadata": {},
   "outputs": [],
   "source": [
    "#g = beer['Oatmeal Stout'] = (beer['Style'].str.contains('Oatmeal Stout'))*'Oatmeal Stout '"
   ]
  },
  {
   "cell_type": "code",
   "execution_count": 15,
   "metadata": {},
   "outputs": [],
   "source": [
    "#h = beer['Sweet Stout'] = (beer['Style'].str.contains('Sweet Stout' or 'Oatmeal Stout'))*'Sweet Stout '"
   ]
  },
  {
   "cell_type": "code",
   "execution_count": 16,
   "metadata": {},
   "outputs": [],
   "source": [
    "#j = beer['Saison'] = (beer['Style'].str.contains('Saison'))*'Saison'"
   ]
  },
  {
   "cell_type": "code",
   "execution_count": 17,
   "metadata": {},
   "outputs": [],
   "source": [
    "k = beer['Stout-Porter'] = (beer['Style'].str.contains(' Stout| Porter'))*'Stout-Porter' "
   ]
  },
  {
   "cell_type": "code",
   "execution_count": 18,
   "metadata": {},
   "outputs": [],
   "source": [
    "#m = beer['Ales'] = (beer['Style'].str.contains(' Ale'))*'Ales'"
   ]
  },
  {
   "cell_type": "code",
   "execution_count": 19,
   "metadata": {},
   "outputs": [],
   "source": [
    "#l = beer['Brown Ale'] = (beer['Style'].str.contains('Brown Ale' or 'Dark Strong Ale' or 'Dark Ale'))*'Brown '"
   ]
  },
  {
   "cell_type": "code",
   "execution_count": 20,
   "metadata": {},
   "outputs": [],
   "source": [
    "#n = beer['Ales'] = (beer['Style'].str.contains('Brown Ale|Strong Ale|Dark Ale|Red Ale|Amber Ale|Blonde Ale|Blond Ale|Cream Ale'))*'Ales'"
   ]
  },
  {
   "cell_type": "code",
   "execution_count": 21,
   "metadata": {},
   "outputs": [],
   "source": [
    "q = beer['Weissbier'] = (beer['Style'].str.contains('Witbier|Weissbier|Weizenbier|Weizen/Weissbier'))*'Weissbier'"
   ]
  },
  {
   "cell_type": "code",
   "execution_count": 22,
   "metadata": {},
   "outputs": [],
   "source": [
    "#s = beer['Kölsch'] = (beer['Style'].str.contains('Kölsch'))*'Kölsch'"
   ]
  },
  {
   "cell_type": "code",
   "execution_count": 23,
   "metadata": {},
   "outputs": [],
   "source": [
    "#t = beer['Porter'] = (beer['Style'].str.contains(' Porter'))*'Porter'"
   ]
  },
  {
   "cell_type": "code",
   "execution_count": 24,
   "metadata": {},
   "outputs": [],
   "source": [
    "#u = beer['Wheat beer'] = (beer['Style'].str.contains('Wheat Beer'))*'Wheat Beer'"
   ]
  },
  {
   "cell_type": "code",
   "execution_count": 25,
   "metadata": {
    "scrolled": true
   },
   "outputs": [
    {
     "data": {
      "text/plain": [
       "                27157\n",
       "IPA             17064\n",
       "Pale Ales       11963\n",
       "Stout-Porter     8654\n",
       "Weissbier        3181\n",
       "Lager            2969\n",
       "Light Lager      2277\n",
       "Name: kind, dtype: int64"
      ]
     },
     "execution_count": 25,
     "metadata": {},
     "output_type": "execute_result"
    }
   ],
   "source": [
    "beer['kind'] = c+d+f+k+o+q+v+''\n",
    "beer['kind'].value_counts()"
   ]
  },
  {
   "cell_type": "code",
   "execution_count": 26,
   "metadata": {},
   "outputs": [],
   "source": [
    "beer2 = pd.DataFrame(beer.iloc[:,:-7])"
   ]
  },
  {
   "cell_type": "code",
   "execution_count": 27,
   "metadata": {},
   "outputs": [
    {
     "data": {
      "text/html": [
       "<div>\n",
       "<style scoped>\n",
       "    .dataframe tbody tr th:only-of-type {\n",
       "        vertical-align: middle;\n",
       "    }\n",
       "\n",
       "    .dataframe tbody tr th {\n",
       "        vertical-align: top;\n",
       "    }\n",
       "\n",
       "    .dataframe thead th {\n",
       "        text-align: right;\n",
       "    }\n",
       "</style>\n",
       "<table border=\"1\" class=\"dataframe\">\n",
       "  <thead>\n",
       "    <tr style=\"text-align: right;\">\n",
       "      <th></th>\n",
       "      <th>Name</th>\n",
       "      <th>URL</th>\n",
       "      <th>Style</th>\n",
       "      <th>StyleID</th>\n",
       "      <th>Size(L)</th>\n",
       "      <th>OG</th>\n",
       "      <th>FG</th>\n",
       "      <th>ABV</th>\n",
       "      <th>IBU</th>\n",
       "      <th>Color</th>\n",
       "      <th>...</th>\n",
       "      <th>BoilTime</th>\n",
       "      <th>BoilGravity</th>\n",
       "      <th>Efficiency</th>\n",
       "      <th>MashThickness</th>\n",
       "      <th>SugarScale</th>\n",
       "      <th>BrewMethod</th>\n",
       "      <th>PitchRate</th>\n",
       "      <th>PrimaryTemp</th>\n",
       "      <th>PrimingMethod</th>\n",
       "      <th>PrimingAmount</th>\n",
       "    </tr>\n",
       "    <tr>\n",
       "      <th>BeerID</th>\n",
       "      <th></th>\n",
       "      <th></th>\n",
       "      <th></th>\n",
       "      <th></th>\n",
       "      <th></th>\n",
       "      <th></th>\n",
       "      <th></th>\n",
       "      <th></th>\n",
       "      <th></th>\n",
       "      <th></th>\n",
       "      <th></th>\n",
       "      <th></th>\n",
       "      <th></th>\n",
       "      <th></th>\n",
       "      <th></th>\n",
       "      <th></th>\n",
       "      <th></th>\n",
       "      <th></th>\n",
       "      <th></th>\n",
       "      <th></th>\n",
       "      <th></th>\n",
       "    </tr>\n",
       "  </thead>\n",
       "  <tbody>\n",
       "    <tr>\n",
       "      <th>1</th>\n",
       "      <td>Vanilla Cream Ale</td>\n",
       "      <td>/homebrew/recipe/view/1633/vanilla-cream-ale</td>\n",
       "      <td>Cream Ale</td>\n",
       "      <td>45</td>\n",
       "      <td>21.77</td>\n",
       "      <td>1.055</td>\n",
       "      <td>1.013</td>\n",
       "      <td>5.48</td>\n",
       "      <td>17.65</td>\n",
       "      <td>4.83</td>\n",
       "      <td>...</td>\n",
       "      <td>75</td>\n",
       "      <td>1.038</td>\n",
       "      <td>70.0</td>\n",
       "      <td>NaN</td>\n",
       "      <td>Specific Gravity</td>\n",
       "      <td>All Grain</td>\n",
       "      <td>NaN</td>\n",
       "      <td>17.78</td>\n",
       "      <td>corn sugar</td>\n",
       "      <td>4.5 oz</td>\n",
       "    </tr>\n",
       "    <tr>\n",
       "      <th>2</th>\n",
       "      <td>Southern Tier Pumking clone</td>\n",
       "      <td>/homebrew/recipe/view/16367/southern-tier-pumk...</td>\n",
       "      <td>Holiday/Winter Special Spiced Beer</td>\n",
       "      <td>85</td>\n",
       "      <td>20.82</td>\n",
       "      <td>1.083</td>\n",
       "      <td>1.021</td>\n",
       "      <td>8.16</td>\n",
       "      <td>60.65</td>\n",
       "      <td>15.64</td>\n",
       "      <td>...</td>\n",
       "      <td>60</td>\n",
       "      <td>1.070</td>\n",
       "      <td>70.0</td>\n",
       "      <td>NaN</td>\n",
       "      <td>Specific Gravity</td>\n",
       "      <td>All Grain</td>\n",
       "      <td>NaN</td>\n",
       "      <td>NaN</td>\n",
       "      <td>NaN</td>\n",
       "      <td>NaN</td>\n",
       "    </tr>\n",
       "    <tr>\n",
       "      <th>3</th>\n",
       "      <td>Zombie Dust Clone - EXTRACT</td>\n",
       "      <td>/homebrew/recipe/view/5920/zombie-dust-clone-e...</td>\n",
       "      <td>American IPA</td>\n",
       "      <td>7</td>\n",
       "      <td>18.93</td>\n",
       "      <td>1.063</td>\n",
       "      <td>1.018</td>\n",
       "      <td>5.91</td>\n",
       "      <td>59.25</td>\n",
       "      <td>8.98</td>\n",
       "      <td>...</td>\n",
       "      <td>60</td>\n",
       "      <td>NaN</td>\n",
       "      <td>70.0</td>\n",
       "      <td>NaN</td>\n",
       "      <td>Specific Gravity</td>\n",
       "      <td>extract</td>\n",
       "      <td>NaN</td>\n",
       "      <td>NaN</td>\n",
       "      <td>NaN</td>\n",
       "      <td>NaN</td>\n",
       "    </tr>\n",
       "    <tr>\n",
       "      <th>4</th>\n",
       "      <td>Zombie Dust Clone - ALL GRAIN</td>\n",
       "      <td>/homebrew/recipe/view/5916/zombie-dust-clone-a...</td>\n",
       "      <td>American IPA</td>\n",
       "      <td>7</td>\n",
       "      <td>22.71</td>\n",
       "      <td>1.061</td>\n",
       "      <td>1.017</td>\n",
       "      <td>5.80</td>\n",
       "      <td>54.48</td>\n",
       "      <td>8.50</td>\n",
       "      <td>...</td>\n",
       "      <td>60</td>\n",
       "      <td>NaN</td>\n",
       "      <td>70.0</td>\n",
       "      <td>NaN</td>\n",
       "      <td>Specific Gravity</td>\n",
       "      <td>All Grain</td>\n",
       "      <td>NaN</td>\n",
       "      <td>NaN</td>\n",
       "      <td>NaN</td>\n",
       "      <td>NaN</td>\n",
       "    </tr>\n",
       "    <tr>\n",
       "      <th>5</th>\n",
       "      <td>Bakke Brygg Belgisk Blonde 50 l</td>\n",
       "      <td>/homebrew/recipe/view/89534/bakke-brygg-belgis...</td>\n",
       "      <td>Belgian Blond Ale</td>\n",
       "      <td>20</td>\n",
       "      <td>50.00</td>\n",
       "      <td>1.060</td>\n",
       "      <td>1.010</td>\n",
       "      <td>6.48</td>\n",
       "      <td>17.84</td>\n",
       "      <td>4.57</td>\n",
       "      <td>...</td>\n",
       "      <td>90</td>\n",
       "      <td>1.050</td>\n",
       "      <td>72.0</td>\n",
       "      <td>NaN</td>\n",
       "      <td>Specific Gravity</td>\n",
       "      <td>All Grain</td>\n",
       "      <td>NaN</td>\n",
       "      <td>19.00</td>\n",
       "      <td>Sukkerlake</td>\n",
       "      <td>6-7 g sukker/l</td>\n",
       "    </tr>\n",
       "  </tbody>\n",
       "</table>\n",
       "<p>5 rows × 21 columns</p>\n",
       "</div>"
      ],
      "text/plain": [
       "                                   Name  \\\n",
       "BeerID                                    \n",
       "1                     Vanilla Cream Ale   \n",
       "2           Southern Tier Pumking clone   \n",
       "3           Zombie Dust Clone - EXTRACT   \n",
       "4         Zombie Dust Clone - ALL GRAIN   \n",
       "5       Bakke Brygg Belgisk Blonde 50 l   \n",
       "\n",
       "                                                      URL  \\\n",
       "BeerID                                                      \n",
       "1            /homebrew/recipe/view/1633/vanilla-cream-ale   \n",
       "2       /homebrew/recipe/view/16367/southern-tier-pumk...   \n",
       "3       /homebrew/recipe/view/5920/zombie-dust-clone-e...   \n",
       "4       /homebrew/recipe/view/5916/zombie-dust-clone-a...   \n",
       "5       /homebrew/recipe/view/89534/bakke-brygg-belgis...   \n",
       "\n",
       "                                     Style  StyleID  Size(L)     OG     FG  \\\n",
       "BeerID                                                                       \n",
       "1                                Cream Ale       45    21.77  1.055  1.013   \n",
       "2       Holiday/Winter Special Spiced Beer       85    20.82  1.083  1.021   \n",
       "3                             American IPA        7    18.93  1.063  1.018   \n",
       "4                             American IPA        7    22.71  1.061  1.017   \n",
       "5                        Belgian Blond Ale       20    50.00  1.060  1.010   \n",
       "\n",
       "         ABV    IBU  Color       ...        BoilTime  BoilGravity  Efficiency  \\\n",
       "BeerID                           ...                                            \n",
       "1       5.48  17.65   4.83       ...              75        1.038        70.0   \n",
       "2       8.16  60.65  15.64       ...              60        1.070        70.0   \n",
       "3       5.91  59.25   8.98       ...              60          NaN        70.0   \n",
       "4       5.80  54.48   8.50       ...              60          NaN        70.0   \n",
       "5       6.48  17.84   4.57       ...              90        1.050        72.0   \n",
       "\n",
       "        MashThickness        SugarScale BrewMethod PitchRate  PrimaryTemp  \\\n",
       "BeerID                                                                      \n",
       "1                 NaN  Specific Gravity  All Grain       NaN        17.78   \n",
       "2                 NaN  Specific Gravity  All Grain       NaN          NaN   \n",
       "3                 NaN  Specific Gravity    extract       NaN          NaN   \n",
       "4                 NaN  Specific Gravity  All Grain       NaN          NaN   \n",
       "5                 NaN  Specific Gravity  All Grain       NaN        19.00   \n",
       "\n",
       "        PrimingMethod   PrimingAmount  \n",
       "BeerID                                 \n",
       "1          corn sugar          4.5 oz  \n",
       "2                 NaN             NaN  \n",
       "3                 NaN             NaN  \n",
       "4                 NaN             NaN  \n",
       "5          Sukkerlake  6-7 g sukker/l  \n",
       "\n",
       "[5 rows x 21 columns]"
      ]
     },
     "execution_count": 27,
     "metadata": {},
     "output_type": "execute_result"
    }
   ],
   "source": [
    "beer2.head()"
   ]
  },
  {
   "cell_type": "code",
   "execution_count": 28,
   "metadata": {},
   "outputs": [],
   "source": [
    "beer2['kind'] = beer['kind']"
   ]
  },
  {
   "cell_type": "code",
   "execution_count": 29,
   "metadata": {},
   "outputs": [],
   "source": [
    "beer2['kind'] =  beer2['kind'].replace('',np.nan)"
   ]
  },
  {
   "cell_type": "code",
   "execution_count": 30,
   "metadata": {},
   "outputs": [
    {
     "data": {
      "text/plain": [
       "46108"
      ]
     },
     "execution_count": 30,
     "metadata": {},
     "output_type": "execute_result"
    }
   ],
   "source": [
    "beer2['kind'].count()"
   ]
  },
  {
   "cell_type": "code",
   "execution_count": 31,
   "metadata": {},
   "outputs": [
    {
     "data": {
      "text/plain": [
       "IPA             17064\n",
       "Pale Ales       11963\n",
       "Stout-Porter     8654\n",
       "Weissbier        3181\n",
       "Lager            2969\n",
       "Light Lager      2277\n",
       "Name: kind, dtype: int64"
      ]
     },
     "execution_count": 31,
     "metadata": {},
     "output_type": "execute_result"
    }
   ],
   "source": [
    "beer2['kind'].value_counts()"
   ]
  },
  {
   "cell_type": "code",
   "execution_count": 32,
   "metadata": {},
   "outputs": [
    {
     "data": {
      "text/plain": [
       "Name                 1\n",
       "Style              596\n",
       "BoilGravity       2990\n",
       "MashThickness    29864\n",
       "PitchRate        39252\n",
       "PrimaryTemp      22662\n",
       "PrimingMethod    67095\n",
       "PrimingAmount    69087\n",
       "kind             27753\n",
       "dtype: int64"
      ]
     },
     "execution_count": 32,
     "metadata": {},
     "output_type": "execute_result"
    }
   ],
   "source": [
    "## Count nulls \n",
    "null_count = beer2.isnull().sum()\n",
    "null_count[null_count>0]"
   ]
  },
  {
   "cell_type": "markdown",
   "metadata": {},
   "source": [
    "PrimingMethod and PrimingAmount have too many nulls to be useful."
   ]
  },
  {
   "cell_type": "code",
   "execution_count": 33,
   "metadata": {},
   "outputs": [],
   "source": [
    "beer2 = beer2.drop(columns = ['PrimingMethod','PrimingAmount','URL','Name'])"
   ]
  },
  {
   "cell_type": "markdown",
   "metadata": {},
   "source": [
    "I'm replacing the style column with my 'kind' column."
   ]
  },
  {
   "cell_type": "code",
   "execution_count": 34,
   "metadata": {},
   "outputs": [],
   "source": [
    "beer2 = beer2.drop(columns = ['Style'])"
   ]
  },
  {
   "cell_type": "markdown",
   "metadata": {},
   "source": [
    "PitchRate also has an awful lot of nan values. I'll do a histogram to see if the nan values are consistent across all styles."
   ]
  },
  {
   "cell_type": "code",
   "execution_count": 35,
   "metadata": {},
   "outputs": [
    {
     "data": {
      "text/plain": [
       "count    34609.000000\n",
       "mean         0.750468\n",
       "std          0.394262\n",
       "min          0.000000\n",
       "25%          0.350000\n",
       "50%          0.750000\n",
       "75%          1.000000\n",
       "max          2.000000\n",
       "Name: PitchRate, dtype: float64"
      ]
     },
     "execution_count": 35,
     "metadata": {},
     "output_type": "execute_result"
    }
   ],
   "source": [
    "beer2.PitchRate.describe()"
   ]
  },
  {
   "cell_type": "code",
   "execution_count": 36,
   "metadata": {},
   "outputs": [
    {
     "data": {
      "text/plain": [
       "count    51199.000000\n",
       "mean        19.175641\n",
       "std          4.219676\n",
       "min        -17.780000\n",
       "25%         18.000000\n",
       "50%         20.000000\n",
       "75%         20.000000\n",
       "max        114.000000\n",
       "Name: PrimaryTemp, dtype: float64"
      ]
     },
     "execution_count": 36,
     "metadata": {},
     "output_type": "execute_result"
    }
   ],
   "source": [
    "beer2['PrimaryTemp'].describe()"
   ]
  },
  {
   "cell_type": "code",
   "execution_count": 37,
   "metadata": {},
   "outputs": [
    {
     "data": {
      "text/plain": [
       "count    43997.000000\n",
       "mean         2.127235\n",
       "std          1.682347\n",
       "min          0.000000\n",
       "25%          1.500000\n",
       "50%          1.500000\n",
       "75%          3.000000\n",
       "max        100.000000\n",
       "Name: MashThickness, dtype: float64"
      ]
     },
     "execution_count": 37,
     "metadata": {},
     "output_type": "execute_result"
    }
   ],
   "source": [
    "beer2['MashThickness'].describe()"
   ]
  },
  {
   "cell_type": "markdown",
   "metadata": {},
   "source": [
    "The counts for MashThickness, PitchRate and PrimaryTemp are fairly high. We can keep these features if they don't seem skewed toward one style or another."
   ]
  },
  {
   "cell_type": "code",
   "execution_count": 38,
   "metadata": {},
   "outputs": [],
   "source": [
    "beergroup = pd.DataFrame(beer2.groupby('StyleID')['MashThickness'].count().reset_index())"
   ]
  },
  {
   "cell_type": "code",
   "execution_count": 39,
   "metadata": {},
   "outputs": [],
   "source": [
    "beergroup2 = pd.DataFrame(beer2.groupby('StyleID')['PrimaryTemp'].count().reset_index())"
   ]
  },
  {
   "cell_type": "code",
   "execution_count": 40,
   "metadata": {},
   "outputs": [],
   "source": [
    "beergroup3 = pd.DataFrame(beer2.groupby('StyleID')['PitchRate'].count().reset_index())"
   ]
  },
  {
   "cell_type": "code",
   "execution_count": 41,
   "metadata": {},
   "outputs": [
    {
     "data": {
      "text/html": [
       "<div>\n",
       "<style scoped>\n",
       "    .dataframe tbody tr th:only-of-type {\n",
       "        vertical-align: middle;\n",
       "    }\n",
       "\n",
       "    .dataframe tbody tr th {\n",
       "        vertical-align: top;\n",
       "    }\n",
       "\n",
       "    .dataframe thead th {\n",
       "        text-align: right;\n",
       "    }\n",
       "</style>\n",
       "<table border=\"1\" class=\"dataframe\">\n",
       "  <thead>\n",
       "    <tr style=\"text-align: right;\">\n",
       "      <th></th>\n",
       "      <th>StyleID</th>\n",
       "      <th>MashThickness</th>\n",
       "    </tr>\n",
       "  </thead>\n",
       "  <tbody>\n",
       "    <tr>\n",
       "      <th>0</th>\n",
       "      <td>1</td>\n",
       "      <td>95</td>\n",
       "    </tr>\n",
       "    <tr>\n",
       "      <th>1</th>\n",
       "      <td>2</td>\n",
       "      <td>22</td>\n",
       "    </tr>\n",
       "    <tr>\n",
       "      <th>2</th>\n",
       "      <td>3</td>\n",
       "      <td>11</td>\n",
       "    </tr>\n",
       "    <tr>\n",
       "      <th>3</th>\n",
       "      <td>4</td>\n",
       "      <td>1139</td>\n",
       "    </tr>\n",
       "    <tr>\n",
       "      <th>4</th>\n",
       "      <td>5</td>\n",
       "      <td>214</td>\n",
       "    </tr>\n",
       "  </tbody>\n",
       "</table>\n",
       "</div>"
      ],
      "text/plain": [
       "   StyleID  MashThickness\n",
       "0        1             95\n",
       "1        2             22\n",
       "2        3             11\n",
       "3        4           1139\n",
       "4        5            214"
      ]
     },
     "execution_count": 41,
     "metadata": {},
     "output_type": "execute_result"
    }
   ],
   "source": [
    "beergroup.head()"
   ]
  },
  {
   "cell_type": "code",
   "execution_count": 42,
   "metadata": {},
   "outputs": [
    {
     "data": {
      "text/plain": [
       "<seaborn.axisgrid.FacetGrid at 0x10fda36d8>"
      ]
     },
     "execution_count": 42,
     "metadata": {},
     "output_type": "execute_result"
    },
    {
     "data": {
      "image/png": "[encoded data removed]",
      "text/plain": [
       "<matplotlib.figure.Figure at 0x10fda3668>"
      ]
     },
     "metadata": {},
     "output_type": "display_data"
    }
   ],
   "source": [
    "sns.lmplot(x = 'StyleID', y = 'MashThickness', data = beergroup)"
   ]
  },
  {
   "cell_type": "code",
   "execution_count": 43,
   "metadata": {},
   "outputs": [
    {
     "data": {
      "text/plain": [
       "<seaborn.axisgrid.FacetGrid at 0x116912320>"
      ]
     },
     "execution_count": 43,
     "metadata": {},
     "output_type": "execute_result"
    },
    {
     "data": {
      "image/png": "[encoded data removed]",
      "text/plain": [
       "<matplotlib.figure.Figure at 0x116912048>"
      ]
     },
     "metadata": {},
     "output_type": "display_data"
    }
   ],
   "source": [
    "sns.lmplot(x = 'StyleID', y = 'PrimaryTemp', data = beergroup2)"
   ]
  },
  {
   "cell_type": "code",
   "execution_count": 44,
   "metadata": {},
   "outputs": [
    {
     "data": {
      "text/plain": [
       "<seaborn.axisgrid.FacetGrid at 0x116923978>"
      ]
     },
     "execution_count": 44,
     "metadata": {},
     "output_type": "execute_result"
    },
    {
     "data": {
      "image/png": "[encoded data removed]",
      "text/plain": [
       "<matplotlib.figure.Figure at 0x1169238d0>"
      ]
     },
     "metadata": {},
     "output_type": "display_data"
    }
   ],
   "source": [
    "sns.lmplot(x = 'StyleID', y = 'PitchRate', data = beergroup3)"
   ]
  },
  {
   "cell_type": "markdown",
   "metadata": {},
   "source": [
    "The available values for all of these seem to pretty consistent across styles. These columns could be useful. Let's do a correlation matrix to see if we actually need them."
   ]
  },
  {
   "cell_type": "code",
   "execution_count": 45,
   "metadata": {},
   "outputs": [
    {
     "data": {
      "text/html": [
       "<div>\n",
       "<style scoped>\n",
       "    .dataframe tbody tr th:only-of-type {\n",
       "        vertical-align: middle;\n",
       "    }\n",
       "\n",
       "    .dataframe tbody tr th {\n",
       "        vertical-align: top;\n",
       "    }\n",
       "\n",
       "    .dataframe thead th {\n",
       "        text-align: right;\n",
       "    }\n",
       "</style>\n",
       "<table border=\"1\" class=\"dataframe\">\n",
       "  <thead>\n",
       "    <tr style=\"text-align: right;\">\n",
       "      <th></th>\n",
       "      <th>StyleID</th>\n",
       "      <th>Size(L)</th>\n",
       "      <th>OG</th>\n",
       "      <th>FG</th>\n",
       "      <th>ABV</th>\n",
       "      <th>IBU</th>\n",
       "      <th>Color</th>\n",
       "      <th>BoilSize</th>\n",
       "      <th>BoilTime</th>\n",
       "      <th>BoilGravity</th>\n",
       "      <th>Efficiency</th>\n",
       "      <th>MashThickness</th>\n",
       "      <th>PitchRate</th>\n",
       "      <th>PrimaryTemp</th>\n",
       "    </tr>\n",
       "  </thead>\n",
       "  <tbody>\n",
       "    <tr>\n",
       "      <th>StyleID</th>\n",
       "      <td>1.000000</td>\n",
       "      <td>-0.006522</td>\n",
       "      <td>0.002699</td>\n",
       "      <td>0.007336</td>\n",
       "      <td>0.006617</td>\n",
       "      <td>-0.141124</td>\n",
       "      <td>0.166669</td>\n",
       "      <td>-0.006301</td>\n",
       "      <td>0.077969</td>\n",
       "      <td>0.002326</td>\n",
       "      <td>0.021515</td>\n",
       "      <td>0.006167</td>\n",
       "      <td>0.079123</td>\n",
       "      <td>-0.019661</td>\n",
       "    </tr>\n",
       "    <tr>\n",
       "      <th>Size(L)</th>\n",
       "      <td>-0.006522</td>\n",
       "      <td>1.000000</td>\n",
       "      <td>0.162237</td>\n",
       "      <td>0.141614</td>\n",
       "      <td>-0.013527</td>\n",
       "      <td>-0.029917</td>\n",
       "      <td>-0.018068</td>\n",
       "      <td>0.994143</td>\n",
       "      <td>0.044848</td>\n",
       "      <td>0.176071</td>\n",
       "      <td>0.108826</td>\n",
       "      <td>0.019246</td>\n",
       "      <td>0.026623</td>\n",
       "      <td>0.004278</td>\n",
       "    </tr>\n",
       "    <tr>\n",
       "      <th>OG</th>\n",
       "      <td>0.002699</td>\n",
       "      <td>0.162237</td>\n",
       "      <td>1.000000</td>\n",
       "      <td>0.936347</td>\n",
       "      <td>0.029432</td>\n",
       "      <td>-0.001655</td>\n",
       "      <td>0.013632</td>\n",
       "      <td>0.165162</td>\n",
       "      <td>0.031825</td>\n",
       "      <td>0.968138</td>\n",
       "      <td>0.067610</td>\n",
       "      <td>0.046841</td>\n",
       "      <td>0.020556</td>\n",
       "      <td>0.000518</td>\n",
       "    </tr>\n",
       "    <tr>\n",
       "      <th>FG</th>\n",
       "      <td>0.007336</td>\n",
       "      <td>0.141614</td>\n",
       "      <td>0.936347</td>\n",
       "      <td>1.000000</td>\n",
       "      <td>0.026851</td>\n",
       "      <td>-0.000719</td>\n",
       "      <td>0.029848</td>\n",
       "      <td>0.142974</td>\n",
       "      <td>0.028930</td>\n",
       "      <td>0.908611</td>\n",
       "      <td>0.061173</td>\n",
       "      <td>0.040541</td>\n",
       "      <td>0.013446</td>\n",
       "      <td>0.004477</td>\n",
       "    </tr>\n",
       "    <tr>\n",
       "      <th>ABV</th>\n",
       "      <td>0.006617</td>\n",
       "      <td>-0.013527</td>\n",
       "      <td>0.029432</td>\n",
       "      <td>0.026851</td>\n",
       "      <td>1.000000</td>\n",
       "      <td>0.290889</td>\n",
       "      <td>0.271332</td>\n",
       "      <td>-0.009800</td>\n",
       "      <td>0.120629</td>\n",
       "      <td>0.025421</td>\n",
       "      <td>0.047853</td>\n",
       "      <td>-0.069633</td>\n",
       "      <td>0.132699</td>\n",
       "      <td>0.060065</td>\n",
       "    </tr>\n",
       "    <tr>\n",
       "      <th>IBU</th>\n",
       "      <td>-0.141124</td>\n",
       "      <td>-0.029917</td>\n",
       "      <td>-0.001655</td>\n",
       "      <td>-0.000719</td>\n",
       "      <td>0.290889</td>\n",
       "      <td>1.000000</td>\n",
       "      <td>0.060283</td>\n",
       "      <td>-0.028258</td>\n",
       "      <td>0.078694</td>\n",
       "      <td>-0.007498</td>\n",
       "      <td>-0.033172</td>\n",
       "      <td>-0.044381</td>\n",
       "      <td>0.006180</td>\n",
       "      <td>0.035510</td>\n",
       "    </tr>\n",
       "    <tr>\n",
       "      <th>Color</th>\n",
       "      <td>0.166669</td>\n",
       "      <td>-0.018068</td>\n",
       "      <td>0.013632</td>\n",
       "      <td>0.029848</td>\n",
       "      <td>0.271332</td>\n",
       "      <td>0.060283</td>\n",
       "      <td>1.000000</td>\n",
       "      <td>-0.016798</td>\n",
       "      <td>0.058089</td>\n",
       "      <td>0.013451</td>\n",
       "      <td>-0.017297</td>\n",
       "      <td>-0.038406</td>\n",
       "      <td>0.016061</td>\n",
       "      <td>0.025622</td>\n",
       "    </tr>\n",
       "    <tr>\n",
       "      <th>BoilSize</th>\n",
       "      <td>-0.006301</td>\n",
       "      <td>0.994143</td>\n",
       "      <td>0.165162</td>\n",
       "      <td>0.142974</td>\n",
       "      <td>-0.009800</td>\n",
       "      <td>-0.028258</td>\n",
       "      <td>-0.016798</td>\n",
       "      <td>1.000000</td>\n",
       "      <td>0.051219</td>\n",
       "      <td>0.175972</td>\n",
       "      <td>0.121971</td>\n",
       "      <td>0.017772</td>\n",
       "      <td>0.030936</td>\n",
       "      <td>0.003000</td>\n",
       "    </tr>\n",
       "    <tr>\n",
       "      <th>BoilTime</th>\n",
       "      <td>0.077969</td>\n",
       "      <td>0.044848</td>\n",
       "      <td>0.031825</td>\n",
       "      <td>0.028930</td>\n",
       "      <td>0.120629</td>\n",
       "      <td>0.078694</td>\n",
       "      <td>0.058089</td>\n",
       "      <td>0.051219</td>\n",
       "      <td>1.000000</td>\n",
       "      <td>0.026921</td>\n",
       "      <td>0.161295</td>\n",
       "      <td>0.006850</td>\n",
       "      <td>0.190922</td>\n",
       "      <td>-0.079809</td>\n",
       "    </tr>\n",
       "    <tr>\n",
       "      <th>BoilGravity</th>\n",
       "      <td>0.002326</td>\n",
       "      <td>0.176071</td>\n",
       "      <td>0.968138</td>\n",
       "      <td>0.908611</td>\n",
       "      <td>0.025421</td>\n",
       "      <td>-0.007498</td>\n",
       "      <td>0.013451</td>\n",
       "      <td>0.175972</td>\n",
       "      <td>0.026921</td>\n",
       "      <td>1.000000</td>\n",
       "      <td>0.059132</td>\n",
       "      <td>0.050944</td>\n",
       "      <td>0.016216</td>\n",
       "      <td>0.002268</td>\n",
       "    </tr>\n",
       "    <tr>\n",
       "      <th>Efficiency</th>\n",
       "      <td>0.021515</td>\n",
       "      <td>0.108826</td>\n",
       "      <td>0.067610</td>\n",
       "      <td>0.061173</td>\n",
       "      <td>0.047853</td>\n",
       "      <td>-0.033172</td>\n",
       "      <td>-0.017297</td>\n",
       "      <td>0.121971</td>\n",
       "      <td>0.161295</td>\n",
       "      <td>0.059132</td>\n",
       "      <td>1.000000</td>\n",
       "      <td>0.002939</td>\n",
       "      <td>0.146332</td>\n",
       "      <td>-0.071047</td>\n",
       "    </tr>\n",
       "    <tr>\n",
       "      <th>MashThickness</th>\n",
       "      <td>0.006167</td>\n",
       "      <td>0.019246</td>\n",
       "      <td>0.046841</td>\n",
       "      <td>0.040541</td>\n",
       "      <td>-0.069633</td>\n",
       "      <td>-0.044381</td>\n",
       "      <td>-0.038406</td>\n",
       "      <td>0.017772</td>\n",
       "      <td>0.006850</td>\n",
       "      <td>0.050944</td>\n",
       "      <td>0.002939</td>\n",
       "      <td>1.000000</td>\n",
       "      <td>-0.010170</td>\n",
       "      <td>0.007746</td>\n",
       "    </tr>\n",
       "    <tr>\n",
       "      <th>PitchRate</th>\n",
       "      <td>0.079123</td>\n",
       "      <td>0.026623</td>\n",
       "      <td>0.020556</td>\n",
       "      <td>0.013446</td>\n",
       "      <td>0.132699</td>\n",
       "      <td>0.006180</td>\n",
       "      <td>0.016061</td>\n",
       "      <td>0.030936</td>\n",
       "      <td>0.190922</td>\n",
       "      <td>0.016216</td>\n",
       "      <td>0.146332</td>\n",
       "      <td>-0.010170</td>\n",
       "      <td>1.000000</td>\n",
       "      <td>-0.295606</td>\n",
       "    </tr>\n",
       "    <tr>\n",
       "      <th>PrimaryTemp</th>\n",
       "      <td>-0.019661</td>\n",
       "      <td>0.004278</td>\n",
       "      <td>0.000518</td>\n",
       "      <td>0.004477</td>\n",
       "      <td>0.060065</td>\n",
       "      <td>0.035510</td>\n",
       "      <td>0.025622</td>\n",
       "      <td>0.003000</td>\n",
       "      <td>-0.079809</td>\n",
       "      <td>0.002268</td>\n",
       "      <td>-0.071047</td>\n",
       "      <td>0.007746</td>\n",
       "      <td>-0.295606</td>\n",
       "      <td>1.000000</td>\n",
       "    </tr>\n",
       "  </tbody>\n",
       "</table>\n",
       "</div>"
      ],
      "text/plain": [
       "                StyleID   Size(L)        OG        FG       ABV       IBU  \\\n",
       "StyleID        1.000000 -0.006522  0.002699  0.007336  0.006617 -0.141124   \n",
       "Size(L)       -0.006522  1.000000  0.162237  0.141614 -0.013527 -0.029917   \n",
       "OG             0.002699  0.162237  1.000000  0.936347  0.029432 -0.001655   \n",
       "FG             0.007336  0.141614  0.936347  1.000000  0.026851 -0.000719   \n",
       "ABV            0.006617 -0.013527  0.029432  0.026851  1.000000  0.290889   \n",
       "IBU           -0.141124 -0.029917 -0.001655 -0.000719  0.290889  1.000000   \n",
       "Color          0.166669 -0.018068  0.013632  0.029848  0.271332  0.060283   \n",
       "BoilSize      -0.006301  0.994143  0.165162  0.142974 -0.009800 -0.028258   \n",
       "BoilTime       0.077969  0.044848  0.031825  0.028930  0.120629  0.078694   \n",
       "BoilGravity    0.002326  0.176071  0.968138  0.908611  0.025421 -0.007498   \n",
       "Efficiency     0.021515  0.108826  0.067610  0.061173  0.047853 -0.033172   \n",
       "MashThickness  0.006167  0.019246  0.046841  0.040541 -0.069633 -0.044381   \n",
       "PitchRate      0.079123  0.026623  0.020556  0.013446  0.132699  0.006180   \n",
       "PrimaryTemp   -0.019661  0.004278  0.000518  0.004477  0.060065  0.035510   \n",
       "\n",
       "                  Color  BoilSize  BoilTime  BoilGravity  Efficiency  \\\n",
       "StyleID        0.166669 -0.006301  0.077969     0.002326    0.021515   \n",
       "Size(L)       -0.018068  0.994143  0.044848     0.176071    0.108826   \n",
       "OG             0.013632  0.165162  0.031825     0.968138    0.067610   \n",
       "FG             0.029848  0.142974  0.028930     0.908611    0.061173   \n",
       "ABV            0.271332 -0.009800  0.120629     0.025421    0.047853   \n",
       "IBU            0.060283 -0.028258  0.078694    -0.007498   -0.033172   \n",
       "Color          1.000000 -0.016798  0.058089     0.013451   -0.017297   \n",
       "BoilSize      -0.016798  1.000000  0.051219     0.175972    0.121971   \n",
       "BoilTime       0.058089  0.051219  1.000000     0.026921    0.161295   \n",
       "BoilGravity    0.013451  0.175972  0.026921     1.000000    0.059132   \n",
       "Efficiency    -0.017297  0.121971  0.161295     0.059132    1.000000   \n",
       "MashThickness -0.038406  0.017772  0.006850     0.050944    0.002939   \n",
       "PitchRate      0.016061  0.030936  0.190922     0.016216    0.146332   \n",
       "PrimaryTemp    0.025622  0.003000 -0.079809     0.002268   -0.071047   \n",
       "\n",
       "               MashThickness  PitchRate  PrimaryTemp  \n",
       "StyleID             0.006167   0.079123    -0.019661  \n",
       "Size(L)             0.019246   0.026623     0.004278  \n",
       "OG                  0.046841   0.020556     0.000518  \n",
       "FG                  0.040541   0.013446     0.004477  \n",
       "ABV                -0.069633   0.132699     0.060065  \n",
       "IBU                -0.044381   0.006180     0.035510  \n",
       "Color              -0.038406   0.016061     0.025622  \n",
       "BoilSize            0.017772   0.030936     0.003000  \n",
       "BoilTime            0.006850   0.190922    -0.079809  \n",
       "BoilGravity         0.050944   0.016216     0.002268  \n",
       "Efficiency          0.002939   0.146332    -0.071047  \n",
       "MashThickness       1.000000  -0.010170     0.007746  \n",
       "PitchRate          -0.010170   1.000000    -0.295606  \n",
       "PrimaryTemp         0.007746  -0.295606     1.000000  "
      ]
     },
     "execution_count": 45,
     "metadata": {},
     "output_type": "execute_result"
    }
   ],
   "source": [
    "beer.corr()"
   ]
  },
  {
   "cell_type": "markdown",
   "metadata": {},
   "source": [
    "These 3 columns don't seem to correlated strongly with anything else. I'll keep them."
   ]
  },
  {
   "cell_type": "code",
   "execution_count": 46,
   "metadata": {},
   "outputs": [
    {
     "data": {
      "text/plain": [
       "(0, 10)"
      ]
     },
     "execution_count": 46,
     "metadata": {},
     "output_type": "execute_result"
    },
    {
     "data": {
      "image/png": "[encoded data removed]",
      "text/plain": [
       "<matplotlib.figure.Figure at 0x11708fdd8>"
      ]
     },
     "metadata": {},
     "output_type": "display_data"
    }
   ],
   "source": [
    "plt.hist(beer2['MashThickness'].dropna(),bins = 100)\n",
    "plt.xlim(0,10)"
   ]
  },
  {
   "cell_type": "code",
   "execution_count": 47,
   "metadata": {},
   "outputs": [
    {
     "data": {
      "text/plain": [
       "{'boxes': [<matplotlib.lines.Line2D at 0x119345f60>],\n",
       " 'caps': [<matplotlib.lines.Line2D at 0x1193509b0>,\n",
       "  <matplotlib.lines.Line2D at 0x119350dd8>],\n",
       " 'fliers': [<matplotlib.lines.Line2D at 0x119357668>],\n",
       " 'means': [],\n",
       " 'medians': [<matplotlib.lines.Line2D at 0x119357240>],\n",
       " 'whiskers': [<matplotlib.lines.Line2D at 0x1193500f0>,\n",
       "  <matplotlib.lines.Line2D at 0x119350588>]}"
      ]
     },
     "execution_count": 47,
     "metadata": {},
     "output_type": "execute_result"
    },
    {
     "data": {
      "image/png": "[encoded data removed]",
      "text/plain": [
       "<matplotlib.figure.Figure at 0x11708fb00>"
      ]
     },
     "metadata": {},
     "output_type": "display_data"
    }
   ],
   "source": [
    "plt.boxplot(beer2['MashThickness'].dropna(), labels = ['Mash Thickness'])"
   ]
  },
  {
   "cell_type": "markdown",
   "metadata": {},
   "source": [
    "MashThickness has a lot of really high outliers and the distribution is not normal. It probably makes more sense to replace nan values with the median than the mean."
   ]
  },
  {
   "cell_type": "code",
   "execution_count": 48,
   "metadata": {},
   "outputs": [
    {
     "data": {
      "text/plain": [
       "1.5"
      ]
     },
     "execution_count": 48,
     "metadata": {},
     "output_type": "execute_result"
    }
   ],
   "source": [
    "np.median(beer2['MashThickness'].dropna())"
   ]
  },
  {
   "cell_type": "markdown",
   "metadata": {},
   "source": [
    "The median for MashThickness is 1.5."
   ]
  },
  {
   "cell_type": "code",
   "execution_count": 49,
   "metadata": {},
   "outputs": [
    {
     "data": {
      "text/plain": [
       "(array([4.4000e+01, 2.0000e+00, 3.0000e+00, 1.5000e+01, 3.5000e+01,\n",
       "        5.0000e+00, 2.3000e+01, 5.0000e+00, 2.1000e+01, 1.0300e+02,\n",
       "        2.0120e+03, 1.1590e+03, 2.2540e+03, 1.6954e+04, 2.2760e+04,\n",
       "        4.5200e+03, 8.6600e+02, 1.3300e+02, 1.0000e+02, 6.0000e+00,\n",
       "        1.6000e+01, 1.9000e+01, 1.0000e+00, 3.0000e+00, 2.0000e+00,\n",
       "        6.0000e+00, 1.0000e+00, 0.0000e+00, 0.0000e+00, 5.0000e+00,\n",
       "        3.0000e+00, 5.5000e+01, 3.3000e+01, 1.8000e+01, 4.0000e+00,\n",
       "        4.0000e+00, 0.0000e+00, 5.0000e+00, 1.0000e+00, 0.0000e+00,\n",
       "        0.0000e+00, 0.0000e+00, 1.0000e+00, 0.0000e+00, 0.0000e+00,\n",
       "        0.0000e+00, 0.0000e+00, 0.0000e+00, 0.0000e+00, 2.0000e+00]),\n",
       " array([-17.78  , -15.1444, -12.5088,  -9.8732,  -7.2376,  -4.602 ,\n",
       "         -1.9664,   0.6692,   3.3048,   5.9404,   8.576 ,  11.2116,\n",
       "         13.8472,  16.4828,  19.1184,  21.754 ,  24.3896,  27.0252,\n",
       "         29.6608,  32.2964,  34.932 ,  37.5676,  40.2032,  42.8388,\n",
       "         45.4744,  48.11  ,  50.7456,  53.3812,  56.0168,  58.6524,\n",
       "         61.288 ,  63.9236,  66.5592,  69.1948,  71.8304,  74.466 ,\n",
       "         77.1016,  79.7372,  82.3728,  85.0084,  87.644 ,  90.2796,\n",
       "         92.9152,  95.5508,  98.1864, 100.822 , 103.4576, 106.0932,\n",
       "        108.7288, 111.3644, 114.    ]),\n",
       " <a list of 50 Patch objects>)"
      ]
     },
     "execution_count": 49,
     "metadata": {},
     "output_type": "execute_result"
    },
    {
     "data": {
      "image/png": "[encoded data removed]",
      "text/plain": [
       "<matplotlib.figure.Figure at 0x119367f98>"
      ]
     },
     "metadata": {},
     "output_type": "display_data"
    }
   ],
   "source": [
    "plt.hist(beer2['PrimaryTemp'].dropna(),bins = 50)\n"
   ]
  },
  {
   "cell_type": "code",
   "execution_count": 50,
   "metadata": {
    "scrolled": true
   },
   "outputs": [
    {
     "data": {
      "text/plain": [
       "{'boxes': [<matplotlib.lines.Line2D at 0x119887e10>],\n",
       " 'caps': [<matplotlib.lines.Line2D at 0x119891860>,\n",
       "  <matplotlib.lines.Line2D at 0x119891c88>],\n",
       " 'fliers': [<matplotlib.lines.Line2D at 0x11989a518>],\n",
       " 'means': [],\n",
       " 'medians': [<matplotlib.lines.Line2D at 0x11989a0f0>],\n",
       " 'whiskers': [<matplotlib.lines.Line2D at 0x119887f60>,\n",
       "  <matplotlib.lines.Line2D at 0x119891438>]}"
      ]
     },
     "execution_count": 50,
     "metadata": {},
     "output_type": "execute_result"
    },
    {
     "data": {
      "image/png": "[encoded data removed]",
      "text/plain": [
       "<matplotlib.figure.Figure at 0x11983e438>"
      ]
     },
     "metadata": {},
     "output_type": "display_data"
    }
   ],
   "source": [
    "plt.boxplot(beer2['PrimaryTemp'].dropna(), labels = ['PrimaryTemp'])"
   ]
  },
  {
   "cell_type": "code",
   "execution_count": 51,
   "metadata": {
    "scrolled": true
   },
   "outputs": [
    {
     "data": {
      "text/plain": [
       "20.0"
      ]
     },
     "execution_count": 51,
     "metadata": {},
     "output_type": "execute_result"
    }
   ],
   "source": [
    "np.median(beer2['PrimaryTemp'].dropna())"
   ]
  },
  {
   "cell_type": "markdown",
   "metadata": {},
   "source": [
    "PrimaryTemp also has a lot of very high outliers. I'll replace nan values with the median."
   ]
  },
  {
   "cell_type": "code",
   "execution_count": 52,
   "metadata": {
    "scrolled": true
   },
   "outputs": [
    {
     "data": {
      "text/plain": [
       "(array([  51., 9477., 5469., 9002.,    0., 5194., 2405., 1838.,  533.,\n",
       "         640.]),\n",
       " array([0. , 0.2, 0.4, 0.6, 0.8, 1. , 1.2, 1.4, 1.6, 1.8, 2. ]),\n",
       " <a list of 10 Patch objects>)"
      ]
     },
     "execution_count": 52,
     "metadata": {},
     "output_type": "execute_result"
    },
    {
     "data": {
      "image/png": "[encoded data removed]",
      "text/plain": [
       "<matplotlib.figure.Figure at 0x1198aa1d0>"
      ]
     },
     "metadata": {},
     "output_type": "display_data"
    }
   ],
   "source": [
    "plt.hist(beer2['PitchRate'].dropna())"
   ]
  },
  {
   "cell_type": "code",
   "execution_count": 53,
   "metadata": {
    "scrolled": true
   },
   "outputs": [
    {
     "data": {
      "text/plain": [
       "{'boxes': [<matplotlib.lines.Line2D at 0x118618f98>],\n",
       " 'caps': [<matplotlib.lines.Line2D at 0x119528a20>,\n",
       "  <matplotlib.lines.Line2D at 0x119528d68>],\n",
       " 'fliers': [<matplotlib.lines.Line2D at 0x119532668>],\n",
       " 'means': [],\n",
       " 'medians': [<matplotlib.lines.Line2D at 0x119532cc0>],\n",
       " 'whiskers': [<matplotlib.lines.Line2D at 0x118618fd0>,\n",
       "  <matplotlib.lines.Line2D at 0x119528630>]}"
      ]
     },
     "execution_count": 53,
     "metadata": {},
     "output_type": "execute_result"
    },
    {
     "data": {
      "image/png": "[encoded data removed]",
      "text/plain": [
       "<matplotlib.figure.Figure at 0x119d0b320>"
      ]
     },
     "metadata": {},
     "output_type": "display_data"
    }
   ],
   "source": [
    "plt.boxplot(beer2['PitchRate'].dropna(), labels = ['PitchRate'])"
   ]
  },
  {
   "cell_type": "code",
   "execution_count": 54,
   "metadata": {},
   "outputs": [
    {
     "data": {
      "text/plain": [
       "0.75"
      ]
     },
     "execution_count": 54,
     "metadata": {},
     "output_type": "execute_result"
    }
   ],
   "source": [
    "np.median(beer2['PitchRate'].dropna())\n"
   ]
  },
  {
   "cell_type": "code",
   "execution_count": 55,
   "metadata": {},
   "outputs": [
    {
     "data": {
      "text/plain": [
       "0.7504680863359242"
      ]
     },
     "execution_count": 55,
     "metadata": {},
     "output_type": "execute_result"
    }
   ],
   "source": [
    "np.mean(beer2['PitchRate'].dropna())"
   ]
  },
  {
   "cell_type": "markdown",
   "metadata": {},
   "source": [
    "I could use median or mean for PitchRate to replace the nan values."
   ]
  },
  {
   "cell_type": "code",
   "execution_count": 56,
   "metadata": {},
   "outputs": [],
   "source": [
    "beer2['PrimaryTemp2'] = beer2['PrimaryTemp'].fillna(20)"
   ]
  },
  {
   "cell_type": "code",
   "execution_count": 57,
   "metadata": {},
   "outputs": [],
   "source": [
    "beer2['MashThickness2'] = beer2['MashThickness'].fillna(1.5)"
   ]
  },
  {
   "cell_type": "code",
   "execution_count": 58,
   "metadata": {},
   "outputs": [],
   "source": [
    "beer2['PitchRate2'] = beer2['PitchRate'].fillna(0.75)"
   ]
  },
  {
   "cell_type": "code",
   "execution_count": 59,
   "metadata": {},
   "outputs": [],
   "source": [
    "beer2 = beer2.drop(columns = ['MashThickness','PrimaryTemp','PitchRate'])"
   ]
  },
  {
   "cell_type": "markdown",
   "metadata": {},
   "source": [
    "Finally I can drop all the empty fields from the 'kind' column I created and see how many rows I have left."
   ]
  },
  {
   "cell_type": "code",
   "execution_count": 60,
   "metadata": {},
   "outputs": [
    {
     "data": {
      "text/plain": [
       "(73861, 17)"
      ]
     },
     "execution_count": 60,
     "metadata": {},
     "output_type": "execute_result"
    }
   ],
   "source": [
    "beer2.shape"
   ]
  },
  {
   "cell_type": "code",
   "execution_count": 61,
   "metadata": {},
   "outputs": [],
   "source": [
    "beer3 = pd.DataFrame(beer2.dropna(how = 'any',axis = 0))"
   ]
  },
  {
   "cell_type": "code",
   "execution_count": 62,
   "metadata": {},
   "outputs": [
    {
     "data": {
      "text/plain": [
       "(44574, 17)"
      ]
     },
     "execution_count": 62,
     "metadata": {},
     "output_type": "execute_result"
    }
   ],
   "source": [
    "beer3.shape"
   ]
  },
  {
   "cell_type": "code",
   "execution_count": 63,
   "metadata": {},
   "outputs": [
    {
     "data": {
      "text/html": [
       "<div>\n",
       "<style scoped>\n",
       "    .dataframe tbody tr th:only-of-type {\n",
       "        vertical-align: middle;\n",
       "    }\n",
       "\n",
       "    .dataframe tbody tr th {\n",
       "        vertical-align: top;\n",
       "    }\n",
       "\n",
       "    .dataframe thead th {\n",
       "        text-align: right;\n",
       "    }\n",
       "</style>\n",
       "<table border=\"1\" class=\"dataframe\">\n",
       "  <thead>\n",
       "    <tr style=\"text-align: right;\">\n",
       "      <th></th>\n",
       "      <th>StyleID</th>\n",
       "      <th>Size(L)</th>\n",
       "      <th>OG</th>\n",
       "      <th>FG</th>\n",
       "      <th>ABV</th>\n",
       "      <th>IBU</th>\n",
       "      <th>Color</th>\n",
       "      <th>BoilSize</th>\n",
       "      <th>BoilTime</th>\n",
       "      <th>BoilGravity</th>\n",
       "      <th>Efficiency</th>\n",
       "      <th>SugarScale</th>\n",
       "      <th>BrewMethod</th>\n",
       "      <th>kind</th>\n",
       "      <th>PrimaryTemp2</th>\n",
       "      <th>MashThickness2</th>\n",
       "      <th>PitchRate2</th>\n",
       "    </tr>\n",
       "    <tr>\n",
       "      <th>BeerID</th>\n",
       "      <th></th>\n",
       "      <th></th>\n",
       "      <th></th>\n",
       "      <th></th>\n",
       "      <th></th>\n",
       "      <th></th>\n",
       "      <th></th>\n",
       "      <th></th>\n",
       "      <th></th>\n",
       "      <th></th>\n",
       "      <th></th>\n",
       "      <th></th>\n",
       "      <th></th>\n",
       "      <th></th>\n",
       "      <th></th>\n",
       "      <th></th>\n",
       "      <th></th>\n",
       "    </tr>\n",
       "  </thead>\n",
       "  <tbody>\n",
       "    <tr>\n",
       "      <th>73854</th>\n",
       "      <td>7</td>\n",
       "      <td>18.93</td>\n",
       "      <td>1.073</td>\n",
       "      <td>1.018</td>\n",
       "      <td>7.15</td>\n",
       "      <td>0.00</td>\n",
       "      <td>6.01</td>\n",
       "      <td>22.71</td>\n",
       "      <td>60</td>\n",
       "      <td>1.060</td>\n",
       "      <td>70.0</td>\n",
       "      <td>Specific Gravity</td>\n",
       "      <td>BIAB</td>\n",
       "      <td>IPA</td>\n",
       "      <td>20.0</td>\n",
       "      <td>1.5</td>\n",
       "      <td>0.75</td>\n",
       "    </tr>\n",
       "    <tr>\n",
       "      <th>73855</th>\n",
       "      <td>10</td>\n",
       "      <td>18.93</td>\n",
       "      <td>1.064</td>\n",
       "      <td>1.016</td>\n",
       "      <td>6.26</td>\n",
       "      <td>0.00</td>\n",
       "      <td>9.60</td>\n",
       "      <td>28.39</td>\n",
       "      <td>60</td>\n",
       "      <td>1.042</td>\n",
       "      <td>75.0</td>\n",
       "      <td>Specific Gravity</td>\n",
       "      <td>BIAB</td>\n",
       "      <td>Pale Ales</td>\n",
       "      <td>20.0</td>\n",
       "      <td>1.5</td>\n",
       "      <td>0.75</td>\n",
       "    </tr>\n",
       "    <tr>\n",
       "      <th>73856</th>\n",
       "      <td>7</td>\n",
       "      <td>22.71</td>\n",
       "      <td>1.065</td>\n",
       "      <td>1.014</td>\n",
       "      <td>6.71</td>\n",
       "      <td>49.35</td>\n",
       "      <td>4.73</td>\n",
       "      <td>15.14</td>\n",
       "      <td>30</td>\n",
       "      <td>1.098</td>\n",
       "      <td>55.0</td>\n",
       "      <td>Specific Gravity</td>\n",
       "      <td>Partial Mash</td>\n",
       "      <td>IPA</td>\n",
       "      <td>20.0</td>\n",
       "      <td>1.5</td>\n",
       "      <td>0.50</td>\n",
       "    </tr>\n",
       "    <tr>\n",
       "      <th>73858</th>\n",
       "      <td>151</td>\n",
       "      <td>10.00</td>\n",
       "      <td>1.059</td>\n",
       "      <td>1.010</td>\n",
       "      <td>6.37</td>\n",
       "      <td>59.21</td>\n",
       "      <td>7.90</td>\n",
       "      <td>17.00</td>\n",
       "      <td>60</td>\n",
       "      <td>1.034</td>\n",
       "      <td>60.0</td>\n",
       "      <td>Specific Gravity</td>\n",
       "      <td>BIAB</td>\n",
       "      <td>IPA</td>\n",
       "      <td>22.0</td>\n",
       "      <td>1.5</td>\n",
       "      <td>0.50</td>\n",
       "    </tr>\n",
       "    <tr>\n",
       "      <th>73861</th>\n",
       "      <td>7</td>\n",
       "      <td>20.00</td>\n",
       "      <td>1.060</td>\n",
       "      <td>1.010</td>\n",
       "      <td>6.55</td>\n",
       "      <td>57.09</td>\n",
       "      <td>8.65</td>\n",
       "      <td>12.00</td>\n",
       "      <td>60</td>\n",
       "      <td>1.056</td>\n",
       "      <td>70.0</td>\n",
       "      <td>Specific Gravity</td>\n",
       "      <td>Partial Mash</td>\n",
       "      <td>IPA</td>\n",
       "      <td>18.0</td>\n",
       "      <td>1.5</td>\n",
       "      <td>0.75</td>\n",
       "    </tr>\n",
       "  </tbody>\n",
       "</table>\n",
       "</div>"
      ],
      "text/plain": [
       "        StyleID  Size(L)     OG     FG   ABV    IBU  Color  BoilSize  \\\n",
       "BeerID                                                                 \n",
       "73854         7    18.93  1.073  1.018  7.15   0.00   6.01     22.71   \n",
       "73855        10    18.93  1.064  1.016  6.26   0.00   9.60     28.39   \n",
       "73856         7    22.71  1.065  1.014  6.71  49.35   4.73     15.14   \n",
       "73858       151    10.00  1.059  1.010  6.37  59.21   7.90     17.00   \n",
       "73861         7    20.00  1.060  1.010  6.55  57.09   8.65     12.00   \n",
       "\n",
       "        BoilTime  BoilGravity  Efficiency        SugarScale    BrewMethod  \\\n",
       "BeerID                                                                      \n",
       "73854         60        1.060        70.0  Specific Gravity          BIAB   \n",
       "73855         60        1.042        75.0  Specific Gravity          BIAB   \n",
       "73856         30        1.098        55.0  Specific Gravity  Partial Mash   \n",
       "73858         60        1.034        60.0  Specific Gravity          BIAB   \n",
       "73861         60        1.056        70.0  Specific Gravity  Partial Mash   \n",
       "\n",
       "             kind  PrimaryTemp2  MashThickness2  PitchRate2  \n",
       "BeerID                                                       \n",
       "73854         IPA          20.0             1.5        0.75  \n",
       "73855   Pale Ales          20.0             1.5        0.75  \n",
       "73856         IPA          20.0             1.5        0.50  \n",
       "73858         IPA          22.0             1.5        0.50  \n",
       "73861         IPA          18.0             1.5        0.75  "
      ]
     },
     "execution_count": 63,
     "metadata": {},
     "output_type": "execute_result"
    }
   ],
   "source": [
    "beer3.tail()"
   ]
  },
  {
   "cell_type": "code",
   "execution_count": 64,
   "metadata": {},
   "outputs": [
    {
     "data": {
      "text/html": [
       "<div>\n",
       "<style scoped>\n",
       "    .dataframe tbody tr th:only-of-type {\n",
       "        vertical-align: middle;\n",
       "    }\n",
       "\n",
       "    .dataframe tbody tr th {\n",
       "        vertical-align: top;\n",
       "    }\n",
       "\n",
       "    .dataframe thead th {\n",
       "        text-align: right;\n",
       "    }\n",
       "</style>\n",
       "<table border=\"1\" class=\"dataframe\">\n",
       "  <thead>\n",
       "    <tr style=\"text-align: right;\">\n",
       "      <th></th>\n",
       "      <th>StyleID</th>\n",
       "      <th>Size(L)</th>\n",
       "      <th>OG</th>\n",
       "      <th>FG</th>\n",
       "      <th>ABV</th>\n",
       "      <th>IBU</th>\n",
       "      <th>Color</th>\n",
       "      <th>BoilSize</th>\n",
       "      <th>BoilTime</th>\n",
       "      <th>BoilGravity</th>\n",
       "      <th>Efficiency</th>\n",
       "      <th>PrimaryTemp2</th>\n",
       "      <th>MashThickness2</th>\n",
       "      <th>PitchRate2</th>\n",
       "    </tr>\n",
       "  </thead>\n",
       "  <tbody>\n",
       "    <tr>\n",
       "      <th>StyleID</th>\n",
       "      <td>1.000000</td>\n",
       "      <td>-0.004571</td>\n",
       "      <td>0.007070</td>\n",
       "      <td>0.012178</td>\n",
       "      <td>0.029073</td>\n",
       "      <td>-0.150490</td>\n",
       "      <td>0.202524</td>\n",
       "      <td>-0.003820</td>\n",
       "      <td>0.111609</td>\n",
       "      <td>0.006855</td>\n",
       "      <td>0.020540</td>\n",
       "      <td>0.029302</td>\n",
       "      <td>0.013358</td>\n",
       "      <td>0.037369</td>\n",
       "    </tr>\n",
       "    <tr>\n",
       "      <th>Size(L)</th>\n",
       "      <td>-0.004571</td>\n",
       "      <td>1.000000</td>\n",
       "      <td>0.166321</td>\n",
       "      <td>0.146309</td>\n",
       "      <td>-0.011699</td>\n",
       "      <td>-0.039129</td>\n",
       "      <td>-0.015441</td>\n",
       "      <td>0.996071</td>\n",
       "      <td>0.048228</td>\n",
       "      <td>0.180824</td>\n",
       "      <td>0.114315</td>\n",
       "      <td>0.004438</td>\n",
       "      <td>0.042141</td>\n",
       "      <td>0.020152</td>\n",
       "    </tr>\n",
       "    <tr>\n",
       "      <th>OG</th>\n",
       "      <td>0.007070</td>\n",
       "      <td>0.166321</td>\n",
       "      <td>1.000000</td>\n",
       "      <td>0.946337</td>\n",
       "      <td>0.029093</td>\n",
       "      <td>-0.005517</td>\n",
       "      <td>0.021323</td>\n",
       "      <td>0.167403</td>\n",
       "      <td>0.033200</td>\n",
       "      <td>0.968738</td>\n",
       "      <td>0.072782</td>\n",
       "      <td>-0.001953</td>\n",
       "      <td>0.064330</td>\n",
       "      <td>0.014464</td>\n",
       "    </tr>\n",
       "    <tr>\n",
       "      <th>FG</th>\n",
       "      <td>0.012178</td>\n",
       "      <td>0.146309</td>\n",
       "      <td>0.946337</td>\n",
       "      <td>1.000000</td>\n",
       "      <td>0.030904</td>\n",
       "      <td>-0.004536</td>\n",
       "      <td>0.040777</td>\n",
       "      <td>0.147051</td>\n",
       "      <td>0.031400</td>\n",
       "      <td>0.917599</td>\n",
       "      <td>0.066330</td>\n",
       "      <td>0.001214</td>\n",
       "      <td>0.054657</td>\n",
       "      <td>0.009567</td>\n",
       "    </tr>\n",
       "    <tr>\n",
       "      <th>ABV</th>\n",
       "      <td>0.029073</td>\n",
       "      <td>-0.011699</td>\n",
       "      <td>0.029093</td>\n",
       "      <td>0.030904</td>\n",
       "      <td>1.000000</td>\n",
       "      <td>0.356536</td>\n",
       "      <td>0.279992</td>\n",
       "      <td>-0.007366</td>\n",
       "      <td>0.131360</td>\n",
       "      <td>0.024019</td>\n",
       "      <td>0.070063</td>\n",
       "      <td>0.028097</td>\n",
       "      <td>-0.051093</td>\n",
       "      <td>0.093388</td>\n",
       "    </tr>\n",
       "    <tr>\n",
       "      <th>IBU</th>\n",
       "      <td>-0.150490</td>\n",
       "      <td>-0.039129</td>\n",
       "      <td>-0.005517</td>\n",
       "      <td>-0.004536</td>\n",
       "      <td>0.356536</td>\n",
       "      <td>1.000000</td>\n",
       "      <td>0.026163</td>\n",
       "      <td>-0.037487</td>\n",
       "      <td>0.082257</td>\n",
       "      <td>-0.010083</td>\n",
       "      <td>-0.027372</td>\n",
       "      <td>0.013191</td>\n",
       "      <td>-0.050788</td>\n",
       "      <td>0.019402</td>\n",
       "    </tr>\n",
       "    <tr>\n",
       "      <th>Color</th>\n",
       "      <td>0.202524</td>\n",
       "      <td>-0.015441</td>\n",
       "      <td>0.021323</td>\n",
       "      <td>0.040777</td>\n",
       "      <td>0.279992</td>\n",
       "      <td>0.026163</td>\n",
       "      <td>1.000000</td>\n",
       "      <td>-0.014464</td>\n",
       "      <td>0.065437</td>\n",
       "      <td>0.018800</td>\n",
       "      <td>-0.013789</td>\n",
       "      <td>0.002208</td>\n",
       "      <td>-0.028759</td>\n",
       "      <td>0.025152</td>\n",
       "    </tr>\n",
       "    <tr>\n",
       "      <th>BoilSize</th>\n",
       "      <td>-0.003820</td>\n",
       "      <td>0.996071</td>\n",
       "      <td>0.167403</td>\n",
       "      <td>0.147051</td>\n",
       "      <td>-0.007366</td>\n",
       "      <td>-0.037487</td>\n",
       "      <td>-0.014464</td>\n",
       "      <td>1.000000</td>\n",
       "      <td>0.054212</td>\n",
       "      <td>0.179733</td>\n",
       "      <td>0.127678</td>\n",
       "      <td>0.003675</td>\n",
       "      <td>0.043336</td>\n",
       "      <td>0.022598</td>\n",
       "    </tr>\n",
       "    <tr>\n",
       "      <th>BoilTime</th>\n",
       "      <td>0.111609</td>\n",
       "      <td>0.048228</td>\n",
       "      <td>0.033200</td>\n",
       "      <td>0.031400</td>\n",
       "      <td>0.131360</td>\n",
       "      <td>0.082257</td>\n",
       "      <td>0.065437</td>\n",
       "      <td>0.054212</td>\n",
       "      <td>1.000000</td>\n",
       "      <td>0.029826</td>\n",
       "      <td>0.162957</td>\n",
       "      <td>-0.033404</td>\n",
       "      <td>0.042104</td>\n",
       "      <td>0.104345</td>\n",
       "    </tr>\n",
       "    <tr>\n",
       "      <th>BoilGravity</th>\n",
       "      <td>0.006855</td>\n",
       "      <td>0.180824</td>\n",
       "      <td>0.968738</td>\n",
       "      <td>0.917599</td>\n",
       "      <td>0.024019</td>\n",
       "      <td>-0.010083</td>\n",
       "      <td>0.018800</td>\n",
       "      <td>0.179733</td>\n",
       "      <td>0.029826</td>\n",
       "      <td>1.000000</td>\n",
       "      <td>0.062639</td>\n",
       "      <td>-0.000395</td>\n",
       "      <td>0.065424</td>\n",
       "      <td>0.013914</td>\n",
       "    </tr>\n",
       "    <tr>\n",
       "      <th>Efficiency</th>\n",
       "      <td>0.020540</td>\n",
       "      <td>0.114315</td>\n",
       "      <td>0.072782</td>\n",
       "      <td>0.066330</td>\n",
       "      <td>0.070063</td>\n",
       "      <td>-0.027372</td>\n",
       "      <td>-0.013789</td>\n",
       "      <td>0.127678</td>\n",
       "      <td>0.162957</td>\n",
       "      <td>0.062639</td>\n",
       "      <td>1.000000</td>\n",
       "      <td>-0.047256</td>\n",
       "      <td>0.097538</td>\n",
       "      <td>0.087321</td>\n",
       "    </tr>\n",
       "    <tr>\n",
       "      <th>PrimaryTemp2</th>\n",
       "      <td>0.029302</td>\n",
       "      <td>0.004438</td>\n",
       "      <td>-0.001953</td>\n",
       "      <td>0.001214</td>\n",
       "      <td>0.028097</td>\n",
       "      <td>0.013191</td>\n",
       "      <td>0.002208</td>\n",
       "      <td>0.003675</td>\n",
       "      <td>-0.033404</td>\n",
       "      <td>-0.000395</td>\n",
       "      <td>-0.047256</td>\n",
       "      <td>1.000000</td>\n",
       "      <td>-0.001699</td>\n",
       "      <td>-0.160131</td>\n",
       "    </tr>\n",
       "    <tr>\n",
       "      <th>MashThickness2</th>\n",
       "      <td>0.013358</td>\n",
       "      <td>0.042141</td>\n",
       "      <td>0.064330</td>\n",
       "      <td>0.054657</td>\n",
       "      <td>-0.051093</td>\n",
       "      <td>-0.050788</td>\n",
       "      <td>-0.028759</td>\n",
       "      <td>0.043336</td>\n",
       "      <td>0.042104</td>\n",
       "      <td>0.065424</td>\n",
       "      <td>0.097538</td>\n",
       "      <td>-0.001699</td>\n",
       "      <td>1.000000</td>\n",
       "      <td>0.012880</td>\n",
       "    </tr>\n",
       "    <tr>\n",
       "      <th>PitchRate2</th>\n",
       "      <td>0.037369</td>\n",
       "      <td>0.020152</td>\n",
       "      <td>0.014464</td>\n",
       "      <td>0.009567</td>\n",
       "      <td>0.093388</td>\n",
       "      <td>0.019402</td>\n",
       "      <td>0.025152</td>\n",
       "      <td>0.022598</td>\n",
       "      <td>0.104345</td>\n",
       "      <td>0.013914</td>\n",
       "      <td>0.087321</td>\n",
       "      <td>-0.160131</td>\n",
       "      <td>0.012880</td>\n",
       "      <td>1.000000</td>\n",
       "    </tr>\n",
       "  </tbody>\n",
       "</table>\n",
       "</div>"
      ],
      "text/plain": [
       "                 StyleID   Size(L)        OG        FG       ABV       IBU  \\\n",
       "StyleID         1.000000 -0.004571  0.007070  0.012178  0.029073 -0.150490   \n",
       "Size(L)        -0.004571  1.000000  0.166321  0.146309 -0.011699 -0.039129   \n",
       "OG              0.007070  0.166321  1.000000  0.946337  0.029093 -0.005517   \n",
       "FG              0.012178  0.146309  0.946337  1.000000  0.030904 -0.004536   \n",
       "ABV             0.029073 -0.011699  0.029093  0.030904  1.000000  0.356536   \n",
       "IBU            -0.150490 -0.039129 -0.005517 -0.004536  0.356536  1.000000   \n",
       "Color           0.202524 -0.015441  0.021323  0.040777  0.279992  0.026163   \n",
       "BoilSize       -0.003820  0.996071  0.167403  0.147051 -0.007366 -0.037487   \n",
       "BoilTime        0.111609  0.048228  0.033200  0.031400  0.131360  0.082257   \n",
       "BoilGravity     0.006855  0.180824  0.968738  0.917599  0.024019 -0.010083   \n",
       "Efficiency      0.020540  0.114315  0.072782  0.066330  0.070063 -0.027372   \n",
       "PrimaryTemp2    0.029302  0.004438 -0.001953  0.001214  0.028097  0.013191   \n",
       "MashThickness2  0.013358  0.042141  0.064330  0.054657 -0.051093 -0.050788   \n",
       "PitchRate2      0.037369  0.020152  0.014464  0.009567  0.093388  0.019402   \n",
       "\n",
       "                   Color  BoilSize  BoilTime  BoilGravity  Efficiency  \\\n",
       "StyleID         0.202524 -0.003820  0.111609     0.006855    0.020540   \n",
       "Size(L)        -0.015441  0.996071  0.048228     0.180824    0.114315   \n",
       "OG              0.021323  0.167403  0.033200     0.968738    0.072782   \n",
       "FG              0.040777  0.147051  0.031400     0.917599    0.066330   \n",
       "ABV             0.279992 -0.007366  0.131360     0.024019    0.070063   \n",
       "IBU             0.026163 -0.037487  0.082257    -0.010083   -0.027372   \n",
       "Color           1.000000 -0.014464  0.065437     0.018800   -0.013789   \n",
       "BoilSize       -0.014464  1.000000  0.054212     0.179733    0.127678   \n",
       "BoilTime        0.065437  0.054212  1.000000     0.029826    0.162957   \n",
       "BoilGravity     0.018800  0.179733  0.029826     1.000000    0.062639   \n",
       "Efficiency     -0.013789  0.127678  0.162957     0.062639    1.000000   \n",
       "PrimaryTemp2    0.002208  0.003675 -0.033404    -0.000395   -0.047256   \n",
       "MashThickness2 -0.028759  0.043336  0.042104     0.065424    0.097538   \n",
       "PitchRate2      0.025152  0.022598  0.104345     0.013914    0.087321   \n",
       "\n",
       "                PrimaryTemp2  MashThickness2  PitchRate2  \n",
       "StyleID             0.029302        0.013358    0.037369  \n",
       "Size(L)             0.004438        0.042141    0.020152  \n",
       "OG                 -0.001953        0.064330    0.014464  \n",
       "FG                  0.001214        0.054657    0.009567  \n",
       "ABV                 0.028097       -0.051093    0.093388  \n",
       "IBU                 0.013191       -0.050788    0.019402  \n",
       "Color               0.002208       -0.028759    0.025152  \n",
       "BoilSize            0.003675        0.043336    0.022598  \n",
       "BoilTime           -0.033404        0.042104    0.104345  \n",
       "BoilGravity        -0.000395        0.065424    0.013914  \n",
       "Efficiency         -0.047256        0.097538    0.087321  \n",
       "PrimaryTemp2        1.000000       -0.001699   -0.160131  \n",
       "MashThickness2     -0.001699        1.000000    0.012880  \n",
       "PitchRate2         -0.160131        0.012880    1.000000  "
      ]
     },
     "execution_count": 64,
     "metadata": {},
     "output_type": "execute_result"
    }
   ],
   "source": [
    "beer3.corr()"
   ]
  },
  {
   "cell_type": "code",
   "execution_count": 65,
   "metadata": {},
   "outputs": [],
   "source": [
    "# BoilGravity , OG are very highly correlated with FG.\n",
    "# BoilSize is too highly correlated with Size(L)\n",
    "beer3 = pd.DataFrame(beer3.drop(columns = ['OG','BoilGravity','BoilSize']))"
   ]
  },
  {
   "cell_type": "code",
   "execution_count": 66,
   "metadata": {},
   "outputs": [
    {
     "data": {
      "text/plain": [
       "(44574, 14)"
      ]
     },
     "execution_count": 66,
     "metadata": {},
     "output_type": "execute_result"
    }
   ],
   "source": [
    "beer3.shape"
   ]
  },
  {
   "cell_type": "code",
   "execution_count": 67,
   "metadata": {},
   "outputs": [],
   "source": [
    "beer3dum = pd.get_dummies(beer3.drop(columns = ['kind','StyleID']))"
   ]
  },
  {
   "cell_type": "code",
   "execution_count": 68,
   "metadata": {},
   "outputs": [
    {
     "data": {
      "text/html": [
       "<div>\n",
       "<style scoped>\n",
       "    .dataframe tbody tr th:only-of-type {\n",
       "        vertical-align: middle;\n",
       "    }\n",
       "\n",
       "    .dataframe tbody tr th {\n",
       "        vertical-align: top;\n",
       "    }\n",
       "\n",
       "    .dataframe thead th {\n",
       "        text-align: right;\n",
       "    }\n",
       "</style>\n",
       "<table border=\"1\" class=\"dataframe\">\n",
       "  <thead>\n",
       "    <tr style=\"text-align: right;\">\n",
       "      <th></th>\n",
       "      <th>Size(L)</th>\n",
       "      <th>FG</th>\n",
       "      <th>ABV</th>\n",
       "      <th>IBU</th>\n",
       "      <th>Color</th>\n",
       "      <th>BoilTime</th>\n",
       "      <th>Efficiency</th>\n",
       "      <th>PrimaryTemp2</th>\n",
       "      <th>MashThickness2</th>\n",
       "      <th>PitchRate2</th>\n",
       "      <th>SugarScale_Plato</th>\n",
       "      <th>SugarScale_Specific Gravity</th>\n",
       "      <th>BrewMethod_All Grain</th>\n",
       "      <th>BrewMethod_BIAB</th>\n",
       "      <th>BrewMethod_Partial Mash</th>\n",
       "      <th>BrewMethod_extract</th>\n",
       "    </tr>\n",
       "    <tr>\n",
       "      <th>BeerID</th>\n",
       "      <th></th>\n",
       "      <th></th>\n",
       "      <th></th>\n",
       "      <th></th>\n",
       "      <th></th>\n",
       "      <th></th>\n",
       "      <th></th>\n",
       "      <th></th>\n",
       "      <th></th>\n",
       "      <th></th>\n",
       "      <th></th>\n",
       "      <th></th>\n",
       "      <th></th>\n",
       "      <th></th>\n",
       "      <th></th>\n",
       "      <th></th>\n",
       "    </tr>\n",
       "  </thead>\n",
       "  <tbody>\n",
       "    <tr>\n",
       "      <th>6</th>\n",
       "      <td>24.61</td>\n",
       "      <td>1.013</td>\n",
       "      <td>5.58</td>\n",
       "      <td>40.12</td>\n",
       "      <td>8.00</td>\n",
       "      <td>70</td>\n",
       "      <td>79.0</td>\n",
       "      <td>20.00</td>\n",
       "      <td>1.5</td>\n",
       "      <td>1.00</td>\n",
       "      <td>0</td>\n",
       "      <td>1</td>\n",
       "      <td>1</td>\n",
       "      <td>0</td>\n",
       "      <td>0</td>\n",
       "      <td>0</td>\n",
       "    </tr>\n",
       "    <tr>\n",
       "      <th>9</th>\n",
       "      <td>22.71</td>\n",
       "      <td>1.016</td>\n",
       "      <td>5.77</td>\n",
       "      <td>31.63</td>\n",
       "      <td>34.76</td>\n",
       "      <td>75</td>\n",
       "      <td>73.0</td>\n",
       "      <td>20.00</td>\n",
       "      <td>1.5</td>\n",
       "      <td>0.75</td>\n",
       "      <td>0</td>\n",
       "      <td>1</td>\n",
       "      <td>1</td>\n",
       "      <td>0</td>\n",
       "      <td>0</td>\n",
       "      <td>0</td>\n",
       "    </tr>\n",
       "    <tr>\n",
       "      <th>10</th>\n",
       "      <td>20.82</td>\n",
       "      <td>1.017</td>\n",
       "      <td>8.22</td>\n",
       "      <td>93.02</td>\n",
       "      <td>8.29</td>\n",
       "      <td>60</td>\n",
       "      <td>70.0</td>\n",
       "      <td>21.11</td>\n",
       "      <td>1.5</td>\n",
       "      <td>0.75</td>\n",
       "      <td>0</td>\n",
       "      <td>1</td>\n",
       "      <td>1</td>\n",
       "      <td>0</td>\n",
       "      <td>0</td>\n",
       "      <td>0</td>\n",
       "    </tr>\n",
       "    <tr>\n",
       "      <th>11</th>\n",
       "      <td>25.00</td>\n",
       "      <td>1.014</td>\n",
       "      <td>6.63</td>\n",
       "      <td>64.26</td>\n",
       "      <td>7.78</td>\n",
       "      <td>90</td>\n",
       "      <td>74.0</td>\n",
       "      <td>18.00</td>\n",
       "      <td>1.5</td>\n",
       "      <td>1.00</td>\n",
       "      <td>0</td>\n",
       "      <td>1</td>\n",
       "      <td>1</td>\n",
       "      <td>0</td>\n",
       "      <td>0</td>\n",
       "      <td>0</td>\n",
       "    </tr>\n",
       "    <tr>\n",
       "      <th>14</th>\n",
       "      <td>18.93</td>\n",
       "      <td>1.017</td>\n",
       "      <td>6.51</td>\n",
       "      <td>60.96</td>\n",
       "      <td>10.54</td>\n",
       "      <td>60</td>\n",
       "      <td>30.0</td>\n",
       "      <td>18.33</td>\n",
       "      <td>1.5</td>\n",
       "      <td>0.35</td>\n",
       "      <td>0</td>\n",
       "      <td>1</td>\n",
       "      <td>0</td>\n",
       "      <td>0</td>\n",
       "      <td>0</td>\n",
       "      <td>1</td>\n",
       "    </tr>\n",
       "  </tbody>\n",
       "</table>\n",
       "</div>"
      ],
      "text/plain": [
       "        Size(L)     FG   ABV    IBU  Color  BoilTime  Efficiency  \\\n",
       "BeerID                                                             \n",
       "6         24.61  1.013  5.58  40.12   8.00        70        79.0   \n",
       "9         22.71  1.016  5.77  31.63  34.76        75        73.0   \n",
       "10        20.82  1.017  8.22  93.02   8.29        60        70.0   \n",
       "11        25.00  1.014  6.63  64.26   7.78        90        74.0   \n",
       "14        18.93  1.017  6.51  60.96  10.54        60        30.0   \n",
       "\n",
       "        PrimaryTemp2  MashThickness2  PitchRate2  SugarScale_Plato  \\\n",
       "BeerID                                                               \n",
       "6              20.00             1.5        1.00                 0   \n",
       "9              20.00             1.5        0.75                 0   \n",
       "10             21.11             1.5        0.75                 0   \n",
       "11             18.00             1.5        1.00                 0   \n",
       "14             18.33             1.5        0.35                 0   \n",
       "\n",
       "        SugarScale_Specific Gravity  BrewMethod_All Grain  BrewMethod_BIAB  \\\n",
       "BeerID                                                                       \n",
       "6                                 1                     1                0   \n",
       "9                                 1                     1                0   \n",
       "10                                1                     1                0   \n",
       "11                                1                     1                0   \n",
       "14                                1                     0                0   \n",
       "\n",
       "        BrewMethod_Partial Mash  BrewMethod_extract  \n",
       "BeerID                                               \n",
       "6                             0                   0  \n",
       "9                             0                   0  \n",
       "10                            0                   0  \n",
       "11                            0                   0  \n",
       "14                            0                   1  "
      ]
     },
     "execution_count": 68,
     "metadata": {},
     "output_type": "execute_result"
    }
   ],
   "source": [
    "beer3dum.head()"
   ]
  },
  {
   "cell_type": "code",
   "execution_count": 69,
   "metadata": {},
   "outputs": [
    {
     "data": {
      "text/html": [
       "<div>\n",
       "<style scoped>\n",
       "    .dataframe tbody tr th:only-of-type {\n",
       "        vertical-align: middle;\n",
       "    }\n",
       "\n",
       "    .dataframe tbody tr th {\n",
       "        vertical-align: top;\n",
       "    }\n",
       "\n",
       "    .dataframe thead th {\n",
       "        text-align: right;\n",
       "    }\n",
       "</style>\n",
       "<table border=\"1\" class=\"dataframe\">\n",
       "  <thead>\n",
       "    <tr style=\"text-align: right;\">\n",
       "      <th></th>\n",
       "      <th>Size(L)</th>\n",
       "      <th>FG</th>\n",
       "      <th>ABV</th>\n",
       "      <th>IBU</th>\n",
       "      <th>Color</th>\n",
       "      <th>BoilTime</th>\n",
       "      <th>Efficiency</th>\n",
       "      <th>PrimaryTemp2</th>\n",
       "      <th>MashThickness2</th>\n",
       "      <th>PitchRate2</th>\n",
       "      <th>SugarScale_Plato</th>\n",
       "      <th>SugarScale_Specific Gravity</th>\n",
       "      <th>BrewMethod_All Grain</th>\n",
       "      <th>BrewMethod_BIAB</th>\n",
       "      <th>BrewMethod_Partial Mash</th>\n",
       "      <th>BrewMethod_extract</th>\n",
       "    </tr>\n",
       "  </thead>\n",
       "  <tbody>\n",
       "    <tr>\n",
       "      <th>Size(L)</th>\n",
       "      <td>1.000000</td>\n",
       "      <td>0.146309</td>\n",
       "      <td>-0.011699</td>\n",
       "      <td>-0.039129</td>\n",
       "      <td>-0.015441</td>\n",
       "      <td>0.048228</td>\n",
       "      <td>0.114315</td>\n",
       "      <td>0.004438</td>\n",
       "      <td>0.042141</td>\n",
       "      <td>0.020152</td>\n",
       "      <td>0.171074</td>\n",
       "      <td>-0.171074</td>\n",
       "      <td>0.092327</td>\n",
       "      <td>-0.060271</td>\n",
       "      <td>-0.025537</td>\n",
       "      <td>-0.048726</td>\n",
       "    </tr>\n",
       "    <tr>\n",
       "      <th>FG</th>\n",
       "      <td>0.146309</td>\n",
       "      <td>1.000000</td>\n",
       "      <td>0.030904</td>\n",
       "      <td>-0.004536</td>\n",
       "      <td>0.040777</td>\n",
       "      <td>0.031400</td>\n",
       "      <td>0.066330</td>\n",
       "      <td>0.001214</td>\n",
       "      <td>0.054657</td>\n",
       "      <td>0.009567</td>\n",
       "      <td>0.892947</td>\n",
       "      <td>-0.892947</td>\n",
       "      <td>0.071164</td>\n",
       "      <td>-0.042097</td>\n",
       "      <td>-0.020774</td>\n",
       "      <td>-0.042005</td>\n",
       "    </tr>\n",
       "    <tr>\n",
       "      <th>ABV</th>\n",
       "      <td>-0.011699</td>\n",
       "      <td>0.030904</td>\n",
       "      <td>1.000000</td>\n",
       "      <td>0.356536</td>\n",
       "      <td>0.279992</td>\n",
       "      <td>0.131360</td>\n",
       "      <td>0.070063</td>\n",
       "      <td>0.028097</td>\n",
       "      <td>-0.051093</td>\n",
       "      <td>0.093388</td>\n",
       "      <td>-0.009359</td>\n",
       "      <td>0.009359</td>\n",
       "      <td>0.031371</td>\n",
       "      <td>-0.021223</td>\n",
       "      <td>0.003524</td>\n",
       "      <td>-0.023512</td>\n",
       "    </tr>\n",
       "    <tr>\n",
       "      <th>IBU</th>\n",
       "      <td>-0.039129</td>\n",
       "      <td>-0.004536</td>\n",
       "      <td>0.356536</td>\n",
       "      <td>1.000000</td>\n",
       "      <td>0.026163</td>\n",
       "      <td>0.082257</td>\n",
       "      <td>-0.027372</td>\n",
       "      <td>0.013191</td>\n",
       "      <td>-0.050788</td>\n",
       "      <td>0.019402</td>\n",
       "      <td>-0.020165</td>\n",
       "      <td>0.020165</td>\n",
       "      <td>-0.006069</td>\n",
       "      <td>-0.012496</td>\n",
       "      <td>0.011084</td>\n",
       "      <td>0.016596</td>\n",
       "    </tr>\n",
       "    <tr>\n",
       "      <th>Color</th>\n",
       "      <td>-0.015441</td>\n",
       "      <td>0.040777</td>\n",
       "      <td>0.279992</td>\n",
       "      <td>0.026163</td>\n",
       "      <td>1.000000</td>\n",
       "      <td>0.065437</td>\n",
       "      <td>-0.013789</td>\n",
       "      <td>0.002208</td>\n",
       "      <td>-0.028759</td>\n",
       "      <td>0.025152</td>\n",
       "      <td>0.001910</td>\n",
       "      <td>-0.001910</td>\n",
       "      <td>0.009940</td>\n",
       "      <td>-0.009772</td>\n",
       "      <td>0.016984</td>\n",
       "      <td>-0.014040</td>\n",
       "    </tr>\n",
       "    <tr>\n",
       "      <th>BoilTime</th>\n",
       "      <td>0.048228</td>\n",
       "      <td>0.031400</td>\n",
       "      <td>0.131360</td>\n",
       "      <td>0.082257</td>\n",
       "      <td>0.065437</td>\n",
       "      <td>1.000000</td>\n",
       "      <td>0.162957</td>\n",
       "      <td>-0.033404</td>\n",
       "      <td>0.042104</td>\n",
       "      <td>0.104345</td>\n",
       "      <td>0.028288</td>\n",
       "      <td>-0.028288</td>\n",
       "      <td>0.158143</td>\n",
       "      <td>-0.024957</td>\n",
       "      <td>-0.059389</td>\n",
       "      <td>-0.165837</td>\n",
       "    </tr>\n",
       "    <tr>\n",
       "      <th>Efficiency</th>\n",
       "      <td>0.114315</td>\n",
       "      <td>0.066330</td>\n",
       "      <td>0.070063</td>\n",
       "      <td>-0.027372</td>\n",
       "      <td>-0.013789</td>\n",
       "      <td>0.162957</td>\n",
       "      <td>1.000000</td>\n",
       "      <td>-0.047256</td>\n",
       "      <td>0.097538</td>\n",
       "      <td>0.087321</td>\n",
       "      <td>0.073803</td>\n",
       "      <td>-0.073803</td>\n",
       "      <td>0.465694</td>\n",
       "      <td>0.098336</td>\n",
       "      <td>-0.113885</td>\n",
       "      <td>-0.730397</td>\n",
       "    </tr>\n",
       "    <tr>\n",
       "      <th>PrimaryTemp2</th>\n",
       "      <td>0.004438</td>\n",
       "      <td>0.001214</td>\n",
       "      <td>0.028097</td>\n",
       "      <td>0.013191</td>\n",
       "      <td>0.002208</td>\n",
       "      <td>-0.033404</td>\n",
       "      <td>-0.047256</td>\n",
       "      <td>1.000000</td>\n",
       "      <td>-0.001699</td>\n",
       "      <td>-0.160131</td>\n",
       "      <td>-0.003778</td>\n",
       "      <td>0.003778</td>\n",
       "      <td>-0.010831</td>\n",
       "      <td>-0.021711</td>\n",
       "      <td>0.013336</td>\n",
       "      <td>0.033059</td>\n",
       "    </tr>\n",
       "    <tr>\n",
       "      <th>MashThickness2</th>\n",
       "      <td>0.042141</td>\n",
       "      <td>0.054657</td>\n",
       "      <td>-0.051093</td>\n",
       "      <td>-0.050788</td>\n",
       "      <td>-0.028759</td>\n",
       "      <td>0.042104</td>\n",
       "      <td>0.097538</td>\n",
       "      <td>-0.001699</td>\n",
       "      <td>1.000000</td>\n",
       "      <td>0.012880</td>\n",
       "      <td>0.071384</td>\n",
       "      <td>-0.071384</td>\n",
       "      <td>0.206538</td>\n",
       "      <td>-0.133853</td>\n",
       "      <td>-0.063196</td>\n",
       "      <td>-0.106258</td>\n",
       "    </tr>\n",
       "    <tr>\n",
       "      <th>PitchRate2</th>\n",
       "      <td>0.020152</td>\n",
       "      <td>0.009567</td>\n",
       "      <td>0.093388</td>\n",
       "      <td>0.019402</td>\n",
       "      <td>0.025152</td>\n",
       "      <td>0.104345</td>\n",
       "      <td>0.087321</td>\n",
       "      <td>-0.160131</td>\n",
       "      <td>0.012880</td>\n",
       "      <td>1.000000</td>\n",
       "      <td>0.010100</td>\n",
       "      <td>-0.010100</td>\n",
       "      <td>0.065293</td>\n",
       "      <td>-0.003721</td>\n",
       "      <td>-0.030767</td>\n",
       "      <td>-0.072231</td>\n",
       "    </tr>\n",
       "    <tr>\n",
       "      <th>SugarScale_Plato</th>\n",
       "      <td>0.171074</td>\n",
       "      <td>0.892947</td>\n",
       "      <td>-0.009359</td>\n",
       "      <td>-0.020165</td>\n",
       "      <td>0.001910</td>\n",
       "      <td>0.028288</td>\n",
       "      <td>0.073803</td>\n",
       "      <td>-0.003778</td>\n",
       "      <td>0.071384</td>\n",
       "      <td>0.010100</td>\n",
       "      <td>1.000000</td>\n",
       "      <td>-1.000000</td>\n",
       "      <td>0.078879</td>\n",
       "      <td>-0.045834</td>\n",
       "      <td>-0.025070</td>\n",
       "      <td>-0.046220</td>\n",
       "    </tr>\n",
       "    <tr>\n",
       "      <th>SugarScale_Specific Gravity</th>\n",
       "      <td>-0.171074</td>\n",
       "      <td>-0.892947</td>\n",
       "      <td>0.009359</td>\n",
       "      <td>0.020165</td>\n",
       "      <td>-0.001910</td>\n",
       "      <td>-0.028288</td>\n",
       "      <td>-0.073803</td>\n",
       "      <td>0.003778</td>\n",
       "      <td>-0.071384</td>\n",
       "      <td>-0.010100</td>\n",
       "      <td>-1.000000</td>\n",
       "      <td>1.000000</td>\n",
       "      <td>-0.078879</td>\n",
       "      <td>0.045834</td>\n",
       "      <td>0.025070</td>\n",
       "      <td>0.046220</td>\n",
       "    </tr>\n",
       "    <tr>\n",
       "      <th>BrewMethod_All Grain</th>\n",
       "      <td>0.092327</td>\n",
       "      <td>0.071164</td>\n",
       "      <td>0.031371</td>\n",
       "      <td>-0.006069</td>\n",
       "      <td>0.009940</td>\n",
       "      <td>0.158143</td>\n",
       "      <td>0.465694</td>\n",
       "      <td>-0.010831</td>\n",
       "      <td>0.206538</td>\n",
       "      <td>0.065293</td>\n",
       "      <td>0.078879</td>\n",
       "      <td>-0.078879</td>\n",
       "      <td>1.000000</td>\n",
       "      <td>-0.648079</td>\n",
       "      <td>-0.305978</td>\n",
       "      <td>-0.514471</td>\n",
       "    </tr>\n",
       "    <tr>\n",
       "      <th>BrewMethod_BIAB</th>\n",
       "      <td>-0.060271</td>\n",
       "      <td>-0.042097</td>\n",
       "      <td>-0.021223</td>\n",
       "      <td>-0.012496</td>\n",
       "      <td>-0.009772</td>\n",
       "      <td>-0.024957</td>\n",
       "      <td>0.098336</td>\n",
       "      <td>-0.021711</td>\n",
       "      <td>-0.133853</td>\n",
       "      <td>-0.003721</td>\n",
       "      <td>-0.045834</td>\n",
       "      <td>0.045834</td>\n",
       "      <td>-0.648079</td>\n",
       "      <td>1.000000</td>\n",
       "      <td>-0.096431</td>\n",
       "      <td>-0.162140</td>\n",
       "    </tr>\n",
       "    <tr>\n",
       "      <th>BrewMethod_Partial Mash</th>\n",
       "      <td>-0.025537</td>\n",
       "      <td>-0.020774</td>\n",
       "      <td>0.003524</td>\n",
       "      <td>0.011084</td>\n",
       "      <td>0.016984</td>\n",
       "      <td>-0.059389</td>\n",
       "      <td>-0.113885</td>\n",
       "      <td>0.013336</td>\n",
       "      <td>-0.063196</td>\n",
       "      <td>-0.030767</td>\n",
       "      <td>-0.025070</td>\n",
       "      <td>0.025070</td>\n",
       "      <td>-0.305978</td>\n",
       "      <td>-0.096431</td>\n",
       "      <td>1.000000</td>\n",
       "      <td>-0.076551</td>\n",
       "    </tr>\n",
       "    <tr>\n",
       "      <th>BrewMethod_extract</th>\n",
       "      <td>-0.048726</td>\n",
       "      <td>-0.042005</td>\n",
       "      <td>-0.023512</td>\n",
       "      <td>0.016596</td>\n",
       "      <td>-0.014040</td>\n",
       "      <td>-0.165837</td>\n",
       "      <td>-0.730397</td>\n",
       "      <td>0.033059</td>\n",
       "      <td>-0.106258</td>\n",
       "      <td>-0.072231</td>\n",
       "      <td>-0.046220</td>\n",
       "      <td>0.046220</td>\n",
       "      <td>-0.514471</td>\n",
       "      <td>-0.162140</td>\n",
       "      <td>-0.076551</td>\n",
       "      <td>1.000000</td>\n",
       "    </tr>\n",
       "  </tbody>\n",
       "</table>\n",
       "</div>"
      ],
      "text/plain": [
       "                              Size(L)        FG       ABV       IBU     Color  \\\n",
       "Size(L)                      1.000000  0.146309 -0.011699 -0.039129 -0.015441   \n",
       "FG                           0.146309  1.000000  0.030904 -0.004536  0.040777   \n",
       "ABV                         -0.011699  0.030904  1.000000  0.356536  0.279992   \n",
       "IBU                         -0.039129 -0.004536  0.356536  1.000000  0.026163   \n",
       "Color                       -0.015441  0.040777  0.279992  0.026163  1.000000   \n",
       "BoilTime                     0.048228  0.031400  0.131360  0.082257  0.065437   \n",
       "Efficiency                   0.114315  0.066330  0.070063 -0.027372 -0.013789   \n",
       "PrimaryTemp2                 0.004438  0.001214  0.028097  0.013191  0.002208   \n",
       "MashThickness2               0.042141  0.054657 -0.051093 -0.050788 -0.028759   \n",
       "PitchRate2                   0.020152  0.009567  0.093388  0.019402  0.025152   \n",
       "SugarScale_Plato             0.171074  0.892947 -0.009359 -0.020165  0.001910   \n",
       "SugarScale_Specific Gravity -0.171074 -0.892947  0.009359  0.020165 -0.001910   \n",
       "BrewMethod_All Grain         0.092327  0.071164  0.031371 -0.006069  0.009940   \n",
       "BrewMethod_BIAB             -0.060271 -0.042097 -0.021223 -0.012496 -0.009772   \n",
       "BrewMethod_Partial Mash     -0.025537 -0.020774  0.003524  0.011084  0.016984   \n",
       "BrewMethod_extract          -0.048726 -0.042005 -0.023512  0.016596 -0.014040   \n",
       "\n",
       "                             BoilTime  Efficiency  PrimaryTemp2  \\\n",
       "Size(L)                      0.048228    0.114315      0.004438   \n",
       "FG                           0.031400    0.066330      0.001214   \n",
       "ABV                          0.131360    0.070063      0.028097   \n",
       "IBU                          0.082257   -0.027372      0.013191   \n",
       "Color                        0.065437   -0.013789      0.002208   \n",
       "BoilTime                     1.000000    0.162957     -0.033404   \n",
       "Efficiency                   0.162957    1.000000     -0.047256   \n",
       "PrimaryTemp2                -0.033404   -0.047256      1.000000   \n",
       "MashThickness2               0.042104    0.097538     -0.001699   \n",
       "PitchRate2                   0.104345    0.087321     -0.160131   \n",
       "SugarScale_Plato             0.028288    0.073803     -0.003778   \n",
       "SugarScale_Specific Gravity -0.028288   -0.073803      0.003778   \n",
       "BrewMethod_All Grain         0.158143    0.465694     -0.010831   \n",
       "BrewMethod_BIAB             -0.024957    0.098336     -0.021711   \n",
       "BrewMethod_Partial Mash     -0.059389   -0.113885      0.013336   \n",
       "BrewMethod_extract          -0.165837   -0.730397      0.033059   \n",
       "\n",
       "                             MashThickness2  PitchRate2  SugarScale_Plato  \\\n",
       "Size(L)                            0.042141    0.020152          0.171074   \n",
       "FG                                 0.054657    0.009567          0.892947   \n",
       "ABV                               -0.051093    0.093388         -0.009359   \n",
       "IBU                               -0.050788    0.019402         -0.020165   \n",
       "Color                             -0.028759    0.025152          0.001910   \n",
       "BoilTime                           0.042104    0.104345          0.028288   \n",
       "Efficiency                         0.097538    0.087321          0.073803   \n",
       "PrimaryTemp2                      -0.001699   -0.160131         -0.003778   \n",
       "MashThickness2                     1.000000    0.012880          0.071384   \n",
       "PitchRate2                         0.012880    1.000000          0.010100   \n",
       "SugarScale_Plato                   0.071384    0.010100          1.000000   \n",
       "SugarScale_Specific Gravity       -0.071384   -0.010100         -1.000000   \n",
       "BrewMethod_All Grain               0.206538    0.065293          0.078879   \n",
       "BrewMethod_BIAB                   -0.133853   -0.003721         -0.045834   \n",
       "BrewMethod_Partial Mash           -0.063196   -0.030767         -0.025070   \n",
       "BrewMethod_extract                -0.106258   -0.072231         -0.046220   \n",
       "\n",
       "                             SugarScale_Specific Gravity  \\\n",
       "Size(L)                                        -0.171074   \n",
       "FG                                             -0.892947   \n",
       "ABV                                             0.009359   \n",
       "IBU                                             0.020165   \n",
       "Color                                          -0.001910   \n",
       "BoilTime                                       -0.028288   \n",
       "Efficiency                                     -0.073803   \n",
       "PrimaryTemp2                                    0.003778   \n",
       "MashThickness2                                 -0.071384   \n",
       "PitchRate2                                     -0.010100   \n",
       "SugarScale_Plato                               -1.000000   \n",
       "SugarScale_Specific Gravity                     1.000000   \n",
       "BrewMethod_All Grain                           -0.078879   \n",
       "BrewMethod_BIAB                                 0.045834   \n",
       "BrewMethod_Partial Mash                         0.025070   \n",
       "BrewMethod_extract                              0.046220   \n",
       "\n",
       "                             BrewMethod_All Grain  BrewMethod_BIAB  \\\n",
       "Size(L)                                  0.092327        -0.060271   \n",
       "FG                                       0.071164        -0.042097   \n",
       "ABV                                      0.031371        -0.021223   \n",
       "IBU                                     -0.006069        -0.012496   \n",
       "Color                                    0.009940        -0.009772   \n",
       "BoilTime                                 0.158143        -0.024957   \n",
       "Efficiency                               0.465694         0.098336   \n",
       "PrimaryTemp2                            -0.010831        -0.021711   \n",
       "MashThickness2                           0.206538        -0.133853   \n",
       "PitchRate2                               0.065293        -0.003721   \n",
       "SugarScale_Plato                         0.078879        -0.045834   \n",
       "SugarScale_Specific Gravity             -0.078879         0.045834   \n",
       "BrewMethod_All Grain                     1.000000        -0.648079   \n",
       "BrewMethod_BIAB                         -0.648079         1.000000   \n",
       "BrewMethod_Partial Mash                 -0.305978        -0.096431   \n",
       "BrewMethod_extract                      -0.514471        -0.162140   \n",
       "\n",
       "                             BrewMethod_Partial Mash  BrewMethod_extract  \n",
       "Size(L)                                    -0.025537           -0.048726  \n",
       "FG                                         -0.020774           -0.042005  \n",
       "ABV                                         0.003524           -0.023512  \n",
       "IBU                                         0.011084            0.016596  \n",
       "Color                                       0.016984           -0.014040  \n",
       "BoilTime                                   -0.059389           -0.165837  \n",
       "Efficiency                                 -0.113885           -0.730397  \n",
       "PrimaryTemp2                                0.013336            0.033059  \n",
       "MashThickness2                             -0.063196           -0.106258  \n",
       "PitchRate2                                 -0.030767           -0.072231  \n",
       "SugarScale_Plato                           -0.025070           -0.046220  \n",
       "SugarScale_Specific Gravity                 0.025070            0.046220  \n",
       "BrewMethod_All Grain                       -0.305978           -0.514471  \n",
       "BrewMethod_BIAB                            -0.096431           -0.162140  \n",
       "BrewMethod_Partial Mash                     1.000000           -0.076551  \n",
       "BrewMethod_extract                         -0.076551            1.000000  "
      ]
     },
     "execution_count": 69,
     "metadata": {},
     "output_type": "execute_result"
    }
   ],
   "source": [
    "beer3dum.corr()"
   ]
  },
  {
   "cell_type": "code",
   "execution_count": 70,
   "metadata": {
    "scrolled": true
   },
   "outputs": [],
   "source": [
    "#The Sugarscales are too strongly correlated with FG.\n",
    "beer3dum = pd.DataFrame(beer3dum.drop(columns = ['SugarScale_Specific Gravity','SugarScale_Plato']))"
   ]
  },
  {
   "cell_type": "code",
   "execution_count": 71,
   "metadata": {},
   "outputs": [],
   "source": [
    "#beer3dum = pd.DataFrame(beer3dum.drop(columns = ['BrewMethod_All Grain','BrewMethod_BIAB','BrewMethod_Partial Mash','BrewMethod_extract']))"
   ]
  },
  {
   "cell_type": "code",
   "execution_count": 72,
   "metadata": {},
   "outputs": [
    {
     "data": {
      "text/plain": [
       "(44574, 14)"
      ]
     },
     "execution_count": 72,
     "metadata": {},
     "output_type": "execute_result"
    }
   ],
   "source": [
    "beer3dum.shape"
   ]
  },
  {
   "cell_type": "code",
   "execution_count": 73,
   "metadata": {},
   "outputs": [
    {
     "data": {
      "text/plain": [
       "Index(['Size(L)', 'FG', 'ABV', 'IBU', 'Color', 'BoilTime', 'Efficiency',\n",
       "       'PrimaryTemp2', 'MashThickness2', 'PitchRate2', 'BrewMethod_All Grain',\n",
       "       'BrewMethod_BIAB', 'BrewMethod_Partial Mash', 'BrewMethod_extract'],\n",
       "      dtype='object')"
      ]
     },
     "execution_count": 73,
     "metadata": {},
     "output_type": "execute_result"
    }
   ],
   "source": [
    "exes = beer3dum\n",
    "columns = exes.columns\n",
    "scaler = MinMaxScaler()\n",
    "scaled_df = scaler.fit_transform(exes)\n",
    "scaled_df = pd.DataFrame(scaled_df, columns = columns)\n",
    "scaled_df.columns\n"
   ]
  },
  {
   "cell_type": "code",
   "execution_count": 74,
   "metadata": {},
   "outputs": [
    {
     "data": {
      "text/plain": [
       "array(['Pale Ales', 'Stout-Porter', 'IPA', 'Lager', 'Weissbier',\n",
       "       'Light Lager'], dtype=object)"
      ]
     },
     "execution_count": 74,
     "metadata": {},
     "output_type": "execute_result"
    }
   ],
   "source": [
    "beer3['kind'].unique()"
   ]
  },
  {
   "cell_type": "code",
   "execution_count": 75,
   "metadata": {},
   "outputs": [],
   "source": [
    "y = np.ravel(beer3['kind'])\n",
    "y = y.astype(str)\n",
    "X = np.asarray(scaled_df)\n"
   ]
  },
  {
   "cell_type": "code",
   "execution_count": 76,
   "metadata": {},
   "outputs": [],
   "source": [
    "# Declare a logistic regression classifier.\n",
    "# Parameter regularization coefficient C described above.\n",
    "lr = LogisticRegression(C = 1e6)\n"
   ]
  },
  {
   "cell_type": "code",
   "execution_count": 77,
   "metadata": {},
   "outputs": [],
   "source": [
    "from sklearn.model_selection import train_test_split"
   ]
  },
  {
   "cell_type": "code",
   "execution_count": 78,
   "metadata": {},
   "outputs": [],
   "source": [
    "X_train, X_test, Y_train, Y_test = train_test_split(X, y, test_size=0.20)\n",
    "\n",
    "##Fit the model.\n",
    "fit = lr.fit(X_train, Y_train)\n"
   ]
  },
  {
   "cell_type": "code",
   "execution_count": 79,
   "metadata": {},
   "outputs": [
    {
     "name": "stdout",
     "output_type": "stream",
     "text": [
      "Coefficients\n",
      "[[ 1.43306743e+00  1.69426909e-01  1.51173958e+01  1.62671986e+02\n",
      "  -4.38428012e+00 -2.09400187e+00 -3.93038800e-01 -8.53832673e-02\n",
      "  -1.73084072e-01 -7.35161000e-01 -3.73815815e-01 -4.77080424e-01\n",
      "  -5.63578600e-01 -6.79106604e-01]\n",
      " [ 5.79171631e-01  1.76251125e-02 -6.60626765e+00 -7.92232548e+01\n",
      "  -1.96665344e+00 -8.68790076e-01 -2.43105502e-01 -2.08029169e+01\n",
      "  -7.28784184e-01  3.66568255e+00  1.10927195e+00  9.95713731e-01\n",
      "   1.31406496e+00  1.25751292e+00]\n",
      " [ 3.78598531e+00  3.07346971e-01 -7.95967474e-01 -9.74662267e+01\n",
      "  -1.16307526e+00 -4.15350515e+00 -8.27770213e-01 -2.15433565e-01\n",
      "   4.53800398e-01  1.07081913e+00  2.38813476e-02 -6.95851327e-02\n",
      "  -8.12398024e-02 -3.88503925e-02]\n",
      " [-3.05198174e+00 -9.87035443e-01 -1.32039282e+01 -3.86401584e+01\n",
      "  -4.34645923e+00  3.44091550e-01  1.34187961e+00  8.21831278e+00\n",
      "   1.04319422e+00 -1.41583300e+00 -4.19252335e-01 -3.02613270e-01\n",
      "  -3.21243288e-01 -1.85457006e-01]\n",
      " [-2.07008948e+00  1.30213910e+00 -8.86871762e+00 -9.17134646e+01\n",
      "   1.19944240e+01  2.11750116e+00  1.31902584e+00 -1.24827613e+00\n",
      "  -3.17838389e+00 -1.93699536e-01 -1.36694808e+00 -1.28748249e+00\n",
      "  -9.10679045e-01 -5.12913507e-01]\n",
      " [-6.35298931e+00  9.35100627e-01 -4.03266986e+00 -2.66846703e+02\n",
      "  -6.57851218e+00  5.08292964e+00 -7.89842020e-01  2.05713011e+00\n",
      "   2.52980205e+00 -2.88192063e+00  1.66743609e-01  2.44461593e-01\n",
      "   3.40932282e-01 -2.43370378e-01]]\n",
      "Intercepts\n",
      "[-2.09358144  4.67656356 -0.16579398 -1.2285659  -4.07802312  0.5087671 ]\n",
      "\n",
      " Percentage accuracy\n",
      "Test 0.6846887268648345\n",
      "Train 0.6827729324995092\n"
     ]
    }
   ],
   "source": [
    "# Display.\n",
    "\n",
    "\n",
    "print('Coefficients') \n",
    "print(fit.coef_)\n",
    "print('Intercepts')\n",
    "print (fit.intercept_)\n",
    "pred_y_sklearn = lr.predict(X_test)\n",
    "pred_y_sklearn = lr.predict(X_train)\n",
    "print('\\n Percentage accuracy')\n",
    "print('Test',lr.score(X_test, Y_test))\n",
    "print('Train',lr.score(X_train, Y_train))\n"
   ]
  },
  {
   "cell_type": "code",
   "execution_count": 81,
   "metadata": {},
   "outputs": [
    {
     "name": "stdout",
     "output_type": "stream",
     "text": [
      "Coefficients\n"
     ]
    },
    {
     "data": {
      "text/html": [
       "<div>\n",
       "<style scoped>\n",
       "    .dataframe tbody tr th:only-of-type {\n",
       "        vertical-align: middle;\n",
       "    }\n",
       "\n",
       "    .dataframe tbody tr th {\n",
       "        vertical-align: top;\n",
       "    }\n",
       "\n",
       "    .dataframe thead th {\n",
       "        text-align: right;\n",
       "    }\n",
       "</style>\n",
       "<table border=\"1\" class=\"dataframe\">\n",
       "  <thead>\n",
       "    <tr style=\"text-align: right;\">\n",
       "      <th></th>\n",
       "      <th>Size(L)</th>\n",
       "      <th>FG</th>\n",
       "      <th>ABV</th>\n",
       "      <th>IBU</th>\n",
       "      <th>Color</th>\n",
       "      <th>BoilTime</th>\n",
       "      <th>Efficiency</th>\n",
       "      <th>PrimaryTemp2</th>\n",
       "      <th>MashThickness2</th>\n",
       "      <th>PitchRate2</th>\n",
       "      <th>BrewMethod_All Grain</th>\n",
       "      <th>BrewMethod_BIAB</th>\n",
       "      <th>BrewMethod_Partial Mash</th>\n",
       "      <th>BrewMethod_extract</th>\n",
       "      <th>Intercepts</th>\n",
       "    </tr>\n",
       "  </thead>\n",
       "  <tbody>\n",
       "    <tr>\n",
       "      <th>IPA</th>\n",
       "      <td>1.433067</td>\n",
       "      <td>0.169427</td>\n",
       "      <td>15.117396</td>\n",
       "      <td>162.671986</td>\n",
       "      <td>-4.384280</td>\n",
       "      <td>-2.094002</td>\n",
       "      <td>-0.393039</td>\n",
       "      <td>-0.085383</td>\n",
       "      <td>-0.173084</td>\n",
       "      <td>-0.735161</td>\n",
       "      <td>-0.373816</td>\n",
       "      <td>-0.477080</td>\n",
       "      <td>-0.563579</td>\n",
       "      <td>-0.679107</td>\n",
       "      <td>-2.093581</td>\n",
       "    </tr>\n",
       "    <tr>\n",
       "      <th>Lager</th>\n",
       "      <td>0.579172</td>\n",
       "      <td>0.017625</td>\n",
       "      <td>-6.606268</td>\n",
       "      <td>-79.223255</td>\n",
       "      <td>-1.966653</td>\n",
       "      <td>-0.868790</td>\n",
       "      <td>-0.243106</td>\n",
       "      <td>-20.802917</td>\n",
       "      <td>-0.728784</td>\n",
       "      <td>3.665683</td>\n",
       "      <td>1.109272</td>\n",
       "      <td>0.995714</td>\n",
       "      <td>1.314065</td>\n",
       "      <td>1.257513</td>\n",
       "      <td>4.676564</td>\n",
       "    </tr>\n",
       "    <tr>\n",
       "      <th>Light Lager</th>\n",
       "      <td>3.785985</td>\n",
       "      <td>0.307347</td>\n",
       "      <td>-0.795967</td>\n",
       "      <td>-97.466227</td>\n",
       "      <td>-1.163075</td>\n",
       "      <td>-4.153505</td>\n",
       "      <td>-0.827770</td>\n",
       "      <td>-0.215434</td>\n",
       "      <td>0.453800</td>\n",
       "      <td>1.070819</td>\n",
       "      <td>0.023881</td>\n",
       "      <td>-0.069585</td>\n",
       "      <td>-0.081240</td>\n",
       "      <td>-0.038850</td>\n",
       "      <td>-0.165794</td>\n",
       "    </tr>\n",
       "    <tr>\n",
       "      <th>Pale Ales</th>\n",
       "      <td>-3.051982</td>\n",
       "      <td>-0.987035</td>\n",
       "      <td>-13.203928</td>\n",
       "      <td>-38.640158</td>\n",
       "      <td>-4.346459</td>\n",
       "      <td>0.344092</td>\n",
       "      <td>1.341880</td>\n",
       "      <td>8.218313</td>\n",
       "      <td>1.043194</td>\n",
       "      <td>-1.415833</td>\n",
       "      <td>-0.419252</td>\n",
       "      <td>-0.302613</td>\n",
       "      <td>-0.321243</td>\n",
       "      <td>-0.185457</td>\n",
       "      <td>-1.228566</td>\n",
       "    </tr>\n",
       "    <tr>\n",
       "      <th>Stout-Porter</th>\n",
       "      <td>-2.070089</td>\n",
       "      <td>1.302139</td>\n",
       "      <td>-8.868718</td>\n",
       "      <td>-91.713465</td>\n",
       "      <td>11.994424</td>\n",
       "      <td>2.117501</td>\n",
       "      <td>1.319026</td>\n",
       "      <td>-1.248276</td>\n",
       "      <td>-3.178384</td>\n",
       "      <td>-0.193700</td>\n",
       "      <td>-1.366948</td>\n",
       "      <td>-1.287482</td>\n",
       "      <td>-0.910679</td>\n",
       "      <td>-0.512914</td>\n",
       "      <td>-4.078023</td>\n",
       "    </tr>\n",
       "    <tr>\n",
       "      <th>Weissbier</th>\n",
       "      <td>-6.352989</td>\n",
       "      <td>0.935101</td>\n",
       "      <td>-4.032670</td>\n",
       "      <td>-266.846703</td>\n",
       "      <td>-6.578512</td>\n",
       "      <td>5.082930</td>\n",
       "      <td>-0.789842</td>\n",
       "      <td>2.057130</td>\n",
       "      <td>2.529802</td>\n",
       "      <td>-2.881921</td>\n",
       "      <td>0.166744</td>\n",
       "      <td>0.244462</td>\n",
       "      <td>0.340932</td>\n",
       "      <td>-0.243370</td>\n",
       "      <td>0.508767</td>\n",
       "    </tr>\n",
       "  </tbody>\n",
       "</table>\n",
       "</div>"
      ],
      "text/plain": [
       "               Size(L)        FG        ABV         IBU      Color  BoilTime  \\\n",
       "IPA           1.433067  0.169427  15.117396  162.671986  -4.384280 -2.094002   \n",
       "Lager         0.579172  0.017625  -6.606268  -79.223255  -1.966653 -0.868790   \n",
       "Light Lager   3.785985  0.307347  -0.795967  -97.466227  -1.163075 -4.153505   \n",
       "Pale Ales    -3.051982 -0.987035 -13.203928  -38.640158  -4.346459  0.344092   \n",
       "Stout-Porter -2.070089  1.302139  -8.868718  -91.713465  11.994424  2.117501   \n",
       "Weissbier    -6.352989  0.935101  -4.032670 -266.846703  -6.578512  5.082930   \n",
       "\n",
       "              Efficiency  PrimaryTemp2  MashThickness2  PitchRate2  \\\n",
       "IPA            -0.393039     -0.085383       -0.173084   -0.735161   \n",
       "Lager          -0.243106    -20.802917       -0.728784    3.665683   \n",
       "Light Lager    -0.827770     -0.215434        0.453800    1.070819   \n",
       "Pale Ales       1.341880      8.218313        1.043194   -1.415833   \n",
       "Stout-Porter    1.319026     -1.248276       -3.178384   -0.193700   \n",
       "Weissbier      -0.789842      2.057130        2.529802   -2.881921   \n",
       "\n",
       "              BrewMethod_All Grain  BrewMethod_BIAB  BrewMethod_Partial Mash  \\\n",
       "IPA                      -0.373816        -0.477080                -0.563579   \n",
       "Lager                     1.109272         0.995714                 1.314065   \n",
       "Light Lager               0.023881        -0.069585                -0.081240   \n",
       "Pale Ales                -0.419252        -0.302613                -0.321243   \n",
       "Stout-Porter             -1.366948        -1.287482                -0.910679   \n",
       "Weissbier                 0.166744         0.244462                 0.340932   \n",
       "\n",
       "              BrewMethod_extract  Intercepts  \n",
       "IPA                    -0.679107   -2.093581  \n",
       "Lager                   1.257513    4.676564  \n",
       "Light Lager            -0.038850   -0.165794  \n",
       "Pale Ales              -0.185457   -1.228566  \n",
       "Stout-Porter           -0.512914   -4.078023  \n",
       "Weissbier              -0.243370    0.508767  "
      ]
     },
     "execution_count": 81,
     "metadata": {},
     "output_type": "execute_result"
    }
   ],
   "source": [
    "Coefficients = pd.DataFrame(fit.coef_,columns = beer3dum.columns, index = fit.classes_)\n",
    "Coefficients['Intercepts']=fit.intercept_\n",
    "print('Coefficients')\n",
    "Coefficients"
   ]
  },
  {
   "cell_type": "code",
   "execution_count": null,
   "metadata": {},
   "outputs": [],
   "source": [
    "#freq = pd.DataFrame(beerna2['StyleID'].value_counts().reset_index())\n",
    "#freqcut = pd.DataFrame(freq[freq['StyleID'] > 5])\n",
    "#freqcut['index'].unique()"
   ]
  },
  {
   "cell_type": "code",
   "execution_count": null,
   "metadata": {},
   "outputs": [],
   "source": [
    "#freqcut['index'].nunique()"
   ]
  },
  {
   "cell_type": "code",
   "execution_count": null,
   "metadata": {},
   "outputs": [],
   "source": [
    "#beerna2cut = pd.DataFrame(beerna2.loc[beerna2['StyleID'].isin(freqcut['index'].unique())])\n",
    "#beerna2cut['StyleID'].nunique()"
   ]
  },
  {
   "cell_type": "code",
   "execution_count": 82,
   "metadata": {},
   "outputs": [],
   "source": [
    "from sklearn import ensemble\n",
    "from sklearn.model_selection import cross_val_score\n"
   ]
  },
  {
   "cell_type": "code",
   "execution_count": 83,
   "metadata": {},
   "outputs": [],
   "source": [
    "rfc = ensemble.RandomForestClassifier(n_jobs = -1)\n",
    "y = np.ravel(beer3['kind'])\n",
    "X = pd.DataFrame(beer3dum)\n"
   ]
  },
  {
   "cell_type": "code",
   "execution_count": 84,
   "metadata": {},
   "outputs": [
    {
     "data": {
      "text/plain": [
       "array([0.76171787, 0.74248542, 0.73390173, 0.74520364, 0.73589139])"
      ]
     },
     "execution_count": 84,
     "metadata": {},
     "output_type": "execute_result"
    }
   ],
   "source": [
    "cross_val_score(rfc,X,y,cv=5)"
   ]
  },
  {
   "cell_type": "code",
   "execution_count": 85,
   "metadata": {},
   "outputs": [
    {
     "data": {
      "text/plain": [
       "RandomForestClassifier(bootstrap=True, class_weight=None, criterion='gini',\n",
       "            max_depth=None, max_features='auto', max_leaf_nodes=None,\n",
       "            min_impurity_decrease=0.0, min_impurity_split=None,\n",
       "            min_samples_leaf=1, min_samples_split=2,\n",
       "            min_weight_fraction_leaf=0.0, n_estimators=10, n_jobs=-1,\n",
       "            oob_score=False, random_state=None, verbose=0,\n",
       "            warm_start=False)"
      ]
     },
     "execution_count": 85,
     "metadata": {},
     "output_type": "execute_result"
    }
   ],
   "source": [
    "rfc.fit(X,y)"
   ]
  },
  {
   "cell_type": "code",
   "execution_count": 86,
   "metadata": {},
   "outputs": [
    {
     "data": {
      "image/png": "[encoded data removed]",
      "text/plain": [
       "<matplotlib.figure.Figure at 0x118618048>"
      ]
     },
     "metadata": {},
     "output_type": "display_data"
    }
   ],
   "source": [
    "\n",
    "feature_importance = rfc.feature_importances_\n",
    "\n",
    "# Make importances relative to max importance.\n",
    "feature_importance = 100.0 * (feature_importance / feature_importance.max())\n",
    "sorted_idx = np.argsort(feature_importance)\n",
    "pos = np.arange(sorted_idx.shape[0]) + .5\n",
    "plt.subplot(1, 2, 2)\n",
    "plt.barh(pos, feature_importance[sorted_idx], align='center')\n",
    "plt.yticks(pos, X.columns[sorted_idx])\n",
    "plt.xlabel('Relative Importance')\n",
    "plt.title('Variable Importance')\n",
    "plt.show()"
   ]
  },
  {
   "cell_type": "code",
   "execution_count": 131,
   "metadata": {},
   "outputs": [],
   "source": [
    "ipagroup = pd.DataFrame(beer3.loc[beer3.kind == 'IPA',:])"
   ]
  },
  {
   "cell_type": "code",
   "execution_count": 132,
   "metadata": {},
   "outputs": [],
   "source": [
    "palegroup = pd.DataFrame(beer3.loc[beer3.kind == 'Pale Ales',:])"
   ]
  },
  {
   "cell_type": "code",
   "execution_count": 133,
   "metadata": {},
   "outputs": [],
   "source": [
    "lagergroup = pd.DataFrame(beer3.loc[beer3.kind == 'Lager',:])"
   ]
  },
  {
   "cell_type": "code",
   "execution_count": 134,
   "metadata": {},
   "outputs": [],
   "source": [
    "lightgroup = pd.DataFrame(beer3.loc[beer3.kind == 'Light Lager',:])"
   ]
  },
  {
   "cell_type": "code",
   "execution_count": 135,
   "metadata": {},
   "outputs": [],
   "source": [
    "weissgroup = pd.DataFrame(beer3.loc[beer3.kind == 'Weissbier',:])"
   ]
  },
  {
   "cell_type": "code",
   "execution_count": 136,
   "metadata": {},
   "outputs": [],
   "source": [
    "stoutgroup = pd.DataFrame(beer3.loc[beer3.kind == 'Stout-Porter',:])"
   ]
  },
  {
   "cell_type": "code",
   "execution_count": 155,
   "metadata": {},
   "outputs": [
    {
     "data": {
      "image/png": "[encoded data removed]",
      "text/plain": [
       "<matplotlib.figure.Figure at 0x11a7f3dd8>"
      ]
     },
     "metadata": {},
     "output_type": "display_data"
    }
   ],
   "source": [
    "plt.hist(ipagroup['Color'],alpha = .5,normed = True)\n",
    "plt.hist(lagergroup['Color'], alpha = .5, normed = True)\n",
    "plt.hist(lightgroup['Color'], alpha = .5, normed = True)\n",
    "plt.hist(weissgroup['Color'], alpha = .5, normed = True)\n",
    "plt.hist(stoutgroup['Color'], alpha = .5, normed = True)\n",
    "plt.hist(palegroup['Color'], alpha = .5, normed = True)\n",
    "plt.legend(labels = ['IPA','Lager','Light Lager','Weissbier','Stout-Porter','Pale Ale'])\n",
    "plt.title('Color')\n",
    "plt.show()"
   ]
  },
  {
   "cell_type": "markdown",
   "metadata": {},
   "source": [
    "Stout really stands out here, but you can also differentiat IPA and Weissbier very well. The Lagers and Pale Ale are jumbled up in the middle."
   ]
  },
  {
   "cell_type": "code",
   "execution_count": 154,
   "metadata": {},
   "outputs": [
    {
     "data": {
      "image/png": "[encoded data removed]",
      "text/plain": [
       "<matplotlib.figure.Figure at 0x126b01f60>"
      ]
     },
     "metadata": {},
     "output_type": "display_data"
    }
   ],
   "source": [
    "plt.hist(ipagroup['IBU'],alpha = .5, normed = True)\n",
    "plt.hist(lagergroup['IBU'], alpha = .5, normed = True)\n",
    "plt.hist(lightgroup['IBU'], alpha = .5, normed = True)\n",
    "plt.hist(weissgroup['IBU'], alpha = .5, normed = True)\n",
    "plt.hist(stoutgroup['IBU'], alpha = .5, normed = True)\n",
    "plt.hist(palegroup['IBU'], alpha = .5, normed = True)\n",
    "plt.legend(labels = ['IPA','Lager','Light Lager','Weissbier','Stout-Porter','Pale Ale'])\n",
    "plt.xlim(0,500)\n",
    "plt.title('IBU')\n",
    "plt.show()"
   ]
  },
  {
   "cell_type": "markdown",
   "metadata": {},
   "source": [
    "Here the beers show their varations with bitterness going from the highest to lowest as follows: Stout, Pale Ale, IPA, Lagers, and Weissbier."
   ]
  },
  {
   "cell_type": "code",
   "execution_count": 161,
   "metadata": {
    "scrolled": true
   },
   "outputs": [
    {
     "data": {
      "image/png": "[encoded data removed]",
      "text/plain": [
       "<matplotlib.figure.Figure at 0x1246d3438>"
      ]
     },
     "metadata": {},
     "output_type": "display_data"
    }
   ],
   "source": [
    "plt.hist(ipagroup['ABV'],alpha = .5, normed = True)\n",
    "plt.hist(lagergroup['ABV'], alpha = .5, normed = True)\n",
    "plt.hist(lightgroup['ABV'], alpha = .5, normed = True)\n",
    "plt.hist(weissgroup['ABV'], alpha = .5, normed = True)\n",
    "plt.hist(stoutgroup['ABV'], alpha = .2, normed = True)\n",
    "plt.hist(palegroup['ABV'], alpha = .5, normed = True)\n",
    "plt.legend(labels = ['IPA','Lager','Light Lager','Weissbier','Stout-Porter','Pale Ale'])\n",
    "plt.xlim(0,20)\n",
    "plt.title('ABV')\n",
    "plt.show()\n",
    "#Light lager is hiding behind the stouts."
   ]
  },
  {
   "cell_type": "markdown",
   "metadata": {},
   "source": [
    "Light lager has a higher alcohol by volume than regular lager. That is a suprise. Once again IPA stands out, this time with its unusually high alcohol by volume."
   ]
  },
  {
   "cell_type": "code",
   "execution_count": 160,
   "metadata": {
    "scrolled": true
   },
   "outputs": [
    {
     "data": {
      "image/png": "[encoded data removed]",
      "text/plain": [
       "<matplotlib.figure.Figure at 0x124701240>"
      ]
     },
     "metadata": {},
     "output_type": "display_data"
    }
   ],
   "source": [
    "plt.hist(ipagroup['FG'],alpha = .5, normed = True)\n",
    "plt.hist(lagergroup['FG'], alpha = .5, normed = True)\n",
    "plt.hist(lightgroup['FG'], alpha = .5, normed = True)\n",
    "plt.hist(weissgroup['FG'], alpha = .5, normed = True)\n",
    "plt.hist(stoutgroup['FG'], alpha = .5, normed = True)\n",
    "plt.hist(palegroup['FG'], alpha = .5, normed = True)\n",
    "plt.legend(labels = ['IPA','Lager','Light Lager','Weissbier','Stout-Porter','Pale Ale'])\n",
    "plt.xlim(0,4)\n",
    "plt.show()\n",
    "#Outliers above 4 are cut off."
   ]
  },
  {
   "cell_type": "markdown",
   "metadata": {},
   "source": [
    "Pale Ales are clearly lower in gravity than all the others. The lager stands out for it's central location and lack of variance."
   ]
  },
  {
   "cell_type": "code",
   "execution_count": 166,
   "metadata": {
    "scrolled": true
   },
   "outputs": [
    {
     "data": {
      "image/png": "[encoded data removed]",
      "text/plain": [
       "<matplotlib.figure.Figure at 0x1252ad9e8>"
      ]
     },
     "metadata": {},
     "output_type": "display_data"
    }
   ],
   "source": [
    "plt.hist(ipagroup['PrimaryTemp2'],alpha = .5, normed = True)\n",
    "plt.hist(lightgroup['PrimaryTemp2'], alpha = .5, normed = True)\n",
    "plt.hist(weissgroup['PrimaryTemp2'], alpha = .5, normed = True)\n",
    "plt.hist(stoutgroup['PrimaryTemp2'], alpha = .5, normed = True)\n",
    "plt.hist(palegroup['PrimaryTemp2'], alpha = .5, normed = True)\n",
    "plt.hist(lagergroup['PrimaryTemp2'], alpha = .5, normed = True)\n",
    "plt.legend(labels = ['IPA','Light Lager','Weissbier','Stout-Porter','Pale Ale','Lager'])\n",
    "plt.xlim(0,40)\n",
    "plt.show()"
   ]
  },
  {
   "cell_type": "markdown",
   "metadata": {},
   "source": [
    "Finally the lager stands out a bit. It has some unusually low primary temperatures because the fermentation is on the bottom but it also has central temperatures that mix it in with IPAs, and Pale Ales. The Weissbier stands out the most in this plot, for its high temperatures."
   ]
  },
  {
   "cell_type": "code",
   "execution_count": 153,
   "metadata": {
    "scrolled": true
   },
   "outputs": [
    {
     "data": {
      "image/png": "[encoded data removed]",
      "text/plain": [
       "<matplotlib.figure.Figure at 0x126beb0b8>"
      ]
     },
     "metadata": {},
     "output_type": "display_data"
    }
   ],
   "source": [
    "plt.hist(ipagroup['Size(L)'],alpha = .5, normed = True)\n",
    "plt.hist(lagergroup['Size(L)'], alpha = .5, normed = True)\n",
    "plt.hist(lightgroup['Size(L)'], alpha = .5, normed = True)\n",
    "plt.hist(weissgroup['Size(L)'], alpha = .5, normed = True)\n",
    "plt.hist(stoutgroup['Size(L)'], alpha = .5, normed = True)\n",
    "plt.hist(palegroup['Size(L)'], alpha = .5, normed = True)\n",
    "plt.legend(labels = ['IPA','Lager','Light Lager','Weissbier','Stout-Porter','Pale Ale'])\n",
    "plt.xlim(0,3000)\n",
    "plt.show()"
   ]
  },
  {
   "cell_type": "markdown",
   "metadata": {},
   "source": [
    "The light lager has smaller mash volumes (low cal) and the regular lager has larger volumes."
   ]
  },
  {
   "cell_type": "code",
   "execution_count": null,
   "metadata": {},
   "outputs": [],
   "source": [
    "# Create training and test sets.\n",
    "offset = int(X.shape[0] * 0.9)\n",
    "\n",
    "# Put 90% of the data in the training set.\n",
    "X_train, y_train = X[:offset], y[:offset]\n",
    "\n",
    "# And put 10% in the test set.\n",
    "X_test, y_test = X[offset:], y[offset:]"
   ]
  },
  {
   "cell_type": "code",
   "execution_count": null,
   "metadata": {},
   "outputs": [],
   "source": [
    "# We'll make 500 iterations, use 2-deep trees, and set our loss function.\n",
    "params = {'n_estimators': 500,\n",
    "          'max_depth': 2,\n",
    "          'loss': 'deviance'}\n",
    "\n",
    "# Initialize and fit the model.\n",
    "clf = ensemble.GradientBoostingClassifier(**params,subsample=.8)\n",
    "clf.fit(X_train, y_train)\n",
    "\n",
    "predict_train = clf.predict(X_train)\n",
    "predict_test = clf.predict(X_test)\n",
    "\n"
   ]
  },
  {
   "cell_type": "code",
   "execution_count": null,
   "metadata": {},
   "outputs": [],
   "source": [
    "from sklearn.metrics import accuracy_score\n",
    "accuracy_score(y_train, predict_train, normalize=True, sample_weight=None)"
   ]
  },
  {
   "cell_type": "code",
   "execution_count": null,
   "metadata": {},
   "outputs": [],
   "source": [
    "from sklearn.metrics import accuracy_score\n",
    "accuracy_score(y_test, predict_test, normalize=True, sample_weight=None)"
   ]
  },
  {
   "cell_type": "code",
   "execution_count": null,
   "metadata": {},
   "outputs": [],
   "source": []
  },
  {
   "cell_type": "code",
   "execution_count": null,
   "metadata": {},
   "outputs": [],
   "source": []
  }
 ],
 "metadata": {
  "kernelspec": {
   "display_name": "Python 3",
   "language": "python",
   "name": "python3"
  },
  "language_info": {
   "codemirror_mode": {
    "name": "ipython",
    "version": 3
   },
   "file_extension": ".py",
   "mimetype": "text/x-python",
   "name": "python",
   "nbconvert_exporter": "python",
   "pygments_lexer": "ipython3",
   "version": "3.6.4"
  }
 },
 "nbformat": 4,
 "nbformat_minor": 2
}
