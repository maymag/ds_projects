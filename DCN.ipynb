{
 "cells": [
  {
   "cell_type": "code",
   "execution_count": 23,
   "metadata": {},
   "outputs": [],
   "source": [
    "import os\n",
    "import numpy as np\n",
    "import matplotlib.pyplot as plt\n",
    "from tqdm import tqdm\n",
    "import pandas as pd\n",
    "from PIL import ImageFile\n",
    "from imageio import imread\n",
    "import sys"
   ]
  },
  {
   "cell_type": "code",
   "execution_count": 24,
   "metadata": {},
   "outputs": [],
   "source": [
    "import tensorflow as tf\n",
    "import keras\n",
    "import numpy as np\n",
    "import pandas as pd\n",
    "import os\n",
    "\n",
    "# Import various componenets for model building\n",
    "from keras.utils.np_utils import to_categorical\n",
    "from keras.layers.merge import _Merge\n",
    "from keras.layers import Input, Dense, Reshape, Flatten, Dropout\n",
    "from keras.layers import BatchNormalization, Activation, ZeroPadding2D\n",
    "from keras.layers.advanced_activations import LeakyReLU\n",
    "from keras.layers.convolutional import UpSampling2D, Conv2D, MaxPooling2D\n",
    "from keras.models import Sequential, Model\n",
    "from keras.optimizers import RMSprop\n",
    "from functools import partial\n",
    "from keras.optimizers import Adam\n",
    "from keras.preprocessing.image import ImageDataGenerator\n",
    "\n",
    "from keras.models import Sequential\n",
    "from keras.layers import Dense, Dropout, Flatten, Conv2D, MaxPooling2D\n",
    "from keras.layers import LSTM, Input, TimeDistributed\n",
    "from keras.models import Model\n",
    "from keras.optimizers import RMSprop\n",
    "\n",
    "# Import the backend\n",
    "from keras import backend as K"
   ]
  },
  {
   "cell_type": "code",
   "execution_count": 104,
   "metadata": {},
   "outputs": [],
   "source": [
    "#ttfiles = os.listdir(\"FLcounties/Brevard_Nassau\")"
   ]
  },
  {
   "cell_type": "code",
   "execution_count": 105,
   "metadata": {},
   "outputs": [],
   "source": [
    "#Brevard = ttfiles\n"
   ]
  },
  {
   "cell_type": "code",
   "execution_count": 106,
   "metadata": {},
   "outputs": [],
   "source": [
    "#Duval = os.listdir(\"FLcounties/Duval_Volusia\")"
   ]
  },
  {
   "cell_type": "code",
   "execution_count": 107,
   "metadata": {},
   "outputs": [],
   "source": [
    "#BN = os.listdir(\"FLtest/Brevard_NassauT\")\n"
   ]
  },
  {
   "cell_type": "code",
   "execution_count": 108,
   "metadata": {},
   "outputs": [],
   "source": [
    "#DV = os.listdir(\"FLtest/Duval_VolusiaT\")\n"
   ]
  },
  {
   "cell_type": "code",
   "execution_count": 109,
   "metadata": {},
   "outputs": [],
   "source": [
    "#DV.remove('.DS_Store')\n",
    "#BN.remove('.DS_Store')"
   ]
  },
  {
   "cell_type": "code",
   "execution_count": 110,
   "metadata": {},
   "outputs": [],
   "source": [
    "#Duval.remove('.DS_Store')\n",
    "#Brevard.remove('.DS_Store')"
   ]
  },
  {
   "cell_type": "code",
   "execution_count": 111,
   "metadata": {},
   "outputs": [],
   "source": [
    "import image_slicer\n",
    "\n",
    "#for i in BN:\n",
    "    tiles = image_slicer.slice(\"FLtest/Brevard_NassauT/\"+str(i), 32)"
   ]
  },
  {
   "cell_type": "code",
   "execution_count": 112,
   "metadata": {},
   "outputs": [],
   "source": [
    "#for i in DV:\n",
    "    tiles = image_slicer.slice(\"FLtest/Duval_VolusiaT/\"+str(i), 32)"
   ]
  },
  {
   "cell_type": "code",
   "execution_count": 113,
   "metadata": {},
   "outputs": [],
   "source": [
    "#for i in Brevard:\n",
    "    tiles = image_slicer.slice(\"FLcounties/Brevard_Nassau/\"+str(i), 32)"
   ]
  },
  {
   "cell_type": "code",
   "execution_count": 114,
   "metadata": {},
   "outputs": [],
   "source": [
    "#for i in Duval:\n",
    "    tiles = image_slicer.slice(\"FLcounties/Duval_Volusia/\"+str(i), 32)"
   ]
  },
  {
   "cell_type": "code",
   "execution_count": 115,
   "metadata": {},
   "outputs": [],
   "source": [
    "train_files=\"Flcounties\"\n"
   ]
  },
  {
   "cell_type": "code",
   "execution_count": 116,
   "metadata": {},
   "outputs": [],
   "source": [
    "test_files = \"FLtest\""
   ]
  },
  {
   "cell_type": "code",
   "execution_count": 8,
   "metadata": {},
   "outputs": [
    {
     "name": "stdout",
     "output_type": "stream",
     "text": [
      "_________________________________________________________________\n",
      "Layer (type)                 Output Shape              Param #   \n",
      "=================================================================\n",
      "conv2d_25 (Conv2D)           (None, 32, 32, 16)        160       \n",
      "_________________________________________________________________\n",
      "leaky_re_lu_25 (LeakyReLU)   (None, 32, 32, 16)        0         \n",
      "_________________________________________________________________\n",
      "dropout_19 (Dropout)         (None, 32, 32, 16)        0         \n",
      "_________________________________________________________________\n",
      "conv2d_26 (Conv2D)           (None, 16, 16, 32)        4640      \n",
      "_________________________________________________________________\n",
      "zero_padding2d_7 (ZeroPaddin (None, 17, 17, 32)        0         \n",
      "_________________________________________________________________\n",
      "batch_normalization_19 (Batc (None, 17, 17, 32)        128       \n",
      "_________________________________________________________________\n",
      "leaky_re_lu_26 (LeakyReLU)   (None, 17, 17, 32)        0         \n",
      "_________________________________________________________________\n",
      "dropout_20 (Dropout)         (None, 17, 17, 32)        0         \n",
      "_________________________________________________________________\n",
      "conv2d_27 (Conv2D)           (None, 9, 9, 64)          18496     \n",
      "_________________________________________________________________\n",
      "batch_normalization_20 (Batc (None, 9, 9, 64)          256       \n",
      "_________________________________________________________________\n",
      "leaky_re_lu_27 (LeakyReLU)   (None, 9, 9, 64)          0         \n",
      "_________________________________________________________________\n",
      "conv2d_28 (Conv2D)           (None, 9, 9, 128)         73856     \n",
      "_________________________________________________________________\n",
      "batch_normalization_21 (Batc (None, 9, 9, 128)         512       \n",
      "_________________________________________________________________\n",
      "leaky_re_lu_28 (LeakyReLU)   (None, 9, 9, 128)         0         \n",
      "_________________________________________________________________\n",
      "dropout_21 (Dropout)         (None, 9, 9, 128)         0         \n",
      "_________________________________________________________________\n",
      "flatten_7 (Flatten)          (None, 10368)             0         \n",
      "_________________________________________________________________\n",
      "dense_7 (Dense)              (None, 1)                 10369     \n",
      "=================================================================\n",
      "Total params: 108,417\n",
      "Trainable params: 107,969\n",
      "Non-trainable params: 448\n",
      "_________________________________________________________________\n",
      "Found 2880 images belonging to 2 classes.\n",
      "Found 8712 images belonging to 2 classes.\n",
      "Epoch 1/1\n",
      "484/484 [==============================] - 38s 80ms/step - loss: 0.8973 - acc: 0.5331 - val_loss: 0.8202 - val_acc: 0.5410\n"
     ]
    }
   ],
   "source": [
    "def aerial_dcn(testfile,trainfile):\n",
    "\n",
    "    import tensorflow as tf\n",
    "    import keras\n",
    "    #import numpy as np\n",
    "    #import pandas as pd\n",
    "    import os\n",
    "\n",
    "    # Import various componenets for model building\n",
    "    from keras.utils.np_utils import to_categorical\n",
    "    from keras.layers.merge import _Merge\n",
    "    from keras.layers import Input, Dense, Reshape, Flatten, Dropout\n",
    "    from keras.layers import BatchNormalization, Activation, ZeroPadding2D\n",
    "    from keras.layers.advanced_activations import LeakyReLU\n",
    "    from keras.layers.convolutional import UpSampling2D, Conv2D, MaxPooling2D\n",
    "    from keras.models import Sequential, Model\n",
    "    from keras.optimizers import RMSprop\n",
    "    from functools import partial\n",
    "    from keras.optimizers import Adam\n",
    "    from keras.preprocessing.image import ImageDataGenerator\n",
    "\n",
    "    from keras.models import Sequential\n",
    "    from keras.layers import Dense, Dropout, Flatten, Conv2D, MaxPooling2D\n",
    "    from keras.layers import LSTM, Input, TimeDistributed\n",
    "    from keras.models import Model\n",
    "    from keras.optimizers import RMSprop\n",
    "\n",
    "    # Import the backend\n",
    "    from keras import backend as K\n",
    "\n",
    "\n",
    "    photo_rows = 64\n",
    "    photo_cols = 64\n",
    "    channels = 1\n",
    "    photo_shape = (photo_rows, photo_cols, channels)\n",
    "\n",
    "    optimizer = Adam(0.0002, 0.5)\n",
    "\n",
    "\n",
    "    ### TEST ENVIRONMENT\n",
    "    model = Sequential()\n",
    "    model.add(Conv2D(16, kernel_size=3, strides=2, input_shape=photo_shape, padding=\"same\"))\n",
    "    model.add(LeakyReLU(alpha=0.2))\n",
    "    model.add(Dropout(0.25))\n",
    "    model.add(Conv2D(32, kernel_size=3, strides=2, padding=\"same\"))\n",
    "    model.add(ZeroPadding2D(padding=((0,1),(0,1))))\n",
    "    model.add(BatchNormalization(momentum=0.8))\n",
    "    model.add(LeakyReLU(alpha=0.2))\n",
    "    model.add(Dropout(0.25))\n",
    "    model.add(Conv2D(64, kernel_size=3, strides=2, padding=\"same\"))\n",
    "    model.add(BatchNormalization(momentum=0.8))\n",
    "    model.add(LeakyReLU(alpha=0.2))\n",
    "    model.add(Conv2D(128, kernel_size=3, strides=1, padding=\"same\"))\n",
    "    model.add(BatchNormalization(momentum=0.8))\n",
    "    model.add(LeakyReLU(alpha=0.2))\n",
    "    model.add(Dropout(0.25))\n",
    "    model.add(Flatten())\n",
    "    model.add(Dense(1, activation='sigmoid'))\n",
    "    model.compile(loss='binary_crossentropy',\n",
    "                  optimizer=keras.optimizers.Adam(),\n",
    "                  metrics=['accuracy'])\n",
    "    model.summary()\n",
    "\n",
    "    test_datagen = ImageDataGenerator(rescale = 1./255)\n",
    "    test_set = test_datagen.flow_from_directory(testfile,\n",
    "    target_size = (photo_rows, photo_cols),\n",
    "    batch_size = 18,\n",
    "    color_mode = \"grayscale\",\n",
    "    class_mode = 'binary')\n",
    "\n",
    "    train_datagen = ImageDataGenerator(rescale = 1./255)\n",
    "    training_set = train_datagen.flow_from_directory(trainfile,\n",
    "    target_size = (photo_rows, photo_cols),\n",
    "    batch_size = 18,\n",
    "    color_mode = \"grayscale\",\n",
    "    class_mode = 'binary')\n",
    "\n",
    "    # Train the model, iterating on the data in batches\n",
    "\n",
    "    model.fit_generator(generator=training_set,\n",
    "                        steps_per_epoch=8712/18,\n",
    "                        validation_data=test_set,\n",
    "                        validation_steps=2880/18,\n",
    "                        epochs=30\n",
    "    )\n",
    "\n",
    "    \n",
    "aerial_dcn('Fltest','FLcounties')    \n",
    "#if __name__ == \"__main__\":\n",
    "    \n",
    "    "
   ]
  },
  {
   "cell_type": "code",
   "execution_count": 127,
   "metadata": {},
   "outputs": [
    {
     "data": {
      "text/plain": [
       "[0.9017213050276041, 0.4951388962566853]"
      ]
     },
     "execution_count": 127,
     "metadata": {},
     "output_type": "execute_result"
    }
   ],
   "source": [
    "model.evaluate_generator(generator=test_set,steps = 2880/18\n",
    ")"
   ]
  },
  {
   "cell_type": "code",
   "execution_count": null,
   "metadata": {},
   "outputs": [],
   "source": []
  }
 ],
 "metadata": {
  "kernelspec": {
   "display_name": "Python 3",
   "language": "python",
   "name": "python3"
  },
  "language_info": {
   "codemirror_mode": {
    "name": "ipython",
    "version": 3
   },
   "file_extension": ".py",
   "mimetype": "text/x-python",
   "name": "python",
   "nbconvert_exporter": "python",
   "pygments_lexer": "ipython3",
   "version": "3.7.2"
  }
 },
 "nbformat": 4,
 "nbformat_minor": 2
}
