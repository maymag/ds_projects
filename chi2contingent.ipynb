{
 "cells": [
  {
   "cell_type": "code",
   "execution_count": 154,
   "metadata": {},
   "outputs": [],
   "source": [
    "from datetime import datetime\n",
    "import numpy as np\n",
    "import pandas as pd\n",
    "import seaborn as sns\n",
    "import matplotlib.pylab as plt\n",
    "%matplotlib inline\n",
    "from scipy import stats"
   ]
  },
  {
   "cell_type": "markdown",
   "metadata": {},
   "source": [
    "Columns (1,14) have mixed types."
   ]
  },
  {
   "cell_type": "code",
   "execution_count": 155,
   "metadata": {},
   "outputs": [],
   "source": [
    "fires = pd.read_csv('Historical_DOB_Permit_Issuance(1).csv', low_memory = False)"
   ]
  },
  {
   "cell_type": "code",
   "execution_count": 156,
   "metadata": {},
   "outputs": [
    {
     "data": {
      "text/plain": [
       "(2428526, 60)"
      ]
     },
     "execution_count": 156,
     "metadata": {},
     "output_type": "execute_result"
    }
   ],
   "source": [
    "fires.shape"
   ]
  },
  {
   "cell_type": "markdown",
   "metadata": {},
   "source": [
    "What fraction of all construction permits in this data set correspond to renewed permits? The filing type is recorded under column 'Filing Status'. For first-time permits the value in this column is 'INITIAL' and for renewed permits it is 'RENEWAL'."
   ]
  },
  {
   "cell_type": "code",
   "execution_count": 157,
   "metadata": {},
   "outputs": [
    {
     "name": "stdout",
     "output_type": "stream",
     "text": [
      "['BOROUGH', 'BIN', 'Number', 'Street', 'Job #', 'Job doc. #', 'Job Type', 'Self_Cert', 'Block', 'Lot', 'Community Board', 'Postcode', 'Bldg Type', 'Residential', 'Special District 1', 'Special District 2', 'Work Type', 'Permit Status', 'Filing Status', 'Permit Type', 'Permit Sequence #', 'Permit Subtype', 'Oil Gas', 'Site Fill', 'Filing Date', 'Issuance Date', 'Expiration Date', 'Job Start Date', \"Permittee's First Name\", \"Permittee's Last Name\", \"Permittee's Business Name\", \"Permittee's Phone #\", \"Permittee's License Type\", \"Permittee's License #\", 'Act as Superintendent', \"Permittee's Other Title\", 'HIC License', \"Site Safety Mgr's First Name\", \"Site Safety Mgr's Last Name\", 'Site Safety Mgr Business Name', 'Superintendent First & Last Name', 'Superintendent Business Name', \"Owner's Business Type\", 'Non-Profit', \"Owner's Business Name\", \"Owner's First Name\", \"Owner's Last Name\", \"Owner's House #\", \"Owner's House Street Name\", 'Owner’s House City', 'Owner’s House State', 'Owner’s House Zip Code', \"Owner's Phone #\", 'DOBRunDate', 'Latitude', 'Longitude', 'Council District', 'Census Tract', 'BBL', 'NTA']\n"
     ]
    }
   ],
   "source": [
    "#Exploring the columns\n",
    "print(list(fires.columns))"
   ]
  },
  {
   "cell_type": "code",
   "execution_count": 158,
   "metadata": {},
   "outputs": [
    {
     "data": {
      "text/plain": [
       "INITIAL    1851583\n",
       "RENEWAL     576943\n",
       "Name: Filing Status, dtype: int64"
      ]
     },
     "execution_count": 158,
     "metadata": {},
     "output_type": "execute_result"
    }
   ],
   "source": [
    "fires['Filing Status'].value_counts()"
   ]
  },
  {
   "cell_type": "code",
   "execution_count": 159,
   "metadata": {},
   "outputs": [],
   "source": [
    "total=sum(fires['Filing Status'].value_counts())"
   ]
  },
  {
   "cell_type": "code",
   "execution_count": 160,
   "metadata": {},
   "outputs": [],
   "source": [
    "renewal=fires['Filing Status'].value_counts()[1]\n"
   ]
  },
  {
   "cell_type": "code",
   "execution_count": 161,
   "metadata": {},
   "outputs": [
    {
     "data": {
      "text/plain": [
       "0.23756920864755"
      ]
     },
     "execution_count": 161,
     "metadata": {},
     "output_type": "execute_result"
    }
   ],
   "source": [
    "renewal/total"
   ]
  },
  {
   "cell_type": "code",
   "execution_count": 162,
   "metadata": {},
   "outputs": [],
   "source": [
    "renewals=pd.DataFrame(fires[fires['Filing Status']=='RENEWAL']).reset_index(drop=True)"
   ]
  },
  {
   "cell_type": "code",
   "execution_count": 163,
   "metadata": {},
   "outputs": [
    {
     "data": {
      "text/plain": [
       "CORPORATION           186449\n",
       "INDIVIDUAL            172545\n",
       "PARTNERSHIP           110741\n",
       "OTHER                  51612\n",
       "OTHER GOV'T AGENCY      9614\n",
       "CONDO/CO-OP             6405\n",
       "NYCHA                   2596\n",
       "HPD                      848\n",
       "DCAS                     333\n",
       "NY STATE                 287\n",
       "HHC                      279\n",
       "DOE                      220\n",
       "NYC AGENCY                28\n",
       "NYCHA/HHC                  5\n",
       "Name: Owner's Business Type, dtype: int64"
      ]
     },
     "execution_count": 163,
     "metadata": {},
     "output_type": "execute_result"
    }
   ],
   "source": [
    "renewals[\"Owner's Business Type\"].value_counts()"
   ]
  },
  {
   "cell_type": "markdown",
   "metadata": {},
   "source": [
    "186449:172545"
   ]
  },
  {
   "cell_type": "code",
   "execution_count": 164,
   "metadata": {},
   "outputs": [
    {
     "data": {
      "text/plain": [
       "1.0805818771914573"
      ]
     },
     "execution_count": 164,
     "metadata": {},
     "output_type": "execute_result"
    }
   ],
   "source": [
    "186449/172545"
   ]
  },
  {
   "cell_type": "markdown",
   "metadata": {},
   "source": [
    "Consider only those permits that were issued for more than 365 days. The date on which a permit was issued is recorded in column 'Issuance Date', the date the permit expires is in column 'Expiration Date'. What fraction of these at least year-long permits were issued in the borough with the highest number of such permits? The borough where the construction will take place is in column 'BOROUGH'."
   ]
  },
  {
   "cell_type": "code",
   "execution_count": 165,
   "metadata": {},
   "outputs": [
    {
     "data": {
      "text/plain": [
       "0          2010-11-05T00:00:00\n",
       "1          2012-01-30T00:00:00\n",
       "2          2008-02-04T00:00:00\n",
       "3          1998-08-31T00:00:00\n",
       "4          2007-04-30T00:00:00\n",
       "                  ...         \n",
       "2428521    2003-10-08T00:00:00\n",
       "2428522    1997-07-28T00:00:00\n",
       "2428523    1999-07-09T00:00:00\n",
       "2428524    1996-06-25T00:00:00\n",
       "2428525    1999-09-20T00:00:00\n",
       "Name: Issuance Date, Length: 2428526, dtype: object"
      ]
     },
     "execution_count": 165,
     "metadata": {},
     "output_type": "execute_result"
    }
   ],
   "source": [
    "fires['Issuance Date']"
   ]
  },
  {
   "cell_type": "code",
   "execution_count": 166,
   "metadata": {},
   "outputs": [],
   "source": [
    "fires.dropna(subset=['Expiration Date', 'Issuance Date'],inplace=True)"
   ]
  },
  {
   "cell_type": "code",
   "execution_count": 167,
   "metadata": {},
   "outputs": [
    {
     "data": {
      "text/plain": [
       "2428522"
      ]
     },
     "execution_count": 167,
     "metadata": {},
     "output_type": "execute_result"
    }
   ],
   "source": [
    "len(fires)"
   ]
  },
  {
   "cell_type": "code",
   "execution_count": 168,
   "metadata": {},
   "outputs": [],
   "source": [
    "expiration_digital = []\n",
    "for t in fires['Expiration Date']:\n",
    "    try:\n",
    "        expiration_digital.append(datetime.strptime(t,'%Y-%m-%dT00:00:00'))\n",
    "        \n",
    "    except ValueError:\n",
    "        print('val')\n",
    "        expiration_digital.append(np.nan)\n",
    "    except TypeError:\n",
    "        print('type')\n",
    "        expiration_digital.append(np.nan)\n"
   ]
  },
  {
   "cell_type": "code",
   "execution_count": 169,
   "metadata": {},
   "outputs": [],
   "source": [
    "issuance_digital = []\n",
    "for t in fires['Issuance Date']:\n",
    "    try:\n",
    "        issuance_digital.append(datetime.strptime(t,'%Y-%m-%dT00:00:00'))\n",
    "        \n",
    "    except ValueError:\n",
    "        print('val')\n",
    "        issuance_digital.append(np.nan)\n",
    "    except TypeError:\n",
    "        print('type')\n",
    "        issuance_digital.append(np.nan)\n",
    "  "
   ]
  },
  {
   "cell_type": "code",
   "execution_count": 170,
   "metadata": {},
   "outputs": [],
   "source": [
    "fires['expiration_digital']=expiration_digital"
   ]
  },
  {
   "cell_type": "code",
   "execution_count": 171,
   "metadata": {},
   "outputs": [],
   "source": [
    "fires['issuance_digital']=issuance_digital"
   ]
  },
  {
   "cell_type": "code",
   "execution_count": 173,
   "metadata": {},
   "outputs": [],
   "source": [
    "check=fires[['Expiration Date','expiration_digital']]"
   ]
  },
  {
   "cell_type": "code",
   "execution_count": 175,
   "metadata": {},
   "outputs": [
    {
     "data": {
      "text/html": [
       "<div>\n",
       "<style scoped>\n",
       "    .dataframe tbody tr th:only-of-type {\n",
       "        vertical-align: middle;\n",
       "    }\n",
       "\n",
       "    .dataframe tbody tr th {\n",
       "        vertical-align: top;\n",
       "    }\n",
       "\n",
       "    .dataframe thead th {\n",
       "        text-align: right;\n",
       "    }\n",
       "</style>\n",
       "<table border=\"1\" class=\"dataframe\">\n",
       "  <thead>\n",
       "    <tr style=\"text-align: right;\">\n",
       "      <th></th>\n",
       "      <th>Expiration Date</th>\n",
       "      <th>expiration_digital</th>\n",
       "    </tr>\n",
       "  </thead>\n",
       "  <tbody>\n",
       "    <tr>\n",
       "      <th>0</th>\n",
       "      <td>2011-11-05T00:00:00</td>\n",
       "      <td>2011-11-05</td>\n",
       "    </tr>\n",
       "    <tr>\n",
       "      <th>1</th>\n",
       "      <td>2013-01-29T00:00:00</td>\n",
       "      <td>2013-01-29</td>\n",
       "    </tr>\n",
       "    <tr>\n",
       "      <th>2</th>\n",
       "      <td>2009-02-03T00:00:00</td>\n",
       "      <td>2009-02-03</td>\n",
       "    </tr>\n",
       "    <tr>\n",
       "      <th>3</th>\n",
       "      <td>1999-08-31T00:00:00</td>\n",
       "      <td>1999-08-31</td>\n",
       "    </tr>\n",
       "    <tr>\n",
       "      <th>4</th>\n",
       "      <td>2008-01-08T00:00:00</td>\n",
       "      <td>2008-01-08</td>\n",
       "    </tr>\n",
       "  </tbody>\n",
       "</table>\n",
       "</div>"
      ],
      "text/plain": [
       "       Expiration Date expiration_digital\n",
       "0  2011-11-05T00:00:00         2011-11-05\n",
       "1  2013-01-29T00:00:00         2013-01-29\n",
       "2  2009-02-03T00:00:00         2009-02-03\n",
       "3  1999-08-31T00:00:00         1999-08-31\n",
       "4  2008-01-08T00:00:00         2008-01-08"
      ]
     },
     "execution_count": 175,
     "metadata": {},
     "output_type": "execute_result"
    }
   ],
   "source": [
    "check.head()"
   ]
  },
  {
   "cell_type": "code",
   "execution_count": 176,
   "metadata": {},
   "outputs": [],
   "source": [
    "fires['permit_duration']=fires['expiration_digital']-fires['issuance_digital']"
   ]
  },
  {
   "cell_type": "code",
   "execution_count": 177,
   "metadata": {},
   "outputs": [],
   "source": [
    "fires['test']=fires['permit_duration'].apply(lambda x: x.days>365)"
   ]
  },
  {
   "cell_type": "code",
   "execution_count": 178,
   "metadata": {},
   "outputs": [
    {
     "data": {
      "text/plain": [
       "0          False\n",
       "1          False\n",
       "2          False\n",
       "3          False\n",
       "4          False\n",
       "           ...  \n",
       "2428521    False\n",
       "2428522    False\n",
       "2428523    False\n",
       "2428524    False\n",
       "2428525    False\n",
       "Name: test, Length: 2428522, dtype: bool"
      ]
     },
     "execution_count": 178,
     "metadata": {},
     "output_type": "execute_result"
    }
   ],
   "source": [
    "fires['test']"
   ]
  },
  {
   "cell_type": "code",
   "execution_count": 179,
   "metadata": {},
   "outputs": [],
   "source": [
    "long=pd.DataFrame(fires[fires['test']==1]).reset_index(drop=True)"
   ]
  },
  {
   "cell_type": "code",
   "execution_count": 180,
   "metadata": {},
   "outputs": [
    {
     "data": {
      "text/html": [
       "<div>\n",
       "<style scoped>\n",
       "    .dataframe tbody tr th:only-of-type {\n",
       "        vertical-align: middle;\n",
       "    }\n",
       "\n",
       "    .dataframe tbody tr th {\n",
       "        vertical-align: top;\n",
       "    }\n",
       "\n",
       "    .dataframe thead th {\n",
       "        text-align: right;\n",
       "    }\n",
       "</style>\n",
       "<table border=\"1\" class=\"dataframe\">\n",
       "  <thead>\n",
       "    <tr style=\"text-align: right;\">\n",
       "      <th></th>\n",
       "      <th>BOROUGH</th>\n",
       "      <th>BIN</th>\n",
       "      <th>Number</th>\n",
       "      <th>Street</th>\n",
       "      <th>Job #</th>\n",
       "      <th>Job doc. #</th>\n",
       "      <th>Job Type</th>\n",
       "      <th>Self_Cert</th>\n",
       "      <th>Block</th>\n",
       "      <th>Lot</th>\n",
       "      <th>...</th>\n",
       "      <th>Latitude</th>\n",
       "      <th>Longitude</th>\n",
       "      <th>Council District</th>\n",
       "      <th>Census Tract</th>\n",
       "      <th>BBL</th>\n",
       "      <th>NTA</th>\n",
       "      <th>expiration_digital</th>\n",
       "      <th>issuance_digital</th>\n",
       "      <th>permit_duration</th>\n",
       "      <th>test</th>\n",
       "    </tr>\n",
       "  </thead>\n",
       "  <tbody>\n",
       "    <tr>\n",
       "      <th>0</th>\n",
       "      <td>BRONX</td>\n",
       "      <td>2114490</td>\n",
       "      <td>1</td>\n",
       "      <td>EAST  161 STREET</td>\n",
       "      <td>210043825</td>\n",
       "      <td>3</td>\n",
       "      <td>A2</td>\n",
       "      <td>NaN</td>\n",
       "      <td>2493</td>\n",
       "      <td>1</td>\n",
       "      <td>...</td>\n",
       "      <td>40.829035</td>\n",
       "      <td>-73.928497</td>\n",
       "      <td>16.0</td>\n",
       "      <td>63.0</td>\n",
       "      <td>2.024930e+09</td>\n",
       "      <td>West Concourse                                ...</td>\n",
       "      <td>2010-09-06</td>\n",
       "      <td>2008-04-25</td>\n",
       "      <td>864 days</td>\n",
       "      <td>True</td>\n",
       "    </tr>\n",
       "    <tr>\n",
       "      <th>1</th>\n",
       "      <td>BRONX</td>\n",
       "      <td>2014132</td>\n",
       "      <td>2614</td>\n",
       "      <td>JEROME AVENUE</td>\n",
       "      <td>200086922</td>\n",
       "      <td>1</td>\n",
       "      <td>A1</td>\n",
       "      <td>NaN</td>\n",
       "      <td>3191</td>\n",
       "      <td>20</td>\n",
       "      <td>...</td>\n",
       "      <td>40.866834</td>\n",
       "      <td>-73.897884</td>\n",
       "      <td>14.0</td>\n",
       "      <td>401.0</td>\n",
       "      <td>2.031910e+09</td>\n",
       "      <td>Bedford Park-Fordham North                    ...</td>\n",
       "      <td>1992-03-13</td>\n",
       "      <td>1991-03-13</td>\n",
       "      <td>366 days</td>\n",
       "      <td>True</td>\n",
       "    </tr>\n",
       "    <tr>\n",
       "      <th>2</th>\n",
       "      <td>BRONX</td>\n",
       "      <td>2090312</td>\n",
       "      <td>3469</td>\n",
       "      <td>EAST TREMONT AVENUE</td>\n",
       "      <td>200111681</td>\n",
       "      <td>1</td>\n",
       "      <td>SG</td>\n",
       "      <td>NaN</td>\n",
       "      <td>5419</td>\n",
       "      <td>55</td>\n",
       "      <td>...</td>\n",
       "      <td>40.831884</td>\n",
       "      <td>-73.827266</td>\n",
       "      <td>13.0</td>\n",
       "      <td>164.0</td>\n",
       "      <td>2.054190e+09</td>\n",
       "      <td>Schuylerville-Throgs Neck-Edgewater Park      ...</td>\n",
       "      <td>1992-05-23</td>\n",
       "      <td>1991-05-23</td>\n",
       "      <td>366 days</td>\n",
       "      <td>True</td>\n",
       "    </tr>\n",
       "    <tr>\n",
       "      <th>3</th>\n",
       "      <td>BRONX</td>\n",
       "      <td>2095398</td>\n",
       "      <td>120</td>\n",
       "      <td>BELLAMY LOOP</td>\n",
       "      <td>200717947</td>\n",
       "      <td>2</td>\n",
       "      <td>A2</td>\n",
       "      <td>NaN</td>\n",
       "      <td>5141</td>\n",
       "      <td>120</td>\n",
       "      <td>...</td>\n",
       "      <td>40.872875</td>\n",
       "      <td>-73.826433</td>\n",
       "      <td>12.0</td>\n",
       "      <td>46201.0</td>\n",
       "      <td>2.051410e+09</td>\n",
       "      <td>Co-op City                                    ...</td>\n",
       "      <td>2004-12-31</td>\n",
       "      <td>2003-12-29</td>\n",
       "      <td>368 days</td>\n",
       "      <td>True</td>\n",
       "    </tr>\n",
       "    <tr>\n",
       "      <th>4</th>\n",
       "      <td>BRONX</td>\n",
       "      <td>2114490</td>\n",
       "      <td>1</td>\n",
       "      <td>EAST  161 STREET</td>\n",
       "      <td>210041701</td>\n",
       "      <td>2</td>\n",
       "      <td>A2</td>\n",
       "      <td>NaN</td>\n",
       "      <td>2493</td>\n",
       "      <td>1</td>\n",
       "      <td>...</td>\n",
       "      <td>40.829035</td>\n",
       "      <td>-73.928497</td>\n",
       "      <td>16.0</td>\n",
       "      <td>63.0</td>\n",
       "      <td>2.024930e+09</td>\n",
       "      <td>West Concourse                                ...</td>\n",
       "      <td>2010-09-06</td>\n",
       "      <td>2008-04-17</td>\n",
       "      <td>872 days</td>\n",
       "      <td>True</td>\n",
       "    </tr>\n",
       "    <tr>\n",
       "      <th>5</th>\n",
       "      <td>BRONX</td>\n",
       "      <td>2009815</td>\n",
       "      <td>1394</td>\n",
       "      <td>CROTONA AVENUE</td>\n",
       "      <td>200232195</td>\n",
       "      <td>2</td>\n",
       "      <td>A1</td>\n",
       "      <td>NaN</td>\n",
       "      <td>2937</td>\n",
       "      <td>7</td>\n",
       "      <td>...</td>\n",
       "      <td>40.833395</td>\n",
       "      <td>-73.898058</td>\n",
       "      <td>16.0</td>\n",
       "      <td>151.0</td>\n",
       "      <td>2.029370e+09</td>\n",
       "      <td>Morrisania-Melrose                            ...</td>\n",
       "      <td>1995-11-19</td>\n",
       "      <td>1993-11-19</td>\n",
       "      <td>730 days</td>\n",
       "      <td>True</td>\n",
       "    </tr>\n",
       "    <tr>\n",
       "      <th>6</th>\n",
       "      <td>BRONX</td>\n",
       "      <td>2096807</td>\n",
       "      <td>100</td>\n",
       "      <td>CASALS PLACE</td>\n",
       "      <td>200717956</td>\n",
       "      <td>2</td>\n",
       "      <td>A2</td>\n",
       "      <td>NaN</td>\n",
       "      <td>5141</td>\n",
       "      <td>120</td>\n",
       "      <td>...</td>\n",
       "      <td>40.878457</td>\n",
       "      <td>-73.824162</td>\n",
       "      <td>12.0</td>\n",
       "      <td>46201.0</td>\n",
       "      <td>2.051410e+09</td>\n",
       "      <td>Co-op City                                    ...</td>\n",
       "      <td>2004-12-31</td>\n",
       "      <td>2003-12-29</td>\n",
       "      <td>368 days</td>\n",
       "      <td>True</td>\n",
       "    </tr>\n",
       "    <tr>\n",
       "      <th>7</th>\n",
       "      <td>BRONX</td>\n",
       "      <td>2008180</td>\n",
       "      <td>1723</td>\n",
       "      <td>TOWNSEND AVENUE</td>\n",
       "      <td>200259371</td>\n",
       "      <td>2</td>\n",
       "      <td>A1</td>\n",
       "      <td>NaN</td>\n",
       "      <td>2849</td>\n",
       "      <td>28</td>\n",
       "      <td>...</td>\n",
       "      <td>40.846738</td>\n",
       "      <td>-73.911899</td>\n",
       "      <td>14.0</td>\n",
       "      <td>22701.0</td>\n",
       "      <td>2.028490e+09</td>\n",
       "      <td>Mount Hope                                    ...</td>\n",
       "      <td>1995-11-22</td>\n",
       "      <td>1993-11-22</td>\n",
       "      <td>730 days</td>\n",
       "      <td>True</td>\n",
       "    </tr>\n",
       "    <tr>\n",
       "      <th>8</th>\n",
       "      <td>BRONX</td>\n",
       "      <td>2101839</td>\n",
       "      <td>308</td>\n",
       "      <td>OLMSTEAD AVENUE</td>\n",
       "      <td>200603622</td>\n",
       "      <td>3</td>\n",
       "      <td>NB</td>\n",
       "      <td>NaN</td>\n",
       "      <td>3483</td>\n",
       "      <td>85</td>\n",
       "      <td>...</td>\n",
       "      <td>40.814234</td>\n",
       "      <td>-73.850043</td>\n",
       "      <td>18.0</td>\n",
       "      <td>4.0</td>\n",
       "      <td>2.034830e+09</td>\n",
       "      <td>Soundview-Castle Hill-Clason Point-Harding Par...</td>\n",
       "      <td>2003-11-19</td>\n",
       "      <td>2002-11-13</td>\n",
       "      <td>371 days</td>\n",
       "      <td>True</td>\n",
       "    </tr>\n",
       "    <tr>\n",
       "      <th>9</th>\n",
       "      <td>BRONX</td>\n",
       "      <td>2059979</td>\n",
       "      <td>3433</td>\n",
       "      <td>BOSTON ROAD</td>\n",
       "      <td>200483529</td>\n",
       "      <td>2</td>\n",
       "      <td>A2</td>\n",
       "      <td>NaN</td>\n",
       "      <td>4713</td>\n",
       "      <td>40</td>\n",
       "      <td>...</td>\n",
       "      <td>40.876052</td>\n",
       "      <td>-73.849404</td>\n",
       "      <td>12.0</td>\n",
       "      <td>386.0</td>\n",
       "      <td>2.047130e+09</td>\n",
       "      <td>Eastchester-Edenwald-Baychester               ...</td>\n",
       "      <td>2000-01-28</td>\n",
       "      <td>1998-08-14</td>\n",
       "      <td>532 days</td>\n",
       "      <td>True</td>\n",
       "    </tr>\n",
       "    <tr>\n",
       "      <th>10</th>\n",
       "      <td>BRONX</td>\n",
       "      <td>2009816</td>\n",
       "      <td>670</td>\n",
       "      <td>EAST  170 STREET</td>\n",
       "      <td>200232391</td>\n",
       "      <td>2</td>\n",
       "      <td>A1</td>\n",
       "      <td>NaN</td>\n",
       "      <td>2937</td>\n",
       "      <td>8</td>\n",
       "      <td>...</td>\n",
       "      <td>40.833607</td>\n",
       "      <td>-73.897895</td>\n",
       "      <td>16.0</td>\n",
       "      <td>151.0</td>\n",
       "      <td>2.029370e+09</td>\n",
       "      <td>Morrisania-Melrose                            ...</td>\n",
       "      <td>1996-12-06</td>\n",
       "      <td>1994-12-06</td>\n",
       "      <td>731 days</td>\n",
       "      <td>True</td>\n",
       "    </tr>\n",
       "    <tr>\n",
       "      <th>11</th>\n",
       "      <td>BRONX</td>\n",
       "      <td>2019332</td>\n",
       "      <td>4217</td>\n",
       "      <td>VIREO AVENUE</td>\n",
       "      <td>200232382</td>\n",
       "      <td>2</td>\n",
       "      <td>A2</td>\n",
       "      <td>NaN</td>\n",
       "      <td>3382</td>\n",
       "      <td>60</td>\n",
       "      <td>...</td>\n",
       "      <td>40.896324</td>\n",
       "      <td>-73.864702</td>\n",
       "      <td>11.0</td>\n",
       "      <td>45101.0</td>\n",
       "      <td>2.033820e+09</td>\n",
       "      <td>Woodlawn-Wakefield                            ...</td>\n",
       "      <td>1994-04-01</td>\n",
       "      <td>1993-03-29</td>\n",
       "      <td>368 days</td>\n",
       "      <td>True</td>\n",
       "    </tr>\n",
       "    <tr>\n",
       "      <th>12</th>\n",
       "      <td>BRONX</td>\n",
       "      <td>2000133</td>\n",
       "      <td>560</td>\n",
       "      <td>BROOK AVENUE</td>\n",
       "      <td>200133462</td>\n",
       "      <td>3</td>\n",
       "      <td>NB</td>\n",
       "      <td>NaN</td>\n",
       "      <td>2276</td>\n",
       "      <td>1</td>\n",
       "      <td>...</td>\n",
       "      <td>40.815878</td>\n",
       "      <td>-73.914404</td>\n",
       "      <td>17.0</td>\n",
       "      <td>71.0</td>\n",
       "      <td>2.022760e+09</td>\n",
       "      <td>Melrose South-Mott Haven North                ...</td>\n",
       "      <td>1998-03-11</td>\n",
       "      <td>1994-10-06</td>\n",
       "      <td>1252 days</td>\n",
       "      <td>True</td>\n",
       "    </tr>\n",
       "    <tr>\n",
       "      <th>13</th>\n",
       "      <td>BRONX</td>\n",
       "      <td>2046602</td>\n",
       "      <td>3049</td>\n",
       "      <td>BUHRE AVENUE</td>\n",
       "      <td>200979637</td>\n",
       "      <td>3</td>\n",
       "      <td>A2</td>\n",
       "      <td>Y</td>\n",
       "      <td>4196</td>\n",
       "      <td>7</td>\n",
       "      <td>...</td>\n",
       "      <td>40.847512</td>\n",
       "      <td>-73.830934</td>\n",
       "      <td>13.0</td>\n",
       "      <td>26602.0</td>\n",
       "      <td>2.041960e+09</td>\n",
       "      <td>Pelham Bay-Country Club-City Island           ...</td>\n",
       "      <td>2007-01-12</td>\n",
       "      <td>2005-09-29</td>\n",
       "      <td>470 days</td>\n",
       "      <td>True</td>\n",
       "    </tr>\n",
       "    <tr>\n",
       "      <th>14</th>\n",
       "      <td>BRONX</td>\n",
       "      <td>2018083</td>\n",
       "      <td>3316</td>\n",
       "      <td>ROCHAMBEAU AVENUE</td>\n",
       "      <td>200302797</td>\n",
       "      <td>2</td>\n",
       "      <td>A2</td>\n",
       "      <td>NaN</td>\n",
       "      <td>3338</td>\n",
       "      <td>17</td>\n",
       "      <td>...</td>\n",
       "      <td>40.878477</td>\n",
       "      <td>-73.880357</td>\n",
       "      <td>11.0</td>\n",
       "      <td>419.0</td>\n",
       "      <td>2.033380e+09</td>\n",
       "      <td>Norwood                                       ...</td>\n",
       "      <td>1997-02-08</td>\n",
       "      <td>1995-02-08</td>\n",
       "      <td>731 days</td>\n",
       "      <td>True</td>\n",
       "    </tr>\n",
       "    <tr>\n",
       "      <th>15</th>\n",
       "      <td>BRONX</td>\n",
       "      <td>2002475</td>\n",
       "      <td>225</td>\n",
       "      <td>EAST  163 STREET</td>\n",
       "      <td>200264374</td>\n",
       "      <td>1</td>\n",
       "      <td>A2</td>\n",
       "      <td>NaN</td>\n",
       "      <td>2446</td>\n",
       "      <td>1</td>\n",
       "      <td>...</td>\n",
       "      <td>40.827761</td>\n",
       "      <td>-73.919107</td>\n",
       "      <td>16.0</td>\n",
       "      <td>18302.0</td>\n",
       "      <td>2.024460e+09</td>\n",
       "      <td>East Concourse-Concourse Village              ...</td>\n",
       "      <td>1996-01-13</td>\n",
       "      <td>1994-01-13</td>\n",
       "      <td>730 days</td>\n",
       "      <td>True</td>\n",
       "    </tr>\n",
       "    <tr>\n",
       "      <th>16</th>\n",
       "      <td>BRONX</td>\n",
       "      <td>2028138</td>\n",
       "      <td>1461</td>\n",
       "      <td>ROSEDALE AVENUE</td>\n",
       "      <td>200327583</td>\n",
       "      <td>1</td>\n",
       "      <td>NB</td>\n",
       "      <td>NaN</td>\n",
       "      <td>3895</td>\n",
       "      <td>68</td>\n",
       "      <td>...</td>\n",
       "      <td>40.836949</td>\n",
       "      <td>-73.870009</td>\n",
       "      <td>18.0</td>\n",
       "      <td>218.0</td>\n",
       "      <td>2.038950e+09</td>\n",
       "      <td>West Farms-Bronx River                        ...</td>\n",
       "      <td>1996-07-06</td>\n",
       "      <td>1995-07-06</td>\n",
       "      <td>366 days</td>\n",
       "      <td>True</td>\n",
       "    </tr>\n",
       "    <tr>\n",
       "      <th>17</th>\n",
       "      <td>BRONX</td>\n",
       "      <td>2093862</td>\n",
       "      <td>100</td>\n",
       "      <td>ERDMAN PLACE</td>\n",
       "      <td>200718447</td>\n",
       "      <td>2</td>\n",
       "      <td>A2</td>\n",
       "      <td>NaN</td>\n",
       "      <td>5135</td>\n",
       "      <td>51</td>\n",
       "      <td>...</td>\n",
       "      <td>40.864015</td>\n",
       "      <td>-73.822678</td>\n",
       "      <td>12.0</td>\n",
       "      <td>302.0</td>\n",
       "      <td>2.051350e+09</td>\n",
       "      <td>Co-op City                                    ...</td>\n",
       "      <td>2004-12-31</td>\n",
       "      <td>2003-12-29</td>\n",
       "      <td>368 days</td>\n",
       "      <td>True</td>\n",
       "    </tr>\n",
       "    <tr>\n",
       "      <th>18</th>\n",
       "      <td>BRONX</td>\n",
       "      <td>2086259</td>\n",
       "      <td>711</td>\n",
       "      <td>LADD ROAD</td>\n",
       "      <td>201082979</td>\n",
       "      <td>1</td>\n",
       "      <td>A1</td>\n",
       "      <td>NaN</td>\n",
       "      <td>5947</td>\n",
       "      <td>59</td>\n",
       "      <td>...</td>\n",
       "      <td>40.904845</td>\n",
       "      <td>-73.910617</td>\n",
       "      <td>11.0</td>\n",
       "      <td>323.0</td>\n",
       "      <td>2.059470e+09</td>\n",
       "      <td>North Riverdale-Fieldston-Riverdale           ...</td>\n",
       "      <td>2008-04-18</td>\n",
       "      <td>2007-04-17</td>\n",
       "      <td>367 days</td>\n",
       "      <td>True</td>\n",
       "    </tr>\n",
       "    <tr>\n",
       "      <th>19</th>\n",
       "      <td>BRONX</td>\n",
       "      <td>2004807</td>\n",
       "      <td>900</td>\n",
       "      <td>TINTON AVENUE</td>\n",
       "      <td>200196929</td>\n",
       "      <td>5</td>\n",
       "      <td>A1</td>\n",
       "      <td>Y</td>\n",
       "      <td>2668</td>\n",
       "      <td>1</td>\n",
       "      <td>...</td>\n",
       "      <td>40.821675</td>\n",
       "      <td>-73.903546</td>\n",
       "      <td>17.0</td>\n",
       "      <td>133.0</td>\n",
       "      <td>2.026680e+09</td>\n",
       "      <td>Morrisania-Melrose                            ...</td>\n",
       "      <td>1997-05-01</td>\n",
       "      <td>1995-01-18</td>\n",
       "      <td>834 days</td>\n",
       "      <td>True</td>\n",
       "    </tr>\n",
       "    <tr>\n",
       "      <th>20</th>\n",
       "      <td>BRONX</td>\n",
       "      <td>2094766</td>\n",
       "      <td>170</td>\n",
       "      <td>EAST GUN HILL ROAD</td>\n",
       "      <td>200910185</td>\n",
       "      <td>2</td>\n",
       "      <td>A2</td>\n",
       "      <td>NaN</td>\n",
       "      <td>3343</td>\n",
       "      <td>283</td>\n",
       "      <td>...</td>\n",
       "      <td>40.880931</td>\n",
       "      <td>-73.878200</td>\n",
       "      <td>11.0</td>\n",
       "      <td>421.0</td>\n",
       "      <td>2.033430e+09</td>\n",
       "      <td>Norwood                                       ...</td>\n",
       "      <td>2007-11-01</td>\n",
       "      <td>2006-10-26</td>\n",
       "      <td>371 days</td>\n",
       "      <td>True</td>\n",
       "    </tr>\n",
       "    <tr>\n",
       "      <th>21</th>\n",
       "      <td>BRONX</td>\n",
       "      <td>2813577</td>\n",
       "      <td>897</td>\n",
       "      <td>PROSPECT AVENUE</td>\n",
       "      <td>200275273</td>\n",
       "      <td>1</td>\n",
       "      <td>NB</td>\n",
       "      <td>NaN</td>\n",
       "      <td>2677</td>\n",
       "      <td>163</td>\n",
       "      <td>...</td>\n",
       "      <td>40.821162</td>\n",
       "      <td>-73.901018</td>\n",
       "      <td>17.0</td>\n",
       "      <td>133.0</td>\n",
       "      <td>2.026778e+09</td>\n",
       "      <td>Morrisania-Melrose                            ...</td>\n",
       "      <td>1996-06-16</td>\n",
       "      <td>1994-06-16</td>\n",
       "      <td>731 days</td>\n",
       "      <td>True</td>\n",
       "    </tr>\n",
       "    <tr>\n",
       "      <th>22</th>\n",
       "      <td>BRONX</td>\n",
       "      <td>2101923</td>\n",
       "      <td>869</td>\n",
       "      <td>HORNADAY PLACE</td>\n",
       "      <td>200362035</td>\n",
       "      <td>1</td>\n",
       "      <td>NB</td>\n",
       "      <td>NaN</td>\n",
       "      <td>3124</td>\n",
       "      <td>150</td>\n",
       "      <td>...</td>\n",
       "      <td>40.846514</td>\n",
       "      <td>-73.882167</td>\n",
       "      <td>15.0</td>\n",
       "      <td>363.0</td>\n",
       "      <td>2.031240e+09</td>\n",
       "      <td>East Tremont                                  ...</td>\n",
       "      <td>1999-12-01</td>\n",
       "      <td>1997-12-03</td>\n",
       "      <td>728 days</td>\n",
       "      <td>True</td>\n",
       "    </tr>\n",
       "    <tr>\n",
       "      <th>23</th>\n",
       "      <td>BRONX</td>\n",
       "      <td>2087071</td>\n",
       "      <td>1555</td>\n",
       "      <td>PURDY STREET</td>\n",
       "      <td>200360769</td>\n",
       "      <td>1</td>\n",
       "      <td>A1</td>\n",
       "      <td>NaN</td>\n",
       "      <td>3947</td>\n",
       "      <td>55</td>\n",
       "      <td>...</td>\n",
       "      <td>40.837830</td>\n",
       "      <td>-73.853528</td>\n",
       "      <td>18.0</td>\n",
       "      <td>21002.0</td>\n",
       "      <td>2.039470e+09</td>\n",
       "      <td>Parkchester                                   ...</td>\n",
       "      <td>1997-06-29</td>\n",
       "      <td>1996-06-21</td>\n",
       "      <td>373 days</td>\n",
       "      <td>True</td>\n",
       "    </tr>\n",
       "    <tr>\n",
       "      <th>24</th>\n",
       "      <td>BRONX</td>\n",
       "      <td>2096571</td>\n",
       "      <td>525</td>\n",
       "      <td>E 156 ST</td>\n",
       "      <td>200108267</td>\n",
       "      <td>1</td>\n",
       "      <td>NB</td>\n",
       "      <td>NaN</td>\n",
       "      <td>2360</td>\n",
       "      <td>7501</td>\n",
       "      <td>...</td>\n",
       "      <td>40.819334</td>\n",
       "      <td>-73.910887</td>\n",
       "      <td>17.0</td>\n",
       "      <td>71.0</td>\n",
       "      <td>2.023608e+09</td>\n",
       "      <td>Melrose South-Mott Haven North                ...</td>\n",
       "      <td>1994-03-10</td>\n",
       "      <td>1993-02-23</td>\n",
       "      <td>380 days</td>\n",
       "      <td>True</td>\n",
       "    </tr>\n",
       "    <tr>\n",
       "      <th>25</th>\n",
       "      <td>BRONX</td>\n",
       "      <td>2010522</td>\n",
       "      <td>1678</td>\n",
       "      <td>BOSTON ROAD</td>\n",
       "      <td>201071213</td>\n",
       "      <td>1</td>\n",
       "      <td>A3</td>\n",
       "      <td>NaN</td>\n",
       "      <td>2978</td>\n",
       "      <td>182</td>\n",
       "      <td>...</td>\n",
       "      <td>40.836461</td>\n",
       "      <td>-73.889272</td>\n",
       "      <td>17.0</td>\n",
       "      <td>155.0</td>\n",
       "      <td>2.029780e+09</td>\n",
       "      <td>Crotona Park East                             ...</td>\n",
       "      <td>2007-10-01</td>\n",
       "      <td>2006-08-29</td>\n",
       "      <td>398 days</td>\n",
       "      <td>True</td>\n",
       "    </tr>\n",
       "    <tr>\n",
       "      <th>26</th>\n",
       "      <td>BRONX</td>\n",
       "      <td>2114887</td>\n",
       "      <td>597</td>\n",
       "      <td>TINTON AVENUE</td>\n",
       "      <td>201111484</td>\n",
       "      <td>1</td>\n",
       "      <td>A3</td>\n",
       "      <td>Y</td>\n",
       "      <td>2653</td>\n",
       "      <td>48</td>\n",
       "      <td>...</td>\n",
       "      <td>40.813937</td>\n",
       "      <td>-73.905891</td>\n",
       "      <td>8.0</td>\n",
       "      <td>79.0</td>\n",
       "      <td>2.026530e+09</td>\n",
       "      <td>Melrose South-Mott Haven North                ...</td>\n",
       "      <td>2009-01-01</td>\n",
       "      <td>2007-03-16</td>\n",
       "      <td>657 days</td>\n",
       "      <td>True</td>\n",
       "    </tr>\n",
       "    <tr>\n",
       "      <th>27</th>\n",
       "      <td>BRONX</td>\n",
       "      <td>2099878</td>\n",
       "      <td>145</td>\n",
       "      <td>WEST TREMONT AVENUE</td>\n",
       "      <td>200076096</td>\n",
       "      <td>1</td>\n",
       "      <td>NB</td>\n",
       "      <td>NaN</td>\n",
       "      <td>2868</td>\n",
       "      <td>79</td>\n",
       "      <td>...</td>\n",
       "      <td>40.850135</td>\n",
       "      <td>-73.914681</td>\n",
       "      <td>14.0</td>\n",
       "      <td>243.0</td>\n",
       "      <td>2.028680e+09</td>\n",
       "      <td>University Heights-Morris Heights             ...</td>\n",
       "      <td>1997-11-01</td>\n",
       "      <td>1996-10-30</td>\n",
       "      <td>367 days</td>\n",
       "      <td>True</td>\n",
       "    </tr>\n",
       "    <tr>\n",
       "      <th>28</th>\n",
       "      <td>BRONX</td>\n",
       "      <td>2063864</td>\n",
       "      <td>832</td>\n",
       "      <td>EAST  225 STREET</td>\n",
       "      <td>200105457</td>\n",
       "      <td>1</td>\n",
       "      <td>A1</td>\n",
       "      <td>NaN</td>\n",
       "      <td>4849</td>\n",
       "      <td>60</td>\n",
       "      <td>...</td>\n",
       "      <td>40.886538</td>\n",
       "      <td>-73.856509</td>\n",
       "      <td>12.0</td>\n",
       "      <td>406.0</td>\n",
       "      <td>2.048490e+09</td>\n",
       "      <td>Williamsbridge-Olinville                      ...</td>\n",
       "      <td>1992-12-30</td>\n",
       "      <td>1991-12-30</td>\n",
       "      <td>366 days</td>\n",
       "      <td>True</td>\n",
       "    </tr>\n",
       "    <tr>\n",
       "      <th>29</th>\n",
       "      <td>BRONX</td>\n",
       "      <td>2075823</td>\n",
       "      <td>1522</td>\n",
       "      <td>KENNELLWORTH PLACE</td>\n",
       "      <td>200978665</td>\n",
       "      <td>1</td>\n",
       "      <td>A2</td>\n",
       "      <td>Y</td>\n",
       "      <td>5412</td>\n",
       "      <td>66</td>\n",
       "      <td>...</td>\n",
       "      <td>40.844845</td>\n",
       "      <td>-73.822209</td>\n",
       "      <td>13.0</td>\n",
       "      <td>27401.0</td>\n",
       "      <td>2.054120e+09</td>\n",
       "      <td>Pelham Bay-Country Club-City Island           ...</td>\n",
       "      <td>2007-06-29</td>\n",
       "      <td>2005-07-19</td>\n",
       "      <td>710 days</td>\n",
       "      <td>True</td>\n",
       "    </tr>\n",
       "    <tr>\n",
       "      <th>30</th>\n",
       "      <td>BRONX</td>\n",
       "      <td>2099150</td>\n",
       "      <td>1979</td>\n",
       "      <td>PROSPECT AVENUE</td>\n",
       "      <td>200228137</td>\n",
       "      <td>1</td>\n",
       "      <td>NB</td>\n",
       "      <td>NaN</td>\n",
       "      <td>3093</td>\n",
       "      <td>144</td>\n",
       "      <td>...</td>\n",
       "      <td>40.844780</td>\n",
       "      <td>-73.888676</td>\n",
       "      <td>17.0</td>\n",
       "      <td>371.0</td>\n",
       "      <td>2.030930e+09</td>\n",
       "      <td>East Tremont                                  ...</td>\n",
       "      <td>1996-05-03</td>\n",
       "      <td>1994-05-03</td>\n",
       "      <td>731 days</td>\n",
       "      <td>True</td>\n",
       "    </tr>\n",
       "    <tr>\n",
       "      <th>31</th>\n",
       "      <td>BRONX</td>\n",
       "      <td>2831322</td>\n",
       "      <td>1313C</td>\n",
       "      <td>CLAY AVENUE</td>\n",
       "      <td>201104713</td>\n",
       "      <td>1</td>\n",
       "      <td>A1</td>\n",
       "      <td>Y</td>\n",
       "      <td>2782</td>\n",
       "      <td>137</td>\n",
       "      <td>...</td>\n",
       "      <td>40.835142</td>\n",
       "      <td>-73.909052</td>\n",
       "      <td>16.0</td>\n",
       "      <td>17702.0</td>\n",
       "      <td>2.027820e+09</td>\n",
       "      <td>East Concourse-Concourse Village              ...</td>\n",
       "      <td>2010-12-30</td>\n",
       "      <td>2009-12-24</td>\n",
       "      <td>371 days</td>\n",
       "      <td>True</td>\n",
       "    </tr>\n",
       "    <tr>\n",
       "      <th>32</th>\n",
       "      <td>BRONX</td>\n",
       "      <td>2001229</td>\n",
       "      <td>3251</td>\n",
       "      <td>THIRD AVENUE</td>\n",
       "      <td>200994585</td>\n",
       "      <td>1</td>\n",
       "      <td>A2</td>\n",
       "      <td>Y</td>\n",
       "      <td>2368</td>\n",
       "      <td>43</td>\n",
       "      <td>...</td>\n",
       "      <td>40.824113</td>\n",
       "      <td>-73.908699</td>\n",
       "      <td>17.0</td>\n",
       "      <td>185.0</td>\n",
       "      <td>2.023680e+09</td>\n",
       "      <td>Morrisania-Melrose                            ...</td>\n",
       "      <td>2007-04-26</td>\n",
       "      <td>2005-09-09</td>\n",
       "      <td>594 days</td>\n",
       "      <td>True</td>\n",
       "    </tr>\n",
       "    <tr>\n",
       "      <th>33</th>\n",
       "      <td>BRONX</td>\n",
       "      <td>2016481</td>\n",
       "      <td>2665</td>\n",
       "      <td>DECATUR AVENUE</td>\n",
       "      <td>200029469</td>\n",
       "      <td>1</td>\n",
       "      <td>A2</td>\n",
       "      <td>NaN</td>\n",
       "      <td>3282</td>\n",
       "      <td>46</td>\n",
       "      <td>...</td>\n",
       "      <td>40.864167</td>\n",
       "      <td>-73.889489</td>\n",
       "      <td>15.0</td>\n",
       "      <td>40502.0</td>\n",
       "      <td>2.032820e+09</td>\n",
       "      <td>Bedford Park-Fordham North                    ...</td>\n",
       "      <td>1992-04-08</td>\n",
       "      <td>1991-03-26</td>\n",
       "      <td>379 days</td>\n",
       "      <td>True</td>\n",
       "    </tr>\n",
       "    <tr>\n",
       "      <th>34</th>\n",
       "      <td>BRONX</td>\n",
       "      <td>2114111</td>\n",
       "      <td>1791</td>\n",
       "      <td>WALTON AVENUE</td>\n",
       "      <td>200947128</td>\n",
       "      <td>1</td>\n",
       "      <td>A2</td>\n",
       "      <td>NaN</td>\n",
       "      <td>2850</td>\n",
       "      <td>52</td>\n",
       "      <td>...</td>\n",
       "      <td>40.848015</td>\n",
       "      <td>-73.909931</td>\n",
       "      <td>14.0</td>\n",
       "      <td>22701.0</td>\n",
       "      <td>2.028500e+09</td>\n",
       "      <td>Mount Hope                                    ...</td>\n",
       "      <td>2006-06-12</td>\n",
       "      <td>2005-05-11</td>\n",
       "      <td>397 days</td>\n",
       "      <td>True</td>\n",
       "    </tr>\n",
       "    <tr>\n",
       "      <th>35</th>\n",
       "      <td>BRONX</td>\n",
       "      <td>2074864</td>\n",
       "      <td>3014</td>\n",
       "      <td>MIDDLETOWN ROAD</td>\n",
       "      <td>200239036</td>\n",
       "      <td>1</td>\n",
       "      <td>A2</td>\n",
       "      <td>NaN</td>\n",
       "      <td>5400</td>\n",
       "      <td>53</td>\n",
       "      <td>...</td>\n",
       "      <td>40.844049</td>\n",
       "      <td>-73.829765</td>\n",
       "      <td>13.0</td>\n",
       "      <td>264.0</td>\n",
       "      <td>2.054000e+09</td>\n",
       "      <td>Schuylerville-Throgs Neck-Edgewater Park      ...</td>\n",
       "      <td>1996-06-21</td>\n",
       "      <td>1994-06-21</td>\n",
       "      <td>731 days</td>\n",
       "      <td>True</td>\n",
       "    </tr>\n",
       "    <tr>\n",
       "      <th>36</th>\n",
       "      <td>BRONX</td>\n",
       "      <td>2099398</td>\n",
       "      <td>458</td>\n",
       "      <td>EAST  141 STREET</td>\n",
       "      <td>200281284</td>\n",
       "      <td>2</td>\n",
       "      <td>NB</td>\n",
       "      <td>NaN</td>\n",
       "      <td>2285</td>\n",
       "      <td>130</td>\n",
       "      <td>...</td>\n",
       "      <td>40.810203</td>\n",
       "      <td>-73.919551</td>\n",
       "      <td>8.0</td>\n",
       "      <td>39.0</td>\n",
       "      <td>2.022850e+09</td>\n",
       "      <td>Mott Haven-Port Morris                        ...</td>\n",
       "      <td>1997-03-13</td>\n",
       "      <td>1995-03-13</td>\n",
       "      <td>731 days</td>\n",
       "      <td>True</td>\n",
       "    </tr>\n",
       "    <tr>\n",
       "      <th>37</th>\n",
       "      <td>BRONX</td>\n",
       "      <td>2065697</td>\n",
       "      <td>1229</td>\n",
       "      <td>EAST  222 STREET</td>\n",
       "      <td>201122686</td>\n",
       "      <td>1</td>\n",
       "      <td>A3</td>\n",
       "      <td>NaN</td>\n",
       "      <td>4897</td>\n",
       "      <td>27</td>\n",
       "      <td>...</td>\n",
       "      <td>40.880490</td>\n",
       "      <td>-73.846487</td>\n",
       "      <td>12.0</td>\n",
       "      <td>386.0</td>\n",
       "      <td>2.048970e+09</td>\n",
       "      <td>Eastchester-Edenwald-Baychester               ...</td>\n",
       "      <td>2008-10-01</td>\n",
       "      <td>2007-08-15</td>\n",
       "      <td>413 days</td>\n",
       "      <td>True</td>\n",
       "    </tr>\n",
       "    <tr>\n",
       "      <th>38</th>\n",
       "      <td>BRONX</td>\n",
       "      <td>2100781</td>\n",
       "      <td>2126</td>\n",
       "      <td>AQUEDUCT AVENUE</td>\n",
       "      <td>200163937</td>\n",
       "      <td>1</td>\n",
       "      <td>NB</td>\n",
       "      <td>NaN</td>\n",
       "      <td>3210</td>\n",
       "      <td>86</td>\n",
       "      <td>...</td>\n",
       "      <td>40.856636</td>\n",
       "      <td>-73.909308</td>\n",
       "      <td>14.0</td>\n",
       "      <td>251.0</td>\n",
       "      <td>2.032100e+09</td>\n",
       "      <td>University Heights-Morris Heights             ...</td>\n",
       "      <td>1993-12-16</td>\n",
       "      <td>1992-11-24</td>\n",
       "      <td>387 days</td>\n",
       "      <td>True</td>\n",
       "    </tr>\n",
       "    <tr>\n",
       "      <th>39</th>\n",
       "      <td>BRONX</td>\n",
       "      <td>2001147</td>\n",
       "      <td>15</td>\n",
       "      <td>MAJOR DEEGAN EXPRESSWAY</td>\n",
       "      <td>210050594</td>\n",
       "      <td>3</td>\n",
       "      <td>A2</td>\n",
       "      <td>NaN</td>\n",
       "      <td>2356</td>\n",
       "      <td>20</td>\n",
       "      <td>...</td>\n",
       "      <td>NaN</td>\n",
       "      <td>NaN</td>\n",
       "      <td>NaN</td>\n",
       "      <td>NaN</td>\n",
       "      <td>NaN</td>\n",
       "      <td>NaN</td>\n",
       "      <td>2010-05-01</td>\n",
       "      <td>2009-04-28</td>\n",
       "      <td>368 days</td>\n",
       "      <td>True</td>\n",
       "    </tr>\n",
       "  </tbody>\n",
       "</table>\n",
       "<p>40 rows × 64 columns</p>\n",
       "</div>"
      ],
      "text/plain": [
       "   BOROUGH      BIN Number                   Street      Job #  Job doc. #  \\\n",
       "0    BRONX  2114490      1         EAST  161 STREET  210043825           3   \n",
       "1    BRONX  2014132   2614            JEROME AVENUE  200086922           1   \n",
       "2    BRONX  2090312   3469      EAST TREMONT AVENUE  200111681           1   \n",
       "3    BRONX  2095398    120             BELLAMY LOOP  200717947           2   \n",
       "4    BRONX  2114490      1         EAST  161 STREET  210041701           2   \n",
       "5    BRONX  2009815   1394           CROTONA AVENUE  200232195           2   \n",
       "6    BRONX  2096807    100             CASALS PLACE  200717956           2   \n",
       "7    BRONX  2008180   1723          TOWNSEND AVENUE  200259371           2   \n",
       "8    BRONX  2101839    308          OLMSTEAD AVENUE  200603622           3   \n",
       "9    BRONX  2059979   3433              BOSTON ROAD  200483529           2   \n",
       "10   BRONX  2009816    670         EAST  170 STREET  200232391           2   \n",
       "11   BRONX  2019332   4217             VIREO AVENUE  200232382           2   \n",
       "12   BRONX  2000133    560             BROOK AVENUE  200133462           3   \n",
       "13   BRONX  2046602   3049             BUHRE AVENUE  200979637           3   \n",
       "14   BRONX  2018083   3316        ROCHAMBEAU AVENUE  200302797           2   \n",
       "15   BRONX  2002475    225         EAST  163 STREET  200264374           1   \n",
       "16   BRONX  2028138   1461          ROSEDALE AVENUE  200327583           1   \n",
       "17   BRONX  2093862    100             ERDMAN PLACE  200718447           2   \n",
       "18   BRONX  2086259    711                LADD ROAD  201082979           1   \n",
       "19   BRONX  2004807    900            TINTON AVENUE  200196929           5   \n",
       "20   BRONX  2094766    170       EAST GUN HILL ROAD  200910185           2   \n",
       "21   BRONX  2813577    897          PROSPECT AVENUE  200275273           1   \n",
       "22   BRONX  2101923    869           HORNADAY PLACE  200362035           1   \n",
       "23   BRONX  2087071   1555             PURDY STREET  200360769           1   \n",
       "24   BRONX  2096571    525                 E 156 ST  200108267           1   \n",
       "25   BRONX  2010522   1678              BOSTON ROAD  201071213           1   \n",
       "26   BRONX  2114887    597            TINTON AVENUE  201111484           1   \n",
       "27   BRONX  2099878    145      WEST TREMONT AVENUE  200076096           1   \n",
       "28   BRONX  2063864    832         EAST  225 STREET  200105457           1   \n",
       "29   BRONX  2075823   1522       KENNELLWORTH PLACE  200978665           1   \n",
       "30   BRONX  2099150   1979          PROSPECT AVENUE  200228137           1   \n",
       "31   BRONX  2831322  1313C              CLAY AVENUE  201104713           1   \n",
       "32   BRONX  2001229   3251             THIRD AVENUE  200994585           1   \n",
       "33   BRONX  2016481   2665           DECATUR AVENUE  200029469           1   \n",
       "34   BRONX  2114111   1791            WALTON AVENUE  200947128           1   \n",
       "35   BRONX  2074864   3014          MIDDLETOWN ROAD  200239036           1   \n",
       "36   BRONX  2099398    458         EAST  141 STREET  200281284           2   \n",
       "37   BRONX  2065697   1229         EAST  222 STREET  201122686           1   \n",
       "38   BRONX  2100781   2126          AQUEDUCT AVENUE  200163937           1   \n",
       "39   BRONX  2001147     15  MAJOR DEEGAN EXPRESSWAY  210050594           3   \n",
       "\n",
       "   Job Type Self_Cert Block   Lot  ...   Latitude  Longitude  \\\n",
       "0        A2       NaN  2493     1  ...  40.829035 -73.928497   \n",
       "1        A1       NaN  3191    20  ...  40.866834 -73.897884   \n",
       "2        SG       NaN  5419    55  ...  40.831884 -73.827266   \n",
       "3        A2       NaN  5141   120  ...  40.872875 -73.826433   \n",
       "4        A2       NaN  2493     1  ...  40.829035 -73.928497   \n",
       "5        A1       NaN  2937     7  ...  40.833395 -73.898058   \n",
       "6        A2       NaN  5141   120  ...  40.878457 -73.824162   \n",
       "7        A1       NaN  2849    28  ...  40.846738 -73.911899   \n",
       "8        NB       NaN  3483    85  ...  40.814234 -73.850043   \n",
       "9        A2       NaN  4713    40  ...  40.876052 -73.849404   \n",
       "10       A1       NaN  2937     8  ...  40.833607 -73.897895   \n",
       "11       A2       NaN  3382    60  ...  40.896324 -73.864702   \n",
       "12       NB       NaN  2276     1  ...  40.815878 -73.914404   \n",
       "13       A2         Y  4196     7  ...  40.847512 -73.830934   \n",
       "14       A2       NaN  3338    17  ...  40.878477 -73.880357   \n",
       "15       A2       NaN  2446     1  ...  40.827761 -73.919107   \n",
       "16       NB       NaN  3895    68  ...  40.836949 -73.870009   \n",
       "17       A2       NaN  5135    51  ...  40.864015 -73.822678   \n",
       "18       A1       NaN  5947    59  ...  40.904845 -73.910617   \n",
       "19       A1         Y  2668     1  ...  40.821675 -73.903546   \n",
       "20       A2       NaN  3343   283  ...  40.880931 -73.878200   \n",
       "21       NB       NaN  2677   163  ...  40.821162 -73.901018   \n",
       "22       NB       NaN  3124   150  ...  40.846514 -73.882167   \n",
       "23       A1       NaN  3947    55  ...  40.837830 -73.853528   \n",
       "24       NB       NaN  2360  7501  ...  40.819334 -73.910887   \n",
       "25       A3       NaN  2978   182  ...  40.836461 -73.889272   \n",
       "26       A3         Y  2653    48  ...  40.813937 -73.905891   \n",
       "27       NB       NaN  2868    79  ...  40.850135 -73.914681   \n",
       "28       A1       NaN  4849    60  ...  40.886538 -73.856509   \n",
       "29       A2         Y  5412    66  ...  40.844845 -73.822209   \n",
       "30       NB       NaN  3093   144  ...  40.844780 -73.888676   \n",
       "31       A1         Y  2782   137  ...  40.835142 -73.909052   \n",
       "32       A2         Y  2368    43  ...  40.824113 -73.908699   \n",
       "33       A2       NaN  3282    46  ...  40.864167 -73.889489   \n",
       "34       A2       NaN  2850    52  ...  40.848015 -73.909931   \n",
       "35       A2       NaN  5400    53  ...  40.844049 -73.829765   \n",
       "36       NB       NaN  2285   130  ...  40.810203 -73.919551   \n",
       "37       A3       NaN  4897    27  ...  40.880490 -73.846487   \n",
       "38       NB       NaN  3210    86  ...  40.856636 -73.909308   \n",
       "39       A2       NaN  2356    20  ...        NaN        NaN   \n",
       "\n",
       "    Council District Census Tract           BBL  \\\n",
       "0               16.0         63.0  2.024930e+09   \n",
       "1               14.0        401.0  2.031910e+09   \n",
       "2               13.0        164.0  2.054190e+09   \n",
       "3               12.0      46201.0  2.051410e+09   \n",
       "4               16.0         63.0  2.024930e+09   \n",
       "5               16.0        151.0  2.029370e+09   \n",
       "6               12.0      46201.0  2.051410e+09   \n",
       "7               14.0      22701.0  2.028490e+09   \n",
       "8               18.0          4.0  2.034830e+09   \n",
       "9               12.0        386.0  2.047130e+09   \n",
       "10              16.0        151.0  2.029370e+09   \n",
       "11              11.0      45101.0  2.033820e+09   \n",
       "12              17.0         71.0  2.022760e+09   \n",
       "13              13.0      26602.0  2.041960e+09   \n",
       "14              11.0        419.0  2.033380e+09   \n",
       "15              16.0      18302.0  2.024460e+09   \n",
       "16              18.0        218.0  2.038950e+09   \n",
       "17              12.0        302.0  2.051350e+09   \n",
       "18              11.0        323.0  2.059470e+09   \n",
       "19              17.0        133.0  2.026680e+09   \n",
       "20              11.0        421.0  2.033430e+09   \n",
       "21              17.0        133.0  2.026778e+09   \n",
       "22              15.0        363.0  2.031240e+09   \n",
       "23              18.0      21002.0  2.039470e+09   \n",
       "24              17.0         71.0  2.023608e+09   \n",
       "25              17.0        155.0  2.029780e+09   \n",
       "26               8.0         79.0  2.026530e+09   \n",
       "27              14.0        243.0  2.028680e+09   \n",
       "28              12.0        406.0  2.048490e+09   \n",
       "29              13.0      27401.0  2.054120e+09   \n",
       "30              17.0        371.0  2.030930e+09   \n",
       "31              16.0      17702.0  2.027820e+09   \n",
       "32              17.0        185.0  2.023680e+09   \n",
       "33              15.0      40502.0  2.032820e+09   \n",
       "34              14.0      22701.0  2.028500e+09   \n",
       "35              13.0        264.0  2.054000e+09   \n",
       "36               8.0         39.0  2.022850e+09   \n",
       "37              12.0        386.0  2.048970e+09   \n",
       "38              14.0        251.0  2.032100e+09   \n",
       "39               NaN          NaN           NaN   \n",
       "\n",
       "                                                  NTA expiration_digital  \\\n",
       "0   West Concourse                                ...         2010-09-06   \n",
       "1   Bedford Park-Fordham North                    ...         1992-03-13   \n",
       "2   Schuylerville-Throgs Neck-Edgewater Park      ...         1992-05-23   \n",
       "3   Co-op City                                    ...         2004-12-31   \n",
       "4   West Concourse                                ...         2010-09-06   \n",
       "5   Morrisania-Melrose                            ...         1995-11-19   \n",
       "6   Co-op City                                    ...         2004-12-31   \n",
       "7   Mount Hope                                    ...         1995-11-22   \n",
       "8   Soundview-Castle Hill-Clason Point-Harding Par...         2003-11-19   \n",
       "9   Eastchester-Edenwald-Baychester               ...         2000-01-28   \n",
       "10  Morrisania-Melrose                            ...         1996-12-06   \n",
       "11  Woodlawn-Wakefield                            ...         1994-04-01   \n",
       "12  Melrose South-Mott Haven North                ...         1998-03-11   \n",
       "13  Pelham Bay-Country Club-City Island           ...         2007-01-12   \n",
       "14  Norwood                                       ...         1997-02-08   \n",
       "15  East Concourse-Concourse Village              ...         1996-01-13   \n",
       "16  West Farms-Bronx River                        ...         1996-07-06   \n",
       "17  Co-op City                                    ...         2004-12-31   \n",
       "18  North Riverdale-Fieldston-Riverdale           ...         2008-04-18   \n",
       "19  Morrisania-Melrose                            ...         1997-05-01   \n",
       "20  Norwood                                       ...         2007-11-01   \n",
       "21  Morrisania-Melrose                            ...         1996-06-16   \n",
       "22  East Tremont                                  ...         1999-12-01   \n",
       "23  Parkchester                                   ...         1997-06-29   \n",
       "24  Melrose South-Mott Haven North                ...         1994-03-10   \n",
       "25  Crotona Park East                             ...         2007-10-01   \n",
       "26  Melrose South-Mott Haven North                ...         2009-01-01   \n",
       "27  University Heights-Morris Heights             ...         1997-11-01   \n",
       "28  Williamsbridge-Olinville                      ...         1992-12-30   \n",
       "29  Pelham Bay-Country Club-City Island           ...         2007-06-29   \n",
       "30  East Tremont                                  ...         1996-05-03   \n",
       "31  East Concourse-Concourse Village              ...         2010-12-30   \n",
       "32  Morrisania-Melrose                            ...         2007-04-26   \n",
       "33  Bedford Park-Fordham North                    ...         1992-04-08   \n",
       "34  Mount Hope                                    ...         2006-06-12   \n",
       "35  Schuylerville-Throgs Neck-Edgewater Park      ...         1996-06-21   \n",
       "36  Mott Haven-Port Morris                        ...         1997-03-13   \n",
       "37  Eastchester-Edenwald-Baychester               ...         2008-10-01   \n",
       "38  University Heights-Morris Heights             ...         1993-12-16   \n",
       "39                                                NaN         2010-05-01   \n",
       "\n",
       "   issuance_digital permit_duration  test  \n",
       "0        2008-04-25        864 days  True  \n",
       "1        1991-03-13        366 days  True  \n",
       "2        1991-05-23        366 days  True  \n",
       "3        2003-12-29        368 days  True  \n",
       "4        2008-04-17        872 days  True  \n",
       "5        1993-11-19        730 days  True  \n",
       "6        2003-12-29        368 days  True  \n",
       "7        1993-11-22        730 days  True  \n",
       "8        2002-11-13        371 days  True  \n",
       "9        1998-08-14        532 days  True  \n",
       "10       1994-12-06        731 days  True  \n",
       "11       1993-03-29        368 days  True  \n",
       "12       1994-10-06       1252 days  True  \n",
       "13       2005-09-29        470 days  True  \n",
       "14       1995-02-08        731 days  True  \n",
       "15       1994-01-13        730 days  True  \n",
       "16       1995-07-06        366 days  True  \n",
       "17       2003-12-29        368 days  True  \n",
       "18       2007-04-17        367 days  True  \n",
       "19       1995-01-18        834 days  True  \n",
       "20       2006-10-26        371 days  True  \n",
       "21       1994-06-16        731 days  True  \n",
       "22       1997-12-03        728 days  True  \n",
       "23       1996-06-21        373 days  True  \n",
       "24       1993-02-23        380 days  True  \n",
       "25       2006-08-29        398 days  True  \n",
       "26       2007-03-16        657 days  True  \n",
       "27       1996-10-30        367 days  True  \n",
       "28       1991-12-30        366 days  True  \n",
       "29       2005-07-19        710 days  True  \n",
       "30       1994-05-03        731 days  True  \n",
       "31       2009-12-24        371 days  True  \n",
       "32       2005-09-09        594 days  True  \n",
       "33       1991-03-26        379 days  True  \n",
       "34       2005-05-11        397 days  True  \n",
       "35       1994-06-21        731 days  True  \n",
       "36       1995-03-13        731 days  True  \n",
       "37       2007-08-15        413 days  True  \n",
       "38       1992-11-24        387 days  True  \n",
       "39       2009-04-28        368 days  True  \n",
       "\n",
       "[40 rows x 64 columns]"
      ]
     },
     "execution_count": 180,
     "metadata": {},
     "output_type": "execute_result"
    }
   ],
   "source": [
    "long.head(40)"
   ]
  },
  {
   "cell_type": "code",
   "execution_count": 181,
   "metadata": {},
   "outputs": [
    {
     "data": {
      "text/plain": [
       "MANHATTAN        70177\n",
       "BROOKLYN         33431\n",
       "QUEENS           28535\n",
       "BRONX            12126\n",
       "STATEN ISLAND    11893\n",
       "Name: BOROUGH, dtype: int64"
      ]
     },
     "execution_count": 181,
     "metadata": {},
     "output_type": "execute_result"
    }
   ],
   "source": [
    "long['BOROUGH'].value_counts()"
   ]
  },
  {
   "cell_type": "code",
   "execution_count": 182,
   "metadata": {},
   "outputs": [
    {
     "data": {
      "text/plain": [
       "0.44938589413557717"
      ]
     },
     "execution_count": 182,
     "metadata": {},
     "output_type": "execute_result"
    }
   ],
   "source": [
    "70177/sum(long['BOROUGH'].value_counts())"
   ]
  },
  {
   "cell_type": "markdown",
   "metadata": {},
   "source": [
    "Limit your analysis to permits that were filed in 2010. The column recording the date of permit filing is called 'Filing Date'. For each ZIP code compute the ratio between the number of permits issued in 2010 and number of residents in that ZIP code. Make sure to discard any ZIP codes with population lower than 1000 people. Note: you will need to use both the DOB permits dataset and the US Census dataset. In the DOB permits dataset, the ZIP code is recorded under column 'Postcode'. How many ZIP codes are outliers in terms of number of construction permits per number of people - more specificaly, for how many ZIP codes does this computed ratio exceed the mean by more than twice the standard deviation?"
   ]
  },
  {
   "cell_type": "code",
   "execution_count": 183,
   "metadata": {},
   "outputs": [
    {
     "data": {
      "text/plain": [
       "0          2010-11-05T00:00:00\n",
       "1          2012-01-30T00:00:00\n",
       "2          2008-02-04T00:00:00\n",
       "3          1998-08-31T00:00:00\n",
       "4          2007-04-30T00:00:00\n",
       "                  ...         \n",
       "2428521    2003-10-08T00:00:00\n",
       "2428522    1996-07-29T00:00:00\n",
       "2428523    1999-07-09T00:00:00\n",
       "2428524    1996-06-25T00:00:00\n",
       "2428525    1999-09-20T00:00:00\n",
       "Name: Filing Date, Length: 2428522, dtype: object"
      ]
     },
     "execution_count": 183,
     "metadata": {},
     "output_type": "execute_result"
    }
   ],
   "source": [
    "fires['Filing Date']"
   ]
  },
  {
   "cell_type": "code",
   "execution_count": 184,
   "metadata": {},
   "outputs": [],
   "source": [
    "fires['Filing Year']=fires['Filing Date'].apply(lambda x:str(x).split('-')[0])"
   ]
  },
  {
   "cell_type": "code",
   "execution_count": 185,
   "metadata": {},
   "outputs": [],
   "source": [
    "y2010=pd.DataFrame(fires[fires['Filing Year']=='2010']).reset_index(drop=True)"
   ]
  },
  {
   "cell_type": "code",
   "execution_count": 186,
   "metadata": {},
   "outputs": [],
   "source": [
    "pops = pd.read_csv('2010+Census+Population+By+Zipcode+(ZCTA).csv',dtype=str)"
   ]
  },
  {
   "cell_type": "code",
   "execution_count": 187,
   "metadata": {},
   "outputs": [
    {
     "data": {
      "text/html": [
       "<div>\n",
       "<style scoped>\n",
       "    .dataframe tbody tr th:only-of-type {\n",
       "        vertical-align: middle;\n",
       "    }\n",
       "\n",
       "    .dataframe tbody tr th {\n",
       "        vertical-align: top;\n",
       "    }\n",
       "\n",
       "    .dataframe thead th {\n",
       "        text-align: right;\n",
       "    }\n",
       "</style>\n",
       "<table border=\"1\" class=\"dataframe\">\n",
       "  <thead>\n",
       "    <tr style=\"text-align: right;\">\n",
       "      <th></th>\n",
       "      <th>Zip Code ZCTA</th>\n",
       "      <th>2010 Census Population</th>\n",
       "    </tr>\n",
       "  </thead>\n",
       "  <tbody>\n",
       "    <tr>\n",
       "      <th>0</th>\n",
       "      <td>01001</td>\n",
       "      <td>16769</td>\n",
       "    </tr>\n",
       "    <tr>\n",
       "      <th>1</th>\n",
       "      <td>01002</td>\n",
       "      <td>29049</td>\n",
       "    </tr>\n",
       "    <tr>\n",
       "      <th>2</th>\n",
       "      <td>01003</td>\n",
       "      <td>10372</td>\n",
       "    </tr>\n",
       "    <tr>\n",
       "      <th>3</th>\n",
       "      <td>01005</td>\n",
       "      <td>5079</td>\n",
       "    </tr>\n",
       "    <tr>\n",
       "      <th>4</th>\n",
       "      <td>01007</td>\n",
       "      <td>14649</td>\n",
       "    </tr>\n",
       "  </tbody>\n",
       "</table>\n",
       "</div>"
      ],
      "text/plain": [
       "  Zip Code ZCTA 2010 Census Population\n",
       "0         01001                  16769\n",
       "1         01002                  29049\n",
       "2         01003                  10372\n",
       "3         01005                   5079\n",
       "4         01007                  14649"
      ]
     },
     "execution_count": 187,
     "metadata": {},
     "output_type": "execute_result"
    }
   ],
   "source": [
    "pops.head()"
   ]
  },
  {
   "cell_type": "code",
   "execution_count": 188,
   "metadata": {},
   "outputs": [],
   "source": [
    "y2010grp=y2010.groupby(['Postcode'])['BOROUGH'].count().reset_index()"
   ]
  },
  {
   "cell_type": "code",
   "execution_count": 189,
   "metadata": {},
   "outputs": [],
   "source": [
    "y2010grp['Postcode']=y2010grp['Postcode'].apply(lambda x: str(int(x)))"
   ]
  },
  {
   "cell_type": "code",
   "execution_count": 191,
   "metadata": {},
   "outputs": [
    {
     "data": {
      "text/html": [
       "<div>\n",
       "<style scoped>\n",
       "    .dataframe tbody tr th:only-of-type {\n",
       "        vertical-align: middle;\n",
       "    }\n",
       "\n",
       "    .dataframe tbody tr th {\n",
       "        vertical-align: top;\n",
       "    }\n",
       "\n",
       "    .dataframe thead th {\n",
       "        text-align: right;\n",
       "    }\n",
       "</style>\n",
       "<table border=\"1\" class=\"dataframe\">\n",
       "  <thead>\n",
       "    <tr style=\"text-align: right;\">\n",
       "      <th></th>\n",
       "      <th>Postcode</th>\n",
       "      <th>PermitCount</th>\n",
       "    </tr>\n",
       "  </thead>\n",
       "  <tbody>\n",
       "    <tr>\n",
       "      <th>0</th>\n",
       "      <td>0</td>\n",
       "      <td>1</td>\n",
       "    </tr>\n",
       "    <tr>\n",
       "      <th>1</th>\n",
       "      <td>10000</td>\n",
       "      <td>14</td>\n",
       "    </tr>\n",
       "    <tr>\n",
       "      <th>2</th>\n",
       "      <td>10001</td>\n",
       "      <td>1956</td>\n",
       "    </tr>\n",
       "    <tr>\n",
       "      <th>3</th>\n",
       "      <td>10002</td>\n",
       "      <td>1564</td>\n",
       "    </tr>\n",
       "    <tr>\n",
       "      <th>4</th>\n",
       "      <td>10003</td>\n",
       "      <td>2949</td>\n",
       "    </tr>\n",
       "  </tbody>\n",
       "</table>\n",
       "</div>"
      ],
      "text/plain": [
       "  Postcode  PermitCount\n",
       "0        0            1\n",
       "1    10000           14\n",
       "2    10001         1956\n",
       "3    10002         1564\n",
       "4    10003         2949"
      ]
     },
     "execution_count": 191,
     "metadata": {},
     "output_type": "execute_result"
    }
   ],
   "source": [
    "y2010grp.head()"
   ]
  },
  {
   "cell_type": "code",
   "execution_count": 192,
   "metadata": {},
   "outputs": [],
   "source": [
    "y2010grp.columns=['Postcode','PermitCount']"
   ]
  },
  {
   "cell_type": "code",
   "execution_count": 193,
   "metadata": {},
   "outputs": [],
   "source": [
    "y2010merge = y2010grp.astype(str).merge(pops,left_on='Postcode',right_on='Zip Code ZCTA',how='left')"
   ]
  },
  {
   "cell_type": "code",
   "execution_count": 194,
   "metadata": {},
   "outputs": [],
   "source": [
    "y2010merge.dropna(inplace=True)"
   ]
  },
  {
   "cell_type": "code",
   "execution_count": 195,
   "metadata": {},
   "outputs": [],
   "source": [
    "y2010merge=pd.DataFrame(y2010merge[y2010merge['2010 Census Population'].astype(int)>=1000]).reset_index(drop=True)"
   ]
  },
  {
   "cell_type": "code",
   "execution_count": 196,
   "metadata": {},
   "outputs": [],
   "source": [
    "y2010merge['ratio']=(y2010merge['PermitCount'].astype(int))/(y2010merge['2010 Census Population'].astype(int))"
   ]
  },
  {
   "cell_type": "code",
   "execution_count": 197,
   "metadata": {},
   "outputs": [
    {
     "data": {
      "text/html": [
       "<div>\n",
       "<style scoped>\n",
       "    .dataframe tbody tr th:only-of-type {\n",
       "        vertical-align: middle;\n",
       "    }\n",
       "\n",
       "    .dataframe tbody tr th {\n",
       "        vertical-align: top;\n",
       "    }\n",
       "\n",
       "    .dataframe thead th {\n",
       "        text-align: right;\n",
       "    }\n",
       "</style>\n",
       "<table border=\"1\" class=\"dataframe\">\n",
       "  <thead>\n",
       "    <tr style=\"text-align: right;\">\n",
       "      <th></th>\n",
       "      <th>Postcode</th>\n",
       "      <th>PermitCount</th>\n",
       "      <th>Zip Code ZCTA</th>\n",
       "      <th>2010 Census Population</th>\n",
       "      <th>ratio</th>\n",
       "    </tr>\n",
       "  </thead>\n",
       "  <tbody>\n",
       "    <tr>\n",
       "      <th>0</th>\n",
       "      <td>10001</td>\n",
       "      <td>1956</td>\n",
       "      <td>10001</td>\n",
       "      <td>21102</td>\n",
       "      <td>0.092693</td>\n",
       "    </tr>\n",
       "    <tr>\n",
       "      <th>1</th>\n",
       "      <td>10002</td>\n",
       "      <td>1564</td>\n",
       "      <td>10002</td>\n",
       "      <td>81410</td>\n",
       "      <td>0.019211</td>\n",
       "    </tr>\n",
       "    <tr>\n",
       "      <th>2</th>\n",
       "      <td>10003</td>\n",
       "      <td>2949</td>\n",
       "      <td>10003</td>\n",
       "      <td>56024</td>\n",
       "      <td>0.052638</td>\n",
       "    </tr>\n",
       "    <tr>\n",
       "      <th>3</th>\n",
       "      <td>10004</td>\n",
       "      <td>464</td>\n",
       "      <td>10004</td>\n",
       "      <td>3089</td>\n",
       "      <td>0.150210</td>\n",
       "    </tr>\n",
       "    <tr>\n",
       "      <th>4</th>\n",
       "      <td>10005</td>\n",
       "      <td>467</td>\n",
       "      <td>10005</td>\n",
       "      <td>7135</td>\n",
       "      <td>0.065452</td>\n",
       "    </tr>\n",
       "  </tbody>\n",
       "</table>\n",
       "</div>"
      ],
      "text/plain": [
       "  Postcode PermitCount Zip Code ZCTA 2010 Census Population     ratio\n",
       "0    10001        1956         10001                  21102  0.092693\n",
       "1    10002        1564         10002                  81410  0.019211\n",
       "2    10003        2949         10003                  56024  0.052638\n",
       "3    10004         464         10004                   3089  0.150210\n",
       "4    10005         467         10005                   7135  0.065452"
      ]
     },
     "execution_count": 197,
     "metadata": {},
     "output_type": "execute_result"
    }
   ],
   "source": [
    "y2010merge.head()"
   ]
  },
  {
   "cell_type": "code",
   "execution_count": 198,
   "metadata": {},
   "outputs": [],
   "source": [
    "means=np.mean(y2010merge['ratio'])"
   ]
  },
  {
   "cell_type": "code",
   "execution_count": 199,
   "metadata": {},
   "outputs": [],
   "source": [
    "std=np.std(y2010merge['ratio'])"
   ]
  },
  {
   "cell_type": "code",
   "execution_count": 200,
   "metadata": {},
   "outputs": [],
   "source": [
    "y2010merge['mean']=means"
   ]
  },
  {
   "cell_type": "code",
   "execution_count": 201,
   "metadata": {},
   "outputs": [],
   "source": [
    "y2010merge['std']=std"
   ]
  },
  {
   "cell_type": "code",
   "execution_count": 202,
   "metadata": {},
   "outputs": [
    {
     "data": {
      "text/html": [
       "<div>\n",
       "<style scoped>\n",
       "    .dataframe tbody tr th:only-of-type {\n",
       "        vertical-align: middle;\n",
       "    }\n",
       "\n",
       "    .dataframe tbody tr th {\n",
       "        vertical-align: top;\n",
       "    }\n",
       "\n",
       "    .dataframe thead th {\n",
       "        text-align: right;\n",
       "    }\n",
       "</style>\n",
       "<table border=\"1\" class=\"dataframe\">\n",
       "  <thead>\n",
       "    <tr style=\"text-align: right;\">\n",
       "      <th></th>\n",
       "      <th>Postcode</th>\n",
       "      <th>PermitCount</th>\n",
       "      <th>Zip Code ZCTA</th>\n",
       "      <th>2010 Census Population</th>\n",
       "      <th>ratio</th>\n",
       "      <th>mean</th>\n",
       "      <th>std</th>\n",
       "    </tr>\n",
       "  </thead>\n",
       "  <tbody>\n",
       "    <tr>\n",
       "      <th>0</th>\n",
       "      <td>10001</td>\n",
       "      <td>1956</td>\n",
       "      <td>10001</td>\n",
       "      <td>21102</td>\n",
       "      <td>0.092693</td>\n",
       "      <td>0.022365</td>\n",
       "      <td>0.032695</td>\n",
       "    </tr>\n",
       "    <tr>\n",
       "      <th>1</th>\n",
       "      <td>10002</td>\n",
       "      <td>1564</td>\n",
       "      <td>10002</td>\n",
       "      <td>81410</td>\n",
       "      <td>0.019211</td>\n",
       "      <td>0.022365</td>\n",
       "      <td>0.032695</td>\n",
       "    </tr>\n",
       "    <tr>\n",
       "      <th>2</th>\n",
       "      <td>10003</td>\n",
       "      <td>2949</td>\n",
       "      <td>10003</td>\n",
       "      <td>56024</td>\n",
       "      <td>0.052638</td>\n",
       "      <td>0.022365</td>\n",
       "      <td>0.032695</td>\n",
       "    </tr>\n",
       "    <tr>\n",
       "      <th>3</th>\n",
       "      <td>10004</td>\n",
       "      <td>464</td>\n",
       "      <td>10004</td>\n",
       "      <td>3089</td>\n",
       "      <td>0.150210</td>\n",
       "      <td>0.022365</td>\n",
       "      <td>0.032695</td>\n",
       "    </tr>\n",
       "    <tr>\n",
       "      <th>4</th>\n",
       "      <td>10005</td>\n",
       "      <td>467</td>\n",
       "      <td>10005</td>\n",
       "      <td>7135</td>\n",
       "      <td>0.065452</td>\n",
       "      <td>0.022365</td>\n",
       "      <td>0.032695</td>\n",
       "    </tr>\n",
       "  </tbody>\n",
       "</table>\n",
       "</div>"
      ],
      "text/plain": [
       "  Postcode PermitCount Zip Code ZCTA 2010 Census Population     ratio  \\\n",
       "0    10001        1956         10001                  21102  0.092693   \n",
       "1    10002        1564         10002                  81410  0.019211   \n",
       "2    10003        2949         10003                  56024  0.052638   \n",
       "3    10004         464         10004                   3089  0.150210   \n",
       "4    10005         467         10005                   7135  0.065452   \n",
       "\n",
       "       mean       std  \n",
       "0  0.022365  0.032695  \n",
       "1  0.022365  0.032695  \n",
       "2  0.022365  0.032695  \n",
       "3  0.022365  0.032695  \n",
       "4  0.022365  0.032695  "
      ]
     },
     "execution_count": 202,
     "metadata": {},
     "output_type": "execute_result"
    }
   ],
   "source": [
    "y2010merge.head()"
   ]
  },
  {
   "cell_type": "code",
   "execution_count": 203,
   "metadata": {},
   "outputs": [],
   "source": [
    "y2010merge['outlier']=(abs(y2010merge['ratio']-y2010merge['mean'])/y2010merge['std'])>2"
   ]
  },
  {
   "cell_type": "code",
   "execution_count": 204,
   "metadata": {},
   "outputs": [
    {
     "data": {
      "text/html": [
       "<div>\n",
       "<style scoped>\n",
       "    .dataframe tbody tr th:only-of-type {\n",
       "        vertical-align: middle;\n",
       "    }\n",
       "\n",
       "    .dataframe tbody tr th {\n",
       "        vertical-align: top;\n",
       "    }\n",
       "\n",
       "    .dataframe thead th {\n",
       "        text-align: right;\n",
       "    }\n",
       "</style>\n",
       "<table border=\"1\" class=\"dataframe\">\n",
       "  <thead>\n",
       "    <tr style=\"text-align: right;\">\n",
       "      <th></th>\n",
       "      <th>Postcode</th>\n",
       "      <th>PermitCount</th>\n",
       "      <th>Zip Code ZCTA</th>\n",
       "      <th>2010 Census Population</th>\n",
       "      <th>ratio</th>\n",
       "      <th>mean</th>\n",
       "      <th>std</th>\n",
       "      <th>outlier</th>\n",
       "    </tr>\n",
       "  </thead>\n",
       "  <tbody>\n",
       "    <tr>\n",
       "      <th>0</th>\n",
       "      <td>10001</td>\n",
       "      <td>1956</td>\n",
       "      <td>10001</td>\n",
       "      <td>21102</td>\n",
       "      <td>0.092693</td>\n",
       "      <td>0.022365</td>\n",
       "      <td>0.032695</td>\n",
       "      <td>True</td>\n",
       "    </tr>\n",
       "    <tr>\n",
       "      <th>1</th>\n",
       "      <td>10002</td>\n",
       "      <td>1564</td>\n",
       "      <td>10002</td>\n",
       "      <td>81410</td>\n",
       "      <td>0.019211</td>\n",
       "      <td>0.022365</td>\n",
       "      <td>0.032695</td>\n",
       "      <td>False</td>\n",
       "    </tr>\n",
       "    <tr>\n",
       "      <th>2</th>\n",
       "      <td>10003</td>\n",
       "      <td>2949</td>\n",
       "      <td>10003</td>\n",
       "      <td>56024</td>\n",
       "      <td>0.052638</td>\n",
       "      <td>0.022365</td>\n",
       "      <td>0.032695</td>\n",
       "      <td>False</td>\n",
       "    </tr>\n",
       "    <tr>\n",
       "      <th>3</th>\n",
       "      <td>10004</td>\n",
       "      <td>464</td>\n",
       "      <td>10004</td>\n",
       "      <td>3089</td>\n",
       "      <td>0.150210</td>\n",
       "      <td>0.022365</td>\n",
       "      <td>0.032695</td>\n",
       "      <td>True</td>\n",
       "    </tr>\n",
       "    <tr>\n",
       "      <th>4</th>\n",
       "      <td>10005</td>\n",
       "      <td>467</td>\n",
       "      <td>10005</td>\n",
       "      <td>7135</td>\n",
       "      <td>0.065452</td>\n",
       "      <td>0.022365</td>\n",
       "      <td>0.032695</td>\n",
       "      <td>False</td>\n",
       "    </tr>\n",
       "    <tr>\n",
       "      <th>5</th>\n",
       "      <td>10006</td>\n",
       "      <td>295</td>\n",
       "      <td>10006</td>\n",
       "      <td>3011</td>\n",
       "      <td>0.097974</td>\n",
       "      <td>0.022365</td>\n",
       "      <td>0.032695</td>\n",
       "      <td>True</td>\n",
       "    </tr>\n",
       "    <tr>\n",
       "      <th>6</th>\n",
       "      <td>10007</td>\n",
       "      <td>779</td>\n",
       "      <td>10007</td>\n",
       "      <td>6988</td>\n",
       "      <td>0.111477</td>\n",
       "      <td>0.022365</td>\n",
       "      <td>0.032695</td>\n",
       "      <td>True</td>\n",
       "    </tr>\n",
       "    <tr>\n",
       "      <th>7</th>\n",
       "      <td>10009</td>\n",
       "      <td>1307</td>\n",
       "      <td>10009</td>\n",
       "      <td>61347</td>\n",
       "      <td>0.021305</td>\n",
       "      <td>0.022365</td>\n",
       "      <td>0.032695</td>\n",
       "      <td>False</td>\n",
       "    </tr>\n",
       "    <tr>\n",
       "      <th>8</th>\n",
       "      <td>10010</td>\n",
       "      <td>1527</td>\n",
       "      <td>10010</td>\n",
       "      <td>31834</td>\n",
       "      <td>0.047968</td>\n",
       "      <td>0.022365</td>\n",
       "      <td>0.032695</td>\n",
       "      <td>False</td>\n",
       "    </tr>\n",
       "    <tr>\n",
       "      <th>9</th>\n",
       "      <td>10011</td>\n",
       "      <td>2826</td>\n",
       "      <td>10011</td>\n",
       "      <td>50984</td>\n",
       "      <td>0.055429</td>\n",
       "      <td>0.022365</td>\n",
       "      <td>0.032695</td>\n",
       "      <td>False</td>\n",
       "    </tr>\n",
       "    <tr>\n",
       "      <th>10</th>\n",
       "      <td>10012</td>\n",
       "      <td>1949</td>\n",
       "      <td>10012</td>\n",
       "      <td>24090</td>\n",
       "      <td>0.080905</td>\n",
       "      <td>0.022365</td>\n",
       "      <td>0.032695</td>\n",
       "      <td>False</td>\n",
       "    </tr>\n",
       "    <tr>\n",
       "      <th>11</th>\n",
       "      <td>10013</td>\n",
       "      <td>3037</td>\n",
       "      <td>10013</td>\n",
       "      <td>27700</td>\n",
       "      <td>0.109639</td>\n",
       "      <td>0.022365</td>\n",
       "      <td>0.032695</td>\n",
       "      <td>True</td>\n",
       "    </tr>\n",
       "    <tr>\n",
       "      <th>12</th>\n",
       "      <td>10014</td>\n",
       "      <td>2094</td>\n",
       "      <td>10014</td>\n",
       "      <td>31959</td>\n",
       "      <td>0.065521</td>\n",
       "      <td>0.022365</td>\n",
       "      <td>0.032695</td>\n",
       "      <td>False</td>\n",
       "    </tr>\n",
       "    <tr>\n",
       "      <th>13</th>\n",
       "      <td>10016</td>\n",
       "      <td>2157</td>\n",
       "      <td>10016</td>\n",
       "      <td>54183</td>\n",
       "      <td>0.039810</td>\n",
       "      <td>0.022365</td>\n",
       "      <td>0.032695</td>\n",
       "      <td>False</td>\n",
       "    </tr>\n",
       "    <tr>\n",
       "      <th>14</th>\n",
       "      <td>10017</td>\n",
       "      <td>2001</td>\n",
       "      <td>10017</td>\n",
       "      <td>16575</td>\n",
       "      <td>0.120724</td>\n",
       "      <td>0.022365</td>\n",
       "      <td>0.032695</td>\n",
       "      <td>True</td>\n",
       "    </tr>\n",
       "    <tr>\n",
       "      <th>15</th>\n",
       "      <td>10018</td>\n",
       "      <td>1701</td>\n",
       "      <td>10018</td>\n",
       "      <td>5229</td>\n",
       "      <td>0.325301</td>\n",
       "      <td>0.022365</td>\n",
       "      <td>0.032695</td>\n",
       "      <td>True</td>\n",
       "    </tr>\n",
       "    <tr>\n",
       "      <th>16</th>\n",
       "      <td>10019</td>\n",
       "      <td>2790</td>\n",
       "      <td>10019</td>\n",
       "      <td>42870</td>\n",
       "      <td>0.065080</td>\n",
       "      <td>0.022365</td>\n",
       "      <td>0.032695</td>\n",
       "      <td>False</td>\n",
       "    </tr>\n",
       "    <tr>\n",
       "      <th>17</th>\n",
       "      <td>10021</td>\n",
       "      <td>1865</td>\n",
       "      <td>10021</td>\n",
       "      <td>43631</td>\n",
       "      <td>0.042745</td>\n",
       "      <td>0.022365</td>\n",
       "      <td>0.032695</td>\n",
       "      <td>False</td>\n",
       "    </tr>\n",
       "    <tr>\n",
       "      <th>18</th>\n",
       "      <td>10022</td>\n",
       "      <td>3295</td>\n",
       "      <td>10022</td>\n",
       "      <td>31924</td>\n",
       "      <td>0.103214</td>\n",
       "      <td>0.022365</td>\n",
       "      <td>0.032695</td>\n",
       "      <td>True</td>\n",
       "    </tr>\n",
       "    <tr>\n",
       "      <th>19</th>\n",
       "      <td>10023</td>\n",
       "      <td>2081</td>\n",
       "      <td>10023</td>\n",
       "      <td>60998</td>\n",
       "      <td>0.034116</td>\n",
       "      <td>0.022365</td>\n",
       "      <td>0.032695</td>\n",
       "      <td>False</td>\n",
       "    </tr>\n",
       "    <tr>\n",
       "      <th>20</th>\n",
       "      <td>10024</td>\n",
       "      <td>1751</td>\n",
       "      <td>10024</td>\n",
       "      <td>59283</td>\n",
       "      <td>0.029536</td>\n",
       "      <td>0.022365</td>\n",
       "      <td>0.032695</td>\n",
       "      <td>False</td>\n",
       "    </tr>\n",
       "    <tr>\n",
       "      <th>21</th>\n",
       "      <td>10025</td>\n",
       "      <td>1811</td>\n",
       "      <td>10025</td>\n",
       "      <td>94600</td>\n",
       "      <td>0.019144</td>\n",
       "      <td>0.022365</td>\n",
       "      <td>0.032695</td>\n",
       "      <td>False</td>\n",
       "    </tr>\n",
       "    <tr>\n",
       "      <th>22</th>\n",
       "      <td>10026</td>\n",
       "      <td>491</td>\n",
       "      <td>10026</td>\n",
       "      <td>34003</td>\n",
       "      <td>0.014440</td>\n",
       "      <td>0.022365</td>\n",
       "      <td>0.032695</td>\n",
       "      <td>False</td>\n",
       "    </tr>\n",
       "    <tr>\n",
       "      <th>23</th>\n",
       "      <td>10027</td>\n",
       "      <td>1386</td>\n",
       "      <td>10027</td>\n",
       "      <td>59707</td>\n",
       "      <td>0.023213</td>\n",
       "      <td>0.022365</td>\n",
       "      <td>0.032695</td>\n",
       "      <td>False</td>\n",
       "    </tr>\n",
       "    <tr>\n",
       "      <th>24</th>\n",
       "      <td>10028</td>\n",
       "      <td>1551</td>\n",
       "      <td>10028</td>\n",
       "      <td>45141</td>\n",
       "      <td>0.034359</td>\n",
       "      <td>0.022365</td>\n",
       "      <td>0.032695</td>\n",
       "      <td>False</td>\n",
       "    </tr>\n",
       "    <tr>\n",
       "      <th>25</th>\n",
       "      <td>10029</td>\n",
       "      <td>1061</td>\n",
       "      <td>10029</td>\n",
       "      <td>76003</td>\n",
       "      <td>0.013960</td>\n",
       "      <td>0.022365</td>\n",
       "      <td>0.032695</td>\n",
       "      <td>False</td>\n",
       "    </tr>\n",
       "    <tr>\n",
       "      <th>26</th>\n",
       "      <td>10030</td>\n",
       "      <td>437</td>\n",
       "      <td>10030</td>\n",
       "      <td>26999</td>\n",
       "      <td>0.016186</td>\n",
       "      <td>0.022365</td>\n",
       "      <td>0.032695</td>\n",
       "      <td>False</td>\n",
       "    </tr>\n",
       "    <tr>\n",
       "      <th>27</th>\n",
       "      <td>10031</td>\n",
       "      <td>627</td>\n",
       "      <td>10031</td>\n",
       "      <td>56438</td>\n",
       "      <td>0.011110</td>\n",
       "      <td>0.022365</td>\n",
       "      <td>0.032695</td>\n",
       "      <td>False</td>\n",
       "    </tr>\n",
       "    <tr>\n",
       "      <th>28</th>\n",
       "      <td>10032</td>\n",
       "      <td>666</td>\n",
       "      <td>10032</td>\n",
       "      <td>57331</td>\n",
       "      <td>0.011617</td>\n",
       "      <td>0.022365</td>\n",
       "      <td>0.032695</td>\n",
       "      <td>False</td>\n",
       "    </tr>\n",
       "    <tr>\n",
       "      <th>29</th>\n",
       "      <td>10033</td>\n",
       "      <td>512</td>\n",
       "      <td>10033</td>\n",
       "      <td>53926</td>\n",
       "      <td>0.009494</td>\n",
       "      <td>0.022365</td>\n",
       "      <td>0.032695</td>\n",
       "      <td>False</td>\n",
       "    </tr>\n",
       "    <tr>\n",
       "      <th>30</th>\n",
       "      <td>10034</td>\n",
       "      <td>302</td>\n",
       "      <td>10034</td>\n",
       "      <td>38908</td>\n",
       "      <td>0.007762</td>\n",
       "      <td>0.022365</td>\n",
       "      <td>0.032695</td>\n",
       "      <td>False</td>\n",
       "    </tr>\n",
       "    <tr>\n",
       "      <th>31</th>\n",
       "      <td>10035</td>\n",
       "      <td>679</td>\n",
       "      <td>10035</td>\n",
       "      <td>33969</td>\n",
       "      <td>0.019989</td>\n",
       "      <td>0.022365</td>\n",
       "      <td>0.032695</td>\n",
       "      <td>False</td>\n",
       "    </tr>\n",
       "    <tr>\n",
       "      <th>32</th>\n",
       "      <td>10036</td>\n",
       "      <td>2420</td>\n",
       "      <td>10036</td>\n",
       "      <td>24711</td>\n",
       "      <td>0.097932</td>\n",
       "      <td>0.022365</td>\n",
       "      <td>0.032695</td>\n",
       "      <td>True</td>\n",
       "    </tr>\n",
       "    <tr>\n",
       "      <th>33</th>\n",
       "      <td>10037</td>\n",
       "      <td>202</td>\n",
       "      <td>10037</td>\n",
       "      <td>17416</td>\n",
       "      <td>0.011599</td>\n",
       "      <td>0.022365</td>\n",
       "      <td>0.032695</td>\n",
       "      <td>False</td>\n",
       "    </tr>\n",
       "    <tr>\n",
       "      <th>34</th>\n",
       "      <td>10038</td>\n",
       "      <td>753</td>\n",
       "      <td>10038</td>\n",
       "      <td>20300</td>\n",
       "      <td>0.037094</td>\n",
       "      <td>0.022365</td>\n",
       "      <td>0.032695</td>\n",
       "      <td>False</td>\n",
       "    </tr>\n",
       "    <tr>\n",
       "      <th>35</th>\n",
       "      <td>10039</td>\n",
       "      <td>236</td>\n",
       "      <td>10039</td>\n",
       "      <td>24527</td>\n",
       "      <td>0.009622</td>\n",
       "      <td>0.022365</td>\n",
       "      <td>0.032695</td>\n",
       "      <td>False</td>\n",
       "    </tr>\n",
       "    <tr>\n",
       "      <th>36</th>\n",
       "      <td>10040</td>\n",
       "      <td>359</td>\n",
       "      <td>10040</td>\n",
       "      <td>41905</td>\n",
       "      <td>0.008567</td>\n",
       "      <td>0.022365</td>\n",
       "      <td>0.032695</td>\n",
       "      <td>False</td>\n",
       "    </tr>\n",
       "    <tr>\n",
       "      <th>37</th>\n",
       "      <td>10044</td>\n",
       "      <td>24</td>\n",
       "      <td>10044</td>\n",
       "      <td>11661</td>\n",
       "      <td>0.002058</td>\n",
       "      <td>0.022365</td>\n",
       "      <td>0.032695</td>\n",
       "      <td>False</td>\n",
       "    </tr>\n",
       "    <tr>\n",
       "      <th>38</th>\n",
       "      <td>10065</td>\n",
       "      <td>1782</td>\n",
       "      <td>10065</td>\n",
       "      <td>32270</td>\n",
       "      <td>0.055222</td>\n",
       "      <td>0.022365</td>\n",
       "      <td>0.032695</td>\n",
       "      <td>False</td>\n",
       "    </tr>\n",
       "    <tr>\n",
       "      <th>39</th>\n",
       "      <td>10069</td>\n",
       "      <td>107</td>\n",
       "      <td>10069</td>\n",
       "      <td>5199</td>\n",
       "      <td>0.020581</td>\n",
       "      <td>0.022365</td>\n",
       "      <td>0.032695</td>\n",
       "      <td>False</td>\n",
       "    </tr>\n",
       "  </tbody>\n",
       "</table>\n",
       "</div>"
      ],
      "text/plain": [
       "   Postcode PermitCount Zip Code ZCTA 2010 Census Population     ratio  \\\n",
       "0     10001        1956         10001                  21102  0.092693   \n",
       "1     10002        1564         10002                  81410  0.019211   \n",
       "2     10003        2949         10003                  56024  0.052638   \n",
       "3     10004         464         10004                   3089  0.150210   \n",
       "4     10005         467         10005                   7135  0.065452   \n",
       "5     10006         295         10006                   3011  0.097974   \n",
       "6     10007         779         10007                   6988  0.111477   \n",
       "7     10009        1307         10009                  61347  0.021305   \n",
       "8     10010        1527         10010                  31834  0.047968   \n",
       "9     10011        2826         10011                  50984  0.055429   \n",
       "10    10012        1949         10012                  24090  0.080905   \n",
       "11    10013        3037         10013                  27700  0.109639   \n",
       "12    10014        2094         10014                  31959  0.065521   \n",
       "13    10016        2157         10016                  54183  0.039810   \n",
       "14    10017        2001         10017                  16575  0.120724   \n",
       "15    10018        1701         10018                   5229  0.325301   \n",
       "16    10019        2790         10019                  42870  0.065080   \n",
       "17    10021        1865         10021                  43631  0.042745   \n",
       "18    10022        3295         10022                  31924  0.103214   \n",
       "19    10023        2081         10023                  60998  0.034116   \n",
       "20    10024        1751         10024                  59283  0.029536   \n",
       "21    10025        1811         10025                  94600  0.019144   \n",
       "22    10026         491         10026                  34003  0.014440   \n",
       "23    10027        1386         10027                  59707  0.023213   \n",
       "24    10028        1551         10028                  45141  0.034359   \n",
       "25    10029        1061         10029                  76003  0.013960   \n",
       "26    10030         437         10030                  26999  0.016186   \n",
       "27    10031         627         10031                  56438  0.011110   \n",
       "28    10032         666         10032                  57331  0.011617   \n",
       "29    10033         512         10033                  53926  0.009494   \n",
       "30    10034         302         10034                  38908  0.007762   \n",
       "31    10035         679         10035                  33969  0.019989   \n",
       "32    10036        2420         10036                  24711  0.097932   \n",
       "33    10037         202         10037                  17416  0.011599   \n",
       "34    10038         753         10038                  20300  0.037094   \n",
       "35    10039         236         10039                  24527  0.009622   \n",
       "36    10040         359         10040                  41905  0.008567   \n",
       "37    10044          24         10044                  11661  0.002058   \n",
       "38    10065        1782         10065                  32270  0.055222   \n",
       "39    10069         107         10069                   5199  0.020581   \n",
       "\n",
       "        mean       std  outlier  \n",
       "0   0.022365  0.032695     True  \n",
       "1   0.022365  0.032695    False  \n",
       "2   0.022365  0.032695    False  \n",
       "3   0.022365  0.032695     True  \n",
       "4   0.022365  0.032695    False  \n",
       "5   0.022365  0.032695     True  \n",
       "6   0.022365  0.032695     True  \n",
       "7   0.022365  0.032695    False  \n",
       "8   0.022365  0.032695    False  \n",
       "9   0.022365  0.032695    False  \n",
       "10  0.022365  0.032695    False  \n",
       "11  0.022365  0.032695     True  \n",
       "12  0.022365  0.032695    False  \n",
       "13  0.022365  0.032695    False  \n",
       "14  0.022365  0.032695     True  \n",
       "15  0.022365  0.032695     True  \n",
       "16  0.022365  0.032695    False  \n",
       "17  0.022365  0.032695    False  \n",
       "18  0.022365  0.032695     True  \n",
       "19  0.022365  0.032695    False  \n",
       "20  0.022365  0.032695    False  \n",
       "21  0.022365  0.032695    False  \n",
       "22  0.022365  0.032695    False  \n",
       "23  0.022365  0.032695    False  \n",
       "24  0.022365  0.032695    False  \n",
       "25  0.022365  0.032695    False  \n",
       "26  0.022365  0.032695    False  \n",
       "27  0.022365  0.032695    False  \n",
       "28  0.022365  0.032695    False  \n",
       "29  0.022365  0.032695    False  \n",
       "30  0.022365  0.032695    False  \n",
       "31  0.022365  0.032695    False  \n",
       "32  0.022365  0.032695     True  \n",
       "33  0.022365  0.032695    False  \n",
       "34  0.022365  0.032695    False  \n",
       "35  0.022365  0.032695    False  \n",
       "36  0.022365  0.032695    False  \n",
       "37  0.022365  0.032695    False  \n",
       "38  0.022365  0.032695    False  \n",
       "39  0.022365  0.032695    False  "
      ]
     },
     "execution_count": 204,
     "metadata": {},
     "output_type": "execute_result"
    }
   ],
   "source": [
    "y2010merge.head(40)"
   ]
  },
  {
   "cell_type": "code",
   "execution_count": 205,
   "metadata": {},
   "outputs": [
    {
     "data": {
      "text/plain": [
       "9"
      ]
     },
     "execution_count": 205,
     "metadata": {},
     "output_type": "execute_result"
    }
   ],
   "source": [
    "sum(y2010merge['outlier'])"
   ]
  },
  {
   "cell_type": "code",
   "execution_count": 206,
   "metadata": {},
   "outputs": [],
   "source": [
    "####"
   ]
  },
  {
   "cell_type": "code",
   "execution_count": 207,
   "metadata": {},
   "outputs": [],
   "source": [
    "fires['Issuance Year']=fires['Issuance Date'].apply(lambda x:str(x).split('-')[0])"
   ]
  },
  {
   "cell_type": "code",
   "execution_count": 208,
   "metadata": {},
   "outputs": [],
   "source": [
    "limited=fires[(fires['Issuance Year'].astype(int) >= 1990)&(fires['Issuance Year'].astype(int) <= 2012)]"
   ]
  },
  {
   "cell_type": "code",
   "execution_count": 209,
   "metadata": {},
   "outputs": [],
   "source": [
    "yearcounts=pd.DataFrame(limited['Issuance Year'].value_counts()).reset_index()"
   ]
  },
  {
   "cell_type": "code",
   "execution_count": 210,
   "metadata": {},
   "outputs": [],
   "source": [
    "yearcounts.columns=['year','counts']"
   ]
  },
  {
   "cell_type": "code",
   "execution_count": 211,
   "metadata": {},
   "outputs": [],
   "source": [
    "X = yearcounts['year'].values.reshape(-1,1)\n",
    "y = yearcounts['counts'].values.reshape(-1,1)"
   ]
  },
  {
   "cell_type": "markdown",
   "metadata": {},
   "source": [
    "from sklearn.model_selection import train_test_split \n",
    "X_train, X_test, y_train, y_test = train_test_split(X, y, test_size=0.2, random_state=0)"
   ]
  },
  {
   "cell_type": "code",
   "execution_count": 212,
   "metadata": {},
   "outputs": [
    {
     "data": {
      "text/plain": [
       "LinearRegression(copy_X=True, fit_intercept=True, n_jobs=None, normalize=False)"
      ]
     },
     "execution_count": 212,
     "metadata": {},
     "output_type": "execute_result"
    }
   ],
   "source": [
    "from sklearn import linear_model\n",
    "\n",
    "regr = linear_model.LinearRegression()  \n",
    "regr.fit(X, y)"
   ]
  },
  {
   "cell_type": "code",
   "execution_count": 214,
   "metadata": {},
   "outputs": [
    {
     "name": "stdout",
     "output_type": "stream",
     "text": [
      "\n",
      "Coefficients: \n",
      " [[5851.73616601]]\n",
      "\n",
      "Intercept: \n",
      " [-11605968.41600791]\n",
      "\n",
      "R-squared:\n",
      "0.9068172786023697\n"
     ]
    }
   ],
   "source": [
    "print('\\nCoefficients: \\n', regr.coef_)\n",
    "print('\\nIntercept: \\n', regr.intercept_)\n",
    "print('\\nR-squared:')\n",
    "print(regr.score(X,y))"
   ]
  },
  {
   "cell_type": "code",
   "execution_count": 215,
   "metadata": {},
   "outputs": [],
   "source": [
    "jobs=pd.DataFrame(fires['Job Start Date'])\n",
    "jobs['permit_duration']=fires['permit_duration']"
   ]
  },
  {
   "cell_type": "code",
   "execution_count": 216,
   "metadata": {},
   "outputs": [],
   "source": [
    "jobs.dropna(inplace=True)"
   ]
  },
  {
   "cell_type": "code",
   "execution_count": 217,
   "metadata": {},
   "outputs": [],
   "source": [
    "month=[]\n",
    "for c,i in enumerate(jobs['Job Start Date']):\n",
    "    try:\n",
    "        start=i.split('-')[1]\n",
    "        month.append(start)\n",
    "    except:\n",
    "        month.append(np.nan)"
   ]
  },
  {
   "cell_type": "code",
   "execution_count": 218,
   "metadata": {},
   "outputs": [],
   "source": [
    "jobs['start_month']=month"
   ]
  },
  {
   "cell_type": "code",
   "execution_count": 219,
   "metadata": {},
   "outputs": [],
   "source": [
    "jobs.dropna(inplace=True)"
   ]
  },
  {
   "cell_type": "code",
   "execution_count": 220,
   "metadata": {},
   "outputs": [],
   "source": [
    "jobs['start_year']=jobs['Job Start Date'].apply(lambda x: x.split('-')[0])"
   ]
  },
  {
   "cell_type": "code",
   "execution_count": 221,
   "metadata": {},
   "outputs": [],
   "source": [
    "jobs=jobs[(jobs['start_year'].astype(int) >= 1990)&(jobs['start_year'].astype(int) <= 2012)]"
   ]
  },
  {
   "cell_type": "code",
   "execution_count": 222,
   "metadata": {},
   "outputs": [],
   "source": [
    "jobs['short']=jobs['permit_duration'].apply(lambda x: np.where(x.days<60,1,-1)) "
   ]
  },
  {
   "cell_type": "code",
   "execution_count": 223,
   "metadata": {},
   "outputs": [],
   "source": [
    "jobs['nov']=jobs['start_month'].apply(lambda x: np.where(x=='11',1,-1))"
   ]
  },
  {
   "cell_type": "code",
   "execution_count": 224,
   "metadata": {},
   "outputs": [
    {
     "data": {
      "text/html": [
       "<div>\n",
       "<style scoped>\n",
       "    .dataframe tbody tr th:only-of-type {\n",
       "        vertical-align: middle;\n",
       "    }\n",
       "\n",
       "    .dataframe tbody tr th {\n",
       "        vertical-align: top;\n",
       "    }\n",
       "\n",
       "    .dataframe thead th {\n",
       "        text-align: right;\n",
       "    }\n",
       "</style>\n",
       "<table border=\"1\" class=\"dataframe\">\n",
       "  <thead>\n",
       "    <tr style=\"text-align: right;\">\n",
       "      <th></th>\n",
       "      <th>Job Start Date</th>\n",
       "      <th>permit_duration</th>\n",
       "      <th>start_month</th>\n",
       "      <th>start_year</th>\n",
       "      <th>short</th>\n",
       "      <th>nov</th>\n",
       "    </tr>\n",
       "  </thead>\n",
       "  <tbody>\n",
       "    <tr>\n",
       "      <th>0</th>\n",
       "      <td>2010-11-05T00:00:00</td>\n",
       "      <td>365 days</td>\n",
       "      <td>11</td>\n",
       "      <td>2010</td>\n",
       "      <td>-1</td>\n",
       "      <td>1</td>\n",
       "    </tr>\n",
       "    <tr>\n",
       "      <th>1</th>\n",
       "      <td>2002-08-08T00:00:00</td>\n",
       "      <td>365 days</td>\n",
       "      <td>08</td>\n",
       "      <td>2002</td>\n",
       "      <td>-1</td>\n",
       "      <td>-1</td>\n",
       "    </tr>\n",
       "    <tr>\n",
       "      <th>2</th>\n",
       "      <td>2005-08-29T00:00:00</td>\n",
       "      <td>365 days</td>\n",
       "      <td>08</td>\n",
       "      <td>2005</td>\n",
       "      <td>-1</td>\n",
       "      <td>-1</td>\n",
       "    </tr>\n",
       "    <tr>\n",
       "      <th>3</th>\n",
       "      <td>1998-08-31T00:00:00</td>\n",
       "      <td>365 days</td>\n",
       "      <td>08</td>\n",
       "      <td>1998</td>\n",
       "      <td>-1</td>\n",
       "      <td>-1</td>\n",
       "    </tr>\n",
       "    <tr>\n",
       "      <th>4</th>\n",
       "      <td>2007-04-30T00:00:00</td>\n",
       "      <td>253 days</td>\n",
       "      <td>04</td>\n",
       "      <td>2007</td>\n",
       "      <td>-1</td>\n",
       "      <td>-1</td>\n",
       "    </tr>\n",
       "  </tbody>\n",
       "</table>\n",
       "</div>"
      ],
      "text/plain": [
       "        Job Start Date permit_duration start_month start_year  short  nov\n",
       "0  2010-11-05T00:00:00        365 days          11       2010     -1    1\n",
       "1  2002-08-08T00:00:00        365 days          08       2002     -1   -1\n",
       "2  2005-08-29T00:00:00        365 days          08       2005     -1   -1\n",
       "3  1998-08-31T00:00:00        365 days          08       1998     -1   -1\n",
       "4  2007-04-30T00:00:00        253 days          04       2007     -1   -1"
      ]
     },
     "execution_count": 224,
     "metadata": {},
     "output_type": "execute_result"
    }
   ],
   "source": [
    "jobs.head()"
   ]
  },
  {
   "cell_type": "code",
   "execution_count": 225,
   "metadata": {},
   "outputs": [],
   "source": [
    "notshort=pd.DataFrame(jobs[jobs['short']==-1]).reset_index(drop=True)"
   ]
  },
  {
   "cell_type": "code",
   "execution_count": 226,
   "metadata": {},
   "outputs": [],
   "source": [
    "notshorty=notshort.groupby(['nov'])['short'].count().reset_index()\n",
    "notshorty.columns=['nov','notshort']"
   ]
  },
  {
   "cell_type": "code",
   "execution_count": 227,
   "metadata": {},
   "outputs": [],
   "source": [
    "short=pd.DataFrame(jobs[jobs['short']==1]).reset_index(drop=True)"
   ]
  },
  {
   "cell_type": "code",
   "execution_count": 228,
   "metadata": {},
   "outputs": [],
   "source": [
    "shorty=short.groupby(['nov'])['short'].count().reset_index()"
   ]
  },
  {
   "cell_type": "code",
   "execution_count": 229,
   "metadata": {},
   "outputs": [
    {
     "data": {
      "text/html": [
       "<div>\n",
       "<style scoped>\n",
       "    .dataframe tbody tr th:only-of-type {\n",
       "        vertical-align: middle;\n",
       "    }\n",
       "\n",
       "    .dataframe tbody tr th {\n",
       "        vertical-align: top;\n",
       "    }\n",
       "\n",
       "    .dataframe thead th {\n",
       "        text-align: right;\n",
       "    }\n",
       "</style>\n",
       "<table border=\"1\" class=\"dataframe\">\n",
       "  <thead>\n",
       "    <tr style=\"text-align: right;\">\n",
       "      <th></th>\n",
       "      <th>nov</th>\n",
       "      <th>notshort</th>\n",
       "    </tr>\n",
       "  </thead>\n",
       "  <tbody>\n",
       "    <tr>\n",
       "      <th>0</th>\n",
       "      <td>-1</td>\n",
       "      <td>2047704</td>\n",
       "    </tr>\n",
       "    <tr>\n",
       "      <th>1</th>\n",
       "      <td>1</td>\n",
       "      <td>172706</td>\n",
       "    </tr>\n",
       "  </tbody>\n",
       "</table>\n",
       "</div>"
      ],
      "text/plain": [
       "   nov  notshort\n",
       "0   -1   2047704\n",
       "1    1    172706"
      ]
     },
     "execution_count": 229,
     "metadata": {},
     "output_type": "execute_result"
    }
   ],
   "source": [
    "notshorty.head()"
   ]
  },
  {
   "cell_type": "code",
   "execution_count": 230,
   "metadata": {},
   "outputs": [
    {
     "data": {
      "text/html": [
       "<div>\n",
       "<style scoped>\n",
       "    .dataframe tbody tr th:only-of-type {\n",
       "        vertical-align: middle;\n",
       "    }\n",
       "\n",
       "    .dataframe tbody tr th {\n",
       "        vertical-align: top;\n",
       "    }\n",
       "\n",
       "    .dataframe thead th {\n",
       "        text-align: right;\n",
       "    }\n",
       "</style>\n",
       "<table border=\"1\" class=\"dataframe\">\n",
       "  <thead>\n",
       "    <tr style=\"text-align: right;\">\n",
       "      <th></th>\n",
       "      <th>nov</th>\n",
       "      <th>short</th>\n",
       "    </tr>\n",
       "  </thead>\n",
       "  <tbody>\n",
       "    <tr>\n",
       "      <th>0</th>\n",
       "      <td>-1</td>\n",
       "      <td>150609</td>\n",
       "    </tr>\n",
       "    <tr>\n",
       "      <th>1</th>\n",
       "      <td>1</td>\n",
       "      <td>21103</td>\n",
       "    </tr>\n",
       "  </tbody>\n",
       "</table>\n",
       "</div>"
      ],
      "text/plain": [
       "   nov   short\n",
       "0   -1  150609\n",
       "1    1   21103"
      ]
     },
     "execution_count": 230,
     "metadata": {},
     "output_type": "execute_result"
    }
   ],
   "source": [
    "shorty.head()"
   ]
  },
  {
   "cell_type": "code",
   "execution_count": 231,
   "metadata": {},
   "outputs": [],
   "source": [
    "shorty['notshort']=notshorty['notshort']"
   ]
  },
  {
   "cell_type": "code",
   "execution_count": 232,
   "metadata": {},
   "outputs": [
    {
     "data": {
      "text/html": [
       "<div>\n",
       "<style scoped>\n",
       "    .dataframe tbody tr th:only-of-type {\n",
       "        vertical-align: middle;\n",
       "    }\n",
       "\n",
       "    .dataframe tbody tr th {\n",
       "        vertical-align: top;\n",
       "    }\n",
       "\n",
       "    .dataframe thead th {\n",
       "        text-align: right;\n",
       "    }\n",
       "</style>\n",
       "<table border=\"1\" class=\"dataframe\">\n",
       "  <thead>\n",
       "    <tr style=\"text-align: right;\">\n",
       "      <th></th>\n",
       "      <th>nov</th>\n",
       "      <th>short</th>\n",
       "      <th>notshort</th>\n",
       "    </tr>\n",
       "  </thead>\n",
       "  <tbody>\n",
       "    <tr>\n",
       "      <th>0</th>\n",
       "      <td>-1</td>\n",
       "      <td>150609</td>\n",
       "      <td>2047704</td>\n",
       "    </tr>\n",
       "    <tr>\n",
       "      <th>1</th>\n",
       "      <td>1</td>\n",
       "      <td>21103</td>\n",
       "      <td>172706</td>\n",
       "    </tr>\n",
       "  </tbody>\n",
       "</table>\n",
       "</div>"
      ],
      "text/plain": [
       "   nov   short  notshort\n",
       "0   -1  150609   2047704\n",
       "1    1   21103    172706"
      ]
     },
     "execution_count": 232,
     "metadata": {},
     "output_type": "execute_result"
    }
   ],
   "source": [
    "shorty.head()"
   ]
  },
  {
   "cell_type": "code",
   "execution_count": 233,
   "metadata": {},
   "outputs": [],
   "source": [
    "table=[list(shorty.iloc[0])[1:],list(shorty.iloc[1])[1:]]"
   ]
  },
  {
   "cell_type": "code",
   "execution_count": 234,
   "metadata": {},
   "outputs": [
    {
     "data": {
      "text/plain": [
       "[[150609, 2047704], [21103, 172706]]"
      ]
     },
     "execution_count": 234,
     "metadata": {},
     "output_type": "execute_result"
    }
   ],
   "source": [
    "table"
   ]
  },
  {
   "cell_type": "code",
   "execution_count": 235,
   "metadata": {},
   "outputs": [],
   "source": [
    "import scipy\n",
    "#table=[[150609, 2047704], [21103, 172706]]\n",
    "stat, p, dof, expected = stats.chi2_contingency(table)\n"
   ]
  },
  {
   "cell_type": "code",
   "execution_count": 236,
   "metadata": {},
   "outputs": [
    {
     "data": {
      "text/plain": [
       "4356.766804329866"
      ]
     },
     "execution_count": 236,
     "metadata": {},
     "output_type": "execute_result"
    }
   ],
   "source": [
    "stat"
   ]
  },
  {
   "cell_type": "code",
   "execution_count": 237,
   "metadata": {},
   "outputs": [
    {
     "data": {
      "text/plain": [
       "0.0"
      ]
     },
     "execution_count": 237,
     "metadata": {},
     "output_type": "execute_result"
    }
   ],
   "source": [
    "p"
   ]
  },
  {
   "cell_type": "code",
   "execution_count": 238,
   "metadata": {},
   "outputs": [
    {
     "data": {
      "text/plain": [
       "1"
      ]
     },
     "execution_count": 238,
     "metadata": {},
     "output_type": "execute_result"
    }
   ],
   "source": [
    "dof"
   ]
  },
  {
   "cell_type": "code",
   "execution_count": 239,
   "metadata": {},
   "outputs": [
    {
     "data": {
      "text/plain": [
       "array([[ 157799.94576196, 2040513.05423804],\n",
       "       [  13912.05423804,  179896.94576196]])"
      ]
     },
     "execution_count": 239,
     "metadata": {},
     "output_type": "execute_result"
    }
   ],
   "source": [
    "expected"
   ]
  },
  {
   "cell_type": "markdown",
   "metadata": {},
   "source": [
    "Let's investigate how the number of construction jobs that start in the summer vs the winter changes across the years. The date of construction job start is recorded in column 'Job Start Date'. For every year, compute the ratio between the number of construction jobs that start in the peak of summer (in July and August) and the number of jobs that start in the peak of winter (in January and February). Again limit your analysis to years 1990-2012 (both inclusive). Find the year when this ratio was maximal - what was the value of this ratio for that year?"
   ]
  },
  {
   "cell_type": "code",
   "execution_count": 240,
   "metadata": {
    "scrolled": true
   },
   "outputs": [],
   "source": [
    "jobs['summer']=np.where(jobs['start_month'].isin(['07','08']),1,0)"
   ]
  },
  {
   "cell_type": "code",
   "execution_count": 241,
   "metadata": {},
   "outputs": [],
   "source": [
    "jobs['winter']=np.where(jobs['start_month'].isin(['01','02']),1,0)"
   ]
  },
  {
   "cell_type": "code",
   "execution_count": 242,
   "metadata": {},
   "outputs": [],
   "source": [
    "jobs['sumwint']=jobs['summer']+jobs['winter']"
   ]
  },
  {
   "cell_type": "code",
   "execution_count": 243,
   "metadata": {},
   "outputs": [
    {
     "name": "stderr",
     "output_type": "stream",
     "text": [
      "<ipython-input-243-9c29deb57d0a>:1: FutureWarning: Indexing with multiple keys (implicitly converted to a tuple of keys) will be deprecated, use a list instead.\n",
      "  jobseason=jobs.groupby(['start_year'])['summer','winter'].sum().reset_index()\n"
     ]
    }
   ],
   "source": [
    "jobseason=jobs.groupby(['start_year'])['summer','winter'].sum().reset_index()"
   ]
  },
  {
   "cell_type": "code",
   "execution_count": 244,
   "metadata": {},
   "outputs": [
    {
     "data": {
      "text/html": [
       "<div>\n",
       "<style scoped>\n",
       "    .dataframe tbody tr th:only-of-type {\n",
       "        vertical-align: middle;\n",
       "    }\n",
       "\n",
       "    .dataframe tbody tr th {\n",
       "        vertical-align: top;\n",
       "    }\n",
       "\n",
       "    .dataframe thead th {\n",
       "        text-align: right;\n",
       "    }\n",
       "</style>\n",
       "<table border=\"1\" class=\"dataframe\">\n",
       "  <thead>\n",
       "    <tr style=\"text-align: right;\">\n",
       "      <th></th>\n",
       "      <th>start_year</th>\n",
       "      <th>summer</th>\n",
       "      <th>winter</th>\n",
       "    </tr>\n",
       "  </thead>\n",
       "  <tbody>\n",
       "    <tr>\n",
       "      <th>0</th>\n",
       "      <td>1990</td>\n",
       "      <td>5989</td>\n",
       "      <td>1574</td>\n",
       "    </tr>\n",
       "    <tr>\n",
       "      <th>1</th>\n",
       "      <td>1991</td>\n",
       "      <td>8719</td>\n",
       "      <td>6486</td>\n",
       "    </tr>\n",
       "    <tr>\n",
       "      <th>2</th>\n",
       "      <td>1992</td>\n",
       "      <td>9647</td>\n",
       "      <td>8468</td>\n",
       "    </tr>\n",
       "    <tr>\n",
       "      <th>3</th>\n",
       "      <td>1993</td>\n",
       "      <td>11044</td>\n",
       "      <td>8417</td>\n",
       "    </tr>\n",
       "    <tr>\n",
       "      <th>4</th>\n",
       "      <td>1994</td>\n",
       "      <td>10922</td>\n",
       "      <td>8378</td>\n",
       "    </tr>\n",
       "  </tbody>\n",
       "</table>\n",
       "</div>"
      ],
      "text/plain": [
       "  start_year  summer  winter\n",
       "0       1990    5989    1574\n",
       "1       1991    8719    6486\n",
       "2       1992    9647    8468\n",
       "3       1993   11044    8417\n",
       "4       1994   10922    8378"
      ]
     },
     "execution_count": 244,
     "metadata": {},
     "output_type": "execute_result"
    }
   ],
   "source": [
    "jobseason.head()"
   ]
  },
  {
   "cell_type": "code",
   "execution_count": 245,
   "metadata": {},
   "outputs": [],
   "source": [
    "jobseason['ratio']=jobseason['summer']/jobseason['winter']"
   ]
  },
  {
   "cell_type": "code",
   "execution_count": 246,
   "metadata": {},
   "outputs": [
    {
     "data": {
      "text/html": [
       "<div>\n",
       "<style scoped>\n",
       "    .dataframe tbody tr th:only-of-type {\n",
       "        vertical-align: middle;\n",
       "    }\n",
       "\n",
       "    .dataframe tbody tr th {\n",
       "        vertical-align: top;\n",
       "    }\n",
       "\n",
       "    .dataframe thead th {\n",
       "        text-align: right;\n",
       "    }\n",
       "</style>\n",
       "<table border=\"1\" class=\"dataframe\">\n",
       "  <thead>\n",
       "    <tr style=\"text-align: right;\">\n",
       "      <th></th>\n",
       "      <th>start_year</th>\n",
       "      <th>summer</th>\n",
       "      <th>winter</th>\n",
       "      <th>ratio</th>\n",
       "    </tr>\n",
       "  </thead>\n",
       "  <tbody>\n",
       "    <tr>\n",
       "      <th>0</th>\n",
       "      <td>1990</td>\n",
       "      <td>5989</td>\n",
       "      <td>1574</td>\n",
       "      <td>3.804956</td>\n",
       "    </tr>\n",
       "    <tr>\n",
       "      <th>1</th>\n",
       "      <td>1991</td>\n",
       "      <td>8719</td>\n",
       "      <td>6486</td>\n",
       "      <td>1.344280</td>\n",
       "    </tr>\n",
       "    <tr>\n",
       "      <th>2</th>\n",
       "      <td>1992</td>\n",
       "      <td>9647</td>\n",
       "      <td>8468</td>\n",
       "      <td>1.139230</td>\n",
       "    </tr>\n",
       "    <tr>\n",
       "      <th>3</th>\n",
       "      <td>1993</td>\n",
       "      <td>11044</td>\n",
       "      <td>8417</td>\n",
       "      <td>1.312106</td>\n",
       "    </tr>\n",
       "    <tr>\n",
       "      <th>4</th>\n",
       "      <td>1994</td>\n",
       "      <td>10922</td>\n",
       "      <td>8378</td>\n",
       "      <td>1.303652</td>\n",
       "    </tr>\n",
       "    <tr>\n",
       "      <th>5</th>\n",
       "      <td>1995</td>\n",
       "      <td>10882</td>\n",
       "      <td>9553</td>\n",
       "      <td>1.139119</td>\n",
       "    </tr>\n",
       "    <tr>\n",
       "      <th>6</th>\n",
       "      <td>1996</td>\n",
       "      <td>12810</td>\n",
       "      <td>9026</td>\n",
       "      <td>1.419233</td>\n",
       "    </tr>\n",
       "    <tr>\n",
       "      <th>7</th>\n",
       "      <td>1997</td>\n",
       "      <td>14106</td>\n",
       "      <td>11056</td>\n",
       "      <td>1.275868</td>\n",
       "    </tr>\n",
       "    <tr>\n",
       "      <th>8</th>\n",
       "      <td>1998</td>\n",
       "      <td>15559</td>\n",
       "      <td>12691</td>\n",
       "      <td>1.225987</td>\n",
       "    </tr>\n",
       "    <tr>\n",
       "      <th>9</th>\n",
       "      <td>1999</td>\n",
       "      <td>17639</td>\n",
       "      <td>13502</td>\n",
       "      <td>1.306399</td>\n",
       "    </tr>\n",
       "    <tr>\n",
       "      <th>10</th>\n",
       "      <td>2000</td>\n",
       "      <td>19624</td>\n",
       "      <td>14909</td>\n",
       "      <td>1.316252</td>\n",
       "    </tr>\n",
       "    <tr>\n",
       "      <th>11</th>\n",
       "      <td>2001</td>\n",
       "      <td>20963</td>\n",
       "      <td>16467</td>\n",
       "      <td>1.273031</td>\n",
       "    </tr>\n",
       "    <tr>\n",
       "      <th>12</th>\n",
       "      <td>2002</td>\n",
       "      <td>21792</td>\n",
       "      <td>17457</td>\n",
       "      <td>1.248324</td>\n",
       "    </tr>\n",
       "    <tr>\n",
       "      <th>13</th>\n",
       "      <td>2003</td>\n",
       "      <td>23467</td>\n",
       "      <td>18472</td>\n",
       "      <td>1.270409</td>\n",
       "    </tr>\n",
       "    <tr>\n",
       "      <th>14</th>\n",
       "      <td>2004</td>\n",
       "      <td>28664</td>\n",
       "      <td>18272</td>\n",
       "      <td>1.568739</td>\n",
       "    </tr>\n",
       "    <tr>\n",
       "      <th>15</th>\n",
       "      <td>2005</td>\n",
       "      <td>28422</td>\n",
       "      <td>20205</td>\n",
       "      <td>1.406682</td>\n",
       "    </tr>\n",
       "    <tr>\n",
       "      <th>16</th>\n",
       "      <td>2006</td>\n",
       "      <td>29581</td>\n",
       "      <td>23090</td>\n",
       "      <td>1.281117</td>\n",
       "    </tr>\n",
       "    <tr>\n",
       "      <th>17</th>\n",
       "      <td>2007</td>\n",
       "      <td>31623</td>\n",
       "      <td>23609</td>\n",
       "      <td>1.339447</td>\n",
       "    </tr>\n",
       "    <tr>\n",
       "      <th>18</th>\n",
       "      <td>2008</td>\n",
       "      <td>25715</td>\n",
       "      <td>22394</td>\n",
       "      <td>1.148299</td>\n",
       "    </tr>\n",
       "    <tr>\n",
       "      <th>19</th>\n",
       "      <td>2009</td>\n",
       "      <td>21651</td>\n",
       "      <td>17718</td>\n",
       "      <td>1.221978</td>\n",
       "    </tr>\n",
       "    <tr>\n",
       "      <th>20</th>\n",
       "      <td>2010</td>\n",
       "      <td>22643</td>\n",
       "      <td>15722</td>\n",
       "      <td>1.440211</td>\n",
       "    </tr>\n",
       "    <tr>\n",
       "      <th>21</th>\n",
       "      <td>2011</td>\n",
       "      <td>23064</td>\n",
       "      <td>17060</td>\n",
       "      <td>1.351934</td>\n",
       "    </tr>\n",
       "    <tr>\n",
       "      <th>22</th>\n",
       "      <td>2012</td>\n",
       "      <td>22399</td>\n",
       "      <td>18881</td>\n",
       "      <td>1.186325</td>\n",
       "    </tr>\n",
       "  </tbody>\n",
       "</table>\n",
       "</div>"
      ],
      "text/plain": [
       "   start_year  summer  winter     ratio\n",
       "0        1990    5989    1574  3.804956\n",
       "1        1991    8719    6486  1.344280\n",
       "2        1992    9647    8468  1.139230\n",
       "3        1993   11044    8417  1.312106\n",
       "4        1994   10922    8378  1.303652\n",
       "5        1995   10882    9553  1.139119\n",
       "6        1996   12810    9026  1.419233\n",
       "7        1997   14106   11056  1.275868\n",
       "8        1998   15559   12691  1.225987\n",
       "9        1999   17639   13502  1.306399\n",
       "10       2000   19624   14909  1.316252\n",
       "11       2001   20963   16467  1.273031\n",
       "12       2002   21792   17457  1.248324\n",
       "13       2003   23467   18472  1.270409\n",
       "14       2004   28664   18272  1.568739\n",
       "15       2005   28422   20205  1.406682\n",
       "16       2006   29581   23090  1.281117\n",
       "17       2007   31623   23609  1.339447\n",
       "18       2008   25715   22394  1.148299\n",
       "19       2009   21651   17718  1.221978\n",
       "20       2010   22643   15722  1.440211\n",
       "21       2011   23064   17060  1.351934\n",
       "22       2012   22399   18881  1.186325"
      ]
     },
     "execution_count": 246,
     "metadata": {},
     "output_type": "execute_result"
    }
   ],
   "source": [
    "jobseason.head(40)"
   ]
  },
  {
   "cell_type": "code",
   "execution_count": 247,
   "metadata": {},
   "outputs": [
    {
     "data": {
      "text/plain": [
       "3.8049555273189326"
      ]
     },
     "execution_count": 247,
     "metadata": {},
     "output_type": "execute_result"
    }
   ],
   "source": [
    "max(jobseason['ratio'])"
   ]
  },
  {
   "cell_type": "code",
   "execution_count": null,
   "metadata": {},
   "outputs": [],
   "source": [
    "#Find columns with less than half nulls and keep these.\n",
    "#null_count = fires.isnull().sum()\n",
    "#null_count = pd.DataFrame(null_count[null_count<1138890])\n",
    "#nullist = list(null_count.index)\n",
    "#nullist"
   ]
  },
  {
   "cell_type": "code",
   "execution_count": null,
   "metadata": {},
   "outputs": [],
   "source": [
    "#fires2 = fires[nullist]\n",
    "#fires2.head()"
   ]
  },
  {
   "cell_type": "code",
   "execution_count": null,
   "metadata": {},
   "outputs": [],
   "source": [
    "#look at high-null columns still included in database\n",
    "#null_count2 = fires2.isnull().sum()\n",
    "#null_count2 = pd.DataFrame(null_count2[null_count2>45000])\n",
    "#list(null_count2.index)"
   ]
  },
  {
   "cell_type": "markdown",
   "metadata": {},
   "source": [
    "We are going to play a simple game. We start with 0 points. We will flip a coin. If it comes up heads, we get a point. If comes up tails, we double our current score.\n",
    "\n",
    "For example, if we got HTH, we would have ((0+1)∗2+1)=3 points, but if we got THT, we would have ((0)∗2+1)∗2=2\n",
    "\n",
    "points.\n",
    "Let's start with a fair coin. What is our expected score after 5 flips?"
   ]
  },
  {
   "cell_type": "code",
   "execution_count": 248,
   "metadata": {},
   "outputs": [],
   "source": [
    "import itertools\n",
    "import numpy as np\n"
   ]
  },
  {
   "cell_type": "code",
   "execution_count": 249,
   "metadata": {},
   "outputs": [],
   "source": [
    "import json\n",
    "results=list((itertools.product(\"HT\", repeat=5)))"
   ]
  },
  {
   "cell_type": "code",
   "execution_count": 250,
   "metadata": {},
   "outputs": [],
   "source": [
    "def cointoss(perms):\n",
    "    \n",
    "    for i in perms:\n",
    "        total=0\n",
    "        for j in i:\n",
    "\n",
    "            if j=='H':\n",
    "                total+=1\n",
    "            if j=='T':\n",
    "                total=total*2\n",
    "\n",
    "        yield total"
   ]
  },
  {
   "cell_type": "code",
   "execution_count": 276,
   "metadata": {},
   "outputs": [
    {
     "name": "stdout",
     "output_type": "stream",
     "text": [
      "56.6650390625 HT\n",
      "82.19085843960102 HTT\n",
      "89.46312999725342 HTTT\n",
      "89.0116806656 HTTTT\n"
     ]
    }
   ],
   "source": [
    "for num in range(1,5):\n",
    "    #num=3\n",
    "    results=list((itertools.product(\"H\"+\"T\"*num, repeat=10)))\n",
    "    expected=sum(cointoss(results))/len(results)\n",
    "    print(expected,\"H\"+\"T\"*num)"
   ]
  },
  {
   "cell_type": "code",
   "execution_count": 275,
   "metadata": {},
   "outputs": [
    {
     "data": {
      "text/plain": [
       "29.252068059034414"
      ]
     },
     "execution_count": 275,
     "metadata": {},
     "output_type": "execute_result"
    }
   ],
   "source": [
    "np.std(list(cointoss(results)))"
   ]
  },
  {
   "cell_type": "code",
   "execution_count": 268,
   "metadata": {},
   "outputs": [
    {
     "data": {
      "text/plain": [
       "89.46312999725342"
      ]
     },
     "execution_count": 268,
     "metadata": {},
     "output_type": "execute_result"
    }
   ],
   "source": [
    "\"HTTT\"\n",
    "89.46312999725342"
   ]
  },
  {
   "cell_type": "code",
   "execution_count": 269,
   "metadata": {},
   "outputs": [],
   "source": [
    "power2=[2**i for i in list(range(1,9))]"
   ]
  },
  {
   "cell_type": "code",
   "execution_count": 271,
   "metadata": {},
   "outputs": [],
   "source": [
    "prob=0\n",
    "count=0\n",
    "for i in list(cointoss(results)):\n",
    "    count+=1\n",
    "    if i in power2:\n",
    "        prob+=1"
   ]
  },
  {
   "cell_type": "code",
   "execution_count": 272,
   "metadata": {},
   "outputs": [
    {
     "data": {
      "text/plain": [
       "0.072265625"
      ]
     },
     "execution_count": 272,
     "metadata": {},
     "output_type": "execute_result"
    }
   ],
   "source": [
    "prob/count"
   ]
  },
  {
   "cell_type": "code",
   "execution_count": null,
   "metadata": {},
   "outputs": [],
   "source": [
    "#Find non-numeric columns\n",
    "#cat = fires.select_dtypes(include=['object'])\n",
    "#for i in cat:\n",
    "   #column = cat[i]\n",
    "   #print(i)\n",
    "   #print(column.nunique())"
   ]
  },
  {
   "cell_type": "code",
   "execution_count": null,
   "metadata": {},
   "outputs": [],
   "source": [
    "#fires3 = fires2.dropna()"
   ]
  },
  {
   "cell_type": "code",
   "execution_count": null,
   "metadata": {},
   "outputs": [],
   "source": [
    "fires4 = fires\n",
    "fires4['FIRE_BOX'] = fires4['FIRE_BOX'].replace('NYCHA','')\n",
    "fires4.head()"
   ]
  },
  {
   "cell_type": "code",
   "execution_count": null,
   "metadata": {},
   "outputs": [],
   "source": [
    "fires4['short_zip'] = (fires4['ZIP_CODE'].replace('-',''))"
   ]
  },
  {
   "cell_type": "code",
   "execution_count": null,
   "metadata": {},
   "outputs": [],
   "source": [
    "fires4['short_zip'] = fires4['short_zip'].apply(lambda x: x[0:5] if type(x)==str else np.nan)"
   ]
  },
  {
   "cell_type": "code",
   "execution_count": null,
   "metadata": {},
   "outputs": [],
   "source": [
    "arrival_digital = []\n",
    "for t in fires4['ARRIVAL_DATE_TIME']:\n",
    "    try:\n",
    "        arrival_digital.append(datetime.strptime(t,'%m/%d/%Y %I:%M:%S %p'))\n",
    "        \n",
    "    except ValueError:\n",
    "        arrival_digital.append(np.nan)\n",
    "    except TypeError:\n",
    "        arrival_digital.append(np.nan)\n",
    "\n",
    "arrival_digital   "
   ]
  },
  {
   "cell_type": "code",
   "execution_count": null,
   "metadata": {},
   "outputs": [],
   "source": [
    "incident_digital = []\n",
    "for t in fires4['INCIDENT_DATE_TIME']:\n",
    "    try:\n",
    "        incident_digital.append(datetime.strptime(t,'%m/%d/%Y %I:%M:%S %p'))\n",
    "        \n",
    "    except ValueError:\n",
    "        incident_digital.append(np.nan)\n",
    "    except TypeError:\n",
    "        incident_digital.append(np.nan)\n",
    "\n",
    "arrival_digital   "
   ]
  },
  {
   "cell_type": "code",
   "execution_count": null,
   "metadata": {},
   "outputs": [],
   "source": [
    "fires4['arrival_digital'] = arrival_digital\n",
    "fires4['incident_digital']= incident_digital"
   ]
  },
  {
   "cell_type": "code",
   "execution_count": null,
   "metadata": {},
   "outputs": [],
   "source": [
    "(fires4['INCIDENT_TYPE_DESC'].value_counts()[0])/2277779"
   ]
  },
  {
   "cell_type": "code",
   "execution_count": null,
   "metadata": {},
   "outputs": [],
   "source": [
    "falsecalls = fires4[fires4['INCIDENT_TYPE_DESC'] == '710 - Malicious, mischievous false call, other']"
   ]
  },
  {
   "cell_type": "code",
   "execution_count": null,
   "metadata": {},
   "outputs": [],
   "source": [
    "falsecallsgroup = falsecalls.groupby(['BOROUGH_DESC'])['BOROUGH_DESC'].count()"
   ]
  },
  {
   "cell_type": "code",
   "execution_count": null,
   "metadata": {},
   "outputs": [],
   "source": [
    "falsecallsgroup"
   ]
  },
  {
   "cell_type": "code",
   "execution_count": null,
   "metadata": {},
   "outputs": [],
   "source": [
    "8276/25240"
   ]
  },
  {
   "cell_type": "code",
   "execution_count": null,
   "metadata": {},
   "outputs": [],
   "source": [
    "incedents = fires4.groupby(['INCIDENT_TYPE_DESC'])['UNITS_ONSCENE'].mean()"
   ]
  },
  {
   "cell_type": "code",
   "execution_count": null,
   "metadata": {},
   "outputs": [],
   "source": [
    "incedents[100:150]"
   ]
  },
  {
   "cell_type": "code",
   "execution_count": null,
   "metadata": {},
   "outputs": [],
   "source": [
    "11.084640/ 4.016524"
   ]
  },
  {
   "cell_type": "code",
   "execution_count": null,
   "metadata": {},
   "outputs": [],
   "source": [
    "buildingfire = pd.DataFrame(fires4[fires4['INCIDENT_TYPE_DESC'] ==  '111 - Building fire'])"
   ]
  },
  {
   "cell_type": "code",
   "execution_count": null,
   "metadata": {},
   "outputs": [],
   "source": [
    "buildingfire['time_lapse_sec']= (buildingfire['arrival_digital'] - buildingfire['incident_digital'])"
   ]
  },
  {
   "cell_type": "code",
   "execution_count": null,
   "metadata": {},
   "outputs": [],
   "source": [
    "buildingfire['time_lapse_sec']= buildingfire['time_lapse_sec'].apply(lambda x: x.total_seconds())"
   ]
  },
  {
   "cell_type": "code",
   "execution_count": null,
   "metadata": {},
   "outputs": [],
   "source": [
    "buildingfire.head()"
   ]
  },
  {
   "cell_type": "code",
   "execution_count": null,
   "metadata": {},
   "outputs": [],
   "source": [
    "buildingfire['time_lapse_sec'].quantile([0.25,0.5,0.75])"
   ]
  },
  {
   "cell_type": "code",
   "execution_count": null,
   "metadata": {},
   "outputs": [],
   "source": [
    "249/60"
   ]
  },
  {
   "cell_type": "code",
   "execution_count": null,
   "metadata": {},
   "outputs": [],
   "source": [
    "pops = pd.read_csv('2010+Census+Population+By+Zipcode+(ZCTA).csv')"
   ]
  },
  {
   "cell_type": "code",
   "execution_count": null,
   "metadata": {},
   "outputs": [],
   "source": [
    "pops.head()"
   ]
  },
  {
   "cell_type": "code",
   "execution_count": null,
   "metadata": {},
   "outputs": [],
   "source": [
    "bfire = pd.DataFrame(buildingfire.groupby(['FIRE_BOX'])['FIRE_BOX'].count())"
   ]
  },
  {
   "cell_type": "code",
   "execution_count": null,
   "metadata": {},
   "outputs": [],
   "source": [
    "bfire.columns = ['tot_built_fires']\n",
    "bfire = bfire.reset_index()\n",
    "bfire['FIRE_BOX']=bfire['FIRE_BOX'].astype(int)\n",
    "bfire = pd.DataFrame(bfire.dropna())"
   ]
  },
  {
   "cell_type": "code",
   "execution_count": null,
   "metadata": {
    "scrolled": true
   },
   "outputs": [],
   "source": [
    "merge_bfire = bfire.merge(pops,left_on='FIRE_BOX',right_on='Zip Code ZCTA')"
   ]
  },
  {
   "cell_type": "code",
   "execution_count": null,
   "metadata": {},
   "outputs": [],
   "source": [
    "merge_bfire.head()"
   ]
  },
  {
   "cell_type": "code",
   "execution_count": null,
   "metadata": {},
   "outputs": [],
   "source": [
    "((merge_bfire['tot_built_fires'].corr(merge_bfire['2010 Census Population']))**2)*100"
   ]
  },
  {
   "cell_type": "code",
   "execution_count": null,
   "metadata": {},
   "outputs": [],
   "source": [
    "cooking = pd.DataFrame(fires4[fires4['INCIDENT_TYPE_DESC']=='113 - Cooking fire, confined to container'])"
   ]
  },
  {
   "cell_type": "code",
   "execution_count": null,
   "metadata": {},
   "outputs": [],
   "source": [
    "cooking.head()"
   ]
  },
  {
   "cell_type": "code",
   "execution_count": null,
   "metadata": {},
   "outputs": [],
   "source": [
    "cooking['incident_hour'] = cooking['INCIDENT_DATE_TIME'].apply(lambda x: x.split()[1] if x==x else np.nan)"
   ]
  },
  {
   "cell_type": "code",
   "execution_count": null,
   "metadata": {},
   "outputs": [],
   "source": [
    "cooking['am_pm'] = cooking['INCIDENT_DATE_TIME'].apply(lambda x: x.split()[2] if x==x else np.nan)"
   ]
  },
  {
   "cell_type": "code",
   "execution_count": null,
   "metadata": {},
   "outputs": [],
   "source": [
    "cooking['incident_hour'] = cooking['incident_hour'].apply(lambda x: x.split(':')[0] if x==x else np.nan)"
   ]
  },
  {
   "cell_type": "code",
   "execution_count": null,
   "metadata": {},
   "outputs": [],
   "source": [
    "cooking['incident_hour'] = cooking['incident_hour'] + ' ' + cooking['am_pm']"
   ]
  },
  {
   "cell_type": "code",
   "execution_count": null,
   "metadata": {},
   "outputs": [],
   "source": [
    "cooking.head()"
   ]
  },
  {
   "cell_type": "code",
   "execution_count": null,
   "metadata": {},
   "outputs": [],
   "source": [
    "cooking_group = pd.DataFrame(cooking.groupby(['incident_hour']).count()).reset_index()\n",
    "cooking_group.head()"
   ]
  },
  {
   "cell_type": "code",
   "execution_count": null,
   "metadata": {},
   "outputs": [],
   "source": [
    "cooking_group.shape"
   ]
  },
  {
   "cell_type": "code",
   "execution_count": null,
   "metadata": {},
   "outputs": [],
   "source": [
    "cooking_group.sort_values(by = 'FIRE_BOX',axis = 0,ascending = False)"
   ]
  },
  {
   "cell_type": "code",
   "execution_count": null,
   "metadata": {},
   "outputs": [],
   "source": [
    "6806/np.sum(cooking_group['FIRE_BOX'])"
   ]
  },
  {
   "cell_type": "code",
   "execution_count": null,
   "metadata": {},
   "outputs": [],
   "source": [
    "CO = pd.DataFrame(fires4.dropna(subset=['CO_DETECTOR_PRESENT_DESC']))"
   ]
  },
  {
   "cell_type": "code",
   "execution_count": null,
   "metadata": {},
   "outputs": [],
   "source": [
    "CO['duration_min'] = CO['TOTAL_INCIDENT_DURATION'].apply(lambda x: x/60)\n",
    "CO.shape"
   ]
  },
  {
   "cell_type": "code",
   "execution_count": null,
   "metadata": {},
   "outputs": [],
   "source": [
    "bins = pd.IntervalIndex.from_tuples([(20, 30), (30, 40), (40, 50),(50,60),(60,70)])\n",
    "dur_intmin = pd.DataFrame(pd.cut(CO['duration_min'], bins))"
   ]
  },
  {
   "cell_type": "code",
   "execution_count": null,
   "metadata": {},
   "outputs": [],
   "source": [
    "dur_intmin.head()"
   ]
  },
  {
   "cell_type": "code",
   "execution_count": null,
   "metadata": {},
   "outputs": [],
   "source": [
    "CO['dur_intmin']=dur_intmin['duration_min']"
   ]
  },
  {
   "cell_type": "code",
   "execution_count": null,
   "metadata": {},
   "outputs": [],
   "source": [
    "CO.head()"
   ]
  },
  {
   "cell_type": "code",
   "execution_count": null,
   "metadata": {},
   "outputs": [],
   "source": [
    "COdetector = pd.DataFrame(None)\n",
    "COdetector['present']= CO['CO_DETECTOR_PRESENT_DESC']"
   ]
  },
  {
   "cell_type": "code",
   "execution_count": null,
   "metadata": {},
   "outputs": [],
   "source": [
    "COdetector['int_min'] = CO['dur_intmin']\n",
    "COdetector.shape"
   ]
  },
  {
   "cell_type": "code",
   "execution_count": null,
   "metadata": {},
   "outputs": [],
   "source": [
    "COdetector['int'] = COdetector['int_min'].apply(lambda x: str(x))"
   ]
  },
  {
   "cell_type": "code",
   "execution_count": null,
   "metadata": {},
   "outputs": [],
   "source": [
    "int_count = (pd.DataFrame(COdetector.groupby(['int']).count()).reset_index()).drop(columns = ['present'])\n",
    "int_count.columns = ['int','int_num']\n",
    "int_count.head()"
   ]
  },
  {
   "cell_type": "code",
   "execution_count": null,
   "metadata": {},
   "outputs": [],
   "source": [
    "COdetect = pd.DataFrame(COdetector.groupby(['int','present']).count()).reset_index()\n",
    "COdetect.columns = ['int','present','num']\n",
    "COdetect.head()"
   ]
  },
  {
   "cell_type": "code",
   "execution_count": null,
   "metadata": {},
   "outputs": [],
   "source": [
    "CO_count = COdetect.merge(int_count,on = 'int',how = 'left')\n",
    "CO_count.head()"
   ]
  },
  {
   "cell_type": "code",
   "execution_count": null,
   "metadata": {},
   "outputs": [],
   "source": [
    "CO_count['proportion'] = CO_count['num']/CO_count['int_num']\n",
    "CO_count"
   ]
  },
  {
   "cell_type": "code",
   "execution_count": null,
   "metadata": {},
   "outputs": [],
   "source": [
    "CO_count['target_min'] = CO_count['int'].apply(lambda x: int(x.split(',')[0][1:])+5)"
   ]
  },
  {
   "cell_type": "code",
   "execution_count": null,
   "metadata": {},
   "outputs": [],
   "source": [
    "CO_count"
   ]
  },
  {
   "cell_type": "code",
   "execution_count": null,
   "metadata": {},
   "outputs": [],
   "source": [
    "CO_count['detector'] = np.where(CO_count['present']=='Yes',1,0)\n",
    "CO_count.head()"
   ]
  },
  {
   "cell_type": "code",
   "execution_count": null,
   "metadata": {},
   "outputs": [],
   "source": [
    "ratio = []\n",
    "for i in range(0,len(CO_count['proportion'])):\n",
    "    if CO_count['detector'][i]==0:\n",
    "        ratio.append(float(CO_count['proportion'][i]/CO_count['proportion'][i+1]))\n",
    "ratio   "
   ]
  },
  {
   "cell_type": "code",
   "execution_count": null,
   "metadata": {},
   "outputs": [],
   "source": [
    "minutes = pd.DataFrame(CO_count.groupby('target_min').count()).reset_index()\n",
    "minutes['ratio'] = ratio\n",
    "minutes2 = minutes.dropna()\n",
    "minutes2"
   ]
  },
  {
   "cell_type": "code",
   "execution_count": null,
   "metadata": {},
   "outputs": [],
   "source": [
    "from sklearn import linear_model\n",
    "regr = linear_model.LinearRegression()\n",
    "Y = CO_count['proportion']\n",
    "X = CO_count.drop(columns = ['int','num','int_num','present','proportion'])\n",
    "regr.fit(X, Y)"
   ]
  },
  {
   "cell_type": "code",
   "execution_count": null,
   "metadata": {},
   "outputs": [],
   "source": [
    "print('\\nCoefficients: \\n', regr.coef_)\n",
    "print('\\nIntercept: \\n', regr.intercept_)\n",
    "print('\\nR-squared:')\n",
    "print(regr.score(X, Y))"
   ]
  },
  {
   "cell_type": "code",
   "execution_count": null,
   "metadata": {},
   "outputs": [],
   "source": [
    "no = 39*1.26143519e-19 + 0.27707225591998497 +0"
   ]
  },
  {
   "cell_type": "code",
   "execution_count": null,
   "metadata": {},
   "outputs": [],
   "source": [
    "yes = 39*1.26143519e-19 + 0.27707225591998497 + 4.45855488e-01"
   ]
  },
  {
   "cell_type": "code",
   "execution_count": null,
   "metadata": {},
   "outputs": [],
   "source": [
    "result = no/yes\n",
    "result"
   ]
  },
  {
   "cell_type": "code",
   "execution_count": null,
   "metadata": {},
   "outputs": [],
   "source": [
    "from sklearn import linear_model\n",
    "regr = linear_model.LinearRegression()\n",
    "Y = minutes['ratio'].ravel()\n",
    "X = (minutes['target_min'].ravel()).reshape(-1,1)\n",
    "regr.fit(X, Y)"
   ]
  },
  {
   "cell_type": "code",
   "execution_count": null,
   "metadata": {
    "scrolled": true
   },
   "outputs": [],
   "source": [
    "print('\\nCoefficients: \\n', regr.coef_)\n",
    "print('\\nIntercept: \\n', regr.intercept_)\n",
    "print('\\nR-squared:')\n",
    "print(regr.score(X, Y))"
   ]
  },
  {
   "cell_type": "code",
   "execution_count": null,
   "metadata": {},
   "outputs": [],
   "source": [
    "predict = regr.predict(X)"
   ]
  },
  {
   "cell_type": "code",
   "execution_count": null,
   "metadata": {},
   "outputs": [],
   "source": [
    "print('Predicted ratio:{}'.format(0.01225494*39 -0.14705871327881903))"
   ]
  },
  {
   "cell_type": "code",
   "execution_count": null,
   "metadata": {},
   "outputs": [],
   "source": [
    "CO['long_time'] = np.where(CO['duration_min']>60,1,-1) \n"
   ]
  },
  {
   "cell_type": "code",
   "execution_count": null,
   "metadata": {},
   "outputs": [],
   "source": [
    "CO['present'] = np.where(CO['CO_DETECTOR_PRESENT_DESC']=='NO',1,-1)\n",
    "CO.head()"
   ]
  },
  {
   "cell_type": "code",
   "execution_count": null,
   "metadata": {},
   "outputs": [],
   "source": [
    "stats.chisquare(CO['present'], CO['long_time'])"
   ]
  },
  {
   "cell_type": "code",
   "execution_count": null,
   "metadata": {},
   "outputs": [],
   "source": []
  }
 ],
 "metadata": {
  "kernelspec": {
   "display_name": "Python 3",
   "language": "python",
   "name": "python3"
  },
  "language_info": {
   "codemirror_mode": {
    "name": "ipython",
    "version": 3
   },
   "file_extension": ".py",
   "mimetype": "text/x-python",
   "name": "python",
   "nbconvert_exporter": "python",
   "pygments_lexer": "ipython3",
   "version": "3.8.2"
  }
 },
 "nbformat": 4,
 "nbformat_minor": 2
}
