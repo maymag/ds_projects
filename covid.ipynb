{
 "cells": [
  {
   "cell_type": "code",
   "execution_count": 420,
   "metadata": {},
   "outputs": [],
   "source": [
    "import os\n",
    "import json\n",
    "import pandas as pd"
   ]
  },
  {
   "cell_type": "code",
   "execution_count": 422,
   "metadata": {},
   "outputs": [
    {
     "name": "stdout",
     "output_type": "stream",
     "text": [
      "/home/myilmaz/devel/551982_1475446_bundle_archive\n"
     ]
    }
   ],
   "source": [
    "%cd '/home/myilmaz/devel/551982_1475446_bundle_archive/'"
   ]
  },
  {
   "cell_type": "markdown",
   "metadata": {},
   "source": [
    "## Papers  researching chronic kidney disease as a comorbidity risk"
   ]
  },
  {
   "cell_type": "code",
   "execution_count": 292,
   "metadata": {},
   "outputs": [],
   "source": [
    "kag=pd.read_csv('Kaggle/target_tables/8_risk_factors/Chronic kidney disease.csv')"
   ]
  },
  {
   "cell_type": "code",
   "execution_count": 293,
   "metadata": {},
   "outputs": [
    {
     "data": {
      "text/html": [
       "<div>\n",
       "<style scoped>\n",
       "    .dataframe tbody tr th:only-of-type {\n",
       "        vertical-align: middle;\n",
       "    }\n",
       "\n",
       "    .dataframe tbody tr th {\n",
       "        vertical-align: top;\n",
       "    }\n",
       "\n",
       "    .dataframe thead th {\n",
       "        text-align: right;\n",
       "    }\n",
       "</style>\n",
       "<table border=\"1\" class=\"dataframe\">\n",
       "  <thead>\n",
       "    <tr style=\"text-align: right;\">\n",
       "      <th></th>\n",
       "      <th>Unnamed: 0</th>\n",
       "      <th>Date</th>\n",
       "      <th>Study</th>\n",
       "      <th>Study Link</th>\n",
       "      <th>Journal</th>\n",
       "      <th>Severe</th>\n",
       "      <th>Severe lower bound</th>\n",
       "      <th>Severe upper bound</th>\n",
       "      <th>Severe p-value</th>\n",
       "      <th>Severe Significant</th>\n",
       "      <th>...</th>\n",
       "      <th>Fatality Significant</th>\n",
       "      <th>Fatality Adjusted</th>\n",
       "      <th>Fatality Calculated</th>\n",
       "      <th>Multivariate adjustment</th>\n",
       "      <th>Study Type</th>\n",
       "      <th>Sample Size</th>\n",
       "      <th>Study Population</th>\n",
       "      <th>Added on</th>\n",
       "      <th>Critical only</th>\n",
       "      <th>Discharged vs. death?</th>\n",
       "    </tr>\n",
       "  </thead>\n",
       "  <tbody>\n",
       "    <tr>\n",
       "      <th>0</th>\n",
       "      <td>0</td>\n",
       "      <td>2020-06-01</td>\n",
       "      <td>Characteristics and Outcomes of COVID-19 Patie...</td>\n",
       "      <td>http://medrxiv.org/cgi/content/short/2020.05.2...</td>\n",
       "      <td>MedRxiv</td>\n",
       "      <td>NaN</td>\n",
       "      <td>NaN</td>\n",
       "      <td>NaN</td>\n",
       "      <td>NaN</td>\n",
       "      <td>NaN</td>\n",
       "      <td>...</td>\n",
       "      <td>Significant</td>\n",
       "      <td>Not Adjusted</td>\n",
       "      <td>Calculated</td>\n",
       "      <td>NaN</td>\n",
       "      <td>Retrospective observational study</td>\n",
       "      <td>13442</td>\n",
       "      <td>New York City Health and Hospital between Marc...</td>\n",
       "      <td>NaN</td>\n",
       "      <td>N</td>\n",
       "      <td>N</td>\n",
       "    </tr>\n",
       "    <tr>\n",
       "      <th>1</th>\n",
       "      <td>1</td>\n",
       "      <td>2020-05-31</td>\n",
       "      <td>Clinical Features and Short-term Outcomes of E...</td>\n",
       "      <td>https://www.sciencedirect.com/science/article/...</td>\n",
       "      <td>Int J Infect Dis</td>\n",
       "      <td>NaN</td>\n",
       "      <td>NaN</td>\n",
       "      <td>NaN</td>\n",
       "      <td>NaN</td>\n",
       "      <td>NaN</td>\n",
       "      <td>...</td>\n",
       "      <td>Significant</td>\n",
       "      <td>Not Adjusted</td>\n",
       "      <td>Extracted</td>\n",
       "      <td>NaN</td>\n",
       "      <td>Retrospective observational study</td>\n",
       "      <td>204</td>\n",
       "      <td>Renmin  Hospital  of  Wuhan University  from  ...</td>\n",
       "      <td>NaN</td>\n",
       "      <td>N</td>\n",
       "      <td>N</td>\n",
       "    </tr>\n",
       "    <tr>\n",
       "      <th>2</th>\n",
       "      <td>2</td>\n",
       "      <td>2020-05-29</td>\n",
       "      <td>A clinical risk score to identify patients wit...</td>\n",
       "      <td>https://doi.org/10.1016/j.jinf.2020.05.064</td>\n",
       "      <td>J Infect</td>\n",
       "      <td>HR=0.90</td>\n",
       "      <td>0.54</td>\n",
       "      <td>1.51</td>\n",
       "      <td>0.7</td>\n",
       "      <td>Not Significant</td>\n",
       "      <td>...</td>\n",
       "      <td>Not Significant</td>\n",
       "      <td>Not Adjusted</td>\n",
       "      <td>Extracted</td>\n",
       "      <td>NaN</td>\n",
       "      <td>Retrospective observational study</td>\n",
       "      <td>1157</td>\n",
       "      <td>King’s College Hospital and Princess Royal Uni...</td>\n",
       "      <td>NaN</td>\n",
       "      <td>Y</td>\n",
       "      <td>N</td>\n",
       "    </tr>\n",
       "    <tr>\n",
       "      <th>3</th>\n",
       "      <td>3</td>\n",
       "      <td>2020-05-29</td>\n",
       "      <td>The Association Between Biomarkers and Clinica...</td>\n",
       "      <td>http://medrxiv.org/cgi/content/short/2020.05.2...</td>\n",
       "      <td>MedRxiv</td>\n",
       "      <td>NaN</td>\n",
       "      <td>NaN</td>\n",
       "      <td>NaN</td>\n",
       "      <td>NaN</td>\n",
       "      <td>NaN</td>\n",
       "      <td>...</td>\n",
       "      <td>Significant</td>\n",
       "      <td>Not Adjusted</td>\n",
       "      <td>Extracted</td>\n",
       "      <td>NaN</td>\n",
       "      <td>Retrospective observational study</td>\n",
       "      <td>299</td>\n",
       "      <td>299 patients with confirmed COVID-19 positive ...</td>\n",
       "      <td>NaN</td>\n",
       "      <td>Y</td>\n",
       "      <td>N</td>\n",
       "    </tr>\n",
       "    <tr>\n",
       "      <th>4</th>\n",
       "      <td>4</td>\n",
       "      <td>2020-05-29</td>\n",
       "      <td>Phenotypic characteristics and prognosis of in...</td>\n",
       "      <td>https://www.ncbi.nlm.nih.gov/pubmed/32472191/</td>\n",
       "      <td>Diabetologia</td>\n",
       "      <td>OR: 0.66</td>\n",
       "      <td>0.35</td>\n",
       "      <td>1.27</td>\n",
       "      <td>NaN</td>\n",
       "      <td>Not Significant</td>\n",
       "      <td>...</td>\n",
       "      <td>Not Significant</td>\n",
       "      <td>Not Adjusted</td>\n",
       "      <td>Extracted</td>\n",
       "      <td>NaN</td>\n",
       "      <td>Retrospective observational study</td>\n",
       "      <td>1317</td>\n",
       "      <td>The CORONADO study was launched in all French ...</td>\n",
       "      <td>NaN</td>\n",
       "      <td>Y</td>\n",
       "      <td>N</td>\n",
       "    </tr>\n",
       "  </tbody>\n",
       "</table>\n",
       "<p>5 rows × 26 columns</p>\n",
       "</div>"
      ],
      "text/plain": [
       "   Unnamed: 0        Date                                              Study  \\\n",
       "0           0  2020-06-01  Characteristics and Outcomes of COVID-19 Patie...   \n",
       "1           1  2020-05-31  Clinical Features and Short-term Outcomes of E...   \n",
       "2           2  2020-05-29  A clinical risk score to identify patients wit...   \n",
       "3           3  2020-05-29  The Association Between Biomarkers and Clinica...   \n",
       "4           4  2020-05-29  Phenotypic characteristics and prognosis of in...   \n",
       "\n",
       "                                          Study Link           Journal  \\\n",
       "0  http://medrxiv.org/cgi/content/short/2020.05.2...           MedRxiv   \n",
       "1  https://www.sciencedirect.com/science/article/...  Int J Infect Dis   \n",
       "2         https://doi.org/10.1016/j.jinf.2020.05.064          J Infect   \n",
       "3  http://medrxiv.org/cgi/content/short/2020.05.2...           MedRxiv   \n",
       "4      https://www.ncbi.nlm.nih.gov/pubmed/32472191/      Diabetologia   \n",
       "\n",
       "     Severe  Severe lower bound  Severe upper bound Severe p-value  \\\n",
       "0       NaN                 NaN                 NaN            NaN   \n",
       "1       NaN                 NaN                 NaN            NaN   \n",
       "2   HR=0.90                0.54                1.51            0.7   \n",
       "3       NaN                 NaN                 NaN            NaN   \n",
       "4  OR: 0.66                0.35                1.27            NaN   \n",
       "\n",
       "  Severe Significant  ... Fatality Significant Fatality Adjusted  \\\n",
       "0                NaN  ...          Significant      Not Adjusted   \n",
       "1                NaN  ...          Significant      Not Adjusted   \n",
       "2    Not Significant  ...      Not Significant      Not Adjusted   \n",
       "3                NaN  ...          Significant      Not Adjusted   \n",
       "4    Not Significant  ...      Not Significant      Not Adjusted   \n",
       "\n",
       "  Fatality Calculated  Multivariate adjustment  \\\n",
       "0          Calculated                      NaN   \n",
       "1           Extracted                      NaN   \n",
       "2           Extracted                      NaN   \n",
       "3           Extracted                      NaN   \n",
       "4           Extracted                      NaN   \n",
       "\n",
       "                          Study Type Sample Size  \\\n",
       "0  Retrospective observational study       13442   \n",
       "1  Retrospective observational study         204   \n",
       "2  Retrospective observational study        1157   \n",
       "3  Retrospective observational study         299   \n",
       "4  Retrospective observational study        1317   \n",
       "\n",
       "                                    Study Population Added on Critical only  \\\n",
       "0  New York City Health and Hospital between Marc...      NaN             N   \n",
       "1  Renmin  Hospital  of  Wuhan University  from  ...      NaN             N   \n",
       "2  King’s College Hospital and Princess Royal Uni...      NaN             Y   \n",
       "3  299 patients with confirmed COVID-19 positive ...      NaN             Y   \n",
       "4  The CORONADO study was launched in all French ...      NaN             Y   \n",
       "\n",
       "  Discharged vs. death?  \n",
       "0                     N  \n",
       "1                     N  \n",
       "2                     N  \n",
       "3                     N  \n",
       "4                     N  \n",
       "\n",
       "[5 rows x 26 columns]"
      ]
     },
     "execution_count": 293,
     "metadata": {},
     "output_type": "execute_result"
    }
   ],
   "source": [
    "kag.head()"
   ]
  },
  {
   "cell_type": "code",
   "execution_count": 294,
   "metadata": {},
   "outputs": [
    {
     "name": "stdout",
     "output_type": "stream",
     "text": [
      "covid.ipynb  \u001b[0m\u001b[01;34mpdf_json\u001b[0m/  \u001b[01;34mpmc_json\u001b[0m/\r\n"
     ]
    }
   ],
   "source": [
    "%ls document_parses"
   ]
  },
  {
   "cell_type": "code",
   "execution_count": 295,
   "metadata": {},
   "outputs": [],
   "source": [
    "keep=['Epidemiology, clinical course, and outcomes of critically ill adults with COVID-19 in New York City: a prospective cohort study']\n",
    "arts=set(kag['Study'])-set(keep)"
   ]
  },
  {
   "cell_type": "code",
   "execution_count": 296,
   "metadata": {},
   "outputs": [
    {
     "data": {
      "text/plain": [
       "8.634368"
      ]
     },
     "execution_count": 296,
     "metadata": {},
     "output_type": "execute_result"
    }
   ],
   "source": [
    "os.path.getsize('document_parses/pdf_json')/1000000"
   ]
  },
  {
   "cell_type": "markdown",
   "metadata": {},
   "source": [
    "## Filter papers that mention \"creatinine\" but are not listed as comorbidity risk papers"
   ]
  },
  {
   "cell_type": "code",
   "execution_count": 297,
   "metadata": {},
   "outputs": [],
   "source": [
    "creat=[]\n",
    "for i in os.listdir('document_parses/pdf_json'):\n",
    "    save=0\n",
    "    savee=0\n",
    "\n",
    "    with open('document_parses/pdf_json/'+i) as json_file:\n",
    "        data = json.load(json_file)\n",
    "        if data['metadata']['title'] not in list(arts):\n",
    "        \n",
    "            doc=[]\n",
    "            for c,j in enumerate(data['body_text']):\n",
    "            \n",
    "                #texts.append(data['body_text'][c]['text'])\n",
    "                row=[i,data['metadata']['title'],data['body_text'][c]['section'],data['body_text'][c]['text']]\n",
    "                if data['body_text'][c]['text'].lower().find('creatinine')>-1:\n",
    "                    save+=1\n",
    "                if data['body_text'][c]['text'].lower().find('covid-19')>-1:\n",
    "                    savee+=1\n",
    "                if data['body_text'][c]['text'].lower().find('covid19')>-1:\n",
    "                    savee+=1\n",
    "                doc.append(row)\n",
    "            if save>0:\n",
    "                if savee>0:\n",
    "                    creat.append(doc)\n",
    "        else:\n",
    "            pass"
   ]
  },
  {
   "cell_type": "code",
   "execution_count": 298,
   "metadata": {},
   "outputs": [],
   "source": [
    "jsons=[j[0] for i in creat for j in i]\n",
    "titles=[j[1] for i in creat for j in i]\n",
    "sections=[j[2] for i in creat for j in i]\n",
    "text=[j[1]+'.  '+j[2]+'.  '+j[3] for i in creat for j in i]"
   ]
  },
  {
   "cell_type": "code",
   "execution_count": 299,
   "metadata": {},
   "outputs": [],
   "source": [
    "creats=pd.DataFrame(None,columns=['jsons','titles','sections','text'])"
   ]
  },
  {
   "cell_type": "code",
   "execution_count": 300,
   "metadata": {},
   "outputs": [],
   "source": [
    "creats.jsons=jsons\n",
    "creats.titles=titles\n",
    "creats.sections=sections\n",
    "creats.text=text"
   ]
  },
  {
   "cell_type": "code",
   "execution_count": 301,
   "metadata": {},
   "outputs": [
    {
     "data": {
      "text/html": [
       "<div>\n",
       "<style scoped>\n",
       "    .dataframe tbody tr th:only-of-type {\n",
       "        vertical-align: middle;\n",
       "    }\n",
       "\n",
       "    .dataframe tbody tr th {\n",
       "        vertical-align: top;\n",
       "    }\n",
       "\n",
       "    .dataframe thead th {\n",
       "        text-align: right;\n",
       "    }\n",
       "</style>\n",
       "<table border=\"1\" class=\"dataframe\">\n",
       "  <thead>\n",
       "    <tr style=\"text-align: right;\">\n",
       "      <th></th>\n",
       "      <th>jsons</th>\n",
       "      <th>titles</th>\n",
       "      <th>sections</th>\n",
       "      <th>text</th>\n",
       "    </tr>\n",
       "  </thead>\n",
       "  <tbody>\n",
       "    <tr>\n",
       "      <th>0</th>\n",
       "      <td>fd4ccbdac4837e90209823ff38dbb82e58c51c3f.json</td>\n",
       "      <td>Journal Pre-proof Breastfeeding and Medication...</td>\n",
       "      <td>Introduction</td>\n",
       "      <td>Journal Pre-proof Breastfeeding and Medication...</td>\n",
       "    </tr>\n",
       "    <tr>\n",
       "      <th>1</th>\n",
       "      <td>fd4ccbdac4837e90209823ff38dbb82e58c51c3f.json</td>\n",
       "      <td>Journal Pre-proof Breastfeeding and Medication...</td>\n",
       "      <td>Introduction</td>\n",
       "      <td>Journal Pre-proof Breastfeeding and Medication...</td>\n",
       "    </tr>\n",
       "    <tr>\n",
       "      <th>2</th>\n",
       "      <td>fd4ccbdac4837e90209823ff38dbb82e58c51c3f.json</td>\n",
       "      <td>Journal Pre-proof Breastfeeding and Medication...</td>\n",
       "      <td>Introduction</td>\n",
       "      <td>Journal Pre-proof Breastfeeding and Medication...</td>\n",
       "    </tr>\n",
       "    <tr>\n",
       "      <th>3</th>\n",
       "      <td>fd4ccbdac4837e90209823ff38dbb82e58c51c3f.json</td>\n",
       "      <td>Journal Pre-proof Breastfeeding and Medication...</td>\n",
       "      <td>Mammary glands</td>\n",
       "      <td>Journal Pre-proof Breastfeeding and Medication...</td>\n",
       "    </tr>\n",
       "    <tr>\n",
       "      <th>4</th>\n",
       "      <td>fd4ccbdac4837e90209823ff38dbb82e58c51c3f.json</td>\n",
       "      <td>Journal Pre-proof Breastfeeding and Medication...</td>\n",
       "      <td>Mammary glands</td>\n",
       "      <td>Journal Pre-proof Breastfeeding and Medication...</td>\n",
       "    </tr>\n",
       "  </tbody>\n",
       "</table>\n",
       "</div>"
      ],
      "text/plain": [
       "                                           jsons  \\\n",
       "0  fd4ccbdac4837e90209823ff38dbb82e58c51c3f.json   \n",
       "1  fd4ccbdac4837e90209823ff38dbb82e58c51c3f.json   \n",
       "2  fd4ccbdac4837e90209823ff38dbb82e58c51c3f.json   \n",
       "3  fd4ccbdac4837e90209823ff38dbb82e58c51c3f.json   \n",
       "4  fd4ccbdac4837e90209823ff38dbb82e58c51c3f.json   \n",
       "\n",
       "                                              titles        sections  \\\n",
       "0  Journal Pre-proof Breastfeeding and Medication...    Introduction   \n",
       "1  Journal Pre-proof Breastfeeding and Medication...    Introduction   \n",
       "2  Journal Pre-proof Breastfeeding and Medication...    Introduction   \n",
       "3  Journal Pre-proof Breastfeeding and Medication...  Mammary glands   \n",
       "4  Journal Pre-proof Breastfeeding and Medication...  Mammary glands   \n",
       "\n",
       "                                                text  \n",
       "0  Journal Pre-proof Breastfeeding and Medication...  \n",
       "1  Journal Pre-proof Breastfeeding and Medication...  \n",
       "2  Journal Pre-proof Breastfeeding and Medication...  \n",
       "3  Journal Pre-proof Breastfeeding and Medication...  \n",
       "4  Journal Pre-proof Breastfeeding and Medication...  "
      ]
     },
     "execution_count": 301,
     "metadata": {},
     "output_type": "execute_result"
    }
   ],
   "source": [
    "creats.head()"
   ]
  },
  {
   "cell_type": "code",
   "execution_count": 302,
   "metadata": {},
   "outputs": [],
   "source": [
    "docs=creats.copy(deep=True)"
   ]
  },
  {
   "cell_type": "code",
   "execution_count": 303,
   "metadata": {},
   "outputs": [],
   "source": [
    "docs.drop_duplicates(keep='first',inplace=True)"
   ]
  },
  {
   "cell_type": "code",
   "execution_count": 304,
   "metadata": {},
   "outputs": [
    {
     "data": {
      "text/plain": [
       "1524"
      ]
     },
     "execution_count": 304,
     "metadata": {},
     "output_type": "execute_result"
    }
   ],
   "source": [
    "# NUMBER OF UNIQUE DOCUMENTS IN THE DATA SET\n",
    "docs['jsons'].nunique()"
   ]
  },
  {
   "cell_type": "code",
   "execution_count": 306,
   "metadata": {},
   "outputs": [],
   "source": [
    "docs.to_csv('covid.csv')"
   ]
  },
  {
   "cell_type": "code",
   "execution_count": 307,
   "metadata": {},
   "outputs": [],
   "source": [
    "docs=pd.read_csv('covid.csv')"
   ]
  },
  {
   "cell_type": "markdown",
   "metadata": {},
   "source": [
    "## Use pretrained NER model to find Problems, Tests, and Treatments"
   ]
  },
  {
   "cell_type": "code",
   "execution_count": 308,
   "metadata": {},
   "outputs": [
    {
     "name": "stdout",
     "output_type": "stream",
     "text": [
      "\u001b[33mWARNING: You are using pip version 20.1; however, version 20.2.3 is available.\n",
      "You should consider upgrading via the '/home/myilmaz/devel/mag/notebooks/3.7env/bin/python -m pip install --upgrade pip' command.\u001b[0m\n",
      "\u001b[31mERROR: spark-nlp-jsl 2.5.4rc4 has requirement spark-nlp==2.5.4, but you'll have spark-nlp 2.5.0 which is incompatible.\u001b[0m\n",
      "\u001b[33mWARNING: You are using pip version 20.1; however, version 20.2.3 is available.\n",
      "You should consider upgrading via the '/home/myilmaz/devel/mag/notebooks/3.7env/bin/python -m pip install --upgrade pip' command.\u001b[0m\n",
      "2.5.0\n"
     ]
    }
   ],
   "source": [
    "import os\n",
    "\n",
    "\n",
    "import pyspark.sql.functions as F\n",
    "from pyspark.sql.functions import monotonically_increasing_id\n",
    "import json\n",
    "import os\n",
    "from pyspark.ml import Pipeline\n",
    "from pyspark.sql import SparkSession\n",
    "\n",
    "\n",
    "from sparknlp.annotator import *\n",
    "\n",
    "from sparknlp.base import *\n",
    "\n",
    "# Install pyspark\n",
    "! pip install --ignore-installed -q pyspark==2.4.4\n",
    "\n",
    "\n",
    "# Install Spark NLP\n",
    "! pip install --ignore-installed -q spark-nlp==2.5\n",
    "\n",
    "\n",
    "import sparknlp\n",
    "\n",
    "print (sparknlp.version())\n",
    "\n",
    "import json\n",
    "import os\n",
    "from pyspark.ml import Pipeline\n",
    "from pyspark.sql import SparkSession\n",
    "from sparknlp.annotator import *\n",
    "\n",
    "from sparknlp.base import *\n",
    "\n",
    "from pyspark.sql.functions import monotonically_increasing_id\n",
    "import pyspark.sql.functions as F\n",
    "import pyspark.sql.types as t\n",
    "\n",
    "\n"
   ]
  },
  {
   "cell_type": "code",
   "execution_count": 309,
   "metadata": {},
   "outputs": [],
   "source": [
    "\n",
    "spark=sparknlp.start()"
   ]
  },
  {
   "cell_type": "code",
   "execution_count": 310,
   "metadata": {},
   "outputs": [],
   "source": [
    "docs.fillna('',inplace=True)"
   ]
  },
  {
   "cell_type": "code",
   "execution_count": 311,
   "metadata": {},
   "outputs": [
    {
     "data": {
      "text/html": [
       "<div>\n",
       "<style scoped>\n",
       "    .dataframe tbody tr th:only-of-type {\n",
       "        vertical-align: middle;\n",
       "    }\n",
       "\n",
       "    .dataframe tbody tr th {\n",
       "        vertical-align: top;\n",
       "    }\n",
       "\n",
       "    .dataframe thead th {\n",
       "        text-align: right;\n",
       "    }\n",
       "</style>\n",
       "<table border=\"1\" class=\"dataframe\">\n",
       "  <thead>\n",
       "    <tr style=\"text-align: right;\">\n",
       "      <th></th>\n",
       "      <th>Unnamed: 0</th>\n",
       "      <th>jsons</th>\n",
       "      <th>titles</th>\n",
       "      <th>sections</th>\n",
       "      <th>text</th>\n",
       "    </tr>\n",
       "  </thead>\n",
       "  <tbody>\n",
       "    <tr>\n",
       "      <th>0</th>\n",
       "      <td>0</td>\n",
       "      <td>fd4ccbdac4837e90209823ff38dbb82e58c51c3f.json</td>\n",
       "      <td>Journal Pre-proof Breastfeeding and Medication...</td>\n",
       "      <td>Introduction</td>\n",
       "      <td>Journal Pre-proof Breastfeeding and Medication...</td>\n",
       "    </tr>\n",
       "  </tbody>\n",
       "</table>\n",
       "</div>"
      ],
      "text/plain": [
       "   Unnamed: 0                                          jsons  \\\n",
       "0           0  fd4ccbdac4837e90209823ff38dbb82e58c51c3f.json   \n",
       "\n",
       "                                              titles      sections  \\\n",
       "0  Journal Pre-proof Breastfeeding and Medication...  Introduction   \n",
       "\n",
       "                                                text  \n",
       "0  Journal Pre-proof Breastfeeding and Medication...  "
      ]
     },
     "execution_count": 311,
     "metadata": {},
     "output_type": "execute_result"
    }
   ],
   "source": [
    "docs.head(1)"
   ]
  },
  {
   "cell_type": "code",
   "execution_count": 312,
   "metadata": {},
   "outputs": [],
   "source": [
    "sparkdocs=spark.createDataFrame(docs).toDF('index','docid','title','section','text')"
   ]
  },
  {
   "cell_type": "code",
   "execution_count": 313,
   "metadata": {},
   "outputs": [],
   "source": [
    "document_assembler = DocumentAssembler() \\\n",
    "        .setInputCol(\"text\")\\\n",
    "        .setOutputCol('document')\n",
    "    \n",
    "sentence_detector = SentenceDetector() \\\n",
    "        .setInputCols([\"document\"]) \\\n",
    "        .setOutputCol(\"sentence\")\n",
    "\n",
    "tokenizer = Tokenizer() \\\n",
    "        .setInputCols([\"sentence\"]) \\\n",
    "        .setOutputCol(\"token\")\n",
    "\n",
    "word_embeddings = WordEmbeddingsModel.load(\"/home/myilmaz/cache_pretrained/embeddings_clinical_en_2.4.0_2.4_1580237286004\")\\\n",
    "  .setInputCols([\"sentence\", \"token\"])\\\n",
    "  .setOutputCol(\"embeddings\")\n",
    "clinical_ner = NerDLModel.load('/home/myilmaz/cache_pretrained/ner_clinical_en_2.4.0_2.4_1580237286004') \\\n",
    "        .setInputCols([\"sentence\", \"token\", \"embeddings\"]) \\\n",
    "        .setOutputCol(\"ner\")\n",
    "ner_converter = NerConverter() \\\n",
    "  .setInputCols([\"sentence\", \"token\", \"ner\"]) \\\n",
    "  .setOutputCol(\"ner_chunk\")\n",
    "nlpPipeline = Pipeline(stages=[document_assembler,sentence_detector,tokenizer,\n",
    "    word_embeddings,\n",
    "    clinical_ner,ner_converter\n",
    "    ])\n",
    "\n",
    "\n",
    "empty_data = spark.createDataFrame([[\"\"]]).toDF(\"text\")\n",
    "\n",
    "model = nlpPipeline.fit(empty_data)\n"
   ]
  },
  {
   "cell_type": "code",
   "execution_count": 314,
   "metadata": {},
   "outputs": [],
   "source": [
    "results=model.transform(sparkdocs)"
   ]
  },
  {
   "cell_type": "code",
   "execution_count": 315,
   "metadata": {},
   "outputs": [
    {
     "data": {
      "text/plain": [
       "['index',\n",
       " 'docid',\n",
       " 'title',\n",
       " 'section',\n",
       " 'text',\n",
       " 'document',\n",
       " 'sentence',\n",
       " 'token',\n",
       " 'embeddings',\n",
       " 'ner',\n",
       " 'ner_chunk']"
      ]
     },
     "execution_count": 315,
     "metadata": {},
     "output_type": "execute_result"
    }
   ],
   "source": [
    "results.columns"
   ]
  },
  {
   "cell_type": "code",
   "execution_count": 316,
   "metadata": {},
   "outputs": [],
   "source": [
    "exploded = results.select('docid','section',F.explode(F.arrays_zip('token.metadata','token.result','ner.result')).alias(\"cols\")) \\\n",
    "        .select('docid','section',F.expr(\"cols['0'].sentence\").alias(\"sentid\"),\n",
    "        F.col('cols.1').alias(\"token\"),F.col('cols.2').alias(\"label\"))"
   ]
  },
  {
   "cell_type": "markdown",
   "metadata": {},
   "source": [
    "## Save annotated documents for further analysis"
   ]
  },
  {
   "cell_type": "code",
   "execution_count": 318,
   "metadata": {
    "scrolled": true
   },
   "outputs": [],
   "source": [
    "exploded.write.option(\"header\", \"true\").csv(\"covid2.csv\")"
   ]
  },
  {
   "cell_type": "code",
   "execution_count": 321,
   "metadata": {},
   "outputs": [
    {
     "data": {
      "text/plain": [
       "'.part-00000-6c471ba4-5c8b-4358-bef5-c5e2907a1a52-c000.csv.crc'"
      ]
     },
     "execution_count": 321,
     "metadata": {},
     "output_type": "execute_result"
    }
   ],
   "source": [
    "os.listdir('covid2.csv')[0]"
   ]
  },
  {
   "cell_type": "code",
   "execution_count": 424,
   "metadata": {},
   "outputs": [],
   "source": [
    "import pyspark.sql.types as t\n",
    "myschema = t.StructType(\n",
    "   [\n",
    "    t.StructField('docid', t.StringType(), True),\n",
    "    t.StructField('section', t.StringType(), True),\n",
    "    t.StructField('sentid', t.IntegerType(), True),\n",
    "    t.StructField('token', t.StringType(), True),\n",
    "    t.StructField('label', t.StringType(), True)\n",
    "\n",
    "   ]\n",
    "  )"
   ]
  },
  {
   "cell_type": "code",
   "execution_count": 425,
   "metadata": {},
   "outputs": [],
   "source": [
    "csvs=os.listdir('covid2.csv')[0:26]\n",
    "big=pd.DataFrame(None)\n",
    "for i in csvs:\n",
    "    \n",
    "    dfs=spark.read.csv('covid2.csv/'+i,sep=',',schema=myschema,header=True)\n",
    "    one=dfs.toPandas()\n",
    "    big=big.append(one)"
   ]
  },
  {
   "cell_type": "code",
   "execution_count": 428,
   "metadata": {},
   "outputs": [
    {
     "data": {
      "text/html": [
       "<div>\n",
       "<style scoped>\n",
       "    .dataframe tbody tr th:only-of-type {\n",
       "        vertical-align: middle;\n",
       "    }\n",
       "\n",
       "    .dataframe tbody tr th {\n",
       "        vertical-align: top;\n",
       "    }\n",
       "\n",
       "    .dataframe thead th {\n",
       "        text-align: right;\n",
       "    }\n",
       "</style>\n",
       "<table border=\"1\" class=\"dataframe\">\n",
       "  <thead>\n",
       "    <tr style=\"text-align: right;\">\n",
       "      <th></th>\n",
       "      <th>docid</th>\n",
       "      <th>section</th>\n",
       "      <th>sentid</th>\n",
       "      <th>token</th>\n",
       "      <th>label</th>\n",
       "    </tr>\n",
       "  </thead>\n",
       "  <tbody>\n",
       "    <tr>\n",
       "      <th>0</th>\n",
       "      <td>c74590a8197039412e38fdf679cd27ecac01ff72.json</td>\n",
       "      <td>CASE REPORT</td>\n",
       "      <td>0</td>\n",
       "      <td>Protracted</td>\n",
       "      <td>O</td>\n",
       "    </tr>\n",
       "    <tr>\n",
       "      <th>1</th>\n",
       "      <td>c74590a8197039412e38fdf679cd27ecac01ff72.json</td>\n",
       "      <td>CASE REPORT</td>\n",
       "      <td>0</td>\n",
       "      <td>course</td>\n",
       "      <td>O</td>\n",
       "    </tr>\n",
       "    <tr>\n",
       "      <th>2</th>\n",
       "      <td>c74590a8197039412e38fdf679cd27ecac01ff72.json</td>\n",
       "      <td>CASE REPORT</td>\n",
       "      <td>0</td>\n",
       "      <td>of</td>\n",
       "      <td>O</td>\n",
       "    </tr>\n",
       "    <tr>\n",
       "      <th>3</th>\n",
       "      <td>c74590a8197039412e38fdf679cd27ecac01ff72.json</td>\n",
       "      <td>CASE REPORT</td>\n",
       "      <td>0</td>\n",
       "      <td>coronavirus</td>\n",
       "      <td>B-PROBLEM</td>\n",
       "    </tr>\n",
       "    <tr>\n",
       "      <th>4</th>\n",
       "      <td>c74590a8197039412e38fdf679cd27ecac01ff72.json</td>\n",
       "      <td>CASE REPORT</td>\n",
       "      <td>0</td>\n",
       "      <td>disease</td>\n",
       "      <td>I-PROBLEM</td>\n",
       "    </tr>\n",
       "  </tbody>\n",
       "</table>\n",
       "</div>"
      ],
      "text/plain": [
       "                                           docid      section  sentid  \\\n",
       "0  c74590a8197039412e38fdf679cd27ecac01ff72.json  CASE REPORT       0   \n",
       "1  c74590a8197039412e38fdf679cd27ecac01ff72.json  CASE REPORT       0   \n",
       "2  c74590a8197039412e38fdf679cd27ecac01ff72.json  CASE REPORT       0   \n",
       "3  c74590a8197039412e38fdf679cd27ecac01ff72.json  CASE REPORT       0   \n",
       "4  c74590a8197039412e38fdf679cd27ecac01ff72.json  CASE REPORT       0   \n",
       "\n",
       "         token      label  \n",
       "0   Protracted          O  \n",
       "1       course          O  \n",
       "2           of          O  \n",
       "3  coronavirus  B-PROBLEM  \n",
       "4      disease  I-PROBLEM  "
      ]
     },
     "execution_count": 428,
     "metadata": {},
     "output_type": "execute_result"
    }
   ],
   "source": [
    "big.head()"
   ]
  },
  {
   "cell_type": "code",
   "execution_count": 429,
   "metadata": {},
   "outputs": [],
   "source": [
    "import numpy as np\n",
    "\n",
    "tokens=[]\n",
    "savei=''\n",
    "save=0\n",
    "for i,j in zip(big.token,big.label):\n",
    "    if j.split('-')[0]!='I':\n",
    "        if save<0:\n",
    "            tokens[save]=savei\n",
    "            tokens.append(np.nan)\n",
    "            savei=i\n",
    "            save=0\n",
    "            continue\n",
    "        else:\n",
    "            tokens.append(savei)\n",
    "            savei=i\n",
    "            save=0\n",
    "            continue\n",
    "    elif j.split('-')[0]=='I':\n",
    "        savei+=' '+i\n",
    "        save-=1\n",
    "        tokens.append(np.nan)\n",
    "    else:\n",
    "        tokens.append(np.nan)\n",
    "\n",
    "               \n",
    "if save<0:\n",
    "    tokens[save]=savei\n",
    "    tokens.append(np.nan)\n",
    "else:\n",
    "    tokens.append(savei) \n",
    "    \n",
    "tokens=tokens[1:]\n",
    "        "
   ]
  },
  {
   "cell_type": "code",
   "execution_count": 430,
   "metadata": {},
   "outputs": [],
   "source": [
    "big['chunks']=tokens"
   ]
  },
  {
   "cell_type": "code",
   "execution_count": 436,
   "metadata": {},
   "outputs": [],
   "source": [
    "bigdf=big[big['chunks'].notnull()]"
   ]
  },
  {
   "cell_type": "code",
   "execution_count": 437,
   "metadata": {},
   "outputs": [],
   "source": [
    "bigdf=bigdf[bigdf['label']!='O']"
   ]
  },
  {
   "cell_type": "code",
   "execution_count": 438,
   "metadata": {},
   "outputs": [
    {
     "data": {
      "text/plain": [
       "SARS-CoV-2                                   6336\n",
       "SARS-CoV-2 infection                         2727\n",
       "treatment                                    2692\n",
       "death                                        2463\n",
       "AKI                                          2275\n",
       "                                             ... \n",
       "the unbound lung exposure of CQ                 1\n",
       "ciclesonide blocks SARS-CoV-2 ribonucleic       1\n",
       "the renal histopathologic                       1\n",
       "clinic averages                                 1\n",
       "Calorie-sweeteners include natural sugars       1\n",
       "Name: chunks, Length: 210103, dtype: int64"
      ]
     },
     "execution_count": 438,
     "metadata": {},
     "output_type": "execute_result"
    }
   ],
   "source": [
    "bigdf['chunks'].value_counts()"
   ]
  },
  {
   "cell_type": "markdown",
   "metadata": {},
   "source": [
    "## Prep for visualizations"
   ]
  },
  {
   "cell_type": "code",
   "execution_count": 439,
   "metadata": {},
   "outputs": [],
   "source": [
    "problems=bigdf[bigdf['label']=='B-PROBLEM']"
   ]
  },
  {
   "cell_type": "code",
   "execution_count": 440,
   "metadata": {},
   "outputs": [],
   "source": [
    "tests=bigdf[bigdf['label']=='B-TEST']"
   ]
  },
  {
   "cell_type": "code",
   "execution_count": 441,
   "metadata": {},
   "outputs": [],
   "source": [
    "probhist=pd.DataFrame(problems['chunks'].value_counts())\n",
    "probhist=probhist.rename(columns={'chunks':'counts'})\n",
    "probhist2=probhist.iloc[0:100]"
   ]
  },
  {
   "cell_type": "code",
   "execution_count": 442,
   "metadata": {},
   "outputs": [],
   "source": [
    "testhist=pd.DataFrame(tests['chunks'].value_counts())\n",
    "testhist=testhist.rename(columns={'chunks':'counts'})\n",
    "testhist2=testhist.iloc[0:100]"
   ]
  },
  {
   "cell_type": "markdown",
   "metadata": {},
   "source": [
    "## Look at most frequent \"Test\" entities"
   ]
  },
  {
   "cell_type": "code",
   "execution_count": 443,
   "metadata": {},
   "outputs": [
    {
     "data": {
      "text/html": [
       "<div>\n",
       "<style scoped>\n",
       "    .dataframe tbody tr th:only-of-type {\n",
       "        vertical-align: middle;\n",
       "    }\n",
       "\n",
       "    .dataframe tbody tr th {\n",
       "        vertical-align: top;\n",
       "    }\n",
       "\n",
       "    .dataframe thead th {\n",
       "        text-align: right;\n",
       "    }\n",
       "</style>\n",
       "<table border=\"1\" class=\"dataframe\">\n",
       "  <thead>\n",
       "    <tr style=\"text-align: right;\">\n",
       "      <th></th>\n",
       "      <th>counts</th>\n",
       "    </tr>\n",
       "  </thead>\n",
       "  <tbody>\n",
       "    <tr>\n",
       "      <th>this study</th>\n",
       "      <td>2184</td>\n",
       "    </tr>\n",
       "    <tr>\n",
       "      <th>the study</th>\n",
       "      <td>1993</td>\n",
       "    </tr>\n",
       "    <tr>\n",
       "      <th>CRP</th>\n",
       "      <td>1401</td>\n",
       "    </tr>\n",
       "    <tr>\n",
       "      <th>our study</th>\n",
       "      <td>1217</td>\n",
       "    </tr>\n",
       "    <tr>\n",
       "      <th>creatinine</th>\n",
       "      <td>1049</td>\n",
       "    </tr>\n",
       "    <tr>\n",
       "      <th>studies</th>\n",
       "      <td>1042</td>\n",
       "    </tr>\n",
       "    <tr>\n",
       "      <th>data</th>\n",
       "      <td>1013</td>\n",
       "    </tr>\n",
       "    <tr>\n",
       "      <th>CI</th>\n",
       "      <td>986</td>\n",
       "    </tr>\n",
       "    <tr>\n",
       "      <th>Accepted Article</th>\n",
       "      <td>968</td>\n",
       "    </tr>\n",
       "    <tr>\n",
       "      <th>A</th>\n",
       "      <td>941</td>\n",
       "    </tr>\n",
       "    <tr>\n",
       "      <th>D-dimer</th>\n",
       "      <td>853</td>\n",
       "    </tr>\n",
       "    <tr>\n",
       "      <th>IL-6</th>\n",
       "      <td>847</td>\n",
       "    </tr>\n",
       "    <tr>\n",
       "      <th>RT-PCR</th>\n",
       "      <td>800</td>\n",
       "    </tr>\n",
       "    <tr>\n",
       "      <th>LDH</th>\n",
       "      <td>759</td>\n",
       "    </tr>\n",
       "    <tr>\n",
       "      <th>C-reactive protein</th>\n",
       "      <td>668</td>\n",
       "    </tr>\n",
       "    <tr>\n",
       "      <th>AST</th>\n",
       "      <td>660</td>\n",
       "    </tr>\n",
       "    <tr>\n",
       "      <th>ALT</th>\n",
       "      <td>655</td>\n",
       "    </tr>\n",
       "    <tr>\n",
       "      <th>e</th>\n",
       "      <td>638</td>\n",
       "    </tr>\n",
       "    <tr>\n",
       "      <th>This study</th>\n",
       "      <td>616</td>\n",
       "    </tr>\n",
       "    <tr>\n",
       "      <th>SARS-CoV-2</th>\n",
       "      <td>615</td>\n",
       "    </tr>\n",
       "    <tr>\n",
       "      <th>Statistical analysis</th>\n",
       "      <td>592</td>\n",
       "    </tr>\n",
       "    <tr>\n",
       "      <th>COVID</th>\n",
       "      <td>585</td>\n",
       "    </tr>\n",
       "    <tr>\n",
       "      <th>E</th>\n",
       "      <td>551</td>\n",
       "    </tr>\n",
       "    <tr>\n",
       "      <th>PCR</th>\n",
       "      <td>546</td>\n",
       "    </tr>\n",
       "    <tr>\n",
       "      <th>C</th>\n",
       "      <td>543</td>\n",
       "    </tr>\n",
       "    <tr>\n",
       "      <th>U/L</th>\n",
       "      <td>527</td>\n",
       "    </tr>\n",
       "    <tr>\n",
       "      <th>procalcitonin</th>\n",
       "      <td>483</td>\n",
       "    </tr>\n",
       "    <tr>\n",
       "      <th>CT</th>\n",
       "      <td>479</td>\n",
       "    </tr>\n",
       "    <tr>\n",
       "      <th>mg/dL</th>\n",
       "      <td>479</td>\n",
       "    </tr>\n",
       "    <tr>\n",
       "      <th>ferritin</th>\n",
       "      <td>479</td>\n",
       "    </tr>\n",
       "    <tr>\n",
       "      <th>the data</th>\n",
       "      <td>477</td>\n",
       "    </tr>\n",
       "    <tr>\n",
       "      <th>COVID-19</th>\n",
       "      <td>458</td>\n",
       "    </tr>\n",
       "    <tr>\n",
       "      <th>lactate dehydrogenase</th>\n",
       "      <td>446</td>\n",
       "    </tr>\n",
       "    <tr>\n",
       "      <th>The study</th>\n",
       "      <td>446</td>\n",
       "    </tr>\n",
       "    <tr>\n",
       "      <th>analysis</th>\n",
       "      <td>443</td>\n",
       "    </tr>\n",
       "    <tr>\n",
       "      <th>ACE2</th>\n",
       "      <td>442</td>\n",
       "    </tr>\n",
       "    <tr>\n",
       "      <th>&lt;</th>\n",
       "      <td>429</td>\n",
       "    </tr>\n",
       "    <tr>\n",
       "      <th>study</th>\n",
       "      <td>427</td>\n",
       "    </tr>\n",
       "    <tr>\n",
       "      <th>a study</th>\n",
       "      <td>412</td>\n",
       "    </tr>\n",
       "    <tr>\n",
       "      <th>clinical trials</th>\n",
       "      <td>398</td>\n",
       "    </tr>\n",
       "  </tbody>\n",
       "</table>\n",
       "</div>"
      ],
      "text/plain": [
       "                       counts\n",
       "this study               2184\n",
       "the study                1993\n",
       "CRP                      1401\n",
       "our study                1217\n",
       "creatinine               1049\n",
       "studies                  1042\n",
       "data                     1013\n",
       "CI                        986\n",
       "Accepted Article          968\n",
       "A                         941\n",
       "D-dimer                   853\n",
       "IL-6                      847\n",
       "RT-PCR                    800\n",
       "LDH                       759\n",
       "C-reactive protein        668\n",
       "AST                       660\n",
       "ALT                       655\n",
       "e                         638\n",
       "This study                616\n",
       "SARS-CoV-2                615\n",
       "Statistical analysis      592\n",
       "COVID                     585\n",
       "E                         551\n",
       "PCR                       546\n",
       "C                         543\n",
       "U/L                       527\n",
       "procalcitonin             483\n",
       "CT                        479\n",
       "mg/dL                     479\n",
       "ferritin                  479\n",
       "the data                  477\n",
       "COVID-19                  458\n",
       "lactate dehydrogenase     446\n",
       "The study                 446\n",
       "analysis                  443\n",
       "ACE2                      442\n",
       "<                         429\n",
       "study                     427\n",
       "a study                   412\n",
       "clinical trials           398"
      ]
     },
     "execution_count": 443,
     "metadata": {},
     "output_type": "execute_result"
    }
   ],
   "source": [
    "testhist2.head(40)"
   ]
  },
  {
   "cell_type": "code",
   "execution_count": 444,
   "metadata": {},
   "outputs": [
    {
     "data": {
      "image/png": "[encoded data removed]",
      "text/plain": [
       "<Figure size 1728x864 with 1 Axes>"
      ]
     },
     "metadata": {
      "needs_background": "light"
     },
     "output_type": "display_data"
    }
   ],
   "source": [
    "import matplotlib.pyplot as plt\n",
    "import seaborn as sns\n",
    "fig, ax = plt.subplots(figsize =(24,12))\n",
    "chart=sns.barplot(testhist2.index,testhist2['counts'])\n",
    "chart.set_xticklabels(testhist2.index,rotation=90)\n",
    "plt.title('Test Entities',fontsize=18)\n",
    "plt.show()"
   ]
  },
  {
   "cell_type": "markdown",
   "metadata": {},
   "source": [
    "## Look at most frequent \"Problem\" entities"
   ]
  },
  {
   "cell_type": "code",
   "execution_count": 445,
   "metadata": {},
   "outputs": [
    {
     "data": {
      "text/html": [
       "<div>\n",
       "<style scoped>\n",
       "    .dataframe tbody tr th:only-of-type {\n",
       "        vertical-align: middle;\n",
       "    }\n",
       "\n",
       "    .dataframe tbody tr th {\n",
       "        vertical-align: top;\n",
       "    }\n",
       "\n",
       "    .dataframe thead th {\n",
       "        text-align: right;\n",
       "    }\n",
       "</style>\n",
       "<table border=\"1\" class=\"dataframe\">\n",
       "  <thead>\n",
       "    <tr style=\"text-align: right;\">\n",
       "      <th></th>\n",
       "      <th>counts</th>\n",
       "    </tr>\n",
       "  </thead>\n",
       "  <tbody>\n",
       "    <tr>\n",
       "      <th>SARS-CoV-2</th>\n",
       "      <td>4749</td>\n",
       "    </tr>\n",
       "    <tr>\n",
       "      <th>SARS-CoV-2 infection</th>\n",
       "      <td>2725</td>\n",
       "    </tr>\n",
       "    <tr>\n",
       "      <th>death</th>\n",
       "      <td>2431</td>\n",
       "    </tr>\n",
       "    <tr>\n",
       "      <th>AKI</th>\n",
       "      <td>2273</td>\n",
       "    </tr>\n",
       "    <tr>\n",
       "      <th>fever</th>\n",
       "      <td>2062</td>\n",
       "    </tr>\n",
       "    <tr>\n",
       "      <th>hypertension</th>\n",
       "      <td>2059</td>\n",
       "    </tr>\n",
       "    <tr>\n",
       "      <th>diabetes</th>\n",
       "      <td>1946</td>\n",
       "    </tr>\n",
       "    <tr>\n",
       "      <th>ARDS</th>\n",
       "      <td>1845</td>\n",
       "    </tr>\n",
       "    <tr>\n",
       "      <th>infection</th>\n",
       "      <td>1588</td>\n",
       "    </tr>\n",
       "    <tr>\n",
       "      <th>the disease</th>\n",
       "      <td>1530</td>\n",
       "    </tr>\n",
       "    <tr>\n",
       "      <th>SARS</th>\n",
       "      <td>1526</td>\n",
       "    </tr>\n",
       "    <tr>\n",
       "      <th>symptoms</th>\n",
       "      <td>1444</td>\n",
       "    </tr>\n",
       "    <tr>\n",
       "      <th>SARS-CoV</th>\n",
       "      <td>1369</td>\n",
       "    </tr>\n",
       "    <tr>\n",
       "      <th>coronavirus disease</th>\n",
       "      <td>1334</td>\n",
       "    </tr>\n",
       "    <tr>\n",
       "      <th>COVID-19 infection</th>\n",
       "      <td>1300</td>\n",
       "    </tr>\n",
       "    <tr>\n",
       "      <th>the virus</th>\n",
       "      <td>1210</td>\n",
       "    </tr>\n",
       "    <tr>\n",
       "      <th>pneumonia</th>\n",
       "      <td>1188</td>\n",
       "    </tr>\n",
       "    <tr>\n",
       "      <th>infected</th>\n",
       "      <td>1145</td>\n",
       "    </tr>\n",
       "    <tr>\n",
       "      <th>cough</th>\n",
       "      <td>1121</td>\n",
       "    </tr>\n",
       "    <tr>\n",
       "      <th>comorbidities</th>\n",
       "      <td>892</td>\n",
       "    </tr>\n",
       "    <tr>\n",
       "      <th>acute kidney injury</th>\n",
       "      <td>823</td>\n",
       "    </tr>\n",
       "    <tr>\n",
       "      <th>dyspnea</th>\n",
       "      <td>792</td>\n",
       "    </tr>\n",
       "    <tr>\n",
       "      <th>diarrhea</th>\n",
       "      <td>774</td>\n",
       "    </tr>\n",
       "    <tr>\n",
       "      <th>disease severity</th>\n",
       "      <td>736</td>\n",
       "    </tr>\n",
       "    <tr>\n",
       "      <th>cancer</th>\n",
       "      <td>716</td>\n",
       "    </tr>\n",
       "    <tr>\n",
       "      <th>mortality</th>\n",
       "      <td>697</td>\n",
       "    </tr>\n",
       "    <tr>\n",
       "      <th>acute respiratory distress syndrome</th>\n",
       "      <td>697</td>\n",
       "    </tr>\n",
       "    <tr>\n",
       "      <th>Coronavirus Disease</th>\n",
       "      <td>693</td>\n",
       "    </tr>\n",
       "    <tr>\n",
       "      <th>MERS-CoV</th>\n",
       "      <td>678</td>\n",
       "    </tr>\n",
       "    <tr>\n",
       "      <th>severe disease</th>\n",
       "      <td>649</td>\n",
       "    </tr>\n",
       "    <tr>\n",
       "      <th>disease</th>\n",
       "      <td>625</td>\n",
       "    </tr>\n",
       "    <tr>\n",
       "      <th>inflammation</th>\n",
       "      <td>605</td>\n",
       "    </tr>\n",
       "    <tr>\n",
       "      <th>COVID</th>\n",
       "      <td>602</td>\n",
       "    </tr>\n",
       "    <tr>\n",
       "      <th>asymptomatic</th>\n",
       "      <td>588</td>\n",
       "    </tr>\n",
       "    <tr>\n",
       "      <th>respiratory failure</th>\n",
       "      <td>581</td>\n",
       "    </tr>\n",
       "    <tr>\n",
       "      <th>sepsis</th>\n",
       "      <td>574</td>\n",
       "    </tr>\n",
       "    <tr>\n",
       "      <th>fatigue</th>\n",
       "      <td>573</td>\n",
       "    </tr>\n",
       "    <tr>\n",
       "      <th>obesity</th>\n",
       "      <td>560</td>\n",
       "    </tr>\n",
       "    <tr>\n",
       "      <th>VTE</th>\n",
       "      <td>525</td>\n",
       "    </tr>\n",
       "    <tr>\n",
       "      <th>severe COVID-19</th>\n",
       "      <td>523</td>\n",
       "    </tr>\n",
       "  </tbody>\n",
       "</table>\n",
       "</div>"
      ],
      "text/plain": [
       "                                     counts\n",
       "SARS-CoV-2                             4749\n",
       "SARS-CoV-2 infection                   2725\n",
       "death                                  2431\n",
       "AKI                                    2273\n",
       "fever                                  2062\n",
       "hypertension                           2059\n",
       "diabetes                               1946\n",
       "ARDS                                   1845\n",
       "infection                              1588\n",
       "the disease                            1530\n",
       "SARS                                   1526\n",
       "symptoms                               1444\n",
       "SARS-CoV                               1369\n",
       "coronavirus disease                    1334\n",
       "COVID-19 infection                     1300\n",
       "the virus                              1210\n",
       "pneumonia                              1188\n",
       "infected                               1145\n",
       "cough                                  1121\n",
       "comorbidities                           892\n",
       "acute kidney injury                     823\n",
       "dyspnea                                 792\n",
       "diarrhea                                774\n",
       "disease severity                        736\n",
       "cancer                                  716\n",
       "mortality                               697\n",
       "acute respiratory distress syndrome     697\n",
       "Coronavirus Disease                     693\n",
       "MERS-CoV                                678\n",
       "severe disease                          649\n",
       "disease                                 625\n",
       "inflammation                            605\n",
       "COVID                                   602\n",
       "asymptomatic                            588\n",
       "respiratory failure                     581\n",
       "sepsis                                  574\n",
       "fatigue                                 573\n",
       "obesity                                 560\n",
       "VTE                                     525\n",
       "severe COVID-19                         523"
      ]
     },
     "execution_count": 445,
     "metadata": {},
     "output_type": "execute_result"
    }
   ],
   "source": [
    "probhist2.head(40)"
   ]
  },
  {
   "cell_type": "code",
   "execution_count": 446,
   "metadata": {
    "scrolled": false
   },
   "outputs": [
    {
     "data": {
      "image/png": "[encoded data removed]",
      "text/plain": [
       "<Figure size 1728x864 with 1 Axes>"
      ]
     },
     "metadata": {
      "needs_background": "light"
     },
     "output_type": "display_data"
    }
   ],
   "source": [
    "import seaborn as sns\n",
    "import seaborn as sns\n",
    "fig, ax = plt.subplots(figsize =(24,12))\n",
    "chart=sns.barplot(probhist2.index,probhist2['counts'])\n",
    "chart.set_xticklabels(probhist2.index,rotation=90)\n",
    "plt.title('Problem Entities',fontsize=18)\n",
    "plt.show()"
   ]
  },
  {
   "cell_type": "markdown",
   "metadata": {},
   "source": [
    "## Find 'Test' entities near the most common kidney related 'Problem' entity"
   ]
  },
  {
   "cell_type": "code",
   "execution_count": 447,
   "metadata": {},
   "outputs": [
    {
     "data": {
      "text/html": [
       "<div>\n",
       "<style scoped>\n",
       "    .dataframe tbody tr th:only-of-type {\n",
       "        vertical-align: middle;\n",
       "    }\n",
       "\n",
       "    .dataframe tbody tr th {\n",
       "        vertical-align: top;\n",
       "    }\n",
       "\n",
       "    .dataframe thead th {\n",
       "        text-align: right;\n",
       "    }\n",
       "</style>\n",
       "<table border=\"1\" class=\"dataframe\">\n",
       "  <thead>\n",
       "    <tr style=\"text-align: right;\">\n",
       "      <th></th>\n",
       "      <th>docid</th>\n",
       "      <th>section</th>\n",
       "      <th>sentid_x</th>\n",
       "      <th>token_x</th>\n",
       "      <th>label_x</th>\n",
       "      <th>chunks_x</th>\n",
       "      <th>sentid_y</th>\n",
       "      <th>token_y</th>\n",
       "      <th>label_y</th>\n",
       "      <th>chunks_y</th>\n",
       "    </tr>\n",
       "  </thead>\n",
       "  <tbody>\n",
       "    <tr>\n",
       "      <th>0</th>\n",
       "      <td>c74590a8197039412e38fdf679cd27ecac01ff72.json</td>\n",
       "      <td>CASE REPORT</td>\n",
       "      <td>0</td>\n",
       "      <td>coronavirus</td>\n",
       "      <td>B-PROBLEM</td>\n",
       "      <td>coronavirus disease</td>\n",
       "      <td>4</td>\n",
       "      <td>the</td>\n",
       "      <td>B-TEST</td>\n",
       "      <td>the PaO</td>\n",
       "    </tr>\n",
       "    <tr>\n",
       "      <th>1</th>\n",
       "      <td>c74590a8197039412e38fdf679cd27ecac01ff72.json</td>\n",
       "      <td>CASE REPORT</td>\n",
       "      <td>0</td>\n",
       "      <td>coronavirus</td>\n",
       "      <td>B-PROBLEM</td>\n",
       "      <td>coronavirus disease</td>\n",
       "      <td>4</td>\n",
       "      <td>ratio</td>\n",
       "      <td>B-TEST</td>\n",
       "      <td>ratio</td>\n",
       "    </tr>\n",
       "    <tr>\n",
       "      <th>2</th>\n",
       "      <td>c74590a8197039412e38fdf679cd27ecac01ff72.json</td>\n",
       "      <td>CASE REPORT</td>\n",
       "      <td>0</td>\n",
       "      <td>coronavirus</td>\n",
       "      <td>B-PROBLEM</td>\n",
       "      <td>coronavirus disease</td>\n",
       "      <td>4</td>\n",
       "      <td>end-expiratory</td>\n",
       "      <td>B-TEST</td>\n",
       "      <td>end-expiratory pressure</td>\n",
       "    </tr>\n",
       "    <tr>\n",
       "      <th>3</th>\n",
       "      <td>c74590a8197039412e38fdf679cd27ecac01ff72.json</td>\n",
       "      <td>CASE REPORT</td>\n",
       "      <td>0</td>\n",
       "      <td>coronavirus</td>\n",
       "      <td>B-PROBLEM</td>\n",
       "      <td>coronavirus disease</td>\n",
       "      <td>4</td>\n",
       "      <td>O</td>\n",
       "      <td>B-TEST</td>\n",
       "      <td>O</td>\n",
       "    </tr>\n",
       "    <tr>\n",
       "      <th>4</th>\n",
       "      <td>c74590a8197039412e38fdf679cd27ecac01ff72.json</td>\n",
       "      <td>CASE REPORT</td>\n",
       "      <td>0</td>\n",
       "      <td>coronavirus</td>\n",
       "      <td>B-PROBLEM</td>\n",
       "      <td>coronavirus disease</td>\n",
       "      <td>4</td>\n",
       "      <td>body</td>\n",
       "      <td>B-TEST</td>\n",
       "      <td>body weight</td>\n",
       "    </tr>\n",
       "  </tbody>\n",
       "</table>\n",
       "</div>"
      ],
      "text/plain": [
       "                                           docid      section  sentid_x  \\\n",
       "0  c74590a8197039412e38fdf679cd27ecac01ff72.json  CASE REPORT         0   \n",
       "1  c74590a8197039412e38fdf679cd27ecac01ff72.json  CASE REPORT         0   \n",
       "2  c74590a8197039412e38fdf679cd27ecac01ff72.json  CASE REPORT         0   \n",
       "3  c74590a8197039412e38fdf679cd27ecac01ff72.json  CASE REPORT         0   \n",
       "4  c74590a8197039412e38fdf679cd27ecac01ff72.json  CASE REPORT         0   \n",
       "\n",
       "       token_x    label_x             chunks_x  sentid_y         token_y  \\\n",
       "0  coronavirus  B-PROBLEM  coronavirus disease         4             the   \n",
       "1  coronavirus  B-PROBLEM  coronavirus disease         4           ratio   \n",
       "2  coronavirus  B-PROBLEM  coronavirus disease         4  end-expiratory   \n",
       "3  coronavirus  B-PROBLEM  coronavirus disease         4               O   \n",
       "4  coronavirus  B-PROBLEM  coronavirus disease         4            body   \n",
       "\n",
       "  label_y                 chunks_y  \n",
       "0  B-TEST                  the PaO  \n",
       "1  B-TEST                    ratio  \n",
       "2  B-TEST  end-expiratory pressure  \n",
       "3  B-TEST                        O  \n",
       "4  B-TEST              body weight  "
      ]
     },
     "execution_count": 447,
     "metadata": {},
     "output_type": "execute_result"
    }
   ],
   "source": [
    "heatdf=problems.merge(tests,on=['docid','section'],how='inner')\n",
    "heatdf.drop_duplicates(keep='first',inplace=True)\n",
    "heatdf.head()"
   ]
  },
  {
   "cell_type": "code",
   "execution_count": 448,
   "metadata": {},
   "outputs": [],
   "source": [
    "heatkid=pd.DataFrame(heatdf[heatdf['chunks_x']=='AKI']).reset_index(drop=True)\n",
    "heatkid.drop(columns=['section','sentid_x','token_x','label_x','sentid_y','token_y','label_y'],inplace=True)"
   ]
  },
  {
   "cell_type": "code",
   "execution_count": 449,
   "metadata": {},
   "outputs": [
    {
     "data": {
      "text/html": [
       "<div>\n",
       "<style scoped>\n",
       "    .dataframe tbody tr th:only-of-type {\n",
       "        vertical-align: middle;\n",
       "    }\n",
       "\n",
       "    .dataframe tbody tr th {\n",
       "        vertical-align: top;\n",
       "    }\n",
       "\n",
       "    .dataframe thead th {\n",
       "        text-align: right;\n",
       "    }\n",
       "</style>\n",
       "<table border=\"1\" class=\"dataframe\">\n",
       "  <thead>\n",
       "    <tr style=\"text-align: right;\">\n",
       "      <th></th>\n",
       "      <th>docid</th>\n",
       "      <th>chunks_x</th>\n",
       "      <th>chunks_y</th>\n",
       "    </tr>\n",
       "  </thead>\n",
       "  <tbody>\n",
       "    <tr>\n",
       "      <th>0</th>\n",
       "      <td>9d01edc73efb22905f896bb00bc60c7a518e958a.json</td>\n",
       "      <td>AKI</td>\n",
       "      <td>COVID-19</td>\n",
       "    </tr>\n",
       "    <tr>\n",
       "      <th>1</th>\n",
       "      <td>9d01edc73efb22905f896bb00bc60c7a518e958a.json</td>\n",
       "      <td>AKI</td>\n",
       "      <td>creatinine values</td>\n",
       "    </tr>\n",
       "    <tr>\n",
       "      <th>2</th>\n",
       "      <td>9d01edc73efb22905f896bb00bc60c7a518e958a.json</td>\n",
       "      <td>AKI</td>\n",
       "      <td>pregnancy</td>\n",
       "    </tr>\n",
       "    <tr>\n",
       "      <th>3</th>\n",
       "      <td>9d01edc73efb22905f896bb00bc60c7a518e958a.json</td>\n",
       "      <td>AKI</td>\n",
       "      <td>serum creatinine</td>\n",
       "    </tr>\n",
       "    <tr>\n",
       "      <th>4</th>\n",
       "      <td>9d01edc73efb22905f896bb00bc60c7a518e958a.json</td>\n",
       "      <td>AKI</td>\n",
       "      <td>close monitoring</td>\n",
       "    </tr>\n",
       "  </tbody>\n",
       "</table>\n",
       "</div>"
      ],
      "text/plain": [
       "                                           docid chunks_x           chunks_y\n",
       "0  9d01edc73efb22905f896bb00bc60c7a518e958a.json      AKI           COVID-19\n",
       "1  9d01edc73efb22905f896bb00bc60c7a518e958a.json      AKI  creatinine values\n",
       "2  9d01edc73efb22905f896bb00bc60c7a518e958a.json      AKI          pregnancy\n",
       "3  9d01edc73efb22905f896bb00bc60c7a518e958a.json      AKI   serum creatinine\n",
       "4  9d01edc73efb22905f896bb00bc60c7a518e958a.json      AKI   close monitoring"
      ]
     },
     "execution_count": 449,
     "metadata": {},
     "output_type": "execute_result"
    }
   ],
   "source": [
    "heatkid.head()"
   ]
  },
  {
   "cell_type": "code",
   "execution_count": 476,
   "metadata": {},
   "outputs": [],
   "source": [
    "kidcounts=pd.DataFrame(heatkid.groupby(['chunks_y'])['chunks_x'].count())\n",
    "kidcounts=kidcounts.sort_values(by='chunks_x',ascending=False)\n",
    "kidcounts=kidcounts.rename(columns={'chunks_x':'counts'})\n",
    "kidcounts=kidcounts.iloc[3:25]"
   ]
  },
  {
   "cell_type": "code",
   "execution_count": 477,
   "metadata": {},
   "outputs": [
    {
     "data": {
      "text/html": [
       "<div>\n",
       "<style scoped>\n",
       "    .dataframe tbody tr th:only-of-type {\n",
       "        vertical-align: middle;\n",
       "    }\n",
       "\n",
       "    .dataframe tbody tr th {\n",
       "        vertical-align: top;\n",
       "    }\n",
       "\n",
       "    .dataframe thead th {\n",
       "        text-align: right;\n",
       "    }\n",
       "</style>\n",
       "<table border=\"1\" class=\"dataframe\">\n",
       "  <thead>\n",
       "    <tr style=\"text-align: right;\">\n",
       "      <th></th>\n",
       "      <th>counts</th>\n",
       "    </tr>\n",
       "    <tr>\n",
       "      <th>chunks_y</th>\n",
       "      <th></th>\n",
       "    </tr>\n",
       "  </thead>\n",
       "  <tbody>\n",
       "    <tr>\n",
       "      <th>serum creatinine</th>\n",
       "      <td>259</td>\n",
       "    </tr>\n",
       "    <tr>\n",
       "      <th>CI</th>\n",
       "      <td>255</td>\n",
       "    </tr>\n",
       "    <tr>\n",
       "      <th>creatinine</th>\n",
       "      <td>238</td>\n",
       "    </tr>\n",
       "    <tr>\n",
       "      <th>Our study</th>\n",
       "      <td>222</td>\n",
       "    </tr>\n",
       "    <tr>\n",
       "      <th>COVID-19</th>\n",
       "      <td>184</td>\n",
       "    </tr>\n",
       "    <tr>\n",
       "      <th>the study</th>\n",
       "      <td>175</td>\n",
       "    </tr>\n",
       "    <tr>\n",
       "      <th>ACE2</th>\n",
       "      <td>165</td>\n",
       "    </tr>\n",
       "    <tr>\n",
       "      <th>data</th>\n",
       "      <td>152</td>\n",
       "    </tr>\n",
       "    <tr>\n",
       "      <th>eGFR</th>\n",
       "      <td>148</td>\n",
       "    </tr>\n",
       "    <tr>\n",
       "      <th>a study</th>\n",
       "      <td>142</td>\n",
       "    </tr>\n",
       "    <tr>\n",
       "      <th>A</th>\n",
       "      <td>134</td>\n",
       "    </tr>\n",
       "    <tr>\n",
       "      <th>IL-6</th>\n",
       "      <td>131</td>\n",
       "    </tr>\n",
       "    <tr>\n",
       "      <th>the data</th>\n",
       "      <td>116</td>\n",
       "    </tr>\n",
       "    <tr>\n",
       "      <th>I</th>\n",
       "      <td>113</td>\n",
       "    </tr>\n",
       "    <tr>\n",
       "      <th>BUN</th>\n",
       "      <td>112</td>\n",
       "    </tr>\n",
       "    <tr>\n",
       "      <th>mortality</th>\n",
       "      <td>110</td>\n",
       "    </tr>\n",
       "    <tr>\n",
       "      <th>another study</th>\n",
       "      <td>110</td>\n",
       "    </tr>\n",
       "    <tr>\n",
       "      <th>procalcitonin</th>\n",
       "      <td>108</td>\n",
       "    </tr>\n",
       "    <tr>\n",
       "      <th>the present study</th>\n",
       "      <td>104</td>\n",
       "    </tr>\n",
       "    <tr>\n",
       "      <th>D-dimer</th>\n",
       "      <td>102</td>\n",
       "    </tr>\n",
       "    <tr>\n",
       "      <th>ferritin</th>\n",
       "      <td>100</td>\n",
       "    </tr>\n",
       "    <tr>\n",
       "      <th>the first study</th>\n",
       "      <td>99</td>\n",
       "    </tr>\n",
       "  </tbody>\n",
       "</table>\n",
       "</div>"
      ],
      "text/plain": [
       "                   counts\n",
       "chunks_y                 \n",
       "serum creatinine      259\n",
       "CI                    255\n",
       "creatinine            238\n",
       "Our study             222\n",
       "COVID-19              184\n",
       "the study             175\n",
       "ACE2                  165\n",
       "data                  152\n",
       "eGFR                  148\n",
       "a study               142\n",
       "A                     134\n",
       "IL-6                  131\n",
       "the data              116\n",
       "I                     113\n",
       "BUN                   112\n",
       "mortality             110\n",
       "another study         110\n",
       "procalcitonin         108\n",
       "the present study     104\n",
       "D-dimer               102\n",
       "ferritin              100\n",
       "the first study        99"
      ]
     },
     "execution_count": 477,
     "metadata": {},
     "output_type": "execute_result"
    }
   ],
   "source": [
    "kidcounts"
   ]
  },
  {
   "cell_type": "code",
   "execution_count": 453,
   "metadata": {},
   "outputs": [
    {
     "data": {
      "image/png": "[encoded data removed]",
      "text/plain": [
       "<Figure size 1728x864 with 1 Axes>"
      ]
     },
     "metadata": {
      "needs_background": "light"
     },
     "output_type": "display_data"
    }
   ],
   "source": [
    "import seaborn as sns\n",
    "import seaborn as sns\n",
    "fig, ax = plt.subplots(figsize =(24,12))\n",
    "chart= sns.barplot(kidcounts.index,kidcounts['counts'])\n",
    "\n",
    "chart.set_xticklabels(kidcounts.index,rotation=90)\n",
    "plt.title(\"Clinical Tests Near 'AKI'\",fontsize=20)\n",
    "\n",
    "\n",
    "plt.show()"
   ]
  },
  {
   "cell_type": "markdown",
   "metadata": {},
   "source": [
    "## Find 'Problem' entities near the most common kidney related 'Test' entity"
   ]
  },
  {
   "cell_type": "code",
   "execution_count": 454,
   "metadata": {},
   "outputs": [],
   "source": [
    "heatcreat=heatdf[heatdf['chunks_y']=='creatinine'].reset_index(drop=True)\n",
    "heatcreat.drop(columns=['section','sentid_x','token_x','label_x','sentid_y','token_y','label_y'],inplace=True)"
   ]
  },
  {
   "cell_type": "code",
   "execution_count": 455,
   "metadata": {},
   "outputs": [],
   "source": [
    "creatcounts=pd.DataFrame(heatcreat.groupby(['chunks_x'])['chunks_y'].count())\n",
    "creatcounts=creatcounts.sort_values(by='chunks_y',ascending=False)\n",
    "creatcounts=creatcounts.rename(columns={'chunks_y':'counts'})"
   ]
  },
  {
   "cell_type": "code",
   "execution_count": 456,
   "metadata": {},
   "outputs": [],
   "source": [
    "creatcounts=creatcounts.iloc[0:50]"
   ]
  },
  {
   "cell_type": "code",
   "execution_count": 457,
   "metadata": {},
   "outputs": [
    {
     "data": {
      "image/png": "[encoded data removed]",
      "text/plain": [
       "<Figure size 1728x864 with 1 Axes>"
      ]
     },
     "metadata": {
      "needs_background": "light"
     },
     "output_type": "display_data"
    }
   ],
   "source": [
    "import seaborn as sns\n",
    "import seaborn as sns\n",
    "fig, ax = plt.subplots(figsize =(24,12))\n",
    "chart= sns.barplot(creatcounts.index,creatcounts['counts'])\n",
    "\n",
    "chart.set_xticklabels(creatcounts.index,rotation=90)\n",
    "plt.title(\"Patient Problems Near 'Creatinine' Test\",fontsize=20)\n",
    "\n",
    "\n",
    "plt.show()"
   ]
  },
  {
   "cell_type": "markdown",
   "metadata": {},
   "source": [
    "## Frequency of 'patient' mentions in documents"
   ]
  },
  {
   "cell_type": "code",
   "execution_count": 458,
   "metadata": {},
   "outputs": [],
   "source": [
    "patient=pd.DataFrame(big[(big['token'].str.lower()=='patient')|(big['token'].str.lower()=='patients')]).reset_index(drop=True)"
   ]
  },
  {
   "cell_type": "code",
   "execution_count": 459,
   "metadata": {},
   "outputs": [
    {
     "data": {
      "text/html": [
       "<div>\n",
       "<style scoped>\n",
       "    .dataframe tbody tr th:only-of-type {\n",
       "        vertical-align: middle;\n",
       "    }\n",
       "\n",
       "    .dataframe tbody tr th {\n",
       "        vertical-align: top;\n",
       "    }\n",
       "\n",
       "    .dataframe thead th {\n",
       "        text-align: right;\n",
       "    }\n",
       "</style>\n",
       "<table border=\"1\" class=\"dataframe\">\n",
       "  <thead>\n",
       "    <tr style=\"text-align: right;\">\n",
       "      <th></th>\n",
       "      <th>docid</th>\n",
       "      <th>section</th>\n",
       "      <th>sentid</th>\n",
       "      <th>token</th>\n",
       "      <th>label</th>\n",
       "      <th>chunks</th>\n",
       "    </tr>\n",
       "  </thead>\n",
       "  <tbody>\n",
       "    <tr>\n",
       "      <th>0</th>\n",
       "      <td>c74590a8197039412e38fdf679cd27ecac01ff72.json</td>\n",
       "      <td>CASE REPORT</td>\n",
       "      <td>2</td>\n",
       "      <td>patient</td>\n",
       "      <td>O</td>\n",
       "      <td>patient</td>\n",
       "    </tr>\n",
       "    <tr>\n",
       "      <th>1</th>\n",
       "      <td>c74590a8197039412e38fdf679cd27ecac01ff72.json</td>\n",
       "      <td>CASE REPORT</td>\n",
       "      <td>2</td>\n",
       "      <td>patient</td>\n",
       "      <td>O</td>\n",
       "      <td>patient</td>\n",
       "    </tr>\n",
       "    <tr>\n",
       "      <th>2</th>\n",
       "      <td>c74590a8197039412e38fdf679cd27ecac01ff72.json</td>\n",
       "      <td>CASE REPORT</td>\n",
       "      <td>10</td>\n",
       "      <td>patient</td>\n",
       "      <td>O</td>\n",
       "      <td>patient</td>\n",
       "    </tr>\n",
       "    <tr>\n",
       "      <th>3</th>\n",
       "      <td>c74590a8197039412e38fdf679cd27ecac01ff72.json</td>\n",
       "      <td>CASE REPORT</td>\n",
       "      <td>11</td>\n",
       "      <td>patient</td>\n",
       "      <td>O</td>\n",
       "      <td>patient</td>\n",
       "    </tr>\n",
       "    <tr>\n",
       "      <th>4</th>\n",
       "      <td>c74590a8197039412e38fdf679cd27ecac01ff72.json</td>\n",
       "      <td>CASE REPORT</td>\n",
       "      <td>12</td>\n",
       "      <td>patient</td>\n",
       "      <td>O</td>\n",
       "      <td>patient</td>\n",
       "    </tr>\n",
       "    <tr>\n",
       "      <th>...</th>\n",
       "      <td>...</td>\n",
       "      <td>...</td>\n",
       "      <td>...</td>\n",
       "      <td>...</td>\n",
       "      <td>...</td>\n",
       "      <td>...</td>\n",
       "    </tr>\n",
       "    <tr>\n",
       "      <th>83376</th>\n",
       "      <td>3f05ab4d9ea232a44c428a76fdbd86bfbf692216.json</td>\n",
       "      <td>Procedures for Recording and Reporting Serious...</td>\n",
       "      <td>2</td>\n",
       "      <td>patients</td>\n",
       "      <td>O</td>\n",
       "      <td>patients</td>\n",
       "    </tr>\n",
       "    <tr>\n",
       "      <th>83377</th>\n",
       "      <td>3f05ab4d9ea232a44c428a76fdbd86bfbf692216.json</td>\n",
       "      <td>Procedures for Recording and Reporting Serious...</td>\n",
       "      <td>6</td>\n",
       "      <td>patient</td>\n",
       "      <td>O</td>\n",
       "      <td>patient</td>\n",
       "    </tr>\n",
       "    <tr>\n",
       "      <th>83378</th>\n",
       "      <td>3f05ab4d9ea232a44c428a76fdbd86bfbf692216.json</td>\n",
       "      <td>Procedures for Documenting and Reporting Pregn...</td>\n",
       "      <td>3</td>\n",
       "      <td>patient</td>\n",
       "      <td>O</td>\n",
       "      <td>patient</td>\n",
       "    </tr>\n",
       "    <tr>\n",
       "      <th>83379</th>\n",
       "      <td>3f05ab4d9ea232a44c428a76fdbd86bfbf692216.json</td>\n",
       "      <td>REGULATORY APPROVAL</td>\n",
       "      <td>6</td>\n",
       "      <td>patient</td>\n",
       "      <td>O</td>\n",
       "      <td>patient</td>\n",
       "    </tr>\n",
       "    <tr>\n",
       "      <th>83380</th>\n",
       "      <td>3f05ab4d9ea232a44c428a76fdbd86bfbf692216.json</td>\n",
       "      <td>QUALITY CONTROL &amp; QUALITY ASSURANCE PROCEDURES</td>\n",
       "      <td>4</td>\n",
       "      <td>patients</td>\n",
       "      <td>O</td>\n",
       "      <td>patients</td>\n",
       "    </tr>\n",
       "  </tbody>\n",
       "</table>\n",
       "<p>83381 rows × 6 columns</p>\n",
       "</div>"
      ],
      "text/plain": [
       "                                               docid  \\\n",
       "0      c74590a8197039412e38fdf679cd27ecac01ff72.json   \n",
       "1      c74590a8197039412e38fdf679cd27ecac01ff72.json   \n",
       "2      c74590a8197039412e38fdf679cd27ecac01ff72.json   \n",
       "3      c74590a8197039412e38fdf679cd27ecac01ff72.json   \n",
       "4      c74590a8197039412e38fdf679cd27ecac01ff72.json   \n",
       "...                                              ...   \n",
       "83376  3f05ab4d9ea232a44c428a76fdbd86bfbf692216.json   \n",
       "83377  3f05ab4d9ea232a44c428a76fdbd86bfbf692216.json   \n",
       "83378  3f05ab4d9ea232a44c428a76fdbd86bfbf692216.json   \n",
       "83379  3f05ab4d9ea232a44c428a76fdbd86bfbf692216.json   \n",
       "83380  3f05ab4d9ea232a44c428a76fdbd86bfbf692216.json   \n",
       "\n",
       "                                                 section  sentid     token  \\\n",
       "0                                            CASE REPORT       2   patient   \n",
       "1                                            CASE REPORT       2   patient   \n",
       "2                                            CASE REPORT      10   patient   \n",
       "3                                            CASE REPORT      11   patient   \n",
       "4                                            CASE REPORT      12   patient   \n",
       "...                                                  ...     ...       ...   \n",
       "83376  Procedures for Recording and Reporting Serious...       2  patients   \n",
       "83377  Procedures for Recording and Reporting Serious...       6   patient   \n",
       "83378  Procedures for Documenting and Reporting Pregn...       3   patient   \n",
       "83379                                REGULATORY APPROVAL       6   patient   \n",
       "83380     QUALITY CONTROL & QUALITY ASSURANCE PROCEDURES       4  patients   \n",
       "\n",
       "      label    chunks  \n",
       "0         O   patient  \n",
       "1         O   patient  \n",
       "2         O   patient  \n",
       "3         O   patient  \n",
       "4         O   patient  \n",
       "...     ...       ...  \n",
       "83376     O  patients  \n",
       "83377     O   patient  \n",
       "83378     O   patient  \n",
       "83379     O   patient  \n",
       "83380     O  patients  \n",
       "\n",
       "[83381 rows x 6 columns]"
      ]
     },
     "execution_count": 459,
     "metadata": {},
     "output_type": "execute_result"
    }
   ],
   "source": [
    "patient"
   ]
  },
  {
   "cell_type": "code",
   "execution_count": 468,
   "metadata": {},
   "outputs": [
    {
     "data": {
      "text/plain": [
       "1513"
      ]
     },
     "execution_count": 468,
     "metadata": {},
     "output_type": "execute_result"
    }
   ],
   "source": [
    "patients=patient.groupby(['docid'])['token'].count()\n",
    "patients=patients.reset_index()\n",
    "patients=patients.rename(columns={'token':'counts'})\n",
    "len(patients)"
   ]
  },
  {
   "cell_type": "code",
   "execution_count": 479,
   "metadata": {},
   "outputs": [
    {
     "data": {
      "text/plain": [
       "Text(0.5, 1.0, 'Frequency of Patient Mentions in 1513 Documents')"
      ]
     },
     "execution_count": 479,
     "metadata": {},
     "output_type": "execute_result"
    },
    {
     "data": {
      "image/png": "[encoded data removed]",
      "text/plain": [
       "<Figure size 432x288 with 1 Axes>"
      ]
     },
     "metadata": {
      "needs_background": "light"
     },
     "output_type": "display_data"
    }
   ],
   "source": [
    "sns.boxplot(patients['counts'])\n",
    "plt.title('Frequency of Patient Mentions in 1513 Documents',fontsize=14)"
   ]
  },
  {
   "cell_type": "markdown",
   "metadata": {},
   "source": [
    "## Frequency of 'case report' mentions in documents"
   ]
  },
  {
   "cell_type": "code",
   "execution_count": 470,
   "metadata": {},
   "outputs": [],
   "source": [
    "case=pd.DataFrame(big[(big['section'].str.lower()=='case report')|(big['section']=='case study')|(big['chunks'].str.lower()=='case report')|(big['chunks'].str.lower()=='case study')|(big['section'].str.lower()=='case reports')|(big['section']=='case studies')|(big['chunks'].str.lower()=='case reports')|(big['chunks'].str.lower()=='case studies')]).reset_index(drop=True)"
   ]
  },
  {
   "cell_type": "code",
   "execution_count": 471,
   "metadata": {},
   "outputs": [
    {
     "data": {
      "text/plain": [
       "71"
      ]
     },
     "execution_count": 471,
     "metadata": {},
     "output_type": "execute_result"
    }
   ],
   "source": [
    "cases=case.groupby(['docid'])['section'].count()\n",
    "cases=cases.reset_index()\n",
    "cases=cases.rename(columns={'section':'counts'})\n",
    "len(cases)"
   ]
  },
  {
   "cell_type": "code",
   "execution_count": 478,
   "metadata": {},
   "outputs": [
    {
     "data": {
      "text/plain": [
       "Text(0.5, 1.0, 'Frequency of Case Report/Study Mentions in 71 Documents')"
      ]
     },
     "execution_count": 478,
     "metadata": {},
     "output_type": "execute_result"
    },
    {
     "data": {
      "image/png": "[encoded data removed]",
      "text/plain": [
       "<Figure size 432x288 with 1 Axes>"
      ]
     },
     "metadata": {
      "needs_background": "light"
     },
     "output_type": "display_data"
    }
   ],
   "source": [
    "sns.boxplot(cases['counts'])\n",
    "plt.title('Frequency of Case Report/Study Mentions in 71 Documents',fontsize=14)"
   ]
  },
  {
   "cell_type": "code",
   "execution_count": null,
   "metadata": {},
   "outputs": [],
   "source": []
  }
 ],
 "metadata": {
  "kernelspec": {
   "display_name": "Python 3",
   "language": "python",
   "name": "python3"
  },
  "language_info": {
   "codemirror_mode": {
    "name": "ipython",
    "version": 3
   },
   "file_extension": ".py",
   "mimetype": "text/x-python",
   "name": "python",
   "nbconvert_exporter": "python",
   "pygments_lexer": "ipython3",
   "version": "3.7.7"
  }
 },
 "nbformat": 4,
 "nbformat_minor": 4
}
