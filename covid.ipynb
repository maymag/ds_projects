{
 "cells": [
  {
   "cell_type": "code",
   "execution_count": 73,
   "metadata": {},
   "outputs": [],
   "source": [
    "import os\n",
    "import json\n",
    "import pandas as pd"
   ]
  },
  {
   "cell_type": "code",
   "execution_count": 74,
   "metadata": {},
   "outputs": [
    {
     "name": "stdout",
     "output_type": "stream",
     "text": [
      "/home/myilmaz/devel/551982_1475446_bundle_archive\n"
     ]
    }
   ],
   "source": [
    "%cd '/home/myilmaz/devel/551982_1475446_bundle_archive/'"
   ]
  },
  {
   "cell_type": "code",
   "execution_count": 75,
   "metadata": {},
   "outputs": [],
   "source": [
    "kag=pd.read_csv('Kaggle/target_tables/8_risk_factors/Chronic kidney disease.csv')"
   ]
  },
  {
   "cell_type": "code",
   "execution_count": 76,
   "metadata": {},
   "outputs": [
    {
     "data": {
      "text/html": [
       "<div>\n",
       "<style scoped>\n",
       "    .dataframe tbody tr th:only-of-type {\n",
       "        vertical-align: middle;\n",
       "    }\n",
       "\n",
       "    .dataframe tbody tr th {\n",
       "        vertical-align: top;\n",
       "    }\n",
       "\n",
       "    .dataframe thead th {\n",
       "        text-align: right;\n",
       "    }\n",
       "</style>\n",
       "<table border=\"1\" class=\"dataframe\">\n",
       "  <thead>\n",
       "    <tr style=\"text-align: right;\">\n",
       "      <th></th>\n",
       "      <th>Unnamed: 0</th>\n",
       "      <th>Date</th>\n",
       "      <th>Study</th>\n",
       "      <th>Study Link</th>\n",
       "      <th>Journal</th>\n",
       "      <th>Severe</th>\n",
       "      <th>Severe lower bound</th>\n",
       "      <th>Severe upper bound</th>\n",
       "      <th>Severe p-value</th>\n",
       "      <th>Severe Significant</th>\n",
       "      <th>...</th>\n",
       "      <th>Fatality Significant</th>\n",
       "      <th>Fatality Adjusted</th>\n",
       "      <th>Fatality Calculated</th>\n",
       "      <th>Multivariate adjustment</th>\n",
       "      <th>Study Type</th>\n",
       "      <th>Sample Size</th>\n",
       "      <th>Study Population</th>\n",
       "      <th>Added on</th>\n",
       "      <th>Critical only</th>\n",
       "      <th>Discharged vs. death?</th>\n",
       "    </tr>\n",
       "  </thead>\n",
       "  <tbody>\n",
       "    <tr>\n",
       "      <th>0</th>\n",
       "      <td>0</td>\n",
       "      <td>2020-06-01</td>\n",
       "      <td>Characteristics and Outcomes of COVID-19 Patie...</td>\n",
       "      <td>http://medrxiv.org/cgi/content/short/2020.05.2...</td>\n",
       "      <td>MedRxiv</td>\n",
       "      <td>NaN</td>\n",
       "      <td>NaN</td>\n",
       "      <td>NaN</td>\n",
       "      <td>NaN</td>\n",
       "      <td>NaN</td>\n",
       "      <td>...</td>\n",
       "      <td>Significant</td>\n",
       "      <td>Not Adjusted</td>\n",
       "      <td>Calculated</td>\n",
       "      <td>NaN</td>\n",
       "      <td>Retrospective observational study</td>\n",
       "      <td>13442</td>\n",
       "      <td>New York City Health and Hospital between Marc...</td>\n",
       "      <td>NaN</td>\n",
       "      <td>N</td>\n",
       "      <td>N</td>\n",
       "    </tr>\n",
       "    <tr>\n",
       "      <th>1</th>\n",
       "      <td>1</td>\n",
       "      <td>2020-05-31</td>\n",
       "      <td>Clinical Features and Short-term Outcomes of E...</td>\n",
       "      <td>https://www.sciencedirect.com/science/article/...</td>\n",
       "      <td>Int J Infect Dis</td>\n",
       "      <td>NaN</td>\n",
       "      <td>NaN</td>\n",
       "      <td>NaN</td>\n",
       "      <td>NaN</td>\n",
       "      <td>NaN</td>\n",
       "      <td>...</td>\n",
       "      <td>Significant</td>\n",
       "      <td>Not Adjusted</td>\n",
       "      <td>Extracted</td>\n",
       "      <td>NaN</td>\n",
       "      <td>Retrospective observational study</td>\n",
       "      <td>204</td>\n",
       "      <td>Renmin  Hospital  of  Wuhan University  from  ...</td>\n",
       "      <td>NaN</td>\n",
       "      <td>N</td>\n",
       "      <td>N</td>\n",
       "    </tr>\n",
       "    <tr>\n",
       "      <th>2</th>\n",
       "      <td>2</td>\n",
       "      <td>2020-05-29</td>\n",
       "      <td>A clinical risk score to identify patients wit...</td>\n",
       "      <td>https://doi.org/10.1016/j.jinf.2020.05.064</td>\n",
       "      <td>J Infect</td>\n",
       "      <td>HR=0.90</td>\n",
       "      <td>0.54</td>\n",
       "      <td>1.51</td>\n",
       "      <td>0.7</td>\n",
       "      <td>Not Significant</td>\n",
       "      <td>...</td>\n",
       "      <td>Not Significant</td>\n",
       "      <td>Not Adjusted</td>\n",
       "      <td>Extracted</td>\n",
       "      <td>NaN</td>\n",
       "      <td>Retrospective observational study</td>\n",
       "      <td>1157</td>\n",
       "      <td>King’s College Hospital and Princess Royal Uni...</td>\n",
       "      <td>NaN</td>\n",
       "      <td>Y</td>\n",
       "      <td>N</td>\n",
       "    </tr>\n",
       "    <tr>\n",
       "      <th>3</th>\n",
       "      <td>3</td>\n",
       "      <td>2020-05-29</td>\n",
       "      <td>The Association Between Biomarkers and Clinica...</td>\n",
       "      <td>http://medrxiv.org/cgi/content/short/2020.05.2...</td>\n",
       "      <td>MedRxiv</td>\n",
       "      <td>NaN</td>\n",
       "      <td>NaN</td>\n",
       "      <td>NaN</td>\n",
       "      <td>NaN</td>\n",
       "      <td>NaN</td>\n",
       "      <td>...</td>\n",
       "      <td>Significant</td>\n",
       "      <td>Not Adjusted</td>\n",
       "      <td>Extracted</td>\n",
       "      <td>NaN</td>\n",
       "      <td>Retrospective observational study</td>\n",
       "      <td>299</td>\n",
       "      <td>299 patients with confirmed COVID-19 positive ...</td>\n",
       "      <td>NaN</td>\n",
       "      <td>Y</td>\n",
       "      <td>N</td>\n",
       "    </tr>\n",
       "    <tr>\n",
       "      <th>4</th>\n",
       "      <td>4</td>\n",
       "      <td>2020-05-29</td>\n",
       "      <td>Phenotypic characteristics and prognosis of in...</td>\n",
       "      <td>https://www.ncbi.nlm.nih.gov/pubmed/32472191/</td>\n",
       "      <td>Diabetologia</td>\n",
       "      <td>OR: 0.66</td>\n",
       "      <td>0.35</td>\n",
       "      <td>1.27</td>\n",
       "      <td>NaN</td>\n",
       "      <td>Not Significant</td>\n",
       "      <td>...</td>\n",
       "      <td>Not Significant</td>\n",
       "      <td>Not Adjusted</td>\n",
       "      <td>Extracted</td>\n",
       "      <td>NaN</td>\n",
       "      <td>Retrospective observational study</td>\n",
       "      <td>1317</td>\n",
       "      <td>The CORONADO study was launched in all French ...</td>\n",
       "      <td>NaN</td>\n",
       "      <td>Y</td>\n",
       "      <td>N</td>\n",
       "    </tr>\n",
       "  </tbody>\n",
       "</table>\n",
       "<p>5 rows × 26 columns</p>\n",
       "</div>"
      ],
      "text/plain": [
       "   Unnamed: 0        Date                                              Study  \\\n",
       "0           0  2020-06-01  Characteristics and Outcomes of COVID-19 Patie...   \n",
       "1           1  2020-05-31  Clinical Features and Short-term Outcomes of E...   \n",
       "2           2  2020-05-29  A clinical risk score to identify patients wit...   \n",
       "3           3  2020-05-29  The Association Between Biomarkers and Clinica...   \n",
       "4           4  2020-05-29  Phenotypic characteristics and prognosis of in...   \n",
       "\n",
       "                                          Study Link           Journal  \\\n",
       "0  http://medrxiv.org/cgi/content/short/2020.05.2...           MedRxiv   \n",
       "1  https://www.sciencedirect.com/science/article/...  Int J Infect Dis   \n",
       "2         https://doi.org/10.1016/j.jinf.2020.05.064          J Infect   \n",
       "3  http://medrxiv.org/cgi/content/short/2020.05.2...           MedRxiv   \n",
       "4      https://www.ncbi.nlm.nih.gov/pubmed/32472191/      Diabetologia   \n",
       "\n",
       "     Severe  Severe lower bound  Severe upper bound Severe p-value  \\\n",
       "0       NaN                 NaN                 NaN            NaN   \n",
       "1       NaN                 NaN                 NaN            NaN   \n",
       "2   HR=0.90                0.54                1.51            0.7   \n",
       "3       NaN                 NaN                 NaN            NaN   \n",
       "4  OR: 0.66                0.35                1.27            NaN   \n",
       "\n",
       "  Severe Significant  ... Fatality Significant Fatality Adjusted  \\\n",
       "0                NaN  ...          Significant      Not Adjusted   \n",
       "1                NaN  ...          Significant      Not Adjusted   \n",
       "2    Not Significant  ...      Not Significant      Not Adjusted   \n",
       "3                NaN  ...          Significant      Not Adjusted   \n",
       "4    Not Significant  ...      Not Significant      Not Adjusted   \n",
       "\n",
       "  Fatality Calculated  Multivariate adjustment  \\\n",
       "0          Calculated                      NaN   \n",
       "1           Extracted                      NaN   \n",
       "2           Extracted                      NaN   \n",
       "3           Extracted                      NaN   \n",
       "4           Extracted                      NaN   \n",
       "\n",
       "                          Study Type Sample Size  \\\n",
       "0  Retrospective observational study       13442   \n",
       "1  Retrospective observational study         204   \n",
       "2  Retrospective observational study        1157   \n",
       "3  Retrospective observational study         299   \n",
       "4  Retrospective observational study        1317   \n",
       "\n",
       "                                    Study Population Added on Critical only  \\\n",
       "0  New York City Health and Hospital between Marc...      NaN             N   \n",
       "1  Renmin  Hospital  of  Wuhan University  from  ...      NaN             N   \n",
       "2  King’s College Hospital and Princess Royal Uni...      NaN             Y   \n",
       "3  299 patients with confirmed COVID-19 positive ...      NaN             Y   \n",
       "4  The CORONADO study was launched in all French ...      NaN             Y   \n",
       "\n",
       "  Discharged vs. death?  \n",
       "0                     N  \n",
       "1                     N  \n",
       "2                     N  \n",
       "3                     N  \n",
       "4                     N  \n",
       "\n",
       "[5 rows x 26 columns]"
      ]
     },
     "execution_count": 76,
     "metadata": {},
     "output_type": "execute_result"
    }
   ],
   "source": [
    "kag.head()"
   ]
  },
  {
   "cell_type": "code",
   "execution_count": 77,
   "metadata": {},
   "outputs": [
    {
     "name": "stdout",
     "output_type": "stream",
     "text": [
      "covid.ipynb  \u001b[0m\u001b[01;34mpdf_json\u001b[0m/  \u001b[01;34mpmc_json\u001b[0m/\r\n"
     ]
    }
   ],
   "source": [
    "%ls document_parses"
   ]
  },
  {
   "cell_type": "code",
   "execution_count": 78,
   "metadata": {},
   "outputs": [],
   "source": [
    "keep=['Epidemiology, clinical course, and outcomes of critically ill adults with COVID-19 in New York City: a prospective cohort study']\n",
    "arts=set(kag['Study'])-set(keep)"
   ]
  },
  {
   "cell_type": "code",
   "execution_count": 79,
   "metadata": {},
   "outputs": [],
   "source": [
    "creat=[]\n",
    "for i in os.listdir('document_parses/pdf_json'):\n",
    "    save=0\n",
    "    savee=0\n",
    "\n",
    "    with open('document_parses/pdf_json/'+i) as json_file:\n",
    "        data = json.load(json_file)\n",
    "        if data['metadata']['title'] not in list(arts):\n",
    "        \n",
    "            doc=[]\n",
    "            for c,j in enumerate(data['body_text']):\n",
    "            \n",
    "                #texts.append(data['body_text'][c]['text'])\n",
    "                row=[i,data['metadata']['title'],data['body_text'][c]['section'],data['body_text'][c]['text']]\n",
    "                if data['body_text'][c]['text'].lower().find('creatinine')>-1:\n",
    "                    save+=1\n",
    "                if data['body_text'][c]['text'].lower().find('covid-19')>-1:\n",
    "                    savee+=1\n",
    "                if data['body_text'][c]['text'].lower().find('covid19')>-1:\n",
    "                    savee+=1\n",
    "                doc.append(row)\n",
    "            if save>0:\n",
    "                if savee>0:\n",
    "                    creat.append(doc)\n",
    "        else:\n",
    "            pass"
   ]
  },
  {
   "cell_type": "code",
   "execution_count": 80,
   "metadata": {},
   "outputs": [],
   "source": [
    "jsons=[j[0] for i in creat for j in i]\n",
    "titles=[j[1] for i in creat for j in i]\n",
    "sections=[j[2] for i in creat for j in i]\n",
    "text=[j[1]+'.  '+j[2]+'.  '+j[3] for i in creat for j in i]"
   ]
  },
  {
   "cell_type": "code",
   "execution_count": 81,
   "metadata": {},
   "outputs": [],
   "source": [
    "creats=pd.DataFrame(None,columns=['jsons','titles','sections','text'])"
   ]
  },
  {
   "cell_type": "code",
   "execution_count": 82,
   "metadata": {},
   "outputs": [],
   "source": [
    "creats.jsons=jsons\n",
    "creats.titles=titles\n",
    "creats.sections=sections\n",
    "creats.text=text"
   ]
  },
  {
   "cell_type": "code",
   "execution_count": 83,
   "metadata": {},
   "outputs": [
    {
     "data": {
      "text/html": [
       "<div>\n",
       "<style scoped>\n",
       "    .dataframe tbody tr th:only-of-type {\n",
       "        vertical-align: middle;\n",
       "    }\n",
       "\n",
       "    .dataframe tbody tr th {\n",
       "        vertical-align: top;\n",
       "    }\n",
       "\n",
       "    .dataframe thead th {\n",
       "        text-align: right;\n",
       "    }\n",
       "</style>\n",
       "<table border=\"1\" class=\"dataframe\">\n",
       "  <thead>\n",
       "    <tr style=\"text-align: right;\">\n",
       "      <th></th>\n",
       "      <th>jsons</th>\n",
       "      <th>titles</th>\n",
       "      <th>sections</th>\n",
       "      <th>text</th>\n",
       "    </tr>\n",
       "  </thead>\n",
       "  <tbody>\n",
       "    <tr>\n",
       "      <th>0</th>\n",
       "      <td>fd4ccbdac4837e90209823ff38dbb82e58c51c3f.json</td>\n",
       "      <td>Journal Pre-proof Breastfeeding and Medication...</td>\n",
       "      <td>Introduction</td>\n",
       "      <td>Journal Pre-proof Breastfeeding and Medication...</td>\n",
       "    </tr>\n",
       "    <tr>\n",
       "      <th>1</th>\n",
       "      <td>fd4ccbdac4837e90209823ff38dbb82e58c51c3f.json</td>\n",
       "      <td>Journal Pre-proof Breastfeeding and Medication...</td>\n",
       "      <td>Introduction</td>\n",
       "      <td>Journal Pre-proof Breastfeeding and Medication...</td>\n",
       "    </tr>\n",
       "    <tr>\n",
       "      <th>2</th>\n",
       "      <td>fd4ccbdac4837e90209823ff38dbb82e58c51c3f.json</td>\n",
       "      <td>Journal Pre-proof Breastfeeding and Medication...</td>\n",
       "      <td>Introduction</td>\n",
       "      <td>Journal Pre-proof Breastfeeding and Medication...</td>\n",
       "    </tr>\n",
       "    <tr>\n",
       "      <th>3</th>\n",
       "      <td>fd4ccbdac4837e90209823ff38dbb82e58c51c3f.json</td>\n",
       "      <td>Journal Pre-proof Breastfeeding and Medication...</td>\n",
       "      <td>Mammary glands</td>\n",
       "      <td>Journal Pre-proof Breastfeeding and Medication...</td>\n",
       "    </tr>\n",
       "    <tr>\n",
       "      <th>4</th>\n",
       "      <td>fd4ccbdac4837e90209823ff38dbb82e58c51c3f.json</td>\n",
       "      <td>Journal Pre-proof Breastfeeding and Medication...</td>\n",
       "      <td>Mammary glands</td>\n",
       "      <td>Journal Pre-proof Breastfeeding and Medication...</td>\n",
       "    </tr>\n",
       "  </tbody>\n",
       "</table>\n",
       "</div>"
      ],
      "text/plain": [
       "                                           jsons  \\\n",
       "0  fd4ccbdac4837e90209823ff38dbb82e58c51c3f.json   \n",
       "1  fd4ccbdac4837e90209823ff38dbb82e58c51c3f.json   \n",
       "2  fd4ccbdac4837e90209823ff38dbb82e58c51c3f.json   \n",
       "3  fd4ccbdac4837e90209823ff38dbb82e58c51c3f.json   \n",
       "4  fd4ccbdac4837e90209823ff38dbb82e58c51c3f.json   \n",
       "\n",
       "                                              titles        sections  \\\n",
       "0  Journal Pre-proof Breastfeeding and Medication...    Introduction   \n",
       "1  Journal Pre-proof Breastfeeding and Medication...    Introduction   \n",
       "2  Journal Pre-proof Breastfeeding and Medication...    Introduction   \n",
       "3  Journal Pre-proof Breastfeeding and Medication...  Mammary glands   \n",
       "4  Journal Pre-proof Breastfeeding and Medication...  Mammary glands   \n",
       "\n",
       "                                                text  \n",
       "0  Journal Pre-proof Breastfeeding and Medication...  \n",
       "1  Journal Pre-proof Breastfeeding and Medication...  \n",
       "2  Journal Pre-proof Breastfeeding and Medication...  \n",
       "3  Journal Pre-proof Breastfeeding and Medication...  \n",
       "4  Journal Pre-proof Breastfeeding and Medication...  "
      ]
     },
     "execution_count": 83,
     "metadata": {},
     "output_type": "execute_result"
    }
   ],
   "source": [
    "creats.head()"
   ]
  },
  {
   "cell_type": "code",
   "execution_count": 84,
   "metadata": {},
   "outputs": [],
   "source": [
    "docs=creats.copy(deep=True)"
   ]
  },
  {
   "cell_type": "code",
   "execution_count": 85,
   "metadata": {},
   "outputs": [],
   "source": [
    "docs.drop_duplicates(keep='first',inplace=True)"
   ]
  },
  {
   "cell_type": "code",
   "execution_count": 86,
   "metadata": {},
   "outputs": [
    {
     "data": {
      "text/html": [
       "<div>\n",
       "<style scoped>\n",
       "    .dataframe tbody tr th:only-of-type {\n",
       "        vertical-align: middle;\n",
       "    }\n",
       "\n",
       "    .dataframe tbody tr th {\n",
       "        vertical-align: top;\n",
       "    }\n",
       "\n",
       "    .dataframe thead th {\n",
       "        text-align: right;\n",
       "    }\n",
       "</style>\n",
       "<table border=\"1\" class=\"dataframe\">\n",
       "  <thead>\n",
       "    <tr style=\"text-align: right;\">\n",
       "      <th></th>\n",
       "      <th>jsons</th>\n",
       "      <th>titles</th>\n",
       "      <th>sections</th>\n",
       "      <th>text</th>\n",
       "    </tr>\n",
       "  </thead>\n",
       "  <tbody>\n",
       "    <tr>\n",
       "      <th>0</th>\n",
       "      <td>fd4ccbdac4837e90209823ff38dbb82e58c51c3f.json</td>\n",
       "      <td>Journal Pre-proof Breastfeeding and Medication...</td>\n",
       "      <td>Introduction</td>\n",
       "      <td>Journal Pre-proof Breastfeeding and Medication...</td>\n",
       "    </tr>\n",
       "    <tr>\n",
       "      <th>1</th>\n",
       "      <td>fd4ccbdac4837e90209823ff38dbb82e58c51c3f.json</td>\n",
       "      <td>Journal Pre-proof Breastfeeding and Medication...</td>\n",
       "      <td>Introduction</td>\n",
       "      <td>Journal Pre-proof Breastfeeding and Medication...</td>\n",
       "    </tr>\n",
       "    <tr>\n",
       "      <th>2</th>\n",
       "      <td>fd4ccbdac4837e90209823ff38dbb82e58c51c3f.json</td>\n",
       "      <td>Journal Pre-proof Breastfeeding and Medication...</td>\n",
       "      <td>Introduction</td>\n",
       "      <td>Journal Pre-proof Breastfeeding and Medication...</td>\n",
       "    </tr>\n",
       "    <tr>\n",
       "      <th>3</th>\n",
       "      <td>fd4ccbdac4837e90209823ff38dbb82e58c51c3f.json</td>\n",
       "      <td>Journal Pre-proof Breastfeeding and Medication...</td>\n",
       "      <td>Mammary glands</td>\n",
       "      <td>Journal Pre-proof Breastfeeding and Medication...</td>\n",
       "    </tr>\n",
       "    <tr>\n",
       "      <th>4</th>\n",
       "      <td>fd4ccbdac4837e90209823ff38dbb82e58c51c3f.json</td>\n",
       "      <td>Journal Pre-proof Breastfeeding and Medication...</td>\n",
       "      <td>Mammary glands</td>\n",
       "      <td>Journal Pre-proof Breastfeeding and Medication...</td>\n",
       "    </tr>\n",
       "  </tbody>\n",
       "</table>\n",
       "</div>"
      ],
      "text/plain": [
       "                                           jsons  \\\n",
       "0  fd4ccbdac4837e90209823ff38dbb82e58c51c3f.json   \n",
       "1  fd4ccbdac4837e90209823ff38dbb82e58c51c3f.json   \n",
       "2  fd4ccbdac4837e90209823ff38dbb82e58c51c3f.json   \n",
       "3  fd4ccbdac4837e90209823ff38dbb82e58c51c3f.json   \n",
       "4  fd4ccbdac4837e90209823ff38dbb82e58c51c3f.json   \n",
       "\n",
       "                                              titles        sections  \\\n",
       "0  Journal Pre-proof Breastfeeding and Medication...    Introduction   \n",
       "1  Journal Pre-proof Breastfeeding and Medication...    Introduction   \n",
       "2  Journal Pre-proof Breastfeeding and Medication...    Introduction   \n",
       "3  Journal Pre-proof Breastfeeding and Medication...  Mammary glands   \n",
       "4  Journal Pre-proof Breastfeeding and Medication...  Mammary glands   \n",
       "\n",
       "                                                text  \n",
       "0  Journal Pre-proof Breastfeeding and Medication...  \n",
       "1  Journal Pre-proof Breastfeeding and Medication...  \n",
       "2  Journal Pre-proof Breastfeeding and Medication...  \n",
       "3  Journal Pre-proof Breastfeeding and Medication...  \n",
       "4  Journal Pre-proof Breastfeeding and Medication...  "
      ]
     },
     "execution_count": 86,
     "metadata": {},
     "output_type": "execute_result"
    }
   ],
   "source": [
    "docs.head()"
   ]
  },
  {
   "cell_type": "code",
   "execution_count": 87,
   "metadata": {},
   "outputs": [],
   "source": [
    "docs.to_csv('covid.csv')"
   ]
  },
  {
   "cell_type": "code",
   "execution_count": 88,
   "metadata": {},
   "outputs": [],
   "source": [
    "docs=pd.read_csv('covid.csv')"
   ]
  },
  {
   "cell_type": "code",
   "execution_count": 89,
   "metadata": {},
   "outputs": [
    {
     "name": "stdout",
     "output_type": "stream",
     "text": [
      "\u001b[33mWARNING: You are using pip version 20.1; however, version 20.2.3 is available.\n",
      "You should consider upgrading via the '/home/myilmaz/devel/mag/notebooks/3.7env/bin/python -m pip install --upgrade pip' command.\u001b[0m\n",
      "\u001b[31mERROR: spark-nlp-jsl 2.5.4rc4 has requirement spark-nlp==2.5.4, but you'll have spark-nlp 2.5.0 which is incompatible.\u001b[0m\n",
      "\u001b[33mWARNING: You are using pip version 20.1; however, version 20.2.3 is available.\n",
      "You should consider upgrading via the '/home/myilmaz/devel/mag/notebooks/3.7env/bin/python -m pip install --upgrade pip' command.\u001b[0m\n",
      "2.5.0\n"
     ]
    }
   ],
   "source": [
    "import os\n",
    "\n",
    "\n",
    "import pyspark.sql.functions as F\n",
    "from pyspark.sql.functions import monotonically_increasing_id\n",
    "import json\n",
    "import os\n",
    "from pyspark.ml import Pipeline\n",
    "from pyspark.sql import SparkSession\n",
    "\n",
    "\n",
    "from sparknlp.annotator import *\n",
    "\n",
    "from sparknlp.base import *\n",
    "\n",
    "# Install pyspark\n",
    "! pip install --ignore-installed -q pyspark==2.4.4\n",
    "\n",
    "\n",
    "# Install Spark NLP\n",
    "! pip install --ignore-installed -q spark-nlp==2.5\n",
    "\n",
    "\n",
    "import sparknlp\n",
    "\n",
    "print (sparknlp.version())\n",
    "\n",
    "import json\n",
    "import os\n",
    "from pyspark.ml import Pipeline\n",
    "from pyspark.sql import SparkSession\n",
    "from sparknlp.annotator import *\n",
    "\n",
    "from sparknlp.base import *\n",
    "\n",
    "from pyspark.sql.functions import monotonically_increasing_id\n",
    "import pyspark.sql.functions as F\n",
    "import pyspark.sql.types as t\n",
    "\n",
    "\n"
   ]
  },
  {
   "cell_type": "code",
   "execution_count": 90,
   "metadata": {},
   "outputs": [],
   "source": [
    "\n",
    "spark=sparknlp.start()"
   ]
  },
  {
   "cell_type": "code",
   "execution_count": 91,
   "metadata": {},
   "outputs": [],
   "source": [
    "docs.fillna('',inplace=True)"
   ]
  },
  {
   "cell_type": "code",
   "execution_count": 92,
   "metadata": {},
   "outputs": [
    {
     "data": {
      "text/html": [
       "<div>\n",
       "<style scoped>\n",
       "    .dataframe tbody tr th:only-of-type {\n",
       "        vertical-align: middle;\n",
       "    }\n",
       "\n",
       "    .dataframe tbody tr th {\n",
       "        vertical-align: top;\n",
       "    }\n",
       "\n",
       "    .dataframe thead th {\n",
       "        text-align: right;\n",
       "    }\n",
       "</style>\n",
       "<table border=\"1\" class=\"dataframe\">\n",
       "  <thead>\n",
       "    <tr style=\"text-align: right;\">\n",
       "      <th></th>\n",
       "      <th>Unnamed: 0</th>\n",
       "      <th>jsons</th>\n",
       "      <th>titles</th>\n",
       "      <th>sections</th>\n",
       "      <th>text</th>\n",
       "    </tr>\n",
       "  </thead>\n",
       "  <tbody>\n",
       "    <tr>\n",
       "      <th>0</th>\n",
       "      <td>0</td>\n",
       "      <td>fd4ccbdac4837e90209823ff38dbb82e58c51c3f.json</td>\n",
       "      <td>Journal Pre-proof Breastfeeding and Medication...</td>\n",
       "      <td>Introduction</td>\n",
       "      <td>Journal Pre-proof Breastfeeding and Medication...</td>\n",
       "    </tr>\n",
       "  </tbody>\n",
       "</table>\n",
       "</div>"
      ],
      "text/plain": [
       "   Unnamed: 0                                          jsons  \\\n",
       "0           0  fd4ccbdac4837e90209823ff38dbb82e58c51c3f.json   \n",
       "\n",
       "                                              titles      sections  \\\n",
       "0  Journal Pre-proof Breastfeeding and Medication...  Introduction   \n",
       "\n",
       "                                                text  \n",
       "0  Journal Pre-proof Breastfeeding and Medication...  "
      ]
     },
     "execution_count": 92,
     "metadata": {},
     "output_type": "execute_result"
    }
   ],
   "source": [
    "docs.head(1)"
   ]
  },
  {
   "cell_type": "code",
   "execution_count": 93,
   "metadata": {},
   "outputs": [],
   "source": [
    "sparkdocs=spark.createDataFrame(docs).toDF('docid','json','title','section','text')"
   ]
  },
  {
   "cell_type": "code",
   "execution_count": 94,
   "metadata": {},
   "outputs": [],
   "source": [
    "document_assembler = DocumentAssembler() \\\n",
    "        .setInputCol(\"text\")\\\n",
    "        .setOutputCol('document')\n",
    "    \n",
    "sentence_detector = SentenceDetector() \\\n",
    "        .setInputCols([\"document\"]) \\\n",
    "        .setOutputCol(\"sentence\")\n",
    "\n",
    "tokenizer = Tokenizer() \\\n",
    "        .setInputCols([\"sentence\"]) \\\n",
    "        .setOutputCol(\"token\")\n",
    "\n",
    "word_embeddings = WordEmbeddingsModel.load(\"/home/myilmaz/cache_pretrained/embeddings_clinical_en_2.4.0_2.4_1580237286004\")\\\n",
    "  .setInputCols([\"sentence\", \"token\"])\\\n",
    "  .setOutputCol(\"embeddings\")\n",
    "clinical_ner = NerDLModel.load('/home/myilmaz/cache_pretrained/ner_clinical_en_2.4.0_2.4_1580237286004') \\\n",
    "        .setInputCols([\"sentence\", \"token\", \"embeddings\"]) \\\n",
    "        .setOutputCol(\"ner\")\n",
    "ner_converter = NerConverter() \\\n",
    "  .setInputCols([\"sentence\", \"token\", \"ner\"]) \\\n",
    "  .setOutputCol(\"ner_chunk\")\n",
    "nlpPipeline = Pipeline(stages=[document_assembler,sentence_detector,tokenizer,\n",
    "    word_embeddings,\n",
    "    clinical_ner,ner_converter\n",
    "    ])\n",
    "\n",
    "\n",
    "empty_data = spark.createDataFrame([[\"\"]]).toDF(\"text\")\n",
    "\n",
    "model = nlpPipeline.fit(empty_data)\n"
   ]
  },
  {
   "cell_type": "code",
   "execution_count": 95,
   "metadata": {},
   "outputs": [],
   "source": [
    "results=model.transform(sparkdocs)"
   ]
  },
  {
   "cell_type": "code",
   "execution_count": 96,
   "metadata": {},
   "outputs": [
    {
     "data": {
      "text/plain": [
       "['docid',\n",
       " 'json',\n",
       " 'title',\n",
       " 'section',\n",
       " 'text',\n",
       " 'document',\n",
       " 'sentence',\n",
       " 'token',\n",
       " 'embeddings',\n",
       " 'ner',\n",
       " 'ner_chunk']"
      ]
     },
     "execution_count": 96,
     "metadata": {},
     "output_type": "execute_result"
    }
   ],
   "source": [
    "results.columns"
   ]
  },
  {
   "cell_type": "code",
   "execution_count": 97,
   "metadata": {},
   "outputs": [],
   "source": [
    "exploded = results.select('docid','section',F.explode(F.arrays_zip('token.metadata','token.result','ner.result')).alias(\"cols\")) \\\n",
    "        .select('docid','section',F.expr(\"cols['0'].sentence\").alias(\"sentid\"),\n",
    "        F.col('cols.1').alias(\"token\"),F.col('cols.2').alias(\"label\"))"
   ]
  },
  {
   "cell_type": "code",
   "execution_count": 99,
   "metadata": {
    "scrolled": true
   },
   "outputs": [],
   "source": [
    "exploded.write.option(\"header\", \"true\").csv(\"covid2.csv\")"
   ]
  },
  {
   "cell_type": "code",
   "execution_count": 100,
   "metadata": {},
   "outputs": [
    {
     "data": {
      "text/plain": [
       "'.part-00002-cdd9888b-ccd7-4cb1-b68d-d7414ade4f70-c000.csv.crc'"
      ]
     },
     "execution_count": 100,
     "metadata": {},
     "output_type": "execute_result"
    }
   ],
   "source": [
    "os.listdir('covid2.csv')[0]"
   ]
  },
  {
   "cell_type": "code",
   "execution_count": 101,
   "metadata": {},
   "outputs": [],
   "source": [
    "import pyspark.sql.types as t\n",
    "myschema = t.StructType(\n",
    "   [\n",
    "    t.StructField('docid', t.IntegerType(), True),\n",
    "    t.StructField('section', t.StringType(), True),\n",
    "    t.StructField('sentid', t.IntegerType(), True),\n",
    "    t.StructField('token', t.StringType(), True),\n",
    "    t.StructField('label', t.StringType(), True)\n",
    "\n",
    "   ]\n",
    "  )"
   ]
  },
  {
   "cell_type": "code",
   "execution_count": 102,
   "metadata": {},
   "outputs": [],
   "source": [
    "csvs=os.listdir('covid2.csv')[0:13]\n",
    "big=pd.DataFrame(None)\n",
    "for i in csvs:\n",
    "    \n",
    "    dfs=spark.read.csv('covid2.csv/'+i,sep=',',schema=myschema,header=True)\n",
    "    one=dfs.toPandas()\n",
    "    big=big.append(one)"
   ]
  },
  {
   "cell_type": "code",
   "execution_count": 103,
   "metadata": {},
   "outputs": [],
   "source": [
    "import numpy as np\n",
    "\n",
    "tokens=[]\n",
    "savei=''\n",
    "save=0\n",
    "for i,j in zip(big.token,big.label):\n",
    "    if j.split('-')[0]!='I':\n",
    "        if save<0:\n",
    "            tokens[save]=savei\n",
    "            tokens.append(np.nan)\n",
    "            savei=i\n",
    "            save=0\n",
    "            continue\n",
    "        else:\n",
    "            tokens.append(savei)\n",
    "            savei=i\n",
    "            save=0\n",
    "            continue\n",
    "    elif j.split('-')[0]=='I':\n",
    "        savei+=' '+i\n",
    "        save-=1\n",
    "        tokens.append(np.nan)\n",
    "    else:\n",
    "        tokens.append(np.nan)\n",
    "\n",
    "               \n",
    "if save<0:\n",
    "    tokens[save]=savei\n",
    "    tokens.append(np.nan)\n",
    "else:\n",
    "    tokens.append(savei) \n",
    "    \n",
    "tokens=tokens[1:]\n",
    "        "
   ]
  },
  {
   "cell_type": "code",
   "execution_count": 104,
   "metadata": {},
   "outputs": [],
   "source": [
    "big['chunks']=tokens"
   ]
  },
  {
   "cell_type": "code",
   "execution_count": 105,
   "metadata": {},
   "outputs": [],
   "source": [
    "bigdf=big[big['chunks'].notnull()]"
   ]
  },
  {
   "cell_type": "code",
   "execution_count": 106,
   "metadata": {},
   "outputs": [],
   "source": [
    "bigdf=bigdf[bigdf['label']!='O']"
   ]
  },
  {
   "cell_type": "code",
   "execution_count": 107,
   "metadata": {},
   "outputs": [
    {
     "data": {
      "text/plain": [
       "SARS-CoV-2                            3409\n",
       "treatment                             1530\n",
       "AKI                                   1510\n",
       "SARS-CoV-2 infection                  1505\n",
       "this study                            1296\n",
       "                                      ... \n",
       "the virus to other organs                1\n",
       "SARS-CoV-2 meningitis/encephalitis       1\n",
       "Plasma exchange                          1\n",
       "Interleukins ( IL-2 receptor             1\n",
       "the MTT assay                            1\n",
       "Name: chunks, Length: 133561, dtype: int64"
      ]
     },
     "execution_count": 107,
     "metadata": {},
     "output_type": "execute_result"
    }
   ],
   "source": [
    "bigdf['chunks'].value_counts()"
   ]
  },
  {
   "cell_type": "code",
   "execution_count": 108,
   "metadata": {},
   "outputs": [],
   "source": [
    "problems=bigdf[bigdf['label']=='B-PROBLEM']"
   ]
  },
  {
   "cell_type": "code",
   "execution_count": 109,
   "metadata": {},
   "outputs": [
    {
     "data": {
      "text/plain": [
       "291"
      ]
     },
     "execution_count": 109,
     "metadata": {},
     "output_type": "execute_result"
    }
   ],
   "source": [
    "creat=problems[problems['chunks'].str.contains('creatinine')]\n",
    "len(problems[problems['chunks'].str.contains('creatinine')])"
   ]
  },
  {
   "cell_type": "code",
   "execution_count": 110,
   "metadata": {},
   "outputs": [
    {
     "data": {
      "text/plain": [
       "1473"
      ]
     },
     "execution_count": 110,
     "metadata": {},
     "output_type": "execute_result"
    }
   ],
   "source": [
    "hyper=problems[problems['chunks'].str.contains('hypertension')]\n",
    "len(problems[problems['chunks'].str.contains('hypertension')])"
   ]
  },
  {
   "cell_type": "code",
   "execution_count": 111,
   "metadata": {},
   "outputs": [
    {
     "data": {
      "text/plain": [
       "1893"
      ]
     },
     "execution_count": 111,
     "metadata": {},
     "output_type": "execute_result"
    }
   ],
   "source": [
    "inflam=problems[problems['chunks'].str.contains('inflammatory')]\n",
    "len(problems[problems['chunks'].str.contains('inflammatory')])"
   ]
  },
  {
   "cell_type": "code",
   "execution_count": 112,
   "metadata": {},
   "outputs": [
    {
     "data": {
      "text/plain": [
       "1560"
      ]
     },
     "execution_count": 112,
     "metadata": {},
     "output_type": "execute_result"
    }
   ],
   "source": [
    "cyto=problems[problems['chunks'].str.contains('cytokine')]\n",
    "len(problems[problems['chunks'].str.contains('cytokine')])"
   ]
  },
  {
   "cell_type": "code",
   "execution_count": 113,
   "metadata": {},
   "outputs": [],
   "source": [
    "tests=bigdf[bigdf['label']=='B-TEST']"
   ]
  },
  {
   "cell_type": "code",
   "execution_count": 114,
   "metadata": {},
   "outputs": [
    {
     "data": {
      "text/plain": [
       "1392"
      ]
     },
     "execution_count": 114,
     "metadata": {},
     "output_type": "execute_result"
    }
   ],
   "source": [
    "creat2=tests[tests['chunks'].str.contains('creatinine')]\n",
    "len(tests[tests['chunks'].str.contains('creatinine')])"
   ]
  },
  {
   "cell_type": "code",
   "execution_count": 115,
   "metadata": {},
   "outputs": [
    {
     "data": {
      "text/plain": [
       "214"
      ]
     },
     "execution_count": 115,
     "metadata": {},
     "output_type": "execute_result"
    }
   ],
   "source": [
    "hyper2=pd.DataFrame(creat2.merge(hyper,on=['docid','section'],how='inner'))\n",
    "len(hyper2.drop_duplicates(keep='first'))"
   ]
  },
  {
   "cell_type": "code",
   "execution_count": 124,
   "metadata": {},
   "outputs": [
    {
     "data": {
      "text/plain": [
       "214"
      ]
     },
     "execution_count": 124,
     "metadata": {},
     "output_type": "execute_result"
    }
   ],
   "source": [
    "hyper2=pd.DataFrame(creat2.merge(hyper,on=['docid'],how='inner'))\n",
    "len(hyper2.drop_duplicates(keep='first'))"
   ]
  },
  {
   "cell_type": "code",
   "execution_count": 120,
   "metadata": {},
   "outputs": [
    {
     "data": {
      "text/plain": [
       "100"
      ]
     },
     "execution_count": 120,
     "metadata": {},
     "output_type": "execute_result"
    }
   ],
   "source": [
    "hyper2=pd.DataFrame(creat2.merge(inflam,on=['docid','section'],how='inner'))\n",
    "len(hyper2.drop_duplicates(keep='first'))"
   ]
  },
  {
   "cell_type": "code",
   "execution_count": 122,
   "metadata": {},
   "outputs": [
    {
     "data": {
      "text/plain": [
       "94"
      ]
     },
     "execution_count": 122,
     "metadata": {},
     "output_type": "execute_result"
    }
   ],
   "source": [
    "hyper2=pd.DataFrame(creat2.merge(cyto,on=['docid','section'],how='inner'))\n",
    "len(hyper2.drop_duplicates(keep='first'))"
   ]
  },
  {
   "cell_type": "code",
   "execution_count": 125,
   "metadata": {},
   "outputs": [],
   "source": [
    "probhist=pd.DataFrame(problems['chunks'].value_counts())\n",
    "probhist=probhist.rename(columns={'chunks':'counts'})\n",
    "probhist2=probhist.iloc[0:100]"
   ]
  },
  {
   "cell_type": "code",
   "execution_count": 126,
   "metadata": {},
   "outputs": [],
   "source": [
    "testhist=pd.DataFrame(tests['chunks'].value_counts())\n",
    "testhist=testhist.rename(columns={'chunks':'counts'})\n",
    "testhist2=testhist.iloc[0:100]"
   ]
  },
  {
   "cell_type": "code",
   "execution_count": 127,
   "metadata": {},
   "outputs": [
    {
     "data": {
      "text/html": [
       "<div>\n",
       "<style scoped>\n",
       "    .dataframe tbody tr th:only-of-type {\n",
       "        vertical-align: middle;\n",
       "    }\n",
       "\n",
       "    .dataframe tbody tr th {\n",
       "        vertical-align: top;\n",
       "    }\n",
       "\n",
       "    .dataframe thead th {\n",
       "        text-align: right;\n",
       "    }\n",
       "</style>\n",
       "<table border=\"1\" class=\"dataframe\">\n",
       "  <thead>\n",
       "    <tr style=\"text-align: right;\">\n",
       "      <th></th>\n",
       "      <th>counts</th>\n",
       "    </tr>\n",
       "  </thead>\n",
       "  <tbody>\n",
       "    <tr>\n",
       "      <th>this study</th>\n",
       "      <td>1295</td>\n",
       "    </tr>\n",
       "    <tr>\n",
       "      <th>the study</th>\n",
       "      <td>1262</td>\n",
       "    </tr>\n",
       "    <tr>\n",
       "      <th>CRP</th>\n",
       "      <td>805</td>\n",
       "    </tr>\n",
       "    <tr>\n",
       "      <th>our study</th>\n",
       "      <td>668</td>\n",
       "    </tr>\n",
       "    <tr>\n",
       "      <th>creatinine</th>\n",
       "      <td>632</td>\n",
       "    </tr>\n",
       "    <tr>\n",
       "      <th>studies</th>\n",
       "      <td>611</td>\n",
       "    </tr>\n",
       "    <tr>\n",
       "      <th>data</th>\n",
       "      <td>610</td>\n",
       "    </tr>\n",
       "    <tr>\n",
       "      <th>CI</th>\n",
       "      <td>577</td>\n",
       "    </tr>\n",
       "    <tr>\n",
       "      <th>Accepted Article</th>\n",
       "      <td>564</td>\n",
       "    </tr>\n",
       "    <tr>\n",
       "      <th>A</th>\n",
       "      <td>536</td>\n",
       "    </tr>\n",
       "    <tr>\n",
       "      <th>IL-6</th>\n",
       "      <td>471</td>\n",
       "    </tr>\n",
       "    <tr>\n",
       "      <th>D-dimer</th>\n",
       "      <td>456</td>\n",
       "    </tr>\n",
       "    <tr>\n",
       "      <th>RT-PCR</th>\n",
       "      <td>456</td>\n",
       "    </tr>\n",
       "    <tr>\n",
       "      <th>PCR</th>\n",
       "      <td>407</td>\n",
       "    </tr>\n",
       "    <tr>\n",
       "      <th>LDH</th>\n",
       "      <td>403</td>\n",
       "    </tr>\n",
       "    <tr>\n",
       "      <th>COVID</th>\n",
       "      <td>396</td>\n",
       "    </tr>\n",
       "    <tr>\n",
       "      <th>This study</th>\n",
       "      <td>368</td>\n",
       "    </tr>\n",
       "    <tr>\n",
       "      <th>C</th>\n",
       "      <td>368</td>\n",
       "    </tr>\n",
       "    <tr>\n",
       "      <th>AST</th>\n",
       "      <td>365</td>\n",
       "    </tr>\n",
       "    <tr>\n",
       "      <th>ALT</th>\n",
       "      <td>358</td>\n",
       "    </tr>\n",
       "    <tr>\n",
       "      <th>C-reactive protein</th>\n",
       "      <td>357</td>\n",
       "    </tr>\n",
       "    <tr>\n",
       "      <th>SARS-CoV-2</th>\n",
       "      <td>350</td>\n",
       "    </tr>\n",
       "    <tr>\n",
       "      <th>e</th>\n",
       "      <td>324</td>\n",
       "    </tr>\n",
       "    <tr>\n",
       "      <th>Statistical analysis</th>\n",
       "      <td>317</td>\n",
       "    </tr>\n",
       "    <tr>\n",
       "      <th>the data</th>\n",
       "      <td>299</td>\n",
       "    </tr>\n",
       "    <tr>\n",
       "      <th>study</th>\n",
       "      <td>285</td>\n",
       "    </tr>\n",
       "    <tr>\n",
       "      <th>CT</th>\n",
       "      <td>282</td>\n",
       "    </tr>\n",
       "    <tr>\n",
       "      <th>analysis</th>\n",
       "      <td>275</td>\n",
       "    </tr>\n",
       "    <tr>\n",
       "      <th>Analysis</th>\n",
       "      <td>274</td>\n",
       "    </tr>\n",
       "    <tr>\n",
       "      <th>procalcitonin</th>\n",
       "      <td>263</td>\n",
       "    </tr>\n",
       "    <tr>\n",
       "      <th>ferritin</th>\n",
       "      <td>262</td>\n",
       "    </tr>\n",
       "    <tr>\n",
       "      <th>The study</th>\n",
       "      <td>259</td>\n",
       "    </tr>\n",
       "    <tr>\n",
       "      <th>COVID-19</th>\n",
       "      <td>258</td>\n",
       "    </tr>\n",
       "    <tr>\n",
       "      <th>E</th>\n",
       "      <td>254</td>\n",
       "    </tr>\n",
       "    <tr>\n",
       "      <th>a study</th>\n",
       "      <td>250</td>\n",
       "    </tr>\n",
       "    <tr>\n",
       "      <th>U/L</th>\n",
       "      <td>250</td>\n",
       "    </tr>\n",
       "    <tr>\n",
       "      <th>laboratory</th>\n",
       "      <td>249</td>\n",
       "    </tr>\n",
       "    <tr>\n",
       "      <th>ACE2</th>\n",
       "      <td>247</td>\n",
       "    </tr>\n",
       "    <tr>\n",
       "      <th>mg/dL</th>\n",
       "      <td>247</td>\n",
       "    </tr>\n",
       "    <tr>\n",
       "      <th>&lt;</th>\n",
       "      <td>243</td>\n",
       "    </tr>\n",
       "  </tbody>\n",
       "</table>\n",
       "</div>"
      ],
      "text/plain": [
       "                      counts\n",
       "this study              1295\n",
       "the study               1262\n",
       "CRP                      805\n",
       "our study                668\n",
       "creatinine               632\n",
       "studies                  611\n",
       "data                     610\n",
       "CI                       577\n",
       "Accepted Article         564\n",
       "A                        536\n",
       "IL-6                     471\n",
       "D-dimer                  456\n",
       "RT-PCR                   456\n",
       "PCR                      407\n",
       "LDH                      403\n",
       "COVID                    396\n",
       "This study               368\n",
       "C                        368\n",
       "AST                      365\n",
       "ALT                      358\n",
       "C-reactive protein       357\n",
       "SARS-CoV-2               350\n",
       "e                        324\n",
       "Statistical analysis     317\n",
       "the data                 299\n",
       "study                    285\n",
       "CT                       282\n",
       "analysis                 275\n",
       "Analysis                 274\n",
       "procalcitonin            263\n",
       "ferritin                 262\n",
       "The study                259\n",
       "COVID-19                 258\n",
       "E                        254\n",
       "a study                  250\n",
       "U/L                      250\n",
       "laboratory               249\n",
       "ACE2                     247\n",
       "mg/dL                    247\n",
       "<                        243"
      ]
     },
     "execution_count": 127,
     "metadata": {},
     "output_type": "execute_result"
    }
   ],
   "source": [
    "testhist2.head(40)"
   ]
  },
  {
   "cell_type": "code",
   "execution_count": 128,
   "metadata": {},
   "outputs": [
    {
     "data": {
      "image/png": "[encoded data removed]",
      "text/plain": [
       "<Figure size 1728x864 with 1 Axes>"
      ]
     },
     "metadata": {
      "needs_background": "light"
     },
     "output_type": "display_data"
    }
   ],
   "source": [
    "import matplotlib.pyplot as plt\n",
    "import seaborn as sns\n",
    "fig, ax = plt.subplots(figsize =(24,12))\n",
    "chart=sns.barplot(testhist2.index,testhist2['counts'])\n",
    "chart.set_xticklabels(testhist2.index,rotation=90)\n",
    "plt.title('Tests')\n",
    "plt.show()"
   ]
  },
  {
   "cell_type": "code",
   "execution_count": 129,
   "metadata": {},
   "outputs": [
    {
     "data": {
      "text/html": [
       "<div>\n",
       "<style scoped>\n",
       "    .dataframe tbody tr th:only-of-type {\n",
       "        vertical-align: middle;\n",
       "    }\n",
       "\n",
       "    .dataframe tbody tr th {\n",
       "        vertical-align: top;\n",
       "    }\n",
       "\n",
       "    .dataframe thead th {\n",
       "        text-align: right;\n",
       "    }\n",
       "</style>\n",
       "<table border=\"1\" class=\"dataframe\">\n",
       "  <thead>\n",
       "    <tr style=\"text-align: right;\">\n",
       "      <th></th>\n",
       "      <th>counts</th>\n",
       "    </tr>\n",
       "  </thead>\n",
       "  <tbody>\n",
       "    <tr>\n",
       "      <th>SARS-CoV-2</th>\n",
       "      <td>2533</td>\n",
       "    </tr>\n",
       "    <tr>\n",
       "      <th>AKI</th>\n",
       "      <td>1508</td>\n",
       "    </tr>\n",
       "    <tr>\n",
       "      <th>SARS-CoV-2 infection</th>\n",
       "      <td>1505</td>\n",
       "    </tr>\n",
       "    <tr>\n",
       "      <th>death</th>\n",
       "      <td>1194</td>\n",
       "    </tr>\n",
       "    <tr>\n",
       "      <th>fever</th>\n",
       "      <td>1120</td>\n",
       "    </tr>\n",
       "    <tr>\n",
       "      <th>hypertension</th>\n",
       "      <td>1087</td>\n",
       "    </tr>\n",
       "    <tr>\n",
       "      <th>diabetes</th>\n",
       "      <td>1002</td>\n",
       "    </tr>\n",
       "    <tr>\n",
       "      <th>ARDS</th>\n",
       "      <td>949</td>\n",
       "    </tr>\n",
       "    <tr>\n",
       "      <th>SARS</th>\n",
       "      <td>926</td>\n",
       "    </tr>\n",
       "    <tr>\n",
       "      <th>the disease</th>\n",
       "      <td>914</td>\n",
       "    </tr>\n",
       "    <tr>\n",
       "      <th>infection</th>\n",
       "      <td>885</td>\n",
       "    </tr>\n",
       "    <tr>\n",
       "      <th>symptoms</th>\n",
       "      <td>832</td>\n",
       "    </tr>\n",
       "    <tr>\n",
       "      <th>COVID-19 infection</th>\n",
       "      <td>812</td>\n",
       "    </tr>\n",
       "    <tr>\n",
       "      <th>SARS-CoV</th>\n",
       "      <td>749</td>\n",
       "    </tr>\n",
       "    <tr>\n",
       "      <th>pneumonia</th>\n",
       "      <td>685</td>\n",
       "    </tr>\n",
       "    <tr>\n",
       "      <th>coronavirus disease</th>\n",
       "      <td>676</td>\n",
       "    </tr>\n",
       "    <tr>\n",
       "      <th>the virus</th>\n",
       "      <td>669</td>\n",
       "    </tr>\n",
       "    <tr>\n",
       "      <th>infected</th>\n",
       "      <td>612</td>\n",
       "    </tr>\n",
       "    <tr>\n",
       "      <th>cough</th>\n",
       "      <td>602</td>\n",
       "    </tr>\n",
       "    <tr>\n",
       "      <th>comorbidities</th>\n",
       "      <td>512</td>\n",
       "    </tr>\n",
       "    <tr>\n",
       "      <th>acute kidney injury</th>\n",
       "      <td>495</td>\n",
       "    </tr>\n",
       "    <tr>\n",
       "      <th>Coronavirus Disease</th>\n",
       "      <td>485</td>\n",
       "    </tr>\n",
       "    <tr>\n",
       "      <th>mortality</th>\n",
       "      <td>443</td>\n",
       "    </tr>\n",
       "    <tr>\n",
       "      <th>disease severity</th>\n",
       "      <td>438</td>\n",
       "    </tr>\n",
       "    <tr>\n",
       "      <th>dyspnea</th>\n",
       "      <td>424</td>\n",
       "    </tr>\n",
       "    <tr>\n",
       "      <th>diarrhea</th>\n",
       "      <td>401</td>\n",
       "    </tr>\n",
       "    <tr>\n",
       "      <th>severe disease</th>\n",
       "      <td>381</td>\n",
       "    </tr>\n",
       "    <tr>\n",
       "      <th>acute respiratory distress syndrome</th>\n",
       "      <td>380</td>\n",
       "    </tr>\n",
       "    <tr>\n",
       "      <th>MERS-CoV</th>\n",
       "      <td>369</td>\n",
       "    </tr>\n",
       "    <tr>\n",
       "      <th>disease</th>\n",
       "      <td>340</td>\n",
       "    </tr>\n",
       "    <tr>\n",
       "      <th>inflammation</th>\n",
       "      <td>339</td>\n",
       "    </tr>\n",
       "    <tr>\n",
       "      <th>obesity</th>\n",
       "      <td>320</td>\n",
       "    </tr>\n",
       "    <tr>\n",
       "      <th>asymptomatic</th>\n",
       "      <td>314</td>\n",
       "    </tr>\n",
       "    <tr>\n",
       "      <th>respiratory failure</th>\n",
       "      <td>314</td>\n",
       "    </tr>\n",
       "    <tr>\n",
       "      <th>sepsis</th>\n",
       "      <td>313</td>\n",
       "    </tr>\n",
       "    <tr>\n",
       "      <th>COVID</th>\n",
       "      <td>309</td>\n",
       "    </tr>\n",
       "    <tr>\n",
       "      <th>CKD</th>\n",
       "      <td>309</td>\n",
       "    </tr>\n",
       "    <tr>\n",
       "      <th>cancer</th>\n",
       "      <td>296</td>\n",
       "    </tr>\n",
       "    <tr>\n",
       "      <th>severity</th>\n",
       "      <td>288</td>\n",
       "    </tr>\n",
       "    <tr>\n",
       "      <th>cardiac injury</th>\n",
       "      <td>286</td>\n",
       "    </tr>\n",
       "  </tbody>\n",
       "</table>\n",
       "</div>"
      ],
      "text/plain": [
       "                                     counts\n",
       "SARS-CoV-2                             2533\n",
       "AKI                                    1508\n",
       "SARS-CoV-2 infection                   1505\n",
       "death                                  1194\n",
       "fever                                  1120\n",
       "hypertension                           1087\n",
       "diabetes                               1002\n",
       "ARDS                                    949\n",
       "SARS                                    926\n",
       "the disease                             914\n",
       "infection                               885\n",
       "symptoms                                832\n",
       "COVID-19 infection                      812\n",
       "SARS-CoV                                749\n",
       "pneumonia                               685\n",
       "coronavirus disease                     676\n",
       "the virus                               669\n",
       "infected                                612\n",
       "cough                                   602\n",
       "comorbidities                           512\n",
       "acute kidney injury                     495\n",
       "Coronavirus Disease                     485\n",
       "mortality                               443\n",
       "disease severity                        438\n",
       "dyspnea                                 424\n",
       "diarrhea                                401\n",
       "severe disease                          381\n",
       "acute respiratory distress syndrome     380\n",
       "MERS-CoV                                369\n",
       "disease                                 340\n",
       "inflammation                            339\n",
       "obesity                                 320\n",
       "asymptomatic                            314\n",
       "respiratory failure                     314\n",
       "sepsis                                  313\n",
       "COVID                                   309\n",
       "CKD                                     309\n",
       "cancer                                  296\n",
       "severity                                288\n",
       "cardiac injury                          286"
      ]
     },
     "execution_count": 129,
     "metadata": {},
     "output_type": "execute_result"
    }
   ],
   "source": [
    "probhist2.head(40)"
   ]
  },
  {
   "cell_type": "code",
   "execution_count": 130,
   "metadata": {
    "scrolled": true
   },
   "outputs": [
    {
     "data": {
      "image/png": "[encoded data removed]",
      "text/plain": [
       "<Figure size 1728x864 with 1 Axes>"
      ]
     },
     "metadata": {
      "needs_background": "light"
     },
     "output_type": "display_data"
    }
   ],
   "source": [
    "import seaborn as sns\n",
    "import seaborn as sns\n",
    "fig, ax = plt.subplots(figsize =(24,12))\n",
    "chart=sns.barplot(probhist2.index,probhist2['counts'])\n",
    "chart.set_xticklabels(probhist2.index,rotation=90)\n",
    "plt.title('Problems')\n",
    "plt.show()"
   ]
  },
  {
   "cell_type": "code",
   "execution_count": null,
   "metadata": {},
   "outputs": [],
   "source": []
  },
  {
   "cell_type": "code",
   "execution_count": null,
   "metadata": {},
   "outputs": [],
   "source": []
  }
 ],
 "metadata": {
  "kernelspec": {
   "display_name": "Python 3",
   "language": "python",
   "name": "python3"
  },
  "language_info": {
   "codemirror_mode": {
    "name": "ipython",
    "version": 3
   },
   "file_extension": ".py",
   "mimetype": "text/x-python",
   "name": "python",
   "nbconvert_exporter": "python",
   "pygments_lexer": "ipython3",
   "version": "3.7.7"
  }
 },
 "nbformat": 4,
 "nbformat_minor": 4
}
