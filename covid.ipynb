{
 "cells": [
  {
   "cell_type": "markdown",
   "metadata": {},
   "source": [
    "# COVID-19 OPEN RESEARCH DATASET"
   ]
  },
  {
   "cell_type": "code",
   "execution_count": 4,
   "metadata": {},
   "outputs": [],
   "source": [
    "import os\n",
    "import json\n",
    "import pandas as pd"
   ]
  },
  {
   "cell_type": "code",
   "execution_count": 6,
   "metadata": {},
   "outputs": [
    {
     "name": "stdout",
     "output_type": "stream",
     "text": [
      "/home/myilmaz/devel/covid551982_1475446_bundle_archive\n"
     ]
    }
   ],
   "source": [
    "%cd '/home/myilmaz/devel/covid551982_1475446_bundle_archive/'"
   ]
  },
  {
   "cell_type": "markdown",
   "metadata": {},
   "source": [
    "## Papers  researching chronic kidney disease as a comorbidity risk"
   ]
  },
  {
   "cell_type": "code",
   "execution_count": 8,
   "metadata": {},
   "outputs": [],
   "source": [
    "kag=pd.read_csv('Kaggle/target_tables/8_risk_factors/Chronic kidney disease.csv')"
   ]
  },
  {
   "cell_type": "code",
   "execution_count": 9,
   "metadata": {},
   "outputs": [
    {
     "data": {
      "text/html": [
       "<div>\n",
       "<style scoped>\n",
       "    .dataframe tbody tr th:only-of-type {\n",
       "        vertical-align: middle;\n",
       "    }\n",
       "\n",
       "    .dataframe tbody tr th {\n",
       "        vertical-align: top;\n",
       "    }\n",
       "\n",
       "    .dataframe thead th {\n",
       "        text-align: right;\n",
       "    }\n",
       "</style>\n",
       "<table border=\"1\" class=\"dataframe\">\n",
       "  <thead>\n",
       "    <tr style=\"text-align: right;\">\n",
       "      <th></th>\n",
       "      <th>Unnamed: 0</th>\n",
       "      <th>Date</th>\n",
       "      <th>Study</th>\n",
       "      <th>Study Link</th>\n",
       "      <th>Journal</th>\n",
       "      <th>Severe</th>\n",
       "      <th>Severe lower bound</th>\n",
       "      <th>Severe upper bound</th>\n",
       "      <th>Severe p-value</th>\n",
       "      <th>Severe Significant</th>\n",
       "      <th>...</th>\n",
       "      <th>Fatality Significant</th>\n",
       "      <th>Fatality Adjusted</th>\n",
       "      <th>Fatality Calculated</th>\n",
       "      <th>Multivariate adjustment</th>\n",
       "      <th>Study Type</th>\n",
       "      <th>Sample Size</th>\n",
       "      <th>Study Population</th>\n",
       "      <th>Added on</th>\n",
       "      <th>Critical only</th>\n",
       "      <th>Discharged vs. death?</th>\n",
       "    </tr>\n",
       "  </thead>\n",
       "  <tbody>\n",
       "    <tr>\n",
       "      <th>0</th>\n",
       "      <td>0</td>\n",
       "      <td>2020-06-01</td>\n",
       "      <td>Characteristics and Outcomes of COVID-19 Patie...</td>\n",
       "      <td>http://medrxiv.org/cgi/content/short/2020.05.2...</td>\n",
       "      <td>MedRxiv</td>\n",
       "      <td>NaN</td>\n",
       "      <td>NaN</td>\n",
       "      <td>NaN</td>\n",
       "      <td>NaN</td>\n",
       "      <td>NaN</td>\n",
       "      <td>...</td>\n",
       "      <td>Significant</td>\n",
       "      <td>Not Adjusted</td>\n",
       "      <td>Calculated</td>\n",
       "      <td>NaN</td>\n",
       "      <td>Retrospective observational study</td>\n",
       "      <td>13442</td>\n",
       "      <td>New York City Health and Hospital between Marc...</td>\n",
       "      <td>NaN</td>\n",
       "      <td>N</td>\n",
       "      <td>N</td>\n",
       "    </tr>\n",
       "    <tr>\n",
       "      <th>1</th>\n",
       "      <td>1</td>\n",
       "      <td>2020-05-31</td>\n",
       "      <td>Clinical Features and Short-term Outcomes of E...</td>\n",
       "      <td>https://www.sciencedirect.com/science/article/...</td>\n",
       "      <td>Int J Infect Dis</td>\n",
       "      <td>NaN</td>\n",
       "      <td>NaN</td>\n",
       "      <td>NaN</td>\n",
       "      <td>NaN</td>\n",
       "      <td>NaN</td>\n",
       "      <td>...</td>\n",
       "      <td>Significant</td>\n",
       "      <td>Not Adjusted</td>\n",
       "      <td>Extracted</td>\n",
       "      <td>NaN</td>\n",
       "      <td>Retrospective observational study</td>\n",
       "      <td>204</td>\n",
       "      <td>Renmin  Hospital  of  Wuhan University  from  ...</td>\n",
       "      <td>NaN</td>\n",
       "      <td>N</td>\n",
       "      <td>N</td>\n",
       "    </tr>\n",
       "    <tr>\n",
       "      <th>2</th>\n",
       "      <td>2</td>\n",
       "      <td>2020-05-29</td>\n",
       "      <td>A clinical risk score to identify patients wit...</td>\n",
       "      <td>https://doi.org/10.1016/j.jinf.2020.05.064</td>\n",
       "      <td>J Infect</td>\n",
       "      <td>HR=0.90</td>\n",
       "      <td>0.54</td>\n",
       "      <td>1.51</td>\n",
       "      <td>0.7</td>\n",
       "      <td>Not Significant</td>\n",
       "      <td>...</td>\n",
       "      <td>Not Significant</td>\n",
       "      <td>Not Adjusted</td>\n",
       "      <td>Extracted</td>\n",
       "      <td>NaN</td>\n",
       "      <td>Retrospective observational study</td>\n",
       "      <td>1157</td>\n",
       "      <td>King’s College Hospital and Princess Royal Uni...</td>\n",
       "      <td>NaN</td>\n",
       "      <td>Y</td>\n",
       "      <td>N</td>\n",
       "    </tr>\n",
       "    <tr>\n",
       "      <th>3</th>\n",
       "      <td>3</td>\n",
       "      <td>2020-05-29</td>\n",
       "      <td>The Association Between Biomarkers and Clinica...</td>\n",
       "      <td>http://medrxiv.org/cgi/content/short/2020.05.2...</td>\n",
       "      <td>MedRxiv</td>\n",
       "      <td>NaN</td>\n",
       "      <td>NaN</td>\n",
       "      <td>NaN</td>\n",
       "      <td>NaN</td>\n",
       "      <td>NaN</td>\n",
       "      <td>...</td>\n",
       "      <td>Significant</td>\n",
       "      <td>Not Adjusted</td>\n",
       "      <td>Extracted</td>\n",
       "      <td>NaN</td>\n",
       "      <td>Retrospective observational study</td>\n",
       "      <td>299</td>\n",
       "      <td>299 patients with confirmed COVID-19 positive ...</td>\n",
       "      <td>NaN</td>\n",
       "      <td>Y</td>\n",
       "      <td>N</td>\n",
       "    </tr>\n",
       "    <tr>\n",
       "      <th>4</th>\n",
       "      <td>4</td>\n",
       "      <td>2020-05-29</td>\n",
       "      <td>Phenotypic characteristics and prognosis of in...</td>\n",
       "      <td>https://www.ncbi.nlm.nih.gov/pubmed/32472191/</td>\n",
       "      <td>Diabetologia</td>\n",
       "      <td>OR: 0.66</td>\n",
       "      <td>0.35</td>\n",
       "      <td>1.27</td>\n",
       "      <td>NaN</td>\n",
       "      <td>Not Significant</td>\n",
       "      <td>...</td>\n",
       "      <td>Not Significant</td>\n",
       "      <td>Not Adjusted</td>\n",
       "      <td>Extracted</td>\n",
       "      <td>NaN</td>\n",
       "      <td>Retrospective observational study</td>\n",
       "      <td>1317</td>\n",
       "      <td>The CORONADO study was launched in all French ...</td>\n",
       "      <td>NaN</td>\n",
       "      <td>Y</td>\n",
       "      <td>N</td>\n",
       "    </tr>\n",
       "  </tbody>\n",
       "</table>\n",
       "<p>5 rows × 26 columns</p>\n",
       "</div>"
      ],
      "text/plain": [
       "   Unnamed: 0        Date                                              Study  \\\n",
       "0           0  2020-06-01  Characteristics and Outcomes of COVID-19 Patie...   \n",
       "1           1  2020-05-31  Clinical Features and Short-term Outcomes of E...   \n",
       "2           2  2020-05-29  A clinical risk score to identify patients wit...   \n",
       "3           3  2020-05-29  The Association Between Biomarkers and Clinica...   \n",
       "4           4  2020-05-29  Phenotypic characteristics and prognosis of in...   \n",
       "\n",
       "                                          Study Link           Journal  \\\n",
       "0  http://medrxiv.org/cgi/content/short/2020.05.2...           MedRxiv   \n",
       "1  https://www.sciencedirect.com/science/article/...  Int J Infect Dis   \n",
       "2         https://doi.org/10.1016/j.jinf.2020.05.064          J Infect   \n",
       "3  http://medrxiv.org/cgi/content/short/2020.05.2...           MedRxiv   \n",
       "4      https://www.ncbi.nlm.nih.gov/pubmed/32472191/      Diabetologia   \n",
       "\n",
       "     Severe  Severe lower bound  Severe upper bound Severe p-value  \\\n",
       "0       NaN                 NaN                 NaN            NaN   \n",
       "1       NaN                 NaN                 NaN            NaN   \n",
       "2   HR=0.90                0.54                1.51            0.7   \n",
       "3       NaN                 NaN                 NaN            NaN   \n",
       "4  OR: 0.66                0.35                1.27            NaN   \n",
       "\n",
       "  Severe Significant  ... Fatality Significant Fatality Adjusted  \\\n",
       "0                NaN  ...          Significant      Not Adjusted   \n",
       "1                NaN  ...          Significant      Not Adjusted   \n",
       "2    Not Significant  ...      Not Significant      Not Adjusted   \n",
       "3                NaN  ...          Significant      Not Adjusted   \n",
       "4    Not Significant  ...      Not Significant      Not Adjusted   \n",
       "\n",
       "  Fatality Calculated  Multivariate adjustment  \\\n",
       "0          Calculated                      NaN   \n",
       "1           Extracted                      NaN   \n",
       "2           Extracted                      NaN   \n",
       "3           Extracted                      NaN   \n",
       "4           Extracted                      NaN   \n",
       "\n",
       "                          Study Type Sample Size  \\\n",
       "0  Retrospective observational study       13442   \n",
       "1  Retrospective observational study         204   \n",
       "2  Retrospective observational study        1157   \n",
       "3  Retrospective observational study         299   \n",
       "4  Retrospective observational study        1317   \n",
       "\n",
       "                                    Study Population Added on Critical only  \\\n",
       "0  New York City Health and Hospital between Marc...      NaN             N   \n",
       "1  Renmin  Hospital  of  Wuhan University  from  ...      NaN             N   \n",
       "2  King’s College Hospital and Princess Royal Uni...      NaN             Y   \n",
       "3  299 patients with confirmed COVID-19 positive ...      NaN             Y   \n",
       "4  The CORONADO study was launched in all French ...      NaN             Y   \n",
       "\n",
       "  Discharged vs. death?  \n",
       "0                     N  \n",
       "1                     N  \n",
       "2                     N  \n",
       "3                     N  \n",
       "4                     N  \n",
       "\n",
       "[5 rows x 26 columns]"
      ]
     },
     "execution_count": 9,
     "metadata": {},
     "output_type": "execute_result"
    }
   ],
   "source": [
    "kag.head()"
   ]
  },
  {
   "cell_type": "code",
   "execution_count": 10,
   "metadata": {},
   "outputs": [
    {
     "name": "stdout",
     "output_type": "stream",
     "text": [
      "covid-Copy1.ipynb  covid.ipynb  \u001b[0m\u001b[01;34mpdf_json\u001b[0m/  \u001b[01;34mpmc_json\u001b[0m/\r\n"
     ]
    }
   ],
   "source": [
    "%ls document_parses"
   ]
  },
  {
   "cell_type": "code",
   "execution_count": 11,
   "metadata": {},
   "outputs": [],
   "source": [
    "keep=['Epidemiology, clinical course, and outcomes of critically ill adults with COVID-19 in New York City: a prospective cohort study']\n",
    "arts=set(kag['Study'])-set(keep)"
   ]
  },
  {
   "cell_type": "code",
   "execution_count": 12,
   "metadata": {},
   "outputs": [
    {
     "data": {
      "text/plain": [
       "8.634368"
      ]
     },
     "execution_count": 12,
     "metadata": {},
     "output_type": "execute_result"
    }
   ],
   "source": [
    "os.path.getsize('document_parses/pdf_json')/1000000"
   ]
  },
  {
   "cell_type": "markdown",
   "metadata": {},
   "source": [
    "## Filter papers that mention \"creatinine\" but are not listed as comorbidity risk papers"
   ]
  },
  {
   "cell_type": "code",
   "execution_count": 54,
   "metadata": {},
   "outputs": [],
   "source": [
    "creat=[]\n",
    "alltext=[]\n",
    "for i in os.listdir('document_parses/pdf_json'):\n",
    "    save=0\n",
    "    savee=0\n",
    "\n",
    "    with open('document_parses/pdf_json/'+i) as json_file:\n",
    "        data = json.load(json_file)\n",
    "        if data['metadata']['title'] not in list(arts):\n",
    "        \n",
    "            doc=[]\n",
    "            text=''\n",
    "            for c,j in enumerate(data['body_text']):\n",
    "            \n",
    "          \n",
    "                row=[i,data['metadata']['title'],data['body_text'][c]['section'],c,data['body_text'][c]['text']]\n",
    "                if data['body_text'][c]['text'].lower().find('creatinine')>-1:\n",
    "                    save+=1\n",
    "                if data['body_text'][c]['text'].lower().find('covid')>-1:\n",
    "                    savee+=1\n",
    "                if data['body_text'][c]['text'].lower().find('sars-cov-2')>-1:\n",
    "                    savee+=1\n",
    "                doc.append(row)\n",
    "                text+=data['body_text'][c]['text']\n",
    "            if save>0:\n",
    "                if savee>0:\n",
    "                    creat.append(doc)\n",
    "                    alltext.append(text)\n",
    "        else:\n",
    "            pass"
   ]
  },
  {
   "cell_type": "code",
   "execution_count": 63,
   "metadata": {},
   "outputs": [
    {
     "name": "stdout",
     "output_type": "stream",
     "text": [
      "Average document length is 31420.84946236559 words\n"
     ]
    }
   ],
   "source": [
    "import numpy as np\n",
    "np.min([len(i) for i in alltext])\n",
    "np.max([len(i) for i in alltext])\n",
    "\n",
    "print('Average document length is {} words'.format(np.mean([len(i) for i in alltext])))\n"
   ]
  },
  {
   "cell_type": "code",
   "execution_count": 64,
   "metadata": {},
   "outputs": [],
   "source": [
    "jsons=[j[0] for i in creat for j in i]\n",
    "titles=[j[1] for i in creat for j in i]\n",
    "sections=[j[2] for i in creat for j in i]\n",
    "sectionNo=[j[3] for i in creat for j in i]\n",
    "text=[j[4] for i in creat for j in i]\n",
    "creats=pd.DataFrame(None,columns=['jsons','titles','sections','sectionNo','text'])"
   ]
  },
  {
   "cell_type": "code",
   "execution_count": 65,
   "metadata": {},
   "outputs": [],
   "source": [
    "creats=pd.DataFrame(None,columns=['jsons','titles','sections','sectionNo','text'])"
   ]
  },
  {
   "cell_type": "code",
   "execution_count": 66,
   "metadata": {},
   "outputs": [],
   "source": [
    "creats.jsons=jsons\n",
    "creats.titles=titles\n",
    "creats.sections=sections\n",
    "creats.sectionNo=sectionNo\n",
    "creats.text=text"
   ]
  },
  {
   "cell_type": "code",
   "execution_count": 67,
   "metadata": {},
   "outputs": [
    {
     "data": {
      "text/html": [
       "<div>\n",
       "<style scoped>\n",
       "    .dataframe tbody tr th:only-of-type {\n",
       "        vertical-align: middle;\n",
       "    }\n",
       "\n",
       "    .dataframe tbody tr th {\n",
       "        vertical-align: top;\n",
       "    }\n",
       "\n",
       "    .dataframe thead th {\n",
       "        text-align: right;\n",
       "    }\n",
       "</style>\n",
       "<table border=\"1\" class=\"dataframe\">\n",
       "  <thead>\n",
       "    <tr style=\"text-align: right;\">\n",
       "      <th></th>\n",
       "      <th>jsons</th>\n",
       "      <th>titles</th>\n",
       "      <th>sections</th>\n",
       "      <th>text</th>\n",
       "    </tr>\n",
       "  </thead>\n",
       "  <tbody>\n",
       "    <tr>\n",
       "      <th>0</th>\n",
       "      <td>fd4ccbdac4837e90209823ff38dbb82e58c51c3f.json</td>\n",
       "      <td>Journal Pre-proof Breastfeeding and Medication...</td>\n",
       "      <td>Introduction</td>\n",
       "      <td>Journal Pre-proof Breastfeeding and Medication...</td>\n",
       "    </tr>\n",
       "    <tr>\n",
       "      <th>1</th>\n",
       "      <td>fd4ccbdac4837e90209823ff38dbb82e58c51c3f.json</td>\n",
       "      <td>Journal Pre-proof Breastfeeding and Medication...</td>\n",
       "      <td>Introduction</td>\n",
       "      <td>Journal Pre-proof Breastfeeding and Medication...</td>\n",
       "    </tr>\n",
       "    <tr>\n",
       "      <th>2</th>\n",
       "      <td>fd4ccbdac4837e90209823ff38dbb82e58c51c3f.json</td>\n",
       "      <td>Journal Pre-proof Breastfeeding and Medication...</td>\n",
       "      <td>Introduction</td>\n",
       "      <td>Journal Pre-proof Breastfeeding and Medication...</td>\n",
       "    </tr>\n",
       "    <tr>\n",
       "      <th>3</th>\n",
       "      <td>fd4ccbdac4837e90209823ff38dbb82e58c51c3f.json</td>\n",
       "      <td>Journal Pre-proof Breastfeeding and Medication...</td>\n",
       "      <td>Mammary glands</td>\n",
       "      <td>Journal Pre-proof Breastfeeding and Medication...</td>\n",
       "    </tr>\n",
       "    <tr>\n",
       "      <th>4</th>\n",
       "      <td>fd4ccbdac4837e90209823ff38dbb82e58c51c3f.json</td>\n",
       "      <td>Journal Pre-proof Breastfeeding and Medication...</td>\n",
       "      <td>Mammary glands</td>\n",
       "      <td>Journal Pre-proof Breastfeeding and Medication...</td>\n",
       "    </tr>\n",
       "  </tbody>\n",
       "</table>\n",
       "</div>"
      ],
      "text/plain": [
       "                                           jsons  \\\n",
       "0  fd4ccbdac4837e90209823ff38dbb82e58c51c3f.json   \n",
       "1  fd4ccbdac4837e90209823ff38dbb82e58c51c3f.json   \n",
       "2  fd4ccbdac4837e90209823ff38dbb82e58c51c3f.json   \n",
       "3  fd4ccbdac4837e90209823ff38dbb82e58c51c3f.json   \n",
       "4  fd4ccbdac4837e90209823ff38dbb82e58c51c3f.json   \n",
       "\n",
       "                                              titles        sections  \\\n",
       "0  Journal Pre-proof Breastfeeding and Medication...    Introduction   \n",
       "1  Journal Pre-proof Breastfeeding and Medication...    Introduction   \n",
       "2  Journal Pre-proof Breastfeeding and Medication...    Introduction   \n",
       "3  Journal Pre-proof Breastfeeding and Medication...  Mammary glands   \n",
       "4  Journal Pre-proof Breastfeeding and Medication...  Mammary glands   \n",
       "\n",
       "                                                text  \n",
       "0  Journal Pre-proof Breastfeeding and Medication...  \n",
       "1  Journal Pre-proof Breastfeeding and Medication...  \n",
       "2  Journal Pre-proof Breastfeeding and Medication...  \n",
       "3  Journal Pre-proof Breastfeeding and Medication...  \n",
       "4  Journal Pre-proof Breastfeeding and Medication...  "
      ]
     },
     "execution_count": 67,
     "metadata": {},
     "output_type": "execute_result"
    }
   ],
   "source": [
    "creats.head()"
   ]
  },
  {
   "cell_type": "code",
   "execution_count": 68,
   "metadata": {},
   "outputs": [],
   "source": [
    "docs=creats.copy# NUMBER OF UNIQUE DOCUMENTS IN THE DATA SET\n",
    "docs['jsons'].nunique()(deep=True)"
   ]
  },
  {
   "cell_type": "code",
   "execution_count": 69,
   "metadata": {},
   "outputs": [],
   "source": [
    "docs.drop_duplicates(keep='first',inplace=True)"
   ]
  },
  {
   "cell_type": "code",
   "execution_count": 70,
   "metadata": {},
   "outputs": [
    {
     "data": {
      "text/plain": [
       "1581"
      ]
     },
     "execution_count": 70,
     "metadata": {},
     "output_type": "execute_result"
    }
   ],
   "source": [
    "# NUMBER OF UNIQUE DOCUMENTS IN THE DATA SET\n",
    "docs['jsons'].nunique()"
   ]
  },
  {
   "cell_type": "code",
   "execution_count": 71,
   "metadata": {},
   "outputs": [],
   "source": [
    "docs.to_csv('covid.csv')"
   ]
  },
  {
   "cell_type": "code",
   "execution_count": null,
   "metadata": {},
   "outputs": [],
   "source": [
    "#START HERE"
   ]
  },
  {
   "cell_type": "code",
   "execution_count": 72,
   "metadata": {},
   "outputs": [],
   "source": [
    "docs=pd.read_csv('covids.csv')"
   ]
  },
  {
   "cell_type": "markdown",
   "metadata": {},
   "source": [
    "## Use pretrained NER model to find Problems, Tests, and Treatments"
   ]
  },
  {
   "cell_type": "code",
   "execution_count": 73,
   "metadata": {},
   "outputs": [
    {
     "name": "stdout",
     "output_type": "stream",
     "text": [
      "\u001b[33mWARNING: You are using pip version 20.1; however, version 20.2.3 is available.\n",
      "You should consider upgrading via the '/home/myilmaz/devel/mag/notebooks/3.7env/bin/python -m pip install --upgrade pip' command.\u001b[0m\n",
      "\u001b[31mERROR: spark-nlp-jsl 2.5.4rc4 has requirement spark-nlp==2.5.4, but you'll have spark-nlp 2.5.0 which is incompatible.\u001b[0m\n",
      "\u001b[33mWARNING: You are using pip version 20.1; however, version 20.2.3 is available.\n",
      "You should consider upgrading via the '/home/myilmaz/devel/mag/notebooks/3.7env/bin/python -m pip install --upgrade pip' command.\u001b[0m\n",
      "2.5.0\n"
     ]
    }
   ],
   "source": [
    "import os\n",
    "\n",
    "\n",
    "import pyspark.sql.functions as F\n",
    "from pyspark.sql.functions import monotonically_increasing_id\n",
    "import json\n",
    "import os\n",
    "from pyspark.ml import Pipeline\n",
    "from pyspark.sql import SparkSession\n",
    "\n",
    "\n",
    "from sparknlp.annotator import *\n",
    "\n",
    "from sparknlp.base import *\n",
    "\n",
    "# Install pyspark\n",
    "! pip install --ignore-installed -q pyspark==2.4.4\n",
    "\n",
    "\n",
    "# Install Spark NLP\n",
    "! pip install --ignore-installed -q spark-nlp==2.5\n",
    "\n",
    "\n",
    "import sparknlp\n",
    "\n",
    "print (sparknlp.version())\n",
    "\n",
    "import json\n",
    "import os\n",
    "from pyspark.ml import Pipeline\n",
    "from pyspark.sql import SparkSession\n",
    "from sparknlp.annotator import *\n",
    "\n",
    "from sparknlp.base import *\n",
    "\n",
    "from pyspark.sql.functions import monotonically_increasing_id\n",
    "import pyspark.sql.functions as F\n",
    "import pyspark.sql.types as t\n",
    "\n",
    "\n"
   ]
  },
  {
   "cell_type": "code",
   "execution_count": 74,
   "metadata": {},
   "outputs": [],
   "source": [
    "spark=sparknlp.start()"
   ]
  },
  {
   "cell_type": "code",
   "execution_count": 75,
   "metadata": {},
   "outputs": [],
   "source": [
    "docs.fillna('',inplace=True)"
   ]
  },
  {
   "cell_type": "code",
   "execution_count": 76,
   "metadata": {},
   "outputs": [
    {
     "data": {
      "text/html": [
       "<div>\n",
       "<style scoped>\n",
       "    .dataframe tbody tr th:only-of-type {\n",
       "        vertical-align: middle;\n",
       "    }\n",
       "\n",
       "    .dataframe tbody tr th {\n",
       "        vertical-align: top;\n",
       "    }\n",
       "\n",
       "    .dataframe thead th {\n",
       "        text-align: right;\n",
       "    }\n",
       "</style>\n",
       "<table border=\"1\" class=\"dataframe\">\n",
       "  <thead>\n",
       "    <tr style=\"text-align: right;\">\n",
       "      <th></th>\n",
       "      <th>Unnamed: 0</th>\n",
       "      <th>jsons</th>\n",
       "      <th>titles</th>\n",
       "      <th>sections</th>\n",
       "      <th>text</th>\n",
       "    </tr>\n",
       "  </thead>\n",
       "  <tbody>\n",
       "    <tr>\n",
       "      <th>0</th>\n",
       "      <td>0</td>\n",
       "      <td>fd4ccbdac4837e90209823ff38dbb82e58c51c3f.json</td>\n",
       "      <td>Journal Pre-proof Breastfeeding and Medication...</td>\n",
       "      <td>Introduction</td>\n",
       "      <td>Journal Pre-proof Breastfeeding and Medication...</td>\n",
       "    </tr>\n",
       "  </tbody>\n",
       "</table>\n",
       "</div>"
      ],
      "text/plain": [
       "   Unnamed: 0                                          jsons  \\\n",
       "0           0  fd4ccbdac4837e90209823ff38dbb82e58c51c3f.json   \n",
       "\n",
       "                                              titles      sections  \\\n",
       "0  Journal Pre-proof Breastfeeding and Medication...  Introduction   \n",
       "\n",
       "                                                text  \n",
       "0  Journal Pre-proof Breastfeeding and Medication...  "
      ]
     },
     "execution_count": 76,
     "metadata": {},
     "output_type": "execute_result"
    }
   ],
   "source": [
    "docs.head(1)"
   ]
  },
  {
   "cell_type": "code",
   "execution_count": 77,
   "metadata": {},
   "outputs": [],
   "source": [
    "sparkdocs=spark.createDataFrame(docs).toDF('index','docid','title','section','sectionNo','text')"
   ]
  },
  {
   "cell_type": "code",
   "execution_count": 78,
   "metadata": {},
   "outputs": [],
   "source": [
    "document_assembler = DocumentAssembler() \\\n",
    "        .setInputCol(\"text\")\\\n",
    "        .setOutputCol('document')\n",
    "    \n",
    "sentence_detector = SentenceDetector() \\\n",
    "        .setInputCols([\"document\"]) \\\n",
    "        .setOutputCol(\"sentence\")\n",
    "\n",
    "tokenizer = Tokenizer() \\\n",
    "        .setInputCols([\"sentence\"]) \\\n",
    "        .setOutputCol(\"token\")\n",
    "\n",
    "word_embeddings = WordEmbeddingsModel.load(\"/home/myilmaz/cache_pretrained/embeddings_clinical_en_2.4.0_2.4_1580237286004\")\\\n",
    "  .setInputCols([\"sentence\", \"token\"])\\\n",
    "  .setOutputCol(\"embeddings\")\n",
    "clinical_ner = NerDLModel.load('/home/myilmaz/cache_pretrained/ner_clinical_en_2.4.0_2.4_1580237286004') \\\n",
    "        .setInputCols([\"sentence\", \"token\", \"embeddings\"]) \\\n",
    "        .setOutputCol(\"ner\")\n",
    "ner_converter = NerConverter() \\\n",
    "  .setInputCols([\"sentence\", \"token\", \"ner\"]) \\\n",
    "  .setOutputCol(\"ner_chunk\")\n",
    "nlpPipeline = Pipeline(stages=[document_assembler,sentence_detector,tokenizer,\n",
    "    word_embeddings,\n",
    "    clinical_ner,ner_converter\n",
    "    ])\n",
    "\n",
    "\n",
    "empty_data = spark.createDataFrame([[\"\"]]).toDF(\"text\")\n",
    "\n",
    "model = nlpPipeline.fit(empty_data)\n"
   ]
  },
  {
   "cell_type": "code",
   "execution_count": 79,
   "metadata": {},
   "outputs": [],
   "source": [
    "results=model.transform(sparkdocs)"
   ]
  },
  {
   "cell_type": "code",
   "execution_count": 80,
   "metadata": {},
   "outputs": [
    {
     "data": {
      "text/plain": [
       "['index',\n",
       " 'docid',\n",
       " 'title',\n",
       " 'section',\n",
       " 'text',\n",
       " 'document',\n",
       " 'sentence',\n",
       " 'token',\n",
       " 'embeddings',\n",
       " 'ner',\n",
       " 'ner_chunk']"
      ]
     },
     "execution_count": 80,
     "metadata": {},
     "output_type": "execute_result"
    }
   ],
   "source": [
    "results.columns"
   ]
  },
  {
   "cell_type": "code",
   "execution_count": 81,
   "metadata": {},
   "outputs": [],
   "source": [
    "exploded = results.select('docid','title','section','sectionNo',F.explode(F.arrays_zip('token.metadata','token.result','ner.result')).alias(\"cols\")) \\\n",
    "        .select('docid','title','section','sectionNo',F.expr(\"cols['0'].sentence\").alias(\"sentid\"),\n",
    "        F.col('cols.1').alias(\"token\"),F.col('cols.2').alias(\"label\"))"
   ]
  },
  {
   "cell_type": "markdown",
   "metadata": {},
   "source": [
    "## Save annotated documents for further analysis"
   ]
  },
  {
   "cell_type": "code",
   "execution_count": null,
   "metadata": {
    "scrolled": true
   },
   "outputs": [],
   "source": [
    "exploded.write.option(\"header\", \"true\").csv(\"covid2.csv\")"
   ]
  },
  {
   "cell_type": "code",
   "execution_count": 5,
   "metadata": {},
   "outputs": [
    {
     "data": {
      "text/plain": [
       "'part-00002-c113f676-f5af-45d7-96c9-4dcb22a31a90-c000.csv'"
      ]
     },
     "execution_count": 5,
     "metadata": {},
     "output_type": "execute_result"
    }
   ],
   "source": [
    "os.listdir('covid2.csv')[0]"
   ]
  },
  {
   "cell_type": "code",
   "execution_count": 6,
   "metadata": {},
   "outputs": [],
   "source": [
    "import pyspark.sql.types as t\n",
    "myschema = t.StructType(\n",
    "   [\n",
    "    t.StructField('docid', t.StringType(), True),\n",
    "    t.StructField('title', t.StringType(), True),\n",
    "    t.StructField('section', t.StringType(), True),\n",
    "    t.StructField('sectionNo', t.StringType(), True),\n",
    "    t.StructField('sentid', t.IntegerType(), True),\n",
    "    t.StructField('token', t.StringType(), True),\n",
    "    t.StructField('label', t.StringType(), True)\n",
    "\n",
    "   ]\n",
    "  )"
   ]
  },
  {
   "cell_type": "code",
   "execution_count": 7,
   "metadata": {},
   "outputs": [],
   "source": [
    "csvs=os.listdir('covid2.csv')\n",
    "big=pd.DataFrame(None)\n",
    "for i in csvs:\n",
    "    \n",
    "    dfs=spark.read.csv('covid2.csv/'+i,sep=',',schema=myschema,header=True)\n",
    "    one=dfs.toPandas()\n",
    "    big=big.append(one)"
   ]
  },
  {
   "cell_type": "code",
   "execution_count": 8,
   "metadata": {},
   "outputs": [
    {
     "data": {
      "text/html": [
       "<div>\n",
       "<style scoped>\n",
       "    .dataframe tbody tr th:only-of-type {\n",
       "        vertical-align: middle;\n",
       "    }\n",
       "\n",
       "    .dataframe tbody tr th {\n",
       "        vertical-align: top;\n",
       "    }\n",
       "\n",
       "    .dataframe thead th {\n",
       "        text-align: right;\n",
       "    }\n",
       "</style>\n",
       "<table border=\"1\" class=\"dataframe\">\n",
       "  <thead>\n",
       "    <tr style=\"text-align: right;\">\n",
       "      <th></th>\n",
       "      <th>docid</th>\n",
       "      <th>section</th>\n",
       "      <th>sentid</th>\n",
       "      <th>token</th>\n",
       "      <th>label</th>\n",
       "    </tr>\n",
       "  </thead>\n",
       "  <tbody>\n",
       "    <tr>\n",
       "      <th>0</th>\n",
       "      <td>60a80d5b8f7f2066e38b0877371eeccfc6927ac0.json</td>\n",
       "      <td>Results</td>\n",
       "      <td>0</td>\n",
       "      <td>Health-exploring</td>\n",
       "      <td>O</td>\n",
       "    </tr>\n",
       "    <tr>\n",
       "      <th>1</th>\n",
       "      <td>60a80d5b8f7f2066e38b0877371eeccfc6927ac0.json</td>\n",
       "      <td>Results</td>\n",
       "      <td>0</td>\n",
       "      <td>complexity</td>\n",
       "      <td>O</td>\n",
       "    </tr>\n",
       "    <tr>\n",
       "      <th>2</th>\n",
       "      <td>60a80d5b8f7f2066e38b0877371eeccfc6927ac0.json</td>\n",
       "      <td>Results</td>\n",
       "      <td>0</td>\n",
       "      <td>:</td>\n",
       "      <td>O</td>\n",
       "    </tr>\n",
       "    <tr>\n",
       "      <th>3</th>\n",
       "      <td>60a80d5b8f7f2066e38b0877371eeccfc6927ac0.json</td>\n",
       "      <td>Results</td>\n",
       "      <td>0</td>\n",
       "      <td>an</td>\n",
       "      <td>O</td>\n",
       "    </tr>\n",
       "    <tr>\n",
       "      <th>4</th>\n",
       "      <td>60a80d5b8f7f2066e38b0877371eeccfc6927ac0.json</td>\n",
       "      <td>Results</td>\n",
       "      <td>0</td>\n",
       "      <td>interdisciplinary</td>\n",
       "      <td>O</td>\n",
       "    </tr>\n",
       "  </tbody>\n",
       "</table>\n",
       "</div>"
      ],
      "text/plain": [
       "                                           docid  section  sentid  \\\n",
       "0  60a80d5b8f7f2066e38b0877371eeccfc6927ac0.json  Results       0   \n",
       "1  60a80d5b8f7f2066e38b0877371eeccfc6927ac0.json  Results       0   \n",
       "2  60a80d5b8f7f2066e38b0877371eeccfc6927ac0.json  Results       0   \n",
       "3  60a80d5b8f7f2066e38b0877371eeccfc6927ac0.json  Results       0   \n",
       "4  60a80d5b8f7f2066e38b0877371eeccfc6927ac0.json  Results       0   \n",
       "\n",
       "               token label  \n",
       "0   Health-exploring     O  \n",
       "1         complexity     O  \n",
       "2                  :     O  \n",
       "3                 an     O  \n",
       "4  interdisciplinary     O  "
      ]
     },
     "execution_count": 8,
     "metadata": {},
     "output_type": "execute_result"
    }
   ],
   "source": [
    "big.head()"
   ]
  },
  {
   "cell_type": "code",
   "execution_count": 9,
   "metadata": {},
   "outputs": [],
   "source": [
    "import numpy as np\n",
    "\n",
    "tokens=[]\n",
    "savei=''\n",
    "save=0\n",
    "for i,j in zip(big.token,big.label):\n",
    "    if j.split('-')[0]!='I':\n",
    "        if save<0:\n",
    "            tokens[save]=savei\n",
    "            tokens.append(np.nan)\n",
    "            savei=i\n",
    "            save=0\n",
    "            continue\n",
    "        else:\n",
    "            tokens.append(savei)\n",
    "            savei=i\n",
    "            save=0\n",
    "            continue\n",
    "    elif j.split('-')[0]=='I':\n",
    "        savei+=' '+i\n",
    "        save-=1\n",
    "        tokens.append(np.nan)\n",
    "    else:\n",
    "        tokens.append(np.nan)\n",
    "\n",
    "               \n",
    "if save<0:\n",
    "    tokens[save]=savei\n",
    "    tokens.append(np.nan)\n",
    "else:\n",
    "    tokens.append(savei) \n",
    "    \n",
    "tokens=tokens[1:]\n",
    "        "
   ]
  },
  {
   "cell_type": "code",
   "execution_count": 10,
   "metadata": {},
   "outputs": [],
   "source": [
    "big['chunks']=tokens"
   ]
  },
  {
   "cell_type": "code",
   "execution_count": 11,
   "metadata": {},
   "outputs": [],
   "source": [
    "bigdf=big[big['chunks'].notnull()]"
   ]
  },
  {
   "cell_type": "code",
   "execution_count": 12,
   "metadata": {},
   "outputs": [],
   "source": [
    "bigdf=bigdf[bigdf['label']!='O']"
   ]
  },
  {
   "cell_type": "code",
   "execution_count": 13,
   "metadata": {},
   "outputs": [
    {
     "data": {
      "text/plain": [
       "SARS-CoV-2                  6520\n",
       "treatment                   4076\n",
       "this study                  3871\n",
       "SARS-CoV-2 infection        2809\n",
       "death                       2791\n",
       "                            ... \n",
       "complex tumor                  1\n",
       "cytoplasmic DNA receptor       1\n",
       "the related SARS-CoV-1         1\n",
       "D-dimer elevations             1\n",
       "postsurge                      1\n",
       "Name: chunks, Length: 383825, dtype: int64"
      ]
     },
     "execution_count": 13,
     "metadata": {},
     "output_type": "execute_result"
    }
   ],
   "source": [
    "bigdf['chunks'].value_counts()"
   ]
  },
  {
   "cell_type": "markdown",
   "metadata": {},
   "source": [
    "## Prep for visualizations"
   ]
  },
  {
   "cell_type": "code",
   "execution_count": 14,
   "metadata": {},
   "outputs": [],
   "source": [
    "problems=bigdf[bigdf['label']=='B-PROBLEM']"
   ]
  },
  {
   "cell_type": "code",
   "execution_count": 15,
   "metadata": {},
   "outputs": [],
   "source": [
    "tests=bigdf[bigdf['label']=='B-TEST']"
   ]
  },
  {
   "cell_type": "code",
   "execution_count": 46,
   "metadata": {},
   "outputs": [
    {
     "data": {
      "text/plain": [
       "259"
      ]
     },
     "execution_count": 46,
     "metadata": {},
     "output_type": "execute_result"
    }
   ],
   "source": [
    "len(problems[problems['chunks']=='proteinuria'])"
   ]
  },
  {
   "cell_type": "code",
   "execution_count": 16,
   "metadata": {},
   "outputs": [],
   "source": [
    "probhist=pd.DataFrame(problems['chunks'].value_counts())\n",
    "probhist=probhist.rename(columns={'chunks':'counts'})\n",
    "probhist2=probhist.iloc[0:100]"
   ]
  },
  {
   "cell_type": "code",
   "execution_count": 17,
   "metadata": {},
   "outputs": [],
   "source": [
    "testhist=pd.DataFrame(tests['chunks'].value_counts())\n",
    "testhist=testhist.rename(columns={'chunks':'counts'})\n",
    "testhist2=testhist.iloc[0:100]"
   ]
  },
  {
   "cell_type": "markdown",
   "metadata": {},
   "source": [
    "## Look at most frequent \"Test\" entities"
   ]
  },
  {
   "cell_type": "code",
   "execution_count": 18,
   "metadata": {},
   "outputs": [
    {
     "data": {
      "text/html": [
       "<div>\n",
       "<style scoped>\n",
       "    .dataframe tbody tr th:only-of-type {\n",
       "        vertical-align: middle;\n",
       "    }\n",
       "\n",
       "    .dataframe tbody tr th {\n",
       "        vertical-align: top;\n",
       "    }\n",
       "\n",
       "    .dataframe thead th {\n",
       "        text-align: right;\n",
       "    }\n",
       "</style>\n",
       "<table border=\"1\" class=\"dataframe\">\n",
       "  <thead>\n",
       "    <tr style=\"text-align: right;\">\n",
       "      <th></th>\n",
       "      <th>counts</th>\n",
       "    </tr>\n",
       "  </thead>\n",
       "  <tbody>\n",
       "    <tr>\n",
       "      <th>this study</th>\n",
       "      <td>3869</td>\n",
       "    </tr>\n",
       "    <tr>\n",
       "      <th>the study</th>\n",
       "      <td>2771</td>\n",
       "    </tr>\n",
       "    <tr>\n",
       "      <th>our study</th>\n",
       "      <td>1613</td>\n",
       "    </tr>\n",
       "    <tr>\n",
       "      <th>CI</th>\n",
       "      <td>1557</td>\n",
       "    </tr>\n",
       "    <tr>\n",
       "      <th>CRP</th>\n",
       "      <td>1518</td>\n",
       "    </tr>\n",
       "    <tr>\n",
       "      <th>A</th>\n",
       "      <td>1509</td>\n",
       "    </tr>\n",
       "    <tr>\n",
       "      <th>data</th>\n",
       "      <td>1359</td>\n",
       "    </tr>\n",
       "    <tr>\n",
       "      <th>studies</th>\n",
       "      <td>1301</td>\n",
       "    </tr>\n",
       "    <tr>\n",
       "      <th>This study</th>\n",
       "      <td>1210</td>\n",
       "    </tr>\n",
       "    <tr>\n",
       "      <th>creatinine</th>\n",
       "      <td>1127</td>\n",
       "    </tr>\n",
       "    <tr>\n",
       "      <th>CT</th>\n",
       "      <td>1061</td>\n",
       "    </tr>\n",
       "    <tr>\n",
       "      <th>Accepted Article</th>\n",
       "      <td>968</td>\n",
       "    </tr>\n",
       "    <tr>\n",
       "      <th>IL-6</th>\n",
       "      <td>913</td>\n",
       "    </tr>\n",
       "    <tr>\n",
       "      <th>D-dimer</th>\n",
       "      <td>861</td>\n",
       "    </tr>\n",
       "    <tr>\n",
       "      <th>RT-PCR</th>\n",
       "      <td>833</td>\n",
       "    </tr>\n",
       "    <tr>\n",
       "      <th>A total</th>\n",
       "      <td>830</td>\n",
       "    </tr>\n",
       "    <tr>\n",
       "      <th>LDH</th>\n",
       "      <td>767</td>\n",
       "    </tr>\n",
       "    <tr>\n",
       "      <th>C</th>\n",
       "      <td>733</td>\n",
       "    </tr>\n",
       "    <tr>\n",
       "      <th>ALT</th>\n",
       "      <td>731</td>\n",
       "    </tr>\n",
       "    <tr>\n",
       "      <th>study</th>\n",
       "      <td>724</td>\n",
       "    </tr>\n",
       "    <tr>\n",
       "      <th>&lt;</th>\n",
       "      <td>723</td>\n",
       "    </tr>\n",
       "    <tr>\n",
       "      <th>C-reactive protein</th>\n",
       "      <td>702</td>\n",
       "    </tr>\n",
       "    <tr>\n",
       "      <th>Statistical analysis</th>\n",
       "      <td>701</td>\n",
       "    </tr>\n",
       "    <tr>\n",
       "      <th>AST</th>\n",
       "      <td>698</td>\n",
       "    </tr>\n",
       "    <tr>\n",
       "      <th>E</th>\n",
       "      <td>663</td>\n",
       "    </tr>\n",
       "    <tr>\n",
       "      <th>e</th>\n",
       "      <td>645</td>\n",
       "    </tr>\n",
       "    <tr>\n",
       "      <th>analysis</th>\n",
       "      <td>643</td>\n",
       "    </tr>\n",
       "    <tr>\n",
       "      <th>transpopliteal arterial puncture</th>\n",
       "      <td>641</td>\n",
       "    </tr>\n",
       "    <tr>\n",
       "      <th>The study</th>\n",
       "      <td>640</td>\n",
       "    </tr>\n",
       "    <tr>\n",
       "      <th>SARS-CoV-2</th>\n",
       "      <td>625</td>\n",
       "    </tr>\n",
       "    <tr>\n",
       "      <th>PCR</th>\n",
       "      <td>589</td>\n",
       "    </tr>\n",
       "    <tr>\n",
       "      <th>COVID</th>\n",
       "      <td>585</td>\n",
       "    </tr>\n",
       "    <tr>\n",
       "      <th>the data</th>\n",
       "      <td>573</td>\n",
       "    </tr>\n",
       "    <tr>\n",
       "      <th>mg/dL</th>\n",
       "      <td>571</td>\n",
       "    </tr>\n",
       "    <tr>\n",
       "      <th>imaging</th>\n",
       "      <td>568</td>\n",
       "    </tr>\n",
       "    <tr>\n",
       "      <th>MRI</th>\n",
       "      <td>559</td>\n",
       "    </tr>\n",
       "    <tr>\n",
       "      <th>U/L</th>\n",
       "      <td>553</td>\n",
       "    </tr>\n",
       "    <tr>\n",
       "      <th>immunoglobulin</th>\n",
       "      <td>550</td>\n",
       "    </tr>\n",
       "    <tr>\n",
       "      <th>Our study</th>\n",
       "      <td>545</td>\n",
       "    </tr>\n",
       "    <tr>\n",
       "      <th>contrast</th>\n",
       "      <td>541</td>\n",
       "    </tr>\n",
       "  </tbody>\n",
       "</table>\n",
       "</div>"
      ],
      "text/plain": [
       "                                  counts\n",
       "this study                          3869\n",
       "the study                           2771\n",
       "our study                           1613\n",
       "CI                                  1557\n",
       "CRP                                 1518\n",
       "A                                   1509\n",
       "data                                1359\n",
       "studies                             1301\n",
       "This study                          1210\n",
       "creatinine                          1127\n",
       "CT                                  1061\n",
       "Accepted Article                     968\n",
       "IL-6                                 913\n",
       "D-dimer                              861\n",
       "RT-PCR                               833\n",
       "A total                              830\n",
       "LDH                                  767\n",
       "C                                    733\n",
       "ALT                                  731\n",
       "study                                724\n",
       "<                                    723\n",
       "C-reactive protein                   702\n",
       "Statistical analysis                 701\n",
       "AST                                  698\n",
       "E                                    663\n",
       "e                                    645\n",
       "analysis                             643\n",
       "transpopliteal arterial puncture     641\n",
       "The study                            640\n",
       "SARS-CoV-2                           625\n",
       "PCR                                  589\n",
       "COVID                                585\n",
       "the data                             573\n",
       "mg/dL                                571\n",
       "imaging                              568\n",
       "MRI                                  559\n",
       "U/L                                  553\n",
       "immunoglobulin                       550\n",
       "Our study                            545\n",
       "contrast                             541"
      ]
     },
     "execution_count": 18,
     "metadata": {},
     "output_type": "execute_result"
    }
   ],
   "source": [
    "testhist2.head(40)"
   ]
  },
  {
   "cell_type": "code",
   "execution_count": 19,
   "metadata": {},
   "outputs": [
    {
     "data": {
      "image/png": "[encoded data removed]",
      "text/plain": [
       "<Figure size 1728x864 with 1 Axes>"
      ]
     },
     "metadata": {
      "needs_background": "light"
     },
     "output_type": "display_data"
    }
   ],
   "source": [
    "import matplotlib.pyplot as plt\n",
    "import seaborn as sns\n",
    "fig, ax = plt.subplots(figsize =(24,12))\n",
    "chart=sns.barplot(testhist2.index,testhist2['counts'])\n",
    "chart.set_xticklabels(testhist2.index,rotation=90)\n",
    "plt.title('Test Entities',fontsize=18)\n",
    "plt.show()"
   ]
  },
  {
   "cell_type": "markdown",
   "metadata": {},
   "source": [
    "The pretrained model is returning a lot of false positive for Test entities, but you can still see that kidney related tests such as \"creatinine\" are well represented in the dataset."
   ]
  },
  {
   "cell_type": "markdown",
   "metadata": {},
   "source": [
    "## Look at most frequent \"Problem\" entities"
   ]
  },
  {
   "cell_type": "code",
   "execution_count": 20,
   "metadata": {},
   "outputs": [
    {
     "data": {
      "text/html": [
       "<div>\n",
       "<style scoped>\n",
       "    .dataframe tbody tr th:only-of-type {\n",
       "        vertical-align: middle;\n",
       "    }\n",
       "\n",
       "    .dataframe tbody tr th {\n",
       "        vertical-align: top;\n",
       "    }\n",
       "\n",
       "    .dataframe thead th {\n",
       "        text-align: right;\n",
       "    }\n",
       "</style>\n",
       "<table border=\"1\" class=\"dataframe\">\n",
       "  <thead>\n",
       "    <tr style=\"text-align: right;\">\n",
       "      <th></th>\n",
       "      <th>counts</th>\n",
       "    </tr>\n",
       "  </thead>\n",
       "  <tbody>\n",
       "    <tr>\n",
       "      <th>SARS-CoV-2</th>\n",
       "      <td>4863</td>\n",
       "    </tr>\n",
       "    <tr>\n",
       "      <th>SARS-CoV-2 infection</th>\n",
       "      <td>2807</td>\n",
       "    </tr>\n",
       "    <tr>\n",
       "      <th>death</th>\n",
       "      <td>2758</td>\n",
       "    </tr>\n",
       "    <tr>\n",
       "      <th>AKI</th>\n",
       "      <td>2505</td>\n",
       "    </tr>\n",
       "    <tr>\n",
       "      <th>in-stent stenosis</th>\n",
       "      <td>2331</td>\n",
       "    </tr>\n",
       "    <tr>\n",
       "      <th>hypertension</th>\n",
       "      <td>2254</td>\n",
       "    </tr>\n",
       "    <tr>\n",
       "      <th>diabetes</th>\n",
       "      <td>2184</td>\n",
       "    </tr>\n",
       "    <tr>\n",
       "      <th>fever</th>\n",
       "      <td>2182</td>\n",
       "    </tr>\n",
       "    <tr>\n",
       "      <th>ARDS</th>\n",
       "      <td>2014</td>\n",
       "    </tr>\n",
       "    <tr>\n",
       "      <th>infection</th>\n",
       "      <td>1900</td>\n",
       "    </tr>\n",
       "    <tr>\n",
       "      <th>symptoms</th>\n",
       "      <td>1804</td>\n",
       "    </tr>\n",
       "    <tr>\n",
       "      <th>the disease</th>\n",
       "      <td>1688</td>\n",
       "    </tr>\n",
       "    <tr>\n",
       "      <th>SARS</th>\n",
       "      <td>1531</td>\n",
       "    </tr>\n",
       "    <tr>\n",
       "      <th>SARS-CoV</th>\n",
       "      <td>1385</td>\n",
       "    </tr>\n",
       "    <tr>\n",
       "      <th>coronavirus disease</th>\n",
       "      <td>1334</td>\n",
       "    </tr>\n",
       "    <tr>\n",
       "      <th>COVID-19 infection</th>\n",
       "      <td>1300</td>\n",
       "    </tr>\n",
       "    <tr>\n",
       "      <th>pneumonia</th>\n",
       "      <td>1294</td>\n",
       "    </tr>\n",
       "    <tr>\n",
       "      <th>the virus</th>\n",
       "      <td>1229</td>\n",
       "    </tr>\n",
       "    <tr>\n",
       "      <th>infected</th>\n",
       "      <td>1216</td>\n",
       "    </tr>\n",
       "    <tr>\n",
       "      <th>cough</th>\n",
       "      <td>1158</td>\n",
       "    </tr>\n",
       "    <tr>\n",
       "      <th>complications</th>\n",
       "      <td>1139</td>\n",
       "    </tr>\n",
       "    <tr>\n",
       "      <th>comorbidities</th>\n",
       "      <td>1020</td>\n",
       "    </tr>\n",
       "    <tr>\n",
       "      <th>Aetiology</th>\n",
       "      <td>999</td>\n",
       "    </tr>\n",
       "    <tr>\n",
       "      <th>Foundation Course Postpartum haemorrhage</th>\n",
       "      <td>996</td>\n",
       "    </tr>\n",
       "    <tr>\n",
       "      <th>sepsis</th>\n",
       "      <td>973</td>\n",
       "    </tr>\n",
       "    <tr>\n",
       "      <th>mortality</th>\n",
       "      <td>934</td>\n",
       "    </tr>\n",
       "    <tr>\n",
       "      <th>cancer</th>\n",
       "      <td>904</td>\n",
       "    </tr>\n",
       "    <tr>\n",
       "      <th>Incarcerated Inguinal Hernia</th>\n",
       "      <td>885</td>\n",
       "    </tr>\n",
       "    <tr>\n",
       "      <th>Flank Hernia</th>\n",
       "      <td>885</td>\n",
       "    </tr>\n",
       "    <tr>\n",
       "      <th>Recurrent Incision Hernia</th>\n",
       "      <td>885</td>\n",
       "    </tr>\n",
       "    <tr>\n",
       "      <th>Recurrent Fluid Collections</th>\n",
       "      <td>885</td>\n",
       "    </tr>\n",
       "    <tr>\n",
       "      <th>Treatment Ventral Hernia ( The Rectus Abdominal Diastasis</th>\n",
       "      <td>885</td>\n",
       "    </tr>\n",
       "    <tr>\n",
       "      <th>Complex Ventral Hernias</th>\n",
       "      <td>885</td>\n",
       "    </tr>\n",
       "    <tr>\n",
       "      <th>acute kidney injury</th>\n",
       "      <td>884</td>\n",
       "    </tr>\n",
       "    <tr>\n",
       "      <th>dyspnea</th>\n",
       "      <td>824</td>\n",
       "    </tr>\n",
       "    <tr>\n",
       "      <th>diarrhea</th>\n",
       "      <td>821</td>\n",
       "    </tr>\n",
       "    <tr>\n",
       "      <th>OF THE</th>\n",
       "      <td>794</td>\n",
       "    </tr>\n",
       "    <tr>\n",
       "      <th>disease</th>\n",
       "      <td>783</td>\n",
       "    </tr>\n",
       "    <tr>\n",
       "      <th>disease severity</th>\n",
       "      <td>770</td>\n",
       "    </tr>\n",
       "    <tr>\n",
       "      <th>obesity</th>\n",
       "      <td>761</td>\n",
       "    </tr>\n",
       "  </tbody>\n",
       "</table>\n",
       "</div>"
      ],
      "text/plain": [
       "                                                    counts\n",
       "SARS-CoV-2                                            4863\n",
       "SARS-CoV-2 infection                                  2807\n",
       "death                                                 2758\n",
       "AKI                                                   2505\n",
       "in-stent stenosis                                     2331\n",
       "hypertension                                          2254\n",
       "diabetes                                              2184\n",
       "fever                                                 2182\n",
       "ARDS                                                  2014\n",
       "infection                                             1900\n",
       "symptoms                                              1804\n",
       "the disease                                           1688\n",
       "SARS                                                  1531\n",
       "SARS-CoV                                              1385\n",
       "coronavirus disease                                   1334\n",
       "COVID-19 infection                                    1300\n",
       "pneumonia                                             1294\n",
       "the virus                                             1229\n",
       "infected                                              1216\n",
       "cough                                                 1158\n",
       "complications                                         1139\n",
       "comorbidities                                         1020\n",
       "Aetiology                                              999\n",
       "Foundation Course Postpartum haemorrhage               996\n",
       "sepsis                                                 973\n",
       "mortality                                              934\n",
       "cancer                                                 904\n",
       "Incarcerated Inguinal Hernia                           885\n",
       "Flank Hernia                                           885\n",
       "Recurrent Incision Hernia                              885\n",
       "Recurrent Fluid Collections                            885\n",
       "Treatment Ventral Hernia ( The Rectus Abdominal...     885\n",
       "Complex Ventral Hernias                                885\n",
       "acute kidney injury                                    884\n",
       "dyspnea                                                824\n",
       "diarrhea                                               821\n",
       "OF THE                                                 794\n",
       "disease                                                783\n",
       "disease severity                                       770\n",
       "obesity                                                761"
      ]
     },
     "execution_count": 20,
     "metadata": {},
     "output_type": "execute_result"
    }
   ],
   "source": [
    "probhist2.head(40)"
   ]
  },
  {
   "cell_type": "code",
   "execution_count": 21,
   "metadata": {
    "scrolled": false
   },
   "outputs": [
    {
     "data": {
      "image/png": "[encoded data removed]",
      "text/plain": [
       "<Figure size 1728x864 with 1 Axes>"
      ]
     },
     "metadata": {
      "needs_background": "light"
     },
     "output_type": "display_data"
    }
   ],
   "source": [
    "import seaborn as sns\n",
    "import seaborn as sns\n",
    "fig, ax = plt.subplots(figsize =(24,12))\n",
    "chart=sns.barplot(probhist2.index,probhist2['counts'])\n",
    "chart.set_xticklabels(probhist2.index,rotation=90)\n",
    "plt.title('Problem Entities',fontsize=18)\n",
    "plt.show()"
   ]
  },
  {
   "cell_type": "markdown",
   "metadata": {},
   "source": [
    "You can see that kidney related problems such as \"AKI\" are well represented in the dataset."
   ]
  },
  {
   "cell_type": "markdown",
   "metadata": {},
   "source": [
    "## Find 'Test' entities near the most frequent kidney related 'Problem' entity"
   ]
  },
  {
   "cell_type": "code",
   "execution_count": 22,
   "metadata": {},
   "outputs": [],
   "source": [
    "problems=pd.DataFrame(problems).reset_index(drop=True)\n",
    "problems['sectionid']=problems.docid+'-'+problems.section"
   ]
  },
  {
   "cell_type": "code",
   "execution_count": 23,
   "metadata": {},
   "outputs": [],
   "source": [
    "tests=pd.DataFrame(tests).reset_index(drop=True)\n",
    "tests['sectionid']=tests.docid+'-'+tests.section"
   ]
  },
  {
   "cell_type": "code",
   "execution_count": 24,
   "metadata": {},
   "outputs": [],
   "source": [
    "akis=pd.DataFrame(problems[problems['chunks']=='AKI']).reset_index(drop=True)"
   ]
  },
  {
   "cell_type": "code",
   "execution_count": 25,
   "metadata": {},
   "outputs": [],
   "source": [
    "a=list(set(akis['sectionid']))"
   ]
  },
  {
   "cell_type": "code",
   "execution_count": 26,
   "metadata": {},
   "outputs": [],
   "source": [
    "akitest=tests[tests['sectionid'].isin(a)]"
   ]
  },
  {
   "cell_type": "code",
   "execution_count": 27,
   "metadata": {},
   "outputs": [],
   "source": [
    "akicount=pd.DataFrame(akitest.groupby(['chunks'])['label'].count()).reset_index()\n",
    "\n",
    "akicount=akicount.sort_values(by='label',ascending=False).reset_index(drop=True)\n",
    "akicount.columns=['chunk','counts']"
   ]
  },
  {
   "cell_type": "code",
   "execution_count": 28,
   "metadata": {},
   "outputs": [
    {
     "data": {
      "text/html": [
       "<div>\n",
       "<style scoped>\n",
       "    .dataframe tbody tr th:only-of-type {\n",
       "        vertical-align: middle;\n",
       "    }\n",
       "\n",
       "    .dataframe tbody tr th {\n",
       "        vertical-align: top;\n",
       "    }\n",
       "\n",
       "    .dataframe thead th {\n",
       "        text-align: right;\n",
       "    }\n",
       "</style>\n",
       "<table border=\"1\" class=\"dataframe\">\n",
       "  <thead>\n",
       "    <tr style=\"text-align: right;\">\n",
       "      <th></th>\n",
       "      <th>chunk</th>\n",
       "      <th>counts</th>\n",
       "    </tr>\n",
       "  </thead>\n",
       "  <tbody>\n",
       "    <tr>\n",
       "      <th>0</th>\n",
       "      <td>this study</td>\n",
       "      <td>415</td>\n",
       "    </tr>\n",
       "    <tr>\n",
       "      <th>1</th>\n",
       "      <td>CI</td>\n",
       "      <td>329</td>\n",
       "    </tr>\n",
       "    <tr>\n",
       "      <th>2</th>\n",
       "      <td>the study</td>\n",
       "      <td>231</td>\n",
       "    </tr>\n",
       "    <tr>\n",
       "      <th>3</th>\n",
       "      <td>immunoglobulin</td>\n",
       "      <td>214</td>\n",
       "    </tr>\n",
       "    <tr>\n",
       "      <th>4</th>\n",
       "      <td>P002</td>\n",
       "      <td>212</td>\n",
       "    </tr>\n",
       "    <tr>\n",
       "      <th>...</th>\n",
       "      <td>...</td>\n",
       "      <td>...</td>\n",
       "    </tr>\n",
       "    <tr>\n",
       "      <th>14465</th>\n",
       "      <td>Whole slide imaging</td>\n",
       "      <td>1</td>\n",
       "    </tr>\n",
       "    <tr>\n",
       "      <th>14466</th>\n",
       "      <td>Wilcoxon Rank sum test</td>\n",
       "      <td>1</td>\n",
       "    </tr>\n",
       "    <tr>\n",
       "      <th>14467</th>\n",
       "      <td>Wilcoxon Ranksum</td>\n",
       "      <td>1</td>\n",
       "    </tr>\n",
       "    <tr>\n",
       "      <th>14468</th>\n",
       "      <td>Wilcoxon rank-sum tests</td>\n",
       "      <td>1</td>\n",
       "    </tr>\n",
       "    <tr>\n",
       "      <th>14469</th>\n",
       "      <td>C</td>\n",
       "      <td>1</td>\n",
       "    </tr>\n",
       "  </tbody>\n",
       "</table>\n",
       "<p>14470 rows × 2 columns</p>\n",
       "</div>"
      ],
      "text/plain": [
       "                         chunk  counts\n",
       "0                   this study     415\n",
       "1                           CI     329\n",
       "2                    the study     231\n",
       "3               immunoglobulin     214\n",
       "4                         P002     212\n",
       "...                        ...     ...\n",
       "14465      Whole slide imaging       1\n",
       "14466   Wilcoxon Rank sum test       1\n",
       "14467         Wilcoxon Ranksum       1\n",
       "14468  Wilcoxon rank-sum tests       1\n",
       "14469                       C       1\n",
       "\n",
       "[14470 rows x 2 columns]"
      ]
     },
     "execution_count": 28,
     "metadata": {},
     "output_type": "execute_result"
    }
   ],
   "source": [
    "akicount"
   ]
  },
  {
   "cell_type": "code",
   "execution_count": 29,
   "metadata": {},
   "outputs": [
    {
     "data": {
      "image/png": "[encoded data removed]",
      "text/plain": [
       "<Figure size 1728x864 with 1 Axes>"
      ]
     },
     "metadata": {
      "needs_background": "light"
     },
     "output_type": "display_data"
    }
   ],
   "source": [
    "import seaborn as sns\n",
    "import seaborn as sns\n",
    "fig, ax = plt.subplots(figsize =(24,12))\n",
    "chart= sns.barplot(akicount['chunk'][0:50],akicount['counts'][0:50])\n",
    "\n",
    "chart.set_xticklabels(akicount.chunk,rotation=90)\n",
    "plt.title(\"Clinical Tests Near 'AKI'\",fontsize=20)\n",
    "\n",
    "\n",
    "plt.show()"
   ]
  },
  {
   "cell_type": "markdown",
   "metadata": {},
   "source": [
    "Our clinical tests NER is returning a lot of false positives but we still see that creatinine, CRP, and PCR tests  are well represented in the dataset, appearing in the same section as \"AKI\". This tells me the information is probably not historical and I will have measurements that I can use for predictions as well as terms to use for topic modelling and text classification."
   ]
  },
  {
   "cell_type": "markdown",
   "metadata": {},
   "source": [
    "## Find 'Problem' entities near the most frequent kidney related 'Test' entity"
   ]
  },
  {
   "cell_type": "code",
   "execution_count": 30,
   "metadata": {},
   "outputs": [],
   "source": [
    "creatins=pd.DataFrame(tests[tests['chunks']=='creatinine']).reset_index(drop=True)\n",
    "b=list(set(creatins['sectionid']))\n",
    "creatprob=problems[problems['sectionid'].isin(b)]\n",
    "creatcount=pd.DataFrame(creatprob.groupby(['chunks'])['label'].count()).reset_index()\n",
    "\n",
    "creatcount=creatcount.sort_values(by='label',ascending=False).reset_index(drop=True)\n",
    "creatcount.columns=['chunk','counts']"
   ]
  },
  {
   "cell_type": "code",
   "execution_count": 42,
   "metadata": {},
   "outputs": [
    {
     "data": {
      "text/html": [
       "<div>\n",
       "<style scoped>\n",
       "    .dataframe tbody tr th:only-of-type {\n",
       "        vertical-align: middle;\n",
       "    }\n",
       "\n",
       "    .dataframe tbody tr th {\n",
       "        vertical-align: top;\n",
       "    }\n",
       "\n",
       "    .dataframe thead th {\n",
       "        text-align: right;\n",
       "    }\n",
       "</style>\n",
       "<table border=\"1\" class=\"dataframe\">\n",
       "  <thead>\n",
       "    <tr style=\"text-align: right;\">\n",
       "      <th></th>\n",
       "      <th>chunk</th>\n",
       "      <th>counts</th>\n",
       "    </tr>\n",
       "  </thead>\n",
       "  <tbody>\n",
       "    <tr>\n",
       "      <th>0</th>\n",
       "      <td>SARS-CoV-2</td>\n",
       "      <td>550</td>\n",
       "    </tr>\n",
       "    <tr>\n",
       "      <th>1</th>\n",
       "      <td>in-stent stenosis</td>\n",
       "      <td>500</td>\n",
       "    </tr>\n",
       "    <tr>\n",
       "      <th>2</th>\n",
       "      <td>AKI</td>\n",
       "      <td>435</td>\n",
       "    </tr>\n",
       "    <tr>\n",
       "      <th>3</th>\n",
       "      <td>fever</td>\n",
       "      <td>405</td>\n",
       "    </tr>\n",
       "    <tr>\n",
       "      <th>4</th>\n",
       "      <td>hypertension</td>\n",
       "      <td>373</td>\n",
       "    </tr>\n",
       "    <tr>\n",
       "      <th>...</th>\n",
       "      <td>...</td>\n",
       "      <td>...</td>\n",
       "    </tr>\n",
       "    <tr>\n",
       "      <th>30265</th>\n",
       "      <td>chronic HCV infection</td>\n",
       "      <td>1</td>\n",
       "    </tr>\n",
       "    <tr>\n",
       "      <th>30266</th>\n",
       "      <td>chronic HCV</td>\n",
       "      <td>1</td>\n",
       "    </tr>\n",
       "    <tr>\n",
       "      <th>30267</th>\n",
       "      <td>chronic</td>\n",
       "      <td>1</td>\n",
       "    </tr>\n",
       "    <tr>\n",
       "      <th>30268</th>\n",
       "      <td>chromosomal deletions</td>\n",
       "      <td>1</td>\n",
       "    </tr>\n",
       "    <tr>\n",
       "      <th>30269</th>\n",
       "      <td> Symptom</td>\n",
       "      <td>1</td>\n",
       "    </tr>\n",
       "  </tbody>\n",
       "</table>\n",
       "<p>30270 rows × 2 columns</p>\n",
       "</div>"
      ],
      "text/plain": [
       "                       chunk  counts\n",
       "0                 SARS-CoV-2     550\n",
       "1          in-stent stenosis     500\n",
       "2                        AKI     435\n",
       "3                      fever     405\n",
       "4               hypertension     373\n",
       "...                      ...     ...\n",
       "30265  chronic HCV infection       1\n",
       "30266            chronic HCV       1\n",
       "30267                chronic       1\n",
       "30268  chromosomal deletions       1\n",
       "30269               Symptom       1\n",
       "\n",
       "[30270 rows x 2 columns]"
      ]
     },
     "execution_count": 42,
     "metadata": {},
     "output_type": "execute_result"
    }
   ],
   "source": [
    "creatcount"
   ]
  },
  {
   "cell_type": "code",
   "execution_count": 31,
   "metadata": {},
   "outputs": [],
   "source": [
    "creatcounts=creatcount.iloc[0:50]"
   ]
  },
  {
   "cell_type": "code",
   "execution_count": 32,
   "metadata": {},
   "outputs": [
    {
     "data": {
      "image/png": "[encoded data removed]",
      "text/plain": [
       "<Figure size 1728x864 with 1 Axes>"
      ]
     },
     "metadata": {
      "needs_background": "light"
     },
     "output_type": "display_data"
    }
   ],
   "source": [
    "import seaborn as sns\n",
    "import seaborn as sns\n",
    "fig, ax = plt.subplots(figsize =(24,12))\n",
    "chart= sns.barplot(creatcounts.chunk,creatcounts['counts'])\n",
    "\n",
    "chart.set_xticklabels(creatcounts.chunk,rotation=90)\n",
    "plt.title(\"Patient Problems Near 'Creatinine' Test\",fontsize=20)\n",
    "\n",
    "\n",
    "plt.show()"
   ]
  },
  {
   "cell_type": "markdown",
   "metadata": {},
   "source": [
    "AKI, hypertension, diabetes, and acute kidney injury are all well represented in the dataset, appearing in the same section as \"creatinine\" tests. This tells me the information is probably not historical and I will have measurements that I can use for predictions as well as terms to use for topic modelling and text classification."
   ]
  },
  {
   "cell_type": "markdown",
   "metadata": {},
   "source": [
    "## Frequency of 'patient' mentions in documents"
   ]
  },
  {
   "cell_type": "code",
   "execution_count": 33,
   "metadata": {},
   "outputs": [],
   "source": [
    "patient=pd.DataFrame(big[(big['token'].str.lower()=='patient')|(big['token'].str.lower()=='patients')]).reset_index(drop=True)"
   ]
  },
  {
   "cell_type": "code",
   "execution_count": 35,
   "metadata": {},
   "outputs": [
    {
     "data": {
      "text/plain": [
       "1568"
      ]
     },
     "execution_count": 35,
     "metadata": {},
     "output_type": "execute_result"
    }
   ],
   "source": [
    "patients=patient.groupby(['docid'])['token'].count()\n",
    "patients=patients.reset_index()\n",
    "patients=patients.rename(columns={'token':'counts'})\n",
    "len(patients)"
   ]
  },
  {
   "cell_type": "code",
   "execution_count": 41,
   "metadata": {},
   "outputs": [
    {
     "data": {
      "text/plain": [
       "Text(0.5, 1.0, 'Frequency of Patient Mentions in 1568 Documents')"
      ]
     },
     "execution_count": 41,
     "metadata": {},
     "output_type": "execute_result"
    },
    {
     "data": {
      "image/png": "[encoded data removed]",
      "text/plain": [
       "<Figure size 432x288 with 1 Axes>"
      ]
     },
     "metadata": {
      "needs_background": "light"
     },
     "output_type": "display_data"
    }
   ],
   "source": [
    "sns.boxplot(patients['counts'])\n",
    "plt.title('Frequency of Patient Mentions in 1568 Documents',fontsize=14)"
   ]
  },
  {
   "cell_type": "markdown",
   "metadata": {},
   "source": [
    "## Frequency of 'case report' mentions in documents"
   ]
  },
  {
   "cell_type": "code",
   "execution_count": 37,
   "metadata": {},
   "outputs": [],
   "source": [
    "case=pd.DataFrame(big[(big['section'].str.lower()=='case report')|(big['section']=='case study')|(big['chunks'].str.lower()=='case report')|(big['chunks'].str.lower()=='case study')|(big['section'].str.lower()=='case reports')|(big['section']=='case studies')|(big['chunks'].str.lower()=='case reports')|(big['chunks'].str.lower()=='case studies')]).reset_index(drop=True)"
   ]
  },
  {
   "cell_type": "code",
   "execution_count": 38,
   "metadata": {},
   "outputs": [
    {
     "data": {
      "text/plain": [
       "78"
      ]
     },
     "execution_count": 38,
     "metadata": {},
     "output_type": "execute_result"
    }
   ],
   "source": [
    "cases=case.groupby(['docid'])['section'].count()\n",
    "cases=cases.reset_index()\n",
    "cases=cases.rename(columns={'section':'counts'})\n",
    "len(cases)"
   ]
  },
  {
   "cell_type": "code",
   "execution_count": 40,
   "metadata": {},
   "outputs": [
    {
     "data": {
      "text/plain": [
       "Text(0.5, 1.0, 'Frequency of Case Report/Study Mentions in 78 Documents')"
      ]
     },
     "execution_count": 40,
     "metadata": {},
     "output_type": "execute_result"
    },
    {
     "data": {
      "image/png": "[encoded data removed]",
      "text/plain": [
       "<Figure size 432x288 with 1 Axes>"
      ]
     },
     "metadata": {
      "needs_background": "light"
     },
     "output_type": "display_data"
    }
   ],
   "source": [
    "sns.boxplot(cases['counts'])\n",
    "plt.title('Frequency of Case Report/Study Mentions in 78 Documents',fontsize=14)"
   ]
  },
  {
   "cell_type": "markdown",
   "metadata": {},
   "source": [
    "78 documents refer to case reports a median of about 550 times (The average document length is about 30,000 words.) I think I will have enough patient data to attempt some predictions."
   ]
  },
  {
   "cell_type": "code",
   "execution_count": 14,
   "metadata": {},
   "outputs": [],
   "source": [
    "artlist=kag['Study']\n",
    "pres=[]\n",
    "doc=[]\n",
    "for i in os.listdir('document_parses/pdf_json'):\n",
    "    with open('document_parses/pdf_json/'+i) as json_file:\n",
    "        data = json.load(json_file)\n",
    "        if data['metadata']['title'] in list(artlist):\n",
    "            for c,j in enumerate(data['body_text']):\n",
    "            \n",
    "          \n",
    "                row=[i,data['metadata']['title'],data['body_text'][c]['section'],data['body_text'][c]['text']]\n",
    "                doc.append(row)\n",
    "\n",
    "            pres.append(doc)\n",
    "                    \n",
    "            "
   ]
  },
  {
   "cell_type": "code",
   "execution_count": 42,
   "metadata": {},
   "outputs": [],
   "source": [
    "jsons=[j[0] for i in pres for j in i]\n",
    "titles=[j[1] for i in pres for j in i]\n",
    "sections=[j[2].lower() for i in pres for j in i]\n",
    "text=[j[1].lower()+'.  '+j[2].lower()+'.  '+j[3].lower() for i in pres for j in i]\n",
    "pres2=pd.DataFrame(None,columns=['jsons','titles','sections','text'])"
   ]
  },
  {
   "cell_type": "code",
   "execution_count": 43,
   "metadata": {},
   "outputs": [],
   "source": [
    "pres2['jsons']=jsons\n",
    "pres2['titles']=titles\n",
    "pres2['section']=sections\n",
    "pres2['text']=text"
   ]
  },
  {
   "cell_type": "code",
   "execution_count": 44,
   "metadata": {},
   "outputs": [
    {
     "data": {
      "text/html": [
       "<div>\n",
       "<style scoped>\n",
       "    .dataframe tbody tr th:only-of-type {\n",
       "        vertical-align: middle;\n",
       "    }\n",
       "\n",
       "    .dataframe tbody tr th {\n",
       "        vertical-align: top;\n",
       "    }\n",
       "\n",
       "    .dataframe thead th {\n",
       "        text-align: right;\n",
       "    }\n",
       "</style>\n",
       "<table border=\"1\" class=\"dataframe\">\n",
       "  <thead>\n",
       "    <tr style=\"text-align: right;\">\n",
       "      <th></th>\n",
       "      <th>jsons</th>\n",
       "      <th>titles</th>\n",
       "      <th>sections</th>\n",
       "      <th>text</th>\n",
       "      <th>section</th>\n",
       "    </tr>\n",
       "  </thead>\n",
       "  <tbody>\n",
       "    <tr>\n",
       "      <th>0</th>\n",
       "      <td>5111c718f426624c7bcb8f11d7137177f6e85bf3.json</td>\n",
       "      <td>When a nephrology ward becomes a COVID-19 ward...</td>\n",
       "      <td>NaN</td>\n",
       "      <td>when a nephrology ward becomes a covid-19 ward...</td>\n",
       "      <td></td>\n",
       "    </tr>\n",
       "  </tbody>\n",
       "</table>\n",
       "</div>"
      ],
      "text/plain": [
       "                                           jsons  \\\n",
       "0  5111c718f426624c7bcb8f11d7137177f6e85bf3.json   \n",
       "\n",
       "                                              titles sections  \\\n",
       "0  When a nephrology ward becomes a COVID-19 ward...      NaN   \n",
       "\n",
       "                                                text section  \n",
       "0  when a nephrology ward becomes a covid-19 ward...          "
      ]
     },
     "execution_count": 44,
     "metadata": {},
     "output_type": "execute_result"
    }
   ],
   "source": [
    "pres2.head(1)"
   ]
  },
  {
   "cell_type": "code",
   "execution_count": 47,
   "metadata": {},
   "outputs": [],
   "source": [
    "case=pd.DataFrame(pres2[(pd.Series(pres2['section']).str.contains('case report'))|(pd.Series(pres2['section']).str.contains('case study'))|(pd.Series(pres2['text']).str.contains('case report'))|(pd.Series(pres2['text']).str.contains('case study'))|(pd.Series(pres2['section']).str.contains('case reports'))|(pd.Series(pres2['section']).str.contains('case studies'))|(pd.Series(pres2['text']).str.contains('case reports'))|(pd.Series(pres2['text']).str.contains('case studies'))]).reset_index(drop=True)"
   ]
  },
  {
   "cell_type": "code",
   "execution_count": 49,
   "metadata": {},
   "outputs": [
    {
     "data": {
      "text/html": [
       "<div>\n",
       "<style scoped>\n",
       "    .dataframe tbody tr th:only-of-type {\n",
       "        vertical-align: middle;\n",
       "    }\n",
       "\n",
       "    .dataframe tbody tr th {\n",
       "        vertical-align: top;\n",
       "    }\n",
       "\n",
       "    .dataframe thead th {\n",
       "        text-align: right;\n",
       "    }\n",
       "</style>\n",
       "<table border=\"1\" class=\"dataframe\">\n",
       "  <thead>\n",
       "    <tr style=\"text-align: right;\">\n",
       "      <th></th>\n",
       "      <th>jsons</th>\n",
       "      <th>titles</th>\n",
       "      <th>sections</th>\n",
       "      <th>text</th>\n",
       "      <th>section</th>\n",
       "    </tr>\n",
       "  </thead>\n",
       "  <tbody>\n",
       "    <tr>\n",
       "      <th>0</th>\n",
       "      <td>d71afe4de25925f16e3832d50dd107e123acbaf8.json</td>\n",
       "      <td>The role of comorbidities and clinical predict...</td>\n",
       "      <td>NaN</td>\n",
       "      <td>the role of comorbidities and clinical predict...</td>\n",
       "      <td>study selection</td>\n",
       "    </tr>\n",
       "    <tr>\n",
       "      <th>1</th>\n",
       "      <td>2973b03638396fd8adba65b5e762208b6c493eb0.json</td>\n",
       "      <td>Does comorbidity increase the risk of patients...</td>\n",
       "      <td>NaN</td>\n",
       "      <td>does comorbidity increase the risk of patients...</td>\n",
       "      <td>search strategy and study selection</td>\n",
       "    </tr>\n",
       "    <tr>\n",
       "      <th>2</th>\n",
       "      <td>d71afe4de25925f16e3832d50dd107e123acbaf8.json</td>\n",
       "      <td>The role of comorbidities and clinical predict...</td>\n",
       "      <td>NaN</td>\n",
       "      <td>the role of comorbidities and clinical predict...</td>\n",
       "      <td>study selection</td>\n",
       "    </tr>\n",
       "    <tr>\n",
       "      <th>3</th>\n",
       "      <td>2973b03638396fd8adba65b5e762208b6c493eb0.json</td>\n",
       "      <td>Does comorbidity increase the risk of patients...</td>\n",
       "      <td>NaN</td>\n",
       "      <td>does comorbidity increase the risk of patients...</td>\n",
       "      <td>search strategy and study selection</td>\n",
       "    </tr>\n",
       "    <tr>\n",
       "      <th>4</th>\n",
       "      <td>d71afe4de25925f16e3832d50dd107e123acbaf8.json</td>\n",
       "      <td>The role of comorbidities and clinical predict...</td>\n",
       "      <td>NaN</td>\n",
       "      <td>the role of comorbidities and clinical predict...</td>\n",
       "      <td>study selection</td>\n",
       "    </tr>\n",
       "  </tbody>\n",
       "</table>\n",
       "</div>"
      ],
      "text/plain": [
       "                                           jsons  \\\n",
       "0  d71afe4de25925f16e3832d50dd107e123acbaf8.json   \n",
       "1  2973b03638396fd8adba65b5e762208b6c493eb0.json   \n",
       "2  d71afe4de25925f16e3832d50dd107e123acbaf8.json   \n",
       "3  2973b03638396fd8adba65b5e762208b6c493eb0.json   \n",
       "4  d71afe4de25925f16e3832d50dd107e123acbaf8.json   \n",
       "\n",
       "                                              titles sections  \\\n",
       "0  The role of comorbidities and clinical predict...      NaN   \n",
       "1  Does comorbidity increase the risk of patients...      NaN   \n",
       "2  The role of comorbidities and clinical predict...      NaN   \n",
       "3  Does comorbidity increase the risk of patients...      NaN   \n",
       "4  The role of comorbidities and clinical predict...      NaN   \n",
       "\n",
       "                                                text  \\\n",
       "0  the role of comorbidities and clinical predict...   \n",
       "1  does comorbidity increase the risk of patients...   \n",
       "2  the role of comorbidities and clinical predict...   \n",
       "3  does comorbidity increase the risk of patients...   \n",
       "4  the role of comorbidities and clinical predict...   \n",
       "\n",
       "                               section  \n",
       "0                      study selection  \n",
       "1  search strategy and study selection  \n",
       "2                      study selection  \n",
       "3  search strategy and study selection  \n",
       "4                      study selection  "
      ]
     },
     "execution_count": 49,
     "metadata": {},
     "output_type": "execute_result"
    }
   ],
   "source": [
    "case.head()"
   ]
  },
  {
   "cell_type": "code",
   "execution_count": 50,
   "metadata": {},
   "outputs": [
    {
     "data": {
      "text/plain": [
       "40"
      ]
     },
     "execution_count": 50,
     "metadata": {},
     "output_type": "execute_result"
    }
   ],
   "source": [
    "len(case)"
   ]
  },
  {
   "cell_type": "code",
   "execution_count": 51,
   "metadata": {},
   "outputs": [
    {
     "data": {
      "text/plain": [
       "2"
      ]
     },
     "execution_count": 51,
     "metadata": {},
     "output_type": "execute_result"
    }
   ],
   "source": [
    "case['jsons'].nunique()"
   ]
  },
  {
   "cell_type": "code",
   "execution_count": 52,
   "metadata": {},
   "outputs": [
    {
     "data": {
      "text/plain": [
       "Does comorbidity increase the risk of patients with COVID-19: evidence from meta-analysis                                        20\n",
       "The role of comorbidities and clinical predictors of severe disease in COVID-19: a systematic review and meta-analysis Emails    20\n",
       "Name: titles, dtype: int64"
      ]
     },
     "execution_count": 52,
     "metadata": {},
     "output_type": "execute_result"
    }
   ],
   "source": [
    "case['titles'].value_counts()"
   ]
  },
  {
   "cell_type": "code",
   "execution_count": null,
   "metadata": {},
   "outputs": [],
   "source": []
  }
 ],
 "metadata": {
  "kernelspec": {
   "display_name": "Python 3",
   "language": "python",
   "name": "python3"
  },
  "language_info": {
   "codemirror_mode": {
    "name": "ipython",
    "version": 3
   },
   "file_extension": ".py",
   "mimetype": "text/x-python",
   "name": "python",
   "nbconvert_exporter": "python",
   "pygments_lexer": "ipython3",
   "version": "3.7.9"
  }
 },
 "nbformat": 4,
 "nbformat_minor": 4
}
