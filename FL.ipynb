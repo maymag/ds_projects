{
 "cells": [
  {
   "cell_type": "code",
   "execution_count": 21,
   "metadata": {},
   "outputs": [],
   "source": [
    "import pandas as pd\n",
    "import seaborn as sns\n",
    "import matplotlib.pylab as plt\n",
    "%matplotlib inline"
   ]
  },
  {
   "cell_type": "code",
   "execution_count": 22,
   "metadata": {},
   "outputs": [
    {
     "data": {
      "text/html": [
       "<div>\n",
       "<style scoped>\n",
       "    .dataframe tbody tr th:only-of-type {\n",
       "        vertical-align: middle;\n",
       "    }\n",
       "\n",
       "    .dataframe tbody tr th {\n",
       "        vertical-align: top;\n",
       "    }\n",
       "\n",
       "    .dataframe thead th {\n",
       "        text-align: right;\n",
       "    }\n",
       "</style>\n",
       "<table border=\"1\" class=\"dataframe\">\n",
       "  <thead>\n",
       "    <tr style=\"text-align: right;\">\n",
       "      <th></th>\n",
       "      <th>2012 map</th>\n",
       "      <th>County</th>\n",
       "      <th>sq_mi</th>\n",
       "      <th>Hermine claims</th>\n",
       "      <th>Matthew claims</th>\n",
       "      <th>Total claims</th>\n",
       "      <th>2010 Population</th>\n",
       "      <th>Pop per sq mi</th>\n",
       "      <th>Coastline Approx. Mi</th>\n",
       "    </tr>\n",
       "  </thead>\n",
       "  <tbody>\n",
       "    <tr>\n",
       "      <th>0</th>\n",
       "      <td>NaN</td>\n",
       "      <td>Nassau</td>\n",
       "      <td>1557.0</td>\n",
       "      <td>147.0</td>\n",
       "      <td>15967.0</td>\n",
       "      <td>16114.0</td>\n",
       "      <td>78435.0</td>\n",
       "      <td>50.375723</td>\n",
       "      <td>25.0</td>\n",
       "    </tr>\n",
       "    <tr>\n",
       "      <th>1</th>\n",
       "      <td>NaN</td>\n",
       "      <td>Duval</td>\n",
       "      <td>918.0</td>\n",
       "      <td>993.0</td>\n",
       "      <td>19090.0</td>\n",
       "      <td>20083.0</td>\n",
       "      <td>912043.0</td>\n",
       "      <td>993.510893</td>\n",
       "      <td>17.5</td>\n",
       "    </tr>\n",
       "    <tr>\n",
       "      <th>2</th>\n",
       "      <td>NaN</td>\n",
       "      <td>St. Johns</td>\n",
       "      <td>726.0</td>\n",
       "      <td>73.0</td>\n",
       "      <td>1881.0</td>\n",
       "      <td>1954.0</td>\n",
       "      <td>226578.0</td>\n",
       "      <td>312.090909</td>\n",
       "      <td>40.0</td>\n",
       "    </tr>\n",
       "    <tr>\n",
       "      <th>3</th>\n",
       "      <td>NaN</td>\n",
       "      <td>Brevard</td>\n",
       "      <td>822.0</td>\n",
       "      <td>145.0</td>\n",
       "      <td>10802.0</td>\n",
       "      <td>10947.0</td>\n",
       "      <td>568183.0</td>\n",
       "      <td>691.220195</td>\n",
       "      <td>72.0</td>\n",
       "    </tr>\n",
       "    <tr>\n",
       "      <th>4</th>\n",
       "      <td>NaN</td>\n",
       "      <td>Volusia</td>\n",
       "      <td>1432.0</td>\n",
       "      <td>124.0</td>\n",
       "      <td>34403.0</td>\n",
       "      <td>34527.0</td>\n",
       "      <td>518660.0</td>\n",
       "      <td>362.192737</td>\n",
       "      <td>45.0</td>\n",
       "    </tr>\n",
       "  </tbody>\n",
       "</table>\n",
       "</div>"
      ],
      "text/plain": [
       "   2012 map     County   sq_mi  Hermine claims  Matthew claims  Total claims  \\\n",
       "0       NaN     Nassau  1557.0           147.0         15967.0       16114.0   \n",
       "1       NaN      Duval   918.0           993.0         19090.0       20083.0   \n",
       "2       NaN  St. Johns   726.0            73.0          1881.0        1954.0   \n",
       "3       NaN    Brevard   822.0           145.0         10802.0       10947.0   \n",
       "4       NaN    Volusia  1432.0           124.0         34403.0       34527.0   \n",
       "\n",
       "   2010 Population  Pop per sq mi  Coastline Approx. Mi  \n",
       "0          78435.0      50.375723                  25.0  \n",
       "1         912043.0     993.510893                  17.5  \n",
       "2         226578.0     312.090909                  40.0  \n",
       "3         568183.0     691.220195                  72.0  \n",
       "4         518660.0     362.192737                  45.0  "
      ]
     },
     "execution_count": 22,
     "metadata": {},
     "output_type": "execute_result"
    }
   ],
   "source": [
    "FL = pd.read_csv('FLcounties.csv')\n",
    "FL.head()"
   ]
  },
  {
   "cell_type": "code",
   "execution_count": 23,
   "metadata": {},
   "outputs": [],
   "source": [
    "FL = FL.drop(columns = ['2012 map'])"
   ]
  },
  {
   "cell_type": "code",
   "execution_count": 25,
   "metadata": {},
   "outputs": [],
   "source": [
    "FL['H_claims/sq_mi'] = FL['Hermine claims']/FL['sq_mi']\n",
    "FL['M_claims/sq_mi'] = FL['Matthew claims']/FL['sq_mi']\n",
    "FL['T_claims/sq_mi'] = FL['Total claims']/FL['sq_mi']"
   ]
  },
  {
   "cell_type": "code",
   "execution_count": 26,
   "metadata": {},
   "outputs": [
    {
     "name": "stdout",
     "output_type": "stream",
     "text": [
      "                         sq_mi  Hermine claims  Matthew claims  Total claims  \\\n",
      "sq_mi                 1.000000       -0.214966        0.679565      0.668798   \n",
      "Hermine claims       -0.214966        1.000000        0.156395      0.187951   \n",
      "Matthew claims        0.679565        0.156395        1.000000      0.999487   \n",
      "Total claims          0.668798        0.187951        0.999487      1.000000   \n",
      "2010 Population      -0.368234        0.785758        0.336506      0.360109   \n",
      "Pop per sq mi        -0.588646        0.783727        0.040055      0.065248   \n",
      "Coastline Approx. Mi -0.314231       -0.580742       -0.141640     -0.159683   \n",
      "H_claims/sq_mi       -0.302019        0.995912        0.093131      0.124908   \n",
      "M_claims/sq_mi        0.379961        0.468207        0.906822      0.916942   \n",
      "T_claims/sq_mi        0.356508        0.507326        0.891316      0.902790   \n",
      "\n",
      "                      2010 Population  Pop per sq mi  Coastline Approx. Mi  \\\n",
      "sq_mi                       -0.368234      -0.588646             -0.314231   \n",
      "Hermine claims               0.785758       0.783727             -0.580742   \n",
      "Matthew claims               0.336506       0.040055             -0.141640   \n",
      "Total claims                 0.360109       0.065248             -0.159683   \n",
      "2010 Population              1.000000       0.952367             -0.025319   \n",
      "Pop per sq mi                0.952367       1.000000              0.034392   \n",
      "Coastline Approx. Mi        -0.025319       0.034392              1.000000   \n",
      "H_claims/sq_mi               0.804623       0.822433             -0.533008   \n",
      "M_claims/sq_mi               0.692536       0.452499             -0.102729   \n",
      "T_claims/sq_mi               0.717163       0.483341             -0.126949   \n",
      "\n",
      "                      H_claims/sq_mi  M_claims/sq_mi  T_claims/sq_mi  \n",
      "sq_mi                      -0.302019        0.379961        0.356508  \n",
      "Hermine claims              0.995912        0.468207        0.507326  \n",
      "Matthew claims              0.093131        0.906822        0.891316  \n",
      "Total claims                0.124908        0.916942        0.902790  \n",
      "2010 Population             0.804623        0.692536        0.717163  \n",
      "Pop per sq mi               0.822433        0.452499        0.483341  \n",
      "Coastline Approx. Mi       -0.533008       -0.102729       -0.126949  \n",
      "H_claims/sq_mi              1.000000        0.426282        0.466535  \n",
      "M_claims/sq_mi              0.426282        1.000000        0.998988  \n",
      "T_claims/sq_mi              0.466535        0.998988        1.000000  \n"
     ]
    }
   ],
   "source": [
    "corrmat = FL.corr()\n",
    "print(corrmat)"
   ]
  },
  {
   "cell_type": "code",
   "execution_count": 28,
   "metadata": {},
   "outputs": [
    {
     "data": {
      "image/png": "[encoded data removed]",
      "text/plain": [
       "<Figure size 432x288 with 2 Axes>"
      ]
     },
     "metadata": {
      "needs_background": "light"
     },
     "output_type": "display_data"
    }
   ],
   "source": [
    "sns.heatmap(corrmat, vmax=.8, square=True)\n",
    "plt.show()"
   ]
  },
  {
   "cell_type": "markdown",
   "metadata": {},
   "source": [
    "Total property insurance claims per square mile of the Florida counties has a strongly positive correlation with 2010 Population while Hermine claims per square mile also has a strongly positive correlation with population density.\n",
    "Total claims per square mile has a slight negative correlation with length of coastline and a slight positive correlation with total square miles, suggesting that inland homes may make more flood unrelated insurance claims.\n",
    "Hermine claims per square mile has a strongly negative correlation with Coastline in miles, in agreement with total claims per square mile.\n",
    "\n",
    "Inland property insurance claims are usually related to trees falling on homes and cars, and leaky roofs.\n",
    "Aerial photos would lend insight into the number of trees, the number of roofs, and perhaps the strength of the wind, as mountains and hills lend some protection against coastal gales."
   ]
  },
  {
   "cell_type": "code",
   "execution_count": null,
   "metadata": {},
   "outputs": [],
   "source": []
  }
 ],
 "metadata": {
  "kernelspec": {
   "display_name": "Python 3",
   "language": "python",
   "name": "python3"
  },
  "language_info": {
   "codemirror_mode": {
    "name": "ipython",
    "version": 3
   },
   "file_extension": ".py",
   "mimetype": "text/x-python",
   "name": "python",
   "nbconvert_exporter": "python",
   "pygments_lexer": "ipython3",
   "version": "3.6.8"
  }
 },
 "nbformat": 4,
 "nbformat_minor": 2
}
