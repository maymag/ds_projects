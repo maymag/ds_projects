{
 "cells": [
  {
   "cell_type": "code",
   "execution_count": 1,
   "metadata": {},
   "outputs": [],
   "source": [
    "import pandas as pd\n",
    "import matplotlib.pyplot as plt\n",
    "import seaborn as sns\n",
    "import numpy as np\n",
    "\n",
    "\n"
   ]
  },
  {
   "cell_type": "code",
   "execution_count": 2,
   "metadata": {},
   "outputs": [
    {
     "name": "stdout",
     "output_type": "stream",
     "text": [
      "   Unnamed: 0  YEAR           NHISPID  AGE  SEX  SEXORIEN  MARSTAT  BIRTHYR  \\\n",
      "0     2744230  1986  1986109602890101   60    1       NaN       11      NaN   \n",
      "1     2744231  1986  1986109602890102   54    2       NaN       11      NaN   \n",
      "2     2744232  1986  1986109602890103   21    1       NaN       50      NaN   \n",
      "3     2744233  1986  1986109602890201   46    1       NaN       11      NaN   \n",
      "4     2744234  1986  1986109602890202   38    2       NaN       11      NaN   \n",
      "\n",
      "   MORTSTAT  MORTDODY  \n",
      "0       1.0    2005.0  \n",
      "1       1.0    2010.0  \n",
      "2       2.0    9999.0  \n",
      "3       2.0    9999.0  \n",
      "4       2.0    9999.0  \n",
      "(1605246, 10)\n"
     ]
    }
   ],
   "source": [
    "data = pd.read_csv(\"nhis.csv\")\n",
    "print(data.head())\n",
    "print(data.shape)"
   ]
  },
  {
   "cell_type": "code",
   "execution_count": 10,
   "metadata": {
    "scrolled": true
   },
   "outputs": [
    {
     "data": {
      "text/html": [
       "<div>\n",
       "<style scoped>\n",
       "    .dataframe tbody tr th:only-of-type {\n",
       "        vertical-align: middle;\n",
       "    }\n",
       "\n",
       "    .dataframe tbody tr th {\n",
       "        vertical-align: top;\n",
       "    }\n",
       "\n",
       "    .dataframe thead th {\n",
       "        text-align: right;\n",
       "    }\n",
       "</style>\n",
       "<table border=\"1\" class=\"dataframe\">\n",
       "  <thead>\n",
       "    <tr style=\"text-align: right;\">\n",
       "      <th></th>\n",
       "      <th>Unnamed: 0</th>\n",
       "      <th>YEAR</th>\n",
       "      <th>NHISPID</th>\n",
       "      <th>AGE</th>\n",
       "      <th>SEX</th>\n",
       "      <th>SEXORIEN</th>\n",
       "      <th>MARSTAT</th>\n",
       "      <th>BIRTHYR</th>\n",
       "      <th>MORTSTAT</th>\n",
       "      <th>MORTDODY</th>\n",
       "      <th>Longevity</th>\n",
       "      <th>dead</th>\n",
       "    </tr>\n",
       "  </thead>\n",
       "  <tbody>\n",
       "    <tr>\n",
       "      <th>829402</th>\n",
       "      <td>3928174</td>\n",
       "      <td>1997</td>\n",
       "      <td>19970003080101</td>\n",
       "      <td>33</td>\n",
       "      <td>2</td>\n",
       "      <td>NaN</td>\n",
       "      <td>11</td>\n",
       "      <td>1963.0</td>\n",
       "      <td>2.0</td>\n",
       "      <td>9999.0</td>\n",
       "      <td>46.0</td>\n",
       "      <td>0.0</td>\n",
       "    </tr>\n",
       "    <tr>\n",
       "      <th>829403</th>\n",
       "      <td>3928175</td>\n",
       "      <td>1997</td>\n",
       "      <td>19970003080102</td>\n",
       "      <td>36</td>\n",
       "      <td>1</td>\n",
       "      <td>NaN</td>\n",
       "      <td>11</td>\n",
       "      <td>1960.0</td>\n",
       "      <td>2.0</td>\n",
       "      <td>9999.0</td>\n",
       "      <td>49.0</td>\n",
       "      <td>0.0</td>\n",
       "    </tr>\n",
       "    <tr>\n",
       "      <th>829404</th>\n",
       "      <td>3928178</td>\n",
       "      <td>1997</td>\n",
       "      <td>19970003090101</td>\n",
       "      <td>42</td>\n",
       "      <td>1</td>\n",
       "      <td>NaN</td>\n",
       "      <td>11</td>\n",
       "      <td>1954.0</td>\n",
       "      <td>1.0</td>\n",
       "      <td>1999.0</td>\n",
       "      <td>45.0</td>\n",
       "      <td>1.0</td>\n",
       "    </tr>\n",
       "    <tr>\n",
       "      <th>829405</th>\n",
       "      <td>3928179</td>\n",
       "      <td>1997</td>\n",
       "      <td>19970003090102</td>\n",
       "      <td>52</td>\n",
       "      <td>2</td>\n",
       "      <td>NaN</td>\n",
       "      <td>11</td>\n",
       "      <td>1944.0</td>\n",
       "      <td>2.0</td>\n",
       "      <td>9999.0</td>\n",
       "      <td>65.0</td>\n",
       "      <td>0.0</td>\n",
       "    </tr>\n",
       "    <tr>\n",
       "      <th>829407</th>\n",
       "      <td>3928182</td>\n",
       "      <td>1997</td>\n",
       "      <td>19970003100101</td>\n",
       "      <td>41</td>\n",
       "      <td>1</td>\n",
       "      <td>NaN</td>\n",
       "      <td>11</td>\n",
       "      <td>1955.0</td>\n",
       "      <td>2.0</td>\n",
       "      <td>9999.0</td>\n",
       "      <td>54.0</td>\n",
       "      <td>0.0</td>\n",
       "    </tr>\n",
       "  </tbody>\n",
       "</table>\n",
       "</div>"
      ],
      "text/plain": [
       "        Unnamed: 0  YEAR         NHISPID  AGE  SEX  SEXORIEN  MARSTAT  \\\n",
       "829402     3928174  1997  19970003080101   33    2       NaN       11   \n",
       "829403     3928175  1997  19970003080102   36    1       NaN       11   \n",
       "829404     3928178  1997  19970003090101   42    1       NaN       11   \n",
       "829405     3928179  1997  19970003090102   52    2       NaN       11   \n",
       "829407     3928182  1997  19970003100101   41    1       NaN       11   \n",
       "\n",
       "        BIRTHYR  MORTSTAT  MORTDODY  Longevity  dead  \n",
       "829402   1963.0       2.0    9999.0       46.0   0.0  \n",
       "829403   1960.0       2.0    9999.0       49.0   0.0  \n",
       "829404   1954.0       1.0    1999.0       45.0   1.0  \n",
       "829405   1944.0       2.0    9999.0       65.0   0.0  \n",
       "829407   1955.0       2.0    9999.0       54.0   0.0  "
      ]
     },
     "execution_count": 10,
     "metadata": {},
     "output_type": "execute_result"
    }
   ],
   "source": [
    "# Dropping cases where birth year is not known\n",
    "data2 =data[(data[\"BIRTHYR\"]<=2009) & (data[\"BIRTHYR\"].notnull())]\n",
    "data2 = pd.DataFrame(data2)\n",
    "\n",
    "# Calculating time-to-event\n",
    "data2[\"Longevity\"]= data2[\"MORTDODY\"] - data2[\"BIRTHYR\"]\n",
    "\n",
    "# Creating a 'status' variable where 1 means dead and 0 means alive as of 2009\n",
    "data2[\"dead\"]=2-data2['MORTSTAT']\n",
    "\n",
    "# For people who were alive as of 2009, calculating their longevity as their age in 2009\n",
    "data2.loc[data2['dead']==0,\"Longevity\"] = 2009 -data2.loc[data2['dead']==0,\"BIRTHYR\"] \n",
    "\n",
    "#Setting the age limit at 75 and limiting the dataset to married and unmarried.\n",
    "data3 = pd.DataFrame(data2[data2['MARSTAT'].isin(range(10,51))])\n",
    "data3 = pd.DataFrame(data2[data2['Longevity']<=75])\n",
    "data3 = pd.DataFrame(data3)\n",
    "data3.head()\n"
   ]
  },
  {
   "cell_type": "code",
   "execution_count": 11,
   "metadata": {},
   "outputs": [],
   "source": [
    " #Creating a binary variable where 1 = married\n",
    "data3['married'] = np.where(data3['MARSTAT']<12,1,0)"
   ]
  },
  {
   "cell_type": "code",
   "execution_count": 12,
   "metadata": {},
   "outputs": [
    {
     "data": {
      "text/plain": [
       "1    386712\n",
       "0    279343\n",
       "Name: married, dtype: int64"
      ]
     },
     "execution_count": 12,
     "metadata": {},
     "output_type": "execute_result"
    }
   ],
   "source": [
    "data3['married'].value_counts()"
   ]
  },
  {
   "cell_type": "code",
   "execution_count": 13,
   "metadata": {},
   "outputs": [
    {
     "data": {
      "text/html": [
       "<div>\n",
       "<style scoped>\n",
       "    .dataframe tbody tr th:only-of-type {\n",
       "        vertical-align: middle;\n",
       "    }\n",
       "\n",
       "    .dataframe tbody tr th {\n",
       "        vertical-align: top;\n",
       "    }\n",
       "\n",
       "    .dataframe thead th {\n",
       "        text-align: right;\n",
       "    }\n",
       "</style>\n",
       "<table border=\"1\" class=\"dataframe\">\n",
       "  <thead>\n",
       "    <tr style=\"text-align: right;\">\n",
       "      <th></th>\n",
       "      <th>Surv prob</th>\n",
       "      <th>Surv prob SE</th>\n",
       "      <th>num at risk</th>\n",
       "      <th>num events</th>\n",
       "    </tr>\n",
       "    <tr>\n",
       "      <th>Time</th>\n",
       "      <th></th>\n",
       "      <th></th>\n",
       "      <th></th>\n",
       "      <th></th>\n",
       "    </tr>\n",
       "  </thead>\n",
       "  <tbody>\n",
       "    <tr>\n",
       "      <th>18.0</th>\n",
       "      <td>0.999997</td>\n",
       "      <td>0.000002</td>\n",
       "      <td>666053</td>\n",
       "      <td>2.0</td>\n",
       "    </tr>\n",
       "    <tr>\n",
       "      <th>19.0</th>\n",
       "      <td>0.999979</td>\n",
       "      <td>0.000006</td>\n",
       "      <td>665275</td>\n",
       "      <td>12.0</td>\n",
       "    </tr>\n",
       "    <tr>\n",
       "      <th>20.0</th>\n",
       "      <td>0.999932</td>\n",
       "      <td>0.000010</td>\n",
       "      <td>663747</td>\n",
       "      <td>31.0</td>\n",
       "    </tr>\n",
       "    <tr>\n",
       "      <th>21.0</th>\n",
       "      <td>0.999863</td>\n",
       "      <td>0.000014</td>\n",
       "      <td>661250</td>\n",
       "      <td>46.0</td>\n",
       "    </tr>\n",
       "    <tr>\n",
       "      <th>22.0</th>\n",
       "      <td>0.999802</td>\n",
       "      <td>0.000017</td>\n",
       "      <td>658005</td>\n",
       "      <td>40.0</td>\n",
       "    </tr>\n",
       "  </tbody>\n",
       "</table>\n",
       "</div>"
      ],
      "text/plain": [
       "      Surv prob  Surv prob SE  num at risk  num events\n",
       "Time                                                  \n",
       "18.0   0.999997      0.000002       666053         2.0\n",
       "19.0   0.999979      0.000006       665275        12.0\n",
       "20.0   0.999932      0.000010       663747        31.0\n",
       "21.0   0.999863      0.000014       661250        46.0\n",
       "22.0   0.999802      0.000017       658005        40.0"
      ]
     },
     "execution_count": 13,
     "metadata": {},
     "output_type": "execute_result"
    }
   ],
   "source": [
    "import statsmodels.api as sm\n",
    "import statsmodels.formula.api as smf\n",
    "\n",
    "sf = sm.SurvfuncRight(data3[\"Longevity\"], data3[\"dead\"])\n",
    "sf.summary().head()"
   ]
  },
  {
   "cell_type": "code",
   "execution_count": 14,
   "metadata": {},
   "outputs": [
    {
     "data": {
      "image/png": "[encoded data removed]",
      "text/plain": [
       "<matplotlib.figure.Figure at 0x117d348d0>"
      ]
     },
     "metadata": {},
     "output_type": "display_data"
    }
   ],
   "source": [
    "# Code for this plot modified from the statsmodels documentation at http://www.statsmodels.org/dev/duration.html\n",
    "\n",
    "groups = data3.groupby(\"married\")\n",
    "\n",
    "ax = plt.axes()\n",
    "status = [\"unmarried\",\"married\"]\n",
    "# Fitting a survival function for each group\n",
    "for group in groups:\n",
    "    sf = sm.SurvfuncRight(group[1][\"Longevity\"], group[1][\"dead\"])\n",
    "    sf.plot(ax)\n",
    "li = ax.get_lines()\n",
    "plt.figlegend((li[0], li[2]), status, \"center right\")\n",
    "ax.set_ylabel(\"Proportion alive\")\n",
    "ax.set_xlabel(\"Age\")\n",
    "ax.set_autoscaley_on(False)\n",
    "\n",
    "\n"
   ]
  },
  {
   "cell_type": "code",
   "execution_count": 15,
   "metadata": {},
   "outputs": [
    {
     "name": "stdout",
     "output_type": "stream",
     "text": [
      "                        Results: PHReg\n",
      "==============================================================\n",
      "Model:                   PH Reg        Sample size:     666053\n",
      "Dependent variable:      Longevity     Num. events:     30937 \n",
      "Ties:                    Breslow                              \n",
      "--------------------------------------------------------------\n",
      "         log HR log HR SE   HR      t     P>|t|  [0.025 0.975]\n",
      "--------------------------------------------------------------\n",
      "married -0.4897    0.0115 0.6128 -42.7341 0.0000 0.5992 0.6267\n",
      "==============================================================\n",
      "Confidence intervals are for the hazard ratios\n"
     ]
    }
   ],
   "source": [
    "#run model\n",
    "mod = smf.phreg(\"Longevity ~  married\", # model name\n",
    "                data3, # the data\n",
    "                status=data3['dead'].values # right-censored columns\n",
    "                ) \n",
    "rslt = mod.fit()\n",
    "print(rslt.summary())"
   ]
  },
  {
   "cell_type": "markdown",
   "metadata": {},
   "source": [
    "According to the model, married people under 75 are 61% less likely to die."
   ]
  },
  {
   "cell_type": "code",
   "execution_count": 16,
   "metadata": {
    "scrolled": true
   },
   "outputs": [
    {
     "name": "stdout",
     "output_type": "stream",
     "text": [
      "        Unnamed: 0  YEAR         NHISPID  AGE  SEX  SEXORIEN  MARSTAT  \\\n",
      "829402     3928174  1997  19970003080101   33    2       NaN       11   \n",
      "829403     3928175  1997  19970003080102   36    1       NaN       11   \n",
      "829404     3928178  1997  19970003090101   42    1       NaN       11   \n",
      "829405     3928179  1997  19970003090102   52    2       NaN       11   \n",
      "829407     3928182  1997  19970003100101   41    1       NaN       11   \n",
      "\n",
      "        BIRTHYR  MORTSTAT  MORTDODY  Longevity  dead  married  \n",
      "829402   1963.0       2.0    9999.0       46.0   0.0        1  \n",
      "829403   1960.0       2.0    9999.0       49.0   0.0        1  \n",
      "829404   1954.0       1.0    1999.0       45.0   1.0        1  \n",
      "829405   1944.0       2.0    9999.0       65.0   0.0        1  \n",
      "829407   1955.0       2.0    9999.0       54.0   0.0        1  \n"
     ]
    },
    {
     "data": {
      "image/png": "[encoded data removed]",
      "text/plain": [
       "<matplotlib.figure.Figure at 0x116b387f0>"
      ]
     },
     "metadata": {},
     "output_type": "display_data"
    }
   ],
   "source": [
    "#graph predicted survived\n",
    "data4=data3[(data3['Longevity'].notnull()) & (data3['married'].notnull()) & (data3['dead'].notnull())]\n",
    "data4[\"predicted\"] = rslt.predict(pred_type='surv').predicted_values\n",
    "\n",
    "print(data3.head())\n",
    "\n",
    "sns.lmplot(x=\"Longevity\", y=\"predicted\", hue=\"married\", data=data4,fit_reg=False,lowess=True)\n",
    "plt.show()\n"
   ]
  }
 ],
 "metadata": {
  "kernelspec": {
   "display_name": "Python 3",
   "language": "python",
   "name": "python3"
  },
  "language_info": {
   "codemirror_mode": {
    "name": "ipython",
    "version": 3
   },
   "file_extension": ".py",
   "mimetype": "text/x-python",
   "name": "python",
   "nbconvert_exporter": "python",
   "pygments_lexer": "ipython3",
   "version": "3.6.4"
  }
 },
 "nbformat": 4,
 "nbformat_minor": 2
}
