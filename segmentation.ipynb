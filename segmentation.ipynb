{
 "cells": [
  {
   "cell_type": "code",
   "execution_count": 1,
   "metadata": {},
   "outputs": [],
   "source": [
    "import pandas as pd"
   ]
  },
  {
   "cell_type": "code",
   "execution_count": 2,
   "metadata": {},
   "outputs": [],
   "source": [
    "orders=pd.read_csv('/home/myilmaz/Downloads/PatterngoniaDB-Orders.csv')"
   ]
  },
  {
   "cell_type": "code",
   "execution_count": 3,
   "metadata": {},
   "outputs": [],
   "source": [
    "clients=pd.read_csv('/home/myilmaz/Downloads/Patterngonia DB - Users.csv')"
   ]
  },
  {
   "cell_type": "code",
   "execution_count": 4,
   "metadata": {},
   "outputs": [
    {
     "data": {
      "text/html": [
       "<div>\n",
       "<style scoped>\n",
       "    .dataframe tbody tr th:only-of-type {\n",
       "        vertical-align: middle;\n",
       "    }\n",
       "\n",
       "    .dataframe tbody tr th {\n",
       "        vertical-align: top;\n",
       "    }\n",
       "\n",
       "    .dataframe thead th {\n",
       "        text-align: right;\n",
       "    }\n",
       "</style>\n",
       "<table border=\"1\" class=\"dataframe\">\n",
       "  <thead>\n",
       "    <tr style=\"text-align: right;\">\n",
       "      <th></th>\n",
       "      <th>user_id</th>\n",
       "      <th>email</th>\n",
       "      <th>first_name</th>\n",
       "      <th>last_name</th>\n",
       "      <th>gender</th>\n",
       "      <th>birthday</th>\n",
       "      <th>city</th>\n",
       "      <th>state</th>\n",
       "      <th>newsletter_sign_up_date</th>\n",
       "    </tr>\n",
       "  </thead>\n",
       "  <tbody>\n",
       "    <tr>\n",
       "      <th>0</th>\n",
       "      <td>1</td>\n",
       "      <td>byrle@gmail.com</td>\n",
       "      <td>Byrle</td>\n",
       "      <td>Grinishin</td>\n",
       "      <td>Male</td>\n",
       "      <td>1966-08-13</td>\n",
       "      <td>Indianapolis</td>\n",
       "      <td>Indiana</td>\n",
       "      <td>NaN</td>\n",
       "    </tr>\n",
       "    <tr>\n",
       "      <th>1</th>\n",
       "      <td>2</td>\n",
       "      <td>lucius@gmail.com</td>\n",
       "      <td>Lucius</td>\n",
       "      <td>Fairholme</td>\n",
       "      <td>Male</td>\n",
       "      <td>1965-06-04</td>\n",
       "      <td>Dallas</td>\n",
       "      <td>Texas</td>\n",
       "      <td>2017-04-24</td>\n",
       "    </tr>\n",
       "    <tr>\n",
       "      <th>2</th>\n",
       "      <td>3</td>\n",
       "      <td>nefen@gmail.com</td>\n",
       "      <td>Nefen</td>\n",
       "      <td>Matthew</td>\n",
       "      <td>Male</td>\n",
       "      <td>NaN</td>\n",
       "      <td>Brooklyn</td>\n",
       "      <td>New York</td>\n",
       "      <td>2018-07-16</td>\n",
       "    </tr>\n",
       "    <tr>\n",
       "      <th>3</th>\n",
       "      <td>4</td>\n",
       "      <td>phillie@gmail.com</td>\n",
       "      <td>Phillie</td>\n",
       "      <td>Lanigan</td>\n",
       "      <td>Female</td>\n",
       "      <td>1968-04-17</td>\n",
       "      <td>Washington</td>\n",
       "      <td>District of Columbia</td>\n",
       "      <td>2017-03-28</td>\n",
       "    </tr>\n",
       "    <tr>\n",
       "      <th>4</th>\n",
       "      <td>5</td>\n",
       "      <td>alfredo@gmail.com</td>\n",
       "      <td>Alfredo</td>\n",
       "      <td>Filipiak</td>\n",
       "      <td>Male</td>\n",
       "      <td>1975-12-20</td>\n",
       "      <td>Sarasota</td>\n",
       "      <td>Florida</td>\n",
       "      <td>2017-04-11</td>\n",
       "    </tr>\n",
       "  </tbody>\n",
       "</table>\n",
       "</div>"
      ],
      "text/plain": [
       "   user_id              email first_name  last_name  gender    birthday  \\\n",
       "0        1    byrle@gmail.com      Byrle  Grinishin    Male  1966-08-13   \n",
       "1        2   lucius@gmail.com     Lucius  Fairholme    Male  1965-06-04   \n",
       "2        3    nefen@gmail.com      Nefen    Matthew    Male         NaN   \n",
       "3        4  phillie@gmail.com    Phillie    Lanigan  Female  1968-04-17   \n",
       "4        5  alfredo@gmail.com    Alfredo   Filipiak    Male  1975-12-20   \n",
       "\n",
       "           city                 state newsletter_sign_up_date  \n",
       "0  Indianapolis               Indiana                     NaN  \n",
       "1        Dallas                 Texas              2017-04-24  \n",
       "2      Brooklyn              New York              2018-07-16  \n",
       "3    Washington  District of Columbia              2017-03-28  \n",
       "4      Sarasota               Florida              2017-04-11  "
      ]
     },
     "execution_count": 4,
     "metadata": {},
     "output_type": "execute_result"
    }
   ],
   "source": [
    "clients.head()"
   ]
  },
  {
   "cell_type": "code",
   "execution_count": 5,
   "metadata": {},
   "outputs": [],
   "source": [
    "from datetime import datetime,date,timedelta\n",
    "import numpy as np\n",
    "\n",
    "clients['birthday']=pd.to_datetime(clients['birthday'], infer_datetime_format=True) \n",
    "clients['age']=(datetime.today()-clients['birthday'])\n",
    "clients['age']=clients['age'].apply(lambda x: x.days/365.25)\n",
    "\n",
    "clients['age']=[round(i) if str(i)!='nan' else None for i in clients['age']]"
   ]
  },
  {
   "cell_type": "code",
   "execution_count": 6,
   "metadata": {},
   "outputs": [
    {
     "data": {
      "text/html": [
       "<div>\n",
       "<style scoped>\n",
       "    .dataframe tbody tr th:only-of-type {\n",
       "        vertical-align: middle;\n",
       "    }\n",
       "\n",
       "    .dataframe tbody tr th {\n",
       "        vertical-align: top;\n",
       "    }\n",
       "\n",
       "    .dataframe thead th {\n",
       "        text-align: right;\n",
       "    }\n",
       "</style>\n",
       "<table border=\"1\" class=\"dataframe\">\n",
       "  <thead>\n",
       "    <tr style=\"text-align: right;\">\n",
       "      <th></th>\n",
       "      <th>order_id</th>\n",
       "      <th>purchase_date</th>\n",
       "      <th>product</th>\n",
       "      <th>listed_price</th>\n",
       "      <th>paid_price</th>\n",
       "      <th>user_id</th>\n",
       "    </tr>\n",
       "  </thead>\n",
       "  <tbody>\n",
       "    <tr>\n",
       "      <th>0</th>\n",
       "      <td>1</td>\n",
       "      <td>2018-03-02</td>\n",
       "      <td>Sneakers</td>\n",
       "      <td>70</td>\n",
       "      <td>70.0</td>\n",
       "      <td>496</td>\n",
       "    </tr>\n",
       "    <tr>\n",
       "      <th>1</th>\n",
       "      <td>2</td>\n",
       "      <td>2017-03-16</td>\n",
       "      <td>Tent</td>\n",
       "      <td>400</td>\n",
       "      <td>400.0</td>\n",
       "      <td>512</td>\n",
       "    </tr>\n",
       "    <tr>\n",
       "      <th>2</th>\n",
       "      <td>3</td>\n",
       "      <td>2016-09-03</td>\n",
       "      <td>Shirt</td>\n",
       "      <td>50</td>\n",
       "      <td>43.0</td>\n",
       "      <td>821</td>\n",
       "    </tr>\n",
       "    <tr>\n",
       "      <th>3</th>\n",
       "      <td>4</td>\n",
       "      <td>2017-04-10</td>\n",
       "      <td>Sneakers</td>\n",
       "      <td>70</td>\n",
       "      <td>70.0</td>\n",
       "      <td>264</td>\n",
       "    </tr>\n",
       "    <tr>\n",
       "      <th>4</th>\n",
       "      <td>5</td>\n",
       "      <td>2018-06-23</td>\n",
       "      <td>Shirt</td>\n",
       "      <td>50</td>\n",
       "      <td>35.0</td>\n",
       "      <td>574</td>\n",
       "    </tr>\n",
       "  </tbody>\n",
       "</table>\n",
       "</div>"
      ],
      "text/plain": [
       "   order_id purchase_date   product  listed_price  paid_price  user_id\n",
       "0         1    2018-03-02  Sneakers            70        70.0      496\n",
       "1         2    2017-03-16      Tent           400       400.0      512\n",
       "2         3    2016-09-03     Shirt            50        43.0      821\n",
       "3         4    2017-04-10  Sneakers            70        70.0      264\n",
       "4         5    2018-06-23     Shirt            50        35.0      574"
      ]
     },
     "execution_count": 6,
     "metadata": {},
     "output_type": "execute_result"
    }
   ],
   "source": [
    "orders.head()"
   ]
  },
  {
   "cell_type": "code",
   "execution_count": 7,
   "metadata": {},
   "outputs": [],
   "source": [
    "both=clients.merge(orders,how='right',on='user_id')"
   ]
  },
  {
   "cell_type": "code",
   "execution_count": 8,
   "metadata": {},
   "outputs": [
    {
     "data": {
      "text/html": [
       "<div>\n",
       "<style scoped>\n",
       "    .dataframe tbody tr th:only-of-type {\n",
       "        vertical-align: middle;\n",
       "    }\n",
       "\n",
       "    .dataframe tbody tr th {\n",
       "        vertical-align: top;\n",
       "    }\n",
       "\n",
       "    .dataframe thead th {\n",
       "        text-align: right;\n",
       "    }\n",
       "</style>\n",
       "<table border=\"1\" class=\"dataframe\">\n",
       "  <thead>\n",
       "    <tr style=\"text-align: right;\">\n",
       "      <th></th>\n",
       "      <th>user_id</th>\n",
       "      <th>email</th>\n",
       "      <th>first_name</th>\n",
       "      <th>last_name</th>\n",
       "      <th>gender</th>\n",
       "      <th>birthday</th>\n",
       "      <th>city</th>\n",
       "      <th>state</th>\n",
       "      <th>newsletter_sign_up_date</th>\n",
       "      <th>age</th>\n",
       "      <th>order_id</th>\n",
       "      <th>purchase_date</th>\n",
       "      <th>product</th>\n",
       "      <th>listed_price</th>\n",
       "      <th>paid_price</th>\n",
       "    </tr>\n",
       "  </thead>\n",
       "  <tbody>\n",
       "    <tr>\n",
       "      <th>0</th>\n",
       "      <td>1</td>\n",
       "      <td>byrle@gmail.com</td>\n",
       "      <td>Byrle</td>\n",
       "      <td>Grinishin</td>\n",
       "      <td>Male</td>\n",
       "      <td>1966-08-13</td>\n",
       "      <td>Indianapolis</td>\n",
       "      <td>Indiana</td>\n",
       "      <td>NaN</td>\n",
       "      <td>54.0</td>\n",
       "      <td>1017</td>\n",
       "      <td>2018-01-03</td>\n",
       "      <td>Pants</td>\n",
       "      <td>70</td>\n",
       "      <td>51.8</td>\n",
       "    </tr>\n",
       "    <tr>\n",
       "      <th>1</th>\n",
       "      <td>1</td>\n",
       "      <td>byrle@gmail.com</td>\n",
       "      <td>Byrle</td>\n",
       "      <td>Grinishin</td>\n",
       "      <td>Male</td>\n",
       "      <td>1966-08-13</td>\n",
       "      <td>Indianapolis</td>\n",
       "      <td>Indiana</td>\n",
       "      <td>NaN</td>\n",
       "      <td>54.0</td>\n",
       "      <td>1484</td>\n",
       "      <td>2018-07-18</td>\n",
       "      <td>Hat</td>\n",
       "      <td>20</td>\n",
       "      <td>15.6</td>\n",
       "    </tr>\n",
       "    <tr>\n",
       "      <th>2</th>\n",
       "      <td>1</td>\n",
       "      <td>byrle@gmail.com</td>\n",
       "      <td>Byrle</td>\n",
       "      <td>Grinishin</td>\n",
       "      <td>Male</td>\n",
       "      <td>1966-08-13</td>\n",
       "      <td>Indianapolis</td>\n",
       "      <td>Indiana</td>\n",
       "      <td>NaN</td>\n",
       "      <td>54.0</td>\n",
       "      <td>1814</td>\n",
       "      <td>2018-03-18</td>\n",
       "      <td>Hat</td>\n",
       "      <td>20</td>\n",
       "      <td>20.0</td>\n",
       "    </tr>\n",
       "    <tr>\n",
       "      <th>3</th>\n",
       "      <td>2</td>\n",
       "      <td>lucius@gmail.com</td>\n",
       "      <td>Lucius</td>\n",
       "      <td>Fairholme</td>\n",
       "      <td>Male</td>\n",
       "      <td>1965-06-04</td>\n",
       "      <td>Dallas</td>\n",
       "      <td>Texas</td>\n",
       "      <td>2017-04-24</td>\n",
       "      <td>56.0</td>\n",
       "      <td>535</td>\n",
       "      <td>2016-11-06</td>\n",
       "      <td>Tent</td>\n",
       "      <td>400</td>\n",
       "      <td>400.0</td>\n",
       "    </tr>\n",
       "    <tr>\n",
       "      <th>4</th>\n",
       "      <td>2</td>\n",
       "      <td>lucius@gmail.com</td>\n",
       "      <td>Lucius</td>\n",
       "      <td>Fairholme</td>\n",
       "      <td>Male</td>\n",
       "      <td>1965-06-04</td>\n",
       "      <td>Dallas</td>\n",
       "      <td>Texas</td>\n",
       "      <td>2017-04-24</td>\n",
       "      <td>56.0</td>\n",
       "      <td>700</td>\n",
       "      <td>2018-03-09</td>\n",
       "      <td>Sneakers</td>\n",
       "      <td>70</td>\n",
       "      <td>54.6</td>\n",
       "    </tr>\n",
       "  </tbody>\n",
       "</table>\n",
       "</div>"
      ],
      "text/plain": [
       "   user_id             email first_name  last_name gender   birthday  \\\n",
       "0        1   byrle@gmail.com      Byrle  Grinishin   Male 1966-08-13   \n",
       "1        1   byrle@gmail.com      Byrle  Grinishin   Male 1966-08-13   \n",
       "2        1   byrle@gmail.com      Byrle  Grinishin   Male 1966-08-13   \n",
       "3        2  lucius@gmail.com     Lucius  Fairholme   Male 1965-06-04   \n",
       "4        2  lucius@gmail.com     Lucius  Fairholme   Male 1965-06-04   \n",
       "\n",
       "           city    state newsletter_sign_up_date   age  order_id  \\\n",
       "0  Indianapolis  Indiana                     NaN  54.0      1017   \n",
       "1  Indianapolis  Indiana                     NaN  54.0      1484   \n",
       "2  Indianapolis  Indiana                     NaN  54.0      1814   \n",
       "3        Dallas    Texas              2017-04-24  56.0       535   \n",
       "4        Dallas    Texas              2017-04-24  56.0       700   \n",
       "\n",
       "  purchase_date   product  listed_price  paid_price  \n",
       "0    2018-01-03     Pants            70        51.8  \n",
       "1    2018-07-18       Hat            20        15.6  \n",
       "2    2018-03-18       Hat            20        20.0  \n",
       "3    2016-11-06      Tent           400       400.0  \n",
       "4    2018-03-09  Sneakers            70        54.6  "
      ]
     },
     "execution_count": 8,
     "metadata": {},
     "output_type": "execute_result"
    }
   ],
   "source": [
    "both.head()"
   ]
  },
  {
   "cell_type": "code",
   "execution_count": 9,
   "metadata": {},
   "outputs": [],
   "source": [
    "both['count']=1"
   ]
  },
  {
   "cell_type": "code",
   "execution_count": 10,
   "metadata": {},
   "outputs": [
    {
     "data": {
      "text/plain": [
       "1995"
      ]
     },
     "execution_count": 10,
     "metadata": {},
     "output_type": "execute_result"
    }
   ],
   "source": [
    "both.dropna(subset=['last_name'],inplace=True)\n",
    "len(both)"
   ]
  },
  {
   "cell_type": "code",
   "execution_count": 11,
   "metadata": {
    "scrolled": true
   },
   "outputs": [
    {
     "data": {
      "text/html": [
       "<div>\n",
       "<style scoped>\n",
       "    .dataframe tbody tr th:only-of-type {\n",
       "        vertical-align: middle;\n",
       "    }\n",
       "\n",
       "    .dataframe tbody tr th {\n",
       "        vertical-align: top;\n",
       "    }\n",
       "\n",
       "    .dataframe thead th {\n",
       "        text-align: right;\n",
       "    }\n",
       "</style>\n",
       "<table border=\"1\" class=\"dataframe\">\n",
       "  <thead>\n",
       "    <tr style=\"text-align: right;\">\n",
       "      <th></th>\n",
       "      <th>user_id</th>\n",
       "      <th>email</th>\n",
       "      <th>first_name</th>\n",
       "      <th>last_name</th>\n",
       "      <th>gender</th>\n",
       "      <th>birthday</th>\n",
       "      <th>city</th>\n",
       "      <th>state</th>\n",
       "      <th>newsletter_sign_up_date</th>\n",
       "      <th>age</th>\n",
       "      <th>order_id</th>\n",
       "      <th>purchase_date</th>\n",
       "      <th>product</th>\n",
       "      <th>listed_price</th>\n",
       "      <th>paid_price</th>\n",
       "      <th>count</th>\n",
       "      <th>discounted</th>\n",
       "    </tr>\n",
       "  </thead>\n",
       "  <tbody>\n",
       "    <tr>\n",
       "      <th>0</th>\n",
       "      <td>1</td>\n",
       "      <td>byrle@gmail.com</td>\n",
       "      <td>Byrle</td>\n",
       "      <td>Grinishin</td>\n",
       "      <td>Male</td>\n",
       "      <td>1966-08-13</td>\n",
       "      <td>Indianapolis</td>\n",
       "      <td>Indiana</td>\n",
       "      <td>NaN</td>\n",
       "      <td>54.0</td>\n",
       "      <td>1017</td>\n",
       "      <td>2018-01-03</td>\n",
       "      <td>Pants</td>\n",
       "      <td>70</td>\n",
       "      <td>51.8</td>\n",
       "      <td>1</td>\n",
       "      <td>True</td>\n",
       "    </tr>\n",
       "    <tr>\n",
       "      <th>1</th>\n",
       "      <td>1</td>\n",
       "      <td>byrle@gmail.com</td>\n",
       "      <td>Byrle</td>\n",
       "      <td>Grinishin</td>\n",
       "      <td>Male</td>\n",
       "      <td>1966-08-13</td>\n",
       "      <td>Indianapolis</td>\n",
       "      <td>Indiana</td>\n",
       "      <td>NaN</td>\n",
       "      <td>54.0</td>\n",
       "      <td>1484</td>\n",
       "      <td>2018-07-18</td>\n",
       "      <td>Hat</td>\n",
       "      <td>20</td>\n",
       "      <td>15.6</td>\n",
       "      <td>1</td>\n",
       "      <td>True</td>\n",
       "    </tr>\n",
       "    <tr>\n",
       "      <th>2</th>\n",
       "      <td>1</td>\n",
       "      <td>byrle@gmail.com</td>\n",
       "      <td>Byrle</td>\n",
       "      <td>Grinishin</td>\n",
       "      <td>Male</td>\n",
       "      <td>1966-08-13</td>\n",
       "      <td>Indianapolis</td>\n",
       "      <td>Indiana</td>\n",
       "      <td>NaN</td>\n",
       "      <td>54.0</td>\n",
       "      <td>1814</td>\n",
       "      <td>2018-03-18</td>\n",
       "      <td>Hat</td>\n",
       "      <td>20</td>\n",
       "      <td>20.0</td>\n",
       "      <td>1</td>\n",
       "      <td>False</td>\n",
       "    </tr>\n",
       "    <tr>\n",
       "      <th>3</th>\n",
       "      <td>2</td>\n",
       "      <td>lucius@gmail.com</td>\n",
       "      <td>Lucius</td>\n",
       "      <td>Fairholme</td>\n",
       "      <td>Male</td>\n",
       "      <td>1965-06-04</td>\n",
       "      <td>Dallas</td>\n",
       "      <td>Texas</td>\n",
       "      <td>2017-04-24</td>\n",
       "      <td>56.0</td>\n",
       "      <td>535</td>\n",
       "      <td>2016-11-06</td>\n",
       "      <td>Tent</td>\n",
       "      <td>400</td>\n",
       "      <td>400.0</td>\n",
       "      <td>1</td>\n",
       "      <td>False</td>\n",
       "    </tr>\n",
       "    <tr>\n",
       "      <th>4</th>\n",
       "      <td>2</td>\n",
       "      <td>lucius@gmail.com</td>\n",
       "      <td>Lucius</td>\n",
       "      <td>Fairholme</td>\n",
       "      <td>Male</td>\n",
       "      <td>1965-06-04</td>\n",
       "      <td>Dallas</td>\n",
       "      <td>Texas</td>\n",
       "      <td>2017-04-24</td>\n",
       "      <td>56.0</td>\n",
       "      <td>700</td>\n",
       "      <td>2018-03-09</td>\n",
       "      <td>Sneakers</td>\n",
       "      <td>70</td>\n",
       "      <td>54.6</td>\n",
       "      <td>1</td>\n",
       "      <td>True</td>\n",
       "    </tr>\n",
       "  </tbody>\n",
       "</table>\n",
       "</div>"
      ],
      "text/plain": [
       "   user_id             email first_name  last_name gender   birthday  \\\n",
       "0        1   byrle@gmail.com      Byrle  Grinishin   Male 1966-08-13   \n",
       "1        1   byrle@gmail.com      Byrle  Grinishin   Male 1966-08-13   \n",
       "2        1   byrle@gmail.com      Byrle  Grinishin   Male 1966-08-13   \n",
       "3        2  lucius@gmail.com     Lucius  Fairholme   Male 1965-06-04   \n",
       "4        2  lucius@gmail.com     Lucius  Fairholme   Male 1965-06-04   \n",
       "\n",
       "           city    state newsletter_sign_up_date   age  order_id  \\\n",
       "0  Indianapolis  Indiana                     NaN  54.0      1017   \n",
       "1  Indianapolis  Indiana                     NaN  54.0      1484   \n",
       "2  Indianapolis  Indiana                     NaN  54.0      1814   \n",
       "3        Dallas    Texas              2017-04-24  56.0       535   \n",
       "4        Dallas    Texas              2017-04-24  56.0       700   \n",
       "\n",
       "  purchase_date   product  listed_price  paid_price  count  discounted  \n",
       "0    2018-01-03     Pants            70        51.8      1        True  \n",
       "1    2018-07-18       Hat            20        15.6      1        True  \n",
       "2    2018-03-18       Hat            20        20.0      1       False  \n",
       "3    2016-11-06      Tent           400       400.0      1       False  \n",
       "4    2018-03-09  Sneakers            70        54.6      1        True  "
      ]
     },
     "execution_count": 11,
     "metadata": {},
     "output_type": "execute_result"
    }
   ],
   "source": [
    "both['discounted']=both['listed_price']-both['paid_price']\n",
    "both['discounted']=both['discounted'].apply(lambda x: x>0)\n",
    "both.head()"
   ]
  },
  {
   "cell_type": "code",
   "execution_count": 12,
   "metadata": {},
   "outputs": [],
   "source": [
    "#both['newsletter_sign_up_date']=both['newsletter_sign_up_date'].fillna(0)\n",
    "both['newsletter_sign_up_date']=pd.to_datetime(both['newsletter_sign_up_date'])\n",
    "both['purchase_date']=pd.to_datetime(both['purchase_date'])\n",
    "both['after']=(both['purchase_date']-both['newsletter_sign_up_date'])\n",
    "both['after']=both['after'].apply(lambda x: x.days>0)\n",
    "both['newsletter_sign_up_date']=both['newsletter_sign_up_date'].fillna(0)"
   ]
  },
  {
   "cell_type": "code",
   "execution_count": 13,
   "metadata": {},
   "outputs": [
    {
     "data": {
      "text/html": [
       "<div>\n",
       "<style scoped>\n",
       "    .dataframe tbody tr th:only-of-type {\n",
       "        vertical-align: middle;\n",
       "    }\n",
       "\n",
       "    .dataframe tbody tr th {\n",
       "        vertical-align: top;\n",
       "    }\n",
       "\n",
       "    .dataframe thead th {\n",
       "        text-align: right;\n",
       "    }\n",
       "</style>\n",
       "<table border=\"1\" class=\"dataframe\">\n",
       "  <thead>\n",
       "    <tr style=\"text-align: right;\">\n",
       "      <th></th>\n",
       "      <th>user_id</th>\n",
       "      <th>email</th>\n",
       "      <th>first_name</th>\n",
       "      <th>last_name</th>\n",
       "      <th>gender</th>\n",
       "      <th>birthday</th>\n",
       "      <th>city</th>\n",
       "      <th>state</th>\n",
       "      <th>newsletter_sign_up_date</th>\n",
       "      <th>age</th>\n",
       "      <th>order_id</th>\n",
       "      <th>purchase_date</th>\n",
       "      <th>product</th>\n",
       "      <th>listed_price</th>\n",
       "      <th>paid_price</th>\n",
       "      <th>count</th>\n",
       "      <th>discounted</th>\n",
       "      <th>after</th>\n",
       "    </tr>\n",
       "  </thead>\n",
       "  <tbody>\n",
       "    <tr>\n",
       "      <th>0</th>\n",
       "      <td>1</td>\n",
       "      <td>byrle@gmail.com</td>\n",
       "      <td>Byrle</td>\n",
       "      <td>Grinishin</td>\n",
       "      <td>Male</td>\n",
       "      <td>1966-08-13</td>\n",
       "      <td>Indianapolis</td>\n",
       "      <td>Indiana</td>\n",
       "      <td>0</td>\n",
       "      <td>54.0</td>\n",
       "      <td>1017</td>\n",
       "      <td>2018-01-03</td>\n",
       "      <td>Pants</td>\n",
       "      <td>70</td>\n",
       "      <td>51.8</td>\n",
       "      <td>1</td>\n",
       "      <td>True</td>\n",
       "      <td>False</td>\n",
       "    </tr>\n",
       "    <tr>\n",
       "      <th>1</th>\n",
       "      <td>1</td>\n",
       "      <td>byrle@gmail.com</td>\n",
       "      <td>Byrle</td>\n",
       "      <td>Grinishin</td>\n",
       "      <td>Male</td>\n",
       "      <td>1966-08-13</td>\n",
       "      <td>Indianapolis</td>\n",
       "      <td>Indiana</td>\n",
       "      <td>0</td>\n",
       "      <td>54.0</td>\n",
       "      <td>1484</td>\n",
       "      <td>2018-07-18</td>\n",
       "      <td>Hat</td>\n",
       "      <td>20</td>\n",
       "      <td>15.6</td>\n",
       "      <td>1</td>\n",
       "      <td>True</td>\n",
       "      <td>False</td>\n",
       "    </tr>\n",
       "    <tr>\n",
       "      <th>2</th>\n",
       "      <td>1</td>\n",
       "      <td>byrle@gmail.com</td>\n",
       "      <td>Byrle</td>\n",
       "      <td>Grinishin</td>\n",
       "      <td>Male</td>\n",
       "      <td>1966-08-13</td>\n",
       "      <td>Indianapolis</td>\n",
       "      <td>Indiana</td>\n",
       "      <td>0</td>\n",
       "      <td>54.0</td>\n",
       "      <td>1814</td>\n",
       "      <td>2018-03-18</td>\n",
       "      <td>Hat</td>\n",
       "      <td>20</td>\n",
       "      <td>20.0</td>\n",
       "      <td>1</td>\n",
       "      <td>False</td>\n",
       "      <td>False</td>\n",
       "    </tr>\n",
       "    <tr>\n",
       "      <th>3</th>\n",
       "      <td>2</td>\n",
       "      <td>lucius@gmail.com</td>\n",
       "      <td>Lucius</td>\n",
       "      <td>Fairholme</td>\n",
       "      <td>Male</td>\n",
       "      <td>1965-06-04</td>\n",
       "      <td>Dallas</td>\n",
       "      <td>Texas</td>\n",
       "      <td>2017-04-24 00:00:00</td>\n",
       "      <td>56.0</td>\n",
       "      <td>535</td>\n",
       "      <td>2016-11-06</td>\n",
       "      <td>Tent</td>\n",
       "      <td>400</td>\n",
       "      <td>400.0</td>\n",
       "      <td>1</td>\n",
       "      <td>False</td>\n",
       "      <td>False</td>\n",
       "    </tr>\n",
       "    <tr>\n",
       "      <th>4</th>\n",
       "      <td>2</td>\n",
       "      <td>lucius@gmail.com</td>\n",
       "      <td>Lucius</td>\n",
       "      <td>Fairholme</td>\n",
       "      <td>Male</td>\n",
       "      <td>1965-06-04</td>\n",
       "      <td>Dallas</td>\n",
       "      <td>Texas</td>\n",
       "      <td>2017-04-24 00:00:00</td>\n",
       "      <td>56.0</td>\n",
       "      <td>700</td>\n",
       "      <td>2018-03-09</td>\n",
       "      <td>Sneakers</td>\n",
       "      <td>70</td>\n",
       "      <td>54.6</td>\n",
       "      <td>1</td>\n",
       "      <td>True</td>\n",
       "      <td>True</td>\n",
       "    </tr>\n",
       "  </tbody>\n",
       "</table>\n",
       "</div>"
      ],
      "text/plain": [
       "   user_id             email first_name  last_name gender   birthday  \\\n",
       "0        1   byrle@gmail.com      Byrle  Grinishin   Male 1966-08-13   \n",
       "1        1   byrle@gmail.com      Byrle  Grinishin   Male 1966-08-13   \n",
       "2        1   byrle@gmail.com      Byrle  Grinishin   Male 1966-08-13   \n",
       "3        2  lucius@gmail.com     Lucius  Fairholme   Male 1965-06-04   \n",
       "4        2  lucius@gmail.com     Lucius  Fairholme   Male 1965-06-04   \n",
       "\n",
       "           city    state newsletter_sign_up_date   age  order_id  \\\n",
       "0  Indianapolis  Indiana                       0  54.0      1017   \n",
       "1  Indianapolis  Indiana                       0  54.0      1484   \n",
       "2  Indianapolis  Indiana                       0  54.0      1814   \n",
       "3        Dallas    Texas     2017-04-24 00:00:00  56.0       535   \n",
       "4        Dallas    Texas     2017-04-24 00:00:00  56.0       700   \n",
       "\n",
       "  purchase_date   product  listed_price  paid_price  count  discounted  after  \n",
       "0    2018-01-03     Pants            70        51.8      1        True  False  \n",
       "1    2018-07-18       Hat            20        15.6      1        True  False  \n",
       "2    2018-03-18       Hat            20        20.0      1       False  False  \n",
       "3    2016-11-06      Tent           400       400.0      1       False  False  \n",
       "4    2018-03-09  Sneakers            70        54.6      1        True   True  "
      ]
     },
     "execution_count": 13,
     "metadata": {},
     "output_type": "execute_result"
    }
   ],
   "source": [
    "both.head()"
   ]
  },
  {
   "cell_type": "code",
   "execution_count": 14,
   "metadata": {},
   "outputs": [],
   "source": [
    "both['agebin']=pd.cut(both['age'],bins=4)\n",
    "both['pricebin']=pd.cut(both['listed_price'],bins=2)"
   ]
  },
  {
   "cell_type": "code",
   "execution_count": 15,
   "metadata": {},
   "outputs": [],
   "source": [
    "female=pd.DataFrame(both[both['gender']=='Female'])\n",
    "male=pd.DataFrame(both[both['gender']=='Male'])"
   ]
  },
  {
   "cell_type": "code",
   "execution_count": 16,
   "metadata": {},
   "outputs": [
    {
     "data": {
      "text/html": [
       "<div>\n",
       "<style scoped>\n",
       "    .dataframe tbody tr th:only-of-type {\n",
       "        vertical-align: middle;\n",
       "    }\n",
       "\n",
       "    .dataframe tbody tr th {\n",
       "        vertical-align: top;\n",
       "    }\n",
       "\n",
       "    .dataframe thead th {\n",
       "        text-align: right;\n",
       "    }\n",
       "</style>\n",
       "<table border=\"1\" class=\"dataframe\">\n",
       "  <thead>\n",
       "    <tr style=\"text-align: right;\">\n",
       "      <th></th>\n",
       "      <th>user_id</th>\n",
       "      <th>email</th>\n",
       "      <th>first_name</th>\n",
       "      <th>last_name</th>\n",
       "      <th>gender</th>\n",
       "      <th>birthday</th>\n",
       "      <th>city</th>\n",
       "      <th>state</th>\n",
       "      <th>newsletter_sign_up_date</th>\n",
       "      <th>age</th>\n",
       "      <th>order_id</th>\n",
       "      <th>purchase_date</th>\n",
       "      <th>product</th>\n",
       "      <th>listed_price</th>\n",
       "      <th>paid_price</th>\n",
       "      <th>count</th>\n",
       "      <th>discounted</th>\n",
       "      <th>after</th>\n",
       "      <th>agebin</th>\n",
       "      <th>pricebin</th>\n",
       "    </tr>\n",
       "  </thead>\n",
       "  <tbody>\n",
       "    <tr>\n",
       "      <th>11</th>\n",
       "      <td>4</td>\n",
       "      <td>phillie@gmail.com</td>\n",
       "      <td>Phillie</td>\n",
       "      <td>Lanigan</td>\n",
       "      <td>Female</td>\n",
       "      <td>1968-04-17</td>\n",
       "      <td>Washington</td>\n",
       "      <td>District of Columbia</td>\n",
       "      <td>2017-03-28 00:00:00</td>\n",
       "      <td>53.0</td>\n",
       "      <td>1943</td>\n",
       "      <td>2017-05-22</td>\n",
       "      <td>Snacks</td>\n",
       "      <td>5</td>\n",
       "      <td>5.0</td>\n",
       "      <td>1</td>\n",
       "      <td>False</td>\n",
       "      <td>True</td>\n",
       "      <td>(50.0, 60.0]</td>\n",
       "      <td>(4.605, 202.5]</td>\n",
       "    </tr>\n",
       "    <tr>\n",
       "      <th>13</th>\n",
       "      <td>6</td>\n",
       "      <td>peggi@gmail.com</td>\n",
       "      <td>Peggi</td>\n",
       "      <td>Hackwell</td>\n",
       "      <td>Female</td>\n",
       "      <td>1979-04-18</td>\n",
       "      <td>Evansville</td>\n",
       "      <td>Indiana</td>\n",
       "      <td>0</td>\n",
       "      <td>42.0</td>\n",
       "      <td>737</td>\n",
       "      <td>2017-04-05</td>\n",
       "      <td>Shirt</td>\n",
       "      <td>50</td>\n",
       "      <td>50.0</td>\n",
       "      <td>1</td>\n",
       "      <td>False</td>\n",
       "      <td>False</td>\n",
       "      <td>(40.0, 50.0]</td>\n",
       "      <td>(4.605, 202.5]</td>\n",
       "    </tr>\n",
       "    <tr>\n",
       "      <th>14</th>\n",
       "      <td>6</td>\n",
       "      <td>peggi@gmail.com</td>\n",
       "      <td>Peggi</td>\n",
       "      <td>Hackwell</td>\n",
       "      <td>Female</td>\n",
       "      <td>1979-04-18</td>\n",
       "      <td>Evansville</td>\n",
       "      <td>Indiana</td>\n",
       "      <td>0</td>\n",
       "      <td>42.0</td>\n",
       "      <td>876</td>\n",
       "      <td>2017-09-19</td>\n",
       "      <td>Pants</td>\n",
       "      <td>70</td>\n",
       "      <td>70.0</td>\n",
       "      <td>1</td>\n",
       "      <td>False</td>\n",
       "      <td>False</td>\n",
       "      <td>(40.0, 50.0]</td>\n",
       "      <td>(4.605, 202.5]</td>\n",
       "    </tr>\n",
       "    <tr>\n",
       "      <th>15</th>\n",
       "      <td>7</td>\n",
       "      <td>shannen@gmail.com</td>\n",
       "      <td>Shannen</td>\n",
       "      <td>Innocent</td>\n",
       "      <td>Female</td>\n",
       "      <td>1983-09-02</td>\n",
       "      <td>El Paso</td>\n",
       "      <td>Texas</td>\n",
       "      <td>2017-10-21 00:00:00</td>\n",
       "      <td>37.0</td>\n",
       "      <td>261</td>\n",
       "      <td>2017-05-17</td>\n",
       "      <td>Hat</td>\n",
       "      <td>20</td>\n",
       "      <td>16.4</td>\n",
       "      <td>1</td>\n",
       "      <td>True</td>\n",
       "      <td>False</td>\n",
       "      <td>(29.96, 40.0]</td>\n",
       "      <td>(4.605, 202.5]</td>\n",
       "    </tr>\n",
       "    <tr>\n",
       "      <th>16</th>\n",
       "      <td>7</td>\n",
       "      <td>shannen@gmail.com</td>\n",
       "      <td>Shannen</td>\n",
       "      <td>Innocent</td>\n",
       "      <td>Female</td>\n",
       "      <td>1983-09-02</td>\n",
       "      <td>El Paso</td>\n",
       "      <td>Texas</td>\n",
       "      <td>2017-10-21 00:00:00</td>\n",
       "      <td>37.0</td>\n",
       "      <td>294</td>\n",
       "      <td>2018-07-14</td>\n",
       "      <td>Sneakers</td>\n",
       "      <td>70</td>\n",
       "      <td>70.0</td>\n",
       "      <td>1</td>\n",
       "      <td>False</td>\n",
       "      <td>True</td>\n",
       "      <td>(29.96, 40.0]</td>\n",
       "      <td>(4.605, 202.5]</td>\n",
       "    </tr>\n",
       "  </tbody>\n",
       "</table>\n",
       "</div>"
      ],
      "text/plain": [
       "    user_id              email first_name last_name  gender   birthday  \\\n",
       "11        4  phillie@gmail.com    Phillie   Lanigan  Female 1968-04-17   \n",
       "13        6    peggi@gmail.com      Peggi  Hackwell  Female 1979-04-18   \n",
       "14        6    peggi@gmail.com      Peggi  Hackwell  Female 1979-04-18   \n",
       "15        7  shannen@gmail.com    Shannen  Innocent  Female 1983-09-02   \n",
       "16        7  shannen@gmail.com    Shannen  Innocent  Female 1983-09-02   \n",
       "\n",
       "          city                 state newsletter_sign_up_date   age  order_id  \\\n",
       "11  Washington  District of Columbia     2017-03-28 00:00:00  53.0      1943   \n",
       "13  Evansville               Indiana                       0  42.0       737   \n",
       "14  Evansville               Indiana                       0  42.0       876   \n",
       "15     El Paso                 Texas     2017-10-21 00:00:00  37.0       261   \n",
       "16     El Paso                 Texas     2017-10-21 00:00:00  37.0       294   \n",
       "\n",
       "   purchase_date   product  listed_price  paid_price  count  discounted  \\\n",
       "11    2017-05-22    Snacks             5         5.0      1       False   \n",
       "13    2017-04-05     Shirt            50        50.0      1       False   \n",
       "14    2017-09-19     Pants            70        70.0      1       False   \n",
       "15    2017-05-17       Hat            20        16.4      1        True   \n",
       "16    2018-07-14  Sneakers            70        70.0      1       False   \n",
       "\n",
       "    after         agebin        pricebin  \n",
       "11   True   (50.0, 60.0]  (4.605, 202.5]  \n",
       "13  False   (40.0, 50.0]  (4.605, 202.5]  \n",
       "14  False   (40.0, 50.0]  (4.605, 202.5]  \n",
       "15  False  (29.96, 40.0]  (4.605, 202.5]  \n",
       "16   True  (29.96, 40.0]  (4.605, 202.5]  "
      ]
     },
     "execution_count": 16,
     "metadata": {},
     "output_type": "execute_result"
    }
   ],
   "source": [
    "female.head()"
   ]
  },
  {
   "cell_type": "code",
   "execution_count": 17,
   "metadata": {},
   "outputs": [
    {
     "data": {
      "text/plain": [
       "<matplotlib.axes._subplots.AxesSubplot at 0x7f48e9d9e190>"
      ]
     },
     "execution_count": 17,
     "metadata": {},
     "output_type": "execute_result"
    },
    {
     "data": {
      "image/png": "[encoded data removed]",
      "text/plain": [
       "<Figure size 432x288 with 1 Axes>"
      ]
     },
     "metadata": {
      "needs_background": "light"
     },
     "output_type": "display_data"
    }
   ],
   "source": [
    "import seaborn as sns\n",
    "sns.countplot(x=\"product\", hue=\"agebin\", data=female.sort_values('product'))"
   ]
  },
  {
   "cell_type": "code",
   "execution_count": 18,
   "metadata": {},
   "outputs": [],
   "source": [
    "# Women 30-40 are big buyers of clothing: shirts, pants and jackets and few sneakers (fashion or light hiking)\n",
    "# Women 40-50 are big buyers shirts,pants, lots of sneakers, and rope but not jackets or tents (VERY active hikers, climbers)\n",
    "# Women 50-60 are big buyers of tents and jackets (campers)\n",
    "# Women 60-70 buy everything but shirts and hats (gifts?)"
   ]
  },
  {
   "cell_type": "code",
   "execution_count": 19,
   "metadata": {},
   "outputs": [
    {
     "data": {
      "text/plain": [
       "<matplotlib.axes._subplots.AxesSubplot at 0x7f48e965bbe0>"
      ]
     },
     "execution_count": 19,
     "metadata": {},
     "output_type": "execute_result"
    },
    {
     "data": {
      "image/png": "[encoded data removed]",
      "text/plain": [
       "<Figure size 432x288 with 1 Axes>"
      ]
     },
     "metadata": {
      "needs_background": "light"
     },
     "output_type": "display_data"
    }
   ],
   "source": [
    "sns.countplot(x=\"product\", hue=\"agebin\", data=male.sort_values('product'))"
   ]
  },
  {
   "cell_type": "code",
   "execution_count": 20,
   "metadata": {},
   "outputs": [],
   "source": [
    "# Men 30-40 are big buyers of pants, jackets, rope, and shirts (very active hikers, climbers)\n",
    "# Men 40-50 are not buying rope,snacks, tents or hats. (hikers).\n",
    "# Men 50-60 are big buyers of tents and snacks and they also buy jackets (campers)\n",
    "# Men 60-70  are buying lots of jackets (warmth)"
   ]
  },
  {
   "cell_type": "markdown",
   "metadata": {},
   "source": [
    "one=fnewsies[fnewsies['agebin'].astype(str)=='(29.96, 40.0]']\n",
    "two=fnewsies[fnewsies['agebin'].astype(str)=='(40.0, 50.0]']\n",
    "three=fnewsies[fnewsies['agebin'].astype(str)=='(50.0, 60.0]']\n",
    "four=fnewsies[fnewsies['agebin'].astype(str)=='(60.0, 70.0]']"
   ]
  },
  {
   "cell_type": "code",
   "execution_count": 21,
   "metadata": {},
   "outputs": [],
   "source": [
    "# Arranging regions by climate, location, mountains"
   ]
  },
  {
   "cell_type": "code",
   "execution_count": 22,
   "metadata": {},
   "outputs": [],
   "source": [
    "northeast=pd.DataFrame(both[both['state'].isin(['New York','New Jersey','Maine','Massachusetts','Vermont','Connecticut','Pennsylvania','Delaware','Rhode Island','New Hampshire','Maryland','West Virginia','Virginia'])])"
   ]
  },
  {
   "cell_type": "code",
   "execution_count": 23,
   "metadata": {},
   "outputs": [],
   "source": [
    "southeast=both[both['state'].isin(['Georgia','Florida','North Carolina','South Carolina','Alabama','Mississippi','Arkansas','Louisiana','Kentucky','Tennessee'])]"
   ]
  },
  {
   "cell_type": "code",
   "execution_count": 24,
   "metadata": {},
   "outputs": [],
   "source": [
    "CA_HI=both[both['state'].isin(['California','Hawaii'])]\n",
    "southwest=both[both['state'].isin(['Texas','Oklahoma','Arizona','New Mexico'])]\n",
    "west=both[both['state'].isin(['Oregon','Washington','Idaho','Montana','Wyoming','Nevada','Utah','Colorado','Alaska','North Dakota','South Dakota'])]\n",
    "midwest=both[both['state'].isin(['Ohio','Illinois','Indiana','Iowa','Michigan','Wisconsin','Minnesota','Missouri','Nebraska','Kansas'])]"
   ]
  },
  {
   "cell_type": "code",
   "execution_count": 25,
   "metadata": {},
   "outputs": [
    {
     "data": {
      "text/html": [
       "<div>\n",
       "<style scoped>\n",
       "    .dataframe tbody tr th:only-of-type {\n",
       "        vertical-align: middle;\n",
       "    }\n",
       "\n",
       "    .dataframe tbody tr th {\n",
       "        vertical-align: top;\n",
       "    }\n",
       "\n",
       "    .dataframe thead th {\n",
       "        text-align: right;\n",
       "    }\n",
       "</style>\n",
       "<table border=\"1\" class=\"dataframe\">\n",
       "  <thead>\n",
       "    <tr style=\"text-align: right;\">\n",
       "      <th></th>\n",
       "      <th>user_id</th>\n",
       "      <th>email</th>\n",
       "      <th>first_name</th>\n",
       "      <th>last_name</th>\n",
       "      <th>gender</th>\n",
       "      <th>birthday</th>\n",
       "      <th>city</th>\n",
       "      <th>state</th>\n",
       "      <th>newsletter_sign_up_date</th>\n",
       "      <th>age</th>\n",
       "      <th>order_id</th>\n",
       "      <th>purchase_date</th>\n",
       "      <th>product</th>\n",
       "      <th>listed_price</th>\n",
       "      <th>paid_price</th>\n",
       "      <th>count</th>\n",
       "      <th>discounted</th>\n",
       "      <th>after</th>\n",
       "      <th>agebin</th>\n",
       "      <th>pricebin</th>\n",
       "    </tr>\n",
       "  </thead>\n",
       "  <tbody>\n",
       "    <tr>\n",
       "      <th>7</th>\n",
       "      <td>3</td>\n",
       "      <td>nefen@gmail.com</td>\n",
       "      <td>Nefen</td>\n",
       "      <td>Matthew</td>\n",
       "      <td>Male</td>\n",
       "      <td>NaT</td>\n",
       "      <td>Brooklyn</td>\n",
       "      <td>New York</td>\n",
       "      <td>2018-07-16 00:00:00</td>\n",
       "      <td>NaN</td>\n",
       "      <td>433</td>\n",
       "      <td>2016-11-26</td>\n",
       "      <td>Tent</td>\n",
       "      <td>400</td>\n",
       "      <td>400.0</td>\n",
       "      <td>1</td>\n",
       "      <td>False</td>\n",
       "      <td>False</td>\n",
       "      <td>NaN</td>\n",
       "      <td>(202.5, 400.0]</td>\n",
       "    </tr>\n",
       "    <tr>\n",
       "      <th>8</th>\n",
       "      <td>3</td>\n",
       "      <td>nefen@gmail.com</td>\n",
       "      <td>Nefen</td>\n",
       "      <td>Matthew</td>\n",
       "      <td>Male</td>\n",
       "      <td>NaT</td>\n",
       "      <td>Brooklyn</td>\n",
       "      <td>New York</td>\n",
       "      <td>2018-07-16 00:00:00</td>\n",
       "      <td>NaN</td>\n",
       "      <td>925</td>\n",
       "      <td>2017-01-06</td>\n",
       "      <td>Hat</td>\n",
       "      <td>20</td>\n",
       "      <td>15.4</td>\n",
       "      <td>1</td>\n",
       "      <td>True</td>\n",
       "      <td>False</td>\n",
       "      <td>NaN</td>\n",
       "      <td>(4.605, 202.5]</td>\n",
       "    </tr>\n",
       "    <tr>\n",
       "      <th>9</th>\n",
       "      <td>3</td>\n",
       "      <td>nefen@gmail.com</td>\n",
       "      <td>Nefen</td>\n",
       "      <td>Matthew</td>\n",
       "      <td>Male</td>\n",
       "      <td>NaT</td>\n",
       "      <td>Brooklyn</td>\n",
       "      <td>New York</td>\n",
       "      <td>2018-07-16 00:00:00</td>\n",
       "      <td>NaN</td>\n",
       "      <td>1552</td>\n",
       "      <td>2017-10-30</td>\n",
       "      <td>Jacket</td>\n",
       "      <td>80</td>\n",
       "      <td>80.0</td>\n",
       "      <td>1</td>\n",
       "      <td>False</td>\n",
       "      <td>False</td>\n",
       "      <td>NaN</td>\n",
       "      <td>(4.605, 202.5]</td>\n",
       "    </tr>\n",
       "    <tr>\n",
       "      <th>10</th>\n",
       "      <td>3</td>\n",
       "      <td>nefen@gmail.com</td>\n",
       "      <td>Nefen</td>\n",
       "      <td>Matthew</td>\n",
       "      <td>Male</td>\n",
       "      <td>NaT</td>\n",
       "      <td>Brooklyn</td>\n",
       "      <td>New York</td>\n",
       "      <td>2018-07-16 00:00:00</td>\n",
       "      <td>NaN</td>\n",
       "      <td>1725</td>\n",
       "      <td>2016-09-10</td>\n",
       "      <td>Hat</td>\n",
       "      <td>20</td>\n",
       "      <td>20.0</td>\n",
       "      <td>1</td>\n",
       "      <td>False</td>\n",
       "      <td>False</td>\n",
       "      <td>NaN</td>\n",
       "      <td>(4.605, 202.5]</td>\n",
       "    </tr>\n",
       "    <tr>\n",
       "      <th>41</th>\n",
       "      <td>17</td>\n",
       "      <td>tracy@gmail.com</td>\n",
       "      <td>Tracy</td>\n",
       "      <td>Behling</td>\n",
       "      <td>Female</td>\n",
       "      <td>1973-01-18</td>\n",
       "      <td>Baltimore</td>\n",
       "      <td>Maryland</td>\n",
       "      <td>0</td>\n",
       "      <td>48.0</td>\n",
       "      <td>306</td>\n",
       "      <td>2017-08-03</td>\n",
       "      <td>Rope</td>\n",
       "      <td>20</td>\n",
       "      <td>20.0</td>\n",
       "      <td>1</td>\n",
       "      <td>False</td>\n",
       "      <td>False</td>\n",
       "      <td>(40.0, 50.0]</td>\n",
       "      <td>(4.605, 202.5]</td>\n",
       "    </tr>\n",
       "    <tr>\n",
       "      <th>...</th>\n",
       "      <td>...</td>\n",
       "      <td>...</td>\n",
       "      <td>...</td>\n",
       "      <td>...</td>\n",
       "      <td>...</td>\n",
       "      <td>...</td>\n",
       "      <td>...</td>\n",
       "      <td>...</td>\n",
       "      <td>...</td>\n",
       "      <td>...</td>\n",
       "      <td>...</td>\n",
       "      <td>...</td>\n",
       "      <td>...</td>\n",
       "      <td>...</td>\n",
       "      <td>...</td>\n",
       "      <td>...</td>\n",
       "      <td>...</td>\n",
       "      <td>...</td>\n",
       "      <td>...</td>\n",
       "      <td>...</td>\n",
       "    </tr>\n",
       "    <tr>\n",
       "      <th>1969</th>\n",
       "      <td>991</td>\n",
       "      <td>zebulon@gmail.com</td>\n",
       "      <td>Zebulon</td>\n",
       "      <td>Braysher</td>\n",
       "      <td>Male</td>\n",
       "      <td>1963-02-24</td>\n",
       "      <td>Mount Vernon</td>\n",
       "      <td>New York</td>\n",
       "      <td>0</td>\n",
       "      <td>58.0</td>\n",
       "      <td>251</td>\n",
       "      <td>2017-05-18</td>\n",
       "      <td>Jacket</td>\n",
       "      <td>80</td>\n",
       "      <td>80.0</td>\n",
       "      <td>1</td>\n",
       "      <td>False</td>\n",
       "      <td>False</td>\n",
       "      <td>(50.0, 60.0]</td>\n",
       "      <td>(4.605, 202.5]</td>\n",
       "    </tr>\n",
       "    <tr>\n",
       "      <th>1970</th>\n",
       "      <td>991</td>\n",
       "      <td>zebulon@gmail.com</td>\n",
       "      <td>Zebulon</td>\n",
       "      <td>Braysher</td>\n",
       "      <td>Male</td>\n",
       "      <td>1963-02-24</td>\n",
       "      <td>Mount Vernon</td>\n",
       "      <td>New York</td>\n",
       "      <td>0</td>\n",
       "      <td>58.0</td>\n",
       "      <td>640</td>\n",
       "      <td>2018-08-01</td>\n",
       "      <td>Sneakers</td>\n",
       "      <td>70</td>\n",
       "      <td>70.0</td>\n",
       "      <td>1</td>\n",
       "      <td>False</td>\n",
       "      <td>False</td>\n",
       "      <td>(50.0, 60.0]</td>\n",
       "      <td>(4.605, 202.5]</td>\n",
       "    </tr>\n",
       "    <tr>\n",
       "      <th>1971</th>\n",
       "      <td>991</td>\n",
       "      <td>zebulon@gmail.com</td>\n",
       "      <td>Zebulon</td>\n",
       "      <td>Braysher</td>\n",
       "      <td>Male</td>\n",
       "      <td>1963-02-24</td>\n",
       "      <td>Mount Vernon</td>\n",
       "      <td>New York</td>\n",
       "      <td>0</td>\n",
       "      <td>58.0</td>\n",
       "      <td>820</td>\n",
       "      <td>2018-06-27</td>\n",
       "      <td>Tent</td>\n",
       "      <td>400</td>\n",
       "      <td>400.0</td>\n",
       "      <td>1</td>\n",
       "      <td>False</td>\n",
       "      <td>False</td>\n",
       "      <td>(50.0, 60.0]</td>\n",
       "      <td>(202.5, 400.0]</td>\n",
       "    </tr>\n",
       "    <tr>\n",
       "      <th>1972</th>\n",
       "      <td>991</td>\n",
       "      <td>zebulon@gmail.com</td>\n",
       "      <td>Zebulon</td>\n",
       "      <td>Braysher</td>\n",
       "      <td>Male</td>\n",
       "      <td>1963-02-24</td>\n",
       "      <td>Mount Vernon</td>\n",
       "      <td>New York</td>\n",
       "      <td>0</td>\n",
       "      <td>58.0</td>\n",
       "      <td>1528</td>\n",
       "      <td>2018-05-31</td>\n",
       "      <td>Sneakers</td>\n",
       "      <td>70</td>\n",
       "      <td>70.0</td>\n",
       "      <td>1</td>\n",
       "      <td>False</td>\n",
       "      <td>False</td>\n",
       "      <td>(50.0, 60.0]</td>\n",
       "      <td>(4.605, 202.5]</td>\n",
       "    </tr>\n",
       "    <tr>\n",
       "      <th>1977</th>\n",
       "      <td>993</td>\n",
       "      <td>kaylee@gmail.com</td>\n",
       "      <td>Kaylee</td>\n",
       "      <td>Lydden</td>\n",
       "      <td>Female</td>\n",
       "      <td>1977-08-15</td>\n",
       "      <td>Charleston</td>\n",
       "      <td>West Virginia</td>\n",
       "      <td>0</td>\n",
       "      <td>43.0</td>\n",
       "      <td>353</td>\n",
       "      <td>2017-07-23</td>\n",
       "      <td>Rope</td>\n",
       "      <td>20</td>\n",
       "      <td>17.0</td>\n",
       "      <td>1</td>\n",
       "      <td>True</td>\n",
       "      <td>False</td>\n",
       "      <td>(40.0, 50.0]</td>\n",
       "      <td>(4.605, 202.5]</td>\n",
       "    </tr>\n",
       "  </tbody>\n",
       "</table>\n",
       "<p>321 rows × 20 columns</p>\n",
       "</div>"
      ],
      "text/plain": [
       "      user_id              email first_name last_name  gender   birthday  \\\n",
       "7           3    nefen@gmail.com      Nefen   Matthew    Male        NaT   \n",
       "8           3    nefen@gmail.com      Nefen   Matthew    Male        NaT   \n",
       "9           3    nefen@gmail.com      Nefen   Matthew    Male        NaT   \n",
       "10          3    nefen@gmail.com      Nefen   Matthew    Male        NaT   \n",
       "41         17    tracy@gmail.com      Tracy   Behling  Female 1973-01-18   \n",
       "...       ...                ...        ...       ...     ...        ...   \n",
       "1969      991  zebulon@gmail.com    Zebulon  Braysher    Male 1963-02-24   \n",
       "1970      991  zebulon@gmail.com    Zebulon  Braysher    Male 1963-02-24   \n",
       "1971      991  zebulon@gmail.com    Zebulon  Braysher    Male 1963-02-24   \n",
       "1972      991  zebulon@gmail.com    Zebulon  Braysher    Male 1963-02-24   \n",
       "1977      993   kaylee@gmail.com     Kaylee    Lydden  Female 1977-08-15   \n",
       "\n",
       "              city          state newsletter_sign_up_date   age  order_id  \\\n",
       "7         Brooklyn       New York     2018-07-16 00:00:00   NaN       433   \n",
       "8         Brooklyn       New York     2018-07-16 00:00:00   NaN       925   \n",
       "9         Brooklyn       New York     2018-07-16 00:00:00   NaN      1552   \n",
       "10        Brooklyn       New York     2018-07-16 00:00:00   NaN      1725   \n",
       "41       Baltimore       Maryland                       0  48.0       306   \n",
       "...            ...            ...                     ...   ...       ...   \n",
       "1969  Mount Vernon       New York                       0  58.0       251   \n",
       "1970  Mount Vernon       New York                       0  58.0       640   \n",
       "1971  Mount Vernon       New York                       0  58.0       820   \n",
       "1972  Mount Vernon       New York                       0  58.0      1528   \n",
       "1977    Charleston  West Virginia                       0  43.0       353   \n",
       "\n",
       "     purchase_date   product  listed_price  paid_price  count  discounted  \\\n",
       "7       2016-11-26      Tent           400       400.0      1       False   \n",
       "8       2017-01-06       Hat            20        15.4      1        True   \n",
       "9       2017-10-30    Jacket            80        80.0      1       False   \n",
       "10      2016-09-10       Hat            20        20.0      1       False   \n",
       "41      2017-08-03      Rope            20        20.0      1       False   \n",
       "...            ...       ...           ...         ...    ...         ...   \n",
       "1969    2017-05-18    Jacket            80        80.0      1       False   \n",
       "1970    2018-08-01  Sneakers            70        70.0      1       False   \n",
       "1971    2018-06-27      Tent           400       400.0      1       False   \n",
       "1972    2018-05-31  Sneakers            70        70.0      1       False   \n",
       "1977    2017-07-23      Rope            20        17.0      1        True   \n",
       "\n",
       "      after        agebin        pricebin  \n",
       "7     False           NaN  (202.5, 400.0]  \n",
       "8     False           NaN  (4.605, 202.5]  \n",
       "9     False           NaN  (4.605, 202.5]  \n",
       "10    False           NaN  (4.605, 202.5]  \n",
       "41    False  (40.0, 50.0]  (4.605, 202.5]  \n",
       "...     ...           ...             ...  \n",
       "1969  False  (50.0, 60.0]  (4.605, 202.5]  \n",
       "1970  False  (50.0, 60.0]  (4.605, 202.5]  \n",
       "1971  False  (50.0, 60.0]  (202.5, 400.0]  \n",
       "1972  False  (50.0, 60.0]  (4.605, 202.5]  \n",
       "1977  False  (40.0, 50.0]  (4.605, 202.5]  \n",
       "\n",
       "[321 rows x 20 columns]"
      ]
     },
     "execution_count": 25,
     "metadata": {},
     "output_type": "execute_result"
    }
   ],
   "source": [
    "northeast"
   ]
  },
  {
   "cell_type": "code",
   "execution_count": 26,
   "metadata": {},
   "outputs": [
    {
     "data": {
      "text/plain": [
       "<matplotlib.axes._subplots.AxesSubplot at 0x7f48e958b580>"
      ]
     },
     "execution_count": 26,
     "metadata": {},
     "output_type": "execute_result"
    },
    {
     "data": {
      "image/png": "[encoded data removed]",
      "text/plain": [
       "<Figure size 432x288 with 1 Axes>"
      ]
     },
     "metadata": {
      "needs_background": "light"
     },
     "output_type": "display_data"
    }
   ],
   "source": [
    "sns.countplot(x=\"product\",  data=northeast.sort_values('product'))"
   ]
  },
  {
   "cell_type": "code",
   "execution_count": 27,
   "metadata": {},
   "outputs": [
    {
     "data": {
      "text/plain": [
       "<matplotlib.axes._subplots.AxesSubplot at 0x7f48e950e0d0>"
      ]
     },
     "execution_count": 27,
     "metadata": {},
     "output_type": "execute_result"
    },
    {
     "data": {
      "image/png": "[encoded data removed]",
      "text/plain": [
       "<Figure size 432x288 with 1 Axes>"
      ]
     },
     "metadata": {
      "needs_background": "light"
     },
     "output_type": "display_data"
    }
   ],
   "source": [
    "sns.countplot(x=\"product\",  data=southeast.sort_values('product'))"
   ]
  },
  {
   "cell_type": "code",
   "execution_count": 28,
   "metadata": {},
   "outputs": [
    {
     "data": {
      "text/plain": [
       "<matplotlib.axes._subplots.AxesSubplot at 0x7f48e94f7be0>"
      ]
     },
     "execution_count": 28,
     "metadata": {},
     "output_type": "execute_result"
    },
    {
     "data": {
      "image/png": "[encoded data removed]",
      "text/plain": [
       "<Figure size 432x288 with 1 Axes>"
      ]
     },
     "metadata": {
      "needs_background": "light"
     },
     "output_type": "display_data"
    }
   ],
   "source": [
    "sns.countplot(x=\"product\", data=west.sort_values('product'))"
   ]
  },
  {
   "cell_type": "code",
   "execution_count": 29,
   "metadata": {},
   "outputs": [
    {
     "data": {
      "text/plain": [
       "<matplotlib.axes._subplots.AxesSubplot at 0x7f48e9470850>"
      ]
     },
     "execution_count": 29,
     "metadata": {},
     "output_type": "execute_result"
    },
    {
     "data": {
      "image/png": "[encoded data removed]",
      "text/plain": [
       "<Figure size 432x288 with 1 Axes>"
      ]
     },
     "metadata": {
      "needs_background": "light"
     },
     "output_type": "display_data"
    }
   ],
   "source": [
    "sns.countplot(x=\"product\", data=midwest.sort_values('product'))"
   ]
  },
  {
   "cell_type": "code",
   "execution_count": 30,
   "metadata": {},
   "outputs": [
    {
     "data": {
      "text/plain": [
       "<matplotlib.axes._subplots.AxesSubplot at 0x7f48e93cc310>"
      ]
     },
     "execution_count": 30,
     "metadata": {},
     "output_type": "execute_result"
    },
    {
     "data": {
      "image/png": "[encoded data removed]",
      "text/plain": [
       "<Figure size 432x288 with 1 Axes>"
      ]
     },
     "metadata": {
      "needs_background": "light"
     },
     "output_type": "display_data"
    }
   ],
   "source": [
    "sns.countplot(x=\"product\", data=southwest.sort_values('product'))"
   ]
  },
  {
   "cell_type": "code",
   "execution_count": 31,
   "metadata": {},
   "outputs": [
    {
     "data": {
      "text/plain": [
       "<matplotlib.axes._subplots.AxesSubplot at 0x7f48e93ad6d0>"
      ]
     },
     "execution_count": 31,
     "metadata": {},
     "output_type": "execute_result"
    },
    {
     "data": {
      "image/png": "[encoded data removed]",
      "text/plain": [
       "<Figure size 432x288 with 1 Axes>"
      ]
     },
     "metadata": {
      "needs_background": "light"
     },
     "output_type": "display_data"
    }
   ],
   "source": [
    "sns.countplot(x=\"product\", data=CA_HI.sort_values('product'))"
   ]
  },
  {
   "cell_type": "code",
   "execution_count": 32,
   "metadata": {},
   "outputs": [],
   "source": [
    "# In the northeast they are buying rope (climbers)\n",
    "# In the southeast they are buying everything but rope and hat ( wet weather hikers,campers)\n",
    "# In the west they are buying everything but hats, pants, sneakers (cold weather campers,climbers)\n",
    "# In the midwest they are buying everything but hats, pants (cold weather campers,hikers)\n",
    "# In the southwest they are buying lots of pants, shirts and hats (wow) and very few sneakers and tents (hot/dry weather active,climbers? don't need tents to camp?)\n",
    "# In HI, CA they are buying jackets, pants and sneakers (wet weather hikers)\n",
    "# They don't like the snacks in the west, westcoast or northeast"
   ]
  },
  {
   "cell_type": "markdown",
   "metadata": {},
   "source": [
    "# Demographic/Geographic Segmentation\n",
    "- Campers: Men and women 50-60. Purchase lots of tents, jackets. Probably live in the southeast,midwest or west regions.\n",
    "- Hikers: Men 30-50 and women 40-50. Purchase jackets,pants, sneakers.\n",
    "- Climbers: Men 30-40 and women 40-50. Purchase lots of rope, pants and shirts. Probably live in the northeast or west regions.\n",
    "- Fashion: Women 30-40 buy pants, shirts, jackets.\n",
    "- Southwest: Men and women in the southwest region buy pants and shirts."
   ]
  },
  {
   "cell_type": "code",
   "execution_count": 33,
   "metadata": {},
   "outputs": [],
   "source": [
    "news=pd.DataFrame(both[both['after']==1])\n",
    "nonews=pd.DataFrame(both[both['after']==0])"
   ]
  },
  {
   "cell_type": "code",
   "execution_count": 34,
   "metadata": {
    "scrolled": true
   },
   "outputs": [
    {
     "data": {
      "text/plain": [
       "Timestamp('2018-08-14 00:00:00')"
      ]
     },
     "execution_count": 34,
     "metadata": {},
     "output_type": "execute_result"
    }
   ],
   "source": [
    "max(news['purchase_date'])"
   ]
  },
  {
   "cell_type": "code",
   "execution_count": 35,
   "metadata": {},
   "outputs": [
    {
     "data": {
      "text/plain": [
       "Timestamp('2016-10-01 00:00:00')"
      ]
     },
     "execution_count": 35,
     "metadata": {},
     "output_type": "execute_result"
    }
   ],
   "source": [
    "min(news['purchase_date'])"
   ]
  },
  {
   "cell_type": "code",
   "execution_count": 36,
   "metadata": {},
   "outputs": [
    {
     "data": {
      "text/plain": [
       "Timestamp('2018-08-14 00:00:00')"
      ]
     },
     "execution_count": 36,
     "metadata": {},
     "output_type": "execute_result"
    }
   ],
   "source": [
    "max(nonews['purchase_date'])\n"
   ]
  },
  {
   "cell_type": "code",
   "execution_count": 37,
   "metadata": {},
   "outputs": [
    {
     "data": {
      "text/plain": [
       "Timestamp('2016-08-16 00:00:00')"
      ]
     },
     "execution_count": 37,
     "metadata": {},
     "output_type": "execute_result"
    }
   ],
   "source": [
    "min(nonews['purchase_date'])"
   ]
  },
  {
   "cell_type": "code",
   "execution_count": 38,
   "metadata": {},
   "outputs": [],
   "source": [
    "nonews['purchase_early']=nonews['purchase_date'].apply(lambda x: x<pd.Timestamp('2016-10-01'))"
   ]
  },
  {
   "cell_type": "code",
   "execution_count": 39,
   "metadata": {},
   "outputs": [],
   "source": [
    "nonews=pd.DataFrame(nonews[nonews['purchase_early']==0])"
   ]
  },
  {
   "cell_type": "code",
   "execution_count": 40,
   "metadata": {},
   "outputs": [
    {
     "data": {
      "text/plain": [
       "Timestamp('2016-10-01 00:00:00')"
      ]
     },
     "execution_count": 40,
     "metadata": {},
     "output_type": "execute_result"
    }
   ],
   "source": [
    "min(nonews['purchase_date'])"
   ]
  },
  {
   "cell_type": "code",
   "execution_count": 41,
   "metadata": {},
   "outputs": [
    {
     "data": {
      "text/html": [
       "<div>\n",
       "<style scoped>\n",
       "    .dataframe tbody tr th:only-of-type {\n",
       "        vertical-align: middle;\n",
       "    }\n",
       "\n",
       "    .dataframe tbody tr th {\n",
       "        vertical-align: top;\n",
       "    }\n",
       "\n",
       "    .dataframe thead th {\n",
       "        text-align: right;\n",
       "    }\n",
       "</style>\n",
       "<table border=\"1\" class=\"dataframe\">\n",
       "  <thead>\n",
       "    <tr style=\"text-align: right;\">\n",
       "      <th></th>\n",
       "      <th>user_id</th>\n",
       "      <th>email</th>\n",
       "      <th>first_name</th>\n",
       "      <th>last_name</th>\n",
       "      <th>gender</th>\n",
       "      <th>birthday</th>\n",
       "      <th>city</th>\n",
       "      <th>state</th>\n",
       "      <th>newsletter_sign_up_date</th>\n",
       "      <th>age</th>\n",
       "      <th>...</th>\n",
       "      <th>purchase_date</th>\n",
       "      <th>product</th>\n",
       "      <th>listed_price</th>\n",
       "      <th>paid_price</th>\n",
       "      <th>count</th>\n",
       "      <th>discounted</th>\n",
       "      <th>after</th>\n",
       "      <th>agebin</th>\n",
       "      <th>pricebin</th>\n",
       "      <th>purchase_early</th>\n",
       "    </tr>\n",
       "  </thead>\n",
       "  <tbody>\n",
       "    <tr>\n",
       "      <th>0</th>\n",
       "      <td>1</td>\n",
       "      <td>byrle@gmail.com</td>\n",
       "      <td>Byrle</td>\n",
       "      <td>Grinishin</td>\n",
       "      <td>Male</td>\n",
       "      <td>1966-08-13</td>\n",
       "      <td>Indianapolis</td>\n",
       "      <td>Indiana</td>\n",
       "      <td>0</td>\n",
       "      <td>54.0</td>\n",
       "      <td>...</td>\n",
       "      <td>2018-01-03</td>\n",
       "      <td>Pants</td>\n",
       "      <td>70</td>\n",
       "      <td>51.8</td>\n",
       "      <td>1</td>\n",
       "      <td>True</td>\n",
       "      <td>False</td>\n",
       "      <td>(50.0, 60.0]</td>\n",
       "      <td>(4.605, 202.5]</td>\n",
       "      <td>False</td>\n",
       "    </tr>\n",
       "    <tr>\n",
       "      <th>1</th>\n",
       "      <td>1</td>\n",
       "      <td>byrle@gmail.com</td>\n",
       "      <td>Byrle</td>\n",
       "      <td>Grinishin</td>\n",
       "      <td>Male</td>\n",
       "      <td>1966-08-13</td>\n",
       "      <td>Indianapolis</td>\n",
       "      <td>Indiana</td>\n",
       "      <td>0</td>\n",
       "      <td>54.0</td>\n",
       "      <td>...</td>\n",
       "      <td>2018-07-18</td>\n",
       "      <td>Hat</td>\n",
       "      <td>20</td>\n",
       "      <td>15.6</td>\n",
       "      <td>1</td>\n",
       "      <td>True</td>\n",
       "      <td>False</td>\n",
       "      <td>(50.0, 60.0]</td>\n",
       "      <td>(4.605, 202.5]</td>\n",
       "      <td>False</td>\n",
       "    </tr>\n",
       "    <tr>\n",
       "      <th>2</th>\n",
       "      <td>1</td>\n",
       "      <td>byrle@gmail.com</td>\n",
       "      <td>Byrle</td>\n",
       "      <td>Grinishin</td>\n",
       "      <td>Male</td>\n",
       "      <td>1966-08-13</td>\n",
       "      <td>Indianapolis</td>\n",
       "      <td>Indiana</td>\n",
       "      <td>0</td>\n",
       "      <td>54.0</td>\n",
       "      <td>...</td>\n",
       "      <td>2018-03-18</td>\n",
       "      <td>Hat</td>\n",
       "      <td>20</td>\n",
       "      <td>20.0</td>\n",
       "      <td>1</td>\n",
       "      <td>False</td>\n",
       "      <td>False</td>\n",
       "      <td>(50.0, 60.0]</td>\n",
       "      <td>(4.605, 202.5]</td>\n",
       "      <td>False</td>\n",
       "    </tr>\n",
       "    <tr>\n",
       "      <th>3</th>\n",
       "      <td>2</td>\n",
       "      <td>lucius@gmail.com</td>\n",
       "      <td>Lucius</td>\n",
       "      <td>Fairholme</td>\n",
       "      <td>Male</td>\n",
       "      <td>1965-06-04</td>\n",
       "      <td>Dallas</td>\n",
       "      <td>Texas</td>\n",
       "      <td>2017-04-24 00:00:00</td>\n",
       "      <td>56.0</td>\n",
       "      <td>...</td>\n",
       "      <td>2016-11-06</td>\n",
       "      <td>Tent</td>\n",
       "      <td>400</td>\n",
       "      <td>400.0</td>\n",
       "      <td>1</td>\n",
       "      <td>False</td>\n",
       "      <td>False</td>\n",
       "      <td>(50.0, 60.0]</td>\n",
       "      <td>(202.5, 400.0]</td>\n",
       "      <td>False</td>\n",
       "    </tr>\n",
       "    <tr>\n",
       "      <th>7</th>\n",
       "      <td>3</td>\n",
       "      <td>nefen@gmail.com</td>\n",
       "      <td>Nefen</td>\n",
       "      <td>Matthew</td>\n",
       "      <td>Male</td>\n",
       "      <td>NaT</td>\n",
       "      <td>Brooklyn</td>\n",
       "      <td>New York</td>\n",
       "      <td>2018-07-16 00:00:00</td>\n",
       "      <td>NaN</td>\n",
       "      <td>...</td>\n",
       "      <td>2016-11-26</td>\n",
       "      <td>Tent</td>\n",
       "      <td>400</td>\n",
       "      <td>400.0</td>\n",
       "      <td>1</td>\n",
       "      <td>False</td>\n",
       "      <td>False</td>\n",
       "      <td>NaN</td>\n",
       "      <td>(202.5, 400.0]</td>\n",
       "      <td>False</td>\n",
       "    </tr>\n",
       "  </tbody>\n",
       "</table>\n",
       "<p>5 rows × 21 columns</p>\n",
       "</div>"
      ],
      "text/plain": [
       "   user_id             email first_name  last_name gender   birthday  \\\n",
       "0        1   byrle@gmail.com      Byrle  Grinishin   Male 1966-08-13   \n",
       "1        1   byrle@gmail.com      Byrle  Grinishin   Male 1966-08-13   \n",
       "2        1   byrle@gmail.com      Byrle  Grinishin   Male 1966-08-13   \n",
       "3        2  lucius@gmail.com     Lucius  Fairholme   Male 1965-06-04   \n",
       "7        3   nefen@gmail.com      Nefen    Matthew   Male        NaT   \n",
       "\n",
       "           city     state newsletter_sign_up_date   age  ...  purchase_date  \\\n",
       "0  Indianapolis   Indiana                       0  54.0  ...     2018-01-03   \n",
       "1  Indianapolis   Indiana                       0  54.0  ...     2018-07-18   \n",
       "2  Indianapolis   Indiana                       0  54.0  ...     2018-03-18   \n",
       "3        Dallas     Texas     2017-04-24 00:00:00  56.0  ...     2016-11-06   \n",
       "7      Brooklyn  New York     2018-07-16 00:00:00   NaN  ...     2016-11-26   \n",
       "\n",
       "  product listed_price  paid_price  count  discounted  after        agebin  \\\n",
       "0   Pants           70        51.8      1        True  False  (50.0, 60.0]   \n",
       "1     Hat           20        15.6      1        True  False  (50.0, 60.0]   \n",
       "2     Hat           20        20.0      1       False  False  (50.0, 60.0]   \n",
       "3    Tent          400       400.0      1       False  False  (50.0, 60.0]   \n",
       "7    Tent          400       400.0      1       False  False           NaN   \n",
       "\n",
       "         pricebin purchase_early  \n",
       "0  (4.605, 202.5]          False  \n",
       "1  (4.605, 202.5]          False  \n",
       "2  (4.605, 202.5]          False  \n",
       "3  (202.5, 400.0]          False  \n",
       "7  (202.5, 400.0]          False  \n",
       "\n",
       "[5 rows x 21 columns]"
      ]
     },
     "execution_count": 41,
     "metadata": {},
     "output_type": "execute_result"
    }
   ],
   "source": [
    "nonews.head()"
   ]
  },
  {
   "cell_type": "code",
   "execution_count": 42,
   "metadata": {},
   "outputs": [
    {
     "data": {
      "text/html": [
       "<div>\n",
       "<style scoped>\n",
       "    .dataframe tbody tr th:only-of-type {\n",
       "        vertical-align: middle;\n",
       "    }\n",
       "\n",
       "    .dataframe tbody tr th {\n",
       "        vertical-align: top;\n",
       "    }\n",
       "\n",
       "    .dataframe thead th {\n",
       "        text-align: right;\n",
       "    }\n",
       "</style>\n",
       "<table border=\"1\" class=\"dataframe\">\n",
       "  <thead>\n",
       "    <tr style=\"text-align: right;\">\n",
       "      <th></th>\n",
       "      <th>user_id</th>\n",
       "      <th>email</th>\n",
       "      <th>first_name</th>\n",
       "      <th>last_name</th>\n",
       "      <th>gender</th>\n",
       "      <th>birthday</th>\n",
       "      <th>city</th>\n",
       "      <th>state</th>\n",
       "      <th>newsletter_sign_up_date</th>\n",
       "      <th>age</th>\n",
       "      <th>order_id</th>\n",
       "      <th>purchase_date</th>\n",
       "      <th>product</th>\n",
       "      <th>listed_price</th>\n",
       "      <th>paid_price</th>\n",
       "      <th>count</th>\n",
       "      <th>discounted</th>\n",
       "      <th>after</th>\n",
       "      <th>agebin</th>\n",
       "      <th>pricebin</th>\n",
       "    </tr>\n",
       "  </thead>\n",
       "  <tbody>\n",
       "    <tr>\n",
       "      <th>4</th>\n",
       "      <td>2</td>\n",
       "      <td>lucius@gmail.com</td>\n",
       "      <td>Lucius</td>\n",
       "      <td>Fairholme</td>\n",
       "      <td>Male</td>\n",
       "      <td>1965-06-04</td>\n",
       "      <td>Dallas</td>\n",
       "      <td>Texas</td>\n",
       "      <td>2017-04-24 00:00:00</td>\n",
       "      <td>56.0</td>\n",
       "      <td>700</td>\n",
       "      <td>2018-03-09</td>\n",
       "      <td>Sneakers</td>\n",
       "      <td>70</td>\n",
       "      <td>54.60</td>\n",
       "      <td>1</td>\n",
       "      <td>True</td>\n",
       "      <td>True</td>\n",
       "      <td>(50.0, 60.0]</td>\n",
       "      <td>(4.605, 202.5]</td>\n",
       "    </tr>\n",
       "    <tr>\n",
       "      <th>5</th>\n",
       "      <td>2</td>\n",
       "      <td>lucius@gmail.com</td>\n",
       "      <td>Lucius</td>\n",
       "      <td>Fairholme</td>\n",
       "      <td>Male</td>\n",
       "      <td>1965-06-04</td>\n",
       "      <td>Dallas</td>\n",
       "      <td>Texas</td>\n",
       "      <td>2017-04-24 00:00:00</td>\n",
       "      <td>56.0</td>\n",
       "      <td>1343</td>\n",
       "      <td>2018-02-02</td>\n",
       "      <td>Snacks</td>\n",
       "      <td>5</td>\n",
       "      <td>4.15</td>\n",
       "      <td>1</td>\n",
       "      <td>True</td>\n",
       "      <td>True</td>\n",
       "      <td>(50.0, 60.0]</td>\n",
       "      <td>(4.605, 202.5]</td>\n",
       "    </tr>\n",
       "    <tr>\n",
       "      <th>6</th>\n",
       "      <td>2</td>\n",
       "      <td>lucius@gmail.com</td>\n",
       "      <td>Lucius</td>\n",
       "      <td>Fairholme</td>\n",
       "      <td>Male</td>\n",
       "      <td>1965-06-04</td>\n",
       "      <td>Dallas</td>\n",
       "      <td>Texas</td>\n",
       "      <td>2017-04-24 00:00:00</td>\n",
       "      <td>56.0</td>\n",
       "      <td>1508</td>\n",
       "      <td>2017-10-08</td>\n",
       "      <td>Pants</td>\n",
       "      <td>70</td>\n",
       "      <td>53.20</td>\n",
       "      <td>1</td>\n",
       "      <td>True</td>\n",
       "      <td>True</td>\n",
       "      <td>(50.0, 60.0]</td>\n",
       "      <td>(4.605, 202.5]</td>\n",
       "    </tr>\n",
       "    <tr>\n",
       "      <th>11</th>\n",
       "      <td>4</td>\n",
       "      <td>phillie@gmail.com</td>\n",
       "      <td>Phillie</td>\n",
       "      <td>Lanigan</td>\n",
       "      <td>Female</td>\n",
       "      <td>1968-04-17</td>\n",
       "      <td>Washington</td>\n",
       "      <td>District of Columbia</td>\n",
       "      <td>2017-03-28 00:00:00</td>\n",
       "      <td>53.0</td>\n",
       "      <td>1943</td>\n",
       "      <td>2017-05-22</td>\n",
       "      <td>Snacks</td>\n",
       "      <td>5</td>\n",
       "      <td>5.00</td>\n",
       "      <td>1</td>\n",
       "      <td>False</td>\n",
       "      <td>True</td>\n",
       "      <td>(50.0, 60.0]</td>\n",
       "      <td>(4.605, 202.5]</td>\n",
       "    </tr>\n",
       "    <tr>\n",
       "      <th>12</th>\n",
       "      <td>5</td>\n",
       "      <td>alfredo@gmail.com</td>\n",
       "      <td>Alfredo</td>\n",
       "      <td>Filipiak</td>\n",
       "      <td>Male</td>\n",
       "      <td>1975-12-20</td>\n",
       "      <td>Sarasota</td>\n",
       "      <td>Florida</td>\n",
       "      <td>2017-04-11 00:00:00</td>\n",
       "      <td>45.0</td>\n",
       "      <td>477</td>\n",
       "      <td>2018-01-22</td>\n",
       "      <td>Pants</td>\n",
       "      <td>70</td>\n",
       "      <td>59.50</td>\n",
       "      <td>1</td>\n",
       "      <td>True</td>\n",
       "      <td>True</td>\n",
       "      <td>(40.0, 50.0]</td>\n",
       "      <td>(4.605, 202.5]</td>\n",
       "    </tr>\n",
       "  </tbody>\n",
       "</table>\n",
       "</div>"
      ],
      "text/plain": [
       "    user_id              email first_name  last_name  gender   birthday  \\\n",
       "4         2   lucius@gmail.com     Lucius  Fairholme    Male 1965-06-04   \n",
       "5         2   lucius@gmail.com     Lucius  Fairholme    Male 1965-06-04   \n",
       "6         2   lucius@gmail.com     Lucius  Fairholme    Male 1965-06-04   \n",
       "11        4  phillie@gmail.com    Phillie    Lanigan  Female 1968-04-17   \n",
       "12        5  alfredo@gmail.com    Alfredo   Filipiak    Male 1975-12-20   \n",
       "\n",
       "          city                 state newsletter_sign_up_date   age  order_id  \\\n",
       "4       Dallas                 Texas     2017-04-24 00:00:00  56.0       700   \n",
       "5       Dallas                 Texas     2017-04-24 00:00:00  56.0      1343   \n",
       "6       Dallas                 Texas     2017-04-24 00:00:00  56.0      1508   \n",
       "11  Washington  District of Columbia     2017-03-28 00:00:00  53.0      1943   \n",
       "12    Sarasota               Florida     2017-04-11 00:00:00  45.0       477   \n",
       "\n",
       "   purchase_date   product  listed_price  paid_price  count  discounted  \\\n",
       "4     2018-03-09  Sneakers            70       54.60      1        True   \n",
       "5     2018-02-02    Snacks             5        4.15      1        True   \n",
       "6     2017-10-08     Pants            70       53.20      1        True   \n",
       "11    2017-05-22    Snacks             5        5.00      1       False   \n",
       "12    2018-01-22     Pants            70       59.50      1        True   \n",
       "\n",
       "    after        agebin        pricebin  \n",
       "4    True  (50.0, 60.0]  (4.605, 202.5]  \n",
       "5    True  (50.0, 60.0]  (4.605, 202.5]  \n",
       "6    True  (50.0, 60.0]  (4.605, 202.5]  \n",
       "11   True  (50.0, 60.0]  (4.605, 202.5]  \n",
       "12   True  (40.0, 50.0]  (4.605, 202.5]  "
      ]
     },
     "execution_count": 42,
     "metadata": {},
     "output_type": "execute_result"
    }
   ],
   "source": [
    "news.head()"
   ]
  },
  {
   "cell_type": "code",
   "execution_count": 62,
   "metadata": {},
   "outputs": [],
   "source": [
    "#Looking at total paid purchases\n",
    "#User is a different user if they're a year older, or changed gender\n",
    "totals=pd.DataFrame(news.groupby(['user_id','gender','birthday','age'])[['paid_price','count','discounted']].sum().reset_index())\n",
    "totals=totals.rename(columns={'paid_price':'total_spend'})\n",
    "totals['ave_spend']=totals['total_spend']/totals['count']\n",
    "totalsno=pd.DataFrame(nonews.groupby(['user_id','gender','birthday','age'])[['paid_price','count','discounted']].sum().reset_index())\n",
    "totalsno=totalsno.rename(columns={'paid_price':'total_spend'})\n",
    "totalsno['ave_spend']=totalsno['total_spend']/totals['count']"
   ]
  },
  {
   "cell_type": "code",
   "execution_count": 63,
   "metadata": {},
   "outputs": [
    {
     "data": {
      "text/plain": [
       "1.9324546952224053"
      ]
     },
     "execution_count": 63,
     "metadata": {},
     "output_type": "execute_result"
    }
   ],
   "source": [
    "totalsno['count'].sum()/len(totalsno)"
   ]
  },
  {
   "cell_type": "code",
   "execution_count": 64,
   "metadata": {},
   "outputs": [
    {
     "data": {
      "text/plain": [
       "1.7062314540059347"
      ]
     },
     "execution_count": 64,
     "metadata": {},
     "output_type": "execute_result"
    }
   ],
   "source": [
    "totals['count'].sum()/len(totals)"
   ]
  },
  {
   "cell_type": "code",
   "execution_count": 65,
   "metadata": {},
   "outputs": [
    {
     "data": {
      "text/plain": [
       "157.5347611202636"
      ]
     },
     "execution_count": 65,
     "metadata": {},
     "output_type": "execute_result"
    }
   ],
   "source": [
    "totalsno['total_spend'].sum()/len(totalsno)"
   ]
  },
  {
   "cell_type": "code",
   "execution_count": 66,
   "metadata": {},
   "outputs": [
    {
     "data": {
      "text/plain": [
       "137.0805637982196"
      ]
     },
     "execution_count": 66,
     "metadata": {},
     "output_type": "execute_result"
    }
   ],
   "source": [
    "totals['total_spend'].sum()/len(totals)"
   ]
  },
  {
   "cell_type": "code",
   "execution_count": 67,
   "metadata": {},
   "outputs": [
    {
     "data": {
      "text/plain": [
       "0.9308072487644151"
      ]
     },
     "execution_count": 67,
     "metadata": {},
     "output_type": "execute_result"
    }
   ],
   "source": [
    "totalsno['discounted'].sum()/len(totalsno)"
   ]
  },
  {
   "cell_type": "code",
   "execution_count": 68,
   "metadata": {},
   "outputs": [
    {
     "data": {
      "text/plain": [
       "0.798219584569733"
      ]
     },
     "execution_count": 68,
     "metadata": {},
     "output_type": "execute_result"
    }
   ],
   "source": [
    "totals['discounted'].sum()/len(totals)"
   ]
  },
  {
   "cell_type": "markdown",
   "metadata": {},
   "source": [
    "The newsletter seems to be encouraging users to buy more discounted items but this is not changing the number of purchased items overall or the total money spent. Let's dig in some more."
   ]
  },
  {
   "cell_type": "code",
   "execution_count": 69,
   "metadata": {},
   "outputs": [],
   "source": [
    "totfem=pd.DataFrame(totals[totals['gender']=='Female'])\n",
    "totmas=pd.DataFrame(totals[totals['gender']=='Male'])"
   ]
  },
  {
   "cell_type": "code",
   "execution_count": 70,
   "metadata": {},
   "outputs": [],
   "source": [
    "totfemno=pd.DataFrame(totalsno[totalsno['gender']=='Female'])\n",
    "totmasno=pd.DataFrame(totalsno[totalsno['gender']=='Male'])"
   ]
  },
  {
   "cell_type": "code",
   "execution_count": 71,
   "metadata": {},
   "outputs": [
    {
     "data": {
      "text/plain": [
       "0.9590443686006825"
      ]
     },
     "execution_count": 71,
     "metadata": {},
     "output_type": "execute_result"
    }
   ],
   "source": [
    "totfemno['discounted'].sum()/len(totfemno)"
   ]
  },
  {
   "cell_type": "code",
   "execution_count": 72,
   "metadata": {},
   "outputs": [
    {
     "data": {
      "text/plain": [
       "0.696969696969697"
      ]
     },
     "execution_count": 72,
     "metadata": {},
     "output_type": "execute_result"
    }
   ],
   "source": [
    "totfem['discounted'].sum()/len(totfem)"
   ]
  },
  {
   "cell_type": "code",
   "execution_count": 73,
   "metadata": {},
   "outputs": [
    {
     "data": {
      "text/plain": [
       "0.9044585987261147"
      ]
     },
     "execution_count": 73,
     "metadata": {},
     "output_type": "execute_result"
    }
   ],
   "source": [
    "totmasno['discounted'].sum()/len(totmasno)"
   ]
  },
  {
   "cell_type": "code",
   "execution_count": 74,
   "metadata": {},
   "outputs": [
    {
     "data": {
      "text/plain": [
       "0.8953488372093024"
      ]
     },
     "execution_count": 74,
     "metadata": {},
     "output_type": "execute_result"
    }
   ],
   "source": [
    "totmas['discounted'].sum()/len(totmas)"
   ]
  },
  {
   "cell_type": "markdown",
   "metadata": {},
   "source": [
    "It seems like female users were more likely than male users to purchase discounted items after receiving a newsletter. Let's see if they purchased more items overall or just purchased more items on discount."
   ]
  },
  {
   "cell_type": "code",
   "execution_count": 75,
   "metadata": {},
   "outputs": [
    {
     "data": {
      "text/plain": [
       "1.9624573378839592"
      ]
     },
     "execution_count": 75,
     "metadata": {},
     "output_type": "execute_result"
    }
   ],
   "source": [
    "totfemno['count'].sum()/len(totfemno)"
   ]
  },
  {
   "cell_type": "code",
   "execution_count": 76,
   "metadata": {},
   "outputs": [
    {
     "data": {
      "text/plain": [
       "1.6181818181818182"
      ]
     },
     "execution_count": 76,
     "metadata": {},
     "output_type": "execute_result"
    }
   ],
   "source": [
    "totfem['count'].sum()/len(totfem)"
   ]
  },
  {
   "cell_type": "markdown",
   "metadata": {},
   "source": [
    " Indeed if we dig into the numbers we see that female users who receive the newsletter are purchasing more items and those items are usually discounted."
   ]
  },
  {
   "cell_type": "code",
   "execution_count": 77,
   "metadata": {},
   "outputs": [
    {
     "data": {
      "text/plain": [
       "159.0977815699659"
      ]
     },
     "execution_count": 77,
     "metadata": {},
     "output_type": "execute_result"
    }
   ],
   "source": [
    "totfemno['total_spend'].sum()/len(totfemno)"
   ]
  },
  {
   "cell_type": "code",
   "execution_count": 78,
   "metadata": {},
   "outputs": [
    {
     "data": {
      "text/plain": [
       "135.0909090909091"
      ]
     },
     "execution_count": 78,
     "metadata": {},
     "output_type": "execute_result"
    }
   ],
   "source": [
    "totfem['total_spend'].sum()/len(totfem)"
   ]
  },
  {
   "cell_type": "markdown",
   "metadata": {},
   "source": [
    "# Behavior segmentation\n",
    "FEMALE USERS who receive the newsletter also spend more money overall. It seems like the newsletter may be  increasing revenue by encouraging female users to buy discounted items. I could use machine learning for this problem but that is not part of the assignment."
   ]
  },
  {
   "cell_type": "markdown",
   "metadata": {},
   "source": [
    "# SQL QUERY"
   ]
  },
  {
   "cell_type": "code",
   "execution_count": 60,
   "metadata": {},
   "outputs": [],
   "source": [
    "# Make age column: Today's date minus birthday in days/365 or years.\n",
    "# Table has demographic segments, regions"
   ]
  },
  {
   "cell_type": "code",
   "execution_count": 61,
   "metadata": {},
   "outputs": [
    {
     "ename": "IndentationError",
     "evalue": "unexpected indent (<ipython-input-61-fd12a2a50c17>, line 2)",
     "output_type": "error",
     "traceback": [
      "\u001b[0;36m  File \u001b[0;32m\"<ipython-input-61-fd12a2a50c17>\"\u001b[0;36m, line \u001b[0;32m2\u001b[0m\n\u001b[0;31m    TIMESTAMPDIFF(YEAR, birthday, CURDATE()) AS age,\u001b[0m\n\u001b[0m    ^\u001b[0m\n\u001b[0;31mIndentationError\u001b[0m\u001b[0;31m:\u001b[0m unexpected indent\n"
     ]
    }
   ],
   "source": [
    "SELECT \n",
    "    TIMESTAMPDIFF(YEAR, birthday, CURDATE()) AS age,\n",
    "    gender,\n",
    "    state,\n",
    "    CASE\n",
    "        WHEN TIMESTAMPDIFF(YEAR, birthday, CURDATE()) >= 30 AND TIMESTAMPDIFF(YEAR, birthday, CURDATE()) <= 40 AND gender = 'Male' THEN 'Hiker-Climber'\n",
    "        WHEN TIMESTAMPDIFF(YEAR, birthday, CURDATE()) >= 30 AND TIMESTAMPDIFF(YEAR, birthday, CURDATE()) <= 40 AND gender = 'Female' THEN 'Fashion'\n",
    "        WHEN TIMESTAMPDIFF(YEAR, birthday, CURDATE()) > 40 AND TIMESTAMPDIFF(YEAR, birthday, CURDATE()) <= 50 AND gender = 'Male' THEN 'Hiker'\n",
    "        WHEN TIMESTAMPDIFF(YEAR, birthday, CURDATE()) > 40 AND TIMESTAMPDIFF(YEAR, birthday, CURDATE()) <= 50 AND gender = 'Female' THEN 'Hiker-Climber'\n",
    "        WHEN TIMESTAMPDIFF(YEAR, birthday, CURDATE()) > 50 AND TIMESTAMPDIFF(YEAR, birthday, CURDATE()) <= 60 THEN 'Camper'\n",
    "        ELSE 'ALL'\n",
    "    END AS user_segment,\n",
    "    CASE\n",
    "        WHEN state in ('New York','New Jersey','Maine','Massachusetts','Vermont','Connecticut','Pennsylvania','Delaware','Rhode Island','New Hampshire','Maryland','West Virginia','Virginia') THEN 'Northeast'\n",
    "        WHEN state in ('Georgia','Florida','North Carolina','South Carolina','Alabama','Mississippi','Arkansas','Louisiana','Kentucky','Tennessee') THEN 'Southeast'\n",
    "        WHEN state in ('Texas','Oklahoma','Arizona','New Mexico') THEN 'Southwest'\n",
    "        WHEN state in ('Oregon','Washington','Idaho','Montana','Wyoming','Nevada','Utah','Colorado','Alaska','North Dakota','South Dakota') THEN 'West'\n",
    "        WHEN state in ('Ohio','Illinois','Indiana','Iowa','Michigan','Wisconsin','Minnesota','Missouri','Nebraska','Kansas') THEN 'Midwest'\n",
    "        WHEN state in ('California','Hawaii') THEN 'CA-HI'\n",
    "    END AS region\n",
    "FROM User;"
   ]
  }
 ],
 "metadata": {
  "kernelspec": {
   "display_name": "Python 3",
   "language": "python",
   "name": "python3"
  },
  "language_info": {
   "codemirror_mode": {
    "name": "ipython",
    "version": 3
   },
   "file_extension": ".py",
   "mimetype": "text/x-python",
   "name": "python",
   "nbconvert_exporter": "python",
   "pygments_lexer": "ipython3",
   "version": "3.8.5"
  }
 },
 "nbformat": 4,
 "nbformat_minor": 4
}
